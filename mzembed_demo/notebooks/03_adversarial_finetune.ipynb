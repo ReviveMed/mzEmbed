{
 "cells": [
  {
   "cell_type": "markdown",
   "id": "40498184",
   "metadata": {},
   "source": [
    "# 03 — Adversarial Fine-tuning (demo)\n",
    "This notebook runs **adversarial** fine-tuning on the tiny synthetic dataset.\n",
    "\n",
    "**We call the training scripts by file path** (no `python -m`) to avoid import issues.\n",
    "\n",
    "> ⚠️ Demo only — tiny epochs/trials for speed; results are not meaningful."
   ]
  },
  {
   "cell_type": "code",
   "execution_count": null,
   "id": "6656b1c4",
   "metadata": {},
   "outputs": [],
   "source": [
    "# Optional: install the package into this kernel (usually not required if you use file paths)\n",
    "# %pip install -e ../../mz_embed"
   ]
  },
  {
   "cell_type": "code",
   "execution_count": null,
   "id": "d6f70240",
   "metadata": {},
   "outputs": [],
   "source": [
    "import os, shutil, pandas as pd, numpy as np\n",
    "DATA = \"../data/synthetic_small\"\n",
    "\n",
    "# Ensure a nuisance column for adversarial learning\n",
    "for split in (\"Train\",\"Val\",\"Test\",\"Discovery_Train\",\"Discovery_Val\"):\n",
    "    ycand = [f\"y_Finetune_{split}.csv\", f\"y_Pretrain_{split}.csv\"]\n",
    "    for yname in ycand:\n",
    "        ypath = os.path.join(DATA, yname)\n",
    "        if os.path.exists(ypath):\n",
    "            df = pd.read_csv(ypath, index_col=0)\n",
    "            if \"Treatment\" not in df.columns:\n",
    "                rng = np.random.default_rng(0)\n",
    "                df[\"Treatment\"] = rng.choice([\"A\",\"B\"], size=len(df))\n",
    "                df.to_csv(ypath)\n",
    "            break\n",
    "print(\"Checked/added Treatment column where applicable.\")"
   ]
  },
  {
   "cell_type": "code",
   "execution_count": null,
   "id": "c7c8ab99",
   "metadata": {},
   "outputs": [],
   "source": [
    "%%bash\n",
    "set -e\n",
    "python ../../mz_embed/finetune/retrain_adverserial_cox_finetune_VAE_main.py \\\n",
    "  --input_data_location \"../data/synthetic_small\" \\\n",
    "  --finetune_save_dir \"../../out_adv_finetune_demo\" \\\n",
    "  --task \"DEMO OS\" \\\n",
    "  --task_event \"OS_event\" \\\n",
    "  --adv_task \"Treatment\" \\\n",
    "  --lambda_adv 0.1 \\\n",
    "  --num_epochs 3 --batch_size 32 --patience 0"
   ]
  },
  {
   "cell_type": "code",
   "execution_count": null,
   "id": "27ec9bed",
   "metadata": {},
   "outputs": [],
   "source": [
    "import os\n",
    "out_dir = \"../../out_adv_finetune_demo\"\n",
    "print(\"Artifacts in\", out_dir, \":\", os.listdir(out_dir) if os.path.exists(out_dir) else \"(not found)\")"
   ]
  }
 ],
 "metadata": {},
 "nbformat": 4,
 "nbformat_minor": 5
}
