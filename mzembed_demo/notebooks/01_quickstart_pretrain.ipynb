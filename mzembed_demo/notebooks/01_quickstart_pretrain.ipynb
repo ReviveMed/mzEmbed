{
 "cells": [
  {
   "cell_type": "markdown",
   "id": "e0ddff89",
   "metadata": {},
   "source": [
    "# 01 — Quickstart: Pretrain VAE (tiny, CPU-friendly)\n",
    "This notebook demonstrates a minimal pretraining run on the synthetic dataset.\n",
    "\n",
    "> ⚠️ Smoke test only — tiny trials/epochs to validate pipeline & IO."
   ]
  },
  {
   "cell_type": "code",
   "execution_count": 1,
   "id": "5b0073b3",
   "metadata": {},
   "outputs": [],
   "source": [
    "# If needed:\n",
    "# !pip install -r ../../requirements.txt\n",
    "# !pip install -e ../../mz_embed"
   ]
  },
  {
   "cell_type": "code",
   "execution_count": 1,
   "id": "c9a8b4e3",
   "metadata": {},
   "outputs": [],
   "source": [
    "DATA = \"../data/synthetic_small\"\n",
    "OUT  = \"../../out_pretrain_demo\"\n",
    "LATENT=32; LAYERS=2; TRIALS=2; EPOCHS=5"
   ]
  },
  {
   "cell_type": "code",
   "execution_count": null,
   "id": "e9df5988",
   "metadata": {},
   "outputs": [],
   "source": [
    "!python ../../mz_embed/pretrain/run_pretrain_VAE_main.py \\\n",
    "  --data_location \"$DATA\" \\\n",
    "  --latent_size $LATENT --n_layers $LAYERS --trials $TRIALS --max_epochs $EPOCHS \\\n",
    "  --output_dir \"$OUT\""
   ]
  },
  {
   "cell_type": "code",
   "execution_count": null,
   "id": "25dd05d7",
   "metadata": {},
   "outputs": [],
   "source": [
    "import os, json\n",
    "print(os.listdir(OUT))\n",
    "conf_path = os.path.join(OUT, 'config.json')\n",
    "print('Config exists:', os.path.exists(conf_path))\n",
    "if os.path.exists(conf_path):\n",
    "    import json; print(json.dumps(json.load(open(conf_path)), indent=2)[:500])"
   ]
  }
 ],
 "metadata": {
  "kernelspec": {
   "display_name": "env_2024",
   "language": "python",
   "name": "python3"
  },
  "language_info": {
   "codemirror_mode": {
    "name": "ipython",
    "version": 3
   },
   "file_extension": ".py",
   "mimetype": "text/x-python",
   "name": "python",
   "nbconvert_exporter": "python",
   "pygments_lexer": "ipython3",
   "version": "3.12.2"
  }
 },
 "nbformat": 4,
 "nbformat_minor": 5
}
