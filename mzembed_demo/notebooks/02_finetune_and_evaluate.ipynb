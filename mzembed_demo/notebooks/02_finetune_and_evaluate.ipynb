{
 "cells": [
  {
   "cell_type": "markdown",
   "id": "bb6bb51b",
   "metadata": {},
   "source": [
    "# 02 — Fine-tune & Evaluate (binary IMDC-like)\n",
    "Fine-tunes a VAE on the synthetic cohort and evaluates a lightweight task head."
   ]
  },
  {
   "cell_type": "code",
   "execution_count": null,
   "id": "4f84a17e",
   "metadata": {},
   "outputs": [],
   "source": [
    "DATA = \"../data/synthetic_small\"\n",
    "PT   = \"../../out_pretrain_demo\"\n",
    "OUT  = \"../../out_finetune_demo\"\n",
    "LATENT=32; LAYERS=2; TRIALS=2; EPOCHS=5"
   ]
  },
  {
   "cell_type": "code",
   "execution_count": null,
   "id": "1f17d019",
   "metadata": {},
   "outputs": [],
   "source": [
    "!python -m ../../mz_embed/finetune/finetune_VAE_unsupervised_main \\\n",
    "  --data_location \"$DATA\" \\\n",
    "  --pretrained_dir \"$PT\" \\\n",
    "  --latent_size $LATENT --n_layers $LAYERS --trials $TRIALS --max_epochs $EPOCHS \\\n",
    "  --output_dir \"$OUT\""
   ]
  },
  {
   "cell_type": "code",
   "execution_count": null,
   "id": "77372478",
   "metadata": {},
   "outputs": [],
   "source": [
    "!python -m ../../mz_embed/finetune/best_finetune_model_test_eval \\\n",
    "  --model_dir \"$OUT\" \\\n",
    "  --data_location \"$DATA\" \\\n",
    "  --task binary"
   ]
  }
 ],
 "metadata": {
  "language_info": {
   "name": "python"
  }
 },
 "nbformat": 4,
 "nbformat_minor": 5
}
