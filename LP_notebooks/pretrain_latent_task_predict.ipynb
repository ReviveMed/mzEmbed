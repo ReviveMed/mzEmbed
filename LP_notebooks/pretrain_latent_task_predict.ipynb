{
 "cells": [
  {
   "attachments": {},
   "cell_type": "markdown",
   "metadata": {},
   "source": [
    "# Getting the latent space of pre-trained models and predict task\n"
   ]
  },
  {
   "cell_type": "code",
   "execution_count": 7,
   "metadata": {},
   "outputs": [
    {
     "name": "stdout",
     "output_type": "stream",
     "text": [
      "DataLoader\t LabelEncoder\t TensorDataset\t accuracy_score\t f1_score\t get_input_data\t get_pretrain_encoder_from_modelID\t imaplib\t importlib\t \n",
      "input_data_location\t label_encoder\t log_reg_multi_class\t ml_code_path\t model_id_list\t nn\t np\t optim\t optuna\t \n",
      "os\t pd\t precision_score\t pretrain_save_dir\t random\t recall_score\t ridge_regression_predict\t roc_auc_score\t task_list_cat\t \n",
      "task_list_num\t torch\t \n"
     ]
    }
   ],
   "source": [
    "import os\n",
    "ml_code_path='/home/leilapirhaji/mz_embed_engine/ml'\n",
    "os.chdir(ml_code_path)\n",
    "\n",
    "import pandas as pd\n",
    "import importlib\n",
    "from sklearn.preprocessing import LabelEncoder\n",
    "label_encoder = LabelEncoder()\n",
    "import optuna\n",
    "import imaplib\n",
    "\n",
    "\n",
    "import torch\n",
    "import torch.nn as nn\n",
    "import torch.optim as optim\n",
    "from torch.utils.data import TensorDataset, DataLoader\n",
    "import pandas as pd\n",
    "import numpy as np\n",
    "import random\n",
    "from sklearn.metrics import precision_score, recall_score, f1_score, roc_auc_score, accuracy_score\n",
    "\n",
    "\n",
    "from get_pretrain_encoder import get_pretrain_encoder_from_modelID, get_input_data\n",
    "from latent_task_predict_pretrain import log_reg_multi_class, ridge_regression_predict\n",
    "\n",
    "\n",
    "%who\n",
    "\n"
   ]
  },
  {
   "cell_type": "code",
   "execution_count": 8,
   "metadata": {},
   "outputs": [
    {
     "name": "stderr",
     "output_type": "stream",
     "text": [
      "/home/leilapirhaji/mz_embed_engine/ml/get_pretrain_encoder.py:60: DtypeWarning: Columns (1,8,28,30,31,32,33,34,46,50,51,52,53,54,55,56,57,58) have mixed types. Specify dtype option on import or set low_memory=False.\n",
      "  y_data_all = pd.read_csv(pretrain_y_all, index_col=0)\n"
     ]
    },
    {
     "name": "stdout",
     "output_type": "stream",
     "text": [
      "[neptune] [info   ] Neptune initialized. Open in the app: https://app.neptune.ai/revivemed/RCC/e/RCC-36657\n",
      "Deleted existing file at /home/leilapirhaji/pretrained_models/pretrained_models/RCC-36657/encoder_state_dict.pth\n"
     ]
    },
    {
     "data": {
      "application/vnd.jupyter.widget-view+json": {
       "model_id": "ed9172eb82c541988bd8d0f17cb45690",
       "version_major": 2,
       "version_minor": 0
      },
      "text/plain": [
       "Fetching file...: 0 [00:00, ?/s]"
      ]
     },
     "metadata": {},
     "output_type": "display_data"
    },
    {
     "name": "stdout",
     "output_type": "stream",
     "text": [
      "[neptune] [info   ] Shutting down background jobs, please wait a moment...\n",
      "[neptune] [info   ] Done!\n",
      "[neptune] [info   ] All 0 operations synced, thanks for waiting!\n",
      "[neptune] [info   ] Explore the metadata in the Neptune app: https://app.neptune.ai/revivemed/RCC/e/RCC-36657/metadata\n"
     ]
    },
    {
     "name": "stderr",
     "output_type": "stream",
     "text": [
      "/home/leilapirhaji/mz_embed_engine/ml/get_pretrain_encoder.py:173: FutureWarning: You are using `torch.load` with `weights_only=False` (the current default value), which uses the default pickle module implicitly. It is possible to construct malicious pickle data which will execute arbitrary code during unpickling (See https://github.com/pytorch/pytorch/blob/main/SECURITY.md#untrusted-models for more details). In a future release, the default value for `weights_only` will be flipped to `True`. This limits the functions that could be executed during unpickling. Arbitrary objects will no longer be allowed to be loaded via this mode unless they are explicitly allowlisted by the user via `torch.serialization.add_safe_globals`. We recommend you start setting `weights_only=True` for any use case where you don't have full control of the loaded file. Please open an issue on GitHub for any issues related to this experimental feature.\n",
      "  encoder_state_dict = torch.load(model_encoder_file)\n"
     ]
    }
   ],
   "source": [
    "import get_pretrain_encoder\n",
    "importlib.reload(get_pretrain_encoder)\n",
    "from get_pretrain_encoder import get_pretrain_encoder_from_modelID\n",
    "# getting the latent space for the model\n",
    "(encoder, Z_all, Z_train, Z_val, Z_test, y_data_all, y_data_train, y_data_val, y_data_test)=get_pretrain_encoder_from_modelID(model_id, input_data_location, pretrain_save_dir, ml_code_path)\n",
    "\n"
   ]
  },
  {
   "cell_type": "code",
   "execution_count": 9,
   "metadata": {},
   "outputs": [
    {
     "name": "stdout",
     "output_type": "stream",
     "text": [
      "(20548, 200) (14391, 200) (3074, 200) (3083, 200) (20548, 58) (14391, 58) (3074, 58) (3083, 58)\n"
     ]
    }
   ],
   "source": [
    "print (Z_all.shape, Z_train.shape, Z_val.shape, Z_test.shape, y_data_all.shape, y_data_train.shape, y_data_val.shape, y_data_test.shape)"
   ]
  },
  {
   "cell_type": "code",
   "execution_count": 10,
   "metadata": {},
   "outputs": [
    {
     "name": "stdout",
     "output_type": "stream",
     "text": [
      "model_id is RCC-36657\n",
      "Study ID Val Accuracy: 0.9525\n",
      "Study ID Test Accuracy: 0.9458\n",
      "is Female Val Accuracy: 0.8043\n",
      "is Female Test Accuracy: 0.7567\n",
      "is Pediatric Val Accuracy: 0.9808\n",
      "is Pediatric Test Accuracy: 0.9818\n",
      "Cohort Label v0 Val Accuracy: 0.9619\n",
      "Cohort Label v0 Test Accuracy: 0.9578\n",
      "Smoking Status Val Accuracy: 0.9311\n",
      "Smoking Status Test Accuracy: 0.9314\n",
      "Cancer Risk Val Accuracy: 0.9233\n",
      "Cancer Risk Test Accuracy: 0.9190\n",
      "BMI Val MAE : 3.9232\n",
      "BMI Test MAE : 3.9238\n"
     ]
    },
    {
     "name": "stderr",
     "output_type": "stream",
     "text": [
      "/home/leilapirhaji/.local/lib/python3.9/site-packages/sklearn/linear_model/_ridge.py:216: LinAlgWarning: Ill-conditioned matrix (rcond=3.93296e-08): result may not be accurate.\n",
      "  return linalg.solve(A, Xy, assume_a=\"pos\", overwrite_a=True).T\n",
      "/home/leilapirhaji/.local/lib/python3.9/site-packages/sklearn/linear_model/_ridge.py:216: LinAlgWarning: Ill-conditioned matrix (rcond=5.43836e-08): result may not be accurate.\n",
      "  return linalg.solve(A, Xy, assume_a=\"pos\", overwrite_a=True).T\n"
     ]
    },
    {
     "name": "stdout",
     "output_type": "stream",
     "text": [
      "Age Val MAE : 9.9546\n",
      "Age Test MAE : 9.7178\n"
     ]
    }
   ],
   "source": [
    "#def evalute_pretrain_latent_extra_task(model_id, input_data_location, pretrain_save_dir, task_list_cat, task_list_num):\n",
    "input_data_location='/home/leilapirhaji/PROCESSED_DATA_2'\n",
    "pretrain_save_dir='/home/leilapirhaji/pretrained_models' \n",
    "\n",
    "\n",
    "\n",
    "#tasks to predict using encoder\n",
    "task_list_cat=[ 'Study ID', 'is Female', 'is Pediatric', 'Cohort Label v0','Smoking Status', 'Cancer Risk' ]\n",
    "\n",
    "task_list_num=[ 'BMI', 'Age' ]\n",
    "\n",
    "model_id='RCC-36657'\n",
    "\n",
    "print (f'model_id is {model_id}')\n",
    "\n",
    "\n",
    "# getting the latent space for the model\n",
    "#(encoder, Z_all, Z_train, Z_val, Z_test, y_data_all, y_data_train, y_data_val, y_data_test)=get_pretrain_encoder_from_modelID(model_id, input_data_location, pretrain_save_dir, ml_code_path)\n",
    "\n",
    "\n",
    "\n",
    "\n",
    "# Now use the latnet space to predict the tasks\n",
    "\n",
    "model_results = {'Model ID': model_id}\n",
    "\n",
    "# Predict the categorical tasks\n",
    "\n",
    "for task in task_list_cat:\n",
    "\n",
    "    (val_accuracy, test_accuracy) = log_reg_multi_class(task, Z_train, y_data_train, Z_val, y_data_val, Z_test, y_data_test)\n",
    "\n",
    "    # Store the results in the dictionary\n",
    "    model_results[f'{task} Val Accuracy'] = val_accuracy\n",
    "    model_results[f'{task} Test Accuracy'] = test_accuracy\n",
    "\n",
    "    print(f'{task} Val Accuracy: {val_accuracy:.4f}')\n",
    "    print(f'{task} Test Accuracy: {test_accuracy:.4f}')\n",
    "\n",
    "\n",
    "#now evaluting numercal task predictions\n",
    "for task in task_list_num:\n",
    "\n",
    "    (val_mse, val_mae, val_r2, test_mse, test_mae, test_r2)= ridge_regression_predict(task, Z_train, y_data_train, Z_val, y_data_val, Z_test, y_data_test)\n",
    "\n",
    "    # Store the results in the dictionary\n",
    "    # model_results[f'{task} Val MSE'] = val_mse\n",
    "    model_results[f'{task} Val MAE'] = val_mae\n",
    "    # model_results[f'{task} Val R2'] = val_r2\n",
    "    # model_results[f'{task} Test MSE'] = test_mse\n",
    "    model_results[f'{task} Test MAE'] = test_mae\n",
    "    # model_results[f'{task} Test R2'] = test_r2\n",
    "\n",
    "    print(f'{task} Val MAE : {val_mae:.4f}')\n",
    "    print(f'{task} Test MAE : {test_mae:.4f}')\n",
    "    \n",
    "\n",
    "\n",
    "#return model_results\n"
   ]
  },
  {
   "cell_type": "code",
   "execution_count": 11,
   "metadata": {},
   "outputs": [
    {
     "data": {
      "text/plain": [
       "{'Model ID': 'RCC-36657',\n",
       " 'Study ID Val Accuracy': 0.9525048796356539,\n",
       " 'Study ID Test Accuracy': 0.9458319818358741,\n",
       " 'is Female Val Accuracy': 0.8043478260869565,\n",
       " 'is Female Test Accuracy': 0.7566666666666667,\n",
       " 'is Pediatric Val Accuracy': 0.9808067664281067,\n",
       " 'is Pediatric Test Accuracy': 0.9818358741485566,\n",
       " 'Cohort Label v0 Val Accuracy': 0.9619388418998048,\n",
       " 'Cohort Label v0 Test Accuracy': 0.957833279273435,\n",
       " 'Smoking Status Val Accuracy': 0.9311475409836065,\n",
       " 'Smoking Status Test Accuracy': 0.9313725490196079,\n",
       " 'Cancer Risk Val Accuracy': 0.9233067729083665,\n",
       " 'Cancer Risk Test Accuracy': 0.9190444591904446,\n",
       " 'BMI Val MAE': 3.9232283557165877,\n",
       " 'BMI Test MAE': 3.923811241793968,\n",
       " 'Age Val MAE': 9.95463990170786,\n",
       " 'Age Test MAE': 9.717826384024695}"
      ]
     },
     "execution_count": 11,
     "metadata": {},
     "output_type": "execute_result"
    }
   ],
   "source": [
    "model_results"
   ]
  },
  {
   "cell_type": "code",
   "execution_count": 2,
   "metadata": {},
   "outputs": [
    {
     "name": "stderr",
     "output_type": "stream",
     "text": [
      "[neptune] [warning] NeptuneDeprecationWarning: You're importing the Neptune client library via the deprecated `neptune.new` module, which will be removed in a future release. Import directly from `neptune` instead.\n"
     ]
    }
   ],
   "source": [
    "import os\n",
    "ml_code_path='/home/leilapirhaji/mz_embed_engine/ml'\n",
    "os.chdir(ml_code_path)\n",
    "\n",
    "import pandas as pd\n",
    "import importlib\n",
    "from sklearn.preprocessing import LabelEncoder\n",
    "label_encoder = LabelEncoder()\n",
    "\n",
    "\n",
    "from get_pretrain_encoder import get_pretrain_encoder_from_modelID\n",
    "from latent_task_predict_pretrain import log_reg_multi_class, ridge_regression_predict\n",
    "\n",
    "\n"
   ]
  },
  {
   "cell_type": "code",
   "execution_count": 3,
   "metadata": {},
   "outputs": [
    {
     "name": "stdout",
     "output_type": "stream",
     "text": [
      "model_id is RCC-36657\n"
     ]
    },
    {
     "name": "stderr",
     "output_type": "stream",
     "text": [
      "/home/leilapirhaji/mz_embed_engine/ml/get_pretrain_encoder.py:60: DtypeWarning: Columns (1,8,28,30,31,32,33,34,46,50,51,52,53,54,55,56,57,58) have mixed types. Specify dtype option on import or set low_memory=False.\n",
      "  y_data_all = pd.read_csv(pretrain_y_all, index_col=0)\n",
      "[neptune] [warning] NeptuneWarning: By default, these monitoring options are disabled in interactive sessions: 'capture_stdout', 'capture_stderr', 'capture_traceback', 'capture_hardware_metrics'. You can set them to 'True' when initializing the run and the monitoring will continue until you call run.stop() or the kernel stops. NOTE: To track the source files, pass their paths to the 'source_code' argument. For help, see: https://docs.neptune.ai/logging/source_code/\n"
     ]
    },
    {
     "name": "stdout",
     "output_type": "stream",
     "text": [
      "[neptune] [info   ] Neptune initialized. Open in the app: https://app.neptune.ai/revivemed/RCC/e/RCC-36657\n",
      "Deleted existing file at /home/leilapirhaji/pretrained_models/pretrained_models/RCC-36657/encoder_state_dict.pth\n"
     ]
    },
    {
     "data": {
      "application/vnd.jupyter.widget-view+json": {
       "model_id": "bba22a58c3ee4585b369466b79a0e358",
       "version_major": 2,
       "version_minor": 0
      },
      "text/plain": [
       "Fetching file...: 0 [00:00, ?/s]"
      ]
     },
     "metadata": {},
     "output_type": "display_data"
    },
    {
     "name": "stdout",
     "output_type": "stream",
     "text": [
      "[neptune] [info   ] Shutting down background jobs, please wait a moment...\n",
      "[neptune] [info   ] Done!\n",
      "[neptune] [info   ] All 0 operations synced, thanks for waiting!\n",
      "[neptune] [info   ] Explore the metadata in the Neptune app: https://app.neptune.ai/revivemed/RCC/e/RCC-36657/metadata\n"
     ]
    },
    {
     "name": "stderr",
     "output_type": "stream",
     "text": [
      "/home/leilapirhaji/mz_embed_engine/ml/get_pretrain_encoder.py:173: FutureWarning: You are using `torch.load` with `weights_only=False` (the current default value), which uses the default pickle module implicitly. It is possible to construct malicious pickle data which will execute arbitrary code during unpickling (See https://github.com/pytorch/pytorch/blob/main/SECURITY.md#untrusted-models for more details). In a future release, the default value for `weights_only` will be flipped to `True`. This limits the functions that could be executed during unpickling. Arbitrary objects will no longer be allowed to be loaded via this mode unless they are explicitly allowlisted by the user via `torch.serialization.add_safe_globals`. We recommend you start setting `weights_only=True` for any use case where you don't have full control of the loaded file. Please open an issue on GitHub for any issues related to this experimental feature.\n",
      "  encoder_state_dict = torch.load(model_encoder_file)\n"
     ]
    },
    {
     "ename": "TypeError",
     "evalue": "expected Tensor as element 0 in argument 0, but got DataFrame",
     "output_type": "error",
     "traceback": [
      "\u001b[0;31m---------------------------------------------------------------------------\u001b[0m",
      "\u001b[0;31mTypeError\u001b[0m                                 Traceback (most recent call last)",
      "Cell \u001b[0;32mIn[3], line 13\u001b[0m\n\u001b[1;32m      9\u001b[0m task_list_num\u001b[39m=\u001b[39m[ \u001b[39m'\u001b[39m\u001b[39mBMI\u001b[39m\u001b[39m'\u001b[39m, \u001b[39m'\u001b[39m\u001b[39mAge\u001b[39m\u001b[39m'\u001b[39m ]\n\u001b[1;32m     11\u001b[0m model_id\u001b[39m=\u001b[39m\u001b[39m'\u001b[39m\u001b[39mRCC-36657\u001b[39m\u001b[39m'\u001b[39m\n\u001b[0;32m---> 13\u001b[0m model_results\u001b[39m=\u001b[39mevalute_pretrain_latent_extra_task(model_id, input_data_location, pretrain_save_dir, task_list_cat, task_list_num)\n",
      "Cell \u001b[0;32mIn[1], line 7\u001b[0m, in \u001b[0;36mevalute_pretrain_latent_extra_task\u001b[0;34m(model_id, input_data_location, pretrain_save_dir, task_list_cat, task_list_num)\u001b[0m\n\u001b[1;32m      3\u001b[0m \u001b[39mprint\u001b[39m (\u001b[39mf\u001b[39m\u001b[39m'\u001b[39m\u001b[39mmodel_id is \u001b[39m\u001b[39m{\u001b[39;00mmodel_id\u001b[39m}\u001b[39;00m\u001b[39m'\u001b[39m)\n\u001b[1;32m      6\u001b[0m \u001b[39m# getting the latent space for the model\u001b[39;00m\n\u001b[0;32m----> 7\u001b[0m (encoder, Z_all, Z_train, Z_val, Z_test, y_data_all, y_data_train, y_data_val, y_data_test)\u001b[39m=\u001b[39mget_pretrain_encoder_from_modelID(model_id, input_data_location, pretrain_save_dir, ml_code_path)\n\u001b[1;32m     10\u001b[0m \u001b[39mprint\u001b[39m (Z_all\u001b[39m.\u001b[39mshape, Z_train\u001b[39m.\u001b[39mshape, Z_val\u001b[39m.\u001b[39mshape, Z_test\u001b[39m.\u001b[39mshape, y_data_all\u001b[39m.\u001b[39mshape, y_data_train\u001b[39m.\u001b[39mshape, y_data_val\u001b[39m.\u001b[39mshape, y_data_test\u001b[39m.\u001b[39mshape)\n\u001b[1;32m     12\u001b[0m \u001b[39m# Now use the latnet space to predict the tasks\u001b[39;00m\n",
      "File \u001b[0;32m~/mz_embed_engine/ml/get_pretrain_encoder.py:199\u001b[0m, in \u001b[0;36mget_pretrain_encoder_from_modelID\u001b[0;34m(model_id, path_to_proccessed_data, output_path, ml_code_path, setup_id, project_id, X_size, encoder_kind, latent_passes)\u001b[0m\n\u001b[1;32m    195\u001b[0m     latent_rep_test \u001b[39m=\u001b[39m generate_latent_space(X_data_test, encoder)\n\u001b[1;32m    196\u001b[0m     Z_test\u001b[39m.\u001b[39mappend(latent_rep_test)\n\u001b[0;32m--> 199\u001b[0m Z_all \u001b[39m=\u001b[39m torch\u001b[39m.\u001b[39mmean(torch\u001b[39m.\u001b[39;49mstack(Z_all), dim\u001b[39m=\u001b[39m\u001b[39m0\u001b[39m)\n\u001b[1;32m    200\u001b[0m Z_train \u001b[39m=\u001b[39m torch\u001b[39m.\u001b[39mmean(torch\u001b[39m.\u001b[39mstack(Z_train), dim\u001b[39m=\u001b[39m\u001b[39m0\u001b[39m)\n\u001b[1;32m    201\u001b[0m Z_val \u001b[39m=\u001b[39m torch\u001b[39m.\u001b[39mmean(torch\u001b[39m.\u001b[39mstack(Z_val), dim\u001b[39m=\u001b[39m\u001b[39m0\u001b[39m)\n",
      "\u001b[0;31mTypeError\u001b[0m: expected Tensor as element 0 in argument 0, but got DataFrame"
     ]
    }
   ],
   "source": [
    "input_data_location='/home/leilapirhaji/PROCESSED_DATA_2'\n",
    "pretrain_save_dir='/home/leilapirhaji/pretrained_models' \n",
    "\n",
    "\n",
    "\n",
    "#tasks to predict using encoder\n",
    "task_list_cat=[ 'Study ID', 'is Female', 'is Pediatric', 'Cohort Label v0','Smoking Status', 'Cancer Risk' ]\n",
    "\n",
    "task_list_num=[ 'BMI', 'Age' ]\n",
    "\n",
    "model_id='RCC-36657'\n",
    "\n",
    "model_results=evalute_pretrain_latent_extra_task(model_id, input_data_location, pretrain_save_dir, task_list_cat, task_list_num)"
   ]
  },
  {
   "attachments": {},
   "cell_type": "markdown",
   "metadata": {},
   "source": [
    "## getting the input data"
   ]
  },
  {
   "cell_type": "code",
   "execution_count": 8,
   "metadata": {},
   "outputs": [
    {
     "name": "stderr",
     "output_type": "stream",
     "text": [
      "/home/leilapirhaji/mz_embed_engine/ml/get_pretrain_encoder.py:159: DtypeWarning: Columns (1,8,28,30,31,32,33,34,46,50,51,52,53,54,55,56,57,58) have mixed types. Specify dtype option on import or set low_memory=False.\n",
      "  y_data_all = pd.read_csv(pretrain_y_all, index_col=0)\n"
     ]
    },
    {
     "data": {
      "text/plain": [
       "((20548, 2736),\n",
       " (20548, 58),\n",
       " (14391, 2736),\n",
       " (14391, 58),\n",
       " (3074, 2736),\n",
       " (3074, 58),\n",
       " (3083, 2736),\n",
       " (3083, 58))"
      ]
     },
     "execution_count": 8,
     "metadata": {},
     "output_type": "execute_result"
    }
   ],
   "source": [
    "#input data\n",
    "model_id_list=[]\n",
    "\n",
    "input_data_location='/home/leilapirhaji/PROCESSED_DATA_2'\n",
    "pretrain_save_dir='/home/leilapirhaji/pretrained_models' \n",
    "\n",
    "\n",
    "\n",
    "#tasks to predict using encoder\n",
    "task_list_cat=[ 'Study ID', 'is Female', 'is Pediatric', 'Cohort Label v0','Smoking Status', 'Cancer Risk' ]\n",
    "\n",
    "task_list_num=[ 'BMI', 'Age' ]\n",
    "\n",
    "(X_data_all, y_data_all, X_data_train, y_data_train, X_data_val, y_data_val, X_data_test, y_data_test)= get_input_data(input_data_location)\n",
    "\n",
    "X_data_all.shape, y_data_all.shape, X_data_train.shape, y_data_train.shape, X_data_val.shape, y_data_val.shape, X_data_test.shape, y_data_test.shape\n"
   ]
  },
  {
   "cell_type": "code",
   "execution_count": null,
   "metadata": {},
   "outputs": [],
   "source": []
  },
  {
   "attachments": {},
   "cell_type": "markdown",
   "metadata": {},
   "source": [
    "## Get the encoder and latent space with averaging "
   ]
  },
  {
   "cell_type": "code",
   "execution_count": 36,
   "metadata": {},
   "outputs": [
    {
     "name": "stderr",
     "output_type": "stream",
     "text": [
      "/home/leilapirhaji/mz_embed_engine/ml/get_pretrain_encoder.py:60: DtypeWarning: Columns (1,8,28,30,31,32,33,34,46,50,51,52,53,54,55,56,57,58) have mixed types. Specify dtype option on import or set low_memory=False.\n",
      "  y_data_all = pd.read_csv(pretrain_y_all, index_col=0)\n"
     ]
    },
    {
     "name": "stdout",
     "output_type": "stream",
     "text": [
      "[neptune] [info   ] Neptune initialized. Open in the app: https://app.neptune.ai/revivemed/RCC/e/RCC-36657\n",
      "Deleted existing file at /home/leilapirhaji/pretrained_models/pretrained_models/RCC-36657/encoder_state_dict.pth\n"
     ]
    },
    {
     "data": {
      "application/vnd.jupyter.widget-view+json": {
       "model_id": "379612392bc04b57b4d9cc28ea3b8600",
       "version_major": 2,
       "version_minor": 0
      },
      "text/plain": [
       "Fetching file...: 0 [00:00, ?/s]"
      ]
     },
     "metadata": {},
     "output_type": "display_data"
    },
    {
     "name": "stdout",
     "output_type": "stream",
     "text": [
      "[neptune] [info   ] Shutting down background jobs, please wait a moment...\n",
      "[neptune] [info   ] Done!\n",
      "[neptune] [info   ] All 0 operations synced, thanks for waiting!\n",
      "[neptune] [info   ] Explore the metadata in the Neptune app: https://app.neptune.ai/revivemed/RCC/e/RCC-36657/metadata\n"
     ]
    },
    {
     "name": "stderr",
     "output_type": "stream",
     "text": [
      "/home/leilapirhaji/mz_embed_engine/ml/get_pretrain_encoder.py:117: FutureWarning: You are using `torch.load` with `weights_only=False` (the current default value), which uses the default pickle module implicitly. It is possible to construct malicious pickle data which will execute arbitrary code during unpickling (See https://github.com/pytorch/pytorch/blob/main/SECURITY.md#untrusted-models for more details). In a future release, the default value for `weights_only` will be flipped to `True`. This limits the functions that could be executed during unpickling. Arbitrary objects will no longer be allowed to be loaded via this mode unless they are explicitly allowlisted by the user via `torch.serialization.add_safe_globals`. We recommend you start setting `weights_only=True` for any use case where you don't have full control of the loaded file. Please open an issue on GitHub for any issues related to this experimental feature.\n",
      "  load_kwargs = convert_neptune_kwargs(load_kwargs)\n"
     ]
    }
   ],
   "source": [
    "import importlib\n",
    "import get_pretrain_encoder\n",
    "importlib.reload(get_pretrain_encoder)\n",
    "from get_finetune_encoder import get_finetune_encoder_from_modelID\n",
    "\n",
    "model_id='RCC-36657'\n",
    "#model_id='RCC-36682' #bad recon loss\n",
    "\n",
    "(encoder, Z_all, Z_train, Z_val, Z_test, y_data_all, y_data_train, y_data_val, y_data_test)=get_pretrain_encoder_from_modelID(model_id, input_data_location, pretrain_save_dir, ml_code_path)\n"
   ]
  },
  {
   "cell_type": "code",
   "execution_count": 37,
   "metadata": {},
   "outputs": [
    {
     "name": "stdout",
     "output_type": "stream",
     "text": [
      "(20548, 200) (14391, 200) (3074, 200) (3083, 200) (20548, 58) (14391, 58) (3074, 58) (3083, 58)\n"
     ]
    }
   ],
   "source": [
    "\n",
    "print (Z_all.shape, Z_train.shape, Z_val.shape, Z_test.shape, y_data_all.shape, y_data_train.shape, y_data_val.shape, y_data_test.shape)"
   ]
  },
  {
   "attachments": {},
   "cell_type": "markdown",
   "metadata": {},
   "source": [
    "## visulaizeing latent sapce"
   ]
  },
  {
   "cell_type": "code",
   "execution_count": null,
   "metadata": {},
   "outputs": [],
   "source": []
  },
  {
   "attachments": {},
   "cell_type": "markdown",
   "metadata": {},
   "source": [
    "## Using latent space to predict categorical tasks"
   ]
  },
  {
   "cell_type": "code",
   "execution_count": 38,
   "metadata": {},
   "outputs": [
    {
     "data": {
      "text/plain": [
       "(0.9233067729083665, 0.9190444591904446)"
      ]
     },
     "execution_count": 38,
     "metadata": {},
     "output_type": "execute_result"
    }
   ],
   "source": [
    "import latent_task_predict_pretrain\n",
    "importlib.reload(latent_task_predict_pretrain)\n",
    "from latent_task_predict_pretrain import log_reg_multi_class, ridge_regression_predict\n",
    "\n",
    "#tasks to predict using encoder\n",
    "task_list_cat=[ 'Study ID', 'is Female', 'is Pediatric', 'Cohort Label v0','Smoking Status', 'Cancer Risk' ]\n",
    "\n",
    "\n",
    "task='Cancer Risk'\n",
    "\n",
    "(best_val_accuracy, test_accuracy) = log_reg_multi_class(task, Z_train, y_data_train, Z_val, y_data_val, Z_test, y_data_test)\n",
    "\n",
    "best_val_accuracy, test_accuracy\n"
   ]
  },
  {
   "attachments": {},
   "cell_type": "markdown",
   "metadata": {},
   "source": []
  },
  {
   "attachments": {},
   "cell_type": "markdown",
   "metadata": {},
   "source": [
    "## Using latent space to predict numerical tasks"
   ]
  },
  {
   "cell_type": "code",
   "execution_count": 39,
   "metadata": {},
   "outputs": [
    {
     "data": {
      "text/html": [
       "<div>\n",
       "<style scoped>\n",
       "    .dataframe tbody tr th:only-of-type {\n",
       "        vertical-align: middle;\n",
       "    }\n",
       "\n",
       "    .dataframe tbody tr th {\n",
       "        vertical-align: top;\n",
       "    }\n",
       "\n",
       "    .dataframe thead th {\n",
       "        text-align: right;\n",
       "    }\n",
       "</style>\n",
       "<table border=\"1\" class=\"dataframe\">\n",
       "  <thead>\n",
       "    <tr style=\"text-align: right;\">\n",
       "      <th></th>\n",
       "      <th>0</th>\n",
       "      <th>1</th>\n",
       "      <th>2</th>\n",
       "      <th>3</th>\n",
       "      <th>4</th>\n",
       "      <th>5</th>\n",
       "      <th>6</th>\n",
       "      <th>7</th>\n",
       "      <th>8</th>\n",
       "      <th>9</th>\n",
       "      <th>...</th>\n",
       "      <th>190</th>\n",
       "      <th>191</th>\n",
       "      <th>192</th>\n",
       "      <th>193</th>\n",
       "      <th>194</th>\n",
       "      <th>195</th>\n",
       "      <th>196</th>\n",
       "      <th>197</th>\n",
       "      <th>198</th>\n",
       "      <th>199</th>\n",
       "    </tr>\n",
       "  </thead>\n",
       "  <tbody>\n",
       "    <tr>\n",
       "      <th>F088_210813_M462_115.mzML</th>\n",
       "      <td>0.016151</td>\n",
       "      <td>-0.036399</td>\n",
       "      <td>-0.021051</td>\n",
       "      <td>-0.004889</td>\n",
       "      <td>0.325092</td>\n",
       "      <td>-0.019084</td>\n",
       "      <td>-0.017611</td>\n",
       "      <td>0.031336</td>\n",
       "      <td>0.005833</td>\n",
       "      <td>-0.012649</td>\n",
       "      <td>...</td>\n",
       "      <td>-0.014541</td>\n",
       "      <td>0.005112</td>\n",
       "      <td>0.032623</td>\n",
       "      <td>0.022529</td>\n",
       "      <td>0.033487</td>\n",
       "      <td>-0.015567</td>\n",
       "      <td>0.018097</td>\n",
       "      <td>0.035755</td>\n",
       "      <td>0.026799</td>\n",
       "      <td>-0.025056</td>\n",
       "    </tr>\n",
       "    <tr>\n",
       "      <th>F088_210524_M462_145.mzML</th>\n",
       "      <td>-0.050986</td>\n",
       "      <td>-0.024688</td>\n",
       "      <td>-0.015108</td>\n",
       "      <td>0.012049</td>\n",
       "      <td>0.573699</td>\n",
       "      <td>-0.007681</td>\n",
       "      <td>-0.032105</td>\n",
       "      <td>0.003416</td>\n",
       "      <td>0.090084</td>\n",
       "      <td>-0.044102</td>\n",
       "      <td>...</td>\n",
       "      <td>0.074447</td>\n",
       "      <td>-0.046749</td>\n",
       "      <td>-0.050500</td>\n",
       "      <td>0.010690</td>\n",
       "      <td>0.042673</td>\n",
       "      <td>-0.080158</td>\n",
       "      <td>-0.028781</td>\n",
       "      <td>0.077156</td>\n",
       "      <td>-0.045460</td>\n",
       "      <td>-0.000707</td>\n",
       "    </tr>\n",
       "    <tr>\n",
       "      <th>F088_210730_M462_159.mzML</th>\n",
       "      <td>-0.040502</td>\n",
       "      <td>-0.011032</td>\n",
       "      <td>0.034642</td>\n",
       "      <td>0.040441</td>\n",
       "      <td>0.867057</td>\n",
       "      <td>0.019429</td>\n",
       "      <td>-0.017247</td>\n",
       "      <td>0.025385</td>\n",
       "      <td>-0.031466</td>\n",
       "      <td>0.007573</td>\n",
       "      <td>...</td>\n",
       "      <td>0.012122</td>\n",
       "      <td>-0.020547</td>\n",
       "      <td>-0.020013</td>\n",
       "      <td>0.001909</td>\n",
       "      <td>0.030952</td>\n",
       "      <td>-0.025218</td>\n",
       "      <td>0.004636</td>\n",
       "      <td>0.030134</td>\n",
       "      <td>0.032337</td>\n",
       "      <td>-0.015429</td>\n",
       "    </tr>\n",
       "    <tr>\n",
       "      <th>F088_210726_M462_031.mzML</th>\n",
       "      <td>-0.005879</td>\n",
       "      <td>-0.043891</td>\n",
       "      <td>0.001956</td>\n",
       "      <td>-0.028704</td>\n",
       "      <td>0.576279</td>\n",
       "      <td>-0.004865</td>\n",
       "      <td>0.032372</td>\n",
       "      <td>0.022575</td>\n",
       "      <td>0.033603</td>\n",
       "      <td>0.008344</td>\n",
       "      <td>...</td>\n",
       "      <td>-0.036182</td>\n",
       "      <td>0.019366</td>\n",
       "      <td>0.039915</td>\n",
       "      <td>0.039618</td>\n",
       "      <td>0.041128</td>\n",
       "      <td>-0.022309</td>\n",
       "      <td>-0.039295</td>\n",
       "      <td>0.024300</td>\n",
       "      <td>0.040656</td>\n",
       "      <td>-0.002575</td>\n",
       "    </tr>\n",
       "    <tr>\n",
       "      <th>F088_210806_M462_215.mzML</th>\n",
       "      <td>-0.025132</td>\n",
       "      <td>0.007773</td>\n",
       "      <td>0.013963</td>\n",
       "      <td>0.026506</td>\n",
       "      <td>0.730099</td>\n",
       "      <td>0.028892</td>\n",
       "      <td>0.001381</td>\n",
       "      <td>-0.009753</td>\n",
       "      <td>-0.015385</td>\n",
       "      <td>0.029366</td>\n",
       "      <td>...</td>\n",
       "      <td>-0.069029</td>\n",
       "      <td>0.036645</td>\n",
       "      <td>0.009928</td>\n",
       "      <td>0.023202</td>\n",
       "      <td>0.019965</td>\n",
       "      <td>0.020323</td>\n",
       "      <td>-0.027526</td>\n",
       "      <td>0.027571</td>\n",
       "      <td>0.021643</td>\n",
       "      <td>-0.000180</td>\n",
       "    </tr>\n",
       "    <tr>\n",
       "      <th>...</th>\n",
       "      <td>...</td>\n",
       "      <td>...</td>\n",
       "      <td>...</td>\n",
       "      <td>...</td>\n",
       "      <td>...</td>\n",
       "      <td>...</td>\n",
       "      <td>...</td>\n",
       "      <td>...</td>\n",
       "      <td>...</td>\n",
       "      <td>...</td>\n",
       "      <td>...</td>\n",
       "      <td>...</td>\n",
       "      <td>...</td>\n",
       "      <td>...</td>\n",
       "      <td>...</td>\n",
       "      <td>...</td>\n",
       "      <td>...</td>\n",
       "      <td>...</td>\n",
       "      <td>...</td>\n",
       "      <td>...</td>\n",
       "      <td>...</td>\n",
       "    </tr>\n",
       "    <tr>\n",
       "      <th>22569A_1x_Batch_20_A.mzML</th>\n",
       "      <td>-0.010247</td>\n",
       "      <td>0.010016</td>\n",
       "      <td>0.006770</td>\n",
       "      <td>-0.022723</td>\n",
       "      <td>0.017137</td>\n",
       "      <td>0.000513</td>\n",
       "      <td>0.004782</td>\n",
       "      <td>-0.005852</td>\n",
       "      <td>0.001723</td>\n",
       "      <td>0.009563</td>\n",
       "      <td>...</td>\n",
       "      <td>-0.022247</td>\n",
       "      <td>0.019384</td>\n",
       "      <td>0.013882</td>\n",
       "      <td>0.028416</td>\n",
       "      <td>-0.002800</td>\n",
       "      <td>0.007385</td>\n",
       "      <td>-0.024806</td>\n",
       "      <td>0.018897</td>\n",
       "      <td>0.005400</td>\n",
       "      <td>0.010338</td>\n",
       "    </tr>\n",
       "    <tr>\n",
       "      <th>20738N_4x_Batch_16_A.mzML</th>\n",
       "      <td>-0.022120</td>\n",
       "      <td>-0.009530</td>\n",
       "      <td>0.010476</td>\n",
       "      <td>-0.003063</td>\n",
       "      <td>0.049409</td>\n",
       "      <td>-0.010626</td>\n",
       "      <td>-0.028540</td>\n",
       "      <td>-0.006562</td>\n",
       "      <td>0.003547</td>\n",
       "      <td>-0.019988</td>\n",
       "      <td>...</td>\n",
       "      <td>-0.018364</td>\n",
       "      <td>-0.021785</td>\n",
       "      <td>-0.008693</td>\n",
       "      <td>0.021442</td>\n",
       "      <td>-0.014655</td>\n",
       "      <td>0.008942</td>\n",
       "      <td>-0.000733</td>\n",
       "      <td>0.002410</td>\n",
       "      <td>0.015105</td>\n",
       "      <td>0.001419</td>\n",
       "    </tr>\n",
       "    <tr>\n",
       "      <th>24931B_2x_Batch_12_A.mzML</th>\n",
       "      <td>-0.014724</td>\n",
       "      <td>0.003587</td>\n",
       "      <td>0.015515</td>\n",
       "      <td>-0.012570</td>\n",
       "      <td>0.096546</td>\n",
       "      <td>-0.002493</td>\n",
       "      <td>-0.017939</td>\n",
       "      <td>-0.011354</td>\n",
       "      <td>-0.000227</td>\n",
       "      <td>-0.006521</td>\n",
       "      <td>...</td>\n",
       "      <td>-0.011726</td>\n",
       "      <td>-0.006589</td>\n",
       "      <td>-0.002971</td>\n",
       "      <td>0.006746</td>\n",
       "      <td>-0.014851</td>\n",
       "      <td>0.006550</td>\n",
       "      <td>-0.003540</td>\n",
       "      <td>0.013042</td>\n",
       "      <td>0.010477</td>\n",
       "      <td>0.003947</td>\n",
       "    </tr>\n",
       "    <tr>\n",
       "      <th>20900W_4x_Batch_20_A.mzML</th>\n",
       "      <td>-0.013594</td>\n",
       "      <td>0.010420</td>\n",
       "      <td>0.016049</td>\n",
       "      <td>-0.021255</td>\n",
       "      <td>-0.177868</td>\n",
       "      <td>0.004597</td>\n",
       "      <td>-0.009599</td>\n",
       "      <td>-0.001721</td>\n",
       "      <td>0.006687</td>\n",
       "      <td>0.013425</td>\n",
       "      <td>...</td>\n",
       "      <td>-0.027656</td>\n",
       "      <td>0.009300</td>\n",
       "      <td>0.003024</td>\n",
       "      <td>0.038464</td>\n",
       "      <td>-0.018237</td>\n",
       "      <td>0.008171</td>\n",
       "      <td>-0.017060</td>\n",
       "      <td>0.008208</td>\n",
       "      <td>-0.014782</td>\n",
       "      <td>0.009877</td>\n",
       "    </tr>\n",
       "    <tr>\n",
       "      <th>10136F_2x_Batch_20_C.mzML</th>\n",
       "      <td>-0.011174</td>\n",
       "      <td>0.012938</td>\n",
       "      <td>0.012085</td>\n",
       "      <td>-0.013596</td>\n",
       "      <td>-0.084169</td>\n",
       "      <td>0.001238</td>\n",
       "      <td>0.002546</td>\n",
       "      <td>-0.006007</td>\n",
       "      <td>0.007012</td>\n",
       "      <td>0.008709</td>\n",
       "      <td>...</td>\n",
       "      <td>-0.026923</td>\n",
       "      <td>0.006337</td>\n",
       "      <td>0.012195</td>\n",
       "      <td>0.029378</td>\n",
       "      <td>-0.010776</td>\n",
       "      <td>0.008018</td>\n",
       "      <td>-0.022164</td>\n",
       "      <td>0.014804</td>\n",
       "      <td>0.005316</td>\n",
       "      <td>0.006975</td>\n",
       "    </tr>\n",
       "  </tbody>\n",
       "</table>\n",
       "<p>3083 rows × 200 columns</p>\n",
       "</div>"
      ],
      "text/plain": [
       "                                0         1         2         3         4    \\\n",
       "F088_210813_M462_115.mzML  0.016151 -0.036399 -0.021051 -0.004889  0.325092   \n",
       "F088_210524_M462_145.mzML -0.050986 -0.024688 -0.015108  0.012049  0.573699   \n",
       "F088_210730_M462_159.mzML -0.040502 -0.011032  0.034642  0.040441  0.867057   \n",
       "F088_210726_M462_031.mzML -0.005879 -0.043891  0.001956 -0.028704  0.576279   \n",
       "F088_210806_M462_215.mzML -0.025132  0.007773  0.013963  0.026506  0.730099   \n",
       "...                             ...       ...       ...       ...       ...   \n",
       "22569A_1x_Batch_20_A.mzML -0.010247  0.010016  0.006770 -0.022723  0.017137   \n",
       "20738N_4x_Batch_16_A.mzML -0.022120 -0.009530  0.010476 -0.003063  0.049409   \n",
       "24931B_2x_Batch_12_A.mzML -0.014724  0.003587  0.015515 -0.012570  0.096546   \n",
       "20900W_4x_Batch_20_A.mzML -0.013594  0.010420  0.016049 -0.021255 -0.177868   \n",
       "10136F_2x_Batch_20_C.mzML -0.011174  0.012938  0.012085 -0.013596 -0.084169   \n",
       "\n",
       "                                5         6         7         8         9    \\\n",
       "F088_210813_M462_115.mzML -0.019084 -0.017611  0.031336  0.005833 -0.012649   \n",
       "F088_210524_M462_145.mzML -0.007681 -0.032105  0.003416  0.090084 -0.044102   \n",
       "F088_210730_M462_159.mzML  0.019429 -0.017247  0.025385 -0.031466  0.007573   \n",
       "F088_210726_M462_031.mzML -0.004865  0.032372  0.022575  0.033603  0.008344   \n",
       "F088_210806_M462_215.mzML  0.028892  0.001381 -0.009753 -0.015385  0.029366   \n",
       "...                             ...       ...       ...       ...       ...   \n",
       "22569A_1x_Batch_20_A.mzML  0.000513  0.004782 -0.005852  0.001723  0.009563   \n",
       "20738N_4x_Batch_16_A.mzML -0.010626 -0.028540 -0.006562  0.003547 -0.019988   \n",
       "24931B_2x_Batch_12_A.mzML -0.002493 -0.017939 -0.011354 -0.000227 -0.006521   \n",
       "20900W_4x_Batch_20_A.mzML  0.004597 -0.009599 -0.001721  0.006687  0.013425   \n",
       "10136F_2x_Batch_20_C.mzML  0.001238  0.002546 -0.006007  0.007012  0.008709   \n",
       "\n",
       "                           ...       190       191       192       193  \\\n",
       "F088_210813_M462_115.mzML  ... -0.014541  0.005112  0.032623  0.022529   \n",
       "F088_210524_M462_145.mzML  ...  0.074447 -0.046749 -0.050500  0.010690   \n",
       "F088_210730_M462_159.mzML  ...  0.012122 -0.020547 -0.020013  0.001909   \n",
       "F088_210726_M462_031.mzML  ... -0.036182  0.019366  0.039915  0.039618   \n",
       "F088_210806_M462_215.mzML  ... -0.069029  0.036645  0.009928  0.023202   \n",
       "...                        ...       ...       ...       ...       ...   \n",
       "22569A_1x_Batch_20_A.mzML  ... -0.022247  0.019384  0.013882  0.028416   \n",
       "20738N_4x_Batch_16_A.mzML  ... -0.018364 -0.021785 -0.008693  0.021442   \n",
       "24931B_2x_Batch_12_A.mzML  ... -0.011726 -0.006589 -0.002971  0.006746   \n",
       "20900W_4x_Batch_20_A.mzML  ... -0.027656  0.009300  0.003024  0.038464   \n",
       "10136F_2x_Batch_20_C.mzML  ... -0.026923  0.006337  0.012195  0.029378   \n",
       "\n",
       "                                194       195       196       197       198  \\\n",
       "F088_210813_M462_115.mzML  0.033487 -0.015567  0.018097  0.035755  0.026799   \n",
       "F088_210524_M462_145.mzML  0.042673 -0.080158 -0.028781  0.077156 -0.045460   \n",
       "F088_210730_M462_159.mzML  0.030952 -0.025218  0.004636  0.030134  0.032337   \n",
       "F088_210726_M462_031.mzML  0.041128 -0.022309 -0.039295  0.024300  0.040656   \n",
       "F088_210806_M462_215.mzML  0.019965  0.020323 -0.027526  0.027571  0.021643   \n",
       "...                             ...       ...       ...       ...       ...   \n",
       "22569A_1x_Batch_20_A.mzML -0.002800  0.007385 -0.024806  0.018897  0.005400   \n",
       "20738N_4x_Batch_16_A.mzML -0.014655  0.008942 -0.000733  0.002410  0.015105   \n",
       "24931B_2x_Batch_12_A.mzML -0.014851  0.006550 -0.003540  0.013042  0.010477   \n",
       "20900W_4x_Batch_20_A.mzML -0.018237  0.008171 -0.017060  0.008208 -0.014782   \n",
       "10136F_2x_Batch_20_C.mzML -0.010776  0.008018 -0.022164  0.014804  0.005316   \n",
       "\n",
       "                                199  \n",
       "F088_210813_M462_115.mzML -0.025056  \n",
       "F088_210524_M462_145.mzML -0.000707  \n",
       "F088_210730_M462_159.mzML -0.015429  \n",
       "F088_210726_M462_031.mzML -0.002575  \n",
       "F088_210806_M462_215.mzML -0.000180  \n",
       "...                             ...  \n",
       "22569A_1x_Batch_20_A.mzML  0.010338  \n",
       "20738N_4x_Batch_16_A.mzML  0.001419  \n",
       "24931B_2x_Batch_12_A.mzML  0.003947  \n",
       "20900W_4x_Batch_20_A.mzML  0.009877  \n",
       "10136F_2x_Batch_20_C.mzML  0.006975  \n",
       "\n",
       "[3083 rows x 200 columns]"
      ]
     },
     "execution_count": 39,
     "metadata": {},
     "output_type": "execute_result"
    }
   ],
   "source": [
    "Z_test"
   ]
  },
  {
   "cell_type": "code",
   "execution_count": 50,
   "metadata": {},
   "outputs": [
    {
     "name": "stderr",
     "output_type": "stream",
     "text": [
      "/home/leilapirhaji/.local/lib/python3.9/site-packages/sklearn/linear_model/_ridge.py:216: LinAlgWarning: Ill-conditioned matrix (rcond=3.93355e-08): result may not be accurate.\n",
      "  return linalg.solve(A, Xy, assume_a=\"pos\", overwrite_a=True).T\n"
     ]
    },
    {
     "data": {
      "text/plain": [
       "(31.474254022919432,\n",
       " 3.923244522162404,\n",
       " 0.16234745248223503,\n",
       " 33.136116736617716,\n",
       " 3.9238094311236593,\n",
       " 0.21686598261764212)"
      ]
     },
     "execution_count": 50,
     "metadata": {},
     "output_type": "execute_result"
    }
   ],
   "source": [
    "import latent_task_predict_pretrain\n",
    "importlib.reload(latent_task_predict_pretrain)\n",
    "from latent_task_predict_pretrain import log_reg_multi_class, ridge_regression_predict\n",
    "\n",
    "task_list_num=[ 'BMI', 'Age' ]\n",
    "task='BMI'\n",
    "\n",
    "(best_val_mse, val_mae, val_r2, test_mse, test_mae, test_r2)= ridge_regression_predict(task, Z_train, y_data_train, Z_val, y_data_val, Z_test, y_data_test)\n",
    "\n",
    "best_val_mse, val_mae, val_r2, test_mse, test_mae, test_r2"
   ]
  },
  {
   "cell_type": "code",
   "execution_count": 12,
   "metadata": {},
   "outputs": [
    {
     "name": "stdout",
     "output_type": "stream",
     "text": [
      "model_id is RCC-36657\n"
     ]
    },
    {
     "name": "stderr",
     "output_type": "stream",
     "text": [
      "/home/leilapirhaji/mz_embed_engine/ml/get_pretrain_encoder.py:60: DtypeWarning: Columns (1,8,28,30,31,32,33,34,46,50,51,52,53,54,55,56,57,58) have mixed types. Specify dtype option on import or set low_memory=False.\n",
      "  y_data_all = pd.read_csv(pretrain_y_all, index_col=0)\n"
     ]
    },
    {
     "name": "stdout",
     "output_type": "stream",
     "text": [
      "[neptune] [info   ] Neptune initialized. Open in the app: https://app.neptune.ai/revivemed/RCC/e/RCC-36657\n",
      "Deleted existing file at /home/leilapirhaji/pretrained_models/pretrained_models/RCC-36657/encoder_state_dict.pth\n"
     ]
    },
    {
     "data": {
      "application/vnd.jupyter.widget-view+json": {
       "model_id": "42e50f8e38024c9097403675e0745986",
       "version_major": 2,
       "version_minor": 0
      },
      "text/plain": [
       "Fetching file...: 0 [00:00, ?/s]"
      ]
     },
     "metadata": {},
     "output_type": "display_data"
    },
    {
     "name": "stdout",
     "output_type": "stream",
     "text": [
      "[neptune] [info   ] Shutting down background jobs, please wait a moment...\n",
      "[neptune] [info   ] Done!\n",
      "[neptune] [info   ] All 0 operations synced, thanks for waiting!\n",
      "[neptune] [info   ] Explore the metadata in the Neptune app: https://app.neptune.ai/revivemed/RCC/e/RCC-36657/metadata\n"
     ]
    },
    {
     "name": "stderr",
     "output_type": "stream",
     "text": [
      "/home/leilapirhaji/mz_embed_engine/ml/get_pretrain_encoder.py:173: FutureWarning: You are using `torch.load` with `weights_only=False` (the current default value), which uses the default pickle module implicitly. It is possible to construct malicious pickle data which will execute arbitrary code during unpickling (See https://github.com/pytorch/pytorch/blob/main/SECURITY.md#untrusted-models for more details). In a future release, the default value for `weights_only` will be flipped to `True`. This limits the functions that could be executed during unpickling. Arbitrary objects will no longer be allowed to be loaded via this mode unless they are explicitly allowlisted by the user via `torch.serialization.add_safe_globals`. We recommend you start setting `weights_only=True` for any use case where you don't have full control of the loaded file. Please open an issue on GitHub for any issues related to this experimental feature.\n",
      "  encoder_state_dict = torch.load(model_encoder_file)\n"
     ]
    },
    {
     "name": "stdout",
     "output_type": "stream",
     "text": [
      "(20548, 200) (14391, 200) (3074, 200) (3083, 200) (20548, 58) (14391, 58) (3074, 58) (3083, 58)\n",
      "Study ID Val Accuracy: 0.9525\n",
      "Study ID Test Accuracy: 0.9458\n",
      "is Female Val Accuracy: 0.8043\n",
      "is Female Test Accuracy: 0.7567\n",
      "is Pediatric Val Accuracy: 0.9808\n",
      "is Pediatric Test Accuracy: 0.9818\n",
      "Cohort Label v0 Val Accuracy: 0.9619\n",
      "Cohort Label v0 Test Accuracy: 0.9578\n",
      "Smoking Status Val Accuracy: 0.9311\n",
      "Smoking Status Test Accuracy: 0.9314\n",
      "Cancer Risk Val Accuracy: 0.9233\n",
      "Cancer Risk Test Accuracy: 0.9190\n"
     ]
    },
    {
     "name": "stderr",
     "output_type": "stream",
     "text": [
      "/home/leilapirhaji/.local/lib/python3.9/site-packages/sklearn/linear_model/_ridge.py:216: LinAlgWarning: Ill-conditioned matrix (rcond=3.93296e-08): result may not be accurate.\n",
      "  return linalg.solve(A, Xy, assume_a=\"pos\", overwrite_a=True).T\n",
      "/home/leilapirhaji/.local/lib/python3.9/site-packages/sklearn/linear_model/_ridge.py:216: LinAlgWarning: Ill-conditioned matrix (rcond=5.43836e-08): result may not be accurate.\n",
      "  return linalg.solve(A, Xy, assume_a=\"pos\", overwrite_a=True).T\n"
     ]
    },
    {
     "name": "stdout",
     "output_type": "stream",
     "text": [
      "BMI Val MAE : 3.9232\n",
      "BMI Test MAE : 3.9238\n",
      "Age Val MAE : 9.9546\n",
      "Age Test MAE : 9.7178\n"
     ]
    },
    {
     "data": {
      "text/plain": [
       "{'Model ID': 'RCC-36657',\n",
       " 'Study ID Val Accuracy': 0.9525048796356539,\n",
       " 'Study ID Test Accuracy': 0.9458319818358741,\n",
       " 'is Female Val Accuracy': 0.8043478260869565,\n",
       " 'is Female Test Accuracy': 0.7566666666666667,\n",
       " 'is Pediatric Val Accuracy': 0.9808067664281067,\n",
       " 'is Pediatric Test Accuracy': 0.9818358741485566,\n",
       " 'Cohort Label v0 Val Accuracy': 0.9619388418998048,\n",
       " 'Cohort Label v0 Test Accuracy': 0.957833279273435,\n",
       " 'Smoking Status Val Accuracy': 0.9311475409836065,\n",
       " 'Smoking Status Test Accuracy': 0.9313725490196079,\n",
       " 'Cancer Risk Val Accuracy': 0.9233067729083665,\n",
       " 'Cancer Risk Test Accuracy': 0.9190444591904446,\n",
       " 'BMI Val MAE': 3.9232283557165877,\n",
       " 'BMI Test MAE': 3.923811241793968,\n",
       " 'Age Val MAE': 9.95463990170786,\n",
       " 'Age Test MAE': 9.717826384024695}"
      ]
     },
     "execution_count": 12,
     "metadata": {},
     "output_type": "execute_result"
    }
   ],
   "source": [
    "import eval_pretrain_latent\n",
    "importlib.reload(eval_pretrain_latent)\n",
    "from eval_pretrain_latent import evalute_pretrain_latent_extra_task\n",
    "\n",
    "model_results = evalute_pretrain_latent_extra_task(model_id, input_data_location, pretrain_save_dir, task_list_cat, task_list_num)\n",
    "\n",
    "model_results\n"
   ]
  },
  {
   "cell_type": "code",
   "execution_count": 13,
   "metadata": {},
   "outputs": [
    {
     "data": {
      "text/plain": [
       "{'Model ID': 'RCC-36657',\n",
       " 'Study ID Val Accuracy': 0.9525048796356539,\n",
       " 'Study ID Test Accuracy': 0.9458319818358741,\n",
       " 'is Female Val Accuracy': 0.8043478260869565,\n",
       " 'is Female Test Accuracy': 0.7566666666666667,\n",
       " 'is Pediatric Val Accuracy': 0.9808067664281067,\n",
       " 'is Pediatric Test Accuracy': 0.9818358741485566,\n",
       " 'Cohort Label v0 Val Accuracy': 0.9619388418998048,\n",
       " 'Cohort Label v0 Test Accuracy': 0.957833279273435,\n",
       " 'Smoking Status Val Accuracy': 0.9311475409836065,\n",
       " 'Smoking Status Test Accuracy': 0.9313725490196079,\n",
       " 'Cancer Risk Val Accuracy': 0.9233067729083665,\n",
       " 'Cancer Risk Test Accuracy': 0.9190444591904446,\n",
       " 'BMI Val MAE': 3.9232283557165877,\n",
       " 'BMI Test MAE': 3.923811241793968,\n",
       " 'Age Val MAE': 9.95463990170786,\n",
       " 'Age Test MAE': 9.717826384024695}"
      ]
     },
     "execution_count": 13,
     "metadata": {},
     "output_type": "execute_result"
    }
   ],
   "source": [
    "model_results"
   ]
  }
 ],
 "metadata": {
  "kernelspec": {
   "display_name": "Python 3",
   "language": "python",
   "name": "python3"
  },
  "language_info": {
   "codemirror_mode": {
    "name": "ipython",
    "version": 3
   },
   "file_extension": ".py",
   "mimetype": "text/x-python",
   "name": "python",
   "nbconvert_exporter": "python",
   "pygments_lexer": "ipython3",
   "version": "3.9.2"
  },
  "orig_nbformat": 4
 },
 "nbformat": 4,
 "nbformat_minor": 2
}
