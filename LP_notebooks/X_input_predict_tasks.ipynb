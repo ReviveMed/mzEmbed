{
 "cells": [
  {
   "attachments": {},
   "cell_type": "markdown",
   "metadata": {},
   "source": [
    "# Predicitng tasks from input data"
   ]
  },
  {
   "attachments": {},
   "cell_type": "markdown",
   "metadata": {},
   "source": [
    "## importing necessary modules"
   ]
  },
  {
   "cell_type": "code",
   "execution_count": 1,
   "metadata": {},
   "outputs": [
    {
     "name": "stderr",
     "output_type": "stream",
     "text": [
      "[neptune] [warning] NeptuneDeprecationWarning: You're importing the Neptune client library via the deprecated `neptune.new` module, which will be removed in a future release. Import directly from `neptune` instead.\n",
      "2024-09-13 16:32:09.583416: E external/local_xla/xla/stream_executor/cuda/cuda_fft.cc:485] Unable to register cuFFT factory: Attempting to register factory for plugin cuFFT when one has already been registered\n",
      "2024-09-13 16:32:09.604983: E external/local_xla/xla/stream_executor/cuda/cuda_dnn.cc:8454] Unable to register cuDNN factory: Attempting to register factory for plugin cuDNN when one has already been registered\n",
      "2024-09-13 16:32:09.611458: E external/local_xla/xla/stream_executor/cuda/cuda_blas.cc:1452] Unable to register cuBLAS factory: Attempting to register factory for plugin cuBLAS when one has already been registered\n",
      "2024-09-13 16:32:09.627719: I tensorflow/core/platform/cpu_feature_guard.cc:210] This TensorFlow binary is optimized to use available CPU instructions in performance-critical operations.\n",
      "To enable the following instructions: AVX2 FMA, in other operations, rebuild TensorFlow with the appropriate compiler flags.\n"
     ]
    },
    {
     "name": "stdout",
     "output_type": "stream",
     "text": [
      "DataLoader\t LabelEncoder\t TensorDataset\t accuracy_score\t f1_score\t get_finetune_input_data\t imaplib\t importlib\t label_encoder\t \n",
      "ml_code_path\t nn\t np\t optim\t optuna\t os\t pd\t precision_score\t random\t \n",
      "recall_score\t roc_auc_score\t torch\t \n"
     ]
    }
   ],
   "source": [
    "import os\n",
    "ml_code_path='/home/leilapirhaji/mz_embed_engine/ml'\n",
    "os.chdir(ml_code_path)\n",
    "\n",
    "import pandas as pd\n",
    "import importlib\n",
    "from sklearn.preprocessing import LabelEncoder\n",
    "label_encoder = LabelEncoder()\n",
    "import optuna\n",
    "import imaplib\n",
    "\n",
    "\n",
    "import torch\n",
    "import torch.nn as nn\n",
    "import torch.optim as optim\n",
    "from torch.utils.data import TensorDataset, DataLoader\n",
    "import pandas as pd\n",
    "import numpy as np\n",
    "import random\n",
    "from sklearn.metrics import precision_score, recall_score, f1_score, roc_auc_score, accuracy_score\n",
    "\n",
    "\n",
    "#importing fundtion to get encoder info and perfrom tasks \n",
    "from finetune.get_finetune_encoder import  get_finetune_input_data\n",
    "\n",
    "\n",
    "%who\n",
    "\n"
   ]
  },
  {
   "attachments": {},
   "cell_type": "markdown",
   "metadata": {},
   "source": [
    "## importing input data"
   ]
  },
  {
   "cell_type": "code",
   "execution_count": 2,
   "metadata": {},
   "outputs": [
    {
     "data": {
      "text/plain": [
       "((443, 2736), (443, 58), (149, 2736), (149, 58), (149, 2736), (149, 58))"
      ]
     },
     "execution_count": 2,
     "metadata": {},
     "output_type": "execute_result"
    }
   ],
   "source": [
    "#input data\n",
    "input_data_location='/home/leilapirhaji/PROCESSED_DATA_2'\n",
    "finetune_save_dir='/home/leilapirhaji/finetune_frozen_layer' \n",
    "\n",
    "\n",
    "#tasks to predict using encoder\n",
    "task_list_cat=['Benefit BINARY', 'Nivo Benefit BINARY', 'MSKCC BINARY', 'IMDC BINARY', 'Benefit ORDINAL', 'MSKCC ORDINAL', 'IMDC ORDINAL', 'ORR', 'Benefit', 'IMDC', 'MSKCC', 'Prior_2' ]\n",
    "\n",
    "#survival tasks\n",
    "task_list_survival=[ 'OS', 'OS_Event', 'PFS', 'PFS_Event' ]\n",
    "\n",
    "\n",
    "#get fine-tuning input data \n",
    "(X_data_train, y_data_train, X_data_val, y_data_val, X_data_test, y_data_test)=get_finetune_input_data(input_data_location)\n",
    "\n",
    "X_data_train.shape, y_data_train.shape, X_data_val.shape, y_data_val.shape, X_data_test.shape, y_data_test.shape"
   ]
  },
  {
   "cell_type": "code",
   "execution_count": 3,
   "metadata": {},
   "outputs": [
    {
     "data": {
      "text/plain": [
       "Index(['Matt Set Label', 'Previous run_order', 'Previous MV', 'Study ID',\n",
       "       'is Pediatric', 'Cohort Label v0', 'Job ID', 'Cancer Risk', 'Column',\n",
       "       'Polarity', 'Sex', 'Subject ID', 'Age', 'Diagnosis', 'Region',\n",
       "       'Smoking Status', 'Sample_Class', 'Ref', 'run_order', 'timestamp',\n",
       "       'runtime_hour', 'batch_id', 'BMI', 'Race', 'Treatment',\n",
       "       'Diagnosis Type', 'is Female', 'Type', 'Ethnicity', 'mzml path',\n",
       "       'Batch', 'SARS-CoV-2 Positive', 'Matt Set', 'Set', 'NIVO OS', 'EVER OS',\n",
       "       'Benefit BINARY', 'Nivo Benefit BINARY', 'MSKCC BINARY', 'IMDC BINARY',\n",
       "       'Benefit ORDINAL', 'MSKCC ORDINAL', 'IMDC ORDINAL', 'OS', 'OS_Event',\n",
       "       'Timepoint', 'Dose (mg/kg)', 'PFS', 'PFS_Event', 'ORR', 'Benefit',\n",
       "       'Clinical Trial Phase', 'Diagnosis Details', 'Emphysema/COPD', 'IMDC',\n",
       "       'MSKCC', 'Prior_2', 'Benzene_Exposure_Category'],\n",
       "      dtype='object')"
      ]
     },
     "execution_count": 3,
     "metadata": {},
     "output_type": "execute_result"
    }
   ],
   "source": [
    "y_data_val.columns"
   ]
  },
  {
   "cell_type": "code",
   "execution_count": 4,
   "metadata": {},
   "outputs": [
    {
     "data": {
      "text/plain": [
       "count    79.000000\n",
       "mean     28.937915\n",
       "std      20.899970\n",
       "min       0.722800\n",
       "25%      10.184850\n",
       "50%      25.527721\n",
       "75%      53.256674\n",
       "max      63.211499\n",
       "Name: NIVO OS, dtype: float64"
      ]
     },
     "execution_count": 4,
     "metadata": {},
     "output_type": "execute_result"
    }
   ],
   "source": [
    "y_data_val['NIVO OS'].describe()"
   ]
  },
  {
   "attachments": {},
   "cell_type": "markdown",
   "metadata": {},
   "source": [
    "## Predicting binary tasks"
   ]
  },
  {
   "attachments": {},
   "cell_type": "markdown",
   "metadata": {},
   "source": [
    "#### IMDC BInary"
   ]
  },
  {
   "cell_type": "code",
   "execution_count": 7,
   "metadata": {},
   "outputs": [
    {
     "name": "stdout",
     "output_type": "stream",
     "text": [
      "Test Accuracy with best model: 0.8070\n",
      "Test AUC with best model: 0.8990\n"
     ]
    },
    {
     "data": {
      "text/plain": [
       "(0.8688524590163934,\n",
       " 0.9044289044289046,\n",
       " 0.8070175438596491,\n",
       " 0.8989769820971867)"
      ]
     },
     "execution_count": 7,
     "metadata": {},
     "output_type": "execute_result"
    }
   ],
   "source": [
    "import importlib\n",
    "import finetune.latent_task_predict\n",
    "\n",
    "importlib.reload(finetune.latent_task_predict)\n",
    "from finetune.latent_task_predict import log_reg_multi_class\n",
    "\n",
    "\n",
    "task = 'IMDC BINARY'\n",
    "\n",
    "best_val_accuracy, best_val_auc, test_accuracy, test_auc= log_reg_multi_class(task, X_data_train, y_data_train, X_data_val, y_data_val, X_data_test, y_data_test)\n",
    "\n",
    "\n",
    "best_val_accuracy, best_val_auc, test_accuracy, test_auc"
   ]
  },
  {
   "cell_type": "code",
   "execution_count": null,
   "metadata": {},
   "outputs": [],
   "source": []
  },
  {
   "attachments": {},
   "cell_type": "markdown",
   "metadata": {},
   "source": [
    "## Predicting multi-class tasks "
   ]
  },
  {
   "cell_type": "code",
   "execution_count": 6,
   "metadata": {},
   "outputs": [
    {
     "name": "stdout",
     "output_type": "stream",
     "text": [
      "Evaluating task: Benefit BINARY\n",
      "Test Accuracy with best model: 0.5682\n",
      "Test AUC with best model: 0.5647\n",
      "Evaluating task: Nivo Benefit BINARY\n",
      "Test Accuracy with best model: 0.5490\n",
      "Test AUC with best model: 0.6815\n",
      "Evaluating task: MSKCC BINARY\n",
      "Test Accuracy with best model: 0.8690\n",
      "Test AUC with best model: 0.9178\n",
      "Evaluating task: IMDC BINARY\n",
      "Test Accuracy with best model: 0.8070\n",
      "Test AUC with best model: 0.8990\n",
      "Evaluating task: Benefit ORDINAL\n",
      "Test Accuracy with best model: 0.4094\n",
      "Test AUC with best model: 0.5617\n",
      "Evaluating task: MSKCC ORDINAL\n",
      "Test Accuracy with best model: 0.6242\n",
      "Test AUC with best model: 0.7793\n",
      "Evaluating task: IMDC ORDINAL\n",
      "Test Accuracy with best model: 0.6573\n",
      "Test AUC with best model: 0.7094\n",
      "Evaluating task: ORR\n",
      "Test Accuracy with best model: 0.4295\n",
      "Test AUC with best model: 0.5789\n",
      "Evaluating task: Benefit\n",
      "Test Accuracy with best model: 0.4094\n",
      "Test AUC with best model: 0.5617\n",
      "Evaluating task: IMDC\n",
      "Test Accuracy with best model: 0.6309\n",
      "Test AUC with best model: 0.6600\n",
      "Evaluating task: MSKCC\n",
      "Test Accuracy with best model: 0.6242\n",
      "Test AUC with best model: 0.7793\n",
      "Evaluating task: Prior_2\n",
      "Test Accuracy with best model: 0.7785\n",
      "Test AUC with best model: 0.5450\n"
     ]
    },
    {
     "data": {
      "text/html": [
       "<div>\n",
       "<style scoped>\n",
       "    .dataframe tbody tr th:only-of-type {\n",
       "        vertical-align: middle;\n",
       "    }\n",
       "\n",
       "    .dataframe tbody tr th {\n",
       "        vertical-align: top;\n",
       "    }\n",
       "\n",
       "    .dataframe thead th {\n",
       "        text-align: right;\n",
       "    }\n",
       "</style>\n",
       "<table border=\"1\" class=\"dataframe\">\n",
       "  <thead>\n",
       "    <tr style=\"text-align: right;\">\n",
       "      <th></th>\n",
       "      <th>Task</th>\n",
       "      <th>Best Val Accuracy</th>\n",
       "      <th>Best Val AUC</th>\n",
       "      <th>Test Accuracy</th>\n",
       "      <th>Test AUC</th>\n",
       "    </tr>\n",
       "  </thead>\n",
       "  <tbody>\n",
       "    <tr>\n",
       "      <th>0</th>\n",
       "      <td>Benefit BINARY</td>\n",
       "      <td>0.636364</td>\n",
       "      <td>0.617054</td>\n",
       "      <td>0.568182</td>\n",
       "      <td>0.564700</td>\n",
       "    </tr>\n",
       "    <tr>\n",
       "      <th>1</th>\n",
       "      <td>Nivo Benefit BINARY</td>\n",
       "      <td>0.588235</td>\n",
       "      <td>0.552469</td>\n",
       "      <td>0.549020</td>\n",
       "      <td>0.681538</td>\n",
       "    </tr>\n",
       "    <tr>\n",
       "      <th>2</th>\n",
       "      <td>MSKCC BINARY</td>\n",
       "      <td>0.804878</td>\n",
       "      <td>0.859788</td>\n",
       "      <td>0.869048</td>\n",
       "      <td>0.917833</td>\n",
       "    </tr>\n",
       "    <tr>\n",
       "      <th>3</th>\n",
       "      <td>IMDC BINARY</td>\n",
       "      <td>0.868852</td>\n",
       "      <td>0.904429</td>\n",
       "      <td>0.807018</td>\n",
       "      <td>0.898977</td>\n",
       "    </tr>\n",
       "    <tr>\n",
       "      <th>4</th>\n",
       "      <td>Benefit ORDINAL</td>\n",
       "      <td>0.442953</td>\n",
       "      <td>0.579309</td>\n",
       "      <td>0.409396</td>\n",
       "      <td>0.561714</td>\n",
       "    </tr>\n",
       "    <tr>\n",
       "      <th>5</th>\n",
       "      <td>MSKCC ORDINAL</td>\n",
       "      <td>0.671141</td>\n",
       "      <td>0.793798</td>\n",
       "      <td>0.624161</td>\n",
       "      <td>0.779283</td>\n",
       "    </tr>\n",
       "    <tr>\n",
       "      <th>6</th>\n",
       "      <td>IMDC ORDINAL</td>\n",
       "      <td>0.664336</td>\n",
       "      <td>0.761014</td>\n",
       "      <td>0.657343</td>\n",
       "      <td>0.709418</td>\n",
       "    </tr>\n",
       "    <tr>\n",
       "      <th>7</th>\n",
       "      <td>ORR</td>\n",
       "      <td>0.523490</td>\n",
       "      <td>0.642596</td>\n",
       "      <td>0.429530</td>\n",
       "      <td>0.578878</td>\n",
       "    </tr>\n",
       "    <tr>\n",
       "      <th>8</th>\n",
       "      <td>Benefit</td>\n",
       "      <td>0.442953</td>\n",
       "      <td>0.579309</td>\n",
       "      <td>0.409396</td>\n",
       "      <td>0.561714</td>\n",
       "    </tr>\n",
       "    <tr>\n",
       "      <th>9</th>\n",
       "      <td>IMDC</td>\n",
       "      <td>0.644295</td>\n",
       "      <td>0.760153</td>\n",
       "      <td>0.630872</td>\n",
       "      <td>0.660042</td>\n",
       "    </tr>\n",
       "    <tr>\n",
       "      <th>10</th>\n",
       "      <td>MSKCC</td>\n",
       "      <td>0.671141</td>\n",
       "      <td>0.793798</td>\n",
       "      <td>0.624161</td>\n",
       "      <td>0.779283</td>\n",
       "    </tr>\n",
       "    <tr>\n",
       "      <th>11</th>\n",
       "      <td>Prior_2</td>\n",
       "      <td>0.778523</td>\n",
       "      <td>0.584378</td>\n",
       "      <td>0.778523</td>\n",
       "      <td>0.545013</td>\n",
       "    </tr>\n",
       "  </tbody>\n",
       "</table>\n",
       "</div>"
      ],
      "text/plain": [
       "                   Task  Best Val Accuracy  Best Val AUC  Test Accuracy  \\\n",
       "0        Benefit BINARY           0.636364      0.617054       0.568182   \n",
       "1   Nivo Benefit BINARY           0.588235      0.552469       0.549020   \n",
       "2          MSKCC BINARY           0.804878      0.859788       0.869048   \n",
       "3           IMDC BINARY           0.868852      0.904429       0.807018   \n",
       "4       Benefit ORDINAL           0.442953      0.579309       0.409396   \n",
       "5         MSKCC ORDINAL           0.671141      0.793798       0.624161   \n",
       "6          IMDC ORDINAL           0.664336      0.761014       0.657343   \n",
       "7                   ORR           0.523490      0.642596       0.429530   \n",
       "8               Benefit           0.442953      0.579309       0.409396   \n",
       "9                  IMDC           0.644295      0.760153       0.630872   \n",
       "10                MSKCC           0.671141      0.793798       0.624161   \n",
       "11              Prior_2           0.778523      0.584378       0.778523   \n",
       "\n",
       "    Test AUC  \n",
       "0   0.564700  \n",
       "1   0.681538  \n",
       "2   0.917833  \n",
       "3   0.898977  \n",
       "4   0.561714  \n",
       "5   0.779283  \n",
       "6   0.709418  \n",
       "7   0.578878  \n",
       "8   0.561714  \n",
       "9   0.660042  \n",
       "10  0.779283  \n",
       "11  0.545013  "
      ]
     },
     "execution_count": 6,
     "metadata": {},
     "output_type": "execute_result"
    }
   ],
   "source": [
    "\n",
    "results = []\n",
    "\n",
    "# Loop over each task\n",
    "for task in task_list_cat:\n",
    "    print(f\"Evaluating task: {task}\")\n",
    "    \n",
    "    # Call the log_reg_multi_class function and get the results\n",
    "    best_val_accuracy, best_val_auc, test_accuracy, test_auc= log_reg_multi_class(task, X_data_train, y_data_train, X_data_val, y_data_val, X_data_test, y_data_test)\n",
    "\n",
    "    # Append the results to the list\n",
    "    results.append({\n",
    "        'Task': task,\n",
    "        'Best Val Accuracy': best_val_accuracy,\n",
    "        'Best Val AUC': best_val_auc,\n",
    "        'Test Accuracy': test_accuracy,\n",
    "        'Test AUC': test_auc\n",
    "    })\n",
    "\n",
    "# Convert the list of results to a pandas DataFrame\n",
    "results_df = pd.DataFrame(results)\n",
    "\n",
    "\n",
    "results_df"
   ]
  },
  {
   "cell_type": "code",
   "execution_count": null,
   "metadata": {},
   "outputs": [],
   "source": []
  },
  {
   "attachments": {},
   "cell_type": "markdown",
   "metadata": {},
   "source": [
    "## Predicting Survival task"
   ]
  },
  {
   "attachments": {},
   "cell_type": "markdown",
   "metadata": {},
   "source": [
    "### OS prediction"
   ]
  },
  {
   "attachments": {},
   "cell_type": "markdown",
   "metadata": {},
   "source": [
    "#### L2 COX"
   ]
  },
  {
   "cell_type": "code",
   "execution_count": 10,
   "metadata": {},
   "outputs": [
    {
     "data": {
      "text/plain": [
       "(0.715054309207187, 0.6761040773601834, {'penalizer': 10, 'l1_ratio': 0})"
      ]
     },
     "execution_count": 10,
     "metadata": {},
     "output_type": "execute_result"
    }
   ],
   "source": [
    "import importlib\n",
    "\n",
    "import finetune.latent_task_predict\n",
    "importlib.reload(finetune.latent_task_predict)\n",
    "from finetune.latent_task_predict import cox_proportional_hazards\n",
    "\n",
    "\n",
    "task = 'OS'\n",
    "task_event = 'OS_Event'\n",
    "\n",
    "\n",
    "#Pass the filtered data to the model\n",
    "(best_val_c_index, best_test_c_index, best_params)= cox_proportional_hazards(X_data_train, y_data_train[task], y_data_train[task_event], X_data_val, y_data_val[task], y_data_val[task_event], X_data_test, y_data_test[task], y_data_test[task_event])\n",
    "\n",
    "best_val_c_index, best_test_c_index, best_params"
   ]
  },
  {
   "attachments": {},
   "cell_type": "markdown",
   "metadata": {},
   "source": [
    "#### L1 COX"
   ]
  },
  {
   "cell_type": "code",
   "execution_count": 10,
   "metadata": {},
   "outputs": [
    {
     "name": "stderr",
     "output_type": "stream",
     "text": [
      "/home/leilapirhaji/mz_embed_engine/ml/finetune/latent_task_predict.py:251: ConvergenceWarning: Optimization terminated early, you might want to increase the number of iterations (max_iter=100000).\n",
      "  \n",
      "/home/leilapirhaji/mz_embed_engine/ml/finetune/latent_task_predict.py:251: UserWarning: all coefficients are zero, consider decreasing alpha.\n",
      "  \n",
      "/home/leilapirhaji/mz_embed_engine/ml/finetune/latent_task_predict.py:251: UserWarning: all coefficients are zero, consider decreasing alpha.\n",
      "  \n"
     ]
    },
    {
     "data": {
      "text/plain": [
       "(0.7081514567049031, 0.6460970989931213, 0.1)"
      ]
     },
     "execution_count": 10,
     "metadata": {},
     "output_type": "execute_result"
    }
   ],
   "source": [
    "import finetune.latent_task_predict\n",
    "importlib.reload(finetune.latent_task_predict)\n",
    "from finetune.latent_task_predict import cox_proportional_hazards_l1_sksurv\n",
    "\n",
    "\n",
    "task = 'OS'\n",
    "task_event = 'OS_Event'\n",
    "\n",
    "\n",
    "#Pass the filtered data to the model\n",
    "(best_val_c_index, best_test_c_index, best_params)= cox_proportional_hazards_l1_sksurv(X_data_train, y_data_train[task], y_data_train[task_event], X_data_val, y_data_val[task], y_data_val[task_event], X_data_test, y_data_test[task], y_data_test[task_event])\n",
    "\n",
    "best_val_c_index, best_test_c_index, best_params"
   ]
  },
  {
   "attachments": {},
   "cell_type": "markdown",
   "metadata": {},
   "source": [
    "### Predict Nivo OS"
   ]
  },
  {
   "attachments": {},
   "cell_type": "markdown",
   "metadata": {},
   "source": [
    "#### L1 COX"
   ]
  },
  {
   "cell_type": "code",
   "execution_count": 12,
   "metadata": {},
   "outputs": [
    {
     "name": "stderr",
     "output_type": "stream",
     "text": [
      "/home/leilapirhaji/mz_embed_engine/ml/finetune/latent_task_predict.py:268: ConvergenceWarning: Optimization terminated early, you might want to increase the number of iterations (max_iter=100000).\n",
      "  # Calculate the C-index on the test data\n",
      "/home/leilapirhaji/mz_embed_engine/ml/finetune/latent_task_predict.py:268: UserWarning: all coefficients are zero, consider decreasing alpha.\n",
      "  # Calculate the C-index on the test data\n",
      "/home/leilapirhaji/mz_embed_engine/ml/finetune/latent_task_predict.py:268: UserWarning: all coefficients are zero, consider decreasing alpha.\n",
      "  # Calculate the C-index on the test data\n"
     ]
    },
    {
     "data": {
      "text/plain": [
       "(0.6785714285714286, 0.5895084372707263, 0.01)"
      ]
     },
     "execution_count": 12,
     "metadata": {},
     "output_type": "execute_result"
    }
   ],
   "source": [
    "import finetune.latent_task_predict\n",
    "importlib.reload(finetune.latent_task_predict)\n",
    "from finetune.latent_task_predict import cox_proportional_hazards_l1_sksurv\n",
    "\n",
    "\n",
    "task = 'NIVO OS'\n",
    "task_event = 'OS_Event'\n",
    "\n",
    "\n",
    "#Pass the filtered data to the model\n",
    "(best_val_c_index, best_test_c_index, best_params)= cox_proportional_hazards_l1_sksurv(X_data_train, y_data_train[task], y_data_train[task_event], X_data_val, y_data_val[task], y_data_val[task_event], X_data_test, y_data_test[task], y_data_test[task_event])\n",
    "\n",
    "best_val_c_index, best_test_c_index, best_params"
   ]
  },
  {
   "attachments": {},
   "cell_type": "markdown",
   "metadata": {},
   "source": [
    "#### L2 COX"
   ]
  },
  {
   "cell_type": "code",
   "execution_count": null,
   "metadata": {},
   "outputs": [],
   "source": [
    "import importlib\n",
    "\n",
    "import finetune.latent_task_predict\n",
    "importlib.reload(finetune.latent_task_predict)\n",
    "from finetune.latent_task_predicte import cox_proportional_hazards\n",
    "\n",
    "\n",
    "task = 'NIVO OS'\n",
    "task_event = 'OS_Event'\n",
    "\n",
    "\n",
    "#Pass the filtered data to the model\n",
    "(best_val_c_index, best_test_c_index, best_params)= cox_proportional_hazards(X_data_train, y_data_train[task], y_data_train[task_event], X_data_val, y_data_val[task], y_data_val[task_event], X_data_test, y_data_test[task], y_data_test[task_event])\n",
    "\n",
    "best_val_c_index, best_test_c_index, best_params"
   ]
  },
  {
   "attachments": {},
   "cell_type": "markdown",
   "metadata": {},
   "source": [
    "### Predcit Evero OS"
   ]
  },
  {
   "attachments": {},
   "cell_type": "markdown",
   "metadata": {},
   "source": [
    "#### L1 COX"
   ]
  },
  {
   "cell_type": "code",
   "execution_count": 13,
   "metadata": {},
   "outputs": [
    {
     "name": "stderr",
     "output_type": "stream",
     "text": [
      "/home/leilapirhaji/mz_embed_engine/ml/finetune/latent_task_predict.py:268: ConvergenceWarning: Optimization terminated early, you might want to increase the number of iterations (max_iter=100000).\n",
      "  # Calculate the C-index on the test data\n",
      "/home/leilapirhaji/mz_embed_engine/ml/finetune/latent_task_predict.py:268: ConvergenceWarning: Optimization terminated early, you might want to increase the number of iterations (max_iter=100000).\n",
      "  # Calculate the C-index on the test data\n",
      "/home/leilapirhaji/mz_embed_engine/ml/finetune/latent_task_predict.py:268: UserWarning: all coefficients are zero, consider decreasing alpha.\n",
      "  # Calculate the C-index on the test data\n",
      "/home/leilapirhaji/mz_embed_engine/ml/finetune/latent_task_predict.py:268: UserWarning: all coefficients are zero, consider decreasing alpha.\n",
      "  # Calculate the C-index on the test data\n"
     ]
    },
    {
     "data": {
      "text/plain": [
       "(0.7474747474747475, 0.6282560706401766, 0.1)"
      ]
     },
     "execution_count": 13,
     "metadata": {},
     "output_type": "execute_result"
    }
   ],
   "source": [
    "import finetune.latent_task_predict\n",
    "importlib.reload(finetune.latent_task_predict)\n",
    "from finetune.latent_task_predict import cox_proportional_hazards_l1_sksurv\n",
    "\n",
    "\n",
    "task = 'EVER OS'\n",
    "task_event = 'OS_Event'\n",
    "\n",
    "\n",
    "#Pass the filtered data to the model\n",
    "(best_val_c_index, best_test_c_index, best_params)= cox_proportional_hazards_l1_sksurv(X_data_train, y_data_train[task], y_data_train[task_event], X_data_val, y_data_val[task], y_data_val[task_event], X_data_test, y_data_test[task], y_data_test[task_event])\n",
    "\n",
    "best_val_c_index, best_test_c_index, best_params"
   ]
  },
  {
   "attachments": {},
   "cell_type": "markdown",
   "metadata": {},
   "source": [
    "#### L2 COX"
   ]
  },
  {
   "cell_type": "code",
   "execution_count": null,
   "metadata": {},
   "outputs": [],
   "source": [
    "import importlib\n",
    "\n",
    "import finetune.latent_task_predict\n",
    "importlib.reload(finetune.latent_task_predict)\n",
    "from finetune.latent_task_predicte import cox_proportional_hazards\n",
    "\n",
    "\n",
    "task = 'EVER OS'\n",
    "task_event = 'OS_Event'\n",
    "\n",
    "\n",
    "#Pass the filtered data to the model\n",
    "(best_val_c_index, best_test_c_index, best_params)= cox_proportional_hazards(X_data_train, y_data_train[task], y_data_train[task_event], X_data_val, y_data_val[task], y_data_val[task_event], X_data_test, y_data_test[task], y_data_test[task_event])\n",
    "\n",
    "best_val_c_index, best_test_c_index, best_params"
   ]
  },
  {
   "attachments": {},
   "cell_type": "markdown",
   "metadata": {},
   "source": [
    "### PFS prediction "
   ]
  },
  {
   "attachments": {},
   "cell_type": "markdown",
   "metadata": {},
   "source": [
    "#### L1 COX"
   ]
  },
  {
   "cell_type": "code",
   "execution_count": 14,
   "metadata": {},
   "outputs": [
    {
     "name": "stderr",
     "output_type": "stream",
     "text": [
      "/home/leilapirhaji/mz_embed_engine/ml/finetune/latent_task_predict.py:268: ConvergenceWarning: Optimization terminated early, you might want to increase the number of iterations (max_iter=100000).\n",
      "  # Calculate the C-index on the test data\n",
      "/home/leilapirhaji/mz_embed_engine/ml/finetune/latent_task_predict.py:268: UserWarning: all coefficients are zero, consider decreasing alpha.\n",
      "  # Calculate the C-index on the test data\n",
      "/home/leilapirhaji/mz_embed_engine/ml/finetune/latent_task_predict.py:268: UserWarning: all coefficients are zero, consider decreasing alpha.\n",
      "  # Calculate the C-index on the test data\n"
     ]
    },
    {
     "data": {
      "text/plain": [
       "(0.5910340452526961, 0.5493773213895565, 0.1)"
      ]
     },
     "execution_count": 14,
     "metadata": {},
     "output_type": "execute_result"
    }
   ],
   "source": [
    "import finetune.latent_task_predict\n",
    "importlib.reload(finetune.latent_task_predict)\n",
    "from finetune.latent_task_predict import cox_proportional_hazards_l1_sksurv\n",
    "\n",
    "task = 'PFS'\n",
    "task_event = 'PFS_Event'\n",
    "\n",
    "#Pass the filtered data to the model\n",
    "(best_val_c_index, best_test_c_index, best_params)= cox_proportional_hazards_l1_sksurv(X_data_train, y_data_train[task], y_data_train[task_event], X_data_val, y_data_val[task], y_data_val[task_event], X_data_test, y_data_test[task], y_data_test[task_event])\n",
    "\n",
    "best_val_c_index, best_test_c_index, best_params"
   ]
  },
  {
   "attachments": {},
   "cell_type": "markdown",
   "metadata": {},
   "source": [
    "#### L2 COX"
   ]
  },
  {
   "cell_type": "code",
   "execution_count": 7,
   "metadata": {},
   "outputs": [
    {
     "data": {
      "text/plain": [
       "(0.6001268767181223, 0.5596460563688005, {'penalizer': 10, 'l1_ratio': 0})"
      ]
     },
     "execution_count": 7,
     "metadata": {},
     "output_type": "execute_result"
    }
   ],
   "source": [
    "import importlib\n",
    "\n",
    "import finetune.latent_task_predict\n",
    "importlib.reload(finetune.latent_task_predict)\n",
    "from finetune.latent_task_predict import cox_proportional_hazards\n",
    "\n",
    "\n",
    "task = 'PFS'\n",
    "task_event = 'PFS_Event'\n",
    "\n",
    "\n",
    "#Pass the filtered data to the model\n",
    "(best_val_c_index, best_test_c_index, best_params)= cox_proportional_hazards(X_data_train, y_data_train[task], y_data_train[task_event], X_data_val, y_data_val[task], y_data_val[task_event], X_data_test, y_data_test[task], y_data_test[task_event])\n",
    "\n",
    "best_val_c_index, best_test_c_index, best_params"
   ]
  },
  {
   "attachments": {},
   "cell_type": "markdown",
   "metadata": {},
   "source": []
  },
  {
   "cell_type": "code",
   "execution_count": null,
   "metadata": {},
   "outputs": [],
   "source": []
  }
 ],
 "metadata": {
  "kernelspec": {
   "display_name": "Python 3",
   "language": "python",
   "name": "python3"
  },
  "language_info": {
   "codemirror_mode": {
    "name": "ipython",
    "version": 3
   },
   "file_extension": ".py",
   "mimetype": "text/x-python",
   "name": "python",
   "nbconvert_exporter": "python",
   "pygments_lexer": "ipython3",
   "version": "3.9.2"
  },
  "orig_nbformat": 4
 },
 "nbformat": 4,
 "nbformat_minor": 2
}
