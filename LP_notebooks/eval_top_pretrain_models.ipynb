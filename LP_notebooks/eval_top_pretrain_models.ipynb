{
 "cells": [
  {
   "attachments": {},
   "cell_type": "markdown",
   "metadata": {},
   "source": [
    "# Getting the latent space of pre-trained models and predict task\n"
   ]
  },
  {
   "attachments": {},
   "cell_type": "markdown",
   "metadata": {},
   "source": [
    "## Importing the functions & libraries"
   ]
  },
  {
   "cell_type": "code",
   "execution_count": 1,
   "metadata": {},
   "outputs": [
    {
     "name": "stderr",
     "output_type": "stream",
     "text": [
      "[neptune] [warning] NeptuneDeprecationWarning: You're importing the Neptune client library via the deprecated `neptune.new` module, which will be removed in a future release. Import directly from `neptune` instead.\n",
      "2024-09-20 00:33:18.780335: E external/local_xla/xla/stream_executor/cuda/cuda_fft.cc:485] Unable to register cuFFT factory: Attempting to register factory for plugin cuFFT when one has already been registered\n",
      "2024-09-20 00:33:18.802645: E external/local_xla/xla/stream_executor/cuda/cuda_dnn.cc:8454] Unable to register cuDNN factory: Attempting to register factory for plugin cuDNN when one has already been registered\n",
      "2024-09-20 00:33:18.809461: E external/local_xla/xla/stream_executor/cuda/cuda_blas.cc:1452] Unable to register cuBLAS factory: Attempting to register factory for plugin cuBLAS when one has already been registered\n",
      "2024-09-20 00:33:18.826561: I tensorflow/core/platform/cpu_feature_guard.cc:210] This TensorFlow binary is optimized to use available CPU instructions in performance-critical operations.\n",
      "To enable the following instructions: AVX2 FMA, in other operations, rebuild TensorFlow with the appropriate compiler flags.\n"
     ]
    },
    {
     "name": "stdout",
     "output_type": "stream",
     "text": [
      "DataLoader\t LabelEncoder\t TensorDataset\t accuracy_score\t f1_score\t get_pretrain_encoder_from_modelID\t get_pretrain_input_data\t imaplib\t importlib\t \n",
      "label_encoder\t log_reg_multi_class\t ml_code_path\t nn\t np\t optim\t optuna\t os\t pd\t \n",
      "precision_score\t random\t recall_score\t ridge_regression_predict\t roc_auc_score\t torch\t \n"
     ]
    }
   ],
   "source": [
    "import os\n",
    "ml_code_path='/home/leilapirhaji/mz_embed_engine/ml'\n",
    "os.chdir(ml_code_path)\n",
    "\n",
    "import pandas as pd\n",
    "import importlib\n",
    "from sklearn.preprocessing import LabelEncoder\n",
    "label_encoder = LabelEncoder()\n",
    "import optuna\n",
    "import imaplib\n",
    "\n",
    "\n",
    "import torch\n",
    "import torch.nn as nn\n",
    "import torch.optim as optim\n",
    "from torch.utils.data import TensorDataset, DataLoader\n",
    "import pandas as pd\n",
    "import numpy as np\n",
    "import random\n",
    "from sklearn.metrics import precision_score, recall_score, f1_score, roc_auc_score, accuracy_score\n",
    "\n",
    "\n",
    "from pretrain_neptune.get_pretrain_encoder import get_pretrain_encoder_from_modelID, get_pretrain_input_data\n",
    "from pretrain.latent_task_predict import log_reg_multi_class, ridge_regression_predict\n",
    "\n",
    "\n",
    "%who\n",
    "\n"
   ]
  },
  {
   "attachments": {},
   "cell_type": "markdown",
   "metadata": {},
   "source": [
    "## Importing the pretrain encoder from model ID"
   ]
  },
  {
   "cell_type": "code",
   "execution_count": 4,
   "metadata": {},
   "outputs": [
    {
     "name": "stderr",
     "output_type": "stream",
     "text": [
      "/home/leilapirhaji/mz_embed_engine/ml/pretrain_neptune/get_pretrain_encoder.py:72: DtypeWarning: Columns (1,8,28,30,31,32,33,34,46,50,51,52,53,54,55,56,57,58) have mixed types. Specify dtype option on import or set low_memory=False.\n",
      "  y_data_all = pd.read_csv(pretrain_y_all, index_col=0)\n"
     ]
    },
    {
     "data": {
      "text/plain": [
       "((20548, 2736),\n",
       " (20548, 58),\n",
       " (14391, 2736),\n",
       " (14391, 58),\n",
       " (3074, 2736),\n",
       " (3074, 58),\n",
       " (3083, 2736),\n",
       " (3083, 58))"
      ]
     },
     "execution_count": 4,
     "metadata": {},
     "output_type": "execute_result"
    }
   ],
   "source": [
    "# getting the input data\n",
    "input_data_location='/home/leilapirhaji/PROCESSED_DATA'\n",
    "(X_data_all, y_data_all, X_data_train, y_data_train, X_data_val, y_data_val, X_data_test, y_data_test)=  get_pretrain_input_data(input_data_location)\n",
    "\n",
    "X_data_all.shape, y_data_all.shape, X_data_train.shape, y_data_train.shape, X_data_val.shape, y_data_val.shape, X_data_test.shape, y_data_test.shape"
   ]
  },
  {
   "cell_type": "code",
   "execution_count": 9,
   "metadata": {},
   "outputs": [
    {
     "name": "stderr",
     "output_type": "stream",
     "text": [
      "/home/leilapirhaji/mz_embed_engine/ml/pretrain_neptune/get_pretrain_encoder.py:72: DtypeWarning: Columns (1,8,28,30,31,32,33,34,46,50,51,52,53,54,55,56,57,58) have mixed types. Specify dtype option on import or set low_memory=False.\n",
      "  y_data_all = pd.read_csv(pretrain_y_all, index_col=0)\n",
      "[neptune] [warning] NeptuneWarning: The following monitoring options are disabled by default in interactive sessions: 'capture_stdout', 'capture_stderr', 'capture_traceback', and 'capture_hardware_metrics'. To enable them, set each parameter to 'True' when initializing the run. The monitoring will continue until you call run.stop() or the kernel stops. Also note: Your source files can only be tracked if you pass the path(s) to the 'source_code' argument. For help, see the Neptune docs: https://docs.neptune.ai/logging/source_code/\n"
     ]
    },
    {
     "name": "stdout",
     "output_type": "stream",
     "text": [
      "[neptune] [info   ] Neptune initialized. Open in the app: https://app.neptune.ai/revivemed/RCC/e/RCC-37783\n"
     ]
    },
    {
     "data": {
      "application/vnd.jupyter.widget-view+json": {
       "model_id": "468f0dfa340549df8eb4ff0c89578267",
       "version_major": 2,
       "version_minor": 0
      },
      "text/plain": [
       "Fetching file...: 0 [00:00, ?/s]"
      ]
     },
     "metadata": {},
     "output_type": "display_data"
    },
    {
     "name": "stdout",
     "output_type": "stream",
     "text": [
      "[neptune] [info   ] Shutting down background jobs, please wait a moment...\n",
      "[neptune] [info   ] Done!\n",
      "[neptune] [info   ] All 0 operations synced, thanks for waiting!\n",
      "[neptune] [info   ] Explore the metadata in the Neptune app: https://app.neptune.ai/revivemed/RCC/e/RCC-37783/metadata\n"
     ]
    }
   ],
   "source": [
    "top_pretrain_models=['RCC-37832', 'RCC-38232', 'RCC-37783']\n",
    "input_data_location='/home/leilapirhaji/PROCESSED_DATA'\n",
    "pretrain_save_dir='/home/leilapirhaji/top_pretrained_models'\n",
    "\n",
    "pretrain_model='RCC-37783'\n",
    "\n",
    "# getting the latent space for the model\n",
    "(pretrain_encoder, Z_all, Z_train, Z_val, Z_test, y_data_all, y_data_train, y_data_val, y_data_test)=get_pretrain_encoder_from_modelID(pretrain_model, input_data_location, pretrain_save_dir, ml_code_path)\n",
    "\n"
   ]
  },
  {
   "cell_type": "code",
   "execution_count": 11,
   "metadata": {},
   "outputs": [
    {
     "name": "stdout",
     "output_type": "stream",
     "text": [
      "(20548, 464) (14391, 464) (3074, 464) (3083, 464) (20548, 58) (14391, 58) (3074, 58) (3083, 58)\n"
     ]
    }
   ],
   "source": [
    "print (Z_all.shape, Z_train.shape, Z_val.shape, Z_test.shape, y_data_all.shape, y_data_train.shape, y_data_val.shape, y_data_test.shape)"
   ]
  },
  {
   "attachments": {},
   "cell_type": "markdown",
   "metadata": {},
   "source": [
    "## Evaluating the latent Space"
   ]
  },
  {
   "attachments": {},
   "cell_type": "markdown",
   "metadata": {},
   "source": [
    "## Recon loss calcualtion\n"
   ]
  },
  {
   "cell_type": "code",
   "execution_count": 22,
   "metadata": {},
   "outputs": [
    {
     "name": "stdout",
     "output_type": "stream",
     "text": [
      "Device: cuda\n"
     ]
    },
    {
     "data": {
      "text/plain": [
       "{'train_recon_loss': 0.2652173936367035,\n",
       " 'train_kl_loss': 0.045504480600357056,\n",
       " 'val_recon_loss': 0.3058781921863556,\n",
       " 'val_kl_loss': 0.041779227554798126,\n",
       " 'test_recon_loss': 0.31078773736953735,\n",
       " 'test_kl_loss': 0.041695065796375275}"
      ]
     },
     "execution_count": 22,
     "metadata": {},
     "output_type": "execute_result"
    }
   ],
   "source": [
    "import importlib\n",
    "import finetune.eval_finetune_latent_local_main\n",
    "importlib.reload(finetune.eval_finetune_latent_local_main)\n",
    "\n",
    "device = torch.device('cuda' if torch.cuda.is_available() else 'cpu')\n",
    "print (f'Device: {device}')\n",
    "\n",
    "from finetune.eval_finetune_latent_local_main import compute_losses\n",
    "\n",
    "losses=compute_losses(pretrain_encoder, X_data_train, X_data_val, X_data_test, device)\n",
    "losses"
   ]
  },
  {
   "cell_type": "code",
   "execution_count": 25,
   "metadata": {},
   "outputs": [
    {
     "data": {
      "text/plain": [
       "(0.26547321677207947,\n",
       " 0.045504480600357056,\n",
       " 0.3056609332561493,\n",
       " 0.041779227554798126,\n",
       " 0.3100273609161377,\n",
       " 0.041695065796375275)"
      ]
     },
     "execution_count": 25,
     "metadata": {},
     "output_type": "execute_result"
    }
   ],
   "source": [
    "import importlib\n",
    "import pretrain.eval_pretrained_VAE\n",
    "importlib.reload(pretrain.eval_pretrained_VAE)\n",
    "from pretrain.eval_pretrained_VAE import calculating_recon_loss\n",
    "(recon_loss_train, kl_loss_train, recon_loss_val, kl_loss_val, recon_loss_test, kl_loss_test)= calculating_recon_loss(pretrain_encoder, X_data_train, X_data_val, X_data_test)\n",
    "\n",
    "recon_loss_train, kl_loss_train, recon_loss_val, kl_loss_val, recon_loss_test, kl_loss_test"
   ]
  },
  {
   "attachments": {},
   "cell_type": "markdown",
   "metadata": {},
   "source": [
    "## visulaizeing Latent space"
   ]
  },
  {
   "cell_type": "code",
   "execution_count": null,
   "metadata": {},
   "outputs": [],
   "source": [
    "import importlib\n",
    "import pretrain.get_pretrain_encoder\n",
    "importlib.reload(pretrain.get_pretrain_encoder)\n",
    "\n",
    "from pretrain.get_pretrain_encoder import visualize_latent_space_multiple_tasks\n",
    "\n"
   ]
  },
  {
   "cell_type": "code",
   "execution_count": 110,
   "metadata": {},
   "outputs": [
    {
     "data": {
      "text/plain": [
       "45"
      ]
     },
     "execution_count": 110,
     "metadata": {},
     "output_type": "execute_result"
    }
   ],
   "source": [
    "finetune_save_dir='/home/leilapirhaji/finetune_VAE_models'\n",
    "#get only the directories in the finetune_save_dir\n",
    "pretrain_model_list_file='/home/leilapirhaji/pretrained_models_to_finetune.txt'\n",
    "# Read the text file into a DataFrame\n",
    "pretrain_model_list = pd.read_csv(pretrain_model_list_file, header=None)[0]\n",
    "pretrain_model_list = pretrain_model_list.dropna().tolist()\n",
    "len(pretrain_model_list)"
   ]
  },
  {
   "cell_type": "code",
   "execution_count": 113,
   "metadata": {},
   "outputs": [
    {
     "data": {
      "text/html": [
       "<div>\n",
       "<style scoped>\n",
       "    .dataframe tbody tr th:only-of-type {\n",
       "        vertical-align: middle;\n",
       "    }\n",
       "\n",
       "    .dataframe tbody tr th {\n",
       "        vertical-align: top;\n",
       "    }\n",
       "\n",
       "    .dataframe thead th {\n",
       "        text-align: right;\n",
       "    }\n",
       "</style>\n",
       "<table border=\"1\" class=\"dataframe\">\n",
       "  <thead>\n",
       "    <tr style=\"text-align: right;\">\n",
       "      <th></th>\n",
       "      <th>Unnamed: 0</th>\n",
       "      <th>0</th>\n",
       "      <th>1</th>\n",
       "      <th>2</th>\n",
       "      <th>3</th>\n",
       "      <th>4</th>\n",
       "      <th>5</th>\n",
       "      <th>6</th>\n",
       "      <th>7</th>\n",
       "      <th>8</th>\n",
       "      <th>...</th>\n",
       "      <th>502</th>\n",
       "      <th>503</th>\n",
       "      <th>504</th>\n",
       "      <th>505</th>\n",
       "      <th>506</th>\n",
       "      <th>507</th>\n",
       "      <th>508</th>\n",
       "      <th>509</th>\n",
       "      <th>510</th>\n",
       "      <th>511</th>\n",
       "    </tr>\n",
       "  </thead>\n",
       "  <tbody>\n",
       "    <tr>\n",
       "      <th>0</th>\n",
       "      <td>F088_210802_M462_205.mzML</td>\n",
       "      <td>-0.012116</td>\n",
       "      <td>-0.012744</td>\n",
       "      <td>0.015213</td>\n",
       "      <td>0.002109</td>\n",
       "      <td>0.044670</td>\n",
       "      <td>-0.039683</td>\n",
       "      <td>-0.059480</td>\n",
       "      <td>0.008705</td>\n",
       "      <td>-0.027577</td>\n",
       "      <td>...</td>\n",
       "      <td>0.012742</td>\n",
       "      <td>-0.055638</td>\n",
       "      <td>-0.009296</td>\n",
       "      <td>-0.047339</td>\n",
       "      <td>0.067312</td>\n",
       "      <td>0.002016</td>\n",
       "      <td>0.011414</td>\n",
       "      <td>-0.018108</td>\n",
       "      <td>0.021512</td>\n",
       "      <td>-0.011637</td>\n",
       "    </tr>\n",
       "    <tr>\n",
       "      <th>1</th>\n",
       "      <td>F088_210811_M462_101.mzML</td>\n",
       "      <td>-0.044780</td>\n",
       "      <td>0.018768</td>\n",
       "      <td>-0.009242</td>\n",
       "      <td>0.052131</td>\n",
       "      <td>-0.011590</td>\n",
       "      <td>-0.006703</td>\n",
       "      <td>-0.011710</td>\n",
       "      <td>0.036910</td>\n",
       "      <td>-0.031918</td>\n",
       "      <td>...</td>\n",
       "      <td>0.012081</td>\n",
       "      <td>-0.007349</td>\n",
       "      <td>0.032263</td>\n",
       "      <td>0.019297</td>\n",
       "      <td>0.011977</td>\n",
       "      <td>-0.028697</td>\n",
       "      <td>0.063601</td>\n",
       "      <td>0.035323</td>\n",
       "      <td>0.035963</td>\n",
       "      <td>-0.029250</td>\n",
       "    </tr>\n",
       "    <tr>\n",
       "      <th>2</th>\n",
       "      <td>F088_210802_M462_121.mzML</td>\n",
       "      <td>-0.037593</td>\n",
       "      <td>0.028535</td>\n",
       "      <td>-0.027732</td>\n",
       "      <td>-0.000944</td>\n",
       "      <td>0.014811</td>\n",
       "      <td>-0.059200</td>\n",
       "      <td>-0.055738</td>\n",
       "      <td>0.025544</td>\n",
       "      <td>0.002217</td>\n",
       "      <td>...</td>\n",
       "      <td>0.022528</td>\n",
       "      <td>-0.052873</td>\n",
       "      <td>0.004178</td>\n",
       "      <td>-0.005779</td>\n",
       "      <td>0.073328</td>\n",
       "      <td>0.000846</td>\n",
       "      <td>0.006965</td>\n",
       "      <td>0.025408</td>\n",
       "      <td>0.025243</td>\n",
       "      <td>-0.019008</td>\n",
       "    </tr>\n",
       "    <tr>\n",
       "      <th>3</th>\n",
       "      <td>F088_210808_M462_249.mzML</td>\n",
       "      <td>-0.011644</td>\n",
       "      <td>0.013144</td>\n",
       "      <td>0.032520</td>\n",
       "      <td>0.010189</td>\n",
       "      <td>0.020760</td>\n",
       "      <td>-0.010091</td>\n",
       "      <td>-0.016223</td>\n",
       "      <td>0.016085</td>\n",
       "      <td>-0.022232</td>\n",
       "      <td>...</td>\n",
       "      <td>-0.001954</td>\n",
       "      <td>-0.048695</td>\n",
       "      <td>0.005317</td>\n",
       "      <td>-0.009109</td>\n",
       "      <td>0.036391</td>\n",
       "      <td>0.016094</td>\n",
       "      <td>0.024453</td>\n",
       "      <td>0.000510</td>\n",
       "      <td>0.017594</td>\n",
       "      <td>0.011256</td>\n",
       "    </tr>\n",
       "    <tr>\n",
       "      <th>4</th>\n",
       "      <td>F088_210802_M462_251.mzML</td>\n",
       "      <td>-0.022890</td>\n",
       "      <td>0.004960</td>\n",
       "      <td>0.004098</td>\n",
       "      <td>-0.013768</td>\n",
       "      <td>0.014157</td>\n",
       "      <td>-0.022691</td>\n",
       "      <td>-0.028458</td>\n",
       "      <td>0.007696</td>\n",
       "      <td>0.001346</td>\n",
       "      <td>...</td>\n",
       "      <td>0.004858</td>\n",
       "      <td>-0.025887</td>\n",
       "      <td>0.001140</td>\n",
       "      <td>-0.001780</td>\n",
       "      <td>0.007980</td>\n",
       "      <td>0.025074</td>\n",
       "      <td>0.028331</td>\n",
       "      <td>0.022751</td>\n",
       "      <td>-0.015472</td>\n",
       "      <td>0.014215</td>\n",
       "    </tr>\n",
       "    <tr>\n",
       "      <th>...</th>\n",
       "      <td>...</td>\n",
       "      <td>...</td>\n",
       "      <td>...</td>\n",
       "      <td>...</td>\n",
       "      <td>...</td>\n",
       "      <td>...</td>\n",
       "      <td>...</td>\n",
       "      <td>...</td>\n",
       "      <td>...</td>\n",
       "      <td>...</td>\n",
       "      <td>...</td>\n",
       "      <td>...</td>\n",
       "      <td>...</td>\n",
       "      <td>...</td>\n",
       "      <td>...</td>\n",
       "      <td>...</td>\n",
       "      <td>...</td>\n",
       "      <td>...</td>\n",
       "      <td>...</td>\n",
       "      <td>...</td>\n",
       "      <td>...</td>\n",
       "    </tr>\n",
       "    <tr>\n",
       "      <th>20543</th>\n",
       "      <td>24678P_4x_Batch_18_C.mzML</td>\n",
       "      <td>-0.000845</td>\n",
       "      <td>0.017901</td>\n",
       "      <td>0.021039</td>\n",
       "      <td>0.006173</td>\n",
       "      <td>-0.001539</td>\n",
       "      <td>0.003555</td>\n",
       "      <td>-0.020716</td>\n",
       "      <td>0.011658</td>\n",
       "      <td>-0.013694</td>\n",
       "      <td>...</td>\n",
       "      <td>-0.003979</td>\n",
       "      <td>-0.014604</td>\n",
       "      <td>-0.002520</td>\n",
       "      <td>-0.028454</td>\n",
       "      <td>0.011305</td>\n",
       "      <td>-0.008400</td>\n",
       "      <td>0.002832</td>\n",
       "      <td>-0.018369</td>\n",
       "      <td>0.003462</td>\n",
       "      <td>-0.000630</td>\n",
       "    </tr>\n",
       "    <tr>\n",
       "      <th>20544</th>\n",
       "      <td>22623G_2x_Batch_12_C.mzML</td>\n",
       "      <td>-0.001608</td>\n",
       "      <td>0.001148</td>\n",
       "      <td>0.018269</td>\n",
       "      <td>0.015156</td>\n",
       "      <td>-0.004328</td>\n",
       "      <td>-0.007496</td>\n",
       "      <td>-0.030777</td>\n",
       "      <td>0.007229</td>\n",
       "      <td>-0.007556</td>\n",
       "      <td>...</td>\n",
       "      <td>-0.023694</td>\n",
       "      <td>-0.016688</td>\n",
       "      <td>0.004787</td>\n",
       "      <td>-0.019279</td>\n",
       "      <td>0.005315</td>\n",
       "      <td>-0.008436</td>\n",
       "      <td>0.001843</td>\n",
       "      <td>-0.020471</td>\n",
       "      <td>0.007727</td>\n",
       "      <td>-0.003372</td>\n",
       "    </tr>\n",
       "    <tr>\n",
       "      <th>20545</th>\n",
       "      <td>22375N_2x_Batch_11_A.mzML</td>\n",
       "      <td>0.001526</td>\n",
       "      <td>-0.005188</td>\n",
       "      <td>0.023454</td>\n",
       "      <td>-0.006104</td>\n",
       "      <td>0.003969</td>\n",
       "      <td>-0.010880</td>\n",
       "      <td>-0.019838</td>\n",
       "      <td>0.004644</td>\n",
       "      <td>-0.021066</td>\n",
       "      <td>...</td>\n",
       "      <td>0.003956</td>\n",
       "      <td>-0.024900</td>\n",
       "      <td>0.003625</td>\n",
       "      <td>-0.004619</td>\n",
       "      <td>0.001681</td>\n",
       "      <td>0.014717</td>\n",
       "      <td>0.024329</td>\n",
       "      <td>-0.020768</td>\n",
       "      <td>0.000715</td>\n",
       "      <td>-0.006457</td>\n",
       "    </tr>\n",
       "    <tr>\n",
       "      <th>20546</th>\n",
       "      <td>18468S_4x_Batch_12_A.mzML</td>\n",
       "      <td>0.001379</td>\n",
       "      <td>0.012236</td>\n",
       "      <td>0.036706</td>\n",
       "      <td>-0.008700</td>\n",
       "      <td>0.008016</td>\n",
       "      <td>-0.000638</td>\n",
       "      <td>-0.022410</td>\n",
       "      <td>0.008288</td>\n",
       "      <td>-0.012591</td>\n",
       "      <td>...</td>\n",
       "      <td>-0.021116</td>\n",
       "      <td>-0.021829</td>\n",
       "      <td>0.006657</td>\n",
       "      <td>-0.023547</td>\n",
       "      <td>0.019377</td>\n",
       "      <td>0.004814</td>\n",
       "      <td>0.005469</td>\n",
       "      <td>-0.018435</td>\n",
       "      <td>0.004963</td>\n",
       "      <td>0.001694</td>\n",
       "    </tr>\n",
       "    <tr>\n",
       "      <th>20547</th>\n",
       "      <td>22986Q_1x_Batch_11_C.mzML</td>\n",
       "      <td>0.004246</td>\n",
       "      <td>-0.006305</td>\n",
       "      <td>0.028104</td>\n",
       "      <td>-0.001926</td>\n",
       "      <td>0.010138</td>\n",
       "      <td>-0.006850</td>\n",
       "      <td>-0.021795</td>\n",
       "      <td>0.010690</td>\n",
       "      <td>-0.015096</td>\n",
       "      <td>...</td>\n",
       "      <td>-0.005609</td>\n",
       "      <td>-0.021126</td>\n",
       "      <td>-0.003378</td>\n",
       "      <td>-0.018798</td>\n",
       "      <td>0.004666</td>\n",
       "      <td>0.006235</td>\n",
       "      <td>0.018293</td>\n",
       "      <td>-0.018739</td>\n",
       "      <td>0.010713</td>\n",
       "      <td>-0.000068</td>\n",
       "    </tr>\n",
       "  </tbody>\n",
       "</table>\n",
       "<p>20548 rows × 513 columns</p>\n",
       "</div>"
      ],
      "text/plain": [
       "                      Unnamed: 0         0         1         2         3  \\\n",
       "0      F088_210802_M462_205.mzML -0.012116 -0.012744  0.015213  0.002109   \n",
       "1      F088_210811_M462_101.mzML -0.044780  0.018768 -0.009242  0.052131   \n",
       "2      F088_210802_M462_121.mzML -0.037593  0.028535 -0.027732 -0.000944   \n",
       "3      F088_210808_M462_249.mzML -0.011644  0.013144  0.032520  0.010189   \n",
       "4      F088_210802_M462_251.mzML -0.022890  0.004960  0.004098 -0.013768   \n",
       "...                          ...       ...       ...       ...       ...   \n",
       "20543  24678P_4x_Batch_18_C.mzML -0.000845  0.017901  0.021039  0.006173   \n",
       "20544  22623G_2x_Batch_12_C.mzML -0.001608  0.001148  0.018269  0.015156   \n",
       "20545  22375N_2x_Batch_11_A.mzML  0.001526 -0.005188  0.023454 -0.006104   \n",
       "20546  18468S_4x_Batch_12_A.mzML  0.001379  0.012236  0.036706 -0.008700   \n",
       "20547  22986Q_1x_Batch_11_C.mzML  0.004246 -0.006305  0.028104 -0.001926   \n",
       "\n",
       "              4         5         6         7         8  ...       502  \\\n",
       "0      0.044670 -0.039683 -0.059480  0.008705 -0.027577  ...  0.012742   \n",
       "1     -0.011590 -0.006703 -0.011710  0.036910 -0.031918  ...  0.012081   \n",
       "2      0.014811 -0.059200 -0.055738  0.025544  0.002217  ...  0.022528   \n",
       "3      0.020760 -0.010091 -0.016223  0.016085 -0.022232  ... -0.001954   \n",
       "4      0.014157 -0.022691 -0.028458  0.007696  0.001346  ...  0.004858   \n",
       "...         ...       ...       ...       ...       ...  ...       ...   \n",
       "20543 -0.001539  0.003555 -0.020716  0.011658 -0.013694  ... -0.003979   \n",
       "20544 -0.004328 -0.007496 -0.030777  0.007229 -0.007556  ... -0.023694   \n",
       "20545  0.003969 -0.010880 -0.019838  0.004644 -0.021066  ...  0.003956   \n",
       "20546  0.008016 -0.000638 -0.022410  0.008288 -0.012591  ... -0.021116   \n",
       "20547  0.010138 -0.006850 -0.021795  0.010690 -0.015096  ... -0.005609   \n",
       "\n",
       "            503       504       505       506       507       508       509  \\\n",
       "0     -0.055638 -0.009296 -0.047339  0.067312  0.002016  0.011414 -0.018108   \n",
       "1     -0.007349  0.032263  0.019297  0.011977 -0.028697  0.063601  0.035323   \n",
       "2     -0.052873  0.004178 -0.005779  0.073328  0.000846  0.006965  0.025408   \n",
       "3     -0.048695  0.005317 -0.009109  0.036391  0.016094  0.024453  0.000510   \n",
       "4     -0.025887  0.001140 -0.001780  0.007980  0.025074  0.028331  0.022751   \n",
       "...         ...       ...       ...       ...       ...       ...       ...   \n",
       "20543 -0.014604 -0.002520 -0.028454  0.011305 -0.008400  0.002832 -0.018369   \n",
       "20544 -0.016688  0.004787 -0.019279  0.005315 -0.008436  0.001843 -0.020471   \n",
       "20545 -0.024900  0.003625 -0.004619  0.001681  0.014717  0.024329 -0.020768   \n",
       "20546 -0.021829  0.006657 -0.023547  0.019377  0.004814  0.005469 -0.018435   \n",
       "20547 -0.021126 -0.003378 -0.018798  0.004666  0.006235  0.018293 -0.018739   \n",
       "\n",
       "            510       511  \n",
       "0      0.021512 -0.011637  \n",
       "1      0.035963 -0.029250  \n",
       "2      0.025243 -0.019008  \n",
       "3      0.017594  0.011256  \n",
       "4     -0.015472  0.014215  \n",
       "...         ...       ...  \n",
       "20543  0.003462 -0.000630  \n",
       "20544  0.007727 -0.003372  \n",
       "20545  0.000715 -0.006457  \n",
       "20546  0.004963  0.001694  \n",
       "20547  0.010713 -0.000068  \n",
       "\n",
       "[20548 rows x 513 columns]"
      ]
     },
     "execution_count": 113,
     "metadata": {},
     "output_type": "execute_result"
    }
   ],
   "source": [
    "Z_pretrain_all"
   ]
  },
  {
   "cell_type": "code",
   "execution_count": null,
   "metadata": {},
   "outputs": [],
   "source": [
    "import importlib\n",
    "import pretrain.get_pretrain_encoder\n",
    "importlib.reload(pretrain.get_pretrain_encoder)\n",
    "from pretrain.get_pretrain_encoder import get_pretrain_encoder_from_modelID, visualize_latent_space_multiple_tasks\n",
    "\n",
    "for pretrain_modelID in pretrain_model_list:\n",
    "        \n",
    "    print ('pretrain_modelID:', pretrain_modelID)\n",
    "\n",
    "    embeding_path = f'{finetune_save_dir}/{pretrain_modelID}'\n",
    "\n",
    "    Z_pretrain_all=pd.read_csv(f'{embeding_path}/Z_all_{pretrain_modelID}.csv').iloc[:, 1:]\n",
    "    Z_pretrain_train=pd.read_csv(f'{embeding_path}/Z_train_{pretrain_modelID}.csv').iloc[:, 1:]\n",
    "    Z_pretrain_val=pd.read_csv(f'{embeding_path}/Z_val_{pretrain_modelID}.csv').iloc[:, 1:]\n",
    "    Z_pretrain_test=pd.read_csv(f'{embeding_path}/Z_test_{pretrain_modelID}.csv').iloc[:, 1:]\n",
    "\n",
    "\n",
    "    #UMAP visualization of the latent space of pretrain model\n",
    "    print ('UMAP visualization of the latent space of pretrain model')\n",
    "    output_path=f'{finetune_save_dir}/{pretrain_modelID}'\n",
    "    visualize_latent_space_multiple_tasks( pretrain_modelID, output_path, Z_pretrain_all, Z_pretrain_train, Z_pretrain_val, Z_pretrain_test, y_data_all, y_data_train, y_data_val, y_data_test)\n",
    "\n",
    " "
   ]
  }
 ],
 "metadata": {
  "kernelspec": {
   "display_name": "Python 3",
   "language": "python",
   "name": "python3"
  },
  "language_info": {
   "codemirror_mode": {
    "name": "ipython",
    "version": 3
   },
   "file_extension": ".py",
   "mimetype": "text/x-python",
   "name": "python",
   "nbconvert_exporter": "python",
   "pygments_lexer": "ipython3",
   "version": "3.10.14"
  },
  "orig_nbformat": 4
 },
 "nbformat": 4,
 "nbformat_minor": 2
}
