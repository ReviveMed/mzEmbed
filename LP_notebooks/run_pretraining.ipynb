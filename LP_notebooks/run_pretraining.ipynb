{
 "cells": [
  {
   "attachments": {},
   "cell_type": "markdown",
   "metadata": {},
   "source": [
    "# Getting the latent space of pre-trained models and predict task\n"
   ]
  },
  {
   "attachments": {},
   "cell_type": "markdown",
   "metadata": {},
   "source": [
    "## Importing the functions & libraries"
   ]
  },
  {
   "cell_type": "code",
   "execution_count": 1,
   "metadata": {},
   "outputs": [
    {
     "name": "stderr",
     "output_type": "stream",
     "text": [
      "[neptune] [warning] NeptuneDeprecationWarning: You're importing the Neptune client library via the deprecated `neptune.new` module, which will be removed in a future release. Import directly from `neptune` instead.\n",
      "2024-09-17 19:56:20.817678: E external/local_xla/xla/stream_executor/cuda/cuda_fft.cc:485] Unable to register cuFFT factory: Attempting to register factory for plugin cuFFT when one has already been registered\n",
      "2024-09-17 19:56:21.049135: E external/local_xla/xla/stream_executor/cuda/cuda_dnn.cc:8454] Unable to register cuDNN factory: Attempting to register factory for plugin cuDNN when one has already been registered\n",
      "2024-09-17 19:56:21.117448: E external/local_xla/xla/stream_executor/cuda/cuda_blas.cc:1452] Unable to register cuBLAS factory: Attempting to register factory for plugin cuBLAS when one has already been registered\n",
      "2024-09-17 19:56:21.604256: I tensorflow/core/platform/cpu_feature_guard.cc:210] This TensorFlow binary is optimized to use available CPU instructions in performance-critical operations.\n",
      "To enable the following instructions: AVX2 FMA, in other operations, rebuild TensorFlow with the appropriate compiler flags.\n"
     ]
    },
    {
     "name": "stdout",
     "output_type": "stream",
     "text": [
      "DataLoader\t LabelEncoder\t PretrainVAE\t TensorDataset\t VAE\t get_pretrain_input_data\t importlib\t json\t label_encoder\t \n",
      "ml_code_path\t nn\t np\t optim\t optimize_hyperparameters\t optuna\t os\t pd\t pretrain_vae\t \n",
      "random\t torch\t \n"
     ]
    }
   ],
   "source": [
    "import os\n",
    "ml_code_path='/home/leilapirhaji/mz_embed_engine/ml'\n",
    "os.chdir(ml_code_path)\n",
    "\n",
    "import os\n",
    "import pandas as pd\n",
    "import numpy as np\n",
    "\n",
    "from sklearn.preprocessing import LabelEncoder\n",
    "label_encoder = LabelEncoder()\n",
    "import optuna\n",
    "import importlib\n",
    "import random\n",
    "\n",
    "import json\n",
    "\n",
    "import torch\n",
    "import torch.nn as nn\n",
    "import torch.optim as optim\n",
    "from torch.utils.data import TensorDataset, DataLoader\n",
    "\n",
    "\n",
    "from pretrain.get_pretrain_encoder import get_pretrain_input_data\n",
    "from models.models_VAE import VAE\n",
    "from pretrain.train_pretrain_VAE import PretrainVAE, pretrain_vae, optimize_hyperparameters\n",
    "\n",
    "%who\n",
    "\n"
   ]
  },
  {
   "attachments": {},
   "cell_type": "markdown",
   "metadata": {},
   "source": [
    "## Importing the pretrain input data"
   ]
  },
  {
   "cell_type": "code",
   "execution_count": 2,
   "metadata": {},
   "outputs": [
    {
     "name": "stderr",
     "output_type": "stream",
     "text": [
      "/home/leilapirhaji/mz_embed_engine/ml/pretrain/get_pretrain_encoder.py:72: DtypeWarning: Columns (1,8,28,30,31,32,33,34,46,50,51,52,53,54,55,56,57,58) have mixed types. Specify dtype option on import or set low_memory=False.\n",
      "  y_data_all = pd.read_csv(pretrain_y_all, index_col=0)\n"
     ]
    },
    {
     "data": {
      "text/plain": [
       "((20548, 2736),\n",
       " (20548, 58),\n",
       " (14391, 2736),\n",
       " (14391, 58),\n",
       " (3074, 2736),\n",
       " (3074, 58),\n",
       " (3083, 2736),\n",
       " (3083, 58))"
      ]
     },
     "execution_count": 2,
     "metadata": {},
     "output_type": "execute_result"
    }
   ],
   "source": [
    "input_data_location='/home/leilapirhaji/PROCESSED_DATA_2'\n",
    "\n",
    "# getting the input data\n",
    "(X_data_all, y_data_all, X_data_train, y_data_train, X_data_val, y_data_val, X_data_test, y_data_test)=get_pretrain_input_data(input_data_location)\n",
    "\n",
    "X_data_all.shape, y_data_all.shape, X_data_train.shape, y_data_train.shape, X_data_val.shape, y_data_val.shape, X_data_test.shape, y_data_test.shape"
   ]
  },
  {
   "cell_type": "code",
   "execution_count": 52,
   "metadata": {},
   "outputs": [],
   "source": [
    "def parse_range_or_single(values, is_int=False):\n",
    "    \"\"\"\n",
    "    Custom argparse type to parse either a single value or a range from a list.\n",
    "    If `is_int` is True, parses integers; otherwise, parses floats.\n",
    "    \n",
    "    Example inputs: \n",
    "        [\"256\"] -> Outputs: 256 (int)\n",
    "        [\"256\", \"512\", \"32\"] -> Outputs: (256, 512, 32) (int)\n",
    "    \"\"\"\n",
    "    # If it's a list but contains only one element, treat it as a single value\n",
    "    if len(values) == 1:\n",
    "        if is_int:\n",
    "            return int(values[0])  # Single integer value\n",
    "        else:\n",
    "            return float(values[0])  # Single float value\n",
    "    \n",
    "    # Otherwise, treat it as a range\n",
    "    if is_int:\n",
    "        return tuple(map(int, values))  # Convert to tuple of integers\n",
    "    else:\n",
    "        return tuple(map(float, values))  # Convert to tuple of floats\n",
    "\n",
    "\n",
    "\n",
    "\n",
    "\n",
    "def main():\n",
    "    \n",
    "    # Set up the argument parser\n",
    "    parser = argparse.ArgumentParser(description='Run VAE pretraining with hyperparameter optimization.')\n",
    "\n",
    "    # Add arguments for the input directory and save directory\n",
    "    parser.add_argument('--input_data_location', type=str, required=True, \n",
    "                        help='Location of the input data directory')\n",
    "    parser.add_argument('--pretrain_save_dir', type=str, required=True, \n",
    "                        help='Directory to save the pre-trained models')\n",
    "\n",
    "    # Add arguments for the hyperparameters\n",
    "    parser.add_argument('--latent_size', nargs='*', default=[256],\n",
    "                        help='Latent size: Either a single value or \"min max step\" for range (integer)')\n",
    "    parser.add_argument('--num_hidden_layers', nargs='*', default=[2],\n",
    "                        help='Number of hidden layers (either fixed or a range, integer)')\n",
    "    parser.add_argument('--dropout_rate', nargs='*', default=[0.1], \n",
    "                        help='Dropout rate: Either a single value or \"min max step\" for range (float)')\n",
    "    parser.add_argument('--learning_rate', nargs='*', default=[\"1e-5\", \"1e-2\"], \n",
    "                        help='Learning rate range: Either a single value or \"min max\" for range (float)')\n",
    "    parser.add_argument('--weight_decay', nargs='*', default=[\"1e-6\", \"1e-4\"],\n",
    "                        help='Weight decay range: Either a single value or \"min max\" for range (float)')\n",
    "    parser.add_argument('--batch_size', nargs='*', default=[64],\n",
    "                        help='Batch size (either fixed or a range, integer)')\n",
    "    parser.add_argument('--patience', nargs='*', default=[10, 30, 5], \n",
    "                        help='Patience: Either a single value or \"min max step\" for range (integer), 0 means no early stopping')\n",
    "    parser.add_argument('--num_epochs', nargs='*', default=[100], \n",
    "                        help='Number of epochs (either fixed or a range, integer)')\n",
    "    parser.add_argument('--trial_name', type=str, default='vae_hyperparam_optimization_test', \n",
    "                        help='The name of this trial for Optuna study')\n",
    "    parser.add_argument('--n_trials', type=int, default=20, \n",
    "                        help='Number of trials for hyperparameter optimization')\n",
    "\n",
    "    print('Arguments are parsed')\n",
    "\n",
    "    # Parse the arguments\n",
    "    args = parser.parse_args()\n",
    "\n",
    "    combined_params = {\n",
    "        'latent_size': parse_range_or_single(args.latent_size, is_int=True),\n",
    "        'num_hidden_layers': parse_range_or_single(args.num_hidden_layers, is_int=True),\n",
    "        'dropout_rate': parse_range_or_single(args.dropout_rate, is_int=False),\n",
    "        'learning_rate': parse_range_or_single(args.learning_rate, is_int=False),\n",
    "        'weight_decay': parse_range_or_single(args.weight_decay, is_int=False),\n",
    "        'batch_size': parse_range_or_single(args.batch_size, is_int=True),\n",
    "        'patience': parse_range_or_single(args.patience, is_int=True),\n",
    "        'num_epochs': parse_range_or_single(args.num_epochs, is_int=True)\n",
    "    }"
   ]
  },
  {
   "cell_type": "code",
   "execution_count": 59,
   "metadata": {},
   "outputs": [
    {
     "data": {
      "text/plain": [
       "(256, 512, 32)"
      ]
     },
     "execution_count": 59,
     "metadata": {},
     "output_type": "execute_result"
    }
   ],
   "source": [
    "min_val, max_val, step = combined_params['latent_size']\n",
    "min_val, max_val, step"
   ]
  },
  {
   "attachments": {},
   "cell_type": "markdown",
   "metadata": {},
   "source": [
    "## Pre-traing the models"
   ]
  },
  {
   "attachments": {},
   "cell_type": "markdown",
   "metadata": {},
   "source": [
    "### Training for a fixed paramters"
   ]
  },
  {
   "cell_type": "code",
   "execution_count": 9,
   "metadata": {},
   "outputs": [
    {
     "name": "stderr",
     "output_type": "stream",
     "text": [
      "[I 2024-09-17 20:45:32,445] A new study created in memory with name: no-name-4ee3c4a6-ba6a-43b5-944c-d101575040c6\n",
      "/home/leilapirhaji/mz_embed_engine/ml/pretrain/train_pretrain_VAE.py:215: FutureWarning: suggest_loguniform has been deprecated in v3.0.0. This feature will be removed in v6.0.0. See https://github.com/optuna/optuna/releases/tag/v3.0.0. Use suggest_float(..., log=True) instead.\n",
      "  # Categorical parameter (e.g., activation functions, optimizer)\n"
     ]
    },
    {
     "name": "stdout",
     "output_type": "stream",
     "text": [
      "Epoch 1/10, Loss: 139175.6226\n",
      "Validation Loss: 115.4729\n",
      "Epoch 2/10, Loss: 2554010044920.5679\n",
      "Validation Loss: 115.9617\n",
      "Epoch 3/10, Loss: 1351940710536.1370\n",
      "Validation Loss: 117.1198\n",
      "Epoch 4/10, Loss: 1628550693946.8540\n",
      "Validation Loss: 122.0877\n",
      "Epoch 5/10, Loss: nan\n",
      "Validation Loss: nan\n",
      "Epoch 6/10, Loss: nan\n",
      "Validation Loss: nan\n",
      "Epoch 7/10, Loss: nan\n",
      "Validation Loss: nan\n",
      "Epoch 8/10, Loss: nan\n",
      "Validation Loss: nan\n",
      "Epoch 9/10, Loss: nan\n",
      "Validation Loss: nan\n",
      "Epoch 10/10, Loss: nan\n",
      "Validation Loss: nan\n"
     ]
    },
    {
     "name": "stderr",
     "output_type": "stream",
     "text": [
      "[W 2024-09-17 20:45:54,963] Trial 0 failed with parameters: {'learning_rate': 8.175450568622918e-05} because of the following error: The value nan is not acceptable.\n",
      "[W 2024-09-17 20:45:54,964] Trial 0 failed with value nan.\n"
     ]
    },
    {
     "name": "stdout",
     "output_type": "stream",
     "text": [
      "Encoder saved to /home/leilapirhaji/pretrained_models/vae_hyperparam_optimization_test/trial_0/encoder_state.pt\n",
      "Hyperparameters saved to /home/leilapirhaji/pretrained_models/vae_hyperparam_optimization_test/trial_0/model_hyperparameters.json\n",
      "Epoch 1/10, Loss: 115.8339\n",
      "Validation Loss: 115.6603\n",
      "Epoch 2/10, Loss: 115.9456\n",
      "Validation Loss: 115.4980\n",
      "Epoch 3/10, Loss: 117.0096\n",
      "Validation Loss: 115.5116\n",
      "Epoch 4/10, Loss: 121.4398\n",
      "Validation Loss: 115.5286\n",
      "Epoch 5/10, Loss: 530.2932\n",
      "Validation Loss: 115.5630\n",
      "Epoch 6/10, Loss: 16798847.7076\n",
      "Validation Loss: 115.6314\n",
      "Epoch 7/10, Loss: 163715.3808\n",
      "Validation Loss: 115.6485\n",
      "Epoch 8/10, Loss: 1262657.5379\n",
      "Validation Loss: 115.7182\n",
      "Epoch 9/10, Loss: 15166.6439\n",
      "Validation Loss: 115.7463\n"
     ]
    },
    {
     "name": "stderr",
     "output_type": "stream",
     "text": [
      "[I 2024-09-17 20:46:17,703] Trial 1 finished with value: 115.77964611442722 and parameters: {'learning_rate': 3.29841897915774e-05}. Best is trial 1 with value: 115.77964611442722.\n"
     ]
    },
    {
     "name": "stdout",
     "output_type": "stream",
     "text": [
      "Epoch 10/10, Loss: 1103577.0938\n",
      "Validation Loss: 115.7796\n",
      "Encoder saved to /home/leilapirhaji/pretrained_models/vae_hyperparam_optimization_test/trial_1/encoder_state.pt\n",
      "Hyperparameters saved to /home/leilapirhaji/pretrained_models/vae_hyperparam_optimization_test/trial_1/model_hyperparameters.json\n",
      "Epoch 1/10, Loss: 117.0970\n",
      "Validation Loss: 115.7322\n",
      "Epoch 2/10, Loss: 115.8777\n",
      "Validation Loss: 115.7385\n",
      "Epoch 3/10, Loss: 115.9921\n",
      "Validation Loss: 115.7424\n",
      "Epoch 4/10, Loss: 116.0271\n",
      "Validation Loss: 115.7421\n",
      "Epoch 5/10, Loss: 115.8897\n",
      "Validation Loss: 115.7337\n",
      "Epoch 6/10, Loss: 115.8617\n",
      "Validation Loss: 115.6954\n",
      "Epoch 7/10, Loss: 115.7973\n",
      "Validation Loss: 115.5866\n",
      "Epoch 8/10, Loss: 115.7065\n",
      "Validation Loss: 115.5406\n",
      "Epoch 9/10, Loss: 115.7196\n",
      "Validation Loss: 115.5387\n"
     ]
    },
    {
     "name": "stderr",
     "output_type": "stream",
     "text": [
      "[I 2024-09-17 20:46:40,161] Trial 2 finished with value: 115.53838208256936 and parameters: {'learning_rate': 1.6771169678691354e-05}. Best is trial 2 with value: 115.53838208256936.\n"
     ]
    },
    {
     "name": "stdout",
     "output_type": "stream",
     "text": [
      "Epoch 10/10, Loss: 115.6667\n",
      "Validation Loss: 115.5384\n",
      "Encoder saved to /home/leilapirhaji/pretrained_models/vae_hyperparam_optimization_test/trial_2/encoder_state.pt\n",
      "Hyperparameters saved to /home/leilapirhaji/pretrained_models/vae_hyperparam_optimization_test/trial_2/model_hyperparameters.json\n",
      "Best trial: FrozenTrial(number=2, state=TrialState.COMPLETE, values=[115.53838208256936], datetime_start=datetime.datetime(2024, 9, 17, 20, 46, 17, 704091), datetime_complete=datetime.datetime(2024, 9, 17, 20, 46, 40, 161711), params={'learning_rate': 1.6771169678691354e-05}, user_attrs={}, system_attrs={}, intermediate_values={}, distributions={'learning_rate': FloatDistribution(high=0.0001, log=True, low=1e-05, step=None)}, trial_id=2, value=None)\n",
      "Best hyperparameters: {'learning_rate': 1.6771169678691354e-05}\n",
      "Best hyperparameters: {'learning_rate': 1.6771169678691354e-05}\n"
     ]
    }
   ],
   "source": [
    "import importlib\n",
    "import pretrain.train_pretrain_VAE\n",
    "importlib.reload(pretrain.train_pretrain_VAE)\n",
    "from pretrain.train_pretrain_VAE import PretrainVAE, pretrain_vae, optimize_hyperparameters\n",
    "\n",
    "\n",
    "# Combined parameter ranges and default values (with flexibility to tune)\n",
    "# Combined parameter ranges and default values (with flexibility to tune)\n",
    "combined_params = {\n",
    "    'latent_size': 460, #(256, 512, 32),            # Min, Max, Step size (tuned)\n",
    "    'num_hidden_layers': 2, # (2, 4, 1),          # Min, Max, Step size (tuned)\n",
    "    'dropout_rate': 0.4, #(0.1, 0.5, 0.05),        # Min, Max, Step size (tuned)\n",
    "    'learning_rate': (1e-5, 1e-4),           # Min, Max (log scale, tuned)\n",
    "    'weight_decay': 1e-6, # (1e-6, 1e-3),            # Min, Max (log scale, tuned)\n",
    "\n",
    "    # Training parameters that could also be tuned\n",
    "    'batch_size': 64, #(32, 128, 32),             # Min, Max, Step size (tuned)\n",
    "    'patience': 0, #(3, 10, 1),                  # Min, Max, Step size (tuned)\n",
    "    'num_epochs': 10 # (10, 50, 5)                # Min, Max, Step size (tuned)\n",
    "}\n",
    "\n",
    "# Run hyperparameter optimization with model saving\n",
    "trial_name = \"vae_hyperparam_optimization_test\"\n",
    "pretrain_save_dir='/home/leilapirhaji/pretrained_models'\n",
    "os.makedirs(pretrain_save_dir, exist_ok=True)\n",
    "\n",
    "best_trial, study = optimize_hyperparameters(X_data_train, X_data_val, combined_params, trial_name, pretrain_save_dir, n_trials=3)\n",
    "\n",
    "\n",
    "print(f\"Best hyperparameters: {best_trial.params}\")\n"
   ]
  },
  {
   "cell_type": "code",
   "execution_count": 11,
   "metadata": {},
   "outputs": [
    {
     "data": {
      "text/plain": [
       "(115.53838208256936, {'learning_rate': 1.6771169678691354e-05})"
      ]
     },
     "execution_count": 11,
     "metadata": {},
     "output_type": "execute_result"
    }
   ],
   "source": [
    "study.best_trial.value, study.best_trial.params"
   ]
  },
  {
   "cell_type": "code",
   "execution_count": 12,
   "metadata": {},
   "outputs": [
    {
     "data": {
      "application/vnd.plotly.v1+json": {
       "config": {
        "plotlyServerURL": "https://plot.ly"
       },
       "data": [
        {
         "mode": "markers",
         "name": "Objective Value",
         "type": "scatter",
         "x": [
          1,
          2
         ],
         "y": [
          115.77964611442722,
          115.53838208256936
         ]
        },
        {
         "mode": "lines",
         "name": "Best Value",
         "type": "scatter",
         "x": [
          0,
          1,
          2
         ],
         "y": [
          null,
          115.77964611442722,
          115.53838208256936
         ]
        },
        {
         "marker": {
          "color": "#cccccc"
         },
         "mode": "markers",
         "name": "Infeasible Trial",
         "showlegend": false,
         "type": "scatter",
         "x": [],
         "y": []
        }
       ],
       "layout": {
        "template": {
         "data": {
          "bar": [
           {
            "error_x": {
             "color": "#2a3f5f"
            },
            "error_y": {
             "color": "#2a3f5f"
            },
            "marker": {
             "line": {
              "color": "#E5ECF6",
              "width": 0.5
             },
             "pattern": {
              "fillmode": "overlay",
              "size": 10,
              "solidity": 0.2
             }
            },
            "type": "bar"
           }
          ],
          "barpolar": [
           {
            "marker": {
             "line": {
              "color": "#E5ECF6",
              "width": 0.5
             },
             "pattern": {
              "fillmode": "overlay",
              "size": 10,
              "solidity": 0.2
             }
            },
            "type": "barpolar"
           }
          ],
          "carpet": [
           {
            "aaxis": {
             "endlinecolor": "#2a3f5f",
             "gridcolor": "white",
             "linecolor": "white",
             "minorgridcolor": "white",
             "startlinecolor": "#2a3f5f"
            },
            "baxis": {
             "endlinecolor": "#2a3f5f",
             "gridcolor": "white",
             "linecolor": "white",
             "minorgridcolor": "white",
             "startlinecolor": "#2a3f5f"
            },
            "type": "carpet"
           }
          ],
          "choropleth": [
           {
            "colorbar": {
             "outlinewidth": 0,
             "ticks": ""
            },
            "type": "choropleth"
           }
          ],
          "contour": [
           {
            "colorbar": {
             "outlinewidth": 0,
             "ticks": ""
            },
            "colorscale": [
             [
              0,
              "#0d0887"
             ],
             [
              0.1111111111111111,
              "#46039f"
             ],
             [
              0.2222222222222222,
              "#7201a8"
             ],
             [
              0.3333333333333333,
              "#9c179e"
             ],
             [
              0.4444444444444444,
              "#bd3786"
             ],
             [
              0.5555555555555556,
              "#d8576b"
             ],
             [
              0.6666666666666666,
              "#ed7953"
             ],
             [
              0.7777777777777778,
              "#fb9f3a"
             ],
             [
              0.8888888888888888,
              "#fdca26"
             ],
             [
              1,
              "#f0f921"
             ]
            ],
            "type": "contour"
           }
          ],
          "contourcarpet": [
           {
            "colorbar": {
             "outlinewidth": 0,
             "ticks": ""
            },
            "type": "contourcarpet"
           }
          ],
          "heatmap": [
           {
            "colorbar": {
             "outlinewidth": 0,
             "ticks": ""
            },
            "colorscale": [
             [
              0,
              "#0d0887"
             ],
             [
              0.1111111111111111,
              "#46039f"
             ],
             [
              0.2222222222222222,
              "#7201a8"
             ],
             [
              0.3333333333333333,
              "#9c179e"
             ],
             [
              0.4444444444444444,
              "#bd3786"
             ],
             [
              0.5555555555555556,
              "#d8576b"
             ],
             [
              0.6666666666666666,
              "#ed7953"
             ],
             [
              0.7777777777777778,
              "#fb9f3a"
             ],
             [
              0.8888888888888888,
              "#fdca26"
             ],
             [
              1,
              "#f0f921"
             ]
            ],
            "type": "heatmap"
           }
          ],
          "heatmapgl": [
           {
            "colorbar": {
             "outlinewidth": 0,
             "ticks": ""
            },
            "colorscale": [
             [
              0,
              "#0d0887"
             ],
             [
              0.1111111111111111,
              "#46039f"
             ],
             [
              0.2222222222222222,
              "#7201a8"
             ],
             [
              0.3333333333333333,
              "#9c179e"
             ],
             [
              0.4444444444444444,
              "#bd3786"
             ],
             [
              0.5555555555555556,
              "#d8576b"
             ],
             [
              0.6666666666666666,
              "#ed7953"
             ],
             [
              0.7777777777777778,
              "#fb9f3a"
             ],
             [
              0.8888888888888888,
              "#fdca26"
             ],
             [
              1,
              "#f0f921"
             ]
            ],
            "type": "heatmapgl"
           }
          ],
          "histogram": [
           {
            "marker": {
             "pattern": {
              "fillmode": "overlay",
              "size": 10,
              "solidity": 0.2
             }
            },
            "type": "histogram"
           }
          ],
          "histogram2d": [
           {
            "colorbar": {
             "outlinewidth": 0,
             "ticks": ""
            },
            "colorscale": [
             [
              0,
              "#0d0887"
             ],
             [
              0.1111111111111111,
              "#46039f"
             ],
             [
              0.2222222222222222,
              "#7201a8"
             ],
             [
              0.3333333333333333,
              "#9c179e"
             ],
             [
              0.4444444444444444,
              "#bd3786"
             ],
             [
              0.5555555555555556,
              "#d8576b"
             ],
             [
              0.6666666666666666,
              "#ed7953"
             ],
             [
              0.7777777777777778,
              "#fb9f3a"
             ],
             [
              0.8888888888888888,
              "#fdca26"
             ],
             [
              1,
              "#f0f921"
             ]
            ],
            "type": "histogram2d"
           }
          ],
          "histogram2dcontour": [
           {
            "colorbar": {
             "outlinewidth": 0,
             "ticks": ""
            },
            "colorscale": [
             [
              0,
              "#0d0887"
             ],
             [
              0.1111111111111111,
              "#46039f"
             ],
             [
              0.2222222222222222,
              "#7201a8"
             ],
             [
              0.3333333333333333,
              "#9c179e"
             ],
             [
              0.4444444444444444,
              "#bd3786"
             ],
             [
              0.5555555555555556,
              "#d8576b"
             ],
             [
              0.6666666666666666,
              "#ed7953"
             ],
             [
              0.7777777777777778,
              "#fb9f3a"
             ],
             [
              0.8888888888888888,
              "#fdca26"
             ],
             [
              1,
              "#f0f921"
             ]
            ],
            "type": "histogram2dcontour"
           }
          ],
          "mesh3d": [
           {
            "colorbar": {
             "outlinewidth": 0,
             "ticks": ""
            },
            "type": "mesh3d"
           }
          ],
          "parcoords": [
           {
            "line": {
             "colorbar": {
              "outlinewidth": 0,
              "ticks": ""
             }
            },
            "type": "parcoords"
           }
          ],
          "pie": [
           {
            "automargin": true,
            "type": "pie"
           }
          ],
          "scatter": [
           {
            "fillpattern": {
             "fillmode": "overlay",
             "size": 10,
             "solidity": 0.2
            },
            "type": "scatter"
           }
          ],
          "scatter3d": [
           {
            "line": {
             "colorbar": {
              "outlinewidth": 0,
              "ticks": ""
             }
            },
            "marker": {
             "colorbar": {
              "outlinewidth": 0,
              "ticks": ""
             }
            },
            "type": "scatter3d"
           }
          ],
          "scattercarpet": [
           {
            "marker": {
             "colorbar": {
              "outlinewidth": 0,
              "ticks": ""
             }
            },
            "type": "scattercarpet"
           }
          ],
          "scattergeo": [
           {
            "marker": {
             "colorbar": {
              "outlinewidth": 0,
              "ticks": ""
             }
            },
            "type": "scattergeo"
           }
          ],
          "scattergl": [
           {
            "marker": {
             "colorbar": {
              "outlinewidth": 0,
              "ticks": ""
             }
            },
            "type": "scattergl"
           }
          ],
          "scattermapbox": [
           {
            "marker": {
             "colorbar": {
              "outlinewidth": 0,
              "ticks": ""
             }
            },
            "type": "scattermapbox"
           }
          ],
          "scatterpolar": [
           {
            "marker": {
             "colorbar": {
              "outlinewidth": 0,
              "ticks": ""
             }
            },
            "type": "scatterpolar"
           }
          ],
          "scatterpolargl": [
           {
            "marker": {
             "colorbar": {
              "outlinewidth": 0,
              "ticks": ""
             }
            },
            "type": "scatterpolargl"
           }
          ],
          "scatterternary": [
           {
            "marker": {
             "colorbar": {
              "outlinewidth": 0,
              "ticks": ""
             }
            },
            "type": "scatterternary"
           }
          ],
          "surface": [
           {
            "colorbar": {
             "outlinewidth": 0,
             "ticks": ""
            },
            "colorscale": [
             [
              0,
              "#0d0887"
             ],
             [
              0.1111111111111111,
              "#46039f"
             ],
             [
              0.2222222222222222,
              "#7201a8"
             ],
             [
              0.3333333333333333,
              "#9c179e"
             ],
             [
              0.4444444444444444,
              "#bd3786"
             ],
             [
              0.5555555555555556,
              "#d8576b"
             ],
             [
              0.6666666666666666,
              "#ed7953"
             ],
             [
              0.7777777777777778,
              "#fb9f3a"
             ],
             [
              0.8888888888888888,
              "#fdca26"
             ],
             [
              1,
              "#f0f921"
             ]
            ],
            "type": "surface"
           }
          ],
          "table": [
           {
            "cells": {
             "fill": {
              "color": "#EBF0F8"
             },
             "line": {
              "color": "white"
             }
            },
            "header": {
             "fill": {
              "color": "#C8D4E3"
             },
             "line": {
              "color": "white"
             }
            },
            "type": "table"
           }
          ]
         },
         "layout": {
          "annotationdefaults": {
           "arrowcolor": "#2a3f5f",
           "arrowhead": 0,
           "arrowwidth": 1
          },
          "autotypenumbers": "strict",
          "coloraxis": {
           "colorbar": {
            "outlinewidth": 0,
            "ticks": ""
           }
          },
          "colorscale": {
           "diverging": [
            [
             0,
             "#8e0152"
            ],
            [
             0.1,
             "#c51b7d"
            ],
            [
             0.2,
             "#de77ae"
            ],
            [
             0.3,
             "#f1b6da"
            ],
            [
             0.4,
             "#fde0ef"
            ],
            [
             0.5,
             "#f7f7f7"
            ],
            [
             0.6,
             "#e6f5d0"
            ],
            [
             0.7,
             "#b8e186"
            ],
            [
             0.8,
             "#7fbc41"
            ],
            [
             0.9,
             "#4d9221"
            ],
            [
             1,
             "#276419"
            ]
           ],
           "sequential": [
            [
             0,
             "#0d0887"
            ],
            [
             0.1111111111111111,
             "#46039f"
            ],
            [
             0.2222222222222222,
             "#7201a8"
            ],
            [
             0.3333333333333333,
             "#9c179e"
            ],
            [
             0.4444444444444444,
             "#bd3786"
            ],
            [
             0.5555555555555556,
             "#d8576b"
            ],
            [
             0.6666666666666666,
             "#ed7953"
            ],
            [
             0.7777777777777778,
             "#fb9f3a"
            ],
            [
             0.8888888888888888,
             "#fdca26"
            ],
            [
             1,
             "#f0f921"
            ]
           ],
           "sequentialminus": [
            [
             0,
             "#0d0887"
            ],
            [
             0.1111111111111111,
             "#46039f"
            ],
            [
             0.2222222222222222,
             "#7201a8"
            ],
            [
             0.3333333333333333,
             "#9c179e"
            ],
            [
             0.4444444444444444,
             "#bd3786"
            ],
            [
             0.5555555555555556,
             "#d8576b"
            ],
            [
             0.6666666666666666,
             "#ed7953"
            ],
            [
             0.7777777777777778,
             "#fb9f3a"
            ],
            [
             0.8888888888888888,
             "#fdca26"
            ],
            [
             1,
             "#f0f921"
            ]
           ]
          },
          "colorway": [
           "#636efa",
           "#EF553B",
           "#00cc96",
           "#ab63fa",
           "#FFA15A",
           "#19d3f3",
           "#FF6692",
           "#B6E880",
           "#FF97FF",
           "#FECB52"
          ],
          "font": {
           "color": "#2a3f5f"
          },
          "geo": {
           "bgcolor": "white",
           "lakecolor": "white",
           "landcolor": "#E5ECF6",
           "showlakes": true,
           "showland": true,
           "subunitcolor": "white"
          },
          "hoverlabel": {
           "align": "left"
          },
          "hovermode": "closest",
          "mapbox": {
           "style": "light"
          },
          "paper_bgcolor": "white",
          "plot_bgcolor": "#E5ECF6",
          "polar": {
           "angularaxis": {
            "gridcolor": "white",
            "linecolor": "white",
            "ticks": ""
           },
           "bgcolor": "#E5ECF6",
           "radialaxis": {
            "gridcolor": "white",
            "linecolor": "white",
            "ticks": ""
           }
          },
          "scene": {
           "xaxis": {
            "backgroundcolor": "#E5ECF6",
            "gridcolor": "white",
            "gridwidth": 2,
            "linecolor": "white",
            "showbackground": true,
            "ticks": "",
            "zerolinecolor": "white"
           },
           "yaxis": {
            "backgroundcolor": "#E5ECF6",
            "gridcolor": "white",
            "gridwidth": 2,
            "linecolor": "white",
            "showbackground": true,
            "ticks": "",
            "zerolinecolor": "white"
           },
           "zaxis": {
            "backgroundcolor": "#E5ECF6",
            "gridcolor": "white",
            "gridwidth": 2,
            "linecolor": "white",
            "showbackground": true,
            "ticks": "",
            "zerolinecolor": "white"
           }
          },
          "shapedefaults": {
           "line": {
            "color": "#2a3f5f"
           }
          },
          "ternary": {
           "aaxis": {
            "gridcolor": "white",
            "linecolor": "white",
            "ticks": ""
           },
           "baxis": {
            "gridcolor": "white",
            "linecolor": "white",
            "ticks": ""
           },
           "bgcolor": "#E5ECF6",
           "caxis": {
            "gridcolor": "white",
            "linecolor": "white",
            "ticks": ""
           }
          },
          "title": {
           "x": 0.05
          },
          "xaxis": {
           "automargin": true,
           "gridcolor": "white",
           "linecolor": "white",
           "ticks": "",
           "title": {
            "standoff": 15
           },
           "zerolinecolor": "white",
           "zerolinewidth": 2
          },
          "yaxis": {
           "automargin": true,
           "gridcolor": "white",
           "linecolor": "white",
           "ticks": "",
           "title": {
            "standoff": 15
           },
           "zerolinecolor": "white",
           "zerolinewidth": 2
          }
         }
        },
        "title": {
         "text": "Optimization History Plot"
        },
        "xaxis": {
         "title": {
          "text": "Trial"
         }
        },
        "yaxis": {
         "title": {
          "text": "Objective Value"
         }
        }
       }
      },
      "text/html": [
       "<div>                            <div id=\"d675ed6f-485d-4fea-9a98-5ae2641ac4b1\" class=\"plotly-graph-div\" style=\"height:525px; width:100%;\"></div>            <script type=\"text/javascript\">                require([\"plotly\"], function(Plotly) {                    window.PLOTLYENV=window.PLOTLYENV || {};                                    if (document.getElementById(\"d675ed6f-485d-4fea-9a98-5ae2641ac4b1\")) {                    Plotly.newPlot(                        \"d675ed6f-485d-4fea-9a98-5ae2641ac4b1\",                        [{\"mode\":\"markers\",\"name\":\"Objective Value\",\"x\":[1,2],\"y\":[115.77964611442722,115.53838208256936],\"type\":\"scatter\"},{\"mode\":\"lines\",\"name\":\"Best Value\",\"x\":[0,1,2],\"y\":[null,115.77964611442722,115.53838208256936],\"type\":\"scatter\"},{\"marker\":{\"color\":\"#cccccc\"},\"mode\":\"markers\",\"name\":\"Infeasible Trial\",\"showlegend\":false,\"x\":[],\"y\":[],\"type\":\"scatter\"}],                        {\"title\":{\"text\":\"Optimization History Plot\"},\"xaxis\":{\"title\":{\"text\":\"Trial\"}},\"yaxis\":{\"title\":{\"text\":\"Objective Value\"}},\"template\":{\"data\":{\"histogram2dcontour\":[{\"type\":\"histogram2dcontour\",\"colorbar\":{\"outlinewidth\":0,\"ticks\":\"\"},\"colorscale\":[[0.0,\"#0d0887\"],[0.1111111111111111,\"#46039f\"],[0.2222222222222222,\"#7201a8\"],[0.3333333333333333,\"#9c179e\"],[0.4444444444444444,\"#bd3786\"],[0.5555555555555556,\"#d8576b\"],[0.6666666666666666,\"#ed7953\"],[0.7777777777777778,\"#fb9f3a\"],[0.8888888888888888,\"#fdca26\"],[1.0,\"#f0f921\"]]}],\"choropleth\":[{\"type\":\"choropleth\",\"colorbar\":{\"outlinewidth\":0,\"ticks\":\"\"}}],\"histogram2d\":[{\"type\":\"histogram2d\",\"colorbar\":{\"outlinewidth\":0,\"ticks\":\"\"},\"colorscale\":[[0.0,\"#0d0887\"],[0.1111111111111111,\"#46039f\"],[0.2222222222222222,\"#7201a8\"],[0.3333333333333333,\"#9c179e\"],[0.4444444444444444,\"#bd3786\"],[0.5555555555555556,\"#d8576b\"],[0.6666666666666666,\"#ed7953\"],[0.7777777777777778,\"#fb9f3a\"],[0.8888888888888888,\"#fdca26\"],[1.0,\"#f0f921\"]]}],\"heatmap\":[{\"type\":\"heatmap\",\"colorbar\":{\"outlinewidth\":0,\"ticks\":\"\"},\"colorscale\":[[0.0,\"#0d0887\"],[0.1111111111111111,\"#46039f\"],[0.2222222222222222,\"#7201a8\"],[0.3333333333333333,\"#9c179e\"],[0.4444444444444444,\"#bd3786\"],[0.5555555555555556,\"#d8576b\"],[0.6666666666666666,\"#ed7953\"],[0.7777777777777778,\"#fb9f3a\"],[0.8888888888888888,\"#fdca26\"],[1.0,\"#f0f921\"]]}],\"heatmapgl\":[{\"type\":\"heatmapgl\",\"colorbar\":{\"outlinewidth\":0,\"ticks\":\"\"},\"colorscale\":[[0.0,\"#0d0887\"],[0.1111111111111111,\"#46039f\"],[0.2222222222222222,\"#7201a8\"],[0.3333333333333333,\"#9c179e\"],[0.4444444444444444,\"#bd3786\"],[0.5555555555555556,\"#d8576b\"],[0.6666666666666666,\"#ed7953\"],[0.7777777777777778,\"#fb9f3a\"],[0.8888888888888888,\"#fdca26\"],[1.0,\"#f0f921\"]]}],\"contourcarpet\":[{\"type\":\"contourcarpet\",\"colorbar\":{\"outlinewidth\":0,\"ticks\":\"\"}}],\"contour\":[{\"type\":\"contour\",\"colorbar\":{\"outlinewidth\":0,\"ticks\":\"\"},\"colorscale\":[[0.0,\"#0d0887\"],[0.1111111111111111,\"#46039f\"],[0.2222222222222222,\"#7201a8\"],[0.3333333333333333,\"#9c179e\"],[0.4444444444444444,\"#bd3786\"],[0.5555555555555556,\"#d8576b\"],[0.6666666666666666,\"#ed7953\"],[0.7777777777777778,\"#fb9f3a\"],[0.8888888888888888,\"#fdca26\"],[1.0,\"#f0f921\"]]}],\"surface\":[{\"type\":\"surface\",\"colorbar\":{\"outlinewidth\":0,\"ticks\":\"\"},\"colorscale\":[[0.0,\"#0d0887\"],[0.1111111111111111,\"#46039f\"],[0.2222222222222222,\"#7201a8\"],[0.3333333333333333,\"#9c179e\"],[0.4444444444444444,\"#bd3786\"],[0.5555555555555556,\"#d8576b\"],[0.6666666666666666,\"#ed7953\"],[0.7777777777777778,\"#fb9f3a\"],[0.8888888888888888,\"#fdca26\"],[1.0,\"#f0f921\"]]}],\"mesh3d\":[{\"type\":\"mesh3d\",\"colorbar\":{\"outlinewidth\":0,\"ticks\":\"\"}}],\"scatter\":[{\"fillpattern\":{\"fillmode\":\"overlay\",\"size\":10,\"solidity\":0.2},\"type\":\"scatter\"}],\"parcoords\":[{\"type\":\"parcoords\",\"line\":{\"colorbar\":{\"outlinewidth\":0,\"ticks\":\"\"}}}],\"scatterpolargl\":[{\"type\":\"scatterpolargl\",\"marker\":{\"colorbar\":{\"outlinewidth\":0,\"ticks\":\"\"}}}],\"bar\":[{\"error_x\":{\"color\":\"#2a3f5f\"},\"error_y\":{\"color\":\"#2a3f5f\"},\"marker\":{\"line\":{\"color\":\"#E5ECF6\",\"width\":0.5},\"pattern\":{\"fillmode\":\"overlay\",\"size\":10,\"solidity\":0.2}},\"type\":\"bar\"}],\"scattergeo\":[{\"type\":\"scattergeo\",\"marker\":{\"colorbar\":{\"outlinewidth\":0,\"ticks\":\"\"}}}],\"scatterpolar\":[{\"type\":\"scatterpolar\",\"marker\":{\"colorbar\":{\"outlinewidth\":0,\"ticks\":\"\"}}}],\"histogram\":[{\"marker\":{\"pattern\":{\"fillmode\":\"overlay\",\"size\":10,\"solidity\":0.2}},\"type\":\"histogram\"}],\"scattergl\":[{\"type\":\"scattergl\",\"marker\":{\"colorbar\":{\"outlinewidth\":0,\"ticks\":\"\"}}}],\"scatter3d\":[{\"type\":\"scatter3d\",\"line\":{\"colorbar\":{\"outlinewidth\":0,\"ticks\":\"\"}},\"marker\":{\"colorbar\":{\"outlinewidth\":0,\"ticks\":\"\"}}}],\"scattermapbox\":[{\"type\":\"scattermapbox\",\"marker\":{\"colorbar\":{\"outlinewidth\":0,\"ticks\":\"\"}}}],\"scatterternary\":[{\"type\":\"scatterternary\",\"marker\":{\"colorbar\":{\"outlinewidth\":0,\"ticks\":\"\"}}}],\"scattercarpet\":[{\"type\":\"scattercarpet\",\"marker\":{\"colorbar\":{\"outlinewidth\":0,\"ticks\":\"\"}}}],\"carpet\":[{\"aaxis\":{\"endlinecolor\":\"#2a3f5f\",\"gridcolor\":\"white\",\"linecolor\":\"white\",\"minorgridcolor\":\"white\",\"startlinecolor\":\"#2a3f5f\"},\"baxis\":{\"endlinecolor\":\"#2a3f5f\",\"gridcolor\":\"white\",\"linecolor\":\"white\",\"minorgridcolor\":\"white\",\"startlinecolor\":\"#2a3f5f\"},\"type\":\"carpet\"}],\"table\":[{\"cells\":{\"fill\":{\"color\":\"#EBF0F8\"},\"line\":{\"color\":\"white\"}},\"header\":{\"fill\":{\"color\":\"#C8D4E3\"},\"line\":{\"color\":\"white\"}},\"type\":\"table\"}],\"barpolar\":[{\"marker\":{\"line\":{\"color\":\"#E5ECF6\",\"width\":0.5},\"pattern\":{\"fillmode\":\"overlay\",\"size\":10,\"solidity\":0.2}},\"type\":\"barpolar\"}],\"pie\":[{\"automargin\":true,\"type\":\"pie\"}]},\"layout\":{\"autotypenumbers\":\"strict\",\"colorway\":[\"#636efa\",\"#EF553B\",\"#00cc96\",\"#ab63fa\",\"#FFA15A\",\"#19d3f3\",\"#FF6692\",\"#B6E880\",\"#FF97FF\",\"#FECB52\"],\"font\":{\"color\":\"#2a3f5f\"},\"hovermode\":\"closest\",\"hoverlabel\":{\"align\":\"left\"},\"paper_bgcolor\":\"white\",\"plot_bgcolor\":\"#E5ECF6\",\"polar\":{\"bgcolor\":\"#E5ECF6\",\"angularaxis\":{\"gridcolor\":\"white\",\"linecolor\":\"white\",\"ticks\":\"\"},\"radialaxis\":{\"gridcolor\":\"white\",\"linecolor\":\"white\",\"ticks\":\"\"}},\"ternary\":{\"bgcolor\":\"#E5ECF6\",\"aaxis\":{\"gridcolor\":\"white\",\"linecolor\":\"white\",\"ticks\":\"\"},\"baxis\":{\"gridcolor\":\"white\",\"linecolor\":\"white\",\"ticks\":\"\"},\"caxis\":{\"gridcolor\":\"white\",\"linecolor\":\"white\",\"ticks\":\"\"}},\"coloraxis\":{\"colorbar\":{\"outlinewidth\":0,\"ticks\":\"\"}},\"colorscale\":{\"sequential\":[[0.0,\"#0d0887\"],[0.1111111111111111,\"#46039f\"],[0.2222222222222222,\"#7201a8\"],[0.3333333333333333,\"#9c179e\"],[0.4444444444444444,\"#bd3786\"],[0.5555555555555556,\"#d8576b\"],[0.6666666666666666,\"#ed7953\"],[0.7777777777777778,\"#fb9f3a\"],[0.8888888888888888,\"#fdca26\"],[1.0,\"#f0f921\"]],\"sequentialminus\":[[0.0,\"#0d0887\"],[0.1111111111111111,\"#46039f\"],[0.2222222222222222,\"#7201a8\"],[0.3333333333333333,\"#9c179e\"],[0.4444444444444444,\"#bd3786\"],[0.5555555555555556,\"#d8576b\"],[0.6666666666666666,\"#ed7953\"],[0.7777777777777778,\"#fb9f3a\"],[0.8888888888888888,\"#fdca26\"],[1.0,\"#f0f921\"]],\"diverging\":[[0,\"#8e0152\"],[0.1,\"#c51b7d\"],[0.2,\"#de77ae\"],[0.3,\"#f1b6da\"],[0.4,\"#fde0ef\"],[0.5,\"#f7f7f7\"],[0.6,\"#e6f5d0\"],[0.7,\"#b8e186\"],[0.8,\"#7fbc41\"],[0.9,\"#4d9221\"],[1,\"#276419\"]]},\"xaxis\":{\"gridcolor\":\"white\",\"linecolor\":\"white\",\"ticks\":\"\",\"title\":{\"standoff\":15},\"zerolinecolor\":\"white\",\"automargin\":true,\"zerolinewidth\":2},\"yaxis\":{\"gridcolor\":\"white\",\"linecolor\":\"white\",\"ticks\":\"\",\"title\":{\"standoff\":15},\"zerolinecolor\":\"white\",\"automargin\":true,\"zerolinewidth\":2},\"scene\":{\"xaxis\":{\"backgroundcolor\":\"#E5ECF6\",\"gridcolor\":\"white\",\"linecolor\":\"white\",\"showbackground\":true,\"ticks\":\"\",\"zerolinecolor\":\"white\",\"gridwidth\":2},\"yaxis\":{\"backgroundcolor\":\"#E5ECF6\",\"gridcolor\":\"white\",\"linecolor\":\"white\",\"showbackground\":true,\"ticks\":\"\",\"zerolinecolor\":\"white\",\"gridwidth\":2},\"zaxis\":{\"backgroundcolor\":\"#E5ECF6\",\"gridcolor\":\"white\",\"linecolor\":\"white\",\"showbackground\":true,\"ticks\":\"\",\"zerolinecolor\":\"white\",\"gridwidth\":2}},\"shapedefaults\":{\"line\":{\"color\":\"#2a3f5f\"}},\"annotationdefaults\":{\"arrowcolor\":\"#2a3f5f\",\"arrowhead\":0,\"arrowwidth\":1},\"geo\":{\"bgcolor\":\"white\",\"landcolor\":\"#E5ECF6\",\"subunitcolor\":\"white\",\"showland\":true,\"showlakes\":true,\"lakecolor\":\"white\"},\"title\":{\"x\":0.05},\"mapbox\":{\"style\":\"light\"}}}},                        {\"responsive\": true}                    ).then(function(){\n",
       "                            \n",
       "var gd = document.getElementById('d675ed6f-485d-4fea-9a98-5ae2641ac4b1');\n",
       "var x = new MutationObserver(function (mutations, observer) {{\n",
       "        var display = window.getComputedStyle(gd).display;\n",
       "        if (!display || display === 'none') {{\n",
       "            console.log([gd, 'removed!']);\n",
       "            Plotly.purge(gd);\n",
       "            observer.disconnect();\n",
       "        }}\n",
       "}});\n",
       "\n",
       "// Listen for the removal of the full notebook cells\n",
       "var notebookContainer = gd.closest('#notebook-container');\n",
       "if (notebookContainer) {{\n",
       "    x.observe(notebookContainer, {childList: true});\n",
       "}}\n",
       "\n",
       "// Listen for the clearing of the current output cell\n",
       "var outputEl = gd.closest('.output');\n",
       "if (outputEl) {{\n",
       "    x.observe(outputEl, {childList: true});\n",
       "}}\n",
       "\n",
       "                        })                };                });            </script>        </div>"
      ]
     },
     "metadata": {},
     "output_type": "display_data"
    },
    {
     "data": {
      "application/vnd.plotly.v1+json": {
       "config": {
        "plotlyServerURL": "https://plot.ly"
       },
       "data": [
        {
         "cliponaxis": false,
         "hovertemplate": [
          "learning_rate (FloatDistribution): 1.0<extra></extra>"
         ],
         "name": "Objective Value",
         "orientation": "h",
         "text": [
          "1.00"
         ],
         "textposition": "outside",
         "type": "bar",
         "x": [
          1
         ],
         "y": [
          "learning_rate"
         ]
        }
       ],
       "layout": {
        "template": {
         "data": {
          "bar": [
           {
            "error_x": {
             "color": "#2a3f5f"
            },
            "error_y": {
             "color": "#2a3f5f"
            },
            "marker": {
             "line": {
              "color": "#E5ECF6",
              "width": 0.5
             },
             "pattern": {
              "fillmode": "overlay",
              "size": 10,
              "solidity": 0.2
             }
            },
            "type": "bar"
           }
          ],
          "barpolar": [
           {
            "marker": {
             "line": {
              "color": "#E5ECF6",
              "width": 0.5
             },
             "pattern": {
              "fillmode": "overlay",
              "size": 10,
              "solidity": 0.2
             }
            },
            "type": "barpolar"
           }
          ],
          "carpet": [
           {
            "aaxis": {
             "endlinecolor": "#2a3f5f",
             "gridcolor": "white",
             "linecolor": "white",
             "minorgridcolor": "white",
             "startlinecolor": "#2a3f5f"
            },
            "baxis": {
             "endlinecolor": "#2a3f5f",
             "gridcolor": "white",
             "linecolor": "white",
             "minorgridcolor": "white",
             "startlinecolor": "#2a3f5f"
            },
            "type": "carpet"
           }
          ],
          "choropleth": [
           {
            "colorbar": {
             "outlinewidth": 0,
             "ticks": ""
            },
            "type": "choropleth"
           }
          ],
          "contour": [
           {
            "colorbar": {
             "outlinewidth": 0,
             "ticks": ""
            },
            "colorscale": [
             [
              0,
              "#0d0887"
             ],
             [
              0.1111111111111111,
              "#46039f"
             ],
             [
              0.2222222222222222,
              "#7201a8"
             ],
             [
              0.3333333333333333,
              "#9c179e"
             ],
             [
              0.4444444444444444,
              "#bd3786"
             ],
             [
              0.5555555555555556,
              "#d8576b"
             ],
             [
              0.6666666666666666,
              "#ed7953"
             ],
             [
              0.7777777777777778,
              "#fb9f3a"
             ],
             [
              0.8888888888888888,
              "#fdca26"
             ],
             [
              1,
              "#f0f921"
             ]
            ],
            "type": "contour"
           }
          ],
          "contourcarpet": [
           {
            "colorbar": {
             "outlinewidth": 0,
             "ticks": ""
            },
            "type": "contourcarpet"
           }
          ],
          "heatmap": [
           {
            "colorbar": {
             "outlinewidth": 0,
             "ticks": ""
            },
            "colorscale": [
             [
              0,
              "#0d0887"
             ],
             [
              0.1111111111111111,
              "#46039f"
             ],
             [
              0.2222222222222222,
              "#7201a8"
             ],
             [
              0.3333333333333333,
              "#9c179e"
             ],
             [
              0.4444444444444444,
              "#bd3786"
             ],
             [
              0.5555555555555556,
              "#d8576b"
             ],
             [
              0.6666666666666666,
              "#ed7953"
             ],
             [
              0.7777777777777778,
              "#fb9f3a"
             ],
             [
              0.8888888888888888,
              "#fdca26"
             ],
             [
              1,
              "#f0f921"
             ]
            ],
            "type": "heatmap"
           }
          ],
          "heatmapgl": [
           {
            "colorbar": {
             "outlinewidth": 0,
             "ticks": ""
            },
            "colorscale": [
             [
              0,
              "#0d0887"
             ],
             [
              0.1111111111111111,
              "#46039f"
             ],
             [
              0.2222222222222222,
              "#7201a8"
             ],
             [
              0.3333333333333333,
              "#9c179e"
             ],
             [
              0.4444444444444444,
              "#bd3786"
             ],
             [
              0.5555555555555556,
              "#d8576b"
             ],
             [
              0.6666666666666666,
              "#ed7953"
             ],
             [
              0.7777777777777778,
              "#fb9f3a"
             ],
             [
              0.8888888888888888,
              "#fdca26"
             ],
             [
              1,
              "#f0f921"
             ]
            ],
            "type": "heatmapgl"
           }
          ],
          "histogram": [
           {
            "marker": {
             "pattern": {
              "fillmode": "overlay",
              "size": 10,
              "solidity": 0.2
             }
            },
            "type": "histogram"
           }
          ],
          "histogram2d": [
           {
            "colorbar": {
             "outlinewidth": 0,
             "ticks": ""
            },
            "colorscale": [
             [
              0,
              "#0d0887"
             ],
             [
              0.1111111111111111,
              "#46039f"
             ],
             [
              0.2222222222222222,
              "#7201a8"
             ],
             [
              0.3333333333333333,
              "#9c179e"
             ],
             [
              0.4444444444444444,
              "#bd3786"
             ],
             [
              0.5555555555555556,
              "#d8576b"
             ],
             [
              0.6666666666666666,
              "#ed7953"
             ],
             [
              0.7777777777777778,
              "#fb9f3a"
             ],
             [
              0.8888888888888888,
              "#fdca26"
             ],
             [
              1,
              "#f0f921"
             ]
            ],
            "type": "histogram2d"
           }
          ],
          "histogram2dcontour": [
           {
            "colorbar": {
             "outlinewidth": 0,
             "ticks": ""
            },
            "colorscale": [
             [
              0,
              "#0d0887"
             ],
             [
              0.1111111111111111,
              "#46039f"
             ],
             [
              0.2222222222222222,
              "#7201a8"
             ],
             [
              0.3333333333333333,
              "#9c179e"
             ],
             [
              0.4444444444444444,
              "#bd3786"
             ],
             [
              0.5555555555555556,
              "#d8576b"
             ],
             [
              0.6666666666666666,
              "#ed7953"
             ],
             [
              0.7777777777777778,
              "#fb9f3a"
             ],
             [
              0.8888888888888888,
              "#fdca26"
             ],
             [
              1,
              "#f0f921"
             ]
            ],
            "type": "histogram2dcontour"
           }
          ],
          "mesh3d": [
           {
            "colorbar": {
             "outlinewidth": 0,
             "ticks": ""
            },
            "type": "mesh3d"
           }
          ],
          "parcoords": [
           {
            "line": {
             "colorbar": {
              "outlinewidth": 0,
              "ticks": ""
             }
            },
            "type": "parcoords"
           }
          ],
          "pie": [
           {
            "automargin": true,
            "type": "pie"
           }
          ],
          "scatter": [
           {
            "fillpattern": {
             "fillmode": "overlay",
             "size": 10,
             "solidity": 0.2
            },
            "type": "scatter"
           }
          ],
          "scatter3d": [
           {
            "line": {
             "colorbar": {
              "outlinewidth": 0,
              "ticks": ""
             }
            },
            "marker": {
             "colorbar": {
              "outlinewidth": 0,
              "ticks": ""
             }
            },
            "type": "scatter3d"
           }
          ],
          "scattercarpet": [
           {
            "marker": {
             "colorbar": {
              "outlinewidth": 0,
              "ticks": ""
             }
            },
            "type": "scattercarpet"
           }
          ],
          "scattergeo": [
           {
            "marker": {
             "colorbar": {
              "outlinewidth": 0,
              "ticks": ""
             }
            },
            "type": "scattergeo"
           }
          ],
          "scattergl": [
           {
            "marker": {
             "colorbar": {
              "outlinewidth": 0,
              "ticks": ""
             }
            },
            "type": "scattergl"
           }
          ],
          "scattermapbox": [
           {
            "marker": {
             "colorbar": {
              "outlinewidth": 0,
              "ticks": ""
             }
            },
            "type": "scattermapbox"
           }
          ],
          "scatterpolar": [
           {
            "marker": {
             "colorbar": {
              "outlinewidth": 0,
              "ticks": ""
             }
            },
            "type": "scatterpolar"
           }
          ],
          "scatterpolargl": [
           {
            "marker": {
             "colorbar": {
              "outlinewidth": 0,
              "ticks": ""
             }
            },
            "type": "scatterpolargl"
           }
          ],
          "scatterternary": [
           {
            "marker": {
             "colorbar": {
              "outlinewidth": 0,
              "ticks": ""
             }
            },
            "type": "scatterternary"
           }
          ],
          "surface": [
           {
            "colorbar": {
             "outlinewidth": 0,
             "ticks": ""
            },
            "colorscale": [
             [
              0,
              "#0d0887"
             ],
             [
              0.1111111111111111,
              "#46039f"
             ],
             [
              0.2222222222222222,
              "#7201a8"
             ],
             [
              0.3333333333333333,
              "#9c179e"
             ],
             [
              0.4444444444444444,
              "#bd3786"
             ],
             [
              0.5555555555555556,
              "#d8576b"
             ],
             [
              0.6666666666666666,
              "#ed7953"
             ],
             [
              0.7777777777777778,
              "#fb9f3a"
             ],
             [
              0.8888888888888888,
              "#fdca26"
             ],
             [
              1,
              "#f0f921"
             ]
            ],
            "type": "surface"
           }
          ],
          "table": [
           {
            "cells": {
             "fill": {
              "color": "#EBF0F8"
             },
             "line": {
              "color": "white"
             }
            },
            "header": {
             "fill": {
              "color": "#C8D4E3"
             },
             "line": {
              "color": "white"
             }
            },
            "type": "table"
           }
          ]
         },
         "layout": {
          "annotationdefaults": {
           "arrowcolor": "#2a3f5f",
           "arrowhead": 0,
           "arrowwidth": 1
          },
          "autotypenumbers": "strict",
          "coloraxis": {
           "colorbar": {
            "outlinewidth": 0,
            "ticks": ""
           }
          },
          "colorscale": {
           "diverging": [
            [
             0,
             "#8e0152"
            ],
            [
             0.1,
             "#c51b7d"
            ],
            [
             0.2,
             "#de77ae"
            ],
            [
             0.3,
             "#f1b6da"
            ],
            [
             0.4,
             "#fde0ef"
            ],
            [
             0.5,
             "#f7f7f7"
            ],
            [
             0.6,
             "#e6f5d0"
            ],
            [
             0.7,
             "#b8e186"
            ],
            [
             0.8,
             "#7fbc41"
            ],
            [
             0.9,
             "#4d9221"
            ],
            [
             1,
             "#276419"
            ]
           ],
           "sequential": [
            [
             0,
             "#0d0887"
            ],
            [
             0.1111111111111111,
             "#46039f"
            ],
            [
             0.2222222222222222,
             "#7201a8"
            ],
            [
             0.3333333333333333,
             "#9c179e"
            ],
            [
             0.4444444444444444,
             "#bd3786"
            ],
            [
             0.5555555555555556,
             "#d8576b"
            ],
            [
             0.6666666666666666,
             "#ed7953"
            ],
            [
             0.7777777777777778,
             "#fb9f3a"
            ],
            [
             0.8888888888888888,
             "#fdca26"
            ],
            [
             1,
             "#f0f921"
            ]
           ],
           "sequentialminus": [
            [
             0,
             "#0d0887"
            ],
            [
             0.1111111111111111,
             "#46039f"
            ],
            [
             0.2222222222222222,
             "#7201a8"
            ],
            [
             0.3333333333333333,
             "#9c179e"
            ],
            [
             0.4444444444444444,
             "#bd3786"
            ],
            [
             0.5555555555555556,
             "#d8576b"
            ],
            [
             0.6666666666666666,
             "#ed7953"
            ],
            [
             0.7777777777777778,
             "#fb9f3a"
            ],
            [
             0.8888888888888888,
             "#fdca26"
            ],
            [
             1,
             "#f0f921"
            ]
           ]
          },
          "colorway": [
           "#636efa",
           "#EF553B",
           "#00cc96",
           "#ab63fa",
           "#FFA15A",
           "#19d3f3",
           "#FF6692",
           "#B6E880",
           "#FF97FF",
           "#FECB52"
          ],
          "font": {
           "color": "#2a3f5f"
          },
          "geo": {
           "bgcolor": "white",
           "lakecolor": "white",
           "landcolor": "#E5ECF6",
           "showlakes": true,
           "showland": true,
           "subunitcolor": "white"
          },
          "hoverlabel": {
           "align": "left"
          },
          "hovermode": "closest",
          "mapbox": {
           "style": "light"
          },
          "paper_bgcolor": "white",
          "plot_bgcolor": "#E5ECF6",
          "polar": {
           "angularaxis": {
            "gridcolor": "white",
            "linecolor": "white",
            "ticks": ""
           },
           "bgcolor": "#E5ECF6",
           "radialaxis": {
            "gridcolor": "white",
            "linecolor": "white",
            "ticks": ""
           }
          },
          "scene": {
           "xaxis": {
            "backgroundcolor": "#E5ECF6",
            "gridcolor": "white",
            "gridwidth": 2,
            "linecolor": "white",
            "showbackground": true,
            "ticks": "",
            "zerolinecolor": "white"
           },
           "yaxis": {
            "backgroundcolor": "#E5ECF6",
            "gridcolor": "white",
            "gridwidth": 2,
            "linecolor": "white",
            "showbackground": true,
            "ticks": "",
            "zerolinecolor": "white"
           },
           "zaxis": {
            "backgroundcolor": "#E5ECF6",
            "gridcolor": "white",
            "gridwidth": 2,
            "linecolor": "white",
            "showbackground": true,
            "ticks": "",
            "zerolinecolor": "white"
           }
          },
          "shapedefaults": {
           "line": {
            "color": "#2a3f5f"
           }
          },
          "ternary": {
           "aaxis": {
            "gridcolor": "white",
            "linecolor": "white",
            "ticks": ""
           },
           "baxis": {
            "gridcolor": "white",
            "linecolor": "white",
            "ticks": ""
           },
           "bgcolor": "#E5ECF6",
           "caxis": {
            "gridcolor": "white",
            "linecolor": "white",
            "ticks": ""
           }
          },
          "title": {
           "x": 0.05
          },
          "xaxis": {
           "automargin": true,
           "gridcolor": "white",
           "linecolor": "white",
           "ticks": "",
           "title": {
            "standoff": 15
           },
           "zerolinecolor": "white",
           "zerolinewidth": 2
          },
          "yaxis": {
           "automargin": true,
           "gridcolor": "white",
           "linecolor": "white",
           "ticks": "",
           "title": {
            "standoff": 15
           },
           "zerolinecolor": "white",
           "zerolinewidth": 2
          }
         }
        },
        "title": {
         "text": "Hyperparameter Importances"
        },
        "xaxis": {
         "title": {
          "text": "Hyperparameter Importance"
         }
        },
        "yaxis": {
         "title": {
          "text": "Hyperparameter"
         }
        }
       }
      },
      "text/html": [
       "<div>                            <div id=\"c1f6129f-d3df-4cd2-b18d-bca16389ec74\" class=\"plotly-graph-div\" style=\"height:525px; width:100%;\"></div>            <script type=\"text/javascript\">                require([\"plotly\"], function(Plotly) {                    window.PLOTLYENV=window.PLOTLYENV || {};                                    if (document.getElementById(\"c1f6129f-d3df-4cd2-b18d-bca16389ec74\")) {                    Plotly.newPlot(                        \"c1f6129f-d3df-4cd2-b18d-bca16389ec74\",                        [{\"cliponaxis\":false,\"hovertemplate\":[\"learning_rate (FloatDistribution): 1.0\\u003cextra\\u003e\\u003c\\u002fextra\\u003e\"],\"name\":\"Objective Value\",\"orientation\":\"h\",\"text\":[\"1.00\"],\"textposition\":\"outside\",\"x\":[1.0],\"y\":[\"learning_rate\"],\"type\":\"bar\"}],                        {\"title\":{\"text\":\"Hyperparameter Importances\"},\"xaxis\":{\"title\":{\"text\":\"Hyperparameter Importance\"}},\"yaxis\":{\"title\":{\"text\":\"Hyperparameter\"}},\"template\":{\"data\":{\"histogram2dcontour\":[{\"type\":\"histogram2dcontour\",\"colorbar\":{\"outlinewidth\":0,\"ticks\":\"\"},\"colorscale\":[[0.0,\"#0d0887\"],[0.1111111111111111,\"#46039f\"],[0.2222222222222222,\"#7201a8\"],[0.3333333333333333,\"#9c179e\"],[0.4444444444444444,\"#bd3786\"],[0.5555555555555556,\"#d8576b\"],[0.6666666666666666,\"#ed7953\"],[0.7777777777777778,\"#fb9f3a\"],[0.8888888888888888,\"#fdca26\"],[1.0,\"#f0f921\"]]}],\"choropleth\":[{\"type\":\"choropleth\",\"colorbar\":{\"outlinewidth\":0,\"ticks\":\"\"}}],\"histogram2d\":[{\"type\":\"histogram2d\",\"colorbar\":{\"outlinewidth\":0,\"ticks\":\"\"},\"colorscale\":[[0.0,\"#0d0887\"],[0.1111111111111111,\"#46039f\"],[0.2222222222222222,\"#7201a8\"],[0.3333333333333333,\"#9c179e\"],[0.4444444444444444,\"#bd3786\"],[0.5555555555555556,\"#d8576b\"],[0.6666666666666666,\"#ed7953\"],[0.7777777777777778,\"#fb9f3a\"],[0.8888888888888888,\"#fdca26\"],[1.0,\"#f0f921\"]]}],\"heatmap\":[{\"type\":\"heatmap\",\"colorbar\":{\"outlinewidth\":0,\"ticks\":\"\"},\"colorscale\":[[0.0,\"#0d0887\"],[0.1111111111111111,\"#46039f\"],[0.2222222222222222,\"#7201a8\"],[0.3333333333333333,\"#9c179e\"],[0.4444444444444444,\"#bd3786\"],[0.5555555555555556,\"#d8576b\"],[0.6666666666666666,\"#ed7953\"],[0.7777777777777778,\"#fb9f3a\"],[0.8888888888888888,\"#fdca26\"],[1.0,\"#f0f921\"]]}],\"heatmapgl\":[{\"type\":\"heatmapgl\",\"colorbar\":{\"outlinewidth\":0,\"ticks\":\"\"},\"colorscale\":[[0.0,\"#0d0887\"],[0.1111111111111111,\"#46039f\"],[0.2222222222222222,\"#7201a8\"],[0.3333333333333333,\"#9c179e\"],[0.4444444444444444,\"#bd3786\"],[0.5555555555555556,\"#d8576b\"],[0.6666666666666666,\"#ed7953\"],[0.7777777777777778,\"#fb9f3a\"],[0.8888888888888888,\"#fdca26\"],[1.0,\"#f0f921\"]]}],\"contourcarpet\":[{\"type\":\"contourcarpet\",\"colorbar\":{\"outlinewidth\":0,\"ticks\":\"\"}}],\"contour\":[{\"type\":\"contour\",\"colorbar\":{\"outlinewidth\":0,\"ticks\":\"\"},\"colorscale\":[[0.0,\"#0d0887\"],[0.1111111111111111,\"#46039f\"],[0.2222222222222222,\"#7201a8\"],[0.3333333333333333,\"#9c179e\"],[0.4444444444444444,\"#bd3786\"],[0.5555555555555556,\"#d8576b\"],[0.6666666666666666,\"#ed7953\"],[0.7777777777777778,\"#fb9f3a\"],[0.8888888888888888,\"#fdca26\"],[1.0,\"#f0f921\"]]}],\"surface\":[{\"type\":\"surface\",\"colorbar\":{\"outlinewidth\":0,\"ticks\":\"\"},\"colorscale\":[[0.0,\"#0d0887\"],[0.1111111111111111,\"#46039f\"],[0.2222222222222222,\"#7201a8\"],[0.3333333333333333,\"#9c179e\"],[0.4444444444444444,\"#bd3786\"],[0.5555555555555556,\"#d8576b\"],[0.6666666666666666,\"#ed7953\"],[0.7777777777777778,\"#fb9f3a\"],[0.8888888888888888,\"#fdca26\"],[1.0,\"#f0f921\"]]}],\"mesh3d\":[{\"type\":\"mesh3d\",\"colorbar\":{\"outlinewidth\":0,\"ticks\":\"\"}}],\"scatter\":[{\"fillpattern\":{\"fillmode\":\"overlay\",\"size\":10,\"solidity\":0.2},\"type\":\"scatter\"}],\"parcoords\":[{\"type\":\"parcoords\",\"line\":{\"colorbar\":{\"outlinewidth\":0,\"ticks\":\"\"}}}],\"scatterpolargl\":[{\"type\":\"scatterpolargl\",\"marker\":{\"colorbar\":{\"outlinewidth\":0,\"ticks\":\"\"}}}],\"bar\":[{\"error_x\":{\"color\":\"#2a3f5f\"},\"error_y\":{\"color\":\"#2a3f5f\"},\"marker\":{\"line\":{\"color\":\"#E5ECF6\",\"width\":0.5},\"pattern\":{\"fillmode\":\"overlay\",\"size\":10,\"solidity\":0.2}},\"type\":\"bar\"}],\"scattergeo\":[{\"type\":\"scattergeo\",\"marker\":{\"colorbar\":{\"outlinewidth\":0,\"ticks\":\"\"}}}],\"scatterpolar\":[{\"type\":\"scatterpolar\",\"marker\":{\"colorbar\":{\"outlinewidth\":0,\"ticks\":\"\"}}}],\"histogram\":[{\"marker\":{\"pattern\":{\"fillmode\":\"overlay\",\"size\":10,\"solidity\":0.2}},\"type\":\"histogram\"}],\"scattergl\":[{\"type\":\"scattergl\",\"marker\":{\"colorbar\":{\"outlinewidth\":0,\"ticks\":\"\"}}}],\"scatter3d\":[{\"type\":\"scatter3d\",\"line\":{\"colorbar\":{\"outlinewidth\":0,\"ticks\":\"\"}},\"marker\":{\"colorbar\":{\"outlinewidth\":0,\"ticks\":\"\"}}}],\"scattermapbox\":[{\"type\":\"scattermapbox\",\"marker\":{\"colorbar\":{\"outlinewidth\":0,\"ticks\":\"\"}}}],\"scatterternary\":[{\"type\":\"scatterternary\",\"marker\":{\"colorbar\":{\"outlinewidth\":0,\"ticks\":\"\"}}}],\"scattercarpet\":[{\"type\":\"scattercarpet\",\"marker\":{\"colorbar\":{\"outlinewidth\":0,\"ticks\":\"\"}}}],\"carpet\":[{\"aaxis\":{\"endlinecolor\":\"#2a3f5f\",\"gridcolor\":\"white\",\"linecolor\":\"white\",\"minorgridcolor\":\"white\",\"startlinecolor\":\"#2a3f5f\"},\"baxis\":{\"endlinecolor\":\"#2a3f5f\",\"gridcolor\":\"white\",\"linecolor\":\"white\",\"minorgridcolor\":\"white\",\"startlinecolor\":\"#2a3f5f\"},\"type\":\"carpet\"}],\"table\":[{\"cells\":{\"fill\":{\"color\":\"#EBF0F8\"},\"line\":{\"color\":\"white\"}},\"header\":{\"fill\":{\"color\":\"#C8D4E3\"},\"line\":{\"color\":\"white\"}},\"type\":\"table\"}],\"barpolar\":[{\"marker\":{\"line\":{\"color\":\"#E5ECF6\",\"width\":0.5},\"pattern\":{\"fillmode\":\"overlay\",\"size\":10,\"solidity\":0.2}},\"type\":\"barpolar\"}],\"pie\":[{\"automargin\":true,\"type\":\"pie\"}]},\"layout\":{\"autotypenumbers\":\"strict\",\"colorway\":[\"#636efa\",\"#EF553B\",\"#00cc96\",\"#ab63fa\",\"#FFA15A\",\"#19d3f3\",\"#FF6692\",\"#B6E880\",\"#FF97FF\",\"#FECB52\"],\"font\":{\"color\":\"#2a3f5f\"},\"hovermode\":\"closest\",\"hoverlabel\":{\"align\":\"left\"},\"paper_bgcolor\":\"white\",\"plot_bgcolor\":\"#E5ECF6\",\"polar\":{\"bgcolor\":\"#E5ECF6\",\"angularaxis\":{\"gridcolor\":\"white\",\"linecolor\":\"white\",\"ticks\":\"\"},\"radialaxis\":{\"gridcolor\":\"white\",\"linecolor\":\"white\",\"ticks\":\"\"}},\"ternary\":{\"bgcolor\":\"#E5ECF6\",\"aaxis\":{\"gridcolor\":\"white\",\"linecolor\":\"white\",\"ticks\":\"\"},\"baxis\":{\"gridcolor\":\"white\",\"linecolor\":\"white\",\"ticks\":\"\"},\"caxis\":{\"gridcolor\":\"white\",\"linecolor\":\"white\",\"ticks\":\"\"}},\"coloraxis\":{\"colorbar\":{\"outlinewidth\":0,\"ticks\":\"\"}},\"colorscale\":{\"sequential\":[[0.0,\"#0d0887\"],[0.1111111111111111,\"#46039f\"],[0.2222222222222222,\"#7201a8\"],[0.3333333333333333,\"#9c179e\"],[0.4444444444444444,\"#bd3786\"],[0.5555555555555556,\"#d8576b\"],[0.6666666666666666,\"#ed7953\"],[0.7777777777777778,\"#fb9f3a\"],[0.8888888888888888,\"#fdca26\"],[1.0,\"#f0f921\"]],\"sequentialminus\":[[0.0,\"#0d0887\"],[0.1111111111111111,\"#46039f\"],[0.2222222222222222,\"#7201a8\"],[0.3333333333333333,\"#9c179e\"],[0.4444444444444444,\"#bd3786\"],[0.5555555555555556,\"#d8576b\"],[0.6666666666666666,\"#ed7953\"],[0.7777777777777778,\"#fb9f3a\"],[0.8888888888888888,\"#fdca26\"],[1.0,\"#f0f921\"]],\"diverging\":[[0,\"#8e0152\"],[0.1,\"#c51b7d\"],[0.2,\"#de77ae\"],[0.3,\"#f1b6da\"],[0.4,\"#fde0ef\"],[0.5,\"#f7f7f7\"],[0.6,\"#e6f5d0\"],[0.7,\"#b8e186\"],[0.8,\"#7fbc41\"],[0.9,\"#4d9221\"],[1,\"#276419\"]]},\"xaxis\":{\"gridcolor\":\"white\",\"linecolor\":\"white\",\"ticks\":\"\",\"title\":{\"standoff\":15},\"zerolinecolor\":\"white\",\"automargin\":true,\"zerolinewidth\":2},\"yaxis\":{\"gridcolor\":\"white\",\"linecolor\":\"white\",\"ticks\":\"\",\"title\":{\"standoff\":15},\"zerolinecolor\":\"white\",\"automargin\":true,\"zerolinewidth\":2},\"scene\":{\"xaxis\":{\"backgroundcolor\":\"#E5ECF6\",\"gridcolor\":\"white\",\"linecolor\":\"white\",\"showbackground\":true,\"ticks\":\"\",\"zerolinecolor\":\"white\",\"gridwidth\":2},\"yaxis\":{\"backgroundcolor\":\"#E5ECF6\",\"gridcolor\":\"white\",\"linecolor\":\"white\",\"showbackground\":true,\"ticks\":\"\",\"zerolinecolor\":\"white\",\"gridwidth\":2},\"zaxis\":{\"backgroundcolor\":\"#E5ECF6\",\"gridcolor\":\"white\",\"linecolor\":\"white\",\"showbackground\":true,\"ticks\":\"\",\"zerolinecolor\":\"white\",\"gridwidth\":2}},\"shapedefaults\":{\"line\":{\"color\":\"#2a3f5f\"}},\"annotationdefaults\":{\"arrowcolor\":\"#2a3f5f\",\"arrowhead\":0,\"arrowwidth\":1},\"geo\":{\"bgcolor\":\"white\",\"landcolor\":\"#E5ECF6\",\"subunitcolor\":\"white\",\"showland\":true,\"showlakes\":true,\"lakecolor\":\"white\"},\"title\":{\"x\":0.05},\"mapbox\":{\"style\":\"light\"}}}},                        {\"responsive\": true}                    ).then(function(){\n",
       "                            \n",
       "var gd = document.getElementById('c1f6129f-d3df-4cd2-b18d-bca16389ec74');\n",
       "var x = new MutationObserver(function (mutations, observer) {{\n",
       "        var display = window.getComputedStyle(gd).display;\n",
       "        if (!display || display === 'none') {{\n",
       "            console.log([gd, 'removed!']);\n",
       "            Plotly.purge(gd);\n",
       "            observer.disconnect();\n",
       "        }}\n",
       "}});\n",
       "\n",
       "// Listen for the removal of the full notebook cells\n",
       "var notebookContainer = gd.closest('#notebook-container');\n",
       "if (notebookContainer) {{\n",
       "    x.observe(notebookContainer, {childList: true});\n",
       "}}\n",
       "\n",
       "// Listen for the clearing of the current output cell\n",
       "var outputEl = gd.closest('.output');\n",
       "if (outputEl) {{\n",
       "    x.observe(outputEl, {childList: true});\n",
       "}}\n",
       "\n",
       "                        })                };                });            </script>        </div>"
      ]
     },
     "metadata": {},
     "output_type": "display_data"
    }
   ],
   "source": [
    "try:\n",
    "    import optuna.visualization as vis\n",
    "    vis.plot_optimization_history(study).show()\n",
    "    vis.plot_param_importances(study).show()\n",
    "except ImportError:\n",
    "    print(\"Optuna visualization is not available. Install optuna[visualization] for plotting.\")\n"
   ]
  },
  {
   "attachments": {},
   "cell_type": "markdown",
   "metadata": {},
   "source": [
    "### Optuna hyper-par optimization"
   ]
  },
  {
   "cell_type": "code",
   "execution_count": 46,
   "metadata": {},
   "outputs": [
    {
     "name": "stderr",
     "output_type": "stream",
     "text": [
      "[I 2024-09-17 22:41:34,615] A new study created in memory with name: no-name-4aeffad0-ab93-40e3-b375-08f498d7755a\n",
      "/home/leilapirhaji/mz_embed_engine/ml/pretrain/train_pretrain_VAE.py:235: FutureWarning:\n",
      "\n",
      "suggest_loguniform has been deprecated in v3.0.0. This feature will be removed in v6.0.0. See https://github.com/optuna/optuna/releases/tag/v3.0.0. Use suggest_float(..., log=True) instead.\n",
      "\n"
     ]
    },
    {
     "name": "stdout",
     "output_type": "stream",
     "text": [
      "Epoch 1/100, Train Loss: 219.3700\n",
      "Validation Loss: 72.4860\n",
      "Epoch 2/100, Train Loss: 72.5842\n",
      "Validation Loss: 72.5135\n",
      "Epoch 3/100, Train Loss: 72.5578\n",
      "Validation Loss: 72.5552\n",
      "Epoch 4/100, Train Loss: 72.5531\n",
      "Validation Loss: 72.5473\n",
      "Epoch 5/100, Train Loss: 72.5549\n",
      "Validation Loss: 72.5642\n",
      "Epoch 6/100, Train Loss: 72.5521\n",
      "Validation Loss: 72.5770\n",
      "Epoch 7/100, Train Loss: 72.5419\n",
      "Validation Loss: 72.5420\n",
      "Epoch 8/100, Train Loss: 72.5318\n",
      "Validation Loss: 72.5467\n",
      "Epoch 9/100, Train Loss: 72.5298\n",
      "Validation Loss: 72.5328\n",
      "Epoch 10/100, Train Loss: 72.5290\n",
      "Validation Loss: 72.5263\n",
      "Epoch 11/100, Train Loss: 72.5290\n",
      "Validation Loss: 72.5234\n",
      "Epoch 12/100, Train Loss: 72.5262\n",
      "Validation Loss: 72.5237\n",
      "Epoch 13/100, Train Loss: 72.5239\n",
      "Validation Loss: 72.5149\n",
      "Epoch 14/100, Train Loss: 72.5240\n",
      "Validation Loss: 72.5176\n",
      "Epoch 15/100, Train Loss: 72.5212\n",
      "Validation Loss: 72.5190\n"
     ]
    },
    {
     "name": "stderr",
     "output_type": "stream",
     "text": [
      "[I 2024-09-17 22:42:05,740] Trial 0 finished with value: 72.50889104726363 and parameters: {'latent_size': 288, 'dropout_rate': 0.4613678111526134, 'learning_rate': 6.0115348199659396e-05, 'weight_decay': 3.6572068324510954e-05, 'patience': 15}. Best is trial 0 with value: 72.50889104726363.\n"
     ]
    },
    {
     "name": "stdout",
     "output_type": "stream",
     "text": [
      "Epoch 16/100, Train Loss: 72.5210\n",
      "Validation Loss: 72.5089\n",
      "Early stopping triggered at epoch 16\n",
      "Encoder saved to /home/leilapirhaji/pretrained_models/vae_hyperparam_optimization_test/trial_0/encoder_state.pt\n",
      "Hyperparameters saved to /home/leilapirhaji/pretrained_models/vae_hyperparam_optimization_test/trial_0/model_hyperparameters.json\n",
      "Epoch 1/100, Train Loss: 37982496132777880.0000\n",
      "Validation Loss: 13854.3767\n",
      "Epoch 2/100, Train Loss: 26436690260618440704.0000\n",
      "Validation Loss: 128.4619\n",
      "Epoch 3/100, Train Loss: 128.4959\n",
      "Validation Loss: 128.4672\n",
      "Epoch 4/100, Train Loss: 128.4953\n",
      "Validation Loss: 128.4714\n",
      "Epoch 5/100, Train Loss: 128.5030\n",
      "Validation Loss: 128.4627\n",
      "Epoch 6/100, Train Loss: 128.4938\n",
      "Validation Loss: 128.4677\n",
      "Epoch 7/100, Train Loss: 128.5014\n",
      "Validation Loss: 128.4647\n",
      "Epoch 8/100, Train Loss: 128.5010\n",
      "Validation Loss: 128.4633\n",
      "Epoch 9/100, Train Loss: 128.5087\n",
      "Validation Loss: 128.4658\n",
      "Epoch 10/100, Train Loss: 128.5112\n",
      "Validation Loss: 128.4785\n",
      "Epoch 11/100, Train Loss: 128.5080\n",
      "Validation Loss: 128.4770\n",
      "Epoch 12/100, Train Loss: 128.5051\n",
      "Validation Loss: 128.4721\n",
      "Epoch 13/100, Train Loss: 128.5057\n",
      "Validation Loss: 128.5009\n",
      "Epoch 14/100, Train Loss: 128.5042\n",
      "Validation Loss: 128.4644\n",
      "Epoch 15/100, Train Loss: 128.4962\n",
      "Validation Loss: 128.4696\n",
      "Epoch 16/100, Train Loss: 128.5025\n",
      "Validation Loss: 128.4716\n",
      "Epoch 17/100, Train Loss: 128.4972\n",
      "Validation Loss: 128.4734\n",
      "Epoch 18/100, Train Loss: 128.4991\n",
      "Validation Loss: 128.4612\n",
      "Epoch 19/100, Train Loss: 128.4970\n",
      "Validation Loss: 128.4696\n",
      "Epoch 20/100, Train Loss: 128.5005\n",
      "Validation Loss: 128.4609\n",
      "Epoch 21/100, Train Loss: 128.4889\n",
      "Validation Loss: 128.4802\n",
      "Epoch 22/100, Train Loss: 128.4926\n",
      "Validation Loss: 128.4581\n",
      "Epoch 23/100, Train Loss: 128.4873\n",
      "Validation Loss: 128.4527\n",
      "Epoch 24/100, Train Loss: 128.4868\n",
      "Validation Loss: 128.4642\n",
      "Epoch 25/100, Train Loss: 128.4868\n",
      "Validation Loss: 128.4533\n",
      "Epoch 26/100, Train Loss: 128.4814\n",
      "Validation Loss: 128.4533\n",
      "Epoch 27/100, Train Loss: 128.4805\n",
      "Validation Loss: 128.4599\n",
      "Epoch 28/100, Train Loss: 128.4830\n",
      "Validation Loss: 128.4842\n",
      "Epoch 29/100, Train Loss: 128.4870\n",
      "Validation Loss: 128.4578\n",
      "Epoch 30/100, Train Loss: 128.4795\n",
      "Validation Loss: 128.4496\n",
      "Epoch 31/100, Train Loss: 128.4772\n",
      "Validation Loss: 128.4440\n",
      "Epoch 32/100, Train Loss: 128.4756\n",
      "Validation Loss: 128.4456\n",
      "Epoch 33/100, Train Loss: 128.4710\n",
      "Validation Loss: 128.4471\n",
      "Epoch 34/100, Train Loss: 128.4761\n",
      "Validation Loss: 128.4482\n",
      "Epoch 35/100, Train Loss: 128.4708\n",
      "Validation Loss: 128.4495\n",
      "Epoch 36/100, Train Loss: 128.4680\n",
      "Validation Loss: 128.4576\n",
      "Epoch 37/100, Train Loss: 128.4679\n",
      "Validation Loss: 128.4460\n",
      "Epoch 38/100, Train Loss: 128.4679\n",
      "Validation Loss: 128.4385\n",
      "Epoch 39/100, Train Loss: 128.4677\n",
      "Validation Loss: 128.4384\n",
      "Epoch 40/100, Train Loss: 128.4597\n",
      "Validation Loss: 128.4432\n",
      "Epoch 41/100, Train Loss: 128.4658\n",
      "Validation Loss: 128.4561\n",
      "Epoch 42/100, Train Loss: 128.4626\n",
      "Validation Loss: 128.4379\n",
      "Epoch 43/100, Train Loss: 128.4661\n",
      "Validation Loss: 128.4346\n",
      "Epoch 44/100, Train Loss: 128.4663\n",
      "Validation Loss: 128.4329\n",
      "Epoch 45/100, Train Loss: 128.4711\n",
      "Validation Loss: 128.4533\n",
      "Epoch 46/100, Train Loss: 128.4602\n",
      "Validation Loss: 128.4301\n",
      "Epoch 47/100, Train Loss: 128.4616\n",
      "Validation Loss: 128.4272\n",
      "Epoch 48/100, Train Loss: 128.4607\n",
      "Validation Loss: 128.4475\n",
      "Epoch 49/100, Train Loss: 128.4637\n",
      "Validation Loss: 128.4395\n",
      "Epoch 50/100, Train Loss: 128.4624\n",
      "Validation Loss: 128.4344\n",
      "Epoch 51/100, Train Loss: 128.4581\n",
      "Validation Loss: 128.4299\n",
      "Epoch 52/100, Train Loss: 128.4595\n",
      "Validation Loss: 128.4324\n",
      "Epoch 53/100, Train Loss: 128.5878\n",
      "Validation Loss: 128.4347\n",
      "Epoch 54/100, Train Loss: 128.4535\n",
      "Validation Loss: 128.4451\n",
      "Epoch 55/100, Train Loss: 128.4550\n",
      "Validation Loss: 128.4258\n",
      "Epoch 56/100, Train Loss: 128.4529\n",
      "Validation Loss: 128.4320\n",
      "Epoch 57/100, Train Loss: 128.4574\n",
      "Validation Loss: 128.4340\n",
      "Epoch 58/100, Train Loss: 128.4562\n",
      "Validation Loss: 128.4433\n",
      "Epoch 59/100, Train Loss: 128.4545\n",
      "Validation Loss: 128.4261\n",
      "Epoch 60/100, Train Loss: 128.4506\n",
      "Validation Loss: 128.4296\n",
      "Epoch 61/100, Train Loss: 128.4509\n",
      "Validation Loss: 128.4230\n",
      "Epoch 62/100, Train Loss: 128.4789\n",
      "Validation Loss: 128.4215\n",
      "Epoch 63/100, Train Loss: 128.4504\n",
      "Validation Loss: 128.4407\n",
      "Epoch 64/100, Train Loss: 128.4529\n",
      "Validation Loss: 128.4255\n",
      "Epoch 65/100, Train Loss: 128.4518\n",
      "Validation Loss: 128.4189\n",
      "Epoch 66/100, Train Loss: 128.4530\n",
      "Validation Loss: 128.4289\n",
      "Epoch 67/100, Train Loss: 128.4493\n",
      "Validation Loss: 128.4333\n",
      "Epoch 68/100, Train Loss: 128.4469\n",
      "Validation Loss: 128.4200\n",
      "Epoch 69/100, Train Loss: 128.4500\n",
      "Validation Loss: 128.4223\n",
      "Epoch 70/100, Train Loss: 128.4515\n",
      "Validation Loss: 128.4199\n",
      "Epoch 71/100, Train Loss: 128.4477\n",
      "Validation Loss: 128.4201\n",
      "Epoch 72/100, Train Loss: 128.4475\n",
      "Validation Loss: 128.4173\n",
      "Epoch 73/100, Train Loss: 128.4432\n",
      "Validation Loss: 128.4204\n",
      "Epoch 74/100, Train Loss: 128.4394\n",
      "Validation Loss: 128.4239\n",
      "Epoch 75/100, Train Loss: 128.4434\n",
      "Validation Loss: 128.4171\n",
      "Epoch 76/100, Train Loss: 128.4471\n",
      "Validation Loss: 128.4252\n",
      "Epoch 77/100, Train Loss: 128.4419\n",
      "Validation Loss: 128.4190\n",
      "Epoch 78/100, Train Loss: 128.4411\n",
      "Validation Loss: 128.4123\n",
      "Epoch 79/100, Train Loss: 128.4377\n",
      "Validation Loss: 128.4229\n",
      "Epoch 80/100, Train Loss: 128.4427\n",
      "Validation Loss: 128.4129\n",
      "Epoch 81/100, Train Loss: 128.4433\n",
      "Validation Loss: 128.4122\n",
      "Epoch 82/100, Train Loss: 128.4428\n",
      "Validation Loss: 128.4197\n",
      "Epoch 83/100, Train Loss: 128.4392\n",
      "Validation Loss: 128.4108\n",
      "Epoch 84/100, Train Loss: 128.4363\n",
      "Validation Loss: 128.4187\n",
      "Epoch 85/100, Train Loss: 128.4433\n",
      "Validation Loss: 128.4163\n",
      "Epoch 86/100, Train Loss: 128.4399\n",
      "Validation Loss: 128.4160\n",
      "Epoch 87/100, Train Loss: 128.4396\n",
      "Validation Loss: 128.4109\n",
      "Epoch 88/100, Train Loss: 128.4338\n",
      "Validation Loss: 128.4103\n",
      "Epoch 89/100, Train Loss: 128.4327\n",
      "Validation Loss: 128.4209\n",
      "Epoch 90/100, Train Loss: 128.4394\n",
      "Validation Loss: 128.4342\n",
      "Epoch 91/100, Train Loss: 128.4420\n",
      "Validation Loss: 128.4154\n",
      "Epoch 92/100, Train Loss: 128.4357\n",
      "Validation Loss: 128.4181\n",
      "Epoch 93/100, Train Loss: 128.4442\n",
      "Validation Loss: 128.4148\n",
      "Epoch 94/100, Train Loss: 128.4368\n",
      "Validation Loss: 128.4118\n",
      "Epoch 95/100, Train Loss: 128.4410\n",
      "Validation Loss: 128.4144\n",
      "Epoch 96/100, Train Loss: 128.4341\n",
      "Validation Loss: 128.4086\n",
      "Epoch 97/100, Train Loss: 128.4336\n",
      "Validation Loss: 128.4229\n",
      "Epoch 98/100, Train Loss: 128.4364\n",
      "Validation Loss: 128.4171\n",
      "Epoch 99/100, Train Loss: 128.4379\n",
      "Validation Loss: 128.4215\n",
      "Epoch 100/100, Train Loss: 128.4377\n",
      "Validation Loss: 128.4125\n"
     ]
    },
    {
     "name": "stderr",
     "output_type": "stream",
     "text": [
      "[I 2024-09-17 22:46:10,131] Trial 1 finished with value: 128.41253911232462 and parameters: {'latent_size': 512, 'dropout_rate': 0.26184988135835274, 'learning_rate': 0.0006860042721194741, 'weight_decay': 1.4407267026324784e-05, 'patience': 25}. Best is trial 0 with value: 72.50889104726363.\n"
     ]
    },
    {
     "name": "stdout",
     "output_type": "stream",
     "text": [
      "Encoder saved to /home/leilapirhaji/pretrained_models/vae_hyperparam_optimization_test/trial_1/encoder_state.pt\n",
      "Hyperparameters saved to /home/leilapirhaji/pretrained_models/vae_hyperparam_optimization_test/trial_1/model_hyperparameters.json\n",
      "Epoch 1/100, Train Loss: 64.5162\n",
      "Validation Loss: 64.4441\n",
      "Epoch 2/100, Train Loss: 64.4986\n",
      "Validation Loss: 64.4633\n",
      "Epoch 3/100, Train Loss: 64.4889\n",
      "Validation Loss: 64.4558\n",
      "Epoch 4/100, Train Loss: 64.4858\n",
      "Validation Loss: 64.4594\n",
      "Epoch 5/100, Train Loss: 64.4853\n",
      "Validation Loss: 64.4588\n",
      "Epoch 6/100, Train Loss: 64.4848\n",
      "Validation Loss: 64.4602\n",
      "Epoch 7/100, Train Loss: 64.4829\n",
      "Validation Loss: 64.4671\n",
      "Epoch 8/100, Train Loss: 64.4832\n",
      "Validation Loss: 64.4690\n",
      "Epoch 9/100, Train Loss: 64.4849\n",
      "Validation Loss: 64.4645\n",
      "Epoch 10/100, Train Loss: 64.4851\n",
      "Validation Loss: 64.4734\n",
      "Epoch 11/100, Train Loss: 64.4863\n",
      "Validation Loss: 64.4660\n",
      "Epoch 12/100, Train Loss: 64.4839\n",
      "Validation Loss: 64.4675\n",
      "Epoch 13/100, Train Loss: 64.4815\n",
      "Validation Loss: 64.4660\n",
      "Epoch 14/100, Train Loss: 64.4802\n",
      "Validation Loss: 64.4625\n",
      "Epoch 15/100, Train Loss: 64.4789\n",
      "Validation Loss: 64.4583\n"
     ]
    },
    {
     "name": "stderr",
     "output_type": "stream",
     "text": [
      "[I 2024-09-17 22:46:40,455] Trial 2 finished with value: 64.45824883908642 and parameters: {'latent_size': 256, 'dropout_rate': 0.1489539827766307, 'learning_rate': 0.00017595104205543589, 'weight_decay': 1.219999696915712e-06, 'patience': 15}. Best is trial 2 with value: 64.45824883908642.\n"
     ]
    },
    {
     "name": "stdout",
     "output_type": "stream",
     "text": [
      "Epoch 16/100, Train Loss: 64.4767\n",
      "Validation Loss: 64.4582\n",
      "Early stopping triggered at epoch 16\n",
      "Encoder saved to /home/leilapirhaji/pretrained_models/vae_hyperparam_optimization_test/trial_2/encoder_state.pt\n",
      "Hyperparameters saved to /home/leilapirhaji/pretrained_models/vae_hyperparam_optimization_test/trial_2/model_hyperparameters.json\n",
      "Epoch 1/100, Train Loss: 141.1169\n",
      "Validation Loss: 120.7296\n",
      "Epoch 2/100, Train Loss: 120.8304\n",
      "Validation Loss: 120.7287\n",
      "Epoch 3/100, Train Loss: 120.8068\n",
      "Validation Loss: 120.7249\n",
      "Epoch 4/100, Train Loss: 120.7867\n",
      "Validation Loss: 120.7220\n",
      "Epoch 5/100, Train Loss: 120.7713\n",
      "Validation Loss: 120.7168\n",
      "Epoch 6/100, Train Loss: 120.7347\n",
      "Validation Loss: 120.6298\n",
      "Epoch 7/100, Train Loss: 120.6402\n",
      "Validation Loss: 120.5409\n",
      "Epoch 8/100, Train Loss: 120.5856\n",
      "Validation Loss: 120.5329\n",
      "Epoch 9/100, Train Loss: 120.5763\n",
      "Validation Loss: 120.5397\n",
      "Epoch 10/100, Train Loss: 120.5689\n",
      "Validation Loss: 120.5458\n",
      "Epoch 11/100, Train Loss: 120.5658\n",
      "Validation Loss: 120.5580\n",
      "Epoch 12/100, Train Loss: 120.5629\n",
      "Validation Loss: 120.5565\n",
      "Epoch 13/100, Train Loss: 120.5587\n",
      "Validation Loss: 120.5631\n",
      "Epoch 14/100, Train Loss: 120.5531\n",
      "Validation Loss: 120.5609\n",
      "Epoch 15/100, Train Loss: 120.5506\n",
      "Validation Loss: 120.5530\n",
      "Epoch 16/100, Train Loss: 120.5474\n",
      "Validation Loss: 120.5632\n",
      "Epoch 17/100, Train Loss: 120.5451\n",
      "Validation Loss: 120.5591\n",
      "Epoch 18/100, Train Loss: 120.5402\n",
      "Validation Loss: 120.5525\n",
      "Epoch 19/100, Train Loss: 120.5353\n",
      "Validation Loss: 120.5419\n",
      "Epoch 20/100, Train Loss: 120.5326\n",
      "Validation Loss: 120.5353\n",
      "Epoch 21/100, Train Loss: 120.5288\n",
      "Validation Loss: 120.5276\n",
      "Epoch 22/100, Train Loss: 120.5283\n",
      "Validation Loss: 120.5307\n",
      "Epoch 23/100, Train Loss: 120.5273\n",
      "Validation Loss: 120.5259\n",
      "Epoch 24/100, Train Loss: 120.5251\n",
      "Validation Loss: 120.5224\n",
      "Epoch 25/100, Train Loss: 120.5243\n",
      "Validation Loss: 120.5197\n",
      "Epoch 26/100, Train Loss: 120.5231\n",
      "Validation Loss: 120.5202\n",
      "Epoch 27/100, Train Loss: 120.5229\n",
      "Validation Loss: 120.5210\n",
      "Epoch 28/100, Train Loss: 120.5223\n",
      "Validation Loss: 120.5153\n",
      "Epoch 29/100, Train Loss: 120.5218\n",
      "Validation Loss: 120.5174\n",
      "Epoch 30/100, Train Loss: 120.5204\n",
      "Validation Loss: 120.5141\n",
      "Epoch 31/100, Train Loss: 120.5197\n",
      "Validation Loss: 120.5182\n",
      "Epoch 32/100, Train Loss: 120.5199\n",
      "Validation Loss: 120.5165\n",
      "Epoch 33/100, Train Loss: 120.5184\n",
      "Validation Loss: 120.5165\n",
      "Epoch 34/100, Train Loss: 120.5189\n",
      "Validation Loss: 120.5151\n",
      "Epoch 35/100, Train Loss: 120.5185\n",
      "Validation Loss: 120.5128\n",
      "Epoch 36/100, Train Loss: 120.5173\n",
      "Validation Loss: 120.5114\n",
      "Epoch 37/100, Train Loss: 120.5170\n",
      "Validation Loss: 120.5115\n",
      "Epoch 38/100, Train Loss: 120.5171\n",
      "Validation Loss: 120.5115\n",
      "Epoch 39/100, Train Loss: 120.5162\n",
      "Validation Loss: 120.5118\n",
      "Epoch 40/100, Train Loss: 120.5166\n",
      "Validation Loss: 120.5110\n",
      "Epoch 41/100, Train Loss: 120.5155\n",
      "Validation Loss: 120.5112\n",
      "Epoch 42/100, Train Loss: 120.5151\n",
      "Validation Loss: 120.5135\n",
      "Epoch 43/100, Train Loss: 120.5159\n",
      "Validation Loss: 120.5122\n",
      "Epoch 44/100, Train Loss: 120.5148\n",
      "Validation Loss: 120.5089\n",
      "Epoch 45/100, Train Loss: 120.5146\n",
      "Validation Loss: 120.5098\n",
      "Epoch 46/100, Train Loss: 120.5148\n",
      "Validation Loss: 120.5069\n",
      "Epoch 47/100, Train Loss: 120.5145\n",
      "Validation Loss: 120.5083\n",
      "Epoch 48/100, Train Loss: 120.5145\n",
      "Validation Loss: 120.5085\n",
      "Epoch 49/100, Train Loss: 120.5131\n",
      "Validation Loss: 120.5033\n",
      "Epoch 50/100, Train Loss: 120.5127\n",
      "Validation Loss: 120.5047\n",
      "Epoch 51/100, Train Loss: 120.5130\n",
      "Validation Loss: 120.5060\n",
      "Epoch 52/100, Train Loss: 120.5128\n",
      "Validation Loss: 120.5088\n",
      "Epoch 53/100, Train Loss: 120.5116\n",
      "Validation Loss: 120.5086\n",
      "Epoch 54/100, Train Loss: 120.5119\n",
      "Validation Loss: 120.5072\n",
      "Epoch 55/100, Train Loss: 120.5111\n",
      "Validation Loss: 120.5095\n",
      "Epoch 56/100, Train Loss: 120.5118\n",
      "Validation Loss: 120.5064\n",
      "Epoch 57/100, Train Loss: 120.5115\n",
      "Validation Loss: 120.5104\n",
      "Epoch 58/100, Train Loss: 120.5116\n",
      "Validation Loss: 120.5075\n",
      "Epoch 59/100, Train Loss: 120.5117\n",
      "Validation Loss: 120.5082\n",
      "Epoch 60/100, Train Loss: 120.5107\n",
      "Validation Loss: 120.5050\n",
      "Epoch 61/100, Train Loss: 120.5106\n",
      "Validation Loss: 120.5031\n",
      "Epoch 62/100, Train Loss: 120.5101\n",
      "Validation Loss: 120.5044\n",
      "Epoch 63/100, Train Loss: 120.5100\n",
      "Validation Loss: 120.5061\n",
      "Epoch 64/100, Train Loss: 120.5096\n",
      "Validation Loss: 120.5037\n",
      "Epoch 65/100, Train Loss: 120.5098\n",
      "Validation Loss: 120.5058\n",
      "Epoch 66/100, Train Loss: 120.5093\n",
      "Validation Loss: 120.5030\n",
      "Epoch 67/100, Train Loss: 120.5093\n",
      "Validation Loss: 120.5030\n",
      "Epoch 68/100, Train Loss: 120.5091\n",
      "Validation Loss: 120.5061\n",
      "Epoch 69/100, Train Loss: 120.5090\n",
      "Validation Loss: 120.5084\n",
      "Epoch 70/100, Train Loss: 120.5082\n",
      "Validation Loss: 120.5042\n",
      "Epoch 71/100, Train Loss: 120.5091\n",
      "Validation Loss: 120.5060\n",
      "Epoch 72/100, Train Loss: 120.5092\n",
      "Validation Loss: 120.5085\n",
      "Epoch 73/100, Train Loss: 120.5085\n",
      "Validation Loss: 120.5040\n",
      "Epoch 74/100, Train Loss: 120.5081\n",
      "Validation Loss: 120.5034\n",
      "Epoch 75/100, Train Loss: 120.5084\n",
      "Validation Loss: 120.5059\n",
      "Epoch 76/100, Train Loss: 120.5077\n",
      "Validation Loss: 120.5067\n",
      "Epoch 77/100, Train Loss: 120.5079\n",
      "Validation Loss: 120.5048\n",
      "Epoch 78/100, Train Loss: 120.5074\n",
      "Validation Loss: 120.5046\n",
      "Epoch 79/100, Train Loss: 120.5072\n",
      "Validation Loss: 120.5050\n",
      "Epoch 80/100, Train Loss: 120.5074\n",
      "Validation Loss: 120.5031\n",
      "Epoch 81/100, Train Loss: 120.5072\n",
      "Validation Loss: 120.5015\n",
      "Epoch 82/100, Train Loss: 120.5063\n",
      "Validation Loss: 120.5017\n",
      "Epoch 83/100, Train Loss: 120.5065\n",
      "Validation Loss: 120.5022\n",
      "Epoch 84/100, Train Loss: 120.5062\n",
      "Validation Loss: 120.5061\n",
      "Epoch 85/100, Train Loss: 120.5062\n",
      "Validation Loss: 120.5064\n",
      "Epoch 86/100, Train Loss: 120.5062\n",
      "Validation Loss: 120.5016\n",
      "Epoch 87/100, Train Loss: 120.5066\n",
      "Validation Loss: 120.5053\n",
      "Epoch 88/100, Train Loss: 120.5060\n",
      "Validation Loss: 120.5048\n",
      "Epoch 89/100, Train Loss: 120.5059\n",
      "Validation Loss: 120.5020\n",
      "Epoch 90/100, Train Loss: 120.5060\n",
      "Validation Loss: 120.5019\n",
      "Epoch 91/100, Train Loss: 120.5053\n",
      "Validation Loss: 120.5031\n",
      "Epoch 92/100, Train Loss: 120.5062\n",
      "Validation Loss: 120.5043\n",
      "Epoch 93/100, Train Loss: 120.5054\n",
      "Validation Loss: 120.5033\n",
      "Epoch 94/100, Train Loss: 120.5049\n",
      "Validation Loss: 120.5021\n",
      "Epoch 95/100, Train Loss: 120.5055\n",
      "Validation Loss: 120.5034\n",
      "Epoch 96/100, Train Loss: 120.5056\n",
      "Validation Loss: 120.5031\n",
      "Epoch 97/100, Train Loss: 120.5054\n",
      "Validation Loss: 120.5032\n",
      "Epoch 98/100, Train Loss: 120.5052\n",
      "Validation Loss: 120.5023\n",
      "Epoch 99/100, Train Loss: 120.5048\n",
      "Validation Loss: 120.5048\n",
      "Epoch 100/100, Train Loss: 120.5052\n",
      "Validation Loss: 120.5060\n"
     ]
    },
    {
     "name": "stderr",
     "output_type": "stream",
     "text": [
      "[I 2024-09-17 22:50:34,872] Trial 3 finished with value: 120.50596026985012 and parameters: {'latent_size': 480, 'dropout_rate': 0.4460202663961914, 'learning_rate': 1.1197073749052258e-05, 'weight_decay': 2.988269038810281e-06, 'patience': 30}. Best is trial 2 with value: 64.45824883908642.\n"
     ]
    },
    {
     "name": "stdout",
     "output_type": "stream",
     "text": [
      "Encoder saved to /home/leilapirhaji/pretrained_models/vae_hyperparam_optimization_test/trial_3/encoder_state.pt\n",
      "Hyperparameters saved to /home/leilapirhaji/pretrained_models/vae_hyperparam_optimization_test/trial_3/model_hyperparameters.json\n",
      "Epoch 1/100, Train Loss: 72.4964\n",
      "Validation Loss: 72.4200\n",
      "Epoch 2/100, Train Loss: 72.7531\n",
      "Validation Loss: 72.4355\n",
      "Epoch 3/100, Train Loss: 72.4597\n",
      "Validation Loss: 72.4322\n",
      "Epoch 4/100, Train Loss: 72.4579\n",
      "Validation Loss: 72.4367\n",
      "Epoch 5/100, Train Loss: 72.4556\n",
      "Validation Loss: 72.4327\n",
      "Epoch 6/100, Train Loss: 72.4583\n",
      "Validation Loss: 72.4346\n",
      "Epoch 7/100, Train Loss: 72.4572\n",
      "Validation Loss: 72.4406\n",
      "Epoch 8/100, Train Loss: 72.4587\n",
      "Validation Loss: 72.4411\n",
      "Epoch 9/100, Train Loss: 72.4564\n",
      "Validation Loss: 72.4416\n",
      "Epoch 10/100, Train Loss: 72.4547\n",
      "Validation Loss: 72.4431\n",
      "Epoch 11/100, Train Loss: 72.4570\n",
      "Validation Loss: 72.4429\n",
      "Epoch 12/100, Train Loss: 72.4512\n",
      "Validation Loss: 72.4386\n",
      "Epoch 13/100, Train Loss: 72.4485\n",
      "Validation Loss: 72.4440\n",
      "Epoch 14/100, Train Loss: 72.4473\n",
      "Validation Loss: 72.4286\n",
      "Epoch 15/100, Train Loss: 72.4424\n",
      "Validation Loss: 72.4273\n",
      "Epoch 16/100, Train Loss: 72.4451\n",
      "Validation Loss: 72.4286\n",
      "Epoch 17/100, Train Loss: 72.4414\n",
      "Validation Loss: 72.4288\n",
      "Epoch 18/100, Train Loss: 72.4402\n",
      "Validation Loss: 72.4264\n",
      "Epoch 19/100, Train Loss: 72.4374\n",
      "Validation Loss: 72.4259\n",
      "Epoch 20/100, Train Loss: 72.4396\n",
      "Validation Loss: 72.4284\n",
      "Epoch 21/100, Train Loss: 72.4385\n",
      "Validation Loss: 72.4242\n",
      "Epoch 22/100, Train Loss: 72.4357\n",
      "Validation Loss: 72.4218\n",
      "Epoch 23/100, Train Loss: 72.4378\n",
      "Validation Loss: 72.4269\n",
      "Epoch 24/100, Train Loss: 72.4360\n",
      "Validation Loss: 72.4205\n",
      "Epoch 25/100, Train Loss: 72.4343\n",
      "Validation Loss: 72.4205\n"
     ]
    },
    {
     "name": "stderr",
     "output_type": "stream",
     "text": [
      "[I 2024-09-17 22:51:29,341] Trial 4 finished with value: 72.42287990025112 and parameters: {'latent_size': 288, 'dropout_rate': 0.10874379854578149, 'learning_rate': 0.0004349895572701346, 'weight_decay': 4.374974352510387e-05, 'patience': 25}. Best is trial 2 with value: 64.45824883908642.\n"
     ]
    },
    {
     "name": "stdout",
     "output_type": "stream",
     "text": [
      "Epoch 26/100, Train Loss: 72.4339\n",
      "Validation Loss: 72.4229\n",
      "Early stopping triggered at epoch 26\n",
      "Encoder saved to /home/leilapirhaji/pretrained_models/vae_hyperparam_optimization_test/trial_4/encoder_state.pt\n",
      "Hyperparameters saved to /home/leilapirhaji/pretrained_models/vae_hyperparam_optimization_test/trial_4/model_hyperparameters.json\n",
      "Epoch 1/100, Train Loss: 90.9134\n",
      "Validation Loss: 88.4835\n",
      "Epoch 2/100, Train Loss: 88.5565\n",
      "Validation Loss: 88.4877\n",
      "Epoch 3/100, Train Loss: 88.5356\n",
      "Validation Loss: 88.4920\n",
      "Epoch 4/100, Train Loss: 88.5283\n",
      "Validation Loss: 88.4962\n",
      "Epoch 5/100, Train Loss: 88.5265\n",
      "Validation Loss: 88.4978\n",
      "Epoch 6/100, Train Loss: 88.5262\n",
      "Validation Loss: 88.4961\n",
      "Epoch 7/100, Train Loss: 88.5258\n",
      "Validation Loss: 88.5004\n",
      "Epoch 8/100, Train Loss: 88.5254\n",
      "Validation Loss: 88.5087\n",
      "Epoch 9/100, Train Loss: 88.5274\n",
      "Validation Loss: 88.5078\n",
      "Epoch 10/100, Train Loss: 88.5275\n",
      "Validation Loss: 88.5056\n",
      "Epoch 11/100, Train Loss: 88.5299\n",
      "Validation Loss: 88.5103\n",
      "Epoch 12/100, Train Loss: 88.5268\n",
      "Validation Loss: 88.5044\n",
      "Epoch 13/100, Train Loss: 88.5261\n",
      "Validation Loss: 88.5091\n",
      "Epoch 14/100, Train Loss: 88.5248\n",
      "Validation Loss: 88.5125\n",
      "Epoch 15/100, Train Loss: 88.5234\n",
      "Validation Loss: 88.5016\n"
     ]
    },
    {
     "name": "stderr",
     "output_type": "stream",
     "text": [
      "[I 2024-09-17 22:52:04,964] Trial 5 finished with value: 88.50456315643933 and parameters: {'latent_size': 352, 'dropout_rate': 0.18884934655952798, 'learning_rate': 1.68134899777838e-05, 'weight_decay': 4.297313898379479e-06, 'patience': 15}. Best is trial 2 with value: 64.45824883908642.\n"
     ]
    },
    {
     "name": "stdout",
     "output_type": "stream",
     "text": [
      "Epoch 16/100, Train Loss: 88.5228\n",
      "Validation Loss: 88.5046\n",
      "Early stopping triggered at epoch 16\n",
      "Encoder saved to /home/leilapirhaji/pretrained_models/vae_hyperparam_optimization_test/trial_5/encoder_state.pt\n",
      "Hyperparameters saved to /home/leilapirhaji/pretrained_models/vae_hyperparam_optimization_test/trial_5/model_hyperparameters.json\n",
      "Epoch 1/100, Train Loss: nan\n",
      "Validation Loss: nan\n",
      "Epoch 2/100, Train Loss: nan\n",
      "Validation Loss: nan\n",
      "Epoch 3/100, Train Loss: nan\n",
      "Validation Loss: nan\n",
      "Epoch 4/100, Train Loss: nan\n",
      "Validation Loss: nan\n",
      "Epoch 5/100, Train Loss: nan\n",
      "Validation Loss: nan\n",
      "Epoch 6/100, Train Loss: nan\n",
      "Validation Loss: nan\n",
      "Epoch 7/100, Train Loss: nan\n",
      "Validation Loss: nan\n",
      "Epoch 8/100, Train Loss: nan\n",
      "Validation Loss: nan\n",
      "Epoch 9/100, Train Loss: nan\n",
      "Validation Loss: nan\n"
     ]
    },
    {
     "name": "stderr",
     "output_type": "stream",
     "text": [
      "[W 2024-09-17 22:52:29,129] Trial 6 failed with parameters: {'latent_size': 480, 'dropout_rate': 0.28121180850349536, 'learning_rate': 0.00822831720680441, 'weight_decay': 1.3844872910692063e-05, 'patience': 10} because of the following error: The value nan is not acceptable.\n",
      "[W 2024-09-17 22:52:29,130] Trial 6 failed with value nan.\n"
     ]
    },
    {
     "name": "stdout",
     "output_type": "stream",
     "text": [
      "Epoch 10/100, Train Loss: nan\n",
      "Validation Loss: nan\n",
      "Early stopping triggered at epoch 10\n",
      "Encoder saved to /home/leilapirhaji/pretrained_models/vae_hyperparam_optimization_test/trial_6/encoder_state.pt\n",
      "Hyperparameters saved to /home/leilapirhaji/pretrained_models/vae_hyperparam_optimization_test/trial_6/model_hyperparameters.json\n",
      "Epoch 1/100, Train Loss: 128.8244\n",
      "Validation Loss: 128.5373\n",
      "Epoch 2/100, Train Loss: 128.5841\n",
      "Validation Loss: 128.4947\n",
      "Epoch 3/100, Train Loss: 128.5468\n",
      "Validation Loss: 128.5246\n",
      "Epoch 4/100, Train Loss: 128.5393\n",
      "Validation Loss: 128.5352\n",
      "Epoch 5/100, Train Loss: 128.5351\n",
      "Validation Loss: 128.5428\n",
      "Epoch 6/100, Train Loss: 128.5337\n",
      "Validation Loss: 128.5697\n",
      "Epoch 7/100, Train Loss: 128.5326\n",
      "Validation Loss: 128.5696\n",
      "Epoch 8/100, Train Loss: 128.5327\n",
      "Validation Loss: 128.5603\n",
      "Epoch 9/100, Train Loss: 128.5335\n",
      "Validation Loss: 128.5717\n",
      "Epoch 10/100, Train Loss: 128.5311\n",
      "Validation Loss: 128.5738\n",
      "Epoch 11/100, Train Loss: 128.5308\n",
      "Validation Loss: 128.5621\n",
      "Epoch 12/100, Train Loss: 128.5255\n",
      "Validation Loss: 128.5439\n",
      "Epoch 13/100, Train Loss: 128.5185\n",
      "Validation Loss: 128.5331\n",
      "Epoch 14/100, Train Loss: 128.5151\n",
      "Validation Loss: 128.5291\n",
      "Epoch 15/100, Train Loss: 128.5128\n",
      "Validation Loss: 128.5204\n",
      "Epoch 16/100, Train Loss: 128.5110\n",
      "Validation Loss: 128.5177\n",
      "Epoch 17/100, Train Loss: 128.5093\n",
      "Validation Loss: 128.5143\n",
      "Epoch 18/100, Train Loss: 128.5082\n",
      "Validation Loss: 128.5058\n",
      "Epoch 19/100, Train Loss: 128.5061\n",
      "Validation Loss: 128.5039\n",
      "Epoch 20/100, Train Loss: 128.5056\n",
      "Validation Loss: 128.5034\n",
      "Epoch 21/100, Train Loss: 128.5042\n",
      "Validation Loss: 128.4953\n",
      "Epoch 22/100, Train Loss: 128.5028\n",
      "Validation Loss: 128.4941\n",
      "Epoch 23/100, Train Loss: 128.5021\n",
      "Validation Loss: 128.5005\n",
      "Epoch 24/100, Train Loss: 128.5019\n",
      "Validation Loss: 128.4945\n",
      "Epoch 25/100, Train Loss: 128.5015\n",
      "Validation Loss: 128.4976\n",
      "Epoch 26/100, Train Loss: 128.5005\n",
      "Validation Loss: 128.4926\n",
      "Epoch 27/100, Train Loss: 128.4994\n",
      "Validation Loss: 128.4931\n",
      "Epoch 28/100, Train Loss: 128.4995\n",
      "Validation Loss: 128.4894\n",
      "Epoch 29/100, Train Loss: 128.4984\n",
      "Validation Loss: 128.4922\n",
      "Epoch 30/100, Train Loss: 128.4984\n",
      "Validation Loss: 128.4900\n",
      "Epoch 31/100, Train Loss: 128.4983\n",
      "Validation Loss: 128.4905\n",
      "Epoch 32/100, Train Loss: 128.4975\n",
      "Validation Loss: 128.4881\n",
      "Epoch 33/100, Train Loss: 128.4969\n",
      "Validation Loss: 128.4882\n",
      "Epoch 34/100, Train Loss: 128.4967\n",
      "Validation Loss: 128.4859\n",
      "Epoch 35/100, Train Loss: 128.4961\n",
      "Validation Loss: 128.4850\n",
      "Epoch 36/100, Train Loss: 128.4964\n",
      "Validation Loss: 128.4880\n",
      "Epoch 37/100, Train Loss: 128.4963\n",
      "Validation Loss: 128.4853\n",
      "Epoch 38/100, Train Loss: 128.4957\n",
      "Validation Loss: 128.4856\n",
      "Epoch 39/100, Train Loss: 128.4953\n",
      "Validation Loss: 128.4854\n",
      "Epoch 40/100, Train Loss: 128.4955\n",
      "Validation Loss: 128.4895\n",
      "Epoch 41/100, Train Loss: 128.4952\n",
      "Validation Loss: 128.4846\n",
      "Epoch 42/100, Train Loss: 128.4945\n",
      "Validation Loss: 128.4846\n",
      "Epoch 43/100, Train Loss: 128.4946\n",
      "Validation Loss: 128.4828\n",
      "Epoch 44/100, Train Loss: 128.4943\n",
      "Validation Loss: 128.4841\n",
      "Epoch 45/100, Train Loss: 128.4948\n",
      "Validation Loss: 128.4836\n",
      "Epoch 46/100, Train Loss: 128.4949\n",
      "Validation Loss: 128.4841\n",
      "Epoch 47/100, Train Loss: 128.4942\n",
      "Validation Loss: 128.4830\n",
      "Epoch 48/100, Train Loss: 128.4942\n",
      "Validation Loss: 128.4849\n",
      "Epoch 49/100, Train Loss: 128.4942\n",
      "Validation Loss: 128.4821\n",
      "Epoch 50/100, Train Loss: 128.4938\n",
      "Validation Loss: 128.4833\n",
      "Epoch 51/100, Train Loss: 128.4939\n",
      "Validation Loss: 128.4827\n",
      "Epoch 52/100, Train Loss: 128.4938\n",
      "Validation Loss: 128.4825\n",
      "Epoch 53/100, Train Loss: 128.4937\n",
      "Validation Loss: 128.4842\n",
      "Epoch 54/100, Train Loss: 128.4934\n",
      "Validation Loss: 128.4828\n",
      "Epoch 55/100, Train Loss: 128.4935\n",
      "Validation Loss: 128.4810\n",
      "Epoch 56/100, Train Loss: 128.4938\n",
      "Validation Loss: 128.4819\n",
      "Epoch 57/100, Train Loss: 128.4929\n",
      "Validation Loss: 128.4810\n",
      "Epoch 58/100, Train Loss: 128.4932\n",
      "Validation Loss: 128.4819\n",
      "Epoch 59/100, Train Loss: 128.4929\n",
      "Validation Loss: 128.4820\n",
      "Epoch 60/100, Train Loss: 128.4934\n",
      "Validation Loss: 128.4811\n",
      "Epoch 61/100, Train Loss: 128.4927\n",
      "Validation Loss: 128.4809\n",
      "Epoch 62/100, Train Loss: 128.4925\n",
      "Validation Loss: 128.4798\n",
      "Epoch 63/100, Train Loss: 128.4928\n",
      "Validation Loss: 128.4841\n",
      "Epoch 64/100, Train Loss: 128.4932\n",
      "Validation Loss: 128.4794\n",
      "Epoch 65/100, Train Loss: 128.4928\n",
      "Validation Loss: 128.4803\n",
      "Epoch 66/100, Train Loss: 128.4924\n",
      "Validation Loss: 128.4805\n",
      "Epoch 67/100, Train Loss: 128.4926\n",
      "Validation Loss: 128.4806\n",
      "Epoch 68/100, Train Loss: 128.4923\n",
      "Validation Loss: 128.4806\n",
      "Epoch 69/100, Train Loss: 128.4922\n",
      "Validation Loss: 128.4817\n",
      "Epoch 70/100, Train Loss: 128.4923\n",
      "Validation Loss: 128.4814\n",
      "Epoch 71/100, Train Loss: 128.4921\n",
      "Validation Loss: 128.4795\n",
      "Epoch 72/100, Train Loss: 128.4919\n",
      "Validation Loss: 128.4803\n",
      "Epoch 73/100, Train Loss: 128.4928\n",
      "Validation Loss: 128.4803\n",
      "Epoch 74/100, Train Loss: 128.4922\n",
      "Validation Loss: 128.4820\n",
      "Epoch 75/100, Train Loss: 128.4922\n",
      "Validation Loss: 128.4803\n",
      "Epoch 76/100, Train Loss: 128.4924\n",
      "Validation Loss: 128.4799\n",
      "Epoch 77/100, Train Loss: 128.4914\n",
      "Validation Loss: 128.4805\n",
      "Epoch 78/100, Train Loss: 128.4917\n",
      "Validation Loss: 128.4797\n",
      "Epoch 79/100, Train Loss: 128.4918\n",
      "Validation Loss: 128.4800\n",
      "Epoch 80/100, Train Loss: 128.4916\n",
      "Validation Loss: 128.4802\n",
      "Epoch 81/100, Train Loss: 128.4920\n",
      "Validation Loss: 128.4792\n",
      "Epoch 82/100, Train Loss: 128.4915\n",
      "Validation Loss: 128.4799\n",
      "Epoch 83/100, Train Loss: 128.4920\n",
      "Validation Loss: 128.4793\n",
      "Epoch 84/100, Train Loss: 128.4919\n",
      "Validation Loss: 128.4794\n",
      "Epoch 85/100, Train Loss: 128.4921\n",
      "Validation Loss: 128.4798\n",
      "Epoch 86/100, Train Loss: 128.4916\n",
      "Validation Loss: 128.4790\n",
      "Epoch 87/100, Train Loss: 128.4914\n",
      "Validation Loss: 128.4799\n",
      "Epoch 88/100, Train Loss: 128.4911\n",
      "Validation Loss: 128.4782\n",
      "Epoch 89/100, Train Loss: 128.4913\n",
      "Validation Loss: 128.4801\n",
      "Epoch 90/100, Train Loss: 128.4910\n",
      "Validation Loss: 128.4791\n",
      "Epoch 91/100, Train Loss: 128.4916\n",
      "Validation Loss: 128.4782\n",
      "Epoch 92/100, Train Loss: 128.4910\n",
      "Validation Loss: 128.4780\n",
      "Epoch 93/100, Train Loss: 128.4905\n",
      "Validation Loss: 128.4779\n",
      "Epoch 94/100, Train Loss: 128.4903\n",
      "Validation Loss: 128.4788\n",
      "Epoch 95/100, Train Loss: 128.4904\n",
      "Validation Loss: 128.4776\n",
      "Epoch 96/100, Train Loss: 128.4902\n",
      "Validation Loss: 128.4773\n",
      "Epoch 97/100, Train Loss: 128.4900\n",
      "Validation Loss: 128.4774\n",
      "Epoch 98/100, Train Loss: 128.4901\n",
      "Validation Loss: 128.4778\n",
      "Epoch 99/100, Train Loss: 128.4899\n",
      "Validation Loss: 128.4763\n",
      "Epoch 100/100, Train Loss: 128.4893\n",
      "Validation Loss: 128.4761\n"
     ]
    },
    {
     "name": "stderr",
     "output_type": "stream",
     "text": [
      "[I 2024-09-17 22:56:35,131] Trial 7 finished with value: 128.4761168810786 and parameters: {'latent_size': 512, 'dropout_rate': 0.41008001780038283, 'learning_rate': 2.945861511851494e-05, 'weight_decay': 9.910722637117467e-05, 'patience': 30}. Best is trial 2 with value: 64.45824883908642.\n"
     ]
    },
    {
     "name": "stdout",
     "output_type": "stream",
     "text": [
      "Encoder saved to /home/leilapirhaji/pretrained_models/vae_hyperparam_optimization_test/trial_7/encoder_state.pt\n",
      "Hyperparameters saved to /home/leilapirhaji/pretrained_models/vae_hyperparam_optimization_test/trial_7/model_hyperparameters.json\n",
      "Epoch 1/100, Train Loss: 88.6933\n",
      "Validation Loss: 88.4637\n",
      "Epoch 2/100, Train Loss: 88.5489\n",
      "Validation Loss: 88.4951\n",
      "Epoch 3/100, Train Loss: 88.5380\n",
      "Validation Loss: 88.5171\n",
      "Epoch 4/100, Train Loss: 88.5375\n",
      "Validation Loss: 88.5278\n",
      "Epoch 5/100, Train Loss: 88.5371\n",
      "Validation Loss: 88.5593\n",
      "Epoch 6/100, Train Loss: 88.5318\n",
      "Validation Loss: 88.5294\n",
      "Epoch 7/100, Train Loss: 88.5213\n",
      "Validation Loss: 88.5230\n",
      "Epoch 8/100, Train Loss: 88.5192\n",
      "Validation Loss: 88.5091\n",
      "Epoch 9/100, Train Loss: 88.5185\n",
      "Validation Loss: 88.5209\n",
      "Epoch 10/100, Train Loss: 88.5196\n",
      "Validation Loss: 88.5089\n",
      "Epoch 11/100, Train Loss: 88.5197\n",
      "Validation Loss: 88.5116\n",
      "Epoch 12/100, Train Loss: 88.5179\n",
      "Validation Loss: 88.5132\n",
      "Epoch 13/100, Train Loss: 88.5169\n",
      "Validation Loss: 88.5048\n",
      "Epoch 14/100, Train Loss: 88.5155\n",
      "Validation Loss: 88.5067\n",
      "Epoch 15/100, Train Loss: 88.5151\n",
      "Validation Loss: 88.5013\n"
     ]
    },
    {
     "name": "stderr",
     "output_type": "stream",
     "text": [
      "[I 2024-09-17 22:57:08,882] Trial 8 finished with value: 88.50199002635722 and parameters: {'latent_size': 352, 'dropout_rate': 0.4008605408949676, 'learning_rate': 6.324045110975321e-05, 'weight_decay': 1.879023646924482e-05, 'patience': 15}. Best is trial 2 with value: 64.45824883908642.\n"
     ]
    },
    {
     "name": "stdout",
     "output_type": "stream",
     "text": [
      "Epoch 16/100, Train Loss: 88.5135\n",
      "Validation Loss: 88.5020\n",
      "Early stopping triggered at epoch 16\n",
      "Encoder saved to /home/leilapirhaji/pretrained_models/vae_hyperparam_optimization_test/trial_8/encoder_state.pt\n",
      "Hyperparameters saved to /home/leilapirhaji/pretrained_models/vae_hyperparam_optimization_test/trial_8/model_hyperparameters.json\n",
      "Epoch 1/100, Train Loss: nan\n",
      "Validation Loss: nan\n",
      "Epoch 2/100, Train Loss: nan\n",
      "Validation Loss: nan\n",
      "Epoch 3/100, Train Loss: nan\n",
      "Validation Loss: nan\n",
      "Epoch 4/100, Train Loss: nan\n",
      "Validation Loss: nan\n",
      "Epoch 5/100, Train Loss: nan\n",
      "Validation Loss: nan\n",
      "Epoch 6/100, Train Loss: nan\n",
      "Validation Loss: nan\n",
      "Epoch 7/100, Train Loss: nan\n",
      "Validation Loss: nan\n",
      "Epoch 8/100, Train Loss: nan\n",
      "Validation Loss: nan\n",
      "Epoch 9/100, Train Loss: nan\n",
      "Validation Loss: nan\n",
      "Epoch 10/100, Train Loss: nan\n",
      "Validation Loss: nan\n",
      "Epoch 11/100, Train Loss: nan\n",
      "Validation Loss: nan\n",
      "Epoch 12/100, Train Loss: nan\n",
      "Validation Loss: nan\n",
      "Epoch 13/100, Train Loss: nan\n",
      "Validation Loss: nan\n",
      "Epoch 14/100, Train Loss: nan\n",
      "Validation Loss: nan\n",
      "Epoch 15/100, Train Loss: nan\n",
      "Validation Loss: nan\n",
      "Epoch 16/100, Train Loss: nan\n",
      "Validation Loss: nan\n",
      "Epoch 17/100, Train Loss: nan\n",
      "Validation Loss: nan\n",
      "Epoch 18/100, Train Loss: nan\n",
      "Validation Loss: nan\n",
      "Epoch 19/100, Train Loss: nan\n",
      "Validation Loss: nan\n",
      "Epoch 20/100, Train Loss: nan\n",
      "Validation Loss: nan\n",
      "Early stopping triggered at epoch 20\n"
     ]
    },
    {
     "name": "stderr",
     "output_type": "stream",
     "text": [
      "[W 2024-09-17 22:57:55,038] Trial 9 failed with parameters: {'latent_size': 448, 'dropout_rate': 0.26524169524152463, 'learning_rate': 0.004575756516633355, 'weight_decay': 1.8744361865700927e-06, 'patience': 20} because of the following error: The value nan is not acceptable.\n",
      "[W 2024-09-17 22:57:55,039] Trial 9 failed with value nan.\n"
     ]
    },
    {
     "name": "stdout",
     "output_type": "stream",
     "text": [
      "Encoder saved to /home/leilapirhaji/pretrained_models/vae_hyperparam_optimization_test/trial_9/encoder_state.pt\n",
      "Hyperparameters saved to /home/leilapirhaji/pretrained_models/vae_hyperparam_optimization_test/trial_9/model_hyperparameters.json\n",
      "Epoch 1/100, Train Loss: 112.7116\n",
      "Validation Loss: 112.4644\n",
      "Epoch 2/100, Train Loss: 112.5455\n",
      "Validation Loss: 112.4954\n",
      "Epoch 3/100, Train Loss: 112.5303\n",
      "Validation Loss: 112.4949\n",
      "Epoch 4/100, Train Loss: 112.5278\n",
      "Validation Loss: 112.5178\n",
      "Epoch 5/100, Train Loss: 112.5270\n",
      "Validation Loss: 112.5133\n",
      "Epoch 6/100, Train Loss: 112.5267\n",
      "Validation Loss: 112.5359\n",
      "Epoch 7/100, Train Loss: 112.5260\n",
      "Validation Loss: 112.5382\n",
      "Epoch 8/100, Train Loss: 112.5251\n",
      "Validation Loss: 112.5353\n",
      "Epoch 9/100, Train Loss: 112.5210\n",
      "Validation Loss: 112.5297\n",
      "Epoch 10/100, Train Loss: 112.5181\n",
      "Validation Loss: 112.5117\n"
     ]
    },
    {
     "name": "stderr",
     "output_type": "stream",
     "text": [
      "[I 2024-09-17 22:58:20,456] Trial 10 finished with value: 112.50473707549426 and parameters: {'latent_size': 448, 'dropout_rate': 0.3318216026276818, 'learning_rate': 3.6624596297332983e-05, 'weight_decay': 9.43626467653587e-06, 'patience': 10}. Best is trial 2 with value: 64.45824883908642.\n"
     ]
    },
    {
     "name": "stdout",
     "output_type": "stream",
     "text": [
      "Epoch 11/100, Train Loss: 112.5171\n",
      "Validation Loss: 112.5047\n",
      "Early stopping triggered at epoch 11\n",
      "Encoder saved to /home/leilapirhaji/pretrained_models/vae_hyperparam_optimization_test/trial_10/encoder_state.pt\n",
      "Hyperparameters saved to /home/leilapirhaji/pretrained_models/vae_hyperparam_optimization_test/trial_10/model_hyperparameters.json\n",
      "Epoch 1/100, Train Loss: nan\n",
      "Validation Loss: nan\n",
      "Epoch 2/100, Train Loss: nan\n",
      "Validation Loss: nan\n",
      "Epoch 3/100, Train Loss: nan\n",
      "Validation Loss: nan\n",
      "Epoch 4/100, Train Loss: nan\n",
      "Validation Loss: nan\n",
      "Epoch 5/100, Train Loss: nan\n",
      "Validation Loss: nan\n",
      "Epoch 6/100, Train Loss: nan\n",
      "Validation Loss: nan\n",
      "Epoch 7/100, Train Loss: nan\n",
      "Validation Loss: nan\n",
      "Epoch 8/100, Train Loss: nan\n",
      "Validation Loss: nan\n",
      "Epoch 9/100, Train Loss: nan\n",
      "Validation Loss: nan\n",
      "Epoch 10/100, Train Loss: nan\n",
      "Validation Loss: nan\n",
      "Epoch 11/100, Train Loss: nan\n",
      "Validation Loss: nan\n",
      "Epoch 12/100, Train Loss: nan\n",
      "Validation Loss: nan\n",
      "Epoch 13/100, Train Loss: nan\n",
      "Validation Loss: nan\n",
      "Epoch 14/100, Train Loss: nan\n",
      "Validation Loss: nan\n",
      "Epoch 15/100, Train Loss: nan\n",
      "Validation Loss: nan\n",
      "Epoch 16/100, Train Loss: nan\n",
      "Validation Loss: nan\n",
      "Epoch 17/100, Train Loss: nan\n",
      "Validation Loss: nan\n",
      "Epoch 18/100, Train Loss: nan\n",
      "Validation Loss: nan\n",
      "Epoch 19/100, Train Loss: nan\n",
      "Validation Loss: nan\n",
      "Epoch 20/100, Train Loss: nan\n",
      "Validation Loss: nan\n",
      "Early stopping triggered at epoch 20\n"
     ]
    },
    {
     "name": "stderr",
     "output_type": "stream",
     "text": [
      "[W 2024-09-17 22:59:06,221] Trial 11 failed with parameters: {'latent_size': 448, 'dropout_rate': 0.2914124908883544, 'learning_rate': 0.008902146339532204, 'weight_decay': 1.4043647533814784e-06, 'patience': 20} because of the following error: The value nan is not acceptable.\n",
      "[W 2024-09-17 22:59:06,222] Trial 11 failed with value nan.\n"
     ]
    },
    {
     "name": "stdout",
     "output_type": "stream",
     "text": [
      "Encoder saved to /home/leilapirhaji/pretrained_models/vae_hyperparam_optimization_test/trial_11/encoder_state.pt\n",
      "Hyperparameters saved to /home/leilapirhaji/pretrained_models/vae_hyperparam_optimization_test/trial_11/model_hyperparameters.json\n",
      "Epoch 1/100, Train Loss: 88.8150\n",
      "Validation Loss: 88.6715\n",
      "Epoch 2/100, Train Loss: 88.6520\n",
      "Validation Loss: 88.5077\n",
      "Epoch 3/100, Train Loss: 88.5685\n",
      "Validation Loss: 88.5021\n",
      "Epoch 4/100, Train Loss: 88.5525\n",
      "Validation Loss: 88.5004\n",
      "Epoch 5/100, Train Loss: 88.5440\n",
      "Validation Loss: 88.5074\n",
      "Epoch 6/100, Train Loss: 88.5396\n",
      "Validation Loss: 88.5034\n",
      "Epoch 7/100, Train Loss: 88.5379\n",
      "Validation Loss: 88.5040\n",
      "Epoch 8/100, Train Loss: 88.5372\n",
      "Validation Loss: 88.5090\n",
      "Epoch 9/100, Train Loss: 88.5360\n",
      "Validation Loss: 88.5091\n",
      "Epoch 10/100, Train Loss: 88.5370\n",
      "Validation Loss: 88.5135\n",
      "Epoch 11/100, Train Loss: 88.5373\n",
      "Validation Loss: 88.5173\n",
      "Epoch 12/100, Train Loss: 88.5354\n",
      "Validation Loss: 88.5230\n",
      "Epoch 13/100, Train Loss: 88.5338\n",
      "Validation Loss: 88.5165\n"
     ]
    },
    {
     "name": "stderr",
     "output_type": "stream",
     "text": [
      "[I 2024-09-17 22:59:35,184] Trial 12 finished with value: 88.52181025913784 and parameters: {'latent_size': 352, 'dropout_rate': 0.22159147760400866, 'learning_rate': 1.0794526852078742e-05, 'weight_decay': 2.5823377894665836e-05, 'patience': 10}. Best is trial 2 with value: 64.45824883908642.\n"
     ]
    },
    {
     "name": "stdout",
     "output_type": "stream",
     "text": [
      "Epoch 14/100, Train Loss: 88.5323\n",
      "Validation Loss: 88.5218\n",
      "Early stopping triggered at epoch 14\n",
      "Encoder saved to /home/leilapirhaji/pretrained_models/vae_hyperparam_optimization_test/trial_12/encoder_state.pt\n",
      "Hyperparameters saved to /home/leilapirhaji/pretrained_models/vae_hyperparam_optimization_test/trial_12/model_hyperparameters.json\n",
      "Epoch 1/100, Train Loss: nan\n",
      "Validation Loss: nan\n",
      "Epoch 2/100, Train Loss: nan\n",
      "Validation Loss: nan\n",
      "Epoch 3/100, Train Loss: nan\n",
      "Validation Loss: nan\n",
      "Epoch 4/100, Train Loss: nan\n",
      "Validation Loss: nan\n",
      "Epoch 5/100, Train Loss: nan\n",
      "Validation Loss: nan\n",
      "Epoch 6/100, Train Loss: nan\n",
      "Validation Loss: nan\n",
      "Epoch 7/100, Train Loss: nan\n",
      "Validation Loss: nan\n",
      "Epoch 8/100, Train Loss: nan\n",
      "Validation Loss: nan\n",
      "Epoch 9/100, Train Loss: nan\n",
      "Validation Loss: nan\n",
      "Epoch 10/100, Train Loss: nan\n",
      "Validation Loss: nan\n",
      "Epoch 11/100, Train Loss: nan\n",
      "Validation Loss: nan\n",
      "Epoch 12/100, Train Loss: nan\n",
      "Validation Loss: nan\n",
      "Epoch 13/100, Train Loss: nan\n",
      "Validation Loss: nan\n",
      "Epoch 14/100, Train Loss: nan\n",
      "Validation Loss: nan\n",
      "Epoch 15/100, Train Loss: nan\n",
      "Validation Loss: nan\n",
      "Epoch 16/100, Train Loss: nan\n",
      "Validation Loss: nan\n",
      "Epoch 17/100, Train Loss: nan\n",
      "Validation Loss: nan\n",
      "Epoch 18/100, Train Loss: nan\n",
      "Validation Loss: nan\n",
      "Epoch 19/100, Train Loss: nan\n",
      "Validation Loss: nan\n"
     ]
    },
    {
     "name": "stderr",
     "output_type": "stream",
     "text": [
      "[W 2024-09-17 23:00:12,516] Trial 13 failed with parameters: {'latent_size': 256, 'dropout_rate': 0.1035132820580296, 'learning_rate': 0.009189549428177736, 'weight_decay': 1.523200859645614e-06, 'patience': 20} because of the following error: The value nan is not acceptable.\n",
      "[W 2024-09-17 23:00:12,517] Trial 13 failed with value nan.\n"
     ]
    },
    {
     "name": "stdout",
     "output_type": "stream",
     "text": [
      "Epoch 20/100, Train Loss: nan\n",
      "Validation Loss: nan\n",
      "Early stopping triggered at epoch 20\n",
      "Encoder saved to /home/leilapirhaji/pretrained_models/vae_hyperparam_optimization_test/trial_13/encoder_state.pt\n",
      "Hyperparameters saved to /home/leilapirhaji/pretrained_models/vae_hyperparam_optimization_test/trial_13/model_hyperparameters.json\n",
      "Epoch 1/100, Train Loss: nan\n",
      "Validation Loss: nan\n",
      "Epoch 2/100, Train Loss: nan\n",
      "Validation Loss: nan\n",
      "Epoch 3/100, Train Loss: nan\n",
      "Validation Loss: nan\n",
      "Epoch 4/100, Train Loss: nan\n",
      "Validation Loss: nan\n",
      "Epoch 5/100, Train Loss: nan\n",
      "Validation Loss: nan\n",
      "Epoch 6/100, Train Loss: nan\n",
      "Validation Loss: nan\n",
      "Epoch 7/100, Train Loss: nan\n",
      "Validation Loss: nan\n",
      "Epoch 8/100, Train Loss: nan\n",
      "Validation Loss: nan\n",
      "Epoch 9/100, Train Loss: nan\n",
      "Validation Loss: nan\n",
      "Epoch 10/100, Train Loss: nan\n",
      "Validation Loss: nan\n",
      "Epoch 11/100, Train Loss: nan\n",
      "Validation Loss: nan\n",
      "Epoch 12/100, Train Loss: nan\n",
      "Validation Loss: nan\n",
      "Epoch 13/100, Train Loss: nan\n",
      "Validation Loss: nan\n",
      "Epoch 14/100, Train Loss: nan\n",
      "Validation Loss: nan\n",
      "Epoch 15/100, Train Loss: nan\n",
      "Validation Loss: nan\n",
      "Epoch 16/100, Train Loss: nan\n",
      "Validation Loss: nan\n",
      "Epoch 17/100, Train Loss: nan\n",
      "Validation Loss: nan\n",
      "Epoch 18/100, Train Loss: nan\n",
      "Validation Loss: nan\n",
      "Epoch 19/100, Train Loss: nan\n",
      "Validation Loss: nan\n"
     ]
    },
    {
     "name": "stderr",
     "output_type": "stream",
     "text": [
      "[W 2024-09-17 23:00:49,858] Trial 14 failed with parameters: {'latent_size': 256, 'dropout_rate': 0.1100914600661772, 'learning_rate': 0.006335307740612284, 'weight_decay': 1.008147069295097e-06, 'patience': 20} because of the following error: The value nan is not acceptable.\n",
      "[W 2024-09-17 23:00:49,859] Trial 14 failed with value nan.\n"
     ]
    },
    {
     "name": "stdout",
     "output_type": "stream",
     "text": [
      "Epoch 20/100, Train Loss: nan\n",
      "Validation Loss: nan\n",
      "Early stopping triggered at epoch 20\n",
      "Encoder saved to /home/leilapirhaji/pretrained_models/vae_hyperparam_optimization_test/trial_14/encoder_state.pt\n",
      "Hyperparameters saved to /home/leilapirhaji/pretrained_models/vae_hyperparam_optimization_test/trial_14/model_hyperparameters.json\n",
      "Epoch 1/100, Train Loss: nan\n",
      "Validation Loss: nan\n",
      "Epoch 2/100, Train Loss: nan\n",
      "Validation Loss: nan\n",
      "Epoch 3/100, Train Loss: nan\n",
      "Validation Loss: nan\n",
      "Epoch 4/100, Train Loss: nan\n",
      "Validation Loss: nan\n",
      "Epoch 5/100, Train Loss: nan\n",
      "Validation Loss: nan\n",
      "Epoch 6/100, Train Loss: nan\n",
      "Validation Loss: nan\n",
      "Epoch 7/100, Train Loss: nan\n",
      "Validation Loss: nan\n",
      "Epoch 8/100, Train Loss: nan\n",
      "Validation Loss: nan\n",
      "Epoch 9/100, Train Loss: nan\n",
      "Validation Loss: nan\n",
      "Epoch 10/100, Train Loss: nan\n",
      "Validation Loss: nan\n",
      "Epoch 11/100, Train Loss: nan\n",
      "Validation Loss: nan\n",
      "Epoch 12/100, Train Loss: nan\n",
      "Validation Loss: nan\n",
      "Epoch 13/100, Train Loss: nan\n",
      "Validation Loss: nan\n",
      "Epoch 14/100, Train Loss: nan\n",
      "Validation Loss: nan\n",
      "Epoch 15/100, Train Loss: nan\n",
      "Validation Loss: nan\n",
      "Epoch 16/100, Train Loss: nan\n",
      "Validation Loss: nan\n",
      "Epoch 17/100, Train Loss: nan\n",
      "Validation Loss: nan\n",
      "Epoch 18/100, Train Loss: nan\n",
      "Validation Loss: nan\n",
      "Epoch 19/100, Train Loss: nan\n",
      "Validation Loss: nan\n"
     ]
    },
    {
     "name": "stderr",
     "output_type": "stream",
     "text": [
      "[W 2024-09-17 23:01:27,359] Trial 15 failed with parameters: {'latent_size': 256, 'dropout_rate': 0.10469533973932076, 'learning_rate': 0.00532552495414924, 'weight_decay': 1.6746988649410482e-06, 'patience': 20} because of the following error: The value nan is not acceptable.\n",
      "[W 2024-09-17 23:01:27,360] Trial 15 failed with value nan.\n"
     ]
    },
    {
     "name": "stdout",
     "output_type": "stream",
     "text": [
      "Epoch 20/100, Train Loss: nan\n",
      "Validation Loss: nan\n",
      "Early stopping triggered at epoch 20\n",
      "Encoder saved to /home/leilapirhaji/pretrained_models/vae_hyperparam_optimization_test/trial_15/encoder_state.pt\n",
      "Hyperparameters saved to /home/leilapirhaji/pretrained_models/vae_hyperparam_optimization_test/trial_15/model_hyperparameters.json\n",
      "Epoch 1/100, Train Loss: nan\n",
      "Validation Loss: nan\n",
      "Epoch 2/100, Train Loss: nan\n",
      "Validation Loss: nan\n",
      "Epoch 3/100, Train Loss: nan\n",
      "Validation Loss: nan\n",
      "Epoch 4/100, Train Loss: nan\n",
      "Validation Loss: nan\n",
      "Epoch 5/100, Train Loss: nan\n",
      "Validation Loss: nan\n",
      "Epoch 6/100, Train Loss: nan\n",
      "Validation Loss: nan\n",
      "Epoch 7/100, Train Loss: nan\n",
      "Validation Loss: nan\n",
      "Epoch 8/100, Train Loss: nan\n",
      "Validation Loss: nan\n",
      "Epoch 9/100, Train Loss: nan\n",
      "Validation Loss: nan\n",
      "Epoch 10/100, Train Loss: nan\n",
      "Validation Loss: nan\n",
      "Epoch 11/100, Train Loss: nan\n",
      "Validation Loss: nan\n",
      "Epoch 12/100, Train Loss: nan\n",
      "Validation Loss: nan\n",
      "Epoch 13/100, Train Loss: nan\n",
      "Validation Loss: nan\n",
      "Epoch 14/100, Train Loss: nan\n",
      "Validation Loss: nan\n",
      "Epoch 15/100, Train Loss: nan\n",
      "Validation Loss: nan\n",
      "Epoch 16/100, Train Loss: nan\n",
      "Validation Loss: nan\n",
      "Epoch 17/100, Train Loss: nan\n",
      "Validation Loss: nan\n",
      "Epoch 18/100, Train Loss: nan\n",
      "Validation Loss: nan\n",
      "Epoch 19/100, Train Loss: nan\n",
      "Validation Loss: nan\n"
     ]
    },
    {
     "name": "stderr",
     "output_type": "stream",
     "text": [
      "[W 2024-09-17 23:02:05,463] Trial 16 failed with parameters: {'latent_size': 256, 'dropout_rate': 0.11229393972655527, 'learning_rate': 0.005140251233362645, 'weight_decay': 1.0961352496288502e-06, 'patience': 20} because of the following error: The value nan is not acceptable.\n",
      "[W 2024-09-17 23:02:05,463] Trial 16 failed with value nan.\n"
     ]
    },
    {
     "name": "stdout",
     "output_type": "stream",
     "text": [
      "Epoch 20/100, Train Loss: nan\n",
      "Validation Loss: nan\n",
      "Early stopping triggered at epoch 20\n",
      "Encoder saved to /home/leilapirhaji/pretrained_models/vae_hyperparam_optimization_test/trial_16/encoder_state.pt\n",
      "Hyperparameters saved to /home/leilapirhaji/pretrained_models/vae_hyperparam_optimization_test/trial_16/model_hyperparameters.json\n",
      "Epoch 1/100, Train Loss: nan\n",
      "Validation Loss: nan\n",
      "Epoch 2/100, Train Loss: nan\n",
      "Validation Loss: nan\n",
      "Epoch 3/100, Train Loss: nan\n",
      "Validation Loss: nan\n",
      "Epoch 4/100, Train Loss: nan\n",
      "Validation Loss: nan\n",
      "Epoch 5/100, Train Loss: nan\n",
      "Validation Loss: nan\n",
      "Epoch 6/100, Train Loss: nan\n",
      "Validation Loss: nan\n",
      "Epoch 7/100, Train Loss: nan\n",
      "Validation Loss: nan\n",
      "Epoch 8/100, Train Loss: nan\n",
      "Validation Loss: nan\n",
      "Epoch 9/100, Train Loss: nan\n",
      "Validation Loss: nan\n",
      "Epoch 10/100, Train Loss: nan\n",
      "Validation Loss: nan\n",
      "Epoch 11/100, Train Loss: nan\n",
      "Validation Loss: nan\n",
      "Epoch 12/100, Train Loss: nan\n",
      "Validation Loss: nan\n",
      "Epoch 13/100, Train Loss: nan\n",
      "Validation Loss: nan\n",
      "Epoch 14/100, Train Loss: nan\n",
      "Validation Loss: nan\n",
      "Epoch 15/100, Train Loss: nan\n",
      "Validation Loss: nan\n",
      "Epoch 16/100, Train Loss: nan\n",
      "Validation Loss: nan\n",
      "Epoch 17/100, Train Loss: nan\n",
      "Validation Loss: nan\n",
      "Epoch 18/100, Train Loss: nan\n",
      "Validation Loss: nan\n",
      "Epoch 19/100, Train Loss: nan\n",
      "Validation Loss: nan\n"
     ]
    },
    {
     "name": "stderr",
     "output_type": "stream",
     "text": [
      "[W 2024-09-17 23:02:43,323] Trial 17 failed with parameters: {'latent_size': 256, 'dropout_rate': 0.1210323403957515, 'learning_rate': 0.0057284013167945656, 'weight_decay': 1.1172738059894158e-06, 'patience': 20} because of the following error: The value nan is not acceptable.\n",
      "[W 2024-09-17 23:02:43,324] Trial 17 failed with value nan.\n"
     ]
    },
    {
     "name": "stdout",
     "output_type": "stream",
     "text": [
      "Epoch 20/100, Train Loss: nan\n",
      "Validation Loss: nan\n",
      "Early stopping triggered at epoch 20\n",
      "Encoder saved to /home/leilapirhaji/pretrained_models/vae_hyperparam_optimization_test/trial_17/encoder_state.pt\n",
      "Hyperparameters saved to /home/leilapirhaji/pretrained_models/vae_hyperparam_optimization_test/trial_17/model_hyperparameters.json\n",
      "Epoch 1/100, Train Loss: nan\n",
      "Validation Loss: nan\n",
      "Epoch 2/100, Train Loss: nan\n",
      "Validation Loss: nan\n",
      "Epoch 3/100, Train Loss: nan\n",
      "Validation Loss: nan\n",
      "Epoch 4/100, Train Loss: nan\n",
      "Validation Loss: nan\n",
      "Epoch 5/100, Train Loss: nan\n",
      "Validation Loss: nan\n",
      "Epoch 6/100, Train Loss: nan\n",
      "Validation Loss: nan\n",
      "Epoch 7/100, Train Loss: nan\n",
      "Validation Loss: nan\n",
      "Epoch 8/100, Train Loss: nan\n",
      "Validation Loss: nan\n",
      "Epoch 9/100, Train Loss: nan\n",
      "Validation Loss: nan\n",
      "Epoch 10/100, Train Loss: nan\n",
      "Validation Loss: nan\n",
      "Epoch 11/100, Train Loss: nan\n",
      "Validation Loss: nan\n",
      "Epoch 12/100, Train Loss: nan\n",
      "Validation Loss: nan\n",
      "Epoch 13/100, Train Loss: nan\n",
      "Validation Loss: nan\n",
      "Epoch 14/100, Train Loss: nan\n",
      "Validation Loss: nan\n",
      "Epoch 15/100, Train Loss: nan\n",
      "Validation Loss: nan\n",
      "Epoch 16/100, Train Loss: nan\n",
      "Validation Loss: nan\n",
      "Epoch 17/100, Train Loss: nan\n",
      "Validation Loss: nan\n",
      "Epoch 18/100, Train Loss: nan\n",
      "Validation Loss: nan\n",
      "Epoch 19/100, Train Loss: nan\n",
      "Validation Loss: nan\n"
     ]
    },
    {
     "name": "stderr",
     "output_type": "stream",
     "text": [
      "[W 2024-09-17 23:03:21,875] Trial 18 failed with parameters: {'latent_size': 256, 'dropout_rate': 0.11367955287729688, 'learning_rate': 0.005367047433888505, 'weight_decay': 1.0876766007866099e-06, 'patience': 20} because of the following error: The value nan is not acceptable.\n",
      "[W 2024-09-17 23:03:21,876] Trial 18 failed with value nan.\n"
     ]
    },
    {
     "name": "stdout",
     "output_type": "stream",
     "text": [
      "Epoch 20/100, Train Loss: nan\n",
      "Validation Loss: nan\n",
      "Early stopping triggered at epoch 20\n",
      "Encoder saved to /home/leilapirhaji/pretrained_models/vae_hyperparam_optimization_test/trial_18/encoder_state.pt\n",
      "Hyperparameters saved to /home/leilapirhaji/pretrained_models/vae_hyperparam_optimization_test/trial_18/model_hyperparameters.json\n",
      "Epoch 1/100, Train Loss: nan\n",
      "Validation Loss: nan\n",
      "Epoch 2/100, Train Loss: nan\n",
      "Validation Loss: nan\n",
      "Epoch 3/100, Train Loss: nan\n",
      "Validation Loss: nan\n",
      "Epoch 4/100, Train Loss: nan\n",
      "Validation Loss: nan\n",
      "Epoch 5/100, Train Loss: nan\n",
      "Validation Loss: nan\n",
      "Epoch 6/100, Train Loss: nan\n",
      "Validation Loss: nan\n",
      "Epoch 7/100, Train Loss: nan\n",
      "Validation Loss: nan\n",
      "Epoch 8/100, Train Loss: nan\n",
      "Validation Loss: nan\n",
      "Epoch 9/100, Train Loss: nan\n",
      "Validation Loss: nan\n",
      "Epoch 10/100, Train Loss: nan\n",
      "Validation Loss: nan\n",
      "Epoch 11/100, Train Loss: nan\n",
      "Validation Loss: nan\n",
      "Epoch 12/100, Train Loss: nan\n",
      "Validation Loss: nan\n",
      "Epoch 13/100, Train Loss: nan\n",
      "Validation Loss: nan\n",
      "Epoch 14/100, Train Loss: nan\n",
      "Validation Loss: nan\n",
      "Epoch 15/100, Train Loss: nan\n",
      "Validation Loss: nan\n",
      "Epoch 16/100, Train Loss: nan\n",
      "Validation Loss: nan\n",
      "Epoch 17/100, Train Loss: nan\n",
      "Validation Loss: nan\n",
      "Epoch 18/100, Train Loss: nan\n",
      "Validation Loss: nan\n",
      "Epoch 19/100, Train Loss: nan\n",
      "Validation Loss: nan\n"
     ]
    },
    {
     "name": "stderr",
     "output_type": "stream",
     "text": [
      "[W 2024-09-17 23:04:00,661] Trial 19 failed with parameters: {'latent_size': 256, 'dropout_rate': 0.10957649478312234, 'learning_rate': 0.004956462027353261, 'weight_decay': 1.066467539793574e-06, 'patience': 20} because of the following error: The value nan is not acceptable.\n",
      "[W 2024-09-17 23:04:00,662] Trial 19 failed with value nan.\n"
     ]
    },
    {
     "name": "stdout",
     "output_type": "stream",
     "text": [
      "Epoch 20/100, Train Loss: nan\n",
      "Validation Loss: nan\n",
      "Early stopping triggered at epoch 20\n",
      "Encoder saved to /home/leilapirhaji/pretrained_models/vae_hyperparam_optimization_test/trial_19/encoder_state.pt\n",
      "Hyperparameters saved to /home/leilapirhaji/pretrained_models/vae_hyperparam_optimization_test/trial_19/model_hyperparameters.json\n",
      "Best trial: FrozenTrial(number=2, state=TrialState.COMPLETE, values=[64.45824883908642], datetime_start=datetime.datetime(2024, 9, 17, 22, 46, 10, 132333), datetime_complete=datetime.datetime(2024, 9, 17, 22, 46, 40, 455189), params={'latent_size': 256, 'dropout_rate': 0.1489539827766307, 'learning_rate': 0.00017595104205543589, 'weight_decay': 1.219999696915712e-06, 'patience': 15}, user_attrs={}, system_attrs={}, intermediate_values={}, distributions={'latent_size': IntDistribution(high=512, log=False, low=256, step=32), 'dropout_rate': FloatDistribution(high=0.5, log=False, low=0.1, step=None), 'learning_rate': FloatDistribution(high=0.01, log=True, low=1e-05, step=None), 'weight_decay': FloatDistribution(high=0.0001, log=True, low=1e-06, step=None), 'patience': IntDistribution(high=30, log=False, low=10, step=5)}, trial_id=2, value=None)\n",
      "Best hyperparameters: {'latent_size': 256, 'dropout_rate': 0.1489539827766307, 'learning_rate': 0.00017595104205543589, 'weight_decay': 1.219999696915712e-06, 'patience': 15}\n",
      "Best hyperparameters: {'latent_size': 256, 'dropout_rate': 0.1489539827766307, 'learning_rate': 0.00017595104205543589, 'weight_decay': 1.219999696915712e-06, 'patience': 15}\n"
     ]
    }
   ],
   "source": [
    "import importlib\n",
    "import pretrain.train_pretrain_VAE\n",
    "importlib.reload(pretrain.train_pretrain_VAE)\n",
    "from pretrain.train_pretrain_VAE import PretrainVAE, pretrain_vae, optimize_hyperparameters\n",
    "\n",
    "\n",
    "# Combined parameter ranges and default values (with flexibility to tune)\n",
    "# Combined parameter ranges and default values (with flexibility to tune)\n",
    "combined_params = {\n",
    "    'latent_size': (256, 512, 32),            # Min, Max, Step size (tuned)\n",
    "    'num_hidden_layers': 2, # (2, 4, 1),          # Min, Max, Step size (tuned)\n",
    "    'dropout_rate': (0.1, 0.5, 0.05),        # Min, Max, Step size (tuned)\n",
    "    'learning_rate': (1e-5, 1e-2),           # Min, Max (log scale, tuned)\n",
    "    'weight_decay': (1e-6, 1e-4),            # Min, Max (log scale, tuned)\n",
    "    #'activation': ['relu', 'leakyrelu', 'tanh'],  # Categorical (tuned)\n",
    "\n",
    "    # Training parameters that could also be tuned\n",
    "    'batch_size': 64, #(32, 128, 32),             # Min, Max, Step size (tuned)\n",
    "    'patience': (10, 30, 5),                  # Min, Max, Step size (tuned)\n",
    "    'num_epochs': 100, #(10, 50, 5)                # Min, Max, Step size (tuned)\n",
    "}\n",
    "\n",
    "\n",
    "# Run hyperparameter optimization with model saving\n",
    "trial_name = \"vae_hyperparam_optimization_test\"\n",
    "pretrain_save_dir='/home/leilapirhaji/pretrained_models'\n",
    "os.makedirs(pretrain_save_dir, exist_ok=True)\n",
    "\n",
    "best_trial, study = optimize_hyperparameters(X_data_train, X_data_val, combined_params, trial_name, pretrain_save_dir, n_trials=20)\n",
    "\n",
    "\n",
    "print(f\"Best hyperparameters: {best_trial.params}\")\n"
   ]
  },
  {
   "cell_type": "code",
   "execution_count": 47,
   "metadata": {},
   "outputs": [
    {
     "data": {
      "text/plain": [
       "(64.45824883908642,\n",
       " {'latent_size': 256,\n",
       "  'dropout_rate': 0.1489539827766307,\n",
       "  'learning_rate': 0.00017595104205543589,\n",
       "  'weight_decay': 1.219999696915712e-06,\n",
       "  'patience': 15})"
      ]
     },
     "execution_count": 47,
     "metadata": {},
     "output_type": "execute_result"
    }
   ],
   "source": [
    "study.best_trial.value, study.best_trial.params"
   ]
  },
  {
   "cell_type": "code",
   "execution_count": 48,
   "metadata": {},
   "outputs": [
    {
     "data": {
      "application/vnd.plotly.v1+json": {
       "config": {
        "plotlyServerURL": "https://plot.ly"
       },
       "data": [
        {
         "mode": "markers",
         "name": "Objective Value",
         "type": "scatter",
         "x": [
          0,
          1,
          2,
          3,
          4,
          5,
          7,
          8,
          10,
          12
         ],
         "y": [
          72.50889104726363,
          128.41253911232462,
          64.45824883908642,
          120.50596026985012,
          72.42287990025112,
          88.50456315643933,
          128.4761168810786,
          88.50199002635722,
          112.50473707549426,
          88.52181025913784
         ]
        },
        {
         "mode": "lines",
         "name": "Best Value",
         "type": "scatter",
         "x": [
          0,
          1,
          2,
          3,
          4,
          5,
          6,
          7,
          8,
          9,
          10,
          11,
          12,
          13,
          14,
          15,
          16,
          17,
          18,
          19
         ],
         "y": [
          72.50889104726363,
          72.50889104726363,
          64.45824883908642,
          64.45824883908642,
          64.45824883908642,
          64.45824883908642,
          64.45824883908642,
          64.45824883908642,
          64.45824883908642,
          64.45824883908642,
          64.45824883908642,
          64.45824883908642,
          64.45824883908642,
          64.45824883908642,
          64.45824883908642,
          64.45824883908642,
          64.45824883908642,
          64.45824883908642,
          64.45824883908642,
          64.45824883908642
         ]
        },
        {
         "marker": {
          "color": "#cccccc"
         },
         "mode": "markers",
         "name": "Infeasible Trial",
         "showlegend": false,
         "type": "scatter",
         "x": [],
         "y": []
        }
       ],
       "layout": {
        "template": {
         "data": {
          "bar": [
           {
            "error_x": {
             "color": "#2a3f5f"
            },
            "error_y": {
             "color": "#2a3f5f"
            },
            "marker": {
             "line": {
              "color": "#E5ECF6",
              "width": 0.5
             },
             "pattern": {
              "fillmode": "overlay",
              "size": 10,
              "solidity": 0.2
             }
            },
            "type": "bar"
           }
          ],
          "barpolar": [
           {
            "marker": {
             "line": {
              "color": "#E5ECF6",
              "width": 0.5
             },
             "pattern": {
              "fillmode": "overlay",
              "size": 10,
              "solidity": 0.2
             }
            },
            "type": "barpolar"
           }
          ],
          "carpet": [
           {
            "aaxis": {
             "endlinecolor": "#2a3f5f",
             "gridcolor": "white",
             "linecolor": "white",
             "minorgridcolor": "white",
             "startlinecolor": "#2a3f5f"
            },
            "baxis": {
             "endlinecolor": "#2a3f5f",
             "gridcolor": "white",
             "linecolor": "white",
             "minorgridcolor": "white",
             "startlinecolor": "#2a3f5f"
            },
            "type": "carpet"
           }
          ],
          "choropleth": [
           {
            "colorbar": {
             "outlinewidth": 0,
             "ticks": ""
            },
            "type": "choropleth"
           }
          ],
          "contour": [
           {
            "colorbar": {
             "outlinewidth": 0,
             "ticks": ""
            },
            "colorscale": [
             [
              0,
              "#0d0887"
             ],
             [
              0.1111111111111111,
              "#46039f"
             ],
             [
              0.2222222222222222,
              "#7201a8"
             ],
             [
              0.3333333333333333,
              "#9c179e"
             ],
             [
              0.4444444444444444,
              "#bd3786"
             ],
             [
              0.5555555555555556,
              "#d8576b"
             ],
             [
              0.6666666666666666,
              "#ed7953"
             ],
             [
              0.7777777777777778,
              "#fb9f3a"
             ],
             [
              0.8888888888888888,
              "#fdca26"
             ],
             [
              1,
              "#f0f921"
             ]
            ],
            "type": "contour"
           }
          ],
          "contourcarpet": [
           {
            "colorbar": {
             "outlinewidth": 0,
             "ticks": ""
            },
            "type": "contourcarpet"
           }
          ],
          "heatmap": [
           {
            "colorbar": {
             "outlinewidth": 0,
             "ticks": ""
            },
            "colorscale": [
             [
              0,
              "#0d0887"
             ],
             [
              0.1111111111111111,
              "#46039f"
             ],
             [
              0.2222222222222222,
              "#7201a8"
             ],
             [
              0.3333333333333333,
              "#9c179e"
             ],
             [
              0.4444444444444444,
              "#bd3786"
             ],
             [
              0.5555555555555556,
              "#d8576b"
             ],
             [
              0.6666666666666666,
              "#ed7953"
             ],
             [
              0.7777777777777778,
              "#fb9f3a"
             ],
             [
              0.8888888888888888,
              "#fdca26"
             ],
             [
              1,
              "#f0f921"
             ]
            ],
            "type": "heatmap"
           }
          ],
          "heatmapgl": [
           {
            "colorbar": {
             "outlinewidth": 0,
             "ticks": ""
            },
            "colorscale": [
             [
              0,
              "#0d0887"
             ],
             [
              0.1111111111111111,
              "#46039f"
             ],
             [
              0.2222222222222222,
              "#7201a8"
             ],
             [
              0.3333333333333333,
              "#9c179e"
             ],
             [
              0.4444444444444444,
              "#bd3786"
             ],
             [
              0.5555555555555556,
              "#d8576b"
             ],
             [
              0.6666666666666666,
              "#ed7953"
             ],
             [
              0.7777777777777778,
              "#fb9f3a"
             ],
             [
              0.8888888888888888,
              "#fdca26"
             ],
             [
              1,
              "#f0f921"
             ]
            ],
            "type": "heatmapgl"
           }
          ],
          "histogram": [
           {
            "marker": {
             "pattern": {
              "fillmode": "overlay",
              "size": 10,
              "solidity": 0.2
             }
            },
            "type": "histogram"
           }
          ],
          "histogram2d": [
           {
            "colorbar": {
             "outlinewidth": 0,
             "ticks": ""
            },
            "colorscale": [
             [
              0,
              "#0d0887"
             ],
             [
              0.1111111111111111,
              "#46039f"
             ],
             [
              0.2222222222222222,
              "#7201a8"
             ],
             [
              0.3333333333333333,
              "#9c179e"
             ],
             [
              0.4444444444444444,
              "#bd3786"
             ],
             [
              0.5555555555555556,
              "#d8576b"
             ],
             [
              0.6666666666666666,
              "#ed7953"
             ],
             [
              0.7777777777777778,
              "#fb9f3a"
             ],
             [
              0.8888888888888888,
              "#fdca26"
             ],
             [
              1,
              "#f0f921"
             ]
            ],
            "type": "histogram2d"
           }
          ],
          "histogram2dcontour": [
           {
            "colorbar": {
             "outlinewidth": 0,
             "ticks": ""
            },
            "colorscale": [
             [
              0,
              "#0d0887"
             ],
             [
              0.1111111111111111,
              "#46039f"
             ],
             [
              0.2222222222222222,
              "#7201a8"
             ],
             [
              0.3333333333333333,
              "#9c179e"
             ],
             [
              0.4444444444444444,
              "#bd3786"
             ],
             [
              0.5555555555555556,
              "#d8576b"
             ],
             [
              0.6666666666666666,
              "#ed7953"
             ],
             [
              0.7777777777777778,
              "#fb9f3a"
             ],
             [
              0.8888888888888888,
              "#fdca26"
             ],
             [
              1,
              "#f0f921"
             ]
            ],
            "type": "histogram2dcontour"
           }
          ],
          "mesh3d": [
           {
            "colorbar": {
             "outlinewidth": 0,
             "ticks": ""
            },
            "type": "mesh3d"
           }
          ],
          "parcoords": [
           {
            "line": {
             "colorbar": {
              "outlinewidth": 0,
              "ticks": ""
             }
            },
            "type": "parcoords"
           }
          ],
          "pie": [
           {
            "automargin": true,
            "type": "pie"
           }
          ],
          "scatter": [
           {
            "fillpattern": {
             "fillmode": "overlay",
             "size": 10,
             "solidity": 0.2
            },
            "type": "scatter"
           }
          ],
          "scatter3d": [
           {
            "line": {
             "colorbar": {
              "outlinewidth": 0,
              "ticks": ""
             }
            },
            "marker": {
             "colorbar": {
              "outlinewidth": 0,
              "ticks": ""
             }
            },
            "type": "scatter3d"
           }
          ],
          "scattercarpet": [
           {
            "marker": {
             "colorbar": {
              "outlinewidth": 0,
              "ticks": ""
             }
            },
            "type": "scattercarpet"
           }
          ],
          "scattergeo": [
           {
            "marker": {
             "colorbar": {
              "outlinewidth": 0,
              "ticks": ""
             }
            },
            "type": "scattergeo"
           }
          ],
          "scattergl": [
           {
            "marker": {
             "colorbar": {
              "outlinewidth": 0,
              "ticks": ""
             }
            },
            "type": "scattergl"
           }
          ],
          "scattermapbox": [
           {
            "marker": {
             "colorbar": {
              "outlinewidth": 0,
              "ticks": ""
             }
            },
            "type": "scattermapbox"
           }
          ],
          "scatterpolar": [
           {
            "marker": {
             "colorbar": {
              "outlinewidth": 0,
              "ticks": ""
             }
            },
            "type": "scatterpolar"
           }
          ],
          "scatterpolargl": [
           {
            "marker": {
             "colorbar": {
              "outlinewidth": 0,
              "ticks": ""
             }
            },
            "type": "scatterpolargl"
           }
          ],
          "scatterternary": [
           {
            "marker": {
             "colorbar": {
              "outlinewidth": 0,
              "ticks": ""
             }
            },
            "type": "scatterternary"
           }
          ],
          "surface": [
           {
            "colorbar": {
             "outlinewidth": 0,
             "ticks": ""
            },
            "colorscale": [
             [
              0,
              "#0d0887"
             ],
             [
              0.1111111111111111,
              "#46039f"
             ],
             [
              0.2222222222222222,
              "#7201a8"
             ],
             [
              0.3333333333333333,
              "#9c179e"
             ],
             [
              0.4444444444444444,
              "#bd3786"
             ],
             [
              0.5555555555555556,
              "#d8576b"
             ],
             [
              0.6666666666666666,
              "#ed7953"
             ],
             [
              0.7777777777777778,
              "#fb9f3a"
             ],
             [
              0.8888888888888888,
              "#fdca26"
             ],
             [
              1,
              "#f0f921"
             ]
            ],
            "type": "surface"
           }
          ],
          "table": [
           {
            "cells": {
             "fill": {
              "color": "#EBF0F8"
             },
             "line": {
              "color": "white"
             }
            },
            "header": {
             "fill": {
              "color": "#C8D4E3"
             },
             "line": {
              "color": "white"
             }
            },
            "type": "table"
           }
          ]
         },
         "layout": {
          "annotationdefaults": {
           "arrowcolor": "#2a3f5f",
           "arrowhead": 0,
           "arrowwidth": 1
          },
          "autotypenumbers": "strict",
          "coloraxis": {
           "colorbar": {
            "outlinewidth": 0,
            "ticks": ""
           }
          },
          "colorscale": {
           "diverging": [
            [
             0,
             "#8e0152"
            ],
            [
             0.1,
             "#c51b7d"
            ],
            [
             0.2,
             "#de77ae"
            ],
            [
             0.3,
             "#f1b6da"
            ],
            [
             0.4,
             "#fde0ef"
            ],
            [
             0.5,
             "#f7f7f7"
            ],
            [
             0.6,
             "#e6f5d0"
            ],
            [
             0.7,
             "#b8e186"
            ],
            [
             0.8,
             "#7fbc41"
            ],
            [
             0.9,
             "#4d9221"
            ],
            [
             1,
             "#276419"
            ]
           ],
           "sequential": [
            [
             0,
             "#0d0887"
            ],
            [
             0.1111111111111111,
             "#46039f"
            ],
            [
             0.2222222222222222,
             "#7201a8"
            ],
            [
             0.3333333333333333,
             "#9c179e"
            ],
            [
             0.4444444444444444,
             "#bd3786"
            ],
            [
             0.5555555555555556,
             "#d8576b"
            ],
            [
             0.6666666666666666,
             "#ed7953"
            ],
            [
             0.7777777777777778,
             "#fb9f3a"
            ],
            [
             0.8888888888888888,
             "#fdca26"
            ],
            [
             1,
             "#f0f921"
            ]
           ],
           "sequentialminus": [
            [
             0,
             "#0d0887"
            ],
            [
             0.1111111111111111,
             "#46039f"
            ],
            [
             0.2222222222222222,
             "#7201a8"
            ],
            [
             0.3333333333333333,
             "#9c179e"
            ],
            [
             0.4444444444444444,
             "#bd3786"
            ],
            [
             0.5555555555555556,
             "#d8576b"
            ],
            [
             0.6666666666666666,
             "#ed7953"
            ],
            [
             0.7777777777777778,
             "#fb9f3a"
            ],
            [
             0.8888888888888888,
             "#fdca26"
            ],
            [
             1,
             "#f0f921"
            ]
           ]
          },
          "colorway": [
           "#636efa",
           "#EF553B",
           "#00cc96",
           "#ab63fa",
           "#FFA15A",
           "#19d3f3",
           "#FF6692",
           "#B6E880",
           "#FF97FF",
           "#FECB52"
          ],
          "font": {
           "color": "#2a3f5f"
          },
          "geo": {
           "bgcolor": "white",
           "lakecolor": "white",
           "landcolor": "#E5ECF6",
           "showlakes": true,
           "showland": true,
           "subunitcolor": "white"
          },
          "hoverlabel": {
           "align": "left"
          },
          "hovermode": "closest",
          "mapbox": {
           "style": "light"
          },
          "paper_bgcolor": "white",
          "plot_bgcolor": "#E5ECF6",
          "polar": {
           "angularaxis": {
            "gridcolor": "white",
            "linecolor": "white",
            "ticks": ""
           },
           "bgcolor": "#E5ECF6",
           "radialaxis": {
            "gridcolor": "white",
            "linecolor": "white",
            "ticks": ""
           }
          },
          "scene": {
           "xaxis": {
            "backgroundcolor": "#E5ECF6",
            "gridcolor": "white",
            "gridwidth": 2,
            "linecolor": "white",
            "showbackground": true,
            "ticks": "",
            "zerolinecolor": "white"
           },
           "yaxis": {
            "backgroundcolor": "#E5ECF6",
            "gridcolor": "white",
            "gridwidth": 2,
            "linecolor": "white",
            "showbackground": true,
            "ticks": "",
            "zerolinecolor": "white"
           },
           "zaxis": {
            "backgroundcolor": "#E5ECF6",
            "gridcolor": "white",
            "gridwidth": 2,
            "linecolor": "white",
            "showbackground": true,
            "ticks": "",
            "zerolinecolor": "white"
           }
          },
          "shapedefaults": {
           "line": {
            "color": "#2a3f5f"
           }
          },
          "ternary": {
           "aaxis": {
            "gridcolor": "white",
            "linecolor": "white",
            "ticks": ""
           },
           "baxis": {
            "gridcolor": "white",
            "linecolor": "white",
            "ticks": ""
           },
           "bgcolor": "#E5ECF6",
           "caxis": {
            "gridcolor": "white",
            "linecolor": "white",
            "ticks": ""
           }
          },
          "title": {
           "x": 0.05
          },
          "xaxis": {
           "automargin": true,
           "gridcolor": "white",
           "linecolor": "white",
           "ticks": "",
           "title": {
            "standoff": 15
           },
           "zerolinecolor": "white",
           "zerolinewidth": 2
          },
          "yaxis": {
           "automargin": true,
           "gridcolor": "white",
           "linecolor": "white",
           "ticks": "",
           "title": {
            "standoff": 15
           },
           "zerolinecolor": "white",
           "zerolinewidth": 2
          }
         }
        },
        "title": {
         "text": "Optimization History Plot"
        },
        "xaxis": {
         "title": {
          "text": "Trial"
         }
        },
        "yaxis": {
         "title": {
          "text": "Objective Value"
         }
        }
       }
      },
      "text/html": [
       "<div>                            <div id=\"63f915b6-d32b-41d6-ac55-586bca0ac567\" class=\"plotly-graph-div\" style=\"height:525px; width:100%;\"></div>            <script type=\"text/javascript\">                require([\"plotly\"], function(Plotly) {                    window.PLOTLYENV=window.PLOTLYENV || {};                                    if (document.getElementById(\"63f915b6-d32b-41d6-ac55-586bca0ac567\")) {                    Plotly.newPlot(                        \"63f915b6-d32b-41d6-ac55-586bca0ac567\",                        [{\"mode\":\"markers\",\"name\":\"Objective Value\",\"x\":[0,1,2,3,4,5,7,8,10,12],\"y\":[72.50889104726363,128.41253911232462,64.45824883908642,120.50596026985012,72.42287990025112,88.50456315643933,128.4761168810786,88.50199002635722,112.50473707549426,88.52181025913784],\"type\":\"scatter\"},{\"mode\":\"lines\",\"name\":\"Best Value\",\"x\":[0,1,2,3,4,5,6,7,8,9,10,11,12,13,14,15,16,17,18,19],\"y\":[72.50889104726363,72.50889104726363,64.45824883908642,64.45824883908642,64.45824883908642,64.45824883908642,64.45824883908642,64.45824883908642,64.45824883908642,64.45824883908642,64.45824883908642,64.45824883908642,64.45824883908642,64.45824883908642,64.45824883908642,64.45824883908642,64.45824883908642,64.45824883908642,64.45824883908642,64.45824883908642],\"type\":\"scatter\"},{\"marker\":{\"color\":\"#cccccc\"},\"mode\":\"markers\",\"name\":\"Infeasible Trial\",\"showlegend\":false,\"x\":[],\"y\":[],\"type\":\"scatter\"}],                        {\"title\":{\"text\":\"Optimization History Plot\"},\"xaxis\":{\"title\":{\"text\":\"Trial\"}},\"yaxis\":{\"title\":{\"text\":\"Objective Value\"}},\"template\":{\"data\":{\"histogram2dcontour\":[{\"type\":\"histogram2dcontour\",\"colorbar\":{\"outlinewidth\":0,\"ticks\":\"\"},\"colorscale\":[[0.0,\"#0d0887\"],[0.1111111111111111,\"#46039f\"],[0.2222222222222222,\"#7201a8\"],[0.3333333333333333,\"#9c179e\"],[0.4444444444444444,\"#bd3786\"],[0.5555555555555556,\"#d8576b\"],[0.6666666666666666,\"#ed7953\"],[0.7777777777777778,\"#fb9f3a\"],[0.8888888888888888,\"#fdca26\"],[1.0,\"#f0f921\"]]}],\"choropleth\":[{\"type\":\"choropleth\",\"colorbar\":{\"outlinewidth\":0,\"ticks\":\"\"}}],\"histogram2d\":[{\"type\":\"histogram2d\",\"colorbar\":{\"outlinewidth\":0,\"ticks\":\"\"},\"colorscale\":[[0.0,\"#0d0887\"],[0.1111111111111111,\"#46039f\"],[0.2222222222222222,\"#7201a8\"],[0.3333333333333333,\"#9c179e\"],[0.4444444444444444,\"#bd3786\"],[0.5555555555555556,\"#d8576b\"],[0.6666666666666666,\"#ed7953\"],[0.7777777777777778,\"#fb9f3a\"],[0.8888888888888888,\"#fdca26\"],[1.0,\"#f0f921\"]]}],\"heatmap\":[{\"type\":\"heatmap\",\"colorbar\":{\"outlinewidth\":0,\"ticks\":\"\"},\"colorscale\":[[0.0,\"#0d0887\"],[0.1111111111111111,\"#46039f\"],[0.2222222222222222,\"#7201a8\"],[0.3333333333333333,\"#9c179e\"],[0.4444444444444444,\"#bd3786\"],[0.5555555555555556,\"#d8576b\"],[0.6666666666666666,\"#ed7953\"],[0.7777777777777778,\"#fb9f3a\"],[0.8888888888888888,\"#fdca26\"],[1.0,\"#f0f921\"]]}],\"heatmapgl\":[{\"type\":\"heatmapgl\",\"colorbar\":{\"outlinewidth\":0,\"ticks\":\"\"},\"colorscale\":[[0.0,\"#0d0887\"],[0.1111111111111111,\"#46039f\"],[0.2222222222222222,\"#7201a8\"],[0.3333333333333333,\"#9c179e\"],[0.4444444444444444,\"#bd3786\"],[0.5555555555555556,\"#d8576b\"],[0.6666666666666666,\"#ed7953\"],[0.7777777777777778,\"#fb9f3a\"],[0.8888888888888888,\"#fdca26\"],[1.0,\"#f0f921\"]]}],\"contourcarpet\":[{\"type\":\"contourcarpet\",\"colorbar\":{\"outlinewidth\":0,\"ticks\":\"\"}}],\"contour\":[{\"type\":\"contour\",\"colorbar\":{\"outlinewidth\":0,\"ticks\":\"\"},\"colorscale\":[[0.0,\"#0d0887\"],[0.1111111111111111,\"#46039f\"],[0.2222222222222222,\"#7201a8\"],[0.3333333333333333,\"#9c179e\"],[0.4444444444444444,\"#bd3786\"],[0.5555555555555556,\"#d8576b\"],[0.6666666666666666,\"#ed7953\"],[0.7777777777777778,\"#fb9f3a\"],[0.8888888888888888,\"#fdca26\"],[1.0,\"#f0f921\"]]}],\"surface\":[{\"type\":\"surface\",\"colorbar\":{\"outlinewidth\":0,\"ticks\":\"\"},\"colorscale\":[[0.0,\"#0d0887\"],[0.1111111111111111,\"#46039f\"],[0.2222222222222222,\"#7201a8\"],[0.3333333333333333,\"#9c179e\"],[0.4444444444444444,\"#bd3786\"],[0.5555555555555556,\"#d8576b\"],[0.6666666666666666,\"#ed7953\"],[0.7777777777777778,\"#fb9f3a\"],[0.8888888888888888,\"#fdca26\"],[1.0,\"#f0f921\"]]}],\"mesh3d\":[{\"type\":\"mesh3d\",\"colorbar\":{\"outlinewidth\":0,\"ticks\":\"\"}}],\"scatter\":[{\"fillpattern\":{\"fillmode\":\"overlay\",\"size\":10,\"solidity\":0.2},\"type\":\"scatter\"}],\"parcoords\":[{\"type\":\"parcoords\",\"line\":{\"colorbar\":{\"outlinewidth\":0,\"ticks\":\"\"}}}],\"scatterpolargl\":[{\"type\":\"scatterpolargl\",\"marker\":{\"colorbar\":{\"outlinewidth\":0,\"ticks\":\"\"}}}],\"bar\":[{\"error_x\":{\"color\":\"#2a3f5f\"},\"error_y\":{\"color\":\"#2a3f5f\"},\"marker\":{\"line\":{\"color\":\"#E5ECF6\",\"width\":0.5},\"pattern\":{\"fillmode\":\"overlay\",\"size\":10,\"solidity\":0.2}},\"type\":\"bar\"}],\"scattergeo\":[{\"type\":\"scattergeo\",\"marker\":{\"colorbar\":{\"outlinewidth\":0,\"ticks\":\"\"}}}],\"scatterpolar\":[{\"type\":\"scatterpolar\",\"marker\":{\"colorbar\":{\"outlinewidth\":0,\"ticks\":\"\"}}}],\"histogram\":[{\"marker\":{\"pattern\":{\"fillmode\":\"overlay\",\"size\":10,\"solidity\":0.2}},\"type\":\"histogram\"}],\"scattergl\":[{\"type\":\"scattergl\",\"marker\":{\"colorbar\":{\"outlinewidth\":0,\"ticks\":\"\"}}}],\"scatter3d\":[{\"type\":\"scatter3d\",\"line\":{\"colorbar\":{\"outlinewidth\":0,\"ticks\":\"\"}},\"marker\":{\"colorbar\":{\"outlinewidth\":0,\"ticks\":\"\"}}}],\"scattermapbox\":[{\"type\":\"scattermapbox\",\"marker\":{\"colorbar\":{\"outlinewidth\":0,\"ticks\":\"\"}}}],\"scatterternary\":[{\"type\":\"scatterternary\",\"marker\":{\"colorbar\":{\"outlinewidth\":0,\"ticks\":\"\"}}}],\"scattercarpet\":[{\"type\":\"scattercarpet\",\"marker\":{\"colorbar\":{\"outlinewidth\":0,\"ticks\":\"\"}}}],\"carpet\":[{\"aaxis\":{\"endlinecolor\":\"#2a3f5f\",\"gridcolor\":\"white\",\"linecolor\":\"white\",\"minorgridcolor\":\"white\",\"startlinecolor\":\"#2a3f5f\"},\"baxis\":{\"endlinecolor\":\"#2a3f5f\",\"gridcolor\":\"white\",\"linecolor\":\"white\",\"minorgridcolor\":\"white\",\"startlinecolor\":\"#2a3f5f\"},\"type\":\"carpet\"}],\"table\":[{\"cells\":{\"fill\":{\"color\":\"#EBF0F8\"},\"line\":{\"color\":\"white\"}},\"header\":{\"fill\":{\"color\":\"#C8D4E3\"},\"line\":{\"color\":\"white\"}},\"type\":\"table\"}],\"barpolar\":[{\"marker\":{\"line\":{\"color\":\"#E5ECF6\",\"width\":0.5},\"pattern\":{\"fillmode\":\"overlay\",\"size\":10,\"solidity\":0.2}},\"type\":\"barpolar\"}],\"pie\":[{\"automargin\":true,\"type\":\"pie\"}]},\"layout\":{\"autotypenumbers\":\"strict\",\"colorway\":[\"#636efa\",\"#EF553B\",\"#00cc96\",\"#ab63fa\",\"#FFA15A\",\"#19d3f3\",\"#FF6692\",\"#B6E880\",\"#FF97FF\",\"#FECB52\"],\"font\":{\"color\":\"#2a3f5f\"},\"hovermode\":\"closest\",\"hoverlabel\":{\"align\":\"left\"},\"paper_bgcolor\":\"white\",\"plot_bgcolor\":\"#E5ECF6\",\"polar\":{\"bgcolor\":\"#E5ECF6\",\"angularaxis\":{\"gridcolor\":\"white\",\"linecolor\":\"white\",\"ticks\":\"\"},\"radialaxis\":{\"gridcolor\":\"white\",\"linecolor\":\"white\",\"ticks\":\"\"}},\"ternary\":{\"bgcolor\":\"#E5ECF6\",\"aaxis\":{\"gridcolor\":\"white\",\"linecolor\":\"white\",\"ticks\":\"\"},\"baxis\":{\"gridcolor\":\"white\",\"linecolor\":\"white\",\"ticks\":\"\"},\"caxis\":{\"gridcolor\":\"white\",\"linecolor\":\"white\",\"ticks\":\"\"}},\"coloraxis\":{\"colorbar\":{\"outlinewidth\":0,\"ticks\":\"\"}},\"colorscale\":{\"sequential\":[[0.0,\"#0d0887\"],[0.1111111111111111,\"#46039f\"],[0.2222222222222222,\"#7201a8\"],[0.3333333333333333,\"#9c179e\"],[0.4444444444444444,\"#bd3786\"],[0.5555555555555556,\"#d8576b\"],[0.6666666666666666,\"#ed7953\"],[0.7777777777777778,\"#fb9f3a\"],[0.8888888888888888,\"#fdca26\"],[1.0,\"#f0f921\"]],\"sequentialminus\":[[0.0,\"#0d0887\"],[0.1111111111111111,\"#46039f\"],[0.2222222222222222,\"#7201a8\"],[0.3333333333333333,\"#9c179e\"],[0.4444444444444444,\"#bd3786\"],[0.5555555555555556,\"#d8576b\"],[0.6666666666666666,\"#ed7953\"],[0.7777777777777778,\"#fb9f3a\"],[0.8888888888888888,\"#fdca26\"],[1.0,\"#f0f921\"]],\"diverging\":[[0,\"#8e0152\"],[0.1,\"#c51b7d\"],[0.2,\"#de77ae\"],[0.3,\"#f1b6da\"],[0.4,\"#fde0ef\"],[0.5,\"#f7f7f7\"],[0.6,\"#e6f5d0\"],[0.7,\"#b8e186\"],[0.8,\"#7fbc41\"],[0.9,\"#4d9221\"],[1,\"#276419\"]]},\"xaxis\":{\"gridcolor\":\"white\",\"linecolor\":\"white\",\"ticks\":\"\",\"title\":{\"standoff\":15},\"zerolinecolor\":\"white\",\"automargin\":true,\"zerolinewidth\":2},\"yaxis\":{\"gridcolor\":\"white\",\"linecolor\":\"white\",\"ticks\":\"\",\"title\":{\"standoff\":15},\"zerolinecolor\":\"white\",\"automargin\":true,\"zerolinewidth\":2},\"scene\":{\"xaxis\":{\"backgroundcolor\":\"#E5ECF6\",\"gridcolor\":\"white\",\"linecolor\":\"white\",\"showbackground\":true,\"ticks\":\"\",\"zerolinecolor\":\"white\",\"gridwidth\":2},\"yaxis\":{\"backgroundcolor\":\"#E5ECF6\",\"gridcolor\":\"white\",\"linecolor\":\"white\",\"showbackground\":true,\"ticks\":\"\",\"zerolinecolor\":\"white\",\"gridwidth\":2},\"zaxis\":{\"backgroundcolor\":\"#E5ECF6\",\"gridcolor\":\"white\",\"linecolor\":\"white\",\"showbackground\":true,\"ticks\":\"\",\"zerolinecolor\":\"white\",\"gridwidth\":2}},\"shapedefaults\":{\"line\":{\"color\":\"#2a3f5f\"}},\"annotationdefaults\":{\"arrowcolor\":\"#2a3f5f\",\"arrowhead\":0,\"arrowwidth\":1},\"geo\":{\"bgcolor\":\"white\",\"landcolor\":\"#E5ECF6\",\"subunitcolor\":\"white\",\"showland\":true,\"showlakes\":true,\"lakecolor\":\"white\"},\"title\":{\"x\":0.05},\"mapbox\":{\"style\":\"light\"}}}},                        {\"responsive\": true}                    ).then(function(){\n",
       "                            \n",
       "var gd = document.getElementById('63f915b6-d32b-41d6-ac55-586bca0ac567');\n",
       "var x = new MutationObserver(function (mutations, observer) {{\n",
       "        var display = window.getComputedStyle(gd).display;\n",
       "        if (!display || display === 'none') {{\n",
       "            console.log([gd, 'removed!']);\n",
       "            Plotly.purge(gd);\n",
       "            observer.disconnect();\n",
       "        }}\n",
       "}});\n",
       "\n",
       "// Listen for the removal of the full notebook cells\n",
       "var notebookContainer = gd.closest('#notebook-container');\n",
       "if (notebookContainer) {{\n",
       "    x.observe(notebookContainer, {childList: true});\n",
       "}}\n",
       "\n",
       "// Listen for the clearing of the current output cell\n",
       "var outputEl = gd.closest('.output');\n",
       "if (outputEl) {{\n",
       "    x.observe(outputEl, {childList: true});\n",
       "}}\n",
       "\n",
       "                        })                };                });            </script>        </div>"
      ]
     },
     "metadata": {},
     "output_type": "display_data"
    },
    {
     "data": {
      "application/vnd.plotly.v1+json": {
       "config": {
        "plotlyServerURL": "https://plot.ly"
       },
       "data": [
        {
         "cliponaxis": false,
         "hovertemplate": [
          "learning_rate (FloatDistribution): 0.017159120525915273<extra></extra>",
          "weight_decay (FloatDistribution): 0.021203533014134815<extra></extra>",
          "dropout_rate (FloatDistribution): 0.07833389832790999<extra></extra>",
          "patience (IntDistribution): 0.0974291305894527<extra></extra>",
          "latent_size (IntDistribution): 0.7858743175425873<extra></extra>"
         ],
         "name": "Objective Value",
         "orientation": "h",
         "text": [
          "0.02",
          "0.02",
          "0.08",
          "0.10",
          "0.79"
         ],
         "textposition": "outside",
         "type": "bar",
         "x": [
          0.017159120525915273,
          0.021203533014134815,
          0.07833389832790999,
          0.0974291305894527,
          0.7858743175425873
         ],
         "y": [
          "learning_rate",
          "weight_decay",
          "dropout_rate",
          "patience",
          "latent_size"
         ]
        }
       ],
       "layout": {
        "template": {
         "data": {
          "bar": [
           {
            "error_x": {
             "color": "#2a3f5f"
            },
            "error_y": {
             "color": "#2a3f5f"
            },
            "marker": {
             "line": {
              "color": "#E5ECF6",
              "width": 0.5
             },
             "pattern": {
              "fillmode": "overlay",
              "size": 10,
              "solidity": 0.2
             }
            },
            "type": "bar"
           }
          ],
          "barpolar": [
           {
            "marker": {
             "line": {
              "color": "#E5ECF6",
              "width": 0.5
             },
             "pattern": {
              "fillmode": "overlay",
              "size": 10,
              "solidity": 0.2
             }
            },
            "type": "barpolar"
           }
          ],
          "carpet": [
           {
            "aaxis": {
             "endlinecolor": "#2a3f5f",
             "gridcolor": "white",
             "linecolor": "white",
             "minorgridcolor": "white",
             "startlinecolor": "#2a3f5f"
            },
            "baxis": {
             "endlinecolor": "#2a3f5f",
             "gridcolor": "white",
             "linecolor": "white",
             "minorgridcolor": "white",
             "startlinecolor": "#2a3f5f"
            },
            "type": "carpet"
           }
          ],
          "choropleth": [
           {
            "colorbar": {
             "outlinewidth": 0,
             "ticks": ""
            },
            "type": "choropleth"
           }
          ],
          "contour": [
           {
            "colorbar": {
             "outlinewidth": 0,
             "ticks": ""
            },
            "colorscale": [
             [
              0,
              "#0d0887"
             ],
             [
              0.1111111111111111,
              "#46039f"
             ],
             [
              0.2222222222222222,
              "#7201a8"
             ],
             [
              0.3333333333333333,
              "#9c179e"
             ],
             [
              0.4444444444444444,
              "#bd3786"
             ],
             [
              0.5555555555555556,
              "#d8576b"
             ],
             [
              0.6666666666666666,
              "#ed7953"
             ],
             [
              0.7777777777777778,
              "#fb9f3a"
             ],
             [
              0.8888888888888888,
              "#fdca26"
             ],
             [
              1,
              "#f0f921"
             ]
            ],
            "type": "contour"
           }
          ],
          "contourcarpet": [
           {
            "colorbar": {
             "outlinewidth": 0,
             "ticks": ""
            },
            "type": "contourcarpet"
           }
          ],
          "heatmap": [
           {
            "colorbar": {
             "outlinewidth": 0,
             "ticks": ""
            },
            "colorscale": [
             [
              0,
              "#0d0887"
             ],
             [
              0.1111111111111111,
              "#46039f"
             ],
             [
              0.2222222222222222,
              "#7201a8"
             ],
             [
              0.3333333333333333,
              "#9c179e"
             ],
             [
              0.4444444444444444,
              "#bd3786"
             ],
             [
              0.5555555555555556,
              "#d8576b"
             ],
             [
              0.6666666666666666,
              "#ed7953"
             ],
             [
              0.7777777777777778,
              "#fb9f3a"
             ],
             [
              0.8888888888888888,
              "#fdca26"
             ],
             [
              1,
              "#f0f921"
             ]
            ],
            "type": "heatmap"
           }
          ],
          "heatmapgl": [
           {
            "colorbar": {
             "outlinewidth": 0,
             "ticks": ""
            },
            "colorscale": [
             [
              0,
              "#0d0887"
             ],
             [
              0.1111111111111111,
              "#46039f"
             ],
             [
              0.2222222222222222,
              "#7201a8"
             ],
             [
              0.3333333333333333,
              "#9c179e"
             ],
             [
              0.4444444444444444,
              "#bd3786"
             ],
             [
              0.5555555555555556,
              "#d8576b"
             ],
             [
              0.6666666666666666,
              "#ed7953"
             ],
             [
              0.7777777777777778,
              "#fb9f3a"
             ],
             [
              0.8888888888888888,
              "#fdca26"
             ],
             [
              1,
              "#f0f921"
             ]
            ],
            "type": "heatmapgl"
           }
          ],
          "histogram": [
           {
            "marker": {
             "pattern": {
              "fillmode": "overlay",
              "size": 10,
              "solidity": 0.2
             }
            },
            "type": "histogram"
           }
          ],
          "histogram2d": [
           {
            "colorbar": {
             "outlinewidth": 0,
             "ticks": ""
            },
            "colorscale": [
             [
              0,
              "#0d0887"
             ],
             [
              0.1111111111111111,
              "#46039f"
             ],
             [
              0.2222222222222222,
              "#7201a8"
             ],
             [
              0.3333333333333333,
              "#9c179e"
             ],
             [
              0.4444444444444444,
              "#bd3786"
             ],
             [
              0.5555555555555556,
              "#d8576b"
             ],
             [
              0.6666666666666666,
              "#ed7953"
             ],
             [
              0.7777777777777778,
              "#fb9f3a"
             ],
             [
              0.8888888888888888,
              "#fdca26"
             ],
             [
              1,
              "#f0f921"
             ]
            ],
            "type": "histogram2d"
           }
          ],
          "histogram2dcontour": [
           {
            "colorbar": {
             "outlinewidth": 0,
             "ticks": ""
            },
            "colorscale": [
             [
              0,
              "#0d0887"
             ],
             [
              0.1111111111111111,
              "#46039f"
             ],
             [
              0.2222222222222222,
              "#7201a8"
             ],
             [
              0.3333333333333333,
              "#9c179e"
             ],
             [
              0.4444444444444444,
              "#bd3786"
             ],
             [
              0.5555555555555556,
              "#d8576b"
             ],
             [
              0.6666666666666666,
              "#ed7953"
             ],
             [
              0.7777777777777778,
              "#fb9f3a"
             ],
             [
              0.8888888888888888,
              "#fdca26"
             ],
             [
              1,
              "#f0f921"
             ]
            ],
            "type": "histogram2dcontour"
           }
          ],
          "mesh3d": [
           {
            "colorbar": {
             "outlinewidth": 0,
             "ticks": ""
            },
            "type": "mesh3d"
           }
          ],
          "parcoords": [
           {
            "line": {
             "colorbar": {
              "outlinewidth": 0,
              "ticks": ""
             }
            },
            "type": "parcoords"
           }
          ],
          "pie": [
           {
            "automargin": true,
            "type": "pie"
           }
          ],
          "scatter": [
           {
            "fillpattern": {
             "fillmode": "overlay",
             "size": 10,
             "solidity": 0.2
            },
            "type": "scatter"
           }
          ],
          "scatter3d": [
           {
            "line": {
             "colorbar": {
              "outlinewidth": 0,
              "ticks": ""
             }
            },
            "marker": {
             "colorbar": {
              "outlinewidth": 0,
              "ticks": ""
             }
            },
            "type": "scatter3d"
           }
          ],
          "scattercarpet": [
           {
            "marker": {
             "colorbar": {
              "outlinewidth": 0,
              "ticks": ""
             }
            },
            "type": "scattercarpet"
           }
          ],
          "scattergeo": [
           {
            "marker": {
             "colorbar": {
              "outlinewidth": 0,
              "ticks": ""
             }
            },
            "type": "scattergeo"
           }
          ],
          "scattergl": [
           {
            "marker": {
             "colorbar": {
              "outlinewidth": 0,
              "ticks": ""
             }
            },
            "type": "scattergl"
           }
          ],
          "scattermapbox": [
           {
            "marker": {
             "colorbar": {
              "outlinewidth": 0,
              "ticks": ""
             }
            },
            "type": "scattermapbox"
           }
          ],
          "scatterpolar": [
           {
            "marker": {
             "colorbar": {
              "outlinewidth": 0,
              "ticks": ""
             }
            },
            "type": "scatterpolar"
           }
          ],
          "scatterpolargl": [
           {
            "marker": {
             "colorbar": {
              "outlinewidth": 0,
              "ticks": ""
             }
            },
            "type": "scatterpolargl"
           }
          ],
          "scatterternary": [
           {
            "marker": {
             "colorbar": {
              "outlinewidth": 0,
              "ticks": ""
             }
            },
            "type": "scatterternary"
           }
          ],
          "surface": [
           {
            "colorbar": {
             "outlinewidth": 0,
             "ticks": ""
            },
            "colorscale": [
             [
              0,
              "#0d0887"
             ],
             [
              0.1111111111111111,
              "#46039f"
             ],
             [
              0.2222222222222222,
              "#7201a8"
             ],
             [
              0.3333333333333333,
              "#9c179e"
             ],
             [
              0.4444444444444444,
              "#bd3786"
             ],
             [
              0.5555555555555556,
              "#d8576b"
             ],
             [
              0.6666666666666666,
              "#ed7953"
             ],
             [
              0.7777777777777778,
              "#fb9f3a"
             ],
             [
              0.8888888888888888,
              "#fdca26"
             ],
             [
              1,
              "#f0f921"
             ]
            ],
            "type": "surface"
           }
          ],
          "table": [
           {
            "cells": {
             "fill": {
              "color": "#EBF0F8"
             },
             "line": {
              "color": "white"
             }
            },
            "header": {
             "fill": {
              "color": "#C8D4E3"
             },
             "line": {
              "color": "white"
             }
            },
            "type": "table"
           }
          ]
         },
         "layout": {
          "annotationdefaults": {
           "arrowcolor": "#2a3f5f",
           "arrowhead": 0,
           "arrowwidth": 1
          },
          "autotypenumbers": "strict",
          "coloraxis": {
           "colorbar": {
            "outlinewidth": 0,
            "ticks": ""
           }
          },
          "colorscale": {
           "diverging": [
            [
             0,
             "#8e0152"
            ],
            [
             0.1,
             "#c51b7d"
            ],
            [
             0.2,
             "#de77ae"
            ],
            [
             0.3,
             "#f1b6da"
            ],
            [
             0.4,
             "#fde0ef"
            ],
            [
             0.5,
             "#f7f7f7"
            ],
            [
             0.6,
             "#e6f5d0"
            ],
            [
             0.7,
             "#b8e186"
            ],
            [
             0.8,
             "#7fbc41"
            ],
            [
             0.9,
             "#4d9221"
            ],
            [
             1,
             "#276419"
            ]
           ],
           "sequential": [
            [
             0,
             "#0d0887"
            ],
            [
             0.1111111111111111,
             "#46039f"
            ],
            [
             0.2222222222222222,
             "#7201a8"
            ],
            [
             0.3333333333333333,
             "#9c179e"
            ],
            [
             0.4444444444444444,
             "#bd3786"
            ],
            [
             0.5555555555555556,
             "#d8576b"
            ],
            [
             0.6666666666666666,
             "#ed7953"
            ],
            [
             0.7777777777777778,
             "#fb9f3a"
            ],
            [
             0.8888888888888888,
             "#fdca26"
            ],
            [
             1,
             "#f0f921"
            ]
           ],
           "sequentialminus": [
            [
             0,
             "#0d0887"
            ],
            [
             0.1111111111111111,
             "#46039f"
            ],
            [
             0.2222222222222222,
             "#7201a8"
            ],
            [
             0.3333333333333333,
             "#9c179e"
            ],
            [
             0.4444444444444444,
             "#bd3786"
            ],
            [
             0.5555555555555556,
             "#d8576b"
            ],
            [
             0.6666666666666666,
             "#ed7953"
            ],
            [
             0.7777777777777778,
             "#fb9f3a"
            ],
            [
             0.8888888888888888,
             "#fdca26"
            ],
            [
             1,
             "#f0f921"
            ]
           ]
          },
          "colorway": [
           "#636efa",
           "#EF553B",
           "#00cc96",
           "#ab63fa",
           "#FFA15A",
           "#19d3f3",
           "#FF6692",
           "#B6E880",
           "#FF97FF",
           "#FECB52"
          ],
          "font": {
           "color": "#2a3f5f"
          },
          "geo": {
           "bgcolor": "white",
           "lakecolor": "white",
           "landcolor": "#E5ECF6",
           "showlakes": true,
           "showland": true,
           "subunitcolor": "white"
          },
          "hoverlabel": {
           "align": "left"
          },
          "hovermode": "closest",
          "mapbox": {
           "style": "light"
          },
          "paper_bgcolor": "white",
          "plot_bgcolor": "#E5ECF6",
          "polar": {
           "angularaxis": {
            "gridcolor": "white",
            "linecolor": "white",
            "ticks": ""
           },
           "bgcolor": "#E5ECF6",
           "radialaxis": {
            "gridcolor": "white",
            "linecolor": "white",
            "ticks": ""
           }
          },
          "scene": {
           "xaxis": {
            "backgroundcolor": "#E5ECF6",
            "gridcolor": "white",
            "gridwidth": 2,
            "linecolor": "white",
            "showbackground": true,
            "ticks": "",
            "zerolinecolor": "white"
           },
           "yaxis": {
            "backgroundcolor": "#E5ECF6",
            "gridcolor": "white",
            "gridwidth": 2,
            "linecolor": "white",
            "showbackground": true,
            "ticks": "",
            "zerolinecolor": "white"
           },
           "zaxis": {
            "backgroundcolor": "#E5ECF6",
            "gridcolor": "white",
            "gridwidth": 2,
            "linecolor": "white",
            "showbackground": true,
            "ticks": "",
            "zerolinecolor": "white"
           }
          },
          "shapedefaults": {
           "line": {
            "color": "#2a3f5f"
           }
          },
          "ternary": {
           "aaxis": {
            "gridcolor": "white",
            "linecolor": "white",
            "ticks": ""
           },
           "baxis": {
            "gridcolor": "white",
            "linecolor": "white",
            "ticks": ""
           },
           "bgcolor": "#E5ECF6",
           "caxis": {
            "gridcolor": "white",
            "linecolor": "white",
            "ticks": ""
           }
          },
          "title": {
           "x": 0.05
          },
          "xaxis": {
           "automargin": true,
           "gridcolor": "white",
           "linecolor": "white",
           "ticks": "",
           "title": {
            "standoff": 15
           },
           "zerolinecolor": "white",
           "zerolinewidth": 2
          },
          "yaxis": {
           "automargin": true,
           "gridcolor": "white",
           "linecolor": "white",
           "ticks": "",
           "title": {
            "standoff": 15
           },
           "zerolinecolor": "white",
           "zerolinewidth": 2
          }
         }
        },
        "title": {
         "text": "Hyperparameter Importances"
        },
        "xaxis": {
         "title": {
          "text": "Hyperparameter Importance"
         }
        },
        "yaxis": {
         "title": {
          "text": "Hyperparameter"
         }
        }
       }
      },
      "text/html": [
       "<div>                            <div id=\"d1c56f0e-27cf-4e0f-b30e-136fe4212b44\" class=\"plotly-graph-div\" style=\"height:525px; width:100%;\"></div>            <script type=\"text/javascript\">                require([\"plotly\"], function(Plotly) {                    window.PLOTLYENV=window.PLOTLYENV || {};                                    if (document.getElementById(\"d1c56f0e-27cf-4e0f-b30e-136fe4212b44\")) {                    Plotly.newPlot(                        \"d1c56f0e-27cf-4e0f-b30e-136fe4212b44\",                        [{\"cliponaxis\":false,\"hovertemplate\":[\"learning_rate (FloatDistribution): 0.017159120525915273\\u003cextra\\u003e\\u003c\\u002fextra\\u003e\",\"weight_decay (FloatDistribution): 0.021203533014134815\\u003cextra\\u003e\\u003c\\u002fextra\\u003e\",\"dropout_rate (FloatDistribution): 0.07833389832790999\\u003cextra\\u003e\\u003c\\u002fextra\\u003e\",\"patience (IntDistribution): 0.0974291305894527\\u003cextra\\u003e\\u003c\\u002fextra\\u003e\",\"latent_size (IntDistribution): 0.7858743175425873\\u003cextra\\u003e\\u003c\\u002fextra\\u003e\"],\"name\":\"Objective Value\",\"orientation\":\"h\",\"text\":[\"0.02\",\"0.02\",\"0.08\",\"0.10\",\"0.79\"],\"textposition\":\"outside\",\"x\":[0.017159120525915273,0.021203533014134815,0.07833389832790999,0.0974291305894527,0.7858743175425873],\"y\":[\"learning_rate\",\"weight_decay\",\"dropout_rate\",\"patience\",\"latent_size\"],\"type\":\"bar\"}],                        {\"title\":{\"text\":\"Hyperparameter Importances\"},\"xaxis\":{\"title\":{\"text\":\"Hyperparameter Importance\"}},\"yaxis\":{\"title\":{\"text\":\"Hyperparameter\"}},\"template\":{\"data\":{\"histogram2dcontour\":[{\"type\":\"histogram2dcontour\",\"colorbar\":{\"outlinewidth\":0,\"ticks\":\"\"},\"colorscale\":[[0.0,\"#0d0887\"],[0.1111111111111111,\"#46039f\"],[0.2222222222222222,\"#7201a8\"],[0.3333333333333333,\"#9c179e\"],[0.4444444444444444,\"#bd3786\"],[0.5555555555555556,\"#d8576b\"],[0.6666666666666666,\"#ed7953\"],[0.7777777777777778,\"#fb9f3a\"],[0.8888888888888888,\"#fdca26\"],[1.0,\"#f0f921\"]]}],\"choropleth\":[{\"type\":\"choropleth\",\"colorbar\":{\"outlinewidth\":0,\"ticks\":\"\"}}],\"histogram2d\":[{\"type\":\"histogram2d\",\"colorbar\":{\"outlinewidth\":0,\"ticks\":\"\"},\"colorscale\":[[0.0,\"#0d0887\"],[0.1111111111111111,\"#46039f\"],[0.2222222222222222,\"#7201a8\"],[0.3333333333333333,\"#9c179e\"],[0.4444444444444444,\"#bd3786\"],[0.5555555555555556,\"#d8576b\"],[0.6666666666666666,\"#ed7953\"],[0.7777777777777778,\"#fb9f3a\"],[0.8888888888888888,\"#fdca26\"],[1.0,\"#f0f921\"]]}],\"heatmap\":[{\"type\":\"heatmap\",\"colorbar\":{\"outlinewidth\":0,\"ticks\":\"\"},\"colorscale\":[[0.0,\"#0d0887\"],[0.1111111111111111,\"#46039f\"],[0.2222222222222222,\"#7201a8\"],[0.3333333333333333,\"#9c179e\"],[0.4444444444444444,\"#bd3786\"],[0.5555555555555556,\"#d8576b\"],[0.6666666666666666,\"#ed7953\"],[0.7777777777777778,\"#fb9f3a\"],[0.8888888888888888,\"#fdca26\"],[1.0,\"#f0f921\"]]}],\"heatmapgl\":[{\"type\":\"heatmapgl\",\"colorbar\":{\"outlinewidth\":0,\"ticks\":\"\"},\"colorscale\":[[0.0,\"#0d0887\"],[0.1111111111111111,\"#46039f\"],[0.2222222222222222,\"#7201a8\"],[0.3333333333333333,\"#9c179e\"],[0.4444444444444444,\"#bd3786\"],[0.5555555555555556,\"#d8576b\"],[0.6666666666666666,\"#ed7953\"],[0.7777777777777778,\"#fb9f3a\"],[0.8888888888888888,\"#fdca26\"],[1.0,\"#f0f921\"]]}],\"contourcarpet\":[{\"type\":\"contourcarpet\",\"colorbar\":{\"outlinewidth\":0,\"ticks\":\"\"}}],\"contour\":[{\"type\":\"contour\",\"colorbar\":{\"outlinewidth\":0,\"ticks\":\"\"},\"colorscale\":[[0.0,\"#0d0887\"],[0.1111111111111111,\"#46039f\"],[0.2222222222222222,\"#7201a8\"],[0.3333333333333333,\"#9c179e\"],[0.4444444444444444,\"#bd3786\"],[0.5555555555555556,\"#d8576b\"],[0.6666666666666666,\"#ed7953\"],[0.7777777777777778,\"#fb9f3a\"],[0.8888888888888888,\"#fdca26\"],[1.0,\"#f0f921\"]]}],\"surface\":[{\"type\":\"surface\",\"colorbar\":{\"outlinewidth\":0,\"ticks\":\"\"},\"colorscale\":[[0.0,\"#0d0887\"],[0.1111111111111111,\"#46039f\"],[0.2222222222222222,\"#7201a8\"],[0.3333333333333333,\"#9c179e\"],[0.4444444444444444,\"#bd3786\"],[0.5555555555555556,\"#d8576b\"],[0.6666666666666666,\"#ed7953\"],[0.7777777777777778,\"#fb9f3a\"],[0.8888888888888888,\"#fdca26\"],[1.0,\"#f0f921\"]]}],\"mesh3d\":[{\"type\":\"mesh3d\",\"colorbar\":{\"outlinewidth\":0,\"ticks\":\"\"}}],\"scatter\":[{\"fillpattern\":{\"fillmode\":\"overlay\",\"size\":10,\"solidity\":0.2},\"type\":\"scatter\"}],\"parcoords\":[{\"type\":\"parcoords\",\"line\":{\"colorbar\":{\"outlinewidth\":0,\"ticks\":\"\"}}}],\"scatterpolargl\":[{\"type\":\"scatterpolargl\",\"marker\":{\"colorbar\":{\"outlinewidth\":0,\"ticks\":\"\"}}}],\"bar\":[{\"error_x\":{\"color\":\"#2a3f5f\"},\"error_y\":{\"color\":\"#2a3f5f\"},\"marker\":{\"line\":{\"color\":\"#E5ECF6\",\"width\":0.5},\"pattern\":{\"fillmode\":\"overlay\",\"size\":10,\"solidity\":0.2}},\"type\":\"bar\"}],\"scattergeo\":[{\"type\":\"scattergeo\",\"marker\":{\"colorbar\":{\"outlinewidth\":0,\"ticks\":\"\"}}}],\"scatterpolar\":[{\"type\":\"scatterpolar\",\"marker\":{\"colorbar\":{\"outlinewidth\":0,\"ticks\":\"\"}}}],\"histogram\":[{\"marker\":{\"pattern\":{\"fillmode\":\"overlay\",\"size\":10,\"solidity\":0.2}},\"type\":\"histogram\"}],\"scattergl\":[{\"type\":\"scattergl\",\"marker\":{\"colorbar\":{\"outlinewidth\":0,\"ticks\":\"\"}}}],\"scatter3d\":[{\"type\":\"scatter3d\",\"line\":{\"colorbar\":{\"outlinewidth\":0,\"ticks\":\"\"}},\"marker\":{\"colorbar\":{\"outlinewidth\":0,\"ticks\":\"\"}}}],\"scattermapbox\":[{\"type\":\"scattermapbox\",\"marker\":{\"colorbar\":{\"outlinewidth\":0,\"ticks\":\"\"}}}],\"scatterternary\":[{\"type\":\"scatterternary\",\"marker\":{\"colorbar\":{\"outlinewidth\":0,\"ticks\":\"\"}}}],\"scattercarpet\":[{\"type\":\"scattercarpet\",\"marker\":{\"colorbar\":{\"outlinewidth\":0,\"ticks\":\"\"}}}],\"carpet\":[{\"aaxis\":{\"endlinecolor\":\"#2a3f5f\",\"gridcolor\":\"white\",\"linecolor\":\"white\",\"minorgridcolor\":\"white\",\"startlinecolor\":\"#2a3f5f\"},\"baxis\":{\"endlinecolor\":\"#2a3f5f\",\"gridcolor\":\"white\",\"linecolor\":\"white\",\"minorgridcolor\":\"white\",\"startlinecolor\":\"#2a3f5f\"},\"type\":\"carpet\"}],\"table\":[{\"cells\":{\"fill\":{\"color\":\"#EBF0F8\"},\"line\":{\"color\":\"white\"}},\"header\":{\"fill\":{\"color\":\"#C8D4E3\"},\"line\":{\"color\":\"white\"}},\"type\":\"table\"}],\"barpolar\":[{\"marker\":{\"line\":{\"color\":\"#E5ECF6\",\"width\":0.5},\"pattern\":{\"fillmode\":\"overlay\",\"size\":10,\"solidity\":0.2}},\"type\":\"barpolar\"}],\"pie\":[{\"automargin\":true,\"type\":\"pie\"}]},\"layout\":{\"autotypenumbers\":\"strict\",\"colorway\":[\"#636efa\",\"#EF553B\",\"#00cc96\",\"#ab63fa\",\"#FFA15A\",\"#19d3f3\",\"#FF6692\",\"#B6E880\",\"#FF97FF\",\"#FECB52\"],\"font\":{\"color\":\"#2a3f5f\"},\"hovermode\":\"closest\",\"hoverlabel\":{\"align\":\"left\"},\"paper_bgcolor\":\"white\",\"plot_bgcolor\":\"#E5ECF6\",\"polar\":{\"bgcolor\":\"#E5ECF6\",\"angularaxis\":{\"gridcolor\":\"white\",\"linecolor\":\"white\",\"ticks\":\"\"},\"radialaxis\":{\"gridcolor\":\"white\",\"linecolor\":\"white\",\"ticks\":\"\"}},\"ternary\":{\"bgcolor\":\"#E5ECF6\",\"aaxis\":{\"gridcolor\":\"white\",\"linecolor\":\"white\",\"ticks\":\"\"},\"baxis\":{\"gridcolor\":\"white\",\"linecolor\":\"white\",\"ticks\":\"\"},\"caxis\":{\"gridcolor\":\"white\",\"linecolor\":\"white\",\"ticks\":\"\"}},\"coloraxis\":{\"colorbar\":{\"outlinewidth\":0,\"ticks\":\"\"}},\"colorscale\":{\"sequential\":[[0.0,\"#0d0887\"],[0.1111111111111111,\"#46039f\"],[0.2222222222222222,\"#7201a8\"],[0.3333333333333333,\"#9c179e\"],[0.4444444444444444,\"#bd3786\"],[0.5555555555555556,\"#d8576b\"],[0.6666666666666666,\"#ed7953\"],[0.7777777777777778,\"#fb9f3a\"],[0.8888888888888888,\"#fdca26\"],[1.0,\"#f0f921\"]],\"sequentialminus\":[[0.0,\"#0d0887\"],[0.1111111111111111,\"#46039f\"],[0.2222222222222222,\"#7201a8\"],[0.3333333333333333,\"#9c179e\"],[0.4444444444444444,\"#bd3786\"],[0.5555555555555556,\"#d8576b\"],[0.6666666666666666,\"#ed7953\"],[0.7777777777777778,\"#fb9f3a\"],[0.8888888888888888,\"#fdca26\"],[1.0,\"#f0f921\"]],\"diverging\":[[0,\"#8e0152\"],[0.1,\"#c51b7d\"],[0.2,\"#de77ae\"],[0.3,\"#f1b6da\"],[0.4,\"#fde0ef\"],[0.5,\"#f7f7f7\"],[0.6,\"#e6f5d0\"],[0.7,\"#b8e186\"],[0.8,\"#7fbc41\"],[0.9,\"#4d9221\"],[1,\"#276419\"]]},\"xaxis\":{\"gridcolor\":\"white\",\"linecolor\":\"white\",\"ticks\":\"\",\"title\":{\"standoff\":15},\"zerolinecolor\":\"white\",\"automargin\":true,\"zerolinewidth\":2},\"yaxis\":{\"gridcolor\":\"white\",\"linecolor\":\"white\",\"ticks\":\"\",\"title\":{\"standoff\":15},\"zerolinecolor\":\"white\",\"automargin\":true,\"zerolinewidth\":2},\"scene\":{\"xaxis\":{\"backgroundcolor\":\"#E5ECF6\",\"gridcolor\":\"white\",\"linecolor\":\"white\",\"showbackground\":true,\"ticks\":\"\",\"zerolinecolor\":\"white\",\"gridwidth\":2},\"yaxis\":{\"backgroundcolor\":\"#E5ECF6\",\"gridcolor\":\"white\",\"linecolor\":\"white\",\"showbackground\":true,\"ticks\":\"\",\"zerolinecolor\":\"white\",\"gridwidth\":2},\"zaxis\":{\"backgroundcolor\":\"#E5ECF6\",\"gridcolor\":\"white\",\"linecolor\":\"white\",\"showbackground\":true,\"ticks\":\"\",\"zerolinecolor\":\"white\",\"gridwidth\":2}},\"shapedefaults\":{\"line\":{\"color\":\"#2a3f5f\"}},\"annotationdefaults\":{\"arrowcolor\":\"#2a3f5f\",\"arrowhead\":0,\"arrowwidth\":1},\"geo\":{\"bgcolor\":\"white\",\"landcolor\":\"#E5ECF6\",\"subunitcolor\":\"white\",\"showland\":true,\"showlakes\":true,\"lakecolor\":\"white\"},\"title\":{\"x\":0.05},\"mapbox\":{\"style\":\"light\"}}}},                        {\"responsive\": true}                    ).then(function(){\n",
       "                            \n",
       "var gd = document.getElementById('d1c56f0e-27cf-4e0f-b30e-136fe4212b44');\n",
       "var x = new MutationObserver(function (mutations, observer) {{\n",
       "        var display = window.getComputedStyle(gd).display;\n",
       "        if (!display || display === 'none') {{\n",
       "            console.log([gd, 'removed!']);\n",
       "            Plotly.purge(gd);\n",
       "            observer.disconnect();\n",
       "        }}\n",
       "}});\n",
       "\n",
       "// Listen for the removal of the full notebook cells\n",
       "var notebookContainer = gd.closest('#notebook-container');\n",
       "if (notebookContainer) {{\n",
       "    x.observe(notebookContainer, {childList: true});\n",
       "}}\n",
       "\n",
       "// Listen for the clearing of the current output cell\n",
       "var outputEl = gd.closest('.output');\n",
       "if (outputEl) {{\n",
       "    x.observe(outputEl, {childList: true});\n",
       "}}\n",
       "\n",
       "                        })                };                });            </script>        </div>"
      ]
     },
     "metadata": {},
     "output_type": "display_data"
    }
   ],
   "source": [
    "try:\n",
    "    import optuna.visualization as vis\n",
    "    vis.plot_optimization_history(study).show()\n",
    "    vis.plot_param_importances(study).show()\n",
    "except ImportError:\n",
    "    print(\"Optuna visualization is not available. Install optuna[visualization] for plotting.\")\n"
   ]
  }
 ],
 "metadata": {
  "kernelspec": {
   "display_name": "Python 3",
   "language": "python",
   "name": "python3"
  },
  "language_info": {
   "codemirror_mode": {
    "name": "ipython",
    "version": 3
   },
   "file_extension": ".py",
   "mimetype": "text/x-python",
   "name": "python",
   "nbconvert_exporter": "python",
   "pygments_lexer": "ipython3",
   "version": "3.9.2"
  },
  "orig_nbformat": 4
 },
 "nbformat": 4,
 "nbformat_minor": 2
}
