{
 "cells": [
  {
   "attachments": {},
   "cell_type": "markdown",
   "metadata": {},
   "source": [
    "# Finetuning the last year of fine-rune model"
   ]
  },
  {
   "cell_type": "code",
   "execution_count": 1,
   "metadata": {},
   "outputs": [
    {
     "name": "stderr",
     "output_type": "stream",
     "text": [
      "[neptune] [warning] NeptuneDeprecationWarning: You're importing the Neptune client library via the deprecated `neptune.new` module, which will be removed in a future release. Import directly from `neptune` instead.\n",
      "2024-09-18 22:12:29.860920: E external/local_xla/xla/stream_executor/cuda/cuda_fft.cc:485] Unable to register cuFFT factory: Attempting to register factory for plugin cuFFT when one has already been registered\n",
      "2024-09-18 22:12:29.883702: E external/local_xla/xla/stream_executor/cuda/cuda_dnn.cc:8454] Unable to register cuDNN factory: Attempting to register factory for plugin cuDNN when one has already been registered\n",
      "2024-09-18 22:12:29.890826: E external/local_xla/xla/stream_executor/cuda/cuda_blas.cc:1452] Unable to register cuBLAS factory: Attempting to register factory for plugin cuBLAS when one has already been registered\n",
      "2024-09-18 22:12:29.908686: I tensorflow/core/platform/cpu_feature_guard.cc:210] This TensorFlow binary is optimized to use available CPU instructions in performance-critical operations.\n",
      "To enable the following instructions: AVX2 FMA, in other operations, rebuild TensorFlow with the appropriate compiler flags.\n"
     ]
    },
    {
     "name": "stdout",
     "output_type": "stream",
     "text": [
      "DataLoader\t LabelEncoder\t TensorDataset\t VAE\t accuracy_score\t f1_score\t get_finetune_input_data\t imaplib\t importlib\t \n",
      "label_encoder\t ml_code_path\t nn\t np\t optim\t optuna\t os\t pd\t precision_score\t \n",
      "random\t recall_score\t roc_auc_score\t torch\t \n"
     ]
    }
   ],
   "source": [
    "import os\n",
    "ml_code_path='/home/leilapirhaji/mz_embed_engine/ml'\n",
    "os.chdir(ml_code_path)\n",
    "\n",
    "import pandas as pd\n",
    "import importlib\n",
    "from sklearn.preprocessing import LabelEncoder\n",
    "label_encoder = LabelEncoder()\n",
    "import optuna\n",
    "import imaplib\n",
    "\n",
    "\n",
    "import torch\n",
    "import torch.nn as nn\n",
    "import torch.optim as optim\n",
    "from torch.utils.data import TensorDataset, DataLoader\n",
    "import pandas as pd\n",
    "import numpy as np\n",
    "import random\n",
    "from sklearn.metrics import precision_score, recall_score, f1_score, roc_auc_score, accuracy_score\n",
    "\n",
    "\n",
    "#importing fundtion to get encoder info and perfrom tasks \n",
    "from finetune.get_finetune_encoder import  get_finetune_input_data\n",
    "\n",
    "from models.models_VAE import VAE\n",
    "\n",
    "%who\n",
    "\n"
   ]
  },
  {
   "attachments": {},
   "cell_type": "markdown",
   "metadata": {},
   "source": [
    "## gettin the model ID and info"
   ]
  },
  {
   "attachments": {},
   "cell_type": "markdown",
   "metadata": {},
   "source": [
    "#### getting the input data"
   ]
  },
  {
   "cell_type": "code",
   "execution_count": 8,
   "metadata": {},
   "outputs": [
    {
     "data": {
      "text/plain": [
       "((443, 2736), (443, 58), (149, 2736), (149, 58), (149, 2736), (149, 58))"
      ]
     },
     "execution_count": 8,
     "metadata": {},
     "output_type": "execute_result"
    }
   ],
   "source": [
    "#input data\n",
    "input_data_location='/home/leilapirhaji/PROCESSED_DATA_2'\n",
    "finetune_save_dir='/home/leilapirhaji/finetune_VAE_NO_RCC' \n",
    "\n",
    "#tasks to predict using encoder\n",
    "task_list_cat=['Benefit BINARY', 'Nivo Benefit BINARY', 'MSKCC BINARY', 'IMDC BINARY', 'Benefit ORDINAL', 'MSKCC ORDINAL', 'IMDC ORDINAL', 'ORR', 'Benefit', 'IMDC', 'MSKCC', 'Prior_2' ]\n",
    "\n",
    "#survival tasks\n",
    "task_list_survival=[ 'OS', 'NIVO OS', 'EVER OS', 'PFS']\n",
    "\n",
    "\n",
    "#get fine-tuning input data \n",
    "(X_data_train, y_data_train, X_data_val, y_data_val, X_data_test, y_data_test)=get_finetune_input_data(input_data_location)\n",
    "\n",
    "X_data_train.shape, y_data_train.shape, X_data_val.shape, y_data_val.shape, X_data_test.shape, y_data_test.shape"
   ]
  },
  {
   "attachments": {},
   "cell_type": "markdown",
   "metadata": {},
   "source": [
    "### loading the fine-tune VAE models w/wo transfer leanrning"
   ]
  },
  {
   "cell_type": "code",
   "execution_count": 9,
   "metadata": {},
   "outputs": [],
   "source": [
    "#first getting A list of pretrained models and their associated fine-tune \n",
    "#pretrain_model_list=os.listdir(finetune_save_dir)\n",
    "#pretrain_model_list=['RCC-38529']\n",
    "pretrain_model_ID='RCC-38773'"
   ]
  },
  {
   "cell_type": "code",
   "execution_count": 10,
   "metadata": {},
   "outputs": [
    {
     "name": "stderr",
     "output_type": "stream",
     "text": [
      "/home/leilapirhaji/mz_embed_engine/ml/finetune/retrain_finetune_VAE_COX.py:44: FutureWarning: You are using `torch.load` with `weights_only=False` (the current default value), which uses the default pickle module implicitly. It is possible to construct malicious pickle data which will execute arbitrary code during unpickling (See https://github.com/pytorch/pytorch/blob/main/SECURITY.md#untrusted-models for more details). In a future release, the default value for `weights_only` will be flipped to `True`. This limits the functions that could be executed during unpickling. Arbitrary objects will no longer be allowed to be loaded via this mode unless they are explicitly allowlisted by the user via `torch.serialization.add_safe_globals`. We recommend you start setting `weights_only=True` for any use case where you don't have full control of the loaded file. Please open an issue on GitHub for any issues related to this experimental feature.\n",
      "  finetune_VAE_TL=torch.load(finetune_VAE_TL_file)\n",
      "/home/leilapirhaji/mz_embed_engine/ml/finetune/retrain_finetune_VAE_COX.py:47: FutureWarning: You are using `torch.load` with `weights_only=False` (the current default value), which uses the default pickle module implicitly. It is possible to construct malicious pickle data which will execute arbitrary code during unpickling (See https://github.com/pytorch/pytorch/blob/main/SECURITY.md#untrusted-models for more details). In a future release, the default value for `weights_only` will be flipped to `True`. This limits the functions that could be executed during unpickling. Arbitrary objects will no longer be allowed to be loaded via this mode unless they are explicitly allowlisted by the user via `torch.serialization.add_safe_globals`. We recommend you start setting `weights_only=True` for any use case where you don't have full control of the loaded file. Please open an issue on GitHub for any issues related to this experimental feature.\n",
      "  finetune_VAE_noTL=torch.load(finetune_VAE_noTL_file)\n"
     ]
    }
   ],
   "source": [
    "from finetune.retrain_finetune_VAE_COX import get_finetune_VAE_TL_noTL\n",
    "\n",
    "(finetune_VAE_TL_OG, finetune_VAE_noTL_OG)=get_finetune_VAE_TL_noTL(pretrain_model_ID, finetune_save_dir )"
   ]
  },
  {
   "cell_type": "code",
   "execution_count": 11,
   "metadata": {},
   "outputs": [
    {
     "data": {
      "text/plain": [
       "(360, 2, 360, 2)"
      ]
     },
     "execution_count": 11,
     "metadata": {},
     "output_type": "execute_result"
    }
   ],
   "source": [
    "finetune_VAE_TL_OG.latent_size, finetune_VAE_TL_OG.num_hidden_layers, finetune_VAE_noTL_OG.latent_size, finetune_VAE_noTL_OG.num_hidden_layers"
   ]
  },
  {
   "attachments": {},
   "cell_type": "markdown",
   "metadata": {},
   "source": [
    "## Visualizing the latent space"
   ]
  },
  {
   "cell_type": "code",
   "execution_count": null,
   "metadata": {},
   "outputs": [],
   "source": [
    "import matplotlib.pyplot as plt\n",
    "import finetune.eval_finetune_latent_main\n",
    "\n",
    "importlib.reload(finetune.eval_finetune_latent_main)\n",
    "from finetune.eval_finetune_latent_main import visualize_latent_space_multiple_tasks\n",
    "\n",
    "models_path=f'{finetune_save_dir}/{pretrain_model_ID}'\n",
    "result_png_file_TL= f'{models_path}/finetune_VAE_{pretrain_model_ID}_TL_latent_space.png'\n",
    "\n",
    "visualize_latent_space_multiple_tasks(finetune_VAE_TL, X_data_train, y_data_train, X_data_val, y_data_val, X_data_test, y_data_test, result_png_file_TL)\n",
    "\n",
    "plt.show()\n"
   ]
  },
  {
   "attachments": {},
   "cell_type": "markdown",
   "metadata": {},
   "source": [
    "## Perdciting tasks from latnet space"
   ]
  },
  {
   "cell_type": "code",
   "execution_count": 12,
   "metadata": {},
   "outputs": [
    {
     "name": "stdout",
     "output_type": "stream",
     "text": [
      "Test Accuracy with best model: 0.7895\n",
      "Test AUC with best model: 0.8760\n"
     ]
    },
    {
     "data": {
      "text/plain": [
       "(0.8360655737704918, 0.87995337995338, 0.7894736842105263, 0.8759590792838874)"
      ]
     },
     "execution_count": 12,
     "metadata": {},
     "output_type": "execute_result"
    }
   ],
   "source": [
    "#tasks to predict using encoder\n",
    "task_list_cat=['Benefit BINARY', 'Nivo Benefit BINARY', 'MSKCC BINARY', 'IMDC BINARY', 'Benefit ORDINAL', 'MSKCC ORDINAL', 'IMDC ORDINAL', 'ORR', 'Benefit', 'IMDC', 'MSKCC', 'Prior_2' ]\n",
    "\n",
    "task= 'IMDC BINARY'\n",
    "\n",
    "\n",
    "import finetune.eval_finetune_latent_main\n",
    "\n",
    "importlib.reload(finetune.eval_finetune_latent_main)\n",
    "from finetune.eval_finetune_latent_main import predict_task_from_latent_avg\n",
    "\n",
    "\n",
    "\n",
    "best_val_accuracy, best_val_auc, test_accuracy, test_auc= predict_task_from_latent_avg (finetune_VAE_TL_OG, task, X_data_train, y_data_train, X_data_val, y_data_val, X_data_test,y_data_test, batch_size=64, num_times=10)\n",
    "\n",
    "best_val_accuracy, best_val_auc, test_accuracy, test_auc"
   ]
  },
  {
   "cell_type": "code",
   "execution_count": 13,
   "metadata": {},
   "outputs": [
    {
     "name": "stdout",
     "output_type": "stream",
     "text": [
      "Test Accuracy with best model: 0.7544\n",
      "Test AUC with best model: 0.8645\n"
     ]
    },
    {
     "data": {
      "text/plain": [
       "(0.7543859649122807, 0.8644501278772379)"
      ]
     },
     "execution_count": 13,
     "metadata": {},
     "output_type": "execute_result"
    }
   ],
   "source": [
    "best_val_accuracy, best_val_auc, test_accuracy, test_auc= predict_task_from_latent_avg (finetune_VAE_noTL_OG, task, X_data_train, y_data_train, X_data_val, y_data_val, X_data_test,y_data_test, batch_size=64, num_times=10)\n",
    "\n",
    "test_accuracy, test_auc"
   ]
  },
  {
   "attachments": {},
   "cell_type": "markdown",
   "metadata": {},
   "source": [
    "## Predicting Survival from latnent avergae"
   ]
  },
  {
   "attachments": {},
   "cell_type": "markdown",
   "metadata": {},
   "source": [
    "### OS prediction"
   ]
  },
  {
   "cell_type": "code",
   "execution_count": 25,
   "metadata": {},
   "outputs": [
    {
     "name": "stderr",
     "output_type": "stream",
     "text": [
      "/home/leilapirhaji/mz_embed_engine/ml/finetune/latent_task_predict.py:268: UserWarning:\n",
      "\n",
      "all coefficients are zero, consider decreasing alpha.\n",
      "\n",
      "/home/leilapirhaji/mz_embed_engine/ml/finetune/latent_task_predict.py:268: UserWarning:\n",
      "\n",
      "all coefficients are zero, consider decreasing alpha.\n",
      "\n"
     ]
    },
    {
     "data": {
      "text/plain": [
       "(0.5983063328424153, 0.6214233308877476, 0.01)"
      ]
     },
     "execution_count": 25,
     "metadata": {},
     "output_type": "execute_result"
    }
   ],
   "source": [
    "import finetune.eval_finetune_latent_main\n",
    "importlib.reload(finetune.eval_finetune_latent_main)\n",
    "from finetune.eval_finetune_latent_main import predict_survival_from_latent_avg\n",
    "\n",
    "\n",
    "task= 'NIVO OS'\n",
    "task_event='OS_Event'\n",
    "\n",
    "best_val_c_index, best_test_c_index, best_params= predict_survival_from_latent_avg (finetune_VAE_TL_OG, task, task_event, X_data_train, y_data_train, X_data_val, y_data_val, X_data_test,y_data_test, batch_size=64, num_times=10)\n",
    "\n",
    "best_val_c_index, best_test_c_index, best_params"
   ]
  },
  {
   "cell_type": "code",
   "execution_count": 26,
   "metadata": {},
   "outputs": [
    {
     "name": "stderr",
     "output_type": "stream",
     "text": [
      "/home/leilapirhaji/mz_embed_engine/ml/finetune/latent_task_predict.py:268: UserWarning:\n",
      "\n",
      "all coefficients are zero, consider decreasing alpha.\n",
      "\n",
      "/home/leilapirhaji/mz_embed_engine/ml/finetune/latent_task_predict.py:268: UserWarning:\n",
      "\n",
      "all coefficients are zero, consider decreasing alpha.\n",
      "\n",
      "/home/leilapirhaji/mz_embed_engine/ml/finetune/latent_task_predict.py:268: UserWarning:\n",
      "\n",
      "all coefficients are zero, consider decreasing alpha.\n",
      "\n"
     ]
    },
    {
     "data": {
      "text/plain": [
       "(0.6689985272459499, 0.66507703595011, 0.01)"
      ]
     },
     "execution_count": 26,
     "metadata": {},
     "output_type": "execute_result"
    }
   ],
   "source": [
    "best_val_c_index, best_test_c_index, best_params= predict_survival_from_latent_avg (finetune_VAE_noTL_OG, task, task_event, X_data_train, y_data_train, X_data_val, y_data_val, X_data_test,y_data_test, batch_size=64, num_times=10)\n",
    "\n",
    "best_val_c_index, best_test_c_index, best_params"
   ]
  },
  {
   "attachments": {},
   "cell_type": "markdown",
   "metadata": {},
   "source": [
    "## VAE model with fine-tuned last layer"
   ]
  },
  {
   "cell_type": "code",
   "execution_count": 14,
   "metadata": {},
   "outputs": [],
   "source": [
    "#loading the seed file\n",
    "with open('/home/leilapirhaji/mz_embed_engine/ml/config/seed_Aug31.txt', 'r') as f:\n",
    "    seed = int(f.read())"
   ]
  },
  {
   "cell_type": "code",
   "execution_count": 52,
   "metadata": {},
   "outputs": [
    {
     "name": "stdout",
     "output_type": "stream",
     "text": [
      "Epoch 1/10, Loss: 0.7790328647409167\n",
      "Validation started\n",
      "Validation Loss: 0.764324676990509, Accuracy: 60.65573770491803%, Precision: 45.45454545454545%, Recall: 45.45454545454545%, F1 Score: 45.45454545454545%, AUC: 64.45221445221445%\n"
     ]
    },
    {
     "name": "stderr",
     "output_type": "stream",
     "text": [
      "/home/leilapirhaji/mz_embed_engine/ml/finetune/freez_encoder_latent_avg.py:372: FutureWarning: The behavior of DataFrame concatenation with empty or all-NA entries is deprecated. In a future version, this will no longer exclude empty or all-NA columns when determining the result dtypes. To retain the old behavior, exclude the relevant entries before the concat operation.\n",
      "  metrics_per_epoch = pd.concat([metrics_per_epoch, metrics_df], ignore_index=True)\n"
     ]
    },
    {
     "name": "stdout",
     "output_type": "stream",
     "text": [
      "Epoch 2/10, Loss: 0.75808556165014\n",
      "Validation started\n",
      "Validation Loss: 0.737964391708374, Accuracy: 68.85245901639344%, Precision: 60.0%, Recall: 40.909090909090914%, F1 Score: 48.64864864864865%, AUC: 75.40792540792542%\n",
      "Epoch 3/10, Loss: 0.7422085319246564\n",
      "Validation started\n",
      "Validation Loss: 0.7149431228637695, Accuracy: 70.49180327868852%, Precision: 64.28571428571429%, Recall: 40.909090909090914%, F1 Score: 50.0%, AUC: 79.60372960372962%\n",
      "Epoch 4/10, Loss: 0.7248204180172512\n",
      "Validation started\n",
      "Validation Loss: 0.6928697109222413, Accuracy: 73.77049180327869%, Precision: 66.66666666666666%, Recall: 54.54545454545454%, F1 Score: 60.0%, AUC: 82.86713286713288%\n",
      "Epoch 5/10, Loss: 0.7046399669987815\n",
      "Validation started\n",
      "Validation Loss: 0.6773138523101807, Accuracy: 75.40983606557377%, Precision: 66.66666666666666%, Recall: 63.63636363636363%, F1 Score: 65.11627906976744%, AUC: 84.26573426573427%\n",
      "Epoch 6/10, Loss: 0.685689892087664\n",
      "Validation started\n",
      "Validation Loss: 0.6568703413009643, Accuracy: 77.04918032786885%, Precision: 68.18181818181817%, Recall: 68.18181818181817%, F1 Score: 68.18181818181817%, AUC: 85.66433566433567%\n",
      "Epoch 7/10, Loss: 0.66911062172481\n",
      "Validation started\n",
      "Validation Loss: 0.6367959618568421, Accuracy: 78.68852459016394%, Precision: 71.42857142857143%, Recall: 68.18181818181817%, F1 Score: 69.76744186046511%, AUC: 86.48018648018649%\n",
      "Epoch 8/10, Loss: 0.656578221491405\n",
      "Validation started\n",
      "Validation Loss: 0.6158904671669007, Accuracy: 80.32786885245902%, Precision: 75.0%, Recall: 68.18181818181817%, F1 Score: 71.42857142857143%, AUC: 86.48018648018649%\n",
      "Epoch 9/10, Loss: 0.638738717351641\n",
      "Validation started\n",
      "Validation Loss: 0.5996408820152282, Accuracy: 80.32786885245902%, Precision: 72.72727272727273%, Recall: 72.72727272727273%, F1 Score: 72.72727272727273%, AUC: 86.71328671328672%\n",
      "Epoch 10/10, Loss: 0.6071169376373291\n",
      "Validation started\n",
      "Validation Loss: 0.5834505140781403, Accuracy: 83.60655737704919%, Precision: 75.0%, Recall: 81.81818181818183%, F1 Score: 78.26086956521739%, AUC: 86.82983682983684%\n",
      "Fine-tuning completed.\n",
      "Epoch 1/10, Loss: 0.8753754113401685\n",
      "Validation started\n",
      "Validation Loss: 0.8685843467712402, Accuracy: 50.81967213114754%, Precision: 35.714285714285715%, Recall: 45.45454545454545%, F1 Score: 40.0%, AUC: 58.741258741258726%\n"
     ]
    },
    {
     "name": "stderr",
     "output_type": "stream",
     "text": [
      "/home/leilapirhaji/mz_embed_engine/ml/finetune/freez_encoder_latent_avg.py:372: FutureWarning: The behavior of DataFrame concatenation with empty or all-NA entries is deprecated. In a future version, this will no longer exclude empty or all-NA columns when determining the result dtypes. To retain the old behavior, exclude the relevant entries before the concat operation.\n",
      "  metrics_per_epoch = pd.concat([metrics_per_epoch, metrics_df], ignore_index=True)\n"
     ]
    },
    {
     "name": "stdout",
     "output_type": "stream",
     "text": [
      "Epoch 2/10, Loss: 0.8639052765710014\n",
      "Validation started\n",
      "Validation Loss: 0.8509699702262878, Accuracy: 63.934426229508205%, Precision: 50.0%, Recall: 45.45454545454545%, F1 Score: 47.61904761904761%, AUC: 69.58041958041959%\n",
      "Epoch 3/10, Loss: 0.8503130120890481\n",
      "Validation started\n",
      "Validation Loss: 0.8341515779495239, Accuracy: 68.85245901639344%, Precision: 57.14285714285714%, Recall: 54.54545454545454%, F1 Score: 55.81395348837209%, AUC: 77.85547785547786%\n",
      "Epoch 4/10, Loss: 0.8357714499746051\n",
      "Validation started\n",
      "Validation Loss: 0.8159685730934143, Accuracy: 77.04918032786885%, Precision: 65.38461538461539%, Recall: 77.27272727272727%, F1 Score: 70.83333333333334%, AUC: 82.75058275058275%\n",
      "Epoch 5/10, Loss: 0.8194145389965602\n",
      "Validation started\n",
      "Validation Loss: 0.8000946998596191, Accuracy: 77.04918032786885%, Precision: 65.38461538461539%, Recall: 77.27272727272727%, F1 Score: 70.83333333333334%, AUC: 85.08158508158508%\n",
      "Epoch 6/10, Loss: 0.8023774921894073\n",
      "Validation started\n",
      "Validation Loss: 0.7808840274810791, Accuracy: 78.68852459016394%, Precision: 66.66666666666666%, Recall: 81.81818181818183%, F1 Score: 73.46938775510205%, AUC: 86.48018648018649%\n",
      "Epoch 7/10, Loss: 0.7848890253475734\n",
      "Validation started\n",
      "Validation Loss: 0.7606061339378357, Accuracy: 78.68852459016394%, Precision: 65.51724137931035%, Recall: 86.36363636363636%, F1 Score: 74.50980392156863%, AUC: 87.64568764568766%\n",
      "Epoch 8/10, Loss: 0.773310124874115\n",
      "Validation started\n",
      "Validation Loss: 0.7396238684654236, Accuracy: 80.32786885245902%, Precision: 67.85714285714286%, Recall: 86.36363636363636%, F1 Score: 76.0%, AUC: 88.11188811188812%\n",
      "Epoch 9/10, Loss: 0.7565844314438956\n",
      "Validation started\n",
      "Validation Loss: 0.7195060968399047, Accuracy: 81.9672131147541%, Precision: 70.37037037037037%, Recall: 86.36363636363636%, F1 Score: 77.55102040816327%, AUC: 88.22843822843824%\n",
      "Epoch 10/10, Loss: 0.7254544198513031\n",
      "Validation started\n",
      "Validation Loss: 0.6989302396774292, Accuracy: 81.9672131147541%, Precision: 70.37037037037037%, Recall: 86.36363636363636%, F1 Score: 77.55102040816327%, AUC: 88.57808857808858%\n",
      "Fine-tuning completed.\n",
      "Validation Loss: 0.0, Accuracy: 78.70967741935485%, Precision: 86.0%, Recall: 62.31884057971014%, F1 Score: 72.26890756302521%, AUC: 91.08527131782947%\n",
      "Fine-tuning completed.\n",
      "Validation Loss: 0.0, Accuracy: 83.60655737704919%, Precision: 75.0%, Recall: 81.81818181818183%, F1 Score: 78.26086956521739%, AUC: 86.82983682983684%\n",
      "Fine-tuning completed.\n",
      "Validation Loss: 0.0, Accuracy: 78.94736842105263%, Precision: 73.91304347826086%, Recall: 73.91304347826086%, F1 Score: 73.91304347826086%, AUC: 91.04859335038363%\n",
      "Fine-tuning completed.\n",
      "Validation Loss: 0.0, Accuracy: 78.70967741935485%, Precision: 75.71428571428571%, Recall: 76.81159420289855%, F1 Score: 76.2589928057554%, AUC: 87.22615436467812%\n",
      "Fine-tuning completed.\n",
      "Validation Loss: 0.0, Accuracy: 81.9672131147541%, Precision: 70.37037037037037%, Recall: 86.36363636363636%, F1 Score: 77.55102040816327%, AUC: 88.57808857808858%\n",
      "Fine-tuning completed.\n",
      "Validation Loss: 0.0, Accuracy: 77.19298245614034%, Precision: 69.23076923076923%, Recall: 78.26086956521739%, F1 Score: 73.46938775510205%, AUC: 83.88746803069054%\n",
      "Fine-tuning completed.\n"
     ]
    }
   ],
   "source": [
    "import copy\n",
    "from finetune.retrain_finetune_VAE import retrain_finetune_VAE_TL_noTL_fixed_hyper_par\n",
    "\n",
    "# Create a deep copy of the model before retraining\n",
    "finetune_VAE_TL = copy.deepcopy(finetune_VAE_TL_OG)\n",
    "finetune_VAE_noTL = copy.deepcopy(finetune_VAE_noTL_OG)\n",
    "\n",
    "task= 'IMDC BINARY'\n",
    "num_classes=2\n",
    "\n",
    "\n",
    "results_combined_df= retrain_finetune_VAE_TL_noTL_fixed_hyper_par(finetune_VAE_TL, finetune_VAE_noTL, X_data_train, y_data_train, X_data_val, y_data_val, X_data_test, y_data_test, task, num_classes, seed, num_layers_to_retrain=2, add_post_latent_layers=False, post_latent_layer_size=128, num_epochs=10, learning_rate=1e-5, dropout=0.2, l1_reg_weight= 1e-5, l2_reg_weight= 1e-7, latent_passes= 20)"
   ]
  },
  {
   "cell_type": "code",
   "execution_count": 53,
   "metadata": {},
   "outputs": [
    {
     "data": {
      "text/html": [
       "<div>\n",
       "<style scoped>\n",
       "    .dataframe tbody tr th:only-of-type {\n",
       "        vertical-align: middle;\n",
       "    }\n",
       "\n",
       "    .dataframe tbody tr th {\n",
       "        vertical-align: top;\n",
       "    }\n",
       "\n",
       "    .dataframe thead th {\n",
       "        text-align: right;\n",
       "    }\n",
       "</style>\n",
       "<table border=\"1\" class=\"dataframe\">\n",
       "  <thead>\n",
       "    <tr style=\"text-align: right;\">\n",
       "      <th></th>\n",
       "      <th>Model</th>\n",
       "      <th>Dataset</th>\n",
       "      <th>Accuracy</th>\n",
       "      <th>Precision</th>\n",
       "      <th>Recall</th>\n",
       "      <th>F1 Score</th>\n",
       "      <th>AUC</th>\n",
       "      <th>Test Loss</th>\n",
       "    </tr>\n",
       "  </thead>\n",
       "  <tbody>\n",
       "    <tr>\n",
       "      <th>0</th>\n",
       "      <td>Transfer Learning</td>\n",
       "      <td>Train</td>\n",
       "      <td>78.709677</td>\n",
       "      <td>86.000000</td>\n",
       "      <td>62.318841</td>\n",
       "      <td>72.268908</td>\n",
       "      <td>91.085271</td>\n",
       "      <td>0.0</td>\n",
       "    </tr>\n",
       "    <tr>\n",
       "      <th>1</th>\n",
       "      <td>Transfer Learning</td>\n",
       "      <td>Validation</td>\n",
       "      <td>83.606557</td>\n",
       "      <td>75.000000</td>\n",
       "      <td>81.818182</td>\n",
       "      <td>78.260870</td>\n",
       "      <td>86.829837</td>\n",
       "      <td>0.0</td>\n",
       "    </tr>\n",
       "    <tr>\n",
       "      <th>2</th>\n",
       "      <td>Transfer Learning</td>\n",
       "      <td>Test</td>\n",
       "      <td>78.947368</td>\n",
       "      <td>73.913043</td>\n",
       "      <td>73.913043</td>\n",
       "      <td>73.913043</td>\n",
       "      <td>91.048593</td>\n",
       "      <td>0.0</td>\n",
       "    </tr>\n",
       "    <tr>\n",
       "      <th>3</th>\n",
       "      <td>No Transfer Learning</td>\n",
       "      <td>Train</td>\n",
       "      <td>78.709677</td>\n",
       "      <td>75.714286</td>\n",
       "      <td>76.811594</td>\n",
       "      <td>76.258993</td>\n",
       "      <td>87.226154</td>\n",
       "      <td>0.0</td>\n",
       "    </tr>\n",
       "    <tr>\n",
       "      <th>4</th>\n",
       "      <td>No Transfer Learning</td>\n",
       "      <td>Validation</td>\n",
       "      <td>81.967213</td>\n",
       "      <td>70.370370</td>\n",
       "      <td>86.363636</td>\n",
       "      <td>77.551020</td>\n",
       "      <td>88.578089</td>\n",
       "      <td>0.0</td>\n",
       "    </tr>\n",
       "    <tr>\n",
       "      <th>5</th>\n",
       "      <td>No Transfer Learning</td>\n",
       "      <td>Test</td>\n",
       "      <td>77.192982</td>\n",
       "      <td>69.230769</td>\n",
       "      <td>78.260870</td>\n",
       "      <td>73.469388</td>\n",
       "      <td>83.887468</td>\n",
       "      <td>0.0</td>\n",
       "    </tr>\n",
       "  </tbody>\n",
       "</table>\n",
       "</div>"
      ],
      "text/plain": [
       "                  Model     Dataset   Accuracy  Precision     Recall  \\\n",
       "0     Transfer Learning       Train  78.709677  86.000000  62.318841   \n",
       "1     Transfer Learning  Validation  83.606557  75.000000  81.818182   \n",
       "2     Transfer Learning        Test  78.947368  73.913043  73.913043   \n",
       "3  No Transfer Learning       Train  78.709677  75.714286  76.811594   \n",
       "4  No Transfer Learning  Validation  81.967213  70.370370  86.363636   \n",
       "5  No Transfer Learning        Test  77.192982  69.230769  78.260870   \n",
       "\n",
       "    F1 Score        AUC  Test Loss  \n",
       "0  72.268908  91.085271        0.0  \n",
       "1  78.260870  86.829837        0.0  \n",
       "2  73.913043  91.048593        0.0  \n",
       "3  76.258993  87.226154        0.0  \n",
       "4  77.551020  88.578089        0.0  \n",
       "5  73.469388  83.887468        0.0  "
      ]
     },
     "execution_count": 53,
     "metadata": {},
     "output_type": "execute_result"
    }
   ],
   "source": [
    "results_combined_df"
   ]
  },
  {
   "attachments": {},
   "cell_type": "markdown",
   "metadata": {},
   "source": [
    "## Re-training the encoder to predict classification tasks "
   ]
  },
  {
   "cell_type": "code",
   "execution_count": 29,
   "metadata": {},
   "outputs": [],
   "source": [
    "#makign seeds that are the same for all the tasks\n",
    "#import set_seed\n",
    "#from set_seed import set_seed\n",
    "#seed = set_seed(42)  # Explicitly set and save the seed\n",
    "\n",
    "#with open('/home/leilapirhaji/mz_embed_engine/ml/seed_Aug31.txt', 'w') as f:\n",
    "#    f.write(str(seed))\n",
    "#loading the seed file\n",
    "with open('/home/leilapirhaji/mz_embed_engine/ml/config/seed_Aug31.txt', 'r') as f:\n",
    "    seed = int(f.read())"
   ]
  },
  {
   "attachments": {},
   "cell_type": "markdown",
   "metadata": {},
   "source": [
    "### optuna optimization -  TL optimiation"
   ]
  },
  {
   "cell_type": "code",
   "execution_count": 39,
   "metadata": {},
   "outputs": [
    {
     "name": "stderr",
     "output_type": "stream",
     "text": [
      "[I 2024-09-17 03:18:06,670] A new study created in memory with name: no-name-cf961eae-4f4c-4306-a992-54aaa267a966\n",
      "/home/leilapirhaji/mz_embed_engine/ml/finetune/retrain_finetune_VAE.py:143: FutureWarning:\n",
      "\n",
      "suggest_loguniform has been deprecated in v3.0.0. This feature will be removed in v6.0.0. See https://github.com/optuna/optuna/releases/tag/v3.0.0. Use suggest_float(..., log=True) instead.\n",
      "\n",
      "/home/leilapirhaji/mz_embed_engine/ml/finetune/retrain_finetune_VAE.py:144: FutureWarning:\n",
      "\n",
      "suggest_uniform has been deprecated in v3.0.0. This feature will be removed in v6.0.0. See https://github.com/optuna/optuna/releases/tag/v3.0.0. Use suggest_float instead.\n",
      "\n",
      "/home/leilapirhaji/mz_embed_engine/ml/finetune/retrain_finetune_VAE.py:145: FutureWarning:\n",
      "\n",
      "suggest_loguniform has been deprecated in v3.0.0. This feature will be removed in v6.0.0. See https://github.com/optuna/optuna/releases/tag/v3.0.0. Use suggest_float(..., log=True) instead.\n",
      "\n",
      "/home/leilapirhaji/mz_embed_engine/ml/finetune/retrain_finetune_VAE.py:146: FutureWarning:\n",
      "\n",
      "suggest_loguniform has been deprecated in v3.0.0. This feature will be removed in v6.0.0. See https://github.com/optuna/optuna/releases/tag/v3.0.0. Use suggest_float(..., log=True) instead.\n",
      "\n"
     ]
    },
    {
     "name": "stdout",
     "output_type": "stream",
     "text": [
      "Epoch 1/50, Loss: 0.755298376083374\n",
      "Validation started\n",
      "Validation Loss: 0.7864187121391296, Accuracy: 65.85365853658537%, Precision: 65.85365853658537%, Recall: 100.0%, F1 Score: 79.41176470588235%, AUC: 87.89682539682539%\n",
      "Epoch 2/50, Loss: 0.7409061023167202\n",
      "Validation started\n"
     ]
    },
    {
     "name": "stderr",
     "output_type": "stream",
     "text": [
      "/home/leilapirhaji/mz_embed_engine/ml/finetune/freez_encoder_latent_avg.py:370: FutureWarning:\n",
      "\n",
      "The behavior of DataFrame concatenation with empty or all-NA entries is deprecated. In a future version, this will no longer exclude empty or all-NA columns when determining the result dtypes. To retain the old behavior, exclude the relevant entries before the concat operation.\n",
      "\n"
     ]
    },
    {
     "name": "stdout",
     "output_type": "stream",
     "text": [
      "Validation Loss: 0.7815972328186035, Accuracy: 65.85365853658537%, Precision: 65.85365853658537%, Recall: 100.0%, F1 Score: 79.41176470588235%, AUC: 88.02910052910053%\n",
      "Epoch 3/50, Loss: 0.7336526683398655\n",
      "Validation started\n",
      "Validation Loss: 0.7768700122833252, Accuracy: 65.85365853658537%, Precision: 65.85365853658537%, Recall: 100.0%, F1 Score: 79.41176470588235%, AUC: 88.16137566137566%\n",
      "Epoch 4/50, Loss: 0.7324268519878387\n",
      "Validation started\n",
      "Validation Loss: 0.7723245739936828, Accuracy: 65.85365853658537%, Precision: 65.85365853658537%, Recall: 100.0%, F1 Score: 79.41176470588235%, AUC: 88.29365079365078%\n",
      "Epoch 5/50, Loss: 0.7314274864537376\n",
      "Validation started\n",
      "Validation Loss: 0.7677964329719543, Accuracy: 70.73170731707317%, Precision: 69.73684210526315%, Recall: 98.14814814814815%, F1 Score: 81.53846153846153%, AUC: 88.29365079365078%\n",
      "Epoch 6/50, Loss: 0.7066515982151031\n",
      "Validation started\n",
      "Validation Loss: 0.7636435389518738, Accuracy: 73.17073170731707%, Precision: 71.62162162162163%, Recall: 98.14814814814815%, F1 Score: 82.8125%, AUC: 88.29365079365078%\n",
      "Epoch 7/50, Loss: 0.6979131145136697\n",
      "Validation started\n",
      "Validation Loss: 0.7596537113189697, Accuracy: 75.60975609756098%, Precision: 73.61111111111111%, Recall: 98.14814814814815%, F1 Score: 84.12698412698413%, AUC: 88.29365079365078%\n",
      "Epoch 8/50, Loss: 0.6874597753797259\n",
      "Validation started\n",
      "Validation Loss: 0.755817985534668, Accuracy: 76.82926829268293%, Precision: 74.64788732394366%, Recall: 98.14814814814815%, F1 Score: 84.8%, AUC: 88.35978835978835%\n",
      "Epoch 9/50, Loss: 0.6822186282702855\n",
      "Validation started\n",
      "Validation Loss: 0.7519775390625, Accuracy: 76.82926829268293%, Precision: 74.64788732394366%, Recall: 98.14814814814815%, F1 Score: 84.8%, AUC: 88.35978835978835%\n",
      "Epoch 10/50, Loss: 0.68172829917499\n",
      "Validation started\n",
      "Validation Loss: 0.7484557867050171, Accuracy: 76.82926829268293%, Precision: 74.64788732394366%, Recall: 98.14814814814815%, F1 Score: 84.8%, AUC: 88.35978835978835%\n",
      "Epoch 11/50, Loss: 0.6553787887096405\n",
      "Validation started\n",
      "Validation Loss: 0.7450008749961853, Accuracy: 79.26829268292683%, Precision: 76.81159420289855%, Recall: 98.14814814814815%, F1 Score: 86.1788617886179%, AUC: 88.35978835978835%\n",
      "Epoch 12/50, Loss: 0.6524408502238137\n",
      "Validation started\n",
      "Validation Loss: 0.7416800141334534, Accuracy: 79.26829268292683%, Precision: 76.81159420289855%, Recall: 98.14814814814815%, F1 Score: 86.1788617886179%, AUC: 88.35978835978835%\n",
      "Epoch 13/50, Loss: 0.6544737943581173\n",
      "Validation started\n",
      "Early stopping triggered at epoch 13\n",
      "Fine-tuning completed.\n",
      "Epoch 1/50, Loss: 0.6239524185657501\n",
      "Validation started\n"
     ]
    },
    {
     "name": "stderr",
     "output_type": "stream",
     "text": [
      "/home/leilapirhaji/mz_embed_engine/ml/finetune/freez_encoder_latent_avg.py:370: FutureWarning:\n",
      "\n",
      "The behavior of DataFrame concatenation with empty or all-NA entries is deprecated. In a future version, this will no longer exclude empty or all-NA columns when determining the result dtypes. To retain the old behavior, exclude the relevant entries before the concat operation.\n",
      "\n"
     ]
    },
    {
     "name": "stdout",
     "output_type": "stream",
     "text": [
      "Validation Loss: 0.6731281042098999, Accuracy: 65.85365853658537%, Precision: 65.85365853658537%, Recall: 100.0%, F1 Score: 79.41176470588235%, AUC: 82.4074074074074%\n",
      "Epoch 2/50, Loss: 0.6109700586114611\n",
      "Validation started\n",
      "Validation Loss: 0.6689013361930847, Accuracy: 65.85365853658537%, Precision: 65.85365853658537%, Recall: 100.0%, F1 Score: 79.41176470588235%, AUC: 83.06878306878306%\n",
      "Epoch 3/50, Loss: 0.6018318917070117\n",
      "Validation started\n",
      "Validation Loss: 0.6645874738693237, Accuracy: 65.85365853658537%, Precision: 65.85365853658537%, Recall: 100.0%, F1 Score: 79.41176470588235%, AUC: 83.13492063492063%\n",
      "Epoch 4/50, Loss: 0.6052914134093693\n",
      "Validation started\n",
      "Validation Loss: 0.6605682849884034, Accuracy: 65.85365853658537%, Precision: 65.85365853658537%, Recall: 100.0%, F1 Score: 79.41176470588235%, AUC: 83.53174603174604%\n",
      "Epoch 5/50, Loss: 0.6064117295401437\n",
      "Validation started\n",
      "Validation Loss: 0.6564678192138672, Accuracy: 65.85365853658537%, Precision: 65.85365853658537%, Recall: 100.0%, F1 Score: 79.41176470588235%, AUC: 83.7962962962963%\n",
      "Epoch 6/50, Loss: 0.5799772696835654\n",
      "Validation started\n",
      "Validation Loss: 0.6528493762016296, Accuracy: 70.73170731707317%, Precision: 69.23076923076923%, Recall: 100.0%, F1 Score: 81.81818181818183%, AUC: 84.06084656084657%\n",
      "Epoch 7/50, Loss: 0.5742854518549783\n",
      "Validation started\n",
      "Validation Loss: 0.6493218421936036, Accuracy: 69.51219512195121%, Precision: 68.83116883116884%, Recall: 98.14814814814815%, F1 Score: 80.91603053435115%, AUC: 84.25925925925927%\n",
      "Epoch 8/50, Loss: 0.5699921676090786\n",
      "Validation started\n",
      "Validation Loss: 0.6458859324455262, Accuracy: 70.73170731707317%, Precision: 69.73684210526315%, Recall: 98.14814814814815%, F1 Score: 81.53846153846153%, AUC: 84.32539682539682%\n",
      "Epoch 9/50, Loss: 0.5605493656226567\n",
      "Validation started\n",
      "Validation Loss: 0.6423425674438477, Accuracy: 74.39024390243902%, Precision: 72.6027397260274%, Recall: 98.14814814814815%, F1 Score: 83.46456692913385%, AUC: 84.45767195767195%\n",
      "Epoch 10/50, Loss: 0.5631834183420453\n",
      "Validation started\n",
      "Validation Loss: 0.639215612411499, Accuracy: 74.39024390243902%, Precision: 72.6027397260274%, Recall: 98.14814814814815%, F1 Score: 83.46456692913385%, AUC: 84.45767195767195%\n",
      "Epoch 11/50, Loss: 0.5351088557924543\n",
      "Validation started\n",
      "Validation Loss: 0.6361899375915527, Accuracy: 75.60975609756098%, Precision: 73.61111111111111%, Recall: 98.14814814814815%, F1 Score: 84.12698412698413%, AUC: 84.52380952380952%\n",
      "Epoch 12/50, Loss: 0.5287459492683411\n",
      "Validation started\n",
      "Validation Loss: 0.6331693053245544, Accuracy: 75.60975609756098%, Precision: 73.61111111111111%, Recall: 98.14814814814815%, F1 Score: 84.12698412698413%, AUC: 84.52380952380952%\n",
      "Epoch 13/50, Loss: 0.5360519545418876\n",
      "Validation started\n",
      "Validation Loss: 0.6302815437316894, Accuracy: 75.60975609756098%, Precision: 73.61111111111111%, Recall: 98.14814814814815%, F1 Score: 84.12698412698413%, AUC: 84.58994708994709%\n",
      "Epoch 14/50, Loss: 0.5159363746643066\n",
      "Validation started\n",
      "Validation Loss: 0.6275973439216613, Accuracy: 76.82926829268293%, Precision: 74.64788732394366%, Recall: 98.14814814814815%, F1 Score: 84.8%, AUC: 84.58994708994709%\n",
      "Epoch 15/50, Loss: 0.5240809044667653\n",
      "Validation started\n",
      "Validation Loss: 0.624949049949646, Accuracy: 76.82926829268293%, Precision: 74.64788732394366%, Recall: 98.14814814814815%, F1 Score: 84.8%, AUC: 84.58994708994709%\n",
      "Epoch 16/50, Loss: 0.517648594720023\n",
      "Validation started\n",
      "Validation Loss: 0.6225911617279053, Accuracy: 78.04878048780488%, Precision: 75.71428571428571%, Recall: 98.14814814814815%, F1 Score: 85.48387096774194%, AUC: 84.58994708994709%\n",
      "Epoch 17/50, Loss: 0.5139791603599276\n",
      "Validation started\n",
      "Validation Loss: 0.6201528787612915, Accuracy: 79.26829268292683%, Precision: 76.81159420289855%, Recall: 98.14814814814815%, F1 Score: 86.1788617886179%, AUC: 84.58994708994709%\n",
      "Epoch 18/50, Loss: 0.5111002155712673\n",
      "Validation started\n",
      "Early stopping triggered at epoch 18\n",
      "Fine-tuning completed.\n"
     ]
    },
    {
     "name": "stderr",
     "output_type": "stream",
     "text": [
      "[I 2024-09-17 03:18:12,415] Trial 0 finished with value: 88.35978835978835 and parameters: {'add_post_latent_layers': True, 'post_latent_layer_size': 64, 'num_layers_to_retrain': 1, 'batch_size': 32, 'learning_rate': 1.2443379470330226e-06, 'dropout': 0.19423512810511362, 'l1_reg_weight': 7.826747406100788e-06, 'l2_reg_weight': 1.3737672093390985e-07}. Best is trial 0 with value: 88.35978835978835.\n",
      "/home/leilapirhaji/mz_embed_engine/ml/finetune/retrain_finetune_VAE.py:143: FutureWarning:\n",
      "\n",
      "suggest_loguniform has been deprecated in v3.0.0. This feature will be removed in v6.0.0. See https://github.com/optuna/optuna/releases/tag/v3.0.0. Use suggest_float(..., log=True) instead.\n",
      "\n",
      "/home/leilapirhaji/mz_embed_engine/ml/finetune/retrain_finetune_VAE.py:144: FutureWarning:\n",
      "\n",
      "suggest_uniform has been deprecated in v3.0.0. This feature will be removed in v6.0.0. See https://github.com/optuna/optuna/releases/tag/v3.0.0. Use suggest_float instead.\n",
      "\n",
      "/home/leilapirhaji/mz_embed_engine/ml/finetune/retrain_finetune_VAE.py:145: FutureWarning:\n",
      "\n",
      "suggest_loguniform has been deprecated in v3.0.0. This feature will be removed in v6.0.0. See https://github.com/optuna/optuna/releases/tag/v3.0.0. Use suggest_float(..., log=True) instead.\n",
      "\n",
      "/home/leilapirhaji/mz_embed_engine/ml/finetune/retrain_finetune_VAE.py:146: FutureWarning:\n",
      "\n",
      "suggest_loguniform has been deprecated in v3.0.0. This feature will be removed in v6.0.0. See https://github.com/optuna/optuna/releases/tag/v3.0.0. Use suggest_float(..., log=True) instead.\n",
      "\n",
      "/home/leilapirhaji/mz_embed_engine/ml/finetune/freez_encoder_latent_avg.py:370: FutureWarning:\n",
      "\n",
      "The behavior of DataFrame concatenation with empty or all-NA entries is deprecated. In a future version, this will no longer exclude empty or all-NA columns when determining the result dtypes. To retain the old behavior, exclude the relevant entries before the concat operation.\n",
      "\n"
     ]
    },
    {
     "name": "stdout",
     "output_type": "stream",
     "text": [
      "Epoch 1/50, Loss: 0.4821842163801193\n",
      "Validation started\n",
      "Validation Loss: 1.3184873580932617, Accuracy: 80.48780487804879%, Precision: 82.75862068965517%, Recall: 88.88888888888889%, F1 Score: 85.71428571428571%, AUC: 88.69047619047619%\n",
      "Epoch 2/50, Loss: 0.48154640197753906\n",
      "Validation started\n",
      "Validation Loss: 1.3017918109893798, Accuracy: 80.48780487804879%, Precision: 82.75862068965517%, Recall: 88.88888888888889%, F1 Score: 85.71428571428571%, AUC: 88.75661375661376%\n",
      "Epoch 3/50, Loss: 0.48095341665404184\n",
      "Validation started\n",
      "Validation Loss: 1.2951905012130738, Accuracy: 80.48780487804879%, Precision: 82.75862068965517%, Recall: 88.88888888888889%, F1 Score: 85.71428571428571%, AUC: 88.75661375661376%\n",
      "Epoch 4/50, Loss: 0.4805711380073002\n",
      "Validation started\n",
      "Validation Loss: 1.2885723471641541, Accuracy: 80.48780487804879%, Precision: 82.75862068965517%, Recall: 88.88888888888889%, F1 Score: 85.71428571428571%, AUC: 88.75661375661376%\n",
      "Epoch 5/50, Loss: 0.48015654725687845\n",
      "Validation started\n",
      "Validation Loss: 1.2831767916679382, Accuracy: 80.48780487804879%, Precision: 82.75862068965517%, Recall: 88.88888888888889%, F1 Score: 85.71428571428571%, AUC: 88.75661375661376%\n",
      "Epoch 6/50, Loss: 0.4800540379115513\n",
      "Validation started\n",
      "Validation Loss: 1.2797746539115906, Accuracy: 80.48780487804879%, Precision: 82.75862068965517%, Recall: 88.88888888888889%, F1 Score: 85.71428571428571%, AUC: 88.75661375661376%\n",
      "Epoch 7/50, Loss: 0.4798239363091333\n",
      "Validation started\n",
      "Early stopping triggered at epoch 7\n",
      "Fine-tuning completed.\n",
      "Epoch 1/50, Loss: 0.23461880960634776\n",
      "Validation started\n"
     ]
    },
    {
     "name": "stderr",
     "output_type": "stream",
     "text": [
      "/home/leilapirhaji/mz_embed_engine/ml/finetune/freez_encoder_latent_avg.py:370: FutureWarning:\n",
      "\n",
      "The behavior of DataFrame concatenation with empty or all-NA entries is deprecated. In a future version, this will no longer exclude empty or all-NA columns when determining the result dtypes. To retain the old behavior, exclude the relevant entries before the concat operation.\n",
      "\n"
     ]
    },
    {
     "name": "stdout",
     "output_type": "stream",
     "text": [
      "Validation Loss: 1.1398111581802368, Accuracy: 78.04878048780488%, Precision: 81.03448275862068%, Recall: 87.03703703703704%, F1 Score: 83.92857142857143%, AUC: 85.08597883597884%\n",
      "Epoch 2/50, Loss: 0.23430465374674117\n",
      "Validation started\n",
      "Validation Loss: 1.1391751646995545, Accuracy: 78.04878048780488%, Precision: 81.03448275862068%, Recall: 87.03703703703704%, F1 Score: 83.92857142857143%, AUC: 85.11904761904762%\n",
      "Epoch 3/50, Loss: 0.23411067681653158\n",
      "Validation started\n",
      "Validation Loss: 1.1392277598381042, Accuracy: 79.26829268292683%, Precision: 81.35593220338984%, Recall: 88.88888888888889%, F1 Score: 84.95575221238938%, AUC: 85.11904761904762%\n",
      "Epoch 4/50, Loss: 0.23370495225702012\n",
      "Validation started\n",
      "Validation Loss: 1.1368854820728302, Accuracy: 79.26829268292683%, Precision: 81.35593220338984%, Recall: 88.88888888888889%, F1 Score: 84.95575221238938%, AUC: 85.18518518518519%\n",
      "Epoch 5/50, Loss: 0.23368690375770843\n",
      "Validation started\n",
      "Validation Loss: 1.1366448640823363, Accuracy: 79.26829268292683%, Precision: 81.35593220338984%, Recall: 88.88888888888889%, F1 Score: 84.95575221238938%, AUC: 85.11904761904762%\n",
      "Epoch 6/50, Loss: 0.23349628916808537\n",
      "Validation started\n",
      "Validation Loss: 1.1357624769210815, Accuracy: 79.26829268292683%, Precision: 81.35593220338984%, Recall: 88.88888888888889%, F1 Score: 84.95575221238938%, AUC: 85.1521164021164%\n",
      "Epoch 7/50, Loss: 0.23315723985433578\n",
      "Validation started\n",
      "Validation Loss: 1.1359188258647919, Accuracy: 79.26829268292683%, Precision: 81.35593220338984%, Recall: 88.88888888888889%, F1 Score: 84.95575221238938%, AUC: 85.08597883597884%\n",
      "Epoch 8/50, Loss: 0.23314162343740463\n",
      "Validation started\n",
      "Validation Loss: 1.1358598232269288, Accuracy: 79.26829268292683%, Precision: 81.35593220338984%, Recall: 88.88888888888889%, F1 Score: 84.95575221238938%, AUC: 85.18518518518519%\n",
      "Epoch 9/50, Loss: 0.23304310973201478\n",
      "Validation started\n",
      "Early stopping triggered at epoch 9\n",
      "Fine-tuning completed.\n"
     ]
    },
    {
     "name": "stderr",
     "output_type": "stream",
     "text": [
      "[I 2024-09-17 03:18:15,402] Trial 1 finished with value: 88.75661375661376 and parameters: {'add_post_latent_layers': False, 'num_layers_to_retrain': 1, 'batch_size': 32, 'learning_rate': 1.659045378668858e-05, 'dropout': 0.18062372675953642, 'l1_reg_weight': 1.467240601267925e-05, 'l2_reg_weight': 2.4852229438338915e-07}. Best is trial 1 with value: 88.75661375661376.\n",
      "/home/leilapirhaji/mz_embed_engine/ml/finetune/retrain_finetune_VAE.py:143: FutureWarning:\n",
      "\n",
      "suggest_loguniform has been deprecated in v3.0.0. This feature will be removed in v6.0.0. See https://github.com/optuna/optuna/releases/tag/v3.0.0. Use suggest_float(..., log=True) instead.\n",
      "\n",
      "/home/leilapirhaji/mz_embed_engine/ml/finetune/retrain_finetune_VAE.py:144: FutureWarning:\n",
      "\n",
      "suggest_uniform has been deprecated in v3.0.0. This feature will be removed in v6.0.0. See https://github.com/optuna/optuna/releases/tag/v3.0.0. Use suggest_float instead.\n",
      "\n",
      "/home/leilapirhaji/mz_embed_engine/ml/finetune/retrain_finetune_VAE.py:145: FutureWarning:\n",
      "\n",
      "suggest_loguniform has been deprecated in v3.0.0. This feature will be removed in v6.0.0. See https://github.com/optuna/optuna/releases/tag/v3.0.0. Use suggest_float(..., log=True) instead.\n",
      "\n",
      "/home/leilapirhaji/mz_embed_engine/ml/finetune/retrain_finetune_VAE.py:146: FutureWarning:\n",
      "\n",
      "suggest_loguniform has been deprecated in v3.0.0. This feature will be removed in v6.0.0. See https://github.com/optuna/optuna/releases/tag/v3.0.0. Use suggest_float(..., log=True) instead.\n",
      "\n",
      "/home/leilapirhaji/mz_embed_engine/ml/finetune/freez_encoder_latent_avg.py:370: FutureWarning:\n",
      "\n",
      "The behavior of DataFrame concatenation with empty or all-NA entries is deprecated. In a future version, this will no longer exclude empty or all-NA columns when determining the result dtypes. To retain the old behavior, exclude the relevant entries before the concat operation.\n",
      "\n"
     ]
    },
    {
     "name": "stdout",
     "output_type": "stream",
     "text": [
      "Epoch 1/50, Loss: 0.07325061517102378\n",
      "Validation started\n",
      "Validation Loss: 0.8463643431663513, Accuracy: 80.48780487804879%, Precision: 82.75862068965517%, Recall: 88.88888888888889%, F1 Score: 85.71428571428571%, AUC: 88.75661375661376%\n",
      "Epoch 2/50, Loss: 0.07326605649931091\n",
      "Validation started\n",
      "Validation Loss: 0.8494634509086609, Accuracy: 80.48780487804879%, Precision: 82.75862068965517%, Recall: 88.88888888888889%, F1 Score: 85.71428571428571%, AUC: 88.82275132275133%\n",
      "Epoch 3/50, Loss: 0.07311577722430229\n",
      "Validation started\n",
      "Validation Loss: 0.853922438621521, Accuracy: 80.48780487804879%, Precision: 82.75862068965517%, Recall: 88.88888888888889%, F1 Score: 85.71428571428571%, AUC: 88.75661375661376%\n",
      "Epoch 4/50, Loss: 0.0731120625776904\n",
      "Validation started\n",
      "Validation Loss: 0.857929927110672, Accuracy: 80.48780487804879%, Precision: 82.75862068965517%, Recall: 88.88888888888889%, F1 Score: 85.71428571428571%, AUC: 88.75661375661376%\n",
      "Epoch 5/50, Loss: 0.07294793426990509\n",
      "Validation started\n",
      "Validation Loss: 0.8617106080055237, Accuracy: 80.48780487804879%, Precision: 82.75862068965517%, Recall: 88.88888888888889%, F1 Score: 85.71428571428571%, AUC: 88.75661375661376%\n",
      "Epoch 6/50, Loss: 0.07305369951895305\n",
      "Validation started\n",
      "Validation Loss: 0.8650753378868103, Accuracy: 80.48780487804879%, Precision: 82.75862068965517%, Recall: 88.88888888888889%, F1 Score: 85.71428571428571%, AUC: 88.75661375661376%\n",
      "Epoch 7/50, Loss: 0.07295998930931091\n",
      "Validation started\n",
      "Early stopping triggered at epoch 7\n",
      "Fine-tuning completed.\n",
      "Epoch 1/50, Loss: 0.036572394626481194\n",
      "Validation started\n"
     ]
    },
    {
     "name": "stderr",
     "output_type": "stream",
     "text": [
      "/home/leilapirhaji/mz_embed_engine/ml/finetune/freez_encoder_latent_avg.py:370: FutureWarning:\n",
      "\n",
      "The behavior of DataFrame concatenation with empty or all-NA entries is deprecated. In a future version, this will no longer exclude empty or all-NA columns when determining the result dtypes. To retain the old behavior, exclude the relevant entries before the concat operation.\n",
      "\n"
     ]
    },
    {
     "name": "stdout",
     "output_type": "stream",
     "text": [
      "Validation Loss: 0.9019167333841324, Accuracy: 79.26829268292683%, Precision: 81.35593220338984%, Recall: 88.88888888888889%, F1 Score: 84.95575221238938%, AUC: 85.1521164021164%\n",
      "Epoch 2/50, Loss: 0.03681188928229468\n",
      "Validation started\n",
      "Validation Loss: 0.9049630224704742, Accuracy: 79.26829268292683%, Precision: 81.35593220338984%, Recall: 88.88888888888889%, F1 Score: 84.95575221238938%, AUC: 85.1521164021164%\n",
      "Epoch 3/50, Loss: 0.036862652748823166\n",
      "Validation started\n",
      "Validation Loss: 0.9080712556838989, Accuracy: 79.26829268292683%, Precision: 81.35593220338984%, Recall: 88.88888888888889%, F1 Score: 84.95575221238938%, AUC: 85.1521164021164%\n",
      "Epoch 4/50, Loss: 0.036570378712245395\n",
      "Validation started\n",
      "Validation Loss: 0.9107337057590484, Accuracy: 79.26829268292683%, Precision: 81.35593220338984%, Recall: 88.88888888888889%, F1 Score: 84.95575221238938%, AUC: 85.15211640211639%\n",
      "Epoch 5/50, Loss: 0.036739232550774305\n",
      "Validation started\n",
      "Validation Loss: 0.9136473208665847, Accuracy: 79.26829268292683%, Precision: 81.35593220338984%, Recall: 88.88888888888889%, F1 Score: 84.95575221238938%, AUC: 85.11904761904762%\n",
      "Epoch 6/50, Loss: 0.03667154535651207\n",
      "Validation started\n",
      "Early stopping triggered at epoch 6\n",
      "Fine-tuning completed.\n"
     ]
    },
    {
     "name": "stderr",
     "output_type": "stream",
     "text": [
      "[I 2024-09-17 03:18:17,882] Trial 2 finished with value: 88.75661375661376 and parameters: {'add_post_latent_layers': False, 'num_layers_to_retrain': 1, 'batch_size': 32, 'learning_rate': 3.2029410732842173e-06, 'dropout': 0.3118724613204261, 'l1_reg_weight': 2.1805015642417435e-06, 'l2_reg_weight': 3.1700412334434274e-07}. Best is trial 1 with value: 88.75661375661376.\n",
      "/home/leilapirhaji/mz_embed_engine/ml/finetune/retrain_finetune_VAE.py:143: FutureWarning:\n",
      "\n",
      "suggest_loguniform has been deprecated in v3.0.0. This feature will be removed in v6.0.0. See https://github.com/optuna/optuna/releases/tag/v3.0.0. Use suggest_float(..., log=True) instead.\n",
      "\n",
      "/home/leilapirhaji/mz_embed_engine/ml/finetune/retrain_finetune_VAE.py:144: FutureWarning:\n",
      "\n",
      "suggest_uniform has been deprecated in v3.0.0. This feature will be removed in v6.0.0. See https://github.com/optuna/optuna/releases/tag/v3.0.0. Use suggest_float instead.\n",
      "\n",
      "/home/leilapirhaji/mz_embed_engine/ml/finetune/retrain_finetune_VAE.py:145: FutureWarning:\n",
      "\n",
      "suggest_loguniform has been deprecated in v3.0.0. This feature will be removed in v6.0.0. See https://github.com/optuna/optuna/releases/tag/v3.0.0. Use suggest_float(..., log=True) instead.\n",
      "\n",
      "/home/leilapirhaji/mz_embed_engine/ml/finetune/retrain_finetune_VAE.py:146: FutureWarning:\n",
      "\n",
      "suggest_loguniform has been deprecated in v3.0.0. This feature will be removed in v6.0.0. See https://github.com/optuna/optuna/releases/tag/v3.0.0. Use suggest_float(..., log=True) instead.\n",
      "\n",
      "/home/leilapirhaji/.local/lib/python3.9/site-packages/sklearn/metrics/_classification.py:1531: UndefinedMetricWarning:\n",
      "\n",
      "Precision is ill-defined and being set to 0.0 due to no predicted samples. Use `zero_division` parameter to control this behavior.\n",
      "\n",
      "/home/leilapirhaji/mz_embed_engine/ml/finetune/freez_encoder_latent_avg.py:370: FutureWarning:\n",
      "\n",
      "The behavior of DataFrame concatenation with empty or all-NA entries is deprecated. In a future version, this will no longer exclude empty or all-NA columns when determining the result dtypes. To retain the old behavior, exclude the relevant entries before the concat operation.\n",
      "\n"
     ]
    },
    {
     "name": "stdout",
     "output_type": "stream",
     "text": [
      "Epoch 1/50, Loss: 0.9137838142258781\n",
      "Validation started\n",
      "Validation Loss: 0.8526161670684814, Accuracy: 34.146341463414636%, Precision: 0.0%, Recall: 0.0%, F1 Score: 0.0%, AUC: 38.425925925925924%\n",
      "Epoch 2/50, Loss: 0.8706625912870679\n",
      "Validation started\n",
      "Validation Loss: 0.7990927934646607, Accuracy: 31.70731707317073%, Precision: 25.0%, Recall: 1.8518518518518516%, F1 Score: 3.4482758620689653%, AUC: 44.907407407407405%\n",
      "Epoch 3/50, Loss: 0.7833747352872577\n",
      "Validation started\n",
      "Validation Loss: 0.751360011100769, Accuracy: 34.146341463414636%, Precision: 50.0%, Recall: 11.11111111111111%, F1 Score: 18.181818181818183%, AUC: 49.93386243386243%\n",
      "Epoch 4/50, Loss: 0.7625727781227657\n",
      "Validation started\n",
      "Validation Loss: 0.7116014122962951, Accuracy: 34.146341463414636%, Precision: 50.0%, Recall: 18.51851851851852%, F1 Score: 27.027027027027028%, AUC: 53.835978835978835%\n",
      "Epoch 5/50, Loss: 0.6831544850553785\n",
      "Validation started\n",
      "Validation Loss: 0.6770589232444764, Accuracy: 43.90243902439025%, Precision: 61.76470588235294%, Recall: 38.88888888888889%, F1 Score: 47.72727272727273%, AUC: 57.473544973544975%\n",
      "Epoch 6/50, Loss: 0.6671368862901416\n",
      "Validation started\n",
      "Validation Loss: 0.6482176184654236, Accuracy: 58.536585365853654%, Precision: 71.73913043478261%, Recall: 61.111111111111114%, F1 Score: 66.0%, AUC: 60.11904761904761%\n",
      "Epoch 7/50, Loss: 0.6140556250299726\n",
      "Validation started\n",
      "Validation Loss: 0.621503746509552, Accuracy: 67.07317073170732%, Precision: 75.47169811320755%, Recall: 74.07407407407408%, F1 Score: 74.76635514018692%, AUC: 63.161375661375665%\n",
      "Epoch 8/50, Loss: 0.6005022930247443\n",
      "Validation started\n",
      "Validation Loss: 0.5979090809822083, Accuracy: 76.82926829268293%, Precision: 78.68852459016394%, Recall: 88.88888888888889%, F1 Score: 83.47826086956522%, AUC: 66.00529100529101%\n",
      "Epoch 9/50, Loss: 0.5130574064595359\n",
      "Validation started\n",
      "Validation Loss: 0.5769394516944886, Accuracy: 78.04878048780488%, Precision: 79.03225806451613%, Recall: 90.74074074074075%, F1 Score: 84.48275862068965%, AUC: 68.91534391534393%\n",
      "Epoch 10/50, Loss: 0.5213222546236855\n",
      "Validation started\n",
      "Validation Loss: 0.5584701478481293, Accuracy: 78.04878048780488%, Precision: 79.03225806451613%, Recall: 90.74074074074075%, F1 Score: 84.48275862068965%, AUC: 71.62698412698413%\n",
      "Epoch 11/50, Loss: 0.486876551594053\n",
      "Validation started\n",
      "Validation Loss: 0.5418024718761444, Accuracy: 78.04878048780488%, Precision: 79.03225806451613%, Recall: 90.74074074074075%, F1 Score: 84.48275862068965%, AUC: 74.53703703703705%\n",
      "Epoch 12/50, Loss: 0.4687447377613613\n",
      "Validation started\n",
      "Validation Loss: 0.5270300149917603, Accuracy: 78.04878048780488%, Precision: 79.03225806451613%, Recall: 90.74074074074075%, F1 Score: 84.48275862068965%, AUC: 76.45502645502646%\n",
      "Epoch 13/50, Loss: 0.4334382563829422\n",
      "Validation started\n",
      "Validation Loss: 0.5137488901615143, Accuracy: 78.04878048780488%, Precision: 79.03225806451613%, Recall: 90.74074074074075%, F1 Score: 84.48275862068965%, AUC: 78.17460317460318%\n",
      "Epoch 14/50, Loss: 0.40748744351523264\n",
      "Validation started\n",
      "Validation Loss: 0.5026033759117127, Accuracy: 78.04878048780488%, Precision: 79.03225806451613%, Recall: 90.74074074074075%, F1 Score: 84.48275862068965%, AUC: 79.62962962962963%\n",
      "Epoch 15/50, Loss: 0.38568705533232006\n",
      "Validation started\n",
      "Validation Loss: 0.4927708864212036, Accuracy: 78.04878048780488%, Precision: 79.03225806451613%, Recall: 90.74074074074075%, F1 Score: 84.48275862068965%, AUC: 80.82010582010582%\n",
      "Epoch 16/50, Loss: 0.36486814064638956\n",
      "Validation started\n",
      "Validation Loss: 0.4840106010437012, Accuracy: 78.04878048780488%, Precision: 79.03225806451613%, Recall: 90.74074074074075%, F1 Score: 84.48275862068965%, AUC: 81.15079365079364%\n",
      "Epoch 17/50, Loss: 0.35485487963472095\n",
      "Validation started\n",
      "Validation Loss: 0.47641690373420714, Accuracy: 78.04878048780488%, Precision: 79.03225806451613%, Recall: 90.74074074074075%, F1 Score: 84.48275862068965%, AUC: 81.74603174603175%\n",
      "Epoch 18/50, Loss: 0.33691515986408505\n",
      "Validation started\n",
      "Validation Loss: 0.4696610987186432, Accuracy: 78.04878048780488%, Precision: 79.03225806451613%, Recall: 90.74074074074075%, F1 Score: 84.48275862068965%, AUC: 82.20899470899471%\n",
      "Epoch 19/50, Loss: 0.32680951271738323\n",
      "Validation started\n",
      "Validation Loss: 0.46346068382263184, Accuracy: 78.04878048780488%, Precision: 79.03225806451613%, Recall: 90.74074074074075%, F1 Score: 84.48275862068965%, AUC: 82.53968253968253%\n",
      "Epoch 20/50, Loss: 0.3120572492480278\n",
      "Validation started\n",
      "Validation Loss: 0.45783275961875913, Accuracy: 78.04878048780488%, Precision: 79.03225806451613%, Recall: 90.74074074074075%, F1 Score: 84.48275862068965%, AUC: 82.73809523809523%\n",
      "Epoch 21/50, Loss: 0.2900513538292476\n",
      "Validation started\n",
      "Validation Loss: 0.45303172469139097, Accuracy: 78.04878048780488%, Precision: 79.03225806451613%, Recall: 90.74074074074075%, F1 Score: 84.48275862068965%, AUC: 83.06878306878306%\n",
      "Epoch 22/50, Loss: 0.2801707482763699\n",
      "Validation started\n",
      "Validation Loss: 0.44874694347381594, Accuracy: 78.04878048780488%, Precision: 79.03225806451613%, Recall: 90.74074074074075%, F1 Score: 84.48275862068965%, AUC: 83.66402116402116%\n",
      "Epoch 23/50, Loss: 0.2729374776993479\n",
      "Validation started\n",
      "Validation Loss: 0.4448569893836975, Accuracy: 78.04878048780488%, Precision: 79.03225806451613%, Recall: 90.74074074074075%, F1 Score: 84.48275862068965%, AUC: 84.06084656084657%\n",
      "Epoch 24/50, Loss: 0.2688653011407171\n",
      "Validation started\n",
      "Validation Loss: 0.44145783185958865, Accuracy: 78.04878048780488%, Precision: 79.03225806451613%, Recall: 90.74074074074075%, F1 Score: 84.48275862068965%, AUC: 84.32539682539682%\n",
      "Epoch 25/50, Loss: 0.25955033728054594\n",
      "Validation started\n",
      "Validation Loss: 0.4383326590061188, Accuracy: 76.82926829268293%, Precision: 78.68852459016394%, Recall: 88.88888888888889%, F1 Score: 83.47826086956522%, AUC: 84.65608465608466%\n",
      "Epoch 26/50, Loss: 0.23854636400938034\n",
      "Validation started\n",
      "Validation Loss: 0.43562036454677583, Accuracy: 76.82926829268293%, Precision: 78.68852459016394%, Recall: 88.88888888888889%, F1 Score: 83.47826086956522%, AUC: 84.78835978835978%\n",
      "Epoch 27/50, Loss: 0.2398749121597835\n",
      "Validation started\n",
      "Validation Loss: 0.4333276629447937, Accuracy: 76.82926829268293%, Precision: 78.68852459016394%, Recall: 88.88888888888889%, F1 Score: 83.47826086956522%, AUC: 84.9867724867725%\n",
      "Epoch 28/50, Loss: 0.23241986547197616\n",
      "Validation started\n",
      "Validation Loss: 0.4313716322183609, Accuracy: 76.82926829268293%, Precision: 78.68852459016394%, Recall: 88.88888888888889%, F1 Score: 83.47826086956522%, AUC: 85.11904761904762%\n",
      "Epoch 29/50, Loss: 0.22617920700992858\n",
      "Validation started\n",
      "Validation Loss: 0.4296943724155426, Accuracy: 76.82926829268293%, Precision: 78.68852459016394%, Recall: 88.88888888888889%, F1 Score: 83.47826086956522%, AUC: 85.18518518518519%\n",
      "Epoch 30/50, Loss: 0.19862018206289836\n",
      "Validation started\n",
      "Validation Loss: 0.428393566608429, Accuracy: 76.82926829268293%, Precision: 78.68852459016394%, Recall: 88.88888888888889%, F1 Score: 83.47826086956522%, AUC: 85.25132275132276%\n",
      "Epoch 31/50, Loss: 0.2089880970971925\n",
      "Validation started\n",
      "Validation Loss: 0.4273096978664398, Accuracy: 76.82926829268293%, Precision: 78.68852459016394%, Recall: 88.88888888888889%, F1 Score: 83.47826086956522%, AUC: 85.31746031746032%\n",
      "Epoch 32/50, Loss: 0.19583384160484588\n",
      "Validation started\n",
      "Validation Loss: 0.42624387741088865, Accuracy: 78.04878048780488%, Precision: 80.0%, Recall: 88.88888888888889%, F1 Score: 84.21052631578947%, AUC: 85.58201058201058%\n",
      "Epoch 33/50, Loss: 0.18752329370805196\n",
      "Validation started\n",
      "Validation Loss: 0.425464004278183, Accuracy: 78.04878048780488%, Precision: 80.0%, Recall: 88.88888888888889%, F1 Score: 84.21052631578947%, AUC: 85.64814814814815%\n",
      "Epoch 34/50, Loss: 0.18649691556181228\n",
      "Validation started\n",
      "Validation Loss: 0.42496114373207095, Accuracy: 78.04878048780488%, Precision: 80.0%, Recall: 88.88888888888889%, F1 Score: 84.21052631578947%, AUC: 85.64814814814815%\n",
      "Epoch 35/50, Loss: 0.1823911794594356\n",
      "Validation started\n",
      "Validation Loss: 0.4247703909873962, Accuracy: 78.04878048780488%, Precision: 80.0%, Recall: 88.88888888888889%, F1 Score: 84.21052631578947%, AUC: 85.64814814814815%\n",
      "Epoch 36/50, Loss: 0.1567900170172964\n",
      "Validation started\n",
      "Validation Loss: 0.42458135783672335, Accuracy: 78.04878048780488%, Precision: 80.0%, Recall: 88.88888888888889%, F1 Score: 84.21052631578947%, AUC: 85.71428571428571%\n",
      "Epoch 37/50, Loss: 0.15664280259183475\n",
      "Validation started\n",
      "Validation Loss: 0.42448661625385287, Accuracy: 78.04878048780488%, Precision: 80.0%, Recall: 88.88888888888889%, F1 Score: 84.21052631578947%, AUC: 85.71428571428571%\n",
      "Epoch 38/50, Loss: 0.15793480564441\n",
      "Validation started\n",
      "Validation Loss: 0.42462186217308046, Accuracy: 78.04878048780488%, Precision: 80.0%, Recall: 88.88888888888889%, F1 Score: 84.21052631578947%, AUC: 85.84656084656085%\n",
      "Epoch 39/50, Loss: 0.1540585346519947\n",
      "Validation started\n",
      "Validation Loss: 0.4250127077102661, Accuracy: 78.04878048780488%, Precision: 80.0%, Recall: 88.88888888888889%, F1 Score: 84.21052631578947%, AUC: 85.84656084656085%\n",
      "Epoch 40/50, Loss: 0.14420872447746141\n",
      "Validation started\n",
      "Validation Loss: 0.42545332610607145, Accuracy: 78.04878048780488%, Precision: 80.0%, Recall: 88.88888888888889%, F1 Score: 84.21052631578947%, AUC: 85.84656084656085%\n",
      "Epoch 41/50, Loss: 0.1330803856253624\n",
      "Validation started\n",
      "Validation Loss: 0.42588814795017244, Accuracy: 78.04878048780488%, Precision: 80.0%, Recall: 88.88888888888889%, F1 Score: 84.21052631578947%, AUC: 85.9126984126984%\n",
      "Epoch 42/50, Loss: 0.143030760543687\n",
      "Validation started\n",
      "Validation Loss: 0.4267520695924759, Accuracy: 78.04878048780488%, Precision: 80.0%, Recall: 88.88888888888889%, F1 Score: 84.21052631578947%, AUC: 85.97883597883597%\n",
      "Epoch 43/50, Loss: 0.13738446842346871\n",
      "Validation started\n",
      "Validation Loss: 0.4274884045124054, Accuracy: 78.04878048780488%, Precision: 80.0%, Recall: 88.88888888888889%, F1 Score: 84.21052631578947%, AUC: 85.97883597883597%\n",
      "Epoch 44/50, Loss: 0.130141410444464\n",
      "Validation started\n",
      "Validation Loss: 0.4282780259847641, Accuracy: 78.04878048780488%, Precision: 80.0%, Recall: 88.88888888888889%, F1 Score: 84.21052631578947%, AUC: 86.04497354497354%\n",
      "Epoch 45/50, Loss: 0.12670959372605597\n",
      "Validation started\n",
      "Validation Loss: 0.4290304213762283, Accuracy: 78.04878048780488%, Precision: 80.0%, Recall: 88.88888888888889%, F1 Score: 84.21052631578947%, AUC: 86.04497354497354%\n",
      "Epoch 46/50, Loss: 0.12458816117474011\n",
      "Validation started\n",
      "Validation Loss: 0.42996248602867126, Accuracy: 78.04878048780488%, Precision: 80.0%, Recall: 88.88888888888889%, F1 Score: 84.21052631578947%, AUC: 86.04497354497354%\n",
      "Epoch 47/50, Loss: 0.1246374739067895\n",
      "Validation started\n",
      "Validation Loss: 0.4310048520565033, Accuracy: 78.04878048780488%, Precision: 80.0%, Recall: 88.88888888888889%, F1 Score: 84.21052631578947%, AUC: 86.17724867724867%\n",
      "Epoch 48/50, Loss: 0.11966365203261375\n",
      "Validation started\n",
      "Validation Loss: 0.4322395086288452, Accuracy: 78.04878048780488%, Precision: 80.0%, Recall: 88.88888888888889%, F1 Score: 84.21052631578947%, AUC: 86.17724867724867%\n",
      "Epoch 49/50, Loss: 0.12240625066416604\n",
      "Validation started\n",
      "Validation Loss: 0.4336542338132858, Accuracy: 78.04878048780488%, Precision: 80.0%, Recall: 88.88888888888889%, F1 Score: 84.21052631578947%, AUC: 86.17724867724867%\n",
      "Epoch 50/50, Loss: 0.10771711117454938\n",
      "Validation started\n",
      "Validation Loss: 0.43450602889060974, Accuracy: 78.04878048780488%, Precision: 80.0%, Recall: 88.88888888888889%, F1 Score: 84.21052631578947%, AUC: 86.17724867724867%\n",
      "Fine-tuning completed.\n",
      "Epoch 1/50, Loss: 0.8820718441690717\n",
      "Validation started\n",
      "Validation Loss: 0.8274131059646607, Accuracy: 34.146341463414636%, Precision: 0.0%, Recall: 0.0%, F1 Score: 0.0%, AUC: 47.48677248677248%\n"
     ]
    },
    {
     "name": "stderr",
     "output_type": "stream",
     "text": [
      "/home/leilapirhaji/.local/lib/python3.9/site-packages/sklearn/metrics/_classification.py:1531: UndefinedMetricWarning:\n",
      "\n",
      "Precision is ill-defined and being set to 0.0 due to no predicted samples. Use `zero_division` parameter to control this behavior.\n",
      "\n",
      "/home/leilapirhaji/mz_embed_engine/ml/finetune/freez_encoder_latent_avg.py:370: FutureWarning:\n",
      "\n",
      "The behavior of DataFrame concatenation with empty or all-NA entries is deprecated. In a future version, this will no longer exclude empty or all-NA columns when determining the result dtypes. To retain the old behavior, exclude the relevant entries before the concat operation.\n",
      "\n"
     ]
    },
    {
     "name": "stdout",
     "output_type": "stream",
     "text": [
      "Epoch 2/50, Loss: 0.8519210304532733\n",
      "Validation started\n",
      "Validation Loss: 0.7819185018539428, Accuracy: 40.243902439024396%, Precision: 100.0%, Recall: 9.25925925925926%, F1 Score: 16.94915254237288%, AUC: 51.25661375661375%\n",
      "Epoch 3/50, Loss: 0.7794186685766492\n",
      "Validation started\n",
      "Validation Loss: 0.7408128142356872, Accuracy: 39.02439024390244%, Precision: 70.0%, Recall: 12.962962962962962%, F1 Score: 21.875%, AUC: 54.761904761904766%\n",
      "Epoch 4/50, Loss: 0.7700169256755284\n",
      "Validation started\n",
      "Validation Loss: 0.7068507671356201, Accuracy: 42.68292682926829%, Precision: 70.58823529411765%, Recall: 22.22222222222222%, F1 Score: 33.80281690140845%, AUC: 57.60582010582011%\n",
      "Epoch 5/50, Loss: 0.6980621090957096\n",
      "Validation started\n",
      "Validation Loss: 0.6777583599090576, Accuracy: 42.68292682926829%, Precision: 65.21739130434783%, Recall: 27.77777777777778%, F1 Score: 38.961038961038966%, AUC: 59.72222222222223%\n",
      "Epoch 6/50, Loss: 0.6737830255712781\n",
      "Validation started\n",
      "Validation Loss: 0.6522521376609802, Accuracy: 56.09756097560976%, Precision: 72.5%, Recall: 53.70370370370371%, F1 Score: 61.702127659574465%, AUC: 63.69047619047619%\n",
      "Epoch 7/50, Loss: 0.6284150651523045\n",
      "Validation started\n",
      "Validation Loss: 0.6286654829978943, Accuracy: 65.85365853658537%, Precision: 75.0%, Recall: 72.22222222222221%, F1 Score: 73.58490566037736%, AUC: 66.6005291005291%\n",
      "Epoch 8/50, Loss: 0.6214016995259694\n",
      "Validation started\n",
      "Validation Loss: 0.6075781226158142, Accuracy: 75.60975609756098%, Precision: 78.33333333333333%, Recall: 87.03703703703704%, F1 Score: 82.45614035087719%, AUC: 70.23809523809523%\n",
      "Epoch 9/50, Loss: 0.5348666906356812\n",
      "Validation started\n",
      "Validation Loss: 0.5891197443008422, Accuracy: 79.26829268292683%, Precision: 79.36507936507937%, Recall: 92.5925925925926%, F1 Score: 85.47008547008546%, AUC: 72.35449735449735%\n",
      "Epoch 10/50, Loss: 0.5330810589449746\n",
      "Validation started\n",
      "Validation Loss: 0.5729763031005859, Accuracy: 80.48780487804879%, Precision: 79.6875%, Recall: 94.44444444444444%, F1 Score: 86.4406779661017%, AUC: 74.33862433862434%\n",
      "Epoch 11/50, Loss: 0.5179921048028129\n",
      "Validation started\n",
      "Validation Loss: 0.5579864144325256, Accuracy: 80.48780487804879%, Precision: 79.6875%, Recall: 94.44444444444444%, F1 Score: 86.4406779661017%, AUC: 76.25661375661376%\n",
      "Epoch 12/50, Loss: 0.4987966184105192\n",
      "Validation started\n",
      "Validation Loss: 0.5443048596382141, Accuracy: 80.48780487804879%, Precision: 79.6875%, Recall: 94.44444444444444%, F1 Score: 86.4406779661017%, AUC: 77.5132275132275%\n",
      "Epoch 13/50, Loss: 0.45435062050819397\n",
      "Validation started\n",
      "Validation Loss: 0.5320593774318695, Accuracy: 80.48780487804879%, Precision: 79.6875%, Recall: 94.44444444444444%, F1 Score: 86.4406779661017%, AUC: 78.70370370370371%\n",
      "Epoch 14/50, Loss: 0.4246535428932735\n",
      "Validation started\n",
      "Validation Loss: 0.5215211331844329, Accuracy: 80.48780487804879%, Precision: 79.6875%, Recall: 94.44444444444444%, F1 Score: 86.4406779661017%, AUC: 79.1005291005291%\n",
      "Epoch 15/50, Loss: 0.41831799702984945\n",
      "Validation started\n",
      "Validation Loss: 0.5120820283889771, Accuracy: 80.48780487804879%, Precision: 79.6875%, Recall: 94.44444444444444%, F1 Score: 86.4406779661017%, AUC: 79.6957671957672%\n",
      "Epoch 16/50, Loss: 0.38328384714467184\n",
      "Validation started\n",
      "Validation Loss: 0.503492283821106, Accuracy: 80.48780487804879%, Precision: 79.6875%, Recall: 94.44444444444444%, F1 Score: 86.4406779661017%, AUC: 79.8941798941799%\n",
      "Epoch 17/50, Loss: 0.3784093196902956\n",
      "Validation started\n",
      "Validation Loss: 0.4961444020271301, Accuracy: 80.48780487804879%, Precision: 79.6875%, Recall: 94.44444444444444%, F1 Score: 86.4406779661017%, AUC: 80.22486772486774%\n",
      "Epoch 18/50, Loss: 0.365275855575289\n",
      "Validation started\n",
      "Validation Loss: 0.48960580825805666, Accuracy: 80.48780487804879%, Precision: 79.6875%, Recall: 94.44444444444444%, F1 Score: 86.4406779661017%, AUC: 80.35714285714285%\n",
      "Epoch 19/50, Loss: 0.35081425309181213\n",
      "Validation started\n",
      "Validation Loss: 0.48357218503952026, Accuracy: 80.48780487804879%, Precision: 79.6875%, Recall: 94.44444444444444%, F1 Score: 86.4406779661017%, AUC: 80.55555555555554%\n",
      "Epoch 20/50, Loss: 0.34162376821041107\n",
      "Validation started\n",
      "Validation Loss: 0.4781209409236908, Accuracy: 80.48780487804879%, Precision: 79.6875%, Recall: 94.44444444444444%, F1 Score: 86.4406779661017%, AUC: 80.75396825396825%\n",
      "Epoch 21/50, Loss: 0.32111521171672003\n",
      "Validation started\n",
      "Validation Loss: 0.473392927646637, Accuracy: 80.48780487804879%, Precision: 79.6875%, Recall: 94.44444444444444%, F1 Score: 86.4406779661017%, AUC: 81.15079365079364%\n",
      "Epoch 22/50, Loss: 0.3043912159545081\n",
      "Validation started\n",
      "Validation Loss: 0.4694014310836792, Accuracy: 80.48780487804879%, Precision: 79.6875%, Recall: 94.44444444444444%, F1 Score: 86.4406779661017%, AUC: 81.34920634920636%\n",
      "Epoch 23/50, Loss: 0.2973678878375462\n",
      "Validation started\n",
      "Validation Loss: 0.4658108830451965, Accuracy: 80.48780487804879%, Precision: 79.6875%, Recall: 94.44444444444444%, F1 Score: 86.4406779661017%, AUC: 81.48148148148148%\n",
      "Epoch 24/50, Loss: 0.2898238343851907\n",
      "Validation started\n",
      "Validation Loss: 0.46259225010871885, Accuracy: 80.48780487804879%, Precision: 79.6875%, Recall: 94.44444444444444%, F1 Score: 86.4406779661017%, AUC: 81.54761904761905%\n",
      "Epoch 25/50, Loss: 0.29078487519706997\n",
      "Validation started\n",
      "Validation Loss: 0.45965372323989867, Accuracy: 80.48780487804879%, Precision: 79.6875%, Recall: 94.44444444444444%, F1 Score: 86.4406779661017%, AUC: 81.81216931216932%\n",
      "Epoch 26/50, Loss: 0.2608842360121863\n",
      "Validation started\n",
      "Validation Loss: 0.4572228014469147, Accuracy: 80.48780487804879%, Precision: 79.6875%, Recall: 94.44444444444444%, F1 Score: 86.4406779661017%, AUC: 81.81216931216932%\n",
      "Epoch 27/50, Loss: 0.272072787795748\n",
      "Validation started\n",
      "Validation Loss: 0.4551043391227722, Accuracy: 80.48780487804879%, Precision: 79.6875%, Recall: 94.44444444444444%, F1 Score: 86.4406779661017%, AUC: 81.94444444444444%\n",
      "Epoch 28/50, Loss: 0.25669921402420315\n",
      "Validation started\n",
      "Validation Loss: 0.4534126281738281, Accuracy: 80.48780487804879%, Precision: 79.6875%, Recall: 94.44444444444444%, F1 Score: 86.4406779661017%, AUC: 82.07671957671958%\n",
      "Epoch 29/50, Loss: 0.2514950005071504\n",
      "Validation started\n",
      "Validation Loss: 0.4520629018545151, Accuracy: 80.48780487804879%, Precision: 79.6875%, Recall: 94.44444444444444%, F1 Score: 86.4406779661017%, AUC: 82.14285714285715%\n",
      "Epoch 30/50, Loss: 0.22775828625474656\n",
      "Validation started\n",
      "Validation Loss: 0.4510126322507858, Accuracy: 80.48780487804879%, Precision: 79.6875%, Recall: 94.44444444444444%, F1 Score: 86.4406779661017%, AUC: 82.14285714285715%\n",
      "Epoch 31/50, Loss: 0.22878278685467585\n",
      "Validation started\n",
      "Validation Loss: 0.4502695709466934, Accuracy: 80.48780487804879%, Precision: 79.6875%, Recall: 94.44444444444444%, F1 Score: 86.4406779661017%, AUC: 82.14285714285715%\n",
      "Epoch 32/50, Loss: 0.2248607501387596\n",
      "Validation started\n",
      "Validation Loss: 0.44961123168468475, Accuracy: 80.48780487804879%, Precision: 79.6875%, Recall: 94.44444444444444%, F1 Score: 86.4406779661017%, AUC: 82.01058201058203%\n",
      "Epoch 33/50, Loss: 0.2211319644536291\n",
      "Validation started\n",
      "Validation Loss: 0.44900538921356203, Accuracy: 80.48780487804879%, Precision: 79.6875%, Recall: 94.44444444444444%, F1 Score: 86.4406779661017%, AUC: 82.20899470899472%\n",
      "Epoch 34/50, Loss: 0.2231303464089121\n",
      "Validation started\n",
      "Validation Loss: 0.44859235882759096, Accuracy: 80.48780487804879%, Precision: 79.6875%, Recall: 94.44444444444444%, F1 Score: 86.4406779661017%, AUC: 82.27513227513228%\n",
      "Epoch 35/50, Loss: 0.21934770154101507\n",
      "Validation started\n",
      "Validation Loss: 0.4484578102827072, Accuracy: 80.48780487804879%, Precision: 79.6875%, Recall: 94.44444444444444%, F1 Score: 86.4406779661017%, AUC: 82.40740740740742%\n",
      "Epoch 36/50, Loss: 0.17959572161946977\n",
      "Validation started\n",
      "Validation Loss: 0.44840843677520753, Accuracy: 81.70731707317073%, Precision: 80.95238095238095%, Recall: 94.44444444444444%, F1 Score: 87.17948717948718%, AUC: 82.47354497354497%\n",
      "Epoch 37/50, Loss: 0.1897245299603258\n",
      "Validation started\n",
      "Validation Loss: 0.44853493571281433, Accuracy: 81.70731707317073%, Precision: 80.95238095238095%, Recall: 94.44444444444444%, F1 Score: 87.17948717948718%, AUC: 82.53968253968253%\n",
      "Epoch 38/50, Loss: 0.1779407752411706\n",
      "Validation started\n",
      "Validation Loss: 0.4488413751125336, Accuracy: 81.70731707317073%, Precision: 80.95238095238095%, Recall: 94.44444444444444%, F1 Score: 87.17948717948718%, AUC: 82.53968253968253%\n",
      "Epoch 39/50, Loss: 0.1815305756671088\n",
      "Validation started\n",
      "Validation Loss: 0.4492998570203781, Accuracy: 81.70731707317073%, Precision: 80.95238095238095%, Recall: 94.44444444444444%, F1 Score: 87.17948717948718%, AUC: 82.47354497354497%\n",
      "Epoch 40/50, Loss: 0.17277112390313829\n",
      "Validation started\n",
      "Validation Loss: 0.4498950898647308, Accuracy: 81.70731707317073%, Precision: 80.95238095238095%, Recall: 94.44444444444444%, F1 Score: 87.17948717948718%, AUC: 82.4074074074074%\n",
      "Epoch 41/50, Loss: 0.16311946138739586\n",
      "Validation started\n",
      "Validation Loss: 0.4505089044570923, Accuracy: 81.70731707317073%, Precision: 80.95238095238095%, Recall: 94.44444444444444%, F1 Score: 87.17948717948718%, AUC: 82.4074074074074%\n",
      "Epoch 42/50, Loss: 0.17232354996459825\n",
      "Validation started\n",
      "Early stopping triggered at epoch 42\n",
      "Fine-tuning completed.\n"
     ]
    },
    {
     "name": "stderr",
     "output_type": "stream",
     "text": [
      "[I 2024-09-17 03:18:34,346] Trial 3 finished with value: 86.17724867724867 and parameters: {'add_post_latent_layers': True, 'post_latent_layer_size': 32, 'num_layers_to_retrain': 1, 'batch_size': 32, 'learning_rate': 5.935710634019328e-06, 'dropout': 0.24043682648790773, 'l1_reg_weight': 1.837242421818074e-07, 'l2_reg_weight': 3.235871425214303e-05}. Best is trial 1 with value: 88.75661375661376.\n",
      "/home/leilapirhaji/mz_embed_engine/ml/finetune/retrain_finetune_VAE.py:143: FutureWarning:\n",
      "\n",
      "suggest_loguniform has been deprecated in v3.0.0. This feature will be removed in v6.0.0. See https://github.com/optuna/optuna/releases/tag/v3.0.0. Use suggest_float(..., log=True) instead.\n",
      "\n",
      "/home/leilapirhaji/mz_embed_engine/ml/finetune/retrain_finetune_VAE.py:144: FutureWarning:\n",
      "\n",
      "suggest_uniform has been deprecated in v3.0.0. This feature will be removed in v6.0.0. See https://github.com/optuna/optuna/releases/tag/v3.0.0. Use suggest_float instead.\n",
      "\n",
      "/home/leilapirhaji/mz_embed_engine/ml/finetune/retrain_finetune_VAE.py:145: FutureWarning:\n",
      "\n",
      "suggest_loguniform has been deprecated in v3.0.0. This feature will be removed in v6.0.0. See https://github.com/optuna/optuna/releases/tag/v3.0.0. Use suggest_float(..., log=True) instead.\n",
      "\n",
      "/home/leilapirhaji/mz_embed_engine/ml/finetune/retrain_finetune_VAE.py:146: FutureWarning:\n",
      "\n",
      "suggest_loguniform has been deprecated in v3.0.0. This feature will be removed in v6.0.0. See https://github.com/optuna/optuna/releases/tag/v3.0.0. Use suggest_float(..., log=True) instead.\n",
      "\n",
      "/home/leilapirhaji/mz_embed_engine/ml/finetune/freez_encoder_latent_avg.py:370: FutureWarning:\n",
      "\n",
      "The behavior of DataFrame concatenation with empty or all-NA entries is deprecated. In a future version, this will no longer exclude empty or all-NA columns when determining the result dtypes. To retain the old behavior, exclude the relevant entries before the concat operation.\n",
      "\n"
     ]
    },
    {
     "name": "stdout",
     "output_type": "stream",
     "text": [
      "Epoch 1/50, Loss: 3.91548866885049\n",
      "Validation started\n",
      "Validation Loss: 4.1150657653808596, Accuracy: 82.92682926829268%, Precision: 85.71428571428571%, Recall: 88.88888888888889%, F1 Score: 87.27272727272727%, AUC: 88.29365079365078%\n",
      "Epoch 2/50, Loss: 3.870579549244472\n",
      "Validation started\n",
      "Validation Loss: 4.11931095123291, Accuracy: 81.70731707317073%, Precision: 84.21052631578947%, Recall: 88.88888888888889%, F1 Score: 86.48648648648648%, AUC: 88.42592592592592%\n",
      "Epoch 3/50, Loss: 3.8269440957478116\n",
      "Validation started\n",
      "Validation Loss: 4.125948858261109, Accuracy: 81.70731707317073%, Precision: 84.21052631578947%, Recall: 88.88888888888889%, F1 Score: 86.48648648648648%, AUC: 88.42592592592592%\n",
      "Epoch 4/50, Loss: 3.7996632201331004\n",
      "Validation started\n",
      "Validation Loss: 4.131090831756592, Accuracy: 82.92682926829268%, Precision: 85.71428571428571%, Recall: 88.88888888888889%, F1 Score: 87.27272727272727%, AUC: 88.35978835978835%\n",
      "Epoch 5/50, Loss: 3.7972971541540965\n",
      "Validation started\n",
      "Validation Loss: 4.137708711624145, Accuracy: 82.92682926829268%, Precision: 85.71428571428571%, Recall: 88.88888888888889%, F1 Score: 87.27272727272727%, AUC: 88.42592592592592%\n",
      "Epoch 6/50, Loss: 3.8001237767083302\n",
      "Validation started\n",
      "Validation Loss: 4.147299432754517, Accuracy: 80.48780487804879%, Precision: 82.75862068965517%, Recall: 88.88888888888889%, F1 Score: 85.71428571428571%, AUC: 88.35978835978835%\n",
      "Epoch 7/50, Loss: 3.776474220412118\n",
      "Validation started\n",
      "Early stopping triggered at epoch 7\n",
      "Fine-tuning completed.\n",
      "Epoch 1/50, Loss: 1.996756681374141\n",
      "Validation started\n"
     ]
    },
    {
     "name": "stderr",
     "output_type": "stream",
     "text": [
      "/home/leilapirhaji/mz_embed_engine/ml/finetune/freez_encoder_latent_avg.py:370: FutureWarning:\n",
      "\n",
      "The behavior of DataFrame concatenation with empty or all-NA entries is deprecated. In a future version, this will no longer exclude empty or all-NA columns when determining the result dtypes. To retain the old behavior, exclude the relevant entries before the concat operation.\n",
      "\n"
     ]
    },
    {
     "name": "stdout",
     "output_type": "stream",
     "text": [
      "Validation Loss: 2.3072068214416506, Accuracy: 76.82926829268293%, Precision: 81.81818181818183%, Recall: 83.33333333333334%, F1 Score: 82.56880733944955%, AUC: 84.78835978835978%\n",
      "Epoch 2/50, Loss: 1.9631046652793884\n",
      "Validation started\n",
      "Validation Loss: 2.3128734111785887, Accuracy: 78.04878048780488%, Precision: 82.14285714285714%, Recall: 85.18518518518519%, F1 Score: 83.63636363636363%, AUC: 84.78835978835978%\n",
      "Epoch 3/50, Loss: 1.9205781476838248\n",
      "Validation started\n",
      "Validation Loss: 2.3181137323379515, Accuracy: 78.04878048780488%, Precision: 82.14285714285714%, Recall: 85.18518518518519%, F1 Score: 83.63636363636363%, AUC: 84.92063492063491%\n",
      "Epoch 4/50, Loss: 1.896400511264801\n",
      "Validation started\n",
      "Validation Loss: 2.3218068361282347, Accuracy: 78.04878048780488%, Precision: 82.14285714285714%, Recall: 85.18518518518519%, F1 Score: 83.63636363636363%, AUC: 84.85449735449735%\n",
      "Epoch 5/50, Loss: 1.8921381660870142\n",
      "Validation started\n",
      "Validation Loss: 2.3286130666732787, Accuracy: 78.04878048780488%, Precision: 82.14285714285714%, Recall: 85.18518518518519%, F1 Score: 83.63636363636363%, AUC: 84.85449735449735%\n",
      "Epoch 6/50, Loss: 1.896603993007115\n",
      "Validation started\n",
      "Validation Loss: 2.3386708736419677, Accuracy: 78.04878048780488%, Precision: 82.14285714285714%, Recall: 85.18518518518519%, F1 Score: 83.63636363636363%, AUC: 84.85449735449735%\n",
      "Epoch 7/50, Loss: 1.8733842372894287\n",
      "Validation started\n",
      "Validation Loss: 2.348798131942749, Accuracy: 78.04878048780488%, Precision: 82.14285714285714%, Recall: 85.18518518518519%, F1 Score: 83.63636363636363%, AUC: 84.72222222222221%\n",
      "Epoch 8/50, Loss: 1.8606735212462289\n",
      "Validation started\n",
      "Early stopping triggered at epoch 8\n",
      "Fine-tuning completed.\n"
     ]
    },
    {
     "name": "stderr",
     "output_type": "stream",
     "text": [
      "[I 2024-09-17 03:18:37,135] Trial 4 finished with value: 88.35978835978835 and parameters: {'add_post_latent_layers': True, 'post_latent_layer_size': 8, 'num_layers_to_retrain': 1, 'batch_size': 32, 'learning_rate': 2.530578394546173e-05, 'dropout': 0.2127028614041794, 'l1_reg_weight': 0.00011215597893538211, 'l2_reg_weight': 0.0007431742918511937}. Best is trial 1 with value: 88.75661375661376.\n",
      "/home/leilapirhaji/mz_embed_engine/ml/finetune/retrain_finetune_VAE.py:143: FutureWarning:\n",
      "\n",
      "suggest_loguniform has been deprecated in v3.0.0. This feature will be removed in v6.0.0. See https://github.com/optuna/optuna/releases/tag/v3.0.0. Use suggest_float(..., log=True) instead.\n",
      "\n",
      "/home/leilapirhaji/mz_embed_engine/ml/finetune/retrain_finetune_VAE.py:144: FutureWarning:\n",
      "\n",
      "suggest_uniform has been deprecated in v3.0.0. This feature will be removed in v6.0.0. See https://github.com/optuna/optuna/releases/tag/v3.0.0. Use suggest_float instead.\n",
      "\n",
      "/home/leilapirhaji/mz_embed_engine/ml/finetune/retrain_finetune_VAE.py:145: FutureWarning:\n",
      "\n",
      "suggest_loguniform has been deprecated in v3.0.0. This feature will be removed in v6.0.0. See https://github.com/optuna/optuna/releases/tag/v3.0.0. Use suggest_float(..., log=True) instead.\n",
      "\n",
      "/home/leilapirhaji/mz_embed_engine/ml/finetune/retrain_finetune_VAE.py:146: FutureWarning:\n",
      "\n",
      "suggest_loguniform has been deprecated in v3.0.0. This feature will be removed in v6.0.0. See https://github.com/optuna/optuna/releases/tag/v3.0.0. Use suggest_float(..., log=True) instead.\n",
      "\n",
      "/home/leilapirhaji/mz_embed_engine/ml/finetune/freez_encoder_latent_avg.py:370: FutureWarning:\n",
      "\n",
      "The behavior of DataFrame concatenation with empty or all-NA entries is deprecated. In a future version, this will no longer exclude empty or all-NA columns when determining the result dtypes. To retain the old behavior, exclude the relevant entries before the concat operation.\n",
      "\n"
     ]
    },
    {
     "name": "stdout",
     "output_type": "stream",
     "text": [
      "Epoch 1/50, Loss: 8.093721253531319\n",
      "Validation started\n",
      "Validation Loss: 8.132107543945313, Accuracy: 79.26829268292683%, Precision: 81.35593220338984%, Recall: 88.88888888888889%, F1 Score: 84.95575221238938%, AUC: 77.44708994708994%\n",
      "Epoch 2/50, Loss: 8.11923268863133\n",
      "Validation started\n",
      "Validation Loss: 8.124864959716797, Accuracy: 79.26829268292683%, Precision: 81.35593220338984%, Recall: 88.88888888888889%, F1 Score: 84.95575221238938%, AUC: 78.37301587301587%\n",
      "Epoch 3/50, Loss: 8.07665913445609\n",
      "Validation started\n",
      "Validation Loss: 8.117967224121093, Accuracy: 78.04878048780488%, Precision: 80.0%, Recall: 88.88888888888889%, F1 Score: 84.21052631578947%, AUC: 78.63756613756613%\n",
      "Epoch 4/50, Loss: 8.10346269607544\n",
      "Validation started\n",
      "Validation Loss: 8.111888694763184, Accuracy: 78.04878048780488%, Precision: 80.0%, Recall: 88.88888888888889%, F1 Score: 84.21052631578947%, AUC: 78.96825396825396%\n",
      "Epoch 5/50, Loss: 8.053523199898857\n",
      "Validation started\n",
      "Validation Loss: 8.10632257461548, Accuracy: 78.04878048780488%, Precision: 80.0%, Recall: 88.88888888888889%, F1 Score: 84.21052631578947%, AUC: 79.1005291005291%\n",
      "Epoch 6/50, Loss: 8.06557890347072\n",
      "Validation started\n",
      "Validation Loss: 8.101373958587647, Accuracy: 78.04878048780488%, Precision: 80.0%, Recall: 88.88888888888889%, F1 Score: 84.21052631578947%, AUC: 79.56349206349206%\n",
      "Epoch 7/50, Loss: 8.061081954411097\n",
      "Validation started\n",
      "Validation Loss: 8.096376323699952, Accuracy: 78.04878048780488%, Precision: 80.0%, Recall: 88.88888888888889%, F1 Score: 84.21052631578947%, AUC: 80.02645502645503%\n",
      "Epoch 8/50, Loss: 8.071514368057251\n",
      "Validation started\n",
      "Validation Loss: 8.0914888381958, Accuracy: 78.04878048780488%, Precision: 80.0%, Recall: 88.88888888888889%, F1 Score: 84.21052631578947%, AUC: 80.35714285714286%\n",
      "Epoch 9/50, Loss: 7.988916090556553\n",
      "Validation started\n",
      "Validation Loss: 8.087108516693116, Accuracy: 78.04878048780488%, Precision: 80.0%, Recall: 88.88888888888889%, F1 Score: 84.21052631578947%, AUC: 80.68783068783068%\n",
      "Epoch 10/50, Loss: 8.037942137037005\n",
      "Validation started\n",
      "Validation Loss: 8.082929039001465, Accuracy: 78.04878048780488%, Precision: 80.0%, Recall: 88.88888888888889%, F1 Score: 84.21052631578947%, AUC: 80.95238095238095%\n",
      "Epoch 11/50, Loss: 7.994123935699463\n",
      "Validation started\n",
      "Validation Loss: 8.079108810424804, Accuracy: 78.04878048780488%, Precision: 80.0%, Recall: 88.88888888888889%, F1 Score: 84.21052631578947%, AUC: 81.15079365079364%\n",
      "Epoch 12/50, Loss: 8.030392817088536\n",
      "Validation started\n",
      "Validation Loss: 8.075566387176513, Accuracy: 78.04878048780488%, Precision: 80.0%, Recall: 88.88888888888889%, F1 Score: 84.21052631578947%, AUC: 81.21693121693121%\n",
      "Epoch 13/50, Loss: 8.023535898753575\n",
      "Validation started\n",
      "Validation Loss: 8.071979141235351, Accuracy: 76.82926829268293%, Precision: 78.68852459016394%, Recall: 88.88888888888889%, F1 Score: 83.47826086956522%, AUC: 81.4814814814815%\n",
      "Epoch 14/50, Loss: 8.00297634942191\n",
      "Validation started\n",
      "Validation Loss: 8.068738460540771, Accuracy: 76.82926829268293%, Precision: 78.68852459016394%, Recall: 88.88888888888889%, F1 Score: 83.47826086956522%, AUC: 81.74603174603175%\n",
      "Epoch 15/50, Loss: 8.016200372150966\n",
      "Validation started\n",
      "Validation Loss: 8.065474128723144, Accuracy: 76.82926829268293%, Precision: 78.68852459016394%, Recall: 88.88888888888889%, F1 Score: 83.47826086956522%, AUC: 81.81216931216932%\n",
      "Epoch 16/50, Loss: 7.966908523014614\n",
      "Validation started\n",
      "Validation Loss: 8.062453269958496, Accuracy: 76.82926829268293%, Precision: 78.68852459016394%, Recall: 88.88888888888889%, F1 Score: 83.47826086956522%, AUC: 81.81216931216932%\n",
      "Epoch 17/50, Loss: 7.984731333596366\n",
      "Validation started\n",
      "Validation Loss: 8.059797763824463, Accuracy: 76.82926829268293%, Precision: 78.68852459016394%, Recall: 88.88888888888889%, F1 Score: 83.47826086956522%, AUC: 81.94444444444444%\n",
      "Epoch 18/50, Loss: 7.982904706682477\n",
      "Validation started\n",
      "Validation Loss: 8.057248878479005, Accuracy: 76.82926829268293%, Precision: 78.68852459016394%, Recall: 88.88888888888889%, F1 Score: 83.47826086956522%, AUC: 82.07671957671958%\n",
      "Epoch 19/50, Loss: 7.991756813866751\n",
      "Validation started\n",
      "Validation Loss: 8.054730892181396, Accuracy: 76.82926829268293%, Precision: 78.68852459016394%, Recall: 88.88888888888889%, F1 Score: 83.47826086956522%, AUC: 82.4074074074074%\n",
      "Epoch 20/50, Loss: 7.969061034066336\n",
      "Validation started\n",
      "Validation Loss: 8.05234727859497, Accuracy: 76.82926829268293%, Precision: 78.68852459016394%, Recall: 88.88888888888889%, F1 Score: 83.47826086956522%, AUC: 82.4074074074074%\n",
      "Epoch 21/50, Loss: 7.949850865772793\n",
      "Validation started\n",
      "Validation Loss: 8.050210762023926, Accuracy: 76.82926829268293%, Precision: 78.68852459016394%, Recall: 88.88888888888889%, F1 Score: 83.47826086956522%, AUC: 82.47354497354497%\n",
      "Epoch 22/50, Loss: 7.94689645086016\n",
      "Validation started\n",
      "Validation Loss: 8.048215103149413, Accuracy: 76.82926829268293%, Precision: 78.68852459016394%, Recall: 88.88888888888889%, F1 Score: 83.47826086956522%, AUC: 82.53968253968254%\n",
      "Epoch 23/50, Loss: 7.930571453911917\n",
      "Validation started\n",
      "Validation Loss: 8.046207427978516, Accuracy: 76.82926829268293%, Precision: 78.68852459016394%, Recall: 88.88888888888889%, F1 Score: 83.47826086956522%, AUC: 82.53968253968254%\n",
      "Epoch 24/50, Loss: 7.977904830660139\n",
      "Validation started\n",
      "Validation Loss: 8.044215297698974, Accuracy: 76.82926829268293%, Precision: 78.68852459016394%, Recall: 88.88888888888889%, F1 Score: 83.47826086956522%, AUC: 82.60582010582011%\n",
      "Epoch 25/50, Loss: 7.959097760064261\n",
      "Validation started\n",
      "Validation Loss: 8.0422758102417, Accuracy: 76.82926829268293%, Precision: 78.68852459016394%, Recall: 88.88888888888889%, F1 Score: 83.47826086956522%, AUC: 82.67195767195767%\n",
      "Epoch 26/50, Loss: 7.90875118119376\n",
      "Validation started\n",
      "Validation Loss: 8.040548419952392, Accuracy: 76.82926829268293%, Precision: 78.68852459016394%, Recall: 88.88888888888889%, F1 Score: 83.47826086956522%, AUC: 82.67195767195767%\n",
      "Epoch 27/50, Loss: 7.942542212350028\n",
      "Validation started\n",
      "Validation Loss: 8.038839530944824, Accuracy: 76.82926829268293%, Precision: 78.68852459016394%, Recall: 88.88888888888889%, F1 Score: 83.47826086956522%, AUC: 82.67195767195767%\n",
      "Epoch 28/50, Loss: 7.954425607408796\n",
      "Validation started\n",
      "Validation Loss: 8.03723373413086, Accuracy: 76.82926829268293%, Precision: 78.68852459016394%, Recall: 88.88888888888889%, F1 Score: 83.47826086956522%, AUC: 82.87037037037037%\n",
      "Epoch 29/50, Loss: 7.938882691519601\n",
      "Validation started\n",
      "Validation Loss: 8.03567476272583, Accuracy: 76.82926829268293%, Precision: 78.68852459016394%, Recall: 88.88888888888889%, F1 Score: 83.47826086956522%, AUC: 83.0026455026455%\n",
      "Epoch 30/50, Loss: 7.886307512010847\n",
      "Validation started\n",
      "Validation Loss: 8.034357643127441, Accuracy: 76.82926829268293%, Precision: 78.68852459016394%, Recall: 88.88888888888889%, F1 Score: 83.47826086956522%, AUC: 83.0026455026455%\n",
      "Epoch 31/50, Loss: 7.919164385114398\n",
      "Validation started\n",
      "Validation Loss: 8.033150100708008, Accuracy: 76.82926829268293%, Precision: 78.68852459016394%, Recall: 88.88888888888889%, F1 Score: 83.47826086956522%, AUC: 83.06878306878306%\n",
      "Epoch 32/50, Loss: 7.922958612442017\n",
      "Validation started\n",
      "Validation Loss: 8.031894779205322, Accuracy: 76.82926829268293%, Precision: 78.68852459016394%, Recall: 88.88888888888889%, F1 Score: 83.47826086956522%, AUC: 83.13492063492063%\n",
      "Epoch 33/50, Loss: 7.929942914417812\n",
      "Validation started\n",
      "Validation Loss: 8.030666732788086, Accuracy: 76.82926829268293%, Precision: 78.68852459016394%, Recall: 88.88888888888889%, F1 Score: 83.47826086956522%, AUC: 83.2010582010582%\n",
      "Epoch 34/50, Loss: 7.930744784218924\n",
      "Validation started\n",
      "Validation Loss: 8.029414844512939, Accuracy: 76.82926829268293%, Precision: 78.68852459016394%, Recall: 88.88888888888889%, F1 Score: 83.47826086956522%, AUC: 83.2010582010582%\n",
      "Epoch 35/50, Loss: 7.911246163504464\n",
      "Validation started\n",
      "Validation Loss: 8.028339385986328, Accuracy: 76.82926829268293%, Precision: 78.68852459016394%, Recall: 88.88888888888889%, F1 Score: 83.47826086956522%, AUC: 83.33333333333334%\n",
      "Epoch 36/50, Loss: 7.9013285636901855\n",
      "Validation started\n",
      "Validation Loss: 8.027248287200928, Accuracy: 76.82926829268293%, Precision: 78.68852459016394%, Recall: 88.88888888888889%, F1 Score: 83.47826086956522%, AUC: 83.46560846560847%\n",
      "Epoch 37/50, Loss: 7.859758683613369\n",
      "Validation started\n",
      "Validation Loss: 8.026278400421143, Accuracy: 76.82926829268293%, Precision: 78.68852459016394%, Recall: 88.88888888888889%, F1 Score: 83.47826086956522%, AUC: 83.5978835978836%\n",
      "Epoch 38/50, Loss: 7.88010971886771\n",
      "Validation started\n",
      "Validation Loss: 8.025411033630371, Accuracy: 76.82926829268293%, Precision: 78.68852459016394%, Recall: 88.88888888888889%, F1 Score: 83.47826086956522%, AUC: 83.66402116402116%\n",
      "Epoch 39/50, Loss: 7.886486666543143\n",
      "Validation started\n",
      "Validation Loss: 8.024524211883545, Accuracy: 76.82926829268293%, Precision: 78.68852459016394%, Recall: 88.88888888888889%, F1 Score: 83.47826086956522%, AUC: 83.66402116402116%\n",
      "Epoch 40/50, Loss: 7.87352728843689\n",
      "Validation started\n",
      "Validation Loss: 8.02366371154785, Accuracy: 76.82926829268293%, Precision: 78.68852459016394%, Recall: 88.88888888888889%, F1 Score: 83.47826086956522%, AUC: 83.66402116402116%\n",
      "Epoch 41/50, Loss: 7.853239161627633\n",
      "Validation started\n",
      "Validation Loss: 8.022834491729736, Accuracy: 76.82926829268293%, Precision: 78.68852459016394%, Recall: 88.88888888888889%, F1 Score: 83.47826086956522%, AUC: 83.73015873015873%\n",
      "Epoch 42/50, Loss: 7.866919789995466\n",
      "Validation started\n",
      "Validation Loss: 8.022038078308105, Accuracy: 76.82926829268293%, Precision: 78.68852459016394%, Recall: 88.88888888888889%, F1 Score: 83.47826086956522%, AUC: 83.73015873015873%\n",
      "Epoch 43/50, Loss: 7.876248359680176\n",
      "Validation started\n",
      "Validation Loss: 8.021286487579346, Accuracy: 76.82926829268293%, Precision: 78.68852459016394%, Recall: 88.88888888888889%, F1 Score: 83.47826086956522%, AUC: 83.79629629629629%\n",
      "Epoch 44/50, Loss: 7.852860723223005\n",
      "Validation started\n",
      "Validation Loss: 8.020562076568604, Accuracy: 76.82926829268293%, Precision: 78.68852459016394%, Recall: 88.88888888888889%, F1 Score: 83.47826086956522%, AUC: 83.86243386243387%\n",
      "Epoch 45/50, Loss: 7.849307945796421\n",
      "Validation started\n",
      "Validation Loss: 8.019850921630859, Accuracy: 76.82926829268293%, Precision: 78.68852459016394%, Recall: 88.88888888888889%, F1 Score: 83.47826086956522%, AUC: 83.86243386243387%\n",
      "Epoch 46/50, Loss: 7.8784158911023825\n",
      "Validation started\n",
      "Validation Loss: 8.019162845611572, Accuracy: 76.82926829268293%, Precision: 78.68852459016394%, Recall: 88.88888888888889%, F1 Score: 83.47826086956522%, AUC: 83.92857142857143%\n",
      "Epoch 47/50, Loss: 7.864439623696463\n",
      "Validation started\n",
      "Validation Loss: 8.018519973754882, Accuracy: 76.82926829268293%, Precision: 78.68852459016394%, Recall: 88.88888888888889%, F1 Score: 83.47826086956522%, AUC: 83.92857142857143%\n",
      "Epoch 48/50, Loss: 7.861908197402954\n",
      "Validation started\n",
      "Validation Loss: 8.01791524887085, Accuracy: 76.82926829268293%, Precision: 78.68852459016394%, Recall: 88.88888888888889%, F1 Score: 83.47826086956522%, AUC: 83.99470899470899%\n",
      "Epoch 49/50, Loss: 7.85613431249346\n",
      "Validation started\n",
      "Validation Loss: 8.01736364364624, Accuracy: 76.82926829268293%, Precision: 78.68852459016394%, Recall: 88.88888888888889%, F1 Score: 83.47826086956522%, AUC: 84.06084656084656%\n",
      "Epoch 50/50, Loss: 7.826717240469796\n",
      "Validation started\n",
      "Validation Loss: 8.016778182983398, Accuracy: 76.82926829268293%, Precision: 78.68852459016394%, Recall: 88.88888888888889%, F1 Score: 83.47826086956522%, AUC: 84.12698412698413%\n",
      "Fine-tuning completed.\n",
      "Epoch 1/50, Loss: 4.3001938206808905\n",
      "Validation started\n",
      "Validation Loss: 4.305187702178955, Accuracy: 68.29268292682927%, Precision: 76.92307692307693%, Recall: 74.07407407407408%, F1 Score: 75.47169811320755%, AUC: 69.51058201058201%\n"
     ]
    },
    {
     "name": "stderr",
     "output_type": "stream",
     "text": [
      "/home/leilapirhaji/mz_embed_engine/ml/finetune/freez_encoder_latent_avg.py:370: FutureWarning:\n",
      "\n",
      "The behavior of DataFrame concatenation with empty or all-NA entries is deprecated. In a future version, this will no longer exclude empty or all-NA columns when determining the result dtypes. To retain the old behavior, exclude the relevant entries before the concat operation.\n",
      "\n"
     ]
    },
    {
     "name": "stdout",
     "output_type": "stream",
     "text": [
      "Epoch 2/50, Loss: 4.305664539337158\n",
      "Validation started\n",
      "Validation Loss: 4.298607921600341, Accuracy: 73.17073170731707%, Precision: 78.57142857142857%, Recall: 81.48148148148148%, F1 Score: 80.0%, AUC: 70.5026455026455%\n",
      "Epoch 3/50, Loss: 4.278271130153111\n",
      "Validation started\n",
      "Validation Loss: 4.292176532745361, Accuracy: 75.60975609756098%, Precision: 79.3103448275862%, Recall: 85.18518518518519%, F1 Score: 82.14285714285714%, AUC: 71.2962962962963%\n",
      "Epoch 4/50, Loss: 4.325522116252354\n",
      "Validation started\n",
      "Validation Loss: 4.286318302154541, Accuracy: 78.04878048780488%, Precision: 80.0%, Recall: 88.88888888888889%, F1 Score: 84.21052631578947%, AUC: 71.42857142857143%\n",
      "Epoch 5/50, Loss: 4.265849794660296\n",
      "Validation started\n",
      "Validation Loss: 4.28071174621582, Accuracy: 80.48780487804879%, Precision: 80.64516129032258%, Recall: 92.5925925925926%, F1 Score: 86.20689655172413%, AUC: 71.75925925925927%\n",
      "Epoch 6/50, Loss: 4.274761506489345\n",
      "Validation started\n",
      "Validation Loss: 4.275558948516846, Accuracy: 80.48780487804879%, Precision: 80.64516129032258%, Recall: 92.5925925925926%, F1 Score: 86.20689655172413%, AUC: 72.28835978835978%\n",
      "Epoch 7/50, Loss: 4.284287554877145\n",
      "Validation started\n",
      "Validation Loss: 4.270289516448974, Accuracy: 81.70731707317073%, Precision: 80.95238095238095%, Recall: 94.44444444444444%, F1 Score: 87.17948717948718%, AUC: 73.01587301587301%\n",
      "Epoch 8/50, Loss: 4.280547686985561\n",
      "Validation started\n",
      "Validation Loss: 4.265263652801513, Accuracy: 81.70731707317073%, Precision: 80.95238095238095%, Recall: 94.44444444444444%, F1 Score: 87.17948717948718%, AUC: 73.61111111111111%\n",
      "Epoch 9/50, Loss: 4.196894747870309\n",
      "Validation started\n",
      "Validation Loss: 4.260666084289551, Accuracy: 81.70731707317073%, Precision: 80.95238095238095%, Recall: 94.44444444444444%, F1 Score: 87.17948717948718%, AUC: 74.40476190476191%\n",
      "Epoch 10/50, Loss: 4.234273774283273\n",
      "Validation started\n",
      "Validation Loss: 4.256241130828857, Accuracy: 81.70731707317073%, Precision: 80.95238095238095%, Recall: 94.44444444444444%, F1 Score: 87.17948717948718%, AUC: 74.93386243386243%\n",
      "Epoch 11/50, Loss: 4.218428543635777\n",
      "Validation started\n",
      "Validation Loss: 4.252072048187256, Accuracy: 81.70731707317073%, Precision: 80.95238095238095%, Recall: 94.44444444444444%, F1 Score: 87.17948717948718%, AUC: 75.33068783068784%\n",
      "Epoch 12/50, Loss: 4.236789396830967\n",
      "Validation started\n",
      "Validation Loss: 4.248244190216065, Accuracy: 81.70731707317073%, Precision: 80.95238095238095%, Recall: 94.44444444444444%, F1 Score: 87.17948717948718%, AUC: 75.92592592592592%\n",
      "Epoch 13/50, Loss: 4.225981746401105\n",
      "Validation started\n",
      "Validation Loss: 4.244399738311768, Accuracy: 81.70731707317073%, Precision: 80.95238095238095%, Recall: 94.44444444444444%, F1 Score: 87.17948717948718%, AUC: 76.32275132275133%\n",
      "Epoch 14/50, Loss: 4.199802432741437\n",
      "Validation started\n",
      "Validation Loss: 4.2408191680908205, Accuracy: 81.70731707317073%, Precision: 80.95238095238095%, Recall: 94.44444444444444%, F1 Score: 87.17948717948718%, AUC: 76.71957671957672%\n",
      "Epoch 15/50, Loss: 4.231328248977661\n",
      "Validation started\n",
      "Validation Loss: 4.237233638763428, Accuracy: 80.48780487804879%, Precision: 79.6875%, Recall: 94.44444444444444%, F1 Score: 86.4406779661017%, AUC: 76.85185185185185%\n",
      "Epoch 16/50, Loss: 4.166681153433664\n",
      "Validation started\n",
      "Validation Loss: 4.233805847167969, Accuracy: 80.48780487804879%, Precision: 79.6875%, Recall: 94.44444444444444%, F1 Score: 86.4406779661017%, AUC: 77.24867724867725%\n",
      "Epoch 17/50, Loss: 4.18733412878854\n",
      "Validation started\n",
      "Validation Loss: 4.230721092224121, Accuracy: 80.48780487804879%, Precision: 79.6875%, Recall: 94.44444444444444%, F1 Score: 86.4406779661017%, AUC: 77.57936507936508%\n",
      "Epoch 18/50, Loss: 4.191923924854824\n",
      "Validation started\n",
      "Validation Loss: 4.227779674530029, Accuracy: 80.48780487804879%, Precision: 79.6875%, Recall: 94.44444444444444%, F1 Score: 86.4406779661017%, AUC: 77.77777777777779%\n",
      "Epoch 19/50, Loss: 4.196933712278094\n",
      "Validation started\n",
      "Validation Loss: 4.224783134460449, Accuracy: 80.48780487804879%, Precision: 79.6875%, Recall: 94.44444444444444%, F1 Score: 86.4406779661017%, AUC: 78.10846560846562%\n",
      "Epoch 20/50, Loss: 4.168557030814035\n",
      "Validation started\n",
      "Validation Loss: 4.2220025062561035, Accuracy: 80.48780487804879%, Precision: 79.6875%, Recall: 94.44444444444444%, F1 Score: 86.4406779661017%, AUC: 78.43915343915344%\n",
      "Epoch 21/50, Loss: 4.150394235338483\n",
      "Validation started\n",
      "Validation Loss: 4.2193890571594235, Accuracy: 80.48780487804879%, Precision: 79.6875%, Recall: 94.44444444444444%, F1 Score: 86.4406779661017%, AUC: 78.50529100529101%\n",
      "Epoch 22/50, Loss: 4.141312224524362\n",
      "Validation started\n",
      "Validation Loss: 4.216944408416748, Accuracy: 80.48780487804879%, Precision: 79.6875%, Recall: 94.44444444444444%, F1 Score: 86.4406779661017%, AUC: 78.43915343915344%\n",
      "Epoch 23/50, Loss: 4.133826392037528\n",
      "Validation started\n",
      "Validation Loss: 4.214475154876709, Accuracy: 80.48780487804879%, Precision: 79.6875%, Recall: 94.44444444444444%, F1 Score: 86.4406779661017%, AUC: 78.43915343915344%\n",
      "Epoch 24/50, Loss: 4.181852953774588\n",
      "Validation started\n",
      "Validation Loss: 4.212040138244629, Accuracy: 80.48780487804879%, Precision: 79.6875%, Recall: 94.44444444444444%, F1 Score: 86.4406779661017%, AUC: 78.505291005291%\n",
      "Epoch 25/50, Loss: 4.161265884126935\n",
      "Validation started\n",
      "Validation Loss: 4.209549903869629, Accuracy: 80.48780487804879%, Precision: 79.6875%, Recall: 94.44444444444444%, F1 Score: 86.4406779661017%, AUC: 78.63756613756614%\n",
      "Epoch 26/50, Loss: 4.110384328024728\n",
      "Validation started\n",
      "Validation Loss: 4.207285404205322, Accuracy: 80.48780487804879%, Precision: 79.6875%, Recall: 94.44444444444444%, F1 Score: 86.4406779661017%, AUC: 78.76984126984127%\n",
      "Epoch 27/50, Loss: 4.156675270625523\n",
      "Validation started\n",
      "Validation Loss: 4.20503978729248, Accuracy: 80.48780487804879%, Precision: 79.6875%, Recall: 94.44444444444444%, F1 Score: 86.4406779661017%, AUC: 79.10052910052909%\n",
      "Epoch 28/50, Loss: 4.159599031720843\n",
      "Validation started\n",
      "Validation Loss: 4.202945327758789, Accuracy: 80.48780487804879%, Precision: 79.6875%, Recall: 94.44444444444444%, F1 Score: 86.4406779661017%, AUC: 79.16666666666666%\n",
      "Epoch 29/50, Loss: 4.143021277018955\n",
      "Validation started\n",
      "Validation Loss: 4.200838184356689, Accuracy: 80.48780487804879%, Precision: 79.6875%, Recall: 94.44444444444444%, F1 Score: 86.4406779661017%, AUC: 79.23280423280423%\n",
      "Epoch 30/50, Loss: 4.0843872002192905\n",
      "Validation started\n",
      "Validation Loss: 4.19890775680542, Accuracy: 80.48780487804879%, Precision: 79.6875%, Recall: 94.44444444444444%, F1 Score: 86.4406779661017%, AUC: 79.36507936507937%\n",
      "Epoch 31/50, Loss: 4.096593243735177\n",
      "Validation started\n",
      "Validation Loss: 4.197071647644043, Accuracy: 80.48780487804879%, Precision: 79.6875%, Recall: 94.44444444444444%, F1 Score: 86.4406779661017%, AUC: 79.4973544973545%\n",
      "Epoch 32/50, Loss: 4.124472107206072\n",
      "Validation started\n",
      "Validation Loss: 4.195266819000244, Accuracy: 80.48780487804879%, Precision: 79.6875%, Recall: 94.44444444444444%, F1 Score: 86.4406779661017%, AUC: 79.62962962962963%\n",
      "Epoch 33/50, Loss: 4.145257915769305\n",
      "Validation started\n",
      "Validation Loss: 4.193464469909668, Accuracy: 80.48780487804879%, Precision: 79.6875%, Recall: 94.44444444444444%, F1 Score: 86.4406779661017%, AUC: 79.62962962962963%\n",
      "Epoch 34/50, Loss: 4.13120082446507\n",
      "Validation started\n",
      "Validation Loss: 4.191661262512207, Accuracy: 80.48780487804879%, Precision: 79.6875%, Recall: 94.44444444444444%, F1 Score: 86.4406779661017%, AUC: 79.82804232804233%\n",
      "Epoch 35/50, Loss: 4.127276693071638\n",
      "Validation started\n",
      "Validation Loss: 4.1899947166442875, Accuracy: 80.48780487804879%, Precision: 79.6875%, Recall: 94.44444444444444%, F1 Score: 86.4406779661017%, AUC: 79.8941798941799%\n",
      "Epoch 36/50, Loss: 4.087658200945173\n",
      "Validation started\n",
      "Validation Loss: 4.1883344650268555, Accuracy: 80.48780487804879%, Precision: 79.6875%, Recall: 94.44444444444444%, F1 Score: 86.4406779661017%, AUC: 80.02645502645503%\n",
      "Epoch 37/50, Loss: 4.0609662021909445\n",
      "Validation started\n",
      "Validation Loss: 4.186798763275147, Accuracy: 80.48780487804879%, Precision: 79.6875%, Recall: 94.44444444444444%, F1 Score: 86.4406779661017%, AUC: 80.0925925925926%\n",
      "Epoch 38/50, Loss: 4.065707870892116\n",
      "Validation started\n",
      "Validation Loss: 4.1853766441345215, Accuracy: 80.48780487804879%, Precision: 79.6875%, Recall: 94.44444444444444%, F1 Score: 86.4406779661017%, AUC: 80.15873015873017%\n",
      "Epoch 39/50, Loss: 4.086348465510777\n",
      "Validation started\n",
      "Validation Loss: 4.183851718902588, Accuracy: 80.48780487804879%, Precision: 79.6875%, Recall: 94.44444444444444%, F1 Score: 86.4406779661017%, AUC: 80.29100529100529%\n",
      "Epoch 40/50, Loss: 4.080551777567182\n",
      "Validation started\n",
      "Validation Loss: 4.182390022277832, Accuracy: 80.48780487804879%, Precision: 79.6875%, Recall: 94.44444444444444%, F1 Score: 86.4406779661017%, AUC: 80.29100529100529%\n",
      "Epoch 41/50, Loss: 4.053267087255206\n",
      "Validation started\n",
      "Validation Loss: 4.180973052978516, Accuracy: 80.48780487804879%, Precision: 79.6875%, Recall: 94.44444444444444%, F1 Score: 86.4406779661017%, AUC: 80.35714285714285%\n",
      "Epoch 42/50, Loss: 4.066724930490766\n",
      "Validation started\n",
      "Validation Loss: 4.179619693756104, Accuracy: 80.48780487804879%, Precision: 79.6875%, Recall: 94.44444444444444%, F1 Score: 86.4406779661017%, AUC: 80.35714285714285%\n",
      "Epoch 43/50, Loss: 4.074614269392831\n",
      "Validation started\n",
      "Validation Loss: 4.178354930877686, Accuracy: 80.48780487804879%, Precision: 79.6875%, Recall: 94.44444444444444%, F1 Score: 86.4406779661017%, AUC: 80.42328042328042%\n",
      "Epoch 44/50, Loss: 4.054493563515799\n",
      "Validation started\n",
      "Validation Loss: 4.177144336700439, Accuracy: 80.48780487804879%, Precision: 79.6875%, Recall: 94.44444444444444%, F1 Score: 86.4406779661017%, AUC: 80.62169312169311%\n",
      "Epoch 45/50, Loss: 4.031318511281695\n",
      "Validation started\n",
      "Validation Loss: 4.175947475433349, Accuracy: 80.48780487804879%, Precision: 79.6875%, Recall: 94.44444444444444%, F1 Score: 86.4406779661017%, AUC: 80.75396825396825%\n",
      "Epoch 46/50, Loss: 4.061141695295062\n",
      "Validation started\n",
      "Validation Loss: 4.174714469909668, Accuracy: 80.48780487804879%, Precision: 79.6875%, Recall: 94.44444444444444%, F1 Score: 86.4406779661017%, AUC: 80.82010582010581%\n",
      "Epoch 47/50, Loss: 4.069998230252947\n",
      "Validation started\n",
      "Validation Loss: 4.173570156097412, Accuracy: 80.48780487804879%, Precision: 79.6875%, Recall: 94.44444444444444%, F1 Score: 86.4406779661017%, AUC: 80.82010582010581%\n",
      "Epoch 48/50, Loss: 4.052291597638812\n",
      "Validation started\n",
      "Validation Loss: 4.17250919342041, Accuracy: 80.48780487804879%, Precision: 79.6875%, Recall: 94.44444444444444%, F1 Score: 86.4406779661017%, AUC: 80.82010582010581%\n",
      "Epoch 49/50, Loss: 4.042290040424892\n",
      "Validation started\n",
      "Validation Loss: 4.171444940567016, Accuracy: 80.48780487804879%, Precision: 79.6875%, Recall: 94.44444444444444%, F1 Score: 86.4406779661017%, AUC: 80.82010582010581%\n",
      "Epoch 50/50, Loss: 4.0155272994722635\n",
      "Validation started\n",
      "Validation Loss: 4.170422458648682, Accuracy: 80.48780487804879%, Precision: 79.6875%, Recall: 94.44444444444444%, F1 Score: 86.4406779661017%, AUC: 80.88624338624338%\n",
      "Fine-tuning completed.\n"
     ]
    },
    {
     "name": "stderr",
     "output_type": "stream",
     "text": [
      "[I 2024-09-17 03:18:54,886] Trial 5 finished with value: 84.12698412698413 and parameters: {'add_post_latent_layers': True, 'post_latent_layer_size': 32, 'num_layers_to_retrain': 1, 'batch_size': 32, 'learning_rate': 1.5108451779214608e-06, 'dropout': 0.34813535287067227, 'l1_reg_weight': 0.00022852668416832085, 'l2_reg_weight': 0.00036999247729508364}. Best is trial 1 with value: 88.75661375661376.\n",
      "/home/leilapirhaji/mz_embed_engine/ml/finetune/retrain_finetune_VAE.py:143: FutureWarning:\n",
      "\n",
      "suggest_loguniform has been deprecated in v3.0.0. This feature will be removed in v6.0.0. See https://github.com/optuna/optuna/releases/tag/v3.0.0. Use suggest_float(..., log=True) instead.\n",
      "\n",
      "/home/leilapirhaji/mz_embed_engine/ml/finetune/retrain_finetune_VAE.py:144: FutureWarning:\n",
      "\n",
      "suggest_uniform has been deprecated in v3.0.0. This feature will be removed in v6.0.0. See https://github.com/optuna/optuna/releases/tag/v3.0.0. Use suggest_float instead.\n",
      "\n",
      "/home/leilapirhaji/mz_embed_engine/ml/finetune/retrain_finetune_VAE.py:145: FutureWarning:\n",
      "\n",
      "suggest_loguniform has been deprecated in v3.0.0. This feature will be removed in v6.0.0. See https://github.com/optuna/optuna/releases/tag/v3.0.0. Use suggest_float(..., log=True) instead.\n",
      "\n",
      "/home/leilapirhaji/mz_embed_engine/ml/finetune/retrain_finetune_VAE.py:146: FutureWarning:\n",
      "\n",
      "suggest_loguniform has been deprecated in v3.0.0. This feature will be removed in v6.0.0. See https://github.com/optuna/optuna/releases/tag/v3.0.0. Use suggest_float(..., log=True) instead.\n",
      "\n",
      "/home/leilapirhaji/mz_embed_engine/ml/finetune/freez_encoder_latent_avg.py:370: FutureWarning:\n",
      "\n",
      "The behavior of DataFrame concatenation with empty or all-NA entries is deprecated. In a future version, this will no longer exclude empty or all-NA columns when determining the result dtypes. To retain the old behavior, exclude the relevant entries before the concat operation.\n",
      "\n"
     ]
    },
    {
     "name": "stdout",
     "output_type": "stream",
     "text": [
      "Epoch 1/50, Loss: 12.227783611842565\n",
      "Validation started\n",
      "Validation Loss: 12.231986618041992, Accuracy: 76.82926829268293%, Precision: 74.64788732394366%, Recall: 98.14814814814815%, F1 Score: 84.8%, AUC: 88.29365079365078%\n",
      "Epoch 2/50, Loss: 12.132390907832555\n",
      "Validation started\n",
      "Validation Loss: 12.188681602478027, Accuracy: 81.70731707317073%, Precision: 79.1044776119403%, Recall: 98.14814814814815%, F1 Score: 87.60330578512396%, AUC: 88.35978835978835%\n",
      "Epoch 3/50, Loss: 12.066603183746338\n",
      "Validation started\n",
      "Validation Loss: 12.15890121459961, Accuracy: 78.04878048780488%, Precision: 79.03225806451613%, Recall: 90.74074074074075%, F1 Score: 84.48275862068965%, AUC: 88.42592592592592%\n",
      "Epoch 4/50, Loss: 12.009604454040527\n",
      "Validation started\n",
      "Validation Loss: 12.139749336242676, Accuracy: 76.82926829268293%, Precision: 78.68852459016394%, Recall: 88.88888888888889%, F1 Score: 83.47826086956522%, AUC: 88.4920634920635%\n",
      "Epoch 5/50, Loss: 11.981347288404192\n",
      "Validation started\n",
      "Validation Loss: 12.125046730041504, Accuracy: 78.04878048780488%, Precision: 80.0%, Recall: 88.88888888888889%, F1 Score: 84.21052631578947%, AUC: 88.35978835978835%\n",
      "Epoch 6/50, Loss: 11.925875050680977\n",
      "Validation started\n",
      "Validation Loss: 12.115824508666993, Accuracy: 79.26829268292683%, Precision: 81.35593220338984%, Recall: 88.88888888888889%, F1 Score: 84.95575221238938%, AUC: 88.35978835978835%\n",
      "Epoch 7/50, Loss: 11.904562745775495\n",
      "Validation started\n",
      "Validation Loss: 12.108645629882812, Accuracy: 79.26829268292683%, Precision: 81.35593220338984%, Recall: 88.88888888888889%, F1 Score: 84.95575221238938%, AUC: 88.35978835978835%\n",
      "Epoch 8/50, Loss: 11.88161734172276\n",
      "Validation started\n",
      "Validation Loss: 12.103525161743164, Accuracy: 79.26829268292683%, Precision: 81.35593220338984%, Recall: 88.88888888888889%, F1 Score: 84.95575221238938%, AUC: 88.22751322751323%\n",
      "Epoch 9/50, Loss: 11.85884141921997\n",
      "Validation started\n",
      "Early stopping triggered at epoch 9\n",
      "Fine-tuning completed.\n",
      "Epoch 1/50, Loss: 6.270847354616437\n",
      "Validation started\n",
      "Validation Loss: 6.2961712837219235, Accuracy: 75.60975609756098%, Precision: 73.61111111111111%, Recall: 98.14814814814815%, F1 Score: 84.12698412698413%, AUC: 84.92063492063492%\n",
      "Epoch 2/50, Loss: 6.184422969818115\n",
      "Validation started\n"
     ]
    },
    {
     "name": "stderr",
     "output_type": "stream",
     "text": [
      "/home/leilapirhaji/mz_embed_engine/ml/finetune/freez_encoder_latent_avg.py:370: FutureWarning:\n",
      "\n",
      "The behavior of DataFrame concatenation with empty or all-NA entries is deprecated. In a future version, this will no longer exclude empty or all-NA columns when determining the result dtypes. To retain the old behavior, exclude the relevant entries before the concat operation.\n",
      "\n"
     ]
    },
    {
     "name": "stdout",
     "output_type": "stream",
     "text": [
      "Validation Loss: 6.262297344207764, Accuracy: 80.48780487804879%, Precision: 78.78787878787878%, Recall: 96.29629629629629%, F1 Score: 86.66666666666667%, AUC: 84.78835978835978%\n",
      "Epoch 3/50, Loss: 6.127472264426095\n",
      "Validation started\n",
      "Validation Loss: 6.239063358306884, Accuracy: 81.70731707317073%, Precision: 80.95238095238095%, Recall: 94.44444444444444%, F1 Score: 87.17948717948718%, AUC: 84.78835978835978%\n",
      "Epoch 4/50, Loss: 6.080067123685565\n",
      "Validation started\n",
      "Validation Loss: 6.226485252380371, Accuracy: 80.48780487804879%, Precision: 80.64516129032258%, Recall: 92.5925925925926%, F1 Score: 86.20689655172413%, AUC: 84.65608465608466%\n",
      "Epoch 5/50, Loss: 6.055658510753086\n",
      "Validation started\n",
      "Validation Loss: 6.217797946929932, Accuracy: 80.48780487804879%, Precision: 81.66666666666667%, Recall: 90.74074074074075%, F1 Score: 85.96491228070175%, AUC: 84.72222222222223%\n",
      "Epoch 6/50, Loss: 6.004492657525199\n",
      "Validation started\n",
      "Early stopping triggered at epoch 6\n",
      "Fine-tuning completed.\n"
     ]
    },
    {
     "name": "stderr",
     "output_type": "stream",
     "text": [
      "[I 2024-09-17 03:18:57,773] Trial 6 finished with value: 88.22751322751323 and parameters: {'add_post_latent_layers': True, 'post_latent_layer_size': 64, 'num_layers_to_retrain': 1, 'batch_size': 32, 'learning_rate': 1.6330606596453126e-05, 'dropout': 0.23944738615158162, 'l1_reg_weight': 0.00034997692446661307, 'l2_reg_weight': 8.98128589068483e-06}. Best is trial 1 with value: 88.75661375661376.\n",
      "/home/leilapirhaji/mz_embed_engine/ml/finetune/retrain_finetune_VAE.py:143: FutureWarning:\n",
      "\n",
      "suggest_loguniform has been deprecated in v3.0.0. This feature will be removed in v6.0.0. See https://github.com/optuna/optuna/releases/tag/v3.0.0. Use suggest_float(..., log=True) instead.\n",
      "\n",
      "/home/leilapirhaji/mz_embed_engine/ml/finetune/retrain_finetune_VAE.py:144: FutureWarning:\n",
      "\n",
      "suggest_uniform has been deprecated in v3.0.0. This feature will be removed in v6.0.0. See https://github.com/optuna/optuna/releases/tag/v3.0.0. Use suggest_float instead.\n",
      "\n",
      "/home/leilapirhaji/mz_embed_engine/ml/finetune/retrain_finetune_VAE.py:145: FutureWarning:\n",
      "\n",
      "suggest_loguniform has been deprecated in v3.0.0. This feature will be removed in v6.0.0. See https://github.com/optuna/optuna/releases/tag/v3.0.0. Use suggest_float(..., log=True) instead.\n",
      "\n",
      "/home/leilapirhaji/mz_embed_engine/ml/finetune/retrain_finetune_VAE.py:146: FutureWarning:\n",
      "\n",
      "suggest_loguniform has been deprecated in v3.0.0. This feature will be removed in v6.0.0. See https://github.com/optuna/optuna/releases/tag/v3.0.0. Use suggest_float(..., log=True) instead.\n",
      "\n",
      "/home/leilapirhaji/mz_embed_engine/ml/finetune/freez_encoder_latent_avg.py:370: FutureWarning:\n",
      "\n",
      "The behavior of DataFrame concatenation with empty or all-NA entries is deprecated. In a future version, this will no longer exclude empty or all-NA columns when determining the result dtypes. To retain the old behavior, exclude the relevant entries before the concat operation.\n",
      "\n"
     ]
    },
    {
     "name": "stdout",
     "output_type": "stream",
     "text": [
      "Epoch 1/50, Loss: 2.803970558302743\n",
      "Validation started\n",
      "Validation Loss: 3.5753780364990235, Accuracy: 81.70731707317073%, Precision: 84.21052631578947%, Recall: 88.88888888888889%, F1 Score: 86.48648648648648%, AUC: 88.62433862433863%\n",
      "Epoch 2/50, Loss: 2.803566183362688\n",
      "Validation started\n",
      "Validation Loss: 3.5742637157440185, Accuracy: 81.70731707317073%, Precision: 84.21052631578947%, Recall: 88.88888888888889%, F1 Score: 86.48648648648648%, AUC: 88.62433862433863%\n",
      "Epoch 3/50, Loss: 2.803251096180507\n",
      "Validation started\n",
      "Validation Loss: 3.5732813358306883, Accuracy: 81.70731707317073%, Precision: 84.21052631578947%, Recall: 88.88888888888889%, F1 Score: 86.48648648648648%, AUC: 88.62433862433863%\n",
      "Epoch 4/50, Loss: 2.8029705286026\n",
      "Validation started\n",
      "Validation Loss: 3.572334623336792, Accuracy: 81.70731707317073%, Precision: 84.21052631578947%, Recall: 88.88888888888889%, F1 Score: 86.48648648648648%, AUC: 88.62433862433862%\n",
      "Epoch 5/50, Loss: 2.802356004714966\n",
      "Validation started\n",
      "Validation Loss: 3.571379232406616, Accuracy: 81.70731707317073%, Precision: 84.21052631578947%, Recall: 88.88888888888889%, F1 Score: 86.48648648648648%, AUC: 88.62433862433863%\n",
      "Epoch 6/50, Loss: 2.8022707189832414\n",
      "Validation started\n",
      "Early stopping triggered at epoch 6\n",
      "Fine-tuning completed.\n",
      "Epoch 1/50, Loss: 1.3558905124664307\n",
      "Validation started\n",
      "Validation Loss: 2.199996995925903, Accuracy: 78.04878048780488%, Precision: 82.14285714285714%, Recall: 85.18518518518519%, F1 Score: 83.63636363636363%, AUC: 85.11904761904762%\n",
      "Epoch 2/50, Loss: 1.3560475707054138\n",
      "Validation started\n"
     ]
    },
    {
     "name": "stderr",
     "output_type": "stream",
     "text": [
      "/home/leilapirhaji/mz_embed_engine/ml/finetune/freez_encoder_latent_avg.py:370: FutureWarning:\n",
      "\n",
      "The behavior of DataFrame concatenation with empty or all-NA entries is deprecated. In a future version, this will no longer exclude empty or all-NA columns when determining the result dtypes. To retain the old behavior, exclude the relevant entries before the concat operation.\n",
      "\n"
     ]
    },
    {
     "name": "stdout",
     "output_type": "stream",
     "text": [
      "Validation Loss: 2.19926118850708, Accuracy: 78.04878048780488%, Precision: 82.14285714285714%, Recall: 85.18518518518519%, F1 Score: 83.63636363636363%, AUC: 85.11904761904762%\n",
      "Epoch 3/50, Loss: 1.3560413547924586\n",
      "Validation started\n",
      "Validation Loss: 2.198582124710083, Accuracy: 78.04878048780488%, Precision: 82.14285714285714%, Recall: 85.18518518518519%, F1 Score: 83.63636363636363%, AUC: 85.11904761904762%\n",
      "Epoch 4/50, Loss: 1.3553065657615662\n",
      "Validation started\n",
      "Validation Loss: 2.1979034423828123, Accuracy: 78.04878048780488%, Precision: 82.14285714285714%, Recall: 85.18518518518519%, F1 Score: 83.63636363636363%, AUC: 85.11904761904762%\n",
      "Epoch 5/50, Loss: 1.355427392891475\n",
      "Validation started\n",
      "Validation Loss: 2.197255182266235, Accuracy: 78.04878048780488%, Precision: 82.14285714285714%, Recall: 85.18518518518519%, F1 Score: 83.63636363636363%, AUC: 85.11904761904762%\n",
      "Epoch 6/50, Loss: 1.3550134216036116\n",
      "Validation started\n",
      "Early stopping triggered at epoch 6\n",
      "Fine-tuning completed.\n"
     ]
    },
    {
     "name": "stderr",
     "output_type": "stream",
     "text": [
      "[I 2024-09-17 03:19:00,055] Trial 7 finished with value: 88.62433862433863 and parameters: {'add_post_latent_layers': False, 'num_layers_to_retrain': 1, 'batch_size': 32, 'learning_rate': 1.3656267509370282e-06, 'dropout': 0.3695000024410062, 'l1_reg_weight': 8.554098359507645e-05, 'l2_reg_weight': 8.909919455003458e-07}. Best is trial 1 with value: 88.75661375661376.\n",
      "/home/leilapirhaji/mz_embed_engine/ml/finetune/retrain_finetune_VAE.py:143: FutureWarning:\n",
      "\n",
      "suggest_loguniform has been deprecated in v3.0.0. This feature will be removed in v6.0.0. See https://github.com/optuna/optuna/releases/tag/v3.0.0. Use suggest_float(..., log=True) instead.\n",
      "\n",
      "/home/leilapirhaji/mz_embed_engine/ml/finetune/retrain_finetune_VAE.py:144: FutureWarning:\n",
      "\n",
      "suggest_uniform has been deprecated in v3.0.0. This feature will be removed in v6.0.0. See https://github.com/optuna/optuna/releases/tag/v3.0.0. Use suggest_float instead.\n",
      "\n",
      "/home/leilapirhaji/mz_embed_engine/ml/finetune/retrain_finetune_VAE.py:145: FutureWarning:\n",
      "\n",
      "suggest_loguniform has been deprecated in v3.0.0. This feature will be removed in v6.0.0. See https://github.com/optuna/optuna/releases/tag/v3.0.0. Use suggest_float(..., log=True) instead.\n",
      "\n",
      "/home/leilapirhaji/mz_embed_engine/ml/finetune/retrain_finetune_VAE.py:146: FutureWarning:\n",
      "\n",
      "suggest_loguniform has been deprecated in v3.0.0. This feature will be removed in v6.0.0. See https://github.com/optuna/optuna/releases/tag/v3.0.0. Use suggest_float(..., log=True) instead.\n",
      "\n",
      "/home/leilapirhaji/mz_embed_engine/ml/finetune/freez_encoder_latent_avg.py:370: FutureWarning:\n",
      "\n",
      "The behavior of DataFrame concatenation with empty or all-NA entries is deprecated. In a future version, this will no longer exclude empty or all-NA columns when determining the result dtypes. To retain the old behavior, exclude the relevant entries before the concat operation.\n",
      "\n"
     ]
    },
    {
     "name": "stdout",
     "output_type": "stream",
     "text": [
      "Epoch 1/50, Loss: 27.06459849221366\n",
      "Validation started\n",
      "Validation Loss: 27.822483825683594, Accuracy: 81.70731707317073%, Precision: 84.21052631578947%, Recall: 88.88888888888889%, F1 Score: 86.48648648648648%, AUC: 88.62433862433863%\n",
      "Epoch 2/50, Loss: 27.055116244724818\n",
      "Validation started\n",
      "Validation Loss: 27.810046005249024, Accuracy: 81.70731707317073%, Precision: 84.21052631578947%, Recall: 88.88888888888889%, F1 Score: 86.48648648648648%, AUC: 88.62433862433863%\n",
      "Epoch 3/50, Loss: 27.046363285609655\n",
      "Validation started\n",
      "Validation Loss: 27.798286056518556, Accuracy: 81.70731707317073%, Precision: 84.21052631578947%, Recall: 88.88888888888889%, F1 Score: 86.48648648648648%, AUC: 88.62433862433863%\n",
      "Epoch 4/50, Loss: 27.03787694658552\n",
      "Validation started\n",
      "Validation Loss: 27.786719512939452, Accuracy: 81.70731707317073%, Precision: 84.21052631578947%, Recall: 88.88888888888889%, F1 Score: 86.48648648648648%, AUC: 88.62433862433863%\n",
      "Epoch 5/50, Loss: 27.029270580836705\n",
      "Validation started\n",
      "Validation Loss: 27.775508880615234, Accuracy: 81.70731707317073%, Precision: 84.21052631578947%, Recall: 88.88888888888889%, F1 Score: 86.48648648648648%, AUC: 88.62433862433863%\n",
      "Epoch 6/50, Loss: 27.02155808040074\n",
      "Validation started\n",
      "Early stopping triggered at epoch 6\n",
      "Fine-tuning completed.\n",
      "Epoch 1/50, Loss: 13.06843342099871\n",
      "Validation started\n",
      "Validation Loss: 13.902272605895996, Accuracy: 78.04878048780488%, Precision: 82.14285714285714%, Recall: 85.18518518518519%, F1 Score: 83.63636363636363%, AUC: 85.18518518518519%\n",
      "Epoch 2/50, Loss: 13.062461308070592\n",
      "Validation started\n"
     ]
    },
    {
     "name": "stderr",
     "output_type": "stream",
     "text": [
      "/home/leilapirhaji/mz_embed_engine/ml/finetune/freez_encoder_latent_avg.py:370: FutureWarning:\n",
      "\n",
      "The behavior of DataFrame concatenation with empty or all-NA entries is deprecated. In a future version, this will no longer exclude empty or all-NA columns when determining the result dtypes. To retain the old behavior, exclude the relevant entries before the concat operation.\n",
      "\n"
     ]
    },
    {
     "name": "stdout",
     "output_type": "stream",
     "text": [
      "Validation Loss: 13.893939971923828, Accuracy: 78.04878048780488%, Precision: 82.14285714285714%, Recall: 85.18518518518519%, F1 Score: 83.63636363636363%, AUC: 85.11904761904762%\n",
      "Epoch 3/50, Loss: 13.056805610656738\n",
      "Validation started\n",
      "Validation Loss: 13.885719299316406, Accuracy: 78.04878048780488%, Precision: 82.14285714285714%, Recall: 85.18518518518519%, F1 Score: 83.63636363636363%, AUC: 85.11904761904762%\n",
      "Epoch 4/50, Loss: 13.050407886505127\n",
      "Validation started\n",
      "Validation Loss: 13.877687454223633, Accuracy: 78.04878048780488%, Precision: 82.14285714285714%, Recall: 85.18518518518519%, F1 Score: 83.63636363636363%, AUC: 85.05291005291006%\n",
      "Epoch 5/50, Loss: 13.045172418866839\n",
      "Validation started\n",
      "Validation Loss: 13.86993865966797, Accuracy: 78.04878048780488%, Precision: 82.14285714285714%, Recall: 85.18518518518519%, F1 Score: 83.63636363636363%, AUC: 85.05291005291006%\n",
      "Epoch 6/50, Loss: 13.039396694728307\n",
      "Validation started\n",
      "Early stopping triggered at epoch 6\n",
      "Fine-tuning completed.\n"
     ]
    },
    {
     "name": "stderr",
     "output_type": "stream",
     "text": [
      "[I 2024-09-17 03:19:02,263] Trial 8 finished with value: 88.62433862433863 and parameters: {'add_post_latent_layers': False, 'num_layers_to_retrain': 1, 'batch_size': 32, 'learning_rate': 3.6797208208314906e-06, 'dropout': 0.29741502850965734, 'l1_reg_weight': 0.0008271003467944239, 'l2_reg_weight': 2.224628940357122e-06}. Best is trial 1 with value: 88.75661375661376.\n",
      "/home/leilapirhaji/mz_embed_engine/ml/finetune/retrain_finetune_VAE.py:143: FutureWarning:\n",
      "\n",
      "suggest_loguniform has been deprecated in v3.0.0. This feature will be removed in v6.0.0. See https://github.com/optuna/optuna/releases/tag/v3.0.0. Use suggest_float(..., log=True) instead.\n",
      "\n",
      "/home/leilapirhaji/mz_embed_engine/ml/finetune/retrain_finetune_VAE.py:144: FutureWarning:\n",
      "\n",
      "suggest_uniform has been deprecated in v3.0.0. This feature will be removed in v6.0.0. See https://github.com/optuna/optuna/releases/tag/v3.0.0. Use suggest_float instead.\n",
      "\n",
      "/home/leilapirhaji/mz_embed_engine/ml/finetune/retrain_finetune_VAE.py:145: FutureWarning:\n",
      "\n",
      "suggest_loguniform has been deprecated in v3.0.0. This feature will be removed in v6.0.0. See https://github.com/optuna/optuna/releases/tag/v3.0.0. Use suggest_float(..., log=True) instead.\n",
      "\n",
      "/home/leilapirhaji/mz_embed_engine/ml/finetune/retrain_finetune_VAE.py:146: FutureWarning:\n",
      "\n",
      "suggest_loguniform has been deprecated in v3.0.0. This feature will be removed in v6.0.0. See https://github.com/optuna/optuna/releases/tag/v3.0.0. Use suggest_float(..., log=True) instead.\n",
      "\n",
      "/home/leilapirhaji/mz_embed_engine/ml/finetune/freez_encoder_latent_avg.py:370: FutureWarning:\n",
      "\n",
      "The behavior of DataFrame concatenation with empty or all-NA entries is deprecated. In a future version, this will no longer exclude empty or all-NA columns when determining the result dtypes. To retain the old behavior, exclude the relevant entries before the concat operation.\n",
      "\n"
     ]
    },
    {
     "name": "stdout",
     "output_type": "stream",
     "text": [
      "Epoch 1/50, Loss: 1.0193973524229867\n",
      "Validation started\n",
      "Validation Loss: 1.0966325998306274, Accuracy: 79.26829268292683%, Precision: 79.36507936507937%, Recall: 92.5925925925926%, F1 Score: 85.47008547008546%, AUC: 82.34126984126985%\n",
      "Epoch 2/50, Loss: 0.9048155546188354\n",
      "Validation started\n",
      "Validation Loss: 1.0680837392807008, Accuracy: 78.04878048780488%, Precision: 79.03225806451613%, Recall: 90.74074074074075%, F1 Score: 84.48275862068965%, AUC: 84.39153439153439%\n",
      "Epoch 3/50, Loss: 0.8197464048862457\n",
      "Validation started\n",
      "Validation Loss: 1.0612487316131591, Accuracy: 76.82926829268293%, Precision: 78.68852459016394%, Recall: 88.88888888888889%, F1 Score: 83.47826086956522%, AUC: 85.58201058201058%\n",
      "Epoch 4/50, Loss: 0.7854361363819667\n",
      "Validation started\n",
      "Validation Loss: 1.0635916590690613, Accuracy: 78.04878048780488%, Precision: 80.0%, Recall: 88.88888888888889%, F1 Score: 84.21052631578947%, AUC: 86.24338624338624%\n",
      "Epoch 5/50, Loss: 0.7496601854051862\n",
      "Validation started\n",
      "Validation Loss: 1.0715643286705017, Accuracy: 78.04878048780488%, Precision: 80.0%, Recall: 88.88888888888889%, F1 Score: 84.21052631578947%, AUC: 86.37566137566138%\n",
      "Epoch 6/50, Loss: 0.7341221868991852\n",
      "Validation started\n",
      "Validation Loss: 1.0832599759101869, Accuracy: 78.04878048780488%, Precision: 80.0%, Recall: 88.88888888888889%, F1 Score: 84.21052631578947%, AUC: 86.5079365079365%\n",
      "Epoch 7/50, Loss: 0.714871564081737\n",
      "Validation started\n",
      "Validation Loss: 1.0963223934173585, Accuracy: 78.04878048780488%, Precision: 80.0%, Recall: 88.88888888888889%, F1 Score: 84.21052631578947%, AUC: 86.37566137566138%\n",
      "Epoch 8/50, Loss: 0.7086839803627559\n",
      "Validation started\n",
      "Validation Loss: 1.1075220704078674, Accuracy: 78.04878048780488%, Precision: 80.0%, Recall: 88.88888888888889%, F1 Score: 84.21052631578947%, AUC: 86.7063492063492%\n",
      "Epoch 9/50, Loss: 0.6986020377704075\n",
      "Validation started\n",
      "Validation Loss: 1.1182916641235352, Accuracy: 78.04878048780488%, Precision: 80.0%, Recall: 88.88888888888889%, F1 Score: 84.21052631578947%, AUC: 86.9047619047619%\n",
      "Epoch 10/50, Loss: 0.6958862798554557\n",
      "Validation started\n",
      "Validation Loss: 1.1305907487869262, Accuracy: 78.04878048780488%, Precision: 80.0%, Recall: 88.88888888888889%, F1 Score: 84.21052631578947%, AUC: 86.97089947089948%\n",
      "Epoch 11/50, Loss: 0.6871125442641122\n",
      "Validation started\n",
      "Validation Loss: 1.1420718669891357, Accuracy: 78.04878048780488%, Precision: 80.0%, Recall: 88.88888888888889%, F1 Score: 84.21052631578947%, AUC: 86.97089947089948%\n",
      "Epoch 12/50, Loss: 0.6847029711518969\n",
      "Validation started\n",
      "Validation Loss: 1.1524958968162538, Accuracy: 79.26829268292683%, Precision: 81.35593220338984%, Recall: 88.88888888888889%, F1 Score: 84.95575221238938%, AUC: 86.97089947089948%\n",
      "Epoch 13/50, Loss: 0.679254527602877\n",
      "Validation started\n",
      "Validation Loss: 1.1606359362602234, Accuracy: 79.26829268292683%, Precision: 81.35593220338984%, Recall: 88.88888888888889%, F1 Score: 84.95575221238938%, AUC: 87.1031746031746%\n",
      "Epoch 14/50, Loss: 0.6797315904072353\n",
      "Validation started\n",
      "Validation Loss: 1.16953364610672, Accuracy: 79.26829268292683%, Precision: 81.35593220338984%, Recall: 88.88888888888889%, F1 Score: 84.95575221238938%, AUC: 87.1031746031746%\n",
      "Epoch 15/50, Loss: 0.6732468732765743\n",
      "Validation started\n",
      "Validation Loss: 1.1788510799407959, Accuracy: 80.48780487804879%, Precision: 82.75862068965517%, Recall: 88.88888888888889%, F1 Score: 85.71428571428571%, AUC: 87.16931216931216%\n",
      "Epoch 16/50, Loss: 0.6703194890703473\n",
      "Validation started\n",
      "Validation Loss: 1.1880784988403321, Accuracy: 79.26829268292683%, Precision: 81.35593220338984%, Recall: 88.88888888888889%, F1 Score: 84.95575221238938%, AUC: 87.23544973544973%\n",
      "Epoch 17/50, Loss: 0.6715709950242724\n",
      "Validation started\n",
      "Validation Loss: 1.196589970588684, Accuracy: 80.48780487804879%, Precision: 82.75862068965517%, Recall: 88.88888888888889%, F1 Score: 85.71428571428571%, AUC: 87.16931216931218%\n",
      "Epoch 18/50, Loss: 0.6723097094467708\n",
      "Validation started\n",
      "Validation Loss: 1.2063560128211974, Accuracy: 79.26829268292683%, Precision: 81.35593220338984%, Recall: 88.88888888888889%, F1 Score: 84.95575221238938%, AUC: 87.16931216931218%\n",
      "Epoch 19/50, Loss: 0.6697299991335187\n",
      "Validation started\n",
      "Validation Loss: 1.2162167310714722, Accuracy: 79.26829268292683%, Precision: 81.35593220338984%, Recall: 88.88888888888889%, F1 Score: 84.95575221238938%, AUC: 87.16931216931218%\n",
      "Epoch 20/50, Loss: 0.6666616754872459\n",
      "Validation started\n",
      "Validation Loss: 1.2245643258094787, Accuracy: 79.26829268292683%, Precision: 81.35593220338984%, Recall: 88.88888888888889%, F1 Score: 84.95575221238938%, AUC: 87.10317460317461%\n",
      "Epoch 21/50, Loss: 0.6639633817332131\n",
      "Validation started\n",
      "Early stopping triggered at epoch 21\n",
      "Fine-tuning completed.\n",
      "Epoch 1/50, Loss: 0.7137011630194527\n",
      "Validation started\n",
      "Validation Loss: 0.7997859954833985, Accuracy: 81.70731707317073%, Precision: 80.0%, Recall: 96.29629629629629%, F1 Score: 87.39495798319328%, AUC: 79.8941798941799%\n",
      "Epoch 2/50, Loss: 0.6157428920269012\n",
      "Validation started\n"
     ]
    },
    {
     "name": "stderr",
     "output_type": "stream",
     "text": [
      "/home/leilapirhaji/mz_embed_engine/ml/finetune/freez_encoder_latent_avg.py:370: FutureWarning:\n",
      "\n",
      "The behavior of DataFrame concatenation with empty or all-NA entries is deprecated. In a future version, this will no longer exclude empty or all-NA columns when determining the result dtypes. To retain the old behavior, exclude the relevant entries before the concat operation.\n",
      "\n"
     ]
    },
    {
     "name": "stdout",
     "output_type": "stream",
     "text": [
      "Validation Loss: 0.7718079805374145, Accuracy: 81.70731707317073%, Precision: 80.0%, Recall: 96.29629629629629%, F1 Score: 87.39495798319328%, AUC: 81.28306878306879%\n",
      "Epoch 3/50, Loss: 0.5347582463707242\n",
      "Validation started\n",
      "Validation Loss: 0.7642549991607666, Accuracy: 80.48780487804879%, Precision: 79.6875%, Recall: 94.44444444444444%, F1 Score: 86.4406779661017%, AUC: 81.67989417989418%\n",
      "Epoch 4/50, Loss: 0.508296257683209\n",
      "Validation started\n",
      "Validation Loss: 0.7644197821617127, Accuracy: 81.70731707317073%, Precision: 80.95238095238095%, Recall: 94.44444444444444%, F1 Score: 87.17948717948718%, AUC: 82.34126984126983%\n",
      "Epoch 5/50, Loss: 0.4641682931355068\n",
      "Validation started\n",
      "Validation Loss: 0.7709842085838318, Accuracy: 80.48780487804879%, Precision: 80.64516129032258%, Recall: 92.5925925925926%, F1 Score: 86.20689655172413%, AUC: 82.73809523809524%\n",
      "Epoch 6/50, Loss: 0.44449507338660105\n",
      "Validation started\n",
      "Validation Loss: 0.7810047507286072, Accuracy: 80.48780487804879%, Precision: 80.64516129032258%, Recall: 92.5925925925926%, F1 Score: 86.20689655172413%, AUC: 82.73809523809523%\n",
      "Epoch 7/50, Loss: 0.42045983246394564\n",
      "Validation started\n",
      "Validation Loss: 0.7932769179344177, Accuracy: 80.48780487804879%, Precision: 80.64516129032258%, Recall: 92.5925925925926%, F1 Score: 86.20689655172413%, AUC: 82.87037037037037%\n",
      "Epoch 8/50, Loss: 0.41260492163045065\n",
      "Validation started\n",
      "Validation Loss: 0.8036296725273132, Accuracy: 80.48780487804879%, Precision: 80.64516129032258%, Recall: 92.5925925925926%, F1 Score: 86.20689655172413%, AUC: 82.87037037037037%\n",
      "Epoch 9/50, Loss: 0.400444820523262\n",
      "Validation started\n",
      "Validation Loss: 0.8142767071723938, Accuracy: 81.70731707317073%, Precision: 81.9672131147541%, Recall: 92.5925925925926%, F1 Score: 86.95652173913044%, AUC: 82.80423280423281%\n",
      "Epoch 10/50, Loss: 0.39615569583007265\n",
      "Validation started\n",
      "Validation Loss: 0.8261343598365783, Accuracy: 81.70731707317073%, Precision: 81.9672131147541%, Recall: 92.5925925925926%, F1 Score: 86.95652173913044%, AUC: 82.80423280423281%\n",
      "Epoch 11/50, Loss: 0.38508945277759005\n",
      "Validation started\n",
      "Validation Loss: 0.837561821937561, Accuracy: 81.70731707317073%, Precision: 81.9672131147541%, Recall: 92.5925925925926%, F1 Score: 86.95652173913044%, AUC: 82.80423280423281%\n",
      "Epoch 12/50, Loss: 0.3810871179614748\n",
      "Validation started\n",
      "Validation Loss: 0.8485572695732116, Accuracy: 80.48780487804879%, Precision: 81.66666666666667%, Recall: 90.74074074074075%, F1 Score: 85.96491228070175%, AUC: 82.93650793650794%\n",
      "Epoch 13/50, Loss: 0.37196472925799234\n",
      "Validation started\n",
      "Validation Loss: 0.8584434986114502, Accuracy: 80.48780487804879%, Precision: 81.66666666666667%, Recall: 90.74074074074075%, F1 Score: 85.96491228070175%, AUC: 83.13492063492063%\n",
      "Epoch 14/50, Loss: 0.36880567031247274\n",
      "Validation started\n",
      "Validation Loss: 0.8686800479888916, Accuracy: 80.48780487804879%, Precision: 81.66666666666667%, Recall: 90.74074074074075%, F1 Score: 85.96491228070175%, AUC: 83.13492063492063%\n",
      "Epoch 15/50, Loss: 0.3626934822116579\n",
      "Validation started\n",
      "Validation Loss: 0.8786255955696106, Accuracy: 80.48780487804879%, Precision: 81.66666666666667%, Recall: 90.74074074074075%, F1 Score: 85.96491228070175%, AUC: 83.13492063492063%\n",
      "Epoch 16/50, Loss: 0.3608095794916153\n",
      "Validation started\n",
      "Validation Loss: 0.8879876613616944, Accuracy: 80.48780487804879%, Precision: 81.66666666666667%, Recall: 90.74074074074075%, F1 Score: 85.96491228070175%, AUC: 83.13492063492063%\n",
      "Epoch 17/50, Loss: 0.35953399538993835\n",
      "Validation started\n",
      "Validation Loss: 0.8975620746612549, Accuracy: 80.48780487804879%, Precision: 81.66666666666667%, Recall: 90.74074074074075%, F1 Score: 85.96491228070175%, AUC: 83.13492063492063%\n",
      "Epoch 18/50, Loss: 0.3605082609823772\n",
      "Validation started\n",
      "Validation Loss: 0.9059744954109192, Accuracy: 80.48780487804879%, Precision: 81.66666666666667%, Recall: 90.74074074074075%, F1 Score: 85.96491228070175%, AUC: 83.2010582010582%\n",
      "Epoch 19/50, Loss: 0.3550050812108176\n",
      "Validation started\n",
      "Validation Loss: 0.9152651071548462, Accuracy: 80.48780487804879%, Precision: 81.66666666666667%, Recall: 90.74074074074075%, F1 Score: 85.96491228070175%, AUC: 83.13492063492063%\n",
      "Epoch 20/50, Loss: 0.35288673639297485\n",
      "Validation started\n",
      "Validation Loss: 0.9240121245384216, Accuracy: 80.48780487804879%, Precision: 81.66666666666667%, Recall: 90.74074074074075%, F1 Score: 85.96491228070175%, AUC: 83.2010582010582%\n",
      "Epoch 21/50, Loss: 0.3477431833744049\n",
      "Validation started\n",
      "Validation Loss: 0.9311225533485412, Accuracy: 80.48780487804879%, Precision: 81.66666666666667%, Recall: 90.74074074074075%, F1 Score: 85.96491228070175%, AUC: 83.33333333333334%\n",
      "Epoch 22/50, Loss: 0.349405505827495\n",
      "Validation started\n",
      "Validation Loss: 0.9389747381210327, Accuracy: 80.48780487804879%, Precision: 81.66666666666667%, Recall: 90.74074074074075%, F1 Score: 85.96491228070175%, AUC: 83.33333333333334%\n",
      "Epoch 23/50, Loss: 0.34388257563114166\n",
      "Validation started\n",
      "Validation Loss: 0.9484176397323608, Accuracy: 80.48780487804879%, Precision: 81.66666666666667%, Recall: 90.74074074074075%, F1 Score: 85.96491228070175%, AUC: 83.06878306878306%\n",
      "Epoch 24/50, Loss: 0.34191308489867617\n",
      "Validation started\n",
      "Validation Loss: 0.9558938026428223, Accuracy: 80.48780487804879%, Precision: 81.66666666666667%, Recall: 90.74074074074075%, F1 Score: 85.96491228070175%, AUC: 83.06878306878306%\n",
      "Epoch 25/50, Loss: 0.3430175504514149\n",
      "Validation started\n",
      "Validation Loss: 0.9625912189483643, Accuracy: 80.48780487804879%, Precision: 81.66666666666667%, Recall: 90.74074074074075%, F1 Score: 85.96491228070175%, AUC: 83.2010582010582%\n",
      "Epoch 26/50, Loss: 0.3421654147761209\n",
      "Validation started\n",
      "Early stopping triggered at epoch 26\n",
      "Fine-tuning completed.\n"
     ]
    },
    {
     "name": "stderr",
     "output_type": "stream",
     "text": [
      "[I 2024-09-17 03:19:10,967] Trial 9 finished with value: 87.10317460317461 and parameters: {'add_post_latent_layers': True, 'post_latent_layer_size': 32, 'num_layers_to_retrain': 1, 'batch_size': 32, 'learning_rate': 3.2009635507594e-05, 'dropout': 0.17981395922754884, 'l1_reg_weight': 1.9311592471626103e-05, 'l2_reg_weight': 2.255016015215876e-06}. Best is trial 1 with value: 88.75661375661376.\n",
      "/home/leilapirhaji/mz_embed_engine/ml/finetune/retrain_finetune_VAE.py:143: FutureWarning:\n",
      "\n",
      "suggest_loguniform has been deprecated in v3.0.0. This feature will be removed in v6.0.0. See https://github.com/optuna/optuna/releases/tag/v3.0.0. Use suggest_float(..., log=True) instead.\n",
      "\n",
      "/home/leilapirhaji/mz_embed_engine/ml/finetune/retrain_finetune_VAE.py:144: FutureWarning:\n",
      "\n",
      "suggest_uniform has been deprecated in v3.0.0. This feature will be removed in v6.0.0. See https://github.com/optuna/optuna/releases/tag/v3.0.0. Use suggest_float instead.\n",
      "\n",
      "/home/leilapirhaji/mz_embed_engine/ml/finetune/retrain_finetune_VAE.py:145: FutureWarning:\n",
      "\n",
      "suggest_loguniform has been deprecated in v3.0.0. This feature will be removed in v6.0.0. See https://github.com/optuna/optuna/releases/tag/v3.0.0. Use suggest_float(..., log=True) instead.\n",
      "\n",
      "/home/leilapirhaji/mz_embed_engine/ml/finetune/retrain_finetune_VAE.py:146: FutureWarning:\n",
      "\n",
      "suggest_loguniform has been deprecated in v3.0.0. This feature will be removed in v6.0.0. See https://github.com/optuna/optuna/releases/tag/v3.0.0. Use suggest_float(..., log=True) instead.\n",
      "\n",
      "/home/leilapirhaji/mz_embed_engine/ml/finetune/freez_encoder_latent_avg.py:370: FutureWarning:\n",
      "\n",
      "The behavior of DataFrame concatenation with empty or all-NA entries is deprecated. In a future version, this will no longer exclude empty or all-NA columns when determining the result dtypes. To retain the old behavior, exclude the relevant entries before the concat operation.\n",
      "\n"
     ]
    },
    {
     "name": "stdout",
     "output_type": "stream",
     "text": [
      "Epoch 1/50, Loss: 0.040119740313717296\n",
      "Validation started\n",
      "Validation Loss: 0.7995881199836731, Accuracy: 80.48780487804879%, Precision: 82.75862068965517%, Recall: 88.88888888888889%, F1 Score: 85.71428571428571%, AUC: 88.75661375661376%\n",
      "Epoch 2/50, Loss: 0.023521164432168007\n",
      "Validation started\n",
      "Validation Loss: 0.8554464787244797, Accuracy: 78.04878048780488%, Precision: 80.0%, Recall: 88.88888888888889%, F1 Score: 84.21052631578947%, AUC: 88.82275132275133%\n",
      "Epoch 3/50, Loss: 0.02351829329771655\n",
      "Validation started\n",
      "Validation Loss: 0.8714129477739334, Accuracy: 78.04878048780488%, Precision: 80.0%, Recall: 88.88888888888889%, F1 Score: 84.21052631578947%, AUC: 88.75661375661376%\n",
      "Epoch 4/50, Loss: 0.02308308013847896\n",
      "Validation started\n",
      "Validation Loss: 0.8751656234264373, Accuracy: 79.26829268292683%, Precision: 81.35593220338984%, Recall: 88.88888888888889%, F1 Score: 84.95575221238938%, AUC: 88.69047619047619%\n",
      "Epoch 5/50, Loss: 0.02269032464495727\n",
      "Validation started\n",
      "Validation Loss: 0.8828139483928681, Accuracy: 80.48780487804879%, Precision: 82.75862068965517%, Recall: 88.88888888888889%, F1 Score: 85.71428571428571%, AUC: 88.75661375661376%\n",
      "Epoch 6/50, Loss: 0.022658199604068483\n",
      "Validation started\n",
      "Validation Loss: 0.8928935527801514, Accuracy: 80.48780487804879%, Precision: 82.75862068965517%, Recall: 88.88888888888889%, F1 Score: 85.71428571428571%, AUC: 88.69047619047619%\n",
      "Epoch 7/50, Loss: 0.02251439661319767\n",
      "Validation started\n",
      "Early stopping triggered at epoch 7\n",
      "Fine-tuning completed.\n",
      "Epoch 1/50, Loss: 0.029576043132692575\n",
      "Validation started\n"
     ]
    },
    {
     "name": "stderr",
     "output_type": "stream",
     "text": [
      "/home/leilapirhaji/mz_embed_engine/ml/finetune/freez_encoder_latent_avg.py:370: FutureWarning:\n",
      "\n",
      "The behavior of DataFrame concatenation with empty or all-NA entries is deprecated. In a future version, this will no longer exclude empty or all-NA columns when determining the result dtypes. To retain the old behavior, exclude the relevant entries before the concat operation.\n",
      "\n"
     ]
    },
    {
     "name": "stdout",
     "output_type": "stream",
     "text": [
      "Validation Loss: 0.8640047013759613, Accuracy: 78.04878048780488%, Precision: 82.14285714285714%, Recall: 85.18518518518519%, F1 Score: 83.63636363636363%, AUC: 85.11904761904762%\n",
      "Epoch 2/50, Loss: 0.013794249721935816\n",
      "Validation started\n",
      "Validation Loss: 0.904838889837265, Accuracy: 80.48780487804879%, Precision: 80.64516129032258%, Recall: 92.5925925925926%, F1 Score: 86.20689655172413%, AUC: 84.755291005291%\n",
      "Epoch 3/50, Loss: 0.013748561630823783\n",
      "Validation started\n",
      "Validation Loss: 0.9235132217407227, Accuracy: 80.48780487804879%, Precision: 80.64516129032258%, Recall: 92.5925925925926%, F1 Score: 86.20689655172413%, AUC: 84.78835978835978%\n",
      "Epoch 4/50, Loss: 0.012927483634224959\n",
      "Validation started\n",
      "Validation Loss: 0.9313486009836197, Accuracy: 79.26829268292683%, Precision: 81.35593220338984%, Recall: 88.88888888888889%, F1 Score: 84.95575221238938%, AUC: 84.9867724867725%\n",
      "Epoch 5/50, Loss: 0.012662139854260854\n",
      "Validation started\n",
      "Validation Loss: 0.9441460788249969, Accuracy: 78.04878048780488%, Precision: 81.03448275862068%, Recall: 87.03703703703704%, F1 Score: 83.92857142857143%, AUC: 84.92063492063492%\n",
      "Epoch 6/50, Loss: 0.012352305730538709\n",
      "Validation started\n",
      "Early stopping triggered at epoch 6\n",
      "Fine-tuning completed.\n"
     ]
    },
    {
     "name": "stderr",
     "output_type": "stream",
     "text": [
      "[I 2024-09-17 03:19:13,474] Trial 10 finished with value: 88.69047619047619 and parameters: {'add_post_latent_layers': False, 'num_layers_to_retrain': 1, 'batch_size': 32, 'learning_rate': 9.141423987182312e-05, 'dropout': 0.11416444608237951, 'l1_reg_weight': 6.481707792503102e-07, 'l2_reg_weight': 0.00010524931724881762}. Best is trial 1 with value: 88.75661375661376.\n",
      "/home/leilapirhaji/mz_embed_engine/ml/finetune/retrain_finetune_VAE.py:143: FutureWarning:\n",
      "\n",
      "suggest_loguniform has been deprecated in v3.0.0. This feature will be removed in v6.0.0. See https://github.com/optuna/optuna/releases/tag/v3.0.0. Use suggest_float(..., log=True) instead.\n",
      "\n",
      "/home/leilapirhaji/mz_embed_engine/ml/finetune/retrain_finetune_VAE.py:144: FutureWarning:\n",
      "\n",
      "suggest_uniform has been deprecated in v3.0.0. This feature will be removed in v6.0.0. See https://github.com/optuna/optuna/releases/tag/v3.0.0. Use suggest_float instead.\n",
      "\n",
      "/home/leilapirhaji/mz_embed_engine/ml/finetune/retrain_finetune_VAE.py:145: FutureWarning:\n",
      "\n",
      "suggest_loguniform has been deprecated in v3.0.0. This feature will be removed in v6.0.0. See https://github.com/optuna/optuna/releases/tag/v3.0.0. Use suggest_float(..., log=True) instead.\n",
      "\n",
      "/home/leilapirhaji/mz_embed_engine/ml/finetune/retrain_finetune_VAE.py:146: FutureWarning:\n",
      "\n",
      "suggest_loguniform has been deprecated in v3.0.0. This feature will be removed in v6.0.0. See https://github.com/optuna/optuna/releases/tag/v3.0.0. Use suggest_float(..., log=True) instead.\n",
      "\n",
      "/home/leilapirhaji/mz_embed_engine/ml/finetune/freez_encoder_latent_avg.py:370: FutureWarning:\n",
      "\n",
      "The behavior of DataFrame concatenation with empty or all-NA entries is deprecated. In a future version, this will no longer exclude empty or all-NA columns when determining the result dtypes. To retain the old behavior, exclude the relevant entries before the concat operation.\n",
      "\n"
     ]
    },
    {
     "name": "stdout",
     "output_type": "stream",
     "text": [
      "Epoch 1/50, Loss: 0.09944304930312294\n",
      "Validation started\n",
      "Validation Loss: 0.9374331593513489, Accuracy: 80.48780487804879%, Precision: 82.75862068965517%, Recall: 88.88888888888889%, F1 Score: 85.71428571428571%, AUC: 88.62433862433863%\n",
      "Epoch 2/50, Loss: 0.09931586789233345\n",
      "Validation started\n",
      "Validation Loss: 0.9472181022167205, Accuracy: 80.48780487804879%, Precision: 82.75862068965517%, Recall: 88.88888888888889%, F1 Score: 85.71428571428571%, AUC: 88.62433862433863%\n",
      "Epoch 3/50, Loss: 0.0991451543356691\n",
      "Validation started\n",
      "Validation Loss: 0.9578431248664856, Accuracy: 80.48780487804879%, Precision: 82.75862068965517%, Recall: 88.88888888888889%, F1 Score: 85.71428571428571%, AUC: 88.62433862433863%\n",
      "Epoch 4/50, Loss: 0.09905317106417247\n",
      "Validation started\n",
      "Validation Loss: 0.966525775194168, Accuracy: 80.48780487804879%, Precision: 82.75862068965517%, Recall: 88.88888888888889%, F1 Score: 85.71428571428571%, AUC: 88.69047619047619%\n",
      "Epoch 5/50, Loss: 0.09887749063117164\n",
      "Validation started\n",
      "Validation Loss: 0.9739774644374848, Accuracy: 80.48780487804879%, Precision: 82.75862068965517%, Recall: 88.88888888888889%, F1 Score: 85.71428571428571%, AUC: 88.69047619047619%\n",
      "Epoch 6/50, Loss: 0.09887500958783287\n",
      "Validation started\n",
      "Validation Loss: 0.9803836643695831, Accuracy: 80.48780487804879%, Precision: 82.75862068965517%, Recall: 88.88888888888889%, F1 Score: 85.71428571428571%, AUC: 88.6904761904762%\n",
      "Epoch 7/50, Loss: 0.09874894629631724\n",
      "Validation started\n",
      "Validation Loss: 0.9864821076393128, Accuracy: 80.48780487804879%, Precision: 82.75862068965517%, Recall: 88.88888888888889%, F1 Score: 85.71428571428571%, AUC: 88.6574074074074%\n",
      "Epoch 8/50, Loss: 0.09866416401096753\n",
      "Validation started\n",
      "Validation Loss: 0.9916695833206177, Accuracy: 80.48780487804879%, Precision: 82.75862068965517%, Recall: 88.88888888888889%, F1 Score: 85.71428571428571%, AUC: 88.62433862433863%\n",
      "Epoch 9/50, Loss: 0.09864373505115509\n",
      "Validation started\n",
      "Validation Loss: 0.997560852766037, Accuracy: 80.48780487804879%, Precision: 82.75862068965517%, Recall: 88.88888888888889%, F1 Score: 85.71428571428571%, AUC: 88.55820105820106%\n",
      "Epoch 10/50, Loss: 0.09852908072727067\n",
      "Validation started\n",
      "Validation Loss: 1.0037299633026122, Accuracy: 80.48780487804879%, Precision: 82.75862068965517%, Recall: 88.88888888888889%, F1 Score: 85.71428571428571%, AUC: 88.55820105820106%\n",
      "Epoch 11/50, Loss: 0.09849536897880691\n",
      "Validation started\n",
      "Early stopping triggered at epoch 11\n",
      "Fine-tuning completed.\n",
      "Epoch 1/50, Loss: 0.05037802244935717\n",
      "Validation started\n",
      "Validation Loss: 0.9404366612434387, Accuracy: 79.26829268292683%, Precision: 82.45614035087719%, Recall: 87.03703703703704%, F1 Score: 84.68468468468468%, AUC: 84.98677248677248%\n"
     ]
    },
    {
     "name": "stderr",
     "output_type": "stream",
     "text": [
      "/home/leilapirhaji/mz_embed_engine/ml/finetune/freez_encoder_latent_avg.py:370: FutureWarning:\n",
      "\n",
      "The behavior of DataFrame concatenation with empty or all-NA entries is deprecated. In a future version, this will no longer exclude empty or all-NA columns when determining the result dtypes. To retain the old behavior, exclude the relevant entries before the concat operation.\n",
      "\n"
     ]
    },
    {
     "name": "stdout",
     "output_type": "stream",
     "text": [
      "Epoch 2/50, Loss: 0.050415314733982086\n",
      "Validation started\n",
      "Validation Loss: 0.9467197060585022, Accuracy: 79.26829268292683%, Precision: 82.45614035087719%, Recall: 87.03703703703704%, F1 Score: 84.68468468468468%, AUC: 84.95370370370371%\n",
      "Epoch 3/50, Loss: 0.05033759107547147\n",
      "Validation started\n",
      "Validation Loss: 0.9529317378997803, Accuracy: 78.04878048780488%, Precision: 81.03448275862068%, Recall: 87.03703703703704%, F1 Score: 83.92857142857143%, AUC: 84.98677248677248%\n",
      "Epoch 4/50, Loss: 0.04995806116078581\n",
      "Validation started\n",
      "Validation Loss: 0.9579123258590698, Accuracy: 78.04878048780488%, Precision: 81.03448275862068%, Recall: 87.03703703703704%, F1 Score: 83.92857142857143%, AUC: 85.05291005291006%\n",
      "Epoch 5/50, Loss: 0.05000820995441505\n",
      "Validation started\n",
      "Validation Loss: 0.9625047981739044, Accuracy: 79.26829268292683%, Precision: 81.35593220338984%, Recall: 88.88888888888889%, F1 Score: 84.95575221238938%, AUC: 85.05291005291006%\n",
      "Epoch 6/50, Loss: 0.049824493538056104\n",
      "Validation started\n",
      "Validation Loss: 0.9667469024658203, Accuracy: 78.04878048780488%, Precision: 81.03448275862068%, Recall: 87.03703703703704%, F1 Score: 83.92857142857143%, AUC: 85.08597883597884%\n",
      "Epoch 7/50, Loss: 0.04950306697615555\n",
      "Validation started\n",
      "Validation Loss: 0.9708875894546509, Accuracy: 79.26829268292683%, Precision: 81.35593220338984%, Recall: 88.88888888888889%, F1 Score: 84.95575221238938%, AUC: 85.18518518518519%\n",
      "Epoch 8/50, Loss: 0.04949015325733593\n",
      "Validation started\n",
      "Validation Loss: 0.9749148666858674, Accuracy: 78.04878048780488%, Precision: 81.03448275862068%, Recall: 87.03703703703704%, F1 Score: 83.92857142857143%, AUC: 85.18518518518519%\n",
      "Epoch 9/50, Loss: 0.049444960696356635\n",
      "Validation started\n",
      "Validation Loss: 0.978813523054123, Accuracy: 78.04878048780488%, Precision: 81.03448275862068%, Recall: 87.03703703703704%, F1 Score: 83.92857142857143%, AUC: 85.18518518518519%\n",
      "Epoch 10/50, Loss: 0.049463105254939625\n",
      "Validation started\n",
      "Validation Loss: 0.9840130686759949, Accuracy: 79.26829268292683%, Precision: 81.35593220338984%, Recall: 88.88888888888889%, F1 Score: 84.95575221238938%, AUC: 85.18518518518519%\n",
      "Epoch 11/50, Loss: 0.04924385755189827\n",
      "Validation started\n",
      "Validation Loss: 0.9879203975200653, Accuracy: 79.26829268292683%, Precision: 81.35593220338984%, Recall: 88.88888888888889%, F1 Score: 84.95575221238938%, AUC: 85.1521164021164%\n",
      "Epoch 12/50, Loss: 0.04936615058353969\n",
      "Validation started\n",
      "Early stopping triggered at epoch 12\n",
      "Fine-tuning completed.\n"
     ]
    },
    {
     "name": "stderr",
     "output_type": "stream",
     "text": [
      "[I 2024-09-17 03:19:17,718] Trial 11 finished with value: 88.55820105820106 and parameters: {'add_post_latent_layers': False, 'num_layers_to_retrain': 1, 'batch_size': 32, 'learning_rate': 7.0343084106108255e-06, 'dropout': 0.29045799889267954, 'l1_reg_weight': 2.9564743382685826e-06, 'l2_reg_weight': 1.8065622941806021e-07}. Best is trial 1 with value: 88.75661375661376.\n",
      "/home/leilapirhaji/mz_embed_engine/ml/finetune/retrain_finetune_VAE.py:143: FutureWarning:\n",
      "\n",
      "suggest_loguniform has been deprecated in v3.0.0. This feature will be removed in v6.0.0. See https://github.com/optuna/optuna/releases/tag/v3.0.0. Use suggest_float(..., log=True) instead.\n",
      "\n",
      "/home/leilapirhaji/mz_embed_engine/ml/finetune/retrain_finetune_VAE.py:144: FutureWarning:\n",
      "\n",
      "suggest_uniform has been deprecated in v3.0.0. This feature will be removed in v6.0.0. See https://github.com/optuna/optuna/releases/tag/v3.0.0. Use suggest_float instead.\n",
      "\n",
      "/home/leilapirhaji/mz_embed_engine/ml/finetune/retrain_finetune_VAE.py:145: FutureWarning:\n",
      "\n",
      "suggest_loguniform has been deprecated in v3.0.0. This feature will be removed in v6.0.0. See https://github.com/optuna/optuna/releases/tag/v3.0.0. Use suggest_float(..., log=True) instead.\n",
      "\n",
      "/home/leilapirhaji/mz_embed_engine/ml/finetune/retrain_finetune_VAE.py:146: FutureWarning:\n",
      "\n",
      "suggest_loguniform has been deprecated in v3.0.0. This feature will be removed in v6.0.0. See https://github.com/optuna/optuna/releases/tag/v3.0.0. Use suggest_float(..., log=True) instead.\n",
      "\n",
      "/home/leilapirhaji/mz_embed_engine/ml/finetune/freez_encoder_latent_avg.py:370: FutureWarning:\n",
      "\n",
      "The behavior of DataFrame concatenation with empty or all-NA entries is deprecated. In a future version, this will no longer exclude empty or all-NA columns when determining the result dtypes. To retain the old behavior, exclude the relevant entries before the concat operation.\n",
      "\n"
     ]
    },
    {
     "name": "stdout",
     "output_type": "stream",
     "text": [
      "Epoch 1/50, Loss: 0.06629866361618042\n",
      "Validation started\n",
      "Validation Loss: 0.9574659764766693, Accuracy: 80.48780487804879%, Precision: 82.75862068965517%, Recall: 88.88888888888889%, F1 Score: 85.71428571428571%, AUC: 88.55820105820106%\n",
      "Epoch 2/50, Loss: 0.06629982856767518\n",
      "Validation started\n",
      "Validation Loss: 0.9605665326118469, Accuracy: 80.48780487804879%, Precision: 82.75862068965517%, Recall: 88.88888888888889%, F1 Score: 85.71428571428571%, AUC: 88.55820105820106%\n",
      "Epoch 3/50, Loss: 0.06623432146651405\n",
      "Validation started\n",
      "Validation Loss: 0.9649146914482116, Accuracy: 80.48780487804879%, Precision: 82.75862068965517%, Recall: 88.88888888888889%, F1 Score: 85.71428571428571%, AUC: 88.55820105820106%\n",
      "Epoch 4/50, Loss: 0.06622601992317609\n",
      "Validation started\n",
      "Validation Loss: 0.9687407195568085, Accuracy: 80.48780487804879%, Precision: 82.75862068965517%, Recall: 88.88888888888889%, F1 Score: 85.71428571428571%, AUC: 88.55820105820106%\n",
      "Epoch 5/50, Loss: 0.06614557334354945\n",
      "Validation started\n",
      "Validation Loss: 0.9722982048988342, Accuracy: 80.48780487804879%, Precision: 82.75862068965517%, Recall: 88.88888888888889%, F1 Score: 85.71428571428571%, AUC: 88.55820105820106%\n",
      "Epoch 6/50, Loss: 0.06619623942034585\n",
      "Validation started\n",
      "Early stopping triggered at epoch 6\n",
      "Fine-tuning completed.\n",
      "Epoch 1/50, Loss: 0.03346314121569906\n",
      "Validation started\n",
      "Validation Loss: 0.9527726769447327, Accuracy: 79.26829268292683%, Precision: 81.35593220338984%, Recall: 88.88888888888889%, F1 Score: 84.95575221238938%, AUC: 85.1521164021164%\n",
      "Epoch 2/50, Loss: 0.0336318276822567\n",
      "Validation started\n"
     ]
    },
    {
     "name": "stderr",
     "output_type": "stream",
     "text": [
      "/home/leilapirhaji/mz_embed_engine/ml/finetune/freez_encoder_latent_avg.py:370: FutureWarning:\n",
      "\n",
      "The behavior of DataFrame concatenation with empty or all-NA entries is deprecated. In a future version, this will no longer exclude empty or all-NA columns when determining the result dtypes. To retain the old behavior, exclude the relevant entries before the concat operation.\n",
      "\n"
     ]
    },
    {
     "name": "stdout",
     "output_type": "stream",
     "text": [
      "Validation Loss: 0.9560812294483185, Accuracy: 79.26829268292683%, Precision: 81.35593220338984%, Recall: 88.88888888888889%, F1 Score: 84.95575221238938%, AUC: 85.11904761904762%\n",
      "Epoch 3/50, Loss: 0.0336726185466562\n",
      "Validation started\n",
      "Validation Loss: 0.9593898057937622, Accuracy: 79.26829268292683%, Precision: 81.35593220338984%, Recall: 88.88888888888889%, F1 Score: 84.95575221238938%, AUC: 85.11904761904762%\n",
      "Epoch 4/50, Loss: 0.033444419503211975\n",
      "Validation started\n",
      "Validation Loss: 0.9616711467504502, Accuracy: 79.26829268292683%, Precision: 81.35593220338984%, Recall: 88.88888888888889%, F1 Score: 84.95575221238938%, AUC: 85.11904761904762%\n",
      "Epoch 5/50, Loss: 0.03356520778366497\n",
      "Validation started\n",
      "Validation Loss: 0.9644088298082352, Accuracy: 79.26829268292683%, Precision: 81.35593220338984%, Recall: 88.88888888888889%, F1 Score: 84.95575221238938%, AUC: 85.18518518518519%\n",
      "Epoch 6/50, Loss: 0.03350254733647619\n",
      "Validation started\n",
      "Validation Loss: 0.9667175054550171, Accuracy: 79.26829268292683%, Precision: 81.35593220338984%, Recall: 88.88888888888889%, F1 Score: 84.95575221238938%, AUC: 85.18518518518519%\n",
      "Epoch 7/50, Loss: 0.0332889799028635\n",
      "Validation started\n",
      "Validation Loss: 0.9694796323776245, Accuracy: 79.26829268292683%, Precision: 81.35593220338984%, Recall: 88.88888888888889%, F1 Score: 84.95575221238938%, AUC: 85.1521164021164%\n",
      "Epoch 8/50, Loss: 0.033358680616532056\n",
      "Validation started\n",
      "Validation Loss: 0.9714736253023147, Accuracy: 79.26829268292683%, Precision: 81.35593220338984%, Recall: 88.88888888888889%, F1 Score: 84.95575221238938%, AUC: 85.18518518518519%\n",
      "Epoch 9/50, Loss: 0.03337151530597891\n",
      "Validation started\n",
      "Validation Loss: 0.9739176779985428, Accuracy: 79.26829268292683%, Precision: 81.35593220338984%, Recall: 88.88888888888889%, F1 Score: 84.95575221238938%, AUC: 85.18518518518519%\n",
      "Epoch 10/50, Loss: 0.033447018159287314\n",
      "Validation started\n",
      "Early stopping triggered at epoch 10\n",
      "Fine-tuning completed.\n"
     ]
    },
    {
     "name": "stderr",
     "output_type": "stream",
     "text": [
      "[I 2024-09-17 03:19:20,730] Trial 12 finished with value: 88.55820105820106 and parameters: {'add_post_latent_layers': False, 'num_layers_to_retrain': 1, 'batch_size': 32, 'learning_rate': 3.101324882681302e-06, 'dropout': 0.14006387762241634, 'l1_reg_weight': 1.980064378596602e-06, 'l2_reg_weight': 5.551153103091654e-07}. Best is trial 1 with value: 88.75661375661376.\n",
      "/home/leilapirhaji/mz_embed_engine/ml/finetune/retrain_finetune_VAE.py:143: FutureWarning:\n",
      "\n",
      "suggest_loguniform has been deprecated in v3.0.0. This feature will be removed in v6.0.0. See https://github.com/optuna/optuna/releases/tag/v3.0.0. Use suggest_float(..., log=True) instead.\n",
      "\n",
      "/home/leilapirhaji/mz_embed_engine/ml/finetune/retrain_finetune_VAE.py:144: FutureWarning:\n",
      "\n",
      "suggest_uniform has been deprecated in v3.0.0. This feature will be removed in v6.0.0. See https://github.com/optuna/optuna/releases/tag/v3.0.0. Use suggest_float instead.\n",
      "\n",
      "/home/leilapirhaji/mz_embed_engine/ml/finetune/retrain_finetune_VAE.py:145: FutureWarning:\n",
      "\n",
      "suggest_loguniform has been deprecated in v3.0.0. This feature will be removed in v6.0.0. See https://github.com/optuna/optuna/releases/tag/v3.0.0. Use suggest_float(..., log=True) instead.\n",
      "\n",
      "/home/leilapirhaji/mz_embed_engine/ml/finetune/retrain_finetune_VAE.py:146: FutureWarning:\n",
      "\n",
      "suggest_loguniform has been deprecated in v3.0.0. This feature will be removed in v6.0.0. See https://github.com/optuna/optuna/releases/tag/v3.0.0. Use suggest_float(..., log=True) instead.\n",
      "\n",
      "/home/leilapirhaji/mz_embed_engine/ml/finetune/freez_encoder_latent_avg.py:370: FutureWarning:\n",
      "\n",
      "The behavior of DataFrame concatenation with empty or all-NA entries is deprecated. In a future version, this will no longer exclude empty or all-NA columns when determining the result dtypes. To retain the old behavior, exclude the relevant entries before the concat operation.\n",
      "\n"
     ]
    },
    {
     "name": "stdout",
     "output_type": "stream",
     "text": [
      "Epoch 1/50, Loss: 0.7557971222060067\n",
      "Validation started\n",
      "Validation Loss: 1.6485618591308593, Accuracy: 80.48780487804879%, Precision: 82.75862068965517%, Recall: 88.88888888888889%, F1 Score: 85.71428571428571%, AUC: 88.55820105820106%\n",
      "Epoch 2/50, Loss: 0.754816255399159\n",
      "Validation started\n",
      "Validation Loss: 1.6387878894805907, Accuracy: 80.48780487804879%, Precision: 82.75862068965517%, Recall: 88.88888888888889%, F1 Score: 85.71428571428571%, AUC: 88.62433862433863%\n",
      "Epoch 3/50, Loss: 0.753889684166227\n",
      "Validation started\n",
      "Validation Loss: 1.6306723594665526, Accuracy: 80.48780487804879%, Precision: 82.75862068965517%, Recall: 88.88888888888889%, F1 Score: 85.71428571428571%, AUC: 88.6904761904762%\n",
      "Epoch 4/50, Loss: 0.7531060150691441\n",
      "Validation started\n",
      "Validation Loss: 1.6221356630325316, Accuracy: 80.48780487804879%, Precision: 82.75862068965517%, Recall: 88.88888888888889%, F1 Score: 85.71428571428571%, AUC: 88.69047619047619%\n",
      "Epoch 5/50, Loss: 0.752298721245357\n",
      "Validation started\n",
      "Validation Loss: 1.6136433124542235, Accuracy: 80.48780487804879%, Precision: 82.75862068965517%, Recall: 88.88888888888889%, F1 Score: 85.71428571428571%, AUC: 88.69047619047619%\n",
      "Epoch 6/50, Loss: 0.7517307826450893\n",
      "Validation started\n",
      "Validation Loss: 1.605312418937683, Accuracy: 80.48780487804879%, Precision: 82.75862068965517%, Recall: 88.88888888888889%, F1 Score: 85.71428571428571%, AUC: 88.6904761904762%\n",
      "Epoch 7/50, Loss: 0.7510728878634316\n",
      "Validation started\n",
      "Validation Loss: 1.597750973701477, Accuracy: 80.48780487804879%, Precision: 82.75862068965517%, Recall: 88.88888888888889%, F1 Score: 85.71428571428571%, AUC: 88.69047619047619%\n",
      "Epoch 8/50, Loss: 0.7505038891519819\n",
      "Validation started\n",
      "Early stopping triggered at epoch 8\n",
      "Fine-tuning completed.\n",
      "Epoch 1/50, Loss: 0.3687218023197992\n",
      "Validation started\n",
      "Validation Loss: 1.2992604732513429, Accuracy: 79.26829268292683%, Precision: 81.35593220338984%, Recall: 88.88888888888889%, F1 Score: 84.95575221238938%, AUC: 85.11904761904762%\n"
     ]
    },
    {
     "name": "stderr",
     "output_type": "stream",
     "text": [
      "/home/leilapirhaji/mz_embed_engine/ml/finetune/freez_encoder_latent_avg.py:370: FutureWarning:\n",
      "\n",
      "The behavior of DataFrame concatenation with empty or all-NA entries is deprecated. In a future version, this will no longer exclude empty or all-NA columns when determining the result dtypes. To retain the old behavior, exclude the relevant entries before the concat operation.\n",
      "\n"
     ]
    },
    {
     "name": "stdout",
     "output_type": "stream",
     "text": [
      "Epoch 2/50, Loss: 0.3681690650326865\n",
      "Validation started\n",
      "Validation Loss: 1.296449613571167, Accuracy: 79.26829268292683%, Precision: 81.35593220338984%, Recall: 88.88888888888889%, F1 Score: 84.95575221238938%, AUC: 85.11904761904762%\n",
      "Epoch 3/50, Loss: 0.3676237293652126\n",
      "Validation started\n",
      "Validation Loss: 1.2952919721603393, Accuracy: 79.26829268292683%, Precision: 81.35593220338984%, Recall: 88.88888888888889%, F1 Score: 84.95575221238938%, AUC: 85.11904761904762%\n",
      "Epoch 4/50, Loss: 0.36687209776469637\n",
      "Validation started\n",
      "Validation Loss: 1.2921055912971497, Accuracy: 79.26829268292683%, Precision: 81.35593220338984%, Recall: 88.88888888888889%, F1 Score: 84.95575221238938%, AUC: 85.11904761904762%\n",
      "Epoch 5/50, Loss: 0.3665305972099304\n",
      "Validation started\n",
      "Validation Loss: 1.2905983090400697, Accuracy: 79.26829268292683%, Precision: 81.35593220338984%, Recall: 88.88888888888889%, F1 Score: 84.95575221238938%, AUC: 85.11904761904762%\n",
      "Epoch 6/50, Loss: 0.3660455495119095\n",
      "Validation started\n",
      "Early stopping triggered at epoch 6\n",
      "Fine-tuning completed.\n"
     ]
    },
    {
     "name": "stderr",
     "output_type": "stream",
     "text": [
      "[I 2024-09-17 03:19:23,423] Trial 13 finished with value: 88.69047619047619 and parameters: {'add_post_latent_layers': False, 'num_layers_to_retrain': 1, 'batch_size': 32, 'learning_rate': 1.3550654224897103e-05, 'dropout': 0.2915932126568821, 'l1_reg_weight': 2.2880779111684508e-05, 'l2_reg_weight': 3.4080692423493994e-07}. Best is trial 1 with value: 88.75661375661376.\n",
      "/home/leilapirhaji/mz_embed_engine/ml/finetune/retrain_finetune_VAE.py:143: FutureWarning:\n",
      "\n",
      "suggest_loguniform has been deprecated in v3.0.0. This feature will be removed in v6.0.0. See https://github.com/optuna/optuna/releases/tag/v3.0.0. Use suggest_float(..., log=True) instead.\n",
      "\n",
      "/home/leilapirhaji/mz_embed_engine/ml/finetune/retrain_finetune_VAE.py:144: FutureWarning:\n",
      "\n",
      "suggest_uniform has been deprecated in v3.0.0. This feature will be removed in v6.0.0. See https://github.com/optuna/optuna/releases/tag/v3.0.0. Use suggest_float instead.\n",
      "\n",
      "/home/leilapirhaji/mz_embed_engine/ml/finetune/retrain_finetune_VAE.py:145: FutureWarning:\n",
      "\n",
      "suggest_loguniform has been deprecated in v3.0.0. This feature will be removed in v6.0.0. See https://github.com/optuna/optuna/releases/tag/v3.0.0. Use suggest_float(..., log=True) instead.\n",
      "\n",
      "/home/leilapirhaji/mz_embed_engine/ml/finetune/retrain_finetune_VAE.py:146: FutureWarning:\n",
      "\n",
      "suggest_loguniform has been deprecated in v3.0.0. This feature will be removed in v6.0.0. See https://github.com/optuna/optuna/releases/tag/v3.0.0. Use suggest_float(..., log=True) instead.\n",
      "\n",
      "/home/leilapirhaji/mz_embed_engine/ml/finetune/freez_encoder_latent_avg.py:370: FutureWarning:\n",
      "\n",
      "The behavior of DataFrame concatenation with empty or all-NA entries is deprecated. In a future version, this will no longer exclude empty or all-NA columns when determining the result dtypes. To retain the old behavior, exclude the relevant entries before the concat operation.\n",
      "\n"
     ]
    },
    {
     "name": "stdout",
     "output_type": "stream",
     "text": [
      "Epoch 1/50, Loss: 0.029136705611433302\n",
      "Validation started\n",
      "Validation Loss: 0.9064682364463806, Accuracy: 80.48780487804879%, Precision: 82.75862068965517%, Recall: 88.88888888888889%, F1 Score: 85.71428571428571%, AUC: 88.82275132275133%\n",
      "Epoch 2/50, Loss: 0.028678908811083863\n",
      "Validation started\n",
      "Validation Loss: 0.9660722494125367, Accuracy: 80.48780487804879%, Precision: 82.75862068965517%, Recall: 88.88888888888889%, F1 Score: 85.71428571428571%, AUC: 88.69047619047619%\n",
      "Epoch 3/50, Loss: 0.028387556517762796\n",
      "Validation started\n",
      "Validation Loss: 1.0275624215602874, Accuracy: 79.26829268292683%, Precision: 81.35593220338984%, Recall: 88.88888888888889%, F1 Score: 84.95575221238938%, AUC: 88.4920634920635%\n",
      "Epoch 4/50, Loss: 0.02828785910138062\n",
      "Validation started\n",
      "Validation Loss: 1.048698753118515, Accuracy: 80.48780487804879%, Precision: 82.75862068965517%, Recall: 88.88888888888889%, F1 Score: 85.71428571428571%, AUC: 88.4920634920635%\n",
      "Epoch 5/50, Loss: 0.028198805238519396\n",
      "Validation started\n",
      "Validation Loss: 1.0709016799926758, Accuracy: 80.48780487804879%, Precision: 82.75862068965517%, Recall: 88.88888888888889%, F1 Score: 85.71428571428571%, AUC: 88.55820105820106%\n",
      "Epoch 6/50, Loss: 0.02818949374237231\n",
      "Validation started\n",
      "Early stopping triggered at epoch 6\n",
      "Fine-tuning completed.\n",
      "Epoch 1/50, Loss: 0.01513843032132302\n",
      "Validation started\n",
      "Validation Loss: 0.962871915102005, Accuracy: 80.48780487804879%, Precision: 81.66666666666667%, Recall: 90.74074074074075%, F1 Score: 85.96491228070175%, AUC: 85.01984126984128%\n",
      "Epoch 2/50, Loss: 0.01483585951583726\n",
      "Validation started\n"
     ]
    },
    {
     "name": "stderr",
     "output_type": "stream",
     "text": [
      "/home/leilapirhaji/mz_embed_engine/ml/finetune/freez_encoder_latent_avg.py:370: FutureWarning:\n",
      "\n",
      "The behavior of DataFrame concatenation with empty or all-NA entries is deprecated. In a future version, this will no longer exclude empty or all-NA columns when determining the result dtypes. To retain the old behavior, exclude the relevant entries before the concat operation.\n",
      "\n"
     ]
    },
    {
     "name": "stdout",
     "output_type": "stream",
     "text": [
      "Validation Loss: 1.0116831332445144, Accuracy: 80.48780487804879%, Precision: 81.66666666666667%, Recall: 90.74074074074075%, F1 Score: 85.96491228070175%, AUC: 84.9867724867725%\n",
      "Epoch 3/50, Loss: 0.014563840481319599\n",
      "Validation started\n",
      "Validation Loss: 1.0513698399066924, Accuracy: 80.48780487804879%, Precision: 81.66666666666667%, Recall: 90.74074074074075%, F1 Score: 85.96491228070175%, AUC: 85.05291005291006%\n",
      "Epoch 4/50, Loss: 0.014287506496267659\n",
      "Validation started\n",
      "Validation Loss: 1.0780268967151643, Accuracy: 78.04878048780488%, Precision: 81.03448275862068%, Recall: 87.03703703703704%, F1 Score: 83.92857142857143%, AUC: 85.11904761904762%\n",
      "Epoch 5/50, Loss: 0.014217908760266644\n",
      "Validation started\n",
      "Validation Loss: 1.1081214994192123, Accuracy: 80.48780487804879%, Precision: 81.66666666666667%, Recall: 90.74074074074075%, F1 Score: 85.96491228070175%, AUC: 85.01984126984127%\n",
      "Epoch 6/50, Loss: 0.014117169460015637\n",
      "Validation started\n",
      "Validation Loss: 1.1260503828525543, Accuracy: 79.26829268292683%, Precision: 81.35593220338984%, Recall: 88.88888888888889%, F1 Score: 84.95575221238938%, AUC: 85.08597883597884%\n",
      "Epoch 7/50, Loss: 0.013984327869755881\n",
      "Validation started\n",
      "Validation Loss: 1.1494401693344116, Accuracy: 80.48780487804879%, Precision: 81.66666666666667%, Recall: 90.74074074074075%, F1 Score: 85.96491228070175%, AUC: 85.01984126984127%\n",
      "Epoch 8/50, Loss: 0.013979542667844467\n",
      "Validation started\n",
      "Validation Loss: 1.165065163373947, Accuracy: 78.04878048780488%, Precision: 81.03448275862068%, Recall: 87.03703703703704%, F1 Score: 83.92857142857143%, AUC: 85.05291005291005%\n",
      "Epoch 9/50, Loss: 0.013946376740932465\n",
      "Validation started\n",
      "Early stopping triggered at epoch 9\n",
      "Fine-tuning completed.\n"
     ]
    },
    {
     "name": "stderr",
     "output_type": "stream",
     "text": [
      "[I 2024-09-17 03:19:26,186] Trial 14 finished with value: 88.55820105820106 and parameters: {'add_post_latent_layers': False, 'num_layers_to_retrain': 1, 'batch_size': 32, 'learning_rate': 5.478333466879197e-05, 'dropout': 0.3396234605752092, 'l1_reg_weight': 8.473875589014526e-07, 'l2_reg_weight': 4.765201190095665e-06}. Best is trial 1 with value: 88.75661375661376.\n",
      "/home/leilapirhaji/mz_embed_engine/ml/finetune/retrain_finetune_VAE.py:143: FutureWarning:\n",
      "\n",
      "suggest_loguniform has been deprecated in v3.0.0. This feature will be removed in v6.0.0. See https://github.com/optuna/optuna/releases/tag/v3.0.0. Use suggest_float(..., log=True) instead.\n",
      "\n",
      "/home/leilapirhaji/mz_embed_engine/ml/finetune/retrain_finetune_VAE.py:144: FutureWarning:\n",
      "\n",
      "suggest_uniform has been deprecated in v3.0.0. This feature will be removed in v6.0.0. See https://github.com/optuna/optuna/releases/tag/v3.0.0. Use suggest_float instead.\n",
      "\n",
      "/home/leilapirhaji/mz_embed_engine/ml/finetune/retrain_finetune_VAE.py:145: FutureWarning:\n",
      "\n",
      "suggest_loguniform has been deprecated in v3.0.0. This feature will be removed in v6.0.0. See https://github.com/optuna/optuna/releases/tag/v3.0.0. Use suggest_float(..., log=True) instead.\n",
      "\n",
      "/home/leilapirhaji/mz_embed_engine/ml/finetune/retrain_finetune_VAE.py:146: FutureWarning:\n",
      "\n",
      "suggest_loguniform has been deprecated in v3.0.0. This feature will be removed in v6.0.0. See https://github.com/optuna/optuna/releases/tag/v3.0.0. Use suggest_float(..., log=True) instead.\n",
      "\n",
      "/home/leilapirhaji/mz_embed_engine/ml/finetune/freez_encoder_latent_avg.py:370: FutureWarning:\n",
      "\n",
      "The behavior of DataFrame concatenation with empty or all-NA entries is deprecated. In a future version, this will no longer exclude empty or all-NA columns when determining the result dtypes. To retain the old behavior, exclude the relevant entries before the concat operation.\n",
      "\n"
     ]
    },
    {
     "name": "stdout",
     "output_type": "stream",
     "text": [
      "Epoch 1/50, Loss: 0.3509742191859654\n",
      "Validation started\n",
      "Validation Loss: 1.3264794826507569, Accuracy: 80.48780487804879%, Precision: 82.75862068965517%, Recall: 88.88888888888889%, F1 Score: 85.71428571428571%, AUC: 88.55820105820106%\n",
      "Epoch 2/50, Loss: 0.3509009437901633\n",
      "Validation started\n",
      "Validation Loss: 1.3228513717651367, Accuracy: 80.48780487804879%, Precision: 82.75862068965517%, Recall: 88.88888888888889%, F1 Score: 85.71428571428571%, AUC: 88.55820105820106%\n",
      "Epoch 3/50, Loss: 0.3508014423506601\n",
      "Validation started\n",
      "Validation Loss: 1.3195343971252442, Accuracy: 80.48780487804879%, Precision: 82.75862068965517%, Recall: 88.88888888888889%, F1 Score: 85.71428571428571%, AUC: 88.55820105820106%\n",
      "Epoch 4/50, Loss: 0.3507389596530369\n",
      "Validation started\n",
      "Validation Loss: 1.316472339630127, Accuracy: 80.48780487804879%, Precision: 82.75862068965517%, Recall: 88.88888888888889%, F1 Score: 85.71428571428571%, AUC: 88.55820105820106%\n",
      "Epoch 5/50, Loss: 0.3506306516272681\n",
      "Validation started\n",
      "Validation Loss: 1.3132155776023864, Accuracy: 80.48780487804879%, Precision: 82.75862068965517%, Recall: 88.88888888888889%, F1 Score: 85.71428571428571%, AUC: 88.55820105820106%\n",
      "Epoch 6/50, Loss: 0.3506070694753102\n",
      "Validation started\n",
      "Early stopping triggered at epoch 6\n",
      "Fine-tuning completed.\n",
      "Epoch 1/50, Loss: 0.17154562153986522\n",
      "Validation started\n",
      "Validation Loss: 1.2158239006996154, Accuracy: 78.04878048780488%, Precision: 81.03448275862068%, Recall: 87.03703703703704%, F1 Score: 83.92857142857143%, AUC: 84.9867724867725%\n",
      "Epoch 2/50, Loss: 0.17159504975591386\n",
      "Validation started\n"
     ]
    },
    {
     "name": "stderr",
     "output_type": "stream",
     "text": [
      "/home/leilapirhaji/mz_embed_engine/ml/finetune/freez_encoder_latent_avg.py:370: FutureWarning:\n",
      "\n",
      "The behavior of DataFrame concatenation with empty or all-NA entries is deprecated. In a future version, this will no longer exclude empty or all-NA columns when determining the result dtypes. To retain the old behavior, exclude the relevant entries before the concat operation.\n",
      "\n"
     ]
    },
    {
     "name": "stdout",
     "output_type": "stream",
     "text": [
      "Validation Loss: 1.2149556398391723, Accuracy: 78.04878048780488%, Precision: 81.03448275862068%, Recall: 87.03703703703704%, F1 Score: 83.92857142857143%, AUC: 84.9867724867725%\n",
      "Epoch 3/50, Loss: 0.1715931754027094\n",
      "Validation started\n",
      "Validation Loss: 1.214166271686554, Accuracy: 78.04878048780488%, Precision: 81.03448275862068%, Recall: 87.03703703703704%, F1 Score: 83.92857142857143%, AUC: 84.9867724867725%\n",
      "Epoch 4/50, Loss: 0.17146417605025427\n",
      "Validation started\n",
      "Validation Loss: 1.2132730722427367, Accuracy: 78.04878048780488%, Precision: 81.03448275862068%, Recall: 87.03703703703704%, F1 Score: 83.92857142857143%, AUC: 84.9867724867725%\n",
      "Epoch 5/50, Loss: 0.17149982175656728\n",
      "Validation started\n",
      "Validation Loss: 1.2124204874038695, Accuracy: 78.04878048780488%, Precision: 81.03448275862068%, Recall: 87.03703703703704%, F1 Score: 83.92857142857143%, AUC: 84.9867724867725%\n",
      "Epoch 6/50, Loss: 0.17145515978336334\n",
      "Validation started\n",
      "Early stopping triggered at epoch 6\n",
      "Fine-tuning completed.\n"
     ]
    },
    {
     "name": "stderr",
     "output_type": "stream",
     "text": [
      "[I 2024-09-17 03:19:28,512] Trial 15 finished with value: 88.55820105820106 and parameters: {'add_post_latent_layers': False, 'num_layers_to_retrain': 1, 'batch_size': 32, 'learning_rate': 2.5033563409935066e-06, 'dropout': 0.3923595954371364, 'l1_reg_weight': 1.0640515089579304e-05, 'l2_reg_weight': 1.1789067702783308e-07}. Best is trial 1 with value: 88.75661375661376.\n",
      "/home/leilapirhaji/mz_embed_engine/ml/finetune/retrain_finetune_VAE.py:143: FutureWarning:\n",
      "\n",
      "suggest_loguniform has been deprecated in v3.0.0. This feature will be removed in v6.0.0. See https://github.com/optuna/optuna/releases/tag/v3.0.0. Use suggest_float(..., log=True) instead.\n",
      "\n",
      "/home/leilapirhaji/mz_embed_engine/ml/finetune/retrain_finetune_VAE.py:144: FutureWarning:\n",
      "\n",
      "suggest_uniform has been deprecated in v3.0.0. This feature will be removed in v6.0.0. See https://github.com/optuna/optuna/releases/tag/v3.0.0. Use suggest_float instead.\n",
      "\n",
      "/home/leilapirhaji/mz_embed_engine/ml/finetune/retrain_finetune_VAE.py:145: FutureWarning:\n",
      "\n",
      "suggest_loguniform has been deprecated in v3.0.0. This feature will be removed in v6.0.0. See https://github.com/optuna/optuna/releases/tag/v3.0.0. Use suggest_float(..., log=True) instead.\n",
      "\n",
      "/home/leilapirhaji/mz_embed_engine/ml/finetune/retrain_finetune_VAE.py:146: FutureWarning:\n",
      "\n",
      "suggest_loguniform has been deprecated in v3.0.0. This feature will be removed in v6.0.0. See https://github.com/optuna/optuna/releases/tag/v3.0.0. Use suggest_float(..., log=True) instead.\n",
      "\n",
      "/home/leilapirhaji/mz_embed_engine/ml/finetune/freez_encoder_latent_avg.py:370: FutureWarning:\n",
      "\n",
      "The behavior of DataFrame concatenation with empty or all-NA entries is deprecated. In a future version, this will no longer exclude empty or all-NA columns when determining the result dtypes. To retain the old behavior, exclude the relevant entries before the concat operation.\n",
      "\n"
     ]
    },
    {
     "name": "stdout",
     "output_type": "stream",
     "text": [
      "Epoch 1/50, Loss: 0.004209803334171218\n",
      "Validation started\n",
      "Validation Loss: 0.9706764042377471, Accuracy: 80.48780487804879%, Precision: 82.75862068965517%, Recall: 88.88888888888889%, F1 Score: 85.71428571428571%, AUC: 88.55820105820106%\n",
      "Epoch 2/50, Loss: 0.004196481879002282\n",
      "Validation started\n",
      "Validation Loss: 0.9786206007003784, Accuracy: 80.48780487804879%, Precision: 82.75862068965517%, Recall: 88.88888888888889%, F1 Score: 85.71428571428571%, AUC: 88.55820105820106%\n",
      "Epoch 3/50, Loss: 0.004138813636797879\n",
      "Validation started\n",
      "Validation Loss: 0.9897859215736389, Accuracy: 80.48780487804879%, Precision: 82.75862068965517%, Recall: 88.88888888888889%, F1 Score: 85.71428571428571%, AUC: 88.62433862433863%\n",
      "Epoch 4/50, Loss: 0.004123350904722299\n",
      "Validation started\n",
      "Validation Loss: 0.9997383236885071, Accuracy: 80.48780487804879%, Precision: 82.75862068965517%, Recall: 88.88888888888889%, F1 Score: 85.71428571428571%, AUC: 88.62433862433863%\n",
      "Epoch 5/50, Loss: 0.00407106159920139\n",
      "Validation started\n",
      "Validation Loss: 1.0086301207542419, Accuracy: 80.48780487804879%, Precision: 82.75862068965517%, Recall: 88.88888888888889%, F1 Score: 85.71428571428571%, AUC: 88.62433862433863%\n",
      "Epoch 6/50, Loss: 0.00408700416197202\n",
      "Validation started\n",
      "Validation Loss: 1.0164902627468109, Accuracy: 80.48780487804879%, Precision: 82.75862068965517%, Recall: 88.88888888888889%, F1 Score: 85.71428571428571%, AUC: 88.62433862433863%\n",
      "Epoch 7/50, Loss: 0.004051157589336591\n",
      "Validation started\n",
      "Validation Loss: 1.0241459608078003, Accuracy: 80.48780487804879%, Precision: 82.75862068965517%, Recall: 88.88888888888889%, F1 Score: 85.71428571428571%, AUC: 88.62433862433863%\n",
      "Epoch 8/50, Loss: 0.004033900913782418\n",
      "Validation started\n",
      "Early stopping triggered at epoch 8\n",
      "Fine-tuning completed.\n",
      "Epoch 1/50, Loss: 0.0024635857470067485\n",
      "Validation started\n",
      "Validation Loss: 1.044270896911621, Accuracy: 79.26829268292683%, Precision: 81.35593220338984%, Recall: 88.88888888888889%, F1 Score: 84.95575221238938%, AUC: 84.9867724867725%\n"
     ]
    },
    {
     "name": "stderr",
     "output_type": "stream",
     "text": [
      "/home/leilapirhaji/mz_embed_engine/ml/finetune/freez_encoder_latent_avg.py:370: FutureWarning:\n",
      "\n",
      "The behavior of DataFrame concatenation with empty or all-NA entries is deprecated. In a future version, this will no longer exclude empty or all-NA columns when determining the result dtypes. To retain the old behavior, exclude the relevant entries before the concat operation.\n",
      "\n"
     ]
    },
    {
     "name": "stdout",
     "output_type": "stream",
     "text": [
      "Epoch 2/50, Loss: 0.0025337843357452323\n",
      "Validation started\n",
      "Validation Loss: 1.053440397977829, Accuracy: 80.48780487804879%, Precision: 81.66666666666667%, Recall: 90.74074074074075%, F1 Score: 85.96491228070175%, AUC: 84.9867724867725%\n",
      "Epoch 3/50, Loss: 0.0025341804305623683\n",
      "Validation started\n",
      "Validation Loss: 1.0592620372772217, Accuracy: 80.48780487804879%, Precision: 81.66666666666667%, Recall: 90.74074074074075%, F1 Score: 85.96491228070175%, AUC: 85.08597883597884%\n",
      "Epoch 4/50, Loss: 0.0024293267966381143\n",
      "Validation started\n",
      "Validation Loss: 1.067673173546791, Accuracy: 80.48780487804879%, Precision: 81.66666666666667%, Recall: 90.74074074074075%, F1 Score: 85.96491228070175%, AUC: 84.9867724867725%\n",
      "Epoch 5/50, Loss: 0.002463558655498283\n",
      "Validation started\n",
      "Validation Loss: 1.0722471714019775, Accuracy: 80.48780487804879%, Precision: 81.66666666666667%, Recall: 90.74074074074075%, F1 Score: 85.96491228070175%, AUC: 84.9867724867725%\n",
      "Epoch 6/50, Loss: 0.0024322239748601404\n",
      "Validation started\n",
      "Validation Loss: 1.0767218202352524, Accuracy: 80.48780487804879%, Precision: 81.66666666666667%, Recall: 90.74074074074075%, F1 Score: 85.96491228070175%, AUC: 84.9867724867725%\n",
      "Epoch 7/50, Loss: 0.0023252671152087195\n",
      "Validation started\n",
      "Validation Loss: 1.0811705619096756, Accuracy: 80.48780487804879%, Precision: 81.66666666666667%, Recall: 90.74074074074075%, F1 Score: 85.96491228070175%, AUC: 85.05291005291006%\n",
      "Epoch 8/50, Loss: 0.0023521272565371226\n",
      "Validation started\n",
      "Validation Loss: 1.0858968108892442, Accuracy: 78.04878048780488%, Precision: 81.03448275862068%, Recall: 87.03703703703704%, F1 Score: 83.92857142857143%, AUC: 85.11904761904762%\n",
      "Epoch 9/50, Loss: 0.002338106494529971\n",
      "Validation started\n",
      "Validation Loss: 1.096033290028572, Accuracy: 78.04878048780488%, Precision: 81.03448275862068%, Recall: 87.03703703703704%, F1 Score: 83.92857142857143%, AUC: 84.95370370370371%\n",
      "Epoch 10/50, Loss: 0.0023750133446550797\n",
      "Validation started\n",
      "Validation Loss: 1.1009058058261871, Accuracy: 80.48780487804879%, Precision: 81.66666666666667%, Recall: 90.74074074074075%, F1 Score: 85.96491228070175%, AUC: 85.01984126984127%\n",
      "Epoch 11/50, Loss: 0.0023242007342300247\n",
      "Validation started\n",
      "Validation Loss: 1.105183881521225, Accuracy: 79.26829268292683%, Precision: 81.35593220338984%, Recall: 88.88888888888889%, F1 Score: 84.95575221238938%, AUC: 85.05291005291006%\n",
      "Epoch 12/50, Loss: 0.002378668702606644\n",
      "Validation started\n",
      "Validation Loss: 1.1096889615058898, Accuracy: 78.04878048780488%, Precision: 81.03448275862068%, Recall: 87.03703703703704%, F1 Score: 83.92857142857143%, AUC: 85.05291005291006%\n",
      "Epoch 13/50, Loss: 0.002358056604862213\n",
      "Validation started\n",
      "Early stopping triggered at epoch 13\n",
      "Fine-tuning completed.\n"
     ]
    },
    {
     "name": "stderr",
     "output_type": "stream",
     "text": [
      "[I 2024-09-17 03:19:32,468] Trial 16 finished with value: 88.62433862433863 and parameters: {'add_post_latent_layers': False, 'num_layers_to_retrain': 1, 'batch_size': 32, 'learning_rate': 6.892395865904397e-06, 'dropout': 0.154863906611119, 'l1_reg_weight': 1.1279452056497618e-07, 'l2_reg_weight': 1.0438663872575268e-06}. Best is trial 1 with value: 88.75661375661376.\n",
      "/home/leilapirhaji/mz_embed_engine/ml/finetune/retrain_finetune_VAE.py:143: FutureWarning:\n",
      "\n",
      "suggest_loguniform has been deprecated in v3.0.0. This feature will be removed in v6.0.0. See https://github.com/optuna/optuna/releases/tag/v3.0.0. Use suggest_float(..., log=True) instead.\n",
      "\n",
      "/home/leilapirhaji/mz_embed_engine/ml/finetune/retrain_finetune_VAE.py:144: FutureWarning:\n",
      "\n",
      "suggest_uniform has been deprecated in v3.0.0. This feature will be removed in v6.0.0. See https://github.com/optuna/optuna/releases/tag/v3.0.0. Use suggest_float instead.\n",
      "\n",
      "/home/leilapirhaji/mz_embed_engine/ml/finetune/retrain_finetune_VAE.py:145: FutureWarning:\n",
      "\n",
      "suggest_loguniform has been deprecated in v3.0.0. This feature will be removed in v6.0.0. See https://github.com/optuna/optuna/releases/tag/v3.0.0. Use suggest_float(..., log=True) instead.\n",
      "\n",
      "/home/leilapirhaji/mz_embed_engine/ml/finetune/retrain_finetune_VAE.py:146: FutureWarning:\n",
      "\n",
      "suggest_loguniform has been deprecated in v3.0.0. This feature will be removed in v6.0.0. See https://github.com/optuna/optuna/releases/tag/v3.0.0. Use suggest_float(..., log=True) instead.\n",
      "\n"
     ]
    },
    {
     "name": "stdout",
     "output_type": "stream",
     "text": [
      "Epoch 1/50, Loss: 1.3694367153303963\n",
      "Validation started\n",
      "Validation Loss: 2.356883907318115, Accuracy: 80.48780487804879%, Precision: 82.75862068965517%, Recall: 88.88888888888889%, F1 Score: 85.71428571428571%, AUC: 88.55820105820106%\n",
      "Epoch 2/50, Loss: 1.3676920788628715\n",
      "Validation started\n"
     ]
    },
    {
     "name": "stderr",
     "output_type": "stream",
     "text": [
      "/home/leilapirhaji/mz_embed_engine/ml/finetune/freez_encoder_latent_avg.py:370: FutureWarning:\n",
      "\n",
      "The behavior of DataFrame concatenation with empty or all-NA entries is deprecated. In a future version, this will no longer exclude empty or all-NA columns when determining the result dtypes. To retain the old behavior, exclude the relevant entries before the concat operation.\n",
      "\n"
     ]
    },
    {
     "name": "stdout",
     "output_type": "stream",
     "text": [
      "Validation Loss: 2.3378538131713866, Accuracy: 80.48780487804879%, Precision: 82.75862068965517%, Recall: 88.88888888888889%, F1 Score: 85.71428571428571%, AUC: 88.55820105820106%\n",
      "Epoch 3/50, Loss: 1.3661731396402632\n",
      "Validation started\n",
      "Validation Loss: 2.3204519271850588, Accuracy: 80.48780487804879%, Precision: 82.75862068965517%, Recall: 88.88888888888889%, F1 Score: 85.71428571428571%, AUC: 88.69047619047619%\n",
      "Epoch 4/50, Loss: 1.3648358583450317\n",
      "Validation started\n",
      "Validation Loss: 2.303861713409424, Accuracy: 80.48780487804879%, Precision: 82.75862068965517%, Recall: 88.88888888888889%, F1 Score: 85.71428571428571%, AUC: 88.69047619047619%\n",
      "Epoch 5/50, Loss: 1.3635417819023132\n",
      "Validation started\n",
      "Validation Loss: 2.2878124952316283, Accuracy: 80.48780487804879%, Precision: 82.75862068965517%, Recall: 88.88888888888889%, F1 Score: 85.71428571428571%, AUC: 88.75661375661376%\n",
      "Epoch 6/50, Loss: 1.3624529583113534\n",
      "Validation started\n",
      "Validation Loss: 2.272679591178894, Accuracy: 80.48780487804879%, Precision: 82.75862068965517%, Recall: 88.88888888888889%, F1 Score: 85.71428571428571%, AUC: 88.69047619047619%\n",
      "Epoch 7/50, Loss: 1.3613664082118444\n",
      "Validation started\n",
      "Validation Loss: 2.2585283279418946, Accuracy: 80.48780487804879%, Precision: 82.75862068965517%, Recall: 88.88888888888889%, F1 Score: 85.71428571428571%, AUC: 88.75661375661376%\n",
      "Epoch 8/50, Loss: 1.3603920340538025\n",
      "Validation started\n",
      "Validation Loss: 2.245040273666382, Accuracy: 80.48780487804879%, Precision: 82.75862068965517%, Recall: 88.88888888888889%, F1 Score: 85.71428571428571%, AUC: 88.75661375661376%\n",
      "Epoch 9/50, Loss: 1.3595748884337289\n",
      "Validation started\n",
      "Validation Loss: 2.2330322742462156, Accuracy: 80.48780487804879%, Precision: 82.75862068965517%, Recall: 88.88888888888889%, F1 Score: 85.71428571428571%, AUC: 88.75661375661376%\n",
      "Epoch 10/50, Loss: 1.3587239725249154\n",
      "Validation started\n",
      "Early stopping triggered at epoch 10\n",
      "Fine-tuning completed.\n",
      "Epoch 1/50, Loss: 0.6693623491695949\n",
      "Validation started\n",
      "Validation Loss: 1.7382277488708495, Accuracy: 78.04878048780488%, Precision: 81.03448275862068%, Recall: 87.03703703703704%, F1 Score: 83.92857142857143%, AUC: 85.11904761904762%\n",
      "Epoch 2/50, Loss: 0.6684616378375462\n",
      "Validation started\n"
     ]
    },
    {
     "name": "stderr",
     "output_type": "stream",
     "text": [
      "/home/leilapirhaji/mz_embed_engine/ml/finetune/freez_encoder_latent_avg.py:370: FutureWarning:\n",
      "\n",
      "The behavior of DataFrame concatenation with empty or all-NA entries is deprecated. In a future version, this will no longer exclude empty or all-NA columns when determining the result dtypes. To retain the old behavior, exclude the relevant entries before the concat operation.\n",
      "\n"
     ]
    },
    {
     "name": "stdout",
     "output_type": "stream",
     "text": [
      "Validation Loss: 1.7282570838928222, Accuracy: 78.04878048780488%, Precision: 81.03448275862068%, Recall: 87.03703703703704%, F1 Score: 83.92857142857143%, AUC: 85.11904761904762%\n",
      "Epoch 3/50, Loss: 0.6676251930849892\n",
      "Validation started\n",
      "Validation Loss: 1.7189676761627197, Accuracy: 78.04878048780488%, Precision: 81.03448275862068%, Recall: 87.03703703703704%, F1 Score: 83.92857142857143%, AUC: 85.21825396825398%\n",
      "Epoch 4/50, Loss: 0.6667237452098301\n",
      "Validation started\n",
      "Validation Loss: 1.710299587249756, Accuracy: 76.82926829268293%, Precision: 80.7017543859649%, Recall: 85.18518518518519%, F1 Score: 82.88288288288288%, AUC: 85.21825396825398%\n",
      "Epoch 5/50, Loss: 0.6660351625510624\n",
      "Validation started\n",
      "Validation Loss: 1.7021172285079955, Accuracy: 76.82926829268293%, Precision: 80.7017543859649%, Recall: 85.18518518518519%, F1 Score: 82.88288288288288%, AUC: 85.21825396825398%\n",
      "Epoch 6/50, Loss: 0.6652928292751312\n",
      "Validation started\n",
      "Validation Loss: 1.6944398045539857, Accuracy: 76.82926829268293%, Precision: 80.7017543859649%, Recall: 85.18518518518519%, F1 Score: 82.88288288288288%, AUC: 85.18518518518519%\n",
      "Epoch 7/50, Loss: 0.6644997085843768\n",
      "Validation started\n",
      "Validation Loss: 1.685605788230896, Accuracy: 76.82926829268293%, Precision: 80.7017543859649%, Recall: 85.18518518518519%, F1 Score: 82.88288288288288%, AUC: 85.21825396825396%\n",
      "Epoch 8/50, Loss: 0.6638780278818948\n",
      "Validation started\n",
      "Early stopping triggered at epoch 8\n",
      "Fine-tuning completed.\n"
     ]
    },
    {
     "name": "stderr",
     "output_type": "stream",
     "text": [
      "[I 2024-09-17 03:19:35,914] Trial 17 finished with value: 88.75661375661376 and parameters: {'add_post_latent_layers': False, 'num_layers_to_retrain': 1, 'batch_size': 32, 'learning_rate': 1.0507689504935475e-05, 'dropout': 0.27189462045496, 'l1_reg_weight': 4.152018750391718e-05, 'l2_reg_weight': 3.656732472966628e-05}. Best is trial 1 with value: 88.75661375661376.\n",
      "/home/leilapirhaji/mz_embed_engine/ml/finetune/retrain_finetune_VAE.py:143: FutureWarning:\n",
      "\n",
      "suggest_loguniform has been deprecated in v3.0.0. This feature will be removed in v6.0.0. See https://github.com/optuna/optuna/releases/tag/v3.0.0. Use suggest_float(..., log=True) instead.\n",
      "\n",
      "/home/leilapirhaji/mz_embed_engine/ml/finetune/retrain_finetune_VAE.py:144: FutureWarning:\n",
      "\n",
      "suggest_uniform has been deprecated in v3.0.0. This feature will be removed in v6.0.0. See https://github.com/optuna/optuna/releases/tag/v3.0.0. Use suggest_float instead.\n",
      "\n",
      "/home/leilapirhaji/mz_embed_engine/ml/finetune/retrain_finetune_VAE.py:145: FutureWarning:\n",
      "\n",
      "suggest_loguniform has been deprecated in v3.0.0. This feature will be removed in v6.0.0. See https://github.com/optuna/optuna/releases/tag/v3.0.0. Use suggest_float(..., log=True) instead.\n",
      "\n",
      "/home/leilapirhaji/mz_embed_engine/ml/finetune/retrain_finetune_VAE.py:146: FutureWarning:\n",
      "\n",
      "suggest_loguniform has been deprecated in v3.0.0. This feature will be removed in v6.0.0. See https://github.com/optuna/optuna/releases/tag/v3.0.0. Use suggest_float(..., log=True) instead.\n",
      "\n",
      "/home/leilapirhaji/mz_embed_engine/ml/finetune/freez_encoder_latent_avg.py:370: FutureWarning:\n",
      "\n",
      "The behavior of DataFrame concatenation with empty or all-NA entries is deprecated. In a future version, this will no longer exclude empty or all-NA columns when determining the result dtypes. To retain the old behavior, exclude the relevant entries before the concat operation.\n",
      "\n"
     ]
    },
    {
     "name": "stdout",
     "output_type": "stream",
     "text": [
      "Epoch 1/50, Loss: 0.13457260813031877\n",
      "Validation started\n",
      "Validation Loss: 0.986083161830902, Accuracy: 80.48780487804879%, Precision: 82.75862068965517%, Recall: 88.88888888888889%, F1 Score: 85.71428571428571%, AUC: 88.75661375661376%\n",
      "Epoch 2/50, Loss: 0.13448472214596613\n",
      "Validation started\n",
      "Validation Loss: 0.9998095989227295, Accuracy: 80.48780487804879%, Precision: 82.75862068965517%, Recall: 88.88888888888889%, F1 Score: 85.71428571428571%, AUC: 88.75661375661376%\n",
      "Epoch 3/50, Loss: 0.13431411662272044\n",
      "Validation started\n",
      "Validation Loss: 1.0203562557697297, Accuracy: 80.48780487804879%, Precision: 82.75862068965517%, Recall: 88.88888888888889%, F1 Score: 85.71428571428571%, AUC: 88.75661375661376%\n",
      "Epoch 4/50, Loss: 0.13425486641270773\n",
      "Validation started\n",
      "Validation Loss: 1.0306111335754395, Accuracy: 80.48780487804879%, Precision: 82.75862068965517%, Recall: 88.88888888888889%, F1 Score: 85.71428571428571%, AUC: 88.75661375661376%\n",
      "Epoch 5/50, Loss: 0.13412694845880782\n",
      "Validation started\n",
      "Validation Loss: 1.0388590037822723, Accuracy: 80.48780487804879%, Precision: 82.75862068965517%, Recall: 88.88888888888889%, F1 Score: 85.71428571428571%, AUC: 88.82275132275133%\n",
      "Epoch 6/50, Loss: 0.13414272985288075\n",
      "Validation started\n",
      "Validation Loss: 1.0461066782474517, Accuracy: 80.48780487804879%, Precision: 82.75862068965517%, Recall: 88.88888888888889%, F1 Score: 85.71428571428571%, AUC: 88.82275132275133%\n",
      "Epoch 7/50, Loss: 0.13406072769846236\n",
      "Validation started\n",
      "Validation Loss: 1.0533783435821533, Accuracy: 80.48780487804879%, Precision: 82.75862068965517%, Recall: 88.88888888888889%, F1 Score: 85.71428571428571%, AUC: 88.82275132275133%\n",
      "Epoch 8/50, Loss: 0.13401022659880774\n",
      "Validation started\n",
      "Validation Loss: 1.059294205904007, Accuracy: 80.48780487804879%, Precision: 82.75862068965517%, Recall: 88.88888888888889%, F1 Score: 85.71428571428571%, AUC: 88.82275132275133%\n",
      "Epoch 9/50, Loss: 0.13400882588965551\n",
      "Validation started\n",
      "Validation Loss: 1.0662755787372589, Accuracy: 80.48780487804879%, Precision: 82.75862068965517%, Recall: 88.88888888888889%, F1 Score: 85.71428571428571%, AUC: 88.82275132275133%\n",
      "Epoch 10/50, Loss: 0.13393403163978032\n",
      "Validation started\n",
      "Early stopping triggered at epoch 10\n",
      "Fine-tuning completed.\n",
      "Epoch 1/50, Loss: 0.06599519614662443\n",
      "Validation started\n"
     ]
    },
    {
     "name": "stderr",
     "output_type": "stream",
     "text": [
      "/home/leilapirhaji/mz_embed_engine/ml/finetune/freez_encoder_latent_avg.py:370: FutureWarning:\n",
      "\n",
      "The behavior of DataFrame concatenation with empty or all-NA entries is deprecated. In a future version, this will no longer exclude empty or all-NA columns when determining the result dtypes. To retain the old behavior, exclude the relevant entries before the concat operation.\n",
      "\n"
     ]
    },
    {
     "name": "stdout",
     "output_type": "stream",
     "text": [
      "Validation Loss: 1.0673134624958038, Accuracy: 79.26829268292683%, Precision: 81.35593220338984%, Recall: 88.88888888888889%, F1 Score: 84.95575221238938%, AUC: 85.05291005291006%\n",
      "Epoch 2/50, Loss: 0.06600600640688624\n",
      "Validation started\n",
      "Validation Loss: 1.0795712530612946, Accuracy: 80.48780487804879%, Precision: 81.66666666666667%, Recall: 90.74074074074075%, F1 Score: 85.96491228070175%, AUC: 85.01984126984127%\n",
      "Epoch 3/50, Loss: 0.06596993229218892\n",
      "Validation started\n",
      "Validation Loss: 1.0891373991966247, Accuracy: 80.48780487804879%, Precision: 81.66666666666667%, Recall: 90.74074074074075%, F1 Score: 85.96491228070175%, AUC: 85.01984126984127%\n",
      "Epoch 4/50, Loss: 0.06581393256783485\n",
      "Validation started\n",
      "Validation Loss: 1.0941618621349334, Accuracy: 79.26829268292683%, Precision: 81.35593220338984%, Recall: 88.88888888888889%, F1 Score: 84.95575221238938%, AUC: 85.01984126984127%\n",
      "Epoch 5/50, Loss: 0.06583016046455928\n",
      "Validation started\n",
      "Validation Loss: 1.1014318585395813, Accuracy: 79.26829268292683%, Precision: 81.35593220338984%, Recall: 88.88888888888889%, F1 Score: 84.95575221238938%, AUC: 84.9867724867725%\n",
      "Epoch 6/50, Loss: 0.06576262999858175\n",
      "Validation started\n",
      "Early stopping triggered at epoch 6\n",
      "Fine-tuning completed.\n"
     ]
    },
    {
     "name": "stderr",
     "output_type": "stream",
     "text": [
      "[I 2024-09-17 03:19:38,935] Trial 18 finished with value: 88.82275132275133 and parameters: {'add_post_latent_layers': False, 'num_layers_to_retrain': 1, 'batch_size': 32, 'learning_rate': 2.3869610916227712e-05, 'dropout': 0.3292480543156034, 'l1_reg_weight': 4.075678609967762e-06, 'l2_reg_weight': 3.634635518387705e-07}. Best is trial 18 with value: 88.82275132275133.\n",
      "/home/leilapirhaji/mz_embed_engine/ml/finetune/retrain_finetune_VAE.py:143: FutureWarning:\n",
      "\n",
      "suggest_loguniform has been deprecated in v3.0.0. This feature will be removed in v6.0.0. See https://github.com/optuna/optuna/releases/tag/v3.0.0. Use suggest_float(..., log=True) instead.\n",
      "\n",
      "/home/leilapirhaji/mz_embed_engine/ml/finetune/retrain_finetune_VAE.py:144: FutureWarning:\n",
      "\n",
      "suggest_uniform has been deprecated in v3.0.0. This feature will be removed in v6.0.0. See https://github.com/optuna/optuna/releases/tag/v3.0.0. Use suggest_float instead.\n",
      "\n",
      "/home/leilapirhaji/mz_embed_engine/ml/finetune/retrain_finetune_VAE.py:145: FutureWarning:\n",
      "\n",
      "suggest_loguniform has been deprecated in v3.0.0. This feature will be removed in v6.0.0. See https://github.com/optuna/optuna/releases/tag/v3.0.0. Use suggest_float(..., log=True) instead.\n",
      "\n",
      "/home/leilapirhaji/mz_embed_engine/ml/finetune/retrain_finetune_VAE.py:146: FutureWarning:\n",
      "\n",
      "suggest_loguniform has been deprecated in v3.0.0. This feature will be removed in v6.0.0. See https://github.com/optuna/optuna/releases/tag/v3.0.0. Use suggest_float(..., log=True) instead.\n",
      "\n",
      "/home/leilapirhaji/mz_embed_engine/ml/finetune/freez_encoder_latent_avg.py:370: FutureWarning:\n",
      "\n",
      "The behavior of DataFrame concatenation with empty or all-NA entries is deprecated. In a future version, this will no longer exclude empty or all-NA columns when determining the result dtypes. To retain the old behavior, exclude the relevant entries before the concat operation.\n",
      "\n"
     ]
    },
    {
     "name": "stdout",
     "output_type": "stream",
     "text": [
      "Epoch 1/50, Loss: 0.17545870478664125\n",
      "Validation started\n",
      "Validation Loss: 1.0628238022327423, Accuracy: 80.48780487804879%, Precision: 82.75862068965517%, Recall: 88.88888888888889%, F1 Score: 85.71428571428571%, AUC: 88.82275132275133%\n",
      "Epoch 2/50, Loss: 0.17540487753493444\n",
      "Validation started\n",
      "Validation Loss: 1.0693223476409912, Accuracy: 80.48780487804879%, Precision: 82.75862068965517%, Recall: 88.88888888888889%, F1 Score: 85.71428571428571%, AUC: 88.82275132275133%\n",
      "Epoch 3/50, Loss: 0.17527940550020762\n",
      "Validation started\n",
      "Validation Loss: 1.0823917388916016, Accuracy: 80.48780487804879%, Precision: 82.75862068965517%, Recall: 88.88888888888889%, F1 Score: 85.71428571428571%, AUC: 88.82275132275133%\n",
      "Epoch 4/50, Loss: 0.17523240936653955\n",
      "Validation started\n",
      "Validation Loss: 1.0882599472999572, Accuracy: 80.48780487804879%, Precision: 82.75862068965517%, Recall: 88.88888888888889%, F1 Score: 85.71428571428571%, AUC: 88.82275132275133%\n",
      "Epoch 5/50, Loss: 0.17511620691844396\n",
      "Validation started\n",
      "Validation Loss: 1.0926019906997682, Accuracy: 80.48780487804879%, Precision: 82.75862068965517%, Recall: 88.88888888888889%, F1 Score: 85.71428571428571%, AUC: 88.82275132275133%\n",
      "Epoch 6/50, Loss: 0.17512797032083785\n",
      "Validation started\n",
      "Early stopping triggered at epoch 6\n",
      "Fine-tuning completed.\n",
      "Epoch 1/50, Loss: 0.08593181254608291\n",
      "Validation started\n",
      "Validation Loss: 1.0884751498699188, Accuracy: 80.48780487804879%, Precision: 81.66666666666667%, Recall: 90.74074074074075%, F1 Score: 85.96491228070175%, AUC: 84.9867724867725%\n",
      "Epoch 2/50, Loss: 0.08596123329230718\n",
      "Validation started\n"
     ]
    },
    {
     "name": "stderr",
     "output_type": "stream",
     "text": [
      "/home/leilapirhaji/mz_embed_engine/ml/finetune/freez_encoder_latent_avg.py:370: FutureWarning:\n",
      "\n",
      "The behavior of DataFrame concatenation with empty or all-NA entries is deprecated. In a future version, this will no longer exclude empty or all-NA columns when determining the result dtypes. To retain the old behavior, exclude the relevant entries before the concat operation.\n",
      "\n"
     ]
    },
    {
     "name": "stdout",
     "output_type": "stream",
     "text": [
      "Validation Loss: 1.0963188409805298, Accuracy: 79.26829268292683%, Precision: 81.35593220338984%, Recall: 88.88888888888889%, F1 Score: 84.95575221238938%, AUC: 84.9867724867725%\n",
      "Epoch 3/50, Loss: 0.08591290935873985\n",
      "Validation started\n",
      "Validation Loss: 1.1042226672172546, Accuracy: 80.48780487804879%, Precision: 81.66666666666667%, Recall: 90.74074074074075%, F1 Score: 85.96491228070175%, AUC: 84.9867724867725%\n",
      "Epoch 4/50, Loss: 0.08574413827487401\n",
      "Validation started\n",
      "Validation Loss: 1.105674296617508, Accuracy: 79.26829268292683%, Precision: 81.35593220338984%, Recall: 88.88888888888889%, F1 Score: 84.95575221238938%, AUC: 85.11904761904762%\n",
      "Epoch 5/50, Loss: 0.08575956842729024\n",
      "Validation started\n",
      "Validation Loss: 1.1135941863059997, Accuracy: 79.26829268292683%, Precision: 81.35593220338984%, Recall: 88.88888888888889%, F1 Score: 84.95575221238938%, AUC: 84.95370370370371%\n",
      "Epoch 6/50, Loss: 0.08567918624196734\n",
      "Validation started\n",
      "Validation Loss: 1.1144909679889679, Accuracy: 79.26829268292683%, Precision: 81.35593220338984%, Recall: 88.88888888888889%, F1 Score: 84.95575221238938%, AUC: 85.08597883597884%\n",
      "Epoch 7/50, Loss: 0.08551707065531186\n",
      "Validation started\n",
      "Validation Loss: 1.1192002713680267, Accuracy: 79.26829268292683%, Precision: 81.35593220338984%, Recall: 88.88888888888889%, F1 Score: 84.95575221238938%, AUC: 84.9867724867725%\n",
      "Epoch 8/50, Loss: 0.0855246904705252\n",
      "Validation started\n",
      "Validation Loss: 1.1235331058502198, Accuracy: 79.26829268292683%, Precision: 81.35593220338984%, Recall: 88.88888888888889%, F1 Score: 84.95575221238938%, AUC: 85.01984126984127%\n",
      "Epoch 9/50, Loss: 0.0854797118476459\n",
      "Validation started\n",
      "Early stopping triggered at epoch 9\n",
      "Fine-tuning completed.\n"
     ]
    },
    {
     "name": "stderr",
     "output_type": "stream",
     "text": [
      "[I 2024-09-17 03:19:41,778] Trial 19 finished with value: 88.82275132275133 and parameters: {'add_post_latent_layers': False, 'num_layers_to_retrain': 1, 'batch_size': 32, 'learning_rate': 2.5534752095279897e-05, 'dropout': 0.1080678201330256, 'l1_reg_weight': 5.336186679951722e-06, 'l2_reg_weight': 1.9156695298679073e-06}. Best is trial 18 with value: 88.82275132275133.\n",
      "/home/leilapirhaji/mz_embed_engine/ml/finetune/retrain_finetune_VAE.py:143: FutureWarning:\n",
      "\n",
      "suggest_loguniform has been deprecated in v3.0.0. This feature will be removed in v6.0.0. See https://github.com/optuna/optuna/releases/tag/v3.0.0. Use suggest_float(..., log=True) instead.\n",
      "\n",
      "/home/leilapirhaji/mz_embed_engine/ml/finetune/retrain_finetune_VAE.py:144: FutureWarning:\n",
      "\n",
      "suggest_uniform has been deprecated in v3.0.0. This feature will be removed in v6.0.0. See https://github.com/optuna/optuna/releases/tag/v3.0.0. Use suggest_float instead.\n",
      "\n",
      "/home/leilapirhaji/mz_embed_engine/ml/finetune/retrain_finetune_VAE.py:145: FutureWarning:\n",
      "\n",
      "suggest_loguniform has been deprecated in v3.0.0. This feature will be removed in v6.0.0. See https://github.com/optuna/optuna/releases/tag/v3.0.0. Use suggest_float(..., log=True) instead.\n",
      "\n",
      "/home/leilapirhaji/mz_embed_engine/ml/finetune/retrain_finetune_VAE.py:146: FutureWarning:\n",
      "\n",
      "suggest_loguniform has been deprecated in v3.0.0. This feature will be removed in v6.0.0. See https://github.com/optuna/optuna/releases/tag/v3.0.0. Use suggest_float(..., log=True) instead.\n",
      "\n",
      "/home/leilapirhaji/mz_embed_engine/ml/finetune/freez_encoder_latent_avg.py:370: FutureWarning:\n",
      "\n",
      "The behavior of DataFrame concatenation with empty or all-NA entries is deprecated. In a future version, this will no longer exclude empty or all-NA columns when determining the result dtypes. To retain the old behavior, exclude the relevant entries before the concat operation.\n",
      "\n"
     ]
    },
    {
     "name": "stdout",
     "output_type": "stream",
     "text": [
      "Epoch 1/50, Loss: 0.14565041661262512\n",
      "Validation started\n",
      "Validation Loss: 1.0420053601264954, Accuracy: 80.48780487804879%, Precision: 82.75862068965517%, Recall: 88.88888888888889%, F1 Score: 85.71428571428571%, AUC: 88.75661375661376%\n",
      "Epoch 2/50, Loss: 0.14559138992003032\n",
      "Validation started\n",
      "Validation Loss: 1.0578075766563415, Accuracy: 80.48780487804879%, Precision: 82.75862068965517%, Recall: 88.88888888888889%, F1 Score: 85.71428571428571%, AUC: 88.82275132275133%\n",
      "Epoch 3/50, Loss: 0.1454485154577664\n",
      "Validation started\n",
      "Validation Loss: 1.077622640132904, Accuracy: 80.48780487804879%, Precision: 82.75862068965517%, Recall: 88.88888888888889%, F1 Score: 85.71428571428571%, AUC: 88.82275132275133%\n",
      "Epoch 4/50, Loss: 0.14539001349891936\n",
      "Validation started\n",
      "Validation Loss: 1.084873414039612, Accuracy: 80.48780487804879%, Precision: 82.75862068965517%, Recall: 88.88888888888889%, F1 Score: 85.71428571428571%, AUC: 88.75661375661376%\n",
      "Epoch 5/50, Loss: 0.14528608747891017\n",
      "Validation started\n",
      "Validation Loss: 1.0915659546852112, Accuracy: 80.48780487804879%, Precision: 82.75862068965517%, Recall: 88.88888888888889%, F1 Score: 85.71428571428571%, AUC: 88.82275132275133%\n",
      "Epoch 6/50, Loss: 0.14528857384409224\n",
      "Validation started\n",
      "Validation Loss: 1.0971848726272584, Accuracy: 80.48780487804879%, Precision: 82.75862068965517%, Recall: 88.88888888888889%, F1 Score: 85.71428571428571%, AUC: 88.82275132275133%\n",
      "Epoch 7/50, Loss: 0.1452185788324901\n",
      "Validation started\n",
      "Early stopping triggered at epoch 7\n",
      "Fine-tuning completed.\n",
      "Epoch 1/50, Loss: 0.07132527445043836\n",
      "Validation started\n"
     ]
    },
    {
     "name": "stderr",
     "output_type": "stream",
     "text": [
      "/home/leilapirhaji/mz_embed_engine/ml/finetune/freez_encoder_latent_avg.py:370: FutureWarning:\n",
      "\n",
      "The behavior of DataFrame concatenation with empty or all-NA entries is deprecated. In a future version, this will no longer exclude empty or all-NA columns when determining the result dtypes. To retain the old behavior, exclude the relevant entries before the concat operation.\n",
      "\n"
     ]
    },
    {
     "name": "stdout",
     "output_type": "stream",
     "text": [
      "Validation Loss: 1.0656865417957306, Accuracy: 80.48780487804879%, Precision: 81.66666666666667%, Recall: 90.74074074074075%, F1 Score: 85.96491228070175%, AUC: 84.92063492063492%\n",
      "Epoch 2/50, Loss: 0.07134095898696355\n",
      "Validation started\n",
      "Validation Loss: 1.081050169467926, Accuracy: 79.26829268292683%, Precision: 81.35593220338984%, Recall: 88.88888888888889%, F1 Score: 84.95575221238938%, AUC: 84.9867724867725%\n",
      "Epoch 3/50, Loss: 0.07127369780625616\n",
      "Validation started\n",
      "Validation Loss: 1.0950043022632598, Accuracy: 80.48780487804879%, Precision: 81.66666666666667%, Recall: 90.74074074074075%, F1 Score: 85.96491228070175%, AUC: 85.05291005291006%\n",
      "Epoch 4/50, Loss: 0.07110558982406344\n",
      "Validation started\n",
      "Validation Loss: 1.105225956439972, Accuracy: 79.26829268292683%, Precision: 81.35593220338984%, Recall: 88.88888888888889%, F1 Score: 84.95575221238938%, AUC: 84.9867724867725%\n",
      "Epoch 5/50, Loss: 0.07111220114997455\n",
      "Validation started\n",
      "Validation Loss: 1.1151303112506867, Accuracy: 79.26829268292683%, Precision: 81.35593220338984%, Recall: 88.88888888888889%, F1 Score: 84.95575221238938%, AUC: 84.9867724867725%\n",
      "Epoch 6/50, Loss: 0.0710373515529292\n",
      "Validation started\n",
      "Validation Loss: 1.1214202404022218, Accuracy: 79.26829268292683%, Precision: 81.35593220338984%, Recall: 88.88888888888889%, F1 Score: 84.95575221238938%, AUC: 85.01984126984127%\n",
      "Epoch 7/50, Loss: 0.07088468383465495\n",
      "Validation started\n",
      "Validation Loss: 1.1297593355178832, Accuracy: 79.26829268292683%, Precision: 81.35593220338984%, Recall: 88.88888888888889%, F1 Score: 84.95575221238938%, AUC: 84.95370370370371%\n",
      "Epoch 8/50, Loss: 0.07089762389659882\n",
      "Validation started\n",
      "Validation Loss: 1.1328224778175353, Accuracy: 78.04878048780488%, Precision: 81.03448275862068%, Recall: 87.03703703703704%, F1 Score: 83.92857142857143%, AUC: 85.08597883597884%\n",
      "Epoch 9/50, Loss: 0.07085345525826726\n",
      "Validation started\n",
      "Validation Loss: 1.1415520310401917, Accuracy: 79.26829268292683%, Precision: 81.35593220338984%, Recall: 88.88888888888889%, F1 Score: 84.95575221238938%, AUC: 85.05291005291006%\n",
      "Epoch 10/50, Loss: 0.07087229139038495\n",
      "Validation started\n",
      "Validation Loss: 1.1523521900177003, Accuracy: 80.48780487804879%, Precision: 81.66666666666667%, Recall: 90.74074074074075%, F1 Score: 85.96491228070175%, AUC: 84.95370370370371%\n",
      "Epoch 11/50, Loss: 0.07078627443739346\n",
      "Validation started\n",
      "Validation Loss: 1.1506741046905518, Accuracy: 79.26829268292683%, Precision: 81.35593220338984%, Recall: 88.88888888888889%, F1 Score: 84.95575221238938%, AUC: 85.08597883597884%\n",
      "Epoch 12/50, Loss: 0.07082294992038182\n",
      "Validation started\n",
      "Validation Loss: 1.1604743957519532, Accuracy: 79.26829268292683%, Precision: 81.35593220338984%, Recall: 88.88888888888889%, F1 Score: 84.95575221238938%, AUC: 85.01984126984127%\n",
      "Epoch 13/50, Loss: 0.0707804055086204\n",
      "Validation started\n"
     ]
    },
    {
     "name": "stderr",
     "output_type": "stream",
     "text": [
      "[I 2024-09-17 03:19:45,387] Trial 20 finished with value: 88.82275132275133 and parameters: {'add_post_latent_layers': False, 'num_layers_to_retrain': 1, 'batch_size': 32, 'learning_rate': 3.6287325214881534e-05, 'dropout': 0.11269254671603585, 'l1_reg_weight': 4.428357189861392e-06, 'l2_reg_weight': 2.149624062722535e-06}. Best is trial 18 with value: 88.82275132275133.\n"
     ]
    },
    {
     "name": "stdout",
     "output_type": "stream",
     "text": [
      "Early stopping triggered at epoch 13\n",
      "Fine-tuning completed.\n"
     ]
    },
    {
     "name": "stderr",
     "output_type": "stream",
     "text": [
      "/home/leilapirhaji/mz_embed_engine/ml/finetune/retrain_finetune_VAE.py:143: FutureWarning:\n",
      "\n",
      "suggest_loguniform has been deprecated in v3.0.0. This feature will be removed in v6.0.0. See https://github.com/optuna/optuna/releases/tag/v3.0.0. Use suggest_float(..., log=True) instead.\n",
      "\n",
      "/home/leilapirhaji/mz_embed_engine/ml/finetune/retrain_finetune_VAE.py:144: FutureWarning:\n",
      "\n",
      "suggest_uniform has been deprecated in v3.0.0. This feature will be removed in v6.0.0. See https://github.com/optuna/optuna/releases/tag/v3.0.0. Use suggest_float instead.\n",
      "\n",
      "/home/leilapirhaji/mz_embed_engine/ml/finetune/retrain_finetune_VAE.py:145: FutureWarning:\n",
      "\n",
      "suggest_loguniform has been deprecated in v3.0.0. This feature will be removed in v6.0.0. See https://github.com/optuna/optuna/releases/tag/v3.0.0. Use suggest_float(..., log=True) instead.\n",
      "\n",
      "/home/leilapirhaji/mz_embed_engine/ml/finetune/retrain_finetune_VAE.py:146: FutureWarning:\n",
      "\n",
      "suggest_loguniform has been deprecated in v3.0.0. This feature will be removed in v6.0.0. See https://github.com/optuna/optuna/releases/tag/v3.0.0. Use suggest_float(..., log=True) instead.\n",
      "\n",
      "/home/leilapirhaji/mz_embed_engine/ml/finetune/freez_encoder_latent_avg.py:370: FutureWarning:\n",
      "\n",
      "The behavior of DataFrame concatenation with empty or all-NA entries is deprecated. In a future version, this will no longer exclude empty or all-NA columns when determining the result dtypes. To retain the old behavior, exclude the relevant entries before the concat operation.\n",
      "\n"
     ]
    },
    {
     "name": "stdout",
     "output_type": "stream",
     "text": [
      "Epoch 1/50, Loss: 0.14652480291468756\n",
      "Validation started\n",
      "Validation Loss: 1.0552771627902984, Accuracy: 80.48780487804879%, Precision: 82.75862068965517%, Recall: 88.88888888888889%, F1 Score: 85.71428571428571%, AUC: 88.75661375661376%\n",
      "Epoch 2/50, Loss: 0.1464578158089093\n",
      "Validation started\n",
      "Validation Loss: 1.0713364005088806, Accuracy: 80.48780487804879%, Precision: 82.75862068965517%, Recall: 88.88888888888889%, F1 Score: 85.71428571428571%, AUC: 88.75661375661376%\n",
      "Epoch 3/50, Loss: 0.14634280438934053\n",
      "Validation started\n",
      "Validation Loss: 1.0900269389152526, Accuracy: 80.48780487804879%, Precision: 82.75862068965517%, Recall: 88.88888888888889%, F1 Score: 85.71428571428571%, AUC: 88.69047619047619%\n",
      "Epoch 4/50, Loss: 0.14629168595586503\n",
      "Validation started\n",
      "Validation Loss: 1.0968634605407714, Accuracy: 80.48780487804879%, Precision: 82.75862068965517%, Recall: 88.88888888888889%, F1 Score: 85.71428571428571%, AUC: 88.69047619047619%\n",
      "Epoch 5/50, Loss: 0.14619305516992295\n",
      "Validation started\n",
      "Validation Loss: 1.103130429983139, Accuracy: 80.48780487804879%, Precision: 82.75862068965517%, Recall: 88.88888888888889%, F1 Score: 85.71428571428571%, AUC: 88.69047619047619%\n",
      "Epoch 6/50, Loss: 0.14619361822094237\n",
      "Validation started\n",
      "Early stopping triggered at epoch 6\n",
      "Fine-tuning completed.\n",
      "Epoch 1/50, Loss: 0.07165395841002464\n",
      "Validation started\n",
      "Validation Loss: 1.0651026129722596, Accuracy: 80.48780487804879%, Precision: 81.66666666666667%, Recall: 90.74074074074075%, F1 Score: 85.96491228070175%, AUC: 84.92063492063492%\n",
      "Epoch 2/50, Loss: 0.07167905941605568\n",
      "Validation started\n"
     ]
    },
    {
     "name": "stderr",
     "output_type": "stream",
     "text": [
      "/home/leilapirhaji/mz_embed_engine/ml/finetune/freez_encoder_latent_avg.py:370: FutureWarning:\n",
      "\n",
      "The behavior of DataFrame concatenation with empty or all-NA entries is deprecated. In a future version, this will no longer exclude empty or all-NA columns when determining the result dtypes. To retain the old behavior, exclude the relevant entries before the concat operation.\n",
      "\n"
     ]
    },
    {
     "name": "stdout",
     "output_type": "stream",
     "text": [
      "Validation Loss: 1.0822787761688233, Accuracy: 79.26829268292683%, Precision: 81.35593220338984%, Recall: 88.88888888888889%, F1 Score: 84.95575221238938%, AUC: 84.95370370370371%\n",
      "Epoch 3/50, Loss: 0.07160210343343872\n",
      "Validation started\n",
      "Validation Loss: 1.100001621246338, Accuracy: 79.26829268292683%, Precision: 81.35593220338984%, Recall: 88.88888888888889%, F1 Score: 84.95575221238938%, AUC: 84.95370370370371%\n",
      "Epoch 4/50, Loss: 0.07143475753920418\n",
      "Validation started\n",
      "Validation Loss: 1.1088264226913451, Accuracy: 79.26829268292683%, Precision: 81.35593220338984%, Recall: 88.88888888888889%, F1 Score: 84.95575221238938%, AUC: 85.05291005291006%\n",
      "Epoch 5/50, Loss: 0.07144022466880935\n",
      "Validation started\n",
      "Validation Loss: 1.1194250285625458, Accuracy: 79.26829268292683%, Precision: 81.35593220338984%, Recall: 88.88888888888889%, F1 Score: 84.95575221238938%, AUC: 85.05291005291005%\n",
      "Epoch 6/50, Loss: 0.07137019400085721\n",
      "Validation started\n",
      "Validation Loss: 1.1301698565483094, Accuracy: 79.26829268292683%, Precision: 81.35593220338984%, Recall: 88.88888888888889%, F1 Score: 84.95575221238938%, AUC: 84.95370370370371%\n",
      "Epoch 7/50, Loss: 0.071225641561406\n",
      "Validation started\n",
      "Validation Loss: 1.1351836681365968, Accuracy: 79.26829268292683%, Precision: 81.35593220338984%, Recall: 88.88888888888889%, F1 Score: 84.95575221238938%, AUC: 85.01984126984127%\n",
      "Epoch 8/50, Loss: 0.07124291094286102\n",
      "Validation started\n",
      "Validation Loss: 1.1427165567874908, Accuracy: 79.26829268292683%, Precision: 81.35593220338984%, Recall: 88.88888888888889%, F1 Score: 84.95575221238938%, AUC: 85.05291005291005%\n",
      "Epoch 9/50, Loss: 0.07119335287383624\n",
      "Validation started\n",
      "Early stopping triggered at epoch 9\n",
      "Fine-tuning completed.\n"
     ]
    },
    {
     "name": "stderr",
     "output_type": "stream",
     "text": [
      "[I 2024-09-17 03:19:48,277] Trial 21 finished with value: 88.69047619047619 and parameters: {'add_post_latent_layers': False, 'num_layers_to_retrain': 1, 'batch_size': 32, 'learning_rate': 3.9419044551954394e-05, 'dropout': 0.11445359173426875, 'l1_reg_weight': 4.459536185426919e-06, 'l2_reg_weight': 2.043461758107694e-06}. Best is trial 18 with value: 88.82275132275133.\n",
      "/home/leilapirhaji/mz_embed_engine/ml/finetune/retrain_finetune_VAE.py:143: FutureWarning:\n",
      "\n",
      "suggest_loguniform has been deprecated in v3.0.0. This feature will be removed in v6.0.0. See https://github.com/optuna/optuna/releases/tag/v3.0.0. Use suggest_float(..., log=True) instead.\n",
      "\n",
      "/home/leilapirhaji/mz_embed_engine/ml/finetune/retrain_finetune_VAE.py:144: FutureWarning:\n",
      "\n",
      "suggest_uniform has been deprecated in v3.0.0. This feature will be removed in v6.0.0. See https://github.com/optuna/optuna/releases/tag/v3.0.0. Use suggest_float instead.\n",
      "\n",
      "/home/leilapirhaji/mz_embed_engine/ml/finetune/retrain_finetune_VAE.py:145: FutureWarning:\n",
      "\n",
      "suggest_loguniform has been deprecated in v3.0.0. This feature will be removed in v6.0.0. See https://github.com/optuna/optuna/releases/tag/v3.0.0. Use suggest_float(..., log=True) instead.\n",
      "\n",
      "/home/leilapirhaji/mz_embed_engine/ml/finetune/retrain_finetune_VAE.py:146: FutureWarning:\n",
      "\n",
      "suggest_loguniform has been deprecated in v3.0.0. This feature will be removed in v6.0.0. See https://github.com/optuna/optuna/releases/tag/v3.0.0. Use suggest_float(..., log=True) instead.\n",
      "\n",
      "/home/leilapirhaji/mz_embed_engine/ml/finetune/freez_encoder_latent_avg.py:370: FutureWarning:\n",
      "\n",
      "The behavior of DataFrame concatenation with empty or all-NA entries is deprecated. In a future version, this will no longer exclude empty or all-NA columns when determining the result dtypes. To retain the old behavior, exclude the relevant entries before the concat operation.\n",
      "\n"
     ]
    },
    {
     "name": "stdout",
     "output_type": "stream",
     "text": [
      "Epoch 1/50, Loss: 0.021272583465491022\n",
      "Validation started\n",
      "Validation Loss: 0.9797823309898377, Accuracy: 80.48780487804879%, Precision: 82.75862068965517%, Recall: 88.88888888888889%, F1 Score: 85.71428571428571%, AUC: 88.69047619047619%\n",
      "Epoch 2/50, Loss: 0.021106800064444542\n",
      "Validation started\n",
      "Validation Loss: 1.031591671705246, Accuracy: 80.48780487804879%, Precision: 82.75862068965517%, Recall: 88.88888888888889%, F1 Score: 85.71428571428571%, AUC: 88.75661375661376%\n",
      "Epoch 3/50, Loss: 0.020973782587264265\n",
      "Validation started\n",
      "Validation Loss: 1.0876361310482026, Accuracy: 80.48780487804879%, Precision: 82.75862068965517%, Recall: 88.88888888888889%, F1 Score: 85.71428571428571%, AUC: 88.6904761904762%\n",
      "Epoch 4/50, Loss: 0.020931792578526905\n",
      "Validation started\n",
      "Validation Loss: 1.1047922670841217, Accuracy: 80.48780487804879%, Precision: 82.75862068965517%, Recall: 88.88888888888889%, F1 Score: 85.71428571428571%, AUC: 88.75661375661376%\n",
      "Epoch 5/50, Loss: 0.0208853276978646\n",
      "Validation started\n",
      "Validation Loss: 1.124040311574936, Accuracy: 80.48780487804879%, Precision: 82.75862068965517%, Recall: 88.88888888888889%, F1 Score: 85.71428571428571%, AUC: 88.6904761904762%\n",
      "Epoch 6/50, Loss: 0.02088418323546648\n",
      "Validation started\n",
      "Validation Loss: 1.1403929531574248, Accuracy: 80.48780487804879%, Precision: 82.75862068965517%, Recall: 88.88888888888889%, F1 Score: 85.71428571428571%, AUC: 88.6904761904762%\n",
      "Epoch 7/50, Loss: 0.02086128094898803\n",
      "Validation started\n",
      "Early stopping triggered at epoch 7\n",
      "Fine-tuning completed.\n",
      "Epoch 1/50, Loss: 0.010871151927858591\n",
      "Validation started\n"
     ]
    },
    {
     "name": "stderr",
     "output_type": "stream",
     "text": [
      "/home/leilapirhaji/mz_embed_engine/ml/finetune/freez_encoder_latent_avg.py:370: FutureWarning:\n",
      "\n",
      "The behavior of DataFrame concatenation with empty or all-NA entries is deprecated. In a future version, this will no longer exclude empty or all-NA columns when determining the result dtypes. To retain the old behavior, exclude the relevant entries before the concat operation.\n",
      "\n"
     ]
    },
    {
     "name": "stdout",
     "output_type": "stream",
     "text": [
      "Validation Loss: 1.0450460642576218, Accuracy: 80.48780487804879%, Precision: 81.66666666666667%, Recall: 90.74074074074075%, F1 Score: 85.96491228070175%, AUC: 84.88756613756614%\n",
      "Epoch 2/50, Loss: 0.010763541396175112\n",
      "Validation started\n",
      "Validation Loss: 1.0907752811908722, Accuracy: 80.48780487804879%, Precision: 81.66666666666667%, Recall: 90.74074074074075%, F1 Score: 85.96491228070175%, AUC: 84.88756613756614%\n",
      "Epoch 3/50, Loss: 0.010632149542548828\n",
      "Validation started\n",
      "Validation Loss: 1.1293588161468506, Accuracy: 80.48780487804879%, Precision: 81.66666666666667%, Recall: 90.74074074074075%, F1 Score: 85.96491228070175%, AUC: 84.85449735449735%\n",
      "Epoch 4/50, Loss: 0.010487267348383154\n",
      "Validation started\n",
      "Validation Loss: 1.151760733127594, Accuracy: 78.04878048780488%, Precision: 81.03448275862068%, Recall: 87.03703703703704%, F1 Score: 83.92857142857143%, AUC: 85.01984126984127%\n",
      "Epoch 5/50, Loss: 0.01045744919351169\n",
      "Validation started\n",
      "Validation Loss: 1.1709768712520598, Accuracy: 80.48780487804879%, Precision: 81.66666666666667%, Recall: 90.74074074074075%, F1 Score: 85.96491228070175%, AUC: 85.08597883597884%\n",
      "Epoch 6/50, Loss: 0.010402835572936706\n",
      "Validation started\n",
      "Validation Loss: 2.308626425266266, Accuracy: 79.26829268292683%, Precision: 81.35593220338984%, Recall: 88.88888888888889%, F1 Score: 84.95575221238938%, AUC: 84.62301587301587%\n",
      "Epoch 7/50, Loss: 0.010323922083313977\n",
      "Validation started\n",
      "Validation Loss: 2.3213571548461913, Accuracy: 80.48780487804879%, Precision: 81.66666666666667%, Recall: 90.74074074074075%, F1 Score: 85.96491228070175%, AUC: 84.68915343915344%\n",
      "Epoch 8/50, Loss: 0.010332204667585236\n",
      "Validation started\n",
      "Validation Loss: 2.3367579758167265, Accuracy: 78.04878048780488%, Precision: 81.03448275862068%, Recall: 87.03703703703704%, F1 Score: 83.92857142857143%, AUC: 84.72222222222221%\n",
      "Epoch 9/50, Loss: 0.010307986555354936\n",
      "Validation started\n",
      "Validation Loss: 2.3491978526115416, Accuracy: 78.04878048780488%, Precision: 81.03448275862068%, Recall: 87.03703703703704%, F1 Score: 83.92857142857143%, AUC: 84.82142857142857%\n",
      "Epoch 10/50, Loss: 0.010325300174632243\n",
      "Validation started\n"
     ]
    },
    {
     "name": "stderr",
     "output_type": "stream",
     "text": [
      "[I 2024-09-17 03:19:51,406] Trial 22 finished with value: 88.6904761904762 and parameters: {'add_post_latent_layers': False, 'num_layers_to_retrain': 1, 'batch_size': 32, 'learning_rate': 5.164212968442252e-05, 'dropout': 0.10602474849977878, 'l1_reg_weight': 6.308295051549259e-07, 'l2_reg_weight': 6.321853764668565e-06}. Best is trial 18 with value: 88.82275132275133.\n"
     ]
    },
    {
     "name": "stdout",
     "output_type": "stream",
     "text": [
      "Early stopping triggered at epoch 10\n",
      "Fine-tuning completed.\n"
     ]
    },
    {
     "name": "stderr",
     "output_type": "stream",
     "text": [
      "/home/leilapirhaji/mz_embed_engine/ml/finetune/retrain_finetune_VAE.py:143: FutureWarning:\n",
      "\n",
      "suggest_loguniform has been deprecated in v3.0.0. This feature will be removed in v6.0.0. See https://github.com/optuna/optuna/releases/tag/v3.0.0. Use suggest_float(..., log=True) instead.\n",
      "\n",
      "/home/leilapirhaji/mz_embed_engine/ml/finetune/retrain_finetune_VAE.py:144: FutureWarning:\n",
      "\n",
      "suggest_uniform has been deprecated in v3.0.0. This feature will be removed in v6.0.0. See https://github.com/optuna/optuna/releases/tag/v3.0.0. Use suggest_float instead.\n",
      "\n",
      "/home/leilapirhaji/mz_embed_engine/ml/finetune/retrain_finetune_VAE.py:145: FutureWarning:\n",
      "\n",
      "suggest_loguniform has been deprecated in v3.0.0. This feature will be removed in v6.0.0. See https://github.com/optuna/optuna/releases/tag/v3.0.0. Use suggest_float(..., log=True) instead.\n",
      "\n",
      "/home/leilapirhaji/mz_embed_engine/ml/finetune/retrain_finetune_VAE.py:146: FutureWarning:\n",
      "\n",
      "suggest_loguniform has been deprecated in v3.0.0. This feature will be removed in v6.0.0. See https://github.com/optuna/optuna/releases/tag/v3.0.0. Use suggest_float(..., log=True) instead.\n",
      "\n",
      "/home/leilapirhaji/mz_embed_engine/ml/finetune/freez_encoder_latent_avg.py:370: FutureWarning:\n",
      "\n",
      "The behavior of DataFrame concatenation with empty or all-NA entries is deprecated. In a future version, this will no longer exclude empty or all-NA columns when determining the result dtypes. To retain the old behavior, exclude the relevant entries before the concat operation.\n",
      "\n"
     ]
    },
    {
     "name": "stdout",
     "output_type": "stream",
     "text": [
      "Epoch 1/50, Loss: 0.17194374863590514\n",
      "Validation started\n",
      "Validation Loss: 1.1861143469810487, Accuracy: 80.48780487804879%, Precision: 82.75862068965517%, Recall: 88.88888888888889%, F1 Score: 85.71428571428571%, AUC: 88.69047619047619%\n",
      "Epoch 2/50, Loss: 0.1717415228486061\n",
      "Validation started\n",
      "Validation Loss: 1.1662766575813293, Accuracy: 80.48780487804879%, Precision: 82.75862068965517%, Recall: 88.88888888888889%, F1 Score: 85.71428571428571%, AUC: 88.75661375661376%\n",
      "Epoch 3/50, Loss: 0.17157627855028426\n",
      "Validation started\n",
      "Validation Loss: 1.1578455507755279, Accuracy: 80.48780487804879%, Precision: 82.75862068965517%, Recall: 88.88888888888889%, F1 Score: 85.71428571428571%, AUC: 88.75661375661376%\n",
      "Epoch 4/50, Loss: 0.1714911950486047\n",
      "Validation started\n",
      "Validation Loss: 1.15128036737442, Accuracy: 80.48780487804879%, Precision: 82.75862068965517%, Recall: 88.88888888888889%, F1 Score: 85.71428571428571%, AUC: 88.75661375661376%\n",
      "Epoch 5/50, Loss: 0.17138295833553588\n",
      "Validation started\n",
      "Validation Loss: 1.1472930252552032, Accuracy: 80.48780487804879%, Precision: 82.75862068965517%, Recall: 88.88888888888889%, F1 Score: 85.71428571428571%, AUC: 88.69047619047619%\n",
      "Epoch 6/50, Loss: 0.17136462139231817\n",
      "Validation started\n",
      "Validation Loss: 1.1447024166584014, Accuracy: 80.48780487804879%, Precision: 82.75862068965517%, Recall: 88.88888888888889%, F1 Score: 85.71428571428571%, AUC: 88.69047619047619%\n",
      "Epoch 7/50, Loss: 0.17129767579691751\n",
      "Validation started\n",
      "Early stopping triggered at epoch 7\n",
      "Fine-tuning completed.\n",
      "Epoch 1/50, Loss: 0.08408865811569351\n",
      "Validation started\n"
     ]
    },
    {
     "name": "stderr",
     "output_type": "stream",
     "text": [
      "/home/leilapirhaji/mz_embed_engine/ml/finetune/freez_encoder_latent_avg.py:370: FutureWarning:\n",
      "\n",
      "The behavior of DataFrame concatenation with empty or all-NA entries is deprecated. In a future version, this will no longer exclude empty or all-NA columns when determining the result dtypes. To retain the old behavior, exclude the relevant entries before the concat operation.\n",
      "\n"
     ]
    },
    {
     "name": "stdout",
     "output_type": "stream",
     "text": [
      "Validation Loss: 1.1990630149841308, Accuracy: 80.48780487804879%, Precision: 81.66666666666667%, Recall: 90.74074074074075%, F1 Score: 85.96491228070175%, AUC: 84.75529100529101%\n",
      "Epoch 2/50, Loss: 0.08401125616260938\n",
      "Validation started\n",
      "Validation Loss: 1.1839946985244751, Accuracy: 79.26829268292683%, Precision: 81.35593220338984%, Recall: 88.88888888888889%, F1 Score: 84.95575221238938%, AUC: 85.05291005291006%\n",
      "Epoch 3/50, Loss: 0.08391624742320605\n",
      "Validation started\n",
      "Validation Loss: 1.1807629704475402, Accuracy: 79.26829268292683%, Precision: 81.35593220338984%, Recall: 88.88888888888889%, F1 Score: 84.95575221238938%, AUC: 85.05291005291006%\n",
      "Epoch 4/50, Loss: 0.08376349402325493\n",
      "Validation started\n",
      "Validation Loss: 1.177133357524872, Accuracy: 79.26829268292683%, Precision: 81.35593220338984%, Recall: 88.88888888888889%, F1 Score: 84.95575221238938%, AUC: 85.01984126984127%\n",
      "Epoch 5/50, Loss: 0.0837366266974381\n",
      "Validation started\n",
      "Validation Loss: 1.1746210634708405, Accuracy: 79.26829268292683%, Precision: 81.35593220338984%, Recall: 88.88888888888889%, F1 Score: 84.95575221238938%, AUC: 85.01984126984127%\n",
      "Epoch 6/50, Loss: 0.08365684268730027\n",
      "Validation started\n",
      "Validation Loss: 1.1734437704086305, Accuracy: 79.26829268292683%, Precision: 81.35593220338984%, Recall: 88.88888888888889%, F1 Score: 84.95575221238938%, AUC: 84.9867724867725%\n",
      "Epoch 7/50, Loss: 0.08352446449654442\n",
      "Validation started\n",
      "Early stopping triggered at epoch 7\n",
      "Fine-tuning completed.\n"
     ]
    },
    {
     "name": "stderr",
     "output_type": "stream",
     "text": [
      "[I 2024-09-17 03:19:54,082] Trial 23 finished with value: 88.69047619047619 and parameters: {'add_post_latent_layers': False, 'num_layers_to_retrain': 1, 'batch_size': 32, 'learning_rate': 2.3698897719935992e-05, 'dropout': 0.14398134744872598, 'l1_reg_weight': 5.229450219077426e-06, 'l2_reg_weight': 1.0390948424507203e-06}. Best is trial 18 with value: 88.82275132275133.\n",
      "/home/leilapirhaji/mz_embed_engine/ml/finetune/retrain_finetune_VAE.py:143: FutureWarning:\n",
      "\n",
      "suggest_loguniform has been deprecated in v3.0.0. This feature will be removed in v6.0.0. See https://github.com/optuna/optuna/releases/tag/v3.0.0. Use suggest_float(..., log=True) instead.\n",
      "\n",
      "/home/leilapirhaji/mz_embed_engine/ml/finetune/retrain_finetune_VAE.py:144: FutureWarning:\n",
      "\n",
      "suggest_uniform has been deprecated in v3.0.0. This feature will be removed in v6.0.0. See https://github.com/optuna/optuna/releases/tag/v3.0.0. Use suggest_float instead.\n",
      "\n",
      "/home/leilapirhaji/mz_embed_engine/ml/finetune/retrain_finetune_VAE.py:145: FutureWarning:\n",
      "\n",
      "suggest_loguniform has been deprecated in v3.0.0. This feature will be removed in v6.0.0. See https://github.com/optuna/optuna/releases/tag/v3.0.0. Use suggest_float(..., log=True) instead.\n",
      "\n",
      "/home/leilapirhaji/mz_embed_engine/ml/finetune/retrain_finetune_VAE.py:146: FutureWarning:\n",
      "\n",
      "suggest_loguniform has been deprecated in v3.0.0. This feature will be removed in v6.0.0. See https://github.com/optuna/optuna/releases/tag/v3.0.0. Use suggest_float(..., log=True) instead.\n",
      "\n",
      "/home/leilapirhaji/mz_embed_engine/ml/finetune/freez_encoder_latent_avg.py:370: FutureWarning:\n",
      "\n",
      "The behavior of DataFrame concatenation with empty or all-NA entries is deprecated. In a future version, this will no longer exclude empty or all-NA columns when determining the result dtypes. To retain the old behavior, exclude the relevant entries before the concat operation.\n",
      "\n"
     ]
    },
    {
     "name": "stdout",
     "output_type": "stream",
     "text": [
      "Epoch 1/50, Loss: 0.04503861016460827\n",
      "Validation started\n",
      "Validation Loss: 1.0258276402950286, Accuracy: 80.48780487804879%, Precision: 82.75862068965517%, Recall: 88.88888888888889%, F1 Score: 85.71428571428571%, AUC: 88.75661375661376%\n",
      "Epoch 2/50, Loss: 0.04491296889526503\n",
      "Validation started\n",
      "Validation Loss: 1.0803609490394592, Accuracy: 80.48780487804879%, Precision: 82.75862068965517%, Recall: 88.88888888888889%, F1 Score: 85.71428571428571%, AUC: 88.75661375661376%\n",
      "Epoch 3/50, Loss: 0.04482522340757506\n",
      "Validation started\n",
      "Validation Loss: 1.1178698658943176, Accuracy: 80.48780487804879%, Precision: 82.75862068965517%, Recall: 88.88888888888889%, F1 Score: 85.71428571428571%, AUC: 88.69047619047619%\n",
      "Epoch 4/50, Loss: 0.04478725125747068\n",
      "Validation started\n",
      "Validation Loss: 1.127952516078949, Accuracy: 80.48780487804879%, Precision: 82.75862068965517%, Recall: 88.88888888888889%, F1 Score: 85.71428571428571%, AUC: 88.6904761904762%\n",
      "Epoch 5/50, Loss: 0.04473897282566343\n",
      "Validation started\n",
      "Validation Loss: 1.1380915224552155, Accuracy: 80.48780487804879%, Precision: 82.75862068965517%, Recall: 88.88888888888889%, F1 Score: 85.71428571428571%, AUC: 88.69047619047619%\n",
      "Epoch 6/50, Loss: 0.04473365178065641\n",
      "Validation started\n",
      "Early stopping triggered at epoch 6\n",
      "Fine-tuning completed.\n",
      "Epoch 1/50, Loss: 0.02223442162254027\n",
      "Validation started\n",
      "Validation Loss: 1.1078651279211045, Accuracy: 80.48780487804879%, Precision: 81.66666666666667%, Recall: 90.74074074074075%, F1 Score: 85.96491228070175%, AUC: 84.95370370370371%\n",
      "Epoch 2/50, Loss: 0.022170523048511574\n",
      "Validation started\n"
     ]
    },
    {
     "name": "stderr",
     "output_type": "stream",
     "text": [
      "/home/leilapirhaji/mz_embed_engine/ml/finetune/freez_encoder_latent_avg.py:370: FutureWarning:\n",
      "\n",
      "The behavior of DataFrame concatenation with empty or all-NA entries is deprecated. In a future version, this will no longer exclude empty or all-NA columns when determining the result dtypes. To retain the old behavior, exclude the relevant entries before the concat operation.\n",
      "\n"
     ]
    },
    {
     "name": "stdout",
     "output_type": "stream",
     "text": [
      "Validation Loss: 1.1548593193292618, Accuracy: 80.48780487804879%, Precision: 81.66666666666667%, Recall: 90.74074074074075%, F1 Score: 85.96491228070175%, AUC: 85.01984126984127%\n",
      "Epoch 3/50, Loss: 0.022089907500360693\n",
      "Validation started\n",
      "Validation Loss: 1.182263034582138, Accuracy: 79.26829268292683%, Precision: 81.35593220338984%, Recall: 88.88888888888889%, F1 Score: 84.95575221238938%, AUC: 85.08597883597884%\n",
      "Epoch 4/50, Loss: 0.022000983357429504\n",
      "Validation started\n",
      "Validation Loss: 1.2000495970249176, Accuracy: 78.04878048780488%, Precision: 81.03448275862068%, Recall: 87.03703703703704%, F1 Score: 83.92857142857143%, AUC: 85.08597883597884%\n",
      "Epoch 5/50, Loss: 0.02198479630585228\n",
      "Validation started\n",
      "Validation Loss: 2.3333917915821076, Accuracy: 80.48780487804879%, Precision: 81.66666666666667%, Recall: 90.74074074074075%, F1 Score: 85.96491228070175%, AUC: 84.72222222222221%\n",
      "Epoch 6/50, Loss: 0.0219475638919643\n",
      "Validation started\n",
      "Validation Loss: 2.343778467178345, Accuracy: 79.26829268292683%, Precision: 81.35593220338984%, Recall: 88.88888888888889%, F1 Score: 84.95575221238938%, AUC: 84.72222222222221%\n",
      "Epoch 7/50, Loss: 0.02188321841614587\n",
      "Validation started\n",
      "Validation Loss: 2.349076062440872, Accuracy: 80.48780487804879%, Precision: 81.66666666666667%, Recall: 90.74074074074075%, F1 Score: 85.96491228070175%, AUC: 84.75529100529101%\n",
      "Epoch 8/50, Loss: 0.021890490848038877\n",
      "Validation started\n",
      "Early stopping triggered at epoch 8\n",
      "Fine-tuning completed.\n"
     ]
    },
    {
     "name": "stderr",
     "output_type": "stream",
     "text": [
      "[I 2024-09-17 03:19:56,726] Trial 24 finished with value: 88.69047619047619 and parameters: {'add_post_latent_layers': False, 'num_layers_to_retrain': 1, 'batch_size': 32, 'learning_rate': 7.378556630200326e-05, 'dropout': 0.13261708807829165, 'l1_reg_weight': 1.3605748735763013e-06, 'l2_reg_weight': 1.7162394602807288e-05}. Best is trial 18 with value: 88.82275132275133.\n",
      "/home/leilapirhaji/mz_embed_engine/ml/finetune/retrain_finetune_VAE.py:143: FutureWarning:\n",
      "\n",
      "suggest_loguniform has been deprecated in v3.0.0. This feature will be removed in v6.0.0. See https://github.com/optuna/optuna/releases/tag/v3.0.0. Use suggest_float(..., log=True) instead.\n",
      "\n",
      "/home/leilapirhaji/mz_embed_engine/ml/finetune/retrain_finetune_VAE.py:144: FutureWarning:\n",
      "\n",
      "suggest_uniform has been deprecated in v3.0.0. This feature will be removed in v6.0.0. See https://github.com/optuna/optuna/releases/tag/v3.0.0. Use suggest_float instead.\n",
      "\n",
      "/home/leilapirhaji/mz_embed_engine/ml/finetune/retrain_finetune_VAE.py:145: FutureWarning:\n",
      "\n",
      "suggest_loguniform has been deprecated in v3.0.0. This feature will be removed in v6.0.0. See https://github.com/optuna/optuna/releases/tag/v3.0.0. Use suggest_float(..., log=True) instead.\n",
      "\n",
      "/home/leilapirhaji/mz_embed_engine/ml/finetune/retrain_finetune_VAE.py:146: FutureWarning:\n",
      "\n",
      "suggest_loguniform has been deprecated in v3.0.0. This feature will be removed in v6.0.0. See https://github.com/optuna/optuna/releases/tag/v3.0.0. Use suggest_float(..., log=True) instead.\n",
      "\n",
      "/home/leilapirhaji/mz_embed_engine/ml/finetune/freez_encoder_latent_avg.py:370: FutureWarning:\n",
      "\n",
      "The behavior of DataFrame concatenation with empty or all-NA entries is deprecated. In a future version, this will no longer exclude empty or all-NA columns when determining the result dtypes. To retain the old behavior, exclude the relevant entries before the concat operation.\n",
      "\n"
     ]
    },
    {
     "name": "stdout",
     "output_type": "stream",
     "text": [
      "Epoch 1/50, Loss: 0.010228589908885104\n",
      "Validation started\n",
      "Validation Loss: 1.0322737991809845, Accuracy: 80.48780487804879%, Precision: 82.75862068965517%, Recall: 88.88888888888889%, F1 Score: 85.71428571428571%, AUC: 88.69047619047619%\n",
      "Epoch 2/50, Loss: 0.01019068740840469\n",
      "Validation started\n",
      "Validation Loss: 1.0526979863643646, Accuracy: 80.48780487804879%, Precision: 82.75862068965517%, Recall: 88.88888888888889%, F1 Score: 85.71428571428571%, AUC: 88.69047619047619%\n",
      "Epoch 3/50, Loss: 0.010127158835530281\n",
      "Validation started\n",
      "Validation Loss: 1.0851736962795258, Accuracy: 80.48780487804879%, Precision: 82.75862068965517%, Recall: 88.88888888888889%, F1 Score: 85.71428571428571%, AUC: 88.6904761904762%\n",
      "Epoch 4/50, Loss: 0.010107565205544233\n",
      "Validation started\n",
      "Validation Loss: 1.1047706842422484, Accuracy: 80.48780487804879%, Precision: 82.75862068965517%, Recall: 88.88888888888889%, F1 Score: 85.71428571428571%, AUC: 88.6904761904762%\n",
      "Epoch 5/50, Loss: 0.010072934707360608\n",
      "Validation started\n",
      "Validation Loss: 1.1203888416290284, Accuracy: 80.48780487804879%, Precision: 82.75862068965517%, Recall: 88.88888888888889%, F1 Score: 85.71428571428571%, AUC: 88.6904761904762%\n",
      "Epoch 6/50, Loss: 0.010074217670730181\n",
      "Validation started\n",
      "Validation Loss: 1.1358176529407502, Accuracy: 80.48780487804879%, Precision: 82.75862068965517%, Recall: 88.88888888888889%, F1 Score: 85.71428571428571%, AUC: 88.6904761904762%\n",
      "Epoch 7/50, Loss: 0.010056074575654097\n",
      "Validation started\n",
      "Validation Loss: 1.1487891733646394, Accuracy: 80.48780487804879%, Precision: 82.75862068965517%, Recall: 88.88888888888889%, F1 Score: 85.71428571428571%, AUC: 88.6904761904762%\n",
      "Epoch 8/50, Loss: 0.010048537182488613\n",
      "Validation started\n",
      "Early stopping triggered at epoch 8\n",
      "Fine-tuning completed.\n",
      "Epoch 1/50, Loss: 0.005253366726849761\n",
      "Validation started\n",
      "Validation Loss: 1.1184249550104142, Accuracy: 80.48780487804879%, Precision: 81.66666666666667%, Recall: 90.74074074074075%, F1 Score: 85.96491228070175%, AUC: 84.72222222222221%\n"
     ]
    },
    {
     "name": "stderr",
     "output_type": "stream",
     "text": [
      "/home/leilapirhaji/mz_embed_engine/ml/finetune/freez_encoder_latent_avg.py:370: FutureWarning:\n",
      "\n",
      "The behavior of DataFrame concatenation with empty or all-NA entries is deprecated. In a future version, this will no longer exclude empty or all-NA columns when determining the result dtypes. To retain the old behavior, exclude the relevant entries before the concat operation.\n",
      "\n"
     ]
    },
    {
     "name": "stdout",
     "output_type": "stream",
     "text": [
      "Epoch 2/50, Loss: 0.00526784300538046\n",
      "Validation started\n",
      "Validation Loss: 1.136741253733635, Accuracy: 80.48780487804879%, Precision: 81.66666666666667%, Recall: 90.74074074074075%, F1 Score: 85.96491228070175%, AUC: 84.92063492063492%\n",
      "Epoch 3/50, Loss: 0.00522854777851275\n",
      "Validation started\n",
      "Validation Loss: 1.152550396323204, Accuracy: 80.48780487804879%, Precision: 81.66666666666667%, Recall: 90.74074074074075%, F1 Score: 85.96491228070175%, AUC: 84.9867724867725%\n",
      "Epoch 4/50, Loss: 0.005152346666104027\n",
      "Validation started\n",
      "Validation Loss: 1.1655515104532241, Accuracy: 79.26829268292683%, Precision: 81.35593220338984%, Recall: 88.88888888888889%, F1 Score: 84.95575221238938%, AUC: 85.01984126984127%\n",
      "Epoch 5/50, Loss: 0.00514928181655705\n",
      "Validation started\n",
      "Validation Loss: 2.298669767379761, Accuracy: 80.48780487804879%, Precision: 81.66666666666667%, Recall: 90.74074074074075%, F1 Score: 85.96491228070175%, AUC: 84.58994708994709%\n",
      "Epoch 6/50, Loss: 0.005117770483983415\n",
      "Validation started\n",
      "Validation Loss: 2.310537022352219, Accuracy: 79.26829268292683%, Precision: 81.35593220338984%, Recall: 88.88888888888889%, F1 Score: 84.95575221238938%, AUC: 84.62301587301587%\n",
      "Epoch 7/50, Loss: 0.005054093963865723\n",
      "Validation started\n",
      "Validation Loss: 2.320490649342537, Accuracy: 80.48780487804879%, Precision: 81.66666666666667%, Recall: 90.74074074074075%, F1 Score: 85.96491228070175%, AUC: 84.68915343915344%\n",
      "Epoch 8/50, Loss: 0.005068126533712659\n",
      "Validation started\n",
      "Validation Loss: 2.3323717653751372, Accuracy: 78.04878048780488%, Precision: 81.03448275862068%, Recall: 87.03703703703704%, F1 Score: 83.92857142857143%, AUC: 84.72222222222221%\n",
      "Epoch 9/50, Loss: 0.005046947127474206\n",
      "Validation started\n",
      "Early stopping triggered at epoch 9\n",
      "Fine-tuning completed.\n"
     ]
    },
    {
     "name": "stderr",
     "output_type": "stream",
     "text": [
      "[I 2024-09-17 03:19:59,863] Trial 25 finished with value: 88.6904761904762 and parameters: {'add_post_latent_layers': False, 'num_layers_to_retrain': 1, 'batch_size': 32, 'learning_rate': 2.3471273597169574e-05, 'dropout': 0.21817674270733717, 'l1_reg_weight': 3.020432729052377e-07, 'l2_reg_weight': 3.5095596247838997e-06}. Best is trial 18 with value: 88.82275132275133.\n",
      "/home/leilapirhaji/mz_embed_engine/ml/finetune/retrain_finetune_VAE.py:143: FutureWarning:\n",
      "\n",
      "suggest_loguniform has been deprecated in v3.0.0. This feature will be removed in v6.0.0. See https://github.com/optuna/optuna/releases/tag/v3.0.0. Use suggest_float(..., log=True) instead.\n",
      "\n",
      "/home/leilapirhaji/mz_embed_engine/ml/finetune/retrain_finetune_VAE.py:144: FutureWarning:\n",
      "\n",
      "suggest_uniform has been deprecated in v3.0.0. This feature will be removed in v6.0.0. See https://github.com/optuna/optuna/releases/tag/v3.0.0. Use suggest_float instead.\n",
      "\n",
      "/home/leilapirhaji/mz_embed_engine/ml/finetune/retrain_finetune_VAE.py:145: FutureWarning:\n",
      "\n",
      "suggest_loguniform has been deprecated in v3.0.0. This feature will be removed in v6.0.0. See https://github.com/optuna/optuna/releases/tag/v3.0.0. Use suggest_float(..., log=True) instead.\n",
      "\n",
      "/home/leilapirhaji/mz_embed_engine/ml/finetune/retrain_finetune_VAE.py:146: FutureWarning:\n",
      "\n",
      "suggest_loguniform has been deprecated in v3.0.0. This feature will be removed in v6.0.0. See https://github.com/optuna/optuna/releases/tag/v3.0.0. Use suggest_float(..., log=True) instead.\n",
      "\n",
      "/home/leilapirhaji/mz_embed_engine/ml/finetune/freez_encoder_latent_avg.py:370: FutureWarning:\n",
      "\n",
      "The behavior of DataFrame concatenation with empty or all-NA entries is deprecated. In a future version, this will no longer exclude empty or all-NA columns when determining the result dtypes. To retain the old behavior, exclude the relevant entries before the concat operation.\n",
      "\n"
     ]
    },
    {
     "name": "stdout",
     "output_type": "stream",
     "text": [
      "Epoch 1/50, Loss: 1.1854448403630937\n",
      "Validation started\n",
      "Validation Loss: 2.2147786617279053, Accuracy: 80.48780487804879%, Precision: 82.75862068965517%, Recall: 88.88888888888889%, F1 Score: 85.71428571428571%, AUC: 88.82275132275133%\n",
      "Epoch 2/50, Loss: 1.1823412435395377\n",
      "Validation started\n",
      "Validation Loss: 2.1743996858596804, Accuracy: 80.48780487804879%, Precision: 82.75862068965517%, Recall: 88.88888888888889%, F1 Score: 85.71428571428571%, AUC: 88.75661375661376%\n",
      "Epoch 3/50, Loss: 1.1804547224725996\n",
      "Validation started\n",
      "Validation Loss: 2.143629789352417, Accuracy: 80.48780487804879%, Precision: 82.75862068965517%, Recall: 88.88888888888889%, F1 Score: 85.71428571428571%, AUC: 88.75661375661376%\n",
      "Epoch 4/50, Loss: 1.1788920078958784\n",
      "Validation started\n",
      "Validation Loss: 2.116225171089172, Accuracy: 80.48780487804879%, Precision: 82.75862068965517%, Recall: 88.88888888888889%, F1 Score: 85.71428571428571%, AUC: 88.69047619047619%\n",
      "Epoch 5/50, Loss: 1.1775432910237993\n",
      "Validation started\n",
      "Validation Loss: 2.0901434421539307, Accuracy: 80.48780487804879%, Precision: 82.75862068965517%, Recall: 88.88888888888889%, F1 Score: 85.71428571428571%, AUC: 88.82275132275133%\n",
      "Epoch 6/50, Loss: 1.1764058896473475\n",
      "Validation started\n",
      "Early stopping triggered at epoch 6\n",
      "Fine-tuning completed.\n",
      "Epoch 1/50, Loss: 0.5784924796649388\n",
      "Validation started\n",
      "Validation Loss: 1.7028056859970093, Accuracy: 76.82926829268293%, Precision: 80.7017543859649%, Recall: 85.18518518518519%, F1 Score: 82.88288288288288%, AUC: 84.9867724867725%\n"
     ]
    },
    {
     "name": "stderr",
     "output_type": "stream",
     "text": [
      "/home/leilapirhaji/mz_embed_engine/ml/finetune/freez_encoder_latent_avg.py:370: FutureWarning:\n",
      "\n",
      "The behavior of DataFrame concatenation with empty or all-NA entries is deprecated. In a future version, this will no longer exclude empty or all-NA columns when determining the result dtypes. To retain the old behavior, exclude the relevant entries before the concat operation.\n",
      "\n"
     ]
    },
    {
     "name": "stdout",
     "output_type": "stream",
     "text": [
      "Epoch 2/50, Loss: 0.5760962494782039\n",
      "Validation started\n",
      "Validation Loss: 1.675299072265625, Accuracy: 78.04878048780488%, Precision: 82.14285714285714%, Recall: 85.18518518518519%, F1 Score: 83.63636363636363%, AUC: 85.05291005291006%\n",
      "Epoch 3/50, Loss: 0.5744167651448931\n",
      "Validation started\n",
      "Validation Loss: 1.6508459806442262, Accuracy: 78.04878048780488%, Precision: 82.14285714285714%, Recall: 85.18518518518519%, F1 Score: 83.63636363636363%, AUC: 85.18518518518519%\n",
      "Epoch 4/50, Loss: 0.5729446751730782\n",
      "Validation started\n",
      "Validation Loss: 1.6292765021324158, Accuracy: 78.04878048780488%, Precision: 82.14285714285714%, Recall: 85.18518518518519%, F1 Score: 83.63636363636363%, AUC: 85.21825396825396%\n",
      "Epoch 5/50, Loss: 0.5717803963593074\n",
      "Validation started\n",
      "Validation Loss: 1.6104183673858643, Accuracy: 78.04878048780488%, Precision: 82.14285714285714%, Recall: 85.18518518518519%, F1 Score: 83.63636363636363%, AUC: 85.18518518518519%\n",
      "Epoch 6/50, Loss: 0.5705346422536033\n",
      "Validation started\n",
      "Validation Loss: 1.5922991156578064, Accuracy: 78.04878048780488%, Precision: 82.14285714285714%, Recall: 85.18518518518519%, F1 Score: 83.63636363636363%, AUC: 85.11904761904762%\n",
      "Epoch 7/50, Loss: 0.5693567778382983\n",
      "Validation started\n",
      "Validation Loss: 1.576130247116089, Accuracy: 76.82926829268293%, Precision: 80.7017543859649%, Recall: 85.18518518518519%, F1 Score: 82.88288288288288%, AUC: 85.11904761904762%\n",
      "Epoch 8/50, Loss: 0.5684013026101249\n",
      "Validation started\n",
      "Validation Loss: 1.5605600118637084, Accuracy: 78.04878048780488%, Precision: 82.14285714285714%, Recall: 85.18518518518519%, F1 Score: 83.63636363636363%, AUC: 85.11904761904762%\n",
      "Epoch 9/50, Loss: 0.5674934770379748\n",
      "Validation started\n",
      "Early stopping triggered at epoch 9\n",
      "Fine-tuning completed.\n"
     ]
    },
    {
     "name": "stderr",
     "output_type": "stream",
     "text": [
      "[I 2024-09-17 03:20:02,891] Trial 26 finished with value: 88.82275132275133 and parameters: {'add_post_latent_layers': False, 'num_layers_to_retrain': 1, 'batch_size': 32, 'learning_rate': 4.1927508254000166e-05, 'dropout': 0.16466117014871745, 'l1_reg_weight': 3.609808871715848e-05, 'l2_reg_weight': 5.692908486195283e-07}. Best is trial 18 with value: 88.82275132275133.\n",
      "/home/leilapirhaji/mz_embed_engine/ml/finetune/retrain_finetune_VAE.py:143: FutureWarning:\n",
      "\n",
      "suggest_loguniform has been deprecated in v3.0.0. This feature will be removed in v6.0.0. See https://github.com/optuna/optuna/releases/tag/v3.0.0. Use suggest_float(..., log=True) instead.\n",
      "\n",
      "/home/leilapirhaji/mz_embed_engine/ml/finetune/retrain_finetune_VAE.py:144: FutureWarning:\n",
      "\n",
      "suggest_uniform has been deprecated in v3.0.0. This feature will be removed in v6.0.0. See https://github.com/optuna/optuna/releases/tag/v3.0.0. Use suggest_float instead.\n",
      "\n",
      "/home/leilapirhaji/mz_embed_engine/ml/finetune/retrain_finetune_VAE.py:145: FutureWarning:\n",
      "\n",
      "suggest_loguniform has been deprecated in v3.0.0. This feature will be removed in v6.0.0. See https://github.com/optuna/optuna/releases/tag/v3.0.0. Use suggest_float(..., log=True) instead.\n",
      "\n",
      "/home/leilapirhaji/mz_embed_engine/ml/finetune/retrain_finetune_VAE.py:146: FutureWarning:\n",
      "\n",
      "suggest_loguniform has been deprecated in v3.0.0. This feature will be removed in v6.0.0. See https://github.com/optuna/optuna/releases/tag/v3.0.0. Use suggest_float(..., log=True) instead.\n",
      "\n"
     ]
    },
    {
     "name": "stdout",
     "output_type": "stream",
     "text": [
      "Epoch 1/50, Loss: 0.17977918471608842\n",
      "Validation started\n",
      "Validation Loss: 1.0346789360046387, Accuracy: 80.48780487804879%, Precision: 82.75862068965517%, Recall: 88.88888888888889%, F1 Score: 85.71428571428571%, AUC: 88.88888888888889%\n",
      "Epoch 2/50, Loss: 0.17958619871309825\n",
      "Validation started\n"
     ]
    },
    {
     "name": "stderr",
     "output_type": "stream",
     "text": [
      "/home/leilapirhaji/mz_embed_engine/ml/finetune/freez_encoder_latent_avg.py:370: FutureWarning:\n",
      "\n",
      "The behavior of DataFrame concatenation with empty or all-NA entries is deprecated. In a future version, this will no longer exclude empty or all-NA columns when determining the result dtypes. To retain the old behavior, exclude the relevant entries before the concat operation.\n",
      "\n"
     ]
    },
    {
     "name": "stdout",
     "output_type": "stream",
     "text": [
      "Validation Loss: 1.0708955466747283, Accuracy: 80.48780487804879%, Precision: 82.75862068965517%, Recall: 88.88888888888889%, F1 Score: 85.71428571428571%, AUC: 88.82275132275132%\n",
      "Epoch 3/50, Loss: 0.17939068909202302\n",
      "Validation started\n",
      "Validation Loss: 1.0962132513523102, Accuracy: 80.48780487804879%, Precision: 82.75862068965517%, Recall: 88.88888888888889%, F1 Score: 85.71428571428571%, AUC: 88.69047619047619%\n",
      "Epoch 4/50, Loss: 0.17929759195872716\n",
      "Validation started\n",
      "Validation Loss: 1.1059609174728393, Accuracy: 80.48780487804879%, Precision: 82.75862068965517%, Recall: 88.88888888888889%, F1 Score: 85.71428571428571%, AUC: 88.69047619047619%\n",
      "Epoch 5/50, Loss: 0.17916070882763183\n",
      "Validation started\n",
      "Validation Loss: 1.1153745234012604, Accuracy: 80.48780487804879%, Precision: 82.75862068965517%, Recall: 88.88888888888889%, F1 Score: 85.71428571428571%, AUC: 88.75661375661376%\n",
      "Epoch 6/50, Loss: 0.17914743827922003\n",
      "Validation started\n",
      "Early stopping triggered at epoch 6\n",
      "Fine-tuning completed.\n",
      "Epoch 1/50, Loss: 0.08793896968875613\n",
      "Validation started\n",
      "Validation Loss: 1.0132595717906951, Accuracy: 80.48780487804879%, Precision: 81.66666666666667%, Recall: 90.74074074074075%, F1 Score: 85.96491228070175%, AUC: 84.92063492063492%\n",
      "Epoch 2/50, Loss: 0.08775016771895545\n",
      "Validation started\n"
     ]
    },
    {
     "name": "stderr",
     "output_type": "stream",
     "text": [
      "/home/leilapirhaji/mz_embed_engine/ml/finetune/freez_encoder_latent_avg.py:370: FutureWarning:\n",
      "\n",
      "The behavior of DataFrame concatenation with empty or all-NA entries is deprecated. In a future version, this will no longer exclude empty or all-NA columns when determining the result dtypes. To retain the old behavior, exclude the relevant entries before the concat operation.\n",
      "\n"
     ]
    },
    {
     "name": "stdout",
     "output_type": "stream",
     "text": [
      "Validation Loss: 1.0465344190597534, Accuracy: 79.26829268292683%, Precision: 81.35593220338984%, Recall: 88.88888888888889%, F1 Score: 84.95575221238938%, AUC: 85.01984126984127%\n",
      "Epoch 3/50, Loss: 0.08754778759820121\n",
      "Validation started\n",
      "Validation Loss: 1.075260591506958, Accuracy: 79.26829268292683%, Precision: 81.35593220338984%, Recall: 88.88888888888889%, F1 Score: 84.95575221238938%, AUC: 85.01984126984127%\n",
      "Epoch 4/50, Loss: 0.08728919550776482\n",
      "Validation started\n",
      "Validation Loss: 1.0926017045974732, Accuracy: 79.26829268292683%, Precision: 81.35593220338984%, Recall: 88.88888888888889%, F1 Score: 84.95575221238938%, AUC: 85.05291005291006%\n",
      "Epoch 5/50, Loss: 0.08726785917367254\n",
      "Validation started\n",
      "Validation Loss: 1.1101420402526856, Accuracy: 80.48780487804879%, Precision: 81.66666666666667%, Recall: 90.74074074074075%, F1 Score: 85.96491228070175%, AUC: 84.92063492063492%\n",
      "Epoch 6/50, Loss: 0.08715736120939255\n",
      "Validation started\n",
      "Validation Loss: 1.1200618207454682, Accuracy: 79.26829268292683%, Precision: 81.35593220338984%, Recall: 88.88888888888889%, F1 Score: 84.95575221238938%, AUC: 85.01984126984127%\n",
      "Epoch 7/50, Loss: 0.08696753159165382\n",
      "Validation started\n",
      "Validation Loss: 1.1298930048942566, Accuracy: 80.48780487804879%, Precision: 81.66666666666667%, Recall: 90.74074074074075%, F1 Score: 85.96491228070175%, AUC: 85.01984126984127%\n",
      "Epoch 8/50, Loss: 0.08699047246149608\n",
      "Validation started\n",
      "Validation Loss: 1.1402463793754578, Accuracy: 79.26829268292683%, Precision: 81.35593220338984%, Recall: 88.88888888888889%, F1 Score: 84.95575221238938%, AUC: 85.05291005291005%\n",
      "Epoch 9/50, Loss: 0.08691896019237381\n",
      "Validation started\n",
      "Early stopping triggered at epoch 9\n",
      "Fine-tuning completed.\n"
     ]
    },
    {
     "name": "stderr",
     "output_type": "stream",
     "text": [
      "[I 2024-09-17 03:20:05,765] Trial 27 finished with value: 88.75661375661376 and parameters: {'add_post_latent_layers': False, 'num_layers_to_retrain': 1, 'batch_size': 32, 'learning_rate': 6.254250794470562e-05, 'dropout': 0.10146859845547408, 'l1_reg_weight': 5.479281850819384e-06, 'l2_reg_weight': 1.3355221672374907e-06}. Best is trial 18 with value: 88.82275132275133.\n",
      "/home/leilapirhaji/mz_embed_engine/ml/finetune/retrain_finetune_VAE.py:143: FutureWarning:\n",
      "\n",
      "suggest_loguniform has been deprecated in v3.0.0. This feature will be removed in v6.0.0. See https://github.com/optuna/optuna/releases/tag/v3.0.0. Use suggest_float(..., log=True) instead.\n",
      "\n",
      "/home/leilapirhaji/mz_embed_engine/ml/finetune/retrain_finetune_VAE.py:144: FutureWarning:\n",
      "\n",
      "suggest_uniform has been deprecated in v3.0.0. This feature will be removed in v6.0.0. See https://github.com/optuna/optuna/releases/tag/v3.0.0. Use suggest_float instead.\n",
      "\n",
      "/home/leilapirhaji/mz_embed_engine/ml/finetune/retrain_finetune_VAE.py:145: FutureWarning:\n",
      "\n",
      "suggest_loguniform has been deprecated in v3.0.0. This feature will be removed in v6.0.0. See https://github.com/optuna/optuna/releases/tag/v3.0.0. Use suggest_float(..., log=True) instead.\n",
      "\n",
      "/home/leilapirhaji/mz_embed_engine/ml/finetune/retrain_finetune_VAE.py:146: FutureWarning:\n",
      "\n",
      "suggest_loguniform has been deprecated in v3.0.0. This feature will be removed in v6.0.0. See https://github.com/optuna/optuna/releases/tag/v3.0.0. Use suggest_float(..., log=True) instead.\n",
      "\n",
      "/home/leilapirhaji/mz_embed_engine/ml/finetune/freez_encoder_latent_avg.py:370: FutureWarning:\n",
      "\n",
      "The behavior of DataFrame concatenation with empty or all-NA entries is deprecated. In a future version, this will no longer exclude empty or all-NA columns when determining the result dtypes. To retain the old behavior, exclude the relevant entries before the concat operation.\n",
      "\n"
     ]
    },
    {
     "name": "stdout",
     "output_type": "stream",
     "text": [
      "Epoch 1/50, Loss: 0.03653219235794885\n",
      "Validation started\n",
      "Validation Loss: 0.9275173783302307, Accuracy: 80.48780487804879%, Precision: 82.75862068965517%, Recall: 88.88888888888889%, F1 Score: 85.71428571428571%, AUC: 88.75661375661376%\n",
      "Epoch 2/50, Loss: 0.03641142190567085\n",
      "Validation started\n",
      "Validation Loss: 0.9505202114582062, Accuracy: 80.48780487804879%, Precision: 82.75862068965517%, Recall: 88.88888888888889%, F1 Score: 85.71428571428571%, AUC: 88.82275132275133%\n",
      "Epoch 3/50, Loss: 0.03623985339488302\n",
      "Validation started\n",
      "Validation Loss: 0.9849451839923858, Accuracy: 80.48780487804879%, Precision: 82.75862068965517%, Recall: 88.88888888888889%, F1 Score: 85.71428571428571%, AUC: 88.75661375661376%\n",
      "Epoch 4/50, Loss: 0.036187336913176944\n",
      "Validation started\n",
      "Validation Loss: 1.0034484088420867, Accuracy: 80.48780487804879%, Precision: 82.75862068965517%, Recall: 88.88888888888889%, F1 Score: 85.71428571428571%, AUC: 88.69047619047619%\n",
      "Epoch 5/50, Loss: 0.03609734480934484\n",
      "Validation started\n",
      "Validation Loss: 1.0182429313659669, Accuracy: 80.48780487804879%, Precision: 82.75862068965517%, Recall: 88.88888888888889%, F1 Score: 85.71428571428571%, AUC: 88.75661375661376%\n",
      "Epoch 6/50, Loss: 0.03609638501490865\n",
      "Validation started\n",
      "Validation Loss: 1.0323111951351165, Accuracy: 80.48780487804879%, Precision: 82.75862068965517%, Recall: 88.88888888888889%, F1 Score: 85.71428571428571%, AUC: 88.75661375661376%\n",
      "Epoch 7/50, Loss: 0.03605232733700957\n",
      "Validation started\n",
      "Early stopping triggered at epoch 7\n",
      "Fine-tuning completed.\n",
      "Epoch 1/50, Loss: 0.018485152694795812\n",
      "Validation started\n"
     ]
    },
    {
     "name": "stderr",
     "output_type": "stream",
     "text": [
      "/home/leilapirhaji/mz_embed_engine/ml/finetune/freez_encoder_latent_avg.py:370: FutureWarning:\n",
      "\n",
      "The behavior of DataFrame concatenation with empty or all-NA entries is deprecated. In a future version, this will no longer exclude empty or all-NA columns when determining the result dtypes. To retain the old behavior, exclude the relevant entries before the concat operation.\n",
      "\n"
     ]
    },
    {
     "name": "stdout",
     "output_type": "stream",
     "text": [
      "Validation Loss: 0.9845769613981247, Accuracy: 80.48780487804879%, Precision: 81.66666666666667%, Recall: 90.74074074074075%, F1 Score: 85.96491228070175%, AUC: 84.92063492063492%\n",
      "Epoch 2/50, Loss: 0.018473901386771883\n",
      "Validation started\n",
      "Validation Loss: 1.0076722413301469, Accuracy: 80.48780487804879%, Precision: 81.66666666666667%, Recall: 90.74074074074075%, F1 Score: 85.96491228070175%, AUC: 84.92063492063492%\n",
      "Epoch 3/50, Loss: 0.01836230725582157\n",
      "Validation started\n",
      "Validation Loss: 1.0300420671701431, Accuracy: 80.48780487804879%, Precision: 81.66666666666667%, Recall: 90.74074074074075%, F1 Score: 85.96491228070175%, AUC: 84.92063492063492%\n",
      "Epoch 4/50, Loss: 0.0181429371503847\n",
      "Validation started\n",
      "Validation Loss: 1.0461423426866532, Accuracy: 79.26829268292683%, Precision: 81.35593220338984%, Recall: 88.88888888888889%, F1 Score: 84.95575221238938%, AUC: 84.92063492063492%\n",
      "Epoch 5/50, Loss: 0.0181289172864386\n",
      "Validation started\n",
      "Validation Loss: 1.0618843019008637, Accuracy: 80.48780487804879%, Precision: 81.66666666666667%, Recall: 90.74074074074075%, F1 Score: 85.96491228070175%, AUC: 84.95370370370371%\n",
      "Epoch 6/50, Loss: 0.018041860977453843\n",
      "Validation started\n",
      "Validation Loss: 1.0777907133102418, Accuracy: 80.48780487804879%, Precision: 81.66666666666667%, Recall: 90.74074074074075%, F1 Score: 85.96491228070175%, AUC: 84.92063492063492%\n",
      "Epoch 7/50, Loss: 0.017885775305330753\n",
      "Validation started\n",
      "Validation Loss: 1.0935176372528077, Accuracy: 80.48780487804879%, Precision: 81.66666666666667%, Recall: 90.74074074074075%, F1 Score: 85.96491228070175%, AUC: 84.88756613756614%\n",
      "Epoch 8/50, Loss: 0.017911031576139585\n",
      "Validation started\n",
      "Validation Loss: 1.105591920018196, Accuracy: 79.26829268292683%, Precision: 81.35593220338984%, Recall: 88.88888888888889%, F1 Score: 84.95575221238938%, AUC: 84.92063492063492%\n",
      "Epoch 9/50, Loss: 0.017859738852296556\n",
      "Validation started\n",
      "Validation Loss: 1.1161302626132965, Accuracy: 79.26829268292683%, Precision: 81.35593220338984%, Recall: 88.88888888888889%, F1 Score: 84.95575221238938%, AUC: 85.05291005291006%\n",
      "Epoch 10/50, Loss: 0.017890794867915765\n",
      "Validation started\n",
      "Validation Loss: 1.1352546781301498, Accuracy: 80.48780487804879%, Precision: 81.66666666666667%, Recall: 90.74074074074075%, F1 Score: 85.96491228070175%, AUC: 84.85449735449735%\n",
      "Epoch 11/50, Loss: 0.01782721427402326\n",
      "Validation started\n",
      "Validation Loss: 1.143972110748291, Accuracy: 79.26829268292683%, Precision: 81.35593220338984%, Recall: 88.88888888888889%, F1 Score: 84.95575221238938%, AUC: 84.95370370370371%\n",
      "Epoch 12/50, Loss: 0.017858180483537062\n",
      "Validation started\n",
      "Validation Loss: 1.1528173744678498, Accuracy: 79.26829268292683%, Precision: 81.35593220338984%, Recall: 88.88888888888889%, F1 Score: 84.95575221238938%, AUC: 85.01984126984127%\n",
      "Epoch 13/50, Loss: 0.01783396676182747\n",
      "Validation started\n",
      "Validation Loss: 1.1610682606697083, Accuracy: 80.48780487804879%, Precision: 81.66666666666667%, Recall: 90.74074074074075%, F1 Score: 85.96491228070175%, AUC: 85.05291005291005%\n",
      "Epoch 14/50, Loss: 0.01779659997139658\n",
      "Validation started\n",
      "Early stopping triggered at epoch 14\n",
      "Fine-tuning completed.\n"
     ]
    },
    {
     "name": "stderr",
     "output_type": "stream",
     "text": [
      "[I 2024-09-17 03:20:09,621] Trial 28 finished with value: 88.75661375661376 and parameters: {'add_post_latent_layers': False, 'num_layers_to_retrain': 1, 'batch_size': 32, 'learning_rate': 2.6729131958771273e-05, 'dropout': 0.3217567096857298, 'l1_reg_weight': 1.0914428982070979e-06, 'l2_reg_weight': 5.672561992615171e-07}. Best is trial 18 with value: 88.82275132275133.\n",
      "/home/leilapirhaji/mz_embed_engine/ml/finetune/retrain_finetune_VAE.py:143: FutureWarning:\n",
      "\n",
      "suggest_loguniform has been deprecated in v3.0.0. This feature will be removed in v6.0.0. See https://github.com/optuna/optuna/releases/tag/v3.0.0. Use suggest_float(..., log=True) instead.\n",
      "\n",
      "/home/leilapirhaji/mz_embed_engine/ml/finetune/retrain_finetune_VAE.py:144: FutureWarning:\n",
      "\n",
      "suggest_uniform has been deprecated in v3.0.0. This feature will be removed in v6.0.0. See https://github.com/optuna/optuna/releases/tag/v3.0.0. Use suggest_float instead.\n",
      "\n",
      "/home/leilapirhaji/mz_embed_engine/ml/finetune/retrain_finetune_VAE.py:145: FutureWarning:\n",
      "\n",
      "suggest_loguniform has been deprecated in v3.0.0. This feature will be removed in v6.0.0. See https://github.com/optuna/optuna/releases/tag/v3.0.0. Use suggest_float(..., log=True) instead.\n",
      "\n",
      "/home/leilapirhaji/mz_embed_engine/ml/finetune/retrain_finetune_VAE.py:146: FutureWarning:\n",
      "\n",
      "suggest_loguniform has been deprecated in v3.0.0. This feature will be removed in v6.0.0. See https://github.com/optuna/optuna/releases/tag/v3.0.0. Use suggest_float(..., log=True) instead.\n",
      "\n",
      "/home/leilapirhaji/mz_embed_engine/ml/finetune/freez_encoder_latent_avg.py:370: FutureWarning:\n",
      "\n",
      "The behavior of DataFrame concatenation with empty or all-NA entries is deprecated. In a future version, this will no longer exclude empty or all-NA columns when determining the result dtypes. To retain the old behavior, exclude the relevant entries before the concat operation.\n",
      "\n"
     ]
    },
    {
     "name": "stdout",
     "output_type": "stream",
     "text": [
      "Epoch 1/50, Loss: 0.7335262213434491\n",
      "Validation started\n",
      "Validation Loss: 0.7626675128936767, Accuracy: 79.26829268292683%, Precision: 78.46153846153847%, Recall: 94.44444444444444%, F1 Score: 85.71428571428571%, AUC: 87.96296296296298%\n",
      "Epoch 2/50, Loss: 0.6059838703700474\n",
      "Validation started\n",
      "Validation Loss: 0.7162463784217834, Accuracy: 78.04878048780488%, Precision: 79.03225806451613%, Recall: 90.74074074074075%, F1 Score: 84.48275862068965%, AUC: 87.96296296296296%\n",
      "Epoch 3/50, Loss: 0.5229594941650119\n",
      "Validation started\n",
      "Validation Loss: 0.6943551898002625, Accuracy: 78.04878048780488%, Precision: 79.03225806451613%, Recall: 90.74074074074075%, F1 Score: 84.48275862068965%, AUC: 88.09523809523809%\n",
      "Epoch 4/50, Loss: 0.47285270052296774\n",
      "Validation started\n",
      "Validation Loss: 0.685289716720581, Accuracy: 78.04878048780488%, Precision: 80.0%, Recall: 88.88888888888889%, F1 Score: 84.21052631578947%, AUC: 87.96296296296296%\n",
      "Epoch 5/50, Loss: 0.42781005586896625\n",
      "Validation started\n",
      "Validation Loss: 0.6845102787017823, Accuracy: 78.04878048780488%, Precision: 80.0%, Recall: 88.88888888888889%, F1 Score: 84.21052631578947%, AUC: 88.02910052910053%\n",
      "Epoch 6/50, Loss: 0.4092365141425814\n",
      "Validation started\n",
      "Validation Loss: 0.6885932564735413, Accuracy: 78.04878048780488%, Precision: 80.0%, Recall: 88.88888888888889%, F1 Score: 84.21052631578947%, AUC: 88.02910052910053%\n",
      "Epoch 7/50, Loss: 0.3816485958439963\n",
      "Validation started\n",
      "Validation Loss: 0.6942111730575562, Accuracy: 78.04878048780488%, Precision: 80.0%, Recall: 88.88888888888889%, F1 Score: 84.21052631578947%, AUC: 88.02910052910053%\n",
      "Epoch 8/50, Loss: 0.36828450858592987\n",
      "Validation started\n",
      "Early stopping triggered at epoch 8\n",
      "Fine-tuning completed.\n",
      "Epoch 1/50, Loss: 0.644315949508122\n",
      "Validation started\n",
      "Validation Loss: 0.6630950570106506, Accuracy: 74.39024390243902%, Precision: 72.6027397260274%, Recall: 98.14814814814815%, F1 Score: 83.46456692913385%, AUC: 83.46560846560847%\n"
     ]
    },
    {
     "name": "stderr",
     "output_type": "stream",
     "text": [
      "/home/leilapirhaji/mz_embed_engine/ml/finetune/freez_encoder_latent_avg.py:370: FutureWarning:\n",
      "\n",
      "The behavior of DataFrame concatenation with empty or all-NA entries is deprecated. In a future version, this will no longer exclude empty or all-NA columns when determining the result dtypes. To retain the old behavior, exclude the relevant entries before the concat operation.\n",
      "\n"
     ]
    },
    {
     "name": "stdout",
     "output_type": "stream",
     "text": [
      "Epoch 2/50, Loss: 0.5201010469879422\n",
      "Validation started\n",
      "Validation Loss: 0.6168277084827423, Accuracy: 79.26829268292683%, Precision: 77.61194029850746%, Recall: 96.29629629629629%, F1 Score: 85.9504132231405%, AUC: 83.53174603174604%\n",
      "Epoch 3/50, Loss: 0.44238851751599995\n",
      "Validation started\n",
      "Validation Loss: 0.594163590669632, Accuracy: 81.70731707317073%, Precision: 80.95238095238095%, Recall: 94.44444444444444%, F1 Score: 87.17948717948718%, AUC: 83.66402116402116%\n",
      "Epoch 4/50, Loss: 0.38598962128162384\n",
      "Validation started\n",
      "Validation Loss: 0.5844561398029328, Accuracy: 80.48780487804879%, Precision: 80.64516129032258%, Recall: 92.5925925925926%, F1 Score: 86.20689655172413%, AUC: 83.73015873015873%\n",
      "Epoch 5/50, Loss: 0.3356768233435495\n",
      "Validation started\n",
      "Validation Loss: 0.5832663297653198, Accuracy: 80.48780487804879%, Precision: 80.64516129032258%, Recall: 92.5925925925926%, F1 Score: 86.20689655172413%, AUC: 83.73015873015873%\n",
      "Epoch 6/50, Loss: 0.31440134772232603\n",
      "Validation started\n",
      "Validation Loss: 0.5868018388748169, Accuracy: 80.48780487804879%, Precision: 80.64516129032258%, Recall: 92.5925925925926%, F1 Score: 86.20689655172413%, AUC: 83.73015873015873%\n",
      "Epoch 7/50, Loss: 0.2850902484995978\n",
      "Validation started\n",
      "Validation Loss: 0.5918815851211547, Accuracy: 80.48780487804879%, Precision: 80.64516129032258%, Recall: 92.5925925925926%, F1 Score: 86.20689655172413%, AUC: 83.73015873015873%\n",
      "Epoch 8/50, Loss: 0.2692160893763815\n",
      "Validation started\n",
      "Validation Loss: 0.5971897363662719, Accuracy: 81.70731707317073%, Precision: 81.9672131147541%, Recall: 92.5925925925926%, F1 Score: 86.95652173913044%, AUC: 83.7962962962963%\n",
      "Epoch 9/50, Loss: 0.2568197527102062\n",
      "Validation started\n",
      "Validation Loss: 0.6044150352478027, Accuracy: 81.70731707317073%, Precision: 81.9672131147541%, Recall: 92.5925925925926%, F1 Score: 86.95652173913044%, AUC: 83.7962962962963%\n",
      "Epoch 10/50, Loss: 0.24690643910850799\n",
      "Validation started\n",
      "Validation Loss: 0.6127601623535156, Accuracy: 81.70731707317073%, Precision: 81.9672131147541%, Recall: 92.5925925925926%, F1 Score: 86.95652173913044%, AUC: 83.7962962962963%\n",
      "Epoch 11/50, Loss: 0.2327870630792209\n",
      "Validation started\n",
      "Validation Loss: 0.6210720956325531, Accuracy: 81.70731707317073%, Precision: 81.9672131147541%, Recall: 92.5925925925926%, F1 Score: 86.95652173913044%, AUC: 83.7962962962963%\n",
      "Epoch 12/50, Loss: 0.22343561691897257\n",
      "Validation started\n",
      "Validation Loss: 0.6295990824699402, Accuracy: 81.70731707317073%, Precision: 81.9672131147541%, Recall: 92.5925925925926%, F1 Score: 86.95652173913044%, AUC: 83.7962962962963%\n",
      "Epoch 13/50, Loss: 0.2166832983493805\n",
      "Validation started\n",
      "Early stopping triggered at epoch 13\n",
      "Fine-tuning completed.\n"
     ]
    },
    {
     "name": "stderr",
     "output_type": "stream",
     "text": [
      "[I 2024-09-17 03:20:13,571] Trial 29 finished with value: 88.02910052910053 and parameters: {'add_post_latent_layers': True, 'post_latent_layer_size': 128, 'num_layers_to_retrain': 1, 'batch_size': 32, 'learning_rate': 1.8048335695207794e-05, 'dropout': 0.26748340741357857, 'l1_reg_weight': 8.099175790377372e-06, 'l2_reg_weight': 1.6447970801704335e-05}. Best is trial 18 with value: 88.82275132275133.\n",
      "/home/leilapirhaji/mz_embed_engine/ml/finetune/retrain_finetune_VAE.py:143: FutureWarning:\n",
      "\n",
      "suggest_loguniform has been deprecated in v3.0.0. This feature will be removed in v6.0.0. See https://github.com/optuna/optuna/releases/tag/v3.0.0. Use suggest_float(..., log=True) instead.\n",
      "\n",
      "/home/leilapirhaji/mz_embed_engine/ml/finetune/retrain_finetune_VAE.py:144: FutureWarning:\n",
      "\n",
      "suggest_uniform has been deprecated in v3.0.0. This feature will be removed in v6.0.0. See https://github.com/optuna/optuna/releases/tag/v3.0.0. Use suggest_float instead.\n",
      "\n",
      "/home/leilapirhaji/mz_embed_engine/ml/finetune/retrain_finetune_VAE.py:145: FutureWarning:\n",
      "\n",
      "suggest_loguniform has been deprecated in v3.0.0. This feature will be removed in v6.0.0. See https://github.com/optuna/optuna/releases/tag/v3.0.0. Use suggest_float(..., log=True) instead.\n",
      "\n",
      "/home/leilapirhaji/mz_embed_engine/ml/finetune/retrain_finetune_VAE.py:146: FutureWarning:\n",
      "\n",
      "suggest_loguniform has been deprecated in v3.0.0. This feature will be removed in v6.0.0. See https://github.com/optuna/optuna/releases/tag/v3.0.0. Use suggest_float(..., log=True) instead.\n",
      "\n",
      "/home/leilapirhaji/mz_embed_engine/ml/finetune/freez_encoder_latent_avg.py:370: FutureWarning:\n",
      "\n",
      "The behavior of DataFrame concatenation with empty or all-NA entries is deprecated. In a future version, this will no longer exclude empty or all-NA columns when determining the result dtypes. To retain the old behavior, exclude the relevant entries before the concat operation.\n",
      "\n"
     ]
    },
    {
     "name": "stdout",
     "output_type": "stream",
     "text": [
      "Epoch 1/50, Loss: 0.10384255966969899\n",
      "Validation started\n",
      "Validation Loss: 1.0958215951919557, Accuracy: 80.48780487804879%, Precision: 82.75862068965517%, Recall: 88.88888888888889%, F1 Score: 85.71428571428571%, AUC: 88.69047619047619%\n",
      "Epoch 2/50, Loss: 0.10372523165174893\n",
      "Validation started\n",
      "Validation Loss: 1.0916528165340424, Accuracy: 80.48780487804879%, Precision: 82.75862068965517%, Recall: 88.88888888888889%, F1 Score: 85.71428571428571%, AUC: 88.69047619047619%\n",
      "Epoch 3/50, Loss: 0.10357521740453583\n",
      "Validation started\n",
      "Validation Loss: 1.093896508216858, Accuracy: 80.48780487804879%, Precision: 82.75862068965517%, Recall: 88.88888888888889%, F1 Score: 85.71428571428571%, AUC: 88.69047619047619%\n",
      "Epoch 4/50, Loss: 0.10348261733140264\n",
      "Validation started\n",
      "Validation Loss: 1.0950303494930267, Accuracy: 80.48780487804879%, Precision: 82.75862068965517%, Recall: 88.88888888888889%, F1 Score: 85.71428571428571%, AUC: 88.69047619047619%\n",
      "Epoch 5/50, Loss: 0.10335904306599072\n",
      "Validation started\n",
      "Validation Loss: 1.0953070223331451, Accuracy: 80.48780487804879%, Precision: 82.75862068965517%, Recall: 88.88888888888889%, F1 Score: 85.71428571428571%, AUC: 88.69047619047619%\n",
      "Epoch 6/50, Loss: 0.10331429966858455\n",
      "Validation started\n",
      "Early stopping triggered at epoch 6\n",
      "Fine-tuning completed.\n",
      "Epoch 1/50, Loss: 0.05137325344341142\n",
      "Validation started\n",
      "Validation Loss: 1.1635188043117524, Accuracy: 80.48780487804879%, Precision: 81.66666666666667%, Recall: 90.74074074074075%, F1 Score: 85.96491228070175%, AUC: 84.75529100529101%\n",
      "Epoch 2/50, Loss: 0.051303837448358536\n",
      "Validation started\n"
     ]
    },
    {
     "name": "stderr",
     "output_type": "stream",
     "text": [
      "/home/leilapirhaji/mz_embed_engine/ml/finetune/freez_encoder_latent_avg.py:370: FutureWarning:\n",
      "\n",
      "The behavior of DataFrame concatenation with empty or all-NA entries is deprecated. In a future version, this will no longer exclude empty or all-NA columns when determining the result dtypes. To retain the old behavior, exclude the relevant entries before the concat operation.\n",
      "\n"
     ]
    },
    {
     "name": "stdout",
     "output_type": "stream",
     "text": [
      "Validation Loss: 1.1544525742530822, Accuracy: 80.48780487804879%, Precision: 81.66666666666667%, Recall: 90.74074074074075%, F1 Score: 85.96491228070175%, AUC: 85.05291005291006%\n",
      "Epoch 3/50, Loss: 0.05119182887886252\n",
      "Validation started\n",
      "Validation Loss: 1.1553159713745118, Accuracy: 80.48780487804879%, Precision: 81.66666666666667%, Recall: 90.74074074074075%, F1 Score: 85.96491228070175%, AUC: 85.05291005291006%\n",
      "Epoch 4/50, Loss: 0.0510076962943588\n",
      "Validation started\n",
      "Validation Loss: 1.15554279088974, Accuracy: 80.48780487804879%, Precision: 81.66666666666667%, Recall: 90.74074074074075%, F1 Score: 85.96491228070175%, AUC: 85.11904761904762%\n",
      "Epoch 5/50, Loss: 0.05094580405524799\n",
      "Validation started\n",
      "Validation Loss: 1.155829620361328, Accuracy: 80.48780487804879%, Precision: 81.66666666666667%, Recall: 90.74074074074075%, F1 Score: 85.96491228070175%, AUC: 85.05291005291006%\n",
      "Epoch 6/50, Loss: 0.05083986132272652\n",
      "Validation started\n",
      "Validation Loss: 1.1563506186008454, Accuracy: 80.48780487804879%, Precision: 81.66666666666667%, Recall: 90.74074074074075%, F1 Score: 85.96491228070175%, AUC: 85.05291005291006%\n",
      "Epoch 7/50, Loss: 0.050671241379209926\n",
      "Validation started\n",
      "Validation Loss: 1.15643367767334, Accuracy: 80.48780487804879%, Precision: 81.66666666666667%, Recall: 90.74074074074075%, F1 Score: 85.96491228070175%, AUC: 85.05291005291006%\n",
      "Epoch 8/50, Loss: 0.050648056768945286\n",
      "Validation started\n",
      "Validation Loss: 1.1576486945152282, Accuracy: 79.26829268292683%, Precision: 81.35593220338984%, Recall: 88.88888888888889%, F1 Score: 84.95575221238938%, AUC: 85.05291005291006%\n",
      "Epoch 9/50, Loss: 0.0505740333880697\n",
      "Validation started\n",
      "Early stopping triggered at epoch 9\n",
      "Fine-tuning completed.\n"
     ]
    },
    {
     "name": "stderr",
     "output_type": "stream",
     "text": [
      "[I 2024-09-17 03:20:16,408] Trial 30 finished with value: 88.69047619047619 and parameters: {'add_post_latent_layers': False, 'num_layers_to_retrain': 1, 'batch_size': 32, 'learning_rate': 1.057740667269988e-05, 'dropout': 0.20684547980890733, 'l1_reg_weight': 3.1419103529253392e-06, 'l2_reg_weight': 3.390128543335682e-06}. Best is trial 18 with value: 88.82275132275133.\n",
      "/home/leilapirhaji/mz_embed_engine/ml/finetune/retrain_finetune_VAE.py:143: FutureWarning:\n",
      "\n",
      "suggest_loguniform has been deprecated in v3.0.0. This feature will be removed in v6.0.0. See https://github.com/optuna/optuna/releases/tag/v3.0.0. Use suggest_float(..., log=True) instead.\n",
      "\n",
      "/home/leilapirhaji/mz_embed_engine/ml/finetune/retrain_finetune_VAE.py:144: FutureWarning:\n",
      "\n",
      "suggest_uniform has been deprecated in v3.0.0. This feature will be removed in v6.0.0. See https://github.com/optuna/optuna/releases/tag/v3.0.0. Use suggest_float instead.\n",
      "\n",
      "/home/leilapirhaji/mz_embed_engine/ml/finetune/retrain_finetune_VAE.py:145: FutureWarning:\n",
      "\n",
      "suggest_loguniform has been deprecated in v3.0.0. This feature will be removed in v6.0.0. See https://github.com/optuna/optuna/releases/tag/v3.0.0. Use suggest_float(..., log=True) instead.\n",
      "\n",
      "/home/leilapirhaji/mz_embed_engine/ml/finetune/retrain_finetune_VAE.py:146: FutureWarning:\n",
      "\n",
      "suggest_loguniform has been deprecated in v3.0.0. This feature will be removed in v6.0.0. See https://github.com/optuna/optuna/releases/tag/v3.0.0. Use suggest_float(..., log=True) instead.\n",
      "\n",
      "/home/leilapirhaji/mz_embed_engine/ml/finetune/freez_encoder_latent_avg.py:370: FutureWarning:\n",
      "\n",
      "The behavior of DataFrame concatenation with empty or all-NA entries is deprecated. In a future version, this will no longer exclude empty or all-NA columns when determining the result dtypes. To retain the old behavior, exclude the relevant entries before the concat operation.\n",
      "\n"
     ]
    },
    {
     "name": "stdout",
     "output_type": "stream",
     "text": [
      "Epoch 1/50, Loss: 1.4390889746802193\n",
      "Validation started\n",
      "Validation Loss: 2.360612940788269, Accuracy: 80.48780487804879%, Precision: 82.75862068965517%, Recall: 88.88888888888889%, F1 Score: 85.71428571428571%, AUC: 88.75661375661376%\n",
      "Epoch 2/50, Loss: 1.4358495814459664\n",
      "Validation started\n",
      "Validation Loss: 2.32204909324646, Accuracy: 80.48780487804879%, Precision: 82.75862068965517%, Recall: 88.88888888888889%, F1 Score: 85.71428571428571%, AUC: 88.82275132275133%\n",
      "Epoch 3/50, Loss: 1.4338032858712333\n",
      "Validation started\n",
      "Validation Loss: 2.296478772163391, Accuracy: 80.48780487804879%, Precision: 82.75862068965517%, Recall: 88.88888888888889%, F1 Score: 85.71428571428571%, AUC: 88.82275132275133%\n",
      "Epoch 4/50, Loss: 1.432405241898128\n",
      "Validation started\n",
      "Validation Loss: 2.2760217666625975, Accuracy: 80.48780487804879%, Precision: 82.75862068965517%, Recall: 88.88888888888889%, F1 Score: 85.71428571428571%, AUC: 88.82275132275133%\n",
      "Epoch 5/50, Loss: 1.431189341204507\n",
      "Validation started\n",
      "Validation Loss: 2.256801795959473, Accuracy: 80.48780487804879%, Precision: 82.75862068965517%, Recall: 88.88888888888889%, F1 Score: 85.71428571428571%, AUC: 88.82275132275133%\n",
      "Epoch 6/50, Loss: 1.4303305830274309\n",
      "Validation started\n",
      "Validation Loss: 2.23961501121521, Accuracy: 80.48780487804879%, Precision: 82.75862068965517%, Recall: 88.88888888888889%, F1 Score: 85.71428571428571%, AUC: 88.82275132275133%\n",
      "Epoch 7/50, Loss: 1.429447250706809\n",
      "Validation started\n",
      "Early stopping triggered at epoch 7\n",
      "Fine-tuning completed.\n",
      "Epoch 1/50, Loss: 0.6998697136129651\n",
      "Validation started\n"
     ]
    },
    {
     "name": "stderr",
     "output_type": "stream",
     "text": [
      "/home/leilapirhaji/mz_embed_engine/ml/finetune/freez_encoder_latent_avg.py:370: FutureWarning:\n",
      "\n",
      "The behavior of DataFrame concatenation with empty or all-NA entries is deprecated. In a future version, this will no longer exclude empty or all-NA columns when determining the result dtypes. To retain the old behavior, exclude the relevant entries before the concat operation.\n",
      "\n"
     ]
    },
    {
     "name": "stdout",
     "output_type": "stream",
     "text": [
      "Validation Loss: 1.743775975704193, Accuracy: 76.82926829268293%, Precision: 80.7017543859649%, Recall: 85.18518518518519%, F1 Score: 82.88288288288288%, AUC: 85.05291005291006%\n",
      "Epoch 2/50, Loss: 0.6971667196069445\n",
      "Validation started\n",
      "Validation Loss: 1.713533592224121, Accuracy: 78.04878048780488%, Precision: 82.14285714285714%, Recall: 85.18518518518519%, F1 Score: 83.63636363636363%, AUC: 85.11904761904762%\n",
      "Epoch 3/50, Loss: 0.6951856357710702\n",
      "Validation started\n",
      "Validation Loss: 1.6910941839218139, Accuracy: 78.04878048780488%, Precision: 82.14285714285714%, Recall: 85.18518518518519%, F1 Score: 83.63636363636363%, AUC: 85.11904761904762%\n",
      "Epoch 4/50, Loss: 0.6933825739792415\n",
      "Validation started\n",
      "Validation Loss: 1.671375858783722, Accuracy: 76.82926829268293%, Precision: 80.7017543859649%, Recall: 85.18518518518519%, F1 Score: 82.88288288288288%, AUC: 85.11904761904762%\n",
      "Epoch 5/50, Loss: 0.6921356235231672\n",
      "Validation started\n",
      "Validation Loss: 1.6551973342895507, Accuracy: 78.04878048780488%, Precision: 81.03448275862068%, Recall: 87.03703703703704%, F1 Score: 83.92857142857143%, AUC: 85.11904761904762%\n",
      "Epoch 6/50, Loss: 0.6909612246922084\n",
      "Validation started\n",
      "Validation Loss: 1.6396703362464904, Accuracy: 78.04878048780488%, Precision: 81.03448275862068%, Recall: 87.03703703703704%, F1 Score: 83.92857142857143%, AUC: 85.08597883597884%\n",
      "Epoch 7/50, Loss: 0.6898012672151838\n",
      "Validation started\n",
      "Early stopping triggered at epoch 7\n",
      "Fine-tuning completed.\n"
     ]
    },
    {
     "name": "stderr",
     "output_type": "stream",
     "text": [
      "[I 2024-09-17 03:20:19,071] Trial 31 finished with value: 88.82275132275133 and parameters: {'add_post_latent_layers': False, 'num_layers_to_retrain': 1, 'batch_size': 32, 'learning_rate': 4.1706117230041555e-05, 'dropout': 0.17228143686673564, 'l1_reg_weight': 4.399437509482123e-05, 'l2_reg_weight': 4.869634602341781e-07}. Best is trial 18 with value: 88.82275132275133.\n",
      "/home/leilapirhaji/mz_embed_engine/ml/finetune/retrain_finetune_VAE.py:143: FutureWarning:\n",
      "\n",
      "suggest_loguniform has been deprecated in v3.0.0. This feature will be removed in v6.0.0. See https://github.com/optuna/optuna/releases/tag/v3.0.0. Use suggest_float(..., log=True) instead.\n",
      "\n",
      "/home/leilapirhaji/mz_embed_engine/ml/finetune/retrain_finetune_VAE.py:144: FutureWarning:\n",
      "\n",
      "suggest_uniform has been deprecated in v3.0.0. This feature will be removed in v6.0.0. See https://github.com/optuna/optuna/releases/tag/v3.0.0. Use suggest_float instead.\n",
      "\n",
      "/home/leilapirhaji/mz_embed_engine/ml/finetune/retrain_finetune_VAE.py:145: FutureWarning:\n",
      "\n",
      "suggest_loguniform has been deprecated in v3.0.0. This feature will be removed in v6.0.0. See https://github.com/optuna/optuna/releases/tag/v3.0.0. Use suggest_float(..., log=True) instead.\n",
      "\n",
      "/home/leilapirhaji/mz_embed_engine/ml/finetune/retrain_finetune_VAE.py:146: FutureWarning:\n",
      "\n",
      "suggest_loguniform has been deprecated in v3.0.0. This feature will be removed in v6.0.0. See https://github.com/optuna/optuna/releases/tag/v3.0.0. Use suggest_float(..., log=True) instead.\n",
      "\n",
      "/home/leilapirhaji/mz_embed_engine/ml/finetune/freez_encoder_latent_avg.py:370: FutureWarning:\n",
      "\n",
      "The behavior of DataFrame concatenation with empty or all-NA entries is deprecated. In a future version, this will no longer exclude empty or all-NA columns when determining the result dtypes. To retain the old behavior, exclude the relevant entries before the concat operation.\n",
      "\n"
     ]
    },
    {
     "name": "stdout",
     "output_type": "stream",
     "text": [
      "Epoch 1/50, Loss: 0.3923660601888384\n",
      "Validation started\n",
      "Validation Loss: 1.1392318844795226, Accuracy: 80.48780487804879%, Precision: 82.75862068965517%, Recall: 88.88888888888889%, F1 Score: 85.71428571428571%, AUC: 88.82275132275133%\n",
      "Epoch 2/50, Loss: 0.39209601070199696\n",
      "Validation started\n",
      "Validation Loss: 1.1603334188461303, Accuracy: 80.48780487804879%, Precision: 82.75862068965517%, Recall: 88.88888888888889%, F1 Score: 85.71428571428571%, AUC: 88.82275132275133%\n",
      "Epoch 3/50, Loss: 0.39174034552914755\n",
      "Validation started\n",
      "Validation Loss: 1.1825082540512084, Accuracy: 80.48780487804879%, Precision: 82.75862068965517%, Recall: 88.88888888888889%, F1 Score: 85.71428571428571%, AUC: 88.82275132275133%\n",
      "Epoch 4/50, Loss: 0.391618156007358\n",
      "Validation started\n",
      "Validation Loss: 1.1913955807685852, Accuracy: 80.48780487804879%, Precision: 82.75862068965517%, Recall: 88.88888888888889%, F1 Score: 85.71428571428571%, AUC: 88.82275132275133%\n",
      "Epoch 5/50, Loss: 0.3913593611546925\n",
      "Validation started\n",
      "Validation Loss: 1.2000885009765625, Accuracy: 80.48780487804879%, Precision: 82.75862068965517%, Recall: 88.88888888888889%, F1 Score: 85.71428571428571%, AUC: 88.82275132275133%\n",
      "Epoch 6/50, Loss: 0.39136857220104765\n",
      "Validation started\n",
      "Early stopping triggered at epoch 6\n",
      "Fine-tuning completed.\n",
      "Epoch 1/50, Loss: 0.19003898543970926\n",
      "Validation started\n",
      "Validation Loss: 1.0716888904571533, Accuracy: 80.48780487804879%, Precision: 81.66666666666667%, Recall: 90.74074074074075%, F1 Score: 85.96491228070175%, AUC: 84.9867724867725%\n",
      "Epoch 2/50, Loss: 0.19004649136747634\n",
      "Validation started\n"
     ]
    },
    {
     "name": "stderr",
     "output_type": "stream",
     "text": [
      "/home/leilapirhaji/mz_embed_engine/ml/finetune/freez_encoder_latent_avg.py:370: FutureWarning:\n",
      "\n",
      "The behavior of DataFrame concatenation with empty or all-NA entries is deprecated. In a future version, this will no longer exclude empty or all-NA columns when determining the result dtypes. To retain the old behavior, exclude the relevant entries before the concat operation.\n",
      "\n"
     ]
    },
    {
     "name": "stdout",
     "output_type": "stream",
     "text": [
      "Validation Loss: 1.0864322423934936, Accuracy: 79.26829268292683%, Precision: 81.35593220338984%, Recall: 88.88888888888889%, F1 Score: 84.95575221238938%, AUC: 84.92063492063492%\n",
      "Epoch 3/50, Loss: 0.1899411454796791\n",
      "Validation started\n",
      "Validation Loss: 1.100281298160553, Accuracy: 79.26829268292683%, Precision: 81.35593220338984%, Recall: 88.88888888888889%, F1 Score: 84.95575221238938%, AUC: 84.92063492063492%\n",
      "Epoch 4/50, Loss: 0.18958937802485057\n",
      "Validation started\n",
      "Validation Loss: 1.1090337753295898, Accuracy: 79.26829268292683%, Precision: 81.35593220338984%, Recall: 88.88888888888889%, F1 Score: 84.95575221238938%, AUC: 84.92063492063492%\n",
      "Epoch 5/50, Loss: 0.18964086579424994\n",
      "Validation started\n",
      "Validation Loss: 1.1188580393791199, Accuracy: 79.26829268292683%, Precision: 81.35593220338984%, Recall: 88.88888888888889%, F1 Score: 84.95575221238938%, AUC: 84.92063492063492%\n",
      "Epoch 6/50, Loss: 0.1894985671554293\n",
      "Validation started\n",
      "Early stopping triggered at epoch 6\n",
      "Fine-tuning completed.\n"
     ]
    },
    {
     "name": "stderr",
     "output_type": "stream",
     "text": [
      "[I 2024-09-17 03:20:21,337] Trial 32 finished with value: 88.82275132275133 and parameters: {'add_post_latent_layers': False, 'num_layers_to_retrain': 1, 'batch_size': 32, 'learning_rate': 3.751893841352902e-05, 'dropout': 0.15691714539351836, 'l1_reg_weight': 1.1998446777963671e-05, 'l2_reg_weight': 2.0254758216399787e-07}. Best is trial 18 with value: 88.82275132275133.\n",
      "/home/leilapirhaji/mz_embed_engine/ml/finetune/retrain_finetune_VAE.py:143: FutureWarning:\n",
      "\n",
      "suggest_loguniform has been deprecated in v3.0.0. This feature will be removed in v6.0.0. See https://github.com/optuna/optuna/releases/tag/v3.0.0. Use suggest_float(..., log=True) instead.\n",
      "\n",
      "/home/leilapirhaji/mz_embed_engine/ml/finetune/retrain_finetune_VAE.py:144: FutureWarning:\n",
      "\n",
      "suggest_uniform has been deprecated in v3.0.0. This feature will be removed in v6.0.0. See https://github.com/optuna/optuna/releases/tag/v3.0.0. Use suggest_float instead.\n",
      "\n",
      "/home/leilapirhaji/mz_embed_engine/ml/finetune/retrain_finetune_VAE.py:145: FutureWarning:\n",
      "\n",
      "suggest_loguniform has been deprecated in v3.0.0. This feature will be removed in v6.0.0. See https://github.com/optuna/optuna/releases/tag/v3.0.0. Use suggest_float(..., log=True) instead.\n",
      "\n",
      "/home/leilapirhaji/mz_embed_engine/ml/finetune/retrain_finetune_VAE.py:146: FutureWarning:\n",
      "\n",
      "suggest_loguniform has been deprecated in v3.0.0. This feature will be removed in v6.0.0. See https://github.com/optuna/optuna/releases/tag/v3.0.0. Use suggest_float(..., log=True) instead.\n",
      "\n",
      "/home/leilapirhaji/mz_embed_engine/ml/finetune/freez_encoder_latent_avg.py:370: FutureWarning:\n",
      "\n",
      "The behavior of DataFrame concatenation with empty or all-NA entries is deprecated. In a future version, this will no longer exclude empty or all-NA columns when determining the result dtypes. To retain the old behavior, exclude the relevant entries before the concat operation.\n",
      "\n"
     ]
    },
    {
     "name": "stdout",
     "output_type": "stream",
     "text": [
      "Epoch 1/50, Loss: 1.3415950621877397\n",
      "Validation started\n",
      "Validation Loss: 2.0829603910446166, Accuracy: 80.48780487804879%, Precision: 82.75862068965517%, Recall: 88.88888888888889%, F1 Score: 85.71428571428571%, AUC: 88.82275132275133%\n",
      "Epoch 2/50, Loss: 1.3401850376810347\n",
      "Validation started\n",
      "Validation Loss: 2.0782895565032957, Accuracy: 80.48780487804879%, Precision: 82.75862068965517%, Recall: 88.88888888888889%, F1 Score: 85.71428571428571%, AUC: 88.75661375661376%\n",
      "Epoch 3/50, Loss: 1.3390709672655379\n",
      "Validation started\n",
      "Validation Loss: 2.0789132356643676, Accuracy: 80.48780487804879%, Precision: 82.75862068965517%, Recall: 88.88888888888889%, F1 Score: 85.71428571428571%, AUC: 88.75661375661376%\n",
      "Epoch 4/50, Loss: 1.338309679712568\n",
      "Validation started\n",
      "Validation Loss: 2.077021932601929, Accuracy: 80.48780487804879%, Precision: 82.75862068965517%, Recall: 88.88888888888889%, F1 Score: 85.71428571428571%, AUC: 88.75661375661376%\n",
      "Epoch 5/50, Loss: 1.3374894431659154\n",
      "Validation started\n",
      "Validation Loss: 2.0778646230697633, Accuracy: 80.48780487804879%, Precision: 82.75862068965517%, Recall: 88.88888888888889%, F1 Score: 85.71428571428571%, AUC: 88.75661375661376%\n",
      "Epoch 6/50, Loss: 1.3371363963399614\n",
      "Validation started\n",
      "Early stopping triggered at epoch 6\n",
      "Fine-tuning completed.\n",
      "Epoch 1/50, Loss: 0.647242818559919\n",
      "Validation started\n",
      "Validation Loss: 1.5090586304664613, Accuracy: 79.26829268292683%, Precision: 81.35593220338984%, Recall: 88.88888888888889%, F1 Score: 84.95575221238938%, AUC: 84.92063492063492%\n",
      "Epoch 2/50, Loss: 0.6457413051809583\n",
      "Validation started\n"
     ]
    },
    {
     "name": "stderr",
     "output_type": "stream",
     "text": [
      "/home/leilapirhaji/mz_embed_engine/ml/finetune/freez_encoder_latent_avg.py:370: FutureWarning:\n",
      "\n",
      "The behavior of DataFrame concatenation with empty or all-NA entries is deprecated. In a future version, this will no longer exclude empty or all-NA columns when determining the result dtypes. To retain the old behavior, exclude the relevant entries before the concat operation.\n",
      "\n"
     ]
    },
    {
     "name": "stdout",
     "output_type": "stream",
     "text": [
      "Validation Loss: 1.4976006627082825, Accuracy: 79.26829268292683%, Precision: 81.35593220338984%, Recall: 88.88888888888889%, F1 Score: 84.95575221238938%, AUC: 84.92063492063492%\n",
      "Epoch 3/50, Loss: 0.6446107157639095\n",
      "Validation started\n",
      "Validation Loss: 1.4923301219940186, Accuracy: 79.26829268292683%, Precision: 81.35593220338984%, Recall: 88.88888888888889%, F1 Score: 84.95575221238938%, AUC: 85.01984126984127%\n",
      "Epoch 4/50, Loss: 0.643331242459161\n",
      "Validation started\n",
      "Validation Loss: 1.4866178274154662, Accuracy: 79.26829268292683%, Precision: 81.35593220338984%, Recall: 88.88888888888889%, F1 Score: 84.95575221238938%, AUC: 84.92063492063492%\n",
      "Epoch 5/50, Loss: 0.6428072707993644\n",
      "Validation started\n",
      "Validation Loss: 1.4856998085975648, Accuracy: 79.26829268292683%, Precision: 81.35593220338984%, Recall: 88.88888888888889%, F1 Score: 84.95575221238938%, AUC: 84.85449735449735%\n",
      "Epoch 6/50, Loss: 0.6420715238366809\n",
      "Validation started\n",
      "Validation Loss: 1.4834763765335084, Accuracy: 79.26829268292683%, Precision: 81.35593220338984%, Recall: 88.88888888888889%, F1 Score: 84.95575221238938%, AUC: 84.92063492063492%\n",
      "Epoch 7/50, Loss: 0.6411102414131165\n",
      "Validation started\n",
      "Validation Loss: 1.4829892754554748, Accuracy: 79.26829268292683%, Precision: 81.35593220338984%, Recall: 88.88888888888889%, F1 Score: 84.95575221238938%, AUC: 84.92063492063492%\n",
      "Epoch 8/50, Loss: 0.6407819901193891\n",
      "Validation started\n"
     ]
    },
    {
     "name": "stderr",
     "output_type": "stream",
     "text": [
      "[I 2024-09-17 03:20:23,966] Trial 33 finished with value: 88.75661375661376 and parameters: {'add_post_latent_layers': False, 'num_layers_to_retrain': 1, 'batch_size': 32, 'learning_rate': 9.078887311912085e-05, 'dropout': 0.12470289956908719, 'l1_reg_weight': 4.123320080959356e-05, 'l2_reg_weight': 1.1349008558916832e-07}. Best is trial 18 with value: 88.82275132275133.\n"
     ]
    },
    {
     "name": "stdout",
     "output_type": "stream",
     "text": [
      "Early stopping triggered at epoch 8\n",
      "Fine-tuning completed.\n"
     ]
    },
    {
     "name": "stderr",
     "output_type": "stream",
     "text": [
      "/home/leilapirhaji/mz_embed_engine/ml/finetune/retrain_finetune_VAE.py:143: FutureWarning:\n",
      "\n",
      "suggest_loguniform has been deprecated in v3.0.0. This feature will be removed in v6.0.0. See https://github.com/optuna/optuna/releases/tag/v3.0.0. Use suggest_float(..., log=True) instead.\n",
      "\n",
      "/home/leilapirhaji/mz_embed_engine/ml/finetune/retrain_finetune_VAE.py:144: FutureWarning:\n",
      "\n",
      "suggest_uniform has been deprecated in v3.0.0. This feature will be removed in v6.0.0. See https://github.com/optuna/optuna/releases/tag/v3.0.0. Use suggest_float instead.\n",
      "\n",
      "/home/leilapirhaji/mz_embed_engine/ml/finetune/retrain_finetune_VAE.py:145: FutureWarning:\n",
      "\n",
      "suggest_loguniform has been deprecated in v3.0.0. This feature will be removed in v6.0.0. See https://github.com/optuna/optuna/releases/tag/v3.0.0. Use suggest_float(..., log=True) instead.\n",
      "\n",
      "/home/leilapirhaji/mz_embed_engine/ml/finetune/retrain_finetune_VAE.py:146: FutureWarning:\n",
      "\n",
      "suggest_loguniform has been deprecated in v3.0.0. This feature will be removed in v6.0.0. See https://github.com/optuna/optuna/releases/tag/v3.0.0. Use suggest_float(..., log=True) instead.\n",
      "\n",
      "/home/leilapirhaji/mz_embed_engine/ml/finetune/freez_encoder_latent_avg.py:370: FutureWarning:\n",
      "\n",
      "The behavior of DataFrame concatenation with empty or all-NA entries is deprecated. In a future version, this will no longer exclude empty or all-NA columns when determining the result dtypes. To retain the old behavior, exclude the relevant entries before the concat operation.\n",
      "\n"
     ]
    },
    {
     "name": "stdout",
     "output_type": "stream",
     "text": [
      "Epoch 1/50, Loss: 0.28595442857061115\n",
      "Validation started\n",
      "Validation Loss: 0.9490547239780426, Accuracy: 80.48780487804879%, Precision: 82.75862068965517%, Recall: 88.88888888888889%, F1 Score: 85.71428571428571%, AUC: 88.75661375661376%\n",
      "Epoch 2/50, Loss: 0.28537469676562716\n",
      "Validation started\n",
      "Validation Loss: 0.963496994972229, Accuracy: 80.48780487804879%, Precision: 82.75862068965517%, Recall: 88.88888888888889%, F1 Score: 85.71428571428571%, AUC: 88.69047619047619%\n",
      "Epoch 3/50, Loss: 0.2845757646220071\n",
      "Validation started\n",
      "Validation Loss: 0.9845079839229584, Accuracy: 80.48780487804879%, Precision: 82.75862068965517%, Recall: 88.88888888888889%, F1 Score: 85.71428571428571%, AUC: 88.69047619047619%\n",
      "Epoch 4/50, Loss: 0.2843077949115208\n",
      "Validation started\n",
      "Validation Loss: 0.998626446723938, Accuracy: 80.48780487804879%, Precision: 82.75862068965517%, Recall: 88.88888888888889%, F1 Score: 85.71428571428571%, AUC: 88.62433862433863%\n",
      "Epoch 5/50, Loss: 0.28380981939179556\n",
      "Validation started\n",
      "Validation Loss: 1.0097702383995055, Accuracy: 80.48780487804879%, Precision: 82.75862068965517%, Recall: 88.88888888888889%, F1 Score: 85.71428571428571%, AUC: 88.62433862433863%\n",
      "Epoch 6/50, Loss: 0.28378771032605854\n",
      "Validation started\n",
      "Early stopping triggered at epoch 6\n",
      "Fine-tuning completed.\n",
      "Epoch 1/50, Loss: 0.14135508558579854\n",
      "Validation started\n",
      "Validation Loss: 0.8664234280586243, Accuracy: 79.26829268292683%, Precision: 81.35593220338984%, Recall: 88.88888888888889%, F1 Score: 84.95575221238938%, AUC: 84.85449735449735%\n",
      "Epoch 2/50, Loss: 0.14124138866152083\n",
      "Validation started\n"
     ]
    },
    {
     "name": "stderr",
     "output_type": "stream",
     "text": [
      "/home/leilapirhaji/mz_embed_engine/ml/finetune/freez_encoder_latent_avg.py:370: FutureWarning:\n",
      "\n",
      "The behavior of DataFrame concatenation with empty or all-NA entries is deprecated. In a future version, this will no longer exclude empty or all-NA columns when determining the result dtypes. To retain the old behavior, exclude the relevant entries before the concat operation.\n",
      "\n"
     ]
    },
    {
     "name": "stdout",
     "output_type": "stream",
     "text": [
      "Validation Loss: 0.8806912660598755, Accuracy: 79.26829268292683%, Precision: 81.35593220338984%, Recall: 88.88888888888889%, F1 Score: 84.95575221238938%, AUC: 84.85449735449735%\n",
      "Epoch 3/50, Loss: 0.14090748024838312\n",
      "Validation started\n",
      "Validation Loss: 0.8949615240097046, Accuracy: 79.26829268292683%, Precision: 81.35593220338984%, Recall: 88.88888888888889%, F1 Score: 84.95575221238938%, AUC: 84.85449735449735%\n",
      "Epoch 4/50, Loss: 0.13985895897660935\n",
      "Validation started\n",
      "Validation Loss: 0.9060644030570983, Accuracy: 79.26829268292683%, Precision: 81.35593220338984%, Recall: 88.88888888888889%, F1 Score: 84.95575221238938%, AUC: 84.85449735449735%\n",
      "Epoch 5/50, Loss: 0.13992728292942047\n",
      "Validation started\n",
      "Validation Loss: 0.9175776362419128, Accuracy: 80.48780487804879%, Precision: 81.66666666666667%, Recall: 90.74074074074075%, F1 Score: 85.96491228070175%, AUC: 84.92063492063492%\n",
      "Epoch 6/50, Loss: 0.13952023216656276\n",
      "Validation started\n",
      "Validation Loss: 0.9268528103828431, Accuracy: 79.26829268292683%, Precision: 81.35593220338984%, Recall: 88.88888888888889%, F1 Score: 84.95575221238938%, AUC: 84.92063492063492%\n",
      "Epoch 7/50, Loss: 0.1388504153915814\n",
      "Validation started\n",
      "Validation Loss: 0.9374564349651336, Accuracy: 80.48780487804879%, Precision: 81.66666666666667%, Recall: 90.74074074074075%, F1 Score: 85.96491228070175%, AUC: 84.92063492063492%\n",
      "Epoch 8/50, Loss: 0.1388873787862914\n",
      "Validation started\n",
      "Validation Loss: 0.9463764071464539, Accuracy: 79.26829268292683%, Precision: 81.35593220338984%, Recall: 88.88888888888889%, F1 Score: 84.95575221238938%, AUC: 84.85449735449735%\n",
      "Epoch 9/50, Loss: 0.13869898979152953\n",
      "Validation started\n",
      "Validation Loss: 0.9559111595153809, Accuracy: 79.26829268292683%, Precision: 81.35593220338984%, Recall: 88.88888888888889%, F1 Score: 84.95575221238938%, AUC: 84.78835978835978%\n",
      "Epoch 10/50, Loss: 0.13872109992163523\n",
      "Validation started\n",
      "Early stopping triggered at epoch 10\n",
      "Fine-tuning completed.\n"
     ]
    },
    {
     "name": "stderr",
     "output_type": "stream",
     "text": [
      "[I 2024-09-17 03:20:26,959] Trial 34 finished with value: 88.62433862433863 and parameters: {'add_post_latent_layers': False, 'num_layers_to_retrain': 1, 'batch_size': 32, 'learning_rate': 1.7938514120545693e-05, 'dropout': 0.1630112675052908, 'l1_reg_weight': 8.647779564033334e-06, 'l2_reg_weight': 2.9027188111389916e-07}. Best is trial 18 with value: 88.82275132275133.\n",
      "/home/leilapirhaji/mz_embed_engine/ml/finetune/retrain_finetune_VAE.py:143: FutureWarning:\n",
      "\n",
      "suggest_loguniform has been deprecated in v3.0.0. This feature will be removed in v6.0.0. See https://github.com/optuna/optuna/releases/tag/v3.0.0. Use suggest_float(..., log=True) instead.\n",
      "\n",
      "/home/leilapirhaji/mz_embed_engine/ml/finetune/retrain_finetune_VAE.py:144: FutureWarning:\n",
      "\n",
      "suggest_uniform has been deprecated in v3.0.0. This feature will be removed in v6.0.0. See https://github.com/optuna/optuna/releases/tag/v3.0.0. Use suggest_float instead.\n",
      "\n",
      "/home/leilapirhaji/mz_embed_engine/ml/finetune/retrain_finetune_VAE.py:145: FutureWarning:\n",
      "\n",
      "suggest_loguniform has been deprecated in v3.0.0. This feature will be removed in v6.0.0. See https://github.com/optuna/optuna/releases/tag/v3.0.0. Use suggest_float(..., log=True) instead.\n",
      "\n",
      "/home/leilapirhaji/mz_embed_engine/ml/finetune/retrain_finetune_VAE.py:146: FutureWarning:\n",
      "\n",
      "suggest_loguniform has been deprecated in v3.0.0. This feature will be removed in v6.0.0. See https://github.com/optuna/optuna/releases/tag/v3.0.0. Use suggest_float(..., log=True) instead.\n",
      "\n",
      "/home/leilapirhaji/mz_embed_engine/ml/finetune/freez_encoder_latent_avg.py:370: FutureWarning:\n",
      "\n",
      "The behavior of DataFrame concatenation with empty or all-NA entries is deprecated. In a future version, this will no longer exclude empty or all-NA columns when determining the result dtypes. To retain the old behavior, exclude the relevant entries before the concat operation.\n",
      "\n"
     ]
    },
    {
     "name": "stdout",
     "output_type": "stream",
     "text": [
      "Epoch 1/50, Loss: 0.8122020576681409\n",
      "Validation started\n",
      "Validation Loss: 1.522513222694397, Accuracy: 80.48780487804879%, Precision: 82.75862068965517%, Recall: 88.88888888888889%, F1 Score: 85.71428571428571%, AUC: 88.75661375661376%\n",
      "Epoch 2/50, Loss: 0.8118045840944562\n",
      "Validation started\n",
      "Validation Loss: 1.5265199422836304, Accuracy: 80.48780487804879%, Precision: 82.75862068965517%, Recall: 88.88888888888889%, F1 Score: 85.71428571428571%, AUC: 88.69047619047619%\n",
      "Epoch 3/50, Loss: 0.8112748691013881\n",
      "Validation started\n",
      "Validation Loss: 1.5390952110290528, Accuracy: 80.48780487804879%, Precision: 82.75862068965517%, Recall: 88.88888888888889%, F1 Score: 85.71428571428571%, AUC: 88.69047619047619%\n",
      "Epoch 4/50, Loss: 0.8111084827354976\n",
      "Validation started\n",
      "Validation Loss: 1.544289803504944, Accuracy: 80.48780487804879%, Precision: 82.75862068965517%, Recall: 88.88888888888889%, F1 Score: 85.71428571428571%, AUC: 88.62433862433863%\n",
      "Epoch 5/50, Loss: 0.8107126993792397\n",
      "Validation started\n",
      "Validation Loss: 1.5492955923080445, Accuracy: 80.48780487804879%, Precision: 82.75862068965517%, Recall: 88.88888888888889%, F1 Score: 85.71428571428571%, AUC: 88.69047619047619%\n",
      "Epoch 6/50, Loss: 0.8107426592281887\n",
      "Validation started\n",
      "Early stopping triggered at epoch 6\n",
      "Fine-tuning completed.\n",
      "Epoch 1/50, Loss: 0.3921662909643991\n",
      "Validation started\n",
      "Validation Loss: 1.1890841722488403, Accuracy: 80.48780487804879%, Precision: 81.66666666666667%, Recall: 90.74074074074075%, F1 Score: 85.96491228070175%, AUC: 84.85449735449735%\n",
      "Epoch 2/50, Loss: 0.3921222708054951\n",
      "Validation started\n"
     ]
    },
    {
     "name": "stderr",
     "output_type": "stream",
     "text": [
      "/home/leilapirhaji/mz_embed_engine/ml/finetune/freez_encoder_latent_avg.py:370: FutureWarning:\n",
      "\n",
      "The behavior of DataFrame concatenation with empty or all-NA entries is deprecated. In a future version, this will no longer exclude empty or all-NA columns when determining the result dtypes. To retain the old behavior, exclude the relevant entries before the concat operation.\n",
      "\n"
     ]
    },
    {
     "name": "stdout",
     "output_type": "stream",
     "text": [
      "Validation Loss: 1.1943390727043153, Accuracy: 79.26829268292683%, Precision: 81.35593220338984%, Recall: 88.88888888888889%, F1 Score: 84.95575221238938%, AUC: 84.72222222222221%\n",
      "Epoch 3/50, Loss: 0.39190681065831867\n",
      "Validation started\n",
      "Validation Loss: 1.2028223991394043, Accuracy: 80.48780487804879%, Precision: 81.66666666666667%, Recall: 90.74074074074075%, F1 Score: 85.96491228070175%, AUC: 84.72222222222221%\n",
      "Epoch 4/50, Loss: 0.39118283348424093\n",
      "Validation started\n",
      "Validation Loss: 1.2067432880401612, Accuracy: 79.26829268292683%, Precision: 81.35593220338984%, Recall: 88.88888888888889%, F1 Score: 84.95575221238938%, AUC: 84.85449735449735%\n",
      "Epoch 5/50, Loss: 0.3912730323416846\n",
      "Validation started\n",
      "Validation Loss: 1.2126442551612855, Accuracy: 80.48780487804879%, Precision: 81.66666666666667%, Recall: 90.74074074074075%, F1 Score: 85.96491228070175%, AUC: 84.92063492063492%\n",
      "Epoch 6/50, Loss: 0.3910372874566487\n",
      "Validation started\n",
      "Validation Loss: 1.2165440440177917, Accuracy: 79.26829268292683%, Precision: 81.35593220338984%, Recall: 88.88888888888889%, F1 Score: 84.95575221238938%, AUC: 84.92063492063492%\n",
      "Epoch 7/50, Loss: 0.3905209984098162\n",
      "Validation started\n",
      "Validation Loss: 1.2227702617645264, Accuracy: 80.48780487804879%, Precision: 81.66666666666667%, Recall: 90.74074074074075%, F1 Score: 85.96491228070175%, AUC: 84.92063492063492%\n",
      "Epoch 8/50, Loss: 0.39058867735522135\n",
      "Validation started\n",
      "Validation Loss: 1.2271027565002441, Accuracy: 79.26829268292683%, Precision: 81.35593220338984%, Recall: 88.88888888888889%, F1 Score: 84.95575221238938%, AUC: 84.85449735449735%\n",
      "Epoch 9/50, Loss: 0.3904331794806889\n",
      "Validation started\n",
      "Validation Loss: 1.2331068754196166, Accuracy: 79.26829268292683%, Precision: 81.35593220338984%, Recall: 88.88888888888889%, F1 Score: 84.95575221238938%, AUC: 84.85449735449735%\n",
      "Epoch 10/50, Loss: 0.39051436313561033\n",
      "Validation started\n",
      "Early stopping triggered at epoch 10\n",
      "Fine-tuning completed.\n"
     ]
    },
    {
     "name": "stderr",
     "output_type": "stream",
     "text": [
      "[I 2024-09-17 03:20:29,907] Trial 35 finished with value: 88.69047619047619 and parameters: {'add_post_latent_layers': False, 'num_layers_to_retrain': 1, 'batch_size': 32, 'learning_rate': 3.028460053865634e-05, 'dropout': 0.1312110577198038, 'l1_reg_weight': 2.4929732723236728e-05, 'l2_reg_weight': 1.4583496553461179e-06}. Best is trial 18 with value: 88.82275132275133.\n",
      "/home/leilapirhaji/mz_embed_engine/ml/finetune/retrain_finetune_VAE.py:143: FutureWarning:\n",
      "\n",
      "suggest_loguniform has been deprecated in v3.0.0. This feature will be removed in v6.0.0. See https://github.com/optuna/optuna/releases/tag/v3.0.0. Use suggest_float(..., log=True) instead.\n",
      "\n",
      "/home/leilapirhaji/mz_embed_engine/ml/finetune/retrain_finetune_VAE.py:144: FutureWarning:\n",
      "\n",
      "suggest_uniform has been deprecated in v3.0.0. This feature will be removed in v6.0.0. See https://github.com/optuna/optuna/releases/tag/v3.0.0. Use suggest_float instead.\n",
      "\n",
      "/home/leilapirhaji/mz_embed_engine/ml/finetune/retrain_finetune_VAE.py:145: FutureWarning:\n",
      "\n",
      "suggest_loguniform has been deprecated in v3.0.0. This feature will be removed in v6.0.0. See https://github.com/optuna/optuna/releases/tag/v3.0.0. Use suggest_float(..., log=True) instead.\n",
      "\n",
      "/home/leilapirhaji/mz_embed_engine/ml/finetune/retrain_finetune_VAE.py:146: FutureWarning:\n",
      "\n",
      "suggest_loguniform has been deprecated in v3.0.0. This feature will be removed in v6.0.0. See https://github.com/optuna/optuna/releases/tag/v3.0.0. Use suggest_float(..., log=True) instead.\n",
      "\n"
     ]
    },
    {
     "name": "stdout",
     "output_type": "stream",
     "text": [
      "Epoch 1/50, Loss: 0.4486321806907654\n",
      "Validation started\n",
      "Validation Loss: 0.4916349411010742, Accuracy: 78.04878048780488%, Precision: 79.03225806451613%, Recall: 90.74074074074075%, F1 Score: 84.48275862068965%, AUC: 87.83068783068784%\n",
      "Epoch 2/50, Loss: 0.26393754354545046\n",
      "Validation started\n"
     ]
    },
    {
     "name": "stderr",
     "output_type": "stream",
     "text": [
      "/home/leilapirhaji/mz_embed_engine/ml/finetune/freez_encoder_latent_avg.py:370: FutureWarning:\n",
      "\n",
      "The behavior of DataFrame concatenation with empty or all-NA entries is deprecated. In a future version, this will no longer exclude empty or all-NA columns when determining the result dtypes. To retain the old behavior, exclude the relevant entries before the concat operation.\n",
      "\n"
     ]
    },
    {
     "name": "stdout",
     "output_type": "stream",
     "text": [
      "Validation Loss: 0.4659263551235199, Accuracy: 78.04878048780488%, Precision: 80.0%, Recall: 88.88888888888889%, F1 Score: 84.21052631578947%, AUC: 88.02910052910052%\n",
      "Epoch 3/50, Loss: 0.18308355872120177\n",
      "Validation started\n",
      "Validation Loss: 0.4757615804672241, Accuracy: 78.04878048780488%, Precision: 80.0%, Recall: 88.88888888888889%, F1 Score: 84.21052631578947%, AUC: 88.02910052910053%\n",
      "Epoch 4/50, Loss: 0.14307173926915442\n",
      "Validation started\n",
      "Validation Loss: 0.4960813641548157, Accuracy: 79.26829268292683%, Precision: 81.35593220338984%, Recall: 88.88888888888889%, F1 Score: 84.95575221238938%, AUC: 88.02910052910053%\n",
      "Epoch 5/50, Loss: 0.11524299319301333\n",
      "Validation started\n",
      "Validation Loss: 0.5218991219997406, Accuracy: 79.26829268292683%, Precision: 81.35593220338984%, Recall: 88.88888888888889%, F1 Score: 84.95575221238938%, AUC: 87.96296296296296%\n",
      "Epoch 6/50, Loss: 0.10341627416866166\n",
      "Validation started\n",
      "Validation Loss: 0.5477956533432007, Accuracy: 78.04878048780488%, Precision: 80.0%, Recall: 88.88888888888889%, F1 Score: 84.21052631578947%, AUC: 88.09523809523809%\n",
      "Epoch 7/50, Loss: 0.09099338629416057\n",
      "Validation started\n",
      "Validation Loss: 0.5702422291040421, Accuracy: 79.26829268292683%, Precision: 81.35593220338984%, Recall: 88.88888888888889%, F1 Score: 84.95575221238938%, AUC: 88.09523809523809%\n",
      "Epoch 8/50, Loss: 0.08572586200066976\n",
      "Validation started\n",
      "Validation Loss: 0.5907879710197449, Accuracy: 80.48780487804879%, Precision: 82.75862068965517%, Recall: 88.88888888888889%, F1 Score: 85.71428571428571%, AUC: 88.09523809523809%\n",
      "Epoch 9/50, Loss: 0.08226606675556727\n",
      "Validation started\n",
      "Validation Loss: 0.6126955389976502, Accuracy: 80.48780487804879%, Precision: 82.75862068965517%, Recall: 88.88888888888889%, F1 Score: 85.71428571428571%, AUC: 88.02910052910052%\n",
      "Epoch 10/50, Loss: 0.0782589034310409\n",
      "Validation started\n",
      "Validation Loss: 0.6316793203353882, Accuracy: 80.48780487804879%, Precision: 82.75862068965517%, Recall: 88.88888888888889%, F1 Score: 85.71428571428571%, AUC: 88.02910052910052%\n",
      "Epoch 11/50, Loss: 0.07566105095403534\n",
      "Validation started\n",
      "Early stopping triggered at epoch 11\n",
      "Fine-tuning completed.\n",
      "Epoch 1/50, Loss: 0.4566618246691568\n",
      "Validation started\n"
     ]
    },
    {
     "name": "stderr",
     "output_type": "stream",
     "text": [
      "/home/leilapirhaji/mz_embed_engine/ml/finetune/freez_encoder_latent_avg.py:370: FutureWarning:\n",
      "\n",
      "The behavior of DataFrame concatenation with empty or all-NA entries is deprecated. In a future version, this will no longer exclude empty or all-NA columns when determining the result dtypes. To retain the old behavior, exclude the relevant entries before the concat operation.\n",
      "\n"
     ]
    },
    {
     "name": "stdout",
     "output_type": "stream",
     "text": [
      "Validation Loss: 0.495445317029953, Accuracy: 80.48780487804879%, Precision: 79.6875%, Recall: 94.44444444444444%, F1 Score: 86.4406779661017%, AUC: 83.86243386243387%\n",
      "Epoch 2/50, Loss: 0.28056627405541285\n",
      "Validation started\n",
      "Validation Loss: 0.4696615934371948, Accuracy: 80.48780487804879%, Precision: 80.64516129032258%, Recall: 92.5925925925926%, F1 Score: 86.20689655172413%, AUC: 83.79629629629629%\n",
      "Epoch 3/50, Loss: 0.20098952842610224\n",
      "Validation started\n",
      "Validation Loss: 0.47709961235523224, Accuracy: 81.70731707317073%, Precision: 81.9672131147541%, Recall: 92.5925925925926%, F1 Score: 86.95652173913044%, AUC: 83.79629629629629%\n",
      "Epoch 4/50, Loss: 0.15489451161452703\n",
      "Validation started\n",
      "Validation Loss: 0.4950258046388626, Accuracy: 81.70731707317073%, Precision: 83.05084745762711%, Recall: 90.74074074074075%, F1 Score: 86.72566371681415%, AUC: 83.7962962962963%\n",
      "Epoch 5/50, Loss: 0.12084970836128507\n",
      "Validation started\n",
      "Validation Loss: 0.5191617012023926, Accuracy: 81.70731707317073%, Precision: 81.9672131147541%, Recall: 92.5925925925926%, F1 Score: 86.95652173913044%, AUC: 83.7962962962963%\n",
      "Epoch 6/50, Loss: 0.10526772748146739\n",
      "Validation started\n",
      "Early stopping triggered at epoch 6\n",
      "Fine-tuning completed.\n"
     ]
    },
    {
     "name": "stderr",
     "output_type": "stream",
     "text": [
      "[I 2024-09-17 03:20:33,600] Trial 36 finished with value: 88.02910052910052 and parameters: {'add_post_latent_layers': True, 'post_latent_layer_size': 128, 'num_layers_to_retrain': 1, 'batch_size': 32, 'learning_rate': 4.854231805531065e-05, 'dropout': 0.19439266044842463, 'l1_reg_weight': 1.7851203329459553e-06, 'l2_reg_weight': 3.978093707777494e-07}. Best is trial 18 with value: 88.82275132275133.\n",
      "/home/leilapirhaji/mz_embed_engine/ml/finetune/retrain_finetune_VAE.py:143: FutureWarning:\n",
      "\n",
      "suggest_loguniform has been deprecated in v3.0.0. This feature will be removed in v6.0.0. See https://github.com/optuna/optuna/releases/tag/v3.0.0. Use suggest_float(..., log=True) instead.\n",
      "\n",
      "/home/leilapirhaji/mz_embed_engine/ml/finetune/retrain_finetune_VAE.py:144: FutureWarning:\n",
      "\n",
      "suggest_uniform has been deprecated in v3.0.0. This feature will be removed in v6.0.0. See https://github.com/optuna/optuna/releases/tag/v3.0.0. Use suggest_float instead.\n",
      "\n",
      "/home/leilapirhaji/mz_embed_engine/ml/finetune/retrain_finetune_VAE.py:145: FutureWarning:\n",
      "\n",
      "suggest_loguniform has been deprecated in v3.0.0. This feature will be removed in v6.0.0. See https://github.com/optuna/optuna/releases/tag/v3.0.0. Use suggest_float(..., log=True) instead.\n",
      "\n",
      "/home/leilapirhaji/mz_embed_engine/ml/finetune/retrain_finetune_VAE.py:146: FutureWarning:\n",
      "\n",
      "suggest_loguniform has been deprecated in v3.0.0. This feature will be removed in v6.0.0. See https://github.com/optuna/optuna/releases/tag/v3.0.0. Use suggest_float(..., log=True) instead.\n",
      "\n",
      "/home/leilapirhaji/mz_embed_engine/ml/finetune/freez_encoder_latent_avg.py:370: FutureWarning:\n",
      "\n",
      "The behavior of DataFrame concatenation with empty or all-NA entries is deprecated. In a future version, this will no longer exclude empty or all-NA columns when determining the result dtypes. To retain the old behavior, exclude the relevant entries before the concat operation.\n",
      "\n"
     ]
    },
    {
     "name": "stdout",
     "output_type": "stream",
     "text": [
      "Epoch 1/50, Loss: 3.044077822140285\n",
      "Validation started\n",
      "Validation Loss: 3.8490397930145264, Accuracy: 78.04878048780488%, Precision: 80.0%, Recall: 88.88888888888889%, F1 Score: 84.21052631578947%, AUC: 88.69047619047619%\n",
      "Epoch 2/50, Loss: 3.0331527165004184\n",
      "Validation started\n",
      "Validation Loss: 3.8197439193725584, Accuracy: 80.48780487804879%, Precision: 82.75862068965517%, Recall: 88.88888888888889%, F1 Score: 85.71428571428571%, AUC: 88.62433862433863%\n",
      "Epoch 3/50, Loss: 3.023125205721174\n",
      "Validation started\n",
      "Validation Loss: 3.7939538955688477, Accuracy: 80.48780487804879%, Precision: 82.75862068965517%, Recall: 88.88888888888889%, F1 Score: 85.71428571428571%, AUC: 88.55820105820106%\n",
      "Epoch 4/50, Loss: 3.0143375056130544\n",
      "Validation started\n",
      "Validation Loss: 3.768429660797119, Accuracy: 80.48780487804879%, Precision: 82.75862068965517%, Recall: 88.88888888888889%, F1 Score: 85.71428571428571%, AUC: 88.62433862433863%\n",
      "Epoch 5/50, Loss: 3.006417155265808\n",
      "Validation started\n",
      "Validation Loss: 3.7446850299835206, Accuracy: 80.48780487804879%, Precision: 82.75862068965517%, Recall: 88.88888888888889%, F1 Score: 85.71428571428571%, AUC: 88.62433862433863%\n",
      "Epoch 6/50, Loss: 3.0001245737075806\n",
      "Validation started\n",
      "Early stopping triggered at epoch 6\n",
      "Fine-tuning completed.\n",
      "Epoch 1/50, Loss: 1.481453537940979\n",
      "Validation started\n",
      "Validation Loss: 2.326327347755432, Accuracy: 80.48780487804879%, Precision: 80.64516129032258%, Recall: 92.5925925925926%, F1 Score: 86.20689655172413%, AUC: 84.65608465608466%\n",
      "Epoch 2/50, Loss: 1.4705350824764796\n",
      "Validation started\n"
     ]
    },
    {
     "name": "stderr",
     "output_type": "stream",
     "text": [
      "/home/leilapirhaji/mz_embed_engine/ml/finetune/freez_encoder_latent_avg.py:370: FutureWarning:\n",
      "\n",
      "The behavior of DataFrame concatenation with empty or all-NA entries is deprecated. In a future version, this will no longer exclude empty or all-NA columns when determining the result dtypes. To retain the old behavior, exclude the relevant entries before the concat operation.\n",
      "\n"
     ]
    },
    {
     "name": "stdout",
     "output_type": "stream",
     "text": [
      "Validation Loss: 2.300972247123718, Accuracy: 80.48780487804879%, Precision: 81.66666666666667%, Recall: 90.74074074074075%, F1 Score: 85.96491228070175%, AUC: 84.72222222222223%\n",
      "Epoch 3/50, Loss: 1.4609055093356542\n",
      "Validation started\n",
      "Validation Loss: 2.279929184913635, Accuracy: 80.48780487804879%, Precision: 81.66666666666667%, Recall: 90.74074074074075%, F1 Score: 85.96491228070175%, AUC: 84.72222222222223%\n",
      "Epoch 4/50, Loss: 1.4518564684050423\n",
      "Validation started\n",
      "Validation Loss: 2.259878969192505, Accuracy: 80.48780487804879%, Precision: 81.66666666666667%, Recall: 90.74074074074075%, F1 Score: 85.96491228070175%, AUC: 84.72222222222223%\n",
      "Epoch 5/50, Loss: 1.4448979667254858\n",
      "Validation started\n",
      "Validation Loss: 2.2434117555618287, Accuracy: 79.26829268292683%, Precision: 81.35593220338984%, Recall: 88.88888888888889%, F1 Score: 84.95575221238938%, AUC: 84.72222222222221%\n",
      "Epoch 6/50, Loss: 1.4391985961369105\n",
      "Validation started\n",
      "Validation Loss: 2.228752088546753, Accuracy: 79.26829268292683%, Precision: 81.35593220338984%, Recall: 88.88888888888889%, F1 Score: 84.95575221238938%, AUC: 84.75529100529101%\n",
      "Epoch 7/50, Loss: 1.4349226100104195\n",
      "Validation started\n",
      "Validation Loss: 2.2184266567230226, Accuracy: 79.26829268292683%, Precision: 81.35593220338984%, Recall: 88.88888888888889%, F1 Score: 84.95575221238938%, AUC: 84.72222222222223%\n",
      "Epoch 8/50, Loss: 1.4328491517475672\n",
      "Validation started\n",
      "Validation Loss: 2.2107459545135497, Accuracy: 79.26829268292683%, Precision: 81.35593220338984%, Recall: 88.88888888888889%, F1 Score: 84.95575221238938%, AUC: 84.78835978835978%\n",
      "Epoch 9/50, Loss: 1.4316672853061132\n",
      "Validation started\n",
      "Validation Loss: 2.2055281162261964, Accuracy: 79.26829268292683%, Precision: 81.35593220338984%, Recall: 88.88888888888889%, F1 Score: 84.95575221238938%, AUC: 84.78835978835978%\n",
      "Epoch 10/50, Loss: 1.4311227883611406\n",
      "Validation started\n",
      "Validation Loss: 2.2032695770263673, Accuracy: 79.26829268292683%, Precision: 81.35593220338984%, Recall: 88.88888888888889%, F1 Score: 84.95575221238938%, AUC: 84.72222222222223%\n",
      "Epoch 11/50, Loss: 1.430184849670955\n",
      "Validation started\n",
      "Validation Loss: 2.1997658014297485, Accuracy: 79.26829268292683%, Precision: 81.35593220338984%, Recall: 88.88888888888889%, F1 Score: 84.95575221238938%, AUC: 84.78835978835978%\n",
      "Epoch 12/50, Loss: 1.4303220510482788\n",
      "Validation started\n",
      "Validation Loss: 2.197090744972229, Accuracy: 79.26829268292683%, Precision: 81.35593220338984%, Recall: 88.88888888888889%, F1 Score: 84.95575221238938%, AUC: 84.78835978835978%\n",
      "Epoch 13/50, Loss: 1.4300691655703954\n",
      "Validation started\n",
      "Early stopping triggered at epoch 13\n",
      "Fine-tuning completed.\n"
     ]
    },
    {
     "name": "stderr",
     "output_type": "stream",
     "text": [
      "[I 2024-09-17 03:20:37,123] Trial 37 finished with value: 88.62433862433863 and parameters: {'add_post_latent_layers': False, 'num_layers_to_retrain': 1, 'batch_size': 32, 'learning_rate': 2.1998636365255e-05, 'dropout': 0.22654194520326273, 'l1_reg_weight': 9.220324142733832e-05, 'l2_reg_weight': 6.945448078752233e-07}. Best is trial 18 with value: 88.82275132275133.\n",
      "/home/leilapirhaji/mz_embed_engine/ml/finetune/retrain_finetune_VAE.py:143: FutureWarning:\n",
      "\n",
      "suggest_loguniform has been deprecated in v3.0.0. This feature will be removed in v6.0.0. See https://github.com/optuna/optuna/releases/tag/v3.0.0. Use suggest_float(..., log=True) instead.\n",
      "\n",
      "/home/leilapirhaji/mz_embed_engine/ml/finetune/retrain_finetune_VAE.py:144: FutureWarning:\n",
      "\n",
      "suggest_uniform has been deprecated in v3.0.0. This feature will be removed in v6.0.0. See https://github.com/optuna/optuna/releases/tag/v3.0.0. Use suggest_float instead.\n",
      "\n",
      "/home/leilapirhaji/mz_embed_engine/ml/finetune/retrain_finetune_VAE.py:145: FutureWarning:\n",
      "\n",
      "suggest_loguniform has been deprecated in v3.0.0. This feature will be removed in v6.0.0. See https://github.com/optuna/optuna/releases/tag/v3.0.0. Use suggest_float(..., log=True) instead.\n",
      "\n",
      "/home/leilapirhaji/mz_embed_engine/ml/finetune/retrain_finetune_VAE.py:146: FutureWarning:\n",
      "\n",
      "suggest_loguniform has been deprecated in v3.0.0. This feature will be removed in v6.0.0. See https://github.com/optuna/optuna/releases/tag/v3.0.0. Use suggest_float(..., log=True) instead.\n",
      "\n",
      "/home/leilapirhaji/mz_embed_engine/ml/finetune/freez_encoder_latent_avg.py:370: FutureWarning:\n",
      "\n",
      "The behavior of DataFrame concatenation with empty or all-NA entries is deprecated. In a future version, this will no longer exclude empty or all-NA columns when determining the result dtypes. To retain the old behavior, exclude the relevant entries before the concat operation.\n",
      "\n"
     ]
    },
    {
     "name": "stdout",
     "output_type": "stream",
     "text": [
      "Epoch 1/50, Loss: 0.7423745436327798\n",
      "Validation started\n",
      "Validation Loss: 0.9386298775672912, Accuracy: 80.48780487804879%, Precision: 82.75862068965517%, Recall: 88.88888888888889%, F1 Score: 85.71428571428571%, AUC: 88.22751322751323%\n",
      "Epoch 2/50, Loss: 0.6636651584080288\n",
      "Validation started\n",
      "Validation Loss: 0.9718352317810058, Accuracy: 79.26829268292683%, Precision: 81.35593220338984%, Recall: 88.88888888888889%, F1 Score: 84.95575221238938%, AUC: 88.09523809523809%\n",
      "Epoch 3/50, Loss: 0.6278686267989022\n",
      "Validation started\n",
      "Validation Loss: 1.0024097442626954, Accuracy: 78.04878048780488%, Precision: 80.0%, Recall: 88.88888888888889%, F1 Score: 84.21052631578947%, AUC: 88.22751322751323%\n",
      "Epoch 4/50, Loss: 0.5987784947667804\n",
      "Validation started\n",
      "Validation Loss: 1.0234042644500732, Accuracy: 80.48780487804879%, Precision: 82.75862068965517%, Recall: 88.88888888888889%, F1 Score: 85.71428571428571%, AUC: 88.29365079365078%\n",
      "Epoch 5/50, Loss: 0.599024338381631\n",
      "Validation started\n",
      "Validation Loss: 1.0552981615066528, Accuracy: 78.04878048780488%, Precision: 80.0%, Recall: 88.88888888888889%, F1 Score: 84.21052631578947%, AUC: 88.2936507936508%\n",
      "Epoch 6/50, Loss: 0.6148460635117122\n",
      "Validation started\n",
      "Validation Loss: 1.088825273513794, Accuracy: 78.04878048780488%, Precision: 80.0%, Recall: 88.88888888888889%, F1 Score: 84.21052631578947%, AUC: 88.22751322751323%\n",
      "Epoch 7/50, Loss: 0.5867120751312801\n",
      "Validation started\n",
      "Validation Loss: 1.1100091218948365, Accuracy: 78.04878048780488%, Precision: 80.0%, Recall: 88.88888888888889%, F1 Score: 84.21052631578947%, AUC: 88.2936507936508%\n",
      "Epoch 8/50, Loss: 0.5770986207893917\n",
      "Validation started\n",
      "Validation Loss: 1.1296209335327148, Accuracy: 78.04878048780488%, Precision: 80.0%, Recall: 88.88888888888889%, F1 Score: 84.21052631578947%, AUC: 88.35978835978835%\n",
      "Epoch 9/50, Loss: 0.5674418466431754\n",
      "Validation started\n",
      "Validation Loss: 1.1529404401779175, Accuracy: 78.04878048780488%, Precision: 80.0%, Recall: 88.88888888888889%, F1 Score: 84.21052631578947%, AUC: 88.35978835978835%\n",
      "Epoch 10/50, Loss: 0.562118513243539\n",
      "Validation started\n",
      "Validation Loss: 1.1655096769332887, Accuracy: 78.04878048780488%, Precision: 80.0%, Recall: 88.88888888888889%, F1 Score: 84.21052631578947%, AUC: 88.42592592592592%\n",
      "Epoch 11/50, Loss: 0.5695696473121643\n",
      "Validation started\n",
      "Validation Loss: 1.189006507396698, Accuracy: 78.04878048780488%, Precision: 80.0%, Recall: 88.88888888888889%, F1 Score: 84.21052631578947%, AUC: 88.35978835978835%\n",
      "Epoch 12/50, Loss: 0.5611777561051505\n",
      "Validation started\n",
      "Validation Loss: 1.2029598951339722, Accuracy: 78.04878048780488%, Precision: 80.0%, Recall: 88.88888888888889%, F1 Score: 84.21052631578947%, AUC: 88.35978835978835%\n",
      "Epoch 13/50, Loss: 0.5535298798765454\n",
      "Validation started\n",
      "Validation Loss: 1.2174181938171387, Accuracy: 78.04878048780488%, Precision: 80.0%, Recall: 88.88888888888889%, F1 Score: 84.21052631578947%, AUC: 88.29365079365078%\n",
      "Epoch 14/50, Loss: 0.5488192566803524\n",
      "Validation started\n",
      "Validation Loss: 1.2266992926597595, Accuracy: 78.04878048780488%, Precision: 80.0%, Recall: 88.88888888888889%, F1 Score: 84.21052631578947%, AUC: 88.4920634920635%\n",
      "Epoch 15/50, Loss: 0.554736818586077\n",
      "Validation started\n",
      "Validation Loss: 1.2357934951782226, Accuracy: 79.26829268292683%, Precision: 81.35593220338984%, Recall: 88.88888888888889%, F1 Score: 84.95575221238938%, AUC: 88.42592592592592%\n",
      "Epoch 16/50, Loss: 0.5452594033309391\n",
      "Validation started\n",
      "Validation Loss: 1.2493781805038453, Accuracy: 79.26829268292683%, Precision: 81.35593220338984%, Recall: 88.88888888888889%, F1 Score: 84.95575221238938%, AUC: 88.42592592592592%\n",
      "Epoch 17/50, Loss: 0.5491055122443608\n",
      "Validation started\n",
      "Validation Loss: 1.2648421049118042, Accuracy: 79.26829268292683%, Precision: 81.35593220338984%, Recall: 88.88888888888889%, F1 Score: 84.95575221238938%, AUC: 88.42592592592592%\n",
      "Epoch 18/50, Loss: 0.5514157840183803\n",
      "Validation started\n",
      "Validation Loss: 1.2752020001411437, Accuracy: 79.26829268292683%, Precision: 81.35593220338984%, Recall: 88.88888888888889%, F1 Score: 84.95575221238938%, AUC: 88.35978835978835%\n",
      "Epoch 19/50, Loss: 0.55516688312803\n",
      "Validation started\n",
      "Early stopping triggered at epoch 19\n",
      "Fine-tuning completed.\n",
      "Epoch 1/50, Loss: 0.45526181374277386\n",
      "Validation started\n"
     ]
    },
    {
     "name": "stderr",
     "output_type": "stream",
     "text": [
      "/home/leilapirhaji/mz_embed_engine/ml/finetune/freez_encoder_latent_avg.py:370: FutureWarning:\n",
      "\n",
      "The behavior of DataFrame concatenation with empty or all-NA entries is deprecated. In a future version, this will no longer exclude empty or all-NA columns when determining the result dtypes. To retain the old behavior, exclude the relevant entries before the concat operation.\n",
      "\n"
     ]
    },
    {
     "name": "stdout",
     "output_type": "stream",
     "text": [
      "Validation Loss: 0.7187291502952575, Accuracy: 79.26829268292683%, Precision: 82.45614035087719%, Recall: 87.03703703703704%, F1 Score: 84.68468468468468%, AUC: 84.78835978835978%\n",
      "Epoch 2/50, Loss: 0.3961443943636758\n",
      "Validation started\n",
      "Validation Loss: 0.7477668523788452, Accuracy: 81.70731707317073%, Precision: 81.9672131147541%, Recall: 92.5925925925926%, F1 Score: 86.95652173913044%, AUC: 84.52380952380953%\n",
      "Epoch 3/50, Loss: 0.36038838965552195\n",
      "Validation started\n",
      "Validation Loss: 0.7759499192237854, Accuracy: 80.48780487804879%, Precision: 80.64516129032258%, Recall: 92.5925925925926%, F1 Score: 86.20689655172413%, AUC: 84.39153439153439%\n",
      "Epoch 4/50, Loss: 0.33367124838488443\n",
      "Validation started\n",
      "Validation Loss: 0.7951320588588715, Accuracy: 80.48780487804879%, Precision: 82.75862068965517%, Recall: 88.88888888888889%, F1 Score: 85.71428571428571%, AUC: 84.65608465608466%\n",
      "Epoch 5/50, Loss: 0.33220107001917704\n",
      "Validation started\n",
      "Validation Loss: 0.8260494828224182, Accuracy: 81.70731707317073%, Precision: 81.9672131147541%, Recall: 92.5925925925926%, F1 Score: 86.95652173913044%, AUC: 84.39153439153439%\n",
      "Epoch 6/50, Loss: 0.344584230865751\n",
      "Validation started\n",
      "Early stopping triggered at epoch 6\n",
      "Fine-tuning completed.\n"
     ]
    },
    {
     "name": "stderr",
     "output_type": "stream",
     "text": [
      "[I 2024-09-17 03:20:41,790] Trial 38 finished with value: 88.35978835978835 and parameters: {'add_post_latent_layers': True, 'post_latent_layer_size': 8, 'num_layers_to_retrain': 1, 'batch_size': 32, 'learning_rate': 6.914295096471638e-05, 'dropout': 0.19945790901224483, 'l1_reg_weight': 1.588212950419351e-05, 'l2_reg_weight': 9.322523475002682e-06}. Best is trial 18 with value: 88.82275132275133.\n",
      "/home/leilapirhaji/mz_embed_engine/ml/finetune/retrain_finetune_VAE.py:143: FutureWarning:\n",
      "\n",
      "suggest_loguniform has been deprecated in v3.0.0. This feature will be removed in v6.0.0. See https://github.com/optuna/optuna/releases/tag/v3.0.0. Use suggest_float(..., log=True) instead.\n",
      "\n",
      "/home/leilapirhaji/mz_embed_engine/ml/finetune/retrain_finetune_VAE.py:144: FutureWarning:\n",
      "\n",
      "suggest_uniform has been deprecated in v3.0.0. This feature will be removed in v6.0.0. See https://github.com/optuna/optuna/releases/tag/v3.0.0. Use suggest_float instead.\n",
      "\n",
      "/home/leilapirhaji/mz_embed_engine/ml/finetune/retrain_finetune_VAE.py:145: FutureWarning:\n",
      "\n",
      "suggest_loguniform has been deprecated in v3.0.0. This feature will be removed in v6.0.0. See https://github.com/optuna/optuna/releases/tag/v3.0.0. Use suggest_float(..., log=True) instead.\n",
      "\n",
      "/home/leilapirhaji/mz_embed_engine/ml/finetune/retrain_finetune_VAE.py:146: FutureWarning:\n",
      "\n",
      "suggest_loguniform has been deprecated in v3.0.0. This feature will be removed in v6.0.0. See https://github.com/optuna/optuna/releases/tag/v3.0.0. Use suggest_float(..., log=True) instead.\n",
      "\n"
     ]
    },
    {
     "name": "stdout",
     "output_type": "stream",
     "text": [
      "Epoch 1/50, Loss: 5.127557686397007\n",
      "Validation started\n",
      "Validation Loss: 6.10800952911377, Accuracy: 81.70731707317073%, Precision: 80.0%, Recall: 96.29629629629629%, F1 Score: 87.39495798319328%, AUC: 88.29365079365078%\n",
      "Epoch 2/50, Loss: 5.116578885487148\n",
      "Validation started\n"
     ]
    },
    {
     "name": "stderr",
     "output_type": "stream",
     "text": [
      "/home/leilapirhaji/mz_embed_engine/ml/finetune/freez_encoder_latent_avg.py:370: FutureWarning:\n",
      "\n",
      "The behavior of DataFrame concatenation with empty or all-NA entries is deprecated. In a future version, this will no longer exclude empty or all-NA columns when determining the result dtypes. To retain the old behavior, exclude the relevant entries before the concat operation.\n",
      "\n"
     ]
    },
    {
     "name": "stdout",
     "output_type": "stream",
     "text": [
      "Validation Loss: 6.0559040069580075, Accuracy: 79.26829268292683%, Precision: 79.36507936507937%, Recall: 92.5925925925926%, F1 Score: 85.47008547008546%, AUC: 88.22751322751323%\n",
      "Epoch 3/50, Loss: 5.106506517955235\n",
      "Validation started\n",
      "Validation Loss: 6.0234654426574705, Accuracy: 78.04878048780488%, Precision: 79.03225806451613%, Recall: 90.74074074074075%, F1 Score: 84.48275862068965%, AUC: 88.35978835978835%\n",
      "Epoch 4/50, Loss: 5.09961233820234\n",
      "Validation started\n",
      "Validation Loss: 5.997587394714356, Accuracy: 78.04878048780488%, Precision: 79.03225806451613%, Recall: 90.74074074074075%, F1 Score: 84.48275862068965%, AUC: 88.4920634920635%\n",
      "Epoch 5/50, Loss: 5.092814581734793\n",
      "Validation started\n",
      "Validation Loss: 5.975549030303955, Accuracy: 78.04878048780488%, Precision: 79.03225806451613%, Recall: 90.74074074074075%, F1 Score: 84.48275862068965%, AUC: 88.4920634920635%\n",
      "Epoch 6/50, Loss: 5.086633954729352\n",
      "Validation started\n",
      "Validation Loss: 5.954910469055176, Accuracy: 76.82926829268293%, Precision: 78.68852459016394%, Recall: 88.88888888888889%, F1 Score: 83.47826086956522%, AUC: 88.55820105820106%\n",
      "Epoch 7/50, Loss: 5.08055567741394\n",
      "Validation started\n",
      "Validation Loss: 5.93491563796997, Accuracy: 78.04878048780488%, Precision: 80.0%, Recall: 88.88888888888889%, F1 Score: 84.21052631578947%, AUC: 88.55820105820106%\n",
      "Epoch 8/50, Loss: 5.074733700071063\n",
      "Validation started\n",
      "Validation Loss: 5.915899085998535, Accuracy: 78.04878048780488%, Precision: 80.0%, Recall: 88.88888888888889%, F1 Score: 84.21052631578947%, AUC: 88.55820105820106%\n",
      "Epoch 9/50, Loss: 5.069288355963571\n",
      "Validation started\n",
      "Validation Loss: 5.898088455200195, Accuracy: 78.04878048780488%, Precision: 80.0%, Recall: 88.88888888888889%, F1 Score: 84.21052631578947%, AUC: 88.55820105820106%\n",
      "Epoch 10/50, Loss: 5.063933270318167\n",
      "Validation started\n",
      "Validation Loss: 5.880819797515869, Accuracy: 78.04878048780488%, Precision: 80.0%, Recall: 88.88888888888889%, F1 Score: 84.21052631578947%, AUC: 88.55820105820106%\n",
      "Epoch 11/50, Loss: 5.0590797492436\n",
      "Validation started\n",
      "Validation Loss: 5.864297199249267, Accuracy: 78.04878048780488%, Precision: 80.0%, Recall: 88.88888888888889%, F1 Score: 84.21052631578947%, AUC: 88.62433862433863%\n",
      "Epoch 12/50, Loss: 5.054380825587681\n",
      "Validation started\n",
      "Validation Loss: 5.848325920104981, Accuracy: 78.04878048780488%, Precision: 80.0%, Recall: 88.88888888888889%, F1 Score: 84.21052631578947%, AUC: 88.62433862433863%\n",
      "Epoch 13/50, Loss: 5.049694435937064\n",
      "Validation started\n",
      "Validation Loss: 5.833341598510742, Accuracy: 78.04878048780488%, Precision: 80.0%, Recall: 88.88888888888889%, F1 Score: 84.21052631578947%, AUC: 88.62433862433863%\n",
      "Epoch 14/50, Loss: 5.045310974121094\n",
      "Validation started\n",
      "Validation Loss: 5.819608688354492, Accuracy: 78.04878048780488%, Precision: 80.0%, Recall: 88.88888888888889%, F1 Score: 84.21052631578947%, AUC: 88.55820105820106%\n",
      "Epoch 15/50, Loss: 5.041533436094012\n",
      "Validation started\n",
      "Validation Loss: 5.8062128067016605, Accuracy: 79.26829268292683%, Precision: 81.35593220338984%, Recall: 88.88888888888889%, F1 Score: 84.95575221238938%, AUC: 88.55820105820106%\n",
      "Epoch 16/50, Loss: 5.037755795887539\n",
      "Validation started\n",
      "Early stopping triggered at epoch 16\n",
      "Fine-tuning completed.\n",
      "Epoch 1/50, Loss: 2.4784085750579834\n",
      "Validation started\n",
      "Validation Loss: 3.362876462936401, Accuracy: 76.82926829268293%, Precision: 74.64788732394366%, Recall: 98.14814814814815%, F1 Score: 84.8%, AUC: 84.02777777777779%\n"
     ]
    },
    {
     "name": "stderr",
     "output_type": "stream",
     "text": [
      "/home/leilapirhaji/mz_embed_engine/ml/finetune/freez_encoder_latent_avg.py:370: FutureWarning:\n",
      "\n",
      "The behavior of DataFrame concatenation with empty or all-NA entries is deprecated. In a future version, this will no longer exclude empty or all-NA columns when determining the result dtypes. To retain the old behavior, exclude the relevant entries before the concat operation.\n",
      "\n"
     ]
    },
    {
     "name": "stdout",
     "output_type": "stream",
     "text": [
      "Epoch 2/50, Loss: 2.459902831486293\n",
      "Validation started\n",
      "Validation Loss: 3.3107625007629395, Accuracy: 78.04878048780488%, Precision: 75.71428571428571%, Recall: 98.14814814814815%, F1 Score: 85.48387096774194%, AUC: 84.12698412698413%\n",
      "Epoch 3/50, Loss: 2.4472701379231045\n",
      "Validation started\n",
      "Validation Loss: 3.2784179210662843, Accuracy: 80.48780487804879%, Precision: 79.6875%, Recall: 94.44444444444444%, F1 Score: 86.4406779661017%, AUC: 84.39153439153439%\n",
      "Epoch 4/50, Loss: 2.4399146863392422\n",
      "Validation started\n",
      "Validation Loss: 3.2555453777313232, Accuracy: 81.70731707317073%, Precision: 80.95238095238095%, Recall: 94.44444444444444%, F1 Score: 87.17948717948718%, AUC: 84.39153439153439%\n",
      "Epoch 5/50, Loss: 2.4357649428503856\n",
      "Validation started\n",
      "Validation Loss: 3.239334487915039, Accuracy: 81.70731707317073%, Precision: 80.95238095238095%, Recall: 94.44444444444444%, F1 Score: 87.17948717948718%, AUC: 84.52380952380952%\n",
      "Epoch 6/50, Loss: 2.430988686425345\n",
      "Validation started\n",
      "Validation Loss: 3.2263524532318115, Accuracy: 81.70731707317073%, Precision: 80.95238095238095%, Recall: 94.44444444444444%, F1 Score: 87.17948717948718%, AUC: 84.65608465608466%\n",
      "Epoch 7/50, Loss: 2.426743575504848\n",
      "Validation started\n",
      "Validation Loss: 3.216153049468994, Accuracy: 80.48780487804879%, Precision: 80.64516129032258%, Recall: 92.5925925925926%, F1 Score: 86.20689655172413%, AUC: 84.65608465608466%\n",
      "Epoch 8/50, Loss: 2.4242436715534756\n",
      "Validation started\n",
      "Validation Loss: 3.2065969944000243, Accuracy: 80.48780487804879%, Precision: 80.64516129032258%, Recall: 92.5925925925926%, F1 Score: 86.20689655172413%, AUC: 84.65608465608466%\n",
      "Epoch 9/50, Loss: 2.421015194484166\n",
      "Validation started\n",
      "Validation Loss: 3.1990166187286375, Accuracy: 80.48780487804879%, Precision: 80.64516129032258%, Recall: 92.5925925925926%, F1 Score: 86.20689655172413%, AUC: 84.72222222222221%\n",
      "Epoch 10/50, Loss: 2.418387566293989\n",
      "Validation started\n",
      "Validation Loss: 3.1925217628479006, Accuracy: 80.48780487804879%, Precision: 80.64516129032258%, Recall: 92.5925925925926%, F1 Score: 86.20689655172413%, AUC: 84.72222222222221%\n",
      "Epoch 11/50, Loss: 2.41612594468253\n",
      "Validation started\n",
      "Validation Loss: 3.1864532470703124, Accuracy: 80.48780487804879%, Precision: 80.64516129032258%, Recall: 92.5925925925926%, F1 Score: 86.20689655172413%, AUC: 84.72222222222221%\n",
      "Epoch 12/50, Loss: 2.41450606073652\n",
      "Validation started\n",
      "Validation Loss: 3.180722713470459, Accuracy: 80.48780487804879%, Precision: 80.64516129032258%, Recall: 92.5925925925926%, F1 Score: 86.20689655172413%, AUC: 84.65608465608466%\n",
      "Epoch 13/50, Loss: 2.4125615698950633\n",
      "Validation started\n",
      "Validation Loss: 3.1755990028381347, Accuracy: 80.48780487804879%, Precision: 80.64516129032258%, Recall: 92.5925925925926%, F1 Score: 86.20689655172413%, AUC: 84.65608465608466%\n",
      "Epoch 14/50, Loss: 2.410283480371748\n",
      "Validation started\n",
      "Early stopping triggered at epoch 14\n",
      "Fine-tuning completed.\n"
     ]
    },
    {
     "name": "stderr",
     "output_type": "stream",
     "text": [
      "[I 2024-09-17 03:20:47,204] Trial 39 finished with value: 88.55820105820106 and parameters: {'add_post_latent_layers': False, 'num_layers_to_retrain': 1, 'batch_size': 32, 'learning_rate': 1.4603483758045745e-05, 'dropout': 0.25455756889688774, 'l1_reg_weight': 0.00015464406447363924, 'l2_reg_weight': 1.883849912354062e-06}. Best is trial 18 with value: 88.82275132275133.\n"
     ]
    },
    {
     "name": "stdout",
     "output_type": "stream",
     "text": [
      "Validation Loss: 0.0, Accuracy: 100.0%, Precision: 100.0%, Recall: 100.0%, F1 Score: 100.0%, AUC: 100.0%\n",
      "Fine-tuning completed.\n",
      "Validation Loss: 0.0, Accuracy: 79.26829268292683%, Precision: 81.35593220338984%, Recall: 88.88888888888889%, F1 Score: 84.95575221238938%, AUC: 88.55820105820106%\n",
      "Fine-tuning completed.\n",
      "Validation Loss: 0.0, Accuracy: 83.33333333333334%, Precision: 81.9672131147541%, Recall: 94.33962264150944%, F1 Score: 87.71929824561403%, AUC: 88.67924528301887%\n",
      "Fine-tuning completed.\n",
      "Validation Loss: 0.0, Accuracy: 100.0%, Precision: 100.0%, Recall: 100.0%, F1 Score: 100.0%, AUC: 100.0%\n",
      "Fine-tuning completed.\n",
      "Validation Loss: 0.0, Accuracy: 79.26829268292683%, Precision: 80.32786885245902%, Recall: 90.74074074074075%, F1 Score: 85.21739130434783%, AUC: 84.65608465608466%\n",
      "Fine-tuning completed.\n",
      "Validation Loss: 0.0, Accuracy: 82.14285714285714%, Precision: 80.64516129032258%, Recall: 94.33962264150944%, F1 Score: 86.95652173913044%, AUC: 90.9312233718807%\n",
      "Fine-tuning completed.\n"
     ]
    },
    {
     "name": "stderr",
     "output_type": "stream",
     "text": [
      "/home/leilapirhaji/mz_embed_engine/ml/finetune/retrain_finetune_VAE.py:216: FutureWarning:\n",
      "\n",
      "You are using `torch.load` with `weights_only=False` (the current default value), which uses the default pickle module implicitly. It is possible to construct malicious pickle data which will execute arbitrary code during unpickling (See https://github.com/pytorch/pytorch/blob/main/SECURITY.md#untrusted-models for more details). In a future release, the default value for `weights_only` will be flipped to `True`. This limits the functions that could be executed during unpickling. Arbitrary objects will no longer be allowed to be loaded via this mode unless they are explicitly allowlisted by the user via `torch.serialization.add_safe_globals`. We recommend you start setting `weights_only=True` for any use case where you don't have full control of the loaded file. Please open an issue on GitHub for any issues related to this experimental feature.\n",
      "\n",
      "/home/leilapirhaji/mz_embed_engine/ml/finetune/retrain_finetune_VAE.py:221: FutureWarning:\n",
      "\n",
      "You are using `torch.load` with `weights_only=False` (the current default value), which uses the default pickle module implicitly. It is possible to construct malicious pickle data which will execute arbitrary code during unpickling (See https://github.com/pytorch/pytorch/blob/main/SECURITY.md#untrusted-models for more details). In a future release, the default value for `weights_only` will be flipped to `True`. This limits the functions that could be executed during unpickling. Arbitrary objects will no longer be allowed to be loaded via this mode unless they are explicitly allowlisted by the user via `torch.serialization.add_safe_globals`. We recommend you start setting `weights_only=True` for any use case where you don't have full control of the loaded file. Please open an issue on GitHub for any issues related to this experimental feature.\n",
      "\n"
     ]
    },
    {
     "data": {
      "text/html": [
       "<div>\n",
       "<style scoped>\n",
       "    .dataframe tbody tr th:only-of-type {\n",
       "        vertical-align: middle;\n",
       "    }\n",
       "\n",
       "    .dataframe tbody tr th {\n",
       "        vertical-align: top;\n",
       "    }\n",
       "\n",
       "    .dataframe thead th {\n",
       "        text-align: right;\n",
       "    }\n",
       "</style>\n",
       "<table border=\"1\" class=\"dataframe\">\n",
       "  <thead>\n",
       "    <tr style=\"text-align: right;\">\n",
       "      <th></th>\n",
       "      <th>Model</th>\n",
       "      <th>Dataset</th>\n",
       "      <th>Accuracy</th>\n",
       "      <th>Precision</th>\n",
       "      <th>Recall</th>\n",
       "      <th>F1 Score</th>\n",
       "      <th>AUC</th>\n",
       "      <th>Test Loss</th>\n",
       "    </tr>\n",
       "  </thead>\n",
       "  <tbody>\n",
       "    <tr>\n",
       "      <th>0</th>\n",
       "      <td>Transfer Learning</td>\n",
       "      <td>Train</td>\n",
       "      <td>100.000000</td>\n",
       "      <td>100.000000</td>\n",
       "      <td>100.000000</td>\n",
       "      <td>100.000000</td>\n",
       "      <td>100.000000</td>\n",
       "      <td>0.0</td>\n",
       "    </tr>\n",
       "    <tr>\n",
       "      <th>1</th>\n",
       "      <td>Transfer Learning</td>\n",
       "      <td>Validation</td>\n",
       "      <td>79.268293</td>\n",
       "      <td>81.355932</td>\n",
       "      <td>88.888889</td>\n",
       "      <td>84.955752</td>\n",
       "      <td>88.558201</td>\n",
       "      <td>0.0</td>\n",
       "    </tr>\n",
       "    <tr>\n",
       "      <th>2</th>\n",
       "      <td>Transfer Learning</td>\n",
       "      <td>Test</td>\n",
       "      <td>83.333333</td>\n",
       "      <td>81.967213</td>\n",
       "      <td>94.339623</td>\n",
       "      <td>87.719298</td>\n",
       "      <td>88.679245</td>\n",
       "      <td>0.0</td>\n",
       "    </tr>\n",
       "    <tr>\n",
       "      <th>3</th>\n",
       "      <td>No Transfer Learning</td>\n",
       "      <td>Train</td>\n",
       "      <td>100.000000</td>\n",
       "      <td>100.000000</td>\n",
       "      <td>100.000000</td>\n",
       "      <td>100.000000</td>\n",
       "      <td>100.000000</td>\n",
       "      <td>0.0</td>\n",
       "    </tr>\n",
       "    <tr>\n",
       "      <th>4</th>\n",
       "      <td>No Transfer Learning</td>\n",
       "      <td>Validation</td>\n",
       "      <td>79.268293</td>\n",
       "      <td>80.327869</td>\n",
       "      <td>90.740741</td>\n",
       "      <td>85.217391</td>\n",
       "      <td>84.656085</td>\n",
       "      <td>0.0</td>\n",
       "    </tr>\n",
       "    <tr>\n",
       "      <th>5</th>\n",
       "      <td>No Transfer Learning</td>\n",
       "      <td>Test</td>\n",
       "      <td>82.142857</td>\n",
       "      <td>80.645161</td>\n",
       "      <td>94.339623</td>\n",
       "      <td>86.956522</td>\n",
       "      <td>90.931223</td>\n",
       "      <td>0.0</td>\n",
       "    </tr>\n",
       "  </tbody>\n",
       "</table>\n",
       "</div>"
      ],
      "text/plain": [
       "                  Model     Dataset    Accuracy   Precision      Recall  \\\n",
       "0     Transfer Learning       Train  100.000000  100.000000  100.000000   \n",
       "1     Transfer Learning  Validation   79.268293   81.355932   88.888889   \n",
       "2     Transfer Learning        Test   83.333333   81.967213   94.339623   \n",
       "3  No Transfer Learning       Train  100.000000  100.000000  100.000000   \n",
       "4  No Transfer Learning  Validation   79.268293   80.327869   90.740741   \n",
       "5  No Transfer Learning        Test   82.142857   80.645161   94.339623   \n",
       "\n",
       "     F1 Score         AUC  Test Loss  \n",
       "0  100.000000  100.000000        0.0  \n",
       "1   84.955752   88.558201        0.0  \n",
       "2   87.719298   88.679245        0.0  \n",
       "3  100.000000  100.000000        0.0  \n",
       "4   85.217391   84.656085        0.0  \n",
       "5   86.956522   90.931223        0.0  "
      ]
     },
     "execution_count": 39,
     "metadata": {},
     "output_type": "execute_result"
    }
   ],
   "source": [
    "import finetune.retrain_finetune_VAE\n",
    "importlib.reload(finetune.retrain_finetune_VAE)\n",
    "from finetune.retrain_finetune_VAE import retrain_finetune_VAE_TL_noTL_Optuna_optimization\n",
    "\n",
    "task='MSKCC BINARY'\n",
    "num_classes =2\n",
    "\n",
    "study, results_combined_df= retrain_finetune_VAE_TL_noTL_Optuna_optimization(finetune_VAE_TL, finetune_VAE_noTL, X_data_train, y_data_train, X_data_val, y_data_val, X_data_test, y_data_test, task, num_classes, seed, finetune_save_dir, pretrain_model_ID, n_trials=40)\n",
    "\n",
    "results_combined_df"
   ]
  },
  {
   "cell_type": "code",
   "execution_count": 40,
   "metadata": {},
   "outputs": [
    {
     "data": {
      "text/html": [
       "<div>\n",
       "<style scoped>\n",
       "    .dataframe tbody tr th:only-of-type {\n",
       "        vertical-align: middle;\n",
       "    }\n",
       "\n",
       "    .dataframe tbody tr th {\n",
       "        vertical-align: top;\n",
       "    }\n",
       "\n",
       "    .dataframe thead th {\n",
       "        text-align: right;\n",
       "    }\n",
       "</style>\n",
       "<table border=\"1\" class=\"dataframe\">\n",
       "  <thead>\n",
       "    <tr style=\"text-align: right;\">\n",
       "      <th></th>\n",
       "      <th>Model</th>\n",
       "      <th>Dataset</th>\n",
       "      <th>Accuracy</th>\n",
       "      <th>Precision</th>\n",
       "      <th>Recall</th>\n",
       "      <th>F1 Score</th>\n",
       "      <th>AUC</th>\n",
       "      <th>Test Loss</th>\n",
       "    </tr>\n",
       "  </thead>\n",
       "  <tbody>\n",
       "    <tr>\n",
       "      <th>0</th>\n",
       "      <td>Transfer Learning</td>\n",
       "      <td>Train</td>\n",
       "      <td>100.000000</td>\n",
       "      <td>100.000000</td>\n",
       "      <td>100.000000</td>\n",
       "      <td>100.000000</td>\n",
       "      <td>100.000000</td>\n",
       "      <td>0.0</td>\n",
       "    </tr>\n",
       "    <tr>\n",
       "      <th>1</th>\n",
       "      <td>Transfer Learning</td>\n",
       "      <td>Validation</td>\n",
       "      <td>79.268293</td>\n",
       "      <td>81.355932</td>\n",
       "      <td>88.888889</td>\n",
       "      <td>84.955752</td>\n",
       "      <td>88.558201</td>\n",
       "      <td>0.0</td>\n",
       "    </tr>\n",
       "    <tr>\n",
       "      <th>2</th>\n",
       "      <td>Transfer Learning</td>\n",
       "      <td>Test</td>\n",
       "      <td>83.333333</td>\n",
       "      <td>81.967213</td>\n",
       "      <td>94.339623</td>\n",
       "      <td>87.719298</td>\n",
       "      <td>88.679245</td>\n",
       "      <td>0.0</td>\n",
       "    </tr>\n",
       "    <tr>\n",
       "      <th>3</th>\n",
       "      <td>No Transfer Learning</td>\n",
       "      <td>Train</td>\n",
       "      <td>100.000000</td>\n",
       "      <td>100.000000</td>\n",
       "      <td>100.000000</td>\n",
       "      <td>100.000000</td>\n",
       "      <td>100.000000</td>\n",
       "      <td>0.0</td>\n",
       "    </tr>\n",
       "    <tr>\n",
       "      <th>4</th>\n",
       "      <td>No Transfer Learning</td>\n",
       "      <td>Validation</td>\n",
       "      <td>79.268293</td>\n",
       "      <td>80.327869</td>\n",
       "      <td>90.740741</td>\n",
       "      <td>85.217391</td>\n",
       "      <td>84.656085</td>\n",
       "      <td>0.0</td>\n",
       "    </tr>\n",
       "    <tr>\n",
       "      <th>5</th>\n",
       "      <td>No Transfer Learning</td>\n",
       "      <td>Test</td>\n",
       "      <td>82.142857</td>\n",
       "      <td>80.645161</td>\n",
       "      <td>94.339623</td>\n",
       "      <td>86.956522</td>\n",
       "      <td>90.931223</td>\n",
       "      <td>0.0</td>\n",
       "    </tr>\n",
       "  </tbody>\n",
       "</table>\n",
       "</div>"
      ],
      "text/plain": [
       "                  Model     Dataset    Accuracy   Precision      Recall  \\\n",
       "0     Transfer Learning       Train  100.000000  100.000000  100.000000   \n",
       "1     Transfer Learning  Validation   79.268293   81.355932   88.888889   \n",
       "2     Transfer Learning        Test   83.333333   81.967213   94.339623   \n",
       "3  No Transfer Learning       Train  100.000000  100.000000  100.000000   \n",
       "4  No Transfer Learning  Validation   79.268293   80.327869   90.740741   \n",
       "5  No Transfer Learning        Test   82.142857   80.645161   94.339623   \n",
       "\n",
       "     F1 Score         AUC  Test Loss  \n",
       "0  100.000000  100.000000        0.0  \n",
       "1   84.955752   88.558201        0.0  \n",
       "2   87.719298   88.679245        0.0  \n",
       "3  100.000000  100.000000        0.0  \n",
       "4   85.217391   84.656085        0.0  \n",
       "5   86.956522   90.931223        0.0  "
      ]
     },
     "execution_count": 40,
     "metadata": {},
     "output_type": "execute_result"
    }
   ],
   "source": [
    "results_combined_df"
   ]
  },
  {
   "cell_type": "code",
   "execution_count": 41,
   "metadata": {},
   "outputs": [
    {
     "data": {
      "application/vnd.plotly.v1+json": {
       "config": {
        "plotlyServerURL": "https://plot.ly"
       },
       "data": [
        {
         "mode": "markers",
         "name": "Objective Value",
         "type": "scatter",
         "x": [
          0,
          1,
          2,
          3,
          4,
          5,
          6,
          7,
          8,
          9,
          10,
          11,
          12,
          13,
          14,
          15,
          16,
          17,
          18,
          19,
          20,
          21,
          22,
          23,
          24,
          25,
          26,
          27,
          28,
          29,
          30,
          31,
          32,
          33,
          34,
          35,
          36,
          37,
          38,
          39
         ],
         "y": [
          88.35978835978835,
          88.75661375661376,
          88.75661375661376,
          86.17724867724867,
          88.35978835978835,
          84.12698412698413,
          88.22751322751323,
          88.62433862433863,
          88.62433862433863,
          87.10317460317461,
          88.69047619047619,
          88.55820105820106,
          88.55820105820106,
          88.69047619047619,
          88.55820105820106,
          88.55820105820106,
          88.62433862433863,
          88.75661375661376,
          88.82275132275133,
          88.82275132275133,
          88.82275132275133,
          88.69047619047619,
          88.6904761904762,
          88.69047619047619,
          88.69047619047619,
          88.6904761904762,
          88.82275132275133,
          88.75661375661376,
          88.75661375661376,
          88.02910052910053,
          88.69047619047619,
          88.82275132275133,
          88.82275132275133,
          88.75661375661376,
          88.62433862433863,
          88.69047619047619,
          88.02910052910052,
          88.62433862433863,
          88.35978835978835,
          88.55820105820106
         ]
        },
        {
         "mode": "lines",
         "name": "Best Value",
         "type": "scatter",
         "x": [
          0,
          1,
          2,
          3,
          4,
          5,
          6,
          7,
          8,
          9,
          10,
          11,
          12,
          13,
          14,
          15,
          16,
          17,
          18,
          19,
          20,
          21,
          22,
          23,
          24,
          25,
          26,
          27,
          28,
          29,
          30,
          31,
          32,
          33,
          34,
          35,
          36,
          37,
          38,
          39
         ],
         "y": [
          88.35978835978835,
          88.75661375661376,
          88.75661375661376,
          88.75661375661376,
          88.75661375661376,
          88.75661375661376,
          88.75661375661376,
          88.75661375661376,
          88.75661375661376,
          88.75661375661376,
          88.75661375661376,
          88.75661375661376,
          88.75661375661376,
          88.75661375661376,
          88.75661375661376,
          88.75661375661376,
          88.75661375661376,
          88.75661375661376,
          88.82275132275133,
          88.82275132275133,
          88.82275132275133,
          88.82275132275133,
          88.82275132275133,
          88.82275132275133,
          88.82275132275133,
          88.82275132275133,
          88.82275132275133,
          88.82275132275133,
          88.82275132275133,
          88.82275132275133,
          88.82275132275133,
          88.82275132275133,
          88.82275132275133,
          88.82275132275133,
          88.82275132275133,
          88.82275132275133,
          88.82275132275133,
          88.82275132275133,
          88.82275132275133,
          88.82275132275133
         ]
        },
        {
         "marker": {
          "color": "#cccccc"
         },
         "mode": "markers",
         "name": "Infeasible Trial",
         "showlegend": false,
         "type": "scatter",
         "x": [],
         "y": []
        }
       ],
       "layout": {
        "template": {
         "data": {
          "bar": [
           {
            "error_x": {
             "color": "#2a3f5f"
            },
            "error_y": {
             "color": "#2a3f5f"
            },
            "marker": {
             "line": {
              "color": "#E5ECF6",
              "width": 0.5
             },
             "pattern": {
              "fillmode": "overlay",
              "size": 10,
              "solidity": 0.2
             }
            },
            "type": "bar"
           }
          ],
          "barpolar": [
           {
            "marker": {
             "line": {
              "color": "#E5ECF6",
              "width": 0.5
             },
             "pattern": {
              "fillmode": "overlay",
              "size": 10,
              "solidity": 0.2
             }
            },
            "type": "barpolar"
           }
          ],
          "carpet": [
           {
            "aaxis": {
             "endlinecolor": "#2a3f5f",
             "gridcolor": "white",
             "linecolor": "white",
             "minorgridcolor": "white",
             "startlinecolor": "#2a3f5f"
            },
            "baxis": {
             "endlinecolor": "#2a3f5f",
             "gridcolor": "white",
             "linecolor": "white",
             "minorgridcolor": "white",
             "startlinecolor": "#2a3f5f"
            },
            "type": "carpet"
           }
          ],
          "choropleth": [
           {
            "colorbar": {
             "outlinewidth": 0,
             "ticks": ""
            },
            "type": "choropleth"
           }
          ],
          "contour": [
           {
            "colorbar": {
             "outlinewidth": 0,
             "ticks": ""
            },
            "colorscale": [
             [
              0,
              "#0d0887"
             ],
             [
              0.1111111111111111,
              "#46039f"
             ],
             [
              0.2222222222222222,
              "#7201a8"
             ],
             [
              0.3333333333333333,
              "#9c179e"
             ],
             [
              0.4444444444444444,
              "#bd3786"
             ],
             [
              0.5555555555555556,
              "#d8576b"
             ],
             [
              0.6666666666666666,
              "#ed7953"
             ],
             [
              0.7777777777777778,
              "#fb9f3a"
             ],
             [
              0.8888888888888888,
              "#fdca26"
             ],
             [
              1,
              "#f0f921"
             ]
            ],
            "type": "contour"
           }
          ],
          "contourcarpet": [
           {
            "colorbar": {
             "outlinewidth": 0,
             "ticks": ""
            },
            "type": "contourcarpet"
           }
          ],
          "heatmap": [
           {
            "colorbar": {
             "outlinewidth": 0,
             "ticks": ""
            },
            "colorscale": [
             [
              0,
              "#0d0887"
             ],
             [
              0.1111111111111111,
              "#46039f"
             ],
             [
              0.2222222222222222,
              "#7201a8"
             ],
             [
              0.3333333333333333,
              "#9c179e"
             ],
             [
              0.4444444444444444,
              "#bd3786"
             ],
             [
              0.5555555555555556,
              "#d8576b"
             ],
             [
              0.6666666666666666,
              "#ed7953"
             ],
             [
              0.7777777777777778,
              "#fb9f3a"
             ],
             [
              0.8888888888888888,
              "#fdca26"
             ],
             [
              1,
              "#f0f921"
             ]
            ],
            "type": "heatmap"
           }
          ],
          "heatmapgl": [
           {
            "colorbar": {
             "outlinewidth": 0,
             "ticks": ""
            },
            "colorscale": [
             [
              0,
              "#0d0887"
             ],
             [
              0.1111111111111111,
              "#46039f"
             ],
             [
              0.2222222222222222,
              "#7201a8"
             ],
             [
              0.3333333333333333,
              "#9c179e"
             ],
             [
              0.4444444444444444,
              "#bd3786"
             ],
             [
              0.5555555555555556,
              "#d8576b"
             ],
             [
              0.6666666666666666,
              "#ed7953"
             ],
             [
              0.7777777777777778,
              "#fb9f3a"
             ],
             [
              0.8888888888888888,
              "#fdca26"
             ],
             [
              1,
              "#f0f921"
             ]
            ],
            "type": "heatmapgl"
           }
          ],
          "histogram": [
           {
            "marker": {
             "pattern": {
              "fillmode": "overlay",
              "size": 10,
              "solidity": 0.2
             }
            },
            "type": "histogram"
           }
          ],
          "histogram2d": [
           {
            "colorbar": {
             "outlinewidth": 0,
             "ticks": ""
            },
            "colorscale": [
             [
              0,
              "#0d0887"
             ],
             [
              0.1111111111111111,
              "#46039f"
             ],
             [
              0.2222222222222222,
              "#7201a8"
             ],
             [
              0.3333333333333333,
              "#9c179e"
             ],
             [
              0.4444444444444444,
              "#bd3786"
             ],
             [
              0.5555555555555556,
              "#d8576b"
             ],
             [
              0.6666666666666666,
              "#ed7953"
             ],
             [
              0.7777777777777778,
              "#fb9f3a"
             ],
             [
              0.8888888888888888,
              "#fdca26"
             ],
             [
              1,
              "#f0f921"
             ]
            ],
            "type": "histogram2d"
           }
          ],
          "histogram2dcontour": [
           {
            "colorbar": {
             "outlinewidth": 0,
             "ticks": ""
            },
            "colorscale": [
             [
              0,
              "#0d0887"
             ],
             [
              0.1111111111111111,
              "#46039f"
             ],
             [
              0.2222222222222222,
              "#7201a8"
             ],
             [
              0.3333333333333333,
              "#9c179e"
             ],
             [
              0.4444444444444444,
              "#bd3786"
             ],
             [
              0.5555555555555556,
              "#d8576b"
             ],
             [
              0.6666666666666666,
              "#ed7953"
             ],
             [
              0.7777777777777778,
              "#fb9f3a"
             ],
             [
              0.8888888888888888,
              "#fdca26"
             ],
             [
              1,
              "#f0f921"
             ]
            ],
            "type": "histogram2dcontour"
           }
          ],
          "mesh3d": [
           {
            "colorbar": {
             "outlinewidth": 0,
             "ticks": ""
            },
            "type": "mesh3d"
           }
          ],
          "parcoords": [
           {
            "line": {
             "colorbar": {
              "outlinewidth": 0,
              "ticks": ""
             }
            },
            "type": "parcoords"
           }
          ],
          "pie": [
           {
            "automargin": true,
            "type": "pie"
           }
          ],
          "scatter": [
           {
            "fillpattern": {
             "fillmode": "overlay",
             "size": 10,
             "solidity": 0.2
            },
            "type": "scatter"
           }
          ],
          "scatter3d": [
           {
            "line": {
             "colorbar": {
              "outlinewidth": 0,
              "ticks": ""
             }
            },
            "marker": {
             "colorbar": {
              "outlinewidth": 0,
              "ticks": ""
             }
            },
            "type": "scatter3d"
           }
          ],
          "scattercarpet": [
           {
            "marker": {
             "colorbar": {
              "outlinewidth": 0,
              "ticks": ""
             }
            },
            "type": "scattercarpet"
           }
          ],
          "scattergeo": [
           {
            "marker": {
             "colorbar": {
              "outlinewidth": 0,
              "ticks": ""
             }
            },
            "type": "scattergeo"
           }
          ],
          "scattergl": [
           {
            "marker": {
             "colorbar": {
              "outlinewidth": 0,
              "ticks": ""
             }
            },
            "type": "scattergl"
           }
          ],
          "scattermapbox": [
           {
            "marker": {
             "colorbar": {
              "outlinewidth": 0,
              "ticks": ""
             }
            },
            "type": "scattermapbox"
           }
          ],
          "scatterpolar": [
           {
            "marker": {
             "colorbar": {
              "outlinewidth": 0,
              "ticks": ""
             }
            },
            "type": "scatterpolar"
           }
          ],
          "scatterpolargl": [
           {
            "marker": {
             "colorbar": {
              "outlinewidth": 0,
              "ticks": ""
             }
            },
            "type": "scatterpolargl"
           }
          ],
          "scatterternary": [
           {
            "marker": {
             "colorbar": {
              "outlinewidth": 0,
              "ticks": ""
             }
            },
            "type": "scatterternary"
           }
          ],
          "surface": [
           {
            "colorbar": {
             "outlinewidth": 0,
             "ticks": ""
            },
            "colorscale": [
             [
              0,
              "#0d0887"
             ],
             [
              0.1111111111111111,
              "#46039f"
             ],
             [
              0.2222222222222222,
              "#7201a8"
             ],
             [
              0.3333333333333333,
              "#9c179e"
             ],
             [
              0.4444444444444444,
              "#bd3786"
             ],
             [
              0.5555555555555556,
              "#d8576b"
             ],
             [
              0.6666666666666666,
              "#ed7953"
             ],
             [
              0.7777777777777778,
              "#fb9f3a"
             ],
             [
              0.8888888888888888,
              "#fdca26"
             ],
             [
              1,
              "#f0f921"
             ]
            ],
            "type": "surface"
           }
          ],
          "table": [
           {
            "cells": {
             "fill": {
              "color": "#EBF0F8"
             },
             "line": {
              "color": "white"
             }
            },
            "header": {
             "fill": {
              "color": "#C8D4E3"
             },
             "line": {
              "color": "white"
             }
            },
            "type": "table"
           }
          ]
         },
         "layout": {
          "annotationdefaults": {
           "arrowcolor": "#2a3f5f",
           "arrowhead": 0,
           "arrowwidth": 1
          },
          "autotypenumbers": "strict",
          "coloraxis": {
           "colorbar": {
            "outlinewidth": 0,
            "ticks": ""
           }
          },
          "colorscale": {
           "diverging": [
            [
             0,
             "#8e0152"
            ],
            [
             0.1,
             "#c51b7d"
            ],
            [
             0.2,
             "#de77ae"
            ],
            [
             0.3,
             "#f1b6da"
            ],
            [
             0.4,
             "#fde0ef"
            ],
            [
             0.5,
             "#f7f7f7"
            ],
            [
             0.6,
             "#e6f5d0"
            ],
            [
             0.7,
             "#b8e186"
            ],
            [
             0.8,
             "#7fbc41"
            ],
            [
             0.9,
             "#4d9221"
            ],
            [
             1,
             "#276419"
            ]
           ],
           "sequential": [
            [
             0,
             "#0d0887"
            ],
            [
             0.1111111111111111,
             "#46039f"
            ],
            [
             0.2222222222222222,
             "#7201a8"
            ],
            [
             0.3333333333333333,
             "#9c179e"
            ],
            [
             0.4444444444444444,
             "#bd3786"
            ],
            [
             0.5555555555555556,
             "#d8576b"
            ],
            [
             0.6666666666666666,
             "#ed7953"
            ],
            [
             0.7777777777777778,
             "#fb9f3a"
            ],
            [
             0.8888888888888888,
             "#fdca26"
            ],
            [
             1,
             "#f0f921"
            ]
           ],
           "sequentialminus": [
            [
             0,
             "#0d0887"
            ],
            [
             0.1111111111111111,
             "#46039f"
            ],
            [
             0.2222222222222222,
             "#7201a8"
            ],
            [
             0.3333333333333333,
             "#9c179e"
            ],
            [
             0.4444444444444444,
             "#bd3786"
            ],
            [
             0.5555555555555556,
             "#d8576b"
            ],
            [
             0.6666666666666666,
             "#ed7953"
            ],
            [
             0.7777777777777778,
             "#fb9f3a"
            ],
            [
             0.8888888888888888,
             "#fdca26"
            ],
            [
             1,
             "#f0f921"
            ]
           ]
          },
          "colorway": [
           "#636efa",
           "#EF553B",
           "#00cc96",
           "#ab63fa",
           "#FFA15A",
           "#19d3f3",
           "#FF6692",
           "#B6E880",
           "#FF97FF",
           "#FECB52"
          ],
          "font": {
           "color": "#2a3f5f"
          },
          "geo": {
           "bgcolor": "white",
           "lakecolor": "white",
           "landcolor": "#E5ECF6",
           "showlakes": true,
           "showland": true,
           "subunitcolor": "white"
          },
          "hoverlabel": {
           "align": "left"
          },
          "hovermode": "closest",
          "mapbox": {
           "style": "light"
          },
          "paper_bgcolor": "white",
          "plot_bgcolor": "#E5ECF6",
          "polar": {
           "angularaxis": {
            "gridcolor": "white",
            "linecolor": "white",
            "ticks": ""
           },
           "bgcolor": "#E5ECF6",
           "radialaxis": {
            "gridcolor": "white",
            "linecolor": "white",
            "ticks": ""
           }
          },
          "scene": {
           "xaxis": {
            "backgroundcolor": "#E5ECF6",
            "gridcolor": "white",
            "gridwidth": 2,
            "linecolor": "white",
            "showbackground": true,
            "ticks": "",
            "zerolinecolor": "white"
           },
           "yaxis": {
            "backgroundcolor": "#E5ECF6",
            "gridcolor": "white",
            "gridwidth": 2,
            "linecolor": "white",
            "showbackground": true,
            "ticks": "",
            "zerolinecolor": "white"
           },
           "zaxis": {
            "backgroundcolor": "#E5ECF6",
            "gridcolor": "white",
            "gridwidth": 2,
            "linecolor": "white",
            "showbackground": true,
            "ticks": "",
            "zerolinecolor": "white"
           }
          },
          "shapedefaults": {
           "line": {
            "color": "#2a3f5f"
           }
          },
          "ternary": {
           "aaxis": {
            "gridcolor": "white",
            "linecolor": "white",
            "ticks": ""
           },
           "baxis": {
            "gridcolor": "white",
            "linecolor": "white",
            "ticks": ""
           },
           "bgcolor": "#E5ECF6",
           "caxis": {
            "gridcolor": "white",
            "linecolor": "white",
            "ticks": ""
           }
          },
          "title": {
           "x": 0.05
          },
          "xaxis": {
           "automargin": true,
           "gridcolor": "white",
           "linecolor": "white",
           "ticks": "",
           "title": {
            "standoff": 15
           },
           "zerolinecolor": "white",
           "zerolinewidth": 2
          },
          "yaxis": {
           "automargin": true,
           "gridcolor": "white",
           "linecolor": "white",
           "ticks": "",
           "title": {
            "standoff": 15
           },
           "zerolinecolor": "white",
           "zerolinewidth": 2
          }
         }
        },
        "title": {
         "text": "Optimization History Plot"
        },
        "xaxis": {
         "title": {
          "text": "Trial"
         }
        },
        "yaxis": {
         "title": {
          "text": "Objective Value"
         }
        }
       }
      },
      "text/html": [
       "<div>                            <div id=\"5a19eab2-bf03-438d-a10a-fe3bfe44acdc\" class=\"plotly-graph-div\" style=\"height:525px; width:100%;\"></div>            <script type=\"text/javascript\">                require([\"plotly\"], function(Plotly) {                    window.PLOTLYENV=window.PLOTLYENV || {};                                    if (document.getElementById(\"5a19eab2-bf03-438d-a10a-fe3bfe44acdc\")) {                    Plotly.newPlot(                        \"5a19eab2-bf03-438d-a10a-fe3bfe44acdc\",                        [{\"mode\":\"markers\",\"name\":\"Objective Value\",\"x\":[0,1,2,3,4,5,6,7,8,9,10,11,12,13,14,15,16,17,18,19,20,21,22,23,24,25,26,27,28,29,30,31,32,33,34,35,36,37,38,39],\"y\":[88.35978835978835,88.75661375661376,88.75661375661376,86.17724867724867,88.35978835978835,84.12698412698413,88.22751322751323,88.62433862433863,88.62433862433863,87.10317460317461,88.69047619047619,88.55820105820106,88.55820105820106,88.69047619047619,88.55820105820106,88.55820105820106,88.62433862433863,88.75661375661376,88.82275132275133,88.82275132275133,88.82275132275133,88.69047619047619,88.6904761904762,88.69047619047619,88.69047619047619,88.6904761904762,88.82275132275133,88.75661375661376,88.75661375661376,88.02910052910053,88.69047619047619,88.82275132275133,88.82275132275133,88.75661375661376,88.62433862433863,88.69047619047619,88.02910052910052,88.62433862433863,88.35978835978835,88.55820105820106],\"type\":\"scatter\"},{\"mode\":\"lines\",\"name\":\"Best Value\",\"x\":[0,1,2,3,4,5,6,7,8,9,10,11,12,13,14,15,16,17,18,19,20,21,22,23,24,25,26,27,28,29,30,31,32,33,34,35,36,37,38,39],\"y\":[88.35978835978835,88.75661375661376,88.75661375661376,88.75661375661376,88.75661375661376,88.75661375661376,88.75661375661376,88.75661375661376,88.75661375661376,88.75661375661376,88.75661375661376,88.75661375661376,88.75661375661376,88.75661375661376,88.75661375661376,88.75661375661376,88.75661375661376,88.75661375661376,88.82275132275133,88.82275132275133,88.82275132275133,88.82275132275133,88.82275132275133,88.82275132275133,88.82275132275133,88.82275132275133,88.82275132275133,88.82275132275133,88.82275132275133,88.82275132275133,88.82275132275133,88.82275132275133,88.82275132275133,88.82275132275133,88.82275132275133,88.82275132275133,88.82275132275133,88.82275132275133,88.82275132275133,88.82275132275133],\"type\":\"scatter\"},{\"marker\":{\"color\":\"#cccccc\"},\"mode\":\"markers\",\"name\":\"Infeasible Trial\",\"showlegend\":false,\"x\":[],\"y\":[],\"type\":\"scatter\"}],                        {\"title\":{\"text\":\"Optimization History Plot\"},\"xaxis\":{\"title\":{\"text\":\"Trial\"}},\"yaxis\":{\"title\":{\"text\":\"Objective Value\"}},\"template\":{\"data\":{\"histogram2dcontour\":[{\"type\":\"histogram2dcontour\",\"colorbar\":{\"outlinewidth\":0,\"ticks\":\"\"},\"colorscale\":[[0.0,\"#0d0887\"],[0.1111111111111111,\"#46039f\"],[0.2222222222222222,\"#7201a8\"],[0.3333333333333333,\"#9c179e\"],[0.4444444444444444,\"#bd3786\"],[0.5555555555555556,\"#d8576b\"],[0.6666666666666666,\"#ed7953\"],[0.7777777777777778,\"#fb9f3a\"],[0.8888888888888888,\"#fdca26\"],[1.0,\"#f0f921\"]]}],\"choropleth\":[{\"type\":\"choropleth\",\"colorbar\":{\"outlinewidth\":0,\"ticks\":\"\"}}],\"histogram2d\":[{\"type\":\"histogram2d\",\"colorbar\":{\"outlinewidth\":0,\"ticks\":\"\"},\"colorscale\":[[0.0,\"#0d0887\"],[0.1111111111111111,\"#46039f\"],[0.2222222222222222,\"#7201a8\"],[0.3333333333333333,\"#9c179e\"],[0.4444444444444444,\"#bd3786\"],[0.5555555555555556,\"#d8576b\"],[0.6666666666666666,\"#ed7953\"],[0.7777777777777778,\"#fb9f3a\"],[0.8888888888888888,\"#fdca26\"],[1.0,\"#f0f921\"]]}],\"heatmap\":[{\"type\":\"heatmap\",\"colorbar\":{\"outlinewidth\":0,\"ticks\":\"\"},\"colorscale\":[[0.0,\"#0d0887\"],[0.1111111111111111,\"#46039f\"],[0.2222222222222222,\"#7201a8\"],[0.3333333333333333,\"#9c179e\"],[0.4444444444444444,\"#bd3786\"],[0.5555555555555556,\"#d8576b\"],[0.6666666666666666,\"#ed7953\"],[0.7777777777777778,\"#fb9f3a\"],[0.8888888888888888,\"#fdca26\"],[1.0,\"#f0f921\"]]}],\"heatmapgl\":[{\"type\":\"heatmapgl\",\"colorbar\":{\"outlinewidth\":0,\"ticks\":\"\"},\"colorscale\":[[0.0,\"#0d0887\"],[0.1111111111111111,\"#46039f\"],[0.2222222222222222,\"#7201a8\"],[0.3333333333333333,\"#9c179e\"],[0.4444444444444444,\"#bd3786\"],[0.5555555555555556,\"#d8576b\"],[0.6666666666666666,\"#ed7953\"],[0.7777777777777778,\"#fb9f3a\"],[0.8888888888888888,\"#fdca26\"],[1.0,\"#f0f921\"]]}],\"contourcarpet\":[{\"type\":\"contourcarpet\",\"colorbar\":{\"outlinewidth\":0,\"ticks\":\"\"}}],\"contour\":[{\"type\":\"contour\",\"colorbar\":{\"outlinewidth\":0,\"ticks\":\"\"},\"colorscale\":[[0.0,\"#0d0887\"],[0.1111111111111111,\"#46039f\"],[0.2222222222222222,\"#7201a8\"],[0.3333333333333333,\"#9c179e\"],[0.4444444444444444,\"#bd3786\"],[0.5555555555555556,\"#d8576b\"],[0.6666666666666666,\"#ed7953\"],[0.7777777777777778,\"#fb9f3a\"],[0.8888888888888888,\"#fdca26\"],[1.0,\"#f0f921\"]]}],\"surface\":[{\"type\":\"surface\",\"colorbar\":{\"outlinewidth\":0,\"ticks\":\"\"},\"colorscale\":[[0.0,\"#0d0887\"],[0.1111111111111111,\"#46039f\"],[0.2222222222222222,\"#7201a8\"],[0.3333333333333333,\"#9c179e\"],[0.4444444444444444,\"#bd3786\"],[0.5555555555555556,\"#d8576b\"],[0.6666666666666666,\"#ed7953\"],[0.7777777777777778,\"#fb9f3a\"],[0.8888888888888888,\"#fdca26\"],[1.0,\"#f0f921\"]]}],\"mesh3d\":[{\"type\":\"mesh3d\",\"colorbar\":{\"outlinewidth\":0,\"ticks\":\"\"}}],\"scatter\":[{\"fillpattern\":{\"fillmode\":\"overlay\",\"size\":10,\"solidity\":0.2},\"type\":\"scatter\"}],\"parcoords\":[{\"type\":\"parcoords\",\"line\":{\"colorbar\":{\"outlinewidth\":0,\"ticks\":\"\"}}}],\"scatterpolargl\":[{\"type\":\"scatterpolargl\",\"marker\":{\"colorbar\":{\"outlinewidth\":0,\"ticks\":\"\"}}}],\"bar\":[{\"error_x\":{\"color\":\"#2a3f5f\"},\"error_y\":{\"color\":\"#2a3f5f\"},\"marker\":{\"line\":{\"color\":\"#E5ECF6\",\"width\":0.5},\"pattern\":{\"fillmode\":\"overlay\",\"size\":10,\"solidity\":0.2}},\"type\":\"bar\"}],\"scattergeo\":[{\"type\":\"scattergeo\",\"marker\":{\"colorbar\":{\"outlinewidth\":0,\"ticks\":\"\"}}}],\"scatterpolar\":[{\"type\":\"scatterpolar\",\"marker\":{\"colorbar\":{\"outlinewidth\":0,\"ticks\":\"\"}}}],\"histogram\":[{\"marker\":{\"pattern\":{\"fillmode\":\"overlay\",\"size\":10,\"solidity\":0.2}},\"type\":\"histogram\"}],\"scattergl\":[{\"type\":\"scattergl\",\"marker\":{\"colorbar\":{\"outlinewidth\":0,\"ticks\":\"\"}}}],\"scatter3d\":[{\"type\":\"scatter3d\",\"line\":{\"colorbar\":{\"outlinewidth\":0,\"ticks\":\"\"}},\"marker\":{\"colorbar\":{\"outlinewidth\":0,\"ticks\":\"\"}}}],\"scattermapbox\":[{\"type\":\"scattermapbox\",\"marker\":{\"colorbar\":{\"outlinewidth\":0,\"ticks\":\"\"}}}],\"scatterternary\":[{\"type\":\"scatterternary\",\"marker\":{\"colorbar\":{\"outlinewidth\":0,\"ticks\":\"\"}}}],\"scattercarpet\":[{\"type\":\"scattercarpet\",\"marker\":{\"colorbar\":{\"outlinewidth\":0,\"ticks\":\"\"}}}],\"carpet\":[{\"aaxis\":{\"endlinecolor\":\"#2a3f5f\",\"gridcolor\":\"white\",\"linecolor\":\"white\",\"minorgridcolor\":\"white\",\"startlinecolor\":\"#2a3f5f\"},\"baxis\":{\"endlinecolor\":\"#2a3f5f\",\"gridcolor\":\"white\",\"linecolor\":\"white\",\"minorgridcolor\":\"white\",\"startlinecolor\":\"#2a3f5f\"},\"type\":\"carpet\"}],\"table\":[{\"cells\":{\"fill\":{\"color\":\"#EBF0F8\"},\"line\":{\"color\":\"white\"}},\"header\":{\"fill\":{\"color\":\"#C8D4E3\"},\"line\":{\"color\":\"white\"}},\"type\":\"table\"}],\"barpolar\":[{\"marker\":{\"line\":{\"color\":\"#E5ECF6\",\"width\":0.5},\"pattern\":{\"fillmode\":\"overlay\",\"size\":10,\"solidity\":0.2}},\"type\":\"barpolar\"}],\"pie\":[{\"automargin\":true,\"type\":\"pie\"}]},\"layout\":{\"autotypenumbers\":\"strict\",\"colorway\":[\"#636efa\",\"#EF553B\",\"#00cc96\",\"#ab63fa\",\"#FFA15A\",\"#19d3f3\",\"#FF6692\",\"#B6E880\",\"#FF97FF\",\"#FECB52\"],\"font\":{\"color\":\"#2a3f5f\"},\"hovermode\":\"closest\",\"hoverlabel\":{\"align\":\"left\"},\"paper_bgcolor\":\"white\",\"plot_bgcolor\":\"#E5ECF6\",\"polar\":{\"bgcolor\":\"#E5ECF6\",\"angularaxis\":{\"gridcolor\":\"white\",\"linecolor\":\"white\",\"ticks\":\"\"},\"radialaxis\":{\"gridcolor\":\"white\",\"linecolor\":\"white\",\"ticks\":\"\"}},\"ternary\":{\"bgcolor\":\"#E5ECF6\",\"aaxis\":{\"gridcolor\":\"white\",\"linecolor\":\"white\",\"ticks\":\"\"},\"baxis\":{\"gridcolor\":\"white\",\"linecolor\":\"white\",\"ticks\":\"\"},\"caxis\":{\"gridcolor\":\"white\",\"linecolor\":\"white\",\"ticks\":\"\"}},\"coloraxis\":{\"colorbar\":{\"outlinewidth\":0,\"ticks\":\"\"}},\"colorscale\":{\"sequential\":[[0.0,\"#0d0887\"],[0.1111111111111111,\"#46039f\"],[0.2222222222222222,\"#7201a8\"],[0.3333333333333333,\"#9c179e\"],[0.4444444444444444,\"#bd3786\"],[0.5555555555555556,\"#d8576b\"],[0.6666666666666666,\"#ed7953\"],[0.7777777777777778,\"#fb9f3a\"],[0.8888888888888888,\"#fdca26\"],[1.0,\"#f0f921\"]],\"sequentialminus\":[[0.0,\"#0d0887\"],[0.1111111111111111,\"#46039f\"],[0.2222222222222222,\"#7201a8\"],[0.3333333333333333,\"#9c179e\"],[0.4444444444444444,\"#bd3786\"],[0.5555555555555556,\"#d8576b\"],[0.6666666666666666,\"#ed7953\"],[0.7777777777777778,\"#fb9f3a\"],[0.8888888888888888,\"#fdca26\"],[1.0,\"#f0f921\"]],\"diverging\":[[0,\"#8e0152\"],[0.1,\"#c51b7d\"],[0.2,\"#de77ae\"],[0.3,\"#f1b6da\"],[0.4,\"#fde0ef\"],[0.5,\"#f7f7f7\"],[0.6,\"#e6f5d0\"],[0.7,\"#b8e186\"],[0.8,\"#7fbc41\"],[0.9,\"#4d9221\"],[1,\"#276419\"]]},\"xaxis\":{\"gridcolor\":\"white\",\"linecolor\":\"white\",\"ticks\":\"\",\"title\":{\"standoff\":15},\"zerolinecolor\":\"white\",\"automargin\":true,\"zerolinewidth\":2},\"yaxis\":{\"gridcolor\":\"white\",\"linecolor\":\"white\",\"ticks\":\"\",\"title\":{\"standoff\":15},\"zerolinecolor\":\"white\",\"automargin\":true,\"zerolinewidth\":2},\"scene\":{\"xaxis\":{\"backgroundcolor\":\"#E5ECF6\",\"gridcolor\":\"white\",\"linecolor\":\"white\",\"showbackground\":true,\"ticks\":\"\",\"zerolinecolor\":\"white\",\"gridwidth\":2},\"yaxis\":{\"backgroundcolor\":\"#E5ECF6\",\"gridcolor\":\"white\",\"linecolor\":\"white\",\"showbackground\":true,\"ticks\":\"\",\"zerolinecolor\":\"white\",\"gridwidth\":2},\"zaxis\":{\"backgroundcolor\":\"#E5ECF6\",\"gridcolor\":\"white\",\"linecolor\":\"white\",\"showbackground\":true,\"ticks\":\"\",\"zerolinecolor\":\"white\",\"gridwidth\":2}},\"shapedefaults\":{\"line\":{\"color\":\"#2a3f5f\"}},\"annotationdefaults\":{\"arrowcolor\":\"#2a3f5f\",\"arrowhead\":0,\"arrowwidth\":1},\"geo\":{\"bgcolor\":\"white\",\"landcolor\":\"#E5ECF6\",\"subunitcolor\":\"white\",\"showland\":true,\"showlakes\":true,\"lakecolor\":\"white\"},\"title\":{\"x\":0.05},\"mapbox\":{\"style\":\"light\"}}}},                        {\"responsive\": true}                    ).then(function(){\n",
       "                            \n",
       "var gd = document.getElementById('5a19eab2-bf03-438d-a10a-fe3bfe44acdc');\n",
       "var x = new MutationObserver(function (mutations, observer) {{\n",
       "        var display = window.getComputedStyle(gd).display;\n",
       "        if (!display || display === 'none') {{\n",
       "            console.log([gd, 'removed!']);\n",
       "            Plotly.purge(gd);\n",
       "            observer.disconnect();\n",
       "        }}\n",
       "}});\n",
       "\n",
       "// Listen for the removal of the full notebook cells\n",
       "var notebookContainer = gd.closest('#notebook-container');\n",
       "if (notebookContainer) {{\n",
       "    x.observe(notebookContainer, {childList: true});\n",
       "}}\n",
       "\n",
       "// Listen for the clearing of the current output cell\n",
       "var outputEl = gd.closest('.output');\n",
       "if (outputEl) {{\n",
       "    x.observe(outputEl, {childList: true});\n",
       "}}\n",
       "\n",
       "                        })                };                });            </script>        </div>"
      ]
     },
     "metadata": {},
     "output_type": "display_data"
    },
    {
     "data": {
      "application/vnd.plotly.v1+json": {
       "config": {
        "plotlyServerURL": "https://plot.ly"
       },
       "data": [
        {
         "cliponaxis": false,
         "hovertemplate": [
          "batch_size (CategoricalDistribution): 0.0<extra></extra>",
          "num_layers_to_retrain (CategoricalDistribution): 0.0<extra></extra>",
          "l1_reg_weight (FloatDistribution): 0.046115455616354266<extra></extra>",
          "dropout (FloatDistribution): 0.12541811189199015<extra></extra>",
          "learning_rate (FloatDistribution): 0.1490978586357675<extra></extra>",
          "l2_reg_weight (FloatDistribution): 0.27620639728656526<extra></extra>",
          "add_post_latent_layers (CategoricalDistribution): 0.40316217656932285<extra></extra>"
         ],
         "name": "Objective Value",
         "orientation": "h",
         "text": [
          "<0.01",
          "<0.01",
          "0.05",
          "0.13",
          "0.15",
          "0.28",
          "0.40"
         ],
         "textposition": "outside",
         "type": "bar",
         "x": [
          0,
          0,
          0.046115455616354266,
          0.12541811189199015,
          0.1490978586357675,
          0.27620639728656526,
          0.40316217656932285
         ],
         "y": [
          "batch_size",
          "num_layers_to_retrain",
          "l1_reg_weight",
          "dropout",
          "learning_rate",
          "l2_reg_weight",
          "add_post_latent_layers"
         ]
        }
       ],
       "layout": {
        "template": {
         "data": {
          "bar": [
           {
            "error_x": {
             "color": "#2a3f5f"
            },
            "error_y": {
             "color": "#2a3f5f"
            },
            "marker": {
             "line": {
              "color": "#E5ECF6",
              "width": 0.5
             },
             "pattern": {
              "fillmode": "overlay",
              "size": 10,
              "solidity": 0.2
             }
            },
            "type": "bar"
           }
          ],
          "barpolar": [
           {
            "marker": {
             "line": {
              "color": "#E5ECF6",
              "width": 0.5
             },
             "pattern": {
              "fillmode": "overlay",
              "size": 10,
              "solidity": 0.2
             }
            },
            "type": "barpolar"
           }
          ],
          "carpet": [
           {
            "aaxis": {
             "endlinecolor": "#2a3f5f",
             "gridcolor": "white",
             "linecolor": "white",
             "minorgridcolor": "white",
             "startlinecolor": "#2a3f5f"
            },
            "baxis": {
             "endlinecolor": "#2a3f5f",
             "gridcolor": "white",
             "linecolor": "white",
             "minorgridcolor": "white",
             "startlinecolor": "#2a3f5f"
            },
            "type": "carpet"
           }
          ],
          "choropleth": [
           {
            "colorbar": {
             "outlinewidth": 0,
             "ticks": ""
            },
            "type": "choropleth"
           }
          ],
          "contour": [
           {
            "colorbar": {
             "outlinewidth": 0,
             "ticks": ""
            },
            "colorscale": [
             [
              0,
              "#0d0887"
             ],
             [
              0.1111111111111111,
              "#46039f"
             ],
             [
              0.2222222222222222,
              "#7201a8"
             ],
             [
              0.3333333333333333,
              "#9c179e"
             ],
             [
              0.4444444444444444,
              "#bd3786"
             ],
             [
              0.5555555555555556,
              "#d8576b"
             ],
             [
              0.6666666666666666,
              "#ed7953"
             ],
             [
              0.7777777777777778,
              "#fb9f3a"
             ],
             [
              0.8888888888888888,
              "#fdca26"
             ],
             [
              1,
              "#f0f921"
             ]
            ],
            "type": "contour"
           }
          ],
          "contourcarpet": [
           {
            "colorbar": {
             "outlinewidth": 0,
             "ticks": ""
            },
            "type": "contourcarpet"
           }
          ],
          "heatmap": [
           {
            "colorbar": {
             "outlinewidth": 0,
             "ticks": ""
            },
            "colorscale": [
             [
              0,
              "#0d0887"
             ],
             [
              0.1111111111111111,
              "#46039f"
             ],
             [
              0.2222222222222222,
              "#7201a8"
             ],
             [
              0.3333333333333333,
              "#9c179e"
             ],
             [
              0.4444444444444444,
              "#bd3786"
             ],
             [
              0.5555555555555556,
              "#d8576b"
             ],
             [
              0.6666666666666666,
              "#ed7953"
             ],
             [
              0.7777777777777778,
              "#fb9f3a"
             ],
             [
              0.8888888888888888,
              "#fdca26"
             ],
             [
              1,
              "#f0f921"
             ]
            ],
            "type": "heatmap"
           }
          ],
          "heatmapgl": [
           {
            "colorbar": {
             "outlinewidth": 0,
             "ticks": ""
            },
            "colorscale": [
             [
              0,
              "#0d0887"
             ],
             [
              0.1111111111111111,
              "#46039f"
             ],
             [
              0.2222222222222222,
              "#7201a8"
             ],
             [
              0.3333333333333333,
              "#9c179e"
             ],
             [
              0.4444444444444444,
              "#bd3786"
             ],
             [
              0.5555555555555556,
              "#d8576b"
             ],
             [
              0.6666666666666666,
              "#ed7953"
             ],
             [
              0.7777777777777778,
              "#fb9f3a"
             ],
             [
              0.8888888888888888,
              "#fdca26"
             ],
             [
              1,
              "#f0f921"
             ]
            ],
            "type": "heatmapgl"
           }
          ],
          "histogram": [
           {
            "marker": {
             "pattern": {
              "fillmode": "overlay",
              "size": 10,
              "solidity": 0.2
             }
            },
            "type": "histogram"
           }
          ],
          "histogram2d": [
           {
            "colorbar": {
             "outlinewidth": 0,
             "ticks": ""
            },
            "colorscale": [
             [
              0,
              "#0d0887"
             ],
             [
              0.1111111111111111,
              "#46039f"
             ],
             [
              0.2222222222222222,
              "#7201a8"
             ],
             [
              0.3333333333333333,
              "#9c179e"
             ],
             [
              0.4444444444444444,
              "#bd3786"
             ],
             [
              0.5555555555555556,
              "#d8576b"
             ],
             [
              0.6666666666666666,
              "#ed7953"
             ],
             [
              0.7777777777777778,
              "#fb9f3a"
             ],
             [
              0.8888888888888888,
              "#fdca26"
             ],
             [
              1,
              "#f0f921"
             ]
            ],
            "type": "histogram2d"
           }
          ],
          "histogram2dcontour": [
           {
            "colorbar": {
             "outlinewidth": 0,
             "ticks": ""
            },
            "colorscale": [
             [
              0,
              "#0d0887"
             ],
             [
              0.1111111111111111,
              "#46039f"
             ],
             [
              0.2222222222222222,
              "#7201a8"
             ],
             [
              0.3333333333333333,
              "#9c179e"
             ],
             [
              0.4444444444444444,
              "#bd3786"
             ],
             [
              0.5555555555555556,
              "#d8576b"
             ],
             [
              0.6666666666666666,
              "#ed7953"
             ],
             [
              0.7777777777777778,
              "#fb9f3a"
             ],
             [
              0.8888888888888888,
              "#fdca26"
             ],
             [
              1,
              "#f0f921"
             ]
            ],
            "type": "histogram2dcontour"
           }
          ],
          "mesh3d": [
           {
            "colorbar": {
             "outlinewidth": 0,
             "ticks": ""
            },
            "type": "mesh3d"
           }
          ],
          "parcoords": [
           {
            "line": {
             "colorbar": {
              "outlinewidth": 0,
              "ticks": ""
             }
            },
            "type": "parcoords"
           }
          ],
          "pie": [
           {
            "automargin": true,
            "type": "pie"
           }
          ],
          "scatter": [
           {
            "fillpattern": {
             "fillmode": "overlay",
             "size": 10,
             "solidity": 0.2
            },
            "type": "scatter"
           }
          ],
          "scatter3d": [
           {
            "line": {
             "colorbar": {
              "outlinewidth": 0,
              "ticks": ""
             }
            },
            "marker": {
             "colorbar": {
              "outlinewidth": 0,
              "ticks": ""
             }
            },
            "type": "scatter3d"
           }
          ],
          "scattercarpet": [
           {
            "marker": {
             "colorbar": {
              "outlinewidth": 0,
              "ticks": ""
             }
            },
            "type": "scattercarpet"
           }
          ],
          "scattergeo": [
           {
            "marker": {
             "colorbar": {
              "outlinewidth": 0,
              "ticks": ""
             }
            },
            "type": "scattergeo"
           }
          ],
          "scattergl": [
           {
            "marker": {
             "colorbar": {
              "outlinewidth": 0,
              "ticks": ""
             }
            },
            "type": "scattergl"
           }
          ],
          "scattermapbox": [
           {
            "marker": {
             "colorbar": {
              "outlinewidth": 0,
              "ticks": ""
             }
            },
            "type": "scattermapbox"
           }
          ],
          "scatterpolar": [
           {
            "marker": {
             "colorbar": {
              "outlinewidth": 0,
              "ticks": ""
             }
            },
            "type": "scatterpolar"
           }
          ],
          "scatterpolargl": [
           {
            "marker": {
             "colorbar": {
              "outlinewidth": 0,
              "ticks": ""
             }
            },
            "type": "scatterpolargl"
           }
          ],
          "scatterternary": [
           {
            "marker": {
             "colorbar": {
              "outlinewidth": 0,
              "ticks": ""
             }
            },
            "type": "scatterternary"
           }
          ],
          "surface": [
           {
            "colorbar": {
             "outlinewidth": 0,
             "ticks": ""
            },
            "colorscale": [
             [
              0,
              "#0d0887"
             ],
             [
              0.1111111111111111,
              "#46039f"
             ],
             [
              0.2222222222222222,
              "#7201a8"
             ],
             [
              0.3333333333333333,
              "#9c179e"
             ],
             [
              0.4444444444444444,
              "#bd3786"
             ],
             [
              0.5555555555555556,
              "#d8576b"
             ],
             [
              0.6666666666666666,
              "#ed7953"
             ],
             [
              0.7777777777777778,
              "#fb9f3a"
             ],
             [
              0.8888888888888888,
              "#fdca26"
             ],
             [
              1,
              "#f0f921"
             ]
            ],
            "type": "surface"
           }
          ],
          "table": [
           {
            "cells": {
             "fill": {
              "color": "#EBF0F8"
             },
             "line": {
              "color": "white"
             }
            },
            "header": {
             "fill": {
              "color": "#C8D4E3"
             },
             "line": {
              "color": "white"
             }
            },
            "type": "table"
           }
          ]
         },
         "layout": {
          "annotationdefaults": {
           "arrowcolor": "#2a3f5f",
           "arrowhead": 0,
           "arrowwidth": 1
          },
          "autotypenumbers": "strict",
          "coloraxis": {
           "colorbar": {
            "outlinewidth": 0,
            "ticks": ""
           }
          },
          "colorscale": {
           "diverging": [
            [
             0,
             "#8e0152"
            ],
            [
             0.1,
             "#c51b7d"
            ],
            [
             0.2,
             "#de77ae"
            ],
            [
             0.3,
             "#f1b6da"
            ],
            [
             0.4,
             "#fde0ef"
            ],
            [
             0.5,
             "#f7f7f7"
            ],
            [
             0.6,
             "#e6f5d0"
            ],
            [
             0.7,
             "#b8e186"
            ],
            [
             0.8,
             "#7fbc41"
            ],
            [
             0.9,
             "#4d9221"
            ],
            [
             1,
             "#276419"
            ]
           ],
           "sequential": [
            [
             0,
             "#0d0887"
            ],
            [
             0.1111111111111111,
             "#46039f"
            ],
            [
             0.2222222222222222,
             "#7201a8"
            ],
            [
             0.3333333333333333,
             "#9c179e"
            ],
            [
             0.4444444444444444,
             "#bd3786"
            ],
            [
             0.5555555555555556,
             "#d8576b"
            ],
            [
             0.6666666666666666,
             "#ed7953"
            ],
            [
             0.7777777777777778,
             "#fb9f3a"
            ],
            [
             0.8888888888888888,
             "#fdca26"
            ],
            [
             1,
             "#f0f921"
            ]
           ],
           "sequentialminus": [
            [
             0,
             "#0d0887"
            ],
            [
             0.1111111111111111,
             "#46039f"
            ],
            [
             0.2222222222222222,
             "#7201a8"
            ],
            [
             0.3333333333333333,
             "#9c179e"
            ],
            [
             0.4444444444444444,
             "#bd3786"
            ],
            [
             0.5555555555555556,
             "#d8576b"
            ],
            [
             0.6666666666666666,
             "#ed7953"
            ],
            [
             0.7777777777777778,
             "#fb9f3a"
            ],
            [
             0.8888888888888888,
             "#fdca26"
            ],
            [
             1,
             "#f0f921"
            ]
           ]
          },
          "colorway": [
           "#636efa",
           "#EF553B",
           "#00cc96",
           "#ab63fa",
           "#FFA15A",
           "#19d3f3",
           "#FF6692",
           "#B6E880",
           "#FF97FF",
           "#FECB52"
          ],
          "font": {
           "color": "#2a3f5f"
          },
          "geo": {
           "bgcolor": "white",
           "lakecolor": "white",
           "landcolor": "#E5ECF6",
           "showlakes": true,
           "showland": true,
           "subunitcolor": "white"
          },
          "hoverlabel": {
           "align": "left"
          },
          "hovermode": "closest",
          "mapbox": {
           "style": "light"
          },
          "paper_bgcolor": "white",
          "plot_bgcolor": "#E5ECF6",
          "polar": {
           "angularaxis": {
            "gridcolor": "white",
            "linecolor": "white",
            "ticks": ""
           },
           "bgcolor": "#E5ECF6",
           "radialaxis": {
            "gridcolor": "white",
            "linecolor": "white",
            "ticks": ""
           }
          },
          "scene": {
           "xaxis": {
            "backgroundcolor": "#E5ECF6",
            "gridcolor": "white",
            "gridwidth": 2,
            "linecolor": "white",
            "showbackground": true,
            "ticks": "",
            "zerolinecolor": "white"
           },
           "yaxis": {
            "backgroundcolor": "#E5ECF6",
            "gridcolor": "white",
            "gridwidth": 2,
            "linecolor": "white",
            "showbackground": true,
            "ticks": "",
            "zerolinecolor": "white"
           },
           "zaxis": {
            "backgroundcolor": "#E5ECF6",
            "gridcolor": "white",
            "gridwidth": 2,
            "linecolor": "white",
            "showbackground": true,
            "ticks": "",
            "zerolinecolor": "white"
           }
          },
          "shapedefaults": {
           "line": {
            "color": "#2a3f5f"
           }
          },
          "ternary": {
           "aaxis": {
            "gridcolor": "white",
            "linecolor": "white",
            "ticks": ""
           },
           "baxis": {
            "gridcolor": "white",
            "linecolor": "white",
            "ticks": ""
           },
           "bgcolor": "#E5ECF6",
           "caxis": {
            "gridcolor": "white",
            "linecolor": "white",
            "ticks": ""
           }
          },
          "title": {
           "x": 0.05
          },
          "xaxis": {
           "automargin": true,
           "gridcolor": "white",
           "linecolor": "white",
           "ticks": "",
           "title": {
            "standoff": 15
           },
           "zerolinecolor": "white",
           "zerolinewidth": 2
          },
          "yaxis": {
           "automargin": true,
           "gridcolor": "white",
           "linecolor": "white",
           "ticks": "",
           "title": {
            "standoff": 15
           },
           "zerolinecolor": "white",
           "zerolinewidth": 2
          }
         }
        },
        "title": {
         "text": "Hyperparameter Importances"
        },
        "xaxis": {
         "title": {
          "text": "Hyperparameter Importance"
         }
        },
        "yaxis": {
         "title": {
          "text": "Hyperparameter"
         }
        }
       }
      },
      "text/html": [
       "<div>                            <div id=\"117e9aad-8c11-4baa-b543-cc178231f7a0\" class=\"plotly-graph-div\" style=\"height:525px; width:100%;\"></div>            <script type=\"text/javascript\">                require([\"plotly\"], function(Plotly) {                    window.PLOTLYENV=window.PLOTLYENV || {};                                    if (document.getElementById(\"117e9aad-8c11-4baa-b543-cc178231f7a0\")) {                    Plotly.newPlot(                        \"117e9aad-8c11-4baa-b543-cc178231f7a0\",                        [{\"cliponaxis\":false,\"hovertemplate\":[\"batch_size (CategoricalDistribution): 0.0\\u003cextra\\u003e\\u003c\\u002fextra\\u003e\",\"num_layers_to_retrain (CategoricalDistribution): 0.0\\u003cextra\\u003e\\u003c\\u002fextra\\u003e\",\"l1_reg_weight (FloatDistribution): 0.046115455616354266\\u003cextra\\u003e\\u003c\\u002fextra\\u003e\",\"dropout (FloatDistribution): 0.12541811189199015\\u003cextra\\u003e\\u003c\\u002fextra\\u003e\",\"learning_rate (FloatDistribution): 0.1490978586357675\\u003cextra\\u003e\\u003c\\u002fextra\\u003e\",\"l2_reg_weight (FloatDistribution): 0.27620639728656526\\u003cextra\\u003e\\u003c\\u002fextra\\u003e\",\"add_post_latent_layers (CategoricalDistribution): 0.40316217656932285\\u003cextra\\u003e\\u003c\\u002fextra\\u003e\"],\"name\":\"Objective Value\",\"orientation\":\"h\",\"text\":[\"\\u003c0.01\",\"\\u003c0.01\",\"0.05\",\"0.13\",\"0.15\",\"0.28\",\"0.40\"],\"textposition\":\"outside\",\"x\":[0.0,0.0,0.046115455616354266,0.12541811189199015,0.1490978586357675,0.27620639728656526,0.40316217656932285],\"y\":[\"batch_size\",\"num_layers_to_retrain\",\"l1_reg_weight\",\"dropout\",\"learning_rate\",\"l2_reg_weight\",\"add_post_latent_layers\"],\"type\":\"bar\"}],                        {\"title\":{\"text\":\"Hyperparameter Importances\"},\"xaxis\":{\"title\":{\"text\":\"Hyperparameter Importance\"}},\"yaxis\":{\"title\":{\"text\":\"Hyperparameter\"}},\"template\":{\"data\":{\"histogram2dcontour\":[{\"type\":\"histogram2dcontour\",\"colorbar\":{\"outlinewidth\":0,\"ticks\":\"\"},\"colorscale\":[[0.0,\"#0d0887\"],[0.1111111111111111,\"#46039f\"],[0.2222222222222222,\"#7201a8\"],[0.3333333333333333,\"#9c179e\"],[0.4444444444444444,\"#bd3786\"],[0.5555555555555556,\"#d8576b\"],[0.6666666666666666,\"#ed7953\"],[0.7777777777777778,\"#fb9f3a\"],[0.8888888888888888,\"#fdca26\"],[1.0,\"#f0f921\"]]}],\"choropleth\":[{\"type\":\"choropleth\",\"colorbar\":{\"outlinewidth\":0,\"ticks\":\"\"}}],\"histogram2d\":[{\"type\":\"histogram2d\",\"colorbar\":{\"outlinewidth\":0,\"ticks\":\"\"},\"colorscale\":[[0.0,\"#0d0887\"],[0.1111111111111111,\"#46039f\"],[0.2222222222222222,\"#7201a8\"],[0.3333333333333333,\"#9c179e\"],[0.4444444444444444,\"#bd3786\"],[0.5555555555555556,\"#d8576b\"],[0.6666666666666666,\"#ed7953\"],[0.7777777777777778,\"#fb9f3a\"],[0.8888888888888888,\"#fdca26\"],[1.0,\"#f0f921\"]]}],\"heatmap\":[{\"type\":\"heatmap\",\"colorbar\":{\"outlinewidth\":0,\"ticks\":\"\"},\"colorscale\":[[0.0,\"#0d0887\"],[0.1111111111111111,\"#46039f\"],[0.2222222222222222,\"#7201a8\"],[0.3333333333333333,\"#9c179e\"],[0.4444444444444444,\"#bd3786\"],[0.5555555555555556,\"#d8576b\"],[0.6666666666666666,\"#ed7953\"],[0.7777777777777778,\"#fb9f3a\"],[0.8888888888888888,\"#fdca26\"],[1.0,\"#f0f921\"]]}],\"heatmapgl\":[{\"type\":\"heatmapgl\",\"colorbar\":{\"outlinewidth\":0,\"ticks\":\"\"},\"colorscale\":[[0.0,\"#0d0887\"],[0.1111111111111111,\"#46039f\"],[0.2222222222222222,\"#7201a8\"],[0.3333333333333333,\"#9c179e\"],[0.4444444444444444,\"#bd3786\"],[0.5555555555555556,\"#d8576b\"],[0.6666666666666666,\"#ed7953\"],[0.7777777777777778,\"#fb9f3a\"],[0.8888888888888888,\"#fdca26\"],[1.0,\"#f0f921\"]]}],\"contourcarpet\":[{\"type\":\"contourcarpet\",\"colorbar\":{\"outlinewidth\":0,\"ticks\":\"\"}}],\"contour\":[{\"type\":\"contour\",\"colorbar\":{\"outlinewidth\":0,\"ticks\":\"\"},\"colorscale\":[[0.0,\"#0d0887\"],[0.1111111111111111,\"#46039f\"],[0.2222222222222222,\"#7201a8\"],[0.3333333333333333,\"#9c179e\"],[0.4444444444444444,\"#bd3786\"],[0.5555555555555556,\"#d8576b\"],[0.6666666666666666,\"#ed7953\"],[0.7777777777777778,\"#fb9f3a\"],[0.8888888888888888,\"#fdca26\"],[1.0,\"#f0f921\"]]}],\"surface\":[{\"type\":\"surface\",\"colorbar\":{\"outlinewidth\":0,\"ticks\":\"\"},\"colorscale\":[[0.0,\"#0d0887\"],[0.1111111111111111,\"#46039f\"],[0.2222222222222222,\"#7201a8\"],[0.3333333333333333,\"#9c179e\"],[0.4444444444444444,\"#bd3786\"],[0.5555555555555556,\"#d8576b\"],[0.6666666666666666,\"#ed7953\"],[0.7777777777777778,\"#fb9f3a\"],[0.8888888888888888,\"#fdca26\"],[1.0,\"#f0f921\"]]}],\"mesh3d\":[{\"type\":\"mesh3d\",\"colorbar\":{\"outlinewidth\":0,\"ticks\":\"\"}}],\"scatter\":[{\"fillpattern\":{\"fillmode\":\"overlay\",\"size\":10,\"solidity\":0.2},\"type\":\"scatter\"}],\"parcoords\":[{\"type\":\"parcoords\",\"line\":{\"colorbar\":{\"outlinewidth\":0,\"ticks\":\"\"}}}],\"scatterpolargl\":[{\"type\":\"scatterpolargl\",\"marker\":{\"colorbar\":{\"outlinewidth\":0,\"ticks\":\"\"}}}],\"bar\":[{\"error_x\":{\"color\":\"#2a3f5f\"},\"error_y\":{\"color\":\"#2a3f5f\"},\"marker\":{\"line\":{\"color\":\"#E5ECF6\",\"width\":0.5},\"pattern\":{\"fillmode\":\"overlay\",\"size\":10,\"solidity\":0.2}},\"type\":\"bar\"}],\"scattergeo\":[{\"type\":\"scattergeo\",\"marker\":{\"colorbar\":{\"outlinewidth\":0,\"ticks\":\"\"}}}],\"scatterpolar\":[{\"type\":\"scatterpolar\",\"marker\":{\"colorbar\":{\"outlinewidth\":0,\"ticks\":\"\"}}}],\"histogram\":[{\"marker\":{\"pattern\":{\"fillmode\":\"overlay\",\"size\":10,\"solidity\":0.2}},\"type\":\"histogram\"}],\"scattergl\":[{\"type\":\"scattergl\",\"marker\":{\"colorbar\":{\"outlinewidth\":0,\"ticks\":\"\"}}}],\"scatter3d\":[{\"type\":\"scatter3d\",\"line\":{\"colorbar\":{\"outlinewidth\":0,\"ticks\":\"\"}},\"marker\":{\"colorbar\":{\"outlinewidth\":0,\"ticks\":\"\"}}}],\"scattermapbox\":[{\"type\":\"scattermapbox\",\"marker\":{\"colorbar\":{\"outlinewidth\":0,\"ticks\":\"\"}}}],\"scatterternary\":[{\"type\":\"scatterternary\",\"marker\":{\"colorbar\":{\"outlinewidth\":0,\"ticks\":\"\"}}}],\"scattercarpet\":[{\"type\":\"scattercarpet\",\"marker\":{\"colorbar\":{\"outlinewidth\":0,\"ticks\":\"\"}}}],\"carpet\":[{\"aaxis\":{\"endlinecolor\":\"#2a3f5f\",\"gridcolor\":\"white\",\"linecolor\":\"white\",\"minorgridcolor\":\"white\",\"startlinecolor\":\"#2a3f5f\"},\"baxis\":{\"endlinecolor\":\"#2a3f5f\",\"gridcolor\":\"white\",\"linecolor\":\"white\",\"minorgridcolor\":\"white\",\"startlinecolor\":\"#2a3f5f\"},\"type\":\"carpet\"}],\"table\":[{\"cells\":{\"fill\":{\"color\":\"#EBF0F8\"},\"line\":{\"color\":\"white\"}},\"header\":{\"fill\":{\"color\":\"#C8D4E3\"},\"line\":{\"color\":\"white\"}},\"type\":\"table\"}],\"barpolar\":[{\"marker\":{\"line\":{\"color\":\"#E5ECF6\",\"width\":0.5},\"pattern\":{\"fillmode\":\"overlay\",\"size\":10,\"solidity\":0.2}},\"type\":\"barpolar\"}],\"pie\":[{\"automargin\":true,\"type\":\"pie\"}]},\"layout\":{\"autotypenumbers\":\"strict\",\"colorway\":[\"#636efa\",\"#EF553B\",\"#00cc96\",\"#ab63fa\",\"#FFA15A\",\"#19d3f3\",\"#FF6692\",\"#B6E880\",\"#FF97FF\",\"#FECB52\"],\"font\":{\"color\":\"#2a3f5f\"},\"hovermode\":\"closest\",\"hoverlabel\":{\"align\":\"left\"},\"paper_bgcolor\":\"white\",\"plot_bgcolor\":\"#E5ECF6\",\"polar\":{\"bgcolor\":\"#E5ECF6\",\"angularaxis\":{\"gridcolor\":\"white\",\"linecolor\":\"white\",\"ticks\":\"\"},\"radialaxis\":{\"gridcolor\":\"white\",\"linecolor\":\"white\",\"ticks\":\"\"}},\"ternary\":{\"bgcolor\":\"#E5ECF6\",\"aaxis\":{\"gridcolor\":\"white\",\"linecolor\":\"white\",\"ticks\":\"\"},\"baxis\":{\"gridcolor\":\"white\",\"linecolor\":\"white\",\"ticks\":\"\"},\"caxis\":{\"gridcolor\":\"white\",\"linecolor\":\"white\",\"ticks\":\"\"}},\"coloraxis\":{\"colorbar\":{\"outlinewidth\":0,\"ticks\":\"\"}},\"colorscale\":{\"sequential\":[[0.0,\"#0d0887\"],[0.1111111111111111,\"#46039f\"],[0.2222222222222222,\"#7201a8\"],[0.3333333333333333,\"#9c179e\"],[0.4444444444444444,\"#bd3786\"],[0.5555555555555556,\"#d8576b\"],[0.6666666666666666,\"#ed7953\"],[0.7777777777777778,\"#fb9f3a\"],[0.8888888888888888,\"#fdca26\"],[1.0,\"#f0f921\"]],\"sequentialminus\":[[0.0,\"#0d0887\"],[0.1111111111111111,\"#46039f\"],[0.2222222222222222,\"#7201a8\"],[0.3333333333333333,\"#9c179e\"],[0.4444444444444444,\"#bd3786\"],[0.5555555555555556,\"#d8576b\"],[0.6666666666666666,\"#ed7953\"],[0.7777777777777778,\"#fb9f3a\"],[0.8888888888888888,\"#fdca26\"],[1.0,\"#f0f921\"]],\"diverging\":[[0,\"#8e0152\"],[0.1,\"#c51b7d\"],[0.2,\"#de77ae\"],[0.3,\"#f1b6da\"],[0.4,\"#fde0ef\"],[0.5,\"#f7f7f7\"],[0.6,\"#e6f5d0\"],[0.7,\"#b8e186\"],[0.8,\"#7fbc41\"],[0.9,\"#4d9221\"],[1,\"#276419\"]]},\"xaxis\":{\"gridcolor\":\"white\",\"linecolor\":\"white\",\"ticks\":\"\",\"title\":{\"standoff\":15},\"zerolinecolor\":\"white\",\"automargin\":true,\"zerolinewidth\":2},\"yaxis\":{\"gridcolor\":\"white\",\"linecolor\":\"white\",\"ticks\":\"\",\"title\":{\"standoff\":15},\"zerolinecolor\":\"white\",\"automargin\":true,\"zerolinewidth\":2},\"scene\":{\"xaxis\":{\"backgroundcolor\":\"#E5ECF6\",\"gridcolor\":\"white\",\"linecolor\":\"white\",\"showbackground\":true,\"ticks\":\"\",\"zerolinecolor\":\"white\",\"gridwidth\":2},\"yaxis\":{\"backgroundcolor\":\"#E5ECF6\",\"gridcolor\":\"white\",\"linecolor\":\"white\",\"showbackground\":true,\"ticks\":\"\",\"zerolinecolor\":\"white\",\"gridwidth\":2},\"zaxis\":{\"backgroundcolor\":\"#E5ECF6\",\"gridcolor\":\"white\",\"linecolor\":\"white\",\"showbackground\":true,\"ticks\":\"\",\"zerolinecolor\":\"white\",\"gridwidth\":2}},\"shapedefaults\":{\"line\":{\"color\":\"#2a3f5f\"}},\"annotationdefaults\":{\"arrowcolor\":\"#2a3f5f\",\"arrowhead\":0,\"arrowwidth\":1},\"geo\":{\"bgcolor\":\"white\",\"landcolor\":\"#E5ECF6\",\"subunitcolor\":\"white\",\"showland\":true,\"showlakes\":true,\"lakecolor\":\"white\"},\"title\":{\"x\":0.05},\"mapbox\":{\"style\":\"light\"}}}},                        {\"responsive\": true}                    ).then(function(){\n",
       "                            \n",
       "var gd = document.getElementById('117e9aad-8c11-4baa-b543-cc178231f7a0');\n",
       "var x = new MutationObserver(function (mutations, observer) {{\n",
       "        var display = window.getComputedStyle(gd).display;\n",
       "        if (!display || display === 'none') {{\n",
       "            console.log([gd, 'removed!']);\n",
       "            Plotly.purge(gd);\n",
       "            observer.disconnect();\n",
       "        }}\n",
       "}});\n",
       "\n",
       "// Listen for the removal of the full notebook cells\n",
       "var notebookContainer = gd.closest('#notebook-container');\n",
       "if (notebookContainer) {{\n",
       "    x.observe(notebookContainer, {childList: true});\n",
       "}}\n",
       "\n",
       "// Listen for the clearing of the current output cell\n",
       "var outputEl = gd.closest('.output');\n",
       "if (outputEl) {{\n",
       "    x.observe(outputEl, {childList: true});\n",
       "}}\n",
       "\n",
       "                        })                };                });            </script>        </div>"
      ]
     },
     "metadata": {},
     "output_type": "display_data"
    }
   ],
   "source": [
    "try:\n",
    "    import optuna.visualization as vis\n",
    "    vis.plot_optimization_history(study).show()\n",
    "    vis.plot_param_importances(study).show()\n",
    "except ImportError:\n",
    "    print(\"Optuna visualization is not available. Install optuna[visualization] for plotting.\")\n"
   ]
  },
  {
   "cell_type": "code",
   "execution_count": 42,
   "metadata": {},
   "outputs": [
    {
     "data": {
      "text/plain": [
       "(88.82275132275133,\n",
       " {'add_post_latent_layers': False,\n",
       "  'num_layers_to_retrain': 1,\n",
       "  'batch_size': 32,\n",
       "  'learning_rate': 2.3869610916227712e-05,\n",
       "  'dropout': 0.3292480543156034,\n",
       "  'l1_reg_weight': 4.075678609967762e-06,\n",
       "  'l2_reg_weight': 3.634635518387705e-07})"
      ]
     },
     "execution_count": 42,
     "metadata": {},
     "output_type": "execute_result"
    }
   ],
   "source": [
    "study.best_trial.value, study.best_trial.params"
   ]
  },
  {
   "attachments": {},
   "cell_type": "markdown",
   "metadata": {},
   "source": [
    "### Plotting the latnet space"
   ]
  },
  {
   "cell_type": "code",
   "execution_count": null,
   "metadata": {},
   "outputs": [],
   "source": [
    "import matplotlib.pyplot as plt\n",
    "\n",
    "import best_finetune_model_test_eval\n",
    "importlib.reload(best_finetune_model_test_eval)\n",
    "from best_finetune_model_test_eval import best_model_latent_plot_combined\n",
    "\n",
    "fig, axes= best_model_latent_plot_combined(latent_rep_train, latent_rep_val, latent_rep_test, y_data_train, y_data_val, y_data_test, task)\n",
    "\n",
    "plt.show()"
   ]
  }
 ],
 "metadata": {
  "kernelspec": {
   "display_name": "Python 3",
   "language": "python",
   "name": "python3"
  },
  "language_info": {
   "codemirror_mode": {
    "name": "ipython",
    "version": 3
   },
   "file_extension": ".py",
   "mimetype": "text/x-python",
   "name": "python",
   "nbconvert_exporter": "python",
   "pygments_lexer": "ipython3",
   "version": "3.9.2"
  },
  "orig_nbformat": 4
 },
 "nbformat": 4,
 "nbformat_minor": 2
}
