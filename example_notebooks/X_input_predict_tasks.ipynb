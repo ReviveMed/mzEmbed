{
 "cells": [
  {
   "attachments": {},
   "cell_type": "markdown",
   "metadata": {},
   "source": [
    "# Predicitng tasks from input data"
   ]
  },
  {
   "attachments": {},
   "cell_type": "markdown",
   "metadata": {},
   "source": [
    "## importing necessary modules"
   ]
  },
  {
   "cell_type": "code",
   "execution_count": 9,
   "metadata": {},
   "outputs": [
    {
     "name": "stdout",
     "output_type": "stream",
     "text": [
      "DataLoader\t LabelEncoder\t TensorDataset\t X_data_test\t X_data_train\t X_data_val\t accuracy_score\t best_val_auc\t best_val_f1\t \n",
      "f1_score\t finetune\t get_finetune_input_data\t imaplib\t importlib\t input_data_location\t label_encoder\t log_reg_multi_class\t ml_code_path\t \n",
      "nn\t np\t optim\t optuna\t os\t pd\t precision_score\t random\t recall_score\t \n",
      "results\t results_df\t roc_auc_score\t task\t task_list_cat\t task_list_survival\t test_auc\t test_f1\t torch\t \n",
      "y_data_test\t y_data_train\t y_data_val\t \n"
     ]
    }
   ],
   "source": [
    "import os\n",
    "ml_code_path='/home/leilapirhaji/mz_embed_engine/ml'\n",
    "os.chdir(ml_code_path)\n",
    "\n",
    "import pandas as pd\n",
    "import importlib\n",
    "from sklearn.preprocessing import LabelEncoder\n",
    "label_encoder = LabelEncoder()\n",
    "import optuna\n",
    "import imaplib\n",
    "\n",
    "\n",
    "import torch\n",
    "import torch.nn as nn\n",
    "import torch.optim as optim\n",
    "from torch.utils.data import TensorDataset, DataLoader\n",
    "import pandas as pd\n",
    "import numpy as np\n",
    "import random\n",
    "from sklearn.metrics import precision_score, recall_score, f1_score, roc_auc_score, accuracy_score\n",
    "\n",
    "\n",
    "#importing fundtion to get encoder info and perfrom tasks \n",
    "from finetune.get_finetune_encoder import  get_finetune_input_data\n",
    "\n",
    "\n",
    "%who\n",
    "\n"
   ]
  },
  {
   "attachments": {},
   "cell_type": "markdown",
   "metadata": {},
   "source": [
    "# Fine tune OG Splits"
   ]
  },
  {
   "attachments": {},
   "cell_type": "markdown",
   "metadata": {},
   "source": [
    "## importing input data "
   ]
  },
  {
   "cell_type": "code",
   "execution_count": 10,
   "metadata": {},
   "outputs": [
    {
     "data": {
      "text/plain": [
       "((443, 2736), (443, 58), (149, 2736), (149, 58), (149, 2736), (149, 58))"
      ]
     },
     "execution_count": 10,
     "metadata": {},
     "output_type": "execute_result"
    }
   ],
   "source": [
    "\n",
    "#input data\n",
    "#input_data_location='/home/leilapirhaji/PROCESSED_DATA_S_8.1.1'\n",
    "input_data_location='/home/leilapirhaji/PROCESSED_DATA_finetune_OG_split'\n",
    "\n",
    "\n",
    "#tasks to predict using encoder\n",
    "task_list_cat=['Benefit BINARY', 'Nivo Benefit BINARY', 'MSKCC BINARY', 'IMDC BINARY', 'Benefit ORDINAL', 'MSKCC ORDINAL', 'IMDC ORDINAL', 'ORR', 'Benefit', 'IMDC', 'MSKCC', 'Prior_2' ]\n",
    "\n",
    "#survival tasks\n",
    "task_list_survival=[ 'OS', 'OS_Event', 'PFS', 'PFS_Event' ]\n",
    "\n",
    "\n",
    "#get fine-tuning input data \n",
    "(X_data_train, y_data_train, X_data_val, y_data_val, X_data_test, y_data_test)=get_finetune_input_data(input_data_location)\n",
    "\n",
    "X_data_train.shape, y_data_train.shape, X_data_val.shape, y_data_val.shape, X_data_test.shape, y_data_test.shape"
   ]
  },
  {
   "cell_type": "code",
   "execution_count": 11,
   "metadata": {},
   "outputs": [
    {
     "data": {
      "text/plain": [
       "Index(['Matt Set Label', 'Previous run_order', 'Previous MV', 'Study ID',\n",
       "       'is Pediatric', 'Cohort Label v0', 'Job ID', 'Cancer Risk', 'Column',\n",
       "       'Polarity', 'Sex', 'Subject ID', 'Age', 'Diagnosis', 'Region',\n",
       "       'Smoking Status', 'Sample_Class', 'Ref', 'run_order', 'timestamp',\n",
       "       'runtime_hour', 'batch_id', 'BMI', 'Race', 'Treatment',\n",
       "       'Diagnosis Type', 'is Female', 'Type', 'Ethnicity', 'mzml path',\n",
       "       'Batch', 'SARS-CoV-2 Positive', 'Matt Set', 'Set', 'NIVO OS', 'EVER OS',\n",
       "       'Benefit BINARY', 'Nivo Benefit BINARY', 'MSKCC BINARY', 'IMDC BINARY',\n",
       "       'Benefit ORDINAL', 'MSKCC ORDINAL', 'IMDC ORDINAL', 'OS', 'OS_Event',\n",
       "       'Timepoint', 'Dose (mg/kg)', 'PFS', 'PFS_Event', 'ORR', 'Benefit',\n",
       "       'Clinical Trial Phase', 'Diagnosis Details', 'Emphysema/COPD', 'IMDC',\n",
       "       'MSKCC', 'Prior_2', 'Benzene_Exposure_Category'],\n",
       "      dtype='object')"
      ]
     },
     "execution_count": 11,
     "metadata": {},
     "output_type": "execute_result"
    }
   ],
   "source": [
    "y_data_val.columns"
   ]
  },
  {
   "attachments": {},
   "cell_type": "markdown",
   "metadata": {},
   "source": [
    "## Predicting binary tasks"
   ]
  },
  {
   "attachments": {},
   "cell_type": "markdown",
   "metadata": {},
   "source": [
    "#### IMDC Binary"
   ]
  },
  {
   "cell_type": "code",
   "execution_count": 12,
   "metadata": {},
   "outputs": [
    {
     "name": "stdout",
     "output_type": "stream",
     "text": [
      "Test Accuracy with best model: 0.8070\n",
      "Test AUC with best model: 0.8990\n",
      "Test F1 Score with best model: 0.8081\n"
     ]
    },
    {
     "data": {
      "text/plain": [
       "(0.8699778669767791,\n",
       " 0.9044289044289046,\n",
       " 0.8080880166517991,\n",
       " 0.8989769820971867)"
      ]
     },
     "execution_count": 12,
     "metadata": {},
     "output_type": "execute_result"
    }
   ],
   "source": [
    "import importlib\n",
    "import finetune.latent_task_predict\n",
    "\n",
    "importlib.reload(finetune.latent_task_predict)\n",
    "from finetune.latent_task_predict import log_reg_multi_class\n",
    "\n",
    "\n",
    "task = 'IMDC BINARY'\n",
    "\n",
    "best_val_f1, best_val_auc, test_f1, test_auc= log_reg_multi_class(task, X_data_train, y_data_train, X_data_val, y_data_val, X_data_test, y_data_test)\n",
    "\n",
    "\n",
    "best_val_f1, best_val_auc, test_f1, test_auc"
   ]
  },
  {
   "attachments": {},
   "cell_type": "markdown",
   "metadata": {},
   "source": [
    "## Predicting categorical tasks "
   ]
  },
  {
   "cell_type": "code",
   "execution_count": 13,
   "metadata": {},
   "outputs": [
    {
     "name": "stdout",
     "output_type": "stream",
     "text": [
      "Evaluating task: Benefit BINARY\n",
      "Test Accuracy with best model: 0.5682\n",
      "Test AUC with best model: 0.5647\n",
      "Test F1 Score with best model: 0.5684\n",
      "Evaluating task: Nivo Benefit BINARY\n",
      "Test Accuracy with best model: 0.5490\n",
      "Test AUC with best model: 0.6815\n",
      "Test F1 Score with best model: 0.5362\n",
      "Evaluating task: MSKCC BINARY\n",
      "Test Accuracy with best model: 0.8690\n",
      "Test AUC with best model: 0.9178\n",
      "Test F1 Score with best model: 0.8648\n",
      "Evaluating task: IMDC BINARY\n",
      "Test Accuracy with best model: 0.8070\n",
      "Test AUC with best model: 0.8990\n",
      "Test F1 Score with best model: 0.8081\n",
      "Evaluating task: Benefit ORDINAL\n",
      "Test Accuracy with best model: 0.4094\n",
      "Test AUC with best model: 0.5607\n",
      "Test F1 Score with best model: 0.4015\n",
      "Evaluating task: MSKCC ORDINAL\n",
      "Test Accuracy with best model: 0.6242\n",
      "Test AUC with best model: 0.7658\n",
      "Test F1 Score with best model: 0.6213\n",
      "Evaluating task: IMDC ORDINAL\n",
      "Test Accuracy with best model: 0.6573\n",
      "Test AUC with best model: 0.6659\n",
      "Test F1 Score with best model: 0.5829\n",
      "Evaluating task: ORR\n",
      "Test Accuracy with best model: 0.4295\n",
      "Test AUC with best model: 0.5727\n",
      "Test F1 Score with best model: 0.3613\n",
      "Evaluating task: Benefit\n",
      "Test Accuracy with best model: 0.4094\n",
      "Test AUC with best model: 0.5607\n",
      "Test F1 Score with best model: 0.4015\n",
      "Evaluating task: IMDC\n",
      "Test Accuracy with best model: 0.6309\n",
      "Test AUC with best model: 0.6620\n",
      "Test F1 Score with best model: 0.5468\n",
      "Evaluating task: MSKCC\n",
      "Test Accuracy with best model: 0.6242\n",
      "Test AUC with best model: 0.7658\n",
      "Test F1 Score with best model: 0.6213\n",
      "Evaluating task: Prior_2\n",
      "Test Accuracy with best model: 0.7785\n",
      "Test AUC with best model: 0.5450\n",
      "Test F1 Score with best model: 0.6880\n"
     ]
    },
    {
     "data": {
      "text/html": [
       "<div>\n",
       "<style scoped>\n",
       "    .dataframe tbody tr th:only-of-type {\n",
       "        vertical-align: middle;\n",
       "    }\n",
       "\n",
       "    .dataframe tbody tr th {\n",
       "        vertical-align: top;\n",
       "    }\n",
       "\n",
       "    .dataframe thead th {\n",
       "        text-align: right;\n",
       "    }\n",
       "</style>\n",
       "<table border=\"1\" class=\"dataframe\">\n",
       "  <thead>\n",
       "    <tr style=\"text-align: right;\">\n",
       "      <th></th>\n",
       "      <th>Task</th>\n",
       "      <th>Best Val F1</th>\n",
       "      <th>Best Val AUC</th>\n",
       "      <th>Test F1</th>\n",
       "      <th>Test AUC</th>\n",
       "    </tr>\n",
       "  </thead>\n",
       "  <tbody>\n",
       "    <tr>\n",
       "      <th>0</th>\n",
       "      <td>Benefit BINARY</td>\n",
       "      <td>0.635987</td>\n",
       "      <td>0.617054</td>\n",
       "      <td>0.568405</td>\n",
       "      <td>0.564700</td>\n",
       "    </tr>\n",
       "    <tr>\n",
       "      <th>1</th>\n",
       "      <td>Nivo Benefit BINARY</td>\n",
       "      <td>0.581743</td>\n",
       "      <td>0.552469</td>\n",
       "      <td>0.536221</td>\n",
       "      <td>0.681538</td>\n",
       "    </tr>\n",
       "    <tr>\n",
       "      <th>2</th>\n",
       "      <td>MSKCC BINARY</td>\n",
       "      <td>0.798306</td>\n",
       "      <td>0.859788</td>\n",
       "      <td>0.864770</td>\n",
       "      <td>0.917833</td>\n",
       "    </tr>\n",
       "    <tr>\n",
       "      <th>3</th>\n",
       "      <td>IMDC BINARY</td>\n",
       "      <td>0.869978</td>\n",
       "      <td>0.904429</td>\n",
       "      <td>0.808088</td>\n",
       "      <td>0.898977</td>\n",
       "    </tr>\n",
       "    <tr>\n",
       "      <th>4</th>\n",
       "      <td>Benefit ORDINAL</td>\n",
       "      <td>0.437934</td>\n",
       "      <td>0.574582</td>\n",
       "      <td>0.401520</td>\n",
       "      <td>0.560666</td>\n",
       "    </tr>\n",
       "    <tr>\n",
       "      <th>5</th>\n",
       "      <td>MSKCC ORDINAL</td>\n",
       "      <td>0.654688</td>\n",
       "      <td>0.794837</td>\n",
       "      <td>0.621294</td>\n",
       "      <td>0.765812</td>\n",
       "    </tr>\n",
       "    <tr>\n",
       "      <th>6</th>\n",
       "      <td>IMDC ORDINAL</td>\n",
       "      <td>0.606387</td>\n",
       "      <td>0.744794</td>\n",
       "      <td>0.582949</td>\n",
       "      <td>0.665920</td>\n",
       "    </tr>\n",
       "    <tr>\n",
       "      <th>7</th>\n",
       "      <td>ORR</td>\n",
       "      <td>0.471305</td>\n",
       "      <td>0.634932</td>\n",
       "      <td>0.361323</td>\n",
       "      <td>0.572683</td>\n",
       "    </tr>\n",
       "    <tr>\n",
       "      <th>8</th>\n",
       "      <td>Benefit</td>\n",
       "      <td>0.437934</td>\n",
       "      <td>0.574582</td>\n",
       "      <td>0.401520</td>\n",
       "      <td>0.560666</td>\n",
       "    </tr>\n",
       "    <tr>\n",
       "      <th>9</th>\n",
       "      <td>IMDC</td>\n",
       "      <td>0.579727</td>\n",
       "      <td>0.747130</td>\n",
       "      <td>0.546841</td>\n",
       "      <td>0.661997</td>\n",
       "    </tr>\n",
       "    <tr>\n",
       "      <th>10</th>\n",
       "      <td>MSKCC</td>\n",
       "      <td>0.654688</td>\n",
       "      <td>0.794837</td>\n",
       "      <td>0.621294</td>\n",
       "      <td>0.765812</td>\n",
       "    </tr>\n",
       "    <tr>\n",
       "      <th>11</th>\n",
       "      <td>Prior_2</td>\n",
       "      <td>0.681575</td>\n",
       "      <td>0.584378</td>\n",
       "      <td>0.688008</td>\n",
       "      <td>0.545013</td>\n",
       "    </tr>\n",
       "  </tbody>\n",
       "</table>\n",
       "</div>"
      ],
      "text/plain": [
       "                   Task  Best Val F1  Best Val AUC   Test F1  Test AUC\n",
       "0        Benefit BINARY     0.635987      0.617054  0.568405  0.564700\n",
       "1   Nivo Benefit BINARY     0.581743      0.552469  0.536221  0.681538\n",
       "2          MSKCC BINARY     0.798306      0.859788  0.864770  0.917833\n",
       "3           IMDC BINARY     0.869978      0.904429  0.808088  0.898977\n",
       "4       Benefit ORDINAL     0.437934      0.574582  0.401520  0.560666\n",
       "5         MSKCC ORDINAL     0.654688      0.794837  0.621294  0.765812\n",
       "6          IMDC ORDINAL     0.606387      0.744794  0.582949  0.665920\n",
       "7                   ORR     0.471305      0.634932  0.361323  0.572683\n",
       "8               Benefit     0.437934      0.574582  0.401520  0.560666\n",
       "9                  IMDC     0.579727      0.747130  0.546841  0.661997\n",
       "10                MSKCC     0.654688      0.794837  0.621294  0.765812\n",
       "11              Prior_2     0.681575      0.584378  0.688008  0.545013"
      ]
     },
     "execution_count": 13,
     "metadata": {},
     "output_type": "execute_result"
    }
   ],
   "source": [
    "\n",
    "results = []\n",
    "\n",
    "# Loop over each task\n",
    "for task in task_list_cat:\n",
    "    print(f\"Evaluating task: {task}\")\n",
    "    \n",
    "    # Call the log_reg_multi_class function and get the results\n",
    "    best_val_f1, best_val_auc, test_f1, test_auc= log_reg_multi_class(task, X_data_train, y_data_train, X_data_val, y_data_val, X_data_test, y_data_test)\n",
    "\n",
    "    # Append the results to the list\n",
    "    results.append({\n",
    "        'Task': task,\n",
    "        'Best Val F1': best_val_f1,\n",
    "        'Best Val AUC': best_val_auc,\n",
    "        'Test F1': test_f1,\n",
    "        'Test AUC': test_auc\n",
    "    })\n",
    "\n",
    "# Convert the list of results to a pandas DataFrame\n",
    "results_df = pd.DataFrame(results)\n",
    "\n",
    "\n",
    "results_df"
   ]
  },
  {
   "attachments": {},
   "cell_type": "markdown",
   "metadata": {},
   "source": [
    "## Predicting Survival task"
   ]
  },
  {
   "attachments": {},
   "cell_type": "markdown",
   "metadata": {},
   "source": [
    "### OS - L1 Cox"
   ]
  },
  {
   "cell_type": "code",
   "execution_count": 9,
   "metadata": {},
   "outputs": [
    {
     "name": "stderr",
     "output_type": "stream",
     "text": [
      "/home/leilapirhaji/mz_embed_engine/ml/finetune/latent_task_predict.py:268: ConvergenceWarning: Optimization terminated early, you might want to increase the number of iterations (max_iter=100000).\n",
      "  model.fit(X_train_clean, Y_train)\n",
      "/home/leilapirhaji/mz_embed_engine/ml/finetune/latent_task_predict.py:268: UserWarning: all coefficients are zero, consider decreasing alpha.\n",
      "  model.fit(X_train_clean, Y_train)\n",
      "/home/leilapirhaji/mz_embed_engine/ml/finetune/latent_task_predict.py:268: UserWarning: all coefficients are zero, consider decreasing alpha.\n",
      "  model.fit(X_train_clean, Y_train)\n"
     ]
    },
    {
     "data": {
      "text/plain": [
       "(0.6847947856197169, 0.6247225025227043, 0.1)"
      ]
     },
     "execution_count": 9,
     "metadata": {},
     "output_type": "execute_result"
    }
   ],
   "source": [
    "import finetune.latent_task_predict\n",
    "importlib.reload(finetune.latent_task_predict)\n",
    "from finetune.latent_task_predict import cox_proportional_hazards_l1_sksurv\n",
    "\n",
    "\n",
    "task = 'OS'\n",
    "task_event = 'OS_Event'\n",
    "\n",
    "\n",
    "#Pass the filtered data to the model\n",
    "(best_val_c_index, best_test_c_index, best_params)= cox_proportional_hazards_l1_sksurv(X_data_train, y_data_train[task], y_data_train[task_event], X_data_val, y_data_val[task], y_data_val[task_event], X_data_test, y_data_test[task], y_data_test[task_event])\n",
    "\n",
    "best_val_c_index, best_test_c_index, best_params"
   ]
  },
  {
   "attachments": {},
   "cell_type": "markdown",
   "metadata": {},
   "source": [
    "### Nivo OS - L1 COX"
   ]
  },
  {
   "cell_type": "code",
   "execution_count": 6,
   "metadata": {},
   "outputs": [
    {
     "name": "stderr",
     "output_type": "stream",
     "text": [
      "/home/leilapirhaji/mz_embed_engine/ml/finetune/latent_task_predict.py:268: ConvergenceWarning: Optimization terminated early, you might want to increase the number of iterations (max_iter=100000).\n",
      "  model.fit(X_train_clean, Y_train)\n",
      "/home/leilapirhaji/mz_embed_engine/ml/finetune/latent_task_predict.py:268: ConvergenceWarning: Optimization terminated early, you might want to increase the number of iterations (max_iter=100000).\n",
      "  model.fit(X_train_clean, Y_train)\n",
      "/home/leilapirhaji/mz_embed_engine/ml/finetune/latent_task_predict.py:268: UserWarning: all coefficients are zero, consider decreasing alpha.\n",
      "  model.fit(X_train_clean, Y_train)\n",
      "/home/leilapirhaji/mz_embed_engine/ml/finetune/latent_task_predict.py:268: UserWarning: all coefficients are zero, consider decreasing alpha.\n",
      "  model.fit(X_train_clean, Y_train)\n"
     ]
    },
    {
     "data": {
      "text/plain": [
       "(0.6293835363602805, 0.6049519586104952, 0.1)"
      ]
     },
     "execution_count": 6,
     "metadata": {},
     "output_type": "execute_result"
    }
   ],
   "source": [
    "import finetune.latent_task_predict\n",
    "importlib.reload(finetune.latent_task_predict)\n",
    "from finetune.latent_task_predict import cox_proportional_hazards_l1_sksurv\n",
    "\n",
    "\n",
    "task = 'NIVO OS'\n",
    "task_event = 'OS_Event'\n",
    "\n",
    "\n",
    "#Pass the filtered data to the model\n",
    "(best_val_c_index, best_test_c_index, best_params)= cox_proportional_hazards_l1_sksurv(X_data_train, y_data_train[task], y_data_train[task_event], X_data_val, y_data_val[task], y_data_val[task_event], X_data_test, y_data_test[task], y_data_test[task_event])\n",
    "\n",
    "best_val_c_index, best_test_c_index, best_params"
   ]
  },
  {
   "attachments": {},
   "cell_type": "markdown",
   "metadata": {},
   "source": [
    "###  Evero OS - L1 COX"
   ]
  },
  {
   "cell_type": "code",
   "execution_count": 7,
   "metadata": {},
   "outputs": [
    {
     "name": "stderr",
     "output_type": "stream",
     "text": [
      "/home/leilapirhaji/mz_embed_engine/ml/finetune/latent_task_predict.py:268: ConvergenceWarning: Optimization terminated early, you might want to increase the number of iterations (max_iter=100000).\n",
      "  model.fit(X_train_clean, Y_train)\n",
      "/home/leilapirhaji/mz_embed_engine/ml/finetune/latent_task_predict.py:268: ConvergenceWarning: Optimization terminated early, you might want to increase the number of iterations (max_iter=100000).\n",
      "  model.fit(X_train_clean, Y_train)\n",
      "/home/leilapirhaji/mz_embed_engine/ml/finetune/latent_task_predict.py:268: UserWarning: all coefficients are zero, consider decreasing alpha.\n",
      "  model.fit(X_train_clean, Y_train)\n",
      "/home/leilapirhaji/mz_embed_engine/ml/finetune/latent_task_predict.py:268: UserWarning: all coefficients are zero, consider decreasing alpha.\n",
      "  model.fit(X_train_clean, Y_train)\n"
     ]
    },
    {
     "data": {
      "text/plain": [
       "(0.7063419117647058, 0.6736794986571173, 0.1)"
      ]
     },
     "execution_count": 7,
     "metadata": {},
     "output_type": "execute_result"
    }
   ],
   "source": [
    "import finetune.latent_task_predict\n",
    "importlib.reload(finetune.latent_task_predict)\n",
    "from finetune.latent_task_predict import cox_proportional_hazards_l1_sksurv\n",
    "\n",
    "\n",
    "task = 'EVER OS'\n",
    "task_event = 'OS_Event'\n",
    "\n",
    "\n",
    "#Pass the filtered data to the model\n",
    "(best_val_c_index, best_test_c_index, best_params)= cox_proportional_hazards_l1_sksurv(X_data_train, y_data_train[task], y_data_train[task_event], X_data_val, y_data_val[task], y_data_val[task_event], X_data_test, y_data_test[task], y_data_test[task_event])\n",
    "\n",
    "best_val_c_index, best_test_c_index, best_params"
   ]
  },
  {
   "attachments": {},
   "cell_type": "markdown",
   "metadata": {},
   "source": [
    "### PFS - L1 COx "
   ]
  },
  {
   "cell_type": "code",
   "execution_count": 8,
   "metadata": {},
   "outputs": [
    {
     "name": "stderr",
     "output_type": "stream",
     "text": [
      "/home/leilapirhaji/mz_embed_engine/ml/finetune/latent_task_predict.py:268: ConvergenceWarning: Optimization terminated early, you might want to increase the number of iterations (max_iter=100000).\n",
      "  model.fit(X_train_clean, Y_train)\n",
      "/home/leilapirhaji/mz_embed_engine/ml/finetune/latent_task_predict.py:268: UserWarning: all coefficients are zero, consider decreasing alpha.\n",
      "  model.fit(X_train_clean, Y_train)\n",
      "/home/leilapirhaji/mz_embed_engine/ml/finetune/latent_task_predict.py:268: UserWarning: all coefficients are zero, consider decreasing alpha.\n",
      "  model.fit(X_train_clean, Y_train)\n"
     ]
    },
    {
     "data": {
      "text/plain": [
       "(0.5668301001918568, 0.5432960893854749, 0.1)"
      ]
     },
     "execution_count": 8,
     "metadata": {},
     "output_type": "execute_result"
    }
   ],
   "source": [
    "import finetune.latent_task_predict\n",
    "importlib.reload(finetune.latent_task_predict)\n",
    "from finetune.latent_task_predict import cox_proportional_hazards_l1_sksurv\n",
    "\n",
    "task = 'PFS'\n",
    "task_event = 'PFS_Event'\n",
    "\n",
    "#Pass the filtered data to the model\n",
    "(best_val_c_index, best_test_c_index, best_params)= cox_proportional_hazards_l1_sksurv(X_data_train, y_data_train[task], y_data_train[task_event], X_data_val, y_data_val[task], y_data_val[task_event], X_data_test, y_data_test[task], y_data_test[task_event])\n",
    "\n",
    "best_val_c_index, best_test_c_index, best_params"
   ]
  },
  {
   "attachments": {},
   "cell_type": "markdown",
   "metadata": {},
   "source": [
    "# Fine-tune New splits"
   ]
  },
  {
   "attachments": {},
   "cell_type": "markdown",
   "metadata": {},
   "source": [
    "## importing the data"
   ]
  },
  {
   "cell_type": "code",
   "execution_count": 14,
   "metadata": {},
   "outputs": [
    {
     "data": {
      "text/plain": [
       "((443, 2736), (443, 58), (149, 2736), (149, 58), (149, 2736), (149, 58))"
      ]
     },
     "execution_count": 14,
     "metadata": {},
     "output_type": "execute_result"
    }
   ],
   "source": [
    "\n",
    "#input data\n",
    "input_data_location='/home/leilapirhaji/PROCESSED_DATA_S_8.1.1'\n",
    "\n",
    "\n",
    "#tasks to predict using encoder\n",
    "task_list_cat=['Benefit BINARY', 'Nivo Benefit BINARY', 'MSKCC BINARY', 'IMDC BINARY', 'Benefit ORDINAL', 'MSKCC ORDINAL', 'IMDC ORDINAL', 'ORR', 'Benefit', 'IMDC', 'MSKCC', 'Prior_2' ]\n",
    "\n",
    "#survival tasks\n",
    "task_list_survival=[ 'OS', 'OS_Event', 'PFS', 'PFS_Event' ]\n",
    "\n",
    "\n",
    "#get fine-tuning input data \n",
    "(X_data_train, y_data_train, X_data_val, y_data_val, X_data_test, y_data_test)=get_finetune_input_data(input_data_location)\n",
    "\n",
    "X_data_train.shape, y_data_train.shape, X_data_val.shape, y_data_val.shape, X_data_test.shape, y_data_test.shape"
   ]
  },
  {
   "attachments": {},
   "cell_type": "markdown",
   "metadata": {},
   "source": [
    "## predicticting categorical tasks"
   ]
  },
  {
   "cell_type": "code",
   "execution_count": 15,
   "metadata": {},
   "outputs": [
    {
     "name": "stdout",
     "output_type": "stream",
     "text": [
      "Evaluating task: Benefit BINARY\n",
      "Test Accuracy with best model: 0.6049\n",
      "Test AUC with best model: 0.6280\n",
      "Test F1 Score with best model: 0.6049\n",
      "Evaluating task: Nivo Benefit BINARY\n",
      "Test Accuracy with best model: 0.5625\n",
      "Test AUC with best model: 0.6383\n",
      "Test F1 Score with best model: 0.5558\n",
      "Evaluating task: MSKCC BINARY\n",
      "Test Accuracy with best model: 0.8395\n",
      "Test AUC with best model: 0.8868\n",
      "Test F1 Score with best model: 0.8349\n",
      "Evaluating task: IMDC BINARY\n",
      "Test Accuracy with best model: 0.8627\n",
      "Test AUC with best model: 0.9373\n",
      "Test F1 Score with best model: 0.8631\n",
      "Evaluating task: Benefit ORDINAL\n",
      "Test Accuracy with best model: 0.4027\n",
      "Test AUC with best model: 0.5504\n",
      "Test F1 Score with best model: 0.4045\n",
      "Evaluating task: MSKCC ORDINAL\n",
      "Test Accuracy with best model: 0.6040\n",
      "Test AUC with best model: 0.7530\n",
      "Test F1 Score with best model: 0.6000\n",
      "Evaluating task: IMDC ORDINAL\n",
      "Test Accuracy with best model: 0.6528\n",
      "Test AUC with best model: 0.6554\n",
      "Test F1 Score with best model: 0.6111\n",
      "Evaluating task: ORR\n",
      "Test Accuracy with best model: 0.4765\n",
      "Test AUC with best model: 0.5610\n",
      "Test F1 Score with best model: 0.4216\n",
      "Evaluating task: Benefit\n",
      "Test Accuracy with best model: 0.4027\n",
      "Test AUC with best model: 0.5504\n",
      "Test F1 Score with best model: 0.4045\n",
      "Evaluating task: IMDC\n",
      "Test Accuracy with best model: 0.6242\n",
      "Test AUC with best model: 0.6468\n",
      "Test F1 Score with best model: 0.5740\n",
      "Evaluating task: MSKCC\n",
      "Test Accuracy with best model: 0.6040\n",
      "Test AUC with best model: 0.7530\n",
      "Test F1 Score with best model: 0.6000\n",
      "Evaluating task: Prior_2\n",
      "Test Accuracy with best model: 0.7718\n",
      "Test AUC with best model: 0.5752\n",
      "Test F1 Score with best model: 0.6898\n"
     ]
    },
    {
     "data": {
      "text/html": [
       "<div>\n",
       "<style scoped>\n",
       "    .dataframe tbody tr th:only-of-type {\n",
       "        vertical-align: middle;\n",
       "    }\n",
       "\n",
       "    .dataframe tbody tr th {\n",
       "        vertical-align: top;\n",
       "    }\n",
       "\n",
       "    .dataframe thead th {\n",
       "        text-align: right;\n",
       "    }\n",
       "</style>\n",
       "<table border=\"1\" class=\"dataframe\">\n",
       "  <thead>\n",
       "    <tr style=\"text-align: right;\">\n",
       "      <th></th>\n",
       "      <th>Task</th>\n",
       "      <th>Best Val F1</th>\n",
       "      <th>Best Val AUC</th>\n",
       "      <th>Test F1</th>\n",
       "      <th>Test AUC</th>\n",
       "    </tr>\n",
       "  </thead>\n",
       "  <tbody>\n",
       "    <tr>\n",
       "      <th>0</th>\n",
       "      <td>Benefit BINARY</td>\n",
       "      <td>0.646289</td>\n",
       "      <td>0.669839</td>\n",
       "      <td>0.604938</td>\n",
       "      <td>0.628049</td>\n",
       "    </tr>\n",
       "    <tr>\n",
       "      <th>1</th>\n",
       "      <td>Nivo Benefit BINARY</td>\n",
       "      <td>0.536817</td>\n",
       "      <td>0.560000</td>\n",
       "      <td>0.555781</td>\n",
       "      <td>0.638261</td>\n",
       "    </tr>\n",
       "    <tr>\n",
       "      <th>2</th>\n",
       "      <td>MSKCC BINARY</td>\n",
       "      <td>0.870175</td>\n",
       "      <td>0.903704</td>\n",
       "      <td>0.834868</td>\n",
       "      <td>0.886831</td>\n",
       "    </tr>\n",
       "    <tr>\n",
       "      <th>3</th>\n",
       "      <td>IMDC BINARY</td>\n",
       "      <td>0.811321</td>\n",
       "      <td>0.868116</td>\n",
       "      <td>0.863066</td>\n",
       "      <td>0.937304</td>\n",
       "    </tr>\n",
       "    <tr>\n",
       "      <th>4</th>\n",
       "      <td>Benefit ORDINAL</td>\n",
       "      <td>0.429102</td>\n",
       "      <td>0.599409</td>\n",
       "      <td>0.404461</td>\n",
       "      <td>0.550445</td>\n",
       "    </tr>\n",
       "    <tr>\n",
       "      <th>5</th>\n",
       "      <td>MSKCC ORDINAL</td>\n",
       "      <td>0.622295</td>\n",
       "      <td>0.759465</td>\n",
       "      <td>0.600048</td>\n",
       "      <td>0.752987</td>\n",
       "    </tr>\n",
       "    <tr>\n",
       "      <th>6</th>\n",
       "      <td>IMDC ORDINAL</td>\n",
       "      <td>0.602091</td>\n",
       "      <td>0.694690</td>\n",
       "      <td>0.611054</td>\n",
       "      <td>0.655426</td>\n",
       "    </tr>\n",
       "    <tr>\n",
       "      <th>7</th>\n",
       "      <td>ORR</td>\n",
       "      <td>0.366766</td>\n",
       "      <td>0.605667</td>\n",
       "      <td>0.421550</td>\n",
       "      <td>0.561036</td>\n",
       "    </tr>\n",
       "    <tr>\n",
       "      <th>8</th>\n",
       "      <td>Benefit</td>\n",
       "      <td>0.429102</td>\n",
       "      <td>0.599409</td>\n",
       "      <td>0.404461</td>\n",
       "      <td>0.550445</td>\n",
       "    </tr>\n",
       "    <tr>\n",
       "      <th>9</th>\n",
       "      <td>IMDC</td>\n",
       "      <td>0.567700</td>\n",
       "      <td>0.708432</td>\n",
       "      <td>0.574011</td>\n",
       "      <td>0.646846</td>\n",
       "    </tr>\n",
       "    <tr>\n",
       "      <th>10</th>\n",
       "      <td>MSKCC</td>\n",
       "      <td>0.622295</td>\n",
       "      <td>0.759465</td>\n",
       "      <td>0.600048</td>\n",
       "      <td>0.752987</td>\n",
       "    </tr>\n",
       "    <tr>\n",
       "      <th>11</th>\n",
       "      <td>Prior_2</td>\n",
       "      <td>0.689798</td>\n",
       "      <td>0.437043</td>\n",
       "      <td>0.689775</td>\n",
       "      <td>0.575188</td>\n",
       "    </tr>\n",
       "  </tbody>\n",
       "</table>\n",
       "</div>"
      ],
      "text/plain": [
       "                   Task  Best Val F1  Best Val AUC   Test F1  Test AUC\n",
       "0        Benefit BINARY     0.646289      0.669839  0.604938  0.628049\n",
       "1   Nivo Benefit BINARY     0.536817      0.560000  0.555781  0.638261\n",
       "2          MSKCC BINARY     0.870175      0.903704  0.834868  0.886831\n",
       "3           IMDC BINARY     0.811321      0.868116  0.863066  0.937304\n",
       "4       Benefit ORDINAL     0.429102      0.599409  0.404461  0.550445\n",
       "5         MSKCC ORDINAL     0.622295      0.759465  0.600048  0.752987\n",
       "6          IMDC ORDINAL     0.602091      0.694690  0.611054  0.655426\n",
       "7                   ORR     0.366766      0.605667  0.421550  0.561036\n",
       "8               Benefit     0.429102      0.599409  0.404461  0.550445\n",
       "9                  IMDC     0.567700      0.708432  0.574011  0.646846\n",
       "10                MSKCC     0.622295      0.759465  0.600048  0.752987\n",
       "11              Prior_2     0.689798      0.437043  0.689775  0.575188"
      ]
     },
     "execution_count": 15,
     "metadata": {},
     "output_type": "execute_result"
    }
   ],
   "source": [
    "results = []\n",
    "\n",
    "# Loop over each task\n",
    "for task in task_list_cat:\n",
    "    print(f\"Evaluating task: {task}\")\n",
    "    \n",
    "    # Call the log_reg_multi_class function and get the results\n",
    "    best_val_f1, best_val_auc, test_f1, test_auc= log_reg_multi_class(task, X_data_train, y_data_train, X_data_val, y_data_val, X_data_test, y_data_test)\n",
    "\n",
    "    # Append the results to the list\n",
    "    results.append({\n",
    "        'Task': task,\n",
    "        'Best Val F1': best_val_f1,\n",
    "        'Best Val AUC': best_val_auc,\n",
    "        'Test F1': test_f1,\n",
    "        'Test AUC': test_auc\n",
    "    })\n",
    "\n",
    "# Convert the list of results to a pandas DataFrame\n",
    "results_df = pd.DataFrame(results)\n",
    "\n",
    "\n",
    "results_df"
   ]
  },
  {
   "attachments": {},
   "cell_type": "markdown",
   "metadata": {},
   "source": [
    "## Perdicting Survival Tasks"
   ]
  },
  {
   "attachments": {},
   "cell_type": "markdown",
   "metadata": {},
   "source": [
    "### OS -L1 Cox"
   ]
  },
  {
   "cell_type": "code",
   "execution_count": null,
   "metadata": {},
   "outputs": [],
   "source": [
    "import finetune.latent_task_predict\n",
    "importlib.reload(finetune.latent_task_predict)\n",
    "from finetune.latent_task_predict import cox_proportional_hazards_l1_sksurv\n",
    "\n",
    "\n",
    "task = 'OS'\n",
    "task_event = 'OS_Event'\n",
    "\n",
    "\n",
    "#Pass the filtered data to the model\n",
    "(best_val_c_index, best_test_c_index, best_params)= cox_proportional_hazards_l1_sksurv(X_data_train, y_data_train[task], y_data_train[task_event], X_data_val, y_data_val[task], y_data_val[task_event], X_data_test, y_data_test[task], y_data_test[task_event])\n",
    "\n",
    "best_val_c_index, best_test_c_index, best_params"
   ]
  },
  {
   "attachments": {},
   "cell_type": "markdown",
   "metadata": {},
   "source": [
    "### Nivo OS - L1 Cox"
   ]
  },
  {
   "cell_type": "code",
   "execution_count": null,
   "metadata": {},
   "outputs": [],
   "source": [
    "import finetune.latent_task_predict\n",
    "importlib.reload(finetune.latent_task_predict)\n",
    "from finetune.latent_task_predict import cox_proportional_hazards_l1_sksurv\n",
    "\n",
    "\n",
    "task = 'NIVO OS'\n",
    "task_event = 'OS_Event'\n",
    "\n",
    "\n",
    "#Pass the filtered data to the model\n",
    "(best_val_c_index, best_test_c_index, best_params)= cox_proportional_hazards_l1_sksurv(X_data_train, y_data_train[task], y_data_train[task_event], X_data_val, y_data_val[task], y_data_val[task_event], X_data_test, y_data_test[task], y_data_test[task_event])\n",
    "\n",
    "best_val_c_index, best_test_c_index, best_params"
   ]
  },
  {
   "attachments": {},
   "cell_type": "markdown",
   "metadata": {},
   "source": [
    "### Ever OS - L1 COx"
   ]
  },
  {
   "cell_type": "code",
   "execution_count": null,
   "metadata": {},
   "outputs": [],
   "source": [
    "import finetune.latent_task_predict\n",
    "importlib.reload(finetune.latent_task_predict)\n",
    "from finetune.latent_task_predict import cox_proportional_hazards_l1_sksurv\n",
    "\n",
    "\n",
    "task = 'EVER OS'\n",
    "task_event = 'OS_Event'\n",
    "\n",
    "\n",
    "#Pass the filtered data to the model\n",
    "(best_val_c_index, best_test_c_index, best_params)= cox_proportional_hazards_l1_sksurv(X_data_train, y_data_train[task], y_data_train[task_event], X_data_val, y_data_val[task], y_data_val[task_event], X_data_test, y_data_test[task], y_data_test[task_event])\n",
    "\n",
    "best_val_c_index, best_test_c_index, best_params"
   ]
  }
 ],
 "metadata": {
  "kernelspec": {
   "display_name": "Python 3",
   "language": "python",
   "name": "python3"
  },
  "language_info": {
   "codemirror_mode": {
    "name": "ipython",
    "version": 3
   },
   "file_extension": ".py",
   "mimetype": "text/x-python",
   "name": "python",
   "nbconvert_exporter": "python",
   "pygments_lexer": "ipython3",
   "version": "3.10.14"
  },
  "orig_nbformat": 4
 },
 "nbformat": 4,
 "nbformat_minor": 2
}
