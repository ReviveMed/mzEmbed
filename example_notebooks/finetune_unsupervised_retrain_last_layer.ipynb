{
 "cells": [
  {
   "attachments": {},
   "cell_type": "markdown",
   "metadata": {},
   "source": [
    "# Unsupervised VAE analysis & further retraining the last layer"
   ]
  },
  {
   "cell_type": "code",
   "execution_count": 1,
   "metadata": {},
   "outputs": [
    {
     "name": "stderr",
     "output_type": "stream",
     "text": [
      "[neptune] [warning] NeptuneDeprecationWarning: You're importing the Neptune client library via the deprecated `neptune.new` module, which will be removed in a future release. Import directly from `neptune` instead.\n",
      "2024-10-02 21:38:55.247002: E external/local_xla/xla/stream_executor/cuda/cuda_fft.cc:485] Unable to register cuFFT factory: Attempting to register factory for plugin cuFFT when one has already been registered\n",
      "2024-10-02 21:38:55.269579: E external/local_xla/xla/stream_executor/cuda/cuda_dnn.cc:8454] Unable to register cuDNN factory: Attempting to register factory for plugin cuDNN when one has already been registered\n",
      "2024-10-02 21:38:55.276383: E external/local_xla/xla/stream_executor/cuda/cuda_blas.cc:1452] Unable to register cuBLAS factory: Attempting to register factory for plugin cuBLAS when one has already been registered\n",
      "2024-10-02 21:38:55.293724: I tensorflow/core/platform/cpu_feature_guard.cc:210] This TensorFlow binary is optimized to use available CPU instructions in performance-critical operations.\n",
      "To enable the following instructions: AVX2 FMA, in other operations, rebuild TensorFlow with the appropriate compiler flags.\n"
     ]
    },
    {
     "name": "stdout",
     "output_type": "stream",
     "text": [
      "DataLoader\t LabelEncoder\t PretrainVAE\t TensorDataset\t VAE\t accuracy_score\t f1_score\t get_finetune_input_data\t imaplib\t \n",
      "importlib\t label_encoder\t ml_code_path\t nn\t np\t optim\t optuna\t os\t pd\t \n",
      "precision_score\t random\t recall_score\t roc_auc_score\t torch\t \n"
     ]
    }
   ],
   "source": [
    "import os\n",
    "ml_code_path='/home/leilapirhaji/mz_embed_engine/ml'\n",
    "os.chdir(ml_code_path)\n",
    "\n",
    "import pandas as pd\n",
    "import importlib\n",
    "from sklearn.preprocessing import LabelEncoder\n",
    "label_encoder = LabelEncoder()\n",
    "import optuna\n",
    "import imaplib\n",
    "\n",
    "\n",
    "import torch\n",
    "import torch.nn as nn\n",
    "import torch.optim as optim\n",
    "from torch.utils.data import TensorDataset, DataLoader\n",
    "import pandas as pd\n",
    "import numpy as np\n",
    "import random\n",
    "from sklearn.metrics import precision_score, recall_score, f1_score, roc_auc_score, accuracy_score\n",
    "\n",
    "\n",
    "#importing fundtion to get encoder info and perfrom tasks \n",
    "from finetune.get_finetune_encoder import  get_finetune_input_data\n",
    "\n",
    "from models.models_VAE import VAE\n",
    "from pretrain.train_pretrain_VAE import PretrainVAE\n",
    "\n",
    "%who\n",
    "\n"
   ]
  },
  {
   "attachments": {},
   "cell_type": "markdown",
   "metadata": {},
   "source": [
    "## Evaluating unsupervised models"
   ]
  },
  {
   "attachments": {},
   "cell_type": "markdown",
   "metadata": {},
   "source": [
    "#### getting the input data"
   ]
  },
  {
   "cell_type": "code",
   "execution_count": 2,
   "metadata": {},
   "outputs": [
    {
     "data": {
      "text/plain": [
       "((443, 2736), (443, 58), (149, 2736), (149, 58))"
      ]
     },
     "execution_count": 2,
     "metadata": {},
     "output_type": "execute_result"
    }
   ],
   "source": [
    "#input data\n",
    "input_data_location='/home/leilapirhaji/PROCESSED_DATA_finetune_OG_split'\n",
    "\n",
    "finetune_save_dir='/home/leilapirhaji/finetune_unsupervised_VAE'\n",
    "pretrain_name='pretrain_VAE_L_400_425_e_400_p_25_s_8.1.1'\n",
    "pretrain_trial_list=[143]\n",
    "pretrain_trial_id=pretrain_trial_list[0]\n",
    "\n",
    "#tasks to predict using encoder\n",
    "task_list_cat=['Benefit BINARY', 'Nivo Benefit BINARY', 'MSKCC BINARY', 'IMDC BINARY', 'Benefit ORDINAL', 'MSKCC ORDINAL', 'IMDC ORDINAL', 'ORR', 'Benefit', 'IMDC', 'MSKCC', 'Prior_2' ]\n",
    "\n",
    "#survival tasks\n",
    "task_list_survival=[ 'OS', 'NIVO OS', 'EVER OS', 'PFS']\n",
    "\n",
    "\n",
    "#get fine-tuning input data \n",
    "(X_data_train, y_data_train, X_data_val, y_data_val, X_data_test, y_data_test)=get_finetune_input_data(input_data_location)\n",
    "\n",
    "X_data_train.shape, y_data_train.shape, X_data_val.shape, y_data_val.shape, "
   ]
  },
  {
   "attachments": {},
   "cell_type": "markdown",
   "metadata": {},
   "source": [
    "### loading the fine-tune VAE models w/wo transfer leanrning"
   ]
  },
  {
   "cell_type": "code",
   "execution_count": 3,
   "metadata": {},
   "outputs": [
    {
     "name": "stderr",
     "output_type": "stream",
     "text": [
      "/home/leilapirhaji/mz_embed_engine/ml/finetune/retrain_finetune_VAE.py:44: FutureWarning: You are using `torch.load` with `weights_only=False` (the current default value), which uses the default pickle module implicitly. It is possible to construct malicious pickle data which will execute arbitrary code during unpickling (See https://github.com/pytorch/pytorch/blob/main/SECURITY.md#untrusted-models for more details). In a future release, the default value for `weights_only` will be flipped to `True`. This limits the functions that could be executed during unpickling. Arbitrary objects will no longer be allowed to be loaded via this mode unless they are explicitly allowlisted by the user via `torch.serialization.add_safe_globals`. We recommend you start setting `weights_only=True` for any use case where you don't have full control of the loaded file. Please open an issue on GitHub for any issues related to this experimental feature.\n",
      "  finetune_VAE_TL=torch.load(finetune_VAE_TL_file)\n",
      "/home/leilapirhaji/mz_embed_engine/ml/finetune/retrain_finetune_VAE.py:47: FutureWarning: You are using `torch.load` with `weights_only=False` (the current default value), which uses the default pickle module implicitly. It is possible to construct malicious pickle data which will execute arbitrary code during unpickling (See https://github.com/pytorch/pytorch/blob/main/SECURITY.md#untrusted-models for more details). In a future release, the default value for `weights_only` will be flipped to `True`. This limits the functions that could be executed during unpickling. Arbitrary objects will no longer be allowed to be loaded via this mode unless they are explicitly allowlisted by the user via `torch.serialization.add_safe_globals`. We recommend you start setting `weights_only=True` for any use case where you don't have full control of the loaded file. Please open an issue on GitHub for any issues related to this experimental feature.\n",
      "  finetune_VAE_noTL=torch.load(finetune_VAE_noTL_file)\n"
     ]
    },
    {
     "data": {
      "text/plain": [
       "(425, 2, 425, 2)"
      ]
     },
     "execution_count": 3,
     "metadata": {},
     "output_type": "execute_result"
    }
   ],
   "source": [
    "from finetune.retrain_finetune_VAE import get_finetune_VAE_TL_noTL\n",
    "\n",
    "#first getting A list of pretrained models and their associated fine-tune \n",
    "\n",
    "(finetune_VAE_TL_OG, finetune_VAE_noTL_OG)=get_finetune_VAE_TL_noTL(finetune_save_dir, pretrain_name, pretrain_trial_id)\n",
    "\n",
    "finetune_VAE_TL_OG.latent_size, finetune_VAE_TL_OG.num_hidden_layers, finetune_VAE_noTL_OG.latent_size, finetune_VAE_noTL_OG.num_hidden_layers"
   ]
  },
  {
   "attachments": {},
   "cell_type": "markdown",
   "metadata": {},
   "source": [
    "## Visualizing the latent space"
   ]
  },
  {
   "cell_type": "code",
   "execution_count": null,
   "metadata": {},
   "outputs": [],
   "source": [
    "import matplotlib.pyplot as plt\n",
    "import finetune.eval_finetune_latent_unsupervised_main\n",
    "\n",
    "importlib.reload(finetune.eval_finetune_latent_unsupervised_main)\n",
    "from finetune.eval_finetune_latent_unsupervised_main import visualize_latent_space_multiple_tasks\n",
    "\n",
    "models_path=f'{finetune_save_dir}/{pretrain_name}/trial_{pretrain_trial_id}'\n",
    "\n",
    "result_png_file_TL= f'{models_path}/unsupervised_finetune_VAE_TL_latent_space.png'\n",
    "\n",
    "visualize_latent_space_multiple_tasks(finetune_VAE_TL_OG, X_data_train, y_data_train, X_data_val, y_data_val, X_data_test, y_data_test, result_png_file_TL)"
   ]
  },
  {
   "cell_type": "code",
   "execution_count": null,
   "metadata": {},
   "outputs": [],
   "source": [
    "result_png_file_TL= f'{models_path}/unsupervised_finetune_VAE_noTL_latent_space.png'\n",
    "\n",
    "visualize_latent_space_multiple_tasks(finetune_VAE_noTL_OG, X_data_train, y_data_train, X_data_val, y_data_val, X_data_test, y_data_test, result_png_file_TL)"
   ]
  },
  {
   "attachments": {},
   "cell_type": "markdown",
   "metadata": {},
   "source": [
    "## Perdciting classification tasks from latnet space"
   ]
  },
  {
   "cell_type": "code",
   "execution_count": 70,
   "metadata": {},
   "outputs": [
    {
     "name": "stdout",
     "output_type": "stream",
     "text": [
      "Test Accuracy with best model: 0.8095\n",
      "Test AUC with best model: 0.9014\n"
     ]
    },
    {
     "data": {
      "text/plain": [
       "(0.8292682926829268,\n",
       " 0.8472222222222222,\n",
       " 0.8095238095238095,\n",
       " 0.9013998782714546)"
      ]
     },
     "execution_count": 70,
     "metadata": {},
     "output_type": "execute_result"
    }
   ],
   "source": [
    "#tasks to predict using encoder\n",
    "task_list_cat=['Benefit BINARY', 'Nivo Benefit BINARY', 'MSKCC BINARY', 'IMDC BINARY', 'Benefit ORDINAL', 'MSKCC ORDINAL', 'IMDC ORDINAL', 'ORR', 'Benefit', 'IMDC', 'MSKCC', 'Prior_2' ]\n",
    "\n",
    "task= 'MSKCC BINARY'\n",
    "\n",
    "\n",
    "import finetune.eval_finetune_latent_unsupervised_main\n",
    "\n",
    "importlib.reload(finetune.eval_finetune_latent_unsupervised_main)\n",
    "from finetune.eval_finetune_latent_unsupervised_main import predict_task_from_latent_avg\n",
    "\n",
    "\n",
    "\n",
    "best_val_accuracy, best_val_auc, test_accuracy, test_auc= predict_task_from_latent_avg (finetune_VAE_TL_OG, task, X_data_train, y_data_train, X_data_val, y_data_val, X_data_test,y_data_test, batch_size=64, num_times=10)\n",
    "\n",
    "best_val_accuracy, best_val_auc, test_accuracy, test_auc"
   ]
  },
  {
   "cell_type": "code",
   "execution_count": 71,
   "metadata": {},
   "outputs": [
    {
     "name": "stdout",
     "output_type": "stream",
     "text": [
      "Test Accuracy with best model: 0.7857\n",
      "Test AUC with best model: 0.8807\n"
     ]
    },
    {
     "data": {
      "text/plain": [
       "(0.7857142857142857, 0.8807060255629946)"
      ]
     },
     "execution_count": 71,
     "metadata": {},
     "output_type": "execute_result"
    }
   ],
   "source": [
    "best_val_accuracy, best_val_auc, test_accuracy, test_auc= predict_task_from_latent_avg (finetune_VAE_noTL_OG, task, X_data_train, y_data_train, X_data_val, y_data_val, X_data_test,y_data_test, batch_size=64, num_times=10)\n",
    "\n",
    "test_accuracy, test_auc"
   ]
  },
  {
   "attachments": {},
   "cell_type": "markdown",
   "metadata": {},
   "source": [
    "## Predicting Survival from latnent avergae"
   ]
  },
  {
   "attachments": {},
   "cell_type": "markdown",
   "metadata": {},
   "source": [
    "### OS prediction"
   ]
  },
  {
   "cell_type": "code",
   "execution_count": 72,
   "metadata": {},
   "outputs": [
    {
     "name": "stderr",
     "output_type": "stream",
     "text": [
      "/home/leilapirhaji/mz_embed_engine/ml/finetune/latent_task_predict.py:268: UserWarning: all coefficients are zero, consider decreasing alpha.\n",
      "  model.fit(X_train_clean, Y_train)\n",
      "/home/leilapirhaji/mz_embed_engine/ml/finetune/latent_task_predict.py:268: UserWarning: all coefficients are zero, consider decreasing alpha.\n",
      "  model.fit(X_train_clean, Y_train)\n"
     ]
    },
    {
     "data": {
      "text/plain": [
       "(0.6933306263323521, 0.6581597049147643, 0.01)"
      ]
     },
     "execution_count": 72,
     "metadata": {},
     "output_type": "execute_result"
    }
   ],
   "source": [
    "import finetune.eval_finetune_latent_unsupervised_main\n",
    "importlib.reload(finetune.eval_finetune_latent_unsupervised_main)\n",
    "from finetune.eval_finetune_latent_unsupervised_main import predict_survival_from_latent_avg\n",
    "\n",
    "\n",
    "task= 'OS'\n",
    "task_event='OS_Event'\n",
    "\n",
    "best_val_c_index, best_test_c_index, best_params= predict_survival_from_latent_avg (finetune_VAE_TL_OG, task, task_event, X_data_train, y_data_train, X_data_val, y_data_val, X_data_test,y_data_test, batch_size=64, num_times=10)\n",
    "\n",
    "best_val_c_index, best_test_c_index, best_params"
   ]
  },
  {
   "cell_type": "code",
   "execution_count": 73,
   "metadata": {},
   "outputs": [
    {
     "name": "stderr",
     "output_type": "stream",
     "text": [
      "/home/leilapirhaji/mz_embed_engine/ml/finetune/latent_task_predict.py:268: UserWarning: all coefficients are zero, consider decreasing alpha.\n",
      "  model.fit(X_train_clean, Y_train)\n",
      "/home/leilapirhaji/mz_embed_engine/ml/finetune/latent_task_predict.py:268: UserWarning: all coefficients are zero, consider decreasing alpha.\n",
      "  model.fit(X_train_clean, Y_train)\n",
      "/home/leilapirhaji/mz_embed_engine/ml/finetune/latent_task_predict.py:268: UserWarning: all coefficients are zero, consider decreasing alpha.\n",
      "  model.fit(X_train_clean, Y_train)\n"
     ]
    },
    {
     "data": {
      "text/plain": [
       "(0.7028728047913917, 0.6478915362376633, 0.01)"
      ]
     },
     "execution_count": 73,
     "metadata": {},
     "output_type": "execute_result"
    }
   ],
   "source": [
    "best_val_c_index, best_test_c_index, best_params= predict_survival_from_latent_avg (finetune_VAE_noTL_OG, task, task_event, X_data_train, y_data_train, X_data_val, y_data_val, X_data_test,y_data_test, batch_size=64, num_times=10)\n",
    "\n",
    "best_val_c_index, best_test_c_index, best_params"
   ]
  },
  {
   "attachments": {},
   "cell_type": "markdown",
   "metadata": {},
   "source": [
    "# Re-training the last layer of unsupervised VAE models"
   ]
  },
  {
   "attachments": {},
   "cell_type": "markdown",
   "metadata": {},
   "source": [
    "## grid search par opt"
   ]
  },
  {
   "cell_type": "code",
   "execution_count": null,
   "metadata": {
    "vscode": {
     "languageId": "shellscript"
    }
   },
   "outputs": [],
   "source": [
    "!cd /home/leilapirhaji/mz_embed_engine/ml/\n",
    "\n",
    "# Define common variables\n",
    "INPUT_DATA_LOCATION=\"/home/leilapirhaji/PROCESSED_DATA_finetune_OG_split\"\n",
    "FINETUNE_SAVE_DIR=\"/home/leilapirhaji/finetune_unsupervised_VAE\"\n",
    "\n",
    "pretrain_model_name='pretrain_VAE_L_400_425_e_400_p_25_s_8.1.1'\n",
    "pretrain_trial_ID='143'\n",
    "TASK_EVENT='OS_Event'\n",
    "\n",
    "# TASK=\"EVER OS\"\n",
    "# TASK_TYPE=\"cox\"\n",
    "\n",
    "TASK='MSKCC ORDINAL'\n",
    "TASK_TYPE='classification'\n",
    "num_classes='3'\n",
    "\n",
    "\n",
    "# Run the finetune_VAE_local_main.py script\n",
    "!python ./finetune/retrain_finetune_VAE_main.py \\\n",
    "    --input_data_location $INPUT_DATA_LOCATION \\\n",
    "    --finetune_save_dir $FINETUNE_SAVE_DIR \\\n",
    "    --pretrain_model_name $pretrain_model_name \\\n",
    "    --pretrain_trial_ID $pretrain_trial_ID \\\n",
    "    --task \"$TASK\" \\\n",
    "    --task_type $TASK_TYPE \\\n",
    "    --num_classes $num_classes \\\n",
    "    --task_event $TASK_EVENT \\\n",
    "    --optimization_type 'grid_search' \\\n",
    "    --add_post_latent_layers 'Fasle'\\\n",
    "    --post_latent_layer_size '64' \\\n",
    "    --num_layers_to_retrain '1' \\\n",
    "    --dropout_rate 0.4 \\\n",
    "    --learning_rate 5e-4 \\\n",
    "    --l1_reg 1e-6 \\\n",
    "    --weight_decay 1e-3 \\\n",
    "    --batch_size 32 \\\n",
    "    --patience 0 \\\n",
    "    --num_epochs 20 \\\n",
    "    --n_trials 3"
   ]
  },
  {
   "cell_type": "code",
   "execution_count": 19,
   "metadata": {},
   "outputs": [
    {
     "data": {
      "text/html": [
       "<div>\n",
       "<style scoped>\n",
       "    .dataframe tbody tr th:only-of-type {\n",
       "        vertical-align: middle;\n",
       "    }\n",
       "\n",
       "    .dataframe tbody tr th {\n",
       "        vertical-align: top;\n",
       "    }\n",
       "\n",
       "    .dataframe thead th {\n",
       "        text-align: right;\n",
       "    }\n",
       "</style>\n",
       "<table border=\"1\" class=\"dataframe\">\n",
       "  <thead>\n",
       "    <tr style=\"text-align: right;\">\n",
       "      <th></th>\n",
       "      <th>add_post_latent_layers</th>\n",
       "      <th>post_latent_layer_size</th>\n",
       "      <th>num_layers_to_retrain</th>\n",
       "      <th>dropout</th>\n",
       "      <th>learning_rate</th>\n",
       "      <th>l1_reg_weight</th>\n",
       "      <th>l2_reg_weight</th>\n",
       "      <th>batch_size</th>\n",
       "      <th>patience</th>\n",
       "      <th>num_epochs</th>\n",
       "      <th>val_c_index_TL</th>\n",
       "      <th>val_c_index_noTL</th>\n",
       "    </tr>\n",
       "  </thead>\n",
       "  <tbody>\n",
       "    <tr>\n",
       "      <th>0</th>\n",
       "      <td>False</td>\n",
       "      <td>64</td>\n",
       "      <td>1</td>\n",
       "      <td>0.4</td>\n",
       "      <td>1.00e-06</td>\n",
       "      <td>0.000001</td>\n",
       "      <td>0.001</td>\n",
       "      <td>32</td>\n",
       "      <td>0</td>\n",
       "      <td>20</td>\n",
       "      <td>0.724059</td>\n",
       "      <td>0.674472</td>\n",
       "    </tr>\n",
       "    <tr>\n",
       "      <th>1</th>\n",
       "      <td>False</td>\n",
       "      <td>64</td>\n",
       "      <td>1</td>\n",
       "      <td>0.4</td>\n",
       "      <td>3.00e-06</td>\n",
       "      <td>0.000001</td>\n",
       "      <td>0.001</td>\n",
       "      <td>32</td>\n",
       "      <td>0</td>\n",
       "      <td>20</td>\n",
       "      <td>0.753444</td>\n",
       "      <td>0.724059</td>\n",
       "    </tr>\n",
       "    <tr>\n",
       "      <th>2</th>\n",
       "      <td>False</td>\n",
       "      <td>64</td>\n",
       "      <td>1</td>\n",
       "      <td>0.4</td>\n",
       "      <td>5.00e-06</td>\n",
       "      <td>0.000001</td>\n",
       "      <td>0.001</td>\n",
       "      <td>32</td>\n",
       "      <td>0</td>\n",
       "      <td>20</td>\n",
       "      <td>0.760790</td>\n",
       "      <td>0.734160</td>\n",
       "    </tr>\n",
       "    <tr>\n",
       "      <th>3</th>\n",
       "      <td>False</td>\n",
       "      <td>64</td>\n",
       "      <td>1</td>\n",
       "      <td>0.4</td>\n",
       "      <td>7.00e-06</td>\n",
       "      <td>0.000001</td>\n",
       "      <td>0.001</td>\n",
       "      <td>32</td>\n",
       "      <td>0</td>\n",
       "      <td>20</td>\n",
       "      <td>0.765381</td>\n",
       "      <td>0.742883</td>\n",
       "    </tr>\n",
       "    <tr>\n",
       "      <th>4</th>\n",
       "      <td>False</td>\n",
       "      <td>64</td>\n",
       "      <td>1</td>\n",
       "      <td>0.4</td>\n",
       "      <td>9.00e-06</td>\n",
       "      <td>0.000001</td>\n",
       "      <td>0.001</td>\n",
       "      <td>32</td>\n",
       "      <td>0</td>\n",
       "      <td>20</td>\n",
       "      <td>0.768136</td>\n",
       "      <td>0.742424</td>\n",
       "    </tr>\n",
       "    <tr>\n",
       "      <th>5</th>\n",
       "      <td>False</td>\n",
       "      <td>64</td>\n",
       "      <td>1</td>\n",
       "      <td>0.4</td>\n",
       "      <td>1.00e-05</td>\n",
       "      <td>0.000001</td>\n",
       "      <td>0.001</td>\n",
       "      <td>32</td>\n",
       "      <td>0</td>\n",
       "      <td>20</td>\n",
       "      <td>0.768595</td>\n",
       "      <td>0.742883</td>\n",
       "    </tr>\n",
       "    <tr>\n",
       "      <th>6</th>\n",
       "      <td>False</td>\n",
       "      <td>64</td>\n",
       "      <td>1</td>\n",
       "      <td>0.4</td>\n",
       "      <td>3.00e-05</td>\n",
       "      <td>0.000001</td>\n",
       "      <td>0.001</td>\n",
       "      <td>32</td>\n",
       "      <td>0</td>\n",
       "      <td>20</td>\n",
       "      <td>0.773186</td>\n",
       "      <td>0.749311</td>\n",
       "    </tr>\n",
       "    <tr>\n",
       "      <th>7</th>\n",
       "      <td>False</td>\n",
       "      <td>64</td>\n",
       "      <td>1</td>\n",
       "      <td>0.4</td>\n",
       "      <td>5.00e-05</td>\n",
       "      <td>0.000001</td>\n",
       "      <td>0.001</td>\n",
       "      <td>32</td>\n",
       "      <td>0</td>\n",
       "      <td>20</td>\n",
       "      <td>0.770432</td>\n",
       "      <td>0.752066</td>\n",
       "    </tr>\n",
       "    <tr>\n",
       "      <th>8</th>\n",
       "      <td>False</td>\n",
       "      <td>64</td>\n",
       "      <td>1</td>\n",
       "      <td>0.4</td>\n",
       "      <td>7.00e-05</td>\n",
       "      <td>0.000001</td>\n",
       "      <td>0.001</td>\n",
       "      <td>32</td>\n",
       "      <td>0</td>\n",
       "      <td>20</td>\n",
       "      <td>0.769513</td>\n",
       "      <td>0.752525</td>\n",
       "    </tr>\n",
       "    <tr>\n",
       "      <th>9</th>\n",
       "      <td>False</td>\n",
       "      <td>64</td>\n",
       "      <td>1</td>\n",
       "      <td>0.4</td>\n",
       "      <td>9.00e-05</td>\n",
       "      <td>0.000001</td>\n",
       "      <td>0.001</td>\n",
       "      <td>32</td>\n",
       "      <td>0</td>\n",
       "      <td>20</td>\n",
       "      <td>0.767218</td>\n",
       "      <td>0.752525</td>\n",
       "    </tr>\n",
       "    <tr>\n",
       "      <th>10</th>\n",
       "      <td>False</td>\n",
       "      <td>64</td>\n",
       "      <td>1</td>\n",
       "      <td>0.4</td>\n",
       "      <td>1.00e-04</td>\n",
       "      <td>0.000001</td>\n",
       "      <td>0.001</td>\n",
       "      <td>32</td>\n",
       "      <td>0</td>\n",
       "      <td>20</td>\n",
       "      <td>0.765840</td>\n",
       "      <td>0.752984</td>\n",
       "    </tr>\n",
       "    <tr>\n",
       "      <th>11</th>\n",
       "      <td>False</td>\n",
       "      <td>64</td>\n",
       "      <td>1</td>\n",
       "      <td>0.4</td>\n",
       "      <td>2.00e-04</td>\n",
       "      <td>0.000001</td>\n",
       "      <td>0.001</td>\n",
       "      <td>32</td>\n",
       "      <td>0</td>\n",
       "      <td>20</td>\n",
       "      <td>0.768595</td>\n",
       "      <td>0.756657</td>\n",
       "    </tr>\n",
       "    <tr>\n",
       "      <th>12</th>\n",
       "      <td>False</td>\n",
       "      <td>64</td>\n",
       "      <td>1</td>\n",
       "      <td>0.4</td>\n",
       "      <td>4.00e-04</td>\n",
       "      <td>0.000001</td>\n",
       "      <td>0.001</td>\n",
       "      <td>32</td>\n",
       "      <td>0</td>\n",
       "      <td>20</td>\n",
       "      <td>0.758953</td>\n",
       "      <td>0.759871</td>\n",
       "    </tr>\n",
       "    <tr>\n",
       "      <th>13</th>\n",
       "      <td>False</td>\n",
       "      <td>64</td>\n",
       "      <td>1</td>\n",
       "      <td>0.4</td>\n",
       "      <td>5.00e-04</td>\n",
       "      <td>0.000001</td>\n",
       "      <td>0.001</td>\n",
       "      <td>32</td>\n",
       "      <td>0</td>\n",
       "      <td>20</td>\n",
       "      <td>0.758035</td>\n",
       "      <td>0.759412</td>\n",
       "    </tr>\n",
       "  </tbody>\n",
       "</table>\n",
       "</div>"
      ],
      "text/plain": [
       "    add_post_latent_layers  post_latent_layer_size  num_layers_to_retrain  \\\n",
       "0                    False                      64                      1   \n",
       "1                    False                      64                      1   \n",
       "2                    False                      64                      1   \n",
       "3                    False                      64                      1   \n",
       "4                    False                      64                      1   \n",
       "5                    False                      64                      1   \n",
       "6                    False                      64                      1   \n",
       "7                    False                      64                      1   \n",
       "8                    False                      64                      1   \n",
       "9                    False                      64                      1   \n",
       "10                   False                      64                      1   \n",
       "11                   False                      64                      1   \n",
       "12                   False                      64                      1   \n",
       "13                   False                      64                      1   \n",
       "\n",
       "    dropout learning_rate  l1_reg_weight  l2_reg_weight  batch_size  patience  \\\n",
       "0       0.4      1.00e-06       0.000001          0.001          32         0   \n",
       "1       0.4      3.00e-06       0.000001          0.001          32         0   \n",
       "2       0.4      5.00e-06       0.000001          0.001          32         0   \n",
       "3       0.4      7.00e-06       0.000001          0.001          32         0   \n",
       "4       0.4      9.00e-06       0.000001          0.001          32         0   \n",
       "5       0.4      1.00e-05       0.000001          0.001          32         0   \n",
       "6       0.4      3.00e-05       0.000001          0.001          32         0   \n",
       "7       0.4      5.00e-05       0.000001          0.001          32         0   \n",
       "8       0.4      7.00e-05       0.000001          0.001          32         0   \n",
       "9       0.4      9.00e-05       0.000001          0.001          32         0   \n",
       "10      0.4      1.00e-04       0.000001          0.001          32         0   \n",
       "11      0.4      2.00e-04       0.000001          0.001          32         0   \n",
       "12      0.4      4.00e-04       0.000001          0.001          32         0   \n",
       "13      0.4      5.00e-04       0.000001          0.001          32         0   \n",
       "\n",
       "    num_epochs  val_c_index_TL  val_c_index_noTL  \n",
       "0           20        0.724059          0.674472  \n",
       "1           20        0.753444          0.724059  \n",
       "2           20        0.760790          0.734160  \n",
       "3           20        0.765381          0.742883  \n",
       "4           20        0.768136          0.742424  \n",
       "5           20        0.768595          0.742883  \n",
       "6           20        0.773186          0.749311  \n",
       "7           20        0.770432          0.752066  \n",
       "8           20        0.769513          0.752525  \n",
       "9           20        0.767218          0.752525  \n",
       "10          20        0.765840          0.752984  \n",
       "11          20        0.768595          0.756657  \n",
       "12          20        0.758953          0.759871  \n",
       "13          20        0.758035          0.759412  "
      ]
     },
     "execution_count": 19,
     "metadata": {},
     "output_type": "execute_result"
    }
   ],
   "source": [
    "#open the results of grid search\n",
    "#reading the output\n",
    "FINETUNE_SAVE_DIR=\"/home/leilapirhaji/finetune_unsupervised_VAE\"\n",
    "pretrain_model_name='pretrain_VAE_L_400_425_e_400_p_25_s_8.1.1'\n",
    "pretrain_trial_ID='143'\n",
    "TASK='EVER OS'\n",
    "task=TASK.replace(' ','_')\n",
    "\n",
    "result_path=f'{FINETUNE_SAVE_DIR}/{pretrain_model_name}/trial_{pretrain_trial_ID}/{task}'\n",
    "\n",
    "#best paramteres\n",
    "with open(f'{result_path}/{task}_best_params_grid_search.txt', 'r') as f:\n",
    "    best_params = f.read()        \n",
    "\n",
    "#best model results\n",
    "best_model_results=pd.read_csv(f'{result_path}/{task}_best_model_results_grid_search.csv')\n",
    "    \n",
    "#All grid search results\n",
    "all_grid_search_results= pd.read_csv(f'{result_path}/{task}_all_grid_search_results.csv')\n",
    "#all_grid_search_results.sort_values('val_metric_TL', ascending=False, inplace=True)\n",
    "# Convert a column (e.g., column 'B') to scientific notation\n",
    "all_grid_search_results['learning_rate'] = all_grid_search_results['learning_rate'].apply(lambda x: '{:.2e}'.format(x))\n",
    "\n",
    "all_grid_search_results"
   ]
  },
  {
   "cell_type": "code",
   "execution_count": 20,
   "metadata": {},
   "outputs": [
    {
     "data": {
      "text/html": [
       "<div>\n",
       "<style scoped>\n",
       "    .dataframe tbody tr th:only-of-type {\n",
       "        vertical-align: middle;\n",
       "    }\n",
       "\n",
       "    .dataframe tbody tr th {\n",
       "        vertical-align: top;\n",
       "    }\n",
       "\n",
       "    .dataframe thead th {\n",
       "        text-align: right;\n",
       "    }\n",
       "</style>\n",
       "<table border=\"1\" class=\"dataframe\">\n",
       "  <thead>\n",
       "    <tr style=\"text-align: right;\">\n",
       "      <th></th>\n",
       "      <th>Unnamed: 0</th>\n",
       "      <th>Model</th>\n",
       "      <th>Dataset</th>\n",
       "      <th>C-index</th>\n",
       "    </tr>\n",
       "  </thead>\n",
       "  <tbody>\n",
       "    <tr>\n",
       "      <th>0</th>\n",
       "      <td>0</td>\n",
       "      <td>Transfer Learning</td>\n",
       "      <td>Train</td>\n",
       "      <td>0.749240</td>\n",
       "    </tr>\n",
       "    <tr>\n",
       "      <th>1</th>\n",
       "      <td>1</td>\n",
       "      <td>Transfer Learning</td>\n",
       "      <td>Validation</td>\n",
       "      <td>0.773186</td>\n",
       "    </tr>\n",
       "    <tr>\n",
       "      <th>2</th>\n",
       "      <td>2</td>\n",
       "      <td>Transfer Learning</td>\n",
       "      <td>Test</td>\n",
       "      <td>0.658278</td>\n",
       "    </tr>\n",
       "    <tr>\n",
       "      <th>3</th>\n",
       "      <td>3</td>\n",
       "      <td>No Transfer Learning</td>\n",
       "      <td>Train</td>\n",
       "      <td>0.706099</td>\n",
       "    </tr>\n",
       "    <tr>\n",
       "      <th>4</th>\n",
       "      <td>4</td>\n",
       "      <td>No Transfer Learning</td>\n",
       "      <td>Validation</td>\n",
       "      <td>0.749311</td>\n",
       "    </tr>\n",
       "    <tr>\n",
       "      <th>5</th>\n",
       "      <td>5</td>\n",
       "      <td>No Transfer Learning</td>\n",
       "      <td>Test</td>\n",
       "      <td>0.657837</td>\n",
       "    </tr>\n",
       "  </tbody>\n",
       "</table>\n",
       "</div>"
      ],
      "text/plain": [
       "   Unnamed: 0                 Model     Dataset   C-index\n",
       "0           0     Transfer Learning       Train  0.749240\n",
       "1           1     Transfer Learning  Validation  0.773186\n",
       "2           2     Transfer Learning        Test  0.658278\n",
       "3           3  No Transfer Learning       Train  0.706099\n",
       "4           4  No Transfer Learning  Validation  0.749311\n",
       "5           5  No Transfer Learning        Test  0.657837"
      ]
     },
     "execution_count": 20,
     "metadata": {},
     "output_type": "execute_result"
    }
   ],
   "source": [
    "best_model_results"
   ]
  },
  {
   "cell_type": "code",
   "execution_count": 114,
   "metadata": {},
   "outputs": [
    {
     "data": {
      "text/plain": [
       "\"{'add_post_latent_layers': False, 'post_latent_layer_size': 64, 'num_layers_to_retrain': 2, 'dropout': 0.4, 'learning_rate': 0.0001, 'l1_reg_weight': 1e-06, 'l2_reg_weight': 0.001, 'batch_size': 32, 'patience': 0, 'num_epochs': 20}\""
      ]
     },
     "execution_count": 114,
     "metadata": {},
     "output_type": "execute_result"
    }
   ],
   "source": [
    "best_params"
   ]
  },
  {
   "attachments": {},
   "cell_type": "markdown",
   "metadata": {},
   "source": [
    "### Plotting the latnet space - survival "
   ]
  },
  {
   "cell_type": "code",
   "execution_count": null,
   "metadata": {},
   "outputs": [],
   "source": [
    "import matplotlib.pyplot as plt\n",
    "from finetune.best_finetune_model_test_eval_cox import best_model_latent_plot, best_finetune_model_test_eval_cox, best_model_latent_plot_combined\n",
    "\n",
    "TASK_EVENT='OS_Event'\n",
    "TASK='EVER OS'\n",
    "task=TASK.replace(' ','_')\n",
    "\n",
    "model_path=f'{finetune_save_dir}/{pretrain_name}/trial_{pretrain_trial_id}/{task}/TL_{task}_best_model_grid_search'\n",
    "best_model_file=f'{model_path}/best_model.pth'\n",
    "best_model=torch.load(best_model_file)\n",
    "\n",
    "result_png_file_TL= f'{model_path}/{task}_best_model_TL_latent_space.png'\n",
    "\n",
    "\n",
    "combined_result_metrics, latent_rep_train, latent_rep_val, latent_rep_test= best_finetune_model_test_eval_cox(best_model, X_data_train, y_data_train, X_data_val, y_data_val, X_data_test, y_data_test, TASK, TASK_EVENT, seed=42)\n",
    "\n",
    "fig, axes= best_model_latent_plot(latent_rep_train, latent_rep_val, latent_rep_test, y_data_train, y_data_val, y_data_test, TASK, TASK_EVENT)\n",
    "\n",
    "fig.savefig(result_png_file_TL)\n",
    "plt.show()"
   ]
  },
  {
   "cell_type": "code",
   "execution_count": null,
   "metadata": {},
   "outputs": [],
   "source": [
    "result_png_file_TL= f'{model_path}/{task}_best_model_TL_latent_space_combined.png'\n",
    "fig, axes= best_model_latent_plot_combined(latent_rep_train, latent_rep_val, latent_rep_test, y_data_train, y_data_val, y_data_test, TASK, TASK_EVENT)\n",
    "\n",
    "fig.savefig(result_png_file_TL)"
   ]
  },
  {
   "cell_type": "code",
   "execution_count": null,
   "metadata": {},
   "outputs": [],
   "source": [
    "model_path=f'{finetune_save_dir}/{pretrain_name}/trial_{pretrain_trial_id}/{task}/noTL_{task}_best_model_grid_search'\n",
    "best_model_file=f'{model_path}/best_model.pth'\n",
    "best_model_noTL=torch.load(best_model_file)\n",
    "\n",
    "result_png_file_noTL= f'{model_path}/{task}_best_model_noTL_latent_space.png'\n",
    "\n",
    "\n",
    "combined_result_metrics, latent_rep_train, latent_rep_val, latent_rep_test= best_finetune_model_test_eval_cox(best_model_noTL, X_data_train, y_data_train, X_data_val, y_data_val, X_data_test, y_data_test, TASK, TASK_EVENT, seed=42)\n",
    "\n",
    "fig, axes= best_model_latent_plot(latent_rep_train, latent_rep_val, latent_rep_test, y_data_train, y_data_val, y_data_test, TASK, TASK_EVENT)\n",
    "\n",
    "fig.savefig(result_png_file_noTL)\n"
   ]
  },
  {
   "cell_type": "code",
   "execution_count": null,
   "metadata": {},
   "outputs": [],
   "source": [
    "result_png_file_noTL= f'{model_path}/{task}_best_model_noTL_latent_space_combined.png'\n",
    "fig, axes= best_model_latent_plot_combined(latent_rep_train, latent_rep_val, latent_rep_test, y_data_train, y_data_val, y_data_test, TASK, TASK_EVENT)\n",
    "\n",
    "fig.savefig(result_png_file_noTL)"
   ]
  },
  {
   "attachments": {},
   "cell_type": "markdown",
   "metadata": {},
   "source": [
    "### Plotting the latnet space - classfication "
   ]
  },
  {
   "cell_type": "code",
   "execution_count": null,
   "metadata": {},
   "outputs": [],
   "source": [
    "import matplotlib.pyplot as plt\n",
    "from finetune.best_finetune_model_test_eval import best_model_latent_plot, evaluate_model_main, best_model_latent_plot_combined\n",
    "\n",
    "TASK='MSKCC BINARY'\n",
    "num_classes='3'\n",
    "task=TASK.replace(' ','_')\n",
    "\n",
    "model_path=f'{finetune_save_dir}/{pretrain_name}/trial_{pretrain_trial_id}/{task}/TL_{task}_best_model_grid_search'\n",
    "best_model_file=f'{model_path}/best_model.pth'\n",
    "best_model_TL=torch.load(best_model_file)\n",
    "\n",
    "result_png_file_TL= f'{model_path}/{task}_best_model_TL_latent_space.png'\n",
    "\n",
    "\n",
    "combined_result_metrics, latent_rep_train, latent_rep_val, latent_rep_test= evaluate_model_main(best_model_TL, X_data_train, X_data_val, X_data_test, y_data_train, y_data_val, y_data_test, TASK, int(num_classes), seed=42)\n",
    "\n",
    "fig, axes= best_model_latent_plot(latent_rep_train, latent_rep_val, latent_rep_test, y_data_train, y_data_val, y_data_test, TASK)\n",
    "\n",
    "fig.savefig(result_png_file_TL)"
   ]
  },
  {
   "cell_type": "code",
   "execution_count": null,
   "metadata": {},
   "outputs": [],
   "source": [
    "result_png_file_TL= f'{model_path}/{task}_best_model_TL_latent_space_combined.png'\n",
    "\n",
    "fig, axes=best_model_latent_plot_combined(latent_rep_train, latent_rep_val, latent_rep_test, y_data_train, y_data_val, y_data_test, TASK)\n",
    "\n",
    "fig.savefig(result_png_file_TL)"
   ]
  },
  {
   "cell_type": "code",
   "execution_count": null,
   "metadata": {},
   "outputs": [],
   "source": [
    "model_path=f'{finetune_save_dir}/{pretrain_name}/trial_{pretrain_trial_id}/{task}/noTL_{task}_best_model_grid_search'\n",
    "best_model_file=f'{model_path}/best_model.pth'\n",
    "best_model_noTL=torch.load(best_model_file)\n",
    "\n",
    "result_png_file_noTL= f'{model_path}/{task}_best_model_noTL_latent_space.png'\n",
    "\n",
    "combined_result_metrics, latent_rep_train, latent_rep_val, latent_rep_test= evaluate_model_main(best_model_noTL, X_data_train, X_data_val, X_data_test, y_data_train, y_data_val, y_data_test, TASK, int(num_classes), seed=42)\n",
    "\n",
    "fig, axes= best_model_latent_plot(latent_rep_train, latent_rep_val, latent_rep_test, y_data_train, y_data_val, y_data_test, TASK)\n",
    "\n",
    "fig.savefig(result_png_file_noTL)\n"
   ]
  },
  {
   "cell_type": "code",
   "execution_count": null,
   "metadata": {},
   "outputs": [],
   "source": [
    "result_png_file_noTL= f'{model_path}/{task}_best_model_noTL_latent_space_combined.png'\n",
    "\n",
    "fig, axes=best_model_latent_plot_combined(latent_rep_train, latent_rep_val, latent_rep_test, y_data_train, y_data_val, y_data_test, TASK)\n",
    "\n",
    "fig.savefig(result_png_file_noTL)"
   ]
  },
  {
   "attachments": {},
   "cell_type": "markdown",
   "metadata": {},
   "source": []
  }
 ],
 "metadata": {
  "kernelspec": {
   "display_name": "Python 3",
   "language": "python",
   "name": "python3"
  },
  "language_info": {
   "codemirror_mode": {
    "name": "ipython",
    "version": 3
   },
   "file_extension": ".py",
   "mimetype": "text/x-python",
   "name": "python",
   "nbconvert_exporter": "python",
   "pygments_lexer": "ipython3",
   "version": "3.9.2"
  },
  "orig_nbformat": 4
 },
 "nbformat": 4,
 "nbformat_minor": 2
}
