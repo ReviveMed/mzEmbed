{
 "cells": [
  {
   "cell_type": "code",
   "execution_count": null,
   "metadata": {},
   "outputs": [],
   "source": [
    "import pandas as pd\n",
    "import numpy as np\n",
    "import neptune\n",
    "from neptune.utils import stringify_unsupported\n",
    "\n",
    "from utils_neptune import get_latest_dataset\n",
    "\n",
    "NEPTUNE_API_TOKEN = 'eyJhcGlfYWRkcmVzcyI6Imh0dHBzOi8vYXBwLm5lcHR1bmUuYWkiLCJhcGlfdXJsIjoiaHR0cHM6Ly9hcHAubmVwdHVuZS5haSIsImFwaV9rZXkiOiIxMGM5ZDhiMy1kOTlhLTRlMTAtOGFlYy1hOTQzMDE1YjZlNjcifQ=='\n",
    "\n",
    "PROJECT_ID = 'revivemed/Survival-RCC'\n"
   ]
  },
  {
   "cell_type": "code",
   "execution_count": null,
   "metadata": {},
   "outputs": [],
   "source": [
    "neptune_model = neptune.init_model(project='revivemed/RCC',\n",
    "            api_token= NEPTUNE_API_TOKEN,\n",
    "            with_id='SUR-MOD',\n",
    "            mode=\"read-only\")   "
   ]
  },
  {
   "cell_type": "code",
   "execution_count": null,
   "metadata": {},
   "outputs": [],
   "source": [
    "    model_dir = f'{local_dir}/{run_id}/{task_id}'\n",
    "    components_dir = f'{local_dir}/{run_id}/{task_id}/components'\n",
    "    os.makedirs(components_dir, exist_ok=True)\n",
    "    model_files = os.listdir(components_dir)\n",
    "    \n",
    "    if (len(model_files) < 4):\n",
    "\n",
    "        run = neptune.init_run(project='revivemed/RCC',\n",
    "            api_token= NEPTUNE_API_TOKEN,\n",
    "            with_id=run_id,\n",
    "            mode=\"read-only\")   \n",
    "        run_struc= run.get_structure()\n",
    "\n",
    "        original_kwargs=run[task_id+'/original_kwargs'].fetch()\n",
    "        json.dump(original_kwargs,open(f'{components_dir}/original_kwargs.json','w'),indent=4)\n",
    "        substruc = get_sub_struc_from_path(run_struc,f'{task_id}/models')\n",
    "        for key in substruc.keys():\n",
    "            if 'info' in key:\n",
    "                run[f'{task_id}/models/{key}'].download(f'{components_dir}/{key}.json')\n",
    "            elif 'state' in key:\n",
    "                run[f'{task_id}/models/{key}'].download(f'{components_dir}/{key}.pt')\n",
    "\n",
    "        run.stop()\n",
    "        model_files = os.listdir(components_dir)"
   ]
  },
  {
   "cell_type": "code",
   "execution_count": null,
   "metadata": {},
   "outputs": [],
   "source": [
    "def run_model(model_name, params, data_dict, train_name='train', \n",
    "              eval_name='val', n_repeat=1,run_dict=None):\n",
    "    \n",
    "    if run_dict:\n",
    "        run_dict['model_name'] = model_name\n",
    "        run_dict['params'] = stringify_unsupported(params)\n",
    "        run_dict['target_col'] = data_dict[train_name]['target_col']\n",
    "        for set_name in data_dict.keys():\n",
    "            if 'target_col':\n",
    "                target_col = data_dict[set_name]['target_col']\n",
    "                run_dict[f'dataset/{set_name}/target_col'] = target_col\n",
    "            if 'X_file' in data_dict[set_name].keys():\n",
    "                run_dict[f'dataset/{set_name}/X'].track_files(data_dict[set_name]['X_file'])\n",
    "            if 'y_file' in data_dict[set_name].keys():\n",
    "                run_dict[f'dataset/{set_name}/y'].track_files(data_dict[set_name]['y_file'])\n",
    "\n",
    "    \n",
    "    val_auc_list = []\n",
    "    train_auc_list = []\n",
    "    for _ in range(n_repeat):\n",
    "        model = fit_model(model_name, params, data_dict, train_name)\n",
    "        \n",
    "        ## Classifier Specific Code\n",
    "        train_acc, train_auc = evaluate_model(model, data_dict, train_name)\n",
    "        val_acc, val_auc = evaluate_model(model, data_dict, eval_name)\n",
    "        if run_dict:\n",
    "            run_dict['metrics/train/accuracy'].append(train_acc)\n",
    "            run_dict['metrics/train/auc'].append(train_auc)\n",
    "            run_dict['metrics/val/accuracy'].append(val_acc)\n",
    "            run_dict['metrics/val/auc'].append(val_auc)\n",
    "\n",
    "        val_auc_list.append(val_auc)\n",
    "        train_auc_list.append(train_auc)\n",
    "\n",
    "    val_auc = np.mean(val_auc_list)\n",
    "    train_auc = np.mean(train_auc_list)\n",
    "    return val_auc, train_auc"
   ]
  }
 ],
 "metadata": {
  "kernelspec": {
   "display_name": "Python 3",
   "language": "python",
   "name": "python3"
  },
  "language_info": {
   "name": "python",
   "version": "3.9.19"
  }
 },
 "nbformat": 4,
 "nbformat_minor": 2
}
