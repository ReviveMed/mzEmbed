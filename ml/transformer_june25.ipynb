{
 "cells": [
  {
   "cell_type": "code",
   "execution_count": 1,
   "metadata": {},
   "outputs": [],
   "source": [
    "from models import metabFoundation\n",
    "import torch\n",
    "import torch.nn as nn\n",
    "import torch.nn.functional as F"
   ]
  },
  {
   "cell_type": "code",
   "execution_count": 2,
   "metadata": {},
   "outputs": [],
   "source": [
    "output_dir = '/home/jonaheaton/output/RCC-3121'\n",
    "\n",
    "# Create a new model\n",
    "\n",
    "model = metabFoundation(\n",
    "        num_attention_heads = 2,\n",
    "        num_hidden_layers = 2,\n",
    "        hidden_size = 16,\n",
    "        input_size= 2736\n",
    ")"
   ]
  },
  {
   "cell_type": "code",
   "execution_count": 3,
   "metadata": {},
   "outputs": [],
   "source": [
    "local_path = f'{output_dir}/pretrain_encoder_state_dict.pth'\n",
    "encoder_state_dict = torch.load(local_path)"
   ]
  },
  {
   "cell_type": "code",
   "execution_count": 4,
   "metadata": {},
   "outputs": [
    {
     "data": {
      "text/plain": [
       "<All keys matched successfully>"
      ]
     },
     "execution_count": 4,
     "metadata": {},
     "output_type": "execute_result"
    }
   ],
   "source": [
    "model.load_state_dict(encoder_state_dict)"
   ]
  },
  {
   "cell_type": "code",
   "execution_count": 5,
   "metadata": {},
   "outputs": [
    {
     "data": {
      "text/plain": [
       "{'training': True,\n",
       " 'input_size': 2736,\n",
       " 'hidden_size': 1,\n",
       " 'latent_size': 1,\n",
       " 'num_hidden_layers': 2,\n",
       " 'num_attention_heads': 2,\n",
       " 'dropout_rate': 0,\n",
       " 'activation': 'leakyrelu',\n",
       " 'use_batch_norm': False,\n",
       " 'act_on_output_layer': False,\n",
       " 'goal': 'encode',\n",
       " 'kind': 'metabFoundation',\n",
       " 'name': 'metabFoundation',\n",
       " 'file_id': 'metabFoundation',\n",
       " 'max_seq_len': 2736,\n",
       " 'num_encoder_heads': 2,\n",
       " 'num_decoder_heads': 2,\n",
       " 'num_encoder_layers': 2,\n",
       " 'num_decoder_layers': 2,\n",
       " 'embed_dim': 16,\n",
       " 'inverse_embed_dim': 16,\n",
       " 'default_hidden_fraction': 0.2}"
      ]
     },
     "execution_count": 5,
     "metadata": {},
     "output_type": "execute_result"
    }
   ],
   "source": [
    "model.get_info()"
   ]
  },
  {
   "cell_type": "code",
   "execution_count": 6,
   "metadata": {},
   "outputs": [],
   "source": [
    "model.save_info(output_dir)"
   ]
  },
  {
   "cell_type": "code",
   "execution_count": 7,
   "metadata": {},
   "outputs": [],
   "source": [
    "X = torch.rand(3, 2736)"
   ]
  },
  {
   "cell_type": "code",
   "execution_count": 8,
   "metadata": {},
   "outputs": [],
   "source": [
    "z = model.transform(X)"
   ]
  },
  {
   "cell_type": "code",
   "execution_count": 9,
   "metadata": {},
   "outputs": [
    {
     "data": {
      "text/plain": [
       "torch.Size([3, 2736])"
      ]
     },
     "execution_count": 9,
     "metadata": {},
     "output_type": "execute_result"
    }
   ],
   "source": [
    "z.shape"
   ]
  },
  {
   "cell_type": "code",
   "execution_count": 10,
   "metadata": {},
   "outputs": [],
   "source": [
    "\n",
    "x_hidden = torch.rand_like(X) < 0.2\n",
    "x_seq, x_pos_ids, x_mask, x_pad = model.metab_to_seq.transform(X,x_hidden)"
   ]
  },
  {
   "cell_type": "code",
   "execution_count": 11,
   "metadata": {},
   "outputs": [],
   "source": [
    "z, z_enc, z_pos_ids, z_mask, z_pad = model.transform(X,as_seq=True)"
   ]
  },
  {
   "cell_type": "code",
   "execution_count": 12,
   "metadata": {},
   "outputs": [],
   "source": [
    "z_recon = model.generate(z_enc, x_pos_ids=z_pos_ids, as_seq=True)"
   ]
  },
  {
   "cell_type": "code",
   "execution_count": 15,
   "metadata": {},
   "outputs": [
    {
     "data": {
      "text/plain": [
       "tensor([0.4426, 0.8706, 0.1391,  ..., 0.6386, 0.9767, 0.0561])"
      ]
     },
     "execution_count": 15,
     "metadata": {},
     "output_type": "execute_result"
    }
   ],
   "source": [
    "x_seq[x_mask]"
   ]
  },
  {
   "cell_type": "code",
   "execution_count": 16,
   "metadata": {},
   "outputs": [
    {
     "data": {
      "text/plain": [
       "tensor([0.5081, 0.8818, 0.3544,  ..., 0.5787, 0.5467, 0.3002],\n",
       "       grad_fn=<IndexBackward0>)"
      ]
     },
     "execution_count": 16,
     "metadata": {},
     "output_type": "execute_result"
    }
   ],
   "source": [
    "z_recon[x_mask]"
   ]
  },
  {
   "cell_type": "code",
   "execution_count": 14,
   "metadata": {},
   "outputs": [
    {
     "data": {
      "text/plain": [
       "tensor(0.0931, grad_fn=<MulBackward0>)"
      ]
     },
     "execution_count": 14,
     "metadata": {},
     "output_type": "execute_result"
    }
   ],
   "source": [
    "F.mse_loss(x_seq[x_mask], z_recon[x_mask])* X.size(0)"
   ]
  },
  {
   "cell_type": "code",
   "execution_count": null,
   "metadata": {},
   "outputs": [],
   "source": [
    "# x_seq, x_pos_ids, x_mask, x_pad = model.metab_to_seq.transform(X)\n",
    "z, z_enc, z_pos_ids, z_mask, z_pad = model.transform(X,as_seq=True)\n",
    "z_recon = model.generate(z_enc, x_pos_ids=z_pos_ids, as_seq=True)\n",
    "# compute only the masked value reconstruction\n",
    "recon_loss += F.mse_loss(x_seq(x_mask), z_recon(x_mask))* X.size(0)"
   ]
  }
 ],
 "metadata": {
  "kernelspec": {
   "display_name": "myenv",
   "language": "python",
   "name": "python3"
  },
  "language_info": {
   "codemirror_mode": {
    "name": "ipython",
    "version": 3
   },
   "file_extension": ".py",
   "mimetype": "text/x-python",
   "name": "python",
   "nbconvert_exporter": "python",
   "pygments_lexer": "ipython3",
   "version": "3.9.19"
  }
 },
 "nbformat": 4,
 "nbformat_minor": 2
}
