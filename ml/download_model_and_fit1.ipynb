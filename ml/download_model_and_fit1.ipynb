{
 "cells": [
  {
   "cell_type": "code",
   "execution_count": 1,
   "metadata": {},
   "outputs": [],
   "source": [
    "import numpy as np\n",
    "import pandas as pd\n",
    "import matplotlib.pyplot as plt\n",
    "import neptune\n",
    "from models import create_compound_model_from_info, create_pytorch_model_from_info, MultiHead\n",
    "import json\n",
    "import torch\n",
    "import os\n",
    "from utils_neptune import check_if_path_in_struc, get_sub_struc_from_path\n",
    "\n",
    "NEPTUNE_API_TOKEN = 'eyJhcGlfYWRkcmVzcyI6Imh0dHBzOi8vYXBwLm5lcHR1bmUuYWkiLCJhcGlfdXJsIjoiaHR0cHM6Ly9hcHAubmVwdHVuZS5haSIsImFwaV9rZXkiOiIxMGM5ZDhiMy1kOTlhLTRlMTAtOGFlYy1hOTQzMDE1YjZlNjcifQ=='\n"
   ]
  },
  {
   "cell_type": "code",
   "execution_count": null,
   "metadata": {},
   "outputs": [],
   "source": [
    "run_id = 'RCC-2925'\n",
    "task_id = 'Optimized_NIVO-OS ADV EVER-OS__133_finetune'\n",
    "\n",
    "run = neptune.init_run(project='revivemed/RCC',\n",
    "    api_token= NEPTUNE_API_TOKEN,\n",
    "    with_id=run_id,\n",
    "    mode=\"read-only\")   \n",
    "run_struc= run.get_structure()"
   ]
  },
  {
   "cell_type": "code",
   "execution_count": 5,
   "metadata": {},
   "outputs": [
    {
     "data": {
      "application/vnd.jupyter.widget-view+json": {
       "model_id": "66362dd2329143ddb66b261c143e637f",
       "version_major": 2,
       "version_minor": 0
      },
      "text/plain": [
       "Fetching file...: 0 [00:00, ?/s]"
      ]
     },
     "metadata": {},
     "output_type": "display_data"
    }
   ],
   "source": [
    "\n",
    "\n",
    "local_dir = os.path.expanduser('~/saved_models')\n",
    "save_dir = f'{local_dir}/{run_id}/{task_id}'\n",
    "os.makedirs(save_dir, exist_ok=True)\n",
    "\n",
    "\n",
    "substruc = get_sub_struc_from_path(run_struc,f'{task_id}/models')\n",
    "\n",
    "for key in substruc.keys():\n",
    "    if 'info' in key:\n",
    "        run[f'{task_id}/models/{key}'].download(f'{save_dir}/{key}.json')\n",
    "    elif 'state' in key:\n",
    "        run[f'{task_id}/models/{key}'].download(f'{save_dir}/{key}.pt')\n"
   ]
  },
  {
   "cell_type": "code",
   "execution_count": 6,
   "metadata": {},
   "outputs": [
    {
     "data": {
      "text/plain": [
       "['Cox_EVER OS_info.json',\n",
       " 'encoder_info.json',\n",
       " 'Cox_NIVO OS_info.json',\n",
       " 'Cox_NIVO OS_state.pt',\n",
       " 'encoder_state_dict.pt',\n",
       " 'Cox_EVER OS_state.pt']"
      ]
     },
     "execution_count": 6,
     "metadata": {},
     "output_type": "execute_result"
    }
   ],
   "source": [
    "os.listdir(save_dir)"
   ]
  },
  {
   "cell_type": "code",
   "execution_count": null,
   "metadata": {},
   "outputs": [],
   "source": [
    "# load the relavent encoder info and head info\n",
    "\n",
    "model_files = os.listdir(save_dir)\n",
    "for f in model_files:\n",
    "    if ('encoder' in f):\n",
    "        if 'info' in f:\n",
    "            encoder_info = json.load()"
   ]
  },
  {
   "cell_type": "code",
   "execution_count": 3,
   "metadata": {},
   "outputs": [
    {
     "data": {
      "text/plain": [
       "{'Cox_EVER OS_info': <neptune.attributes.atoms.file.File at 0x7fca8a5c9df0>,\n",
       " 'Cox_EVER OS_state': <neptune.attributes.atoms.file.File at 0x7fca8a5c9e50>,\n",
       " 'Cox_NIVO OS_info': <neptune.attributes.atoms.file.File at 0x7fca8a5c9f10>,\n",
       " 'Cox_NIVO OS_state': <neptune.attributes.atoms.file.File at 0x7fca8a5c9f70>,\n",
       " 'encoder_info': <neptune.attributes.atoms.file.File at 0x7fca8a5c9fd0>,\n",
       " 'encoder_state_dict': <neptune.attributes.atoms.file.File at 0x7fca8a5da070>}"
      ]
     },
     "execution_count": 3,
     "metadata": {},
     "output_type": "execute_result"
    }
   ],
   "source": [
    "\n",
    "\n",
    "model = create_compound_model_from_info(encoder_info=encoder_info, \n",
    "                                        head_info= head_info,\n",
    "                                        encoder_state_dict=encoder_state,\n",
    "                                        head_state_dict=head_state)\n",
    "\n",
    "model.save_info(input_dir, 'Model_2925 info.json')\n",
    "model.save_state_to_path(input_dir, 'Model_2925 state.pt')"
   ]
  },
  {
   "cell_type": "code",
   "execution_count": 4,
   "metadata": {},
   "outputs": [
    {
     "ename": "TypeDoesNotSupportAttributeException",
     "evalue": "\n\u001b[95m\n----TypeDoesNotSupportAttributeException----------------------------------------\n\u001b[0m\n<class 'neptune.attributes.atoms.file.File'> has no attribute fetch.\n\n\u001b[92mNeed help?\u001b[0m-> https://docs.neptune.ai/help/error_type_does_not_support_attribute/\n",
     "output_type": "error",
     "traceback": [
      "\u001b[0;31m---------------------------------------------------------------------------\u001b[0m",
      "\u001b[0;31mTypeDoesNotSupportAttributeException\u001b[0m      Traceback (most recent call last)",
      "Cell \u001b[0;32mIn[4], line 1\u001b[0m\n\u001b[0;32m----> 1\u001b[0m artifact \u001b[38;5;241m=\u001b[39m \u001b[43mrun\u001b[49m\u001b[43m[\u001b[49m\u001b[38;5;124;43mf\u001b[39;49m\u001b[38;5;124;43m'\u001b[39;49m\u001b[38;5;132;43;01m{\u001b[39;49;00m\u001b[43mtask_id\u001b[49m\u001b[38;5;132;43;01m}\u001b[39;49;00m\u001b[38;5;124;43m/models/\u001b[39;49m\u001b[38;5;132;43;01m{\u001b[39;49;00m\u001b[43mkey\u001b[49m\u001b[38;5;132;43;01m}\u001b[39;49;00m\u001b[38;5;124;43m'\u001b[39;49m\u001b[43m]\u001b[49m\u001b[38;5;241;43m.\u001b[39;49m\u001b[43mfetch\u001b[49m\u001b[43m(\u001b[49m\u001b[43m)\u001b[49m\n\u001b[1;32m      3\u001b[0m \u001b[38;5;66;03m# Get file extension\u001b[39;00m\n\u001b[1;32m      4\u001b[0m file_extension \u001b[38;5;241m=\u001b[39m os\u001b[38;5;241m.\u001b[39mpath\u001b[38;5;241m.\u001b[39msplitext(artifact)[\u001b[38;5;241m1\u001b[39m]\n",
      "File \u001b[0;32m/usr/local/lib/python3.9/site-packages/neptune/handler.py:542\u001b[0m, in \u001b[0;36mHandler.fetch\u001b[0;34m(self)\u001b[0m\n\u001b[1;32m    522\u001b[0m \u001b[38;5;28;01mdef\u001b[39;00m \u001b[38;5;21mfetch\u001b[39m(\u001b[38;5;28mself\u001b[39m):\n\u001b[1;32m    523\u001b[0m \u001b[38;5;250m    \u001b[39m\u001b[38;5;124;03m\"\"\"Fetches fields value or, in case of a namespace, fetches values of all non-File Atom fields as a dictionary.\u001b[39;00m\n\u001b[1;32m    524\u001b[0m \n\u001b[1;32m    525\u001b[0m \u001b[38;5;124;03m    Available for the following field types:\u001b[39;00m\n\u001b[0;32m   (...)\u001b[0m\n\u001b[1;32m    540\u001b[0m \u001b[38;5;124;03m       https://docs.neptune.ai/api-reference/field-types\u001b[39;00m\n\u001b[1;32m    541\u001b[0m \u001b[38;5;124;03m    \"\"\"\u001b[39;00m\n\u001b[0;32m--> 542\u001b[0m     \u001b[38;5;28;01mreturn\u001b[39;00m \u001b[38;5;28;43mself\u001b[39;49m\u001b[38;5;241;43m.\u001b[39;49m\u001b[43m_pass_call_to_attr\u001b[49m\u001b[43m(\u001b[49m\u001b[43mfunction_name\u001b[49m\u001b[38;5;241;43m=\u001b[39;49m\u001b[38;5;124;43m\"\u001b[39;49m\u001b[38;5;124;43mfetch\u001b[39;49m\u001b[38;5;124;43m\"\u001b[39;49m\u001b[43m)\u001b[49m\n",
      "File \u001b[0;32m/usr/local/lib/python3.9/site-packages/neptune/handler.py:718\u001b[0m, in \u001b[0;36mHandler._pass_call_to_attr\u001b[0;34m(self, function_name, **kwargs)\u001b[0m\n\u001b[1;32m    717\u001b[0m \u001b[38;5;28;01mdef\u001b[39;00m \u001b[38;5;21m_pass_call_to_attr\u001b[39m(\u001b[38;5;28mself\u001b[39m, function_name, \u001b[38;5;241m*\u001b[39m\u001b[38;5;241m*\u001b[39mkwargs):\n\u001b[0;32m--> 718\u001b[0m     \u001b[38;5;28;01mreturn\u001b[39;00m \u001b[38;5;28;43mgetattr\u001b[39;49m\u001b[43m(\u001b[49m\u001b[38;5;28;43mself\u001b[39;49m\u001b[38;5;241;43m.\u001b[39;49m\u001b[43m_get_attribute\u001b[49m\u001b[43m(\u001b[49m\u001b[43m)\u001b[49m\u001b[43m,\u001b[49m\u001b[43m \u001b[49m\u001b[43mfunction_name\u001b[49m\u001b[43m)\u001b[49m(\u001b[38;5;241m*\u001b[39m\u001b[38;5;241m*\u001b[39mkwargs)\n",
      "File \u001b[0;32m/usr/local/lib/python3.9/site-packages/neptune/attributes/attribute.py:42\u001b[0m, in \u001b[0;36mAttribute.__getattr__\u001b[0;34m(self, attr)\u001b[0m\n\u001b[1;32m     41\u001b[0m \u001b[38;5;28;01mdef\u001b[39;00m \u001b[38;5;21m__getattr__\u001b[39m(\u001b[38;5;28mself\u001b[39m, attr):\n\u001b[0;32m---> 42\u001b[0m     \u001b[38;5;28;01mraise\u001b[39;00m TypeDoesNotSupportAttributeException(type_\u001b[38;5;241m=\u001b[39m\u001b[38;5;28mtype\u001b[39m(\u001b[38;5;28mself\u001b[39m), attribute\u001b[38;5;241m=\u001b[39mattr)\n",
      "\u001b[0;31mTypeDoesNotSupportAttributeException\u001b[0m: \n\u001b[95m\n----TypeDoesNotSupportAttributeException----------------------------------------\n\u001b[0m\n<class 'neptune.attributes.atoms.file.File'> has no attribute fetch.\n\n\u001b[92mNeed help?\u001b[0m-> https://docs.neptune.ai/help/error_type_does_not_support_attribute/\n"
     ]
    }
   ],
   "source": [
    "artifact = run[f'{task_id}/models/{key}'].fetch()\n",
    "\n",
    "# Get file extension\n",
    "file_extension = os.path.splitext(artifact)[1]\n",
    "\n",
    "print(f\"The file format of the artifact is: {file_extension}\")"
   ]
  },
  {
   "cell_type": "code",
   "execution_count": null,
   "metadata": {},
   "outputs": [],
   "source": []
  }
 ],
 "metadata": {
  "kernelspec": {
   "display_name": "Python 3",
   "language": "python",
   "name": "python3"
  },
  "language_info": {
   "codemirror_mode": {
    "name": "ipython",
    "version": 3
   },
   "file_extension": ".py",
   "mimetype": "text/x-python",
   "name": "python",
   "nbconvert_exporter": "python",
   "pygments_lexer": "ipython3",
   "version": "3.9.19"
  }
 },
 "nbformat": 4,
 "nbformat_minor": 2
}
