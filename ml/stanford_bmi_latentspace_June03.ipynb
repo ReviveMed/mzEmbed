{
 "cells": [
  {
   "cell_type": "code",
   "execution_count": 1,
   "metadata": {},
   "outputs": [],
   "source": [
    "import os\n",
    "from utils_finetune import create_model_wrapper\n",
    "import pandas as pd\n",
    "from sklearn.decomposition import PCA\n",
    "import numpy as np\n",
    "import matplotlib.pyplot as plt\n",
    "import seaborn as sns\n",
    "import torch\n",
    "import umap\n",
    "\n",
    "from viz import generate_latent_space"
   ]
  },
  {
   "cell_type": "code",
   "execution_count": 2,
   "metadata": {},
   "outputs": [],
   "source": [
    "trial_id =8\n",
    "# 8 I imported umap and imported generate_latent_space from viz, turned off eval\n",
    "main_dir = '/Users/jonaheaton/Desktop/stanford_umap_may29'\n",
    "data_dir = os.path.join('/Users/jonaheaton/ReviveMed Dropbox/Jonah Eaton/stanford-hmp2') # data_v1 is only the baseline data\n",
    "output_dir = os.path.join(main_dir, 'latent_space_issues')\n",
    "os.makedirs(output_dir, exist_ok=True)"
   ]
  },
  {
   "cell_type": "code",
   "execution_count": 3,
   "metadata": {},
   "outputs": [
    {
     "name": "stdout",
     "output_type": "stream",
     "text": [
      "Loaded model state from /Users/jonaheaton/Desktop/stanford_umap_may29/trainval_model/encoder_state.pt\n",
      "Loaded model state from /Users/jonaheaton/Desktop/stanford_umap_may29/trainval_model/head_state.pt\n"
     ]
    }
   ],
   "source": [
    "model_dir = os.path.join(main_dir,'trainval_model')\n",
    "encoder = create_model_wrapper(f'{model_dir}/encoder_info.json',f'{model_dir}/encoder_state.pt')\n",
    "head = create_model_wrapper(f'{model_dir}/head_info.json',f'{model_dir}/head_state.pt',is_encoder=False)"
   ]
  },
  {
   "cell_type": "code",
   "execution_count": 4,
   "metadata": {},
   "outputs": [],
   "source": [
    "X_train_val = pd.read_csv(os.path.join(data_dir, 'data_v3','X_stanford-hmp_trainval.csv'),index_col=0)\n",
    "y_train_val = pd.read_csv(os.path.join(data_dir, 'data_v3','y_stanford-hmp_trainval.csv'),index_col=0)\n",
    "X_test = pd.read_csv(os.path.join(data_dir, 'data_v3','X_stanford-hmp_test.csv'),index_col=0)\n",
    "y_test = pd.read_csv(os.path.join(data_dir, 'data_v3','y_stanford-hmp_test.csv'),index_col=0)"
   ]
  },
  {
   "cell_type": "code",
   "execution_count": 5,
   "metadata": {},
   "outputs": [],
   "source": [
    "# convert to X_train_val to tensor\n",
    "X_train_val_tensor = torch.tensor(X_train_val.values, dtype=torch.float32)"
   ]
  },
  {
   "cell_type": "code",
   "execution_count": 6,
   "metadata": {},
   "outputs": [],
   "source": [
    "# encoder.eval()\n",
    "output = encoder.transform(X_train_val_tensor)\n",
    "\n",
    "# convert to numpy\n",
    "output = output.detach().numpy()\n",
    "# save to csv\n",
    "output_df = pd.DataFrame(output, index=X_train_val.index)\n",
    "output_df.to_csv(os.path.join(output_dir, f'output_{trial_id}.csv'))\n"
   ]
  },
  {
   "cell_type": "code",
   "execution_count": 7,
   "metadata": {},
   "outputs": [],
   "source": [
    "# def generate_latent_space(X_data, encoder, batch_size=128):\n",
    "#     encoder.eval()\n",
    "#     if isinstance(X_data, pd.DataFrame):\n",
    "#         x_index = X_data.index\n",
    "#         X_data = torch.tensor(X_data.to_numpy(), dtype=torch.float32)\n",
    "#     Z = torch.tensor([])\n",
    "#     with torch.inference_mode():\n",
    "#         for i in range(0, len(X_data), batch_size):\n",
    "#             # print(i, len(X_data))\n",
    "#             Z_batch = encoder.transform(X_data[i:i+batch_size])\n",
    "#             Z = torch.cat((Z, Z_batch.detach()), dim=0)\n",
    "#         Z = Z.detach().numpy()\n",
    "#     Z_df = pd.DataFrame(Z, index=x_index)\n",
    "#     return Z_df"
   ]
  },
  {
   "cell_type": "code",
   "execution_count": 8,
   "metadata": {},
   "outputs": [],
   "source": [
    "output_2_df = generate_latent_space(X_train_val, encoder)\n",
    "output_2_df.to_csv(os.path.join(output_dir, f'output_opt2_{trial_id}.csv'))"
   ]
  },
  {
   "cell_type": "code",
   "execution_count": 9,
   "metadata": {},
   "outputs": [
    {
     "name": "stdout",
     "output_type": "stream",
     "text": [
      "There are differences between output_2_df and output_df\n",
      "Maximum difference:  21.293152\n"
     ]
    }
   ],
   "source": [
    "# Check if there are any differences between output_2_df and output_df\n",
    "differences = not output_2_df.equals(output_df)\n",
    "\n",
    "if differences:\n",
    "    print(\"There are differences between output_2_df and output_df\")\n",
    "else:\n",
    "    print(\"There are no differences between output_2_df and output_df\")\n",
    "\n",
    "print('Maximum difference: ', np.max(np.abs(output_2_df.values - output_df.values)))"
   ]
  },
  {
   "cell_type": "code",
   "execution_count": 10,
   "metadata": {},
   "outputs": [],
   "source": [
    "Z_trainval = generate_latent_space(X_train_val, encoder=encoder)\n",
    "Z_trainval.to_csv(os.path.join(output_dir,f'Z_stanford-hmp_trainval_{trial_id}.csv'))\n",
    "\n",
    "Z_test = generate_latent_space(X_test, encoder=encoder)\n",
    "Z_test.to_csv(os.path.join(output_dir,f'Z_stanford-hmp_test_{trial_id}.csv'))"
   ]
  },
  {
   "cell_type": "code",
   "execution_count": null,
   "metadata": {},
   "outputs": [],
   "source": []
  }
 ],
 "metadata": {
  "kernelspec": {
   "display_name": "mz_embed_engine",
   "language": "python",
   "name": "python3"
  },
  "language_info": {
   "codemirror_mode": {
    "name": "ipython",
    "version": 3
   },
   "file_extension": ".py",
   "mimetype": "text/x-python",
   "name": "python",
   "nbconvert_exporter": "python",
   "pygments_lexer": "ipython3",
   "version": "3.9.19"
  }
 },
 "nbformat": 4,
 "nbformat_minor": 2
}
