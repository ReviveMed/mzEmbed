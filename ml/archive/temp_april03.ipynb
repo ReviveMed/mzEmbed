{
 "cells": [
  {
   "cell_type": "code",
   "execution_count": null,
   "metadata": {},
   "outputs": [],
   "source": [
    "import pandas as pd\n",
    "import numpy as np\n",
    "from train3 import CompoundDatase\n",
    "from torch.utils.data import DataLoader, SubsetRandomSampler, WeightedRandomSampler\n",
    "from sklearn.model_selection import train_test_split"
   ]
  },
  {
   "cell_type": "code",
   "execution_count": null,
   "metadata": {},
   "outputs": [],
   "source": [
    "data_dir = 'DATA2'\n",
    "X_filename = 'X_pretrain'\n",
    "y_filename = 'y_pretrain'\n",
    "eval_name = 'val'\n",
    "\n",
    "X_data_eval = pd.read_csv(f'{data_dir}/{X_filename}_{eval_name}.csv', index_col=0)\n",
    "y_data_eval = pd.read_csv(f'{data_dir}/{y_filename}_{eval_name}.csv', index_col=0)"
   ]
  },
  {
   "cell_type": "code",
   "execution_count": null,
   "metadata": {},
   "outputs": [],
   "source": [
    "def create_dataloaders(torch_dataset, batch_size, holdout_frac=0, shuffle=True, set_name='train', stratify=None):\n",
    "    if holdout_frac == 0:\n",
    "        return {set_name: DataLoader(torch_dataset, batch_size=batch_size, shuffle=shuffle)}\n",
    "\n",
    "    # Get the targets of your dataset if it's available\n",
    "    if stratify is not None:\n",
    "        targets = [item[stratify] for item in torch_dataset]\n",
    "    else:\n",
    "        targets = None\n",
    "\n",
    "    # Split the indices of your dataset\n",
    "    indices = list(range(len(torch_dataset)))\n",
    "    train_indices, holdout_indices = train_test_split(indices, test_size=holdout_frac, stratify=targets)\n",
    "\n",
    "    # Create samplers\n",
    "    train_sampler = SubsetRandomSampler(train_indices)\n",
    "    holdout_sampler = SubsetRandomSampler(holdout_indices)\n",
    "\n",
    "    return {set_name: DataLoader(torch_dataset, batch_size=batch_size, sampler=train_sampler),\n",
    "            f'{set_name}_holdout': DataLoader(torch_dataset, batch_size=batch_size, sampler=holdout_sampler)}"
   ]
  },
  {
   "cell_type": "code",
   "execution_count": null,
   "metadata": {},
   "outputs": [],
   "source": [
    "eval_dataset = CompoundDataset(X_data_eval,y_data_eval[y_head_cols], y_data_eval[y_adv_cols])\n",
    "\n",
    "train_loader_dct = create_dataloaders(train_dataset, batch_size, holdout_frac, set_name=train_name)\n",
    "eval_loader_dct = create_dataloaders(eval_dataset, batch_size, set_name = eval_name)"
   ]
  }
 ],
 "metadata": {
  "kernelspec": {
   "display_name": "Python 3",
   "language": "python",
   "name": "python3"
  },
  "language_info": {
   "name": "python",
   "version": "3.9.19"
  }
 },
 "nbformat": 4,
 "nbformat_minor": 2
}
