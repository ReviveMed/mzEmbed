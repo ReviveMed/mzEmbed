{
 "cells": [
  {
   "cell_type": "code",
   "execution_count": 1,
   "metadata": {},
   "outputs": [],
   "source": [
    "## Test The new multi-head models"
   ]
  },
  {
   "cell_type": "code",
   "execution_count": 1,
   "metadata": {},
   "outputs": [],
   "source": [
    "import os\n",
    "import pandas as pd\n",
    "import torch\n",
    "from models import Binary_Head, MultiClass_Head, MultiHead\n"
   ]
  },
  {
   "cell_type": "code",
   "execution_count": 2,
   "metadata": {},
   "outputs": [],
   "source": [
    "data_dir= '/DATA2'\n",
    "X_file = os.path.join(data_dir, 'X_finetune_trainval.csv')\n",
    "y_file = os.path.join(data_dir, 'y_finetune_trainval.csv')\n"
   ]
  },
  {
   "cell_type": "code",
   "execution_count": 20,
   "metadata": {},
   "outputs": [],
   "source": [
    "X_df = pd.read_csv(X_file, index_col=0)\n",
    "y_df = pd.read_csv(y_file, index_col=0)"
   ]
  },
  {
   "cell_type": "code",
   "execution_count": 24,
   "metadata": {},
   "outputs": [
    {
     "ename": "SyntaxError",
     "evalue": "invalid syntax (448899414.py, line 1)",
     "output_type": "error",
     "traceback": [
      "\u001b[0;36m  Cell \u001b[0;32mIn[24], line 1\u001b[0;36m\u001b[0m\n\u001b[0;31m    y_df[].shape\u001b[0m\n\u001b[0m         ^\u001b[0m\n\u001b[0;31mSyntaxError\u001b[0m\u001b[0;31m:\u001b[0m invalid syntax\n"
     ]
    }
   ],
   "source": [
    "y_df[].shape"
   ]
  },
  {
   "cell_type": "code",
   "execution_count": 22,
   "metadata": {},
   "outputs": [
    {
     "data": {
      "text/plain": [
       "(592, 0)"
      ]
     },
     "execution_count": 22,
     "metadata": {},
     "output_type": "execute_result"
    }
   ],
   "source": [
    "y_df[[]].shape"
   ]
  },
  {
   "cell_type": "code",
   "execution_count": 23,
   "metadata": {},
   "outputs": [
    {
     "data": {
      "text/plain": [
       "0"
      ]
     },
     "execution_count": 23,
     "metadata": {},
     "output_type": "execute_result"
    }
   ],
   "source": [
    "y_df[[]].size"
   ]
  },
  {
   "cell_type": "code",
   "execution_count": 4,
   "metadata": {},
   "outputs": [
    {
     "data": {
      "text/html": [
       "<div>\n",
       "<style scoped>\n",
       "    .dataframe tbody tr th:only-of-type {\n",
       "        vertical-align: middle;\n",
       "    }\n",
       "\n",
       "    .dataframe tbody tr th {\n",
       "        vertical-align: top;\n",
       "    }\n",
       "\n",
       "    .dataframe thead th {\n",
       "        text-align: right;\n",
       "    }\n",
       "</style>\n",
       "<table border=\"1\" class=\"dataframe\">\n",
       "  <thead>\n",
       "    <tr style=\"text-align: right;\">\n",
       "      <th></th>\n",
       "      <th>cohort_id</th>\n",
       "      <th>Study ID</th>\n",
       "      <th>Cohort Label</th>\n",
       "      <th>Cohort ID</th>\n",
       "      <th>OS</th>\n",
       "      <th>OS_Event</th>\n",
       "      <th>Age</th>\n",
       "      <th>subject ID</th>\n",
       "      <th>study_week</th>\n",
       "      <th>Region</th>\n",
       "      <th>...</th>\n",
       "      <th>Benefit ORDINAL</th>\n",
       "      <th>Nivo Benefit BINARY</th>\n",
       "      <th>MSKCC BINARY</th>\n",
       "      <th>MSKCC ORDINAL</th>\n",
       "      <th>Matt Set</th>\n",
       "      <th>Set</th>\n",
       "      <th>Pretrain</th>\n",
       "      <th>is Pediatric</th>\n",
       "      <th>Cohort Label ENC</th>\n",
       "      <th>Study ID ENC</th>\n",
       "    </tr>\n",
       "  </thead>\n",
       "  <tbody>\n",
       "    <tr>\n",
       "      <th>0092_Marios_PD1_Inhib2_HP-L1366505-7.mzML</th>\n",
       "      <td>541</td>\n",
       "      <td>ST001237</td>\n",
       "      <td>adult_cancer</td>\n",
       "      <td>541</td>\n",
       "      <td>3.614000</td>\n",
       "      <td>1.0</td>\n",
       "      <td>64.0</td>\n",
       "      <td>CA209025-125-525</td>\n",
       "      <td>baseline</td>\n",
       "      <td>REST OF WORLD</td>\n",
       "      <td>...</td>\n",
       "      <td>0.0</td>\n",
       "      <td>NaN</td>\n",
       "      <td>0.0</td>\n",
       "      <td>0.0</td>\n",
       "      <td>Train</td>\n",
       "      <td>Finetune</td>\n",
       "      <td>NaN</td>\n",
       "      <td>False</td>\n",
       "      <td>0</td>\n",
       "      <td>4</td>\n",
       "    </tr>\n",
       "    <tr>\n",
       "      <th>0432_Marios_PD1_Inhib2_HP-EA185078-17.mzML</th>\n",
       "      <td>541</td>\n",
       "      <td>ST001237</td>\n",
       "      <td>adult_cancer</td>\n",
       "      <td>541</td>\n",
       "      <td>3.909700</td>\n",
       "      <td>1.0</td>\n",
       "      <td>65.0</td>\n",
       "      <td>CA209025-108-510</td>\n",
       "      <td>baseline</td>\n",
       "      <td>REST OF WORLD</td>\n",
       "      <td>...</td>\n",
       "      <td>1.0</td>\n",
       "      <td>NaN</td>\n",
       "      <td>NaN</td>\n",
       "      <td>1.0</td>\n",
       "      <td>Train</td>\n",
       "      <td>Finetune</td>\n",
       "      <td>NaN</td>\n",
       "      <td>False</td>\n",
       "      <td>0</td>\n",
       "      <td>4</td>\n",
       "    </tr>\n",
       "    <tr>\n",
       "      <th>0487_Marios_PD1_Inhib2_HP-L1443422-9.mzML</th>\n",
       "      <td>541</td>\n",
       "      <td>ST001237</td>\n",
       "      <td>adult_cancer</td>\n",
       "      <td>541</td>\n",
       "      <td>50.759754</td>\n",
       "      <td>0.0</td>\n",
       "      <td>57.0</td>\n",
       "      <td>CA209025-84-1041</td>\n",
       "      <td>baseline</td>\n",
       "      <td>REST OF WORLD</td>\n",
       "      <td>...</td>\n",
       "      <td>2.0</td>\n",
       "      <td>1.0</td>\n",
       "      <td>NaN</td>\n",
       "      <td>1.0</td>\n",
       "      <td>Train</td>\n",
       "      <td>Finetune</td>\n",
       "      <td>NaN</td>\n",
       "      <td>False</td>\n",
       "      <td>0</td>\n",
       "      <td>4</td>\n",
       "    </tr>\n",
       "    <tr>\n",
       "      <th>0077_Marios_PD1_Inhib2_HP-E9479165-7.mzML</th>\n",
       "      <td>541</td>\n",
       "      <td>ST001237</td>\n",
       "      <td>adult_cancer</td>\n",
       "      <td>541</td>\n",
       "      <td>31.047228</td>\n",
       "      <td>1.0</td>\n",
       "      <td>69.0</td>\n",
       "      <td>CA209025-75-615</td>\n",
       "      <td>baseline</td>\n",
       "      <td>WESTERN EUROPE</td>\n",
       "      <td>...</td>\n",
       "      <td>2.0</td>\n",
       "      <td>1.0</td>\n",
       "      <td>1.0</td>\n",
       "      <td>2.0</td>\n",
       "      <td>Train</td>\n",
       "      <td>Finetune</td>\n",
       "      <td>NaN</td>\n",
       "      <td>False</td>\n",
       "      <td>0</td>\n",
       "      <td>4</td>\n",
       "    </tr>\n",
       "    <tr>\n",
       "      <th>1090_Marios_PD1_Inhib2_HP-E9123055-7.mzML</th>\n",
       "      <td>541</td>\n",
       "      <td>ST001237</td>\n",
       "      <td>adult_cancer</td>\n",
       "      <td>541</td>\n",
       "      <td>1.938400</td>\n",
       "      <td>1.0</td>\n",
       "      <td>68.0</td>\n",
       "      <td>CA209025-114-60</td>\n",
       "      <td>baseline</td>\n",
       "      <td>WESTERN EUROPE</td>\n",
       "      <td>...</td>\n",
       "      <td>1.0</td>\n",
       "      <td>NaN</td>\n",
       "      <td>NaN</td>\n",
       "      <td>1.0</td>\n",
       "      <td>Train</td>\n",
       "      <td>Finetune</td>\n",
       "      <td>NaN</td>\n",
       "      <td>False</td>\n",
       "      <td>0</td>\n",
       "      <td>4</td>\n",
       "    </tr>\n",
       "  </tbody>\n",
       "</table>\n",
       "<p>5 rows × 38 columns</p>\n",
       "</div>"
      ],
      "text/plain": [
       "                                            cohort_id  Study ID  Cohort Label  \\\n",
       "0092_Marios_PD1_Inhib2_HP-L1366505-7.mzML         541  ST001237  adult_cancer   \n",
       "0432_Marios_PD1_Inhib2_HP-EA185078-17.mzML        541  ST001237  adult_cancer   \n",
       "0487_Marios_PD1_Inhib2_HP-L1443422-9.mzML         541  ST001237  adult_cancer   \n",
       "0077_Marios_PD1_Inhib2_HP-E9479165-7.mzML         541  ST001237  adult_cancer   \n",
       "1090_Marios_PD1_Inhib2_HP-E9123055-7.mzML         541  ST001237  adult_cancer   \n",
       "\n",
       "                                            Cohort ID         OS  OS_Event  \\\n",
       "0092_Marios_PD1_Inhib2_HP-L1366505-7.mzML         541   3.614000       1.0   \n",
       "0432_Marios_PD1_Inhib2_HP-EA185078-17.mzML        541   3.909700       1.0   \n",
       "0487_Marios_PD1_Inhib2_HP-L1443422-9.mzML         541  50.759754       0.0   \n",
       "0077_Marios_PD1_Inhib2_HP-E9479165-7.mzML         541  31.047228       1.0   \n",
       "1090_Marios_PD1_Inhib2_HP-E9123055-7.mzML         541   1.938400       1.0   \n",
       "\n",
       "                                             Age        subject ID study_week  \\\n",
       "0092_Marios_PD1_Inhib2_HP-L1366505-7.mzML   64.0  CA209025-125-525   baseline   \n",
       "0432_Marios_PD1_Inhib2_HP-EA185078-17.mzML  65.0  CA209025-108-510   baseline   \n",
       "0487_Marios_PD1_Inhib2_HP-L1443422-9.mzML   57.0  CA209025-84-1041   baseline   \n",
       "0077_Marios_PD1_Inhib2_HP-E9479165-7.mzML   69.0   CA209025-75-615   baseline   \n",
       "1090_Marios_PD1_Inhib2_HP-E9123055-7.mzML   68.0   CA209025-114-60   baseline   \n",
       "\n",
       "                                                    Region  ...  \\\n",
       "0092_Marios_PD1_Inhib2_HP-L1366505-7.mzML    REST OF WORLD  ...   \n",
       "0432_Marios_PD1_Inhib2_HP-EA185078-17.mzML   REST OF WORLD  ...   \n",
       "0487_Marios_PD1_Inhib2_HP-L1443422-9.mzML    REST OF WORLD  ...   \n",
       "0077_Marios_PD1_Inhib2_HP-E9479165-7.mzML   WESTERN EUROPE  ...   \n",
       "1090_Marios_PD1_Inhib2_HP-E9123055-7.mzML   WESTERN EUROPE  ...   \n",
       "\n",
       "                                           Benefit ORDINAL  \\\n",
       "0092_Marios_PD1_Inhib2_HP-L1366505-7.mzML              0.0   \n",
       "0432_Marios_PD1_Inhib2_HP-EA185078-17.mzML             1.0   \n",
       "0487_Marios_PD1_Inhib2_HP-L1443422-9.mzML              2.0   \n",
       "0077_Marios_PD1_Inhib2_HP-E9479165-7.mzML              2.0   \n",
       "1090_Marios_PD1_Inhib2_HP-E9123055-7.mzML              1.0   \n",
       "\n",
       "                                           Nivo Benefit BINARY  MSKCC BINARY  \\\n",
       "0092_Marios_PD1_Inhib2_HP-L1366505-7.mzML                  NaN           0.0   \n",
       "0432_Marios_PD1_Inhib2_HP-EA185078-17.mzML                 NaN           NaN   \n",
       "0487_Marios_PD1_Inhib2_HP-L1443422-9.mzML                  1.0           NaN   \n",
       "0077_Marios_PD1_Inhib2_HP-E9479165-7.mzML                  1.0           1.0   \n",
       "1090_Marios_PD1_Inhib2_HP-E9123055-7.mzML                  NaN           NaN   \n",
       "\n",
       "                                           MSKCC ORDINAL Matt Set       Set  \\\n",
       "0092_Marios_PD1_Inhib2_HP-L1366505-7.mzML            0.0    Train  Finetune   \n",
       "0432_Marios_PD1_Inhib2_HP-EA185078-17.mzML           1.0    Train  Finetune   \n",
       "0487_Marios_PD1_Inhib2_HP-L1443422-9.mzML            1.0    Train  Finetune   \n",
       "0077_Marios_PD1_Inhib2_HP-E9479165-7.mzML            2.0    Train  Finetune   \n",
       "1090_Marios_PD1_Inhib2_HP-E9123055-7.mzML            1.0    Train  Finetune   \n",
       "\n",
       "                                            Pretrain  is Pediatric  \\\n",
       "0092_Marios_PD1_Inhib2_HP-L1366505-7.mzML        NaN         False   \n",
       "0432_Marios_PD1_Inhib2_HP-EA185078-17.mzML       NaN         False   \n",
       "0487_Marios_PD1_Inhib2_HP-L1443422-9.mzML        NaN         False   \n",
       "0077_Marios_PD1_Inhib2_HP-E9479165-7.mzML        NaN         False   \n",
       "1090_Marios_PD1_Inhib2_HP-E9123055-7.mzML        NaN         False   \n",
       "\n",
       "                                            Cohort Label ENC Study ID ENC  \n",
       "0092_Marios_PD1_Inhib2_HP-L1366505-7.mzML                  0            4  \n",
       "0432_Marios_PD1_Inhib2_HP-EA185078-17.mzML                 0            4  \n",
       "0487_Marios_PD1_Inhib2_HP-L1443422-9.mzML                  0            4  \n",
       "0077_Marios_PD1_Inhib2_HP-E9479165-7.mzML                  0            4  \n",
       "1090_Marios_PD1_Inhib2_HP-E9123055-7.mzML                  0            4  \n",
       "\n",
       "[5 rows x 38 columns]"
      ]
     },
     "execution_count": 4,
     "metadata": {},
     "output_type": "execute_result"
    }
   ],
   "source": [
    "y_df.head()"
   ]
  },
  {
   "cell_type": "code",
   "execution_count": 5,
   "metadata": {},
   "outputs": [],
   "source": [
    "X = torch.tensor(X_df.values, dtype=torch.float32)\n",
    "y = torch.tensor(y_df[['MSKCC BINARY','Benefit ORDINAL']].values, dtype=torch.float32)"
   ]
  },
  {
   "cell_type": "code",
   "execution_count": 6,
   "metadata": {},
   "outputs": [],
   "source": [
    "model1 = Binary_Head(name='mskcc')\n",
    "model2 = MultiClass_Head(name='benefit',y_idx=1,num_classes=3)\n",
    "\n",
    "model1.define_architecture(input_size=X.shape[1],output_size=1)\n",
    "model2.define_architecture(input_size=X.shape[1])\n"
   ]
  },
  {
   "cell_type": "code",
   "execution_count": 13,
   "metadata": {},
   "outputs": [],
   "source": []
  },
  {
   "cell_type": "code",
   "execution_count": 7,
   "metadata": {},
   "outputs": [],
   "source": [
    "model = MultiHead([model1,model2])"
   ]
  },
  {
   "cell_type": "code",
   "execution_count": 8,
   "metadata": {},
   "outputs": [
    {
     "data": {
      "text/plain": [
       "{'training': True,\n",
       " 'goal': 'classify',\n",
       " 'kind': 'Binary',\n",
       " 'name': 'mskcc',\n",
       " 'y_idx': 0,\n",
       " 'weight': 1.0,\n",
       " 'input_size': 2736,\n",
       " 'output_size': 1,\n",
       " 'architecture': {'input_size': 2736, 'output_size': 1},\n",
       " 'score_func_dict': {'AUROC': BinaryAUROC()},\n",
       " 'class_weight': None,\n",
       " 'pos_class_weight': None,\n",
       " 'loss_reduction': 'mean'}"
      ]
     },
     "execution_count": 8,
     "metadata": {},
     "output_type": "execute_result"
    }
   ],
   "source": [
    "model1.get_hyperparameters()"
   ]
  },
  {
   "cell_type": "code",
   "execution_count": 9,
   "metadata": {},
   "outputs": [
    {
     "data": {
      "text/plain": [
       "MultiHead(\n",
       "  (heads): ModuleList(\n",
       "    (0): Binary_Head(\n",
       "      (network): Dense_Layers(\n",
       "        (network): Sequential(\n",
       "          (0): Linear(in_features=2736, out_features=1, bias=True)\n",
       "          (1): LeakyReLU(negative_slope=0.01)\n",
       "          (2): Dropout(p=0.2, inplace=False)\n",
       "          (output_layer): Sequential(\n",
       "            (0): Linear(in_features=1, out_features=1, bias=True)\n",
       "          )\n",
       "        )\n",
       "      )\n",
       "      (loss_func): BCEWithLogitsLoss()\n",
       "    )\n",
       "    (1): MultiClass_Head(\n",
       "      (network): Dense_Layers(\n",
       "        (network): Sequential(\n",
       "          (0): Linear(in_features=2736, out_features=1, bias=True)\n",
       "          (1): LeakyReLU(negative_slope=0.01)\n",
       "          (2): Dropout(p=0.2, inplace=False)\n",
       "          (output_layer): Sequential(\n",
       "            (0): Linear(in_features=1, out_features=3, bias=True)\n",
       "          )\n",
       "        )\n",
       "      )\n",
       "      (loss_func): CrossEntropyLoss()\n",
       "    )\n",
       "  )\n",
       ")"
      ]
     },
     "execution_count": 9,
     "metadata": {},
     "output_type": "execute_result"
    }
   ],
   "source": [
    "model"
   ]
  },
  {
   "cell_type": "code",
   "execution_count": 10,
   "metadata": {},
   "outputs": [],
   "source": [
    "outputs = model(X[0:10])"
   ]
  },
  {
   "cell_type": "code",
   "execution_count": 16,
   "metadata": {},
   "outputs": [
    {
     "data": {
      "text/plain": [
       "tensor([[-0.7825,  1.3744, -1.0287,  ...,  0.7922,  2.7728, -0.3425],\n",
       "        [-0.7808,  1.3782, -1.0278,  ...,  0.7960,  2.7761,  0.1011],\n",
       "        [-0.6111, -0.6626, -0.9367,  ...,  1.3224,  0.6127,  4.1957],\n",
       "        ...,\n",
       "        [-0.7231, -0.1691, -0.9968,  ...,  0.2307, -0.2754,  0.4597],\n",
       "        [-0.8070,  1.3180, -1.0418,  ...,  0.7360,  2.7243,  0.2705],\n",
       "        [-0.7667,  0.9259, -1.0202,  ...,  2.1577,  2.8040, -0.8570]])"
      ]
     },
     "execution_count": 16,
     "metadata": {},
     "output_type": "execute_result"
    }
   ],
   "source": [
    "X[0:10,:]"
   ]
  },
  {
   "cell_type": "code",
   "execution_count": 18,
   "metadata": {},
   "outputs": [
    {
     "data": {
      "text/plain": [
       "tensor([[0., 0.],\n",
       "        [nan, 1.],\n",
       "        [nan, 2.],\n",
       "        [1., 2.],\n",
       "        [nan, 1.],\n",
       "        [0., 0.],\n",
       "        [nan, 1.],\n",
       "        [0., 1.],\n",
       "        [nan, 2.],\n",
       "        [0., 1.]])"
      ]
     },
     "execution_count": 18,
     "metadata": {},
     "output_type": "execute_result"
    }
   ],
   "source": [
    "y[0:10,:]"
   ]
  },
  {
   "cell_type": "code",
   "execution_count": 14,
   "metadata": {},
   "outputs": [
    {
     "data": {
      "text/plain": [
       "tensor([[0., 0.],\n",
       "        [nan, 1.],\n",
       "        [nan, 2.],\n",
       "        [1., 2.],\n",
       "        [nan, 1.],\n",
       "        [0., 0.],\n",
       "        [nan, 1.],\n",
       "        [0., 1.],\n",
       "        [nan, 2.],\n",
       "        [0., 1.]])"
      ]
     },
     "execution_count": 14,
     "metadata": {},
     "output_type": "execute_result"
    }
   ],
   "source": [
    "y[0:10]"
   ]
  },
  {
   "cell_type": "code",
   "execution_count": 11,
   "metadata": {},
   "outputs": [
    {
     "data": {
      "text/plain": [
       "{'Binary_mskcc': {'AUROC': tensor(0.5000)},\n",
       " 'MultiClass_benefit': {'AUROC': tensor(0.2600)}}"
      ]
     },
     "execution_count": 11,
     "metadata": {},
     "output_type": "execute_result"
    }
   ],
   "source": [
    "model.score(outputs,y[0:10,:])"
   ]
  },
  {
   "cell_type": "code",
   "execution_count": 12,
   "metadata": {},
   "outputs": [
    {
     "data": {
      "text/plain": [
       "tensor(1.8532, grad_fn=<AddBackward0>)"
      ]
     },
     "execution_count": 12,
     "metadata": {},
     "output_type": "execute_result"
    }
   ],
   "source": [
    "model.loss(outputs,y[0:10,:])"
   ]
  },
  {
   "cell_type": "code",
   "execution_count": 13,
   "metadata": {},
   "outputs": [
    {
     "data": {
      "text/plain": [
       "{'Binary_mskcc': tensor(0.5753, grad_fn=<BinaryCrossEntropyWithLogitsBackward0>),\n",
       " 'MultiClass_benefit': tensor(1.2779, grad_fn=<NllLossBackward0>)}"
      ]
     },
     "execution_count": 13,
     "metadata": {},
     "output_type": "execute_result"
    }
   ],
   "source": [
    "model.multi_loss(outputs,y[0:10,:])"
   ]
  },
  {
   "cell_type": "code",
   "execution_count": 18,
   "metadata": {},
   "outputs": [],
   "source": [
    "model.save_info(data_dir)"
   ]
  },
  {
   "cell_type": "code",
   "execution_count": 16,
   "metadata": {},
   "outputs": [
    {
     "data": {
      "text/plain": [
       "torch.Size([592, 2736])"
      ]
     },
     "execution_count": 16,
     "metadata": {},
     "output_type": "execute_result"
    }
   ],
   "source": [
    "X.shape"
   ]
  },
  {
   "cell_type": "code",
   "execution_count": 19,
   "metadata": {},
   "outputs": [
    {
     "data": {
      "text/plain": [
       "tensor([[0.],\n",
       "        [nan],\n",
       "        [nan],\n",
       "        [1.],\n",
       "        [nan],\n",
       "        [0.],\n",
       "        [nan],\n",
       "        [0.],\n",
       "        [nan],\n",
       "        [0.]])"
      ]
     },
     "execution_count": 19,
     "metadata": {},
     "output_type": "execute_result"
    }
   ],
   "source": [
    "y[:10,:]"
   ]
  },
  {
   "cell_type": "code",
   "execution_count": 22,
   "metadata": {},
   "outputs": [
    {
     "data": {
      "text/plain": [
       "tensor(0.8890, grad_fn=<BinaryCrossEntropyWithLogitsBackward0>)"
      ]
     },
     "execution_count": 22,
     "metadata": {},
     "output_type": "execute_result"
    }
   ],
   "source": [
    "model.loss(output, y[:10,:])"
   ]
  },
  {
   "cell_type": "code",
   "execution_count": 23,
   "metadata": {},
   "outputs": [
    {
     "data": {
      "text/plain": [
       "tensor(1.)"
      ]
     },
     "execution_count": 23,
     "metadata": {},
     "output_type": "execute_result"
    }
   ],
   "source": [
    "model.score(output, y[:10,:])"
   ]
  },
  {
   "cell_type": "code",
   "execution_count": 24,
   "metadata": {},
   "outputs": [],
   "source": [
    "model.get_hyperparameters()"
   ]
  },
  {
   "cell_type": "code",
   "execution_count": 9,
   "metadata": {},
   "outputs": [],
   "source": [
    "model1.save_info(data_dir)"
   ]
  },
  {
   "cell_type": "code",
   "execution_count": 19,
   "metadata": {},
   "outputs": [],
   "source": [
    "model.save_state(data_dir)"
   ]
  },
  {
   "cell_type": "code",
   "execution_count": 26,
   "metadata": {},
   "outputs": [],
   "source": [
    "import numpy as np\n"
   ]
  },
  {
   "cell_type": "code",
   "execution_count": 27,
   "metadata": {},
   "outputs": [
    {
     "data": {
      "text/plain": [
       "array([2, 5])"
      ]
     },
     "execution_count": 27,
     "metadata": {},
     "output_type": "execute_result"
    }
   ],
   "source": [
    "my_temp = [1,2,3,5]\n",
    "\n",
    "np.array(my_temp)[[1,3]]"
   ]
  },
  {
   "cell_type": "code",
   "execution_count": 29,
   "metadata": {},
   "outputs": [
    {
     "data": {
      "text/plain": [
       "1    2\n",
       "3    5\n",
       "dtype: int64"
      ]
     },
     "execution_count": 29,
     "metadata": {},
     "output_type": "execute_result"
    }
   ],
   "source": [
    "pd.Series(my_temp).iloc[[1,3]]"
   ]
  },
  {
   "cell_type": "code",
   "execution_count": 30,
   "metadata": {},
   "outputs": [
    {
     "data": {
      "text/plain": [
       "0"
      ]
     },
     "execution_count": 30,
     "metadata": {},
     "output_type": "execute_result"
    }
   ],
   "source": [
    "model1.y_idx"
   ]
  },
  {
   "cell_type": "code",
   "execution_count": 31,
   "metadata": {},
   "outputs": [
    {
     "data": {
      "text/plain": [
       "'mskcc'"
      ]
     },
     "execution_count": 31,
     "metadata": {},
     "output_type": "execute_result"
    }
   ],
   "source": [
    "model1.name"
   ]
  },
  {
   "cell_type": "code",
   "execution_count": 36,
   "metadata": {},
   "outputs": [
    {
     "data": {
      "text/plain": [
       "[[0.868815004825592, 0.7470402717590332, 0.40934106707572937],\n",
       " [0.4383719265460968, 0.029471123591065407, -0.8120167255401611],\n",
       " [0.4430046081542969, 0.037194013595581055, -0.7988717555999756],\n",
       " [0.44112923741340637, 0.03406766802072525, -0.8041930198669434],\n",
       " [0.46984803676605225, 0.08194328099489212, -0.722705066204071],\n",
       " [0.5655702352523804, 0.24151675403118134, -0.451098769903183],\n",
       " [0.44120195508003235, 0.03418891876935959, -0.803986668586731],\n",
       " [0.4468335807323456, 0.043577101081609726, -0.7880072593688965],\n",
       " [0.4407656788825989, 0.033461589366197586, -0.8052246570587158],\n",
       " [0.4405214190483093, 0.03305443748831749, -0.8059176206588745]]"
      ]
     },
     "execution_count": 36,
     "metadata": {},
     "output_type": "execute_result"
    }
   ],
   "source": [
    "outputs['MultiClass_benefit'].tolist()"
   ]
  },
  {
   "cell_type": "code",
   "execution_count": 37,
   "metadata": {},
   "outputs": [
    {
     "data": {
      "text/html": [
       "<div>\n",
       "<style scoped>\n",
       "    .dataframe tbody tr th:only-of-type {\n",
       "        vertical-align: middle;\n",
       "    }\n",
       "\n",
       "    .dataframe tbody tr th {\n",
       "        vertical-align: top;\n",
       "    }\n",
       "\n",
       "    .dataframe thead th {\n",
       "        text-align: right;\n",
       "    }\n",
       "</style>\n",
       "<table border=\"1\" class=\"dataframe\">\n",
       "  <thead>\n",
       "    <tr style=\"text-align: right;\">\n",
       "      <th></th>\n",
       "      <th>cohort_id</th>\n",
       "      <th>Study ID</th>\n",
       "      <th>Cohort Label</th>\n",
       "      <th>Cohort ID</th>\n",
       "      <th>OS</th>\n",
       "      <th>OS_Event</th>\n",
       "      <th>Age</th>\n",
       "      <th>subject ID</th>\n",
       "      <th>study_week</th>\n",
       "      <th>Region</th>\n",
       "      <th>...</th>\n",
       "      <th>Benefit ORDINAL</th>\n",
       "      <th>Nivo Benefit BINARY</th>\n",
       "      <th>MSKCC BINARY</th>\n",
       "      <th>MSKCC ORDINAL</th>\n",
       "      <th>Matt Set</th>\n",
       "      <th>Set</th>\n",
       "      <th>Pretrain</th>\n",
       "      <th>is Pediatric</th>\n",
       "      <th>Cohort Label ENC</th>\n",
       "      <th>Study ID ENC</th>\n",
       "    </tr>\n",
       "  </thead>\n",
       "  <tbody>\n",
       "    <tr>\n",
       "      <th>0092_Marios_PD1_Inhib2_HP-L1366505-7.mzML</th>\n",
       "      <td>541</td>\n",
       "      <td>ST001237</td>\n",
       "      <td>adult_cancer</td>\n",
       "      <td>541</td>\n",
       "      <td>3.614000</td>\n",
       "      <td>1.0</td>\n",
       "      <td>64.0</td>\n",
       "      <td>CA209025-125-525</td>\n",
       "      <td>baseline</td>\n",
       "      <td>REST OF WORLD</td>\n",
       "      <td>...</td>\n",
       "      <td>0.0</td>\n",
       "      <td>NaN</td>\n",
       "      <td>0.0</td>\n",
       "      <td>0.0</td>\n",
       "      <td>Train</td>\n",
       "      <td>Finetune</td>\n",
       "      <td>NaN</td>\n",
       "      <td>False</td>\n",
       "      <td>0</td>\n",
       "      <td>4</td>\n",
       "    </tr>\n",
       "    <tr>\n",
       "      <th>0432_Marios_PD1_Inhib2_HP-EA185078-17.mzML</th>\n",
       "      <td>541</td>\n",
       "      <td>ST001237</td>\n",
       "      <td>adult_cancer</td>\n",
       "      <td>541</td>\n",
       "      <td>3.909700</td>\n",
       "      <td>1.0</td>\n",
       "      <td>65.0</td>\n",
       "      <td>CA209025-108-510</td>\n",
       "      <td>baseline</td>\n",
       "      <td>REST OF WORLD</td>\n",
       "      <td>...</td>\n",
       "      <td>1.0</td>\n",
       "      <td>NaN</td>\n",
       "      <td>NaN</td>\n",
       "      <td>1.0</td>\n",
       "      <td>Train</td>\n",
       "      <td>Finetune</td>\n",
       "      <td>NaN</td>\n",
       "      <td>False</td>\n",
       "      <td>0</td>\n",
       "      <td>4</td>\n",
       "    </tr>\n",
       "    <tr>\n",
       "      <th>0487_Marios_PD1_Inhib2_HP-L1443422-9.mzML</th>\n",
       "      <td>541</td>\n",
       "      <td>ST001237</td>\n",
       "      <td>adult_cancer</td>\n",
       "      <td>541</td>\n",
       "      <td>50.759754</td>\n",
       "      <td>0.0</td>\n",
       "      <td>57.0</td>\n",
       "      <td>CA209025-84-1041</td>\n",
       "      <td>baseline</td>\n",
       "      <td>REST OF WORLD</td>\n",
       "      <td>...</td>\n",
       "      <td>2.0</td>\n",
       "      <td>1.0</td>\n",
       "      <td>NaN</td>\n",
       "      <td>1.0</td>\n",
       "      <td>Train</td>\n",
       "      <td>Finetune</td>\n",
       "      <td>NaN</td>\n",
       "      <td>False</td>\n",
       "      <td>0</td>\n",
       "      <td>4</td>\n",
       "    </tr>\n",
       "    <tr>\n",
       "      <th>0077_Marios_PD1_Inhib2_HP-E9479165-7.mzML</th>\n",
       "      <td>541</td>\n",
       "      <td>ST001237</td>\n",
       "      <td>adult_cancer</td>\n",
       "      <td>541</td>\n",
       "      <td>31.047228</td>\n",
       "      <td>1.0</td>\n",
       "      <td>69.0</td>\n",
       "      <td>CA209025-75-615</td>\n",
       "      <td>baseline</td>\n",
       "      <td>WESTERN EUROPE</td>\n",
       "      <td>...</td>\n",
       "      <td>2.0</td>\n",
       "      <td>1.0</td>\n",
       "      <td>1.0</td>\n",
       "      <td>2.0</td>\n",
       "      <td>Train</td>\n",
       "      <td>Finetune</td>\n",
       "      <td>NaN</td>\n",
       "      <td>False</td>\n",
       "      <td>0</td>\n",
       "      <td>4</td>\n",
       "    </tr>\n",
       "    <tr>\n",
       "      <th>1090_Marios_PD1_Inhib2_HP-E9123055-7.mzML</th>\n",
       "      <td>541</td>\n",
       "      <td>ST001237</td>\n",
       "      <td>adult_cancer</td>\n",
       "      <td>541</td>\n",
       "      <td>1.938400</td>\n",
       "      <td>1.0</td>\n",
       "      <td>68.0</td>\n",
       "      <td>CA209025-114-60</td>\n",
       "      <td>baseline</td>\n",
       "      <td>WESTERN EUROPE</td>\n",
       "      <td>...</td>\n",
       "      <td>1.0</td>\n",
       "      <td>NaN</td>\n",
       "      <td>NaN</td>\n",
       "      <td>1.0</td>\n",
       "      <td>Train</td>\n",
       "      <td>Finetune</td>\n",
       "      <td>NaN</td>\n",
       "      <td>False</td>\n",
       "      <td>0</td>\n",
       "      <td>4</td>\n",
       "    </tr>\n",
       "  </tbody>\n",
       "</table>\n",
       "<p>5 rows × 38 columns</p>\n",
       "</div>"
      ],
      "text/plain": [
       "                                            cohort_id  Study ID  Cohort Label  \\\n",
       "0092_Marios_PD1_Inhib2_HP-L1366505-7.mzML         541  ST001237  adult_cancer   \n",
       "0432_Marios_PD1_Inhib2_HP-EA185078-17.mzML        541  ST001237  adult_cancer   \n",
       "0487_Marios_PD1_Inhib2_HP-L1443422-9.mzML         541  ST001237  adult_cancer   \n",
       "0077_Marios_PD1_Inhib2_HP-E9479165-7.mzML         541  ST001237  adult_cancer   \n",
       "1090_Marios_PD1_Inhib2_HP-E9123055-7.mzML         541  ST001237  adult_cancer   \n",
       "\n",
       "                                            Cohort ID         OS  OS_Event  \\\n",
       "0092_Marios_PD1_Inhib2_HP-L1366505-7.mzML         541   3.614000       1.0   \n",
       "0432_Marios_PD1_Inhib2_HP-EA185078-17.mzML        541   3.909700       1.0   \n",
       "0487_Marios_PD1_Inhib2_HP-L1443422-9.mzML         541  50.759754       0.0   \n",
       "0077_Marios_PD1_Inhib2_HP-E9479165-7.mzML         541  31.047228       1.0   \n",
       "1090_Marios_PD1_Inhib2_HP-E9123055-7.mzML         541   1.938400       1.0   \n",
       "\n",
       "                                             Age        subject ID study_week  \\\n",
       "0092_Marios_PD1_Inhib2_HP-L1366505-7.mzML   64.0  CA209025-125-525   baseline   \n",
       "0432_Marios_PD1_Inhib2_HP-EA185078-17.mzML  65.0  CA209025-108-510   baseline   \n",
       "0487_Marios_PD1_Inhib2_HP-L1443422-9.mzML   57.0  CA209025-84-1041   baseline   \n",
       "0077_Marios_PD1_Inhib2_HP-E9479165-7.mzML   69.0   CA209025-75-615   baseline   \n",
       "1090_Marios_PD1_Inhib2_HP-E9123055-7.mzML   68.0   CA209025-114-60   baseline   \n",
       "\n",
       "                                                    Region  ...  \\\n",
       "0092_Marios_PD1_Inhib2_HP-L1366505-7.mzML    REST OF WORLD  ...   \n",
       "0432_Marios_PD1_Inhib2_HP-EA185078-17.mzML   REST OF WORLD  ...   \n",
       "0487_Marios_PD1_Inhib2_HP-L1443422-9.mzML    REST OF WORLD  ...   \n",
       "0077_Marios_PD1_Inhib2_HP-E9479165-7.mzML   WESTERN EUROPE  ...   \n",
       "1090_Marios_PD1_Inhib2_HP-E9123055-7.mzML   WESTERN EUROPE  ...   \n",
       "\n",
       "                                           Benefit ORDINAL  \\\n",
       "0092_Marios_PD1_Inhib2_HP-L1366505-7.mzML              0.0   \n",
       "0432_Marios_PD1_Inhib2_HP-EA185078-17.mzML             1.0   \n",
       "0487_Marios_PD1_Inhib2_HP-L1443422-9.mzML              2.0   \n",
       "0077_Marios_PD1_Inhib2_HP-E9479165-7.mzML              2.0   \n",
       "1090_Marios_PD1_Inhib2_HP-E9123055-7.mzML              1.0   \n",
       "\n",
       "                                           Nivo Benefit BINARY  MSKCC BINARY  \\\n",
       "0092_Marios_PD1_Inhib2_HP-L1366505-7.mzML                  NaN           0.0   \n",
       "0432_Marios_PD1_Inhib2_HP-EA185078-17.mzML                 NaN           NaN   \n",
       "0487_Marios_PD1_Inhib2_HP-L1443422-9.mzML                  1.0           NaN   \n",
       "0077_Marios_PD1_Inhib2_HP-E9479165-7.mzML                  1.0           1.0   \n",
       "1090_Marios_PD1_Inhib2_HP-E9123055-7.mzML                  NaN           NaN   \n",
       "\n",
       "                                           MSKCC ORDINAL Matt Set       Set  \\\n",
       "0092_Marios_PD1_Inhib2_HP-L1366505-7.mzML            0.0    Train  Finetune   \n",
       "0432_Marios_PD1_Inhib2_HP-EA185078-17.mzML           1.0    Train  Finetune   \n",
       "0487_Marios_PD1_Inhib2_HP-L1443422-9.mzML            1.0    Train  Finetune   \n",
       "0077_Marios_PD1_Inhib2_HP-E9479165-7.mzML            2.0    Train  Finetune   \n",
       "1090_Marios_PD1_Inhib2_HP-E9123055-7.mzML            1.0    Train  Finetune   \n",
       "\n",
       "                                            Pretrain  is Pediatric  \\\n",
       "0092_Marios_PD1_Inhib2_HP-L1366505-7.mzML        NaN         False   \n",
       "0432_Marios_PD1_Inhib2_HP-EA185078-17.mzML       NaN         False   \n",
       "0487_Marios_PD1_Inhib2_HP-L1443422-9.mzML        NaN         False   \n",
       "0077_Marios_PD1_Inhib2_HP-E9479165-7.mzML        NaN         False   \n",
       "1090_Marios_PD1_Inhib2_HP-E9123055-7.mzML        NaN         False   \n",
       "\n",
       "                                            Cohort Label ENC Study ID ENC  \n",
       "0092_Marios_PD1_Inhib2_HP-L1366505-7.mzML                  0            4  \n",
       "0432_Marios_PD1_Inhib2_HP-EA185078-17.mzML                 0            4  \n",
       "0487_Marios_PD1_Inhib2_HP-L1443422-9.mzML                  0            4  \n",
       "0077_Marios_PD1_Inhib2_HP-E9479165-7.mzML                  0            4  \n",
       "1090_Marios_PD1_Inhib2_HP-E9123055-7.mzML                  0            4  \n",
       "\n",
       "[5 rows x 38 columns]"
      ]
     },
     "execution_count": 37,
     "metadata": {},
     "output_type": "execute_result"
    }
   ],
   "source": [
    "y_df.head()"
   ]
  },
  {
   "cell_type": "code",
   "execution_count": null,
   "metadata": {},
   "outputs": [],
   "source": []
  }
 ],
 "metadata": {
  "kernelspec": {
   "display_name": "Python 3",
   "language": "python",
   "name": "python3"
  },
  "language_info": {
   "codemirror_mode": {
    "name": "ipython",
    "version": 3
   },
   "file_extension": ".py",
   "mimetype": "text/x-python",
   "name": "python",
   "nbconvert_exporter": "python",
   "pygments_lexer": "ipython3",
   "version": "3.9.18"
  }
 },
 "nbformat": 4,
 "nbformat_minor": 2
}
