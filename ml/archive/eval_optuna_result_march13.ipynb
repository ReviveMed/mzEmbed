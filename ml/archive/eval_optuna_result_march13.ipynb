{
 "cells": [
  {
   "cell_type": "code",
   "execution_count": 3,
   "metadata": {},
   "outputs": [],
   "source": [
    "import pandas as pd\n",
    "import os\n",
    "import numpy as np"
   ]
  },
  {
   "cell_type": "code",
   "execution_count": null,
   "metadata": {},
   "outputs": [],
   "source": [
    "finetune_cols = ['user_attrs_finetune AUC avg','user_attrs_finetune AUC std','user_attrs_Hold Out Validation Finetune AUC','user_attrs_Hold Out Test Finetune AUC']\n",
    "random_cols = ['user_attrs_rand AUC avg','user_attrs_rand AUC std','user_attrs_Hold Out Validation Rand AUC','user_attrs_Hold Out Test Rand AUC']\n"
   ]
  },
  {
   "cell_type": "code",
   "execution_count": 74,
   "metadata": {},
   "outputs": [
    {
     "name": "stdout",
     "output_type": "stream",
     "text": [
      "MSKCC BINARY_study_march12_L_Reg\n",
      "number of trials: 248\n",
      "look at the top 12 trials\n",
      "MSKCC BINARY_study_march12_S_Reg\n",
      "number of trials: 100\n",
      "look at the top 5 trials\n",
      "MSKCC BINARY_study_march12_S_Clas\n",
      "number of trials: 100\n",
      "look at the top 5 trials\n",
      "MSKCC BINARY_study_march12_S_Adv\n",
      "number of trials: 100\n",
      "look at the top 5 trials\n",
      "MSKCC BINARY_study_march12_L_Clas\n",
      "number of trials: 206\n",
      "look at the top 10 trials\n",
      "MSKCC BINARY_study_march12_L_Adv\n",
      "number of trials: 232\n",
      "look at the top 11 trials\n",
      "MSKCC BINARY_study_march12_S_TGEM\n",
      "number of trials: 9\n",
      "look at the top 0 trials\n"
     ]
    }
   ],
   "source": [
    "all_summary = []\n",
    "top_perct = 0.05\n",
    "files = os.listdir('/Users/jonaheaton/ReviveMed Dropbox/Jonah Eaton/RCC project/RCC_pretraining/output')\n",
    "files = [f for f in files if f.endswith('.csv')]\n",
    "for f in files:\n",
    "    study_id = f.split('/')[-1].split('.csv')[0]\n",
    "    print(study_id)\n",
    "\n",
    "    df = pd.read_csv(f'/Users/jonaheaton/ReviveMed Dropbox/Jonah Eaton/RCC project/RCC_pretraining/output/{f}')\n",
    "    df.sort_values(by='value', ascending=False, inplace=True)\n",
    "    num_trials = df.shape[0]\n",
    "    print('number of trials:', num_trials)\n",
    "    top_trials = int(np.floor(num_trials*top_perct))\n",
    "    print('look at the top', top_trials, 'trials')\n",
    "    if num_trials < 15:\n",
    "        continue\n",
    "    df = df.head(top_trials).copy()\n",
    "\n",
    "    df[finetune_cols].mean()\n",
    "\n",
    "    finetune_res = df[finetune_cols].mean().round(3)*100\n",
    "    rand_res = df[random_cols].mean().round(3)*100\n",
    "\n",
    "    col_names = ['CV avg','CV std','Validation','Test']\n",
    "    res_strings = [f'{x:.1f}% ({y:.1f}%)' for x,y in zip(finetune_res, rand_res)]\n",
    "    \n",
    "    res_strings.append(num_trials)\n",
    "    col_names.append('num_trials')\n",
    "\n",
    "    res_strings.append(top_trials)\n",
    "    col_names.append('top_trials')\n",
    "\n",
    "    if True:\n",
    "        act_func = df['params_activation'].mode().values[0]\n",
    "        res_strings.append(act_func)\n",
    "        col_names.append('activation')\n",
    "\n",
    "        dropout_rate = df['params_dropout_rate'].median()\n",
    "        res_strings.append(dropout_rate)\n",
    "        col_names.append('dropout_rate')\n",
    "\n",
    "        \n",
    "        num_hidden_layers = df['params_num_hidden_layers'].median()\n",
    "        res_strings.append(num_hidden_layers)\n",
    "        col_names.append('num_hidden_layers')\n",
    "\n",
    "        latent_size = df['params_latent_size'].median()\n",
    "        res_strings.append(latent_size)\n",
    "        col_names.append('latent_size')\n",
    "\n",
    "        recon_loss = df['user_attrs_reconstruction loss'].mean()\n",
    "        res_strings.append(recon_loss)\n",
    "        col_names.append('recon_loss')    \n",
    "\n",
    "\n",
    "    summary_df = pd.DataFrame(res_strings, index=col_names, columns=[study_id]).T\n",
    "    all_summary.append(summary_df)\n",
    "\n",
    "all_summary = pd.concat(all_summary)\n"
   ]
  },
  {
   "cell_type": "code",
   "execution_count": 75,
   "metadata": {},
   "outputs": [],
   "source": [
    "all_summary.to_csv(f'/Users/jonaheaton/Desktop/top_{top_perct}_summary.csv')"
   ]
  },
  {
   "cell_type": "code",
   "execution_count": 5,
   "metadata": {},
   "outputs": [],
   "source": [
    "\n",
    "\n",
    "study_id = 'MSKCC BINARY_study_march12_L_Adv'\n",
    "input_file = f'/Users/jonaheaton/ReviveMed Dropbox/Jonah Eaton/RCC project/RCC_pretraining/output/{study_id}.csv'\n",
    "\n",
    "\n"
   ]
  },
  {
   "cell_type": "code",
   "execution_count": 6,
   "metadata": {},
   "outputs": [
    {
     "name": "stdout",
     "output_type": "stream",
     "text": [
      "look at the top 23 trials\n"
     ]
    }
   ],
   "source": [
    "df = pd.read_csv(input_file, index_col=0)\n",
    "df.sort_values(by='value', ascending=False, inplace=True)\n",
    "num_trials = df.shape[0]\n",
    "top_trials = num_trials//10\n",
    "print('look at the top', top_trials, 'trials')\n",
    "\n",
    "# df = df.head(top_trials).copy()"
   ]
  },
  {
   "cell_type": "code",
   "execution_count": 67,
   "metadata": {},
   "outputs": [],
   "source": [
    "finetune_cols = ['user_attrs_finetune AUC avg','user_attrs_finetune AUC std','user_attrs_Hold Out Validation Finetune AUC','user_attrs_Hold Out Test Finetune AUC']\n",
    "random_cols = ['user_attrs_rand AUC avg','user_attrs_rand AUC std','user_attrs_Hold Out Validation Rand AUC','user_attrs_Hold Out Test Rand AUC']\n",
    "\n",
    "df[finetune_cols].mean()\n",
    "\n",
    "finetune_res = df[finetune_cols].mean().round(3)*100\n",
    "rand_res = df[random_cols].mean().round(3)*100"
   ]
  },
  {
   "cell_type": "code",
   "execution_count": 68,
   "metadata": {},
   "outputs": [],
   "source": [
    "col_names = ['CV avg','CV std','Validation','Test']\n",
    "res_strings = [f'{x:.1f}% ({y:.1f}%)' for x,y in zip(finetune_res, rand_res)]\n",
    "\n",
    "summary_df = pd.DataFrame(res_strings, index=col_names, columns=[study_id]).T"
   ]
  },
  {
   "cell_type": "code",
   "execution_count": 69,
   "metadata": {},
   "outputs": [
    {
     "data": {
      "text/html": [
       "<div>\n",
       "<style scoped>\n",
       "    .dataframe tbody tr th:only-of-type {\n",
       "        vertical-align: middle;\n",
       "    }\n",
       "\n",
       "    .dataframe tbody tr th {\n",
       "        vertical-align: top;\n",
       "    }\n",
       "\n",
       "    .dataframe thead th {\n",
       "        text-align: right;\n",
       "    }\n",
       "</style>\n",
       "<table border=\"1\" class=\"dataframe\">\n",
       "  <thead>\n",
       "    <tr style=\"text-align: right;\">\n",
       "      <th></th>\n",
       "      <th>CV avg</th>\n",
       "      <th>CV std</th>\n",
       "      <th>Validation</th>\n",
       "      <th>Test</th>\n",
       "    </tr>\n",
       "  </thead>\n",
       "  <tbody>\n",
       "    <tr>\n",
       "      <th>MSKCC BINARY_study_march12_L_Adv</th>\n",
       "      <td>91.0% (90.6%)</td>\n",
       "      <td>2.4% (2.5%)</td>\n",
       "      <td>85.0% (84.8%)</td>\n",
       "      <td>88.6% (88.9%)</td>\n",
       "    </tr>\n",
       "  </tbody>\n",
       "</table>\n",
       "</div>"
      ],
      "text/plain": [
       "                                         CV avg       CV std     Validation  \\\n",
       "MSKCC BINARY_study_march12_L_Adv  91.0% (90.6%)  2.4% (2.5%)  85.0% (84.8%)   \n",
       "\n",
       "                                           Test  \n",
       "MSKCC BINARY_study_march12_L_Adv  88.6% (88.9%)  "
      ]
     },
     "execution_count": 69,
     "metadata": {},
     "output_type": "execute_result"
    }
   ],
   "source": [
    "summary_df"
   ]
  },
  {
   "cell_type": "code",
   "execution_count": 70,
   "metadata": {},
   "outputs": [
    {
     "data": {
      "text/plain": [
       "Index(['value', 'datetime_start', 'datetime_complete', 'duration',\n",
       "       'params_activation', 'params_dropout_rate', 'params_finetune_epochs',\n",
       "       'params_finetune_lr', 'params_latent_size', 'params_num_hidden_layers',\n",
       "       'params_pretrain_adv_weight', 'params_pretrain_epochs',\n",
       "       'params_pretrain_lr', 'user_attrs_Hold Out Test Finetune AUC',\n",
       "       'user_attrs_Hold Out Test Rand AUC',\n",
       "       'user_attrs_Hold Out Validation Finetune AUC',\n",
       "       'user_attrs_Hold Out Validation Rand AUC',\n",
       "       'user_attrs_finetune AUC avg', 'user_attrs_finetune AUC std',\n",
       "       'user_attrs_number of input peaks', 'user_attrs_pretrain Adv AUC',\n",
       "       'user_attrs_pretrain Head AUC', 'user_attrs_rand AUC avg',\n",
       "       'user_attrs_rand AUC std', 'user_attrs_reconstruction loss', 'state'],\n",
       "      dtype='object')"
      ]
     },
     "execution_count": 70,
     "metadata": {},
     "output_type": "execute_result"
    }
   ],
   "source": [
    "df.columns"
   ]
  },
  {
   "cell_type": "code",
   "execution_count": 7,
   "metadata": {},
   "outputs": [
    {
     "data": {
      "text/plain": [
       "number\n",
       "138    COMPLETE\n",
       "34     COMPLETE\n",
       "210    COMPLETE\n",
       "176    COMPLETE\n",
       "195    COMPLETE\n",
       "         ...   \n",
       "10     COMPLETE\n",
       "20     COMPLETE\n",
       "7      COMPLETE\n",
       "51     COMPLETE\n",
       "31         FAIL\n",
       "Name: state, Length: 232, dtype: object"
      ]
     },
     "execution_count": 7,
     "metadata": {},
     "output_type": "execute_result"
    }
   ],
   "source": [
    "df['state']"
   ]
  },
  {
   "cell_type": "code",
   "execution_count": 10,
   "metadata": {},
   "outputs": [],
   "source": [
    "t1 = [1,2,3,5]\n",
    "t2 = ['a','b','c','d']\n",
    "\n",
    "t3 = [{'num':x, 'letter':y} for x,y in zip(t1,t2)]\n",
    "\n",
    "t4 = pd.DataFrame(t3)"
   ]
  },
  {
   "cell_type": "code",
   "execution_count": 12,
   "metadata": {},
   "outputs": [
    {
     "data": {
      "text/plain": [
       "2.75"
      ]
     },
     "execution_count": 12,
     "metadata": {},
     "output_type": "execute_result"
    }
   ],
   "source": [
    "np.mean(t4['num'])"
   ]
  },
  {
   "cell_type": "code",
   "execution_count": 13,
   "metadata": {},
   "outputs": [],
   "source": [
    "t1 = [1]\n",
    "t2 = [1]\n",
    "\n",
    "t3 = [{'num':x, 'letter':y} for x,y in zip(t1,t2)]\n",
    "\n",
    "t4 = pd.DataFrame(t3)"
   ]
  },
  {
   "cell_type": "code",
   "execution_count": 14,
   "metadata": {},
   "outputs": [
    {
     "data": {
      "text/html": [
       "<div>\n",
       "<style scoped>\n",
       "    .dataframe tbody tr th:only-of-type {\n",
       "        vertical-align: middle;\n",
       "    }\n",
       "\n",
       "    .dataframe tbody tr th {\n",
       "        vertical-align: top;\n",
       "    }\n",
       "\n",
       "    .dataframe thead th {\n",
       "        text-align: right;\n",
       "    }\n",
       "</style>\n",
       "<table border=\"1\" class=\"dataframe\">\n",
       "  <thead>\n",
       "    <tr style=\"text-align: right;\">\n",
       "      <th></th>\n",
       "      <th>num</th>\n",
       "      <th>letter</th>\n",
       "    </tr>\n",
       "  </thead>\n",
       "  <tbody>\n",
       "    <tr>\n",
       "      <th>0</th>\n",
       "      <td>1</td>\n",
       "      <td>1</td>\n",
       "    </tr>\n",
       "  </tbody>\n",
       "</table>\n",
       "</div>"
      ],
      "text/plain": [
       "   num  letter\n",
       "0    1       1"
      ]
     },
     "execution_count": 14,
     "metadata": {},
     "output_type": "execute_result"
    }
   ],
   "source": [
    "t4"
   ]
  },
  {
   "cell_type": "code",
   "execution_count": 15,
   "metadata": {},
   "outputs": [
    {
     "data": {
      "text/plain": [
       "1.0"
      ]
     },
     "execution_count": 15,
     "metadata": {},
     "output_type": "execute_result"
    }
   ],
   "source": [
    "np.mean(t4['num'])"
   ]
  },
  {
   "cell_type": "code",
   "execution_count": null,
   "metadata": {},
   "outputs": [],
   "source": []
  }
 ],
 "metadata": {
  "kernelspec": {
   "display_name": "mzlearn_3",
   "language": "python",
   "name": "python3"
  },
  "language_info": {
   "codemirror_mode": {
    "name": "ipython",
    "version": 3
   },
   "file_extension": ".py",
   "mimetype": "text/x-python",
   "name": "python",
   "nbconvert_exporter": "python",
   "pygments_lexer": "ipython3",
   "version": "3.9.18"
  }
 },
 "nbformat": 4,
 "nbformat_minor": 2
}
