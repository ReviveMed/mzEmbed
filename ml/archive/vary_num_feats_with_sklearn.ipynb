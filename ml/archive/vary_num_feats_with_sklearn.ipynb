{
 "cells": [
  {
   "cell_type": "markdown",
   "metadata": {},
   "source": [
    "# Use Sklearn models to train and predict RCC3 labels using Cross-validation"
   ]
  },
  {
   "cell_type": "markdown",
   "metadata": {},
   "source": [
    "## Preamble"
   ]
  },
  {
   "cell_type": "code",
   "execution_count": 37,
   "metadata": {},
   "outputs": [],
   "source": [
    "import os\n",
    "import sys\n",
    "import pandas as pd\n",
    "import numpy as np\n",
    "import json\n",
    "import requests\n",
    "import zipfile\n",
    "import torch\n",
    "from torch.utils.data import Dataset, DataLoader\n",
    "\n",
    "from sklearn.model_selection import train_test_split, RepeatedStratifiedKFold\n",
    "\n",
    "from sklearn_models import run_train_sklearn_model\n",
    "from misc import save_json, get_dropbox_dir\n",
    "\n",
    "import matplotlib.pyplot as plt"
   ]
  },
  {
   "cell_type": "markdown",
   "metadata": {},
   "source": [
    "## Load (and explain) the Data"
   ]
  },
  {
   "cell_type": "code",
   "execution_count": 11,
   "metadata": {},
   "outputs": [],
   "source": [
    "# subset_dir = '/Users/jonaheaton/ReviveMed Dropbox/Jonah Eaton/development_CohortCombination/alignment_RCC_2024_Feb_27/March_8_Data'\n",
    "subset_dir = '/Users/jonaheaton/ReviveMed Dropbox/Jonah Eaton/development_CohortCombination/alignment_RCC_2024_Feb_27/March_6_Data'\n",
    "# subset_dir = 'example_data'\n",
    "example_data_url = 'https://www.dropbox.com/scl/fo/d1yqlmyafvu8tzujlg4nk/h?rlkey=zrxfapacmgb6yxsmonw4yt986&dl=1'\n",
    "# Download the data\n",
    "\n",
    "# download_data_dir(example_data_url, save_dir=subset_dir)"
   ]
  },
  {
   "cell_type": "code",
   "execution_count": 42,
   "metadata": {},
   "outputs": [],
   "source": [
    "dropbox_dir = get_dropbox_dir()\n",
    "base_dir = os.path.join(dropbox_dir, 'development_CohortCombination','alignment_RCC_2024_Feb_27')\n",
    "\n",
    "ref_freq = 0.6\n",
    "# input_freq = 0.1\n",
    "grid_id = 1\n",
    "matt_ft_dir = os.path.join(base_dir, 'matt_top_fts')\n",
    "\n",
    "# %%\n",
    "def get_key_ft_dct():\n",
    "\n",
    "    matt_ft_files = os.listdir(matt_ft_dir)\n",
    "    matt_ft_files = [f for f in matt_ft_files if f.endswith('.txt')]\n",
    "\n",
    "    matt_ft_dict = {}\n",
    "    for f in matt_ft_files:\n",
    "        ft_name = f.split('_feats')[0]\n",
    "        # with open(os.path.join(matt_ft_dir, f), 'r') as file:\n",
    "        #     ft = file.read().split(', ')\n",
    "        # if len(ft) == 1:\n",
    "        with open(os.path.join(matt_ft_dir, f), 'r') as file:\n",
    "            ft = file.read().splitlines()\n",
    "            # print(file.read()\n",
    "        # remove all of the ', and commas from the strings in the list\n",
    "        ft = [x.strip(',').strip(' ').strip('\"').strip(\"'\").strip('\\n').strip('\\t') for x in ft]\n",
    "        matt_ft_dict[ft_name] = ft\n",
    "        # break\n",
    "        print(ft_name + ': ' + str(len(ft)))\n",
    "\n",
    "    # %% [markdown]\n",
    "    # ### RCC Target Metabolites\n",
    "\n",
    "    # %%\n",
    "    # %%\n",
    "    rcc_peak_info_file = os.path.join(base_dir, 'rcc_result', 'peak_info.csv')\n",
    "    rcc_peak_info_df = pd.read_csv(rcc_peak_info_file, index_col=0)\n",
    "\n",
    "    rcc_peak_info_df = rcc_peak_info_df[rcc_peak_info_df['freq'] >= ref_freq].copy()\n",
    "\n",
    "    print(f'Number of peaks in the reference cohort after {ref_freq} filter: ', rcc_peak_info_df.shape[0])\n",
    "\n",
    "        \n",
    "    rcc_matched_targets_file = os.path.join(base_dir,'rcc_result', 'matched_targets HILIC POSITIVE ION MODE.csv')\n",
    "    rcc_matched_targets_df = pd.read_csv(rcc_matched_targets_file, index_col=0)\n",
    "    rcc_matched_targets_df.loc[rcc_peak_info_df.index]\n",
    "\n",
    "    potential_feats = rcc_matched_targets_df[rcc_matched_targets_df['potential_target']].index.to_list()\n",
    "    print('Number of features that potentially match to a target metabolite: ', len(potential_feats))\n",
    "\n",
    "    double_match_ids = rcc_matched_targets_df[rcc_matched_targets_df['potential_target_count'] > 1]\n",
    "    num_double_match = double_match_ids.shape[0]\n",
    "    print('Number of features that potentially match to more than one target metabolite: ', double_match_ids.shape[0])\n",
    "    print(rcc_matched_targets_df.loc[double_match_ids.index, 'potential_target_id'])\n",
    "\n",
    "    # here are the double matches in RCC, two are the same metabolite (but different adducts?)\n",
    "    # FT3202                           tryptophanTryptophan_μM\n",
    "    # FT3237                           kynurenineKynurenine_μM\n",
    "    # FT8451    C18:1 LPC plasmalogen_AC18:1 LPC plasmalogen_B\n",
    "\n",
    "\n",
    "    potential_feat_names = rcc_matched_targets_df.loc[potential_feats]['potential_target_id'].unique()\n",
    "    # print('Number of potential feature names: ', len(potential_feat_names))\n",
    "    print(potential_feat_names)\n",
    "\n",
    "    print('Number of target metabolite captured: ', len(potential_feat_names))\n",
    "\n",
    "    # for now don't remove the double counts, since they are NOT actually double counts\n",
    "    num_rcc_targets_found =  len(potential_feat_names)\n",
    "    rcc_target_feats = potential_feats\n",
    "\n",
    "    # add to the matt ft dictionary\n",
    "    matt_ft_dict['rcc_targets'] = rcc_target_feats\n",
    "\n",
    "    return matt_ft_dict, rcc_peak_info_df\n",
    "\n",
    "\n",
    "# Helper functions to finding the number and percentage of captured features\n",
    "def get_captured_fts(matt_ft_list, align_ft_list):\n",
    "    captured_fts = [ft for ft in matt_ft_list if ft in align_ft_list]\n",
    "    return captured_fts\n",
    "\n",
    "def get_captured_perc(matt_ft_list, align_ft_list):\n",
    "    captured_fts = get_captured_fts(matt_ft_list, align_ft_list)\n",
    "    matt_capture_perc = len(captured_fts) / len(matt_ft_list)\n",
    "    align_capture_perc = len(captured_fts) / len(align_ft_list)\n",
    "    return matt_capture_perc, align_capture_perc\n"
   ]
  },
  {
   "cell_type": "code",
   "execution_count": 40,
   "metadata": {},
   "outputs": [
    {
     "name": "stdout",
     "output_type": "stream",
     "text": [
      "top_10: 10\n",
      "top_25: 25\n",
      "168_os_pfs: 168\n",
      "net_matched: 86\n",
      "Number of peaks in the reference cohort after 0.6 filter:  4016\n",
      "Number of features that potentially match to a target metabolite:  188\n",
      "Number of features that potentially match to more than one target metabolite:  3\n",
      "feats\n",
      "FT3202                           tryptophanTryptophan_μM\n",
      "FT3237                           kynurenineKynurenine_μM\n",
      "FT8451    C18:1 LPC plasmalogen_AC18:1 LPC plasmalogen_B\n",
      "Name: potential_target_id, dtype: object\n",
      "['trimethylamine-N-oxide' 'alanine' 'GABA' 'serine' 'hypotaurine'\n",
      " 'cytosine' 'creatinine' 'betaine' 'threonine' 'niacinamide' 'taurine'\n",
      " 'ornithine' 'N-acetylalanine' 'N-carbamoyl-beta-alanine'\n",
      " 'N-methylproline' 'leucine' 'hydroxyproline' 'N-acetylputrescine'\n",
      " '1-methylnicotinamide' 'trigonelline' 'anthranilic acid' 'urocanic acid'\n",
      " 'imidazole propionate' 'ectoine' 'proline-betaine' 'glutamate'\n",
      " '4-acetamidobutanoate' 'butyrobetaine' 'glutamine' 'lysine' 'methionine'\n",
      " 'N1-methyl-2-pyridone-5-carboxamide' '4-hydroxy-3-methylacetophenone'\n",
      " 'guanine' 'allantoin' 'carnitine' '2-aminooctanoate' 'urate'\n",
      " '7-methylguanine' '3-methylxanthine' 'phenylalanine' 'N-acetylleucine'\n",
      " '3-methylhistidine' 'serotonin' 'citrulline' 'N6,N6-dimethyllysine'\n",
      " 'N-acetylornithine' 'cotinine' '5-hydroxytryptophol' 'arginine'\n",
      " 'tyrosine' 'hippurate' '4-pyridoxate' 'N6-acetyllysine'\n",
      " 'N6,N6,N6-trimethyllysine' 'N1-acetylspermidine' 'NMMA' 'kynurenic acid'\n",
      " 'N-acetylmethionine' 'hydroxycotinine' 'caffeine' '4-hydroxyhippurate'\n",
      " '1,7-dimethyluric acid' 'DMGV' 'SDMA' 'C2 carnitine'\n",
      " 'tryptophanTryptophan_μM' 'kynurenineKynurenine_μM' 'pantothenol'\n",
      " 'cinnamoylglycine' 'N-alpha-acetylarginine' 'C3 carnitine'\n",
      " 'acetyl-galactosamine' '5-hydroxytryptophan' 'pantothenate'\n",
      " 'myristoleate' 'C4 carnitine' 'C5:1 carnitine' 'C5 carnitine'\n",
      " 'C4-OH carnitine' 'N-acetyltryptophan' 'pseudouridine' 'ribothymidine'\n",
      " 'alpha-glycerophosphocholine' 'C3-DC-CH3 carnitine' 'C6 carnitine'\n",
      " 'thiamine' 'inosine' 'atenolol' 'metoprolol' 'phenylacetylglutamine'\n",
      " 'C5-DC carnitine' '1-methyladenosine' 'diacetylspermine'\n",
      " 'N4-acetylcytidine' 'C8 carnitine' 'piperine' '1-methylguanosine'\n",
      " 'C9 carnitine' 'sphinganine' 'threo-sphingosine' 'warfarin'\n",
      " '3-(N-acetyl-L-cystein-S-yl) acetaminophen' 'C10 carnitine'\n",
      " 'linoleoyl ethanolamide' 'acetaminophen glucuronide' 'C12 carnitine'\n",
      " 'C12:1 carnitine' 'oleoyl glycine' 'cortisol' 'cortisone'\n",
      " 'C14:1 carnitine' 'C14 carnitine' 'C16 carnitine' 'C18:2 carnitine'\n",
      " 'C18 carnitine' 'C18:1 carnitine' 'valsartan' 'C20:4 carnitine'\n",
      " 'glycodeoxycholate/glycochenodeoxycholate' 'C16:0 LPE' 'C14:0 LPC'\n",
      " 'glycocholate' 'C18:2 LPE' 'C18:1 LPE' 'C18:0 LPE'\n",
      " 'C16:1 LPC plasmalogen' 'C16:1 LPC' 'C16:0 LPC' 'C20:4 LPE'\n",
      " 'C18:1 LPC plasmalogen_B'\n",
      " 'C18:1 LPC plasmalogen_AC18:1 LPC plasmalogen_B' 'C20:0 LPE' 'C18:3 LPC'\n",
      " 'C18:0 LPC' 'C18:1 LPC' 'C22:6 LPE' 'C16:0 ceramide (d18:1)'\n",
      " 'C26 carnitine' 'C20:4 LPC' 'C20:5 LPC' 'C22:6 LPC' 'C22:5 LPC'\n",
      " 'biliverdin' 'bilirubin' 'urobilinogen' 'C34:1 DAG' 'C34:2 DAG'\n",
      " 'C34:1 DAG*' 'C24:1 ceramide (d18:1)' 'C14:0 SM' 'C34:3 PE plasmalogen'\n",
      " 'C34:2 PE plasmalogen' 'C16:0 SM' 'C16:1 SM' 'C30:0 PC' 'C34:2 PE'\n",
      " 'C36:5 PE plasmalogen' 'C34:0 PE' 'C18:1 SM' 'C36:3 PE plasmalogen'\n",
      " 'C32:2 PC' 'C18:0 SM' 'C34:3 PC plasmalogen' 'C36:4 PE' 'C36:2 PE'\n",
      " 'C38:7 PE plasmalogen' 'C38:5 PE plasmalogen' 'C38:6 PE plasmalogen'\n",
      " 'C34:4 PC' 'C20:0 SM' 'C34:3 PC' 'C38:6 PE' 'C38:4 PE'\n",
      " 'C36:5 PC plasmalogen' 'C36:2 PS plasmalogen' 'thyroxine'\n",
      " 'C40:7 PE plasmalogen' 'C36:2 PC' 'C38:6 PC plasmalogen' 'C40:6 PE'\n",
      " 'C38:7 PC plasmalogen']\n",
      "Number of target metabolite captured:  182\n"
     ]
    }
   ],
   "source": [
    "matt_ft_dict, rcc_peak_info_df = get_key_ft_dct()\n"
   ]
  },
  {
   "cell_type": "code",
   "execution_count": 12,
   "metadata": {},
   "outputs": [
    {
     "name": "stdout",
     "output_type": "stream",
     "text": [
      "['Nivo Benefit BINARY finetune_folds', '.DS_Store', 'MSKCC BINARY finetune_folds', 'Cohort ID Expanded pretrain_folds', 'readme.txt', 'X.csv', 'y.csv', 'nans.csv']\n"
     ]
    }
   ],
   "source": [
    "#what is inside the example directory?\n",
    "print(os.listdir(subset_dir))"
   ]
  },
  {
   "cell_type": "markdown",
   "metadata": {},
   "source": [
    "#### X data\n",
    "- the input peak matrix, columns are peaks, rows are samples\n",
    "- nans are already imputed using the mean of the peak within its corresponding study\n",
    "- in this example, the peaks are those determined by alignment\n",
    "- also in this example, we are including a lot of pretraining data"
   ]
  },
  {
   "cell_type": "code",
   "execution_count": 13,
   "metadata": {},
   "outputs": [],
   "source": [
    "X_data = pd.read_csv(os.path.join(subset_dir, 'X.csv'), index_col=0)"
   ]
  },
  {
   "cell_type": "markdown",
   "metadata": {},
   "source": [
    "#### Nan mask\n",
    "- nans is a binary matrix indicating which peaks were originally missing in which samples\n",
    "- columns are the peaks, rows are the samples\n",
    "- should have the exact same size and organization as X data\n",
    "- Since nans were already imputed, this is not used in this example\n",
    "- is useful if you want to change the imputation method, or calculate peak frequency"
   ]
  },
  {
   "cell_type": "code",
   "execution_count": 14,
   "metadata": {},
   "outputs": [],
   "source": [
    "nan_mask = pd.read_csv(os.path.join(subset_dir, 'nans.csv'), index_col=0)\n",
    "\n"
   ]
  },
  {
   "cell_type": "markdown",
   "metadata": {},
   "source": [
    "#### Y data\n",
    "- the metadata associated with the samples\n",
    "- includes metadata from alignment with pre-training data AND metadata associated with the RCC studies\n",
    "- RCC related metadata has been cleaned and simplified. combines the information between genomics dataset, the the Nature communication dataset. A lot of superfolous information has been removed\n",
    "- the \"Matt Set\" column indicates whether a sample belongs in Matt's Train/Val/Split\n",
    "- the \"Set\" column corresponds to the \"Matt Set\" for the RCC3 *baseline* samples, all other samples are labeled as pretrai\n",
    "- columns have been created specifically for the Binary classification task \"Nivo Benefit BINARY\" and \"MSKCC BINARY\". "
   ]
  },
  {
   "cell_type": "code",
   "execution_count": null,
   "metadata": {},
   "outputs": [],
   "source": [
    "rcc_metadata_file = os.path.join(dropbox_dir, 'development_CohortCombination','clean_rcc_metadata_encoded.csv')\n",
    "rcc_metadata = pd.read_csv(rcc_metadata_file, index_col=0)"
   ]
  },
  {
   "cell_type": "code",
   "execution_count": 15,
   "metadata": {},
   "outputs": [],
   "source": [
    "y_data = pd.read_csv(os.path.join(subset_dir, 'y.csv'), index_col=0)"
   ]
  },
  {
   "cell_type": "code",
   "execution_count": 16,
   "metadata": {},
   "outputs": [
    {
     "data": {
      "text/plain": [
       "Index(['cohort_id', 'Study ID', 'Cohort Label', 'Cohort ID Expanded',\n",
       "       'Study ID Expanded', 'Cohort ID', 'OS', 'OS_Event', 'Age', 'subject ID',\n",
       "       'study_week', 'Region', 'Sex', 'Race', 'Dose (mg/kg)', 'phase',\n",
       "       'Treatment', 'Prior_2', 'batch_id', 'runtime_hour', 'run_order',\n",
       "       'MSKCC', 'ORR', 'Benefit', 'ExtremeResponder', 'PFS', 'PFS_Event', 'MV',\n",
       "       'Age_Group', 'Benefit BINARY', 'Benefit ORDINAL', 'Nivo Benefit BINARY',\n",
       "       'MSKCC BINARY', 'MSKCC ORDINAL', 'Matt Set', 'Set'],\n",
       "      dtype='object')"
      ]
     },
     "execution_count": 16,
     "metadata": {},
     "output_type": "execute_result"
    }
   ],
   "source": [
    "y_data.columns"
   ]
  },
  {
   "cell_type": "code",
   "execution_count": 17,
   "metadata": {},
   "outputs": [
    {
     "data": {
      "text/plain": [
       "18"
      ]
     },
     "execution_count": 17,
     "metadata": {},
     "output_type": "execute_result"
    }
   ],
   "source": [
    "y_data['Study ID'].value_counts().nunique()"
   ]
  },
  {
   "cell_type": "code",
   "execution_count": 9,
   "metadata": {},
   "outputs": [
    {
     "data": {
      "text/plain": [
       "Set\n",
       "Pretrain      16944\n",
       "Finetune        449\n",
       "Test            149\n",
       "Validation      143\n",
       "Name: count, dtype: int64"
      ]
     },
     "execution_count": 9,
     "metadata": {},
     "output_type": "execute_result"
    }
   ],
   "source": [
    "y_data['Set'].value_counts()"
   ]
  },
  {
   "cell_type": "code",
   "execution_count": 10,
   "metadata": {},
   "outputs": [
    {
     "name": "stdout",
     "output_type": "stream",
     "text": [
      "number of samples:  17685\n",
      "number of features:  2736\n"
     ]
    }
   ],
   "source": [
    "print('number of samples: ', X_data.shape[0])\n",
    "print('number of features: ', X_data.shape[1])"
   ]
  },
  {
   "cell_type": "code",
   "execution_count": 18,
   "metadata": {},
   "outputs": [],
   "source": [
    "pretrain_files = y_data[y_data['Set']=='Pretrain'].index.to_list()\n",
    "finetune_files = y_data[y_data['Set']=='Finetune'].index.to_list()\n",
    "holdout_test_files = y_data[y_data['Set']=='Test'].index.to_list()\n",
    "holdout_val_files = y_data[y_data['Set']=='Validation'].index.to_list()"
   ]
  },
  {
   "cell_type": "markdown",
   "metadata": {},
   "source": [
    "## Run Classical Models on the desired tasks"
   ]
  },
  {
   "cell_type": "markdown",
   "metadata": {},
   "source": [
    "### Create the task directory and properly format the X and y for the task"
   ]
  },
  {
   "cell_type": "code",
   "execution_count": 19,
   "metadata": {},
   "outputs": [
    {
     "name": "stdout",
     "output_type": "stream",
     "text": [
      "MSKCC BINARY\n",
      "{}\n"
     ]
    }
   ],
   "source": [
    "yes_dropna = True\n",
    "\n",
    "finetune_label_col = 'MSKCC BINARY'\n",
    "finetune_label_mapper = {}\n",
    "finetune_filter = []\n",
    "\n",
    "desc_str = 'MSKCC BINARY'\n",
    "desc_str = finetune_label_col\n",
    "\n",
    "splits_dir = os.path.join(subset_dir, f'{desc_str} finetune_folds')\n",
    "\n",
    "\n",
    "print(finetune_label_col)\n",
    "print(finetune_label_mapper)\n",
    "\n",
    "\n",
    "task_dir = os.path.join(splits_dir, finetune_label_col)"
   ]
  },
  {
   "cell_type": "code",
   "execution_count": 20,
   "metadata": {},
   "outputs": [],
   "source": [
    "finetune_freq = 1 - nan_mask.loc[finetune_files].sum(axis=0)/ len(finetune_files)\n",
    "pretrain_freq = 1- nan_mask.loc[pretrain_files].sum(axis=0)/ len(pretrain_files)\n",
    "finetune_var = X_data.loc[finetune_files].var(axis=0)"
   ]
  },
  {
   "cell_type": "code",
   "execution_count": 21,
   "metadata": {},
   "outputs": [
    {
     "data": {
      "text/plain": [
       "Text(0.5, 0, 'Fraction of non-NaN values in Training Data')"
      ]
     },
     "execution_count": 21,
     "metadata": {},
     "output_type": "execute_result"
    },
    {
     "data": {
      "image/png": "[encoded data removed]",
      "text/plain": [
       "<Figure size 640x480 with 1 Axes>"
      ]
     },
     "metadata": {},
     "output_type": "display_data"
    }
   ],
   "source": [
    "finetune_freq.hist(bins=np.arange(0,1,0.05))\n",
    "plt.xlabel('Fraction of non-NaN values in Training Data')"
   ]
  },
  {
   "cell_type": "code",
   "execution_count": 22,
   "metadata": {},
   "outputs": [
    {
     "data": {
      "text/plain": [
       "Text(0.5, 0, 'Fraction of non-NaN values in Pretraining Data')"
      ]
     },
     "execution_count": 22,
     "metadata": {},
     "output_type": "execute_result"
    },
    {
     "data": {
      "image/png": "[encoded data removed]",
      "text/plain": [
       "<Figure size 640x480 with 1 Axes>"
      ]
     },
     "metadata": {},
     "output_type": "display_data"
    }
   ],
   "source": [
    "pretrain_freq.hist(bins=np.arange(0,1,0.05))\n",
    "plt.xlabel('Fraction of non-NaN values in Pretraining Data')"
   ]
  },
  {
   "cell_type": "code",
   "execution_count": 23,
   "metadata": {},
   "outputs": [
    {
     "data": {
      "text/plain": [
       "Text(0.5, 0, 'Peak Variance in Finetune Data')"
      ]
     },
     "execution_count": 23,
     "metadata": {},
     "output_type": "execute_result"
    },
    {
     "data": {
      "image/png": "[encoded data removed]",
      "text/plain": [
       "<Figure size 640x480 with 1 Axes>"
      ]
     },
     "metadata": {},
     "output_type": "display_data"
    }
   ],
   "source": [
    "finetune_var.hist(bins=50)\n",
    "plt.xlabel('Peak Variance in Finetune Data')"
   ]
  },
  {
   "cell_type": "markdown",
   "metadata": {},
   "source": [
    "## Chose a fraction of the peaks "
   ]
  },
  {
   "cell_type": "code",
   "execution_count": 30,
   "metadata": {},
   "outputs": [
    {
     "name": "stdout",
     "output_type": "stream",
     "text": [
      "(2736, 3)\n"
     ]
    }
   ],
   "source": [
    "temp = pd.concat([finetune_freq, pretrain_freq, finetune_var], axis=1)\n",
    "temp.columns = ['finetune_freq', 'pretrain_freq', 'finetune_var']\n",
    "print(temp.shape)"
   ]
  },
  {
   "cell_type": "code",
   "execution_count": 45,
   "metadata": {},
   "outputs": [
    {
     "name": "stdout",
     "output_type": "stream",
     "text": [
      "In the peaks of size  2736\n",
      "Number of top_10 captured: 10 out of 10: 1.00\n",
      "Number of top_25 captured: 23 out of 25: 0.92\n",
      "Number of 168_os_pfs captured: 134 out of 168: 0.80\n",
      "Number of net_matched captured: 73 out of 86: 0.85\n",
      "Number of rcc_targets captured: 159 out of 188: 0.85\n"
     ]
    }
   ],
   "source": [
    "# check that the Matt feats are found in the RCC peaks\n",
    "print('In the peaks of size ', temp.shape[0])\n",
    "for matt_ft_name, matt_ft_list in matt_ft_dict.items():\n",
    "    captured_peaks = get_captured_fts(matt_ft_list, temp.index)\n",
    "    print(f'Number of {matt_ft_name} captured: {len(captured_peaks)} out of {len(matt_ft_list)}: {len(captured_peaks)/len(matt_ft_list):.2f}')"
   ]
  },
  {
   "cell_type": "code",
   "execution_count": 78,
   "metadata": {},
   "outputs": [
    {
     "name": "stdout",
     "output_type": "stream",
     "text": [
      "0.9068523076506994\n",
      "(941, 3)\n",
      "In the peaks of size  941\n",
      "Number of top_10 captured: 2 out of 10: 0.20\n",
      "Number of top_25 captured: 9 out of 25: 0.36\n",
      "Number of 168_os_pfs captured: 52 out of 168: 0.31\n",
      "Number of net_matched captured: 26 out of 86: 0.30\n",
      "Number of rcc_targets captured: 84 out of 188: 0.45\n"
     ]
    }
   ],
   "source": [
    "finetune_var_q = 0.05\n",
    "finetune_var_th = temp['finetune_var'].quantile(finetune_var_q)\n",
    "print(finetune_var_th)\n",
    "# finetune_var_th = 0.5#0.75\n",
    "finetune_freq_th = 0.9\n",
    "pretrain_freq_th = 0.3 #0.35\n",
    "\n",
    "finetune_filter = (finetune_var >= finetune_var_th) & (finetune_freq >= finetune_freq_th) & (pretrain_freq >= pretrain_freq_th)\n",
    "\n",
    "temp_filter = temp[finetune_filter]\n",
    "print(temp_filter.shape)\n",
    "\n",
    "\n",
    "print('In the peaks of size ', temp_filter.shape[0])\n",
    "for matt_ft_name, matt_ft_list in matt_ft_dict.items():\n",
    "    captured_peaks = get_captured_fts(matt_ft_list, temp_filter.index)\n",
    "    print(f'Number of {matt_ft_name} captured: {len(captured_peaks)} out of {len(matt_ft_list)}: {len(captured_peaks)/len(matt_ft_list):.2f}')"
   ]
  },
  {
   "cell_type": "code",
   "execution_count": null,
   "metadata": {},
   "outputs": [],
   "source": []
  },
  {
   "cell_type": "code",
   "execution_count": 29,
   "metadata": {},
   "outputs": [
    {
     "data": {
      "text/html": [
       "<div>\n",
       "<style scoped>\n",
       "    .dataframe tbody tr th:only-of-type {\n",
       "        vertical-align: middle;\n",
       "    }\n",
       "\n",
       "    .dataframe tbody tr th {\n",
       "        vertical-align: top;\n",
       "    }\n",
       "\n",
       "    .dataframe thead th {\n",
       "        text-align: right;\n",
       "    }\n",
       "</style>\n",
       "<table border=\"1\" class=\"dataframe\">\n",
       "  <thead>\n",
       "    <tr style=\"text-align: right;\">\n",
       "      <th></th>\n",
       "      <th>finetune_freq</th>\n",
       "      <th>pretrain_freq</th>\n",
       "      <th>finetune_var</th>\n",
       "    </tr>\n",
       "  </thead>\n",
       "  <tbody>\n",
       "    <tr>\n",
       "      <th>FT10031</th>\n",
       "      <td>0.463252</td>\n",
       "      <td>0.272486</td>\n",
       "      <td>1.035956</td>\n",
       "    </tr>\n",
       "    <tr>\n",
       "      <th>FT10035</th>\n",
       "      <td>0.982183</td>\n",
       "      <td>0.227632</td>\n",
       "      <td>1.027943</td>\n",
       "    </tr>\n",
       "    <tr>\n",
       "      <th>FT10037</th>\n",
       "      <td>0.467706</td>\n",
       "      <td>0.396542</td>\n",
       "      <td>1.079680</td>\n",
       "    </tr>\n",
       "    <tr>\n",
       "      <th>FT10039</th>\n",
       "      <td>0.982183</td>\n",
       "      <td>0.296978</td>\n",
       "      <td>0.976793</td>\n",
       "    </tr>\n",
       "    <tr>\n",
       "      <th>FT10041</th>\n",
       "      <td>1.000000</td>\n",
       "      <td>0.267764</td>\n",
       "      <td>1.045069</td>\n",
       "    </tr>\n",
       "    <tr>\n",
       "      <th>...</th>\n",
       "      <td>...</td>\n",
       "      <td>...</td>\n",
       "      <td>...</td>\n",
       "    </tr>\n",
       "    <tr>\n",
       "      <th>FT9985</th>\n",
       "      <td>0.759465</td>\n",
       "      <td>0.147014</td>\n",
       "      <td>0.968094</td>\n",
       "    </tr>\n",
       "    <tr>\n",
       "      <th>FT9988</th>\n",
       "      <td>0.859688</td>\n",
       "      <td>0.196471</td>\n",
       "      <td>1.147949</td>\n",
       "    </tr>\n",
       "    <tr>\n",
       "      <th>FT9989</th>\n",
       "      <td>0.979955</td>\n",
       "      <td>0.348737</td>\n",
       "      <td>1.038769</td>\n",
       "    </tr>\n",
       "    <tr>\n",
       "      <th>FT9997</th>\n",
       "      <td>0.953229</td>\n",
       "      <td>0.260033</td>\n",
       "      <td>1.082380</td>\n",
       "    </tr>\n",
       "    <tr>\n",
       "      <th>FT9999</th>\n",
       "      <td>0.933185</td>\n",
       "      <td>0.127892</td>\n",
       "      <td>0.974373</td>\n",
       "    </tr>\n",
       "  </tbody>\n",
       "</table>\n",
       "<p>2736 rows × 3 columns</p>\n",
       "</div>"
      ],
      "text/plain": [
       "         finetune_freq  pretrain_freq  finetune_var\n",
       "FT10031       0.463252       0.272486      1.035956\n",
       "FT10035       0.982183       0.227632      1.027943\n",
       "FT10037       0.467706       0.396542      1.079680\n",
       "FT10039       0.982183       0.296978      0.976793\n",
       "FT10041       1.000000       0.267764      1.045069\n",
       "...                ...            ...           ...\n",
       "FT9985        0.759465       0.147014      0.968094\n",
       "FT9988        0.859688       0.196471      1.147949\n",
       "FT9989        0.979955       0.348737      1.038769\n",
       "FT9997        0.953229       0.260033      1.082380\n",
       "FT9999        0.933185       0.127892      0.974373\n",
       "\n",
       "[2736 rows x 3 columns]"
      ]
     },
     "execution_count": 29,
     "metadata": {},
     "output_type": "execute_result"
    }
   ],
   "source": [
    "temp"
   ]
  },
  {
   "cell_type": "code",
   "execution_count": null,
   "metadata": {},
   "outputs": [],
   "source": []
  },
  {
   "cell_type": "code",
   "execution_count": 13,
   "metadata": {},
   "outputs": [],
   "source": [
    "# Create the Train, Val, and Test data sets\n",
    "\n",
    "X_train = X_data.loc[finetune_files]\n",
    "y_train = y_data.loc[finetune_files, finetune_label_col]\n",
    "y_train = y_train.dropna()\n",
    "X_train = X_train.loc[y_train.index]\n",
    "\n",
    "\n",
    "X_val = X_data.loc[holdout_val_files]\n",
    "y_val = y_data.loc[holdout_val_files, finetune_label_col]\n",
    "y_val = y_val.dropna()\n",
    "X_val = X_val.loc[y_val.index]\n",
    "\n",
    "\n",
    "X_test = X_data.loc[holdout_test_files]\n",
    "y_test = y_data.loc[holdout_test_files, finetune_label_col]\n",
    "y_test = y_test.dropna()\n",
    "X_test = X_test.loc[y_test.index]\n"
   ]
  },
  {
   "cell_type": "code",
   "execution_count": 64,
   "metadata": {},
   "outputs": [],
   "source": [
    "import sklearn\n",
    "print('sklearn version: ', sklearn.__version__)\n",
    "from sklearn.linear_model import LogisticRegression\n",
    "from sklearn.svm import SVC\n",
    "from sklearn.ensemble import RandomForestClassifier\n",
    "from sklearn.tree import DecisionTreeClassifier\n",
    "from sklearn.model_selection import RandomizedSearchCV\n",
    "from sklearn.metrics import make_scorer, roc_auc_score, accuracy_score, f1_score, precision_score, recall_score"
   ]
  },
  {
   "cell_type": "code",
   "execution_count": 22,
   "metadata": {},
   "outputs": [],
   "source": [
    "# cv = RepeatedStratifiedKFold(n_splits=5, n_repeats=20, random_state=42)\n",
    "# n_iter = 10\n",
    "# verbose = 0\n",
    "\n",
    "# def scoring_func(estimator, X, y):\n",
    "#     y_prob = estimator.predict_proba(X)[:,1]\n",
    "#     return roc_auc_score(y, y_prob, average='weighted')"
   ]
  },
  {
   "cell_type": "code",
   "execution_count": 76,
   "metadata": {},
   "outputs": [],
   "source": [
    "def my_sklearn_fitter(data_dict, param_grid, \n",
    "                      output_dir, model_kind, model_name,\n",
    "                      cv=None, n_iter=10, scoring_func=None, verbose=0):\n",
    "    if cv is None:\n",
    "        cv = RepeatedStratifiedKFold(n_splits=5, n_repeats=20, random_state=42)\n",
    "    \n",
    "    if scoring_func is None:\n",
    "        # depends on which sklearn version we are using\n",
    "        # scoring_func = make_scorer(roc_auc_score, average='weighted', response_method='predict_proba')\n",
    "        scoring_func = make_scorer(roc_auc_score, average='weighted', needs_proba=True)\n",
    "\n",
    "    if model_kind == 'logistic_regression':\n",
    "        base_model = LogisticRegression(max_iter=1000)\n",
    "    elif model_kind == 'random_forest':\n",
    "        base_model = RandomForestClassifier()\n",
    "    elif model_kind == 'decision_tree':\n",
    "        base_model = DecisionTreeClassifier()\n",
    "    elif model_kind == 'svc':\n",
    "        base_model = SVC(probability=True)\n",
    "\n",
    "    model = RandomizedSearchCV(base_model, \n",
    "                               param_distributions=param_grid, \n",
    "                               n_iter=n_iter, \n",
    "                               cv=cv, \n",
    "                               scoring=scoring_func, \n",
    "                               verbose=verbose, \n",
    "                               random_state=1010,\n",
    "                               n_jobs=1)\n",
    "    X_train, y_train = data_dict['X_train'], data_dict['y_train']\n",
    "    X_val, y_val = data_dict['X_val'], data_dict['y_val']\n",
    "    X_test, y_test = data_dict['X_test'], data_dict['y_test']\n",
    "\n",
    "    model.fit(X_train, y_train)\n",
    "\n",
    "    model_results = pd.DataFrame(model.cv_results_)\n",
    "\n",
    "    model_results.sort_values('rank_test_score', inplace=True)\n",
    "    model_results.iloc[0]['mean_test_score']\n",
    "    cv_score = model_results.iloc[0]['mean_test_score']\n",
    "    cv_score_std = model_results.iloc[0]['std_test_score']\n",
    "    print(f'Train CV score: {cv_score} +/- {cv_score_std}')\n",
    "\n",
    "\n",
    "    y_train_proba = model.predict_proba(X_train)[:,1]\n",
    "    train_score = roc_auc_score(y_train, y_train_proba, average='weighted')\n",
    "    print(f'Training score: {train_score}')\n",
    "\n",
    "\n",
    "    y_val_proba = model.predict_proba(X_val)[:,1]\n",
    "    val_score = roc_auc_score(y_val, y_val_proba, average='weighted')\n",
    "    print(f'Validation score: {val_score}')\n",
    "\n",
    "\n",
    "    y_test_proba = model.predict_proba(X_test)[:,1]\n",
    "    test_score = roc_auc_score(y_test, y_test_proba, average='weighted')\n",
    "    print(f'Test score: {test_score}')\n",
    "\n",
    "\n",
    "    model_summary = {\n",
    "        'model_kind': model_kind,\n",
    "        'model_name': model_name,\n",
    "        'n_input ft': X_train.shape[1],\n",
    "        'param_grid' : param_grid,\n",
    "        'best_params': model.best_params_,\n",
    "        'score name': 'roc_auc (weighted)',\n",
    "        'cv_score': cv_score,\n",
    "        'cv_score_std': cv_score_std,\n",
    "        'train_score': train_score,\n",
    "        'val_score': val_score,\n",
    "        'test_score': test_score,\n",
    "        'train sz': X_train.shape[0],\n",
    "        'val sz': X_val.shape[0],\n",
    "        'test sz': X_test.shape[0],\n",
    "    }\n",
    "\n",
    "    save_json(model_summary, os.path.join(output_dir, f'{model_name}_summary.json'))\n",
    "\n",
    "    return model_summary"
   ]
  },
  {
   "cell_type": "code",
   "execution_count": 79,
   "metadata": {},
   "outputs": [
    {
     "name": "stdout",
     "output_type": "stream",
     "text": [
      "Train CV score: 0.9002987502964895 +/- 0.03896609936556677\n",
      "Training score: 1.0\n",
      "Validation score: 0.8724489795918368\n",
      "Test score: 0.9145299145299145\n",
      "Train CV score: 0.8972884176351993 +/- 0.039409576371011154\n",
      "Training score: 1.0\n",
      "Validation score: 0.8731778425655978\n",
      "Test score: 0.9138176638176638\n",
      "Train CV score: 0.899369514943074 +/- 0.03948372857823047\n",
      "Training score: 1.0\n",
      "Validation score: 0.8709912536443148\n",
      "Test score: 0.9116809116809117\n",
      "Train CV score: 0.8964920096062617 +/- 0.040219899490247964\n",
      "Training score: 1.0\n",
      "Validation score: 0.8644314868804666\n",
      "Test score: 0.9081196581196581\n",
      "Train CV score: 0.8961666493714421 +/- 0.04129368129163213\n",
      "Training score: 0.9999236874236874\n",
      "Validation score: 0.8651603498542275\n",
      "Test score: 0.9045584045584044\n",
      "Train CV score: 0.8982221003320684 +/- 0.04055922191551272\n",
      "Training score: 0.9999236874236874\n",
      "Validation score: 0.8709912536443147\n",
      "Test score: 0.8981481481481481\n",
      "Train CV score: 0.8930581045422202 +/- 0.041262554436873766\n",
      "Training score: 0.9987789987789988\n",
      "Validation score: 0.8556851311953352\n",
      "Test score: 0.8952991452991453\n"
     ]
    }
   ],
   "source": [
    "var_quantile = 0.\n",
    "for var_quantile in [0,0.05,0.1,0.2,0.25,0.33,0.5]:\n",
    "\n",
    "    chosen_fts = finetune_var[finetune_var>finetune_var.quantile(var_quantile)].index.to_list()\n",
    "    feat_filt_name = 'var q{}'.format(var_quantile)\n",
    "\n",
    "\n",
    "    param_grid = {\n",
    "                'penalty': ['l1', 'l2'],\n",
    "                'C': [0.005, 0.1, 0.5, 1, 2, 5, 10],\n",
    "                'solver' : ['liblinear'],\n",
    "                'class_weight': ['balanced']\n",
    "                }\n",
    "\n",
    "    model_kind = 'logistic_regression' \n",
    "    model_name = f'{model_kind} optimal'  + f'_{feat_filt_name}'\n",
    "    output_dir = os.path.join(task_dir, 'classical_models_alt')\n",
    "\n",
    "    data_dict = {'X_train': X_train[chosen_fts], \n",
    "                'y_train': y_train, \n",
    "                'X_val': X_val[chosen_fts], \n",
    "                'y_val': y_val, \n",
    "                'X_test': X_test[chosen_fts], \n",
    "                'y_test': y_test}\n",
    "\n",
    "\n",
    "    out = my_sklearn_fitter(data_dict, param_grid, \n",
    "                        output_dir, model_kind, model_name)"
   ]
  },
  {
   "cell_type": "code",
   "execution_count": 82,
   "metadata": {},
   "outputs": [
    {
     "name": "stdout",
     "output_type": "stream",
     "text": [
      "logistic_regression optimal_var q0.1_summary.json\n",
      "logistic_regression optimal_var q0_summary.json\n",
      "logistic_regression optimal_var q0.33_summary.json\n",
      "logistic_regression optimal_var q0.05_summary.json\n",
      "logistic_regression optimal_var q0.25_summary.json\n",
      "logistic_regression optimal_var q0.5_summary.json\n",
      "logistic_regression optimal_var q0.2_summary.json\n"
     ]
    }
   ],
   "source": [
    "output_files = os.listdir(output_dir)\n",
    "output_summary_files = [f for f in output_files if f.endswith('summary.json')]\n",
    "other_files = [f for f in output_files if f not in output_summary_files]\n",
    "\n",
    "all_res = []\n",
    "df_cols = ['model_kind','model_name','n_input ft','cv_score','train_score','val_score', 'test_score']\n",
    "for f in output_summary_files:\n",
    "    print(f)\n",
    "    model_name = f.split('_summary.json')[0]\n",
    "    res = json.load(open(os.path.join(output_dir, f)))\n",
    "    res_df = pd.DataFrame({k: res[k] for k in df_cols}, index=[model_name])\n",
    "    all_res.append(res_df)\n",
    "\n",
    "\n",
    "res_summary = pd.concat(all_res, axis=0)    \n",
    "res_summary = res_summary.round(4)\n",
    "res_summary.to_csv(os.path.join(task_dir, 'classical_alt_summary.csv'))"
   ]
  },
  {
   "cell_type": "markdown",
   "metadata": {},
   "source": [
    "## Notepad"
   ]
  },
  {
   "cell_type": "code",
   "execution_count": null,
   "metadata": {},
   "outputs": [],
   "source": []
  },
  {
   "cell_type": "code",
   "execution_count": null,
   "metadata": {},
   "outputs": [],
   "source": []
  },
  {
   "cell_type": "code",
   "execution_count": null,
   "metadata": {},
   "outputs": [],
   "source": []
  },
  {
   "cell_type": "code",
   "execution_count": 75,
   "metadata": {},
   "outputs": [
    {
     "name": "stdout",
     "output_type": "stream",
     "text": [
      "Train CV score: 0.9003188374644213 +/- 0.03904511044706044\n",
      "Training score: 1.0\n",
      "Validation score: 0.8731778425655976\n",
      "Test score: 0.9145299145299145\n"
     ]
    }
   ],
   "source": [
    "param_grid = {\n",
    "            'penalty': ['l1', 'l2'],\n",
    "            'C': [0.005, 0.1, 0.5, 1, 2, 5, 10],\n",
    "            'solver' : ['liblinear'],\n",
    "            'class_weight': ['balanced']\n",
    "            }\n",
    "model_kind = 'logistic_regression' \n",
    "model_name = f'{model_kind} optimal1'   \n",
    "output_dir = os.path.join(task_dir, 'classical_models_alt')\n",
    "\n",
    "\n",
    "out2 = my_sklearn_fitter(data_dict, param_grid, \n",
    "                      output_dir, model_kind, model_name)"
   ]
  },
  {
   "cell_type": "code",
   "execution_count": 72,
   "metadata": {},
   "outputs": [
    {
     "name": "stderr",
     "output_type": "stream",
     "text": [
      "/Users/jonaheaton/opt/miniconda3/envs/mzlearn_3/lib/python3.9/site-packages/sklearn/model_selection/_search.py:307: UserWarning: The total space of parameters 14 is smaller than n_iter=50. Running 14 iterations. For exhaustive searches, use GridSearchCV.\n",
      "  warnings.warn(\n"
     ]
    },
    {
     "name": "stdout",
     "output_type": "stream",
     "text": [
      "Train CV score: 0.9003188374644213 +/- 0.03904511044706044\n",
      "Training score: 1.0\n",
      "Validation score: 0.8731778425655976\n",
      "Test score: 0.9145299145299145\n"
     ]
    }
   ],
   "source": [
    "param_grid = {\n",
    "            'penalty': ['l1', 'l2'],\n",
    "            'C': [0.005, 0.1, 0.5, 1, 2, 5, 10],\n",
    "            'solver' : ['liblinear'],\n",
    "            'class_weight': ['balanced']\n",
    "            }\n",
    "model_kind = 'logistic_regression' \n",
    "model_name = f'{model_kind} optimal1'   \n",
    "output_dir = os.path.join(task_dir, 'classical_models_alt')\n",
    "\n",
    "\n",
    "out1 = my_sklearn_fitter(data_dict, param_grid, \n",
    "                      output_dir, model_kind, model_name)"
   ]
  },
  {
   "cell_type": "code",
   "execution_count": 23,
   "metadata": {},
   "outputs": [],
   "source": [
    "base_model = LogisticRegression(max_iter=1000)\n",
    "param_grid = {\n",
    "            'penalty': ['l1', 'l2'],\n",
    "            'C': [0.005, 0.1, 0.5, 1, 2, 5, 10],\n",
    "            'solver' : ['liblinear'],\n",
    "            'class_weight': ['balanced']\n",
    "            }\n",
    "model = RandomizedSearchCV(base_model, param_distributions=param_grid, \n",
    "                        n_iter=n_iter, cv=cv, verbose=verbose, \n",
    "                        random_state=1010, n_jobs=-1, scoring=scoring_func)\n",
    "\n",
    "\n",
    "model.fit(X_train, y_train)\n",
    "# save the model results\n",
    "model_results = pd.DataFrame(model.cv_results_)\n",
    "best_model = model.best_estimator_"
   ]
  },
  {
   "cell_type": "code",
   "execution_count": 30,
   "metadata": {},
   "outputs": [
    {
     "name": "stdout",
     "output_type": "stream",
     "text": [
      "Train CV score: 0.9003188374644213 +/- 0.03904511044706044\n"
     ]
    }
   ],
   "source": [
    "model_results.sort_values('rank_test_score', inplace=True)\n",
    "model_results.iloc[0]['mean_test_score']\n",
    "cv_score = model_results.iloc[0]['mean_test_score']\n",
    "cv_score_std = model_results.iloc[0]['std_test_score']\n",
    "print(f'Train CV score: {cv_score} +/- {cv_score_std}')"
   ]
  },
  {
   "cell_type": "code",
   "execution_count": 29,
   "metadata": {},
   "outputs": [
    {
     "name": "stdout",
     "output_type": "stream",
     "text": [
      "Training score: 1.0\n"
     ]
    }
   ],
   "source": [
    "y_train_proba = best_model.predict_proba(X_train)[:,1]\n",
    "train_score = roc_auc_score(y_train, y_train_proba, average='weighted')\n",
    "print(f'Training score: {train_score}')"
   ]
  },
  {
   "cell_type": "code",
   "execution_count": 32,
   "metadata": {},
   "outputs": [
    {
     "name": "stdout",
     "output_type": "stream",
     "text": [
      "Validation score: 0.8731778425655976\n"
     ]
    }
   ],
   "source": [
    "y_val_proba = best_model.predict_proba(X_val)[:,1]\n",
    "val_score = roc_auc_score(y_val, y_val_proba, average='weighted')\n",
    "print(f'Validation score: {val_score}')"
   ]
  },
  {
   "cell_type": "code",
   "execution_count": 33,
   "metadata": {},
   "outputs": [
    {
     "name": "stdout",
     "output_type": "stream",
     "text": [
      "Test score: 0.9145299145299145\n"
     ]
    }
   ],
   "source": [
    "y_test_proba = best_model.predict_proba(X_test)[:,1]\n",
    "test_score = roc_auc_score(y_test, y_test_proba, average='weighted')\n",
    "print(f'Test score: {test_score}')"
   ]
  },
  {
   "cell_type": "code",
   "execution_count": 39,
   "metadata": {},
   "outputs": [],
   "source": [
    "model_summary = {\n",
    "    'model_kind': model_kind,\n",
    "    'model_name': model_name,\n",
    "    'param_grid' : param_grid,\n",
    "    'best_params': model.best_params_,\n",
    "    'cv_score': cv_score,\n",
    "    'cv_score_std': cv_score_std,\n",
    "    'train_score': train_score,\n",
    "    'val_score': val_score,\n",
    "    'test_score': test_score\n",
    "}\n",
    "\n",
    "save_json(model_summary, os.path.join(output_dir, f'{model_name}_summary.json'))"
   ]
  },
  {
   "cell_type": "code",
   "execution_count": 36,
   "metadata": {},
   "outputs": [
    {
     "data": {
      "text/plain": [
       "{'model_kind': 'logistic_regression',\n",
       " 'model_name': 'logistic_regression optimal',\n",
       " 'param_grid': {'penalty': ['l1', 'l2'],\n",
       "  'C': [0.005, 0.1, 0.5, 1, 2, 5, 10],\n",
       "  'solver': ['liblinear'],\n",
       "  'class_weight': ['balanced']},\n",
       " 'best_params': {'solver': 'liblinear',\n",
       "  'penalty': 'l2',\n",
       "  'class_weight': 'balanced',\n",
       "  'C': 0.005},\n",
       " 'cv_score': 0.9003188374644213,\n",
       " 'cv_score_std': 0.03904511044706044,\n",
       " 'train_score': 1.0,\n",
       " 'val_score': 0.8731778425655976,\n",
       " 'test_score': 0.9145299145299145}"
      ]
     },
     "execution_count": 36,
     "metadata": {},
     "output_type": "execute_result"
    }
   ],
   "source": [
    "model_summary"
   ]
  },
  {
   "cell_type": "markdown",
   "metadata": {},
   "source": [
    "### cycle over the different models and run repeated cross-validation\n"
   ]
  },
  {
   "cell_type": "code",
   "execution_count": 43,
   "metadata": {},
   "outputs": [
    {
     "name": "stdout",
     "output_type": "stream",
     "text": [
      "logistic_regression optimal_summary.json\n"
     ]
    },
    {
     "ename": "ValueError",
     "evalue": "No objects to concatenate",
     "output_type": "error",
     "traceback": [
      "\u001b[0;31m---------------------------------------------------------------------------\u001b[0m",
      "\u001b[0;31mValueError\u001b[0m                                Traceback (most recent call last)",
      "Cell \u001b[0;32mIn[43], line 14\u001b[0m\n\u001b[1;32m     10\u001b[0m     res \u001b[38;5;241m=\u001b[39m json\u001b[38;5;241m.\u001b[39mload(\u001b[38;5;28mopen\u001b[39m(os\u001b[38;5;241m.\u001b[39mpath\u001b[38;5;241m.\u001b[39mjoin(output_dir, f)))\n\u001b[1;32m     11\u001b[0m     res_df \u001b[38;5;241m=\u001b[39m pd\u001b[38;5;241m.\u001b[39mDataFrame({k: res[k] \u001b[38;5;28;01mfor\u001b[39;00m k \u001b[38;5;129;01min\u001b[39;00m df_cols}, index\u001b[38;5;241m=\u001b[39m[model_name])\n\u001b[0;32m---> 14\u001b[0m res_summary \u001b[38;5;241m=\u001b[39m \u001b[43mpd\u001b[49m\u001b[38;5;241;43m.\u001b[39;49m\u001b[43mconcat\u001b[49m\u001b[43m(\u001b[49m\u001b[43mall_res\u001b[49m\u001b[43m,\u001b[49m\u001b[43m \u001b[49m\u001b[43maxis\u001b[49m\u001b[38;5;241;43m=\u001b[39;49m\u001b[38;5;241;43m1\u001b[39;49m\u001b[43m)\u001b[49m    \n\u001b[1;32m     15\u001b[0m res_summary \u001b[38;5;241m=\u001b[39m res_summary\u001b[38;5;241m.\u001b[39mround(\u001b[38;5;241m4\u001b[39m)\n\u001b[1;32m     16\u001b[0m \u001b[38;5;66;03m# res_summary.to_csv(os.path.join(task_dir, 'classical_summary.csv'))\u001b[39;00m\n",
      "File \u001b[0;32m~/opt/miniconda3/envs/mzlearn_3/lib/python3.9/site-packages/pandas/core/reshape/concat.py:380\u001b[0m, in \u001b[0;36mconcat\u001b[0;34m(objs, axis, join, ignore_index, keys, levels, names, verify_integrity, sort, copy)\u001b[0m\n\u001b[1;32m    377\u001b[0m \u001b[38;5;28;01melif\u001b[39;00m copy \u001b[38;5;129;01mand\u001b[39;00m using_copy_on_write():\n\u001b[1;32m    378\u001b[0m     copy \u001b[38;5;241m=\u001b[39m \u001b[38;5;28;01mFalse\u001b[39;00m\n\u001b[0;32m--> 380\u001b[0m op \u001b[38;5;241m=\u001b[39m \u001b[43m_Concatenator\u001b[49m\u001b[43m(\u001b[49m\n\u001b[1;32m    381\u001b[0m \u001b[43m    \u001b[49m\u001b[43mobjs\u001b[49m\u001b[43m,\u001b[49m\n\u001b[1;32m    382\u001b[0m \u001b[43m    \u001b[49m\u001b[43maxis\u001b[49m\u001b[38;5;241;43m=\u001b[39;49m\u001b[43maxis\u001b[49m\u001b[43m,\u001b[49m\n\u001b[1;32m    383\u001b[0m \u001b[43m    \u001b[49m\u001b[43mignore_index\u001b[49m\u001b[38;5;241;43m=\u001b[39;49m\u001b[43mignore_index\u001b[49m\u001b[43m,\u001b[49m\n\u001b[1;32m    384\u001b[0m \u001b[43m    \u001b[49m\u001b[43mjoin\u001b[49m\u001b[38;5;241;43m=\u001b[39;49m\u001b[43mjoin\u001b[49m\u001b[43m,\u001b[49m\n\u001b[1;32m    385\u001b[0m \u001b[43m    \u001b[49m\u001b[43mkeys\u001b[49m\u001b[38;5;241;43m=\u001b[39;49m\u001b[43mkeys\u001b[49m\u001b[43m,\u001b[49m\n\u001b[1;32m    386\u001b[0m \u001b[43m    \u001b[49m\u001b[43mlevels\u001b[49m\u001b[38;5;241;43m=\u001b[39;49m\u001b[43mlevels\u001b[49m\u001b[43m,\u001b[49m\n\u001b[1;32m    387\u001b[0m \u001b[43m    \u001b[49m\u001b[43mnames\u001b[49m\u001b[38;5;241;43m=\u001b[39;49m\u001b[43mnames\u001b[49m\u001b[43m,\u001b[49m\n\u001b[1;32m    388\u001b[0m \u001b[43m    \u001b[49m\u001b[43mverify_integrity\u001b[49m\u001b[38;5;241;43m=\u001b[39;49m\u001b[43mverify_integrity\u001b[49m\u001b[43m,\u001b[49m\n\u001b[1;32m    389\u001b[0m \u001b[43m    \u001b[49m\u001b[43mcopy\u001b[49m\u001b[38;5;241;43m=\u001b[39;49m\u001b[43mcopy\u001b[49m\u001b[43m,\u001b[49m\n\u001b[1;32m    390\u001b[0m \u001b[43m    \u001b[49m\u001b[43msort\u001b[49m\u001b[38;5;241;43m=\u001b[39;49m\u001b[43msort\u001b[49m\u001b[43m,\u001b[49m\n\u001b[1;32m    391\u001b[0m \u001b[43m\u001b[49m\u001b[43m)\u001b[49m\n\u001b[1;32m    393\u001b[0m \u001b[38;5;28;01mreturn\u001b[39;00m op\u001b[38;5;241m.\u001b[39mget_result()\n",
      "File \u001b[0;32m~/opt/miniconda3/envs/mzlearn_3/lib/python3.9/site-packages/pandas/core/reshape/concat.py:443\u001b[0m, in \u001b[0;36m_Concatenator.__init__\u001b[0;34m(self, objs, axis, join, keys, levels, names, ignore_index, verify_integrity, copy, sort)\u001b[0m\n\u001b[1;32m    440\u001b[0m \u001b[38;5;28mself\u001b[39m\u001b[38;5;241m.\u001b[39mverify_integrity \u001b[38;5;241m=\u001b[39m verify_integrity\n\u001b[1;32m    441\u001b[0m \u001b[38;5;28mself\u001b[39m\u001b[38;5;241m.\u001b[39mcopy \u001b[38;5;241m=\u001b[39m copy\n\u001b[0;32m--> 443\u001b[0m objs, keys \u001b[38;5;241m=\u001b[39m \u001b[38;5;28;43mself\u001b[39;49m\u001b[38;5;241;43m.\u001b[39;49m\u001b[43m_clean_keys_and_objs\u001b[49m\u001b[43m(\u001b[49m\u001b[43mobjs\u001b[49m\u001b[43m,\u001b[49m\u001b[43m \u001b[49m\u001b[43mkeys\u001b[49m\u001b[43m)\u001b[49m\n\u001b[1;32m    445\u001b[0m \u001b[38;5;66;03m# figure out what our result ndim is going to be\u001b[39;00m\n\u001b[1;32m    446\u001b[0m ndims \u001b[38;5;241m=\u001b[39m \u001b[38;5;28mself\u001b[39m\u001b[38;5;241m.\u001b[39m_get_ndims(objs)\n",
      "File \u001b[0;32m~/opt/miniconda3/envs/mzlearn_3/lib/python3.9/site-packages/pandas/core/reshape/concat.py:505\u001b[0m, in \u001b[0;36m_Concatenator._clean_keys_and_objs\u001b[0;34m(self, objs, keys)\u001b[0m\n\u001b[1;32m    502\u001b[0m     objs_list \u001b[38;5;241m=\u001b[39m \u001b[38;5;28mlist\u001b[39m(objs)\n\u001b[1;32m    504\u001b[0m \u001b[38;5;28;01mif\u001b[39;00m \u001b[38;5;28mlen\u001b[39m(objs_list) \u001b[38;5;241m==\u001b[39m \u001b[38;5;241m0\u001b[39m:\n\u001b[0;32m--> 505\u001b[0m     \u001b[38;5;28;01mraise\u001b[39;00m \u001b[38;5;167;01mValueError\u001b[39;00m(\u001b[38;5;124m\"\u001b[39m\u001b[38;5;124mNo objects to concatenate\u001b[39m\u001b[38;5;124m\"\u001b[39m)\n\u001b[1;32m    507\u001b[0m \u001b[38;5;28;01mif\u001b[39;00m keys \u001b[38;5;129;01mis\u001b[39;00m \u001b[38;5;28;01mNone\u001b[39;00m:\n\u001b[1;32m    508\u001b[0m     objs_list \u001b[38;5;241m=\u001b[39m \u001b[38;5;28mlist\u001b[39m(com\u001b[38;5;241m.\u001b[39mnot_none(\u001b[38;5;241m*\u001b[39mobjs_list))\n",
      "\u001b[0;31mValueError\u001b[0m: No objects to concatenate"
     ]
    }
   ],
   "source": [
    "output_files = os.listdir(output_dir)\n",
    "output_summary_files = [f for f in output_files if f.endswith('summary.json')]\n",
    "other_files = [f for f in output_files if f not in output_summary_files]\n",
    "\n",
    "all_res = []\n",
    "df_cols = ['model_kind','model_name','n_input ft','cv_score','train_score','val_score', 'test_score']\n",
    "for f in output_summary_files:\n",
    "    print(f)\n",
    "    model_name = f.split('_summary.json')[0]\n",
    "    res = json.load(open(os.path.join(output_dir, f)))\n",
    "    res_df = pd.DataFrame({k: res[k] for k in df_cols}, index=[model_name])\n",
    "\n",
    "\n",
    "res_summary = pd.concat(all_res, axis=1)    \n",
    "res_summary = res_summary.round(4)\n",
    "# res_summary.to_csv(os.path.join(task_dir, 'classical_summary.csv'))"
   ]
  },
  {
   "cell_type": "code",
   "execution_count": 45,
   "metadata": {},
   "outputs": [
    {
     "data": {
      "text/html": [
       "<div>\n",
       "<style scoped>\n",
       "    .dataframe tbody tr th:only-of-type {\n",
       "        vertical-align: middle;\n",
       "    }\n",
       "\n",
       "    .dataframe tbody tr th {\n",
       "        vertical-align: top;\n",
       "    }\n",
       "\n",
       "    .dataframe thead th {\n",
       "        text-align: right;\n",
       "    }\n",
       "</style>\n",
       "<table border=\"1\" class=\"dataframe\">\n",
       "  <thead>\n",
       "    <tr style=\"text-align: right;\">\n",
       "      <th></th>\n",
       "      <th>model_kind</th>\n",
       "      <th>model_name</th>\n",
       "      <th>cv_score</th>\n",
       "      <th>cv_score_std</th>\n",
       "      <th>train_score</th>\n",
       "      <th>val_score</th>\n",
       "      <th>test_score</th>\n",
       "    </tr>\n",
       "  </thead>\n",
       "  <tbody>\n",
       "    <tr>\n",
       "      <th>logistic_regression optimal</th>\n",
       "      <td>logistic_regression</td>\n",
       "      <td>logistic_regression optimal</td>\n",
       "      <td>0.900319</td>\n",
       "      <td>0.039045</td>\n",
       "      <td>1.0</td>\n",
       "      <td>0.873178</td>\n",
       "      <td>0.91453</td>\n",
       "    </tr>\n",
       "  </tbody>\n",
       "</table>\n",
       "</div>"
      ],
      "text/plain": [
       "                                      model_kind                   model_name  \\\n",
       "logistic_regression optimal  logistic_regression  logistic_regression optimal   \n",
       "\n",
       "                             cv_score  cv_score_std  train_score  val_score  \\\n",
       "logistic_regression optimal  0.900319      0.039045          1.0   0.873178   \n",
       "\n",
       "                             test_score  \n",
       "logistic_regression optimal     0.91453  "
      ]
     },
     "execution_count": 45,
     "metadata": {},
     "output_type": "execute_result"
    }
   ],
   "source": [
    "res_df \n"
   ]
  },
  {
   "cell_type": "code",
   "execution_count": 41,
   "metadata": {},
   "outputs": [
    {
     "data": {
      "text/plain": [
       "{'model_kind': 'logistic_regression',\n",
       " 'model_name': 'logistic_regression optimal',\n",
       " 'param_grid': {'penalty': ['l1', 'l2'],\n",
       "  'C': [0.005, 0.1, 0.5, 1, 2, 5, 10],\n",
       "  'solver': ['liblinear'],\n",
       "  'class_weight': ['balanced']},\n",
       " 'best_params': {'solver': 'liblinear',\n",
       "  'penalty': 'l2',\n",
       "  'class_weight': 'balanced',\n",
       "  'C': 0.005},\n",
       " 'cv_score': 0.9003188374644213,\n",
       " 'cv_score_std': 0.03904511044706044,\n",
       " 'train_score': 1.0,\n",
       " 'val_score': 0.8731778425655976,\n",
       " 'test_score': 0.9145299145299145}"
      ]
     },
     "execution_count": 41,
     "metadata": {},
     "output_type": "execute_result"
    }
   ],
   "source": [
    "res"
   ]
  },
  {
   "cell_type": "code",
   "execution_count": 30,
   "metadata": {},
   "outputs": [],
   "source": [
    "val_hold_idx = holdout_val_files\n",
    "Xval = X_data.loc[val_hold_idx]\n",
    "yval = y_data.loc[val_hold_idx, finetune_label_col]\n",
    "if yes_dropna:\n",
    "    yval = yval.dropna()\n",
    "    Xval = Xval.loc[yval.index]"
   ]
  },
  {
   "cell_type": "code",
   "execution_count": 31,
   "metadata": {},
   "outputs": [
    {
     "name": "stdout",
     "output_type": "stream",
     "text": [
      "dropping nan values in the y column\n",
      "number of samples after dropping nan values in the y column:  240\n"
     ]
    }
   ],
   "source": [
    "output_dir = os.path.join(task_dir, 'classical_models')\n",
    "if finetune_label_mapper:\n",
    "    y_values = y[finetune_label_col].map(finetune_label_mapper)\n",
    "else:\n",
    "    y_values = y[finetune_label_col]\n",
    "    \n",
    "if yes_dropna:\n",
    "    print('dropping nan values in the y column')\n",
    "    y_values = y_values.dropna()\n",
    "    X = X.loc[y_values.index]\n",
    "    splits_df = splits_df.loc[y_values.index]\n",
    "\n",
    "    print('number of samples after dropping nan values in the y column: ', y_values.shape[0])    \n"
   ]
  },
  {
   "cell_type": "code",
   "execution_count": 25,
   "metadata": {},
   "outputs": [
    {
     "name": "stdout",
     "output_type": "stream",
     "text": [
      "dropping nan values in the y column\n",
      "number of samples after dropping nan values in the y column:  156\n",
      "svc_default_summary.csv\n",
      "logistic_regression_default_summary.csv\n",
      "random_forest_default_summary.csv\n"
     ]
    }
   ],
   "source": [
    "delete_other_files = False #delete the files generated from each fitting in the repeated Cross-validation\n",
    "optimization_desc = 'default' #use sklearn's default hyperparameters\n",
    "# optimization_desc = 'optimal' # use the default hyperparameter gridsearch specified in run_train_sklearn_model\n",
    "\n",
    "which_models = ['logistic_regression', 'random_forest', 'svc']\n",
    "# which_models = ['logistic_regression']\n",
    "\n",
    "\n",
    "for model_kind in which_models:\n",
    "    gather_output = []\n",
    "    model_name = model_kind + '_' + optimization_desc\n",
    "    output_summary_file = os.path.join(output_dir, f'{model_name}_summary.csv')\n",
    "    \n",
    "    if optimization_desc == 'default':\n",
    "        param_grid = {}\n",
    "    elif optimization_desc == 'optimal':\n",
    "        param_grid = None # use the default hyperparameter gridsearch specified in run_train_sklearn_model\n",
    "\n",
    "    for subset_id in range(n_folds):\n",
    "\n",
    "\n",
    "\n",
    "        train_idx = splits_df.index[splits_df[f'fold_{subset_id}'] == False]\n",
    "        test_idx = splits_df.index[splits_df[f'fold_{subset_id}'] == True]\n",
    "        finetune_dataset = SimpleDataset(X.loc[train_idx], y_values.loc[train_idx])\n",
    "        \n",
    "        class_weights = 1 / torch.bincount(finetune_dataset.y.long())\n",
    "\n",
    "        test_dataset = SimpleDataset(X.loc[test_idx], y_values.loc[test_idx])\n",
    "\n",
    "        data_dict = {'train': finetune_dataset, 'CV': test_dataset}\n",
    "\n",
    "        #if you want to add the validation set to the final evaluation\n",
    "        data_dict['val'] = SimpleDataset(Xval, yval)\n",
    "\n",
    "        ##### ##### ##### ##### ##### ##### ##### ##### ##### #####\n",
    "        ##### Here is the code that actually runs the model optimization #####\n",
    "        output_data = run_train_sklearn_model(data_dict,output_dir,\n",
    "                                model_kind = model_kind,\n",
    "                                model_name=f'{model_name}_{subset_id}',\n",
    "                                param_grid=param_grid\n",
    "                                )\n",
    "        ##### ##### ##### ##### ##### ##### ##### ##### ##### #####\n",
    "        \n",
    "\n",
    "        gather_output.append(output_data)\n",
    "\n",
    "    ## Summarize the important results\n",
    "    # best_epoch_list = [output['best_epoch'] for output in gather_output]\n",
    "        \n",
    "    auc_summary_dct = {}\n",
    "    for phase in data_dict.keys():\n",
    "        auc_summary_dct[phase + ' AUROC'] = [output['end_state_auroc'][phase] for output in gather_output]\n",
    "\n",
    "    # cv_auroc_list = [output['end_state_auroc']['CV'] for output in gather_output]\n",
    "    # train_auroc_list = [output['end_state_auroc']['train'] for output in gather_output]\n",
    "    # model_name = gather_output[0]['model_name']\n",
    "    auc_summary = pd.DataFrame(auc_summary_dct)\n",
    "\n",
    "\n",
    "    result_summary_avg = auc_summary.mean()\n",
    "    result_summary_std = auc_summary.std()\n",
    "    result_summary_avg.index = [f'AVG {col}' for col in result_summary_avg.index]\n",
    "    result_summary_std.index = [f'STD {col}' for col in result_summary_std.index]\n",
    "    result_summary = pd.concat([result_summary_avg, result_summary_std])\n",
    "    result_summary.to_csv(output_summary_file)\n",
    "\n",
    "\n",
    "\n",
    "\n",
    "\n",
    "output_files = os.listdir(output_dir)\n",
    "output_summary_files = [f for f in output_files if f.endswith('summary.csv')]\n",
    "other_files = [f for f in output_files if f not in output_summary_files]\n",
    "\n",
    "all_res = []\n",
    "\n",
    "for f in output_summary_files:\n",
    "    print(f)\n",
    "    model_name = f.split('_summary.csv')[0]\n",
    "    res = pd.read_csv(os.path.join(output_dir, f), index_col=0)\n",
    "    res.columns = [model_name]\n",
    "    all_res.append(res)\n",
    "    \n",
    "# delete the other files to save room\n",
    "if delete_other_files:\n",
    "    for f in other_files:\n",
    "        os.remove(os.path.join(output_dir, f))    \n",
    "\n",
    "res_summary = pd.concat(all_res, axis=1)    \n",
    "res_summary = res_summary.round(4)\n",
    "res_summary.to_csv(os.path.join(task_dir, 'classical_summary.csv'))\n"
   ]
  },
  {
   "cell_type": "code",
   "execution_count": 32,
   "metadata": {},
   "outputs": [
    {
     "name": "stdout",
     "output_type": "stream",
     "text": [
      "logistic_regression_default val val auc: 0.8607871532440186\n",
      "random_forest_default val val auc: 0.931851327419281\n",
      "svc_default val val auc: 0.9256560802459717\n"
     ]
    }
   ],
   "source": [
    "data_dict = {}\n",
    "data_dict['train'] = SimpleDataset(X, y_values)\n",
    "data_dict['test'] = SimpleDataset(Xval, yval)\n",
    "\n",
    "for model_kind in which_models:\n",
    "\n",
    "        model_name = model_kind + '_' + optimization_desc +' val'\n",
    "\n",
    "        output_data = run_train_sklearn_model(data_dict,output_dir,\n",
    "                                model_kind = model_kind,\n",
    "                                model_name=f'{model_name}',\n",
    "                                param_grid=param_grid\n",
    "                                )\n",
    "        \n",
    "        valauc = output_data['end_state_auroc']['test']\n",
    "        print(f'{model_name} val auc: {valauc}')\n",
    "        "
   ]
  },
  {
   "cell_type": "code",
   "execution_count": 26,
   "metadata": {},
   "outputs": [
    {
     "data": {
      "text/plain": [
       "<__main__.SimpleDataset at 0x7fc8fd402070>"
      ]
     },
     "execution_count": 26,
     "metadata": {},
     "output_type": "execute_result"
    }
   ],
   "source": [
    "test_dataset"
   ]
  },
  {
   "cell_type": "code",
   "execution_count": 11,
   "metadata": {},
   "outputs": [
    {
     "data": {
      "text/html": [
       "<div>\n",
       "<style scoped>\n",
       "    .dataframe tbody tr th:only-of-type {\n",
       "        vertical-align: middle;\n",
       "    }\n",
       "\n",
       "    .dataframe tbody tr th {\n",
       "        vertical-align: top;\n",
       "    }\n",
       "\n",
       "    .dataframe thead th {\n",
       "        text-align: right;\n",
       "    }\n",
       "</style>\n",
       "<table border=\"1\" class=\"dataframe\">\n",
       "  <thead>\n",
       "    <tr style=\"text-align: right;\">\n",
       "      <th></th>\n",
       "      <th>svc_default</th>\n",
       "      <th>logistic_regression_default</th>\n",
       "      <th>logistic_regression_optimal</th>\n",
       "      <th>random_forest_default</th>\n",
       "    </tr>\n",
       "  </thead>\n",
       "  <tbody>\n",
       "    <tr>\n",
       "      <th>AVG train AUROC</th>\n",
       "      <td>0.980</td>\n",
       "      <td>1.000</td>\n",
       "      <td>0.998</td>\n",
       "      <td>1.000</td>\n",
       "    </tr>\n",
       "    <tr>\n",
       "      <th>AVG CV AUROC</th>\n",
       "      <td>0.646</td>\n",
       "      <td>0.655</td>\n",
       "      <td>0.634</td>\n",
       "      <td>0.629</td>\n",
       "    </tr>\n",
       "    <tr>\n",
       "      <th>STD train AUROC</th>\n",
       "      <td>0.141</td>\n",
       "      <td>0.000</td>\n",
       "      <td>0.008</td>\n",
       "      <td>0.000</td>\n",
       "    </tr>\n",
       "    <tr>\n",
       "      <th>STD CV AUROC</th>\n",
       "      <td>0.090</td>\n",
       "      <td>0.074</td>\n",
       "      <td>0.080</td>\n",
       "      <td>0.074</td>\n",
       "    </tr>\n",
       "  </tbody>\n",
       "</table>\n",
       "</div>"
      ],
      "text/plain": [
       "                 svc_default  logistic_regression_default  \\\n",
       "AVG train AUROC        0.980                        1.000   \n",
       "AVG CV AUROC           0.646                        0.655   \n",
       "STD train AUROC        0.141                        0.000   \n",
       "STD CV AUROC           0.090                        0.074   \n",
       "\n",
       "                 logistic_regression_optimal  random_forest_default  \n",
       "AVG train AUROC                        0.998                  1.000  \n",
       "AVG CV AUROC                           0.634                  0.629  \n",
       "STD train AUROC                        0.008                  0.000  \n",
       "STD CV AUROC                           0.080                  0.074  "
      ]
     },
     "execution_count": 11,
     "metadata": {},
     "output_type": "execute_result"
    }
   ],
   "source": [
    "res_summary.round(3)"
   ]
  },
  {
   "cell_type": "code",
   "execution_count": 21,
   "metadata": {},
   "outputs": [
    {
     "data": {
      "text/html": [
       "<div>\n",
       "<style scoped>\n",
       "    .dataframe tbody tr th:only-of-type {\n",
       "        vertical-align: middle;\n",
       "    }\n",
       "\n",
       "    .dataframe tbody tr th {\n",
       "        vertical-align: top;\n",
       "    }\n",
       "\n",
       "    .dataframe thead th {\n",
       "        text-align: right;\n",
       "    }\n",
       "</style>\n",
       "<table border=\"1\" class=\"dataframe\">\n",
       "  <thead>\n",
       "    <tr style=\"text-align: right;\">\n",
       "      <th></th>\n",
       "      <th>train AUROC</th>\n",
       "      <th>CV AUROC</th>\n",
       "      <th>val AUROC</th>\n",
       "    </tr>\n",
       "  </thead>\n",
       "  <tbody>\n",
       "    <tr>\n",
       "      <th>0</th>\n",
       "      <td>0.999881</td>\n",
       "      <td>0.891841</td>\n",
       "      <td>0.908163</td>\n",
       "    </tr>\n",
       "    <tr>\n",
       "      <th>1</th>\n",
       "      <td>1.000000</td>\n",
       "      <td>0.857685</td>\n",
       "      <td>0.919096</td>\n",
       "    </tr>\n",
       "    <tr>\n",
       "      <th>2</th>\n",
       "      <td>1.000000</td>\n",
       "      <td>0.973435</td>\n",
       "      <td>0.924198</td>\n",
       "    </tr>\n",
       "    <tr>\n",
       "      <th>3</th>\n",
       "      <td>0.999761</td>\n",
       "      <td>0.884250</td>\n",
       "      <td>0.934402</td>\n",
       "    </tr>\n",
       "    <tr>\n",
       "      <th>4</th>\n",
       "      <td>0.999881</td>\n",
       "      <td>0.882812</td>\n",
       "      <td>0.930029</td>\n",
       "    </tr>\n",
       "    <tr>\n",
       "      <th>5</th>\n",
       "      <td>1.000000</td>\n",
       "      <td>0.941176</td>\n",
       "      <td>0.927114</td>\n",
       "    </tr>\n",
       "    <tr>\n",
       "      <th>6</th>\n",
       "      <td>1.000000</td>\n",
       "      <td>0.920304</td>\n",
       "      <td>0.910350</td>\n",
       "    </tr>\n",
       "    <tr>\n",
       "      <th>7</th>\n",
       "      <td>0.999761</td>\n",
       "      <td>0.861480</td>\n",
       "      <td>0.931487</td>\n",
       "    </tr>\n",
       "    <tr>\n",
       "      <th>8</th>\n",
       "      <td>1.000000</td>\n",
       "      <td>0.872865</td>\n",
       "      <td>0.917638</td>\n",
       "    </tr>\n",
       "    <tr>\n",
       "      <th>9</th>\n",
       "      <td>1.000000</td>\n",
       "      <td>0.845703</td>\n",
       "      <td>0.928572</td>\n",
       "    </tr>\n",
       "    <tr>\n",
       "      <th>10</th>\n",
       "      <td>1.000000</td>\n",
       "      <td>0.882353</td>\n",
       "      <td>0.924927</td>\n",
       "    </tr>\n",
       "    <tr>\n",
       "      <th>11</th>\n",
       "      <td>1.000000</td>\n",
       "      <td>0.891841</td>\n",
       "      <td>0.924198</td>\n",
       "    </tr>\n",
       "    <tr>\n",
       "      <th>12</th>\n",
       "      <td>1.000000</td>\n",
       "      <td>0.950664</td>\n",
       "      <td>0.922741</td>\n",
       "    </tr>\n",
       "    <tr>\n",
       "      <th>13</th>\n",
       "      <td>1.000000</td>\n",
       "      <td>0.897533</td>\n",
       "      <td>0.934402</td>\n",
       "    </tr>\n",
       "    <tr>\n",
       "      <th>14</th>\n",
       "      <td>1.000000</td>\n",
       "      <td>0.791016</td>\n",
       "      <td>0.917639</td>\n",
       "    </tr>\n",
       "    <tr>\n",
       "      <th>15</th>\n",
       "      <td>1.000000</td>\n",
       "      <td>0.874763</td>\n",
       "      <td>0.922741</td>\n",
       "    </tr>\n",
       "    <tr>\n",
       "      <th>16</th>\n",
       "      <td>0.999881</td>\n",
       "      <td>0.880455</td>\n",
       "      <td>0.912536</td>\n",
       "    </tr>\n",
       "    <tr>\n",
       "      <th>17</th>\n",
       "      <td>0.999881</td>\n",
       "      <td>0.876660</td>\n",
       "      <td>0.928571</td>\n",
       "    </tr>\n",
       "    <tr>\n",
       "      <th>18</th>\n",
       "      <td>1.000000</td>\n",
       "      <td>0.933586</td>\n",
       "      <td>0.924927</td>\n",
       "    </tr>\n",
       "    <tr>\n",
       "      <th>19</th>\n",
       "      <td>1.000000</td>\n",
       "      <td>0.767578</td>\n",
       "      <td>0.916910</td>\n",
       "    </tr>\n",
       "    <tr>\n",
       "      <th>20</th>\n",
       "      <td>0.999761</td>\n",
       "      <td>0.918406</td>\n",
       "      <td>0.932945</td>\n",
       "    </tr>\n",
       "    <tr>\n",
       "      <th>21</th>\n",
       "      <td>0.999881</td>\n",
       "      <td>0.833017</td>\n",
       "      <td>0.915452</td>\n",
       "    </tr>\n",
       "    <tr>\n",
       "      <th>22</th>\n",
       "      <td>0.999881</td>\n",
       "      <td>0.920304</td>\n",
       "      <td>0.911808</td>\n",
       "    </tr>\n",
       "    <tr>\n",
       "      <th>23</th>\n",
       "      <td>1.000000</td>\n",
       "      <td>0.878558</td>\n",
       "      <td>0.913265</td>\n",
       "    </tr>\n",
       "    <tr>\n",
       "      <th>24</th>\n",
       "      <td>1.000000</td>\n",
       "      <td>0.851562</td>\n",
       "      <td>0.927843</td>\n",
       "    </tr>\n",
       "    <tr>\n",
       "      <th>25</th>\n",
       "      <td>1.000000</td>\n",
       "      <td>0.914611</td>\n",
       "      <td>0.911079</td>\n",
       "    </tr>\n",
       "    <tr>\n",
       "      <th>26</th>\n",
       "      <td>1.000000</td>\n",
       "      <td>0.838710</td>\n",
       "      <td>0.917639</td>\n",
       "    </tr>\n",
       "    <tr>\n",
       "      <th>27</th>\n",
       "      <td>1.000000</td>\n",
       "      <td>0.950664</td>\n",
       "      <td>0.923469</td>\n",
       "    </tr>\n",
       "    <tr>\n",
       "      <th>28</th>\n",
       "      <td>1.000000</td>\n",
       "      <td>0.899431</td>\n",
       "      <td>0.922012</td>\n",
       "    </tr>\n",
       "    <tr>\n",
       "      <th>29</th>\n",
       "      <td>0.999644</td>\n",
       "      <td>0.806641</td>\n",
       "      <td>0.935860</td>\n",
       "    </tr>\n",
       "    <tr>\n",
       "      <th>30</th>\n",
       "      <td>0.999881</td>\n",
       "      <td>0.943074</td>\n",
       "      <td>0.917639</td>\n",
       "    </tr>\n",
       "    <tr>\n",
       "      <th>31</th>\n",
       "      <td>1.000000</td>\n",
       "      <td>0.787476</td>\n",
       "      <td>0.919096</td>\n",
       "    </tr>\n",
       "    <tr>\n",
       "      <th>32</th>\n",
       "      <td>0.999881</td>\n",
       "      <td>0.905123</td>\n",
       "      <td>0.928571</td>\n",
       "    </tr>\n",
       "    <tr>\n",
       "      <th>33</th>\n",
       "      <td>1.000000</td>\n",
       "      <td>0.882353</td>\n",
       "      <td>0.919096</td>\n",
       "    </tr>\n",
       "    <tr>\n",
       "      <th>34</th>\n",
       "      <td>0.999881</td>\n",
       "      <td>0.892578</td>\n",
       "      <td>0.924198</td>\n",
       "    </tr>\n",
       "    <tr>\n",
       "      <th>35</th>\n",
       "      <td>1.000000</td>\n",
       "      <td>0.908918</td>\n",
       "      <td>0.930029</td>\n",
       "    </tr>\n",
       "    <tr>\n",
       "      <th>36</th>\n",
       "      <td>1.000000</td>\n",
       "      <td>0.795066</td>\n",
       "      <td>0.924927</td>\n",
       "    </tr>\n",
       "    <tr>\n",
       "      <th>37</th>\n",
       "      <td>1.000000</td>\n",
       "      <td>0.891841</td>\n",
       "      <td>0.916910</td>\n",
       "    </tr>\n",
       "    <tr>\n",
       "      <th>38</th>\n",
       "      <td>1.000000</td>\n",
       "      <td>0.922201</td>\n",
       "      <td>0.920554</td>\n",
       "    </tr>\n",
       "    <tr>\n",
       "      <th>39</th>\n",
       "      <td>0.999763</td>\n",
       "      <td>0.910156</td>\n",
       "      <td>0.918367</td>\n",
       "    </tr>\n",
       "    <tr>\n",
       "      <th>40</th>\n",
       "      <td>1.000000</td>\n",
       "      <td>0.927894</td>\n",
       "      <td>0.920554</td>\n",
       "    </tr>\n",
       "    <tr>\n",
       "      <th>41</th>\n",
       "      <td>0.999761</td>\n",
       "      <td>0.914611</td>\n",
       "      <td>0.922012</td>\n",
       "    </tr>\n",
       "    <tr>\n",
       "      <th>42</th>\n",
       "      <td>0.999761</td>\n",
       "      <td>0.848197</td>\n",
       "      <td>0.918367</td>\n",
       "    </tr>\n",
       "    <tr>\n",
       "      <th>43</th>\n",
       "      <td>0.999881</td>\n",
       "      <td>0.844402</td>\n",
       "      <td>0.920554</td>\n",
       "    </tr>\n",
       "    <tr>\n",
       "      <th>44</th>\n",
       "      <td>1.000000</td>\n",
       "      <td>0.893555</td>\n",
       "      <td>0.920554</td>\n",
       "    </tr>\n",
       "    <tr>\n",
       "      <th>45</th>\n",
       "      <td>1.000000</td>\n",
       "      <td>0.893738</td>\n",
       "      <td>0.911808</td>\n",
       "    </tr>\n",
       "    <tr>\n",
       "      <th>46</th>\n",
       "      <td>1.000000</td>\n",
       "      <td>0.876660</td>\n",
       "      <td>0.929300</td>\n",
       "    </tr>\n",
       "    <tr>\n",
       "      <th>47</th>\n",
       "      <td>0.999642</td>\n",
       "      <td>0.878558</td>\n",
       "      <td>0.924927</td>\n",
       "    </tr>\n",
       "    <tr>\n",
       "      <th>48</th>\n",
       "      <td>1.000000</td>\n",
       "      <td>0.922201</td>\n",
       "      <td>0.922012</td>\n",
       "    </tr>\n",
       "    <tr>\n",
       "      <th>49</th>\n",
       "      <td>1.000000</td>\n",
       "      <td>0.900391</td>\n",
       "      <td>0.935131</td>\n",
       "    </tr>\n",
       "  </tbody>\n",
       "</table>\n",
       "</div>"
      ],
      "text/plain": [
       "    train AUROC  CV AUROC  val AUROC\n",
       "0      0.999881  0.891841   0.908163\n",
       "1      1.000000  0.857685   0.919096\n",
       "2      1.000000  0.973435   0.924198\n",
       "3      0.999761  0.884250   0.934402\n",
       "4      0.999881  0.882812   0.930029\n",
       "5      1.000000  0.941176   0.927114\n",
       "6      1.000000  0.920304   0.910350\n",
       "7      0.999761  0.861480   0.931487\n",
       "8      1.000000  0.872865   0.917638\n",
       "9      1.000000  0.845703   0.928572\n",
       "10     1.000000  0.882353   0.924927\n",
       "11     1.000000  0.891841   0.924198\n",
       "12     1.000000  0.950664   0.922741\n",
       "13     1.000000  0.897533   0.934402\n",
       "14     1.000000  0.791016   0.917639\n",
       "15     1.000000  0.874763   0.922741\n",
       "16     0.999881  0.880455   0.912536\n",
       "17     0.999881  0.876660   0.928571\n",
       "18     1.000000  0.933586   0.924927\n",
       "19     1.000000  0.767578   0.916910\n",
       "20     0.999761  0.918406   0.932945\n",
       "21     0.999881  0.833017   0.915452\n",
       "22     0.999881  0.920304   0.911808\n",
       "23     1.000000  0.878558   0.913265\n",
       "24     1.000000  0.851562   0.927843\n",
       "25     1.000000  0.914611   0.911079\n",
       "26     1.000000  0.838710   0.917639\n",
       "27     1.000000  0.950664   0.923469\n",
       "28     1.000000  0.899431   0.922012\n",
       "29     0.999644  0.806641   0.935860\n",
       "30     0.999881  0.943074   0.917639\n",
       "31     1.000000  0.787476   0.919096\n",
       "32     0.999881  0.905123   0.928571\n",
       "33     1.000000  0.882353   0.919096\n",
       "34     0.999881  0.892578   0.924198\n",
       "35     1.000000  0.908918   0.930029\n",
       "36     1.000000  0.795066   0.924927\n",
       "37     1.000000  0.891841   0.916910\n",
       "38     1.000000  0.922201   0.920554\n",
       "39     0.999763  0.910156   0.918367\n",
       "40     1.000000  0.927894   0.920554\n",
       "41     0.999761  0.914611   0.922012\n",
       "42     0.999761  0.848197   0.918367\n",
       "43     0.999881  0.844402   0.920554\n",
       "44     1.000000  0.893555   0.920554\n",
       "45     1.000000  0.893738   0.911808\n",
       "46     1.000000  0.876660   0.929300\n",
       "47     0.999642  0.878558   0.924927\n",
       "48     1.000000  0.922201   0.922012\n",
       "49     1.000000  0.900391   0.935131"
      ]
     },
     "execution_count": 21,
     "metadata": {},
     "output_type": "execute_result"
    }
   ],
   "source": [
    "auc_summary"
   ]
  },
  {
   "cell_type": "code",
   "execution_count": 14,
   "metadata": {},
   "outputs": [
    {
     "data": {
      "text/plain": [
       "True"
      ]
     },
     "execution_count": 14,
     "metadata": {},
     "output_type": "execute_result"
    }
   ],
   "source": [
    "# how to check if a variable is a function\n",
    "callable(run_train_sklearn_model)"
   ]
  },
  {
   "cell_type": "code",
   "execution_count": 16,
   "metadata": {},
   "outputs": [
    {
     "data": {
      "text/plain": [
       "False"
      ]
     },
     "execution_count": 16,
     "metadata": {},
     "output_type": "execute_result"
    }
   ],
   "source": [
    "callable(subset_dir)"
   ]
  },
  {
   "cell_type": "code",
   "execution_count": 17,
   "metadata": {},
   "outputs": [
    {
     "data": {
      "text/plain": [
       "(17685, 2736)"
      ]
     },
     "execution_count": 17,
     "metadata": {},
     "output_type": "execute_result"
    }
   ],
   "source": [
    "X_data.shape"
   ]
  },
  {
   "cell_type": "code",
   "execution_count": 19,
   "metadata": {},
   "outputs": [
    {
     "data": {
      "text/plain": [
       "FT10031   -0.002666\n",
       "FT10035   -0.005164\n",
       "FT10037   -0.003603\n",
       "FT10039   -0.004585\n",
       "FT10041   -0.007062\n",
       "             ...   \n",
       "FT9985    -0.007561\n",
       "FT9988    -0.006673\n",
       "FT9989    -0.004516\n",
       "FT9997    -0.006612\n",
       "FT9999    -0.008210\n",
       "Length: 2736, dtype: float64"
      ]
     },
     "execution_count": 19,
     "metadata": {},
     "output_type": "execute_result"
    }
   ],
   "source": [
    "X_data.sum(axis=0)/X_data.shape[0]"
   ]
  },
  {
   "cell_type": "code",
   "execution_count": null,
   "metadata": {},
   "outputs": [],
   "source": []
  }
 ],
 "metadata": {
  "kernelspec": {
   "display_name": "mzlearn_3",
   "language": "python",
   "name": "python3"
  },
  "language_info": {
   "codemirror_mode": {
    "name": "ipython",
    "version": 3
   },
   "file_extension": ".py",
   "mimetype": "text/x-python",
   "name": "python",
   "nbconvert_exporter": "python",
   "pygments_lexer": "ipython3",
   "version": "3.9.18"
  }
 },
 "nbformat": 4,
 "nbformat_minor": 2
}
