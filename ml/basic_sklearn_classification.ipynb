{
 "cells": [
  {
   "cell_type": "code",
   "execution_count": 6,
   "metadata": {},
   "outputs": [],
   "source": [
    "import pandas as pd\n",
    "import numpy as np\n",
    "from sklearn.linear_model import LogisticRegression\n",
    "from sklearn.metrics import roc_auc_score, accuracy_score\n",
    "# import XGBoost\n",
    "from xgboost import XGBClassifier\n",
    "import os\n",
    "import itertools\n",
    "import tqdm\n",
    "logistic_regression_param_grid = {\n",
    "            # 'penalty': ['l1', 'l2'],\n",
    "            # 'solver' : ['liblinear'],\n",
    "            'penalty': ['elasticnet'],\n",
    "            'solver' : ['saga'],\n",
    "            'l1_ratio': [0, 0.25, 0.33, 0.5, 0.66, 0.75, 1],\n",
    "            'C': [0.001, 0.005, 0.01, 0.05, 0.1, 0.5, 1, 2, 5, 10],\n",
    "            'class_weight': ['balanced'],\n",
    "            'max_iter': [10000],\n",
    "            'tol': [1e-3, 1e-4],\n",
    "            }"
   ]
  },
  {
   "cell_type": "code",
   "execution_count": 3,
   "metadata": {},
   "outputs": [],
   "source": [
    "data_dir= '/Users/jonaheaton/ReviveMed Dropbox/Jonah Eaton/development_finetune_optimization/April_30_Finetune_Data'\n",
    "local_dir = os.path.expanduser('~/Desktop/saved_models')\n",
    "\n"
   ]
  },
  {
   "cell_type": "code",
   "execution_count": 15,
   "metadata": {},
   "outputs": [],
   "source": [
    "X_train = pd.read_csv(os.path.join(data_dir, 'X_finetune_train.csv'),index_col=0)\n",
    "y_train = pd.read_csv(os.path.join(data_dir, 'y_finetune_train.csv'),index_col=0)\n",
    "\n",
    "X_val = pd.read_csv(os.path.join(data_dir, 'X_finetune_val.csv'),index_col=0)\n",
    "y_val = pd.read_csv(os.path.join(data_dir, 'y_finetune_val.csv'),index_col=0)\n",
    "\n",
    "X_trainval = pd.concat([X_train, X_val])\n",
    "y_trainval = pd.concat([y_train, y_val])\n",
    "\n",
    "X_test = pd.read_csv(os.path.join(data_dir, 'X_finetune_test.csv'),index_col=0)\n",
    "y_test = pd.read_csv(os.path.join(data_dir, 'y_finetune_test.csv'),index_col=0)"
   ]
  },
  {
   "cell_type": "code",
   "execution_count": 16,
   "metadata": {},
   "outputs": [],
   "source": [
    "y_col = 'IMDC BINARY'\n",
    "y_train = y_train[y_col]\n",
    "y_train.dropna(inplace=True)\n",
    "X_train = X_train.loc[y_train.index]\n",
    "\n",
    "y_val = y_val[y_col]\n",
    "y_val.dropna(inplace=True)\n",
    "X_val = X_val.loc[y_val.index]\n",
    "\n",
    "y_trainval = y_trainval[y_col]\n",
    "y_trainval.dropna(inplace=True)\n",
    "X_trainval = X_trainval.loc[y_trainval.index]\n",
    "\n",
    "y_test = y_test[y_col]\n",
    "y_test.dropna(inplace=True)\n",
    "X_test = X_test.loc[y_test.index]"
   ]
  },
  {
   "cell_type": "code",
   "execution_count": 12,
   "metadata": {},
   "outputs": [
    {
     "data": {
      "text/plain": [
       "(61,)"
      ]
     },
     "execution_count": 12,
     "metadata": {},
     "output_type": "execute_result"
    }
   ],
   "source": [
    "y_val.shape"
   ]
  },
  {
   "cell_type": "code",
   "execution_count": 11,
   "metadata": {},
   "outputs": [
    {
     "data": {
      "text/plain": [
       "(61, 2736)"
      ]
     },
     "execution_count": 11,
     "metadata": {},
     "output_type": "execute_result"
    }
   ],
   "source": [
    "X_val.shape"
   ]
  },
  {
   "cell_type": "code",
   "execution_count": 17,
   "metadata": {},
   "outputs": [
    {
     "name": "stderr",
     "output_type": "stream",
     "text": [
      "77it [04:48,  7.02s/it]"
     ]
    }
   ],
   "source": [
    "param_grid = logistic_regression_param_grid\n",
    "\n",
    "param_combs = list(itertools.product(*param_grid.values()))\n",
    "grid_search = [dict(zip(param_grid.keys(), values)) for values in param_combs]\n",
    "hp_summary = {}\n",
    "for i, gs in tqdm.tqdm(enumerate(grid_search)):\n",
    "\n",
    "    model = LogisticRegression(**gs)\n",
    "    model.fit(X_train.to_numpy(), y_train.to_numpy())\n",
    "    y_pred = model.predict(X_val.to_numpy())\n",
    "    y_pred_proba = model.predict_proba(X_val.to_numpy())[:,1]\n",
    "    auc = roc_auc_score(y_val.to_numpy(), y_pred_proba)\n",
    "    acc = accuracy_score(y_val.to_numpy(), y_pred)\n",
    "    hp_summary[i] = {'auc': auc, 'acc': acc, 'params': gs}\n"
   ]
  },
  {
   "cell_type": "code",
   "execution_count": null,
   "metadata": {},
   "outputs": [],
   "source": [
    "# refit the top result from the hp summary\n",
    "\n",
    "best_hp = max(hp_summary, key=lambda x: hp_summary[x]['auc'])\n",
    "best_params = hp_summary[best_hp]['params']\n",
    "model = LogisticRegression(**best_params)\n",
    "\n",
    "model.fit(X_trainval, y_trainval)\n",
    "y_pred = model.predict(X_test)\n",
    "y_pred_proba = model.predict_proba(X_test)[:,1]\n",
    "auc = roc_auc_score(y_test, y_pred_proba)\n",
    "acc = accuracy_score(y_test, y_pred)\n",
    "\n",
    "print(f'Best HP: {best_params}')\n",
    "print(f'Test AUC: {auc}')\n",
    "\n"
   ]
  }
 ],
 "metadata": {
  "kernelspec": {
   "display_name": "mz_embed_engine",
   "language": "python",
   "name": "python3"
  },
  "language_info": {
   "codemirror_mode": {
    "name": "ipython",
    "version": 3
   },
   "file_extension": ".py",
   "mimetype": "text/x-python",
   "name": "python",
   "nbconvert_exporter": "python",
   "pygments_lexer": "ipython3",
   "version": "3.9.19"
  }
 },
 "nbformat": 4,
 "nbformat_minor": 2
}
