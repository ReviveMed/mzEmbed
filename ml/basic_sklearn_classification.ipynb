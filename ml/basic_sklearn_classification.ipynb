{
 "cells": [
  {
   "cell_type": "code",
   "execution_count": 6,
   "metadata": {},
   "outputs": [],
   "source": [
    "import pandas as pd\n",
    "import numpy as np\n",
    "from sklearn.linear_model import LogisticRegression\n",
    "from sklearn.metrics import roc_auc_score, accuracy_score\n",
    "# import XGBoost\n",
    "from xgboost import XGBClassifier\n",
    "import os\n",
    "import itertools\n",
    "import tqdm\n",
    "logistic_regression_param_grid = {\n",
    "            # 'penalty': ['l1', 'l2'],\n",
    "            # 'solver' : ['liblinear'],\n",
    "            'penalty': ['elasticnet'],\n",
    "            'solver' : ['saga'],\n",
    "            'l1_ratio': [0, 0.25, 0.33, 0.5, 0.66, 0.75, 1],\n",
    "            'C': [0.001, 0.005, 0.01, 0.05, 0.1, 0.5, 1, 2, 5, 10],\n",
    "            'class_weight': ['balanced'],\n",
    "            'max_iter': [10000],\n",
    "            'tol': [1e-3, 1e-4],\n",
    "            }"
   ]
  },
  {
   "cell_type": "code",
   "execution_count": 3,
   "metadata": {},
   "outputs": [],
   "source": [
    "data_dir= '/Users/jonaheaton/ReviveMed Dropbox/Jonah Eaton/development_finetune_optimization/April_30_Finetune_Data'\n",
    "local_dir = os.path.expanduser('~/Desktop/saved_models')\n",
    "\n"
   ]
  },
  {
   "cell_type": "code",
   "execution_count": 15,
   "metadata": {},
   "outputs": [],
   "source": [
    "X_train = pd.read_csv(os.path.join(data_dir, 'X_finetune_train.csv'),index_col=0)\n",
    "y_train = pd.read_csv(os.path.join(data_dir, 'y_finetune_train.csv'),index_col=0)\n",
    "\n",
    "X_val = pd.read_csv(os.path.join(data_dir, 'X_finetune_val.csv'),index_col=0)\n",
    "y_val = pd.read_csv(os.path.join(data_dir, 'y_finetune_val.csv'),index_col=0)\n",
    "\n",
    "X_trainval = pd.concat([X_train, X_val])\n",
    "y_trainval = pd.concat([y_train, y_val])\n",
    "\n",
    "X_test = pd.read_csv(os.path.join(data_dir, 'X_finetune_test.csv'),index_col=0)\n",
    "y_test = pd.read_csv(os.path.join(data_dir, 'y_finetune_test.csv'),index_col=0)"
   ]
  },
  {
   "cell_type": "code",
   "execution_count": 16,
   "metadata": {},
   "outputs": [],
   "source": [
    "y_col = 'IMDC BINARY'\n",
    "y_train = y_train[y_col]\n",
    "y_train.dropna(inplace=True)\n",
    "X_train = X_train.loc[y_train.index]\n",
    "\n",
    "y_val = y_val[y_col]\n",
    "y_val.dropna(inplace=True)\n",
    "X_val = X_val.loc[y_val.index]\n",
    "\n",
    "y_trainval = y_trainval[y_col]\n",
    "y_trainval.dropna(inplace=True)\n",
    "X_trainval = X_trainval.loc[y_trainval.index]\n",
    "\n",
    "y_test = y_test[y_col]\n",
    "y_test.dropna(inplace=True)\n",
    "X_test = X_test.loc[y_test.index]"
   ]
  },
  {
   "cell_type": "code",
   "execution_count": 12,
   "metadata": {},
   "outputs": [
    {
     "data": {
      "text/plain": [
       "(61,)"
      ]
     },
     "execution_count": 12,
     "metadata": {},
     "output_type": "execute_result"
    }
   ],
   "source": [
    "y_val.shape"
   ]
  },
  {
   "cell_type": "code",
   "execution_count": 11,
   "metadata": {},
   "outputs": [
    {
     "data": {
      "text/plain": [
       "(61, 2736)"
      ]
     },
     "execution_count": 11,
     "metadata": {},
     "output_type": "execute_result"
    }
   ],
   "source": [
    "X_val.shape"
   ]
  },
  {
   "cell_type": "code",
   "execution_count": 17,
   "metadata": {},
   "outputs": [
    {
     "name": "stderr",
     "output_type": "stream",
     "text": [
      "140it [10:28,  4.49s/it]\n"
     ]
    }
   ],
   "source": [
    "param_grid = logistic_regression_param_grid\n",
    "\n",
    "param_combs = list(itertools.product(*param_grid.values()))\n",
    "grid_search = [dict(zip(param_grid.keys(), values)) for values in param_combs]\n",
    "hp_summary = {}\n",
    "for i, gs in tqdm.tqdm(enumerate(grid_search)):\n",
    "\n",
    "    model = LogisticRegression(**gs)\n",
    "    model.fit(X_train.to_numpy(), y_train.to_numpy())\n",
    "    y_pred = model.predict(X_val.to_numpy())\n",
    "    y_pred_proba = model.predict_proba(X_val.to_numpy())[:,1]\n",
    "    auc = roc_auc_score(y_val.to_numpy(), y_pred_proba)\n",
    "    acc = accuracy_score(y_val.to_numpy(), y_pred)\n",
    "    hp_summary[i] = {'auc': auc, 'acc': acc, 'params': gs}\n"
   ]
  },
  {
   "cell_type": "code",
   "execution_count": 19,
   "metadata": {},
   "outputs": [],
   "source": [
    "import json"
   ]
  },
  {
   "cell_type": "code",
   "execution_count": 20,
   "metadata": {},
   "outputs": [
    {
     "data": {
      "text/plain": [
       "'/Users/jonaheaton/Desktop/saved_models'"
      ]
     },
     "execution_count": 20,
     "metadata": {},
     "output_type": "execute_result"
    }
   ],
   "source": [
    "local_dir"
   ]
  },
  {
   "cell_type": "code",
   "execution_count": 21,
   "metadata": {},
   "outputs": [],
   "source": [
    "with open(os.path.join(local_dir, 'logistic_regression_hp_summary.json'), 'w') as f:\n",
    "    json.dump(hp_summary, f)"
   ]
  },
  {
   "cell_type": "code",
   "execution_count": 22,
   "metadata": {},
   "outputs": [],
   "source": [
    "# create a dataframe from the dictionary\n",
    "hp_summary_df = pd.DataFrame.from_dict(hp_summary, orient='index')"
   ]
  },
  {
   "cell_type": "code",
   "execution_count": 23,
   "metadata": {},
   "outputs": [
    {
     "data": {
      "text/html": [
       "<div>\n",
       "<style scoped>\n",
       "    .dataframe tbody tr th:only-of-type {\n",
       "        vertical-align: middle;\n",
       "    }\n",
       "\n",
       "    .dataframe tbody tr th {\n",
       "        vertical-align: top;\n",
       "    }\n",
       "\n",
       "    .dataframe thead th {\n",
       "        text-align: right;\n",
       "    }\n",
       "</style>\n",
       "<table border=\"1\" class=\"dataframe\">\n",
       "  <thead>\n",
       "    <tr style=\"text-align: right;\">\n",
       "      <th></th>\n",
       "      <th>auc</th>\n",
       "      <th>acc</th>\n",
       "      <th>params</th>\n",
       "    </tr>\n",
       "  </thead>\n",
       "  <tbody>\n",
       "    <tr>\n",
       "      <th>0</th>\n",
       "      <td>0.909091</td>\n",
       "      <td>0.786885</td>\n",
       "      <td>{'penalty': 'elasticnet', 'solver': 'saga', 'l...</td>\n",
       "    </tr>\n",
       "    <tr>\n",
       "      <th>1</th>\n",
       "      <td>0.909091</td>\n",
       "      <td>0.786885</td>\n",
       "      <td>{'penalty': 'elasticnet', 'solver': 'saga', 'l...</td>\n",
       "    </tr>\n",
       "    <tr>\n",
       "      <th>2</th>\n",
       "      <td>0.905594</td>\n",
       "      <td>0.803279</td>\n",
       "      <td>{'penalty': 'elasticnet', 'solver': 'saga', 'l...</td>\n",
       "    </tr>\n",
       "    <tr>\n",
       "      <th>3</th>\n",
       "      <td>0.905594</td>\n",
       "      <td>0.803279</td>\n",
       "      <td>{'penalty': 'elasticnet', 'solver': 'saga', 'l...</td>\n",
       "    </tr>\n",
       "    <tr>\n",
       "      <th>4</th>\n",
       "      <td>0.905594</td>\n",
       "      <td>0.803279</td>\n",
       "      <td>{'penalty': 'elasticnet', 'solver': 'saga', 'l...</td>\n",
       "    </tr>\n",
       "    <tr>\n",
       "      <th>...</th>\n",
       "      <td>...</td>\n",
       "      <td>...</td>\n",
       "      <td>...</td>\n",
       "    </tr>\n",
       "    <tr>\n",
       "      <th>135</th>\n",
       "      <td>0.870629</td>\n",
       "      <td>0.770492</td>\n",
       "      <td>{'penalty': 'elasticnet', 'solver': 'saga', 'l...</td>\n",
       "    </tr>\n",
       "    <tr>\n",
       "      <th>136</th>\n",
       "      <td>0.902098</td>\n",
       "      <td>0.819672</td>\n",
       "      <td>{'penalty': 'elasticnet', 'solver': 'saga', 'l...</td>\n",
       "    </tr>\n",
       "    <tr>\n",
       "      <th>137</th>\n",
       "      <td>0.874126</td>\n",
       "      <td>0.770492</td>\n",
       "      <td>{'penalty': 'elasticnet', 'solver': 'saga', 'l...</td>\n",
       "    </tr>\n",
       "    <tr>\n",
       "      <th>138</th>\n",
       "      <td>0.903263</td>\n",
       "      <td>0.836066</td>\n",
       "      <td>{'penalty': 'elasticnet', 'solver': 'saga', 'l...</td>\n",
       "    </tr>\n",
       "    <tr>\n",
       "      <th>139</th>\n",
       "      <td>0.877622</td>\n",
       "      <td>0.786885</td>\n",
       "      <td>{'penalty': 'elasticnet', 'solver': 'saga', 'l...</td>\n",
       "    </tr>\n",
       "  </tbody>\n",
       "</table>\n",
       "<p>140 rows × 3 columns</p>\n",
       "</div>"
      ],
      "text/plain": [
       "          auc       acc                                             params\n",
       "0    0.909091  0.786885  {'penalty': 'elasticnet', 'solver': 'saga', 'l...\n",
       "1    0.909091  0.786885  {'penalty': 'elasticnet', 'solver': 'saga', 'l...\n",
       "2    0.905594  0.803279  {'penalty': 'elasticnet', 'solver': 'saga', 'l...\n",
       "3    0.905594  0.803279  {'penalty': 'elasticnet', 'solver': 'saga', 'l...\n",
       "4    0.905594  0.803279  {'penalty': 'elasticnet', 'solver': 'saga', 'l...\n",
       "..        ...       ...                                                ...\n",
       "135  0.870629  0.770492  {'penalty': 'elasticnet', 'solver': 'saga', 'l...\n",
       "136  0.902098  0.819672  {'penalty': 'elasticnet', 'solver': 'saga', 'l...\n",
       "137  0.874126  0.770492  {'penalty': 'elasticnet', 'solver': 'saga', 'l...\n",
       "138  0.903263  0.836066  {'penalty': 'elasticnet', 'solver': 'saga', 'l...\n",
       "139  0.877622  0.786885  {'penalty': 'elasticnet', 'solver': 'saga', 'l...\n",
       "\n",
       "[140 rows x 3 columns]"
      ]
     },
     "execution_count": 23,
     "metadata": {},
     "output_type": "execute_result"
    }
   ],
   "source": [
    "hp_summary_df"
   ]
  },
  {
   "cell_type": "code",
   "execution_count": 24,
   "metadata": {},
   "outputs": [],
   "source": [
    "hp_summary_df.to_csv(os.path.join(local_dir, 'logistic_regression_hp_summary.csv'))"
   ]
  },
  {
   "cell_type": "code",
   "execution_count": 26,
   "metadata": {},
   "outputs": [
    {
     "name": "stdout",
     "output_type": "stream",
     "text": [
      "Best HP: 0\n",
      "Best HP: {'penalty': 'elasticnet', 'solver': 'saga', 'l1_ratio': 0, 'C': 0.001, 'class_weight': 'balanced', 'max_iter': 10000, 'tol': 0.001}\n",
      "Best HP: {'penalty': 'elasticnet', 'solver': 'saga', 'l1_ratio': 0, 'C': 0.001, 'class_weight': 'balanced', 'max_iter': 10000, 'tol': 0.001}\n",
      "Test AUC: 0.9539641943734016\n",
      "TrainVal AUC:  0.9912967032967033\n"
     ]
    }
   ],
   "source": [
    "# refit the top result from the hp summary\n",
    "\n",
    "# best_hp = max(hp_summary, key=lambda x: hp_summary[x]['auc'])\n",
    "# best_params = hp_summary[best_hp]['params']\n",
    "\n",
    "best_hp = hp_summary_df['auc'].idxmax()\n",
    "print(f'Best HP: {best_hp}')\n",
    "best_params = hp_summary_df.loc[best_hp, 'params']\n",
    "print(f'Best HP: {best_params}')\n",
    "model = LogisticRegression(**best_params)\n",
    "\n",
    "model.fit(X_trainval, y_trainval)\n",
    "y_pred = model.predict(X_test)\n",
    "y_pred_proba = model.predict_proba(X_test)[:,1]\n",
    "y_trainval_pred_proba = model.predict_proba(X_trainval)[:,1]\n",
    "auc = roc_auc_score(y_test, y_pred_proba)\n",
    "auc_trainval = roc_auc_score(y_trainval, y_trainval_pred_proba)\n",
    "acc = accuracy_score(y_test, y_pred)\n",
    "\n",
    "print(f'Test AUC: {auc}')\n",
    "print('TrainVal AUC: ', auc_trainval)\n",
    "\n",
    "\n",
    "\n"
   ]
  },
  {
   "cell_type": "code",
   "execution_count": 29,
   "metadata": {},
   "outputs": [],
   "source": [
    "y_col = 'MSKCC BINARY'\n",
    "\n",
    "\n",
    "X_train = pd.read_csv(os.path.join(data_dir, 'X_finetune_train.csv'),index_col=0)\n",
    "y_train = pd.read_csv(os.path.join(data_dir, 'y_finetune_train.csv'),index_col=0)\n",
    "\n",
    "X_val = pd.read_csv(os.path.join(data_dir, 'X_finetune_val.csv'),index_col=0)\n",
    "y_val = pd.read_csv(os.path.join(data_dir, 'y_finetune_val.csv'),index_col=0)\n",
    "\n",
    "X_trainval = pd.concat([X_train, X_val])\n",
    "y_trainval = pd.concat([y_train, y_val])\n",
    "\n",
    "X_test = pd.read_csv(os.path.join(data_dir, 'X_finetune_test.csv'),index_col=0)\n",
    "y_test = pd.read_csv(os.path.join(data_dir, 'y_finetune_test.csv'),index_col=0)\n",
    "\n",
    "\n",
    "y_train = y_train[y_col]\n",
    "y_train.dropna(inplace=True)\n",
    "X_train = X_train.loc[y_train.index]\n",
    "\n",
    "y_val = y_val[y_col]\n",
    "y_val.dropna(inplace=True)\n",
    "X_val = X_val.loc[y_val.index]\n",
    "\n",
    "y_trainval = y_trainval[y_col]\n",
    "y_trainval.dropna(inplace=True)\n",
    "X_trainval = X_trainval.loc[y_trainval.index]\n",
    "\n",
    "y_test = y_test[y_col]\n",
    "y_test.dropna(inplace=True)\n",
    "X_test = X_test.loc[y_test.index]"
   ]
  },
  {
   "cell_type": "code",
   "execution_count": 30,
   "metadata": {},
   "outputs": [
    {
     "name": "stdout",
     "output_type": "stream",
     "text": [
      "XGBoost\n",
      "Val AUC: 0.830026455026455\n",
      "Test AUC: 0.9087035909920876\n"
     ]
    }
   ],
   "source": [
    "from xgboost import XGBClassifier\n",
    "\n",
    "# Instantiate the classifier\n",
    "clf = XGBClassifier()\n",
    "\n",
    "# Train the classifier\n",
    "clf.fit(X_train, y_train)\n",
    "\n",
    "# Predict the labels of the test set\n",
    "y_pred = clf.predict(X_val)\n",
    "y_pred_proba = clf.predict_proba(X_val)[:,1]\n",
    "auc = roc_auc_score(y_val, y_pred_proba)\n",
    "acc = accuracy_score(y_val, y_pred)\n",
    "\n",
    "y_train_pred_proba = clf.predict_proba(X_train)[:,1]\n",
    "train_auc = roc_auc_score(y_train, y_train_pred_proba)\n",
    "\n",
    "print('XGBoost')\n",
    "print(f'Val AUC: {auc}')\n",
    "# print(f'Train AUC: {train_auc}')\n",
    "\n",
    "# print(f'Val Acc: {acc}')\n",
    "\n",
    "\n",
    "# Instantiate the classifier\n",
    "clf = XGBClassifier()\n",
    "\n",
    "# Train the classifier\n",
    "clf.fit(X_trainval, y_trainval)\n",
    "\n",
    "# Predict the labels of the test set\n",
    "y_pred = clf.predict(X_test)\n",
    "y_pred_proba = clf.predict_proba(X_test)[:,1]\n",
    "auc = roc_auc_score(y_test, y_pred_proba)\n",
    "acc = accuracy_score(y_test, y_pred)\n",
    "\n",
    "y_trainval_pred_proba = clf.predict_proba(X_trainval)[:,1]\n",
    "train_auc = roc_auc_score(y_trainval, y_trainval_pred_proba)\n",
    "\n",
    "print(f'Test AUC: {auc}')\n",
    "# print(f'TrainVal AUC: {train_auc}')\n",
    "\n",
    "# print(f'Val Acc: {acc}')\n"
   ]
  },
  {
   "cell_type": "code",
   "execution_count": 31,
   "metadata": {},
   "outputs": [
    {
     "name": "stdout",
     "output_type": "stream",
     "text": [
      "Random Forest\n",
      "Val AUC: 0.8783068783068783\n",
      "Test AUC: 0.8706634205721242\n"
     ]
    }
   ],
   "source": [
    "# run random forest\n",
    "\n",
    "from sklearn.ensemble import RandomForestClassifier\n",
    "\n",
    "# Instantiate the classifier\n",
    "clf = RandomForestClassifier()\n",
    "print('Random Forest')\n",
    "\n",
    "# Train the classifier\n",
    "clf.fit(X_train, y_train)\n",
    "\n",
    "# Train the classifier\n",
    "clf.fit(X_train, y_train)\n",
    "\n",
    "# Predict the labels of the test set\n",
    "y_pred = clf.predict(X_val)\n",
    "y_pred_proba = clf.predict_proba(X_val)[:,1]\n",
    "auc = roc_auc_score(y_val, y_pred_proba)\n",
    "acc = accuracy_score(y_val, y_pred)\n",
    "\n",
    "y_train_pred_proba = clf.predict_proba(X_train)[:,1]\n",
    "train_auc = roc_auc_score(y_train, y_train_pred_proba)\n",
    "\n",
    "\n",
    "print(f'Val AUC: {auc}')\n",
    "# print(f'Train AUC: {train_auc}')\n",
    "\n",
    "# print(f'Val Acc: {acc}')\n",
    "\n",
    "# Train the classifier\n",
    "clf.fit(X_trainval, y_trainval)\n",
    "\n",
    "# Predict the labels of the test set\n",
    "y_pred = clf.predict(X_test)\n",
    "y_pred_proba = clf.predict_proba(X_test)[:,1]\n",
    "auc = roc_auc_score(y_test, y_pred_proba)\n",
    "acc = accuracy_score(y_test, y_pred)\n",
    "\n",
    "y_trainval_pred_proba = clf.predict_proba(X_trainval)[:,1]\n",
    "train_auc = roc_auc_score(y_trainval, y_trainval_pred_proba)\n",
    "\n",
    "print(f'Test AUC: {auc}')"
   ]
  },
  {
   "cell_type": "code",
   "execution_count": 32,
   "metadata": {},
   "outputs": [
    {
     "name": "stdout",
     "output_type": "stream",
     "text": [
      "SVC\n",
      "Val AUC: 0.8756613756613757\n",
      "Test AUC: 0.9099208764455264\n"
     ]
    }
   ],
   "source": [
    "# Run on SVC\n",
    "from sklearn.svm import SVC\n",
    "\n",
    "# Instantiate the classifier\n",
    "clf = SVC(probability=True)\n",
    "print('SVC')\n",
    "\n",
    "# Train the classifier\n",
    "clf.fit(X_train, y_train)\n",
    "\n",
    "# Train the classifier\n",
    "clf.fit(X_train, y_train)\n",
    "\n",
    "# Predict the labels of the test set\n",
    "y_pred = clf.predict(X_val)\n",
    "y_pred_proba = clf.predict_proba(X_val)[:,1]\n",
    "auc = roc_auc_score(y_val, y_pred_proba)\n",
    "acc = accuracy_score(y_val, y_pred)\n",
    "\n",
    "y_train_pred_proba = clf.predict_proba(X_train)[:,1]\n",
    "train_auc = roc_auc_score(y_train, y_train_pred_proba)\n",
    "\n",
    "\n",
    "print(f'Val AUC: {auc}')\n",
    "# print(f'Train AUC: {train_auc}')\n",
    "\n",
    "# print(f'Val Acc: {acc}')\n",
    "\n",
    "# Train the classifier\n",
    "clf.fit(X_trainval, y_trainval)\n",
    "\n",
    "# Predict the labels of the test set\n",
    "y_pred = clf.predict(X_test)\n",
    "y_pred_proba = clf.predict_proba(X_test)[:,1]\n",
    "auc = roc_auc_score(y_test, y_pred_proba)\n",
    "acc = accuracy_score(y_test, y_pred)\n",
    "\n",
    "y_trainval_pred_proba = clf.predict_proba(X_trainval)[:,1]\n",
    "train_auc = roc_auc_score(y_trainval, y_trainval_pred_proba)\n",
    "\n",
    "print(f'Test AUC: {auc}')"
   ]
  },
  {
   "cell_type": "code",
   "execution_count": 33,
   "metadata": {},
   "outputs": [
    {
     "name": "stdout",
     "output_type": "stream",
     "text": [
      "Logistic Regression\n",
      "Val AUC: 0.8630952380952381\n",
      "Test AUC: 0.9099208764455265\n"
     ]
    }
   ],
   "source": [
    "# logistic regression\n",
    "from sklearn.linear_model import LogisticRegression\n",
    "\n",
    "# Instantiate the classifier\n",
    "clf = LogisticRegression()\n",
    "print('Logistic Regression')\n",
    "\n",
    "# Train the classifier\n",
    "# Train the classifier\n",
    "clf.fit(X_train, y_train)\n",
    "\n",
    "# Train the classifier\n",
    "clf.fit(X_train, y_train)\n",
    "\n",
    "# Predict the labels of the test set\n",
    "y_pred = clf.predict(X_val)\n",
    "y_pred_proba = clf.predict_proba(X_val)[:,1]\n",
    "auc = roc_auc_score(y_val, y_pred_proba)\n",
    "acc = accuracy_score(y_val, y_pred)\n",
    "\n",
    "y_train_pred_proba = clf.predict_proba(X_train)[:,1]\n",
    "train_auc = roc_auc_score(y_train, y_train_pred_proba)\n",
    "\n",
    "\n",
    "print(f'Val AUC: {auc}')\n",
    "# print(f'Train AUC: {train_auc}')\n",
    "\n",
    "# print(f'Val Acc: {acc}')\n",
    "\n",
    "# Train the classifier\n",
    "clf.fit(X_trainval, y_trainval)\n",
    "\n",
    "# Predict the labels of the test set\n",
    "y_pred = clf.predict(X_test)\n",
    "y_pred_proba = clf.predict_proba(X_test)[:,1]\n",
    "auc = roc_auc_score(y_test, y_pred_proba)\n",
    "acc = accuracy_score(y_test, y_pred)\n",
    "\n",
    "y_trainval_pred_proba = clf.predict_proba(X_trainval)[:,1]\n",
    "train_auc = roc_auc_score(y_trainval, y_trainval_pred_proba)\n",
    "\n",
    "print(f'Test AUC: {auc}')"
   ]
  },
  {
   "cell_type": "code",
   "execution_count": 34,
   "metadata": {},
   "outputs": [
    {
     "name": "stdout",
     "output_type": "stream",
     "text": [
      "Decision Tree\n",
      "Val AUC: 0.7493386243386242\n",
      "Test AUC: 0.7994522215459525\n"
     ]
    }
   ],
   "source": [
    "# Decision Tree\n",
    "from sklearn.tree import DecisionTreeClassifier\n",
    "\n",
    "# Instantiate the classifier\n",
    "clf = DecisionTreeClassifier()\n",
    "print('Decision Tree')\n",
    "\n",
    "# Train the classifier\n",
    "clf.fit(X_train, y_train)\n",
    "\n",
    "# Train the classifier\n",
    "clf.fit(X_train, y_train)\n",
    "\n",
    "# Predict the labels of the test set\n",
    "y_pred = clf.predict(X_val)\n",
    "y_pred_proba = clf.predict_proba(X_val)[:,1]\n",
    "auc = roc_auc_score(y_val, y_pred_proba)\n",
    "acc = accuracy_score(y_val, y_pred)\n",
    "\n",
    "y_train_pred_proba = clf.predict_proba(X_train)[:,1]\n",
    "train_auc = roc_auc_score(y_train, y_train_pred_proba)\n",
    "\n",
    "\n",
    "print(f'Val AUC: {auc}')\n",
    "# print(f'Train AUC: {train_auc}')\n",
    "\n",
    "# print(f'Val Acc: {acc}')\n",
    "\n",
    "# Train the classifier\n",
    "clf.fit(X_trainval, y_trainval)\n",
    "\n",
    "# Predict the labels of the test set\n",
    "y_pred = clf.predict(X_test)\n",
    "y_pred_proba = clf.predict_proba(X_test)[:,1]\n",
    "auc = roc_auc_score(y_test, y_pred_proba)\n",
    "acc = accuracy_score(y_test, y_pred)\n",
    "\n",
    "y_trainval_pred_proba = clf.predict_proba(X_trainval)[:,1]\n",
    "train_auc = roc_auc_score(y_trainval, y_trainval_pred_proba)\n",
    "\n",
    "print(f'Test AUC: {auc}')"
   ]
  }
 ],
 "metadata": {
  "kernelspec": {
   "display_name": "mz_embed_engine",
   "language": "python",
   "name": "python3"
  },
  "language_info": {
   "codemirror_mode": {
    "name": "ipython",
    "version": 3
   },
   "file_extension": ".py",
   "mimetype": "text/x-python",
   "name": "python",
   "nbconvert_exporter": "python",
   "pygments_lexer": "ipython3",
   "version": "3.9.19"
  }
 },
 "nbformat": 4,
 "nbformat_minor": 2
}
