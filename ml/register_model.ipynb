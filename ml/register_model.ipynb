{
 "cells": [
  {
   "cell_type": "code",
   "execution_count": 1,
   "metadata": {},
   "outputs": [],
   "source": [
    "import neptune\n",
    "\n",
    "NEPTUNE_API_TOKEN=\"eyJhcGlfYWRkcmVzcyI6Imh0dHBzOi8vYXBwLm5lcHR1bmUuYWkiLCJhcGlfdXJsIjoiaHR0cHM6Ly9hcHAubmVwdHVuZS5haSIsImFwaV9rZXkiOiIxMGM5ZDhiMy1kOTlhLTRlMTAtOGFlYy1hOTQzMDE1YjZlNjcifQ==\"\n"
   ]
  },
  {
   "cell_type": "code",
   "execution_count": null,
   "metadata": {},
   "outputs": [],
   "source": []
  },
  {
   "cell_type": "code",
   "execution_count": 3,
   "metadata": {},
   "outputs": [
    {
     "name": "stdout",
     "output_type": "stream",
     "text": [
      "[neptune] [info   ] Neptune initialized. Open in the app: https://app.neptune.ai/revivemed/Survival-RCC/m/SUR-MOD\n"
     ]
    }
   ],
   "source": [
    "model = neptune.init_model(\n",
    "    # name=\"Pretrained Model\",\n",
    "    # key=\"MOD\", \n",
    "    with_id='SUR-MOD',\n",
    "    project=\"revivemed/Survival-RCC\", \n",
    "    api_token=NEPTUNE_API_TOKEN, # your credentials,\n",
    "\n",
    ")"
   ]
  },
  {
   "cell_type": "code",
   "execution_count": 4,
   "metadata": {},
   "outputs": [
    {
     "name": "stdout",
     "output_type": "stream",
     "text": [
      "[neptune] [info   ] Neptune initialized. Open in the app: https://app.neptune.ai/revivemed/RCC/e/RCC-2925\n"
     ]
    }
   ],
   "source": [
    "run= neptune.init_run(\n",
    "        project='revivemed/RCC',\n",
    "        api_token= NEPTUNE_API_TOKEN,\n",
    "        with_id='RCC-2925',\n",
    "        mode='read-only',\n",
    ")"
   ]
  },
  {
   "cell_type": "code",
   "execution_count": null,
   "metadata": {},
   "outputs": [],
   "source": [
    "model['original_kwargs'] = run['pretrain/original_kwargs'].fetch()"
   ]
  },
  {
   "cell_type": "code",
   "execution_count": 6,
   "metadata": {},
   "outputs": [],
   "source": [
    "run_struc = run.get_structure()\n",
    "\n",
    "for set_name in ['train','val','test']:\n",
    "    for key in run_struc['pretrain']['eval'][set_name].keys():\n",
    "        # print(key)\n",
    "        model['evaluation/'+set_name+'/'+key] = run['pretrain/eval/'+set_name+'/'+key].fetch_last()"
   ]
  },
  {
   "cell_type": "code",
   "execution_count": null,
   "metadata": {},
   "outputs": [],
   "source": [
    "input_dir = '/Users/jonaheaton/Desktop/model info/'"
   ]
  },
  {
   "cell_type": "code",
   "execution_count": null,
   "metadata": {},
   "outputs": [],
   "source": [
    "model[\"model/encoder_state\"].upload(input_dir+'encoder_state_dict.pth')\n",
    "model[\"model/heads/Binary_isFemale_state\"].upload(input_dir+'Binary_isFemale_state.pt')\n",
    "model[\"model/heads/Binary_isPediatric_state\"].upload(input_dir+'Binary_isPediatric_state.pt')\n",
    "model[\"model/heads/MultiClass_Cohort Label_state\"].upload(input_dir+'MultiClass_Cohort Label_state.pt')\n"
   ]
  },
  {
   "cell_type": "code",
   "execution_count": null,
   "metadata": {},
   "outputs": [],
   "source": [
    "model[\"model/heads/Regression_Age_state\"].upload(input_dir+'Regression_Age_state.pt')\n",
    "model[\"model/adversary/MultiClass_Adv StudyID_state\"].upload(input_dir+'MultiClass_Adv StudyID_state.pt')"
   ]
  },
  {
   "cell_type": "code",
   "execution_count": null,
   "metadata": {},
   "outputs": [],
   "source": [
    "model['evaluation/test/Z_embed'].upload(input_dir+'Z_embed_test.csv')\n",
    "model['evaluation/train/Z_embed'].upload(input_dir+'Z_embed_train.csv')\n",
    "model['evaluation/val/Z_embed'].upload(input_dir+'Z_embed_val.csv')\n"
   ]
  },
  {
   "cell_type": "code",
   "execution_count": 7,
   "metadata": {},
   "outputs": [
    {
     "name": "stdout",
     "output_type": "stream",
     "text": [
      "[neptune] [info   ] Shutting down background jobs, please wait a moment...\n",
      "[neptune] [info   ] Done!\n",
      "[neptune] [info   ] All 0 operations synced, thanks for waiting!\n",
      "[neptune] [info   ] Explore the metadata in the Neptune app: https://app.neptune.ai/revivemed/Survival-RCC/m/SUR-MOD/metadata\n",
      "[neptune] [info   ] Shutting down background jobs, please wait a moment...\n",
      "[neptune] [info   ] Done!\n",
      "[neptune] [info   ] Explore the metadata in the Neptune app: https://app.neptune.ai/revivemed/RCC/e/RCC-2925/metadata\n"
     ]
    }
   ],
   "source": [
    "model.stop()\n",
    "run.stop()"
   ]
  },
  {
   "cell_type": "code",
   "execution_count": null,
   "metadata": {},
   "outputs": [],
   "source": []
  }
 ],
 "metadata": {
  "kernelspec": {
   "display_name": "mz_embed_engine",
   "language": "python",
   "name": "python3"
  },
  "language_info": {
   "codemirror_mode": {
    "name": "ipython",
    "version": 3
   },
   "file_extension": ".py",
   "mimetype": "text/x-python",
   "name": "python",
   "nbconvert_exporter": "python",
   "pygments_lexer": "ipython3",
   "version": "3.9.19"
  }
 },
 "nbformat": 4,
 "nbformat_minor": 2
}
