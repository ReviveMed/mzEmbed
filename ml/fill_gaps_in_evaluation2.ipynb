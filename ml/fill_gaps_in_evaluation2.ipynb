{
 "cells": [
  {
   "cell_type": "code",
   "execution_count": 6,
   "metadata": {},
   "outputs": [
    {
     "name": "stdout",
     "output_type": "stream",
     "text": [
      "(301, 61)\n"
     ]
    }
   ],
   "source": [
    "import pandas as pd\n",
    "import neptune\n",
    "\n",
    "NEPTUNE_API_TOKEN = 'eyJhcGlfYWRkcmVzcyI6Imh0dHBzOi8vYXBwLm5lcHR1bmUuYWkiLCJhcGlfdXJsIjoiaHR0cHM6Ly9hcHAubmVwdHVuZS5haSIsImFwaV9rZXkiOiIxMGM5ZDhiMy1kOTlhLTRlMTAtOGFlYy1hOTQzMDE1YjZlNjcifQ=='\n",
    "\n",
    "PROJECT_ID = 'revivemed/Survival-RCC'\n",
    "import pandas as pd\n",
    "\n",
    "df_file = '/Users/jonaheaton/Desktop/Survival-RCC (4).csv'\n",
    "\n",
    "\n",
    "df = pd.read_csv(df_file)\n",
    "print(df.shape)\n",
    "\n",
    "df = df[df['desc_str'] == 'both-OS AUX Benefit'].copy()\n"
   ]
  },
  {
   "cell_type": "code",
   "execution_count": 2,
   "metadata": {},
   "outputs": [],
   "source": [
    "\n",
    "from main_finetune import finetune_run_wrapper\n"
   ]
  },
  {
   "cell_type": "code",
   "execution_count": 7,
   "metadata": {},
   "outputs": [],
   "source": [
    "run_id_list = df['Id'].tolist()"
   ]
  },
  {
   "cell_type": "code",
   "execution_count": 8,
   "metadata": {},
   "outputs": [
    {
     "data": {
      "text/plain": [
       "24"
      ]
     },
     "execution_count": 8,
     "metadata": {},
     "output_type": "execute_result"
    }
   ],
   "source": [
    "len(run_id_list)"
   ]
  },
  {
   "cell_type": "code",
   "execution_count": 9,
   "metadata": {},
   "outputs": [
    {
     "name": "stdout",
     "output_type": "stream",
     "text": [
      "Getting the latest dataset\n",
      "[neptune] [info   ] Neptune initialized. Open in the app: https://app.neptune.ai/revivemed/Survival-RCC/\n",
      "[neptune] [info   ] Shutting down background jobs, please wait a moment...\n",
      "[neptune] [info   ] Done!\n",
      "[neptune] [info   ] All 0 operations synced, thanks for waiting!\n",
      "[neptune] [info   ] Explore the metadata in the Neptune app: https://app.neptune.ai/revivemed/Survival-RCC/metadata\n"
     ]
    },
    {
     "name": "stderr",
     "output_type": "stream",
     "text": [
      "[neptune] [warning] NeptuneWarning: The following monitoring options are disabled by default in interactive sessions: 'capture_stdout', 'capture_stderr', 'capture_traceback', and 'capture_hardware_metrics'. To enable them, set each parameter to 'True' when initializing the run. The monitoring will continue until you call run.stop() or the kernel stops. Also note: Your source files can only be tracked if you pass the path(s) to the 'source_code' argument. For help, see the Neptune docs: https://docs.neptune.ai/logging/source_code/\n"
     ]
    },
    {
     "name": "stdout",
     "output_type": "stream",
     "text": [
      "[neptune] [info   ] Neptune initialized. Open in the app: https://app.neptune.ai/revivemed/Survival-RCC/e/SUR-2696\n",
      "eval_params_list [{'y_col_name': 'NIVO OS', 'y_head': 'NIVO OS', 'y_cols': ['NIVO OS', 'OS_Event']}, {'y_col_name': 'NIVO OS', 'y_head': 'EVER OS', 'y_cols': ['NIVO OS', 'OS_Event']}, {'y_col_name': 'NIVO OS', 'y_head': 'Both OS', 'y_cols': ['NIVO OS', 'OS_Event']}, {'y_col_name': 'EVER OS', 'y_head': 'NIVO OS', 'y_cols': ['EVER OS', 'OS_Event']}, {'y_col_name': 'EVER OS', 'y_head': 'EVER OS', 'y_cols': ['EVER OS', 'OS_Event']}, {'y_col_name': 'EVER OS', 'y_head': 'Both OS', 'y_cols': ['EVER OS', 'OS_Event']}, {'y_col_name': 'Both OS', 'y_head': 'EVER OS', 'y_cols': ['OS', 'OS_Event']}, {'y_col_name': 'Both OS', 'y_head': 'NIVO OS', 'y_cols': ['OS', 'OS_Event']}, {'y_col_name': 'Both OS', 'y_head': 'Both OS', 'y_cols': ['OS', 'OS_Event']}, {'y_col_name': 'NIVO PFS', 'y_head': 'NIVO PFS', 'y_cols': ['NIVO PFS', 'PFS_Event']}, {'y_col_name': 'NIVO PFS', 'y_head': 'EVER PFS', 'y_cols': ['NIVO PFS', 'PFS_Event']}, {'y_col_name': 'NIVO PFS', 'y_head': 'Both PFS', 'y_cols': ['NIVO PFS', 'PFS_Event']}, {'y_col_name': 'EVER PFS', 'y_head': 'NIVO PFS', 'y_cols': ['EVER PFS', 'PFS_Event']}, {'y_col_name': 'EVER PFS', 'y_head': 'EVER PFS', 'y_cols': ['EVER PFS', 'PFS_Event']}, {'y_col_name': 'EVER PFS', 'y_head': 'Both PFS', 'y_cols': ['EVER PFS', 'PFS_Event']}, {'y_col_name': 'Both PFS', 'y_head': 'EVER PFS', 'y_cols': ['PFS', 'PFS_Event']}, {'y_col_name': 'Both PFS', 'y_head': 'NIVO PFS', 'y_cols': ['PFS', 'PFS_Event']}, {'y_col_name': 'Both PFS', 'y_head': 'Both PFS', 'y_cols': ['PFS', 'PFS_Event']}, {'y_col_name': 'MSKCC BINARY', 'y_head': 'MSKCC', 'y_cols': ['MSKCC BINARY']}, {'y_col_name': 'IMDC BINARY', 'y_head': 'IMDC', 'y_cols': ['IMDC BINARY']}, {'y_col_name': 'MSKCC ORDINAL', 'y_head': 'MSKCC_Ordinal', 'y_cols': ['MSKCC ORDINAL']}, {'y_col_name': 'IMDC ORDINAL', 'y_head': 'IMDC_Ordinal', 'y_cols': ['IMDC ORDINAL']}, {'y_col_name': 'MSKCC ORDINAL', 'y_head': 'MSKCC_MultiClass', 'y_cols': ['MSKCC ORDINAL']}, {'y_col_name': 'IMDC ORDINAL', 'y_head': 'IMDC_MultiClass', 'y_cols': ['IMDC ORDINAL']}, {'y_col_name': 'Benefit BINARY', 'y_head': 'Benefit', 'y_cols': ['Benefit BINARY']}]\n",
      "Using Neptune\n",
      "Using Neptune\n",
      "Using Neptune\n",
      "Using Neptune\n",
      "Using Neptune\n",
      "Using Neptune\n",
      "Using Neptune\n",
      "Using Neptune\n",
      "Using Neptune\n",
      "Using Neptune\n",
      "Using Neptune\n",
      "Using Neptune\n",
      "Using Neptune\n",
      "Using Neptune\n",
      "Using Neptune\n",
      "Using Neptune\n",
      "Using Neptune\n",
      "Using Neptune\n",
      "Using Neptune\n",
      "Using Neptune\n",
      "[neptune] [info   ] Shutting down background jobs, please wait a moment...\n",
      "[neptune] [info   ] Done!\n",
      "[neptune] [info   ] Waiting for the remaining 35 operations to synchronize with Neptune. Do not kill this process.\n",
      "[neptune] [info   ] All 35 operations synced, thanks for waiting!\n",
      "[neptune] [info   ] Explore the metadata in the Neptune app: https://app.neptune.ai/revivemed/Survival-RCC/e/SUR-2696/metadata\n",
      "Getting the latest dataset\n",
      "[neptune] [info   ] Neptune initialized. Open in the app: https://app.neptune.ai/revivemed/Survival-RCC/\n",
      "[neptune] [info   ] Shutting down background jobs, please wait a moment...\n",
      "[neptune] [info   ] Done!\n",
      "[neptune] [info   ] All 0 operations synced, thanks for waiting!\n",
      "[neptune] [info   ] Explore the metadata in the Neptune app: https://app.neptune.ai/revivemed/Survival-RCC/metadata\n",
      "[neptune] [info   ] Neptune initialized. Open in the app: https://app.neptune.ai/revivemed/Survival-RCC/e/SUR-2680\n",
      "eval_params_list [{'y_col_name': 'NIVO OS', 'y_head': 'NIVO OS', 'y_cols': ['NIVO OS', 'OS_Event']}, {'y_col_name': 'NIVO OS', 'y_head': 'EVER OS', 'y_cols': ['NIVO OS', 'OS_Event']}, {'y_col_name': 'NIVO OS', 'y_head': 'Both OS', 'y_cols': ['NIVO OS', 'OS_Event']}, {'y_col_name': 'EVER OS', 'y_head': 'NIVO OS', 'y_cols': ['EVER OS', 'OS_Event']}, {'y_col_name': 'EVER OS', 'y_head': 'EVER OS', 'y_cols': ['EVER OS', 'OS_Event']}, {'y_col_name': 'EVER OS', 'y_head': 'Both OS', 'y_cols': ['EVER OS', 'OS_Event']}, {'y_col_name': 'Both OS', 'y_head': 'EVER OS', 'y_cols': ['OS', 'OS_Event']}, {'y_col_name': 'Both OS', 'y_head': 'NIVO OS', 'y_cols': ['OS', 'OS_Event']}, {'y_col_name': 'Both OS', 'y_head': 'Both OS', 'y_cols': ['OS', 'OS_Event']}, {'y_col_name': 'NIVO PFS', 'y_head': 'NIVO PFS', 'y_cols': ['NIVO PFS', 'PFS_Event']}, {'y_col_name': 'NIVO PFS', 'y_head': 'EVER PFS', 'y_cols': ['NIVO PFS', 'PFS_Event']}, {'y_col_name': 'NIVO PFS', 'y_head': 'Both PFS', 'y_cols': ['NIVO PFS', 'PFS_Event']}, {'y_col_name': 'EVER PFS', 'y_head': 'NIVO PFS', 'y_cols': ['EVER PFS', 'PFS_Event']}, {'y_col_name': 'EVER PFS', 'y_head': 'EVER PFS', 'y_cols': ['EVER PFS', 'PFS_Event']}, {'y_col_name': 'EVER PFS', 'y_head': 'Both PFS', 'y_cols': ['EVER PFS', 'PFS_Event']}, {'y_col_name': 'Both PFS', 'y_head': 'EVER PFS', 'y_cols': ['PFS', 'PFS_Event']}, {'y_col_name': 'Both PFS', 'y_head': 'NIVO PFS', 'y_cols': ['PFS', 'PFS_Event']}, {'y_col_name': 'Both PFS', 'y_head': 'Both PFS', 'y_cols': ['PFS', 'PFS_Event']}, {'y_col_name': 'MSKCC BINARY', 'y_head': 'MSKCC', 'y_cols': ['MSKCC BINARY']}, {'y_col_name': 'IMDC BINARY', 'y_head': 'IMDC', 'y_cols': ['IMDC BINARY']}, {'y_col_name': 'MSKCC ORDINAL', 'y_head': 'MSKCC_Ordinal', 'y_cols': ['MSKCC ORDINAL']}, {'y_col_name': 'IMDC ORDINAL', 'y_head': 'IMDC_Ordinal', 'y_cols': ['IMDC ORDINAL']}, {'y_col_name': 'MSKCC ORDINAL', 'y_head': 'MSKCC_MultiClass', 'y_cols': ['MSKCC ORDINAL']}, {'y_col_name': 'IMDC ORDINAL', 'y_head': 'IMDC_MultiClass', 'y_cols': ['IMDC ORDINAL']}, {'y_col_name': 'Benefit BINARY', 'y_head': 'Benefit', 'y_cols': ['Benefit BINARY']}]\n",
      "Using Neptune\n",
      "Using Neptune\n",
      "Using Neptune\n",
      "Using Neptune\n",
      "Using Neptune\n",
      "Using Neptune\n",
      "Using Neptune\n",
      "Using Neptune\n",
      "Using Neptune\n",
      "Using Neptune\n",
      "Using Neptune\n",
      "Using Neptune\n",
      "Using Neptune\n",
      "Using Neptune\n",
      "Using Neptune\n",
      "Using Neptune\n",
      "Using Neptune\n",
      "Using Neptune\n",
      "Using Neptune\n",
      "Using Neptune\n",
      "[neptune] [info   ] Shutting down background jobs, please wait a moment...\n",
      "[neptune] [info   ] Done!\n",
      "[neptune] [info   ] Waiting for the remaining 35 operations to synchronize with Neptune. Do not kill this process.\n",
      "[neptune] [info   ] All 35 operations synced, thanks for waiting!\n",
      "[neptune] [info   ] Explore the metadata in the Neptune app: https://app.neptune.ai/revivemed/Survival-RCC/e/SUR-2680/metadata\n",
      "Getting the latest dataset\n",
      "[neptune] [info   ] Neptune initialized. Open in the app: https://app.neptune.ai/revivemed/Survival-RCC/\n",
      "[neptune] [info   ] Shutting down background jobs, please wait a moment...\n",
      "[neptune] [info   ] Done!\n",
      "[neptune] [info   ] All 0 operations synced, thanks for waiting!\n",
      "[neptune] [info   ] Explore the metadata in the Neptune app: https://app.neptune.ai/revivemed/Survival-RCC/metadata\n",
      "[neptune] [info   ] Neptune initialized. Open in the app: https://app.neptune.ai/revivemed/Survival-RCC/e/SUR-2663\n",
      "eval_params_list [{'y_col_name': 'NIVO OS', 'y_head': 'NIVO OS', 'y_cols': ['NIVO OS', 'OS_Event']}, {'y_col_name': 'NIVO OS', 'y_head': 'EVER OS', 'y_cols': ['NIVO OS', 'OS_Event']}, {'y_col_name': 'NIVO OS', 'y_head': 'Both OS', 'y_cols': ['NIVO OS', 'OS_Event']}, {'y_col_name': 'EVER OS', 'y_head': 'NIVO OS', 'y_cols': ['EVER OS', 'OS_Event']}, {'y_col_name': 'EVER OS', 'y_head': 'EVER OS', 'y_cols': ['EVER OS', 'OS_Event']}, {'y_col_name': 'EVER OS', 'y_head': 'Both OS', 'y_cols': ['EVER OS', 'OS_Event']}, {'y_col_name': 'Both OS', 'y_head': 'EVER OS', 'y_cols': ['OS', 'OS_Event']}, {'y_col_name': 'Both OS', 'y_head': 'NIVO OS', 'y_cols': ['OS', 'OS_Event']}, {'y_col_name': 'Both OS', 'y_head': 'Both OS', 'y_cols': ['OS', 'OS_Event']}, {'y_col_name': 'NIVO PFS', 'y_head': 'NIVO PFS', 'y_cols': ['NIVO PFS', 'PFS_Event']}, {'y_col_name': 'NIVO PFS', 'y_head': 'EVER PFS', 'y_cols': ['NIVO PFS', 'PFS_Event']}, {'y_col_name': 'NIVO PFS', 'y_head': 'Both PFS', 'y_cols': ['NIVO PFS', 'PFS_Event']}, {'y_col_name': 'EVER PFS', 'y_head': 'NIVO PFS', 'y_cols': ['EVER PFS', 'PFS_Event']}, {'y_col_name': 'EVER PFS', 'y_head': 'EVER PFS', 'y_cols': ['EVER PFS', 'PFS_Event']}, {'y_col_name': 'EVER PFS', 'y_head': 'Both PFS', 'y_cols': ['EVER PFS', 'PFS_Event']}, {'y_col_name': 'Both PFS', 'y_head': 'EVER PFS', 'y_cols': ['PFS', 'PFS_Event']}, {'y_col_name': 'Both PFS', 'y_head': 'NIVO PFS', 'y_cols': ['PFS', 'PFS_Event']}, {'y_col_name': 'Both PFS', 'y_head': 'Both PFS', 'y_cols': ['PFS', 'PFS_Event']}, {'y_col_name': 'MSKCC BINARY', 'y_head': 'MSKCC', 'y_cols': ['MSKCC BINARY']}, {'y_col_name': 'IMDC BINARY', 'y_head': 'IMDC', 'y_cols': ['IMDC BINARY']}, {'y_col_name': 'MSKCC ORDINAL', 'y_head': 'MSKCC_Ordinal', 'y_cols': ['MSKCC ORDINAL']}, {'y_col_name': 'IMDC ORDINAL', 'y_head': 'IMDC_Ordinal', 'y_cols': ['IMDC ORDINAL']}, {'y_col_name': 'MSKCC ORDINAL', 'y_head': 'MSKCC_MultiClass', 'y_cols': ['MSKCC ORDINAL']}, {'y_col_name': 'IMDC ORDINAL', 'y_head': 'IMDC_MultiClass', 'y_cols': ['IMDC ORDINAL']}, {'y_col_name': 'Benefit BINARY', 'y_head': 'Benefit', 'y_cols': ['Benefit BINARY']}]\n",
      "Using Neptune\n"
     ]
    },
    {
     "data": {
      "application/vnd.jupyter.widget-view+json": {
       "model_id": "e1423798c0b348caa1c1119d94c0b106",
       "version_major": 2,
       "version_minor": 0
      },
      "text/plain": [
       "Fetching file...: 0 [00:00, ?/s]"
      ]
     },
     "metadata": {},
     "output_type": "display_data"
    },
    {
     "name": "stdout",
     "output_type": "stream",
     "text": [
      "Using Neptune\n"
     ]
    },
    {
     "data": {
      "application/vnd.jupyter.widget-view+json": {
       "model_id": "541a76edce5345d8837e3ec58a023a74",
       "version_major": 2,
       "version_minor": 0
      },
      "text/plain": [
       "Fetching file...: 0 [00:00, ?/s]"
      ]
     },
     "metadata": {},
     "output_type": "display_data"
    },
    {
     "name": "stdout",
     "output_type": "stream",
     "text": [
      "Using Neptune\n"
     ]
    },
    {
     "data": {
      "application/vnd.jupyter.widget-view+json": {
       "model_id": "0d60f757ce6943b6aad3321d99824625",
       "version_major": 2,
       "version_minor": 0
      },
      "text/plain": [
       "Fetching file...: 0 [00:00, ?/s]"
      ]
     },
     "metadata": {},
     "output_type": "display_data"
    },
    {
     "name": "stdout",
     "output_type": "stream",
     "text": [
      "Using Neptune\n"
     ]
    },
    {
     "data": {
      "application/vnd.jupyter.widget-view+json": {
       "model_id": "ed4de9d1d1a745d496ceafcd1efe25ba",
       "version_major": 2,
       "version_minor": 0
      },
      "text/plain": [
       "Fetching file...: 0 [00:00, ?/s]"
      ]
     },
     "metadata": {},
     "output_type": "display_data"
    },
    {
     "name": "stdout",
     "output_type": "stream",
     "text": [
      "Using Neptune\n"
     ]
    },
    {
     "data": {
      "application/vnd.jupyter.widget-view+json": {
       "model_id": "a61d7f44a0004070a85aaaf4226652d4",
       "version_major": 2,
       "version_minor": 0
      },
      "text/plain": [
       "Fetching file...: 0 [00:00, ?/s]"
      ]
     },
     "metadata": {},
     "output_type": "display_data"
    },
    {
     "name": "stdout",
     "output_type": "stream",
     "text": [
      "Using Neptune\n"
     ]
    },
    {
     "data": {
      "application/vnd.jupyter.widget-view+json": {
       "model_id": "0fab7dc959d94582b7cd82b7a1ffd255",
       "version_major": 2,
       "version_minor": 0
      },
      "text/plain": [
       "Fetching file...: 0 [00:00, ?/s]"
      ]
     },
     "metadata": {},
     "output_type": "display_data"
    },
    {
     "name": "stdout",
     "output_type": "stream",
     "text": [
      "Using Neptune\n"
     ]
    },
    {
     "data": {
      "application/vnd.jupyter.widget-view+json": {
       "model_id": "1c7c646c24924d6185b8ae84804a1fa0",
       "version_major": 2,
       "version_minor": 0
      },
      "text/plain": [
       "Fetching file...: 0 [00:00, ?/s]"
      ]
     },
     "metadata": {},
     "output_type": "display_data"
    },
    {
     "name": "stdout",
     "output_type": "stream",
     "text": [
      "Using Neptune\n"
     ]
    },
    {
     "data": {
      "application/vnd.jupyter.widget-view+json": {
       "model_id": "5a1b64bcc31f4fbdb5d3d0b2036c101b",
       "version_major": 2,
       "version_minor": 0
      },
      "text/plain": [
       "Fetching file...: 0 [00:00, ?/s]"
      ]
     },
     "metadata": {},
     "output_type": "display_data"
    },
    {
     "name": "stdout",
     "output_type": "stream",
     "text": [
      "Using Neptune\n"
     ]
    },
    {
     "data": {
      "application/vnd.jupyter.widget-view+json": {
       "model_id": "01d3e66286ad4d4c87ad6b4a9a188359",
       "version_major": 2,
       "version_minor": 0
      },
      "text/plain": [
       "Fetching file...: 0 [00:00, ?/s]"
      ]
     },
     "metadata": {},
     "output_type": "display_data"
    },
    {
     "name": "stdout",
     "output_type": "stream",
     "text": [
      "Using Neptune\n"
     ]
    },
    {
     "data": {
      "application/vnd.jupyter.widget-view+json": {
       "model_id": "7e57cd71c5c44516a248ae6e21cd2873",
       "version_major": 2,
       "version_minor": 0
      },
      "text/plain": [
       "Fetching file...: 0 [00:00, ?/s]"
      ]
     },
     "metadata": {},
     "output_type": "display_data"
    },
    {
     "name": "stdout",
     "output_type": "stream",
     "text": [
      "Using Neptune\n"
     ]
    },
    {
     "data": {
      "application/vnd.jupyter.widget-view+json": {
       "model_id": "2e6c6c2ad9cf476dac6318d1d8a1edb4",
       "version_major": 2,
       "version_minor": 0
      },
      "text/plain": [
       "Fetching file...: 0 [00:00, ?/s]"
      ]
     },
     "metadata": {},
     "output_type": "display_data"
    },
    {
     "name": "stdout",
     "output_type": "stream",
     "text": [
      "Using Neptune\n"
     ]
    },
    {
     "data": {
      "application/vnd.jupyter.widget-view+json": {
       "model_id": "c4d71b13dfea41f3ae7812619567bafe",
       "version_major": 2,
       "version_minor": 0
      },
      "text/plain": [
       "Fetching file...: 0 [00:00, ?/s]"
      ]
     },
     "metadata": {},
     "output_type": "display_data"
    },
    {
     "name": "stdout",
     "output_type": "stream",
     "text": [
      "Using Neptune\n"
     ]
    },
    {
     "data": {
      "application/vnd.jupyter.widget-view+json": {
       "model_id": "9afb771340df4717abe5f9adbf306652",
       "version_major": 2,
       "version_minor": 0
      },
      "text/plain": [
       "Fetching file...: 0 [00:00, ?/s]"
      ]
     },
     "metadata": {},
     "output_type": "display_data"
    },
    {
     "name": "stdout",
     "output_type": "stream",
     "text": [
      "Using Neptune\n"
     ]
    },
    {
     "data": {
      "application/vnd.jupyter.widget-view+json": {
       "model_id": "3d77a90c91624967ab73bbf37506cf5d",
       "version_major": 2,
       "version_minor": 0
      },
      "text/plain": [
       "Fetching file...: 0 [00:00, ?/s]"
      ]
     },
     "metadata": {},
     "output_type": "display_data"
    },
    {
     "name": "stdout",
     "output_type": "stream",
     "text": [
      "Using Neptune\n"
     ]
    },
    {
     "data": {
      "application/vnd.jupyter.widget-view+json": {
       "model_id": "20e61614211f4afa80bb8126c198ee69",
       "version_major": 2,
       "version_minor": 0
      },
      "text/plain": [
       "Fetching file...: 0 [00:00, ?/s]"
      ]
     },
     "metadata": {},
     "output_type": "display_data"
    },
    {
     "name": "stdout",
     "output_type": "stream",
     "text": [
      "Using Neptune\n"
     ]
    },
    {
     "data": {
      "application/vnd.jupyter.widget-view+json": {
       "model_id": "87f12aab80ad436d90fc3838a1ae81c4",
       "version_major": 2,
       "version_minor": 0
      },
      "text/plain": [
       "Fetching file...: 0 [00:00, ?/s]"
      ]
     },
     "metadata": {},
     "output_type": "display_data"
    },
    {
     "name": "stdout",
     "output_type": "stream",
     "text": [
      "Using Neptune\n"
     ]
    },
    {
     "data": {
      "application/vnd.jupyter.widget-view+json": {
       "model_id": "a0f34466c9a64f92a57c8b79bca3690a",
       "version_major": 2,
       "version_minor": 0
      },
      "text/plain": [
       "Fetching file...: 0 [00:00, ?/s]"
      ]
     },
     "metadata": {},
     "output_type": "display_data"
    },
    {
     "name": "stdout",
     "output_type": "stream",
     "text": [
      "Using Neptune\n"
     ]
    },
    {
     "data": {
      "application/vnd.jupyter.widget-view+json": {
       "model_id": "5355368d0c444034b69014dba55db0da",
       "version_major": 2,
       "version_minor": 0
      },
      "text/plain": [
       "Fetching file...: 0 [00:00, ?/s]"
      ]
     },
     "metadata": {},
     "output_type": "display_data"
    },
    {
     "name": "stdout",
     "output_type": "stream",
     "text": [
      "Using Neptune\n"
     ]
    },
    {
     "data": {
      "application/vnd.jupyter.widget-view+json": {
       "model_id": "ed4c40fea66140ecacf6cd9845757e2b",
       "version_major": 2,
       "version_minor": 0
      },
      "text/plain": [
       "Fetching file...: 0 [00:00, ?/s]"
      ]
     },
     "metadata": {},
     "output_type": "display_data"
    },
    {
     "name": "stdout",
     "output_type": "stream",
     "text": [
      "Using Neptune\n"
     ]
    },
    {
     "data": {
      "application/vnd.jupyter.widget-view+json": {
       "model_id": "27fad8d2daf248af8d3dfed3848edee2",
       "version_major": 2,
       "version_minor": 0
      },
      "text/plain": [
       "Fetching file...: 0 [00:00, ?/s]"
      ]
     },
     "metadata": {},
     "output_type": "display_data"
    },
    {
     "name": "stdout",
     "output_type": "stream",
     "text": [
      "[neptune] [info   ] Shutting down background jobs, please wait a moment...\n",
      "[neptune] [info   ] Done!\n",
      "[neptune] [info   ] Waiting for the remaining 35 operations to synchronize with Neptune. Do not kill this process.\n",
      "[neptune] [info   ] All 35 operations synced, thanks for waiting!\n",
      "[neptune] [info   ] Explore the metadata in the Neptune app: https://app.neptune.ai/revivemed/Survival-RCC/e/SUR-2663/metadata\n",
      "Getting the latest dataset\n",
      "[neptune] [info   ] Neptune initialized. Open in the app: https://app.neptune.ai/revivemed/Survival-RCC/\n",
      "[neptune] [info   ] Shutting down background jobs, please wait a moment...\n",
      "[neptune] [info   ] Done!\n",
      "[neptune] [info   ] All 0 operations synced, thanks for waiting!\n",
      "[neptune] [info   ] Explore the metadata in the Neptune app: https://app.neptune.ai/revivemed/Survival-RCC/metadata\n",
      "[neptune] [info   ] Neptune initialized. Open in the app: https://app.neptune.ai/revivemed/Survival-RCC/e/SUR-2727\n",
      "eval_params_list [{'y_col_name': 'NIVO OS', 'y_head': 'NIVO OS', 'y_cols': ['NIVO OS', 'OS_Event']}, {'y_col_name': 'NIVO OS', 'y_head': 'EVER OS', 'y_cols': ['NIVO OS', 'OS_Event']}, {'y_col_name': 'NIVO OS', 'y_head': 'Both OS', 'y_cols': ['NIVO OS', 'OS_Event']}, {'y_col_name': 'EVER OS', 'y_head': 'NIVO OS', 'y_cols': ['EVER OS', 'OS_Event']}, {'y_col_name': 'EVER OS', 'y_head': 'EVER OS', 'y_cols': ['EVER OS', 'OS_Event']}, {'y_col_name': 'EVER OS', 'y_head': 'Both OS', 'y_cols': ['EVER OS', 'OS_Event']}, {'y_col_name': 'Both OS', 'y_head': 'EVER OS', 'y_cols': ['OS', 'OS_Event']}, {'y_col_name': 'Both OS', 'y_head': 'NIVO OS', 'y_cols': ['OS', 'OS_Event']}, {'y_col_name': 'Both OS', 'y_head': 'Both OS', 'y_cols': ['OS', 'OS_Event']}, {'y_col_name': 'NIVO PFS', 'y_head': 'NIVO PFS', 'y_cols': ['NIVO PFS', 'PFS_Event']}, {'y_col_name': 'NIVO PFS', 'y_head': 'EVER PFS', 'y_cols': ['NIVO PFS', 'PFS_Event']}, {'y_col_name': 'NIVO PFS', 'y_head': 'Both PFS', 'y_cols': ['NIVO PFS', 'PFS_Event']}, {'y_col_name': 'EVER PFS', 'y_head': 'NIVO PFS', 'y_cols': ['EVER PFS', 'PFS_Event']}, {'y_col_name': 'EVER PFS', 'y_head': 'EVER PFS', 'y_cols': ['EVER PFS', 'PFS_Event']}, {'y_col_name': 'EVER PFS', 'y_head': 'Both PFS', 'y_cols': ['EVER PFS', 'PFS_Event']}, {'y_col_name': 'Both PFS', 'y_head': 'EVER PFS', 'y_cols': ['PFS', 'PFS_Event']}, {'y_col_name': 'Both PFS', 'y_head': 'NIVO PFS', 'y_cols': ['PFS', 'PFS_Event']}, {'y_col_name': 'Both PFS', 'y_head': 'Both PFS', 'y_cols': ['PFS', 'PFS_Event']}, {'y_col_name': 'MSKCC BINARY', 'y_head': 'MSKCC', 'y_cols': ['MSKCC BINARY']}, {'y_col_name': 'IMDC BINARY', 'y_head': 'IMDC', 'y_cols': ['IMDC BINARY']}, {'y_col_name': 'MSKCC ORDINAL', 'y_head': 'MSKCC_Ordinal', 'y_cols': ['MSKCC ORDINAL']}, {'y_col_name': 'IMDC ORDINAL', 'y_head': 'IMDC_Ordinal', 'y_cols': ['IMDC ORDINAL']}, {'y_col_name': 'MSKCC ORDINAL', 'y_head': 'MSKCC_MultiClass', 'y_cols': ['MSKCC ORDINAL']}, {'y_col_name': 'IMDC ORDINAL', 'y_head': 'IMDC_MultiClass', 'y_cols': ['IMDC ORDINAL']}, {'y_col_name': 'Benefit BINARY', 'y_head': 'Benefit', 'y_cols': ['Benefit BINARY']}]\n",
      "Using Neptune\n"
     ]
    },
    {
     "data": {
      "application/vnd.jupyter.widget-view+json": {
       "model_id": "679b91c311e84cc39c076942c662e1af",
       "version_major": 2,
       "version_minor": 0
      },
      "text/plain": [
       "Fetching file...: 0 [00:00, ?/s]"
      ]
     },
     "metadata": {},
     "output_type": "display_data"
    },
    {
     "name": "stdout",
     "output_type": "stream",
     "text": [
      "Using Neptune\n"
     ]
    },
    {
     "data": {
      "application/vnd.jupyter.widget-view+json": {
       "model_id": "0706e232b2bd45109102e5677984f8a4",
       "version_major": 2,
       "version_minor": 0
      },
      "text/plain": [
       "Fetching file...: 0 [00:00, ?/s]"
      ]
     },
     "metadata": {},
     "output_type": "display_data"
    },
    {
     "name": "stdout",
     "output_type": "stream",
     "text": [
      "Using Neptune\n"
     ]
    },
    {
     "data": {
      "application/vnd.jupyter.widget-view+json": {
       "model_id": "b7d5d6e311c5402baaa0f7f74f096ac1",
       "version_major": 2,
       "version_minor": 0
      },
      "text/plain": [
       "Fetching file...: 0 [00:00, ?/s]"
      ]
     },
     "metadata": {},
     "output_type": "display_data"
    },
    {
     "name": "stdout",
     "output_type": "stream",
     "text": [
      "Using Neptune\n"
     ]
    },
    {
     "data": {
      "application/vnd.jupyter.widget-view+json": {
       "model_id": "3edae3a3da614efb959ca4cd35fbbc1c",
       "version_major": 2,
       "version_minor": 0
      },
      "text/plain": [
       "Fetching file...: 0 [00:00, ?/s]"
      ]
     },
     "metadata": {},
     "output_type": "display_data"
    },
    {
     "name": "stdout",
     "output_type": "stream",
     "text": [
      "Using Neptune\n"
     ]
    },
    {
     "data": {
      "application/vnd.jupyter.widget-view+json": {
       "model_id": "1f4d9095007244c29adecc0993a8ffb6",
       "version_major": 2,
       "version_minor": 0
      },
      "text/plain": [
       "Fetching file...: 0 [00:00, ?/s]"
      ]
     },
     "metadata": {},
     "output_type": "display_data"
    },
    {
     "name": "stdout",
     "output_type": "stream",
     "text": [
      "Using Neptune\n"
     ]
    },
    {
     "data": {
      "application/vnd.jupyter.widget-view+json": {
       "model_id": "18fdb825d9c043fab02e101f610f08b5",
       "version_major": 2,
       "version_minor": 0
      },
      "text/plain": [
       "Fetching file...: 0 [00:00, ?/s]"
      ]
     },
     "metadata": {},
     "output_type": "display_data"
    },
    {
     "name": "stdout",
     "output_type": "stream",
     "text": [
      "Using Neptune\n"
     ]
    },
    {
     "data": {
      "application/vnd.jupyter.widget-view+json": {
       "model_id": "071988863379441d8371983a78965c01",
       "version_major": 2,
       "version_minor": 0
      },
      "text/plain": [
       "Fetching file...: 0 [00:00, ?/s]"
      ]
     },
     "metadata": {},
     "output_type": "display_data"
    },
    {
     "name": "stdout",
     "output_type": "stream",
     "text": [
      "Using Neptune\n"
     ]
    },
    {
     "data": {
      "application/vnd.jupyter.widget-view+json": {
       "model_id": "7c8c5f952b5445eba6d899773eac3833",
       "version_major": 2,
       "version_minor": 0
      },
      "text/plain": [
       "Fetching file...: 0 [00:00, ?/s]"
      ]
     },
     "metadata": {},
     "output_type": "display_data"
    },
    {
     "name": "stdout",
     "output_type": "stream",
     "text": [
      "Using Neptune\n"
     ]
    },
    {
     "data": {
      "application/vnd.jupyter.widget-view+json": {
       "model_id": "022253fa9bb547379f464a6bb9e05efb",
       "version_major": 2,
       "version_minor": 0
      },
      "text/plain": [
       "Fetching file...: 0 [00:00, ?/s]"
      ]
     },
     "metadata": {},
     "output_type": "display_data"
    },
    {
     "name": "stdout",
     "output_type": "stream",
     "text": [
      "Using Neptune\n"
     ]
    },
    {
     "data": {
      "application/vnd.jupyter.widget-view+json": {
       "model_id": "dc6a4cb971f54b529c039bdec3086ec3",
       "version_major": 2,
       "version_minor": 0
      },
      "text/plain": [
       "Fetching file...: 0 [00:00, ?/s]"
      ]
     },
     "metadata": {},
     "output_type": "display_data"
    },
    {
     "name": "stdout",
     "output_type": "stream",
     "text": [
      "Using Neptune\n"
     ]
    },
    {
     "data": {
      "application/vnd.jupyter.widget-view+json": {
       "model_id": "8a4fd70a5c3c437e90d260fbe4011cc2",
       "version_major": 2,
       "version_minor": 0
      },
      "text/plain": [
       "Fetching file...: 0 [00:00, ?/s]"
      ]
     },
     "metadata": {},
     "output_type": "display_data"
    },
    {
     "name": "stdout",
     "output_type": "stream",
     "text": [
      "Using Neptune\n"
     ]
    },
    {
     "data": {
      "application/vnd.jupyter.widget-view+json": {
       "model_id": "f7044a9502d949258d8e068b2b270c7f",
       "version_major": 2,
       "version_minor": 0
      },
      "text/plain": [
       "Fetching file...: 0 [00:00, ?/s]"
      ]
     },
     "metadata": {},
     "output_type": "display_data"
    },
    {
     "name": "stdout",
     "output_type": "stream",
     "text": [
      "Using Neptune\n"
     ]
    },
    {
     "data": {
      "application/vnd.jupyter.widget-view+json": {
       "model_id": "b9e4dc0573bb4d7097f113b4cc110fb4",
       "version_major": 2,
       "version_minor": 0
      },
      "text/plain": [
       "Fetching file...: 0 [00:00, ?/s]"
      ]
     },
     "metadata": {},
     "output_type": "display_data"
    },
    {
     "name": "stdout",
     "output_type": "stream",
     "text": [
      "Using Neptune\n"
     ]
    },
    {
     "data": {
      "application/vnd.jupyter.widget-view+json": {
       "model_id": "a13f3d18e372432c8a63655b00b9053f",
       "version_major": 2,
       "version_minor": 0
      },
      "text/plain": [
       "Fetching file...: 0 [00:00, ?/s]"
      ]
     },
     "metadata": {},
     "output_type": "display_data"
    },
    {
     "name": "stdout",
     "output_type": "stream",
     "text": [
      "Using Neptune\n"
     ]
    },
    {
     "data": {
      "application/vnd.jupyter.widget-view+json": {
       "model_id": "258b5c2f78b54bcdb96a6b48ff8b3ccb",
       "version_major": 2,
       "version_minor": 0
      },
      "text/plain": [
       "Fetching file...: 0 [00:00, ?/s]"
      ]
     },
     "metadata": {},
     "output_type": "display_data"
    },
    {
     "name": "stdout",
     "output_type": "stream",
     "text": [
      "Using Neptune\n"
     ]
    },
    {
     "data": {
      "application/vnd.jupyter.widget-view+json": {
       "model_id": "1166395dda9d4bdd9364377eecafe116",
       "version_major": 2,
       "version_minor": 0
      },
      "text/plain": [
       "Fetching file...: 0 [00:00, ?/s]"
      ]
     },
     "metadata": {},
     "output_type": "display_data"
    },
    {
     "name": "stdout",
     "output_type": "stream",
     "text": [
      "Using Neptune\n"
     ]
    },
    {
     "data": {
      "application/vnd.jupyter.widget-view+json": {
       "model_id": "a1cabf581f3c403fbbfe21f6bc0a3909",
       "version_major": 2,
       "version_minor": 0
      },
      "text/plain": [
       "Fetching file...: 0 [00:00, ?/s]"
      ]
     },
     "metadata": {},
     "output_type": "display_data"
    },
    {
     "name": "stdout",
     "output_type": "stream",
     "text": [
      "Using Neptune\n"
     ]
    },
    {
     "data": {
      "application/vnd.jupyter.widget-view+json": {
       "model_id": "92cbd6fae54a4b0cad673cbd81779eed",
       "version_major": 2,
       "version_minor": 0
      },
      "text/plain": [
       "Fetching file...: 0 [00:00, ?/s]"
      ]
     },
     "metadata": {},
     "output_type": "display_data"
    },
    {
     "name": "stdout",
     "output_type": "stream",
     "text": [
      "Using Neptune\n"
     ]
    },
    {
     "data": {
      "application/vnd.jupyter.widget-view+json": {
       "model_id": "ef555424b3844fe2a7306bf8a057189a",
       "version_major": 2,
       "version_minor": 0
      },
      "text/plain": [
       "Fetching file...: 0 [00:00, ?/s]"
      ]
     },
     "metadata": {},
     "output_type": "display_data"
    },
    {
     "name": "stdout",
     "output_type": "stream",
     "text": [
      "Using Neptune\n"
     ]
    },
    {
     "data": {
      "application/vnd.jupyter.widget-view+json": {
       "model_id": "c913b7a4192a4c3bbd059475b1ba66f7",
       "version_major": 2,
       "version_minor": 0
      },
      "text/plain": [
       "Fetching file...: 0 [00:00, ?/s]"
      ]
     },
     "metadata": {},
     "output_type": "display_data"
    },
    {
     "name": "stdout",
     "output_type": "stream",
     "text": [
      "[neptune] [info   ] Shutting down background jobs, please wait a moment...\n",
      "[neptune] [info   ] Done!\n",
      "[neptune] [info   ] Waiting for the remaining 35 operations to synchronize with Neptune. Do not kill this process.\n",
      "[neptune] [info   ] All 35 operations synced, thanks for waiting!\n",
      "[neptune] [info   ] Explore the metadata in the Neptune app: https://app.neptune.ai/revivemed/Survival-RCC/e/SUR-2727/metadata\n",
      "Getting the latest dataset\n",
      "[neptune] [info   ] Neptune initialized. Open in the app: https://app.neptune.ai/revivemed/Survival-RCC/\n",
      "[neptune] [info   ] Shutting down background jobs, please wait a moment...\n",
      "[neptune] [info   ] Done!\n",
      "[neptune] [info   ] All 0 operations synced, thanks for waiting!\n",
      "[neptune] [info   ] Explore the metadata in the Neptune app: https://app.neptune.ai/revivemed/Survival-RCC/metadata\n",
      "[neptune] [info   ] Neptune initialized. Open in the app: https://app.neptune.ai/revivemed/Survival-RCC/e/SUR-2612\n",
      "eval_params_list [{'y_col_name': 'NIVO OS', 'y_head': 'NIVO OS', 'y_cols': ['NIVO OS', 'OS_Event']}, {'y_col_name': 'NIVO OS', 'y_head': 'EVER OS', 'y_cols': ['NIVO OS', 'OS_Event']}, {'y_col_name': 'NIVO OS', 'y_head': 'Both OS', 'y_cols': ['NIVO OS', 'OS_Event']}, {'y_col_name': 'EVER OS', 'y_head': 'NIVO OS', 'y_cols': ['EVER OS', 'OS_Event']}, {'y_col_name': 'EVER OS', 'y_head': 'EVER OS', 'y_cols': ['EVER OS', 'OS_Event']}, {'y_col_name': 'EVER OS', 'y_head': 'Both OS', 'y_cols': ['EVER OS', 'OS_Event']}, {'y_col_name': 'Both OS', 'y_head': 'EVER OS', 'y_cols': ['OS', 'OS_Event']}, {'y_col_name': 'Both OS', 'y_head': 'NIVO OS', 'y_cols': ['OS', 'OS_Event']}, {'y_col_name': 'Both OS', 'y_head': 'Both OS', 'y_cols': ['OS', 'OS_Event']}, {'y_col_name': 'NIVO PFS', 'y_head': 'NIVO PFS', 'y_cols': ['NIVO PFS', 'PFS_Event']}, {'y_col_name': 'NIVO PFS', 'y_head': 'EVER PFS', 'y_cols': ['NIVO PFS', 'PFS_Event']}, {'y_col_name': 'NIVO PFS', 'y_head': 'Both PFS', 'y_cols': ['NIVO PFS', 'PFS_Event']}, {'y_col_name': 'EVER PFS', 'y_head': 'NIVO PFS', 'y_cols': ['EVER PFS', 'PFS_Event']}, {'y_col_name': 'EVER PFS', 'y_head': 'EVER PFS', 'y_cols': ['EVER PFS', 'PFS_Event']}, {'y_col_name': 'EVER PFS', 'y_head': 'Both PFS', 'y_cols': ['EVER PFS', 'PFS_Event']}, {'y_col_name': 'Both PFS', 'y_head': 'EVER PFS', 'y_cols': ['PFS', 'PFS_Event']}, {'y_col_name': 'Both PFS', 'y_head': 'NIVO PFS', 'y_cols': ['PFS', 'PFS_Event']}, {'y_col_name': 'Both PFS', 'y_head': 'Both PFS', 'y_cols': ['PFS', 'PFS_Event']}, {'y_col_name': 'MSKCC BINARY', 'y_head': 'MSKCC', 'y_cols': ['MSKCC BINARY']}, {'y_col_name': 'IMDC BINARY', 'y_head': 'IMDC', 'y_cols': ['IMDC BINARY']}, {'y_col_name': 'MSKCC ORDINAL', 'y_head': 'MSKCC_Ordinal', 'y_cols': ['MSKCC ORDINAL']}, {'y_col_name': 'IMDC ORDINAL', 'y_head': 'IMDC_Ordinal', 'y_cols': ['IMDC ORDINAL']}, {'y_col_name': 'MSKCC ORDINAL', 'y_head': 'MSKCC_MultiClass', 'y_cols': ['MSKCC ORDINAL']}, {'y_col_name': 'IMDC ORDINAL', 'y_head': 'IMDC_MultiClass', 'y_cols': ['IMDC ORDINAL']}, {'y_col_name': 'Benefit BINARY', 'y_head': 'Benefit', 'y_cols': ['Benefit BINARY']}]\n",
      "Using Neptune\n",
      "Using Neptune\n",
      "Using Neptune\n",
      "Using Neptune\n",
      "Using Neptune\n",
      "Using Neptune\n",
      "Using Neptune\n",
      "Using Neptune\n",
      "Record the model fitting to Neptune\n",
      "Training on train\n",
      "Training on train\n",
      "Epoch [1/30], train Loss: 4.0521\n",
      "Epoch [11/30], train Loss: 3.2333\n",
      "Epoch [21/30], train Loss: 3.1071\n",
      "Save models to Neptune\n",
      "[neptune] [error  ] Error occurred during asynchronous operation processing: Cannot upload file /Users/jonaheaton/OUTPUT/SUR-2612/training_run_7/models/adv_info.json: Path not found or is a not a file.\n",
      "[neptune] [error  ] Error occurred during asynchronous operation processing: Cannot upload file /Users/jonaheaton/OUTPUT/SUR-2612/training_run_7/models/adv_state.pt: Path not found or is a not a file.\n",
      "Using Neptune\n",
      "Using Neptune\n",
      "Using Neptune\n",
      "Using Neptune\n",
      "Using Neptune\n",
      "Using Neptune\n",
      "Using Neptune\n",
      "Using Neptune\n",
      "Using Neptune\n",
      "Using Neptune\n",
      "Using Neptune\n",
      "Using Neptune\n",
      "[neptune] [info   ] Shutting down background jobs, please wait a moment...\n",
      "[neptune] [info   ] Done!\n",
      "[neptune] [info   ] Waiting for the remaining 35 operations to synchronize with Neptune. Do not kill this process.\n",
      "[neptune] [info   ] All 35 operations synced, thanks for waiting!\n",
      "[neptune] [info   ] Explore the metadata in the Neptune app: https://app.neptune.ai/revivemed/Survival-RCC/e/SUR-2612/metadata\n",
      "Getting the latest dataset\n",
      "[neptune] [info   ] Neptune initialized. Open in the app: https://app.neptune.ai/revivemed/Survival-RCC/\n",
      "[neptune] [info   ] Shutting down background jobs, please wait a moment...\n",
      "[neptune] [info   ] Done!\n",
      "[neptune] [info   ] All 0 operations synced, thanks for waiting!\n",
      "[neptune] [info   ] Explore the metadata in the Neptune app: https://app.neptune.ai/revivemed/Survival-RCC/metadata\n",
      "[neptune] [info   ] Neptune initialized. Open in the app: https://app.neptune.ai/revivemed/Survival-RCC/e/SUR-2647\n",
      "eval_params_list [{'y_col_name': 'NIVO OS', 'y_head': 'NIVO OS', 'y_cols': ['NIVO OS', 'OS_Event']}, {'y_col_name': 'NIVO OS', 'y_head': 'EVER OS', 'y_cols': ['NIVO OS', 'OS_Event']}, {'y_col_name': 'NIVO OS', 'y_head': 'Both OS', 'y_cols': ['NIVO OS', 'OS_Event']}, {'y_col_name': 'EVER OS', 'y_head': 'NIVO OS', 'y_cols': ['EVER OS', 'OS_Event']}, {'y_col_name': 'EVER OS', 'y_head': 'EVER OS', 'y_cols': ['EVER OS', 'OS_Event']}, {'y_col_name': 'EVER OS', 'y_head': 'Both OS', 'y_cols': ['EVER OS', 'OS_Event']}, {'y_col_name': 'Both OS', 'y_head': 'EVER OS', 'y_cols': ['OS', 'OS_Event']}, {'y_col_name': 'Both OS', 'y_head': 'NIVO OS', 'y_cols': ['OS', 'OS_Event']}, {'y_col_name': 'Both OS', 'y_head': 'Both OS', 'y_cols': ['OS', 'OS_Event']}, {'y_col_name': 'NIVO PFS', 'y_head': 'NIVO PFS', 'y_cols': ['NIVO PFS', 'PFS_Event']}, {'y_col_name': 'NIVO PFS', 'y_head': 'EVER PFS', 'y_cols': ['NIVO PFS', 'PFS_Event']}, {'y_col_name': 'NIVO PFS', 'y_head': 'Both PFS', 'y_cols': ['NIVO PFS', 'PFS_Event']}, {'y_col_name': 'EVER PFS', 'y_head': 'NIVO PFS', 'y_cols': ['EVER PFS', 'PFS_Event']}, {'y_col_name': 'EVER PFS', 'y_head': 'EVER PFS', 'y_cols': ['EVER PFS', 'PFS_Event']}, {'y_col_name': 'EVER PFS', 'y_head': 'Both PFS', 'y_cols': ['EVER PFS', 'PFS_Event']}, {'y_col_name': 'Both PFS', 'y_head': 'EVER PFS', 'y_cols': ['PFS', 'PFS_Event']}, {'y_col_name': 'Both PFS', 'y_head': 'NIVO PFS', 'y_cols': ['PFS', 'PFS_Event']}, {'y_col_name': 'Both PFS', 'y_head': 'Both PFS', 'y_cols': ['PFS', 'PFS_Event']}, {'y_col_name': 'MSKCC BINARY', 'y_head': 'MSKCC', 'y_cols': ['MSKCC BINARY']}, {'y_col_name': 'IMDC BINARY', 'y_head': 'IMDC', 'y_cols': ['IMDC BINARY']}, {'y_col_name': 'MSKCC ORDINAL', 'y_head': 'MSKCC_Ordinal', 'y_cols': ['MSKCC ORDINAL']}, {'y_col_name': 'IMDC ORDINAL', 'y_head': 'IMDC_Ordinal', 'y_cols': ['IMDC ORDINAL']}, {'y_col_name': 'MSKCC ORDINAL', 'y_head': 'MSKCC_MultiClass', 'y_cols': ['MSKCC ORDINAL']}, {'y_col_name': 'IMDC ORDINAL', 'y_head': 'IMDC_MultiClass', 'y_cols': ['IMDC ORDINAL']}, {'y_col_name': 'Benefit BINARY', 'y_head': 'Benefit', 'y_cols': ['Benefit BINARY']}]\n",
      "Using Neptune\n"
     ]
    },
    {
     "data": {
      "application/vnd.jupyter.widget-view+json": {
       "model_id": "dbb04466de104ac786ad9b9645627723",
       "version_major": 2,
       "version_minor": 0
      },
      "text/plain": [
       "Fetching file...: 0 [00:00, ?/s]"
      ]
     },
     "metadata": {},
     "output_type": "display_data"
    },
    {
     "name": "stdout",
     "output_type": "stream",
     "text": [
      "Using Neptune\n"
     ]
    },
    {
     "data": {
      "application/vnd.jupyter.widget-view+json": {
       "model_id": "0f8f747a10f34101909c2c1af9336f82",
       "version_major": 2,
       "version_minor": 0
      },
      "text/plain": [
       "Fetching file...: 0 [00:00, ?/s]"
      ]
     },
     "metadata": {},
     "output_type": "display_data"
    },
    {
     "name": "stdout",
     "output_type": "stream",
     "text": [
      "Using Neptune\n"
     ]
    },
    {
     "data": {
      "application/vnd.jupyter.widget-view+json": {
       "model_id": "51b92b3e0395409fbbc5d6a7e48a29a8",
       "version_major": 2,
       "version_minor": 0
      },
      "text/plain": [
       "Fetching file...: 0 [00:00, ?/s]"
      ]
     },
     "metadata": {},
     "output_type": "display_data"
    },
    {
     "name": "stdout",
     "output_type": "stream",
     "text": [
      "Using Neptune\n"
     ]
    },
    {
     "data": {
      "application/vnd.jupyter.widget-view+json": {
       "model_id": "21689aec0c77494d923cedc125d2e17a",
       "version_major": 2,
       "version_minor": 0
      },
      "text/plain": [
       "Fetching file...: 0 [00:00, ?/s]"
      ]
     },
     "metadata": {},
     "output_type": "display_data"
    },
    {
     "name": "stdout",
     "output_type": "stream",
     "text": [
      "Using Neptune\n"
     ]
    },
    {
     "data": {
      "application/vnd.jupyter.widget-view+json": {
       "model_id": "5132083448ca4cd5ab8dc6a3fc5ca277",
       "version_major": 2,
       "version_minor": 0
      },
      "text/plain": [
       "Fetching file...: 0 [00:00, ?/s]"
      ]
     },
     "metadata": {},
     "output_type": "display_data"
    },
    {
     "name": "stdout",
     "output_type": "stream",
     "text": [
      "Using Neptune\n"
     ]
    },
    {
     "data": {
      "application/vnd.jupyter.widget-view+json": {
       "model_id": "1fa642d908bd4e2dbdfc53640b7ac815",
       "version_major": 2,
       "version_minor": 0
      },
      "text/plain": [
       "Fetching file...: 0 [00:00, ?/s]"
      ]
     },
     "metadata": {},
     "output_type": "display_data"
    },
    {
     "name": "stdout",
     "output_type": "stream",
     "text": [
      "Using Neptune\n"
     ]
    },
    {
     "data": {
      "application/vnd.jupyter.widget-view+json": {
       "model_id": "91721e4c3cfa45e18e1b4aebff65d01e",
       "version_major": 2,
       "version_minor": 0
      },
      "text/plain": [
       "Fetching file...: 0 [00:00, ?/s]"
      ]
     },
     "metadata": {},
     "output_type": "display_data"
    },
    {
     "name": "stdout",
     "output_type": "stream",
     "text": [
      "Using Neptune\n"
     ]
    },
    {
     "data": {
      "application/vnd.jupyter.widget-view+json": {
       "model_id": "67730353ca00448c8942fa7d7ac2b1cb",
       "version_major": 2,
       "version_minor": 0
      },
      "text/plain": [
       "Fetching file...: 0 [00:00, ?/s]"
      ]
     },
     "metadata": {},
     "output_type": "display_data"
    },
    {
     "name": "stdout",
     "output_type": "stream",
     "text": [
      "Using Neptune\n"
     ]
    },
    {
     "data": {
      "application/vnd.jupyter.widget-view+json": {
       "model_id": "058e1ded49d141148c6164e1df4816c2",
       "version_major": 2,
       "version_minor": 0
      },
      "text/plain": [
       "Fetching file...: 0 [00:00, ?/s]"
      ]
     },
     "metadata": {},
     "output_type": "display_data"
    },
    {
     "name": "stdout",
     "output_type": "stream",
     "text": [
      "Using Neptune\n"
     ]
    },
    {
     "data": {
      "application/vnd.jupyter.widget-view+json": {
       "model_id": "70ca67e4c1e144f1b01d42a895d68c81",
       "version_major": 2,
       "version_minor": 0
      },
      "text/plain": [
       "Fetching file...: 0 [00:00, ?/s]"
      ]
     },
     "metadata": {},
     "output_type": "display_data"
    },
    {
     "name": "stdout",
     "output_type": "stream",
     "text": [
      "Using Neptune\n"
     ]
    },
    {
     "data": {
      "application/vnd.jupyter.widget-view+json": {
       "model_id": "5234c74870bd49b1957a018157ee16a3",
       "version_major": 2,
       "version_minor": 0
      },
      "text/plain": [
       "Fetching file...: 0 [00:00, ?/s]"
      ]
     },
     "metadata": {},
     "output_type": "display_data"
    },
    {
     "name": "stdout",
     "output_type": "stream",
     "text": [
      "Using Neptune\n"
     ]
    },
    {
     "data": {
      "application/vnd.jupyter.widget-view+json": {
       "model_id": "7ba2842e40114098bd96aa3f1320a949",
       "version_major": 2,
       "version_minor": 0
      },
      "text/plain": [
       "Fetching file...: 0 [00:00, ?/s]"
      ]
     },
     "metadata": {},
     "output_type": "display_data"
    },
    {
     "name": "stdout",
     "output_type": "stream",
     "text": [
      "Using Neptune\n"
     ]
    },
    {
     "data": {
      "application/vnd.jupyter.widget-view+json": {
       "model_id": "73ea57206472407fad2a1dc74281a60c",
       "version_major": 2,
       "version_minor": 0
      },
      "text/plain": [
       "Fetching file...: 0 [00:00, ?/s]"
      ]
     },
     "metadata": {},
     "output_type": "display_data"
    },
    {
     "name": "stdout",
     "output_type": "stream",
     "text": [
      "Using Neptune\n"
     ]
    },
    {
     "data": {
      "application/vnd.jupyter.widget-view+json": {
       "model_id": "c0c3eb26e4594c5ea32069d4331a1558",
       "version_major": 2,
       "version_minor": 0
      },
      "text/plain": [
       "Fetching file...: 0 [00:00, ?/s]"
      ]
     },
     "metadata": {},
     "output_type": "display_data"
    },
    {
     "name": "stdout",
     "output_type": "stream",
     "text": [
      "Using Neptune\n"
     ]
    },
    {
     "data": {
      "application/vnd.jupyter.widget-view+json": {
       "model_id": "ffda6dbb0d934c6fa93d75fbc64c2275",
       "version_major": 2,
       "version_minor": 0
      },
      "text/plain": [
       "Fetching file...: 0 [00:00, ?/s]"
      ]
     },
     "metadata": {},
     "output_type": "display_data"
    },
    {
     "name": "stdout",
     "output_type": "stream",
     "text": [
      "Using Neptune\n"
     ]
    },
    {
     "data": {
      "application/vnd.jupyter.widget-view+json": {
       "model_id": "04412ccb79f649a48a9c0c0a52225724",
       "version_major": 2,
       "version_minor": 0
      },
      "text/plain": [
       "Fetching file...: 0 [00:00, ?/s]"
      ]
     },
     "metadata": {},
     "output_type": "display_data"
    },
    {
     "name": "stdout",
     "output_type": "stream",
     "text": [
      "Using Neptune\n"
     ]
    },
    {
     "data": {
      "application/vnd.jupyter.widget-view+json": {
       "model_id": "29b77cfa2bbb40e9b64641bab1046d12",
       "version_major": 2,
       "version_minor": 0
      },
      "text/plain": [
       "Fetching file...: 0 [00:00, ?/s]"
      ]
     },
     "metadata": {},
     "output_type": "display_data"
    },
    {
     "name": "stdout",
     "output_type": "stream",
     "text": [
      "Using Neptune\n"
     ]
    },
    {
     "data": {
      "application/vnd.jupyter.widget-view+json": {
       "model_id": "50cd157254d74c3f9365e9ef0ddc94fc",
       "version_major": 2,
       "version_minor": 0
      },
      "text/plain": [
       "Fetching file...: 0 [00:00, ?/s]"
      ]
     },
     "metadata": {},
     "output_type": "display_data"
    },
    {
     "name": "stdout",
     "output_type": "stream",
     "text": [
      "Using Neptune\n"
     ]
    },
    {
     "data": {
      "application/vnd.jupyter.widget-view+json": {
       "model_id": "e3065aed6d04452d9ec2c0405deba3eb",
       "version_major": 2,
       "version_minor": 0
      },
      "text/plain": [
       "Fetching file...: 0 [00:00, ?/s]"
      ]
     },
     "metadata": {},
     "output_type": "display_data"
    },
    {
     "name": "stdout",
     "output_type": "stream",
     "text": [
      "Using Neptune\n"
     ]
    },
    {
     "data": {
      "application/vnd.jupyter.widget-view+json": {
       "model_id": "e4f33768f2aa4a20940197a4ab210430",
       "version_major": 2,
       "version_minor": 0
      },
      "text/plain": [
       "Fetching file...: 0 [00:00, ?/s]"
      ]
     },
     "metadata": {},
     "output_type": "display_data"
    },
    {
     "name": "stdout",
     "output_type": "stream",
     "text": [
      "[neptune] [info   ] Shutting down background jobs, please wait a moment...\n",
      "[neptune] [info   ] Done!\n",
      "[neptune] [info   ] Waiting for the remaining 35 operations to synchronize with Neptune. Do not kill this process.\n",
      "[neptune] [info   ] All 35 operations synced, thanks for waiting!\n",
      "[neptune] [info   ] Explore the metadata in the Neptune app: https://app.neptune.ai/revivemed/Survival-RCC/e/SUR-2647/metadata\n",
      "Getting the latest dataset\n",
      "[neptune] [info   ] Neptune initialized. Open in the app: https://app.neptune.ai/revivemed/Survival-RCC/\n",
      "[neptune] [info   ] Shutting down background jobs, please wait a moment...\n",
      "[neptune] [info   ] Done!\n",
      "[neptune] [info   ] All 0 operations synced, thanks for waiting!\n",
      "[neptune] [info   ] Explore the metadata in the Neptune app: https://app.neptune.ai/revivemed/Survival-RCC/metadata\n",
      "[neptune] [info   ] Neptune initialized. Open in the app: https://app.neptune.ai/revivemed/Survival-RCC/e/SUR-2679\n",
      "eval_params_list [{'y_col_name': 'NIVO OS', 'y_head': 'NIVO OS', 'y_cols': ['NIVO OS', 'OS_Event']}, {'y_col_name': 'NIVO OS', 'y_head': 'EVER OS', 'y_cols': ['NIVO OS', 'OS_Event']}, {'y_col_name': 'NIVO OS', 'y_head': 'Both OS', 'y_cols': ['NIVO OS', 'OS_Event']}, {'y_col_name': 'EVER OS', 'y_head': 'NIVO OS', 'y_cols': ['EVER OS', 'OS_Event']}, {'y_col_name': 'EVER OS', 'y_head': 'EVER OS', 'y_cols': ['EVER OS', 'OS_Event']}, {'y_col_name': 'EVER OS', 'y_head': 'Both OS', 'y_cols': ['EVER OS', 'OS_Event']}, {'y_col_name': 'Both OS', 'y_head': 'EVER OS', 'y_cols': ['OS', 'OS_Event']}, {'y_col_name': 'Both OS', 'y_head': 'NIVO OS', 'y_cols': ['OS', 'OS_Event']}, {'y_col_name': 'Both OS', 'y_head': 'Both OS', 'y_cols': ['OS', 'OS_Event']}, {'y_col_name': 'NIVO PFS', 'y_head': 'NIVO PFS', 'y_cols': ['NIVO PFS', 'PFS_Event']}, {'y_col_name': 'NIVO PFS', 'y_head': 'EVER PFS', 'y_cols': ['NIVO PFS', 'PFS_Event']}, {'y_col_name': 'NIVO PFS', 'y_head': 'Both PFS', 'y_cols': ['NIVO PFS', 'PFS_Event']}, {'y_col_name': 'EVER PFS', 'y_head': 'NIVO PFS', 'y_cols': ['EVER PFS', 'PFS_Event']}, {'y_col_name': 'EVER PFS', 'y_head': 'EVER PFS', 'y_cols': ['EVER PFS', 'PFS_Event']}, {'y_col_name': 'EVER PFS', 'y_head': 'Both PFS', 'y_cols': ['EVER PFS', 'PFS_Event']}, {'y_col_name': 'Both PFS', 'y_head': 'EVER PFS', 'y_cols': ['PFS', 'PFS_Event']}, {'y_col_name': 'Both PFS', 'y_head': 'NIVO PFS', 'y_cols': ['PFS', 'PFS_Event']}, {'y_col_name': 'Both PFS', 'y_head': 'Both PFS', 'y_cols': ['PFS', 'PFS_Event']}, {'y_col_name': 'MSKCC BINARY', 'y_head': 'MSKCC', 'y_cols': ['MSKCC BINARY']}, {'y_col_name': 'IMDC BINARY', 'y_head': 'IMDC', 'y_cols': ['IMDC BINARY']}, {'y_col_name': 'MSKCC ORDINAL', 'y_head': 'MSKCC_Ordinal', 'y_cols': ['MSKCC ORDINAL']}, {'y_col_name': 'IMDC ORDINAL', 'y_head': 'IMDC_Ordinal', 'y_cols': ['IMDC ORDINAL']}, {'y_col_name': 'MSKCC ORDINAL', 'y_head': 'MSKCC_MultiClass', 'y_cols': ['MSKCC ORDINAL']}, {'y_col_name': 'IMDC ORDINAL', 'y_head': 'IMDC_MultiClass', 'y_cols': ['IMDC ORDINAL']}, {'y_col_name': 'Benefit BINARY', 'y_head': 'Benefit', 'y_cols': ['Benefit BINARY']}]\n",
      "Using Neptune\n",
      "Using Neptune\n",
      "Using Neptune\n",
      "Using Neptune\n",
      "Using Neptune\n",
      "Using Neptune\n",
      "Using Neptune\n",
      "Using Neptune\n",
      "Using Neptune\n",
      "Using Neptune\n",
      "Using Neptune\n",
      "Using Neptune\n",
      "Using Neptune\n",
      "Using Neptune\n",
      "Using Neptune\n",
      "Using Neptune\n",
      "Using Neptune\n",
      "Using Neptune\n",
      "Using Neptune\n",
      "Using Neptune\n",
      "[neptune] [info   ] Shutting down background jobs, please wait a moment...\n",
      "[neptune] [info   ] Done!\n",
      "[neptune] [info   ] Waiting for the remaining 35 operations to synchronize with Neptune. Do not kill this process.\n",
      "[neptune] [info   ] All 35 operations synced, thanks for waiting!\n",
      "[neptune] [info   ] Explore the metadata in the Neptune app: https://app.neptune.ai/revivemed/Survival-RCC/e/SUR-2679/metadata\n",
      "Getting the latest dataset\n",
      "[neptune] [info   ] Neptune initialized. Open in the app: https://app.neptune.ai/revivemed/Survival-RCC/\n",
      "[neptune] [info   ] Shutting down background jobs, please wait a moment...\n",
      "[neptune] [info   ] Done!\n",
      "[neptune] [info   ] All 0 operations synced, thanks for waiting!\n",
      "[neptune] [info   ] Explore the metadata in the Neptune app: https://app.neptune.ai/revivemed/Survival-RCC/metadata\n",
      "[neptune] [info   ] Neptune initialized. Open in the app: https://app.neptune.ai/revivemed/Survival-RCC/e/SUR-2711\n",
      "eval_params_list [{'y_col_name': 'NIVO OS', 'y_head': 'NIVO OS', 'y_cols': ['NIVO OS', 'OS_Event']}, {'y_col_name': 'NIVO OS', 'y_head': 'EVER OS', 'y_cols': ['NIVO OS', 'OS_Event']}, {'y_col_name': 'NIVO OS', 'y_head': 'Both OS', 'y_cols': ['NIVO OS', 'OS_Event']}, {'y_col_name': 'EVER OS', 'y_head': 'NIVO OS', 'y_cols': ['EVER OS', 'OS_Event']}, {'y_col_name': 'EVER OS', 'y_head': 'EVER OS', 'y_cols': ['EVER OS', 'OS_Event']}, {'y_col_name': 'EVER OS', 'y_head': 'Both OS', 'y_cols': ['EVER OS', 'OS_Event']}, {'y_col_name': 'Both OS', 'y_head': 'EVER OS', 'y_cols': ['OS', 'OS_Event']}, {'y_col_name': 'Both OS', 'y_head': 'NIVO OS', 'y_cols': ['OS', 'OS_Event']}, {'y_col_name': 'Both OS', 'y_head': 'Both OS', 'y_cols': ['OS', 'OS_Event']}, {'y_col_name': 'NIVO PFS', 'y_head': 'NIVO PFS', 'y_cols': ['NIVO PFS', 'PFS_Event']}, {'y_col_name': 'NIVO PFS', 'y_head': 'EVER PFS', 'y_cols': ['NIVO PFS', 'PFS_Event']}, {'y_col_name': 'NIVO PFS', 'y_head': 'Both PFS', 'y_cols': ['NIVO PFS', 'PFS_Event']}, {'y_col_name': 'EVER PFS', 'y_head': 'NIVO PFS', 'y_cols': ['EVER PFS', 'PFS_Event']}, {'y_col_name': 'EVER PFS', 'y_head': 'EVER PFS', 'y_cols': ['EVER PFS', 'PFS_Event']}, {'y_col_name': 'EVER PFS', 'y_head': 'Both PFS', 'y_cols': ['EVER PFS', 'PFS_Event']}, {'y_col_name': 'Both PFS', 'y_head': 'EVER PFS', 'y_cols': ['PFS', 'PFS_Event']}, {'y_col_name': 'Both PFS', 'y_head': 'NIVO PFS', 'y_cols': ['PFS', 'PFS_Event']}, {'y_col_name': 'Both PFS', 'y_head': 'Both PFS', 'y_cols': ['PFS', 'PFS_Event']}, {'y_col_name': 'MSKCC BINARY', 'y_head': 'MSKCC', 'y_cols': ['MSKCC BINARY']}, {'y_col_name': 'IMDC BINARY', 'y_head': 'IMDC', 'y_cols': ['IMDC BINARY']}, {'y_col_name': 'MSKCC ORDINAL', 'y_head': 'MSKCC_Ordinal', 'y_cols': ['MSKCC ORDINAL']}, {'y_col_name': 'IMDC ORDINAL', 'y_head': 'IMDC_Ordinal', 'y_cols': ['IMDC ORDINAL']}, {'y_col_name': 'MSKCC ORDINAL', 'y_head': 'MSKCC_MultiClass', 'y_cols': ['MSKCC ORDINAL']}, {'y_col_name': 'IMDC ORDINAL', 'y_head': 'IMDC_MultiClass', 'y_cols': ['IMDC ORDINAL']}, {'y_col_name': 'Benefit BINARY', 'y_head': 'Benefit', 'y_cols': ['Benefit BINARY']}]\n",
      "Using Neptune\n",
      "Using Neptune\n",
      "Using Neptune\n",
      "Using Neptune\n",
      "Using Neptune\n",
      "Using Neptune\n",
      "Using Neptune\n",
      "Using Neptune\n",
      "Using Neptune\n",
      "Using Neptune\n",
      "Using Neptune\n",
      "Using Neptune\n",
      "Using Neptune\n",
      "Using Neptune\n",
      "Using Neptune\n",
      "Using Neptune\n",
      "Using Neptune\n",
      "Using Neptune\n",
      "Using Neptune\n",
      "Using Neptune\n",
      "[neptune] [info   ] Shutting down background jobs, please wait a moment...\n",
      "[neptune] [info   ] Done!\n",
      "[neptune] [info   ] Waiting for the remaining 35 operations to synchronize with Neptune. Do not kill this process.\n",
      "[neptune] [info   ] All 35 operations synced, thanks for waiting!\n",
      "[neptune] [info   ] Explore the metadata in the Neptune app: https://app.neptune.ai/revivemed/Survival-RCC/e/SUR-2711/metadata\n",
      "Getting the latest dataset\n",
      "[neptune] [info   ] Neptune initialized. Open in the app: https://app.neptune.ai/revivemed/Survival-RCC/\n",
      "[neptune] [info   ] Shutting down background jobs, please wait a moment...\n",
      "[neptune] [info   ] Done!\n",
      "[neptune] [info   ] All 0 operations synced, thanks for waiting!\n",
      "[neptune] [info   ] Explore the metadata in the Neptune app: https://app.neptune.ai/revivemed/Survival-RCC/metadata\n",
      "[neptune] [info   ] Neptune initialized. Open in the app: https://app.neptune.ai/revivemed/Survival-RCC/e/SUR-2664\n",
      "eval_params_list [{'y_col_name': 'NIVO OS', 'y_head': 'NIVO OS', 'y_cols': ['NIVO OS', 'OS_Event']}, {'y_col_name': 'NIVO OS', 'y_head': 'EVER OS', 'y_cols': ['NIVO OS', 'OS_Event']}, {'y_col_name': 'NIVO OS', 'y_head': 'Both OS', 'y_cols': ['NIVO OS', 'OS_Event']}, {'y_col_name': 'EVER OS', 'y_head': 'NIVO OS', 'y_cols': ['EVER OS', 'OS_Event']}, {'y_col_name': 'EVER OS', 'y_head': 'EVER OS', 'y_cols': ['EVER OS', 'OS_Event']}, {'y_col_name': 'EVER OS', 'y_head': 'Both OS', 'y_cols': ['EVER OS', 'OS_Event']}, {'y_col_name': 'Both OS', 'y_head': 'EVER OS', 'y_cols': ['OS', 'OS_Event']}, {'y_col_name': 'Both OS', 'y_head': 'NIVO OS', 'y_cols': ['OS', 'OS_Event']}, {'y_col_name': 'Both OS', 'y_head': 'Both OS', 'y_cols': ['OS', 'OS_Event']}, {'y_col_name': 'NIVO PFS', 'y_head': 'NIVO PFS', 'y_cols': ['NIVO PFS', 'PFS_Event']}, {'y_col_name': 'NIVO PFS', 'y_head': 'EVER PFS', 'y_cols': ['NIVO PFS', 'PFS_Event']}, {'y_col_name': 'NIVO PFS', 'y_head': 'Both PFS', 'y_cols': ['NIVO PFS', 'PFS_Event']}, {'y_col_name': 'EVER PFS', 'y_head': 'NIVO PFS', 'y_cols': ['EVER PFS', 'PFS_Event']}, {'y_col_name': 'EVER PFS', 'y_head': 'EVER PFS', 'y_cols': ['EVER PFS', 'PFS_Event']}, {'y_col_name': 'EVER PFS', 'y_head': 'Both PFS', 'y_cols': ['EVER PFS', 'PFS_Event']}, {'y_col_name': 'Both PFS', 'y_head': 'EVER PFS', 'y_cols': ['PFS', 'PFS_Event']}, {'y_col_name': 'Both PFS', 'y_head': 'NIVO PFS', 'y_cols': ['PFS', 'PFS_Event']}, {'y_col_name': 'Both PFS', 'y_head': 'Both PFS', 'y_cols': ['PFS', 'PFS_Event']}, {'y_col_name': 'MSKCC BINARY', 'y_head': 'MSKCC', 'y_cols': ['MSKCC BINARY']}, {'y_col_name': 'IMDC BINARY', 'y_head': 'IMDC', 'y_cols': ['IMDC BINARY']}, {'y_col_name': 'MSKCC ORDINAL', 'y_head': 'MSKCC_Ordinal', 'y_cols': ['MSKCC ORDINAL']}, {'y_col_name': 'IMDC ORDINAL', 'y_head': 'IMDC_Ordinal', 'y_cols': ['IMDC ORDINAL']}, {'y_col_name': 'MSKCC ORDINAL', 'y_head': 'MSKCC_MultiClass', 'y_cols': ['MSKCC ORDINAL']}, {'y_col_name': 'IMDC ORDINAL', 'y_head': 'IMDC_MultiClass', 'y_cols': ['IMDC ORDINAL']}, {'y_col_name': 'Benefit BINARY', 'y_head': 'Benefit', 'y_cols': ['Benefit BINARY']}]\n",
      "Using Neptune\n"
     ]
    },
    {
     "data": {
      "application/vnd.jupyter.widget-view+json": {
       "model_id": "0f7e05f33d3b4682acfebd6eea56e253",
       "version_major": 2,
       "version_minor": 0
      },
      "text/plain": [
       "Fetching file...: 0 [00:00, ?/s]"
      ]
     },
     "metadata": {},
     "output_type": "display_data"
    },
    {
     "name": "stdout",
     "output_type": "stream",
     "text": [
      "Using Neptune\n"
     ]
    },
    {
     "data": {
      "application/vnd.jupyter.widget-view+json": {
       "model_id": "7a0bbf36420e4a05a409532388e5ee3d",
       "version_major": 2,
       "version_minor": 0
      },
      "text/plain": [
       "Fetching file...: 0 [00:00, ?/s]"
      ]
     },
     "metadata": {},
     "output_type": "display_data"
    },
    {
     "name": "stdout",
     "output_type": "stream",
     "text": [
      "Using Neptune\n"
     ]
    },
    {
     "data": {
      "application/vnd.jupyter.widget-view+json": {
       "model_id": "77385fce4dd94ae28fe3117e3b7cb7f7",
       "version_major": 2,
       "version_minor": 0
      },
      "text/plain": [
       "Fetching file...: 0 [00:00, ?/s]"
      ]
     },
     "metadata": {},
     "output_type": "display_data"
    },
    {
     "name": "stdout",
     "output_type": "stream",
     "text": [
      "Using Neptune\n"
     ]
    },
    {
     "data": {
      "application/vnd.jupyter.widget-view+json": {
       "model_id": "acd4c9e6f0d647c8b9d27a88df803d58",
       "version_major": 2,
       "version_minor": 0
      },
      "text/plain": [
       "Fetching file...: 0 [00:00, ?/s]"
      ]
     },
     "metadata": {},
     "output_type": "display_data"
    },
    {
     "name": "stdout",
     "output_type": "stream",
     "text": [
      "Using Neptune\n"
     ]
    },
    {
     "data": {
      "application/vnd.jupyter.widget-view+json": {
       "model_id": "50efa10d54ff4445aeacdab24297c6c6",
       "version_major": 2,
       "version_minor": 0
      },
      "text/plain": [
       "Fetching file...: 0 [00:00, ?/s]"
      ]
     },
     "metadata": {},
     "output_type": "display_data"
    },
    {
     "name": "stdout",
     "output_type": "stream",
     "text": [
      "Using Neptune\n"
     ]
    },
    {
     "data": {
      "application/vnd.jupyter.widget-view+json": {
       "model_id": "f004148e0be64abca5382e2edf71b8a8",
       "version_major": 2,
       "version_minor": 0
      },
      "text/plain": [
       "Fetching file...: 0 [00:00, ?/s]"
      ]
     },
     "metadata": {},
     "output_type": "display_data"
    },
    {
     "name": "stdout",
     "output_type": "stream",
     "text": [
      "Using Neptune\n"
     ]
    },
    {
     "data": {
      "application/vnd.jupyter.widget-view+json": {
       "model_id": "a6bbeb30f21b4c439e261fee8f751600",
       "version_major": 2,
       "version_minor": 0
      },
      "text/plain": [
       "Fetching file...: 0 [00:00, ?/s]"
      ]
     },
     "metadata": {},
     "output_type": "display_data"
    },
    {
     "name": "stdout",
     "output_type": "stream",
     "text": [
      "Using Neptune\n"
     ]
    },
    {
     "data": {
      "application/vnd.jupyter.widget-view+json": {
       "model_id": "7880f37d3b6e401388105e251ac36271",
       "version_major": 2,
       "version_minor": 0
      },
      "text/plain": [
       "Fetching file...: 0 [00:00, ?/s]"
      ]
     },
     "metadata": {},
     "output_type": "display_data"
    },
    {
     "name": "stdout",
     "output_type": "stream",
     "text": [
      "Using Neptune\n"
     ]
    },
    {
     "data": {
      "application/vnd.jupyter.widget-view+json": {
       "model_id": "4dcd697ce1184566b36acb3a09effbb9",
       "version_major": 2,
       "version_minor": 0
      },
      "text/plain": [
       "Fetching file...: 0 [00:00, ?/s]"
      ]
     },
     "metadata": {},
     "output_type": "display_data"
    },
    {
     "name": "stdout",
     "output_type": "stream",
     "text": [
      "Using Neptune\n"
     ]
    },
    {
     "data": {
      "application/vnd.jupyter.widget-view+json": {
       "model_id": "0917c6147c514355b6b562c1dae1b5d6",
       "version_major": 2,
       "version_minor": 0
      },
      "text/plain": [
       "Fetching file...: 0 [00:00, ?/s]"
      ]
     },
     "metadata": {},
     "output_type": "display_data"
    },
    {
     "name": "stdout",
     "output_type": "stream",
     "text": [
      "Using Neptune\n"
     ]
    },
    {
     "data": {
      "application/vnd.jupyter.widget-view+json": {
       "model_id": "5033bb8002494a89bb46550458a61125",
       "version_major": 2,
       "version_minor": 0
      },
      "text/plain": [
       "Fetching file...: 0 [00:00, ?/s]"
      ]
     },
     "metadata": {},
     "output_type": "display_data"
    },
    {
     "name": "stdout",
     "output_type": "stream",
     "text": [
      "Using Neptune\n"
     ]
    },
    {
     "data": {
      "application/vnd.jupyter.widget-view+json": {
       "model_id": "17fa2d48297d4725a41e94bc3aaa33d3",
       "version_major": 2,
       "version_minor": 0
      },
      "text/plain": [
       "Fetching file...: 0 [00:00, ?/s]"
      ]
     },
     "metadata": {},
     "output_type": "display_data"
    },
    {
     "name": "stdout",
     "output_type": "stream",
     "text": [
      "Using Neptune\n"
     ]
    },
    {
     "data": {
      "application/vnd.jupyter.widget-view+json": {
       "model_id": "3449f48e958e489698359c6478e6267c",
       "version_major": 2,
       "version_minor": 0
      },
      "text/plain": [
       "Fetching file...: 0 [00:00, ?/s]"
      ]
     },
     "metadata": {},
     "output_type": "display_data"
    },
    {
     "name": "stdout",
     "output_type": "stream",
     "text": [
      "Using Neptune\n"
     ]
    },
    {
     "data": {
      "application/vnd.jupyter.widget-view+json": {
       "model_id": "21868b8b6ae6492bb6bc7377cfb4c1ca",
       "version_major": 2,
       "version_minor": 0
      },
      "text/plain": [
       "Fetching file...: 0 [00:00, ?/s]"
      ]
     },
     "metadata": {},
     "output_type": "display_data"
    },
    {
     "name": "stdout",
     "output_type": "stream",
     "text": [
      "Using Neptune\n"
     ]
    },
    {
     "data": {
      "application/vnd.jupyter.widget-view+json": {
       "model_id": "86db87e3942c4044ab642c9d46d17e68",
       "version_major": 2,
       "version_minor": 0
      },
      "text/plain": [
       "Fetching file...: 0 [00:00, ?/s]"
      ]
     },
     "metadata": {},
     "output_type": "display_data"
    },
    {
     "name": "stdout",
     "output_type": "stream",
     "text": [
      "Using Neptune\n"
     ]
    },
    {
     "data": {
      "application/vnd.jupyter.widget-view+json": {
       "model_id": "426a8abeb67f4790a9c6047948b29f18",
       "version_major": 2,
       "version_minor": 0
      },
      "text/plain": [
       "Fetching file...: 0 [00:00, ?/s]"
      ]
     },
     "metadata": {},
     "output_type": "display_data"
    },
    {
     "name": "stdout",
     "output_type": "stream",
     "text": [
      "Using Neptune\n"
     ]
    },
    {
     "data": {
      "application/vnd.jupyter.widget-view+json": {
       "model_id": "bf8db871ffb144bb82fada74b8100323",
       "version_major": 2,
       "version_minor": 0
      },
      "text/plain": [
       "Fetching file...: 0 [00:00, ?/s]"
      ]
     },
     "metadata": {},
     "output_type": "display_data"
    },
    {
     "name": "stdout",
     "output_type": "stream",
     "text": [
      "Using Neptune\n"
     ]
    },
    {
     "data": {
      "application/vnd.jupyter.widget-view+json": {
       "model_id": "d531a6fd7d224b09b8f49b709ea34c2a",
       "version_major": 2,
       "version_minor": 0
      },
      "text/plain": [
       "Fetching file...: 0 [00:00, ?/s]"
      ]
     },
     "metadata": {},
     "output_type": "display_data"
    },
    {
     "name": "stdout",
     "output_type": "stream",
     "text": [
      "Using Neptune\n"
     ]
    },
    {
     "data": {
      "application/vnd.jupyter.widget-view+json": {
       "model_id": "f60925de177944099d233a4c8032b715",
       "version_major": 2,
       "version_minor": 0
      },
      "text/plain": [
       "Fetching file...: 0 [00:00, ?/s]"
      ]
     },
     "metadata": {},
     "output_type": "display_data"
    },
    {
     "name": "stdout",
     "output_type": "stream",
     "text": [
      "Using Neptune\n"
     ]
    },
    {
     "data": {
      "application/vnd.jupyter.widget-view+json": {
       "model_id": "3af1cfcc39b34c528e33dbacf44770d0",
       "version_major": 2,
       "version_minor": 0
      },
      "text/plain": [
       "Fetching file...: 0 [00:00, ?/s]"
      ]
     },
     "metadata": {},
     "output_type": "display_data"
    },
    {
     "name": "stdout",
     "output_type": "stream",
     "text": [
      "[neptune] [info   ] Shutting down background jobs, please wait a moment...\n",
      "[neptune] [info   ] Done!\n",
      "[neptune] [info   ] Waiting for the remaining 35 operations to synchronize with Neptune. Do not kill this process.\n",
      "[neptune] [info   ] All 35 operations synced, thanks for waiting!\n",
      "[neptune] [info   ] Explore the metadata in the Neptune app: https://app.neptune.ai/revivemed/Survival-RCC/e/SUR-2664/metadata\n",
      "Getting the latest dataset\n",
      "[neptune] [info   ] Neptune initialized. Open in the app: https://app.neptune.ai/revivemed/Survival-RCC/\n",
      "[neptune] [info   ] Shutting down background jobs, please wait a moment...\n",
      "[neptune] [info   ] Done!\n",
      "[neptune] [info   ] All 0 operations synced, thanks for waiting!\n",
      "[neptune] [info   ] Explore the metadata in the Neptune app: https://app.neptune.ai/revivemed/Survival-RCC/metadata\n",
      "[neptune] [info   ] Neptune initialized. Open in the app: https://app.neptune.ai/revivemed/Survival-RCC/e/SUR-2695\n",
      "eval_params_list [{'y_col_name': 'NIVO OS', 'y_head': 'NIVO OS', 'y_cols': ['NIVO OS', 'OS_Event']}, {'y_col_name': 'NIVO OS', 'y_head': 'EVER OS', 'y_cols': ['NIVO OS', 'OS_Event']}, {'y_col_name': 'NIVO OS', 'y_head': 'Both OS', 'y_cols': ['NIVO OS', 'OS_Event']}, {'y_col_name': 'EVER OS', 'y_head': 'NIVO OS', 'y_cols': ['EVER OS', 'OS_Event']}, {'y_col_name': 'EVER OS', 'y_head': 'EVER OS', 'y_cols': ['EVER OS', 'OS_Event']}, {'y_col_name': 'EVER OS', 'y_head': 'Both OS', 'y_cols': ['EVER OS', 'OS_Event']}, {'y_col_name': 'Both OS', 'y_head': 'EVER OS', 'y_cols': ['OS', 'OS_Event']}, {'y_col_name': 'Both OS', 'y_head': 'NIVO OS', 'y_cols': ['OS', 'OS_Event']}, {'y_col_name': 'Both OS', 'y_head': 'Both OS', 'y_cols': ['OS', 'OS_Event']}, {'y_col_name': 'NIVO PFS', 'y_head': 'NIVO PFS', 'y_cols': ['NIVO PFS', 'PFS_Event']}, {'y_col_name': 'NIVO PFS', 'y_head': 'EVER PFS', 'y_cols': ['NIVO PFS', 'PFS_Event']}, {'y_col_name': 'NIVO PFS', 'y_head': 'Both PFS', 'y_cols': ['NIVO PFS', 'PFS_Event']}, {'y_col_name': 'EVER PFS', 'y_head': 'NIVO PFS', 'y_cols': ['EVER PFS', 'PFS_Event']}, {'y_col_name': 'EVER PFS', 'y_head': 'EVER PFS', 'y_cols': ['EVER PFS', 'PFS_Event']}, {'y_col_name': 'EVER PFS', 'y_head': 'Both PFS', 'y_cols': ['EVER PFS', 'PFS_Event']}, {'y_col_name': 'Both PFS', 'y_head': 'EVER PFS', 'y_cols': ['PFS', 'PFS_Event']}, {'y_col_name': 'Both PFS', 'y_head': 'NIVO PFS', 'y_cols': ['PFS', 'PFS_Event']}, {'y_col_name': 'Both PFS', 'y_head': 'Both PFS', 'y_cols': ['PFS', 'PFS_Event']}, {'y_col_name': 'MSKCC BINARY', 'y_head': 'MSKCC', 'y_cols': ['MSKCC BINARY']}, {'y_col_name': 'IMDC BINARY', 'y_head': 'IMDC', 'y_cols': ['IMDC BINARY']}, {'y_col_name': 'MSKCC ORDINAL', 'y_head': 'MSKCC_Ordinal', 'y_cols': ['MSKCC ORDINAL']}, {'y_col_name': 'IMDC ORDINAL', 'y_head': 'IMDC_Ordinal', 'y_cols': ['IMDC ORDINAL']}, {'y_col_name': 'MSKCC ORDINAL', 'y_head': 'MSKCC_MultiClass', 'y_cols': ['MSKCC ORDINAL']}, {'y_col_name': 'IMDC ORDINAL', 'y_head': 'IMDC_MultiClass', 'y_cols': ['IMDC ORDINAL']}, {'y_col_name': 'Benefit BINARY', 'y_head': 'Benefit', 'y_cols': ['Benefit BINARY']}]\n",
      "Using Neptune\n",
      "Using Neptune\n",
      "Using Neptune\n",
      "Using Neptune\n",
      "Using Neptune\n",
      "Using Neptune\n",
      "Using Neptune\n",
      "Using Neptune\n",
      "Using Neptune\n",
      "Using Neptune\n",
      "Using Neptune\n",
      "Using Neptune\n",
      "Using Neptune\n",
      "Using Neptune\n",
      "Using Neptune\n",
      "Using Neptune\n",
      "Using Neptune\n",
      "Using Neptune\n",
      "Using Neptune\n",
      "Using Neptune\n",
      "[neptune] [info   ] Shutting down background jobs, please wait a moment...\n",
      "[neptune] [info   ] Done!\n",
      "[neptune] [info   ] Waiting for the remaining 35 operations to synchronize with Neptune. Do not kill this process.\n",
      "[neptune] [info   ] All 35 operations synced, thanks for waiting!\n",
      "[neptune] [info   ] Explore the metadata in the Neptune app: https://app.neptune.ai/revivemed/Survival-RCC/e/SUR-2695/metadata\n",
      "Getting the latest dataset\n",
      "[neptune] [info   ] Neptune initialized. Open in the app: https://app.neptune.ai/revivemed/Survival-RCC/\n",
      "[neptune] [info   ] Shutting down background jobs, please wait a moment...\n",
      "[neptune] [info   ] Done!\n",
      "[neptune] [info   ] All 0 operations synced, thanks for waiting!\n",
      "[neptune] [info   ] Explore the metadata in the Neptune app: https://app.neptune.ai/revivemed/Survival-RCC/metadata\n",
      "[neptune] [info   ] Neptune initialized. Open in the app: https://app.neptune.ai/revivemed/Survival-RCC/e/SUR-2728\n",
      "eval_params_list [{'y_col_name': 'NIVO OS', 'y_head': 'NIVO OS', 'y_cols': ['NIVO OS', 'OS_Event']}, {'y_col_name': 'NIVO OS', 'y_head': 'EVER OS', 'y_cols': ['NIVO OS', 'OS_Event']}, {'y_col_name': 'NIVO OS', 'y_head': 'Both OS', 'y_cols': ['NIVO OS', 'OS_Event']}, {'y_col_name': 'EVER OS', 'y_head': 'NIVO OS', 'y_cols': ['EVER OS', 'OS_Event']}, {'y_col_name': 'EVER OS', 'y_head': 'EVER OS', 'y_cols': ['EVER OS', 'OS_Event']}, {'y_col_name': 'EVER OS', 'y_head': 'Both OS', 'y_cols': ['EVER OS', 'OS_Event']}, {'y_col_name': 'Both OS', 'y_head': 'EVER OS', 'y_cols': ['OS', 'OS_Event']}, {'y_col_name': 'Both OS', 'y_head': 'NIVO OS', 'y_cols': ['OS', 'OS_Event']}, {'y_col_name': 'Both OS', 'y_head': 'Both OS', 'y_cols': ['OS', 'OS_Event']}, {'y_col_name': 'NIVO PFS', 'y_head': 'NIVO PFS', 'y_cols': ['NIVO PFS', 'PFS_Event']}, {'y_col_name': 'NIVO PFS', 'y_head': 'EVER PFS', 'y_cols': ['NIVO PFS', 'PFS_Event']}, {'y_col_name': 'NIVO PFS', 'y_head': 'Both PFS', 'y_cols': ['NIVO PFS', 'PFS_Event']}, {'y_col_name': 'EVER PFS', 'y_head': 'NIVO PFS', 'y_cols': ['EVER PFS', 'PFS_Event']}, {'y_col_name': 'EVER PFS', 'y_head': 'EVER PFS', 'y_cols': ['EVER PFS', 'PFS_Event']}, {'y_col_name': 'EVER PFS', 'y_head': 'Both PFS', 'y_cols': ['EVER PFS', 'PFS_Event']}, {'y_col_name': 'Both PFS', 'y_head': 'EVER PFS', 'y_cols': ['PFS', 'PFS_Event']}, {'y_col_name': 'Both PFS', 'y_head': 'NIVO PFS', 'y_cols': ['PFS', 'PFS_Event']}, {'y_col_name': 'Both PFS', 'y_head': 'Both PFS', 'y_cols': ['PFS', 'PFS_Event']}, {'y_col_name': 'MSKCC BINARY', 'y_head': 'MSKCC', 'y_cols': ['MSKCC BINARY']}, {'y_col_name': 'IMDC BINARY', 'y_head': 'IMDC', 'y_cols': ['IMDC BINARY']}, {'y_col_name': 'MSKCC ORDINAL', 'y_head': 'MSKCC_Ordinal', 'y_cols': ['MSKCC ORDINAL']}, {'y_col_name': 'IMDC ORDINAL', 'y_head': 'IMDC_Ordinal', 'y_cols': ['IMDC ORDINAL']}, {'y_col_name': 'MSKCC ORDINAL', 'y_head': 'MSKCC_MultiClass', 'y_cols': ['MSKCC ORDINAL']}, {'y_col_name': 'IMDC ORDINAL', 'y_head': 'IMDC_MultiClass', 'y_cols': ['IMDC ORDINAL']}, {'y_col_name': 'Benefit BINARY', 'y_head': 'Benefit', 'y_cols': ['Benefit BINARY']}]\n",
      "Using Neptune\n"
     ]
    },
    {
     "data": {
      "application/vnd.jupyter.widget-view+json": {
       "model_id": "0cc7b1f2a2b04fa198745d7fac8e7054",
       "version_major": 2,
       "version_minor": 0
      },
      "text/plain": [
       "Fetching file...: 0 [00:00, ?/s]"
      ]
     },
     "metadata": {},
     "output_type": "display_data"
    },
    {
     "name": "stdout",
     "output_type": "stream",
     "text": [
      "Using Neptune\n"
     ]
    },
    {
     "data": {
      "application/vnd.jupyter.widget-view+json": {
       "model_id": "a0f75784880049d5a7d64931c8bbfed9",
       "version_major": 2,
       "version_minor": 0
      },
      "text/plain": [
       "Fetching file...: 0 [00:00, ?/s]"
      ]
     },
     "metadata": {},
     "output_type": "display_data"
    },
    {
     "name": "stdout",
     "output_type": "stream",
     "text": [
      "Using Neptune\n"
     ]
    },
    {
     "data": {
      "application/vnd.jupyter.widget-view+json": {
       "model_id": "712a1f82940d4d808b68c3f10b50590a",
       "version_major": 2,
       "version_minor": 0
      },
      "text/plain": [
       "Fetching file...: 0 [00:00, ?/s]"
      ]
     },
     "metadata": {},
     "output_type": "display_data"
    },
    {
     "name": "stdout",
     "output_type": "stream",
     "text": [
      "Using Neptune\n"
     ]
    },
    {
     "data": {
      "application/vnd.jupyter.widget-view+json": {
       "model_id": "0a6b53f5ae994ca2b7cfc84890fa055b",
       "version_major": 2,
       "version_minor": 0
      },
      "text/plain": [
       "Fetching file...: 0 [00:00, ?/s]"
      ]
     },
     "metadata": {},
     "output_type": "display_data"
    },
    {
     "name": "stdout",
     "output_type": "stream",
     "text": [
      "Using Neptune\n"
     ]
    },
    {
     "data": {
      "application/vnd.jupyter.widget-view+json": {
       "model_id": "ba039503ca854b66b275b11039aafa03",
       "version_major": 2,
       "version_minor": 0
      },
      "text/plain": [
       "Fetching file...: 0 [00:00, ?/s]"
      ]
     },
     "metadata": {},
     "output_type": "display_data"
    },
    {
     "name": "stdout",
     "output_type": "stream",
     "text": [
      "Using Neptune\n"
     ]
    },
    {
     "data": {
      "application/vnd.jupyter.widget-view+json": {
       "model_id": "6f7c79c7029a4182a967cafae6512a3a",
       "version_major": 2,
       "version_minor": 0
      },
      "text/plain": [
       "Fetching file...: 0 [00:00, ?/s]"
      ]
     },
     "metadata": {},
     "output_type": "display_data"
    },
    {
     "name": "stdout",
     "output_type": "stream",
     "text": [
      "Using Neptune\n"
     ]
    },
    {
     "data": {
      "application/vnd.jupyter.widget-view+json": {
       "model_id": "e92336f178bb4b91addf41c26106e83f",
       "version_major": 2,
       "version_minor": 0
      },
      "text/plain": [
       "Fetching file...: 0 [00:00, ?/s]"
      ]
     },
     "metadata": {},
     "output_type": "display_data"
    },
    {
     "name": "stdout",
     "output_type": "stream",
     "text": [
      "Using Neptune\n"
     ]
    },
    {
     "data": {
      "application/vnd.jupyter.widget-view+json": {
       "model_id": "e7bcb36eaf7a497cb16779a3af43edc5",
       "version_major": 2,
       "version_minor": 0
      },
      "text/plain": [
       "Fetching file...: 0 [00:00, ?/s]"
      ]
     },
     "metadata": {},
     "output_type": "display_data"
    },
    {
     "name": "stdout",
     "output_type": "stream",
     "text": [
      "Using Neptune\n"
     ]
    },
    {
     "data": {
      "application/vnd.jupyter.widget-view+json": {
       "model_id": "1ad6a8bcdc4543f9aa360415852cbe9c",
       "version_major": 2,
       "version_minor": 0
      },
      "text/plain": [
       "Fetching file...: 0 [00:00, ?/s]"
      ]
     },
     "metadata": {},
     "output_type": "display_data"
    },
    {
     "name": "stdout",
     "output_type": "stream",
     "text": [
      "Using Neptune\n"
     ]
    },
    {
     "data": {
      "application/vnd.jupyter.widget-view+json": {
       "model_id": "04f5dc956c694dddac5a689e54b40b34",
       "version_major": 2,
       "version_minor": 0
      },
      "text/plain": [
       "Fetching file...: 0 [00:00, ?/s]"
      ]
     },
     "metadata": {},
     "output_type": "display_data"
    },
    {
     "name": "stdout",
     "output_type": "stream",
     "text": [
      "Using Neptune\n"
     ]
    },
    {
     "data": {
      "application/vnd.jupyter.widget-view+json": {
       "model_id": "c2fa90d842c246f4b3ddea7193d1179d",
       "version_major": 2,
       "version_minor": 0
      },
      "text/plain": [
       "Fetching file...: 0 [00:00, ?/s]"
      ]
     },
     "metadata": {},
     "output_type": "display_data"
    },
    {
     "name": "stdout",
     "output_type": "stream",
     "text": [
      "Using Neptune\n"
     ]
    },
    {
     "data": {
      "application/vnd.jupyter.widget-view+json": {
       "model_id": "3f7a3396670444669df8e8c84e68ce11",
       "version_major": 2,
       "version_minor": 0
      },
      "text/plain": [
       "Fetching file...: 0 [00:00, ?/s]"
      ]
     },
     "metadata": {},
     "output_type": "display_data"
    },
    {
     "name": "stdout",
     "output_type": "stream",
     "text": [
      "Using Neptune\n"
     ]
    },
    {
     "data": {
      "application/vnd.jupyter.widget-view+json": {
       "model_id": "99e6d9792a9347caa7519eab1e947330",
       "version_major": 2,
       "version_minor": 0
      },
      "text/plain": [
       "Fetching file...: 0 [00:00, ?/s]"
      ]
     },
     "metadata": {},
     "output_type": "display_data"
    },
    {
     "name": "stdout",
     "output_type": "stream",
     "text": [
      "Using Neptune\n"
     ]
    },
    {
     "data": {
      "application/vnd.jupyter.widget-view+json": {
       "model_id": "d3e71a2f877443379dc3ffd6ed1926dd",
       "version_major": 2,
       "version_minor": 0
      },
      "text/plain": [
       "Fetching file...: 0 [00:00, ?/s]"
      ]
     },
     "metadata": {},
     "output_type": "display_data"
    },
    {
     "name": "stdout",
     "output_type": "stream",
     "text": [
      "Using Neptune\n"
     ]
    },
    {
     "data": {
      "application/vnd.jupyter.widget-view+json": {
       "model_id": "bffc0cae28d64015a9fde2f128fc2756",
       "version_major": 2,
       "version_minor": 0
      },
      "text/plain": [
       "Fetching file...: 0 [00:00, ?/s]"
      ]
     },
     "metadata": {},
     "output_type": "display_data"
    },
    {
     "name": "stdout",
     "output_type": "stream",
     "text": [
      "Using Neptune\n"
     ]
    },
    {
     "data": {
      "application/vnd.jupyter.widget-view+json": {
       "model_id": "8d841251dd5744af9d675658cafae645",
       "version_major": 2,
       "version_minor": 0
      },
      "text/plain": [
       "Fetching file...: 0 [00:00, ?/s]"
      ]
     },
     "metadata": {},
     "output_type": "display_data"
    },
    {
     "name": "stdout",
     "output_type": "stream",
     "text": [
      "Using Neptune\n"
     ]
    },
    {
     "data": {
      "application/vnd.jupyter.widget-view+json": {
       "model_id": "3e6711b9a5ac4be9b3ab6f2cac07ea5a",
       "version_major": 2,
       "version_minor": 0
      },
      "text/plain": [
       "Fetching file...: 0 [00:00, ?/s]"
      ]
     },
     "metadata": {},
     "output_type": "display_data"
    },
    {
     "name": "stdout",
     "output_type": "stream",
     "text": [
      "Using Neptune\n"
     ]
    },
    {
     "data": {
      "application/vnd.jupyter.widget-view+json": {
       "model_id": "a093a8cabcd44b78973095eb728049d4",
       "version_major": 2,
       "version_minor": 0
      },
      "text/plain": [
       "Fetching file...: 0 [00:00, ?/s]"
      ]
     },
     "metadata": {},
     "output_type": "display_data"
    },
    {
     "name": "stdout",
     "output_type": "stream",
     "text": [
      "Using Neptune\n"
     ]
    },
    {
     "data": {
      "application/vnd.jupyter.widget-view+json": {
       "model_id": "bdb5359c16e845d695baea87fabb8e34",
       "version_major": 2,
       "version_minor": 0
      },
      "text/plain": [
       "Fetching file...: 0 [00:00, ?/s]"
      ]
     },
     "metadata": {},
     "output_type": "display_data"
    },
    {
     "name": "stdout",
     "output_type": "stream",
     "text": [
      "Using Neptune\n"
     ]
    },
    {
     "data": {
      "application/vnd.jupyter.widget-view+json": {
       "model_id": "3796166baec6427f9ecfab4a0c9c0e84",
       "version_major": 2,
       "version_minor": 0
      },
      "text/plain": [
       "Fetching file...: 0 [00:00, ?/s]"
      ]
     },
     "metadata": {},
     "output_type": "display_data"
    },
    {
     "name": "stdout",
     "output_type": "stream",
     "text": [
      "[neptune] [info   ] Shutting down background jobs, please wait a moment...\n",
      "[neptune] [info   ] Done!\n",
      "[neptune] [info   ] Waiting for the remaining 35 operations to synchronize with Neptune. Do not kill this process.\n",
      "[neptune] [info   ] All 35 operations synced, thanks for waiting!\n",
      "[neptune] [info   ] Explore the metadata in the Neptune app: https://app.neptune.ai/revivemed/Survival-RCC/e/SUR-2728/metadata\n",
      "Getting the latest dataset\n",
      "[neptune] [info   ] Neptune initialized. Open in the app: https://app.neptune.ai/revivemed/Survival-RCC/\n",
      "[neptune] [info   ] Shutting down background jobs, please wait a moment...\n",
      "[neptune] [info   ] Done!\n",
      "[neptune] [info   ] All 0 operations synced, thanks for waiting!\n",
      "[neptune] [info   ] Explore the metadata in the Neptune app: https://app.neptune.ai/revivemed/Survival-RCC/metadata\n",
      "[neptune] [info   ] Neptune initialized. Open in the app: https://app.neptune.ai/revivemed/Survival-RCC/e/SUR-2712\n",
      "eval_params_list [{'y_col_name': 'NIVO OS', 'y_head': 'NIVO OS', 'y_cols': ['NIVO OS', 'OS_Event']}, {'y_col_name': 'NIVO OS', 'y_head': 'EVER OS', 'y_cols': ['NIVO OS', 'OS_Event']}, {'y_col_name': 'NIVO OS', 'y_head': 'Both OS', 'y_cols': ['NIVO OS', 'OS_Event']}, {'y_col_name': 'EVER OS', 'y_head': 'NIVO OS', 'y_cols': ['EVER OS', 'OS_Event']}, {'y_col_name': 'EVER OS', 'y_head': 'EVER OS', 'y_cols': ['EVER OS', 'OS_Event']}, {'y_col_name': 'EVER OS', 'y_head': 'Both OS', 'y_cols': ['EVER OS', 'OS_Event']}, {'y_col_name': 'Both OS', 'y_head': 'EVER OS', 'y_cols': ['OS', 'OS_Event']}, {'y_col_name': 'Both OS', 'y_head': 'NIVO OS', 'y_cols': ['OS', 'OS_Event']}, {'y_col_name': 'Both OS', 'y_head': 'Both OS', 'y_cols': ['OS', 'OS_Event']}, {'y_col_name': 'NIVO PFS', 'y_head': 'NIVO PFS', 'y_cols': ['NIVO PFS', 'PFS_Event']}, {'y_col_name': 'NIVO PFS', 'y_head': 'EVER PFS', 'y_cols': ['NIVO PFS', 'PFS_Event']}, {'y_col_name': 'NIVO PFS', 'y_head': 'Both PFS', 'y_cols': ['NIVO PFS', 'PFS_Event']}, {'y_col_name': 'EVER PFS', 'y_head': 'NIVO PFS', 'y_cols': ['EVER PFS', 'PFS_Event']}, {'y_col_name': 'EVER PFS', 'y_head': 'EVER PFS', 'y_cols': ['EVER PFS', 'PFS_Event']}, {'y_col_name': 'EVER PFS', 'y_head': 'Both PFS', 'y_cols': ['EVER PFS', 'PFS_Event']}, {'y_col_name': 'Both PFS', 'y_head': 'EVER PFS', 'y_cols': ['PFS', 'PFS_Event']}, {'y_col_name': 'Both PFS', 'y_head': 'NIVO PFS', 'y_cols': ['PFS', 'PFS_Event']}, {'y_col_name': 'Both PFS', 'y_head': 'Both PFS', 'y_cols': ['PFS', 'PFS_Event']}, {'y_col_name': 'MSKCC BINARY', 'y_head': 'MSKCC', 'y_cols': ['MSKCC BINARY']}, {'y_col_name': 'IMDC BINARY', 'y_head': 'IMDC', 'y_cols': ['IMDC BINARY']}, {'y_col_name': 'MSKCC ORDINAL', 'y_head': 'MSKCC_Ordinal', 'y_cols': ['MSKCC ORDINAL']}, {'y_col_name': 'IMDC ORDINAL', 'y_head': 'IMDC_Ordinal', 'y_cols': ['IMDC ORDINAL']}, {'y_col_name': 'MSKCC ORDINAL', 'y_head': 'MSKCC_MultiClass', 'y_cols': ['MSKCC ORDINAL']}, {'y_col_name': 'IMDC ORDINAL', 'y_head': 'IMDC_MultiClass', 'y_cols': ['IMDC ORDINAL']}, {'y_col_name': 'Benefit BINARY', 'y_head': 'Benefit', 'y_cols': ['Benefit BINARY']}]\n",
      "Using Neptune\n",
      "Using Neptune\n",
      "Using Neptune\n",
      "Using Neptune\n",
      "Using Neptune\n",
      "Using Neptune\n",
      "Using Neptune\n",
      "Using Neptune\n",
      "Using Neptune\n",
      "Using Neptune\n",
      "Using Neptune\n",
      "Using Neptune\n",
      "Using Neptune\n",
      "Using Neptune\n",
      "Using Neptune\n",
      "Using Neptune\n",
      "Using Neptune\n",
      "Using Neptune\n",
      "Using Neptune\n",
      "Using Neptune\n",
      "[neptune] [info   ] Shutting down background jobs, please wait a moment...\n",
      "[neptune] [info   ] Done!\n",
      "[neptune] [info   ] Waiting for the remaining 35 operations to synchronize with Neptune. Do not kill this process.\n",
      "[neptune] [info   ] All 35 operations synced, thanks for waiting!\n",
      "[neptune] [info   ] Explore the metadata in the Neptune app: https://app.neptune.ai/revivemed/Survival-RCC/e/SUR-2712/metadata\n",
      "Getting the latest dataset\n",
      "[neptune] [info   ] Neptune initialized. Open in the app: https://app.neptune.ai/revivemed/Survival-RCC/\n",
      "[neptune] [info   ] Shutting down background jobs, please wait a moment...\n",
      "[neptune] [info   ] Done!\n",
      "[neptune] [info   ] All 0 operations synced, thanks for waiting!\n",
      "[neptune] [info   ] Explore the metadata in the Neptune app: https://app.neptune.ai/revivemed/Survival-RCC/metadata\n",
      "[neptune] [info   ] Neptune initialized. Open in the app: https://app.neptune.ai/revivemed/Survival-RCC/e/SUR-2648\n",
      "eval_params_list [{'y_col_name': 'NIVO OS', 'y_head': 'NIVO OS', 'y_cols': ['NIVO OS', 'OS_Event']}, {'y_col_name': 'NIVO OS', 'y_head': 'EVER OS', 'y_cols': ['NIVO OS', 'OS_Event']}, {'y_col_name': 'NIVO OS', 'y_head': 'Both OS', 'y_cols': ['NIVO OS', 'OS_Event']}, {'y_col_name': 'EVER OS', 'y_head': 'NIVO OS', 'y_cols': ['EVER OS', 'OS_Event']}, {'y_col_name': 'EVER OS', 'y_head': 'EVER OS', 'y_cols': ['EVER OS', 'OS_Event']}, {'y_col_name': 'EVER OS', 'y_head': 'Both OS', 'y_cols': ['EVER OS', 'OS_Event']}, {'y_col_name': 'Both OS', 'y_head': 'EVER OS', 'y_cols': ['OS', 'OS_Event']}, {'y_col_name': 'Both OS', 'y_head': 'NIVO OS', 'y_cols': ['OS', 'OS_Event']}, {'y_col_name': 'Both OS', 'y_head': 'Both OS', 'y_cols': ['OS', 'OS_Event']}, {'y_col_name': 'NIVO PFS', 'y_head': 'NIVO PFS', 'y_cols': ['NIVO PFS', 'PFS_Event']}, {'y_col_name': 'NIVO PFS', 'y_head': 'EVER PFS', 'y_cols': ['NIVO PFS', 'PFS_Event']}, {'y_col_name': 'NIVO PFS', 'y_head': 'Both PFS', 'y_cols': ['NIVO PFS', 'PFS_Event']}, {'y_col_name': 'EVER PFS', 'y_head': 'NIVO PFS', 'y_cols': ['EVER PFS', 'PFS_Event']}, {'y_col_name': 'EVER PFS', 'y_head': 'EVER PFS', 'y_cols': ['EVER PFS', 'PFS_Event']}, {'y_col_name': 'EVER PFS', 'y_head': 'Both PFS', 'y_cols': ['EVER PFS', 'PFS_Event']}, {'y_col_name': 'Both PFS', 'y_head': 'EVER PFS', 'y_cols': ['PFS', 'PFS_Event']}, {'y_col_name': 'Both PFS', 'y_head': 'NIVO PFS', 'y_cols': ['PFS', 'PFS_Event']}, {'y_col_name': 'Both PFS', 'y_head': 'Both PFS', 'y_cols': ['PFS', 'PFS_Event']}, {'y_col_name': 'MSKCC BINARY', 'y_head': 'MSKCC', 'y_cols': ['MSKCC BINARY']}, {'y_col_name': 'IMDC BINARY', 'y_head': 'IMDC', 'y_cols': ['IMDC BINARY']}, {'y_col_name': 'MSKCC ORDINAL', 'y_head': 'MSKCC_Ordinal', 'y_cols': ['MSKCC ORDINAL']}, {'y_col_name': 'IMDC ORDINAL', 'y_head': 'IMDC_Ordinal', 'y_cols': ['IMDC ORDINAL']}, {'y_col_name': 'MSKCC ORDINAL', 'y_head': 'MSKCC_MultiClass', 'y_cols': ['MSKCC ORDINAL']}, {'y_col_name': 'IMDC ORDINAL', 'y_head': 'IMDC_MultiClass', 'y_cols': ['IMDC ORDINAL']}, {'y_col_name': 'Benefit BINARY', 'y_head': 'Benefit', 'y_cols': ['Benefit BINARY']}]\n",
      "Using Neptune\n"
     ]
    },
    {
     "data": {
      "application/vnd.jupyter.widget-view+json": {
       "model_id": "8e2c0af33ad04961ba133739a96fff63",
       "version_major": 2,
       "version_minor": 0
      },
      "text/plain": [
       "Fetching file...: 0 [00:00, ?/s]"
      ]
     },
     "metadata": {},
     "output_type": "display_data"
    },
    {
     "name": "stdout",
     "output_type": "stream",
     "text": [
      "Using Neptune\n"
     ]
    },
    {
     "data": {
      "application/vnd.jupyter.widget-view+json": {
       "model_id": "c908f242b7724a8ab761b89da5c31bdd",
       "version_major": 2,
       "version_minor": 0
      },
      "text/plain": [
       "Fetching file...: 0 [00:00, ?/s]"
      ]
     },
     "metadata": {},
     "output_type": "display_data"
    },
    {
     "name": "stdout",
     "output_type": "stream",
     "text": [
      "Using Neptune\n"
     ]
    },
    {
     "data": {
      "application/vnd.jupyter.widget-view+json": {
       "model_id": "756d52898f77448c917f3300ee57a072",
       "version_major": 2,
       "version_minor": 0
      },
      "text/plain": [
       "Fetching file...: 0 [00:00, ?/s]"
      ]
     },
     "metadata": {},
     "output_type": "display_data"
    },
    {
     "name": "stdout",
     "output_type": "stream",
     "text": [
      "Using Neptune\n"
     ]
    },
    {
     "data": {
      "application/vnd.jupyter.widget-view+json": {
       "model_id": "62aaa328edab4722a19a002f464393c1",
       "version_major": 2,
       "version_minor": 0
      },
      "text/plain": [
       "Fetching file...: 0 [00:00, ?/s]"
      ]
     },
     "metadata": {},
     "output_type": "display_data"
    },
    {
     "name": "stdout",
     "output_type": "stream",
     "text": [
      "Using Neptune\n"
     ]
    },
    {
     "data": {
      "application/vnd.jupyter.widget-view+json": {
       "model_id": "7783d4ec9d314798b7b1489ba4f148ee",
       "version_major": 2,
       "version_minor": 0
      },
      "text/plain": [
       "Fetching file...: 0 [00:00, ?/s]"
      ]
     },
     "metadata": {},
     "output_type": "display_data"
    },
    {
     "name": "stdout",
     "output_type": "stream",
     "text": [
      "Using Neptune\n"
     ]
    },
    {
     "data": {
      "application/vnd.jupyter.widget-view+json": {
       "model_id": "2a8d2ee5a76941e59a33c908cc72e0d0",
       "version_major": 2,
       "version_minor": 0
      },
      "text/plain": [
       "Fetching file...: 0 [00:00, ?/s]"
      ]
     },
     "metadata": {},
     "output_type": "display_data"
    },
    {
     "name": "stdout",
     "output_type": "stream",
     "text": [
      "Using Neptune\n"
     ]
    },
    {
     "data": {
      "application/vnd.jupyter.widget-view+json": {
       "model_id": "565cabb627524a4abebf323a02eb3502",
       "version_major": 2,
       "version_minor": 0
      },
      "text/plain": [
       "Fetching file...: 0 [00:00, ?/s]"
      ]
     },
     "metadata": {},
     "output_type": "display_data"
    },
    {
     "name": "stdout",
     "output_type": "stream",
     "text": [
      "Using Neptune\n"
     ]
    },
    {
     "data": {
      "application/vnd.jupyter.widget-view+json": {
       "model_id": "d306e55e6a274ba88180743b03bbc6ed",
       "version_major": 2,
       "version_minor": 0
      },
      "text/plain": [
       "Fetching file...: 0 [00:00, ?/s]"
      ]
     },
     "metadata": {},
     "output_type": "display_data"
    },
    {
     "name": "stdout",
     "output_type": "stream",
     "text": [
      "Using Neptune\n"
     ]
    },
    {
     "data": {
      "application/vnd.jupyter.widget-view+json": {
       "model_id": "9819ac0d638a433e8717cd43cd03eec5",
       "version_major": 2,
       "version_minor": 0
      },
      "text/plain": [
       "Fetching file...: 0 [00:00, ?/s]"
      ]
     },
     "metadata": {},
     "output_type": "display_data"
    },
    {
     "name": "stdout",
     "output_type": "stream",
     "text": [
      "Using Neptune\n"
     ]
    },
    {
     "data": {
      "application/vnd.jupyter.widget-view+json": {
       "model_id": "3fe5d34bf1f5419aba426dae23e3538e",
       "version_major": 2,
       "version_minor": 0
      },
      "text/plain": [
       "Fetching file...: 0 [00:00, ?/s]"
      ]
     },
     "metadata": {},
     "output_type": "display_data"
    },
    {
     "name": "stdout",
     "output_type": "stream",
     "text": [
      "Using Neptune\n"
     ]
    },
    {
     "data": {
      "application/vnd.jupyter.widget-view+json": {
       "model_id": "fbbb469350c94a079d5bf3b27de92b54",
       "version_major": 2,
       "version_minor": 0
      },
      "text/plain": [
       "Fetching file...: 0 [00:00, ?/s]"
      ]
     },
     "metadata": {},
     "output_type": "display_data"
    },
    {
     "name": "stdout",
     "output_type": "stream",
     "text": [
      "Using Neptune\n"
     ]
    },
    {
     "data": {
      "application/vnd.jupyter.widget-view+json": {
       "model_id": "3b61a2dce15b4af1b8e762ee36014405",
       "version_major": 2,
       "version_minor": 0
      },
      "text/plain": [
       "Fetching file...: 0 [00:00, ?/s]"
      ]
     },
     "metadata": {},
     "output_type": "display_data"
    },
    {
     "name": "stdout",
     "output_type": "stream",
     "text": [
      "Using Neptune\n"
     ]
    },
    {
     "data": {
      "application/vnd.jupyter.widget-view+json": {
       "model_id": "672d57cba4054127bde2051a664ca9d7",
       "version_major": 2,
       "version_minor": 0
      },
      "text/plain": [
       "Fetching file...: 0 [00:00, ?/s]"
      ]
     },
     "metadata": {},
     "output_type": "display_data"
    },
    {
     "name": "stdout",
     "output_type": "stream",
     "text": [
      "Using Neptune\n"
     ]
    },
    {
     "data": {
      "application/vnd.jupyter.widget-view+json": {
       "model_id": "5e71cc26a7694677a9f66e43d03519e8",
       "version_major": 2,
       "version_minor": 0
      },
      "text/plain": [
       "Fetching file...: 0 [00:00, ?/s]"
      ]
     },
     "metadata": {},
     "output_type": "display_data"
    },
    {
     "name": "stdout",
     "output_type": "stream",
     "text": [
      "Using Neptune\n"
     ]
    },
    {
     "data": {
      "application/vnd.jupyter.widget-view+json": {
       "model_id": "14696fc5d454490babe094c26442d733",
       "version_major": 2,
       "version_minor": 0
      },
      "text/plain": [
       "Fetching file...: 0 [00:00, ?/s]"
      ]
     },
     "metadata": {},
     "output_type": "display_data"
    },
    {
     "name": "stdout",
     "output_type": "stream",
     "text": [
      "Using Neptune\n"
     ]
    },
    {
     "data": {
      "application/vnd.jupyter.widget-view+json": {
       "model_id": "7b18f2b1e2f943c9a101d5b05812f9f9",
       "version_major": 2,
       "version_minor": 0
      },
      "text/plain": [
       "Fetching file...: 0 [00:00, ?/s]"
      ]
     },
     "metadata": {},
     "output_type": "display_data"
    },
    {
     "name": "stdout",
     "output_type": "stream",
     "text": [
      "Using Neptune\n"
     ]
    },
    {
     "data": {
      "application/vnd.jupyter.widget-view+json": {
       "model_id": "2dca6e548ce8489bb31fd7d9b3e081fb",
       "version_major": 2,
       "version_minor": 0
      },
      "text/plain": [
       "Fetching file...: 0 [00:00, ?/s]"
      ]
     },
     "metadata": {},
     "output_type": "display_data"
    },
    {
     "name": "stdout",
     "output_type": "stream",
     "text": [
      "Using Neptune\n"
     ]
    },
    {
     "data": {
      "application/vnd.jupyter.widget-view+json": {
       "model_id": "fe014b750d4a43eba062b9e3f7354cf0",
       "version_major": 2,
       "version_minor": 0
      },
      "text/plain": [
       "Fetching file...: 0 [00:00, ?/s]"
      ]
     },
     "metadata": {},
     "output_type": "display_data"
    },
    {
     "name": "stdout",
     "output_type": "stream",
     "text": [
      "Using Neptune\n"
     ]
    },
    {
     "data": {
      "application/vnd.jupyter.widget-view+json": {
       "model_id": "48abf3498aba4f60a9988060e0150533",
       "version_major": 2,
       "version_minor": 0
      },
      "text/plain": [
       "Fetching file...: 0 [00:00, ?/s]"
      ]
     },
     "metadata": {},
     "output_type": "display_data"
    },
    {
     "name": "stdout",
     "output_type": "stream",
     "text": [
      "Using Neptune\n"
     ]
    },
    {
     "data": {
      "application/vnd.jupyter.widget-view+json": {
       "model_id": "47310dd6cd004ae3941405ea9401ff82",
       "version_major": 2,
       "version_minor": 0
      },
      "text/plain": [
       "Fetching file...: 0 [00:00, ?/s]"
      ]
     },
     "metadata": {},
     "output_type": "display_data"
    },
    {
     "name": "stdout",
     "output_type": "stream",
     "text": [
      "[neptune] [info   ] Shutting down background jobs, please wait a moment...\n",
      "[neptune] [info   ] Done!\n",
      "[neptune] [info   ] Waiting for the remaining 35 operations to synchronize with Neptune. Do not kill this process.\n",
      "[neptune] [info   ] All 35 operations synced, thanks for waiting!\n",
      "[neptune] [info   ] Explore the metadata in the Neptune app: https://app.neptune.ai/revivemed/Survival-RCC/e/SUR-2648/metadata\n",
      "Getting the latest dataset\n",
      "[neptune] [info   ] Neptune initialized. Open in the app: https://app.neptune.ai/revivemed/Survival-RCC/\n",
      "[neptune] [info   ] Shutting down background jobs, please wait a moment...\n",
      "[neptune] [info   ] Done!\n",
      "[neptune] [info   ] All 0 operations synced, thanks for waiting!\n",
      "[neptune] [info   ] Explore the metadata in the Neptune app: https://app.neptune.ai/revivemed/Survival-RCC/metadata\n",
      "[neptune] [info   ] Neptune initialized. Open in the app: https://app.neptune.ai/revivemed/Survival-RCC/e/SUR-2760\n",
      "eval_params_list [{'y_col_name': 'NIVO OS', 'y_head': 'NIVO OS', 'y_cols': ['NIVO OS', 'OS_Event']}, {'y_col_name': 'NIVO OS', 'y_head': 'EVER OS', 'y_cols': ['NIVO OS', 'OS_Event']}, {'y_col_name': 'NIVO OS', 'y_head': 'Both OS', 'y_cols': ['NIVO OS', 'OS_Event']}, {'y_col_name': 'EVER OS', 'y_head': 'NIVO OS', 'y_cols': ['EVER OS', 'OS_Event']}, {'y_col_name': 'EVER OS', 'y_head': 'EVER OS', 'y_cols': ['EVER OS', 'OS_Event']}, {'y_col_name': 'EVER OS', 'y_head': 'Both OS', 'y_cols': ['EVER OS', 'OS_Event']}, {'y_col_name': 'Both OS', 'y_head': 'EVER OS', 'y_cols': ['OS', 'OS_Event']}, {'y_col_name': 'Both OS', 'y_head': 'NIVO OS', 'y_cols': ['OS', 'OS_Event']}, {'y_col_name': 'Both OS', 'y_head': 'Both OS', 'y_cols': ['OS', 'OS_Event']}, {'y_col_name': 'NIVO PFS', 'y_head': 'NIVO PFS', 'y_cols': ['NIVO PFS', 'PFS_Event']}, {'y_col_name': 'NIVO PFS', 'y_head': 'EVER PFS', 'y_cols': ['NIVO PFS', 'PFS_Event']}, {'y_col_name': 'NIVO PFS', 'y_head': 'Both PFS', 'y_cols': ['NIVO PFS', 'PFS_Event']}, {'y_col_name': 'EVER PFS', 'y_head': 'NIVO PFS', 'y_cols': ['EVER PFS', 'PFS_Event']}, {'y_col_name': 'EVER PFS', 'y_head': 'EVER PFS', 'y_cols': ['EVER PFS', 'PFS_Event']}, {'y_col_name': 'EVER PFS', 'y_head': 'Both PFS', 'y_cols': ['EVER PFS', 'PFS_Event']}, {'y_col_name': 'Both PFS', 'y_head': 'EVER PFS', 'y_cols': ['PFS', 'PFS_Event']}, {'y_col_name': 'Both PFS', 'y_head': 'NIVO PFS', 'y_cols': ['PFS', 'PFS_Event']}, {'y_col_name': 'Both PFS', 'y_head': 'Both PFS', 'y_cols': ['PFS', 'PFS_Event']}, {'y_col_name': 'MSKCC BINARY', 'y_head': 'MSKCC', 'y_cols': ['MSKCC BINARY']}, {'y_col_name': 'IMDC BINARY', 'y_head': 'IMDC', 'y_cols': ['IMDC BINARY']}, {'y_col_name': 'MSKCC ORDINAL', 'y_head': 'MSKCC_Ordinal', 'y_cols': ['MSKCC ORDINAL']}, {'y_col_name': 'IMDC ORDINAL', 'y_head': 'IMDC_Ordinal', 'y_cols': ['IMDC ORDINAL']}, {'y_col_name': 'MSKCC ORDINAL', 'y_head': 'MSKCC_MultiClass', 'y_cols': ['MSKCC ORDINAL']}, {'y_col_name': 'IMDC ORDINAL', 'y_head': 'IMDC_MultiClass', 'y_cols': ['IMDC ORDINAL']}, {'y_col_name': 'Benefit BINARY', 'y_head': 'Benefit', 'y_cols': ['Benefit BINARY']}]\n",
      "Using Neptune\n"
     ]
    },
    {
     "data": {
      "application/vnd.jupyter.widget-view+json": {
       "model_id": "2f85157d66834f61a8d6c13e75f09b19",
       "version_major": 2,
       "version_minor": 0
      },
      "text/plain": [
       "Fetching file...: 0 [00:00, ?/s]"
      ]
     },
     "metadata": {},
     "output_type": "display_data"
    },
    {
     "name": "stdout",
     "output_type": "stream",
     "text": [
      "Using Neptune\n"
     ]
    },
    {
     "data": {
      "application/vnd.jupyter.widget-view+json": {
       "model_id": "0675345e7935404f8fd9e05972fc487d",
       "version_major": 2,
       "version_minor": 0
      },
      "text/plain": [
       "Fetching file...: 0 [00:00, ?/s]"
      ]
     },
     "metadata": {},
     "output_type": "display_data"
    },
    {
     "name": "stdout",
     "output_type": "stream",
     "text": [
      "Using Neptune\n"
     ]
    },
    {
     "data": {
      "application/vnd.jupyter.widget-view+json": {
       "model_id": "27ae50df77b844a2a1092378f2f7cd97",
       "version_major": 2,
       "version_minor": 0
      },
      "text/plain": [
       "Fetching file...: 0 [00:00, ?/s]"
      ]
     },
     "metadata": {},
     "output_type": "display_data"
    },
    {
     "name": "stdout",
     "output_type": "stream",
     "text": [
      "Using Neptune\n"
     ]
    },
    {
     "data": {
      "application/vnd.jupyter.widget-view+json": {
       "model_id": "187430773ad2458da35ef48aa79a5e13",
       "version_major": 2,
       "version_minor": 0
      },
      "text/plain": [
       "Fetching file...: 0 [00:00, ?/s]"
      ]
     },
     "metadata": {},
     "output_type": "display_data"
    },
    {
     "name": "stdout",
     "output_type": "stream",
     "text": [
      "Using Neptune\n",
      "Record the model fitting to Neptune\n",
      "Training on train\n",
      "Training on train\n",
      "Epoch [1/71], train Loss: 3.1012\n",
      "Epoch [11/71], train Loss: 1.8214\n",
      "Epoch [21/71], train Loss: 1.3379\n",
      "Epoch [31/71], train Loss: 1.1441\n",
      "Epoch [41/71], train Loss: 1.0035\n",
      "Epoch [51/71], train Loss: 0.9941\n",
      "Epoch [61/71], train Loss: 0.8590\n",
      "Epoch [71/71], train Loss: 0.8974\n",
      "Save models to Neptune\n",
      "[neptune] [error  ] Error occurred during asynchronous operation processing: Cannot upload file /Users/jonaheaton/OUTPUT/SUR-2760/training_run_4/models/adv_info.json: Path not found or is a not a file.\n",
      "[neptune] [error  ] Error occurred during asynchronous operation processing: Cannot upload file /Users/jonaheaton/OUTPUT/SUR-2760/training_run_4/models/adv_state.pt: Path not found or is a not a file.\n",
      "Using Neptune\n",
      "Record the model fitting to Neptune\n",
      "Training on train\n",
      "Training on train\n",
      "Epoch [1/71], train Loss: 3.1829\n",
      "Epoch [11/71], train Loss: 2.0358\n",
      "Epoch [21/71], train Loss: 1.2820\n",
      "Epoch [31/71], train Loss: 1.1548\n",
      "Epoch [41/71], train Loss: 0.9712\n",
      "Epoch [51/71], train Loss: 0.9466\n",
      "Epoch [61/71], train Loss: 0.9469\n",
      "Epoch [71/71], train Loss: 0.8882\n",
      "Save models to Neptune\n",
      "[neptune] [error  ] Error occurred during asynchronous operation processing: Cannot upload file /Users/jonaheaton/OUTPUT/SUR-2760/training_run_5/models/adv_info.json: Path not found or is a not a file.\n",
      "[neptune] [error  ] Error occurred during asynchronous operation processing: Cannot upload file /Users/jonaheaton/OUTPUT/SUR-2760/training_run_5/models/adv_state.pt: Path not found or is a not a file.\n",
      "Using Neptune\n"
     ]
    },
    {
     "data": {
      "application/vnd.jupyter.widget-view+json": {
       "model_id": "174dbf28055f4552ae902d6ae112831b",
       "version_major": 2,
       "version_minor": 0
      },
      "text/plain": [
       "Fetching file...: 0 [00:00, ?/s]"
      ]
     },
     "metadata": {},
     "output_type": "display_data"
    },
    {
     "name": "stdout",
     "output_type": "stream",
     "text": [
      "Using Neptune\n"
     ]
    },
    {
     "data": {
      "application/vnd.jupyter.widget-view+json": {
       "model_id": "1a723613fa1640c48c0012531af22039",
       "version_major": 2,
       "version_minor": 0
      },
      "text/plain": [
       "Fetching file...: 0 [00:00, ?/s]"
      ]
     },
     "metadata": {},
     "output_type": "display_data"
    },
    {
     "name": "stdout",
     "output_type": "stream",
     "text": [
      "Using Neptune\n",
      "Record the model fitting to Neptune\n",
      "Training on train\n",
      "Training on train\n",
      "Epoch [1/71], train Loss: 3.1218\n",
      "Epoch [11/71], train Loss: 1.8392\n",
      "Epoch [21/71], train Loss: 1.2238\n",
      "Epoch [31/71], train Loss: 1.0940\n",
      "Epoch [41/71], train Loss: 1.0118\n",
      "Epoch [51/71], train Loss: 0.9994\n",
      "Epoch [61/71], train Loss: 0.8674\n",
      "Head loss is nan/inf!\n",
      "your learning rate is probably too high\n",
      "Error: Encoder is None after training, training failed\n",
      "Using Neptune\n",
      "Record the model fitting to Neptune\n",
      "Training on train\n",
      "Training on train\n",
      "Epoch [1/71], train Loss: 3.1975\n",
      "Epoch [11/71], train Loss: 1.9457\n",
      "Epoch [21/71], train Loss: 1.2255\n",
      "Epoch [31/71], train Loss: 1.0183\n",
      "Epoch [41/71], train Loss: 0.8716\n",
      "Epoch [51/71], train Loss: 0.9122\n",
      "Epoch [61/71], train Loss: 0.7960\n",
      "Epoch [71/71], train Loss: 0.8628\n",
      "Save models to Neptune\n",
      "[neptune] [error  ] Error occurred during asynchronous operation processing: Cannot upload file /Users/jonaheaton/OUTPUT/SUR-2760/training_run_9/models/adv_info.json: Path not found or is a not a file.\n",
      "[neptune] [error  ] Error occurred during asynchronous operation processing: Cannot upload file /Users/jonaheaton/OUTPUT/SUR-2760/training_run_9/models/adv_state.pt: Path not found or is a not a file.\n",
      "Using Neptune\n"
     ]
    },
    {
     "data": {
      "application/vnd.jupyter.widget-view+json": {
       "model_id": "1265f6302fe845deb805106c6ef9cca4",
       "version_major": 2,
       "version_minor": 0
      },
      "text/plain": [
       "Fetching file...: 0 [00:00, ?/s]"
      ]
     },
     "metadata": {},
     "output_type": "display_data"
    },
    {
     "name": "stdout",
     "output_type": "stream",
     "text": [
      "Using Neptune\n"
     ]
    },
    {
     "data": {
      "application/vnd.jupyter.widget-view+json": {
       "model_id": "dd321156591040b6b0bf8a04bae327c7",
       "version_major": 2,
       "version_minor": 0
      },
      "text/plain": [
       "Fetching file...: 0 [00:00, ?/s]"
      ]
     },
     "metadata": {},
     "output_type": "display_data"
    },
    {
     "name": "stdout",
     "output_type": "stream",
     "text": [
      "Using Neptune\n"
     ]
    },
    {
     "data": {
      "application/vnd.jupyter.widget-view+json": {
       "model_id": "bd2b4eda21894eb5a7624c55c281e5bf",
       "version_major": 2,
       "version_minor": 0
      },
      "text/plain": [
       "Fetching file...: 0 [00:00, ?/s]"
      ]
     },
     "metadata": {},
     "output_type": "display_data"
    },
    {
     "name": "stdout",
     "output_type": "stream",
     "text": [
      "Using Neptune\n"
     ]
    },
    {
     "data": {
      "application/vnd.jupyter.widget-view+json": {
       "model_id": "37f8d5a4333c4b4eb351b767ae85df3b",
       "version_major": 2,
       "version_minor": 0
      },
      "text/plain": [
       "Fetching file...: 0 [00:00, ?/s]"
      ]
     },
     "metadata": {},
     "output_type": "display_data"
    },
    {
     "name": "stdout",
     "output_type": "stream",
     "text": [
      "Using Neptune\n"
     ]
    },
    {
     "data": {
      "application/vnd.jupyter.widget-view+json": {
       "model_id": "43d10d4c7cc44c3c9ea822dcca9da93c",
       "version_major": 2,
       "version_minor": 0
      },
      "text/plain": [
       "Fetching file...: 0 [00:00, ?/s]"
      ]
     },
     "metadata": {},
     "output_type": "display_data"
    },
    {
     "name": "stdout",
     "output_type": "stream",
     "text": [
      "Using Neptune\n"
     ]
    },
    {
     "data": {
      "application/vnd.jupyter.widget-view+json": {
       "model_id": "fd0820eb46dc4f099e031bcfc10bc011",
       "version_major": 2,
       "version_minor": 0
      },
      "text/plain": [
       "Fetching file...: 0 [00:00, ?/s]"
      ]
     },
     "metadata": {},
     "output_type": "display_data"
    },
    {
     "name": "stdout",
     "output_type": "stream",
     "text": [
      "Using Neptune\n"
     ]
    },
    {
     "data": {
      "application/vnd.jupyter.widget-view+json": {
       "model_id": "422e38563c344c54a422bf0ae429945d",
       "version_major": 2,
       "version_minor": 0
      },
      "text/plain": [
       "Fetching file...: 0 [00:00, ?/s]"
      ]
     },
     "metadata": {},
     "output_type": "display_data"
    },
    {
     "name": "stdout",
     "output_type": "stream",
     "text": [
      "Using Neptune\n"
     ]
    },
    {
     "data": {
      "application/vnd.jupyter.widget-view+json": {
       "model_id": "af6d9a09f0e64ef6ad7976a0c2197686",
       "version_major": 2,
       "version_minor": 0
      },
      "text/plain": [
       "Fetching file...: 0 [00:00, ?/s]"
      ]
     },
     "metadata": {},
     "output_type": "display_data"
    },
    {
     "name": "stdout",
     "output_type": "stream",
     "text": [
      "Using Neptune\n"
     ]
    },
    {
     "data": {
      "application/vnd.jupyter.widget-view+json": {
       "model_id": "17d903eb23a64527a04f8f52a1a58864",
       "version_major": 2,
       "version_minor": 0
      },
      "text/plain": [
       "Fetching file...: 0 [00:00, ?/s]"
      ]
     },
     "metadata": {},
     "output_type": "display_data"
    },
    {
     "name": "stdout",
     "output_type": "stream",
     "text": [
      "Using Neptune\n"
     ]
    },
    {
     "data": {
      "application/vnd.jupyter.widget-view+json": {
       "model_id": "c3d0d4a6f52042dc96fc0e4348fd3238",
       "version_major": 2,
       "version_minor": 0
      },
      "text/plain": [
       "Fetching file...: 0 [00:00, ?/s]"
      ]
     },
     "metadata": {},
     "output_type": "display_data"
    },
    {
     "name": "stdout",
     "output_type": "stream",
     "text": [
      "[neptune] [info   ] Shutting down background jobs, please wait a moment...\n",
      "[neptune] [info   ] Done!\n",
      "[neptune] [info   ] Waiting for the remaining 35 operations to synchronize with Neptune. Do not kill this process.\n",
      "[neptune] [info   ] All 35 operations synced, thanks for waiting!\n",
      "[neptune] [info   ] Explore the metadata in the Neptune app: https://app.neptune.ai/revivemed/Survival-RCC/e/SUR-2760/metadata\n",
      "Getting the latest dataset\n",
      "[neptune] [info   ] Neptune initialized. Open in the app: https://app.neptune.ai/revivemed/Survival-RCC/\n",
      "[neptune] [info   ] Shutting down background jobs, please wait a moment...\n",
      "[neptune] [info   ] Done!\n",
      "[neptune] [info   ] All 0 operations synced, thanks for waiting!\n",
      "[neptune] [info   ] Explore the metadata in the Neptune app: https://app.neptune.ai/revivemed/Survival-RCC/metadata\n",
      "[neptune] [info   ] Neptune initialized. Open in the app: https://app.neptune.ai/revivemed/Survival-RCC/e/SUR-2743\n",
      "eval_params_list [{'y_col_name': 'NIVO OS', 'y_head': 'NIVO OS', 'y_cols': ['NIVO OS', 'OS_Event']}, {'y_col_name': 'NIVO OS', 'y_head': 'EVER OS', 'y_cols': ['NIVO OS', 'OS_Event']}, {'y_col_name': 'NIVO OS', 'y_head': 'Both OS', 'y_cols': ['NIVO OS', 'OS_Event']}, {'y_col_name': 'EVER OS', 'y_head': 'NIVO OS', 'y_cols': ['EVER OS', 'OS_Event']}, {'y_col_name': 'EVER OS', 'y_head': 'EVER OS', 'y_cols': ['EVER OS', 'OS_Event']}, {'y_col_name': 'EVER OS', 'y_head': 'Both OS', 'y_cols': ['EVER OS', 'OS_Event']}, {'y_col_name': 'Both OS', 'y_head': 'EVER OS', 'y_cols': ['OS', 'OS_Event']}, {'y_col_name': 'Both OS', 'y_head': 'NIVO OS', 'y_cols': ['OS', 'OS_Event']}, {'y_col_name': 'Both OS', 'y_head': 'Both OS', 'y_cols': ['OS', 'OS_Event']}, {'y_col_name': 'NIVO PFS', 'y_head': 'NIVO PFS', 'y_cols': ['NIVO PFS', 'PFS_Event']}, {'y_col_name': 'NIVO PFS', 'y_head': 'EVER PFS', 'y_cols': ['NIVO PFS', 'PFS_Event']}, {'y_col_name': 'NIVO PFS', 'y_head': 'Both PFS', 'y_cols': ['NIVO PFS', 'PFS_Event']}, {'y_col_name': 'EVER PFS', 'y_head': 'NIVO PFS', 'y_cols': ['EVER PFS', 'PFS_Event']}, {'y_col_name': 'EVER PFS', 'y_head': 'EVER PFS', 'y_cols': ['EVER PFS', 'PFS_Event']}, {'y_col_name': 'EVER PFS', 'y_head': 'Both PFS', 'y_cols': ['EVER PFS', 'PFS_Event']}, {'y_col_name': 'Both PFS', 'y_head': 'EVER PFS', 'y_cols': ['PFS', 'PFS_Event']}, {'y_col_name': 'Both PFS', 'y_head': 'NIVO PFS', 'y_cols': ['PFS', 'PFS_Event']}, {'y_col_name': 'Both PFS', 'y_head': 'Both PFS', 'y_cols': ['PFS', 'PFS_Event']}, {'y_col_name': 'MSKCC BINARY', 'y_head': 'MSKCC', 'y_cols': ['MSKCC BINARY']}, {'y_col_name': 'IMDC BINARY', 'y_head': 'IMDC', 'y_cols': ['IMDC BINARY']}, {'y_col_name': 'MSKCC ORDINAL', 'y_head': 'MSKCC_Ordinal', 'y_cols': ['MSKCC ORDINAL']}, {'y_col_name': 'IMDC ORDINAL', 'y_head': 'IMDC_Ordinal', 'y_cols': ['IMDC ORDINAL']}, {'y_col_name': 'MSKCC ORDINAL', 'y_head': 'MSKCC_MultiClass', 'y_cols': ['MSKCC ORDINAL']}, {'y_col_name': 'IMDC ORDINAL', 'y_head': 'IMDC_MultiClass', 'y_cols': ['IMDC ORDINAL']}, {'y_col_name': 'Benefit BINARY', 'y_head': 'Benefit', 'y_cols': ['Benefit BINARY']}]\n",
      "Using Neptune\n"
     ]
    },
    {
     "data": {
      "application/vnd.jupyter.widget-view+json": {
       "model_id": "d70e8d8bcb294b1ea284d41528261413",
       "version_major": 2,
       "version_minor": 0
      },
      "text/plain": [
       "Fetching file...: 0 [00:00, ?/s]"
      ]
     },
     "metadata": {},
     "output_type": "display_data"
    },
    {
     "name": "stdout",
     "output_type": "stream",
     "text": [
      "Using Neptune\n"
     ]
    },
    {
     "data": {
      "application/vnd.jupyter.widget-view+json": {
       "model_id": "99f5f41de12f4424b1b7d764d5c00a3c",
       "version_major": 2,
       "version_minor": 0
      },
      "text/plain": [
       "Fetching file...: 0 [00:00, ?/s]"
      ]
     },
     "metadata": {},
     "output_type": "display_data"
    },
    {
     "name": "stdout",
     "output_type": "stream",
     "text": [
      "Using Neptune\n"
     ]
    },
    {
     "data": {
      "application/vnd.jupyter.widget-view+json": {
       "model_id": "642aa50986464cc78fa17e6017fb84b6",
       "version_major": 2,
       "version_minor": 0
      },
      "text/plain": [
       "Fetching file...: 0 [00:00, ?/s]"
      ]
     },
     "metadata": {},
     "output_type": "display_data"
    },
    {
     "name": "stdout",
     "output_type": "stream",
     "text": [
      "Using Neptune\n"
     ]
    },
    {
     "data": {
      "application/vnd.jupyter.widget-view+json": {
       "model_id": "0d8a0826e1db49c58a45cf58a8268655",
       "version_major": 2,
       "version_minor": 0
      },
      "text/plain": [
       "Fetching file...: 0 [00:00, ?/s]"
      ]
     },
     "metadata": {},
     "output_type": "display_data"
    },
    {
     "name": "stdout",
     "output_type": "stream",
     "text": [
      "Using Neptune\n"
     ]
    },
    {
     "data": {
      "application/vnd.jupyter.widget-view+json": {
       "model_id": "ea67f3e3d62e4a3ca50f18d73ed36616",
       "version_major": 2,
       "version_minor": 0
      },
      "text/plain": [
       "Fetching file...: 0 [00:00, ?/s]"
      ]
     },
     "metadata": {},
     "output_type": "display_data"
    },
    {
     "name": "stdout",
     "output_type": "stream",
     "text": [
      "Using Neptune\n"
     ]
    },
    {
     "data": {
      "application/vnd.jupyter.widget-view+json": {
       "model_id": "dfe1c623f2c248e2ba55971cf205fc00",
       "version_major": 2,
       "version_minor": 0
      },
      "text/plain": [
       "Fetching file...: 0 [00:00, ?/s]"
      ]
     },
     "metadata": {},
     "output_type": "display_data"
    },
    {
     "name": "stdout",
     "output_type": "stream",
     "text": [
      "Using Neptune\n"
     ]
    },
    {
     "data": {
      "application/vnd.jupyter.widget-view+json": {
       "model_id": "f1f1f0ccb9a543d29f999690de839c81",
       "version_major": 2,
       "version_minor": 0
      },
      "text/plain": [
       "Fetching file...: 0 [00:00, ?/s]"
      ]
     },
     "metadata": {},
     "output_type": "display_data"
    },
    {
     "name": "stdout",
     "output_type": "stream",
     "text": [
      "Using Neptune\n"
     ]
    },
    {
     "data": {
      "application/vnd.jupyter.widget-view+json": {
       "model_id": "e4bfd23114d7412e88509ebcc3b7c184",
       "version_major": 2,
       "version_minor": 0
      },
      "text/plain": [
       "Fetching file...: 0 [00:00, ?/s]"
      ]
     },
     "metadata": {},
     "output_type": "display_data"
    },
    {
     "name": "stdout",
     "output_type": "stream",
     "text": [
      "Using Neptune\n"
     ]
    },
    {
     "data": {
      "application/vnd.jupyter.widget-view+json": {
       "model_id": "935071236c894c6aa66bc7e7701b6975",
       "version_major": 2,
       "version_minor": 0
      },
      "text/plain": [
       "Fetching file...: 0 [00:00, ?/s]"
      ]
     },
     "metadata": {},
     "output_type": "display_data"
    },
    {
     "name": "stdout",
     "output_type": "stream",
     "text": [
      "Using Neptune\n"
     ]
    },
    {
     "data": {
      "application/vnd.jupyter.widget-view+json": {
       "model_id": "cf79473964084791ade1f34393a2527d",
       "version_major": 2,
       "version_minor": 0
      },
      "text/plain": [
       "Fetching file...: 0 [00:00, ?/s]"
      ]
     },
     "metadata": {},
     "output_type": "display_data"
    },
    {
     "name": "stdout",
     "output_type": "stream",
     "text": [
      "Using Neptune\n"
     ]
    },
    {
     "data": {
      "application/vnd.jupyter.widget-view+json": {
       "model_id": "ba020349cf4d410dac50ad367824e13e",
       "version_major": 2,
       "version_minor": 0
      },
      "text/plain": [
       "Fetching file...: 0 [00:00, ?/s]"
      ]
     },
     "metadata": {},
     "output_type": "display_data"
    },
    {
     "name": "stdout",
     "output_type": "stream",
     "text": [
      "Using Neptune\n"
     ]
    },
    {
     "data": {
      "application/vnd.jupyter.widget-view+json": {
       "model_id": "56891bee36424e95b7c61679ee3c0893",
       "version_major": 2,
       "version_minor": 0
      },
      "text/plain": [
       "Fetching file...: 0 [00:00, ?/s]"
      ]
     },
     "metadata": {},
     "output_type": "display_data"
    },
    {
     "name": "stdout",
     "output_type": "stream",
     "text": [
      "Using Neptune\n"
     ]
    },
    {
     "data": {
      "application/vnd.jupyter.widget-view+json": {
       "model_id": "0a4c98e4244f44c58e09f06fcfab79e4",
       "version_major": 2,
       "version_minor": 0
      },
      "text/plain": [
       "Fetching file...: 0 [00:00, ?/s]"
      ]
     },
     "metadata": {},
     "output_type": "display_data"
    },
    {
     "name": "stdout",
     "output_type": "stream",
     "text": [
      "Using Neptune\n"
     ]
    },
    {
     "data": {
      "application/vnd.jupyter.widget-view+json": {
       "model_id": "68c3a016b82140b5b11751042f4dd22b",
       "version_major": 2,
       "version_minor": 0
      },
      "text/plain": [
       "Fetching file...: 0 [00:00, ?/s]"
      ]
     },
     "metadata": {},
     "output_type": "display_data"
    },
    {
     "name": "stdout",
     "output_type": "stream",
     "text": [
      "Using Neptune\n"
     ]
    },
    {
     "data": {
      "application/vnd.jupyter.widget-view+json": {
       "model_id": "018fd6fac5414a208477529e182562b8",
       "version_major": 2,
       "version_minor": 0
      },
      "text/plain": [
       "Fetching file...: 0 [00:00, ?/s]"
      ]
     },
     "metadata": {},
     "output_type": "display_data"
    },
    {
     "name": "stdout",
     "output_type": "stream",
     "text": [
      "Using Neptune\n"
     ]
    },
    {
     "data": {
      "application/vnd.jupyter.widget-view+json": {
       "model_id": "7028eb91a2a349cdb0e022da8eee8640",
       "version_major": 2,
       "version_minor": 0
      },
      "text/plain": [
       "Fetching file...: 0 [00:00, ?/s]"
      ]
     },
     "metadata": {},
     "output_type": "display_data"
    },
    {
     "name": "stdout",
     "output_type": "stream",
     "text": [
      "Using Neptune\n"
     ]
    },
    {
     "data": {
      "application/vnd.jupyter.widget-view+json": {
       "model_id": "37dd0ed0ed9042afa133636c5e1ca6c8",
       "version_major": 2,
       "version_minor": 0
      },
      "text/plain": [
       "Fetching file...: 0 [00:00, ?/s]"
      ]
     },
     "metadata": {},
     "output_type": "display_data"
    },
    {
     "name": "stdout",
     "output_type": "stream",
     "text": [
      "Using Neptune\n"
     ]
    },
    {
     "data": {
      "application/vnd.jupyter.widget-view+json": {
       "model_id": "4c9f815fc3dd4f9e859aca06d260e83d",
       "version_major": 2,
       "version_minor": 0
      },
      "text/plain": [
       "Fetching file...: 0 [00:00, ?/s]"
      ]
     },
     "metadata": {},
     "output_type": "display_data"
    },
    {
     "name": "stdout",
     "output_type": "stream",
     "text": [
      "Using Neptune\n"
     ]
    },
    {
     "data": {
      "application/vnd.jupyter.widget-view+json": {
       "model_id": "263b430f544f4a8ea7f375e0467dfb6f",
       "version_major": 2,
       "version_minor": 0
      },
      "text/plain": [
       "Fetching file...: 0 [00:00, ?/s]"
      ]
     },
     "metadata": {},
     "output_type": "display_data"
    },
    {
     "name": "stdout",
     "output_type": "stream",
     "text": [
      "Using Neptune\n"
     ]
    },
    {
     "data": {
      "application/vnd.jupyter.widget-view+json": {
       "model_id": "bab4553f42aa45fa9d89e2d661dea587",
       "version_major": 2,
       "version_minor": 0
      },
      "text/plain": [
       "Fetching file...: 0 [00:00, ?/s]"
      ]
     },
     "metadata": {},
     "output_type": "display_data"
    },
    {
     "name": "stdout",
     "output_type": "stream",
     "text": [
      "[neptune] [info   ] Shutting down background jobs, please wait a moment...\n",
      "[neptune] [info   ] Done!\n",
      "[neptune] [info   ] Waiting for the remaining 35 operations to synchronize with Neptune. Do not kill this process.\n",
      "[neptune] [info   ] All 35 operations synced, thanks for waiting!\n",
      "[neptune] [info   ] Explore the metadata in the Neptune app: https://app.neptune.ai/revivemed/Survival-RCC/e/SUR-2743/metadata\n",
      "Getting the latest dataset\n",
      "[neptune] [info   ] Neptune initialized. Open in the app: https://app.neptune.ai/revivemed/Survival-RCC/\n",
      "[neptune] [info   ] Shutting down background jobs, please wait a moment...\n",
      "[neptune] [info   ] Done!\n",
      "[neptune] [info   ] All 0 operations synced, thanks for waiting!\n",
      "[neptune] [info   ] Explore the metadata in the Neptune app: https://app.neptune.ai/revivemed/Survival-RCC/metadata\n",
      "[neptune] [info   ] Neptune initialized. Open in the app: https://app.neptune.ai/revivemed/Survival-RCC/e/SUR-2776\n",
      "eval_params_list [{'y_col_name': 'NIVO OS', 'y_head': 'NIVO OS', 'y_cols': ['NIVO OS', 'OS_Event']}, {'y_col_name': 'NIVO OS', 'y_head': 'EVER OS', 'y_cols': ['NIVO OS', 'OS_Event']}, {'y_col_name': 'NIVO OS', 'y_head': 'Both OS', 'y_cols': ['NIVO OS', 'OS_Event']}, {'y_col_name': 'EVER OS', 'y_head': 'NIVO OS', 'y_cols': ['EVER OS', 'OS_Event']}, {'y_col_name': 'EVER OS', 'y_head': 'EVER OS', 'y_cols': ['EVER OS', 'OS_Event']}, {'y_col_name': 'EVER OS', 'y_head': 'Both OS', 'y_cols': ['EVER OS', 'OS_Event']}, {'y_col_name': 'Both OS', 'y_head': 'EVER OS', 'y_cols': ['OS', 'OS_Event']}, {'y_col_name': 'Both OS', 'y_head': 'NIVO OS', 'y_cols': ['OS', 'OS_Event']}, {'y_col_name': 'Both OS', 'y_head': 'Both OS', 'y_cols': ['OS', 'OS_Event']}, {'y_col_name': 'NIVO PFS', 'y_head': 'NIVO PFS', 'y_cols': ['NIVO PFS', 'PFS_Event']}, {'y_col_name': 'NIVO PFS', 'y_head': 'EVER PFS', 'y_cols': ['NIVO PFS', 'PFS_Event']}, {'y_col_name': 'NIVO PFS', 'y_head': 'Both PFS', 'y_cols': ['NIVO PFS', 'PFS_Event']}, {'y_col_name': 'EVER PFS', 'y_head': 'NIVO PFS', 'y_cols': ['EVER PFS', 'PFS_Event']}, {'y_col_name': 'EVER PFS', 'y_head': 'EVER PFS', 'y_cols': ['EVER PFS', 'PFS_Event']}, {'y_col_name': 'EVER PFS', 'y_head': 'Both PFS', 'y_cols': ['EVER PFS', 'PFS_Event']}, {'y_col_name': 'Both PFS', 'y_head': 'EVER PFS', 'y_cols': ['PFS', 'PFS_Event']}, {'y_col_name': 'Both PFS', 'y_head': 'NIVO PFS', 'y_cols': ['PFS', 'PFS_Event']}, {'y_col_name': 'Both PFS', 'y_head': 'Both PFS', 'y_cols': ['PFS', 'PFS_Event']}, {'y_col_name': 'MSKCC BINARY', 'y_head': 'MSKCC', 'y_cols': ['MSKCC BINARY']}, {'y_col_name': 'IMDC BINARY', 'y_head': 'IMDC', 'y_cols': ['IMDC BINARY']}, {'y_col_name': 'MSKCC ORDINAL', 'y_head': 'MSKCC_Ordinal', 'y_cols': ['MSKCC ORDINAL']}, {'y_col_name': 'IMDC ORDINAL', 'y_head': 'IMDC_Ordinal', 'y_cols': ['IMDC ORDINAL']}, {'y_col_name': 'MSKCC ORDINAL', 'y_head': 'MSKCC_MultiClass', 'y_cols': ['MSKCC ORDINAL']}, {'y_col_name': 'IMDC ORDINAL', 'y_head': 'IMDC_MultiClass', 'y_cols': ['IMDC ORDINAL']}, {'y_col_name': 'Benefit BINARY', 'y_head': 'Benefit', 'y_cols': ['Benefit BINARY']}]\n",
      "Using Neptune\n",
      "Using Neptune\n",
      "Using Neptune\n",
      "Using Neptune\n",
      "Using Neptune\n",
      "Using Neptune\n",
      "Using Neptune\n",
      "Using Neptune\n",
      "Using Neptune\n",
      "Using Neptune\n",
      "Using Neptune\n",
      "Using Neptune\n",
      "Using Neptune\n",
      "Using Neptune\n",
      "Using Neptune\n",
      "Using Neptune\n",
      "Using Neptune\n",
      "Using Neptune\n",
      "Using Neptune\n",
      "Using Neptune\n",
      "[neptune] [info   ] Shutting down background jobs, please wait a moment...\n",
      "[neptune] [info   ] Done!\n",
      "[neptune] [info   ] Waiting for the remaining 35 operations to synchronize with Neptune. Do not kill this process.\n",
      "[neptune] [info   ] All 35 operations synced, thanks for waiting!\n",
      "[neptune] [info   ] Explore the metadata in the Neptune app: https://app.neptune.ai/revivemed/Survival-RCC/e/SUR-2776/metadata\n",
      "Getting the latest dataset\n",
      "[neptune] [info   ] Neptune initialized. Open in the app: https://app.neptune.ai/revivemed/Survival-RCC/\n",
      "[neptune] [info   ] Shutting down background jobs, please wait a moment...\n",
      "[neptune] [info   ] Done!\n",
      "[neptune] [info   ] All 0 operations synced, thanks for waiting!\n",
      "[neptune] [info   ] Explore the metadata in the Neptune app: https://app.neptune.ai/revivemed/Survival-RCC/metadata\n",
      "[neptune] [info   ] Neptune initialized. Open in the app: https://app.neptune.ai/revivemed/Survival-RCC/e/SUR-2744\n",
      "eval_params_list [{'y_col_name': 'NIVO OS', 'y_head': 'NIVO OS', 'y_cols': ['NIVO OS', 'OS_Event']}, {'y_col_name': 'NIVO OS', 'y_head': 'EVER OS', 'y_cols': ['NIVO OS', 'OS_Event']}, {'y_col_name': 'NIVO OS', 'y_head': 'Both OS', 'y_cols': ['NIVO OS', 'OS_Event']}, {'y_col_name': 'EVER OS', 'y_head': 'NIVO OS', 'y_cols': ['EVER OS', 'OS_Event']}, {'y_col_name': 'EVER OS', 'y_head': 'EVER OS', 'y_cols': ['EVER OS', 'OS_Event']}, {'y_col_name': 'EVER OS', 'y_head': 'Both OS', 'y_cols': ['EVER OS', 'OS_Event']}, {'y_col_name': 'Both OS', 'y_head': 'EVER OS', 'y_cols': ['OS', 'OS_Event']}, {'y_col_name': 'Both OS', 'y_head': 'NIVO OS', 'y_cols': ['OS', 'OS_Event']}, {'y_col_name': 'Both OS', 'y_head': 'Both OS', 'y_cols': ['OS', 'OS_Event']}, {'y_col_name': 'NIVO PFS', 'y_head': 'NIVO PFS', 'y_cols': ['NIVO PFS', 'PFS_Event']}, {'y_col_name': 'NIVO PFS', 'y_head': 'EVER PFS', 'y_cols': ['NIVO PFS', 'PFS_Event']}, {'y_col_name': 'NIVO PFS', 'y_head': 'Both PFS', 'y_cols': ['NIVO PFS', 'PFS_Event']}, {'y_col_name': 'EVER PFS', 'y_head': 'NIVO PFS', 'y_cols': ['EVER PFS', 'PFS_Event']}, {'y_col_name': 'EVER PFS', 'y_head': 'EVER PFS', 'y_cols': ['EVER PFS', 'PFS_Event']}, {'y_col_name': 'EVER PFS', 'y_head': 'Both PFS', 'y_cols': ['EVER PFS', 'PFS_Event']}, {'y_col_name': 'Both PFS', 'y_head': 'EVER PFS', 'y_cols': ['PFS', 'PFS_Event']}, {'y_col_name': 'Both PFS', 'y_head': 'NIVO PFS', 'y_cols': ['PFS', 'PFS_Event']}, {'y_col_name': 'Both PFS', 'y_head': 'Both PFS', 'y_cols': ['PFS', 'PFS_Event']}, {'y_col_name': 'MSKCC BINARY', 'y_head': 'MSKCC', 'y_cols': ['MSKCC BINARY']}, {'y_col_name': 'IMDC BINARY', 'y_head': 'IMDC', 'y_cols': ['IMDC BINARY']}, {'y_col_name': 'MSKCC ORDINAL', 'y_head': 'MSKCC_Ordinal', 'y_cols': ['MSKCC ORDINAL']}, {'y_col_name': 'IMDC ORDINAL', 'y_head': 'IMDC_Ordinal', 'y_cols': ['IMDC ORDINAL']}, {'y_col_name': 'MSKCC ORDINAL', 'y_head': 'MSKCC_MultiClass', 'y_cols': ['MSKCC ORDINAL']}, {'y_col_name': 'IMDC ORDINAL', 'y_head': 'IMDC_MultiClass', 'y_cols': ['IMDC ORDINAL']}, {'y_col_name': 'Benefit BINARY', 'y_head': 'Benefit', 'y_cols': ['Benefit BINARY']}]\n",
      "Using Neptune\n"
     ]
    },
    {
     "data": {
      "application/vnd.jupyter.widget-view+json": {
       "model_id": "76a0b7ec518e4dcdbc5adec15cababe6",
       "version_major": 2,
       "version_minor": 0
      },
      "text/plain": [
       "Fetching file...: 0 [00:00, ?/s]"
      ]
     },
     "metadata": {},
     "output_type": "display_data"
    },
    {
     "name": "stdout",
     "output_type": "stream",
     "text": [
      "Using Neptune\n"
     ]
    },
    {
     "data": {
      "application/vnd.jupyter.widget-view+json": {
       "model_id": "8cfcd4c027234e3192952838dbd484d5",
       "version_major": 2,
       "version_minor": 0
      },
      "text/plain": [
       "Fetching file...: 0 [00:00, ?/s]"
      ]
     },
     "metadata": {},
     "output_type": "display_data"
    },
    {
     "name": "stdout",
     "output_type": "stream",
     "text": [
      "Using Neptune\n"
     ]
    },
    {
     "data": {
      "application/vnd.jupyter.widget-view+json": {
       "model_id": "a7c90574dc7c4d4ca1e0285a7fb04153",
       "version_major": 2,
       "version_minor": 0
      },
      "text/plain": [
       "Fetching file...: 0 [00:00, ?/s]"
      ]
     },
     "metadata": {},
     "output_type": "display_data"
    },
    {
     "name": "stdout",
     "output_type": "stream",
     "text": [
      "Using Neptune\n"
     ]
    },
    {
     "data": {
      "application/vnd.jupyter.widget-view+json": {
       "model_id": "a41735093cf647178da76041e5c362d1",
       "version_major": 2,
       "version_minor": 0
      },
      "text/plain": [
       "Fetching file...: 0 [00:00, ?/s]"
      ]
     },
     "metadata": {},
     "output_type": "display_data"
    },
    {
     "name": "stdout",
     "output_type": "stream",
     "text": [
      "Using Neptune\n"
     ]
    },
    {
     "data": {
      "application/vnd.jupyter.widget-view+json": {
       "model_id": "76c4bb33c0f64a35be2c952ed2bbb339",
       "version_major": 2,
       "version_minor": 0
      },
      "text/plain": [
       "Fetching file...: 0 [00:00, ?/s]"
      ]
     },
     "metadata": {},
     "output_type": "display_data"
    },
    {
     "name": "stdout",
     "output_type": "stream",
     "text": [
      "Using Neptune\n"
     ]
    },
    {
     "data": {
      "application/vnd.jupyter.widget-view+json": {
       "model_id": "6a1b5179ed1a42bab7020476635cf39e",
       "version_major": 2,
       "version_minor": 0
      },
      "text/plain": [
       "Fetching file...: 0 [00:00, ?/s]"
      ]
     },
     "metadata": {},
     "output_type": "display_data"
    },
    {
     "name": "stdout",
     "output_type": "stream",
     "text": [
      "Using Neptune\n"
     ]
    },
    {
     "data": {
      "application/vnd.jupyter.widget-view+json": {
       "model_id": "a1521d1ccfc445aa80688cb7b45989f6",
       "version_major": 2,
       "version_minor": 0
      },
      "text/plain": [
       "Fetching file...: 0 [00:00, ?/s]"
      ]
     },
     "metadata": {},
     "output_type": "display_data"
    },
    {
     "name": "stdout",
     "output_type": "stream",
     "text": [
      "Using Neptune\n"
     ]
    },
    {
     "data": {
      "application/vnd.jupyter.widget-view+json": {
       "model_id": "f6f2687caf3d4426b8ed5f3c50c904e0",
       "version_major": 2,
       "version_minor": 0
      },
      "text/plain": [
       "Fetching file...: 0 [00:00, ?/s]"
      ]
     },
     "metadata": {},
     "output_type": "display_data"
    },
    {
     "name": "stdout",
     "output_type": "stream",
     "text": [
      "Using Neptune\n"
     ]
    },
    {
     "data": {
      "application/vnd.jupyter.widget-view+json": {
       "model_id": "86d4f09a0e184478ae6204818c05d73c",
       "version_major": 2,
       "version_minor": 0
      },
      "text/plain": [
       "Fetching file...: 0 [00:00, ?/s]"
      ]
     },
     "metadata": {},
     "output_type": "display_data"
    },
    {
     "name": "stdout",
     "output_type": "stream",
     "text": [
      "Using Neptune\n"
     ]
    },
    {
     "data": {
      "application/vnd.jupyter.widget-view+json": {
       "model_id": "f797871c3c2641d3954d8ed2ade1226c",
       "version_major": 2,
       "version_minor": 0
      },
      "text/plain": [
       "Fetching file...: 0 [00:00, ?/s]"
      ]
     },
     "metadata": {},
     "output_type": "display_data"
    },
    {
     "name": "stdout",
     "output_type": "stream",
     "text": [
      "Using Neptune\n"
     ]
    },
    {
     "data": {
      "application/vnd.jupyter.widget-view+json": {
       "model_id": "d52c9313ff034d2d9ab4757596ad5a9b",
       "version_major": 2,
       "version_minor": 0
      },
      "text/plain": [
       "Fetching file...: 0 [00:00, ?/s]"
      ]
     },
     "metadata": {},
     "output_type": "display_data"
    },
    {
     "name": "stdout",
     "output_type": "stream",
     "text": [
      "Using Neptune\n"
     ]
    },
    {
     "data": {
      "application/vnd.jupyter.widget-view+json": {
       "model_id": "a20dd82774f64d13b615983b84d3f26e",
       "version_major": 2,
       "version_minor": 0
      },
      "text/plain": [
       "Fetching file...: 0 [00:00, ?/s]"
      ]
     },
     "metadata": {},
     "output_type": "display_data"
    },
    {
     "name": "stdout",
     "output_type": "stream",
     "text": [
      "Using Neptune\n"
     ]
    },
    {
     "data": {
      "application/vnd.jupyter.widget-view+json": {
       "model_id": "d35827d3f3d14879a19d337dfbdb711a",
       "version_major": 2,
       "version_minor": 0
      },
      "text/plain": [
       "Fetching file...: 0 [00:00, ?/s]"
      ]
     },
     "metadata": {},
     "output_type": "display_data"
    },
    {
     "name": "stdout",
     "output_type": "stream",
     "text": [
      "Using Neptune\n"
     ]
    },
    {
     "data": {
      "application/vnd.jupyter.widget-view+json": {
       "model_id": "5ad6080879634a2e879d28572ddbc77c",
       "version_major": 2,
       "version_minor": 0
      },
      "text/plain": [
       "Fetching file...: 0 [00:00, ?/s]"
      ]
     },
     "metadata": {},
     "output_type": "display_data"
    },
    {
     "name": "stdout",
     "output_type": "stream",
     "text": [
      "Using Neptune\n"
     ]
    },
    {
     "data": {
      "application/vnd.jupyter.widget-view+json": {
       "model_id": "f6684c9790874b3894f3ebe051fe1789",
       "version_major": 2,
       "version_minor": 0
      },
      "text/plain": [
       "Fetching file...: 0 [00:00, ?/s]"
      ]
     },
     "metadata": {},
     "output_type": "display_data"
    },
    {
     "name": "stdout",
     "output_type": "stream",
     "text": [
      "Using Neptune\n"
     ]
    },
    {
     "data": {
      "application/vnd.jupyter.widget-view+json": {
       "model_id": "748a666a391a42438bb0abf0493da1f3",
       "version_major": 2,
       "version_minor": 0
      },
      "text/plain": [
       "Fetching file...: 0 [00:00, ?/s]"
      ]
     },
     "metadata": {},
     "output_type": "display_data"
    },
    {
     "name": "stdout",
     "output_type": "stream",
     "text": [
      "Using Neptune\n"
     ]
    },
    {
     "data": {
      "application/vnd.jupyter.widget-view+json": {
       "model_id": "e9fbdcb41cb84f79b73aca460a9b0660",
       "version_major": 2,
       "version_minor": 0
      },
      "text/plain": [
       "Fetching file...: 0 [00:00, ?/s]"
      ]
     },
     "metadata": {},
     "output_type": "display_data"
    },
    {
     "name": "stdout",
     "output_type": "stream",
     "text": [
      "Using Neptune\n"
     ]
    },
    {
     "data": {
      "application/vnd.jupyter.widget-view+json": {
       "model_id": "03b5b558855c43f29045de10a9ca623c",
       "version_major": 2,
       "version_minor": 0
      },
      "text/plain": [
       "Fetching file...: 0 [00:00, ?/s]"
      ]
     },
     "metadata": {},
     "output_type": "display_data"
    },
    {
     "name": "stdout",
     "output_type": "stream",
     "text": [
      "Using Neptune\n"
     ]
    },
    {
     "data": {
      "application/vnd.jupyter.widget-view+json": {
       "model_id": "76ef282ad517470d8075ce6f759456d2",
       "version_major": 2,
       "version_minor": 0
      },
      "text/plain": [
       "Fetching file...: 0 [00:00, ?/s]"
      ]
     },
     "metadata": {},
     "output_type": "display_data"
    },
    {
     "name": "stdout",
     "output_type": "stream",
     "text": [
      "Using Neptune\n"
     ]
    },
    {
     "data": {
      "application/vnd.jupyter.widget-view+json": {
       "model_id": "f9da4b6e798548779a33003ad5a9d911",
       "version_major": 2,
       "version_minor": 0
      },
      "text/plain": [
       "Fetching file...: 0 [00:00, ?/s]"
      ]
     },
     "metadata": {},
     "output_type": "display_data"
    },
    {
     "name": "stdout",
     "output_type": "stream",
     "text": [
      "[neptune] [info   ] Shutting down background jobs, please wait a moment...\n",
      "[neptune] [info   ] Done!\n",
      "[neptune] [info   ] Waiting for the remaining 35 operations to synchronize with Neptune. Do not kill this process.\n",
      "[neptune] [info   ] All 35 operations synced, thanks for waiting!\n",
      "[neptune] [info   ] Explore the metadata in the Neptune app: https://app.neptune.ai/revivemed/Survival-RCC/e/SUR-2744/metadata\n",
      "Getting the latest dataset\n",
      "[neptune] [info   ] Neptune initialized. Open in the app: https://app.neptune.ai/revivemed/Survival-RCC/\n",
      "[neptune] [info   ] Shutting down background jobs, please wait a moment...\n",
      "[neptune] [info   ] Done!\n",
      "[neptune] [info   ] All 0 operations synced, thanks for waiting!\n",
      "[neptune] [info   ] Explore the metadata in the Neptune app: https://app.neptune.ai/revivemed/Survival-RCC/metadata\n",
      "[neptune] [info   ] Neptune initialized. Open in the app: https://app.neptune.ai/revivemed/Survival-RCC/e/SUR-2759\n",
      "eval_params_list [{'y_col_name': 'NIVO OS', 'y_head': 'NIVO OS', 'y_cols': ['NIVO OS', 'OS_Event']}, {'y_col_name': 'NIVO OS', 'y_head': 'EVER OS', 'y_cols': ['NIVO OS', 'OS_Event']}, {'y_col_name': 'NIVO OS', 'y_head': 'Both OS', 'y_cols': ['NIVO OS', 'OS_Event']}, {'y_col_name': 'EVER OS', 'y_head': 'NIVO OS', 'y_cols': ['EVER OS', 'OS_Event']}, {'y_col_name': 'EVER OS', 'y_head': 'EVER OS', 'y_cols': ['EVER OS', 'OS_Event']}, {'y_col_name': 'EVER OS', 'y_head': 'Both OS', 'y_cols': ['EVER OS', 'OS_Event']}, {'y_col_name': 'Both OS', 'y_head': 'EVER OS', 'y_cols': ['OS', 'OS_Event']}, {'y_col_name': 'Both OS', 'y_head': 'NIVO OS', 'y_cols': ['OS', 'OS_Event']}, {'y_col_name': 'Both OS', 'y_head': 'Both OS', 'y_cols': ['OS', 'OS_Event']}, {'y_col_name': 'NIVO PFS', 'y_head': 'NIVO PFS', 'y_cols': ['NIVO PFS', 'PFS_Event']}, {'y_col_name': 'NIVO PFS', 'y_head': 'EVER PFS', 'y_cols': ['NIVO PFS', 'PFS_Event']}, {'y_col_name': 'NIVO PFS', 'y_head': 'Both PFS', 'y_cols': ['NIVO PFS', 'PFS_Event']}, {'y_col_name': 'EVER PFS', 'y_head': 'NIVO PFS', 'y_cols': ['EVER PFS', 'PFS_Event']}, {'y_col_name': 'EVER PFS', 'y_head': 'EVER PFS', 'y_cols': ['EVER PFS', 'PFS_Event']}, {'y_col_name': 'EVER PFS', 'y_head': 'Both PFS', 'y_cols': ['EVER PFS', 'PFS_Event']}, {'y_col_name': 'Both PFS', 'y_head': 'EVER PFS', 'y_cols': ['PFS', 'PFS_Event']}, {'y_col_name': 'Both PFS', 'y_head': 'NIVO PFS', 'y_cols': ['PFS', 'PFS_Event']}, {'y_col_name': 'Both PFS', 'y_head': 'Both PFS', 'y_cols': ['PFS', 'PFS_Event']}, {'y_col_name': 'MSKCC BINARY', 'y_head': 'MSKCC', 'y_cols': ['MSKCC BINARY']}, {'y_col_name': 'IMDC BINARY', 'y_head': 'IMDC', 'y_cols': ['IMDC BINARY']}, {'y_col_name': 'MSKCC ORDINAL', 'y_head': 'MSKCC_Ordinal', 'y_cols': ['MSKCC ORDINAL']}, {'y_col_name': 'IMDC ORDINAL', 'y_head': 'IMDC_Ordinal', 'y_cols': ['IMDC ORDINAL']}, {'y_col_name': 'MSKCC ORDINAL', 'y_head': 'MSKCC_MultiClass', 'y_cols': ['MSKCC ORDINAL']}, {'y_col_name': 'IMDC ORDINAL', 'y_head': 'IMDC_MultiClass', 'y_cols': ['IMDC ORDINAL']}, {'y_col_name': 'Benefit BINARY', 'y_head': 'Benefit', 'y_cols': ['Benefit BINARY']}]\n",
      "Using Neptune\n"
     ]
    },
    {
     "data": {
      "application/vnd.jupyter.widget-view+json": {
       "model_id": "eef8187c78eb490dbce1d94bdb8056bf",
       "version_major": 2,
       "version_minor": 0
      },
      "text/plain": [
       "Fetching file...: 0 [00:00, ?/s]"
      ]
     },
     "metadata": {},
     "output_type": "display_data"
    },
    {
     "name": "stdout",
     "output_type": "stream",
     "text": [
      "Using Neptune\n"
     ]
    },
    {
     "data": {
      "application/vnd.jupyter.widget-view+json": {
       "model_id": "cae231853daa40849b4375329b7cdad0",
       "version_major": 2,
       "version_minor": 0
      },
      "text/plain": [
       "Fetching file...: 0 [00:00, ?/s]"
      ]
     },
     "metadata": {},
     "output_type": "display_data"
    },
    {
     "name": "stdout",
     "output_type": "stream",
     "text": [
      "Using Neptune\n"
     ]
    },
    {
     "data": {
      "application/vnd.jupyter.widget-view+json": {
       "model_id": "fcaa5f6aa58544faadb664d4345d64b6",
       "version_major": 2,
       "version_minor": 0
      },
      "text/plain": [
       "Fetching file...: 0 [00:00, ?/s]"
      ]
     },
     "metadata": {},
     "output_type": "display_data"
    },
    {
     "name": "stdout",
     "output_type": "stream",
     "text": [
      "Using Neptune\n"
     ]
    },
    {
     "data": {
      "application/vnd.jupyter.widget-view+json": {
       "model_id": "4993b966b1fc4c6a99345f2c163165d2",
       "version_major": 2,
       "version_minor": 0
      },
      "text/plain": [
       "Fetching file...: 0 [00:00, ?/s]"
      ]
     },
     "metadata": {},
     "output_type": "display_data"
    },
    {
     "name": "stdout",
     "output_type": "stream",
     "text": [
      "Using Neptune\n",
      "Record the model fitting to Neptune\n",
      "Training on train\n",
      "Training on train\n",
      "Epoch [1/71], train Loss: 3.0406\n",
      "Epoch [11/71], train Loss: 1.2138\n",
      "Epoch [21/71], train Loss: 0.9619\n",
      "Epoch [31/71], train Loss: 0.8882\n",
      "Epoch [41/71], train Loss: 0.8036\n",
      "Epoch [51/71], train Loss: 0.8482\n",
      "Epoch [61/71], train Loss: 0.8587\n",
      "Epoch [71/71], train Loss: 0.7724\n",
      "Save models to Neptune\n",
      "[neptune] [error  ] Error occurred during asynchronous operation processing: Cannot upload file /Users/jonaheaton/OUTPUT/SUR-2759/training_run_4/models/adv_info.json: Path not found or is a not a file.\n",
      "[neptune] [error  ] Error occurred during asynchronous operation processing: Cannot upload file /Users/jonaheaton/OUTPUT/SUR-2759/training_run_4/models/adv_state.pt: Path not found or is a not a file.\n",
      "Using Neptune\n",
      "Record the model fitting to Neptune\n",
      "Training on train\n",
      "Training on train\n",
      "Epoch [1/71], train Loss: 3.0991\n",
      "Epoch [11/71], train Loss: 1.3245\n",
      "Epoch [21/71], train Loss: 0.9406\n",
      "Epoch [31/71], train Loss: 0.9315\n",
      "Epoch [41/71], train Loss: 0.8505\n",
      "Epoch [51/71], train Loss: 0.8575\n",
      "Epoch [61/71], train Loss: 0.7878\n",
      "Epoch [71/71], train Loss: 0.8482\n",
      "Save models to Neptune\n",
      "[neptune] [error  ] Error occurred during asynchronous operation processing: Cannot upload file /Users/jonaheaton/OUTPUT/SUR-2759/training_run_5/models/adv_info.json: Path not found or is a not a file.\n",
      "[neptune] [error  ] Error occurred during asynchronous operation processing: Cannot upload file /Users/jonaheaton/OUTPUT/SUR-2759/training_run_5/models/adv_state.pt: Path not found or is a not a file.\n",
      "Using Neptune\n",
      "Record the model fitting to Neptune\n",
      "Training on train\n",
      "Training on train\n",
      "Epoch [1/71], train Loss: 3.0352\n",
      "Epoch [11/71], train Loss: 1.2381\n",
      "Head loss is nan/inf!\n",
      "your learning rate is probably too high\n",
      "Error: Encoder is None after training, training failed\n",
      "Using Neptune\n"
     ]
    },
    {
     "data": {
      "application/vnd.jupyter.widget-view+json": {
       "model_id": "5549a53e0f434d588ef317ae2f5e1beb",
       "version_major": 2,
       "version_minor": 0
      },
      "text/plain": [
       "Fetching file...: 0 [00:00, ?/s]"
      ]
     },
     "metadata": {},
     "output_type": "display_data"
    },
    {
     "name": "stdout",
     "output_type": "stream",
     "text": [
      "Using Neptune\n"
     ]
    },
    {
     "data": {
      "application/vnd.jupyter.widget-view+json": {
       "model_id": "3b7e93cf79564c8c91f446dad89176e9",
       "version_major": 2,
       "version_minor": 0
      },
      "text/plain": [
       "Fetching file...: 0 [00:00, ?/s]"
      ]
     },
     "metadata": {},
     "output_type": "display_data"
    },
    {
     "name": "stdout",
     "output_type": "stream",
     "text": [
      "Using Neptune\n",
      "Record the model fitting to Neptune\n",
      "Training on train\n",
      "Training on train\n",
      "Epoch [1/71], train Loss: 3.0778\n",
      "Epoch [11/71], train Loss: 1.1816\n",
      "Epoch [21/71], train Loss: 0.8936\n",
      "Epoch [31/71], train Loss: 0.9261\n",
      "Epoch [41/71], train Loss: 0.8569\n",
      "Epoch [51/71], train Loss: 0.8497\n",
      "Epoch [61/71], train Loss: 0.7669\n",
      "Head loss is nan/inf!\n",
      "your learning rate is probably too high\n",
      "Error: Encoder is None after training, training failed\n",
      "Using Neptune\n"
     ]
    },
    {
     "data": {
      "application/vnd.jupyter.widget-view+json": {
       "model_id": "e47143c5990c4a6893295ef450137026",
       "version_major": 2,
       "version_minor": 0
      },
      "text/plain": [
       "Fetching file...: 0 [00:00, ?/s]"
      ]
     },
     "metadata": {},
     "output_type": "display_data"
    },
    {
     "name": "stdout",
     "output_type": "stream",
     "text": [
      "Using Neptune\n"
     ]
    },
    {
     "data": {
      "application/vnd.jupyter.widget-view+json": {
       "model_id": "c7389242d95545189f1a8be28198d00f",
       "version_major": 2,
       "version_minor": 0
      },
      "text/plain": [
       "Fetching file...: 0 [00:00, ?/s]"
      ]
     },
     "metadata": {},
     "output_type": "display_data"
    },
    {
     "name": "stdout",
     "output_type": "stream",
     "text": [
      "Using Neptune\n"
     ]
    },
    {
     "data": {
      "application/vnd.jupyter.widget-view+json": {
       "model_id": "cc2967cfd48e4d60804dc5f758e75c09",
       "version_major": 2,
       "version_minor": 0
      },
      "text/plain": [
       "Fetching file...: 0 [00:00, ?/s]"
      ]
     },
     "metadata": {},
     "output_type": "display_data"
    },
    {
     "name": "stdout",
     "output_type": "stream",
     "text": [
      "Using Neptune\n"
     ]
    },
    {
     "data": {
      "application/vnd.jupyter.widget-view+json": {
       "model_id": "fa44642a8abd4703bc68b617a9b744ac",
       "version_major": 2,
       "version_minor": 0
      },
      "text/plain": [
       "Fetching file...: 0 [00:00, ?/s]"
      ]
     },
     "metadata": {},
     "output_type": "display_data"
    },
    {
     "name": "stdout",
     "output_type": "stream",
     "text": [
      "Using Neptune\n"
     ]
    },
    {
     "data": {
      "application/vnd.jupyter.widget-view+json": {
       "model_id": "0afa8c13f5ae49be9dc1ff98f0088241",
       "version_major": 2,
       "version_minor": 0
      },
      "text/plain": [
       "Fetching file...: 0 [00:00, ?/s]"
      ]
     },
     "metadata": {},
     "output_type": "display_data"
    },
    {
     "name": "stdout",
     "output_type": "stream",
     "text": [
      "Using Neptune\n"
     ]
    },
    {
     "data": {
      "application/vnd.jupyter.widget-view+json": {
       "model_id": "f2a7fd9eaec04ad882f05de89799a577",
       "version_major": 2,
       "version_minor": 0
      },
      "text/plain": [
       "Fetching file...: 0 [00:00, ?/s]"
      ]
     },
     "metadata": {},
     "output_type": "display_data"
    },
    {
     "name": "stdout",
     "output_type": "stream",
     "text": [
      "Using Neptune\n"
     ]
    },
    {
     "data": {
      "application/vnd.jupyter.widget-view+json": {
       "model_id": "90460dfc6d774095b31fa4963d2a8b18",
       "version_major": 2,
       "version_minor": 0
      },
      "text/plain": [
       "Fetching file...: 0 [00:00, ?/s]"
      ]
     },
     "metadata": {},
     "output_type": "display_data"
    },
    {
     "name": "stdout",
     "output_type": "stream",
     "text": [
      "Using Neptune\n"
     ]
    },
    {
     "data": {
      "application/vnd.jupyter.widget-view+json": {
       "model_id": "e8f33c65e1f94b0993f00ea2ba7fd1cf",
       "version_major": 2,
       "version_minor": 0
      },
      "text/plain": [
       "Fetching file...: 0 [00:00, ?/s]"
      ]
     },
     "metadata": {},
     "output_type": "display_data"
    },
    {
     "name": "stdout",
     "output_type": "stream",
     "text": [
      "Using Neptune\n"
     ]
    },
    {
     "data": {
      "application/vnd.jupyter.widget-view+json": {
       "model_id": "0f7991055a73475aa690ce4408ed0a5d",
       "version_major": 2,
       "version_minor": 0
      },
      "text/plain": [
       "Fetching file...: 0 [00:00, ?/s]"
      ]
     },
     "metadata": {},
     "output_type": "display_data"
    },
    {
     "name": "stdout",
     "output_type": "stream",
     "text": [
      "Using Neptune\n"
     ]
    },
    {
     "data": {
      "application/vnd.jupyter.widget-view+json": {
       "model_id": "13eaec3b94d242dc8cee0daed87fdaed",
       "version_major": 2,
       "version_minor": 0
      },
      "text/plain": [
       "Fetching file...: 0 [00:00, ?/s]"
      ]
     },
     "metadata": {},
     "output_type": "display_data"
    },
    {
     "name": "stdout",
     "output_type": "stream",
     "text": [
      "[neptune] [info   ] Shutting down background jobs, please wait a moment...\n",
      "[neptune] [info   ] Done!\n",
      "[neptune] [info   ] Waiting for the remaining 35 operations to synchronize with Neptune. Do not kill this process.\n",
      "[neptune] [info   ] All 35 operations synced, thanks for waiting!\n",
      "[neptune] [info   ] Explore the metadata in the Neptune app: https://app.neptune.ai/revivemed/Survival-RCC/e/SUR-2759/metadata\n",
      "Getting the latest dataset\n",
      "[neptune] [info   ] Neptune initialized. Open in the app: https://app.neptune.ai/revivemed/Survival-RCC/\n",
      "[neptune] [info   ] Shutting down background jobs, please wait a moment...\n",
      "[neptune] [info   ] Done!\n",
      "[neptune] [info   ] All 0 operations synced, thanks for waiting!\n",
      "[neptune] [info   ] Explore the metadata in the Neptune app: https://app.neptune.ai/revivemed/Survival-RCC/metadata\n",
      "[neptune] [info   ] Neptune initialized. Open in the app: https://app.neptune.ai/revivemed/Survival-RCC/e/SUR-2824\n",
      "eval_params_list [{'y_col_name': 'NIVO OS', 'y_head': 'NIVO OS', 'y_cols': ['NIVO OS', 'OS_Event']}, {'y_col_name': 'NIVO OS', 'y_head': 'EVER OS', 'y_cols': ['NIVO OS', 'OS_Event']}, {'y_col_name': 'NIVO OS', 'y_head': 'Both OS', 'y_cols': ['NIVO OS', 'OS_Event']}, {'y_col_name': 'EVER OS', 'y_head': 'NIVO OS', 'y_cols': ['EVER OS', 'OS_Event']}, {'y_col_name': 'EVER OS', 'y_head': 'EVER OS', 'y_cols': ['EVER OS', 'OS_Event']}, {'y_col_name': 'EVER OS', 'y_head': 'Both OS', 'y_cols': ['EVER OS', 'OS_Event']}, {'y_col_name': 'Both OS', 'y_head': 'EVER OS', 'y_cols': ['OS', 'OS_Event']}, {'y_col_name': 'Both OS', 'y_head': 'NIVO OS', 'y_cols': ['OS', 'OS_Event']}, {'y_col_name': 'Both OS', 'y_head': 'Both OS', 'y_cols': ['OS', 'OS_Event']}, {'y_col_name': 'NIVO PFS', 'y_head': 'NIVO PFS', 'y_cols': ['NIVO PFS', 'PFS_Event']}, {'y_col_name': 'NIVO PFS', 'y_head': 'EVER PFS', 'y_cols': ['NIVO PFS', 'PFS_Event']}, {'y_col_name': 'NIVO PFS', 'y_head': 'Both PFS', 'y_cols': ['NIVO PFS', 'PFS_Event']}, {'y_col_name': 'EVER PFS', 'y_head': 'NIVO PFS', 'y_cols': ['EVER PFS', 'PFS_Event']}, {'y_col_name': 'EVER PFS', 'y_head': 'EVER PFS', 'y_cols': ['EVER PFS', 'PFS_Event']}, {'y_col_name': 'EVER PFS', 'y_head': 'Both PFS', 'y_cols': ['EVER PFS', 'PFS_Event']}, {'y_col_name': 'Both PFS', 'y_head': 'EVER PFS', 'y_cols': ['PFS', 'PFS_Event']}, {'y_col_name': 'Both PFS', 'y_head': 'NIVO PFS', 'y_cols': ['PFS', 'PFS_Event']}, {'y_col_name': 'Both PFS', 'y_head': 'Both PFS', 'y_cols': ['PFS', 'PFS_Event']}, {'y_col_name': 'MSKCC BINARY', 'y_head': 'MSKCC', 'y_cols': ['MSKCC BINARY']}, {'y_col_name': 'IMDC BINARY', 'y_head': 'IMDC', 'y_cols': ['IMDC BINARY']}, {'y_col_name': 'MSKCC ORDINAL', 'y_head': 'MSKCC_Ordinal', 'y_cols': ['MSKCC ORDINAL']}, {'y_col_name': 'IMDC ORDINAL', 'y_head': 'IMDC_Ordinal', 'y_cols': ['IMDC ORDINAL']}, {'y_col_name': 'MSKCC ORDINAL', 'y_head': 'MSKCC_MultiClass', 'y_cols': ['MSKCC ORDINAL']}, {'y_col_name': 'IMDC ORDINAL', 'y_head': 'IMDC_MultiClass', 'y_cols': ['IMDC ORDINAL']}, {'y_col_name': 'Benefit BINARY', 'y_head': 'Benefit', 'y_cols': ['Benefit BINARY']}]\n",
      "Using Neptune\n"
     ]
    },
    {
     "data": {
      "application/vnd.jupyter.widget-view+json": {
       "model_id": "569ca3b97b5f430e8be80e2905296be8",
       "version_major": 2,
       "version_minor": 0
      },
      "text/plain": [
       "Fetching file...: 0 [00:00, ?/s]"
      ]
     },
     "metadata": {},
     "output_type": "display_data"
    },
    {
     "name": "stdout",
     "output_type": "stream",
     "text": [
      "Using Neptune\n"
     ]
    },
    {
     "data": {
      "application/vnd.jupyter.widget-view+json": {
       "model_id": "e905ed68671f48e4a11645cae3534a0f",
       "version_major": 2,
       "version_minor": 0
      },
      "text/plain": [
       "Fetching file...: 0 [00:00, ?/s]"
      ]
     },
     "metadata": {},
     "output_type": "display_data"
    },
    {
     "name": "stdout",
     "output_type": "stream",
     "text": [
      "Using Neptune\n"
     ]
    },
    {
     "data": {
      "application/vnd.jupyter.widget-view+json": {
       "model_id": "b2f68d5b9e8c4bcbb8da8d48c853fb12",
       "version_major": 2,
       "version_minor": 0
      },
      "text/plain": [
       "Fetching file...: 0 [00:00, ?/s]"
      ]
     },
     "metadata": {},
     "output_type": "display_data"
    },
    {
     "name": "stdout",
     "output_type": "stream",
     "text": [
      "Using Neptune\n"
     ]
    },
    {
     "data": {
      "application/vnd.jupyter.widget-view+json": {
       "model_id": "4fb30da79cb54311953defff1c823b23",
       "version_major": 2,
       "version_minor": 0
      },
      "text/plain": [
       "Fetching file...: 0 [00:00, ?/s]"
      ]
     },
     "metadata": {},
     "output_type": "display_data"
    },
    {
     "name": "stdout",
     "output_type": "stream",
     "text": [
      "Using Neptune\n"
     ]
    },
    {
     "data": {
      "application/vnd.jupyter.widget-view+json": {
       "model_id": "9bb15c42c5a3465f808a73670fdef511",
       "version_major": 2,
       "version_minor": 0
      },
      "text/plain": [
       "Fetching file...: 0 [00:00, ?/s]"
      ]
     },
     "metadata": {},
     "output_type": "display_data"
    },
    {
     "name": "stdout",
     "output_type": "stream",
     "text": [
      "Using Neptune\n"
     ]
    },
    {
     "data": {
      "application/vnd.jupyter.widget-view+json": {
       "model_id": "a7f042c7e610428a9bf27a98a4712c6d",
       "version_major": 2,
       "version_minor": 0
      },
      "text/plain": [
       "Fetching file...: 0 [00:00, ?/s]"
      ]
     },
     "metadata": {},
     "output_type": "display_data"
    },
    {
     "name": "stdout",
     "output_type": "stream",
     "text": [
      "Using Neptune\n"
     ]
    },
    {
     "data": {
      "application/vnd.jupyter.widget-view+json": {
       "model_id": "21552c9ec3d24359bf12b3b96edae3bf",
       "version_major": 2,
       "version_minor": 0
      },
      "text/plain": [
       "Fetching file...: 0 [00:00, ?/s]"
      ]
     },
     "metadata": {},
     "output_type": "display_data"
    },
    {
     "name": "stdout",
     "output_type": "stream",
     "text": [
      "Using Neptune\n"
     ]
    },
    {
     "data": {
      "application/vnd.jupyter.widget-view+json": {
       "model_id": "2ce84d1101564520ae751c0cff859f24",
       "version_major": 2,
       "version_minor": 0
      },
      "text/plain": [
       "Fetching file...: 0 [00:00, ?/s]"
      ]
     },
     "metadata": {},
     "output_type": "display_data"
    },
    {
     "name": "stdout",
     "output_type": "stream",
     "text": [
      "Using Neptune\n"
     ]
    },
    {
     "data": {
      "application/vnd.jupyter.widget-view+json": {
       "model_id": "0997d3a1097247e99a83487357ac8fc4",
       "version_major": 2,
       "version_minor": 0
      },
      "text/plain": [
       "Fetching file...: 0 [00:00, ?/s]"
      ]
     },
     "metadata": {},
     "output_type": "display_data"
    },
    {
     "name": "stdout",
     "output_type": "stream",
     "text": [
      "Using Neptune\n"
     ]
    },
    {
     "data": {
      "application/vnd.jupyter.widget-view+json": {
       "model_id": "7c58cb8a901b44a7a73209252e7976e5",
       "version_major": 2,
       "version_minor": 0
      },
      "text/plain": [
       "Fetching file...: 0 [00:00, ?/s]"
      ]
     },
     "metadata": {},
     "output_type": "display_data"
    },
    {
     "name": "stdout",
     "output_type": "stream",
     "text": [
      "Using Neptune\n"
     ]
    },
    {
     "data": {
      "application/vnd.jupyter.widget-view+json": {
       "model_id": "9755567811724d6b936b96d9c6051390",
       "version_major": 2,
       "version_minor": 0
      },
      "text/plain": [
       "Fetching file...: 0 [00:00, ?/s]"
      ]
     },
     "metadata": {},
     "output_type": "display_data"
    },
    {
     "name": "stdout",
     "output_type": "stream",
     "text": [
      "Using Neptune\n"
     ]
    },
    {
     "data": {
      "application/vnd.jupyter.widget-view+json": {
       "model_id": "838972e6c1564af0934a2b926657580c",
       "version_major": 2,
       "version_minor": 0
      },
      "text/plain": [
       "Fetching file...: 0 [00:00, ?/s]"
      ]
     },
     "metadata": {},
     "output_type": "display_data"
    },
    {
     "name": "stdout",
     "output_type": "stream",
     "text": [
      "Using Neptune\n"
     ]
    },
    {
     "data": {
      "application/vnd.jupyter.widget-view+json": {
       "model_id": "244da5a119ef4bb8b8751694a4d3f307",
       "version_major": 2,
       "version_minor": 0
      },
      "text/plain": [
       "Fetching file...: 0 [00:00, ?/s]"
      ]
     },
     "metadata": {},
     "output_type": "display_data"
    },
    {
     "name": "stdout",
     "output_type": "stream",
     "text": [
      "Using Neptune\n"
     ]
    },
    {
     "data": {
      "application/vnd.jupyter.widget-view+json": {
       "model_id": "d0e61c4fd21c45e7b1e9c8da04c2c001",
       "version_major": 2,
       "version_minor": 0
      },
      "text/plain": [
       "Fetching file...: 0 [00:00, ?/s]"
      ]
     },
     "metadata": {},
     "output_type": "display_data"
    },
    {
     "name": "stdout",
     "output_type": "stream",
     "text": [
      "Using Neptune\n"
     ]
    },
    {
     "data": {
      "application/vnd.jupyter.widget-view+json": {
       "model_id": "b271501e7db548168c6dee91dee2a8e5",
       "version_major": 2,
       "version_minor": 0
      },
      "text/plain": [
       "Fetching file...: 0 [00:00, ?/s]"
      ]
     },
     "metadata": {},
     "output_type": "display_data"
    },
    {
     "name": "stdout",
     "output_type": "stream",
     "text": [
      "Using Neptune\n"
     ]
    },
    {
     "data": {
      "application/vnd.jupyter.widget-view+json": {
       "model_id": "4f1d1bebb52c4170a6adb3b2b5897d98",
       "version_major": 2,
       "version_minor": 0
      },
      "text/plain": [
       "Fetching file...: 0 [00:00, ?/s]"
      ]
     },
     "metadata": {},
     "output_type": "display_data"
    },
    {
     "name": "stdout",
     "output_type": "stream",
     "text": [
      "Using Neptune\n"
     ]
    },
    {
     "data": {
      "application/vnd.jupyter.widget-view+json": {
       "model_id": "2a6ff8b3271747a5bf24767e72098f39",
       "version_major": 2,
       "version_minor": 0
      },
      "text/plain": [
       "Fetching file...: 0 [00:00, ?/s]"
      ]
     },
     "metadata": {},
     "output_type": "display_data"
    },
    {
     "name": "stdout",
     "output_type": "stream",
     "text": [
      "Using Neptune\n"
     ]
    },
    {
     "data": {
      "application/vnd.jupyter.widget-view+json": {
       "model_id": "b48c25a739d44e0682832d417d9e32da",
       "version_major": 2,
       "version_minor": 0
      },
      "text/plain": [
       "Fetching file...: 0 [00:00, ?/s]"
      ]
     },
     "metadata": {},
     "output_type": "display_data"
    },
    {
     "name": "stdout",
     "output_type": "stream",
     "text": [
      "Using Neptune\n"
     ]
    },
    {
     "data": {
      "application/vnd.jupyter.widget-view+json": {
       "model_id": "68bdcf4785e84bfb84d07affa1e2138e",
       "version_major": 2,
       "version_minor": 0
      },
      "text/plain": [
       "Fetching file...: 0 [00:00, ?/s]"
      ]
     },
     "metadata": {},
     "output_type": "display_data"
    },
    {
     "name": "stdout",
     "output_type": "stream",
     "text": [
      "Using Neptune\n"
     ]
    },
    {
     "data": {
      "application/vnd.jupyter.widget-view+json": {
       "model_id": "38e783f704664f9180a294269368dd0c",
       "version_major": 2,
       "version_minor": 0
      },
      "text/plain": [
       "Fetching file...: 0 [00:00, ?/s]"
      ]
     },
     "metadata": {},
     "output_type": "display_data"
    },
    {
     "name": "stdout",
     "output_type": "stream",
     "text": [
      "[neptune] [info   ] Shutting down background jobs, please wait a moment...\n",
      "[neptune] [info   ] Done!\n",
      "[neptune] [info   ] Waiting for the remaining 35 operations to synchronize with Neptune. Do not kill this process.\n",
      "[neptune] [info   ] All 35 operations synced, thanks for waiting!\n",
      "[neptune] [info   ] Explore the metadata in the Neptune app: https://app.neptune.ai/revivemed/Survival-RCC/e/SUR-2824/metadata\n",
      "Getting the latest dataset\n",
      "[neptune] [info   ] Neptune initialized. Open in the app: https://app.neptune.ai/revivemed/Survival-RCC/\n",
      "[neptune] [info   ] Shutting down background jobs, please wait a moment...\n",
      "[neptune] [info   ] Done!\n",
      "[neptune] [info   ] All 0 operations synced, thanks for waiting!\n",
      "[neptune] [info   ] Explore the metadata in the Neptune app: https://app.neptune.ai/revivemed/Survival-RCC/metadata\n",
      "[neptune] [info   ] Neptune initialized. Open in the app: https://app.neptune.ai/revivemed/Survival-RCC/e/SUR-2775\n",
      "eval_params_list [{'y_col_name': 'NIVO OS', 'y_head': 'NIVO OS', 'y_cols': ['NIVO OS', 'OS_Event']}, {'y_col_name': 'NIVO OS', 'y_head': 'EVER OS', 'y_cols': ['NIVO OS', 'OS_Event']}, {'y_col_name': 'NIVO OS', 'y_head': 'Both OS', 'y_cols': ['NIVO OS', 'OS_Event']}, {'y_col_name': 'EVER OS', 'y_head': 'NIVO OS', 'y_cols': ['EVER OS', 'OS_Event']}, {'y_col_name': 'EVER OS', 'y_head': 'EVER OS', 'y_cols': ['EVER OS', 'OS_Event']}, {'y_col_name': 'EVER OS', 'y_head': 'Both OS', 'y_cols': ['EVER OS', 'OS_Event']}, {'y_col_name': 'Both OS', 'y_head': 'EVER OS', 'y_cols': ['OS', 'OS_Event']}, {'y_col_name': 'Both OS', 'y_head': 'NIVO OS', 'y_cols': ['OS', 'OS_Event']}, {'y_col_name': 'Both OS', 'y_head': 'Both OS', 'y_cols': ['OS', 'OS_Event']}, {'y_col_name': 'NIVO PFS', 'y_head': 'NIVO PFS', 'y_cols': ['NIVO PFS', 'PFS_Event']}, {'y_col_name': 'NIVO PFS', 'y_head': 'EVER PFS', 'y_cols': ['NIVO PFS', 'PFS_Event']}, {'y_col_name': 'NIVO PFS', 'y_head': 'Both PFS', 'y_cols': ['NIVO PFS', 'PFS_Event']}, {'y_col_name': 'EVER PFS', 'y_head': 'NIVO PFS', 'y_cols': ['EVER PFS', 'PFS_Event']}, {'y_col_name': 'EVER PFS', 'y_head': 'EVER PFS', 'y_cols': ['EVER PFS', 'PFS_Event']}, {'y_col_name': 'EVER PFS', 'y_head': 'Both PFS', 'y_cols': ['EVER PFS', 'PFS_Event']}, {'y_col_name': 'Both PFS', 'y_head': 'EVER PFS', 'y_cols': ['PFS', 'PFS_Event']}, {'y_col_name': 'Both PFS', 'y_head': 'NIVO PFS', 'y_cols': ['PFS', 'PFS_Event']}, {'y_col_name': 'Both PFS', 'y_head': 'Both PFS', 'y_cols': ['PFS', 'PFS_Event']}, {'y_col_name': 'MSKCC BINARY', 'y_head': 'MSKCC', 'y_cols': ['MSKCC BINARY']}, {'y_col_name': 'IMDC BINARY', 'y_head': 'IMDC', 'y_cols': ['IMDC BINARY']}, {'y_col_name': 'MSKCC ORDINAL', 'y_head': 'MSKCC_Ordinal', 'y_cols': ['MSKCC ORDINAL']}, {'y_col_name': 'IMDC ORDINAL', 'y_head': 'IMDC_Ordinal', 'y_cols': ['IMDC ORDINAL']}, {'y_col_name': 'MSKCC ORDINAL', 'y_head': 'MSKCC_MultiClass', 'y_cols': ['MSKCC ORDINAL']}, {'y_col_name': 'IMDC ORDINAL', 'y_head': 'IMDC_MultiClass', 'y_cols': ['IMDC ORDINAL']}, {'y_col_name': 'Benefit BINARY', 'y_head': 'Benefit', 'y_cols': ['Benefit BINARY']}]\n",
      "Using Neptune\n",
      "Using Neptune\n",
      "Using Neptune\n",
      "Using Neptune\n",
      "Using Neptune\n",
      "Using Neptune\n",
      "Using Neptune\n",
      "Using Neptune\n",
      "Using Neptune\n",
      "Using Neptune\n",
      "Using Neptune\n",
      "Using Neptune\n",
      "Using Neptune\n",
      "Using Neptune\n",
      "Using Neptune\n",
      "Using Neptune\n",
      "Using Neptune\n",
      "Using Neptune\n",
      "Using Neptune\n",
      "Using Neptune\n",
      "[neptune] [info   ] Shutting down background jobs, please wait a moment...\n",
      "[neptune] [info   ] Done!\n",
      "[neptune] [info   ] Waiting for the remaining 35 operations to synchronize with Neptune. Do not kill this process.\n",
      "[neptune] [info   ] All 35 operations synced, thanks for waiting!\n",
      "[neptune] [info   ] Explore the metadata in the Neptune app: https://app.neptune.ai/revivemed/Survival-RCC/e/SUR-2775/metadata\n",
      "Getting the latest dataset\n",
      "[neptune] [info   ] Neptune initialized. Open in the app: https://app.neptune.ai/revivemed/Survival-RCC/\n",
      "[neptune] [info   ] Shutting down background jobs, please wait a moment...\n",
      "[neptune] [info   ] Done!\n",
      "[neptune] [info   ] All 0 operations synced, thanks for waiting!\n",
      "[neptune] [info   ] Explore the metadata in the Neptune app: https://app.neptune.ai/revivemed/Survival-RCC/metadata\n",
      "[neptune] [info   ] Neptune initialized. Open in the app: https://app.neptune.ai/revivemed/Survival-RCC/e/SUR-2823\n",
      "eval_params_list [{'y_col_name': 'NIVO OS', 'y_head': 'NIVO OS', 'y_cols': ['NIVO OS', 'OS_Event']}, {'y_col_name': 'NIVO OS', 'y_head': 'EVER OS', 'y_cols': ['NIVO OS', 'OS_Event']}, {'y_col_name': 'NIVO OS', 'y_head': 'Both OS', 'y_cols': ['NIVO OS', 'OS_Event']}, {'y_col_name': 'EVER OS', 'y_head': 'NIVO OS', 'y_cols': ['EVER OS', 'OS_Event']}, {'y_col_name': 'EVER OS', 'y_head': 'EVER OS', 'y_cols': ['EVER OS', 'OS_Event']}, {'y_col_name': 'EVER OS', 'y_head': 'Both OS', 'y_cols': ['EVER OS', 'OS_Event']}, {'y_col_name': 'Both OS', 'y_head': 'EVER OS', 'y_cols': ['OS', 'OS_Event']}, {'y_col_name': 'Both OS', 'y_head': 'NIVO OS', 'y_cols': ['OS', 'OS_Event']}, {'y_col_name': 'Both OS', 'y_head': 'Both OS', 'y_cols': ['OS', 'OS_Event']}, {'y_col_name': 'NIVO PFS', 'y_head': 'NIVO PFS', 'y_cols': ['NIVO PFS', 'PFS_Event']}, {'y_col_name': 'NIVO PFS', 'y_head': 'EVER PFS', 'y_cols': ['NIVO PFS', 'PFS_Event']}, {'y_col_name': 'NIVO PFS', 'y_head': 'Both PFS', 'y_cols': ['NIVO PFS', 'PFS_Event']}, {'y_col_name': 'EVER PFS', 'y_head': 'NIVO PFS', 'y_cols': ['EVER PFS', 'PFS_Event']}, {'y_col_name': 'EVER PFS', 'y_head': 'EVER PFS', 'y_cols': ['EVER PFS', 'PFS_Event']}, {'y_col_name': 'EVER PFS', 'y_head': 'Both PFS', 'y_cols': ['EVER PFS', 'PFS_Event']}, {'y_col_name': 'Both PFS', 'y_head': 'EVER PFS', 'y_cols': ['PFS', 'PFS_Event']}, {'y_col_name': 'Both PFS', 'y_head': 'NIVO PFS', 'y_cols': ['PFS', 'PFS_Event']}, {'y_col_name': 'Both PFS', 'y_head': 'Both PFS', 'y_cols': ['PFS', 'PFS_Event']}, {'y_col_name': 'MSKCC BINARY', 'y_head': 'MSKCC', 'y_cols': ['MSKCC BINARY']}, {'y_col_name': 'IMDC BINARY', 'y_head': 'IMDC', 'y_cols': ['IMDC BINARY']}, {'y_col_name': 'MSKCC ORDINAL', 'y_head': 'MSKCC_Ordinal', 'y_cols': ['MSKCC ORDINAL']}, {'y_col_name': 'IMDC ORDINAL', 'y_head': 'IMDC_Ordinal', 'y_cols': ['IMDC ORDINAL']}, {'y_col_name': 'MSKCC ORDINAL', 'y_head': 'MSKCC_MultiClass', 'y_cols': ['MSKCC ORDINAL']}, {'y_col_name': 'IMDC ORDINAL', 'y_head': 'IMDC_MultiClass', 'y_cols': ['IMDC ORDINAL']}, {'y_col_name': 'Benefit BINARY', 'y_head': 'Benefit', 'y_cols': ['Benefit BINARY']}]\n",
      "Using Neptune\n"
     ]
    },
    {
     "data": {
      "application/vnd.jupyter.widget-view+json": {
       "model_id": "30f6295784424e3880023a4fce1c3e16",
       "version_major": 2,
       "version_minor": 0
      },
      "text/plain": [
       "Fetching file...: 0 [00:00, ?/s]"
      ]
     },
     "metadata": {},
     "output_type": "display_data"
    },
    {
     "name": "stdout",
     "output_type": "stream",
     "text": [
      "Using Neptune\n"
     ]
    },
    {
     "data": {
      "application/vnd.jupyter.widget-view+json": {
       "model_id": "08082d07a7da4123a0893c6e86c88fba",
       "version_major": 2,
       "version_minor": 0
      },
      "text/plain": [
       "Fetching file...: 0 [00:00, ?/s]"
      ]
     },
     "metadata": {},
     "output_type": "display_data"
    },
    {
     "name": "stdout",
     "output_type": "stream",
     "text": [
      "Using Neptune\n"
     ]
    },
    {
     "data": {
      "application/vnd.jupyter.widget-view+json": {
       "model_id": "1d8fac1fceb54827b40155076678798e",
       "version_major": 2,
       "version_minor": 0
      },
      "text/plain": [
       "Fetching file...: 0 [00:00, ?/s]"
      ]
     },
     "metadata": {},
     "output_type": "display_data"
    },
    {
     "name": "stdout",
     "output_type": "stream",
     "text": [
      "Using Neptune\n"
     ]
    },
    {
     "data": {
      "application/vnd.jupyter.widget-view+json": {
       "model_id": "b128a6a4e88c4500bb54c8ada433995a",
       "version_major": 2,
       "version_minor": 0
      },
      "text/plain": [
       "Fetching file...: 0 [00:00, ?/s]"
      ]
     },
     "metadata": {},
     "output_type": "display_data"
    },
    {
     "name": "stdout",
     "output_type": "stream",
     "text": [
      "Using Neptune\n"
     ]
    },
    {
     "data": {
      "application/vnd.jupyter.widget-view+json": {
       "model_id": "53ee99ddeaf8441c9027fd082957a7cb",
       "version_major": 2,
       "version_minor": 0
      },
      "text/plain": [
       "Fetching file...: 0 [00:00, ?/s]"
      ]
     },
     "metadata": {},
     "output_type": "display_data"
    },
    {
     "name": "stdout",
     "output_type": "stream",
     "text": [
      "Using Neptune\n"
     ]
    },
    {
     "data": {
      "application/vnd.jupyter.widget-view+json": {
       "model_id": "6e55d172544f4ffa9a3de070d14d7778",
       "version_major": 2,
       "version_minor": 0
      },
      "text/plain": [
       "Fetching file...: 0 [00:00, ?/s]"
      ]
     },
     "metadata": {},
     "output_type": "display_data"
    },
    {
     "name": "stdout",
     "output_type": "stream",
     "text": [
      "Using Neptune\n"
     ]
    },
    {
     "data": {
      "application/vnd.jupyter.widget-view+json": {
       "model_id": "0b16cbd740dd462a8fc074c8f9223203",
       "version_major": 2,
       "version_minor": 0
      },
      "text/plain": [
       "Fetching file...: 0 [00:00, ?/s]"
      ]
     },
     "metadata": {},
     "output_type": "display_data"
    },
    {
     "name": "stdout",
     "output_type": "stream",
     "text": [
      "Using Neptune\n"
     ]
    },
    {
     "data": {
      "application/vnd.jupyter.widget-view+json": {
       "model_id": "fa254aadc53b4bae96fd998869ebe45e",
       "version_major": 2,
       "version_minor": 0
      },
      "text/plain": [
       "Fetching file...: 0 [00:00, ?/s]"
      ]
     },
     "metadata": {},
     "output_type": "display_data"
    },
    {
     "name": "stdout",
     "output_type": "stream",
     "text": [
      "Using Neptune\n"
     ]
    },
    {
     "data": {
      "application/vnd.jupyter.widget-view+json": {
       "model_id": "055731dc53274c72bfeca4abe2da3dfc",
       "version_major": 2,
       "version_minor": 0
      },
      "text/plain": [
       "Fetching file...: 0 [00:00, ?/s]"
      ]
     },
     "metadata": {},
     "output_type": "display_data"
    },
    {
     "name": "stdout",
     "output_type": "stream",
     "text": [
      "Using Neptune\n"
     ]
    },
    {
     "data": {
      "application/vnd.jupyter.widget-view+json": {
       "model_id": "6b17a4ddbdcb4cbc8fc4db7ef470f3dd",
       "version_major": 2,
       "version_minor": 0
      },
      "text/plain": [
       "Fetching file...: 0 [00:00, ?/s]"
      ]
     },
     "metadata": {},
     "output_type": "display_data"
    },
    {
     "name": "stdout",
     "output_type": "stream",
     "text": [
      "Using Neptune\n"
     ]
    },
    {
     "data": {
      "application/vnd.jupyter.widget-view+json": {
       "model_id": "eec90b4186944f38980e47e130cd1825",
       "version_major": 2,
       "version_minor": 0
      },
      "text/plain": [
       "Fetching file...: 0 [00:00, ?/s]"
      ]
     },
     "metadata": {},
     "output_type": "display_data"
    },
    {
     "name": "stdout",
     "output_type": "stream",
     "text": [
      "Using Neptune\n"
     ]
    },
    {
     "data": {
      "application/vnd.jupyter.widget-view+json": {
       "model_id": "f7a05fe357fa4077b78d6941fb5df3d3",
       "version_major": 2,
       "version_minor": 0
      },
      "text/plain": [
       "Fetching file...: 0 [00:00, ?/s]"
      ]
     },
     "metadata": {},
     "output_type": "display_data"
    },
    {
     "name": "stdout",
     "output_type": "stream",
     "text": [
      "Using Neptune\n"
     ]
    },
    {
     "data": {
      "application/vnd.jupyter.widget-view+json": {
       "model_id": "8d8ac97142884f8fa55c6cf3fb23505c",
       "version_major": 2,
       "version_minor": 0
      },
      "text/plain": [
       "Fetching file...: 0 [00:00, ?/s]"
      ]
     },
     "metadata": {},
     "output_type": "display_data"
    },
    {
     "name": "stdout",
     "output_type": "stream",
     "text": [
      "Using Neptune\n"
     ]
    },
    {
     "data": {
      "application/vnd.jupyter.widget-view+json": {
       "model_id": "939b21ad71d64140a0e2cbec6289c232",
       "version_major": 2,
       "version_minor": 0
      },
      "text/plain": [
       "Fetching file...: 0 [00:00, ?/s]"
      ]
     },
     "metadata": {},
     "output_type": "display_data"
    },
    {
     "name": "stdout",
     "output_type": "stream",
     "text": [
      "Using Neptune\n"
     ]
    },
    {
     "data": {
      "application/vnd.jupyter.widget-view+json": {
       "model_id": "564877e66fb4413b957d7310e43c17e5",
       "version_major": 2,
       "version_minor": 0
      },
      "text/plain": [
       "Fetching file...: 0 [00:00, ?/s]"
      ]
     },
     "metadata": {},
     "output_type": "display_data"
    },
    {
     "name": "stdout",
     "output_type": "stream",
     "text": [
      "Using Neptune\n"
     ]
    },
    {
     "data": {
      "application/vnd.jupyter.widget-view+json": {
       "model_id": "ce7fe57d6f7a4498955e8bf3df830170",
       "version_major": 2,
       "version_minor": 0
      },
      "text/plain": [
       "Fetching file...: 0 [00:00, ?/s]"
      ]
     },
     "metadata": {},
     "output_type": "display_data"
    },
    {
     "name": "stdout",
     "output_type": "stream",
     "text": [
      "Using Neptune\n"
     ]
    },
    {
     "data": {
      "application/vnd.jupyter.widget-view+json": {
       "model_id": "154b4f1e5b7a4f019c2185bc0be12d93",
       "version_major": 2,
       "version_minor": 0
      },
      "text/plain": [
       "Fetching file...: 0 [00:00, ?/s]"
      ]
     },
     "metadata": {},
     "output_type": "display_data"
    },
    {
     "name": "stdout",
     "output_type": "stream",
     "text": [
      "Using Neptune\n"
     ]
    },
    {
     "data": {
      "application/vnd.jupyter.widget-view+json": {
       "model_id": "4b987fc734d445c8b8071dce30b87484",
       "version_major": 2,
       "version_minor": 0
      },
      "text/plain": [
       "Fetching file...: 0 [00:00, ?/s]"
      ]
     },
     "metadata": {},
     "output_type": "display_data"
    },
    {
     "name": "stdout",
     "output_type": "stream",
     "text": [
      "Using Neptune\n"
     ]
    },
    {
     "data": {
      "application/vnd.jupyter.widget-view+json": {
       "model_id": "d4bbdb6d938646a59d11319731baeb22",
       "version_major": 2,
       "version_minor": 0
      },
      "text/plain": [
       "Fetching file...: 0 [00:00, ?/s]"
      ]
     },
     "metadata": {},
     "output_type": "display_data"
    },
    {
     "name": "stdout",
     "output_type": "stream",
     "text": [
      "Using Neptune\n"
     ]
    },
    {
     "data": {
      "application/vnd.jupyter.widget-view+json": {
       "model_id": "49ca22fff456469fbc0b7929b64a445e",
       "version_major": 2,
       "version_minor": 0
      },
      "text/plain": [
       "Fetching file...: 0 [00:00, ?/s]"
      ]
     },
     "metadata": {},
     "output_type": "display_data"
    },
    {
     "name": "stdout",
     "output_type": "stream",
     "text": [
      "[neptune] [info   ] Shutting down background jobs, please wait a moment...\n",
      "[neptune] [info   ] Done!\n",
      "[neptune] [info   ] Waiting for the remaining 35 operations to synchronize with Neptune. Do not kill this process.\n",
      "[neptune] [info   ] All 35 operations synced, thanks for waiting!\n",
      "[neptune] [info   ] Explore the metadata in the Neptune app: https://app.neptune.ai/revivemed/Survival-RCC/e/SUR-2823/metadata\n",
      "Getting the latest dataset\n",
      "[neptune] [info   ] Neptune initialized. Open in the app: https://app.neptune.ai/revivemed/Survival-RCC/\n",
      "[neptune] [info   ] Shutting down background jobs, please wait a moment...\n",
      "[neptune] [info   ] Done!\n",
      "[neptune] [info   ] All 0 operations synced, thanks for waiting!\n",
      "[neptune] [info   ] Explore the metadata in the Neptune app: https://app.neptune.ai/revivemed/Survival-RCC/metadata\n",
      "[neptune] [info   ] Neptune initialized. Open in the app: https://app.neptune.ai/revivemed/Survival-RCC/e/SUR-2791\n",
      "eval_params_list [{'y_col_name': 'NIVO OS', 'y_head': 'NIVO OS', 'y_cols': ['NIVO OS', 'OS_Event']}, {'y_col_name': 'NIVO OS', 'y_head': 'EVER OS', 'y_cols': ['NIVO OS', 'OS_Event']}, {'y_col_name': 'NIVO OS', 'y_head': 'Both OS', 'y_cols': ['NIVO OS', 'OS_Event']}, {'y_col_name': 'EVER OS', 'y_head': 'NIVO OS', 'y_cols': ['EVER OS', 'OS_Event']}, {'y_col_name': 'EVER OS', 'y_head': 'EVER OS', 'y_cols': ['EVER OS', 'OS_Event']}, {'y_col_name': 'EVER OS', 'y_head': 'Both OS', 'y_cols': ['EVER OS', 'OS_Event']}, {'y_col_name': 'Both OS', 'y_head': 'EVER OS', 'y_cols': ['OS', 'OS_Event']}, {'y_col_name': 'Both OS', 'y_head': 'NIVO OS', 'y_cols': ['OS', 'OS_Event']}, {'y_col_name': 'Both OS', 'y_head': 'Both OS', 'y_cols': ['OS', 'OS_Event']}, {'y_col_name': 'NIVO PFS', 'y_head': 'NIVO PFS', 'y_cols': ['NIVO PFS', 'PFS_Event']}, {'y_col_name': 'NIVO PFS', 'y_head': 'EVER PFS', 'y_cols': ['NIVO PFS', 'PFS_Event']}, {'y_col_name': 'NIVO PFS', 'y_head': 'Both PFS', 'y_cols': ['NIVO PFS', 'PFS_Event']}, {'y_col_name': 'EVER PFS', 'y_head': 'NIVO PFS', 'y_cols': ['EVER PFS', 'PFS_Event']}, {'y_col_name': 'EVER PFS', 'y_head': 'EVER PFS', 'y_cols': ['EVER PFS', 'PFS_Event']}, {'y_col_name': 'EVER PFS', 'y_head': 'Both PFS', 'y_cols': ['EVER PFS', 'PFS_Event']}, {'y_col_name': 'Both PFS', 'y_head': 'EVER PFS', 'y_cols': ['PFS', 'PFS_Event']}, {'y_col_name': 'Both PFS', 'y_head': 'NIVO PFS', 'y_cols': ['PFS', 'PFS_Event']}, {'y_col_name': 'Both PFS', 'y_head': 'Both PFS', 'y_cols': ['PFS', 'PFS_Event']}, {'y_col_name': 'MSKCC BINARY', 'y_head': 'MSKCC', 'y_cols': ['MSKCC BINARY']}, {'y_col_name': 'IMDC BINARY', 'y_head': 'IMDC', 'y_cols': ['IMDC BINARY']}, {'y_col_name': 'MSKCC ORDINAL', 'y_head': 'MSKCC_Ordinal', 'y_cols': ['MSKCC ORDINAL']}, {'y_col_name': 'IMDC ORDINAL', 'y_head': 'IMDC_Ordinal', 'y_cols': ['IMDC ORDINAL']}, {'y_col_name': 'MSKCC ORDINAL', 'y_head': 'MSKCC_MultiClass', 'y_cols': ['MSKCC ORDINAL']}, {'y_col_name': 'IMDC ORDINAL', 'y_head': 'IMDC_MultiClass', 'y_cols': ['IMDC ORDINAL']}, {'y_col_name': 'Benefit BINARY', 'y_head': 'Benefit', 'y_cols': ['Benefit BINARY']}]\n",
      "Using Neptune\n",
      "Using Neptune\n",
      "Record the model fitting to Neptune\n",
      "Training on train\n",
      "Training on train\n",
      "Epoch [1/98], train Loss: 3.0567\n",
      "Epoch [11/98], train Loss: 1.2106\n",
      "Epoch [21/98], train Loss: 1.0038\n",
      "Epoch [31/98], train Loss: 0.8982\n",
      "Epoch [41/98], train Loss: 0.8372\n",
      "Epoch [51/98], train Loss: 0.8204\n",
      "Epoch [61/98], train Loss: 0.9098\n",
      "Epoch [71/98], train Loss: 0.8543\n",
      "Epoch [81/98], train Loss: 0.7821\n",
      "Epoch [91/98], train Loss: 0.7612\n",
      "Save models to Neptune\n",
      "[neptune] [error  ] Error occurred during asynchronous operation processing: Cannot upload file /Users/jonaheaton/OUTPUT/SUR-2791/training_run_1/models/adv_info.json: Path not found or is a not a file.\n",
      "[neptune] [error  ] Error occurred during asynchronous operation processing: Cannot upload file /Users/jonaheaton/OUTPUT/SUR-2791/training_run_1/models/adv_state.pt: Path not found or is a not a file.\n",
      "Using Neptune\n",
      "Using Neptune\n",
      "Using Neptune\n",
      "Using Neptune\n",
      "Using Neptune\n",
      "Using Neptune\n",
      "Using Neptune\n",
      "Using Neptune\n",
      "Using Neptune\n",
      "Using Neptune\n",
      "Using Neptune\n",
      "Using Neptune\n",
      "Using Neptune\n",
      "Using Neptune\n",
      "Using Neptune\n",
      "Using Neptune\n",
      "Using Neptune\n",
      "Using Neptune\n",
      "[neptune] [info   ] Shutting down background jobs, please wait a moment...\n",
      "[neptune] [info   ] Done!\n",
      "[neptune] [info   ] Waiting for the remaining 35 operations to synchronize with Neptune. Do not kill this process.\n",
      "[neptune] [info   ] All 35 operations synced, thanks for waiting!\n",
      "[neptune] [info   ] Explore the metadata in the Neptune app: https://app.neptune.ai/revivemed/Survival-RCC/e/SUR-2791/metadata\n",
      "Getting the latest dataset\n",
      "[neptune] [info   ] Neptune initialized. Open in the app: https://app.neptune.ai/revivemed/Survival-RCC/\n",
      "[neptune] [info   ] Shutting down background jobs, please wait a moment...\n",
      "[neptune] [info   ] Done!\n",
      "[neptune] [info   ] All 0 operations synced, thanks for waiting!\n",
      "[neptune] [info   ] Explore the metadata in the Neptune app: https://app.neptune.ai/revivemed/Survival-RCC/metadata\n",
      "[neptune] [info   ] Neptune initialized. Open in the app: https://app.neptune.ai/revivemed/Survival-RCC/e/SUR-2808\n",
      "eval_params_list [{'y_col_name': 'NIVO OS', 'y_head': 'NIVO OS', 'y_cols': ['NIVO OS', 'OS_Event']}, {'y_col_name': 'NIVO OS', 'y_head': 'EVER OS', 'y_cols': ['NIVO OS', 'OS_Event']}, {'y_col_name': 'NIVO OS', 'y_head': 'Both OS', 'y_cols': ['NIVO OS', 'OS_Event']}, {'y_col_name': 'EVER OS', 'y_head': 'NIVO OS', 'y_cols': ['EVER OS', 'OS_Event']}, {'y_col_name': 'EVER OS', 'y_head': 'EVER OS', 'y_cols': ['EVER OS', 'OS_Event']}, {'y_col_name': 'EVER OS', 'y_head': 'Both OS', 'y_cols': ['EVER OS', 'OS_Event']}, {'y_col_name': 'Both OS', 'y_head': 'EVER OS', 'y_cols': ['OS', 'OS_Event']}, {'y_col_name': 'Both OS', 'y_head': 'NIVO OS', 'y_cols': ['OS', 'OS_Event']}, {'y_col_name': 'Both OS', 'y_head': 'Both OS', 'y_cols': ['OS', 'OS_Event']}, {'y_col_name': 'NIVO PFS', 'y_head': 'NIVO PFS', 'y_cols': ['NIVO PFS', 'PFS_Event']}, {'y_col_name': 'NIVO PFS', 'y_head': 'EVER PFS', 'y_cols': ['NIVO PFS', 'PFS_Event']}, {'y_col_name': 'NIVO PFS', 'y_head': 'Both PFS', 'y_cols': ['NIVO PFS', 'PFS_Event']}, {'y_col_name': 'EVER PFS', 'y_head': 'NIVO PFS', 'y_cols': ['EVER PFS', 'PFS_Event']}, {'y_col_name': 'EVER PFS', 'y_head': 'EVER PFS', 'y_cols': ['EVER PFS', 'PFS_Event']}, {'y_col_name': 'EVER PFS', 'y_head': 'Both PFS', 'y_cols': ['EVER PFS', 'PFS_Event']}, {'y_col_name': 'Both PFS', 'y_head': 'EVER PFS', 'y_cols': ['PFS', 'PFS_Event']}, {'y_col_name': 'Both PFS', 'y_head': 'NIVO PFS', 'y_cols': ['PFS', 'PFS_Event']}, {'y_col_name': 'Both PFS', 'y_head': 'Both PFS', 'y_cols': ['PFS', 'PFS_Event']}, {'y_col_name': 'MSKCC BINARY', 'y_head': 'MSKCC', 'y_cols': ['MSKCC BINARY']}, {'y_col_name': 'IMDC BINARY', 'y_head': 'IMDC', 'y_cols': ['IMDC BINARY']}, {'y_col_name': 'MSKCC ORDINAL', 'y_head': 'MSKCC_Ordinal', 'y_cols': ['MSKCC ORDINAL']}, {'y_col_name': 'IMDC ORDINAL', 'y_head': 'IMDC_Ordinal', 'y_cols': ['IMDC ORDINAL']}, {'y_col_name': 'MSKCC ORDINAL', 'y_head': 'MSKCC_MultiClass', 'y_cols': ['MSKCC ORDINAL']}, {'y_col_name': 'IMDC ORDINAL', 'y_head': 'IMDC_MultiClass', 'y_cols': ['IMDC ORDINAL']}, {'y_col_name': 'Benefit BINARY', 'y_head': 'Benefit', 'y_cols': ['Benefit BINARY']}]\n",
      "Using Neptune\n",
      "Using Neptune\n",
      "Using Neptune\n",
      "Using Neptune\n",
      "Using Neptune\n",
      "Using Neptune\n",
      "Using Neptune\n",
      "Using Neptune\n",
      "Using Neptune\n",
      "Using Neptune\n",
      "Using Neptune\n",
      "Using Neptune\n",
      "Using Neptune\n",
      "Using Neptune\n",
      "Using Neptune\n",
      "Using Neptune\n",
      "Using Neptune\n",
      "Using Neptune\n",
      "Using Neptune\n",
      "Using Neptune\n",
      "[neptune] [info   ] Shutting down background jobs, please wait a moment...\n",
      "[neptune] [info   ] Done!\n",
      "[neptune] [info   ] Waiting for the remaining 35 operations to synchronize with Neptune. Do not kill this process.\n",
      "[neptune] [info   ] All 35 operations synced, thanks for waiting!\n",
      "[neptune] [info   ] Explore the metadata in the Neptune app: https://app.neptune.ai/revivemed/Survival-RCC/e/SUR-2808/metadata\n",
      "Getting the latest dataset\n",
      "[neptune] [info   ] Neptune initialized. Open in the app: https://app.neptune.ai/revivemed/Survival-RCC/\n",
      "[neptune] [info   ] Shutting down background jobs, please wait a moment...\n",
      "[neptune] [info   ] Done!\n",
      "[neptune] [info   ] All 0 operations synced, thanks for waiting!\n",
      "[neptune] [info   ] Explore the metadata in the Neptune app: https://app.neptune.ai/revivemed/Survival-RCC/metadata\n",
      "[neptune] [info   ] Neptune initialized. Open in the app: https://app.neptune.ai/revivemed/Survival-RCC/e/SUR-2807\n",
      "eval_params_list [{'y_col_name': 'NIVO OS', 'y_head': 'NIVO OS', 'y_cols': ['NIVO OS', 'OS_Event']}, {'y_col_name': 'NIVO OS', 'y_head': 'EVER OS', 'y_cols': ['NIVO OS', 'OS_Event']}, {'y_col_name': 'NIVO OS', 'y_head': 'Both OS', 'y_cols': ['NIVO OS', 'OS_Event']}, {'y_col_name': 'EVER OS', 'y_head': 'NIVO OS', 'y_cols': ['EVER OS', 'OS_Event']}, {'y_col_name': 'EVER OS', 'y_head': 'EVER OS', 'y_cols': ['EVER OS', 'OS_Event']}, {'y_col_name': 'EVER OS', 'y_head': 'Both OS', 'y_cols': ['EVER OS', 'OS_Event']}, {'y_col_name': 'Both OS', 'y_head': 'EVER OS', 'y_cols': ['OS', 'OS_Event']}, {'y_col_name': 'Both OS', 'y_head': 'NIVO OS', 'y_cols': ['OS', 'OS_Event']}, {'y_col_name': 'Both OS', 'y_head': 'Both OS', 'y_cols': ['OS', 'OS_Event']}, {'y_col_name': 'NIVO PFS', 'y_head': 'NIVO PFS', 'y_cols': ['NIVO PFS', 'PFS_Event']}, {'y_col_name': 'NIVO PFS', 'y_head': 'EVER PFS', 'y_cols': ['NIVO PFS', 'PFS_Event']}, {'y_col_name': 'NIVO PFS', 'y_head': 'Both PFS', 'y_cols': ['NIVO PFS', 'PFS_Event']}, {'y_col_name': 'EVER PFS', 'y_head': 'NIVO PFS', 'y_cols': ['EVER PFS', 'PFS_Event']}, {'y_col_name': 'EVER PFS', 'y_head': 'EVER PFS', 'y_cols': ['EVER PFS', 'PFS_Event']}, {'y_col_name': 'EVER PFS', 'y_head': 'Both PFS', 'y_cols': ['EVER PFS', 'PFS_Event']}, {'y_col_name': 'Both PFS', 'y_head': 'EVER PFS', 'y_cols': ['PFS', 'PFS_Event']}, {'y_col_name': 'Both PFS', 'y_head': 'NIVO PFS', 'y_cols': ['PFS', 'PFS_Event']}, {'y_col_name': 'Both PFS', 'y_head': 'Both PFS', 'y_cols': ['PFS', 'PFS_Event']}, {'y_col_name': 'MSKCC BINARY', 'y_head': 'MSKCC', 'y_cols': ['MSKCC BINARY']}, {'y_col_name': 'IMDC BINARY', 'y_head': 'IMDC', 'y_cols': ['IMDC BINARY']}, {'y_col_name': 'MSKCC ORDINAL', 'y_head': 'MSKCC_Ordinal', 'y_cols': ['MSKCC ORDINAL']}, {'y_col_name': 'IMDC ORDINAL', 'y_head': 'IMDC_Ordinal', 'y_cols': ['IMDC ORDINAL']}, {'y_col_name': 'MSKCC ORDINAL', 'y_head': 'MSKCC_MultiClass', 'y_cols': ['MSKCC ORDINAL']}, {'y_col_name': 'IMDC ORDINAL', 'y_head': 'IMDC_MultiClass', 'y_cols': ['IMDC ORDINAL']}, {'y_col_name': 'Benefit BINARY', 'y_head': 'Benefit', 'y_cols': ['Benefit BINARY']}]\n",
      "Using Neptune\n",
      "Using Neptune\n",
      "Using Neptune\n",
      "Using Neptune\n",
      "Using Neptune\n",
      "Using Neptune\n",
      "Using Neptune\n",
      "Using Neptune\n",
      "Using Neptune\n",
      "Using Neptune\n",
      "Using Neptune\n",
      "Using Neptune\n",
      "Using Neptune\n",
      "Using Neptune\n",
      "Using Neptune\n",
      "Using Neptune\n",
      "Using Neptune\n",
      "Using Neptune\n",
      "Using Neptune\n",
      "Using Neptune\n",
      "[neptune] [info   ] Shutting down background jobs, please wait a moment...\n",
      "[neptune] [info   ] Done!\n",
      "[neptune] [info   ] Waiting for the remaining 35 operations to synchronize with Neptune. Do not kill this process.\n",
      "[neptune] [info   ] All 35 operations synced, thanks for waiting!\n",
      "[neptune] [info   ] Explore the metadata in the Neptune app: https://app.neptune.ai/revivemed/Survival-RCC/e/SUR-2807/metadata\n"
     ]
    }
   ],
   "source": [
    "for with_id in run_id_list:\n",
    "    finetune_run_wrapper(with_id=with_id)\n"
   ]
  },
  {
   "cell_type": "code",
   "execution_count": null,
   "metadata": {},
   "outputs": [],
   "source": []
  }
 ],
 "metadata": {
  "kernelspec": {
   "display_name": "mz_embed_engine",
   "language": "python",
   "name": "python3"
  },
  "language_info": {
   "codemirror_mode": {
    "name": "ipython",
    "version": 3
   },
   "file_extension": ".py",
   "mimetype": "text/x-python",
   "name": "python",
   "nbconvert_exporter": "python",
   "pygments_lexer": "ipython3",
   "version": "3.9.19"
  }
 },
 "nbformat": 4,
 "nbformat_minor": 2
}
