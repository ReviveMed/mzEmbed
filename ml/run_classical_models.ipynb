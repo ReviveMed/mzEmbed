{
 "cells": [
  {
   "cell_type": "code",
   "execution_count": 2,
   "metadata": {},
   "outputs": [],
   "source": [
    "import pandas as pd\n",
    "import os\n",
    "import numpy as np\n",
    "from sklearn_models import run_train_sklearn_model\n",
    "from prep import ClassifierDataset\n",
    "import torch"
   ]
  },
  {
   "cell_type": "code",
   "execution_count": 3,
   "metadata": {},
   "outputs": [],
   "source": [
    "finetune_n_subsets = 5\n",
    "data_dir = '/Users/jonaheaton/Desktop/mskcc_study_feb13'\n",
    "finetune_label_col = 'MSKCC'\n",
    "finetune_label_encoder  = {'FAVORABLE': 1, 'POOR': 0, 'INTERMEDIATE': np.nan}"
   ]
  },
  {
   "cell_type": "code",
   "execution_count": 7,
   "metadata": {},
   "outputs": [],
   "source": [
    "\n",
    "save_dir = os.path.join(data_dir, 'classical_models')\n",
    "os.makedirs(save_dir, exist_ok=True)\n",
    "\n",
    "for model_kind in ['logistic_regression', 'random_forest', 'svc']:\n",
    "    gather_output = []\n",
    "    model_name = model_kind + '_default'\n",
    "    output_summary_file = os.path.join(save_dir, f'{model_name}_summary.csv')\n",
    "    for subset_id in range(finetune_n_subsets):\n",
    "        finetune_dataset = ClassifierDataset(data_dir, \n",
    "                                    subset='train_{}'.format(subset_id),\n",
    "                                    label_col=finetune_label_col,\n",
    "                                    label_encoder=finetune_label_encoder)\n",
    "        \n",
    "        class_weights = 1 / torch.bincount(finetune_dataset.y.long())\n",
    "\n",
    "        test_dataset = ClassifierDataset(data_dir, \n",
    "                                    subset='test_{}'.format(subset_id),\n",
    "                                    label_col=finetune_label_col,\n",
    "                                    label_encoder=finetune_label_encoder)\n",
    "        \n",
    "\n",
    "        data_dict = {'train': finetune_dataset, 'test': test_dataset}\n",
    "\n",
    "\n",
    "        output_data = run_train_sklearn_model(data_dict,save_dir,\n",
    "                                model_kind = model_kind,\n",
    "                                model_name=f'{model_name}_{subset_id}',\n",
    "                                # model_name=model_name,\n",
    "                                param_grid={})\n",
    "        \n",
    "\n",
    "\n",
    "        gather_output.append(output_data)\n",
    "\n",
    "    ## Summarize the important results\n",
    "    # best_epoch_list = [output['best_epoch'] for output in gather_output]\n",
    "    val_auroc_list = [output['end_state_auroc']['test'] for output in gather_output]\n",
    "    train_auroc_list = [output['end_state_auroc']['train'] for output in gather_output]\n",
    "    # model_name = gather_output[0]['model_name']\n",
    "    auc_summary = pd.DataFrame({\n",
    "                    'train_auroc': train_auroc_list,\n",
    "                    'test_auroc': val_auroc_list,})\n",
    "\n",
    "\n",
    "    result_summary_avg = auc_summary.mean()\n",
    "    result_summary_std = auc_summary.std()\n",
    "    result_summary_avg.index = [f'AVG {col}' for col in result_summary_avg.index]\n",
    "    result_summary_std.index = [f'STD {col}' for col in result_summary_std.index]\n",
    "    result_summary = pd.concat([result_summary_avg, result_summary_std])\n",
    "    result_summary.to_csv(output_summary_file)\n"
   ]
  },
  {
   "cell_type": "code",
   "execution_count": 5,
   "metadata": {},
   "outputs": [
    {
     "data": {
      "text/plain": [
       "AVG train_auroc    1.000000\n",
       "AVG test_auroc     0.892267\n",
       "STD train_auroc    0.000000\n",
       "STD test_auroc     0.038864\n",
       "dtype: float64"
      ]
     },
     "execution_count": 5,
     "metadata": {},
     "output_type": "execute_result"
    }
   ],
   "source": [
    "result_summary"
   ]
  },
  {
   "cell_type": "code",
   "execution_count": 6,
   "metadata": {},
   "outputs": [
    {
     "data": {
      "text/plain": [
       "5"
      ]
     },
     "execution_count": 6,
     "metadata": {},
     "output_type": "execute_result"
    }
   ],
   "source": [
    "len(gather_output)"
   ]
  },
  {
   "cell_type": "code",
   "execution_count": null,
   "metadata": {},
   "outputs": [],
   "source": []
  }
 ],
 "metadata": {
  "kernelspec": {
   "display_name": "mzlearn_3",
   "language": "python",
   "name": "python3"
  },
  "language_info": {
   "codemirror_mode": {
    "name": "ipython",
    "version": 3
   },
   "file_extension": ".py",
   "mimetype": "text/x-python",
   "name": "python",
   "nbconvert_exporter": "python",
   "pygments_lexer": "ipython3",
   "version": "3.9.18"
  }
 },
 "nbformat": 4,
 "nbformat_minor": 2
}
