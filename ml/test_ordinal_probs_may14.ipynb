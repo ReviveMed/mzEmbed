{
 "cells": [
  {
   "cell_type": "code",
   "execution_count": 1,
   "metadata": {},
   "outputs": [],
   "source": [
    "import numpy as np"
   ]
  },
  {
   "cell_type": "code",
   "execution_count": 2,
   "metadata": {},
   "outputs": [],
   "source": [
    "probabilities = np.array([9.5521e-01, 8.4898e-02, 5.0589e-03, 1.8228e-03])\n"
   ]
  },
  {
   "cell_type": "code",
   "execution_count": 3,
   "metadata": {},
   "outputs": [
    {
     "data": {
      "text/plain": [
       "1.0469897000000001"
      ]
     },
     "execution_count": 3,
     "metadata": {},
     "output_type": "execute_result"
    }
   ],
   "source": [
    "np.sum(probabilities)"
   ]
  },
  {
   "cell_type": "code",
   "execution_count": null,
   "metadata": {},
   "outputs": [],
   "source": [
    "prob_5th_class = 1 - np.sum(probabilities)"
   ]
  },
  {
   "cell_type": "code",
   "execution_count": 4,
   "metadata": {},
   "outputs": [],
   "source": [
    "import torch"
   ]
  },
  {
   "cell_type": "code",
   "execution_count": 16,
   "metadata": {},
   "outputs": [],
   "source": [
    "logits = torch.tensor([[14.152, -6.1942, 0.47710, 0.96850],\n",
    "                       [-0.152, -6.1942, 0.47710, 0.96850],\n",
    "                     [65.667, 0.303, 11.500, -4.524]])\n"
   ]
  },
  {
   "cell_type": "code",
   "execution_count": 81,
   "metadata": {},
   "outputs": [
    {
     "data": {
      "text/plain": [
       "tensor([[14.1520, -6.1942,  0.4771,  0.9685],\n",
       "        [-0.1520, -6.1942,  0.4771,  0.9685],\n",
       "        [65.6670,  0.3030, 11.5000, -4.5240]])"
      ]
     },
     "execution_count": 81,
     "metadata": {},
     "output_type": "execute_result"
    }
   ],
   "source": [
    "logits"
   ]
  },
  {
   "cell_type": "code",
   "execution_count": 17,
   "metadata": {},
   "outputs": [],
   "source": [
    "\n",
    "probas0 = torch.sigmoid(logits)\n",
    "probas = torch.cumprod(probas0, dim=1)\n",
    "predict_levels = probas > 0.5\n",
    "predicted_labels = torch.sum(predict_levels, dim=1)"
   ]
  },
  {
   "cell_type": "code",
   "execution_count": 73,
   "metadata": {},
   "outputs": [
    {
     "data": {
      "text/plain": [
       "tensor([[1.0000e+00, 2.0371e-03, 1.2570e-03, 9.1110e-04],\n",
       "        [4.6207e-01, 9.4128e-04, 5.8083e-04, 4.2100e-04],\n",
       "        [1.0000e+00, 5.7518e-01, 5.7517e-01, 6.1711e-03]])"
      ]
     },
     "execution_count": 73,
     "metadata": {},
     "output_type": "execute_result"
    }
   ],
   "source": [
    "probas"
   ]
  },
  {
   "cell_type": "code",
   "execution_count": 18,
   "metadata": {},
   "outputs": [
    {
     "data": {
      "text/plain": [
       "tensor([[1.0000, 0.0020, 0.6171, 0.7248],\n",
       "        [0.4621, 0.0020, 0.6171, 0.7248],\n",
       "        [1.0000, 0.5752, 1.0000, 0.0107]])"
      ]
     },
     "execution_count": 18,
     "metadata": {},
     "output_type": "execute_result"
    }
   ],
   "source": [
    "probas0"
   ]
  },
  {
   "cell_type": "code",
   "execution_count": 40,
   "metadata": {},
   "outputs": [],
   "source": [
    "# create a tensor of shape (1,3) of ones\n",
    "ones = torch.ones((3,1))\n",
    "\n",
    "probs1 = torch.concat([ones, probas], dim=1)"
   ]
  },
  {
   "cell_type": "code",
   "execution_count": 70,
   "metadata": {},
   "outputs": [],
   "source": [
    "probs2 = np.hstack([np.ones((3,1)), probas.numpy()])\n",
    "probs3 = np.hstack([np.diff(probs2, axis=1), probs2[:,-1].reshape(-1,1)])"
   ]
  },
  {
   "cell_type": "code",
   "execution_count": 72,
   "metadata": {},
   "outputs": [
    {
     "data": {
      "text/plain": [
       "array([[1.00000000e+00, 9.99999285e-01, 2.03707581e-03, 1.25700375e-03,\n",
       "        9.11102048e-04],\n",
       "       [1.00000000e+00, 4.62072998e-01, 9.41278355e-04, 5.80827938e-04,\n",
       "        4.20995959e-04],\n",
       "       [1.00000000e+00, 1.00000000e+00, 5.75175762e-01, 5.75169921e-01,\n",
       "        6.17110683e-03]])"
      ]
     },
     "execution_count": 72,
     "metadata": {},
     "output_type": "execute_result"
    }
   ],
   "source": [
    "probs2"
   ]
  },
  {
   "cell_type": "code",
   "execution_count": 71,
   "metadata": {},
   "outputs": [
    {
     "data": {
      "text/plain": [
       "array([[-7.15255737e-07, -9.97962209e-01, -7.80072063e-04,\n",
       "        -3.45901703e-04,  9.11102048e-04],\n",
       "       [-5.37927002e-01, -4.61131720e-01, -3.60450416e-04,\n",
       "        -1.59831980e-04,  4.20995959e-04],\n",
       "       [ 0.00000000e+00, -4.24824238e-01, -5.84125519e-06,\n",
       "        -5.68998814e-01,  6.17110683e-03]])"
      ]
     },
     "execution_count": 71,
     "metadata": {},
     "output_type": "execute_result"
    }
   ],
   "source": [
    "probs3"
   ]
  },
  {
   "cell_type": "code",
   "execution_count": 88,
   "metadata": {},
   "outputs": [],
   "source": [
    "def logit(p):\n",
    "    return np.log(p / (1 - p))"
   ]
  },
  {
   "cell_type": "code",
   "execution_count": 91,
   "metadata": {},
   "outputs": [],
   "source": [
    "eps = 1e-6\n",
    "probs2 = np.hstack([np.ones((3,1)), probas.numpy()])\n",
    "probs3 = -1*np.hstack([np.diff(probs2, axis=1), -1*probs2[:,-1].reshape(-1,1)]) + eps\n",
    "# probs4 = np.exp(probs3)\n",
    "probs4 = logit(probs3)\n",
    "# apply the softmax function to probs3\n",
    "probs5 = np.exp(probs4) / np.sum(np.exp(probs4), axis=1).reshape(-1,1)\n",
    "\n"
   ]
  },
  {
   "cell_type": "code",
   "execution_count": 95,
   "metadata": {},
   "outputs": [],
   "source": [
    "import torch\n",
    "from torch.nn.functional import softmax\n",
    "\n",
    "eps = 1e-6\n",
    "\n",
    "# Assuming probas is a PyTorch tensor\n",
    "probs2 = torch.cat([torch.ones((probas.size(0),1)), probas], dim=1)\n",
    "probs3 = -1 * torch.cat([torch.diff(probs2, dim=1), -1 * probs2[:,-1].unsqueeze(1)], dim=1) + eps\n",
    "\n",
    "# Define the logit function\n",
    "def logit(p):\n",
    "    return torch.log(p / (1 - p))\n",
    "\n",
    "probs4 = logit(probs3)\n",
    "\n",
    "# Apply the softmax function to probs4\n",
    "probs5 = softmax(probs4, dim=1)"
   ]
  },
  {
   "cell_type": "code",
   "execution_count": 96,
   "metadata": {},
   "outputs": [
    {
     "data": {
      "text/plain": [
       "tensor([[3.5007e-09, 1.0000e+00, 1.5953e-06, 7.0824e-07, 1.8632e-06],\n",
       "        [5.7608e-01, 4.2346e-01, 1.7892e-04, 7.9599e-05, 2.0891e-04],\n",
       "        [4.8426e-07, 3.5768e-01, 3.3130e-06, 6.3931e-01, 3.0075e-03]])"
      ]
     },
     "execution_count": 96,
     "metadata": {},
     "output_type": "execute_result"
    }
   ],
   "source": [
    "probs5"
   ]
  },
  {
   "cell_type": "code",
   "execution_count": 92,
   "metadata": {},
   "outputs": [
    {
     "data": {
      "text/plain": [
       "array([[3.50073927e-09, 9.99995830e-01, 1.59536696e-06, 7.08251096e-07,\n",
       "        1.86324461e-06],\n",
       "       [5.76075700e-01, 4.23456867e-01, 1.78924902e-04, 7.95989459e-05,\n",
       "        2.08908763e-04],\n",
       "       [4.84260835e-07, 3.57675670e-01, 3.31297130e-06, 6.39313064e-01,\n",
       "        3.00746903e-03]])"
      ]
     },
     "execution_count": 92,
     "metadata": {},
     "output_type": "execute_result"
    }
   ],
   "source": [
    "probs5"
   ]
  },
  {
   "cell_type": "code",
   "execution_count": 86,
   "metadata": {},
   "outputs": [
    {
     "data": {
      "text/plain": [
       "array([[0.16666679, 0.3329937 , 0.16679668, 0.16672432, 0.16681852],\n",
       "       [0.25632117, 0.24352195, 0.16672674, 0.16669331, 0.16673683],\n",
       "       [0.16666667, 0.23747071, 0.16666764, 0.2614998 , 0.16769518]])"
      ]
     },
     "execution_count": 86,
     "metadata": {},
     "output_type": "execute_result"
    }
   ],
   "source": [
    "probs5"
   ]
  },
  {
   "cell_type": "code",
   "execution_count": 80,
   "metadata": {},
   "outputs": [
    {
     "data": {
      "text/plain": [
       "array([[1.00000072, 2.71274818, 1.00078038, 1.00034596, 1.00091152],\n",
       "       [1.71245327, 1.58586773, 1.00036052, 1.00015984, 1.00042108],\n",
       "       [1.        , 1.5293216 , 1.00000584, 1.76649757, 1.00619019]])"
      ]
     },
     "execution_count": 80,
     "metadata": {},
     "output_type": "execute_result"
    }
   ],
   "source": [
    "probs4"
   ]
  },
  {
   "cell_type": "code",
   "execution_count": 79,
   "metadata": {},
   "outputs": [
    {
     "data": {
      "text/plain": [
       "array([[0.10475362, 0.58077219, 0.10483532, 0.10478979, 0.10484907],\n",
       "       [0.29825113, 0.2627887 , 0.14632689, 0.14629753, 0.14633575],\n",
       "       [0.14585317, 0.24762661, 0.14585402, 0.31390738, 0.14675882]])"
      ]
     },
     "execution_count": 79,
     "metadata": {},
     "output_type": "execute_result"
    }
   ],
   "source": [
    "probs5"
   ]
  },
  {
   "cell_type": "code",
   "execution_count": 75,
   "metadata": {},
   "outputs": [
    {
     "data": {
      "text/plain": [
       "array([[ 7.15255737e-07,  9.97962209e-01,  7.80072063e-04,\n",
       "         3.45901703e-04,  9.11102048e-04],\n",
       "       [ 5.37927002e-01,  4.61131720e-01,  3.60450416e-04,\n",
       "         1.59831980e-04,  4.20995959e-04],\n",
       "       [-0.00000000e+00,  4.24824238e-01,  5.84125519e-06,\n",
       "         5.68998814e-01,  6.17110683e-03]])"
      ]
     },
     "execution_count": 75,
     "metadata": {},
     "output_type": "execute_result"
    }
   ],
   "source": [
    "probs3"
   ]
  },
  {
   "cell_type": "code",
   "execution_count": 58,
   "metadata": {},
   "outputs": [
    {
     "data": {
      "text/plain": [
       "array([[-7.15255737e-07, -9.97962209e-01, -7.80072063e-04,\n",
       "        -3.45901703e-04],\n",
       "       [-5.37927002e-01, -4.61131720e-01, -3.60450416e-04,\n",
       "        -1.59831980e-04],\n",
       "       [ 0.00000000e+00, -4.24824238e-01, -5.84125519e-06,\n",
       "        -5.68998814e-01]])"
      ]
     },
     "execution_count": 58,
     "metadata": {},
     "output_type": "execute_result"
    }
   ],
   "source": [
    "np.diff(probs2, axis=1)"
   ]
  },
  {
   "cell_type": "code",
   "execution_count": 59,
   "metadata": {},
   "outputs": [
    {
     "data": {
      "text/plain": [
       "array([0.0009111 , 0.000421  , 0.00617111])"
      ]
     },
     "execution_count": 59,
     "metadata": {},
     "output_type": "execute_result"
    }
   ],
   "source": [
    "probs2[:,-1]"
   ]
  },
  {
   "cell_type": "code",
   "execution_count": 60,
   "metadata": {},
   "outputs": [
    {
     "data": {
      "text/plain": [
       "tensor([7.1526e-07, 5.3793e-01, 0.0000e+00])"
      ]
     },
     "execution_count": 60,
     "metadata": {},
     "output_type": "execute_result"
    }
   ],
   "source": [
    "probs1[:,0]- probs1[:,1]\n",
    "\n"
   ]
  },
  {
   "cell_type": "code",
   "execution_count": 61,
   "metadata": {},
   "outputs": [
    {
     "data": {
      "text/plain": [
       "tensor([0.9980, 0.4611, 0.4248])"
      ]
     },
     "execution_count": 61,
     "metadata": {},
     "output_type": "execute_result"
    }
   ],
   "source": [
    "probs1[:,1]- probs1[:,2]"
   ]
  },
  {
   "cell_type": "code",
   "execution_count": 62,
   "metadata": {},
   "outputs": [
    {
     "data": {
      "text/plain": [
       "tensor([7.8007e-04, 3.6045e-04, 5.8413e-06])"
      ]
     },
     "execution_count": 62,
     "metadata": {},
     "output_type": "execute_result"
    }
   ],
   "source": [
    "probs1[:,2]- probs1[:,3]"
   ]
  },
  {
   "cell_type": "code",
   "execution_count": 63,
   "metadata": {},
   "outputs": [
    {
     "data": {
      "text/plain": [
       "tensor([3.4590e-04, 1.5983e-04, 5.6900e-01])"
      ]
     },
     "execution_count": 63,
     "metadata": {},
     "output_type": "execute_result"
    }
   ],
   "source": [
    "probs1[:,3]- probs1[:,4]"
   ]
  },
  {
   "cell_type": "code",
   "execution_count": 64,
   "metadata": {},
   "outputs": [
    {
     "data": {
      "text/plain": [
       "tensor([0.0009, 0.0004, 0.0062])"
      ]
     },
     "execution_count": 64,
     "metadata": {},
     "output_type": "execute_result"
    }
   ],
   "source": [
    "probs1[:,4]"
   ]
  },
  {
   "cell_type": "code",
   "execution_count": 65,
   "metadata": {},
   "outputs": [
    {
     "data": {
      "text/plain": [
       "tensor([1, 0, 3])"
      ]
     },
     "execution_count": 65,
     "metadata": {},
     "output_type": "execute_result"
    }
   ],
   "source": [
    "predicted_labels"
   ]
  },
  {
   "cell_type": "code",
   "execution_count": null,
   "metadata": {},
   "outputs": [],
   "source": []
  }
 ],
 "metadata": {
  "kernelspec": {
   "display_name": "mz_embed_engine",
   "language": "python",
   "name": "python3"
  },
  "language_info": {
   "codemirror_mode": {
    "name": "ipython",
    "version": 3
   },
   "file_extension": ".py",
   "mimetype": "text/x-python",
   "name": "python",
   "nbconvert_exporter": "python",
   "pygments_lexer": "ipython3",
   "version": "3.9.19"
  }
 },
 "nbformat": 4,
 "nbformat_minor": 2
}
