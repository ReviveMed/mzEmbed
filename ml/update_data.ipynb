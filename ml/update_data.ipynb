{
 "cells": [
  {
   "cell_type": "code",
   "execution_count": 1,
   "metadata": {},
   "outputs": [],
   "source": [
    "import numpy as np\n",
    "import os\n",
    "import shutil\n",
    "import pandas as pd"
   ]
  },
  {
   "cell_type": "code",
   "execution_count": 2,
   "metadata": {},
   "outputs": [],
   "source": [
    "def update_finetune_data(file_suffix,data_dir,redo=False):\n",
    "    vnum = 2\n",
    "    y_savefile = f'{data_dir}/y_{file_suffix}{vnum:.0f}.csv'\n",
    "    if redo and os.path.exists(y_savefile):\n",
    "        os.remove(y_savefile)\n",
    "\n",
    "    if not os.path.exists(y_savefile):\n",
    "        y_val_data = pd.read_csv(f'{data_dir}/y_{file_suffix}.csv')\n",
    "        y_val_data['NIVO OS'] = np.nan\n",
    "        y_val_data.loc[y_val_data['Treatment']=='NIVOLUMAB', 'NIVO OS'] = y_val_data.loc[y_val_data['Treatment']=='NIVOLUMAB', 'OS']\n",
    "        y_val_data['EVER OS'] = np.nan\n",
    "        y_val_data.loc[y_val_data['Treatment']=='EVEROLIMUS', 'EVER OS'] = y_val_data.loc[y_val_data['Treatment']=='EVEROLIMUS', 'OS']\n",
    "        \n",
    "        y_val_data['NIVO PFS'] = np.nan\n",
    "        y_val_data.loc[y_val_data['Treatment']=='NIVOLUMAB', 'NIVO PFS'] = y_val_data.loc[y_val_data['Treatment']=='NIVOLUMAB', 'PFS']\n",
    "        y_val_data['EVER PFS'] = np.nan\n",
    "        y_val_data.loc[y_val_data['Treatment']=='EVEROLIMUS', 'EVER PFS'] = y_val_data.loc[y_val_data['Treatment']=='EVEROLIMUS', 'PFS']\n",
    "        \n",
    "        y_val_data['Treatment is NIVO'] = 0\n",
    "        y_val_data.loc[y_val_data['Treatment']=='NIVOLUMAB', 'Treatment is NIVO'] = 1\n",
    "        y_val_data.to_csv(y_savefile,index=False)\n",
    "        shutil.copy(f'{data_dir}/X_{file_suffix}.csv',f'{data_dir}/X_{file_suffix}{vnum:.0f}.csv')\n",
    "\n",
    "    return"
   ]
  },
  {
   "cell_type": "code",
   "execution_count": 3,
   "metadata": {},
   "outputs": [],
   "source": [
    "data_dir = '/Users/jonaheaton/ReviveMed Dropbox/Jonah Eaton/development_CohortCombination/alignment_RCC_2024_Feb_27/April_05_Data'"
   ]
  },
  {
   "cell_type": "code",
   "execution_count": 4,
   "metadata": {},
   "outputs": [],
   "source": [
    "redo = False\n",
    "update_finetune_data('finetune_val',data_dir=data_dir,redo=redo)\n",
    "update_finetune_data('finetune_train',data_dir=data_dir,redo=redo)\n",
    "update_finetune_data('finetune_test',data_dir=data_dir,redo=redo)\n",
    "update_finetune_data('finetune_trainval',data_dir=data_dir,redo=redo)"
   ]
  },
  {
   "cell_type": "code",
   "execution_count": 1,
   "metadata": {},
   "outputs": [
    {
     "name": "stdout",
     "output_type": "stream",
     "text": [
      "[neptune] [info   ] Neptune initialized. Open in the app: https://app.neptune.ai/revivemed/Survival-RCC/\n"
     ]
    }
   ],
   "source": [
    "import neptune\n",
    "project = neptune.init_project(project=\"revivemed/Survival-RCC\", api_token=\"eyJhcGlfYWRkcmVzcyI6Imh0dHBzOi8vYXBwLm5lcHR1bmUuYWkiLCJhcGlfdXJsIjoiaHR0cHM6Ly9hcHAubmVwdHVuZS5haSIsImFwaV9rZXkiOiIxMGM5ZDhiMy1kOTlhLTRlMTAtOGFlYy1hOTQzMDE1YjZlNjcifQ==\")"
   ]
  },
  {
   "cell_type": "code",
   "execution_count": 6,
   "metadata": {},
   "outputs": [],
   "source": [
    "project[\"dataset/v1.4\"].track_files(\"/Users/jonaheaton/ReviveMed Dropbox/Jonah Eaton/development_CohortCombination/alignment_RCC_2024_Feb_27/April_30_Finetune_Data\")\n",
    "project[\"dataset/v1.4_link\"] = 'https://www.dropbox.com/scl/fo/y36aiinfbsf6rymzj1qh4/ACjkhRE_Ig_IBwlrH4Tl_Ug?rlkey=4s5imazvcoktgk83lig8rypjw&dl=1'"
   ]
  },
  {
   "cell_type": "code",
   "execution_count": 8,
   "metadata": {},
   "outputs": [],
   "source": [
    "project.wait()\n",
    "project[\"dataset/latest\"] = project[\"dataset/v1.4\"].fetch()\n",
    "project[\"dataset/latest_link\"] = project[\"dataset/v1.4_link\"].fetch()"
   ]
  },
  {
   "cell_type": "code",
   "execution_count": 3,
   "metadata": {},
   "outputs": [
    {
     "name": "stdout",
     "output_type": "stream",
     "text": [
      "[neptune] [info   ] Neptune initialized. Open in the app: https://app.neptune.ai/revivemed/RCC/\n"
     ]
    }
   ],
   "source": [
    "import neptune\n",
    "project = neptune.init_project(project=\"revivemed/RCC\", api_token=\"eyJhcGlfYWRkcmVzcyI6Imh0dHBzOi8vYXBwLm5lcHR1bmUuYWkiLCJhcGlfdXJsIjoiaHR0cHM6Ly9hcHAubmVwdHVuZS5haSIsImFwaV9rZXkiOiIxMGM5ZDhiMy1kOTlhLTRlMTAtOGFlYy1hOTQzMDE1YjZlNjcifQ==\")"
   ]
  },
  {
   "cell_type": "code",
   "execution_count": 4,
   "metadata": {},
   "outputs": [],
   "source": [
    "# put the data on a team folder and update the dropbox link\n",
    "\n",
    "local_path = '/Users/jonaheaton/ReviveMed Dropbox/Jonah Eaton/mzLearn_preTraining/data_2024_July_09'\n",
    "dropbox_link = 'https://www.dropbox.com/scl/fo/uxrlc73gh09rxbxw07ska/AE2e4aG8Upsd1bxTDelli8U?rlkey=pfqojiaq454j53mel0r5uuab6&dl=1'\n",
    "project[\"dataset/v2.0\"].track_files(local_path)\n",
    "project[\"dataset/v2.0_link\"] = dropbox_link\n",
    "\n",
    "project.wait()\n",
    "project[\"dataset/latest\"] = project[\"dataset/v2.0\"].fetch()\n",
    "project[\"dataset/latest_link\"] = project[\"dataset/v2.0_link\"].fetch()"
   ]
  },
  {
   "cell_type": "code",
   "execution_count": null,
   "metadata": {},
   "outputs": [],
   "source": [
    "# project[\"general/brief\"] = URL_TO_PROJECT_BRIEF\n",
    "# project[\"general/data_analysis\"].upload(\"data_analysis.ipynb\")\n",
    "# project[\"dataset/v0.1\"].track_files(\"s3://datasets/images\")\n",
    "# project[\"dataset/latest\"] = project[\"dataset/v0.1\"].fetch()"
   ]
  }
 ],
 "metadata": {
  "kernelspec": {
   "display_name": "mz_embed_engine",
   "language": "python",
   "name": "python3"
  },
  "language_info": {
   "codemirror_mode": {
    "name": "ipython",
    "version": 3
   },
   "file_extension": ".py",
   "mimetype": "text/x-python",
   "name": "python",
   "nbconvert_exporter": "python",
   "pygments_lexer": "ipython3",
   "version": "3.9.19"
  }
 },
 "nbformat": 4,
 "nbformat_minor": 2
}
