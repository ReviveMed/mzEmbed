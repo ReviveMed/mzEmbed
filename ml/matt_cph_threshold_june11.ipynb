{
 "cells": [
  {
   "cell_type": "code",
   "execution_count": 8,
   "metadata": {},
   "outputs": [],
   "source": [
    "import pandas as pd\n",
    "import numpy as np\n",
    "import matplotlib.pyplot as plt\n",
    "import seaborn as sns\n",
    "import torch\n",
    "from lifelines import KaplanMeierFitter, CoxPHFitter\n",
    "import tqdm\n",
    "from models import create_compound_model_from_info, create_pytorch_model_from_info, MultiHead\n",
    "import json\n",
    "from misc import download_data_dir\n",
    "import os"
   ]
  },
  {
   "cell_type": "code",
   "execution_count": 9,
   "metadata": {},
   "outputs": [],
   "source": [
    "home_dir = os.path.expanduser('~')\n",
    "input_dir = f'{home_dir}/app/model_data'\n",
    "data_dir = f'{home_dir}/app/finetune_data'\n",
    "\n",
    "output_dir = f'{home_dir}/app/mz_embed_engine/output'\n",
    "os.makedirs(output_dir, exist_ok=True)"
   ]
  },
  {
   "cell_type": "code",
   "execution_count": 4,
   "metadata": {},
   "outputs": [],
   "source": [
    "dropbox_url = 'https://www.dropbox.com/scl/fo/0zbnyynf5igdorbh6veqh/AE8PiJDZ5FB2Qbu_KiAF9W4?rlkey=km43xr7dpfssgdjcbev21ddb2&dl=1'\n",
    "os.makedirs(input_dir, exist_ok=True)\n",
    "download_data_dir(dropbox_url, save_dir=input_dir)"
   ]
  },
  {
   "cell_type": "code",
   "execution_count": 5,
   "metadata": {},
   "outputs": [],
   "source": [
    "dropbox_url = 'https://www.dropbox.com/scl/fo/y36aiinfbsf6rymzj1qh4/ACjkhRE_Ig_IBwlrH4Tl_Ug?rlkey=4s5imazvcoktgk83lig8rypjw&dl=1'\n",
    "os.makedirs(data_dir, exist_ok=True)\n",
    "download_data_dir(dropbox_url, save_dir=data_dir)"
   ]
  },
  {
   "cell_type": "code",
   "execution_count": 10,
   "metadata": {},
   "outputs": [],
   "source": [
    "# generalized function to run grid search with custom objective\n",
    "def prep_surv_y(survival_column, event_column):\n",
    "    \"\"\"\n",
    "    Function for formatting survival data as input to sksurv models.\n",
    "    Args:\n",
    "        survival_column: list of survival times\n",
    "        event_column: list of event indicators (0 for censored, 1 for event)\n",
    "    \"\"\"\n",
    "    surv_y = np.array([(event_column.iloc[i], survival_column.iloc[i]) for i in range(len(survival_column))], dtype=[('status', bool), ('time', float)])\n",
    "    # surv_y = np.array([(event_column[i], survival_column[i]) for i in range(len(survival_column))], dtype=[('status', bool), ('time', float)])\n",
    "    return surv_y\n",
    "\n",
    "def create_data_dict(data_dir,set_name,os_col,event_col,data_dict=None):\n",
    "    if data_dict is None:\n",
    "        data_dict = {}\n",
    "    X_path = f'{data_dir}/X_finetune_{set_name}.csv'\n",
    "    y_path = f'{data_dir}/y_finetune_{set_name}.csv'\n",
    "    X = pd.read_csv(X_path, index_col=0)\n",
    "    y = pd.read_csv(y_path, index_col=0)\n",
    "    not_nan = ~y[os_col].isna()\n",
    "    data_dict[set_name] = {\"X\": X.loc[not_nan],\n",
    "                           \"y\": prep_surv_y(y.loc[not_nan,os_col], y.loc[not_nan,event_col]),\n",
    "                           'os_col':os_col,\n",
    "                           'event_col':event_col,\n",
    "                           'X_file':X_path,\n",
    "                           'y_file':y_path}\n",
    "    return data_dict"
   ]
  },
  {
   "cell_type": "code",
   "execution_count": 11,
   "metadata": {},
   "outputs": [],
   "source": [
    "\n",
    "data_dict =create_data_dict(data_dir,'trainval','OS','OS_Event')\n",
    "data_dict =create_data_dict(data_dir,'test','OS','OS_Event',data_dict)"
   ]
  },
  {
   "cell_type": "code",
   "execution_count": 12,
   "metadata": {},
   "outputs": [],
   "source": [
    "# Load the trained model\n",
    "# model_info = json.load(open(f'{input_dir}/VAE__Cox_OS_info.json'))\n",
    "# model_state = torch.load(f'{input_dir}/VAE__Cox_OS_state.pt')\n",
    "\n",
    "model_info = json.load(open(f'{input_dir}/Model_2925 info.json'))\n",
    "model_state = torch.load(f'{input_dir}/Model_2925 state.pt')\n",
    "\n",
    "model_trained = create_pytorch_model_from_info(model_info, model_state)\n"
   ]
  },
  {
   "cell_type": "code",
   "execution_count": 13,
   "metadata": {},
   "outputs": [],
   "source": [
    "y_trainval = pd.read_csv(os.path.join(data_dir, 'y_finetune_trainval.csv'), index_col=0)\n",
    "pred_trainval = model_trained.predict(data_dict['trainval'][\"X\"].to_numpy()).flatten()\n",
    "y_trainval['predicted hazard'] = pred_trainval\n",
    "y_trainval['predicted survival'] = -1*pred_trainval"
   ]
  },
  {
   "cell_type": "code",
   "execution_count": 14,
   "metadata": {},
   "outputs": [],
   "source": [
    "y_test = pd.read_csv(os.path.join(data_dir, 'y_finetune_test.csv'), index_col=0)\n",
    "pred_test = model_trained.predict(data_dict['test'][\"X\"].to_numpy()).flatten()\n",
    "\n",
    "y_test['predicted hazard'] = pred_test\n",
    "y_test['predicted survival'] = -1*pred_test"
   ]
  },
  {
   "cell_type": "markdown",
   "metadata": {},
   "source": [
    "## Prognostic Marker #1"
   ]
  },
  {
   "cell_type": "code",
   "execution_count": 15,
   "metadata": {},
   "outputs": [
    {
     "name": "stdout",
     "output_type": "stream",
     "text": [
      "low score threshold: -1.4268135\n",
      "intermediate score threshold: 5.127913\n"
     ]
    },
    {
     "data": {
      "text/plain": [
       "PROG1\n",
       "FAVORABLE       216\n",
       "INTERMEDIATE    201\n",
       "POOR            175\n",
       "Name: count, dtype: int64"
      ]
     },
     "execution_count": 15,
     "metadata": {},
     "output_type": "execute_result"
    }
   ],
   "source": [
    "prog_name = 'PROG1'\n",
    "low_score_th = -1*1.4268135 \n",
    "intermediate_score_th = -1* -5.127913\n",
    "\n",
    "print('low score threshold:', low_score_th)\n",
    "print('intermediate score threshold:', intermediate_score_th)\n",
    "\n",
    "y_trainval[prog_name] = 'NA'\n",
    "y_trainval.loc[y_trainval['predicted survival'] <= low_score_th, prog_name] = 'POOR'\n",
    "y_trainval.loc[(y_trainval['predicted survival'] > low_score_th) & (y_trainval['predicted survival'] <= intermediate_score_th), prog_name] = 'INTERMEDIATE'\n",
    "y_trainval.loc[y_trainval['predicted survival'] > intermediate_score_th, prog_name] = 'FAVORABLE'\n",
    "\n",
    "y_trainval[prog_name].value_counts().sort_index()"
   ]
  },
  {
   "cell_type": "code",
   "execution_count": 16,
   "metadata": {},
   "outputs": [
    {
     "data": {
      "text/plain": [
       "PROG1\n",
       "FAVORABLE       0.364865\n",
       "INTERMEDIATE    0.339527\n",
       "POOR            0.295608\n",
       "Name: count, dtype: float64"
      ]
     },
     "execution_count": 16,
     "metadata": {},
     "output_type": "execute_result"
    }
   ],
   "source": [
    "# get the percentages distribution\n",
    "y_trainval[prog_name].value_counts()/y_trainval[prog_name].value_counts().sum()"
   ]
  },
  {
   "cell_type": "code",
   "execution_count": 17,
   "metadata": {},
   "outputs": [
    {
     "data": {
      "text/plain": [
       "MSKCC\n",
       "FAVORABLE       0.344595\n",
       "INTERMEDIATE    0.472973\n",
       "POOR            0.182432\n",
       "Name: count, dtype: float64"
      ]
     },
     "execution_count": 17,
     "metadata": {},
     "output_type": "execute_result"
    }
   ],
   "source": [
    "\n",
    "y_trainval['MSKCC'].value_counts().sort_index()/y_trainval['MSKCC'].value_counts().sum()"
   ]
  },
  {
   "cell_type": "code",
   "execution_count": 18,
   "metadata": {},
   "outputs": [
    {
     "data": {
      "text/plain": [
       "IMDC\n",
       "FAVORABLE       0.153716\n",
       "INTERMEDIATE    0.596284\n",
       "NOT REPORTED    0.038851\n",
       "POOR            0.211149\n",
       "Name: count, dtype: float64"
      ]
     },
     "execution_count": 18,
     "metadata": {},
     "output_type": "execute_result"
    }
   ],
   "source": [
    "y_trainval['IMDC'].value_counts().sort_index()/y_trainval['IMDC'].value_counts().sum()"
   ]
  },
  {
   "cell_type": "code",
   "execution_count": 28,
   "metadata": {},
   "outputs": [],
   "source": [
    "y_trainval.to_csv(os.path.join(output_dir, 'y_trainval_prognostic.csv'))"
   ]
  },
  {
   "cell_type": "code",
   "execution_count": 19,
   "metadata": {},
   "outputs": [
    {
     "data": {
      "text/plain": [
       "PROG1\n",
       "FAVORABLE       31\n",
       "INTERMEDIATE    94\n",
       "POOR            24\n",
       "Name: count, dtype: int64"
      ]
     },
     "execution_count": 19,
     "metadata": {},
     "output_type": "execute_result"
    }
   ],
   "source": [
    "\n",
    "y_test.loc[y_test['predicted survival'] <= low_score_th, prog_name] = 'POOR'\n",
    "y_test.loc[(y_test['predicted survival'] > low_score_th) & (y_test['predicted survival'] <= intermediate_score_th), prog_name] = 'INTERMEDIATE'\n",
    "y_test.loc[y_test['predicted survival'] > intermediate_score_th, prog_name] = 'FAVORABLE'\n",
    "\n",
    "y_test[prog_name].value_counts().sort_index()"
   ]
  },
  {
   "cell_type": "code",
   "execution_count": 20,
   "metadata": {},
   "outputs": [
    {
     "data": {
      "text/plain": [
       "MSKCC\n",
       "FAVORABLE       53\n",
       "INTERMEDIATE    65\n",
       "POOR            31\n",
       "Name: count, dtype: int64"
      ]
     },
     "execution_count": 20,
     "metadata": {},
     "output_type": "execute_result"
    }
   ],
   "source": [
    "y_test['MSKCC'].value_counts().sort_index()"
   ]
  },
  {
   "cell_type": "code",
   "execution_count": 21,
   "metadata": {},
   "outputs": [
    {
     "data": {
      "text/plain": [
       "IMDC\n",
       "FAVORABLE       23\n",
       "INTERMEDIATE    86\n",
       "NOT REPORTED     6\n",
       "POOR            34\n",
       "Name: count, dtype: int64"
      ]
     },
     "execution_count": 21,
     "metadata": {},
     "output_type": "execute_result"
    }
   ],
   "source": [
    "y_test['IMDC'].value_counts().sort_index()"
   ]
  },
  {
   "cell_type": "markdown",
   "metadata": {},
   "source": [
    "## Prognostic Marker most similar to IMDC in the Test Data"
   ]
  },
  {
   "cell_type": "code",
   "execution_count": 22,
   "metadata": {},
   "outputs": [],
   "source": [
    "imdc_counts = y_test['IMDC'].value_counts().sort_index()\n",
    "imdc_counts = imdc_counts[['FAVORABLE', 'INTERMEDIATE', 'POOR']].copy()"
   ]
  },
  {
   "cell_type": "code",
   "execution_count": 23,
   "metadata": {},
   "outputs": [],
   "source": [
    "low_score_per = imdc_counts.loc['POOR']/imdc_counts.sum()\n",
    "intermediate_score_per = imdc_counts.loc['INTERMEDIATE']/imdc_counts.sum() + low_score_per\n",
    "# prog_name = 'PROG2925C'\n",
    "prog_name = 'PROG2'\n",
    "\n",
    "y_test_imdc = y_test[y_test['IMDC ORDINAL'].notna()].copy()\n",
    "\n",
    "y_test_imdc[prog_name] = 'NA'\n",
    "\n",
    "low_score_th = np.percentile(y_test_imdc['predicted survival'], low_score_per*100)\n",
    "intermediate_score_th = np.percentile(y_test_imdc['predicted survival'], intermediate_score_per*100)"
   ]
  },
  {
   "cell_type": "code",
   "execution_count": 24,
   "metadata": {},
   "outputs": [
    {
     "data": {
      "text/plain": [
       "PROG2\n",
       "FAVORABLE       23\n",
       "INTERMEDIATE    86\n",
       "POOR            34\n",
       "Name: count, dtype: int64"
      ]
     },
     "execution_count": 24,
     "metadata": {},
     "output_type": "execute_result"
    }
   ],
   "source": [
    "y_test_imdc.loc[y_test['predicted survival'] <= low_score_th, prog_name] = 'POOR'\n",
    "y_test_imdc.loc[(y_test['predicted survival'] > low_score_th) & (y_test_imdc['predicted survival'] <= intermediate_score_th), prog_name] = 'INTERMEDIATE'\n",
    "y_test_imdc.loc[y_test['predicted survival'] > intermediate_score_th, prog_name] = 'FAVORABLE'\n",
    "\n",
    "y_test_imdc[prog_name].value_counts().sort_index()"
   ]
  },
  {
   "cell_type": "code",
   "execution_count": 25,
   "metadata": {},
   "outputs": [],
   "source": [
    "y_trainval.loc[y_trainval['predicted survival'] <= low_score_th, prog_name] = 'POOR'\n",
    "y_trainval.loc[(y_trainval['predicted survival'] > low_score_th) & (y_trainval['predicted survival'] <= intermediate_score_th), prog_name] = 'INTERMEDIATE'\n",
    "y_trainval.loc[y_trainval['predicted survival'] > intermediate_score_th, prog_name] = 'FAVORABLE'"
   ]
  },
  {
   "cell_type": "code",
   "execution_count": 26,
   "metadata": {},
   "outputs": [
    {
     "data": {
      "text/plain": [
       "PROG2\n",
       "FAVORABLE       23\n",
       "INTERMEDIATE    89\n",
       "POOR            37\n",
       "Name: count, dtype: int64"
      ]
     },
     "execution_count": 26,
     "metadata": {},
     "output_type": "execute_result"
    }
   ],
   "source": [
    "y_test.loc[y_test['predicted survival'] <= low_score_th, prog_name] = 'POOR'\n",
    "y_test.loc[(y_test['predicted survival'] > low_score_th) & (y_test['predicted survival'] <= intermediate_score_th), prog_name] = 'INTERMEDIATE'\n",
    "y_test.loc[y_test['predicted survival'] > intermediate_score_th, prog_name] = 'FAVORABLE'\n",
    "\n",
    "y_test[prog_name].value_counts().sort_index()"
   ]
  },
  {
   "cell_type": "code",
   "execution_count": 29,
   "metadata": {},
   "outputs": [],
   "source": [
    "y_test.to_csv(f'{output_dir}/y_test_prognostic.csv')"
   ]
  },
  {
   "cell_type": "markdown",
   "metadata": {},
   "source": [
    "## KM comparison"
   ]
  },
  {
   "cell_type": "code",
   "execution_count": 27,
   "metadata": {},
   "outputs": [
    {
     "name": "stderr",
     "output_type": "stream",
     "text": [
      "/var/folders/zk/pr84pr3n16z3yzz_rrstxmmc0000gn/T/ipykernel_84160/695834355.py:12: MatplotlibDeprecationWarning: The get_cmap function was deprecated in Matplotlib 3.7 and will be removed two minor releases later. Use ``matplotlib.colormaps[name]`` or ``matplotlib.colormaps.get_cmap(obj)`` instead.\n",
      "  cmap = cm.get_cmap('Dark2')\n",
      "/var/folders/zk/pr84pr3n16z3yzz_rrstxmmc0000gn/T/ipykernel_84160/695834355.py:16: MatplotlibDeprecationWarning: The get_cmap function was deprecated in Matplotlib 3.7 and will be removed two minor releases later. Use ``matplotlib.colormaps[name]`` or ``matplotlib.colormaps.get_cmap(obj)`` instead.\n",
      "  reg_cmp = cm.get_cmap('tab10')\n"
     ]
    }
   ],
   "source": [
    "from matplotlib import cm\n",
    "from matplotlib.colors import ListedColormap, LinearSegmentedColormap\n",
    "from lifelines import CoxPHFitter\n",
    "\n",
    "from lifelines.utils import restricted_mean_survival_time\n",
    "from lifelines.statistics import logrank_test\n",
    "import warnings\n",
    "# from lifelines import KaplanMeierFitter, CoxPHFitter\n",
    "from lifelines.utils import restricted_mean_survival_time\n",
    "\n",
    "\n",
    "cmap = cm.get_cmap('Dark2')\n",
    "# create a custom colormap with the 3rd color removed\n",
    "\n",
    "k=3\n",
    "reg_cmp = cm.get_cmap('tab10')\n",
    "colors = cmap(np.arange(cmap.N))\n",
    "colors = np.vstack((colors[0:k,:]))\n",
    "newcmp = ListedColormap(colors, name=f'Dark2_{k}')\n"
   ]
  },
  {
   "cell_type": "code",
   "execution_count": 28,
   "metadata": {},
   "outputs": [
    {
     "data": {
      "text/plain": [
       "Set\n",
       "Test    149\n",
       "Name: count, dtype: int64"
      ]
     },
     "execution_count": 28,
     "metadata": {},
     "output_type": "execute_result"
    }
   ],
   "source": [
    "val_col = 'PROG1'\n",
    "# val_col = 'IMDC'\n",
    "\n",
    "val_col_alt = 'IMDC'\n",
    "\n",
    "# os_col = 'PFS'\n",
    "# cens_col = 'PFS_Event'\n",
    "os_col = 'OS'\n",
    "cens_col = 'OS_Event'\n",
    "\n",
    "# y_data = y_trainval.copy()\n",
    "# y_name = 'TrainVal'\n",
    "\n",
    "y_data = y_test.copy()\n",
    "y_name = 'Test'\n",
    "\n",
    "y_data['Set'].value_counts()"
   ]
  },
  {
   "cell_type": "code",
   "execution_count": 29,
   "metadata": {},
   "outputs": [
    {
     "name": "stdout",
     "output_type": "stream",
     "text": [
      "OS col= OS\n",
      "Cens col= OS_Event\n",
      "Val col= PROG1\n",
      "length of data df 143\n"
     ]
    },
    {
     "data": {
      "text/plain": [
       "Text(0, 0.5, 'Survival probability')"
      ]
     },
     "execution_count": 29,
     "metadata": {},
     "output_type": "execute_result"
    },
    {
     "data": {
      "image/png": "[encoded data removed]",
      "text/plain": [
       "<Figure size 600x400 with 1 Axes>"
      ]
     },
     "metadata": {},
     "output_type": "display_data"
    }
   ],
   "source": [
    "\n",
    "\n",
    "# y_data = y_test_imdc.copy()\n",
    "# val_col = 'PROG-2925'\n",
    "# val_col = 'PROG-2925B'\n",
    "# val_col = 'PROG2925C'\n",
    "\n",
    "\n",
    "kmf = KaplanMeierFitter()\n",
    "\n",
    "# print(\"clust_col=\", clust_col)\n",
    "print(\"OS col=\", os_col)\n",
    "print(\"Cens col=\", cens_col)\n",
    "print(\"Val col=\", val_col)\n",
    "\n",
    "out_dict = {}\n",
    "fig = plt.figure(figsize=(6,4))\n",
    "plt.rcParams['font.size'] = 12\n",
    "\n",
    "# data_df = y_data[(y_data['Set']=='Test') & (~y_data[val_col].isna()) & (y_data[val_col]!='NOT REPORTED')].copy()\n",
    "data_df = y_data[(~y_data[val_col].isna()) & (y_data[val_col]!='NOT REPORTED') & (y_data[val_col_alt]!='NOT REPORTED')].copy()\n",
    "\n",
    "print(\"length of data df\", len(data_df))\n",
    "\n",
    "lnw = 1\n",
    "lnw2 = 2\n",
    "median_survival_time_list =[]\n",
    "\n",
    "os_list = []\n",
    "cens_list = []\n",
    "\n",
    "\n",
    "val_lvls = data_df[val_col].unique()\n",
    "val_lvls = sorted(val_lvls,key=lambda x: x[0])\n",
    "for i in val_lvls:\n",
    "    df_s = data_df[data_df[val_col] == i].copy()\n",
    "    os_vals = df_s[os_col]\n",
    "    cens_vals = df_s[cens_col]\n",
    "    #kmf.fit(os, event_observed=cens, label=f'NMF{k} Cluster {i}')\n",
    "    #kmf.plot(ax=plt.gca(),show_censors=True,ci_show=False,linewidth=lnw)\n",
    "    #median_survival_time_list.append(kmf.median_survival_time_)\n",
    "    os_list.append(os_vals)\n",
    "    cens_list.append(cens_vals)\n",
    "\n",
    "for i,os_vals in enumerate(os_list):\n",
    "    cens = cens_list[i]\n",
    "    kmf.fit(os_vals, event_observed=cens, label=f'{val_col} {val_lvls[i]} ({len(os_vals)})')\n",
    "    # kmf.fit(os_vals, event_observed=eval(f\"os_cen{i+1}\"), label=f'Cluster {i+1} ({len(os_vals)})')\n",
    "\n",
    "    ax = kmf.plot(show_censors=True,ci_show=False,censor_styles={'marker':'|','ms':10},linewidth=lnw2,color=newcmp(i))\n",
    "    median_survival_time = kmf.median_survival_time_\n",
    "    median_survival_time_list.append(median_survival_time)\n",
    "\n",
    "prev_t = 0\n",
    "for i,t in enumerate(median_survival_time_list):\n",
    "    ax.hlines(0.5,0,t,linestyles='--',color='k',linewidth=lnw)\n",
    "    ax.axvline(t,ymax=0.5,ls='--',color='k',linewidth=lnw)\n",
    "    ax.text(t,0.01+i*0.05,f'{t:.1f}',rotation=0,va='center',ha='center',color=newcmp(i),fontsize=12)\n",
    "\n",
    "\n",
    "\n",
    "\n",
    "\n",
    "out_dict['mst'] = dict(zip(val_lvls,median_survival_time_list))\n",
    "\n",
    "plt.title(f'{val_col} of RCC3 {y_name} Baseline patients ({os_col})')\n",
    "# change the text size of the legend\n",
    "plt.legend(fontsize=10)\n",
    "plt.ylim(-.05,1.05)\n",
    "plt.xlabel('Time (months)')\n",
    "plt.ylabel('Survival probability')\n"
   ]
  },
  {
   "cell_type": "code",
   "execution_count": 30,
   "metadata": {},
   "outputs": [
    {
     "data": {
      "text/plain": [
       "[44.5832, 25.98767967, 9.4949]"
      ]
     },
     "execution_count": 30,
     "metadata": {},
     "output_type": "execute_result"
    }
   ],
   "source": [
    "median_survival_time_list"
   ]
  },
  {
   "cell_type": "code",
   "execution_count": 31,
   "metadata": {},
   "outputs": [],
   "source": [
    "\n",
    "cox_ph_dict = {}\n",
    "\n",
    "val_lvls = data_df[val_col].unique()\n",
    "val_lvls = sorted(val_lvls,key=lambda x: x[0])\n",
    "for i in val_lvls:\n",
    "    for j in val_lvls:\n",
    "        if i == j:\n",
    "            continue\n",
    "        df_s = data_df[(data_df[val_col] == i) | (data_df[val_col] == j)].copy()\n",
    "        os_vals = df_s[os_col]\n",
    "        cens_vals = df_s[cens_col]\n",
    "        val_vals = df_s[val_col]\n",
    "        \n",
    "        cph = CoxPHFitter()\n",
    "        cph.fit(df_s, duration_col=os_col, event_col=cens_col, formula=f'{val_col}')\n",
    "        hazard_ratio = cph.summary.iloc[0]['exp(coef)']\n",
    "        p_value = cph.summary.iloc[0]['p']\n",
    "        col = cph.summary.index[0]\n",
    "        hazard_ratio_lb = cph.summary.iloc[0]['exp(coef) lower 95%']\n",
    "        hazard_ratio_ub = cph.summary.iloc[0]['exp(coef) upper 95%']\n",
    "        cox_ph_dict[(i,j)] = {f'Cox Hazard Ratio ({os_col})': round(hazard_ratio,3), f'Cox p_value ({os_col})' : p_value, 'Cox Variable': col,\n",
    "                                'Cox Hazard Ratio 95% CI Lower': round(hazard_ratio_lb,3), 'Cox Hazard Ratio 95% CI Upper': round(hazard_ratio_ub,3)}\n",
    "                              \n",
    "        \n",
    "# cox_df = pd.DataFrame.from_dict(cox_ph_dict, orient=\"index\").round(5).sort_index()   \n",
    "cox_df = pd.DataFrame.from_dict(cox_ph_dict, orient=\"index\").sort_index()    \n",
    "\n",
    "\n",
    "km_p_dict = {}\n",
    "for clin_val in val_lvls:\n",
    "    for clin_val2 in val_lvls:\n",
    "        if clin_val != clin_val2:\n",
    "            sub_d = y_data.loc[y_data[val_col].isin([clin_val, clin_val2])].copy()\n",
    "            # perform logrank test against Treatment for each clin_val\n",
    "            log_res = logrank_test(sub_d[sub_d[val_col]==clin_val][os_col], \n",
    "                                sub_d[sub_d[val_col]==clin_val2][os_col], \n",
    "                                sub_d[sub_d[val_col]==clin_val][cens_col], \n",
    "                                sub_d[sub_d[val_col]==clin_val2][cens_col])\n",
    "            # print(log_res)\n",
    "            # print(sub_d.shape)\n",
    "            km_p_dict[(clin_val, clin_val2)] = {f\"KM p-value ({os_col})\": format(log_res.p_value, '.2e'), \n",
    "                                                \"mst_1\": out_dict[\"mst\"][clin_val], \n",
    "                                                \"mst_2\": out_dict[\"mst\"][clin_val2], \n",
    "                                               f\"mst_diff ({os_col})\": \n",
    "                                                    out_dict[\"mst\"][clin_val] - out_dict[\"mst\"][clin_val2]}\n",
    "\n",
    "\n",
    "# df of median survial times rounded to 1 decimal place with logrank p values\n",
    "km_df = pd.DataFrame.from_dict(km_p_dict, orient=\"index\").round(3).sort_index()\n",
    "\n",
    "\n",
    "surv_df = km_df.join(cox_df)\n",
    "surv_df  =surv_df.loc[[('FAVORABLE','INTERMEDIATE'),('FAVORABLE','POOR'),('INTERMEDIATE','POOR')],:].copy()\n",
    "surv_df.index = pd.MultiIndex.from_tuples(surv_df.index, names=[f'{val_col} #1', f'{val_col} #2'])\n",
    "# surv_df.name = f'{val_col} on {os_col}'\n",
    "surv_df.to_csv(f'{output_dir}/{y_name} {val_col} survival_results on {os_col}.csv')"
   ]
  },
  {
   "cell_type": "code",
   "execution_count": 32,
   "metadata": {},
   "outputs": [
    {
     "data": {
      "text/html": [
       "<div>\n",
       "<style scoped>\n",
       "    .dataframe tbody tr th:only-of-type {\n",
       "        vertical-align: middle;\n",
       "    }\n",
       "\n",
       "    .dataframe tbody tr th {\n",
       "        vertical-align: top;\n",
       "    }\n",
       "\n",
       "    .dataframe thead th {\n",
       "        text-align: right;\n",
       "    }\n",
       "</style>\n",
       "<table border=\"1\" class=\"dataframe\">\n",
       "  <thead>\n",
       "    <tr style=\"text-align: right;\">\n",
       "      <th></th>\n",
       "      <th></th>\n",
       "      <th>KM p-value (OS)</th>\n",
       "      <th>mst_1</th>\n",
       "      <th>mst_2</th>\n",
       "      <th>mst_diff (OS)</th>\n",
       "      <th>Cox Hazard Ratio (OS)</th>\n",
       "      <th>Cox p_value (OS)</th>\n",
       "      <th>Cox Variable</th>\n",
       "      <th>Cox Hazard Ratio 95% CI Lower</th>\n",
       "      <th>Cox Hazard Ratio 95% CI Upper</th>\n",
       "    </tr>\n",
       "    <tr>\n",
       "      <th>PROG1 #1</th>\n",
       "      <th>PROG1 #2</th>\n",
       "      <th></th>\n",
       "      <th></th>\n",
       "      <th></th>\n",
       "      <th></th>\n",
       "      <th></th>\n",
       "      <th></th>\n",
       "      <th></th>\n",
       "      <th></th>\n",
       "      <th></th>\n",
       "    </tr>\n",
       "  </thead>\n",
       "  <tbody>\n",
       "    <tr>\n",
       "      <th rowspan=\"2\" valign=\"top\">FAVORABLE</th>\n",
       "      <th>INTERMEDIATE</th>\n",
       "      <td>3.36e-02</td>\n",
       "      <td>44.583</td>\n",
       "      <td>25.988</td>\n",
       "      <td>18.596</td>\n",
       "      <td>1.810</td>\n",
       "      <td>2.600968e-02</td>\n",
       "      <td>PROG1[T.INTERMEDIATE]</td>\n",
       "      <td>1.073</td>\n",
       "      <td>3.051</td>\n",
       "    </tr>\n",
       "    <tr>\n",
       "      <th>POOR</th>\n",
       "      <td>1.71e-09</td>\n",
       "      <td>44.583</td>\n",
       "      <td>9.495</td>\n",
       "      <td>35.088</td>\n",
       "      <td>6.509</td>\n",
       "      <td>2.378237e-07</td>\n",
       "      <td>PROG1[T.POOR]</td>\n",
       "      <td>3.198</td>\n",
       "      <td>13.247</td>\n",
       "    </tr>\n",
       "    <tr>\n",
       "      <th>INTERMEDIATE</th>\n",
       "      <th>POOR</th>\n",
       "      <td>7.75e-08</td>\n",
       "      <td>25.988</td>\n",
       "      <td>9.495</td>\n",
       "      <td>16.493</td>\n",
       "      <td>3.171</td>\n",
       "      <td>8.293323e-06</td>\n",
       "      <td>PROG1[T.POOR]</td>\n",
       "      <td>1.909</td>\n",
       "      <td>5.268</td>\n",
       "    </tr>\n",
       "  </tbody>\n",
       "</table>\n",
       "</div>"
      ],
      "text/plain": [
       "                          KM p-value (OS)   mst_1   mst_2  mst_diff (OS)  \\\n",
       "PROG1 #1     PROG1 #2                                                      \n",
       "FAVORABLE    INTERMEDIATE        3.36e-02  44.583  25.988         18.596   \n",
       "             POOR                1.71e-09  44.583   9.495         35.088   \n",
       "INTERMEDIATE POOR                7.75e-08  25.988   9.495         16.493   \n",
       "\n",
       "                           Cox Hazard Ratio (OS)  Cox p_value (OS)  \\\n",
       "PROG1 #1     PROG1 #2                                                \n",
       "FAVORABLE    INTERMEDIATE                  1.810      2.600968e-02   \n",
       "             POOR                          6.509      2.378237e-07   \n",
       "INTERMEDIATE POOR                          3.171      8.293323e-06   \n",
       "\n",
       "                                    Cox Variable  \\\n",
       "PROG1 #1     PROG1 #2                              \n",
       "FAVORABLE    INTERMEDIATE  PROG1[T.INTERMEDIATE]   \n",
       "             POOR                  PROG1[T.POOR]   \n",
       "INTERMEDIATE POOR                  PROG1[T.POOR]   \n",
       "\n",
       "                           Cox Hazard Ratio 95% CI Lower  \\\n",
       "PROG1 #1     PROG1 #2                                      \n",
       "FAVORABLE    INTERMEDIATE                          1.073   \n",
       "             POOR                                  3.198   \n",
       "INTERMEDIATE POOR                                  1.909   \n",
       "\n",
       "                           Cox Hazard Ratio 95% CI Upper  \n",
       "PROG1 #1     PROG1 #2                                     \n",
       "FAVORABLE    INTERMEDIATE                          3.051  \n",
       "             POOR                                 13.247  \n",
       "INTERMEDIATE POOR                                  5.268  "
      ]
     },
     "execution_count": 32,
     "metadata": {},
     "output_type": "execute_result"
    }
   ],
   "source": [
    "surv_df"
   ]
  },
  {
   "cell_type": "code",
   "execution_count": null,
   "metadata": {},
   "outputs": [],
   "source": []
  }
 ],
 "metadata": {
  "kernelspec": {
   "display_name": "mz_embed_engine",
   "language": "python",
   "name": "python3"
  },
  "language_info": {
   "codemirror_mode": {
    "name": "ipython",
    "version": 3
   },
   "file_extension": ".py",
   "mimetype": "text/x-python",
   "name": "python",
   "nbconvert_exporter": "python",
   "pygments_lexer": "ipython3",
   "version": "3.9.19"
  }
 },
 "nbformat": 4,
 "nbformat_minor": 2
}
