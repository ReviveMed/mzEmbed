{
 "cells": [
  {
   "cell_type": "code",
   "execution_count": 2,
   "metadata": {},
   "outputs": [],
   "source": [
    "import os\n",
    "import sys\n",
    "import pandas as pd\n",
    "import numpy as np\n",
    "import matplotlib.pyplot as plt\n",
    "import seaborn as sns"
   ]
  },
  {
   "cell_type": "code",
   "execution_count": 3,
   "metadata": {},
   "outputs": [],
   "source": [
    "old_data_loc = '/Users/jonaheaton/ReviveMed Dropbox/Jonah Eaton/development_CohortCombination/alignment_RCC_2024_Feb_27/April_05_Data'\n",
    "\n",
    "new_data_loc = '/Users/jonaheaton/ReviveMed Dropbox/Jonah Eaton/development_CohortCombination/alignment_RCC_2024_Feb_27/May_28_Data'\n"
   ]
  },
  {
   "cell_type": "code",
   "execution_count": 4,
   "metadata": {},
   "outputs": [],
   "source": [
    "metadata_file = f'{old_data_loc}/metadata.csv'\n",
    "# Read the metadata file\n",
    "metadata = pd.read_csv(metadata_file, index_col=0)"
   ]
  },
  {
   "cell_type": "code",
   "execution_count": 5,
   "metadata": {},
   "outputs": [
    {
     "data": {
      "text/html": [
       "<div>\n",
       "<style scoped>\n",
       "    .dataframe tbody tr th:only-of-type {\n",
       "        vertical-align: middle;\n",
       "    }\n",
       "\n",
       "    .dataframe tbody tr th {\n",
       "        vertical-align: top;\n",
       "    }\n",
       "\n",
       "    .dataframe thead th {\n",
       "        text-align: right;\n",
       "    }\n",
       "</style>\n",
       "<table border=\"1\" class=\"dataframe\">\n",
       "  <thead>\n",
       "    <tr style=\"text-align: right;\">\n",
       "      <th></th>\n",
       "      <th>cohort_id</th>\n",
       "      <th>Study ID</th>\n",
       "      <th>Cohort Label</th>\n",
       "      <th>Cohort ID</th>\n",
       "      <th>OS</th>\n",
       "      <th>OS_Event</th>\n",
       "      <th>Age</th>\n",
       "      <th>subject ID</th>\n",
       "      <th>study_week</th>\n",
       "      <th>Region</th>\n",
       "      <th>...</th>\n",
       "      <th>is Pediatric</th>\n",
       "      <th>Cohort Label ENC</th>\n",
       "      <th>Study ID ENC</th>\n",
       "      <th>file id</th>\n",
       "      <th>Age Range (min)</th>\n",
       "      <th>Age Range (max)</th>\n",
       "      <th>IMDC</th>\n",
       "      <th>IMDC ORDINAL</th>\n",
       "      <th>IMDC BINARY</th>\n",
       "      <th>is Female</th>\n",
       "    </tr>\n",
       "  </thead>\n",
       "  <tbody>\n",
       "    <tr>\n",
       "      <th>0582_Marios_PD1_Inhib2_HP-EA003798-7.mzML</th>\n",
       "      <td>541</td>\n",
       "      <td>ST001237</td>\n",
       "      <td>adult_cancer</td>\n",
       "      <td>541</td>\n",
       "      <td>50.562628</td>\n",
       "      <td>0.0</td>\n",
       "      <td>62.0</td>\n",
       "      <td>CA209025-111-657</td>\n",
       "      <td>baseline</td>\n",
       "      <td>REST OF WORLD</td>\n",
       "      <td>...</td>\n",
       "      <td>False</td>\n",
       "      <td>0</td>\n",
       "      <td>4</td>\n",
       "      <td>0582_Marios_PD1_Inhib2_HP-EA003798-7.mzML</td>\n",
       "      <td>62.0</td>\n",
       "      <td>62.0</td>\n",
       "      <td>FAVORABLE</td>\n",
       "      <td>2.0</td>\n",
       "      <td>1.0</td>\n",
       "      <td>1.0</td>\n",
       "    </tr>\n",
       "    <tr>\n",
       "      <th>0293_Marios_PD1_Inhib2_HP-E9101785-7.mzML</th>\n",
       "      <td>541</td>\n",
       "      <td>ST001237</td>\n",
       "      <td>adult_cancer</td>\n",
       "      <td>541</td>\n",
       "      <td>24.607803</td>\n",
       "      <td>1.0</td>\n",
       "      <td>59.0</td>\n",
       "      <td>CA209025-33-12</td>\n",
       "      <td>baseline</td>\n",
       "      <td>WESTERN EUROPE</td>\n",
       "      <td>...</td>\n",
       "      <td>False</td>\n",
       "      <td>0</td>\n",
       "      <td>4</td>\n",
       "      <td>0293_Marios_PD1_Inhib2_HP-E9101785-7.mzML</td>\n",
       "      <td>59.0</td>\n",
       "      <td>59.0</td>\n",
       "      <td>INTERMEDIATE</td>\n",
       "      <td>1.0</td>\n",
       "      <td>NaN</td>\n",
       "      <td>0.0</td>\n",
       "    </tr>\n",
       "    <tr>\n",
       "      <th>0219_Marios_PD1_Inhib2_HP-EA003799-7.mzML</th>\n",
       "      <td>541</td>\n",
       "      <td>ST001237</td>\n",
       "      <td>adult_cancer</td>\n",
       "      <td>541</td>\n",
       "      <td>52.073922</td>\n",
       "      <td>0.0</td>\n",
       "      <td>66.0</td>\n",
       "      <td>CA209025-111-778</td>\n",
       "      <td>baseline</td>\n",
       "      <td>REST OF WORLD</td>\n",
       "      <td>...</td>\n",
       "      <td>False</td>\n",
       "      <td>0</td>\n",
       "      <td>4</td>\n",
       "      <td>0219_Marios_PD1_Inhib2_HP-EA003799-7.mzML</td>\n",
       "      <td>66.0</td>\n",
       "      <td>66.0</td>\n",
       "      <td>INTERMEDIATE</td>\n",
       "      <td>1.0</td>\n",
       "      <td>NaN</td>\n",
       "      <td>0.0</td>\n",
       "    </tr>\n",
       "    <tr>\n",
       "      <th>0962_Marios_PD1_Inhib2_HP-E9784758-7.mzML</th>\n",
       "      <td>541</td>\n",
       "      <td>ST001237</td>\n",
       "      <td>adult_cancer</td>\n",
       "      <td>541</td>\n",
       "      <td>24.246407</td>\n",
       "      <td>1.0</td>\n",
       "      <td>80.0</td>\n",
       "      <td>CA209025-180-1001</td>\n",
       "      <td>baseline</td>\n",
       "      <td>REST OF WORLD</td>\n",
       "      <td>...</td>\n",
       "      <td>False</td>\n",
       "      <td>0</td>\n",
       "      <td>4</td>\n",
       "      <td>0962_Marios_PD1_Inhib2_HP-E9784758-7.mzML</td>\n",
       "      <td>80.0</td>\n",
       "      <td>80.0</td>\n",
       "      <td>POOR</td>\n",
       "      <td>0.0</td>\n",
       "      <td>0.0</td>\n",
       "      <td>1.0</td>\n",
       "    </tr>\n",
       "    <tr>\n",
       "      <th>0218_Marios_PD1_Inhib2_HP-E9123067-7.mzML</th>\n",
       "      <td>541</td>\n",
       "      <td>ST001237</td>\n",
       "      <td>adult_cancer</td>\n",
       "      <td>541</td>\n",
       "      <td>3.614000</td>\n",
       "      <td>1.0</td>\n",
       "      <td>60.0</td>\n",
       "      <td>CA209025-113-50</td>\n",
       "      <td>baseline</td>\n",
       "      <td>WESTERN EUROPE</td>\n",
       "      <td>...</td>\n",
       "      <td>False</td>\n",
       "      <td>0</td>\n",
       "      <td>4</td>\n",
       "      <td>0218_Marios_PD1_Inhib2_HP-E9123067-7.mzML</td>\n",
       "      <td>60.0</td>\n",
       "      <td>60.0</td>\n",
       "      <td>NOT REPORTED</td>\n",
       "      <td>NaN</td>\n",
       "      <td>NaN</td>\n",
       "      <td>0.0</td>\n",
       "    </tr>\n",
       "    <tr>\n",
       "      <th>...</th>\n",
       "      <td>...</td>\n",
       "      <td>...</td>\n",
       "      <td>...</td>\n",
       "      <td>...</td>\n",
       "      <td>...</td>\n",
       "      <td>...</td>\n",
       "      <td>...</td>\n",
       "      <td>...</td>\n",
       "      <td>...</td>\n",
       "      <td>...</td>\n",
       "      <td>...</td>\n",
       "      <td>...</td>\n",
       "      <td>...</td>\n",
       "      <td>...</td>\n",
       "      <td>...</td>\n",
       "      <td>...</td>\n",
       "      <td>...</td>\n",
       "      <td>...</td>\n",
       "      <td>...</td>\n",
       "      <td>...</td>\n",
       "      <td>...</td>\n",
       "    </tr>\n",
       "    <tr>\n",
       "      <th>1188_Marios_PD1_Inhib2_HP-AE052720-7.mzML</th>\n",
       "      <td>541</td>\n",
       "      <td>ST001237</td>\n",
       "      <td>adult_cancer</td>\n",
       "      <td>541</td>\n",
       "      <td>60.254620</td>\n",
       "      <td>0.0</td>\n",
       "      <td>56.0</td>\n",
       "      <td>CA209025-139-227</td>\n",
       "      <td>baseline</td>\n",
       "      <td>US/CANADA</td>\n",
       "      <td>...</td>\n",
       "      <td>False</td>\n",
       "      <td>0</td>\n",
       "      <td>4</td>\n",
       "      <td>1188_Marios_PD1_Inhib2_HP-AE052720-7.mzML</td>\n",
       "      <td>56.0</td>\n",
       "      <td>56.0</td>\n",
       "      <td>INTERMEDIATE</td>\n",
       "      <td>1.0</td>\n",
       "      <td>NaN</td>\n",
       "      <td>0.0</td>\n",
       "    </tr>\n",
       "    <tr>\n",
       "      <th>1023_Marios_PD1_Inhib2_HP-AD185798-7.mzML</th>\n",
       "      <td>541</td>\n",
       "      <td>ST001237</td>\n",
       "      <td>adult_cancer</td>\n",
       "      <td>541</td>\n",
       "      <td>28.977413</td>\n",
       "      <td>1.0</td>\n",
       "      <td>72.0</td>\n",
       "      <td>CA209025-1-27</td>\n",
       "      <td>baseline</td>\n",
       "      <td>US/CANADA</td>\n",
       "      <td>...</td>\n",
       "      <td>False</td>\n",
       "      <td>0</td>\n",
       "      <td>4</td>\n",
       "      <td>1023_Marios_PD1_Inhib2_HP-AD185798-7.mzML</td>\n",
       "      <td>72.0</td>\n",
       "      <td>72.0</td>\n",
       "      <td>FAVORABLE</td>\n",
       "      <td>2.0</td>\n",
       "      <td>1.0</td>\n",
       "      <td>0.0</td>\n",
       "    </tr>\n",
       "    <tr>\n",
       "      <th>1093_Marios_PD1_Inhib2_HP-AE726342-7.mzML</th>\n",
       "      <td>541</td>\n",
       "      <td>ST001237</td>\n",
       "      <td>adult_cancer</td>\n",
       "      <td>541</td>\n",
       "      <td>25.856300</td>\n",
       "      <td>1.0</td>\n",
       "      <td>58.0</td>\n",
       "      <td>CA209025-138-872</td>\n",
       "      <td>baseline</td>\n",
       "      <td>US/CANADA</td>\n",
       "      <td>...</td>\n",
       "      <td>False</td>\n",
       "      <td>0</td>\n",
       "      <td>4</td>\n",
       "      <td>1093_Marios_PD1_Inhib2_HP-AE726342-7.mzML</td>\n",
       "      <td>58.0</td>\n",
       "      <td>58.0</td>\n",
       "      <td>FAVORABLE</td>\n",
       "      <td>2.0</td>\n",
       "      <td>1.0</td>\n",
       "      <td>1.0</td>\n",
       "    </tr>\n",
       "    <tr>\n",
       "      <th>0925_Marios_PD1_Inhib2_HP-AE673799-7.mzML</th>\n",
       "      <td>541</td>\n",
       "      <td>ST001237</td>\n",
       "      <td>adult_cancer</td>\n",
       "      <td>541</td>\n",
       "      <td>19.679700</td>\n",
       "      <td>1.0</td>\n",
       "      <td>52.0</td>\n",
       "      <td>CA209025-144-717</td>\n",
       "      <td>baseline</td>\n",
       "      <td>US/CANADA</td>\n",
       "      <td>...</td>\n",
       "      <td>False</td>\n",
       "      <td>0</td>\n",
       "      <td>4</td>\n",
       "      <td>0925_Marios_PD1_Inhib2_HP-AE673799-7.mzML</td>\n",
       "      <td>52.0</td>\n",
       "      <td>52.0</td>\n",
       "      <td>FAVORABLE</td>\n",
       "      <td>2.0</td>\n",
       "      <td>1.0</td>\n",
       "      <td>0.0</td>\n",
       "    </tr>\n",
       "    <tr>\n",
       "      <th>0917_Marios_PD1_Inhib2_HP-AD424471-8.mzML</th>\n",
       "      <td>541</td>\n",
       "      <td>ST001237</td>\n",
       "      <td>adult_cancer</td>\n",
       "      <td>541</td>\n",
       "      <td>30.915811</td>\n",
       "      <td>1.0</td>\n",
       "      <td>52.0</td>\n",
       "      <td>CA209025-1-71</td>\n",
       "      <td>baseline</td>\n",
       "      <td>US/CANADA</td>\n",
       "      <td>...</td>\n",
       "      <td>False</td>\n",
       "      <td>0</td>\n",
       "      <td>4</td>\n",
       "      <td>0917_Marios_PD1_Inhib2_HP-AD424471-8.mzML</td>\n",
       "      <td>52.0</td>\n",
       "      <td>52.0</td>\n",
       "      <td>INTERMEDIATE</td>\n",
       "      <td>1.0</td>\n",
       "      <td>NaN</td>\n",
       "      <td>0.0</td>\n",
       "    </tr>\n",
       "  </tbody>\n",
       "</table>\n",
       "<p>17685 rows × 45 columns</p>\n",
       "</div>"
      ],
      "text/plain": [
       "                                           cohort_id  Study ID  Cohort Label  \\\n",
       "0582_Marios_PD1_Inhib2_HP-EA003798-7.mzML        541  ST001237  adult_cancer   \n",
       "0293_Marios_PD1_Inhib2_HP-E9101785-7.mzML        541  ST001237  adult_cancer   \n",
       "0219_Marios_PD1_Inhib2_HP-EA003799-7.mzML        541  ST001237  adult_cancer   \n",
       "0962_Marios_PD1_Inhib2_HP-E9784758-7.mzML        541  ST001237  adult_cancer   \n",
       "0218_Marios_PD1_Inhib2_HP-E9123067-7.mzML        541  ST001237  adult_cancer   \n",
       "...                                              ...       ...           ...   \n",
       "1188_Marios_PD1_Inhib2_HP-AE052720-7.mzML        541  ST001237  adult_cancer   \n",
       "1023_Marios_PD1_Inhib2_HP-AD185798-7.mzML        541  ST001237  adult_cancer   \n",
       "1093_Marios_PD1_Inhib2_HP-AE726342-7.mzML        541  ST001237  adult_cancer   \n",
       "0925_Marios_PD1_Inhib2_HP-AE673799-7.mzML        541  ST001237  adult_cancer   \n",
       "0917_Marios_PD1_Inhib2_HP-AD424471-8.mzML        541  ST001237  adult_cancer   \n",
       "\n",
       "                                           Cohort ID         OS  OS_Event  \\\n",
       "0582_Marios_PD1_Inhib2_HP-EA003798-7.mzML        541  50.562628       0.0   \n",
       "0293_Marios_PD1_Inhib2_HP-E9101785-7.mzML        541  24.607803       1.0   \n",
       "0219_Marios_PD1_Inhib2_HP-EA003799-7.mzML        541  52.073922       0.0   \n",
       "0962_Marios_PD1_Inhib2_HP-E9784758-7.mzML        541  24.246407       1.0   \n",
       "0218_Marios_PD1_Inhib2_HP-E9123067-7.mzML        541   3.614000       1.0   \n",
       "...                                              ...        ...       ...   \n",
       "1188_Marios_PD1_Inhib2_HP-AE052720-7.mzML        541  60.254620       0.0   \n",
       "1023_Marios_PD1_Inhib2_HP-AD185798-7.mzML        541  28.977413       1.0   \n",
       "1093_Marios_PD1_Inhib2_HP-AE726342-7.mzML        541  25.856300       1.0   \n",
       "0925_Marios_PD1_Inhib2_HP-AE673799-7.mzML        541  19.679700       1.0   \n",
       "0917_Marios_PD1_Inhib2_HP-AD424471-8.mzML        541  30.915811       1.0   \n",
       "\n",
       "                                            Age         subject ID study_week  \\\n",
       "0582_Marios_PD1_Inhib2_HP-EA003798-7.mzML  62.0   CA209025-111-657   baseline   \n",
       "0293_Marios_PD1_Inhib2_HP-E9101785-7.mzML  59.0     CA209025-33-12   baseline   \n",
       "0219_Marios_PD1_Inhib2_HP-EA003799-7.mzML  66.0   CA209025-111-778   baseline   \n",
       "0962_Marios_PD1_Inhib2_HP-E9784758-7.mzML  80.0  CA209025-180-1001   baseline   \n",
       "0218_Marios_PD1_Inhib2_HP-E9123067-7.mzML  60.0    CA209025-113-50   baseline   \n",
       "...                                         ...                ...        ...   \n",
       "1188_Marios_PD1_Inhib2_HP-AE052720-7.mzML  56.0   CA209025-139-227   baseline   \n",
       "1023_Marios_PD1_Inhib2_HP-AD185798-7.mzML  72.0      CA209025-1-27   baseline   \n",
       "1093_Marios_PD1_Inhib2_HP-AE726342-7.mzML  58.0   CA209025-138-872   baseline   \n",
       "0925_Marios_PD1_Inhib2_HP-AE673799-7.mzML  52.0   CA209025-144-717   baseline   \n",
       "0917_Marios_PD1_Inhib2_HP-AD424471-8.mzML  52.0      CA209025-1-71   baseline   \n",
       "\n",
       "                                                   Region  ... is Pediatric  \\\n",
       "0582_Marios_PD1_Inhib2_HP-EA003798-7.mzML   REST OF WORLD  ...        False   \n",
       "0293_Marios_PD1_Inhib2_HP-E9101785-7.mzML  WESTERN EUROPE  ...        False   \n",
       "0219_Marios_PD1_Inhib2_HP-EA003799-7.mzML   REST OF WORLD  ...        False   \n",
       "0962_Marios_PD1_Inhib2_HP-E9784758-7.mzML   REST OF WORLD  ...        False   \n",
       "0218_Marios_PD1_Inhib2_HP-E9123067-7.mzML  WESTERN EUROPE  ...        False   \n",
       "...                                                   ...  ...          ...   \n",
       "1188_Marios_PD1_Inhib2_HP-AE052720-7.mzML       US/CANADA  ...        False   \n",
       "1023_Marios_PD1_Inhib2_HP-AD185798-7.mzML       US/CANADA  ...        False   \n",
       "1093_Marios_PD1_Inhib2_HP-AE726342-7.mzML       US/CANADA  ...        False   \n",
       "0925_Marios_PD1_Inhib2_HP-AE673799-7.mzML       US/CANADA  ...        False   \n",
       "0917_Marios_PD1_Inhib2_HP-AD424471-8.mzML       US/CANADA  ...        False   \n",
       "\n",
       "                                          Cohort Label ENC  Study ID ENC  \\\n",
       "0582_Marios_PD1_Inhib2_HP-EA003798-7.mzML                0             4   \n",
       "0293_Marios_PD1_Inhib2_HP-E9101785-7.mzML                0             4   \n",
       "0219_Marios_PD1_Inhib2_HP-EA003799-7.mzML                0             4   \n",
       "0962_Marios_PD1_Inhib2_HP-E9784758-7.mzML                0             4   \n",
       "0218_Marios_PD1_Inhib2_HP-E9123067-7.mzML                0             4   \n",
       "...                                                    ...           ...   \n",
       "1188_Marios_PD1_Inhib2_HP-AE052720-7.mzML                0             4   \n",
       "1023_Marios_PD1_Inhib2_HP-AD185798-7.mzML                0             4   \n",
       "1093_Marios_PD1_Inhib2_HP-AE726342-7.mzML                0             4   \n",
       "0925_Marios_PD1_Inhib2_HP-AE673799-7.mzML                0             4   \n",
       "0917_Marios_PD1_Inhib2_HP-AD424471-8.mzML                0             4   \n",
       "\n",
       "                                                                             file id  \\\n",
       "0582_Marios_PD1_Inhib2_HP-EA003798-7.mzML  0582_Marios_PD1_Inhib2_HP-EA003798-7.mzML   \n",
       "0293_Marios_PD1_Inhib2_HP-E9101785-7.mzML  0293_Marios_PD1_Inhib2_HP-E9101785-7.mzML   \n",
       "0219_Marios_PD1_Inhib2_HP-EA003799-7.mzML  0219_Marios_PD1_Inhib2_HP-EA003799-7.mzML   \n",
       "0962_Marios_PD1_Inhib2_HP-E9784758-7.mzML  0962_Marios_PD1_Inhib2_HP-E9784758-7.mzML   \n",
       "0218_Marios_PD1_Inhib2_HP-E9123067-7.mzML  0218_Marios_PD1_Inhib2_HP-E9123067-7.mzML   \n",
       "...                                                                              ...   \n",
       "1188_Marios_PD1_Inhib2_HP-AE052720-7.mzML  1188_Marios_PD1_Inhib2_HP-AE052720-7.mzML   \n",
       "1023_Marios_PD1_Inhib2_HP-AD185798-7.mzML  1023_Marios_PD1_Inhib2_HP-AD185798-7.mzML   \n",
       "1093_Marios_PD1_Inhib2_HP-AE726342-7.mzML  1093_Marios_PD1_Inhib2_HP-AE726342-7.mzML   \n",
       "0925_Marios_PD1_Inhib2_HP-AE673799-7.mzML  0925_Marios_PD1_Inhib2_HP-AE673799-7.mzML   \n",
       "0917_Marios_PD1_Inhib2_HP-AD424471-8.mzML  0917_Marios_PD1_Inhib2_HP-AD424471-8.mzML   \n",
       "\n",
       "                                          Age Range (min) Age Range (max)  \\\n",
       "0582_Marios_PD1_Inhib2_HP-EA003798-7.mzML            62.0            62.0   \n",
       "0293_Marios_PD1_Inhib2_HP-E9101785-7.mzML            59.0            59.0   \n",
       "0219_Marios_PD1_Inhib2_HP-EA003799-7.mzML            66.0            66.0   \n",
       "0962_Marios_PD1_Inhib2_HP-E9784758-7.mzML            80.0            80.0   \n",
       "0218_Marios_PD1_Inhib2_HP-E9123067-7.mzML            60.0            60.0   \n",
       "...                                                   ...             ...   \n",
       "1188_Marios_PD1_Inhib2_HP-AE052720-7.mzML            56.0            56.0   \n",
       "1023_Marios_PD1_Inhib2_HP-AD185798-7.mzML            72.0            72.0   \n",
       "1093_Marios_PD1_Inhib2_HP-AE726342-7.mzML            58.0            58.0   \n",
       "0925_Marios_PD1_Inhib2_HP-AE673799-7.mzML            52.0            52.0   \n",
       "0917_Marios_PD1_Inhib2_HP-AD424471-8.mzML            52.0            52.0   \n",
       "\n",
       "                                                   IMDC  IMDC ORDINAL  \\\n",
       "0582_Marios_PD1_Inhib2_HP-EA003798-7.mzML     FAVORABLE           2.0   \n",
       "0293_Marios_PD1_Inhib2_HP-E9101785-7.mzML  INTERMEDIATE           1.0   \n",
       "0219_Marios_PD1_Inhib2_HP-EA003799-7.mzML  INTERMEDIATE           1.0   \n",
       "0962_Marios_PD1_Inhib2_HP-E9784758-7.mzML          POOR           0.0   \n",
       "0218_Marios_PD1_Inhib2_HP-E9123067-7.mzML  NOT REPORTED           NaN   \n",
       "...                                                 ...           ...   \n",
       "1188_Marios_PD1_Inhib2_HP-AE052720-7.mzML  INTERMEDIATE           1.0   \n",
       "1023_Marios_PD1_Inhib2_HP-AD185798-7.mzML     FAVORABLE           2.0   \n",
       "1093_Marios_PD1_Inhib2_HP-AE726342-7.mzML     FAVORABLE           2.0   \n",
       "0925_Marios_PD1_Inhib2_HP-AE673799-7.mzML     FAVORABLE           2.0   \n",
       "0917_Marios_PD1_Inhib2_HP-AD424471-8.mzML  INTERMEDIATE           1.0   \n",
       "\n",
       "                                           IMDC BINARY is Female  \n",
       "0582_Marios_PD1_Inhib2_HP-EA003798-7.mzML          1.0       1.0  \n",
       "0293_Marios_PD1_Inhib2_HP-E9101785-7.mzML          NaN       0.0  \n",
       "0219_Marios_PD1_Inhib2_HP-EA003799-7.mzML          NaN       0.0  \n",
       "0962_Marios_PD1_Inhib2_HP-E9784758-7.mzML          0.0       1.0  \n",
       "0218_Marios_PD1_Inhib2_HP-E9123067-7.mzML          NaN       0.0  \n",
       "...                                                ...       ...  \n",
       "1188_Marios_PD1_Inhib2_HP-AE052720-7.mzML          NaN       0.0  \n",
       "1023_Marios_PD1_Inhib2_HP-AD185798-7.mzML          1.0       0.0  \n",
       "1093_Marios_PD1_Inhib2_HP-AE726342-7.mzML          1.0       1.0  \n",
       "0925_Marios_PD1_Inhib2_HP-AE673799-7.mzML          1.0       0.0  \n",
       "0917_Marios_PD1_Inhib2_HP-AD424471-8.mzML          NaN       0.0  \n",
       "\n",
       "[17685 rows x 45 columns]"
      ]
     },
     "execution_count": 5,
     "metadata": {},
     "output_type": "execute_result"
    }
   ],
   "source": [
    "metadata"
   ]
  },
  {
   "cell_type": "code",
   "execution_count": 90,
   "metadata": {},
   "outputs": [
    {
     "data": {
      "text/plain": [
       "Study ID\n",
       "ST001932    4482\n",
       "ST001422    2051\n",
       "ST001931    2044\n",
       "ST001428    1522\n",
       "ST001237    1379\n",
       "ST002331    1315\n",
       "ST001423    1192\n",
       "ST000909     742\n",
       "ST001849     691\n",
       "ST002027     356\n",
       "ST001408     349\n",
       "ST002112     335\n",
       "ST001236     271\n",
       "ST001918     271\n",
       "ST002251     242\n",
       "ST001519     166\n",
       "ST002244     122\n",
       "ST000388      95\n",
       "ST000422      60\n",
       "Name: count, dtype: int64"
      ]
     },
     "execution_count": 90,
     "metadata": {},
     "output_type": "execute_result"
    }
   ],
   "source": [
    "metadata['Study ID'].value_counts()"
   ]
  },
  {
   "cell_type": "markdown",
   "metadata": {},
   "source": [
    "## ST000422\n",
    "no useful metadata"
   ]
  },
  {
   "cell_type": "markdown",
   "metadata": {},
   "source": [
    "### Correct the cohort label for ST000422\n",
    "previously the cohort label for ST000422 was set to adult_cancer, but it should be adult_other"
   ]
  },
  {
   "cell_type": "code",
   "execution_count": 11,
   "metadata": {},
   "outputs": [
    {
     "data": {
      "text/plain": [
       "Cohort Label\n",
       "adult_cancer       0.0\n",
       "adult_other        1.0\n",
       "pediatric_CMD      2.0\n",
       "pediatric_other    3.0\n",
       "Name: Cohort Label ENC, dtype: float64"
      ]
     },
     "execution_count": 11,
     "metadata": {},
     "output_type": "execute_result"
    }
   ],
   "source": [
    "metadata.groupby('Cohort Label')['Cohort Label ENC'].mean()"
   ]
  },
  {
   "cell_type": "code",
   "execution_count": 6,
   "metadata": {},
   "outputs": [
    {
     "name": "stdout",
     "output_type": "stream",
     "text": [
      "Cohort Label\n",
      "adult_cancer    60\n",
      "Name: count, dtype: int64\n"
     ]
    }
   ],
   "source": [
    "print(metadata[metadata['Study ID'] == 'ST000422']['Cohort Label'].value_counts())"
   ]
  },
  {
   "cell_type": "code",
   "execution_count": 10,
   "metadata": {},
   "outputs": [],
   "source": [
    "metadata.loc[metadata['Study ID'] == 'ST000422','Cohort Label'] = 'adult_other'\n",
    "metadata.loc[metadata['Study ID'] == 'ST000422','Cohort Label ENC'] = 1"
   ]
  },
  {
   "cell_type": "code",
   "execution_count": 82,
   "metadata": {},
   "outputs": [
    {
     "data": {
      "text/plain": [
       "Study ID\n",
       "ST001932    4482\n",
       "ST001422    2051\n",
       "ST001931    2044\n",
       "ST001428    1522\n",
       "ST001237    1379\n",
       "ST002331    1315\n",
       "ST001423    1192\n",
       "ST000909     742\n",
       "ST001849     691\n",
       "ST002027     356\n",
       "ST001408     349\n",
       "ST002112     335\n",
       "ST001236     271\n",
       "ST001918     271\n",
       "ST002251     242\n",
       "ST001519     166\n",
       "ST002244     122\n",
       "ST000388      95\n",
       "ST000422      60\n",
       "Name: count, dtype: int64"
      ]
     },
     "execution_count": 82,
     "metadata": {},
     "output_type": "execute_result"
    }
   ],
   "source": []
  },
  {
   "cell_type": "markdown",
   "metadata": {},
   "source": [
    "### Leila Note (Friday May 24th):\n",
    "So I realized we don't need to know baseline and 3 years for cancer labeling\n",
    "Because if a patient has \"-\" value in the cancer detection columns, its label would be non-cancer\n",
    "and if a patient has \"1\" in in the cancer detection columns, its label would be \"cancer\", even the cancer diagnosed later, the earlier time point is very interesting, as it reflect cancer risk"
   ]
  },
  {
   "cell_type": "markdown",
   "metadata": {},
   "source": [
    "## ST001422, ST001423\n",
    "- lots of patients have gender metadata\n",
    "- many have Age, BMI and cancer status\n"
   ]
  },
  {
   "cell_type": "code",
   "execution_count": 45,
   "metadata": {},
   "outputs": [],
   "source": [
    "asprin_metadata_file = '/Users/jonaheaton/ReviveMed Dropbox/Jonah Eaton/mzLearn_preTraining/source_metadata/Aspirin_PR000730/combined_patient_samples.xlsx'\n",
    "\n",
    "asprin_metadata = pd.read_excel(asprin_metadata_file,sheet_name='combined_patient_samples (2)', index_col=0, header=0)\n",
    "asprin_metadata = asprin_metadata[~(asprin_metadata['IonizationMode'] == 'C18neg')].copy()"
   ]
  },
  {
   "cell_type": "markdown",
   "metadata": {},
   "source": [
    "### Compare to paper\n",
    "\n",
    "2020_Metabolomics Analysis of Aspirin’s Effects in Human Colon Tissue and Associations with Adenoma Risk\n",
    "In table 1 of the supplements\n",
    "\n",
    "Total number of patients considered: 100+114+111 = 325 patients\n",
    "\n",
    "\"≥1 Adenoma at Year 3 Colonoscopy\" has 33+39+47 = 119 patients\n",
    "\n",
    "\"≥1 Advanced Adenoma at Year 3 Colonoscopy\" has 6+8+13 = 27 patients\n",
    "\n",
    "\"High-risk Findings at Year 3 Colonoscopy\" has 9+11+16= 36 patients"
   ]
  },
  {
   "cell_type": "markdown",
   "metadata": {},
   "source": []
  },
  {
   "cell_type": "code",
   "execution_count": 81,
   "metadata": {},
   "outputs": [
    {
     "name": "stdout",
     "output_type": "stream",
     "text": [
      "Number of patients in aspirin study with BMI: 325\n",
      "Number of patients in aspirin study with Tradyn: 119\n",
      "Number of patients in aspirin study with Advtradyn: 27\n",
      "Number of patients in aspirin study with Hradvtradyn: 36\n"
     ]
    }
   ],
   "source": [
    "asprin_patients = asprin_metadata.groupby('PatientID').first()\n",
    "asprin_patients = asprin_patients[~asprin_patients['BMI'].isna()].copy()\n",
    "patient_total = asprin_patients.shape[0]\n",
    "print(f'Number of patients in aspirin study with BMI: {patient_total}')\n",
    "\n",
    "\n",
    "Tradyn_total = asprin_patients['Tradyn'].value_counts()[1]\n",
    "print(f'Number of patients in aspirin study with Tradyn: {Tradyn_total}')\n",
    "\n",
    "Advtradyn_total = asprin_patients['Advtradyn'].value_counts()[1]\n",
    "print(f'Number of patients in aspirin study with Advtradyn: {Advtradyn_total}')\n",
    "\n",
    "Hradvtradyn_total = asprin_patients['Hradvtradyn'].value_counts()[1]\n",
    "print(f'Number of patients in aspirin study with Hradvtradyn: {Hradvtradyn_total}')"
   ]
  },
  {
   "cell_type": "code",
   "execution_count": 48,
   "metadata": {},
   "outputs": [],
   "source": [
    "subset_ST001423 = asprin_metadata[~asprin_metadata['RAW_FILE_NAME_ST001423'].isna()].copy()\n",
    "subset_ST001423.index = subset_ST001423['RAW_FILE_NAME_ST001423'].apply(lambda x: x+'.mzML')\n",
    "\n",
    "subset_ST001422 = asprin_metadata[~asprin_metadata['RAW_FILE_NAME_ST001422'].isna()].copy()\n",
    "subset_ST001422.index = subset_ST001422['RAW_FILE_NAME_ST001422'].apply(lambda x: x+'.mzML')\n"
   ]
  },
  {
   "cell_type": "code",
   "execution_count": 52,
   "metadata": {},
   "outputs": [
    {
     "name": "stdout",
     "output_type": "stream",
     "text": [
      "Number of missing files in ST001423: 86\n",
      "Number of missing files in ST001422: 8\n"
     ]
    }
   ],
   "source": [
    "missing_files_ST001423 = subset_ST001423.index.difference(metadata.index)\n",
    "missing_files_ST001422 = subset_ST001422.index.difference(metadata.index)\n",
    "\n",
    "print(f'Number of missing files in ST001423: {len(missing_files_ST001423)}')\n",
    "print(f'Number of missing files in ST001422: {len(missing_files_ST001422)}')"
   ]
  },
  {
   "cell_type": "code",
   "execution_count": 89,
   "metadata": {},
   "outputs": [
    {
     "name": "stdout",
     "output_type": "stream",
     "text": [
      "Missing with Sex info 86\n",
      "Missing with Age info 46\n",
      "Missing with Sex info 8\n",
      "Missing with Age info 2\n"
     ]
    }
   ],
   "source": [
    "print('Missing with Sex info', np.sum(~subset_ST001423.loc[missing_files_ST001423,'Sex'].isna()))\n",
    "print('Missing with Age info', np.sum(~subset_ST001423.loc[missing_files_ST001423,'Age'].isna()))\n",
    "\n",
    "print('Missing with Sex info', np.sum(~subset_ST001422.loc[missing_files_ST001422,'Sex'].isna()))\n",
    "print('Missing with Age info', np.sum(~subset_ST001422.loc[missing_files_ST001422,'Age'].isna()))\n",
    "\n"
   ]
  },
  {
   "cell_type": "markdown",
   "metadata": {},
   "source": [
    "#### Note \n",
    "\n",
    "<span style=\"color:blue\">I think I was too quick to remove outliers from this dataset. \n",
    "between these two studies, there are another 94 samples that have Sex\n",
    "with 48 of those having Age, BMI and cancer information, </span>\n",
    "\n"
   ]
  },
  {
   "cell_type": "code",
   "execution_count": 76,
   "metadata": {},
   "outputs": [
    {
     "name": "stdout",
     "output_type": "stream",
     "text": [
      "Patient total: 293.0\n",
      "Tradyn total: 109.0\n",
      "Advtradyn total: 24.0\n",
      "Hradvtradyn total: 33.0\n"
     ]
    }
   ],
   "source": [
    "Patient_total = (subset_ST001423[~subset_ST001423['BMI'].isna()].shape[0] + subset_ST001422[~subset_ST001422['BMI'].isna()].shape[0])/2\n",
    "print(f'Patient total: {Patient_total}')\n",
    "\n",
    "Tradyn_total = (subset_ST001423['Tradyn'].value_counts()[1] + subset_ST001422['Tradyn'].value_counts()[1])/2\n",
    "print(f'Tradyn total: {Tradyn_total}') #119 \n",
    "\n",
    "Advtradyn_total = (subset_ST001423['Advtradyn'].value_counts()[1] + subset_ST001422['Advtradyn'].value_counts()[1])/2\n",
    "print(f'Advtradyn total: {Advtradyn_total}')\n",
    "\n",
    "Hradvtradyn_total = (subset_ST001423['Hradvtradyn'].value_counts()[1] + subset_ST001422['Hradvtradyn'].value_counts()[1])/2\n",
    "print(f'Hradvtradyn total: {Hradvtradyn_total}')"
   ]
  },
  {
   "cell_type": "code",
   "execution_count": null,
   "metadata": {},
   "outputs": [],
   "source": [
    "# we want to add columns for has_cancer, bmi, \n",
    "# update the age, update the Sex\n"
   ]
  },
  {
   "cell_type": "markdown",
   "metadata": {},
   "source": [
    "## ST000388\n",
    "- there should already be gender\n",
    "- we need to add cancer status\n",
    "- we can add smoking status\n",
    "\n"
   ]
  },
  {
   "cell_type": "markdown",
   "metadata": {},
   "source": [
    "## ST001408\n",
    "- we need to add gender, all patients are men\n",
    "- all patients have cancer"
   ]
  },
  {
   "cell_type": "markdown",
   "metadata": {},
   "source": [
    "## ST001236, ST001237\n",
    "- all patients have cancer\n"
   ]
  },
  {
   "cell_type": "code",
   "execution_count": null,
   "metadata": {},
   "outputs": [],
   "source": []
  },
  {
   "cell_type": "markdown",
   "metadata": {},
   "source": [
    "## ST002244\n",
    "- all patients are non-cancer"
   ]
  },
  {
   "cell_type": "code",
   "execution_count": null,
   "metadata": {},
   "outputs": [],
   "source": []
  },
  {
   "cell_type": "markdown",
   "metadata": {},
   "source": [
    "## ST002112\n",
    "- we shoud already have gender\n",
    "- all patients are non-cancer"
   ]
  },
  {
   "cell_type": "code",
   "execution_count": null,
   "metadata": {},
   "outputs": [],
   "source": []
  },
  {
   "cell_type": "markdown",
   "metadata": {},
   "source": [
    "## ST002027\n",
    "- add gender info, all patients are women\n",
    "- all patients are non cancer"
   ]
  },
  {
   "cell_type": "code",
   "execution_count": null,
   "metadata": {},
   "outputs": [],
   "source": []
  },
  {
   "cell_type": "markdown",
   "metadata": {},
   "source": [
    "## ST001918\n",
    "- add BMI\n",
    "- we should already have gender info\n",
    "- can optionally add smoking status\n",
    "- all patients are non-cancer"
   ]
  },
  {
   "cell_type": "code",
   "execution_count": null,
   "metadata": {},
   "outputs": [],
   "source": []
  },
  {
   "cell_type": "markdown",
   "metadata": {},
   "source": [
    "## ST001849\n",
    "- we should already have age and gender information\n",
    "- we can add BMI\n",
    "- we can optionally add smoking status\n",
    "- we have some cancer labels, but since patients have covid, unclear if we can use all of them\n",
    "\n",
    "\n",
    "for cancer labels\n",
    "- cancer without covid : cancer label\n",
    "- no-cancer w/wo covid: no-cancer label\n",
    "- cancer with covid: NA label"
   ]
  },
  {
   "cell_type": "code",
   "execution_count": null,
   "metadata": {},
   "outputs": [],
   "source": []
  },
  {
   "cell_type": "markdown",
   "metadata": {},
   "source": [
    "## ST001519\n",
    "- we should already have age and gender labels\n",
    "- add BMI\n",
    "- all patients are non-cancer"
   ]
  },
  {
   "cell_type": "code",
   "execution_count": null,
   "metadata": {},
   "outputs": [],
   "source": []
  },
  {
   "cell_type": "markdown",
   "metadata": {},
   "source": [
    "## ST001932\n",
    "- all patients are non-cancer"
   ]
  },
  {
   "cell_type": "code",
   "execution_count": null,
   "metadata": {},
   "outputs": [],
   "source": []
  },
  {
   "cell_type": "markdown",
   "metadata": {},
   "source": [
    "## ST001428\n",
    "- all patients are non cancer"
   ]
  },
  {
   "cell_type": "code",
   "execution_count": null,
   "metadata": {},
   "outputs": [],
   "source": []
  },
  {
   "cell_type": "markdown",
   "metadata": {},
   "source": [
    "## ST000909\n",
    "- all patients are non cancer"
   ]
  },
  {
   "cell_type": "code",
   "execution_count": null,
   "metadata": {},
   "outputs": [],
   "source": []
  },
  {
   "cell_type": "markdown",
   "metadata": {},
   "source": [
    "## ST002331\n",
    "- all patients are non cancer\n",
    "- we should already have gender and age information"
   ]
  },
  {
   "cell_type": "code",
   "execution_count": null,
   "metadata": {},
   "outputs": [],
   "source": []
  },
  {
   "cell_type": "markdown",
   "metadata": {},
   "source": [
    "## ST002251\n",
    "- all patients are non cancer\n",
    "-  we should already have age and gender information\n",
    "-  add BMI data"
   ]
  },
  {
   "cell_type": "code",
   "execution_count": null,
   "metadata": {},
   "outputs": [],
   "source": []
  },
  {
   "cell_type": "markdown",
   "metadata": {},
   "source": [
    "## ST001931\n",
    "- all patients are non cancer"
   ]
  },
  {
   "cell_type": "markdown",
   "metadata": {},
   "source": []
  },
  {
   "cell_type": "code",
   "execution_count": null,
   "metadata": {},
   "outputs": [],
   "source": []
  }
 ],
 "metadata": {
  "kernelspec": {
   "display_name": "mz_embed_engine",
   "language": "python",
   "name": "python3"
  },
  "language_info": {
   "codemirror_mode": {
    "name": "ipython",
    "version": 3
   },
   "file_extension": ".py",
   "mimetype": "text/x-python",
   "name": "python",
   "nbconvert_exporter": "python",
   "pygments_lexer": "ipython3",
   "version": "3.9.19"
  }
 },
 "nbformat": 4,
 "nbformat_minor": 2
}
