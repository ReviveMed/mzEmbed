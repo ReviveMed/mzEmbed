{
 "cells": [
  {
   "cell_type": "code",
   "execution_count": 1,
   "metadata": {},
   "outputs": [],
   "source": [
    "import neptune\n",
    "\n",
    "\n",
    "NEPTUNE_API_TOKEN = 'eyJhcGlfYWRkcmVzcyI6Imh0dHBzOi8vYXBwLm5lcHR1bmUuYWkiLCJhcGlfdXJsIjoiaHR0cHM6Ly9hcHAubmVwdHVuZS5haSIsImFwaV9rZXkiOiIxMGM5ZDhiMy1kOTlhLTRlMTAtOGFlYy1hOTQzMDE1YjZlNjcifQ=='\n"
   ]
  },
  {
   "cell_type": "markdown",
   "metadata": {},
   "source": [
    "## Remove some mistakenly made fields from a test Run"
   ]
  },
  {
   "cell_type": "code",
   "execution_count": 2,
   "metadata": {},
   "outputs": [
    {
     "name": "stdout",
     "output_type": "stream",
     "text": [
      "[neptune] [info   ] Neptune initialized. Open in the app: https://app.neptune.ai/revivemed/RCC/e/RCC-1296\n"
     ]
    }
   ],
   "source": [
    "run_id = 'RCC-1296'\n",
    "run = neptune.init_run(project='revivemed/RCC',\n",
    "                        api_token=NEPTUNE_API_TOKEN,\n",
    "                        with_id=run_id,\n",
    "                        capture_stdout=False,\n",
    "                        capture_stderr=False,\n",
    "                        capture_hardware_metrics=False)"
   ]
  },
  {
   "cell_type": "code",
   "execution_count": 6,
   "metadata": {},
   "outputs": [],
   "source": [
    "run_structure = run.get_structure()\n",
    "\n",
    "remov_keys = []\n",
    "for key, value in run_structure.items():\n",
    "    # print(key, value)\n",
    "\n",
    "    if 'MSKCC Train AUROC' in key:\n",
    "        remov_keys.append(key)\n",
    "    if 'MSKCC Val AUROC' in key:\n",
    "        remov_keys.append(key)"
   ]
  },
  {
   "cell_type": "code",
   "execution_count": 8,
   "metadata": {},
   "outputs": [],
   "source": [
    "print(remov_keys)\n",
    "for key in remov_keys:\n",
    "    del run[key]"
   ]
  },
  {
   "cell_type": "code",
   "execution_count": 9,
   "metadata": {},
   "outputs": [
    {
     "name": "stdout",
     "output_type": "stream",
     "text": [
      "[neptune] [info   ] Shutting down background jobs, please wait a moment...\n",
      "[neptune] [info   ] Done!\n",
      "[neptune] [info   ] All 0 operations synced, thanks for waiting!\n",
      "[neptune] [info   ] Explore the metadata in the Neptune app: https://app.neptune.ai/revivemed/RCC/e/RCC-1296/metadata\n"
     ]
    }
   ],
   "source": [
    "run.stop()"
   ]
  },
  {
   "cell_type": "markdown",
   "metadata": {},
   "source": [
    "## Remove uncessary fields from larger set of runs"
   ]
  },
  {
   "cell_type": "code",
   "execution_count": 13,
   "metadata": {},
   "outputs": [
    {
     "name": "stdout",
     "output_type": "stream",
     "text": [
      "[neptune] [info   ] Neptune initialized. Open in the app: https://app.neptune.ai/revivemed/RCC/\n"
     ]
    },
    {
     "data": {
      "application/vnd.jupyter.widget-view+json": {
       "model_id": "6c86769c18e046d191ab3af71b27c814",
       "version_major": 2,
       "version_minor": 0
      },
      "text/plain": [
       "Fetching table...: 0 [00:00, ?/s]"
      ]
     },
     "metadata": {},
     "output_type": "display_data"
    },
    {
     "name": "stderr",
     "output_type": "stream",
     "text": [
      "[neptune] [warning] NeptuneWarning: Date parsing failed. The date format is incorrect. Returning as string instead of datetime.\n"
     ]
    }
   ],
   "source": [
    "project = neptune.init_project(\n",
    "    project='revivemed/RCC',\n",
    "    mode=\"read-only\",\n",
    "    api_token=NEPTUNE_API_TOKEN\n",
    ")\n",
    "\n",
    "runs_table_df = project.fetch_runs_table(state='inactive').to_pandas()"
   ]
  },
  {
   "cell_type": "code",
   "execution_count": null,
   "metadata": {},
   "outputs": [],
   "source": []
  },
  {
   "cell_type": "code",
   "execution_count": 19,
   "metadata": {},
   "outputs": [],
   "source": [
    "# Select runs with any of the specific tags\n",
    "run_id_list = []\n",
    "tag_list = ['april2','king','pretrain_plots','jack','queen','april03_pareto']\n",
    "for row in runs_table_df.iterrows():\n",
    "    tags = row[1]['sys/tags'].split(',')\n",
    "    for tag in tags:\n",
    "        if tag in tag_list:\n",
    "            run_id_list.append(row[1]['sys/id'])\n",
    "            break\n",
    "        \n"
   ]
  },
  {
   "cell_type": "code",
   "execution_count": 18,
   "metadata": {},
   "outputs": [
    {
     "data": {
      "text/plain": [
       "34"
      ]
     },
     "execution_count": 18,
     "metadata": {},
     "output_type": "execute_result"
    }
   ],
   "source": [
    "len(run_id_list)"
   ]
  },
  {
   "cell_type": "code",
   "execution_count": 21,
   "metadata": {},
   "outputs": [
    {
     "name": "stdout",
     "output_type": "stream",
     "text": [
      "['finetune_mskcc_', 'finetune_MSKCC', 'randinit_MSKCC', 'summary', 'finetune_mskcc_0', 'randinit_mskcc_0', 'finetune_mskcc_1', 'randinit_mskcc_1', 'finetune_mskcc_2', 'randinit_mskcc_2', 'finetune_mskcc_3', 'randinit_mskcc_3', 'finetune_mskcc_4', 'randinit_mskcc_4']\n"
     ]
    }
   ],
   "source": [
    "# fields to remove\n",
    "rem_fields = ['finetune_mskcc_','finetune_MSKCC','randinit_MSKCC','randinit_mskcc_','summary']\n",
    "for ii in range(5):\n",
    "    rem_fields.append('finetune_mskcc_'+str(ii))\n",
    "    rem_fields.append('randinit_mskcc_'+str(ii))\n",
    "\n",
    "print(rem_fields)"
   ]
  },
  {
   "cell_type": "code",
   "execution_count": 22,
   "metadata": {},
   "outputs": [
    {
     "name": "stdout",
     "output_type": "stream",
     "text": [
      "RCC-1603\n",
      "[neptune] [info   ] Neptune initialized. Open in the app: https://app.neptune.ai/revivemed/RCC/e/RCC-1603\n",
      "deleting the following keys: ['finetune_MSKCC', 'finetune_mskcc_0', 'finetune_mskcc_1', 'finetune_mskcc_2', 'finetune_mskcc_3', 'finetune_mskcc_4', 'randinit_MSKCC', 'randinit_mskcc_0', 'randinit_mskcc_1', 'randinit_mskcc_2', 'randinit_mskcc_3', 'randinit_mskcc_4', 'summary']\n",
      "[neptune] [info   ] Shutting down background jobs, please wait a moment...\n",
      "[neptune] [info   ] Done!\n",
      "[neptune] [info   ] Waiting for the remaining 1685 operations to synchronize with Neptune. Do not kill this process.\n",
      "[neptune] [info   ] Still waiting for the remaining 1685 operations (0.00% done). Please wait.\n",
      "[neptune] [info   ] Still waiting for the remaining 1685 operations (0.00% done). Please wait.\n",
      "[neptune] [warning] Experiencing connection interruptions. Will try to reestablish communication with Neptune. Internal exception was: HTTPTooManyRequests\n",
      "[neptune] [info   ] Still waiting for the remaining 1685 operations (0.00% done). Please wait.\n",
      "[neptune] [warning] Failed to reconnect with Neptune in 60.0 seconds. You have 1685 operations saved on disk that can be manually synced using `neptune sync` command.\n",
      "[neptune] [info   ] Explore the metadata in the Neptune app: https://app.neptune.ai/revivemed/RCC/e/RCC-1603/metadata\n"
     ]
    }
   ],
   "source": [
    "for run_id in run_id_list:\n",
    "    print(run_id)\n",
    "    run = neptune.init_run(project='revivemed/RCC',\n",
    "                        api_token=NEPTUNE_API_TOKEN,\n",
    "                        with_id=run_id,\n",
    "                        capture_stdout=False,\n",
    "                        capture_stderr=False,\n",
    "                        capture_hardware_metrics=False)\n",
    "    \n",
    "    run_structure = run.get_structure()\n",
    "\n",
    "    remov_keys = []\n",
    "    for key, value in run_structure.items():\n",
    "        # print(key, value)\n",
    "\n",
    "        for field in rem_fields:\n",
    "            if key == field:\n",
    "                remov_keys.append(key)\n",
    "                break\n",
    "\n",
    "\n",
    "    print('deleting the following keys:', remov_keys)\n",
    "    for key in remov_keys:\n",
    "        del run[key]\n",
    "\n",
    "    run.stop()\n",
    "    break"
   ]
  },
  {
   "cell_type": "code",
   "execution_count": null,
   "metadata": {},
   "outputs": [],
   "source": []
  }
 ],
 "metadata": {
  "kernelspec": {
   "display_name": "mzlearn_3",
   "language": "python",
   "name": "python3"
  },
  "language_info": {
   "codemirror_mode": {
    "name": "ipython",
    "version": 3
   },
   "file_extension": ".py",
   "mimetype": "text/x-python",
   "name": "python",
   "nbconvert_exporter": "python",
   "pygments_lexer": "ipython3",
   "version": "3.9.18"
  }
 },
 "nbformat": 4,
 "nbformat_minor": 2
}
