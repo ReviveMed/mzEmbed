{
 "cells": [
  {
   "cell_type": "code",
   "execution_count": 5,
   "metadata": {},
   "outputs": [],
   "source": [
    "import pandas as pd\n",
    "import numpy as np\n",
    "import neptune\n",
    "from neptune.utils import stringify_unsupported\n",
    "\n",
    "from utils_neptune import get_latest_dataset\n",
    "import os\n",
    "NEPTUNE_API_TOKEN = 'eyJhcGlfYWRkcmVzcyI6Imh0dHBzOi8vYXBwLm5lcHR1bmUuYWkiLCJhcGlfdXJsIjoiaHR0cHM6Ly9hcHAubmVwdHVuZS5haSIsImFwaV9rZXkiOiIxMGM5ZDhiMy1kOTlhLTRlMTAtOGFlYy1hOTQzMDE1YjZlNjcifQ=='\n",
    "\n",
    "PROJECT_ID = 'revivemed/Survival-RCC'\n"
   ]
  },
  {
   "cell_type": "code",
   "execution_count": 6,
   "metadata": {},
   "outputs": [],
   "source": [
    "data_dir= '/app/finetune_data'\n",
    "output_dir = '/app/mz_embed_engine/output'\n",
    "local_dir = os.path.expanduser('~/saved_models')"
   ]
  },
  {
   "cell_type": "code",
   "execution_count": null,
   "metadata": {},
   "outputs": [],
   "source": [
    "def get_pretrained_encoder(randinit=False,load_dir=None):\n",
    "    if load_dir is None:\n",
    "        load_dir = os.path.expanduser('~/PRETRAINED_MODEL')\n",
    "        os.makedirs(load_dir,exist_ok=True)\n",
    "\n",
    "    encoder_kwargs_path = os.path.join(load_dir,'encoder_kwargs.json')\n",
    "    encoder_state_path =  os.path.join(load_dir,'encoder_state.pt')\n",
    "\n",
    "    if (not os.path.exists(encoder_kwargs_path)) or (not os.path.exists(encoder_state_path)):\n",
    "\n",
    "        neptune_model = neptune.init_model(project='revivemed/Survival-RCC',\n",
    "            api_token= NEPTUNE_API_TOKEN,\n",
    "            with_id='SUR-MOD',\n",
    "            mode=\"read-only\")\n",
    "\n",
    "        if not os.path.exists(encoder_state_path):\n",
    "            neptune_model['model/encoder_state'].download(encoder_state_path)\n",
    "        if not os.path.exists(encoder_kwargs_path):\n",
    "            encoder_kwargs = neptune_model['original_kwargs/encoder_kwargs'].fetch()\n",
    "            if 'input_size' not in encoder_kwargs:\n",
    "                encoder_kwargs['input_size'] = 2736\n",
    "            if 'kind' not in encoder_kwargs:\n",
    "                encoder_kwargs['kind'] = \n",
    "\n",
    "\n",
    "\n"
   ]
  },
  {
   "cell_type": "code",
   "execution_count": 3,
   "metadata": {},
   "outputs": [
    {
     "name": "stdout",
     "output_type": "stream",
     "text": [
      "[neptune] [info   ] Neptune initialized. Open in the app: https://app.neptune.ai/revivemed/Survival-RCC/m/SUR-MOD\n"
     ]
    }
   ],
   "source": [
    "neptune_model = neptune.init_model(project='revivemed/Survival-RCC',\n",
    "            api_token= NEPTUNE_API_TOKEN,\n",
    "            with_id='SUR-MOD',\n",
    "            mode=\"read-only\")   "
   ]
  },
  {
   "cell_type": "code",
   "execution_count": 10,
   "metadata": {},
   "outputs": [
    {
     "name": "stdout",
     "output_type": "stream",
     "text": [
      "[neptune] [info   ] Shutting down background jobs, please wait a moment...\n",
      "[neptune] [info   ] Done!\n",
      "[neptune] [info   ] Explore the metadata in the Neptune app: https://app.neptune.ai/revivemed/Survival-RCC/m/SUR-MOD/metadata\n"
     ]
    }
   ],
   "source": [
    "neptune_model.stop()"
   ]
  },
  {
   "cell_type": "code",
   "execution_count": 7,
   "metadata": {},
   "outputs": [
    {
     "data": {
      "application/vnd.jupyter.widget-view+json": {
       "model_id": "57124e86617f401d809d982f14cd05c9",
       "version_major": 2,
       "version_minor": 0
      },
      "text/plain": [
       "Fetching file...: 0 [00:00, ?/s]"
      ]
     },
     "metadata": {},
     "output_type": "display_data"
    }
   ],
   "source": [
    "neptune_model['model/encoder_state'].download(f'{local_dir}/pretrained_encoder.pt')"
   ]
  },
  {
   "cell_type": "code",
   "execution_count": 8,
   "metadata": {},
   "outputs": [],
   "source": [
    "encoder_kwargs = neptune_model['original_kwargs/encoder_kwargs'].fetch()"
   ]
  },
  {
   "cell_type": "code",
   "execution_count": 9,
   "metadata": {},
   "outputs": [
    {
     "data": {
      "text/plain": [
       "{'activation': 'leakyrelu',\n",
       " 'dropout_rate': 0,\n",
       " 'hidden_size_mult': 1.5,\n",
       " 'latent_size': 108,\n",
       " 'num_hidden_layers': 3,\n",
       " 'use_batch_norm': False}"
      ]
     },
     "execution_count": 9,
     "metadata": {},
     "output_type": "execute_result"
    }
   ],
   "source": [
    "encoder_kwargs"
   ]
  },
  {
   "cell_type": "code",
   "execution_count": null,
   "metadata": {},
   "outputs": [],
   "source": [
    "    model_dir = f'{local_dir}/{run_id}/{task_id}'\n",
    "    components_dir = f'{local_dir}/{run_id}/{task_id}/components'\n",
    "    os.makedirs(components_dir, exist_ok=True)\n",
    "    model_files = os.listdir(components_dir)\n",
    "    \n",
    "    if (len(model_files) < 4):\n",
    "\n",
    "        run = neptune.init_run(project='revivemed/RCC',\n",
    "            api_token= NEPTUNE_API_TOKEN,\n",
    "            with_id=run_id,\n",
    "            mode=\"read-only\")   \n",
    "        run_struc= run.get_structure()\n",
    "\n",
    "        original_kwargs=run[task_id+'/original_kwargs'].fetch()\n",
    "        json.dump(original_kwargs,open(f'{components_dir}/original_kwargs.json','w'),indent=4)\n",
    "        substruc = get_sub_struc_from_path(run_struc,f'{task_id}/models')\n",
    "        for key in substruc.keys():\n",
    "            if 'info' in key:\n",
    "                run[f'{task_id}/models/{key}'].download(f'{components_dir}/{key}.json')\n",
    "            elif 'state' in key:\n",
    "                run[f'{task_id}/models/{key}'].download(f'{components_dir}/{key}.pt')\n",
    "\n",
    "        run.stop()\n",
    "        model_files = os.listdir(components_dir)"
   ]
  },
  {
   "cell_type": "code",
   "execution_count": null,
   "metadata": {},
   "outputs": [],
   "source": [
    "def run_model(model_name, params, data_dict, train_name='train', \n",
    "              eval_name='val', n_repeat=1,run_dict=None):\n",
    "    \n",
    "    if run_dict:\n",
    "        run_dict['model_name'] = model_name\n",
    "        run_dict['params'] = stringify_unsupported(params)\n",
    "        run_dict['target_col'] = data_dict[train_name]['target_col']\n",
    "        for set_name in data_dict.keys():\n",
    "            if 'target_col':\n",
    "                target_col = data_dict[set_name]['target_col']\n",
    "                run_dict[f'dataset/{set_name}/target_col'] = target_col\n",
    "            if 'X_file' in data_dict[set_name].keys():\n",
    "                run_dict[f'dataset/{set_name}/X'].track_files(data_dict[set_name]['X_file'])\n",
    "            if 'y_file' in data_dict[set_name].keys():\n",
    "                run_dict[f'dataset/{set_name}/y'].track_files(data_dict[set_name]['y_file'])\n",
    "\n",
    "    \n",
    "    val_auc_list = []\n",
    "    train_auc_list = []\n",
    "    for _ in range(n_repeat):\n",
    "        model = fit_model(model_name, params, data_dict, train_name)\n",
    "        \n",
    "        ## Classifier Specific Code\n",
    "        train_acc, train_auc = evaluate_model(model, data_dict, train_name)\n",
    "        val_acc, val_auc = evaluate_model(model, data_dict, eval_name)\n",
    "        if run_dict:\n",
    "            run_dict['metrics/train/accuracy'].append(train_acc)\n",
    "            run_dict['metrics/train/auc'].append(train_auc)\n",
    "            run_dict['metrics/val/accuracy'].append(val_acc)\n",
    "            run_dict['metrics/val/auc'].append(val_auc)\n",
    "\n",
    "        val_auc_list.append(val_auc)\n",
    "        train_auc_list.append(train_auc)\n",
    "\n",
    "    val_auc = np.mean(val_auc_list)\n",
    "    train_auc = np.mean(train_auc_list)\n",
    "    return val_auc, train_auc"
   ]
  }
 ],
 "metadata": {
  "kernelspec": {
   "display_name": "Python 3",
   "language": "python",
   "name": "python3"
  },
  "language_info": {
   "codemirror_mode": {
    "name": "ipython",
    "version": 3
   },
   "file_extension": ".py",
   "mimetype": "text/x-python",
   "name": "python",
   "nbconvert_exporter": "python",
   "pygments_lexer": "ipython3",
   "version": "3.9.19"
  }
 },
 "nbformat": 4,
 "nbformat_minor": 2
}
