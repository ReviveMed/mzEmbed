{
 "cells": [
  {
   "cell_type": "code",
   "execution_count": 4,
   "metadata": {},
   "outputs": [],
   "source": [
    "import os\n",
    "import sys\n",
    "import pandas as pd\n",
    "import numpy as np\n",
    "import neptune\n",
    "from neptune.utils import stringify_unsupported\n",
    "from utils_neptune import start_neptune_run"
   ]
  },
  {
   "cell_type": "code",
   "execution_count": 3,
   "metadata": {},
   "outputs": [
    {
     "name": "stdout",
     "output_type": "stream",
     "text": [
      "sklearn version:  1.3.2\n"
     ]
    }
   ],
   "source": [
    "\n",
    "import sklearn\n",
    "print('sklearn version: ', sklearn.__version__)\n",
    "from sklearn.linear_model import LogisticRegression\n",
    "from sklearn.svm import SVC\n",
    "from sklearn.ensemble import RandomForestClassifier\n",
    "from sklearn.tree import DecisionTreeClassifier\n",
    "from sklearn.model_selection import RandomizedSearchCV\n",
    "from sklearn.metrics import make_scorer, roc_auc_score, accuracy_score, f1_score, precision_score, recall_score"
   ]
  },
  {
   "cell_type": "code",
   "execution_count": 2,
   "metadata": {},
   "outputs": [],
   "source": [
    "data_dir ='/Users/jonaheaton/ReviveMed Dropbox/Jonah Eaton/development_CohortCombination/alignment_RCC_2024_Feb_27/March_22_Data'"
   ]
  },
  {
   "cell_type": "code",
   "execution_count": 15,
   "metadata": {},
   "outputs": [],
   "source": [
    "X_train = pd.read_csv(os.path.join(data_dir, 'X_finetune_train.csv'),index_col=0)\n",
    "y_train = pd.read_csv(os.path.join(data_dir, 'y_finetune_train.csv'),index_col=0)\n",
    "X_val = pd.read_csv(os.path.join(data_dir, 'X_finetune_val.csv'), index_col=0)\n",
    "y_val = pd.read_csv(os.path.join(data_dir, 'y_finetune_val.csv'), index_col=0)"
   ]
  },
  {
   "cell_type": "code",
   "execution_count": 16,
   "metadata": {},
   "outputs": [],
   "source": [
    "y_val = y_val['MSKCC BINARY']\n",
    "y_train = y_train['MSKCC BINARY']\n",
    "\n",
    "# drop the nans\n",
    "y_val = y_val.dropna()\n",
    "X_val = X_val.loc[y_val.index]\n",
    "y_train = y_train.dropna()\n",
    "X_train = X_train.loc[y_train.index]"
   ]
  },
  {
   "cell_type": "code",
   "execution_count": 26,
   "metadata": {},
   "outputs": [],
   "source": [
    "lr = LogisticRegression()\n",
    "lr.fit(X_train, y_train)\n",
    "y_prob = lr.predict_proba(X_val)[:,1]\n",
    "\n",
    "\n",
    "train_roc_auc = roc_auc_score(y_train, lr.predict_proba(X_train)[:,1], average='micro')\n",
    "val_roc_auc = roc_auc_score(y_val, y_prob, average='micro')\n",
    "\n",
    "run, _ = start_neptune_run(with_run_id=None,tags=['v3.1','classical'])\n",
    "run['finetune_mkscc/kwargs/model_kind'] ='LogisticRegression'\n",
    "run['finetune_mkscc/eval/train/Binary_MSKCC/AUROC (micro)'] = train_roc_auc\n",
    "run['finetune_mkscc/eval/val/Binary_MSKCC/AUROC (micro)'] = val_roc_auc\n",
    "\n",
    "run.stop()"
   ]
  },
  {
   "cell_type": "code",
   "execution_count": 27,
   "metadata": {},
   "outputs": [
    {
     "name": "stdout",
     "output_type": "stream",
     "text": [
      "[neptune] [info   ] Neptune initialized. Open in the app: https://app.neptune.ai/revivemed/RCC/e/RCC-1426\n",
      "[neptune] [info   ] Shutting down background jobs, please wait a moment...\n",
      "[neptune] [info   ] Done!\n",
      "[neptune] [info   ] Waiting for the remaining 3 operations to synchronize with Neptune. Do not kill this process.\n",
      "[neptune] [info   ] All 3 operations synced, thanks for waiting!\n",
      "[neptune] [info   ] Explore the metadata in the Neptune app: https://app.neptune.ai/revivemed/RCC/e/RCC-1426/metadata\n"
     ]
    }
   ],
   "source": [
    "rf = RandomForestClassifier()\n",
    "rf.fit(X_train, y_train)\n",
    "y_prob = rf.predict_proba(X_val)[:,1]\n",
    "\n",
    "train_roc_auc = roc_auc_score(y_train, rf.predict_proba(X_train)[:,1], average='micro')\n",
    "val_roc_auc = roc_auc_score(y_val, y_prob, average='micro')\n",
    "\n",
    "run, _ = start_neptune_run(with_run_id=None,tags=['v3.1','classical'])\n",
    "run['finetune_mkscc/kwargs/model_kind'] ='RandomForestClassifier'\n",
    "run['finetune_mkscc/eval/train/Binary_MSKCC/AUROC (micro)'] = train_roc_auc\n",
    "run['finetune_mkscc/eval/val/Binary_MSKCC/AUROC (micro)'] = val_roc_auc\n",
    "\n",
    "run.stop()\n"
   ]
  },
  {
   "cell_type": "code",
   "execution_count": 28,
   "metadata": {},
   "outputs": [
    {
     "name": "stdout",
     "output_type": "stream",
     "text": [
      "[neptune] [info   ] Neptune initialized. Open in the app: https://app.neptune.ai/revivemed/RCC/e/RCC-1427\n",
      "[neptune] [info   ] Shutting down background jobs, please wait a moment...\n",
      "[neptune] [info   ] Done!\n",
      "[neptune] [info   ] Waiting for the remaining 3 operations to synchronize with Neptune. Do not kill this process.\n",
      "[neptune] [info   ] All 3 operations synced, thanks for waiting!\n",
      "[neptune] [info   ] Explore the metadata in the Neptune app: https://app.neptune.ai/revivemed/RCC/e/RCC-1427/metadata\n"
     ]
    }
   ],
   "source": [
    "svc = SVC(probability=True)\n",
    "svc.fit(X_train, y_train)\n",
    "y_prob = svc.predict_proba(X_val)[:,1]\n",
    "\n",
    "train_roc_auc = roc_auc_score(y_train, svc.predict_proba(X_train)[:,1], average='micro')\n",
    "val_roc_auc = roc_auc_score(y_val, y_prob, average='micro')\n",
    "\n",
    "run, _ = start_neptune_run(with_run_id=None,tags=['v3.1','classical'])\n",
    "run['finetune_mkscc/kwargs/model_kind'] ='SVC'\n",
    "run['finetune_mkscc/eval/train/Binary_MSKCC/AUROC (micro)'] = train_roc_auc\n",
    "run['finetune_mkscc/eval/val/Binary_MSKCC/AUROC (micro)'] = val_roc_auc\n",
    "\n",
    "run.stop()"
   ]
  },
  {
   "cell_type": "code",
   "execution_count": null,
   "metadata": {},
   "outputs": [],
   "source": []
  },
  {
   "cell_type": "markdown",
   "metadata": {},
   "source": [
    "## Run Evaluation"
   ]
  },
  {
   "cell_type": "code",
   "execution_count": 29,
   "metadata": {},
   "outputs": [],
   "source": [
    "NEPTUNE_API_TOKEN = 'eyJhcGlfYWRkcmVzcyI6Imh0dHBzOi8vYXBwLm5lcHR1bmUuYWkiLCJhcGlfdXJsIjoiaHR0cHM6Ly9hcHAubmVwdHVuZS5haSIsImFwaV9rZXkiOiIxMGM5ZDhiMy1kOTlhLTRlMTAtOGFlYy1hOTQzMDE1YjZlNjcifQ=='\n"
   ]
  },
  {
   "cell_type": "code",
   "execution_count": 30,
   "metadata": {},
   "outputs": [
    {
     "name": "stdout",
     "output_type": "stream",
     "text": [
      "[neptune] [info   ] Neptune initialized. Open in the app: https://app.neptune.ai/revivemed/RCC/\n"
     ]
    },
    {
     "data": {
      "application/vnd.jupyter.widget-view+json": {
       "model_id": "a5b75bfa985c430dbb2935cfb34170fe",
       "version_major": 2,
       "version_minor": 0
      },
      "text/plain": [
       "Fetching table...: 0 [00:00, ?/s]"
      ]
     },
     "metadata": {},
     "output_type": "display_data"
    }
   ],
   "source": [
    "encoder_kind = 'AE'\n",
    "project = neptune.init_project(\n",
    "    project='revivemed/RCC',\n",
    "    mode=\"read-only\",\n",
    "    api_token=NEPTUNE_API_TOKEN\n",
    ")\n",
    "\n",
    "runs_table_df = project.fetch_runs_table(tag=['v3.1'],state='inactive').to_pandas()\n",
    "\n",
    "#drop the failed runs\n",
    "runs_table_df = runs_table_df[~runs_table_df['sys/failed']].copy()\n",
    "\n",
    "#filter by encoder_kind\n",
    "runs_table_df = runs_table_df[runs_table_df['pretrain/kwargs/encoder_kind'] == encoder_kind].copy()"
   ]
  },
  {
   "cell_type": "code",
   "execution_count": 32,
   "metadata": {},
   "outputs": [
    {
     "data": {
      "text/plain": [
       "Index(['sys/creation_time', 'sys/description', 'sys/failed', 'sys/hostname',\n",
       "       'sys/id', 'sys/modification_time', 'sys/monitoring_time', 'sys/name',\n",
       "       'sys/owner', 'sys/ping_time',\n",
       "       ...\n",
       "       'monitoring/fe0263b7/memory', 'monitoring/fe0263b7/pid',\n",
       "       'monitoring/fe0263b7/stdout', 'monitoring/fe0263b7/tid',\n",
       "       'monitoring/ffe67bd5/cpu', 'monitoring/ffe67bd5/hostname',\n",
       "       'monitoring/ffe67bd5/memory', 'monitoring/ffe67bd5/pid',\n",
       "       'monitoring/ffe67bd5/stdout', 'monitoring/ffe67bd5/tid'],\n",
       "      dtype='object', length=774)"
      ]
     },
     "execution_count": 32,
     "metadata": {},
     "output_type": "execute_result"
    }
   ],
   "source": [
    "runs_table_df.columns"
   ]
  },
  {
   "cell_type": "code",
   "execution_count": 34,
   "metadata": {},
   "outputs": [
    {
     "data": {
      "text/html": [
       "<div>\n",
       "<style scoped>\n",
       "    .dataframe tbody tr th:only-of-type {\n",
       "        vertical-align: middle;\n",
       "    }\n",
       "\n",
       "    .dataframe tbody tr th {\n",
       "        vertical-align: top;\n",
       "    }\n",
       "\n",
       "    .dataframe thead th {\n",
       "        text-align: right;\n",
       "    }\n",
       "</style>\n",
       "<table border=\"1\" class=\"dataframe\">\n",
       "  <thead>\n",
       "    <tr style=\"text-align: right;\">\n",
       "      <th></th>\n",
       "      <th>sys/id</th>\n",
       "      <th>objectives/OBJ 0-1-1-1 (v0)</th>\n",
       "      <th>objectives/OBJ 1-0-0-0 (v0)</th>\n",
       "      <th>objectives/OBJ 1-0-0-1 (v0)</th>\n",
       "      <th>objectives/OBJ 1-0-0-10 (v0)</th>\n",
       "      <th>objectives/OBJ 1-1-0-1 (v0)</th>\n",
       "      <th>objectives/OBJ 1-1-1-0 (v0)</th>\n",
       "      <th>objectives/OBJ 1-1-1-1 (v0)</th>\n",
       "      <th>objectives/OBJ 1-1-1-10 (v0)</th>\n",
       "      <th>objectives/OBJ 10-0-0-1 (v0)</th>\n",
       "      <th>objectives/OBJ 10-1-1-1 (v0)</th>\n",
       "      <th>objectives/OBJ no Adv (v0)</th>\n",
       "      <th>objectives/OBJ only recon (v0)</th>\n",
       "      <th>objectives/OBJ4 equal weights (v0)</th>\n",
       "      <th>objectives/OBJECTIVE equal weights</th>\n",
       "    </tr>\n",
       "  </thead>\n",
       "  <tbody>\n",
       "    <tr>\n",
       "      <th>4</th>\n",
       "      <td>RCC-1424</td>\n",
       "      <td>0.998310</td>\n",
       "      <td>-0.704315</td>\n",
       "      <td>-0.206005</td>\n",
       "      <td>-0.206005</td>\n",
       "      <td>-0.206005</td>\n",
       "      <td>0.793995</td>\n",
       "      <td>0.293995</td>\n",
       "      <td>-4.206005</td>\n",
       "      <td>-0.206005</td>\n",
       "      <td>-6.044841</td>\n",
       "      <td>NaN</td>\n",
       "      <td>NaN</td>\n",
       "      <td>NaN</td>\n",
       "      <td>NaN</td>\n",
       "    </tr>\n",
       "    <tr>\n",
       "      <th>5</th>\n",
       "      <td>RCC-1423</td>\n",
       "      <td>0.616359</td>\n",
       "      <td>-161.654419</td>\n",
       "      <td>-161.538059</td>\n",
       "      <td>-161.538059</td>\n",
       "      <td>-161.538059</td>\n",
       "      <td>-160.538059</td>\n",
       "      <td>-161.038059</td>\n",
       "      <td>-165.538059</td>\n",
       "      <td>-161.538059</td>\n",
       "      <td>-1615.927830</td>\n",
       "      <td>NaN</td>\n",
       "      <td>NaN</td>\n",
       "      <td>NaN</td>\n",
       "      <td>NaN</td>\n",
       "    </tr>\n",
       "    <tr>\n",
       "      <th>6</th>\n",
       "      <td>RCC-1422</td>\n",
       "      <td>0.991053</td>\n",
       "      <td>-0.589987</td>\n",
       "      <td>-0.098934</td>\n",
       "      <td>-0.098934</td>\n",
       "      <td>-0.098934</td>\n",
       "      <td>0.901066</td>\n",
       "      <td>0.401066</td>\n",
       "      <td>-4.098934</td>\n",
       "      <td>-0.098934</td>\n",
       "      <td>-4.908821</td>\n",
       "      <td>NaN</td>\n",
       "      <td>NaN</td>\n",
       "      <td>NaN</td>\n",
       "      <td>NaN</td>\n",
       "    </tr>\n",
       "    <tr>\n",
       "      <th>7</th>\n",
       "      <td>RCC-1421</td>\n",
       "      <td>0.995662</td>\n",
       "      <td>-0.691467</td>\n",
       "      <td>-0.195805</td>\n",
       "      <td>-0.195805</td>\n",
       "      <td>-0.195805</td>\n",
       "      <td>0.804195</td>\n",
       "      <td>0.304195</td>\n",
       "      <td>-4.195805</td>\n",
       "      <td>-0.195805</td>\n",
       "      <td>-5.919007</td>\n",
       "      <td>NaN</td>\n",
       "      <td>NaN</td>\n",
       "      <td>NaN</td>\n",
       "      <td>NaN</td>\n",
       "    </tr>\n",
       "    <tr>\n",
       "      <th>8</th>\n",
       "      <td>RCC-1420</td>\n",
       "      <td>0.993543</td>\n",
       "      <td>-0.593849</td>\n",
       "      <td>-0.100307</td>\n",
       "      <td>-0.100307</td>\n",
       "      <td>-0.100307</td>\n",
       "      <td>0.899693</td>\n",
       "      <td>0.399693</td>\n",
       "      <td>-4.100307</td>\n",
       "      <td>-0.100307</td>\n",
       "      <td>-4.944951</td>\n",
       "      <td>NaN</td>\n",
       "      <td>NaN</td>\n",
       "      <td>NaN</td>\n",
       "      <td>NaN</td>\n",
       "    </tr>\n",
       "  </tbody>\n",
       "</table>\n",
       "</div>"
      ],
      "text/plain": [
       "     sys/id  objectives/OBJ 0-1-1-1 (v0)  objectives/OBJ 1-0-0-0 (v0)  \\\n",
       "4  RCC-1424                     0.998310                    -0.704315   \n",
       "5  RCC-1423                     0.616359                  -161.654419   \n",
       "6  RCC-1422                     0.991053                    -0.589987   \n",
       "7  RCC-1421                     0.995662                    -0.691467   \n",
       "8  RCC-1420                     0.993543                    -0.593849   \n",
       "\n",
       "   objectives/OBJ 1-0-0-1 (v0)  objectives/OBJ 1-0-0-10 (v0)  \\\n",
       "4                    -0.206005                     -0.206005   \n",
       "5                  -161.538059                   -161.538059   \n",
       "6                    -0.098934                     -0.098934   \n",
       "7                    -0.195805                     -0.195805   \n",
       "8                    -0.100307                     -0.100307   \n",
       "\n",
       "   objectives/OBJ 1-1-0-1 (v0)  objectives/OBJ 1-1-1-0 (v0)  \\\n",
       "4                    -0.206005                     0.793995   \n",
       "5                  -161.538059                  -160.538059   \n",
       "6                    -0.098934                     0.901066   \n",
       "7                    -0.195805                     0.804195   \n",
       "8                    -0.100307                     0.899693   \n",
       "\n",
       "   objectives/OBJ 1-1-1-1 (v0)  objectives/OBJ 1-1-1-10 (v0)  \\\n",
       "4                     0.293995                     -4.206005   \n",
       "5                  -161.038059                   -165.538059   \n",
       "6                     0.401066                     -4.098934   \n",
       "7                     0.304195                     -4.195805   \n",
       "8                     0.399693                     -4.100307   \n",
       "\n",
       "   objectives/OBJ 10-0-0-1 (v0)  objectives/OBJ 10-1-1-1 (v0)  \\\n",
       "4                     -0.206005                     -6.044841   \n",
       "5                   -161.538059                  -1615.927830   \n",
       "6                     -0.098934                     -4.908821   \n",
       "7                     -0.195805                     -5.919007   \n",
       "8                     -0.100307                     -4.944951   \n",
       "\n",
       "   objectives/OBJ no Adv (v0)  objectives/OBJ only recon (v0)  \\\n",
       "4                         NaN                             NaN   \n",
       "5                         NaN                             NaN   \n",
       "6                         NaN                             NaN   \n",
       "7                         NaN                             NaN   \n",
       "8                         NaN                             NaN   \n",
       "\n",
       "   objectives/OBJ4 equal weights (v0)  objectives/OBJECTIVE equal weights  \n",
       "4                                 NaN                                 NaN  \n",
       "5                                 NaN                                 NaN  \n",
       "6                                 NaN                                 NaN  \n",
       "7                                 NaN                                 NaN  \n",
       "8                                 NaN                                 NaN  "
      ]
     },
     "execution_count": 34,
     "metadata": {},
     "output_type": "execute_result"
    }
   ],
   "source": [
    "cols = ['sys/id']\n",
    "obj_cols = [col for col in runs_table_df.columns if 'objectives/OBJ' in col]\n",
    "cols.extend(obj_cols)\n",
    "runs_table_df[cols].head()"
   ]
  },
  {
   "cell_type": "code",
   "execution_count": null,
   "metadata": {},
   "outputs": [],
   "source": []
  }
 ],
 "metadata": {
  "kernelspec": {
   "display_name": "mzlearn_3",
   "language": "python",
   "name": "python3"
  },
  "language_info": {
   "codemirror_mode": {
    "name": "ipython",
    "version": 3
   },
   "file_extension": ".py",
   "mimetype": "text/x-python",
   "name": "python",
   "nbconvert_exporter": "python",
   "pygments_lexer": "ipython3",
   "version": "3.9.18"
  }
 },
 "nbformat": 4,
 "nbformat_minor": 2
}
