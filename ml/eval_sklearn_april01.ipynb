{
 "cells": [
  {
   "cell_type": "code",
   "execution_count": 4,
   "metadata": {},
   "outputs": [],
   "source": [
    "import os\n",
    "import sys\n",
    "import pandas as pd\n",
    "import numpy as np\n",
    "import neptune\n",
    "from neptune.utils import stringify_unsupported\n",
    "from utils_neptune import start_neptune_run"
   ]
  },
  {
   "cell_type": "code",
   "execution_count": 3,
   "metadata": {},
   "outputs": [
    {
     "name": "stdout",
     "output_type": "stream",
     "text": [
      "sklearn version:  1.3.2\n"
     ]
    }
   ],
   "source": [
    "\n",
    "import sklearn\n",
    "print('sklearn version: ', sklearn.__version__)\n",
    "from sklearn.linear_model import LogisticRegression\n",
    "from sklearn.svm import SVC\n",
    "from sklearn.ensemble import RandomForestClassifier\n",
    "from sklearn.tree import DecisionTreeClassifier\n",
    "from sklearn.model_selection import RandomizedSearchCV\n",
    "from sklearn.metrics import make_scorer, roc_auc_score, accuracy_score, f1_score, precision_score, recall_score"
   ]
  },
  {
   "cell_type": "code",
   "execution_count": 2,
   "metadata": {},
   "outputs": [],
   "source": [
    "data_dir ='/Users/jonaheaton/ReviveMed Dropbox/Jonah Eaton/development_CohortCombination/alignment_RCC_2024_Feb_27/March_22_Data'"
   ]
  },
  {
   "cell_type": "code",
   "execution_count": 15,
   "metadata": {},
   "outputs": [],
   "source": [
    "X_train = pd.read_csv(os.path.join(data_dir, 'X_finetune_train.csv'),index_col=0)\n",
    "y_train = pd.read_csv(os.path.join(data_dir, 'y_finetune_train.csv'),index_col=0)\n",
    "X_val = pd.read_csv(os.path.join(data_dir, 'X_finetune_val.csv'), index_col=0)\n",
    "y_val = pd.read_csv(os.path.join(data_dir, 'y_finetune_val.csv'), index_col=0)"
   ]
  },
  {
   "cell_type": "code",
   "execution_count": 16,
   "metadata": {},
   "outputs": [],
   "source": [
    "y_val = y_val['MSKCC BINARY']\n",
    "y_train = y_train['MSKCC BINARY']\n",
    "\n",
    "# drop the nans\n",
    "y_val = y_val.dropna()\n",
    "X_val = X_val.loc[y_val.index]\n",
    "y_train = y_train.dropna()\n",
    "X_train = X_train.loc[y_train.index]"
   ]
  },
  {
   "cell_type": "code",
   "execution_count": 26,
   "metadata": {},
   "outputs": [],
   "source": [
    "lr = LogisticRegression()\n",
    "lr.fit(X_train, y_train)\n",
    "y_prob = lr.predict_proba(X_val)[:,1]\n",
    "\n",
    "\n",
    "train_roc_auc = roc_auc_score(y_train, lr.predict_proba(X_train)[:,1], average='micro')\n",
    "val_roc_auc = roc_auc_score(y_val, y_prob, average='micro')\n",
    "\n",
    "run, _ = start_neptune_run(with_run_id=None,tags=['v3.1','classical'])\n",
    "run['finetune_mkscc/kwargs/model_kind'] ='LogisticRegression'\n",
    "run['finetune_mkscc/eval/train/Binary_MSKCC/AUROC (micro)'] = train_roc_auc\n",
    "run['finetune_mkscc/eval/val/Binary_MSKCC/AUROC (micro)'] = val_roc_auc\n",
    "\n",
    "run.stop()"
   ]
  },
  {
   "cell_type": "code",
   "execution_count": 27,
   "metadata": {},
   "outputs": [
    {
     "name": "stdout",
     "output_type": "stream",
     "text": [
      "[neptune] [info   ] Neptune initialized. Open in the app: https://app.neptune.ai/revivemed/RCC/e/RCC-1426\n",
      "[neptune] [info   ] Shutting down background jobs, please wait a moment...\n",
      "[neptune] [info   ] Done!\n",
      "[neptune] [info   ] Waiting for the remaining 3 operations to synchronize with Neptune. Do not kill this process.\n",
      "[neptune] [info   ] All 3 operations synced, thanks for waiting!\n",
      "[neptune] [info   ] Explore the metadata in the Neptune app: https://app.neptune.ai/revivemed/RCC/e/RCC-1426/metadata\n"
     ]
    }
   ],
   "source": [
    "rf = RandomForestClassifier()\n",
    "rf.fit(X_train, y_train)\n",
    "y_prob = rf.predict_proba(X_val)[:,1]\n",
    "\n",
    "train_roc_auc = roc_auc_score(y_train, rf.predict_proba(X_train)[:,1], average='micro')\n",
    "val_roc_auc = roc_auc_score(y_val, y_prob, average='micro')\n",
    "\n",
    "run, _ = start_neptune_run(with_run_id=None,tags=['v3.1','classical'])\n",
    "run['finetune_mkscc/kwargs/model_kind'] ='RandomForestClassifier'\n",
    "run['finetune_mkscc/eval/train/Binary_MSKCC/AUROC (micro)'] = train_roc_auc\n",
    "run['finetune_mkscc/eval/val/Binary_MSKCC/AUROC (micro)'] = val_roc_auc\n",
    "\n",
    "run.stop()\n"
   ]
  },
  {
   "cell_type": "code",
   "execution_count": 28,
   "metadata": {},
   "outputs": [
    {
     "name": "stdout",
     "output_type": "stream",
     "text": [
      "[neptune] [info   ] Neptune initialized. Open in the app: https://app.neptune.ai/revivemed/RCC/e/RCC-1427\n",
      "[neptune] [info   ] Shutting down background jobs, please wait a moment...\n",
      "[neptune] [info   ] Done!\n",
      "[neptune] [info   ] Waiting for the remaining 3 operations to synchronize with Neptune. Do not kill this process.\n",
      "[neptune] [info   ] All 3 operations synced, thanks for waiting!\n",
      "[neptune] [info   ] Explore the metadata in the Neptune app: https://app.neptune.ai/revivemed/RCC/e/RCC-1427/metadata\n"
     ]
    }
   ],
   "source": [
    "svc = SVC(probability=True)\n",
    "svc.fit(X_train, y_train)\n",
    "y_prob = svc.predict_proba(X_val)[:,1]\n",
    "\n",
    "train_roc_auc = roc_auc_score(y_train, svc.predict_proba(X_train)[:,1], average='micro')\n",
    "val_roc_auc = roc_auc_score(y_val, y_prob, average='micro')\n",
    "\n",
    "run, _ = start_neptune_run(with_run_id=None,tags=['v3.1','classical'])\n",
    "run['finetune_mkscc/kwargs/model_kind'] ='SVC'\n",
    "run['finetune_mkscc/eval/train/Binary_MSKCC/AUROC (micro)'] = train_roc_auc\n",
    "run['finetune_mkscc/eval/val/Binary_MSKCC/AUROC (micro)'] = val_roc_auc\n",
    "\n",
    "run.stop()"
   ]
  },
  {
   "cell_type": "code",
   "execution_count": null,
   "metadata": {},
   "outputs": [],
   "source": []
  }
 ],
 "metadata": {
  "kernelspec": {
   "display_name": "mzlearn_3",
   "language": "python",
   "name": "python3"
  },
  "language_info": {
   "codemirror_mode": {
    "name": "ipython",
    "version": 3
   },
   "file_extension": ".py",
   "mimetype": "text/x-python",
   "name": "python",
   "nbconvert_exporter": "python",
   "pygments_lexer": "ipython3",
   "version": "3.9.18"
  }
 },
 "nbformat": 4,
 "nbformat_minor": 2
}
