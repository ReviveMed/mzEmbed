{
 "cells": [
  {
   "cell_type": "markdown",
   "metadata": {},
   "source": [
    "## Basic Statistics about the pretraining data\n",
    "I should have other notebooks that also did this, unsure where they are at this time, some we are duplicating code!"
   ]
  },
  {
   "cell_type": "code",
   "execution_count": 1,
   "metadata": {},
   "outputs": [],
   "source": [
    "import pandas as pd\n"
   ]
  },
  {
   "cell_type": "code",
   "execution_count": 2,
   "metadata": {},
   "outputs": [],
   "source": [
    "metadata_path = '/Users/jonaheaton/ReviveMed Dropbox/Jonah Eaton/development_CohortCombination/alignment_RCC_2024_Feb_27/April_30_Finetune_Data/metadata.csv'\n",
    "metadata = pd.read_csv(metadata_path, index_col=0)"
   ]
  },
  {
   "cell_type": "code",
   "execution_count": 15,
   "metadata": {},
   "outputs": [
    {
     "data": {
      "text/plain": [
       "0582_Marios_PD1_Inhib2_HP-EA003798-7.mzML    NaN\n",
       "0293_Marios_PD1_Inhib2_HP-E9101785-7.mzML    NaN\n",
       "0219_Marios_PD1_Inhib2_HP-EA003799-7.mzML    NaN\n",
       "0962_Marios_PD1_Inhib2_HP-E9784758-7.mzML    NaN\n",
       "0218_Marios_PD1_Inhib2_HP-E9123067-7.mzML    NaN\n",
       "                                            ... \n",
       "1188_Marios_PD1_Inhib2_HP-AE052720-7.mzML    NaN\n",
       "1023_Marios_PD1_Inhib2_HP-AD185798-7.mzML    NaN\n",
       "1093_Marios_PD1_Inhib2_HP-AE726342-7.mzML    NaN\n",
       "0925_Marios_PD1_Inhib2_HP-AE673799-7.mzML    NaN\n",
       "0917_Marios_PD1_Inhib2_HP-AD424471-8.mzML    NaN\n",
       "Name: Pretrain, Length: 17685, dtype: object"
      ]
     },
     "execution_count": 15,
     "metadata": {},
     "output_type": "execute_result"
    }
   ],
   "source": [
    "metadata['Pretrain']"
   ]
  },
  {
   "cell_type": "code",
   "execution_count": 16,
   "metadata": {},
   "outputs": [],
   "source": [
    "df = metadata[~metadata['Pretrain'].isna()].groupby(['Cohort Label','Study ID'])['cohort_id'].count()"
   ]
  },
  {
   "cell_type": "code",
   "execution_count": 17,
   "metadata": {},
   "outputs": [],
   "source": [
    "df.to_csv('~/Desktop/pretraing_studyid_counts.csv')"
   ]
  },
  {
   "cell_type": "code",
   "execution_count": null,
   "metadata": {},
   "outputs": [],
   "source": []
  }
 ],
 "metadata": {
  "kernelspec": {
   "display_name": "mz_embed_engine",
   "language": "python",
   "name": "python3"
  },
  "language_info": {
   "codemirror_mode": {
    "name": "ipython",
    "version": 3
   },
   "file_extension": ".py",
   "mimetype": "text/x-python",
   "name": "python",
   "nbconvert_exporter": "python",
   "pygments_lexer": "ipython3",
   "version": "3.9.19"
  }
 },
 "nbformat": 4,
 "nbformat_minor": 2
}
