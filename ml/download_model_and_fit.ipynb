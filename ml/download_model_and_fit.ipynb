{
 "cells": [
  {
   "cell_type": "code",
   "execution_count": 1,
   "metadata": {},
   "outputs": [],
   "source": [
    "import numpy as np\n",
    "import pandas as pd\n",
    "import matplotlib.pyplot as plt\n",
    "import neptune\n",
    "from models import create_compound_model_from_info, create_pytorch_model_from_info, MultiHead\n",
    "import json\n",
    "import torch\n",
    "import os\n",
    "NEPTUNE_API_TOKEN = 'eyJhcGlfYWRkcmVzcyI6Imh0dHBzOi8vYXBwLm5lcHR1bmUuYWkiLCJhcGlfdXJsIjoiaHR0cHM6Ly9hcHAubmVwdHVuZS5haSIsImFwaV9rZXkiOiIxMGM5ZDhiMy1kOTlhLTRlMTAtOGFlYy1hOTQzMDE1YjZlNjcifQ=='\n"
   ]
  },
  {
   "cell_type": "code",
   "execution_count": null,
   "metadata": {},
   "outputs": [],
   "source": [
    "run_id = 'RCC-2925'\n",
    "task_id = 'Optimized_NIVO-OS ADV EVER-OS__133_finetune'\n",
    "\n",
    "run = neptune.init_run(project='revivemed/RCC',\n",
    "    api_token= NEPTUNE_API_TOKEN,\n",
    "    with_id=run_id,\n",
    "    mode=\"read-only\")   \n",
    "run_struc= run.get_structure()\n",
    "\n",
    "\n",
    "local_dir = os.path.expanduser('~/saved_models')\n",
    "save_dir = f'{local_dir}/{run_id}/{task_id}'\n",
    "os.makedirs(save_dir, exist_ok=True)\n",
    "\n",
    "\n",
    "run[f'{task_id}/models'].download(save_dir)"
   ]
  }
 ],
 "metadata": {
  "kernelspec": {
   "display_name": "Python 3",
   "language": "python",
   "name": "python3"
  },
  "language_info": {
   "codemirror_mode": {
    "name": "ipython",
    "version": 3
   },
   "file_extension": ".py",
   "mimetype": "text/x-python",
   "name": "python",
   "nbconvert_exporter": "python",
   "pygments_lexer": "ipython3",
   "version": "3.9.19"
  }
 },
 "nbformat": 4,
 "nbformat_minor": 2
}
