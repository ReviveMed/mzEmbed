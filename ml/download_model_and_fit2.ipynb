{
 "cells": [
  {
   "cell_type": "code",
   "execution_count": 1,
   "metadata": {},
   "outputs": [],
   "source": [
    "import numpy as np\n",
    "import pandas as pd\n",
    "import matplotlib.pyplot as plt\n",
    "import neptune\n",
    "from models import create_compound_model_from_info, create_pytorch_model_from_info, MultiHead\n",
    "import json\n",
    "import torch\n",
    "import os\n",
    "from utils_neptune import check_if_path_in_struc, get_sub_struc_from_path\n",
    "\n",
    "NEPTUNE_API_TOKEN = 'eyJhcGlfYWRkcmVzcyI6Imh0dHBzOi8vYXBwLm5lcHR1bmUuYWkiLCJhcGlfdXJsIjoiaHR0cHM6Ly9hcHAubmVwdHVuZS5haSIsImFwaV9rZXkiOiIxMGM5ZDhiMy1kOTlhLTRlMTAtOGFlYy1hOTQzMDE1YjZlNjcifQ=='\n"
   ]
  },
  {
   "cell_type": "code",
   "execution_count": 2,
   "metadata": {},
   "outputs": [],
   "source": [
    "run_id = 'RCC-2925'\n",
    "\n",
    "task_id = 'Optimized_NIVO-OS ADV EVER-OS__133_finetune'\n",
    "local_dir = os.path.expanduser('~/saved_models')\n",
    "model_dir = f'{local_dir}/{run_id}/{task_id}'\n",
    "components_dir = f'{local_dir}/{run_id}/{task_id}/components'\n",
    "os.makedirs(components_dir, exist_ok=True)"
   ]
  },
  {
   "cell_type": "code",
   "execution_count": 3,
   "metadata": {},
   "outputs": [
    {
     "name": "stdout",
     "output_type": "stream",
     "text": [
      "[neptune] [info   ] Neptune initialized. Open in the app: https://app.neptune.ai/revivemed/RCC/e/RCC-2925\n"
     ]
    },
    {
     "data": {
      "application/vnd.jupyter.widget-view+json": {
       "model_id": "c91bb59abe2047bfa67dbd9c5997a3e9",
       "version_major": 2,
       "version_minor": 0
      },
      "text/plain": [
       "Fetching file...: 0 [00:00, ?/s]"
      ]
     },
     "metadata": {},
     "output_type": "display_data"
    },
    {
     "name": "stdout",
     "output_type": "stream",
     "text": [
      "[neptune] [info   ] Shutting down background jobs, please wait a moment...\n",
      "[neptune] [info   ] Done!\n",
      "[neptune] [info   ] Explore the metadata in the Neptune app: https://app.neptune.ai/revivemed/RCC/e/RCC-2925/metadata\n",
      "[neptune] [info   ] Done!\n",
      "[neptune] [info   ] Explore the metadata in the Neptune app: https://app.neptune.ai/revivemed/RCC/e/RCC-2925/metadata\n"
     ]
    }
   ],
   "source": [
    "\n",
    "run = neptune.init_run(project='revivemed/RCC',\n",
    "    api_token= NEPTUNE_API_TOKEN,\n",
    "    with_id=run_id,\n",
    "    mode=\"read-only\")   \n",
    "run_struc= run.get_structure()\n",
    "\n",
    "substruc = get_sub_struc_from_path(run_struc,f'{task_id}/models')\n",
    "for key in substruc.keys():\n",
    "    if 'info' in key:\n",
    "        run[f'{task_id}/models/{key}'].download(f'{components_dir}/{key}.json')\n",
    "    elif 'state' in key:\n",
    "        run[f'{task_id}/models/{key}'].download(f'{components_dir}/{key}.pt')\n",
    "\n",
    "run.stop()"
   ]
  },
  {
   "cell_type": "code",
   "execution_count": 3,
   "metadata": {},
   "outputs": [
    {
     "name": "stdout",
     "output_type": "stream",
     "text": [
      "Warning: training is not a valid argument for VAE\n",
      "Warning: goal is not a valid argument for VAE\n",
      "Warning: kind is not a valid argument for VAE\n",
      "Warning: file_id is not a valid argument for VAE\n",
      "Warning: kl_weight is not a valid argument for VAE\n",
      "Warning: kind is not a valid argument for Dense_Layers\n",
      "Warning: name is not a valid argument for Dense_Layers\n",
      "Warning: weight is not a valid argument for Dense_Layers\n",
      "Warning: y_idx is not a valid argument for Dense_Layers\n",
      "Warning: num_classes is not a valid argument for Dense_Layers\n"
     ]
    }
   ],
   "source": [
    "# load the relavent encoder info and head info\n",
    "head_key = 'Cox_NIVO'\n",
    "model_files = os.listdir(components_dir)\n",
    "\n",
    "encoder_info = None\n",
    "head_info = None\n",
    "encoder_state = None\n",
    "head_state = None\n",
    "\n",
    "for f in model_files:\n",
    "    if ('encoder' in f):\n",
    "        if 'info' in f:\n",
    "            encoder_info = json.load(open(f'{components_dir}/{f}'))\n",
    "        elif 'state' in f:\n",
    "            encoder_state = torch.load(f'{components_dir}/{f}')\n",
    "    if (head_key in f):\n",
    "        if 'info' in f:\n",
    "            head_info = json.load(open(f'{components_dir}/{f}'))\n",
    "            # head_name = f.replace('_info.json', '')\n",
    "        elif 'state' in f:\n",
    "            head_state = torch.load(f'{components_dir}/{f}')\n",
    "            \n",
    "            \n",
    "if encoder_info is not None and head_info is not None:            \n",
    "    model = create_compound_model_from_info(encoder_info=encoder_info, \n",
    "                                            head_info= head_info,\n",
    "                                            encoder_state_dict=encoder_state,\n",
    "                                            head_state_dict=head_state)\n",
    "    \n",
    "    model.save_info(model_dir, f'VAE {head_key} info.json')\n",
    "    model.save_state_to_path(model_dir, f'VAE {head_key} state.pt')\n",
    "\n",
    "    skmodel = create_pytorch_model_from_info(full_model=model)"
   ]
  },
  {
   "cell_type": "code",
   "execution_count": 4,
   "metadata": {},
   "outputs": [],
   "source": [
    "data_dir = '/app/finetune_data'\n",
    "X_data = pd.read_csv(f'{data_dir}/X_finetune_test.csv',index_col=0)\n",
    "y_data = pd.read_csv(f'{data_dir}/y_finetune_test.csv',index_col=0)"
   ]
  },
  {
   "cell_type": "code",
   "execution_count": 7,
   "metadata": {},
   "outputs": [],
   "source": [
    "y_preds = skmodel.predict(X_data.to_numpy())"
   ]
  },
  {
   "cell_type": "code",
   "execution_count": 6,
   "metadata": {},
   "outputs": [
    {
     "data": {
      "text/plain": [
       "{'Concordance Index': 0.6098095902701625}"
      ]
     },
     "execution_count": 6,
     "metadata": {},
     "output_type": "execute_result"
    }
   ],
   "source": [
    "skmodel.score(X_data.to_numpy(),y_data[['OS','OS_Event']].to_numpy())"
   ]
  },
  {
   "cell_type": "code",
   "execution_count": 9,
   "metadata": {},
   "outputs": [
    {
     "data": {
      "text/plain": [
       "{'Concordance Index': 0.6371973587674248}"
      ]
     },
     "execution_count": 9,
     "metadata": {},
     "output_type": "execute_result"
    }
   ],
   "source": [
    "skmodel.score(X_data.to_numpy(),y_data[['NIVO OS','OS_Event']].to_numpy())"
   ]
  },
  {
   "cell_type": "code",
   "execution_count": 10,
   "metadata": {},
   "outputs": [
    {
     "data": {
      "text/plain": [
       "{'Concordance Index': 0.5876379690949227}"
      ]
     },
     "execution_count": 10,
     "metadata": {},
     "output_type": "execute_result"
    }
   ],
   "source": [
    "skmodel.score(X_data.to_numpy(),y_data[['EVER OS','OS_Event']].to_numpy())"
   ]
  },
  {
   "cell_type": "code",
   "execution_count": null,
   "metadata": {},
   "outputs": [],
   "source": [
    "def generate_survival_report(task_id,pretrained=True):\n",
    "    if ('finetune' in task_id) or ('randinit' in task_id):\n",
    "        finetune_id = task_id\n",
    "    else:\n",
    "        if pretrained:\n",
    "            finetune_id = task_id + '_finetune'\n",
    "        else:\n",
    "            finetune_id = task_id + '_randinit'\n",
    "\n",
    "            "
   ]
  },
  {
   "cell_type": "code",
   "execution_count": null,
   "metadata": {},
   "outputs": [],
   "source": [
    "def generate_survival_report(desc_str,head_key,pretrained=True,data_dir=None):\n",
    "    if data_dir is None:\n",
    "        data_dir = '/app/finetune_data'\n",
    "    \n",
    "    if ('finetune' in desc_str) or ('randinit' in desc_str):\n",
    "        task_id = desc_str\n",
    "    else:\n",
    "        if pretrained:\n",
    "            task_id = desc_str + '_finetune'\n",
    "        else:\n",
    "            task_id = desc_str + '_randinit'\n",
    "\n",
    "    local_dir = os.path.expanduser('~/saved_models')\n",
    "    model_dir = f'{local_dir}/{run_id}/{task_id}'\n",
    "    components_dir = f'{local_dir}/{run_id}/{task_id}/components'\n",
    "    os.makedirs(components_dir, exist_ok=True)\n",
    "    model_files = os.listdir(components_dir)\n",
    "    \n",
    "    if (len(model_files) < 4):\n",
    "\n",
    "        run = neptune.init_run(project='revivemed/RCC',\n",
    "            api_token= NEPTUNE_API_TOKEN,\n",
    "            with_id=run_id,\n",
    "            mode=\"read-only\")   \n",
    "        run_struc= run.get_structure()\n",
    "\n",
    "        substruc = get_sub_struc_from_path(run_struc,f'{task_id}/models')\n",
    "        for key in substruc.keys():\n",
    "            if 'info' in key:\n",
    "                run[f'{task_id}/models/{key}'].download(f'{components_dir}/{key}.json')\n",
    "            elif 'state' in key:\n",
    "                run[f'{task_id}/models/{key}'].download(f'{components_dir}/{key}.pt')\n",
    "\n",
    "        run.stop()\n",
    "        model_files = os.listdir(components_dir)\n",
    "\n",
    "\n",
    "    encoder_info = None\n",
    "    head_info = None\n",
    "    encoder_state = None\n",
    "    head_state = None\n",
    "\n",
    "    for f in model_files:\n",
    "        if ('encoder' in f):\n",
    "            if 'info' in f:\n",
    "                encoder_info = json.load(open(f'{components_dir}/{f}'))\n",
    "            elif 'state' in f:\n",
    "                encoder_state = torch.load(f'{components_dir}/{f}')\n",
    "        if (head_key in f):\n",
    "            if 'info' in f:\n",
    "                head_info = json.load(open(f'{components_dir}/{f}'))\n",
    "                # head_name = f.replace('_info.json', '')\n",
    "            elif 'state' in f:\n",
    "                head_state = torch.load(f'{components_dir}/{f}')\n",
    "                \n",
    "                \n",
    "    if encoder_info is not None and head_info is not None:            \n",
    "        model = create_compound_model_from_info(encoder_info=encoder_info, \n",
    "                                                head_info= head_info,\n",
    "                                                encoder_state_dict=encoder_state,\n",
    "                                                head_state_dict=head_state)\n",
    "        \n",
    "        model.save_info(model_dir, f'VAE {head_key} info.json')\n",
    "        model.save_state_to_path(model_dir, f'VAE {head_key} state.pt')\n",
    "\n",
    "        skmodel = create_pytorch_model_from_info(full_model=model)\n",
    "\n",
    "\n",
    "    X_data = pd.read_csv(f'{data_dir}/X_finetune_test.csv',index_col=0)\n",
    "    y_data = pd.read_csv(f'{data_dir}/y_finetune_test.csv',index_col=0)\n",
    "\n",
    "\n",
    "    res_dict = {}\n",
    "\n",
    "    res_dict['both-OS'] = skmodel.score(X_data.to_numpy(),y_data[['OS','OS_Event']].to_numpy())['Concordance Index']\n",
    "\n",
    "    res_dict['NIVO-OS'] = skmodel.score(X_data.to_numpy(),y_data[['NIVO OS','OS_Event']].to_numpy())['Concordance Index']\n",
    "    res_dict['EVER-OS'] = skmodel.score(X_data.to_numpy(),y_data[['EVER OS','OS_Event']].to_numpy())['Concordance Index']\n",
    "\n",
    "    return res_dict"
   ]
  }
 ],
 "metadata": {
  "kernelspec": {
   "display_name": "Python 3",
   "language": "python",
   "name": "python3"
  },
  "language_info": {
   "codemirror_mode": {
    "name": "ipython",
    "version": 3
   },
   "file_extension": ".py",
   "mimetype": "text/x-python",
   "name": "python",
   "nbconvert_exporter": "python",
   "pygments_lexer": "ipython3",
   "version": "3.9.19"
  }
 },
 "nbformat": 4,
 "nbformat_minor": 2
}
