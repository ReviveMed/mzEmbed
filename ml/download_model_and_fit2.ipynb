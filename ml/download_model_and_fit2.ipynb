{
 "cells": [
  {
   "cell_type": "code",
   "execution_count": 1,
   "metadata": {},
   "outputs": [],
   "source": [
    "import numpy as np\n",
    "import pandas as pd\n",
    "import matplotlib.pyplot as plt\n",
    "import neptune\n",
    "from models import create_compound_model_from_info, create_pytorch_model_from_info, MultiHead\n",
    "import json\n",
    "import torch\n",
    "import os\n",
    "from utils_neptune import check_if_path_in_struc, get_sub_struc_from_path\n",
    "\n",
    "NEPTUNE_API_TOKEN = 'eyJhcGlfYWRkcmVzcyI6Imh0dHBzOi8vYXBwLm5lcHR1bmUuYWkiLCJhcGlfdXJsIjoiaHR0cHM6Ly9hcHAubmVwdHVuZS5haSIsImFwaV9rZXkiOiIxMGM5ZDhiMy1kOTlhLTRlMTAtOGFlYy1hOTQzMDE1YjZlNjcifQ=='\n"
   ]
  },
  {
   "cell_type": "code",
   "execution_count": null,
   "metadata": {},
   "outputs": [],
   "source": [
    "run_id = 'RCC-2925'\n",
    "\n",
    "run = neptune.init_run(project='revivemed/RCC',\n",
    "    api_token= NEPTUNE_API_TOKEN,\n",
    "    with_id=run_id,\n",
    "    mode=\"read-only\")   \n",
    "run_struc= run.get_structure()"
   ]
  },
  {
   "cell_type": "code",
   "execution_count": 5,
   "metadata": {},
   "outputs": [
    {
     "data": {
      "application/vnd.jupyter.widget-view+json": {
       "model_id": "66362dd2329143ddb66b261c143e637f",
       "version_major": 2,
       "version_minor": 0
      },
      "text/plain": [
       "Fetching file...: 0 [00:00, ?/s]"
      ]
     },
     "metadata": {},
     "output_type": "display_data"
    }
   ],
   "source": [
    "\n",
    "task_id = 'Optimized_NIVO-OS ADV EVER-OS__133_finetune'\n",
    "local_dir = os.path.expanduser('~/saved_models')\n",
    "model_dir = f'{local_dir}/{run_id}/{task_id}'\n",
    "components_dir = f'{local_dir}/{run_id}/{task_id}/components'\n",
    "os.makedirs(components_dir, exist_ok=True)\n",
    "\n",
    "\n",
    "substruc = get_sub_struc_from_path(run_struc,f'{task_id}/models')\n",
    "\n",
    "for key in substruc.keys():\n",
    "    if 'info' in key:\n",
    "        run[f'{task_id}/models/{key}'].download(f'{components_dir}/components/{key}.json')\n",
    "    elif 'state' in key:\n",
    "        run[f'{task_id}/models/{key}'].download(f'{components_dir}/components/{key}.pt')\n"
   ]
  },
  {
   "cell_type": "code",
   "execution_count": 6,
   "metadata": {},
   "outputs": [
    {
     "data": {
      "text/plain": [
       "['Cox_EVER OS_info.json',\n",
       " 'encoder_info.json',\n",
       " 'Cox_NIVO OS_info.json',\n",
       " 'Cox_NIVO OS_state.pt',\n",
       " 'encoder_state_dict.pt',\n",
       " 'Cox_EVER OS_state.pt']"
      ]
     },
     "execution_count": 6,
     "metadata": {},
     "output_type": "execute_result"
    }
   ],
   "source": [
    "os.listdir(save_dir)"
   ]
  },
  {
   "cell_type": "code",
   "execution_count": null,
   "metadata": {},
   "outputs": [],
   "source": [
    "# load the relavent encoder info and head info\n",
    "head_key = 'Cox_NIVO'\n",
    "model_files = os.listdir(components_dir)\n",
    "\n",
    "encoder_info = None\n",
    "head_info = None\n",
    "encoder_state = None\n",
    "head_state = None\n",
    "\n",
    "for f in model_files:\n",
    "    if ('encoder' in f):\n",
    "        if 'info' in f:\n",
    "            encoder_info = json.load(open(f'{components_dir}/{f}'))\n",
    "        elif 'state' in f:\n",
    "            encoder_state = torch.load(f'{components_dir}/{f}')\n",
    "    if (head_key in f):\n",
    "        if 'info' in f:\n",
    "            head_info = json.load(open(f'{components_dir}/{f}'))\n",
    "            # head_name = f.replace('_info.json', '')\n",
    "        elif 'state' in f:\n",
    "            head_state = torch.load(f'{components_dir}/{f}')\n",
    "            \n",
    "            \n",
    "if encoder_info is not None and head_info is not None:            \n",
    "    model = create_compound_model_from_info(encoder_info=encoder_info, \n",
    "                                            head_info= head_info,\n",
    "                                            encoder_state_dict=encoder_state,\n",
    "                                            head_state_dict=head_state)\n",
    "    \n",
    "    model.save_info(model_dir, f'VAE {head_key} info.json')\n",
    "    model.save_state_to_path(model_dir, f'VAE {head_key} state.pt')\n",
    "\n",
    "    skmodel = create_pytorch_model_from_info(full_model=model)"
   ]
  },
  {
   "cell_type": "code",
   "execution_count": null,
   "metadata": {},
   "outputs": [],
   "source": []
  }
 ],
 "metadata": {
  "kernelspec": {
   "display_name": "Python 3",
   "language": "python",
   "name": "python3"
  },
  "language_info": {
   "codemirror_mode": {
    "name": "ipython",
    "version": 3
   },
   "file_extension": ".py",
   "mimetype": "text/x-python",
   "name": "python",
   "nbconvert_exporter": "python",
   "pygments_lexer": "ipython3",
   "version": "3.9.19"
  }
 },
 "nbformat": 4,
 "nbformat_minor": 2
}
