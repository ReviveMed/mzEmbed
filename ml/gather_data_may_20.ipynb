{
 "cells": [
  {
   "cell_type": "markdown",
   "metadata": {},
   "source": []
  },
  {
   "cell_type": "code",
   "execution_count": 5,
   "metadata": {},
   "outputs": [],
   "source": [
    "import pandas as pd\n",
    "import neptune\n",
    "\n",
    "NEPTUNE_API_TOKEN = 'eyJhcGlfYWRkcmVzcyI6Imh0dHBzOi8vYXBwLm5lcHR1bmUuYWkiLCJhcGlfdXJsIjoiaHR0cHM6Ly9hcHAubmVwdHVuZS5haSIsImFwaV9rZXkiOiIxMGM5ZDhiMy1kOTlhLTRlMTAtOGFlYy1hOTQzMDE1YjZlNjcifQ=='\n",
    "\n",
    "PROJECT_ID = 'revivemed/Survival-RCC'"
   ]
  },
  {
   "cell_type": "code",
   "execution_count": 6,
   "metadata": {},
   "outputs": [],
   "source": [
    "df_file = '/Users/jonaheaton/Desktop/Survival-RCC (4).csv'\n",
    "df = pd.read_csv(df_file)\n",
    "# chosen_columns = ['desc_str','sweep_kwargs/batch_size','sweep_kwargs/encoder_weight']"
   ]
  },
  {
   "cell_type": "code",
   "execution_count": 7,
   "metadata": {},
   "outputs": [],
   "source": [
    "start_columns = df.columns\n",
    "start_columns = start_columns.drop(['Creation Time','Tags','Id'])\n",
    "start_columns = start_columns.to_list()\n",
    "val_columns = []\n",
    "test_columns = []\n",
    "param_columns = []\n",
    "new_columns = []\n",
    "\n",
    "for x in start_columns:\n",
    "    if ('OS' in x) and ('avg_training_run' in x):\n",
    "        new_x = x.replace('OS','PFS')\n",
    "        new_columns.append(new_x)\n",
    "\n",
    "for x in start_columns:\n",
    "    if ('IMDC' in x) and ('avg_training_run' in x):\n",
    "        new_x = x.replace('IMDC','MSKCC')\n",
    "        # new_columns.append(new_x)\n",
    "\n",
    "# oops I still need to compute the pfs columns\n",
    "# start_columns = start_columns + new_columns\n",
    "# start_columns = list(set(start_columns))\n"
   ]
  },
  {
   "cell_type": "code",
   "execution_count": 8,
   "metadata": {},
   "outputs": [],
   "source": [
    "for x in start_columns:\n",
    "    if 'avg_training_run' in x:\n",
    "        val_columns.append(x)\n",
    "        new_x = x.replace('avg_training_run/','avg_testing_run/')\n",
    "        if 'val__' in new_x:\n",
    "            new_x = new_x.replace('val__','test__')\n",
    "            test_columns.append(new_x)\n",
    "        else:\n",
    "            test_columns.append(new_x)\n",
    "    else:\n",
    "        param_columns.append(x)\n",
    "\n",
    "chosen_columns = param_columns + val_columns + test_columns"
   ]
  },
  {
   "cell_type": "code",
   "execution_count": 9,
   "metadata": {},
   "outputs": [
    {
     "name": "stdout",
     "output_type": "stream",
     "text": [
      "[neptune] [info   ] Neptune initialized. Open in the app: https://app.neptune.ai/revivemed/Survival-RCC/\n"
     ]
    },
    {
     "data": {
      "application/vnd.jupyter.widget-view+json": {
       "model_id": "76afe9a76b9b4a789c1397c81c4469d8",
       "version_major": 2,
       "version_minor": 0
      },
      "text/plain": [
       "Fetching table...: 0 [00:00, ?/s]"
      ]
     },
     "metadata": {},
     "output_type": "display_data"
    }
   ],
   "source": [
    "project = neptune.init_project(\n",
    "    project=PROJECT_ID, \n",
    "    mode=\"read-only\",\n",
    ")\n",
    "\n",
    "runs_table_df = project.fetch_runs_table(\n",
    "    query='(`avg_training_run/num_success`:int >= 5)',\n",
    "    columns = chosen_columns,\n",
    ").to_pandas()\n",
    "\n",
    "if 'sys/id' not in param_columns:\n",
    "    param_columns = ['sys/id']\t+ param_columns"
   ]
  },
  {
   "cell_type": "code",
   "execution_count": 10,
   "metadata": {},
   "outputs": [],
   "source": [
    "df = runs_table_df[param_columns + val_columns + test_columns].copy()"
   ]
  },
  {
   "cell_type": "code",
   "execution_count": 11,
   "metadata": {},
   "outputs": [],
   "source": [
    "# create a two level column index\n",
    "# first level is the type of data (param, val, test)\n",
    "# second level is the column name\n",
    "\n",
    "df[val_columns] = df[val_columns].round(3)\n",
    "df[test_columns] = df[test_columns].round(3)\n",
    "\n",
    "# create a list of tuples for the columns\n",
    "skip_std = True\n",
    "\n",
    "columns = []\n",
    "skip_cols = []\n",
    "for x in param_columns:\n",
    "    x0 = x.replace('sweep_kwargs/','')\n",
    "    x0 = x0.replace('_',' ')\n",
    "    columns.append(('param',x0))\n",
    "\n",
    "for x in val_columns:\n",
    "    x0 = x.replace('avg_training_run/','')\n",
    "    x0 = x0.replace('metrics/', '')\n",
    "    x0 = x0.replace('val__','')\n",
    "    x0 = x0.replace('_Concordance Index', ' C-Index')\n",
    "    x0 = x0.replace('_AUROC (ovo, macro)', ' AUC')\n",
    "    x0 = x0.replace('__', ' ')\n",
    "    x0 = x0.replace('head_','head[')\n",
    "    x0 = x0.replace(' on_', '] on ')\n",
    "    # x0 = x0.replace('on_', ' on ')\n",
    "    x0 = x0.replace('num_success','num iterations')\n",
    "\n",
    "    if skip_std and 'std' in x0[:4]:\n",
    "        skip_cols.append(x)\n",
    "        continue\n",
    "    columns.append(('val',x0))\n",
    "\n",
    "for x in test_columns:\n",
    "    x0 = x.replace('avg_testing_run/','')\n",
    "    x0 = x0.replace('metrics/', '')\n",
    "    x0 = x0.replace('test__','')\n",
    "    x0 = x0.replace('_Concordance Index', ' C-Index')\n",
    "    x0 = x0.replace('_AUROC (ovo, macro)', ' AUC')\n",
    "    x0 = x0.replace('__', ' ')\n",
    "    x0 = x0.replace('head_','head[')\n",
    "    x0 = x0.replace(' on_', '] on ')\n",
    "    # x0 = x0.replace('on_', ' on ')\n",
    "    x0 = x0.replace('num_success','num iterations')\n",
    "    if skip_std and 'std' in x0[:4]:\n",
    "        skip_cols.append(x)\n",
    "        continue\n",
    "    columns.append(('test',x0))\n",
    "\n",
    "# create a multiindex\n",
    "columns = pd.MultiIndex.from_tuples(columns)\n",
    "\n",
    "# set the columns\n",
    "kept_cols = [x for x in df.columns if x not in skip_cols]\n",
    "df = df[kept_cols].copy()\n",
    "df.columns = columns\n",
    "\n",
    "# round the values in the val and test columns to three decimal places\n",
    "# df = df.round({('val',x):3 for x in val_columns})\n",
    "# df = df.round({('test',x):3 for x in test_columns})\n",
    "\n",
    "# clean up the "
   ]
  },
  {
   "cell_type": "code",
   "execution_count": 12,
   "metadata": {},
   "outputs": [],
   "source": [
    "# save to excel\n",
    "df.to_excel('/Users/jonaheaton/Desktop/Survival-RCC-Filtered.xlsx')"
   ]
  },
  {
   "cell_type": "code",
   "execution_count": 13,
   "metadata": {},
   "outputs": [],
   "source": [
    "val_ressum = df.groupby([('param','desc str'),('param','name'),('param','use rand init')])['val'].sum()#.unstack(fill_value=0)\n",
    "test_ressum = df.groupby([('param','desc str'),('param','name'),('param','use rand init')])['test'].sum()#.unstack(fill_value=0)\n",
    "\n",
    "val_res = df.groupby([('param','desc str'),('param','name'),('param','use rand init')])['val'].mean()#.unstack(fill_value=0)\n",
    "test_res = df.groupby([('param','desc str'),('param','name'),('param','use rand init')])['test'].mean()#.unstack(fill_value=0)\n",
    "val_res = val_res.round(3)\n",
    "test_res = test_res.round(3)\n",
    "\n",
    "val_res[('val','num iterations')] = val_ressum[('val','num iterations')].copy()\n",
    "test_res[('test','num iterations')] = test_ressum[('test','num iterations')].copy()\n",
    "val_res.index.names = ['task desc', 'arch ID', 'used rand init']\n",
    "test_res.index.names = ['task desc', 'arch ID', 'used rand init']\n",
    "both_res = pd.concat([val_res, test_res], axis=1)\n",
    "\n",
    "both_res.to_excel('/Users/jonaheaton/Desktop/Survival-RCC-Filtered-agg.xlsx')"
   ]
  },
  {
   "cell_type": "code",
   "execution_count": 20,
   "metadata": {},
   "outputs": [
    {
     "data": {
      "text/html": [
       "<div>\n",
       "<style scoped>\n",
       "    .dataframe tbody tr th:only-of-type {\n",
       "        vertical-align: middle;\n",
       "    }\n",
       "\n",
       "    .dataframe tbody tr th {\n",
       "        vertical-align: top;\n",
       "    }\n",
       "\n",
       "    .dataframe thead tr th {\n",
       "        text-align: left;\n",
       "    }\n",
       "\n",
       "    .dataframe thead tr:last-of-type th {\n",
       "        text-align: right;\n",
       "    }\n",
       "</style>\n",
       "<table border=\"1\" class=\"dataframe\">\n",
       "  <thead>\n",
       "    <tr>\n",
       "      <th></th>\n",
       "      <th></th>\n",
       "      <th></th>\n",
       "      <th colspan=\"19\" halign=\"left\">val</th>\n",
       "    </tr>\n",
       "    <tr>\n",
       "      <th></th>\n",
       "      <th></th>\n",
       "      <th></th>\n",
       "      <th>num iterations</th>\n",
       "      <th>head[Both OS] on Both OS C-Index</th>\n",
       "      <th>head[Both OS] on NIVO OS C-Index</th>\n",
       "      <th>head[Both OS] on EVER OS C-Index</th>\n",
       "      <th>head[NIVO OS] on Both OS C-Index</th>\n",
       "      <th>head[NIVO OS] on NIVO OS C-Index</th>\n",
       "      <th>head[NIVO OS] on EVER OS C-Index</th>\n",
       "      <th>head[EVER OS] on Both OS C-Index</th>\n",
       "      <th>head[EVER OS] on NIVO OS C-Index</th>\n",
       "      <th>head[EVER OS] on EVER OS C-Index</th>\n",
       "      <th>head[IMDC] on IMDC BINARY_AUROC (micro)</th>\n",
       "      <th>head[MSKCC] on MSKCC BINARY_AUROC (micro)</th>\n",
       "      <th>head[IMDC_Ordinal] on IMDC ORDINAL_ACC</th>\n",
       "      <th>head[IMDC_Ordinal] on IMDC ORDINAL AUC</th>\n",
       "      <th>head[IMDC_Ordinal] on IMDC ORDINAL_MAE</th>\n",
       "      <th>head[IMDC_MultiClass] on IMDC ORDINAL_ACC</th>\n",
       "      <th>head[IMDC_MultiClass] on IMDC ORDINAL AUC</th>\n",
       "      <th>head[IMDC_MultiClass] on IMDC ORDINAL_MAE</th>\n",
       "      <th>head[Benefit] on Benefit BINARY_AUROC (micro)</th>\n",
       "    </tr>\n",
       "    <tr>\n",
       "      <th>task desc</th>\n",
       "      <th>arch ID</th>\n",
       "      <th>used rand init</th>\n",
       "      <th></th>\n",
       "      <th></th>\n",
       "      <th></th>\n",
       "      <th></th>\n",
       "      <th></th>\n",
       "      <th></th>\n",
       "      <th></th>\n",
       "      <th></th>\n",
       "      <th></th>\n",
       "      <th></th>\n",
       "      <th></th>\n",
       "      <th></th>\n",
       "      <th></th>\n",
       "      <th></th>\n",
       "      <th></th>\n",
       "      <th></th>\n",
       "      <th></th>\n",
       "      <th></th>\n",
       "      <th></th>\n",
       "    </tr>\n",
       "  </thead>\n",
       "  <tbody>\n",
       "    <tr>\n",
       "      <th rowspan=\"5\" valign=\"top\">Both-OS</th>\n",
       "      <th rowspan=\"2\" valign=\"top\">basic 1.0</th>\n",
       "      <th>False</th>\n",
       "      <td>35</td>\n",
       "      <td>0.714</td>\n",
       "      <td>0.720</td>\n",
       "      <td>0.714</td>\n",
       "      <td>NaN</td>\n",
       "      <td>NaN</td>\n",
       "      <td>NaN</td>\n",
       "      <td>NaN</td>\n",
       "      <td>NaN</td>\n",
       "      <td>NaN</td>\n",
       "      <td>NaN</td>\n",
       "      <td>NaN</td>\n",
       "      <td>NaN</td>\n",
       "      <td>NaN</td>\n",
       "      <td>NaN</td>\n",
       "      <td>NaN</td>\n",
       "      <td>NaN</td>\n",
       "      <td>NaN</td>\n",
       "      <td>NaN</td>\n",
       "    </tr>\n",
       "    <tr>\n",
       "      <th>True</th>\n",
       "      <td>30</td>\n",
       "      <td>0.696</td>\n",
       "      <td>0.708</td>\n",
       "      <td>0.696</td>\n",
       "      <td>NaN</td>\n",
       "      <td>NaN</td>\n",
       "      <td>NaN</td>\n",
       "      <td>NaN</td>\n",
       "      <td>NaN</td>\n",
       "      <td>NaN</td>\n",
       "      <td>NaN</td>\n",
       "      <td>NaN</td>\n",
       "      <td>NaN</td>\n",
       "      <td>NaN</td>\n",
       "      <td>NaN</td>\n",
       "      <td>NaN</td>\n",
       "      <td>NaN</td>\n",
       "      <td>NaN</td>\n",
       "      <td>NaN</td>\n",
       "    </tr>\n",
       "    <tr>\n",
       "      <th rowspan=\"2\" valign=\"top\">basic 1.2</th>\n",
       "      <th>False</th>\n",
       "      <td>50</td>\n",
       "      <td>0.715</td>\n",
       "      <td>0.722</td>\n",
       "      <td>0.714</td>\n",
       "      <td>NaN</td>\n",
       "      <td>NaN</td>\n",
       "      <td>NaN</td>\n",
       "      <td>NaN</td>\n",
       "      <td>NaN</td>\n",
       "      <td>NaN</td>\n",
       "      <td>NaN</td>\n",
       "      <td>NaN</td>\n",
       "      <td>NaN</td>\n",
       "      <td>NaN</td>\n",
       "      <td>NaN</td>\n",
       "      <td>NaN</td>\n",
       "      <td>NaN</td>\n",
       "      <td>NaN</td>\n",
       "      <td>NaN</td>\n",
       "    </tr>\n",
       "    <tr>\n",
       "      <th>True</th>\n",
       "      <td>40</td>\n",
       "      <td>0.698</td>\n",
       "      <td>0.712</td>\n",
       "      <td>0.694</td>\n",
       "      <td>NaN</td>\n",
       "      <td>NaN</td>\n",
       "      <td>NaN</td>\n",
       "      <td>NaN</td>\n",
       "      <td>NaN</td>\n",
       "      <td>NaN</td>\n",
       "      <td>NaN</td>\n",
       "      <td>NaN</td>\n",
       "      <td>NaN</td>\n",
       "      <td>NaN</td>\n",
       "      <td>NaN</td>\n",
       "      <td>NaN</td>\n",
       "      <td>NaN</td>\n",
       "      <td>NaN</td>\n",
       "      <td>NaN</td>\n",
       "    </tr>\n",
       "    <tr>\n",
       "      <th>basic 2.1</th>\n",
       "      <th>False</th>\n",
       "      <td>20</td>\n",
       "      <td>0.716</td>\n",
       "      <td>0.722</td>\n",
       "      <td>0.718</td>\n",
       "      <td>NaN</td>\n",
       "      <td>NaN</td>\n",
       "      <td>NaN</td>\n",
       "      <td>NaN</td>\n",
       "      <td>NaN</td>\n",
       "      <td>NaN</td>\n",
       "      <td>NaN</td>\n",
       "      <td>NaN</td>\n",
       "      <td>NaN</td>\n",
       "      <td>NaN</td>\n",
       "      <td>NaN</td>\n",
       "      <td>NaN</td>\n",
       "      <td>NaN</td>\n",
       "      <td>NaN</td>\n",
       "      <td>NaN</td>\n",
       "    </tr>\n",
       "    <tr>\n",
       "      <th>...</th>\n",
       "      <th>...</th>\n",
       "      <th>...</th>\n",
       "      <td>...</td>\n",
       "      <td>...</td>\n",
       "      <td>...</td>\n",
       "      <td>...</td>\n",
       "      <td>...</td>\n",
       "      <td>...</td>\n",
       "      <td>...</td>\n",
       "      <td>...</td>\n",
       "      <td>...</td>\n",
       "      <td>...</td>\n",
       "      <td>...</td>\n",
       "      <td>...</td>\n",
       "      <td>...</td>\n",
       "      <td>...</td>\n",
       "      <td>...</td>\n",
       "      <td>...</td>\n",
       "      <td>...</td>\n",
       "      <td>...</td>\n",
       "      <td>...</td>\n",
       "    </tr>\n",
       "    <tr>\n",
       "      <th rowspan=\"5\" valign=\"top\">both-PFS</th>\n",
       "      <th>layer-R 1.1</th>\n",
       "      <th>True</th>\n",
       "      <td>10</td>\n",
       "      <td>NaN</td>\n",
       "      <td>NaN</td>\n",
       "      <td>NaN</td>\n",
       "      <td>NaN</td>\n",
       "      <td>NaN</td>\n",
       "      <td>NaN</td>\n",
       "      <td>NaN</td>\n",
       "      <td>NaN</td>\n",
       "      <td>NaN</td>\n",
       "      <td>NaN</td>\n",
       "      <td>NaN</td>\n",
       "      <td>NaN</td>\n",
       "      <td>NaN</td>\n",
       "      <td>NaN</td>\n",
       "      <td>NaN</td>\n",
       "      <td>NaN</td>\n",
       "      <td>NaN</td>\n",
       "      <td>NaN</td>\n",
       "    </tr>\n",
       "    <tr>\n",
       "      <th rowspan=\"2\" valign=\"top\">layer-R 1.2</th>\n",
       "      <th>False</th>\n",
       "      <td>10</td>\n",
       "      <td>NaN</td>\n",
       "      <td>NaN</td>\n",
       "      <td>NaN</td>\n",
       "      <td>NaN</td>\n",
       "      <td>NaN</td>\n",
       "      <td>NaN</td>\n",
       "      <td>NaN</td>\n",
       "      <td>NaN</td>\n",
       "      <td>NaN</td>\n",
       "      <td>NaN</td>\n",
       "      <td>NaN</td>\n",
       "      <td>NaN</td>\n",
       "      <td>NaN</td>\n",
       "      <td>NaN</td>\n",
       "      <td>NaN</td>\n",
       "      <td>NaN</td>\n",
       "      <td>NaN</td>\n",
       "      <td>NaN</td>\n",
       "    </tr>\n",
       "    <tr>\n",
       "      <th>True</th>\n",
       "      <td>10</td>\n",
       "      <td>NaN</td>\n",
       "      <td>NaN</td>\n",
       "      <td>NaN</td>\n",
       "      <td>NaN</td>\n",
       "      <td>NaN</td>\n",
       "      <td>NaN</td>\n",
       "      <td>NaN</td>\n",
       "      <td>NaN</td>\n",
       "      <td>NaN</td>\n",
       "      <td>NaN</td>\n",
       "      <td>NaN</td>\n",
       "      <td>NaN</td>\n",
       "      <td>NaN</td>\n",
       "      <td>NaN</td>\n",
       "      <td>NaN</td>\n",
       "      <td>NaN</td>\n",
       "      <td>NaN</td>\n",
       "      <td>NaN</td>\n",
       "    </tr>\n",
       "    <tr>\n",
       "      <th rowspan=\"2\" valign=\"top\">layer-R 2.0</th>\n",
       "      <th>False</th>\n",
       "      <td>10</td>\n",
       "      <td>NaN</td>\n",
       "      <td>NaN</td>\n",
       "      <td>NaN</td>\n",
       "      <td>NaN</td>\n",
       "      <td>NaN</td>\n",
       "      <td>NaN</td>\n",
       "      <td>NaN</td>\n",
       "      <td>NaN</td>\n",
       "      <td>NaN</td>\n",
       "      <td>NaN</td>\n",
       "      <td>NaN</td>\n",
       "      <td>NaN</td>\n",
       "      <td>NaN</td>\n",
       "      <td>NaN</td>\n",
       "      <td>NaN</td>\n",
       "      <td>NaN</td>\n",
       "      <td>NaN</td>\n",
       "      <td>NaN</td>\n",
       "    </tr>\n",
       "    <tr>\n",
       "      <th>True</th>\n",
       "      <td>10</td>\n",
       "      <td>NaN</td>\n",
       "      <td>NaN</td>\n",
       "      <td>NaN</td>\n",
       "      <td>NaN</td>\n",
       "      <td>NaN</td>\n",
       "      <td>NaN</td>\n",
       "      <td>NaN</td>\n",
       "      <td>NaN</td>\n",
       "      <td>NaN</td>\n",
       "      <td>NaN</td>\n",
       "      <td>NaN</td>\n",
       "      <td>NaN</td>\n",
       "      <td>NaN</td>\n",
       "      <td>NaN</td>\n",
       "      <td>NaN</td>\n",
       "      <td>NaN</td>\n",
       "      <td>NaN</td>\n",
       "      <td>NaN</td>\n",
       "    </tr>\n",
       "  </tbody>\n",
       "</table>\n",
       "<p>297 rows × 19 columns</p>\n",
       "</div>"
      ],
      "text/plain": [
       "                                                val  \\\n",
       "                                     num iterations   \n",
       "task desc arch ID     used rand init                  \n",
       "Both-OS   basic 1.0   False                      35   \n",
       "                      True                       30   \n",
       "          basic 1.2   False                      50   \n",
       "                      True                       40   \n",
       "          basic 2.1   False                      20   \n",
       "...                                             ...   \n",
       "both-PFS  layer-R 1.1 True                       10   \n",
       "          layer-R 1.2 False                      10   \n",
       "                      True                       10   \n",
       "          layer-R 2.0 False                      10   \n",
       "                      True                       10   \n",
       "\n",
       "                                                                       \\\n",
       "                                     head[Both OS] on Both OS C-Index   \n",
       "task desc arch ID     used rand init                                    \n",
       "Both-OS   basic 1.0   False                                     0.714   \n",
       "                      True                                      0.696   \n",
       "          basic 1.2   False                                     0.715   \n",
       "                      True                                      0.698   \n",
       "          basic 2.1   False                                     0.716   \n",
       "...                                                               ...   \n",
       "both-PFS  layer-R 1.1 True                                        NaN   \n",
       "          layer-R 1.2 False                                       NaN   \n",
       "                      True                                        NaN   \n",
       "          layer-R 2.0 False                                       NaN   \n",
       "                      True                                        NaN   \n",
       "\n",
       "                                                                       \\\n",
       "                                     head[Both OS] on NIVO OS C-Index   \n",
       "task desc arch ID     used rand init                                    \n",
       "Both-OS   basic 1.0   False                                     0.720   \n",
       "                      True                                      0.708   \n",
       "          basic 1.2   False                                     0.722   \n",
       "                      True                                      0.712   \n",
       "          basic 2.1   False                                     0.722   \n",
       "...                                                               ...   \n",
       "both-PFS  layer-R 1.1 True                                        NaN   \n",
       "          layer-R 1.2 False                                       NaN   \n",
       "                      True                                        NaN   \n",
       "          layer-R 2.0 False                                       NaN   \n",
       "                      True                                        NaN   \n",
       "\n",
       "                                                                       \\\n",
       "                                     head[Both OS] on EVER OS C-Index   \n",
       "task desc arch ID     used rand init                                    \n",
       "Both-OS   basic 1.0   False                                     0.714   \n",
       "                      True                                      0.696   \n",
       "          basic 1.2   False                                     0.714   \n",
       "                      True                                      0.694   \n",
       "          basic 2.1   False                                     0.718   \n",
       "...                                                               ...   \n",
       "both-PFS  layer-R 1.1 True                                        NaN   \n",
       "          layer-R 1.2 False                                       NaN   \n",
       "                      True                                        NaN   \n",
       "          layer-R 2.0 False                                       NaN   \n",
       "                      True                                        NaN   \n",
       "\n",
       "                                                                       \\\n",
       "                                     head[NIVO OS] on Both OS C-Index   \n",
       "task desc arch ID     used rand init                                    \n",
       "Both-OS   basic 1.0   False                                       NaN   \n",
       "                      True                                        NaN   \n",
       "          basic 1.2   False                                       NaN   \n",
       "                      True                                        NaN   \n",
       "          basic 2.1   False                                       NaN   \n",
       "...                                                               ...   \n",
       "both-PFS  layer-R 1.1 True                                        NaN   \n",
       "          layer-R 1.2 False                                       NaN   \n",
       "                      True                                        NaN   \n",
       "          layer-R 2.0 False                                       NaN   \n",
       "                      True                                        NaN   \n",
       "\n",
       "                                                                       \\\n",
       "                                     head[NIVO OS] on NIVO OS C-Index   \n",
       "task desc arch ID     used rand init                                    \n",
       "Both-OS   basic 1.0   False                                       NaN   \n",
       "                      True                                        NaN   \n",
       "          basic 1.2   False                                       NaN   \n",
       "                      True                                        NaN   \n",
       "          basic 2.1   False                                       NaN   \n",
       "...                                                               ...   \n",
       "both-PFS  layer-R 1.1 True                                        NaN   \n",
       "          layer-R 1.2 False                                       NaN   \n",
       "                      True                                        NaN   \n",
       "          layer-R 2.0 False                                       NaN   \n",
       "                      True                                        NaN   \n",
       "\n",
       "                                                                       \\\n",
       "                                     head[NIVO OS] on EVER OS C-Index   \n",
       "task desc arch ID     used rand init                                    \n",
       "Both-OS   basic 1.0   False                                       NaN   \n",
       "                      True                                        NaN   \n",
       "          basic 1.2   False                                       NaN   \n",
       "                      True                                        NaN   \n",
       "          basic 2.1   False                                       NaN   \n",
       "...                                                               ...   \n",
       "both-PFS  layer-R 1.1 True                                        NaN   \n",
       "          layer-R 1.2 False                                       NaN   \n",
       "                      True                                        NaN   \n",
       "          layer-R 2.0 False                                       NaN   \n",
       "                      True                                        NaN   \n",
       "\n",
       "                                                                       \\\n",
       "                                     head[EVER OS] on Both OS C-Index   \n",
       "task desc arch ID     used rand init                                    \n",
       "Both-OS   basic 1.0   False                                       NaN   \n",
       "                      True                                        NaN   \n",
       "          basic 1.2   False                                       NaN   \n",
       "                      True                                        NaN   \n",
       "          basic 2.1   False                                       NaN   \n",
       "...                                                               ...   \n",
       "both-PFS  layer-R 1.1 True                                        NaN   \n",
       "          layer-R 1.2 False                                       NaN   \n",
       "                      True                                        NaN   \n",
       "          layer-R 2.0 False                                       NaN   \n",
       "                      True                                        NaN   \n",
       "\n",
       "                                                                       \\\n",
       "                                     head[EVER OS] on NIVO OS C-Index   \n",
       "task desc arch ID     used rand init                                    \n",
       "Both-OS   basic 1.0   False                                       NaN   \n",
       "                      True                                        NaN   \n",
       "          basic 1.2   False                                       NaN   \n",
       "                      True                                        NaN   \n",
       "          basic 2.1   False                                       NaN   \n",
       "...                                                               ...   \n",
       "both-PFS  layer-R 1.1 True                                        NaN   \n",
       "          layer-R 1.2 False                                       NaN   \n",
       "                      True                                        NaN   \n",
       "          layer-R 2.0 False                                       NaN   \n",
       "                      True                                        NaN   \n",
       "\n",
       "                                                                       \\\n",
       "                                     head[EVER OS] on EVER OS C-Index   \n",
       "task desc arch ID     used rand init                                    \n",
       "Both-OS   basic 1.0   False                                       NaN   \n",
       "                      True                                        NaN   \n",
       "          basic 1.2   False                                       NaN   \n",
       "                      True                                        NaN   \n",
       "          basic 2.1   False                                       NaN   \n",
       "...                                                               ...   \n",
       "both-PFS  layer-R 1.1 True                                        NaN   \n",
       "          layer-R 1.2 False                                       NaN   \n",
       "                      True                                        NaN   \n",
       "          layer-R 2.0 False                                       NaN   \n",
       "                      True                                        NaN   \n",
       "\n",
       "                                                                              \\\n",
       "                                     head[IMDC] on IMDC BINARY_AUROC (micro)   \n",
       "task desc arch ID     used rand init                                           \n",
       "Both-OS   basic 1.0   False                                              NaN   \n",
       "                      True                                               NaN   \n",
       "          basic 1.2   False                                              NaN   \n",
       "                      True                                               NaN   \n",
       "          basic 2.1   False                                              NaN   \n",
       "...                                                                      ...   \n",
       "both-PFS  layer-R 1.1 True                                               NaN   \n",
       "          layer-R 1.2 False                                              NaN   \n",
       "                      True                                               NaN   \n",
       "          layer-R 2.0 False                                              NaN   \n",
       "                      True                                               NaN   \n",
       "\n",
       "                                                                                \\\n",
       "                                     head[MSKCC] on MSKCC BINARY_AUROC (micro)   \n",
       "task desc arch ID     used rand init                                             \n",
       "Both-OS   basic 1.0   False                                                NaN   \n",
       "                      True                                                 NaN   \n",
       "          basic 1.2   False                                                NaN   \n",
       "                      True                                                 NaN   \n",
       "          basic 2.1   False                                                NaN   \n",
       "...                                                                        ...   \n",
       "both-PFS  layer-R 1.1 True                                                 NaN   \n",
       "          layer-R 1.2 False                                                NaN   \n",
       "                      True                                                 NaN   \n",
       "          layer-R 2.0 False                                                NaN   \n",
       "                      True                                                 NaN   \n",
       "\n",
       "                                                                             \\\n",
       "                                     head[IMDC_Ordinal] on IMDC ORDINAL_ACC   \n",
       "task desc arch ID     used rand init                                          \n",
       "Both-OS   basic 1.0   False                                             NaN   \n",
       "                      True                                              NaN   \n",
       "          basic 1.2   False                                             NaN   \n",
       "                      True                                              NaN   \n",
       "          basic 2.1   False                                             NaN   \n",
       "...                                                                     ...   \n",
       "both-PFS  layer-R 1.1 True                                              NaN   \n",
       "          layer-R 1.2 False                                             NaN   \n",
       "                      True                                              NaN   \n",
       "          layer-R 2.0 False                                             NaN   \n",
       "                      True                                              NaN   \n",
       "\n",
       "                                                                             \\\n",
       "                                     head[IMDC_Ordinal] on IMDC ORDINAL AUC   \n",
       "task desc arch ID     used rand init                                          \n",
       "Both-OS   basic 1.0   False                                             NaN   \n",
       "                      True                                              NaN   \n",
       "          basic 1.2   False                                             NaN   \n",
       "                      True                                              NaN   \n",
       "          basic 2.1   False                                             NaN   \n",
       "...                                                                     ...   \n",
       "both-PFS  layer-R 1.1 True                                              NaN   \n",
       "          layer-R 1.2 False                                             NaN   \n",
       "                      True                                              NaN   \n",
       "          layer-R 2.0 False                                             NaN   \n",
       "                      True                                              NaN   \n",
       "\n",
       "                                                                             \\\n",
       "                                     head[IMDC_Ordinal] on IMDC ORDINAL_MAE   \n",
       "task desc arch ID     used rand init                                          \n",
       "Both-OS   basic 1.0   False                                             NaN   \n",
       "                      True                                              NaN   \n",
       "          basic 1.2   False                                             NaN   \n",
       "                      True                                              NaN   \n",
       "          basic 2.1   False                                             NaN   \n",
       "...                                                                     ...   \n",
       "both-PFS  layer-R 1.1 True                                              NaN   \n",
       "          layer-R 1.2 False                                             NaN   \n",
       "                      True                                              NaN   \n",
       "          layer-R 2.0 False                                             NaN   \n",
       "                      True                                              NaN   \n",
       "\n",
       "                                                                                \\\n",
       "                                     head[IMDC_MultiClass] on IMDC ORDINAL_ACC   \n",
       "task desc arch ID     used rand init                                             \n",
       "Both-OS   basic 1.0   False                                                NaN   \n",
       "                      True                                                 NaN   \n",
       "          basic 1.2   False                                                NaN   \n",
       "                      True                                                 NaN   \n",
       "          basic 2.1   False                                                NaN   \n",
       "...                                                                        ...   \n",
       "both-PFS  layer-R 1.1 True                                                 NaN   \n",
       "          layer-R 1.2 False                                                NaN   \n",
       "                      True                                                 NaN   \n",
       "          layer-R 2.0 False                                                NaN   \n",
       "                      True                                                 NaN   \n",
       "\n",
       "                                                                                \\\n",
       "                                     head[IMDC_MultiClass] on IMDC ORDINAL AUC   \n",
       "task desc arch ID     used rand init                                             \n",
       "Both-OS   basic 1.0   False                                                NaN   \n",
       "                      True                                                 NaN   \n",
       "          basic 1.2   False                                                NaN   \n",
       "                      True                                                 NaN   \n",
       "          basic 2.1   False                                                NaN   \n",
       "...                                                                        ...   \n",
       "both-PFS  layer-R 1.1 True                                                 NaN   \n",
       "          layer-R 1.2 False                                                NaN   \n",
       "                      True                                                 NaN   \n",
       "          layer-R 2.0 False                                                NaN   \n",
       "                      True                                                 NaN   \n",
       "\n",
       "                                                                                \\\n",
       "                                     head[IMDC_MultiClass] on IMDC ORDINAL_MAE   \n",
       "task desc arch ID     used rand init                                             \n",
       "Both-OS   basic 1.0   False                                                NaN   \n",
       "                      True                                                 NaN   \n",
       "          basic 1.2   False                                                NaN   \n",
       "                      True                                                 NaN   \n",
       "          basic 2.1   False                                                NaN   \n",
       "...                                                                        ...   \n",
       "both-PFS  layer-R 1.1 True                                                 NaN   \n",
       "          layer-R 1.2 False                                                NaN   \n",
       "                      True                                                 NaN   \n",
       "          layer-R 2.0 False                                                NaN   \n",
       "                      True                                                 NaN   \n",
       "\n",
       "                                                                                    \n",
       "                                     head[Benefit] on Benefit BINARY_AUROC (micro)  \n",
       "task desc arch ID     used rand init                                                \n",
       "Both-OS   basic 1.0   False                                                    NaN  \n",
       "                      True                                                     NaN  \n",
       "          basic 1.2   False                                                    NaN  \n",
       "                      True                                                     NaN  \n",
       "          basic 2.1   False                                                    NaN  \n",
       "...                                                                            ...  \n",
       "both-PFS  layer-R 1.1 True                                                     NaN  \n",
       "          layer-R 1.2 False                                                    NaN  \n",
       "                      True                                                     NaN  \n",
       "          layer-R 2.0 False                                                    NaN  \n",
       "                      True                                                     NaN  \n",
       "\n",
       "[297 rows x 19 columns]"
      ]
     },
     "execution_count": 20,
     "metadata": {},
     "output_type": "execute_result"
    }
   ],
   "source": [
    "val_res"
   ]
  },
  {
   "cell_type": "code",
   "execution_count": 32,
   "metadata": {},
   "outputs": [],
   "source": [
    "reshaped_df = both_res.unstack('used rand init')"
   ]
  },
  {
   "cell_type": "code",
   "execution_count": 33,
   "metadata": {},
   "outputs": [],
   "source": [
    "new_cols = []\n",
    "for col in reshaped_df.columns:\n",
    "    x = col[1]\n",
    "    if 'head' in x:\n",
    "        x_split = x.split(' on ')\n",
    "        x_p1 = x_split[0]\n",
    "        x_p2 = x_split[1]\n",
    "    else:\n",
    "        x_p1 = x\n",
    "        x_p2 = x\n",
    "\n",
    "    if col[2] == True:\n",
    "        new_x = (col[0], x_p1, x_p2, 'rand init')\n",
    "    else:\n",
    "        new_x = (col[0], x_p1, x_p2, 'pretrained')\n",
    "\n",
    "    # new_x = (col[0], x_p1, x_p2, col[2])\n",
    "    new_cols.append(new_x)\n",
    "\n",
    "reshaped_df.columns = pd.MultiIndex.from_tuples(new_cols)"
   ]
  },
  {
   "cell_type": "code",
   "execution_count": 34,
   "metadata": {},
   "outputs": [],
   "source": [
    "reshaped_df.to_excel('/Users/jonaheaton/Desktop/Survival-RCC-Filtered-agg-reshaped.xlsx')"
   ]
  },
  {
   "cell_type": "code",
   "execution_count": 105,
   "metadata": {},
   "outputs": [
    {
     "name": "stdout",
     "output_type": "stream",
     "text": [
      "Saved Both-OS to excel\n",
      "Saved EVER-OS to excel\n",
      "Saved EVER-PFS to excel\n",
      "Saved IMDC to excel\n",
      "Saved IMDC-multi to excel\n",
      "Saved IMDC-ord to excel\n",
      "Saved MSKCC to excel\n",
      "Saved MSKCC-multi to excel\n",
      "Saved MSKCC-ord to excel\n",
      "Saved NIVO-OS to excel\n",
      "Saved NIVO-OS ADV EVER-OS to excel\n",
      "Saved NIVO-OS AND EVER-OS to excel\n",
      "Saved NIVO-PFS to excel\n",
      "Saved both-OS AUX Benefit to excel\n",
      "Saved both-PFS to excel\n"
     ]
    }
   ],
   "source": [
    "for task_id in both_res.index.levels[0]:\n",
    "    task_df = both_res.loc[task_id].copy()\n",
    "    # drop the columns with nans\n",
    "    task_df = task_df.dropna(axis=1, how='all')\n",
    "    task_df.to_excel(f'/Users/jonaheaton/Desktop/Survival-RCC-Filtered-agg-{task_id}.xlsx')\n",
    "    print(f'Saved {task_id} to excel')"
   ]
  },
  {
   "cell_type": "code",
   "execution_count": 106,
   "metadata": {},
   "outputs": [],
   "source": [
    "val_ressum = df.groupby([('param','name'),('param','desc str'),('param','use rand init')])['val'].sum()#.unstack(fill_value=0)\n",
    "test_ressum = df.groupby([('param','name'),('param','desc str'),('param','use rand init')])['test'].sum()#.unstack(fill_value=0)\n",
    "\n",
    "val_res = df.groupby([('param','name'),('param','desc str'),('param','use rand init')])['val'].mean()#.unstack(fill_value=0)\n",
    "test_res = df.groupby([('param','name'),('param','desc str'),('param','use rand init')])['test'].mean()#.unstack(fill_value=0)\n",
    "val_res = val_res.round(3)\n",
    "test_res = test_res.round(3)\n",
    "\n",
    "val_res[('val','num iterations')] = val_ressum[('val','num iterations')].copy()\n",
    "test_res[('test','num iterations')] = test_ressum[('test','num iterations')].copy()\n",
    "val_res.index.names = ['arch ID','task desc','used rand init']\n",
    "test_res.index.names = val_res.index.names\n",
    "both_res = pd.concat([val_res, test_res], axis=1)\n",
    "\n",
    "both_res.to_excel('/Users/jonaheaton/Desktop/Survival-RCC-Filtered-agg2.xlsx')"
   ]
  },
  {
   "cell_type": "code",
   "execution_count": 114,
   "metadata": {},
   "outputs": [
    {
     "name": "stderr",
     "output_type": "stream",
     "text": [
      "Exception in thread NeptuneWebhooks:\n",
      "Traceback (most recent call last):\n",
      "  File \"/Users/jonaheaton/opt/miniconda3/envs/mz_embed_engine/lib/python3.9/site-packages/websocket/_socket.py\", line 115, in recv\n",
      "    bytes_ = _recv()\n",
      "  File \"/Users/jonaheaton/opt/miniconda3/envs/mz_embed_engine/lib/python3.9/site-packages/websocket/_socket.py\", line 94, in _recv\n",
      "    return sock.recv(bufsize)\n",
      "  File \"/Users/jonaheaton/opt/miniconda3/envs/mz_embed_engine/lib/python3.9/ssl.py\", line 1260, in recv\n",
      "    return self.read(buflen)\n",
      "  File \"/Users/jonaheaton/opt/miniconda3/envs/mz_embed_engine/lib/python3.9/ssl.py\", line 1135, in read\n",
      "    return self._sslobj.read(len)\n",
      "TimeoutError: [Errno 60] Operation timed out\n",
      "\n",
      "During handling of the above exception, another exception occurred:\n",
      "\n",
      "Traceback (most recent call last):\n",
      "  File \"/Users/jonaheaton/opt/miniconda3/envs/mz_embed_engine/lib/python3.9/threading.py\", line 980, in _bootstrap_inner\n",
      "    self.run()\n",
      "  File \"/Users/jonaheaton/opt/miniconda3/envs/mz_embed_engine/lib/python3.9/site-packages/neptune/internal/threading/daemon.py\", line 96, in run\n",
      "    self.work()\n",
      "  File \"/Users/jonaheaton/opt/miniconda3/envs/mz_embed_engine/lib/python3.9/site-packages/neptune/internal/websockets/websocket_signals_background_job.py\", line 84, in work\n",
      "    raw_message = self._ws_client.recv()\n",
      "  File \"/Users/jonaheaton/opt/miniconda3/envs/mz_embed_engine/lib/python3.9/site-packages/neptune/common/websockets/reconnecting_websocket.py\", line 51, in recv\n",
      "    data = self.client.recv()\n",
      "  File \"/Users/jonaheaton/opt/miniconda3/envs/mz_embed_engine/lib/python3.9/site-packages/neptune/common/websockets/websocket_client_adapter.py\", line 63, in recv\n",
      "    opcode, data = self._ws_client.recv_data()\n",
      "  File \"/Users/jonaheaton/opt/miniconda3/envs/mz_embed_engine/lib/python3.9/site-packages/websocket/_core.py\", line 416, in recv_data\n",
      "    opcode, frame = self.recv_data_frame(control_frame)\n",
      "  File \"/Users/jonaheaton/opt/miniconda3/envs/mz_embed_engine/lib/python3.9/site-packages/websocket/_core.py\", line 437, in recv_data_frame\n",
      "    frame = self.recv_frame()\n",
      "  File \"/Users/jonaheaton/opt/miniconda3/envs/mz_embed_engine/lib/python3.9/site-packages/websocket/_core.py\", line 478, in recv_frame\n",
      "    return self.frame_buffer.recv_frame()\n",
      "  File \"/Users/jonaheaton/opt/miniconda3/envs/mz_embed_engine/lib/python3.9/site-packages/websocket/_abnf.py\", line 363, in recv_frame\n",
      "    self.recv_header()\n",
      "  File \"/Users/jonaheaton/opt/miniconda3/envs/mz_embed_engine/lib/python3.9/site-packages/websocket/_abnf.py\", line 319, in recv_header\n",
      "    header = self.recv_strict(2)\n",
      "  File \"/Users/jonaheaton/opt/miniconda3/envs/mz_embed_engine/lib/python3.9/site-packages/websocket/_abnf.py\", line 398, in recv_strict\n",
      "    bytes_ = self.recv(min(16384, shortage))\n",
      "  File \"/Users/jonaheaton/opt/miniconda3/envs/mz_embed_engine/lib/python3.9/site-packages/websocket/_core.py\", line 563, in _recv\n",
      "    return recv(self.sock, bufsize)\n",
      "  File \"/Users/jonaheaton/opt/miniconda3/envs/mz_embed_engine/lib/python3.9/site-packages/websocket/_socket.py\", line 117, in recv\n",
      "    raise WebSocketTimeoutException(\"Connection timed out\")\n",
      "websocket._exceptions.WebSocketTimeoutException: Connection timed out\n"
     ]
    }
   ],
   "source": [
    "# select the rows that have 'OS' in the name\n",
    "df1 = both_res[both_res.index.get_level_values('task desc').str.contains('OS')].copy()\n",
    "df2 = df1[df1.index.get_level_values('arch ID').str.contains('basic 1.2')].copy()\n",
    "df2 = df2.dropna(axis=1, how='all')\n",
    "\n",
    "df2.to_excel('/Users/jonaheaton/Desktop/Survival-RCC-Filtered-agg2-OS-basic-1.2.xlsx')"
   ]
  },
  {
   "cell_type": "markdown",
   "metadata": {},
   "source": [
    "## Assign names to architectures"
   ]
  },
  {
   "cell_type": "code",
   "execution_count": null,
   "metadata": {},
   "outputs": [],
   "source": [
    "layer1_0 = {\n",
    "    'noise_factor': 0.25,\n",
    "    'learning_rate': 0.0007869775056037999,\n",
    "    'l2_reg_weight': 1.0092405183765013e-05,\n",
    "    'l1_reg_weight': 3.137204254745065e-05,\n",
    "    'num_epochs': 87,\n",
    "    'head_hidden_layers': 1,\n",
    "    'EVER-OS__weight': 10.0,\n",
    "    'NIVO-OS__weight': 5.0,\n",
    "    'name': 'layer 1.0'\n",
    "}\n",
    "\n",
    "list_layerS = [layer1_0]\n",
    "\n",
    "############## Layer-R methods ############\n",
    "\n",
    "layerR1_0 = {\n",
    "    'noise_factor': 0.1,\n",
    "    'learning_rate': 0.0006221023998363983,\n",
    "    'l2_reg_weight': 0.0,\n",
    "    'l1_reg_weight': 0.0025635844524779894,\n",
    "    'num_epochs': 93,\n",
    "    'encoder_weight': 1.0,\n",
    "    'dropout_rate': 0.3,\n",
    "    'adversarial_start_epoch': 0,\n",
    "    'adversary_weight': 1.0,\n",
    "    'head_hidden_layers': 1,\n",
    "    'EVER-OS__weight': 10.0,\n",
    "    'NIVO-OS__weight': 4.0,\n",
    "    'name': 'layer-R 1.0'\n",
    "}\n",
    "\n",
    "list_layerR = [layerR1_0]\n",
    "\n",
    "\n",
    "######## Basic methods ############\n",
    "\n",
    "basic1_0 = {\n",
    "    'dropout_rate': 0.0,\n",
    "    'encoder_weight': 0.0,\n",
    "    'learning_rate': 0.000541422,\n",
    "    'noise_factor': 0.2,\n",
    "    'num_epochs': 71,\n",
    "    'batch_size': 64,\n",
    "    'head_hidden_layers': 0,\n",
    "    'name' : 'basic 1.0'\n",
    "}\n",
    "\n",
    "basic1_1 = {\n",
    "    'dropout_rate': 0.0,\n",
    "    'encoder_weight': 0.0,\n",
    "    'learning_rate': 0.000541422,\n",
    "    'noise_factor': 0.2,\n",
    "    'num_epochs': 71,\n",
    "    'batch_size': 32,\n",
    "    'head_hidden_layers': 0,\n",
    "    'name': 'basic 1.1'\n",
    "}\n",
    "\n",
    "basic1_2 = {\n",
    "    'dropout_rate': 0.0,\n",
    "    'encoder_weight': 0.0,\n",
    "    'learning_rate': 0.000541422,\n",
    "    'noise_factor': 0.2,\n",
    "    'num_epochs': 71,\n",
    "    'batch_size': 32,\n",
    "    'head_hidden_layers': 0,\n",
    "    'remove_nans': True,\n",
    "    'name': 'basic 1.2'\n",
    "}\n",
    "\n",
    "basic2_0 = {\n",
    "    'dropout_rate': 0.0,\n",
    "    'encoder_weight': 0.0,\n",
    "    'learning_rate': 0.0013,\n",
    "    'noise_factor': 0.2,\n",
    "    'num_epochs': 98,\n",
    "    'batch_size': 32,\n",
    "    'clean_batch': True,\n",
    "    'head_hidden_layers': 0,\n",
    "    'weight_decay': 0.000016,\n",
    "    'name': 'basic 2.0'\n",
    "}\n",
    "\n",
    "basic2_1 = {\n",
    "    'dropout_rate': 0.0,\n",
    "    'encoder_weight': 0.0,\n",
    "    'learning_rate': 0.0013,\n",
    "    'noise_factor': 0.2,\n",
    "    'num_epochs': 98,\n",
    "    'batch_size': 32,\n",
    "    'clean_batch': False,\n",
    "    'head_hidden_layers': 0,\n",
    "    'weight_decay': 0.000016,\n",
    "    'remove_nans': True,\n",
    "    'name': 'basic 2.1'\n",
    "}\n",
    "\n",
    "list_basicS = [basic1_0, basic1_1, basic1_2, basic2_0, basic2_1]\n",
    "\n",
    "###### Basic-R methods ############\n",
    "\n",
    "basicR1_0 = {\n",
    "    'dropout_rate': 0.4,\n",
    "    'encoder_weight': 0.75,\n",
    "    'learning_rate': 0.0021,\n",
    "    'noise_factor': 0.25,\n",
    "    'num_epochs': 38,\n",
    "    'batch_size': 32,\n",
    "    'head_hidden_layers': 0,\n",
    "    'weight_decay': 0.0,\n",
    "    'remove_nans': True,\n",
    "    'name': 'basic-R 1.0'\n",
    "}\n",
    "\n",
    "basicR1_1 = {\n",
    "    'dropout_rate': 0.4,\n",
    "    'encoder_weight': 0.75,\n",
    "    'learning_rate': 0.0021,\n",
    "    'noise_factor': 0.25,\n",
    "    'num_epochs': 38,\n",
    "    'batch_size': 32,\n",
    "    'head_hidden_layers': 0,\n",
    "    'weight_decay': 0.0,\n",
    "    'remove_nans': False,\n",
    "    'name': 'basic-R 1.1'\n",
    "}\n",
    "\n",
    "list_basicR = [basicR1_0, basicR1_1]\n",
    "\n",
    "\n",
    "\n",
    "all_methods = list_layerS + list_layerR + list_basicS + list_basicR"
   ]
  },
  {
   "cell_type": "code",
   "execution_count": null,
   "metadata": {},
   "outputs": [],
   "source": [
    "for with_id in df[('param','sys/id')].to_list():\n",
    "\n",
    "    run = neptune.init_run(project=PROJECT_ID,\n",
    "                            api_token=NEPTUNE_API_TOKEN,\n",
    "                            with_id=with_id)\n",
    "\n",
    "    run_sweep = run['sweep_kwargs'].fetch()\n",
    "    matches_name_list = []\n",
    "    for method in all_methods:\n",
    "        does_match = True\n",
    "\n",
    "        for key,val in method.items():\n",
    "            if key == 'name':\n",
    "                continue\n",
    "            if key in run_sweep:\n",
    "                if run_sweep[key] != val:\n",
    "                    does_match = False\n",
    "        \n",
    "        if does_match:\n",
    "            print('we have a match to method', method['name'])\n",
    "            run['sweep_kwargs/name'] = method['name']\n",
    "            matches_name_list.append(method['name'])\n",
    "\n",
    "    if len(matches_name_list) < 1:\n",
    "        print(f'no match for {with_id}')\n",
    "\n",
    "    run.stop()\n",
    "\n",
    "    # break"
   ]
  },
  {
   "cell_type": "code",
   "execution_count": null,
   "metadata": {},
   "outputs": [],
   "source": [
    "list_runs = ['SUR-2640',\n",
    "'SUR-2639',\n",
    "'SUR-2638',\n",
    "'SUR-2637',\n",
    "'SUR-2634',\n",
    "'SUR-2633',\n",
    "'SUR-2632',\n",
    "'SUR-2631',\n",
    "'SUR-2630',\n",
    "'SUR-2629']\n",
    "\n",
    "\n",
    "for with_id in list_runs:\n",
    "\n",
    "    run = neptune.init_run(project=PROJECT_ID,\n",
    "                            api_token=NEPTUNE_API_TOKEN,\n",
    "                            with_id=with_id)\n",
    "    \n",
    "    run['sweep_kwargs/name'] = 'basic-R 1.0'\n",
    "    run.stop()"
   ]
  },
  {
   "cell_type": "code",
   "execution_count": 4,
   "metadata": {},
   "outputs": [
    {
     "data": {
      "text/plain": [
       "['SUR-2815',\n",
       " 'SUR-2814',\n",
       " 'SUR-2813',\n",
       " 'SUR-2812',\n",
       " 'SUR-2811',\n",
       " 'SUR-2810',\n",
       " 'SUR-2809',\n",
       " 'SUR-2808',\n",
       " 'SUR-2807',\n",
       " 'SUR-2806',\n",
       " 'SUR-2805',\n",
       " 'SUR-2804',\n",
       " 'SUR-2803',\n",
       " 'SUR-2802',\n",
       " 'SUR-2801',\n",
       " 'SUR-2800',\n",
       " 'SUR-2799',\n",
       " 'SUR-2798',\n",
       " 'SUR-2797',\n",
       " 'SUR-2796',\n",
       " 'SUR-2795',\n",
       " 'SUR-2794',\n",
       " 'SUR-2793',\n",
       " 'SUR-2791',\n",
       " 'SUR-2790',\n",
       " 'SUR-2789',\n",
       " 'SUR-2788',\n",
       " 'SUR-2787',\n",
       " 'SUR-2786',\n",
       " 'SUR-2785',\n",
       " 'SUR-2784',\n",
       " 'SUR-2783',\n",
       " 'SUR-2782',\n",
       " 'SUR-2781',\n",
       " 'SUR-2780',\n",
       " 'SUR-2779',\n",
       " 'SUR-2778',\n",
       " 'SUR-2777',\n",
       " 'SUR-2776',\n",
       " 'SUR-2775',\n",
       " 'SUR-2774',\n",
       " 'SUR-2773',\n",
       " 'SUR-2772',\n",
       " 'SUR-2771',\n",
       " 'SUR-2770',\n",
       " 'SUR-2769',\n",
       " 'SUR-2768',\n",
       " 'SUR-2767',\n",
       " 'SUR-2766',\n",
       " 'SUR-2765',\n",
       " 'SUR-2764',\n",
       " 'SUR-2763',\n",
       " 'SUR-2762',\n",
       " 'SUR-2761',\n",
       " 'SUR-2760',\n",
       " 'SUR-2759',\n",
       " 'SUR-2758',\n",
       " 'SUR-2757',\n",
       " 'SUR-2756',\n",
       " 'SUR-2755',\n",
       " 'SUR-2754',\n",
       " 'SUR-2753',\n",
       " 'SUR-2752',\n",
       " 'SUR-2751',\n",
       " 'SUR-2750',\n",
       " 'SUR-2749',\n",
       " 'SUR-2748',\n",
       " 'SUR-2747',\n",
       " 'SUR-2746',\n",
       " 'SUR-2745',\n",
       " 'SUR-2744',\n",
       " 'SUR-2743',\n",
       " 'SUR-2742',\n",
       " 'SUR-2741',\n",
       " 'SUR-2740',\n",
       " 'SUR-2739',\n",
       " 'SUR-2738',\n",
       " 'SUR-2737',\n",
       " 'SUR-2736',\n",
       " 'SUR-2735',\n",
       " 'SUR-2734',\n",
       " 'SUR-2733',\n",
       " 'SUR-2732',\n",
       " 'SUR-2731',\n",
       " 'SUR-2730',\n",
       " 'SUR-2729',\n",
       " 'SUR-2728',\n",
       " 'SUR-2727',\n",
       " 'SUR-2726',\n",
       " 'SUR-2725',\n",
       " 'SUR-2724',\n",
       " 'SUR-2723',\n",
       " 'SUR-2722',\n",
       " 'SUR-2721',\n",
       " 'SUR-2720',\n",
       " 'SUR-2719',\n",
       " 'SUR-2718',\n",
       " 'SUR-2717',\n",
       " 'SUR-2716',\n",
       " 'SUR-2715',\n",
       " 'SUR-2714',\n",
       " 'SUR-2713',\n",
       " 'SUR-2712',\n",
       " 'SUR-2711',\n",
       " 'SUR-2710',\n",
       " 'SUR-2709',\n",
       " 'SUR-2708',\n",
       " 'SUR-2707',\n",
       " 'SUR-2706',\n",
       " 'SUR-2705',\n",
       " 'SUR-2704',\n",
       " 'SUR-2703',\n",
       " 'SUR-2702',\n",
       " 'SUR-2701',\n",
       " 'SUR-2700',\n",
       " 'SUR-2699',\n",
       " 'SUR-2698',\n",
       " 'SUR-2697',\n",
       " 'SUR-2696',\n",
       " 'SUR-2695',\n",
       " 'SUR-2694',\n",
       " 'SUR-2693',\n",
       " 'SUR-2692',\n",
       " 'SUR-2691',\n",
       " 'SUR-2690',\n",
       " 'SUR-2689',\n",
       " 'SUR-2688',\n",
       " 'SUR-2687',\n",
       " 'SUR-2686',\n",
       " 'SUR-2685',\n",
       " 'SUR-2684',\n",
       " 'SUR-2683',\n",
       " 'SUR-2682',\n",
       " 'SUR-2681',\n",
       " 'SUR-2680',\n",
       " 'SUR-2679',\n",
       " 'SUR-2678',\n",
       " 'SUR-2677',\n",
       " 'SUR-2676',\n",
       " 'SUR-2675',\n",
       " 'SUR-2674',\n",
       " 'SUR-2673',\n",
       " 'SUR-2672',\n",
       " 'SUR-2671',\n",
       " 'SUR-2670',\n",
       " 'SUR-2669',\n",
       " 'SUR-2668',\n",
       " 'SUR-2667',\n",
       " 'SUR-2666',\n",
       " 'SUR-2665',\n",
       " 'SUR-2664',\n",
       " 'SUR-2663',\n",
       " 'SUR-2662',\n",
       " 'SUR-2661',\n",
       " 'SUR-2660',\n",
       " 'SUR-2659',\n",
       " 'SUR-2658',\n",
       " 'SUR-2657',\n",
       " 'SUR-2656',\n",
       " 'SUR-2655',\n",
       " 'SUR-2654',\n",
       " 'SUR-2653',\n",
       " 'SUR-2652',\n",
       " 'SUR-2651',\n",
       " 'SUR-2650',\n",
       " 'SUR-2649',\n",
       " 'SUR-2648',\n",
       " 'SUR-2647',\n",
       " 'SUR-2646',\n",
       " 'SUR-2645',\n",
       " 'SUR-2644',\n",
       " 'SUR-2643',\n",
       " 'SUR-2640',\n",
       " 'SUR-2639',\n",
       " 'SUR-2638',\n",
       " 'SUR-2637',\n",
       " 'SUR-2634',\n",
       " 'SUR-2633',\n",
       " 'SUR-2632',\n",
       " 'SUR-2631',\n",
       " 'SUR-2630',\n",
       " 'SUR-2629',\n",
       " 'SUR-2626',\n",
       " 'SUR-2625',\n",
       " 'SUR-2624',\n",
       " 'SUR-2623',\n",
       " 'SUR-2620',\n",
       " 'SUR-2619',\n",
       " 'SUR-2618',\n",
       " 'SUR-2617',\n",
       " 'SUR-2616',\n",
       " 'SUR-2615',\n",
       " 'SUR-2612',\n",
       " 'SUR-2611',\n",
       " 'SUR-2609',\n",
       " 'SUR-2608',\n",
       " 'SUR-2607',\n",
       " 'SUR-2604',\n",
       " 'SUR-2603',\n",
       " 'SUR-2602',\n",
       " 'SUR-2601',\n",
       " 'SUR-2600',\n",
       " 'SUR-2599',\n",
       " 'SUR-2598',\n",
       " 'SUR-2597',\n",
       " 'SUR-2596',\n",
       " 'SUR-2595',\n",
       " 'SUR-2594',\n",
       " 'SUR-2593',\n",
       " 'SUR-2592',\n",
       " 'SUR-2591',\n",
       " 'SUR-2590',\n",
       " 'SUR-2589',\n",
       " 'SUR-2588',\n",
       " 'SUR-2587',\n",
       " 'SUR-2586',\n",
       " 'SUR-2585',\n",
       " 'SUR-2584',\n",
       " 'SUR-2583',\n",
       " 'SUR-2582',\n",
       " 'SUR-2581',\n",
       " 'SUR-2577',\n",
       " 'SUR-2576',\n",
       " 'SUR-2575',\n",
       " 'SUR-2574',\n",
       " 'SUR-2571',\n",
       " 'SUR-2570',\n",
       " 'SUR-2569',\n",
       " 'SUR-2566',\n",
       " 'SUR-2565',\n",
       " 'SUR-2564',\n",
       " 'SUR-2563',\n",
       " 'SUR-2562',\n",
       " 'SUR-2560',\n",
       " 'SUR-2559',\n",
       " 'SUR-2558',\n",
       " 'SUR-2557',\n",
       " 'SUR-2556',\n",
       " 'SUR-2555',\n",
       " 'SUR-2554',\n",
       " 'SUR-2553',\n",
       " 'SUR-2552',\n",
       " 'SUR-2551',\n",
       " 'SUR-2550',\n",
       " 'SUR-2549',\n",
       " 'SUR-2548',\n",
       " 'SUR-2547',\n",
       " 'SUR-2545',\n",
       " 'SUR-2544',\n",
       " 'SUR-2543',\n",
       " 'SUR-2542',\n",
       " 'SUR-2541',\n",
       " 'SUR-2540',\n",
       " 'SUR-2539',\n",
       " 'SUR-2538',\n",
       " 'SUR-2537',\n",
       " 'SUR-2536',\n",
       " 'SUR-2535',\n",
       " 'SUR-2534',\n",
       " 'SUR-2533',\n",
       " 'SUR-2531',\n",
       " 'SUR-2530',\n",
       " 'SUR-2529',\n",
       " 'SUR-2528',\n",
       " 'SUR-2527',\n",
       " 'SUR-2526',\n",
       " 'SUR-2525',\n",
       " 'SUR-2524',\n",
       " 'SUR-2523',\n",
       " 'SUR-2522',\n",
       " 'SUR-2521',\n",
       " 'SUR-2520',\n",
       " 'SUR-2519',\n",
       " 'SUR-2518',\n",
       " 'SUR-2517',\n",
       " 'SUR-2516']"
      ]
     },
     "execution_count": 4,
     "metadata": {},
     "output_type": "execute_result"
    }
   ],
   "source": [
    "df['Id'].to_list()"
   ]
  },
  {
   "cell_type": "code",
   "execution_count": 6,
   "metadata": {},
   "outputs": [],
   "source": [
    "finished_ids = []\n",
    "\n",
    "for with_id in df['Id'].to_list():\n",
    "    if with_id == 'SUR-2808':\n",
    "        break\n",
    "    finished_ids.append(with_id)"
   ]
  },
  {
   "cell_type": "code",
   "execution_count": 7,
   "metadata": {},
   "outputs": [
    {
     "data": {
      "text/plain": [
       "['SUR-2815',\n",
       " 'SUR-2814',\n",
       " 'SUR-2813',\n",
       " 'SUR-2812',\n",
       " 'SUR-2811',\n",
       " 'SUR-2810',\n",
       " 'SUR-2809']"
      ]
     },
     "execution_count": 7,
     "metadata": {},
     "output_type": "execute_result"
    }
   ],
   "source": [
    "finished_ids"
   ]
  },
  {
   "cell_type": "code",
   "execution_count": 3,
   "metadata": {},
   "outputs": [
    {
     "name": "stdout",
     "output_type": "stream",
     "text": [
      "Getting the latest dataset\n",
      "[neptune] [info   ] Neptune initialized. Open in the app: https://app.neptune.ai/revivemed/Survival-RCC/\n",
      "[neptune] [info   ] Shutting down background jobs, please wait a moment...\n",
      "[neptune] [info   ] Done!\n",
      "[neptune] [info   ] All 0 operations synced, thanks for waiting!\n",
      "[neptune] [info   ] Explore the metadata in the Neptune app: https://app.neptune.ai/revivemed/Survival-RCC/metadata\n"
     ]
    },
    {
     "name": "stderr",
     "output_type": "stream",
     "text": [
      "[neptune] [warning] NeptuneWarning: The following monitoring options are disabled by default in interactive sessions: 'capture_stdout', 'capture_stderr', 'capture_traceback', and 'capture_hardware_metrics'. To enable them, set each parameter to 'True' when initializing the run. The monitoring will continue until you call run.stop() or the kernel stops. Also note: Your source files can only be tracked if you pass the path(s) to the 'source_code' argument. For help, see the Neptune docs: https://docs.neptune.ai/logging/source_code/\n"
     ]
    },
    {
     "name": "stdout",
     "output_type": "stream",
     "text": [
      "[neptune] [info   ] Neptune initialized. Open in the app: https://app.neptune.ai/revivemed/Survival-RCC/e/SUR-2815\n",
      "eval_params_list [{'y_col_name': 'NIVO OS', 'y_head': 'NIVO OS', 'y_cols': ['NIVO OS', 'OS_Event']}, {'y_col_name': 'EVER OS', 'y_head': 'NIVO OS', 'y_cols': ['EVER OS', 'OS_Event']}, {'y_col_name': 'Both OS', 'y_head': 'NIVO OS', 'y_cols': ['OS', 'OS_Event']}, {'y_col_name': 'IMDC BINARY', 'y_head': 'IMDC', 'y_cols': ['IMDC BINARY']}, {'y_col_name': 'IMDC ORDINAL', 'y_head': 'IMDC_Ordinal', 'y_cols': ['IMDC ORDINAL']}, {'y_col_name': 'IMDC ORDINAL', 'y_head': 'IMDC_MultiClass', 'y_cols': ['IMDC ORDINAL']}]\n",
      "Using Neptune\n"
     ]
    },
    {
     "data": {
      "application/vnd.jupyter.widget-view+json": {
       "model_id": "4ebfad7ad44b442da00f933fd61c1db4",
       "version_major": 2,
       "version_minor": 0
      },
      "text/plain": [
       "Fetching file...: 0 [00:00, ?/s]"
      ]
     },
     "metadata": {},
     "output_type": "display_data"
    },
    {
     "name": "stdout",
     "output_type": "stream",
     "text": [
      "Warning: training is not a valid argument for VAE\n",
      "Warning: goal is not a valid argument for VAE\n",
      "Warning: kind is not a valid argument for VAE\n",
      "Warning: file_id is not a valid argument for VAE\n",
      "Warning: kl_weight is not a valid argument for VAE\n",
      "Error: Invalid head name: NIVO OS\n",
      "Error: Invalid head name: NIVO OS\n",
      "Error: Invalid head name: NIVO OS\n",
      "Error: Invalid head name: IMDC\n",
      "Error: Invalid head name: IMDC_Ordinal\n",
      "Error: Invalid head name: IMDC_MultiClass\n",
      "Error: Invalid head name: NIVO OS\n",
      "Error: Invalid head name: NIVO OS\n",
      "Error: Invalid head name: NIVO OS\n",
      "Error: Invalid head name: IMDC\n",
      "Error: Invalid head name: IMDC_Ordinal\n",
      "Error: Invalid head name: IMDC_MultiClass\n",
      "Using Neptune\n"
     ]
    },
    {
     "data": {
      "application/vnd.jupyter.widget-view+json": {
       "model_id": "028145cf6971487ea629f2ca2383afb7",
       "version_major": 2,
       "version_minor": 0
      },
      "text/plain": [
       "Fetching file...: 0 [00:00, ?/s]"
      ]
     },
     "metadata": {},
     "output_type": "display_data"
    },
    {
     "name": "stdout",
     "output_type": "stream",
     "text": [
      "Warning: training is not a valid argument for VAE\n",
      "Warning: goal is not a valid argument for VAE\n",
      "Warning: kind is not a valid argument for VAE\n",
      "Warning: file_id is not a valid argument for VAE\n",
      "Warning: kl_weight is not a valid argument for VAE\n",
      "Error: Invalid head name: NIVO OS\n",
      "Error: Invalid head name: NIVO OS\n",
      "Error: Invalid head name: NIVO OS\n",
      "Error: Invalid head name: IMDC\n",
      "Error: Invalid head name: IMDC_Ordinal\n",
      "Error: Invalid head name: IMDC_MultiClass\n",
      "Error: Invalid head name: NIVO OS\n",
      "Error: Invalid head name: NIVO OS\n",
      "Error: Invalid head name: NIVO OS\n",
      "Error: Invalid head name: IMDC\n",
      "Error: Invalid head name: IMDC_Ordinal\n",
      "Error: Invalid head name: IMDC_MultiClass\n",
      "Using Neptune\n"
     ]
    },
    {
     "data": {
      "application/vnd.jupyter.widget-view+json": {
       "model_id": "9741b0b8e68647268ca8d17faff0a951",
       "version_major": 2,
       "version_minor": 0
      },
      "text/plain": [
       "Fetching file...: 0 [00:00, ?/s]"
      ]
     },
     "metadata": {},
     "output_type": "display_data"
    },
    {
     "name": "stdout",
     "output_type": "stream",
     "text": [
      "Warning: training is not a valid argument for VAE\n",
      "Warning: goal is not a valid argument for VAE\n",
      "Warning: kind is not a valid argument for VAE\n",
      "Warning: file_id is not a valid argument for VAE\n",
      "Warning: kl_weight is not a valid argument for VAE\n",
      "Error: Invalid head name: NIVO OS\n",
      "Error: Invalid head name: NIVO OS\n",
      "Error: Invalid head name: NIVO OS\n",
      "Error: Invalid head name: IMDC\n",
      "Error: Invalid head name: IMDC_Ordinal\n",
      "Error: Invalid head name: IMDC_MultiClass\n",
      "Error: Invalid head name: NIVO OS\n",
      "Error: Invalid head name: NIVO OS\n",
      "Error: Invalid head name: NIVO OS\n",
      "Error: Invalid head name: IMDC\n",
      "Error: Invalid head name: IMDC_Ordinal\n",
      "Error: Invalid head name: IMDC_MultiClass\n",
      "Using Neptune\n"
     ]
    },
    {
     "data": {
      "application/vnd.jupyter.widget-view+json": {
       "model_id": "8e2e1e03c9494e5398c26609c7c301a3",
       "version_major": 2,
       "version_minor": 0
      },
      "text/plain": [
       "Fetching file...: 0 [00:00, ?/s]"
      ]
     },
     "metadata": {},
     "output_type": "display_data"
    },
    {
     "name": "stdout",
     "output_type": "stream",
     "text": [
      "Warning: training is not a valid argument for VAE\n",
      "Warning: goal is not a valid argument for VAE\n",
      "Warning: kind is not a valid argument for VAE\n",
      "Warning: file_id is not a valid argument for VAE\n",
      "Warning: kl_weight is not a valid argument for VAE\n",
      "Error: Invalid head name: NIVO OS\n",
      "Error: Invalid head name: NIVO OS\n",
      "Error: Invalid head name: NIVO OS\n",
      "Error: Invalid head name: IMDC\n",
      "Error: Invalid head name: IMDC_Ordinal\n",
      "Error: Invalid head name: IMDC_MultiClass\n",
      "Error: Invalid head name: NIVO OS\n",
      "Error: Invalid head name: NIVO OS\n",
      "Error: Invalid head name: NIVO OS\n",
      "Error: Invalid head name: IMDC\n",
      "Error: Invalid head name: IMDC_Ordinal\n",
      "Error: Invalid head name: IMDC_MultiClass\n",
      "Using Neptune\n"
     ]
    },
    {
     "data": {
      "application/vnd.jupyter.widget-view+json": {
       "model_id": "3ce87529e667480b934ec82469589c6a",
       "version_major": 2,
       "version_minor": 0
      },
      "text/plain": [
       "Fetching file...: 0 [00:00, ?/s]"
      ]
     },
     "metadata": {},
     "output_type": "display_data"
    },
    {
     "name": "stdout",
     "output_type": "stream",
     "text": [
      "Warning: training is not a valid argument for VAE\n",
      "Warning: goal is not a valid argument for VAE\n",
      "Warning: kind is not a valid argument for VAE\n",
      "Warning: file_id is not a valid argument for VAE\n",
      "Warning: kl_weight is not a valid argument for VAE\n",
      "Error: Invalid head name: NIVO OS\n",
      "Error: Invalid head name: NIVO OS\n",
      "Error: Invalid head name: NIVO OS\n",
      "Error: Invalid head name: IMDC\n",
      "Error: Invalid head name: IMDC_Ordinal\n",
      "Error: Invalid head name: IMDC_MultiClass\n",
      "Error: Invalid head name: NIVO OS\n",
      "Error: Invalid head name: NIVO OS\n",
      "Error: Invalid head name: NIVO OS\n",
      "Error: Invalid head name: IMDC\n",
      "Error: Invalid head name: IMDC_Ordinal\n",
      "Error: Invalid head name: IMDC_MultiClass\n",
      "Using Neptune\n"
     ]
    },
    {
     "data": {
      "application/vnd.jupyter.widget-view+json": {
       "model_id": "5e31ba2922024df2a682e9548bf128f8",
       "version_major": 2,
       "version_minor": 0
      },
      "text/plain": [
       "Fetching file...: 0 [00:00, ?/s]"
      ]
     },
     "metadata": {},
     "output_type": "display_data"
    },
    {
     "name": "stdout",
     "output_type": "stream",
     "text": [
      "Warning: training is not a valid argument for VAE\n",
      "Warning: goal is not a valid argument for VAE\n",
      "Warning: kind is not a valid argument for VAE\n",
      "Warning: file_id is not a valid argument for VAE\n",
      "Warning: kl_weight is not a valid argument for VAE\n",
      "Error: Invalid head name: NIVO OS\n",
      "Error: Invalid head name: NIVO OS\n",
      "Error: Invalid head name: NIVO OS\n",
      "Error: Invalid head name: IMDC\n",
      "Error: Invalid head name: IMDC_Ordinal\n",
      "Error: Invalid head name: IMDC_MultiClass\n",
      "Error: Invalid head name: NIVO OS\n",
      "Error: Invalid head name: NIVO OS\n",
      "Error: Invalid head name: NIVO OS\n",
      "Error: Invalid head name: IMDC\n",
      "Error: Invalid head name: IMDC_Ordinal\n",
      "Error: Invalid head name: IMDC_MultiClass\n",
      "Using Neptune\n"
     ]
    },
    {
     "data": {
      "application/vnd.jupyter.widget-view+json": {
       "model_id": "195f645d3cb141f59fb8db0e617e3c10",
       "version_major": 2,
       "version_minor": 0
      },
      "text/plain": [
       "Fetching file...: 0 [00:00, ?/s]"
      ]
     },
     "metadata": {},
     "output_type": "display_data"
    },
    {
     "name": "stdout",
     "output_type": "stream",
     "text": [
      "Warning: training is not a valid argument for VAE\n",
      "Warning: goal is not a valid argument for VAE\n",
      "Warning: kind is not a valid argument for VAE\n",
      "Warning: file_id is not a valid argument for VAE\n",
      "Warning: kl_weight is not a valid argument for VAE\n",
      "Error: Invalid head name: NIVO OS\n",
      "Error: Invalid head name: NIVO OS\n",
      "Error: Invalid head name: NIVO OS\n",
      "Error: Invalid head name: IMDC\n",
      "Error: Invalid head name: IMDC_Ordinal\n",
      "Error: Invalid head name: IMDC_MultiClass\n",
      "Error: Invalid head name: NIVO OS\n",
      "Error: Invalid head name: NIVO OS\n",
      "Error: Invalid head name: NIVO OS\n",
      "Error: Invalid head name: IMDC\n",
      "Error: Invalid head name: IMDC_Ordinal\n",
      "Error: Invalid head name: IMDC_MultiClass\n",
      "Using Neptune\n"
     ]
    },
    {
     "data": {
      "application/vnd.jupyter.widget-view+json": {
       "model_id": "642e7f1a781a4fb78696d6d0ac26289d",
       "version_major": 2,
       "version_minor": 0
      },
      "text/plain": [
       "Fetching file...: 0 [00:00, ?/s]"
      ]
     },
     "metadata": {},
     "output_type": "display_data"
    },
    {
     "name": "stdout",
     "output_type": "stream",
     "text": [
      "Warning: training is not a valid argument for VAE\n",
      "Warning: goal is not a valid argument for VAE\n",
      "Warning: kind is not a valid argument for VAE\n",
      "Warning: file_id is not a valid argument for VAE\n",
      "Warning: kl_weight is not a valid argument for VAE\n",
      "Error: Invalid head name: NIVO OS\n",
      "Error: Invalid head name: NIVO OS\n",
      "Error: Invalid head name: NIVO OS\n",
      "Error: Invalid head name: IMDC\n",
      "Error: Invalid head name: IMDC_Ordinal\n",
      "Error: Invalid head name: IMDC_MultiClass\n",
      "Error: Invalid head name: NIVO OS\n",
      "Error: Invalid head name: NIVO OS\n",
      "Error: Invalid head name: NIVO OS\n",
      "Error: Invalid head name: IMDC\n",
      "Error: Invalid head name: IMDC_Ordinal\n",
      "Error: Invalid head name: IMDC_MultiClass\n",
      "Using Neptune\n"
     ]
    },
    {
     "data": {
      "application/vnd.jupyter.widget-view+json": {
       "model_id": "e2417cc7334d4f5a808774d4f5ef44cc",
       "version_major": 2,
       "version_minor": 0
      },
      "text/plain": [
       "Fetching file...: 0 [00:00, ?/s]"
      ]
     },
     "metadata": {},
     "output_type": "display_data"
    },
    {
     "name": "stdout",
     "output_type": "stream",
     "text": [
      "Warning: training is not a valid argument for VAE\n",
      "Warning: goal is not a valid argument for VAE\n",
      "Warning: kind is not a valid argument for VAE\n",
      "Warning: file_id is not a valid argument for VAE\n",
      "Warning: kl_weight is not a valid argument for VAE\n",
      "Error: Invalid head name: NIVO OS\n",
      "Error: Invalid head name: NIVO OS\n",
      "Error: Invalid head name: NIVO OS\n",
      "Error: Invalid head name: IMDC\n",
      "Error: Invalid head name: IMDC_Ordinal\n",
      "Error: Invalid head name: IMDC_MultiClass\n",
      "Error: Invalid head name: NIVO OS\n",
      "Error: Invalid head name: NIVO OS\n",
      "Error: Invalid head name: NIVO OS\n",
      "Error: Invalid head name: IMDC\n",
      "Error: Invalid head name: IMDC_Ordinal\n",
      "Error: Invalid head name: IMDC_MultiClass\n",
      "Using Neptune\n"
     ]
    },
    {
     "data": {
      "application/vnd.jupyter.widget-view+json": {
       "model_id": "83b57691591e4091b9f9ac43926d0e36",
       "version_major": 2,
       "version_minor": 0
      },
      "text/plain": [
       "Fetching file...: 0 [00:00, ?/s]"
      ]
     },
     "metadata": {},
     "output_type": "display_data"
    },
    {
     "name": "stdout",
     "output_type": "stream",
     "text": [
      "Warning: training is not a valid argument for VAE\n",
      "Warning: goal is not a valid argument for VAE\n",
      "Warning: kind is not a valid argument for VAE\n",
      "Warning: file_id is not a valid argument for VAE\n",
      "Warning: kl_weight is not a valid argument for VAE\n",
      "Error: Invalid head name: NIVO OS\n",
      "Error: Invalid head name: NIVO OS\n",
      "Error: Invalid head name: NIVO OS\n",
      "Error: Invalid head name: IMDC\n",
      "Error: Invalid head name: IMDC_Ordinal\n",
      "Error: Invalid head name: IMDC_MultiClass\n",
      "Error: Invalid head name: NIVO OS\n",
      "Error: Invalid head name: NIVO OS\n",
      "Error: Invalid head name: NIVO OS\n",
      "Error: Invalid head name: IMDC\n",
      "Error: Invalid head name: IMDC_Ordinal\n",
      "Error: Invalid head name: IMDC_MultiClass\n",
      "Using Neptune\n"
     ]
    },
    {
     "data": {
      "application/vnd.jupyter.widget-view+json": {
       "model_id": "030f498e4ea94517bc3763686fd15318",
       "version_major": 2,
       "version_minor": 0
      },
      "text/plain": [
       "Fetching file...: 0 [00:00, ?/s]"
      ]
     },
     "metadata": {},
     "output_type": "display_data"
    },
    {
     "name": "stdout",
     "output_type": "stream",
     "text": [
      "Warning: training is not a valid argument for VAE\n",
      "Warning: goal is not a valid argument for VAE\n",
      "Warning: kind is not a valid argument for VAE\n",
      "Warning: file_id is not a valid argument for VAE\n",
      "Warning: kl_weight is not a valid argument for VAE\n",
      "Error: Invalid head name: NIVO OS\n",
      "Error: Invalid head name: NIVO OS\n",
      "Error: Invalid head name: NIVO OS\n",
      "Error: Invalid head name: IMDC\n",
      "Error: Invalid head name: IMDC_Ordinal\n",
      "Error: Invalid head name: IMDC_MultiClass\n",
      "Error: Invalid head name: NIVO OS\n",
      "Error: Invalid head name: NIVO OS\n",
      "Error: Invalid head name: NIVO OS\n",
      "Error: Invalid head name: IMDC\n",
      "Error: Invalid head name: IMDC_Ordinal\n",
      "Error: Invalid head name: IMDC_MultiClass\n",
      "Using Neptune\n"
     ]
    },
    {
     "data": {
      "application/vnd.jupyter.widget-view+json": {
       "model_id": "a6f9fe2d8408466fa782ad1c7ad50630",
       "version_major": 2,
       "version_minor": 0
      },
      "text/plain": [
       "Fetching file...: 0 [00:00, ?/s]"
      ]
     },
     "metadata": {},
     "output_type": "display_data"
    },
    {
     "name": "stdout",
     "output_type": "stream",
     "text": [
      "Warning: training is not a valid argument for VAE\n",
      "Warning: goal is not a valid argument for VAE\n",
      "Warning: kind is not a valid argument for VAE\n",
      "Warning: file_id is not a valid argument for VAE\n",
      "Warning: kl_weight is not a valid argument for VAE\n",
      "Error: Invalid head name: NIVO OS\n",
      "Error: Invalid head name: NIVO OS\n",
      "Error: Invalid head name: NIVO OS\n",
      "Error: Invalid head name: IMDC\n",
      "Error: Invalid head name: IMDC_Ordinal\n",
      "Error: Invalid head name: IMDC_MultiClass\n",
      "Error: Invalid head name: NIVO OS\n",
      "Error: Invalid head name: NIVO OS\n",
      "Error: Invalid head name: NIVO OS\n",
      "Error: Invalid head name: IMDC\n",
      "Error: Invalid head name: IMDC_Ordinal\n",
      "Error: Invalid head name: IMDC_MultiClass\n",
      "Using Neptune\n"
     ]
    },
    {
     "data": {
      "application/vnd.jupyter.widget-view+json": {
       "model_id": "d65ce5edbab64861b91fb9b2cee7368c",
       "version_major": 2,
       "version_minor": 0
      },
      "text/plain": [
       "Fetching file...: 0 [00:00, ?/s]"
      ]
     },
     "metadata": {},
     "output_type": "display_data"
    },
    {
     "name": "stdout",
     "output_type": "stream",
     "text": [
      "Warning: training is not a valid argument for VAE\n",
      "Warning: goal is not a valid argument for VAE\n",
      "Warning: kind is not a valid argument for VAE\n",
      "Warning: file_id is not a valid argument for VAE\n",
      "Warning: kl_weight is not a valid argument for VAE\n",
      "Error: Invalid head name: NIVO OS\n",
      "Error: Invalid head name: NIVO OS\n",
      "Error: Invalid head name: NIVO OS\n",
      "Error: Invalid head name: IMDC\n",
      "Error: Invalid head name: IMDC_Ordinal\n",
      "Error: Invalid head name: IMDC_MultiClass\n",
      "Error: Invalid head name: NIVO OS\n",
      "Error: Invalid head name: NIVO OS\n",
      "Error: Invalid head name: NIVO OS\n",
      "Error: Invalid head name: IMDC\n",
      "Error: Invalid head name: IMDC_Ordinal\n",
      "Error: Invalid head name: IMDC_MultiClass\n",
      "Using Neptune\n"
     ]
    },
    {
     "data": {
      "application/vnd.jupyter.widget-view+json": {
       "model_id": "b9b2e0c286f5447e83aed23a96532af3",
       "version_major": 2,
       "version_minor": 0
      },
      "text/plain": [
       "Fetching file...: 0 [00:00, ?/s]"
      ]
     },
     "metadata": {},
     "output_type": "display_data"
    },
    {
     "name": "stdout",
     "output_type": "stream",
     "text": [
      "Warning: training is not a valid argument for VAE\n",
      "Warning: goal is not a valid argument for VAE\n",
      "Warning: kind is not a valid argument for VAE\n",
      "Warning: file_id is not a valid argument for VAE\n",
      "Warning: kl_weight is not a valid argument for VAE\n",
      "Error: Invalid head name: NIVO OS\n",
      "Error: Invalid head name: NIVO OS\n",
      "Error: Invalid head name: NIVO OS\n",
      "Error: Invalid head name: IMDC\n",
      "Error: Invalid head name: IMDC_Ordinal\n",
      "Error: Invalid head name: IMDC_MultiClass\n",
      "Error: Invalid head name: NIVO OS\n",
      "Error: Invalid head name: NIVO OS\n",
      "Error: Invalid head name: NIVO OS\n",
      "Error: Invalid head name: IMDC\n",
      "Error: Invalid head name: IMDC_Ordinal\n",
      "Error: Invalid head name: IMDC_MultiClass\n",
      "Using Neptune\n"
     ]
    },
    {
     "data": {
      "application/vnd.jupyter.widget-view+json": {
       "model_id": "e587cda01f5344d5b5e2500b6125e4b6",
       "version_major": 2,
       "version_minor": 0
      },
      "text/plain": [
       "Fetching file...: 0 [00:00, ?/s]"
      ]
     },
     "metadata": {},
     "output_type": "display_data"
    },
    {
     "name": "stdout",
     "output_type": "stream",
     "text": [
      "Warning: training is not a valid argument for VAE\n",
      "Warning: goal is not a valid argument for VAE\n",
      "Warning: kind is not a valid argument for VAE\n",
      "Warning: file_id is not a valid argument for VAE\n",
      "Warning: kl_weight is not a valid argument for VAE\n",
      "Error: Invalid head name: NIVO OS\n",
      "Error: Invalid head name: NIVO OS\n",
      "Error: Invalid head name: NIVO OS\n",
      "Error: Invalid head name: IMDC\n",
      "Error: Invalid head name: IMDC_Ordinal\n",
      "Error: Invalid head name: IMDC_MultiClass\n",
      "Error: Invalid head name: NIVO OS\n",
      "Error: Invalid head name: NIVO OS\n",
      "Error: Invalid head name: NIVO OS\n",
      "Error: Invalid head name: IMDC\n",
      "Error: Invalid head name: IMDC_Ordinal\n",
      "Error: Invalid head name: IMDC_MultiClass\n",
      "Using Neptune\n"
     ]
    },
    {
     "data": {
      "application/vnd.jupyter.widget-view+json": {
       "model_id": "aee10d757a6c4de398fbbb52a73d5c67",
       "version_major": 2,
       "version_minor": 0
      },
      "text/plain": [
       "Fetching file...: 0 [00:00, ?/s]"
      ]
     },
     "metadata": {},
     "output_type": "display_data"
    },
    {
     "name": "stdout",
     "output_type": "stream",
     "text": [
      "Warning: training is not a valid argument for VAE\n",
      "Warning: goal is not a valid argument for VAE\n",
      "Warning: kind is not a valid argument for VAE\n",
      "Warning: file_id is not a valid argument for VAE\n",
      "Warning: kl_weight is not a valid argument for VAE\n",
      "Error: Invalid head name: NIVO OS\n",
      "Error: Invalid head name: NIVO OS\n",
      "Error: Invalid head name: NIVO OS\n",
      "Error: Invalid head name: IMDC\n",
      "Error: Invalid head name: IMDC_Ordinal\n",
      "Error: Invalid head name: IMDC_MultiClass\n",
      "Error: Invalid head name: NIVO OS\n",
      "Error: Invalid head name: NIVO OS\n",
      "Error: Invalid head name: NIVO OS\n",
      "Error: Invalid head name: IMDC\n",
      "Error: Invalid head name: IMDC_Ordinal\n",
      "Error: Invalid head name: IMDC_MultiClass\n",
      "Using Neptune\n"
     ]
    },
    {
     "data": {
      "application/vnd.jupyter.widget-view+json": {
       "model_id": "443d532116ad42cf8f82c298d7c37530",
       "version_major": 2,
       "version_minor": 0
      },
      "text/plain": [
       "Fetching file...: 0 [00:00, ?/s]"
      ]
     },
     "metadata": {},
     "output_type": "display_data"
    },
    {
     "name": "stdout",
     "output_type": "stream",
     "text": [
      "Warning: training is not a valid argument for VAE\n",
      "Warning: goal is not a valid argument for VAE\n",
      "Warning: kind is not a valid argument for VAE\n",
      "Warning: file_id is not a valid argument for VAE\n",
      "Warning: kl_weight is not a valid argument for VAE\n",
      "Error: Invalid head name: NIVO OS\n",
      "Error: Invalid head name: NIVO OS\n",
      "Error: Invalid head name: NIVO OS\n",
      "Error: Invalid head name: IMDC\n",
      "Error: Invalid head name: IMDC_Ordinal\n",
      "Error: Invalid head name: IMDC_MultiClass\n",
      "Error: Invalid head name: NIVO OS\n",
      "Error: Invalid head name: NIVO OS\n",
      "Error: Invalid head name: NIVO OS\n",
      "Error: Invalid head name: IMDC\n",
      "Error: Invalid head name: IMDC_Ordinal\n",
      "Error: Invalid head name: IMDC_MultiClass\n",
      "Using Neptune\n"
     ]
    },
    {
     "data": {
      "application/vnd.jupyter.widget-view+json": {
       "model_id": "519993cb6fcb47df9d3a557e0347a09d",
       "version_major": 2,
       "version_minor": 0
      },
      "text/plain": [
       "Fetching file...: 0 [00:00, ?/s]"
      ]
     },
     "metadata": {},
     "output_type": "display_data"
    },
    {
     "name": "stdout",
     "output_type": "stream",
     "text": [
      "Warning: training is not a valid argument for VAE\n",
      "Warning: goal is not a valid argument for VAE\n",
      "Warning: kind is not a valid argument for VAE\n",
      "Warning: file_id is not a valid argument for VAE\n",
      "Warning: kl_weight is not a valid argument for VAE\n",
      "Error: Invalid head name: NIVO OS\n",
      "Error: Invalid head name: NIVO OS\n",
      "Error: Invalid head name: NIVO OS\n",
      "Error: Invalid head name: IMDC\n",
      "Error: Invalid head name: IMDC_Ordinal\n",
      "Error: Invalid head name: IMDC_MultiClass\n",
      "Error: Invalid head name: NIVO OS\n",
      "Error: Invalid head name: NIVO OS\n",
      "Error: Invalid head name: NIVO OS\n",
      "Error: Invalid head name: IMDC\n",
      "Error: Invalid head name: IMDC_Ordinal\n",
      "Error: Invalid head name: IMDC_MultiClass\n",
      "Using Neptune\n"
     ]
    },
    {
     "data": {
      "application/vnd.jupyter.widget-view+json": {
       "model_id": "bb9573ea0c2e4a18ad62b108865be85d",
       "version_major": 2,
       "version_minor": 0
      },
      "text/plain": [
       "Fetching file...: 0 [00:00, ?/s]"
      ]
     },
     "metadata": {},
     "output_type": "display_data"
    },
    {
     "name": "stdout",
     "output_type": "stream",
     "text": [
      "Warning: training is not a valid argument for VAE\n",
      "Warning: goal is not a valid argument for VAE\n",
      "Warning: kind is not a valid argument for VAE\n",
      "Warning: file_id is not a valid argument for VAE\n",
      "Warning: kl_weight is not a valid argument for VAE\n",
      "Error: Invalid head name: NIVO OS\n",
      "Error: Invalid head name: NIVO OS\n",
      "Error: Invalid head name: NIVO OS\n",
      "Error: Invalid head name: IMDC\n",
      "Error: Invalid head name: IMDC_Ordinal\n",
      "Error: Invalid head name: IMDC_MultiClass\n",
      "Error: Invalid head name: NIVO OS\n",
      "Error: Invalid head name: NIVO OS\n",
      "Error: Invalid head name: NIVO OS\n",
      "Error: Invalid head name: IMDC\n",
      "Error: Invalid head name: IMDC_Ordinal\n",
      "Error: Invalid head name: IMDC_MultiClass\n",
      "Using Neptune\n"
     ]
    },
    {
     "data": {
      "application/vnd.jupyter.widget-view+json": {
       "model_id": "99557384ecd8418a9898f41693ee1170",
       "version_major": 2,
       "version_minor": 0
      },
      "text/plain": [
       "Fetching file...: 0 [00:00, ?/s]"
      ]
     },
     "metadata": {},
     "output_type": "display_data"
    },
    {
     "name": "stdout",
     "output_type": "stream",
     "text": [
      "Warning: training is not a valid argument for VAE\n",
      "Warning: goal is not a valid argument for VAE\n",
      "Warning: kind is not a valid argument for VAE\n",
      "Warning: file_id is not a valid argument for VAE\n",
      "Warning: kl_weight is not a valid argument for VAE\n",
      "Error: Invalid head name: NIVO OS\n",
      "Error: Invalid head name: NIVO OS\n",
      "Error: Invalid head name: NIVO OS\n",
      "Error: Invalid head name: IMDC\n",
      "Error: Invalid head name: IMDC_Ordinal\n",
      "Error: Invalid head name: IMDC_MultiClass\n",
      "Error: Invalid head name: NIVO OS\n",
      "Error: Invalid head name: NIVO OS\n",
      "Error: Invalid head name: NIVO OS\n",
      "Error: Invalid head name: IMDC\n",
      "Error: Invalid head name: IMDC_Ordinal\n",
      "Error: Invalid head name: IMDC_MultiClass\n",
      "[neptune] [info   ] Shutting down background jobs, please wait a moment...\n",
      "[neptune] [info   ] Done!\n",
      "[neptune] [info   ] Waiting for the remaining 3 operations to synchronize with Neptune. Do not kill this process.\n",
      "[neptune] [info   ] All 3 operations synced, thanks for waiting!\n",
      "[neptune] [info   ] Explore the metadata in the Neptune app: https://app.neptune.ai/revivemed/Survival-RCC/e/SUR-2815/metadata\n",
      "Getting the latest dataset\n",
      "[neptune] [info   ] Neptune initialized. Open in the app: https://app.neptune.ai/revivemed/Survival-RCC/\n",
      "[neptune] [info   ] Shutting down background jobs, please wait a moment...\n",
      "[neptune] [info   ] Done!\n",
      "[neptune] [info   ] All 0 operations synced, thanks for waiting!\n",
      "[neptune] [info   ] Explore the metadata in the Neptune app: https://app.neptune.ai/revivemed/Survival-RCC/metadata\n",
      "[neptune] [info   ] Neptune initialized. Open in the app: https://app.neptune.ai/revivemed/Survival-RCC/e/SUR-2814\n",
      "eval_params_list [{'y_col_name': 'NIVO OS', 'y_head': 'EVER OS', 'y_cols': ['NIVO OS', 'OS_Event']}, {'y_col_name': 'EVER OS', 'y_head': 'EVER OS', 'y_cols': ['EVER OS', 'OS_Event']}, {'y_col_name': 'Both OS', 'y_head': 'EVER OS', 'y_cols': ['OS', 'OS_Event']}]\n",
      "Using Neptune\n"
     ]
    },
    {
     "data": {
      "application/vnd.jupyter.widget-view+json": {
       "model_id": "3726677ff77e43338276f43b3df84b00",
       "version_major": 2,
       "version_minor": 0
      },
      "text/plain": [
       "Fetching file...: 0 [00:00, ?/s]"
      ]
     },
     "metadata": {},
     "output_type": "display_data"
    },
    {
     "name": "stdout",
     "output_type": "stream",
     "text": [
      "Warning: training is not a valid argument for VAE\n",
      "Warning: goal is not a valid argument for VAE\n",
      "Warning: kind is not a valid argument for VAE\n",
      "Warning: file_id is not a valid argument for VAE\n",
      "Warning: kl_weight is not a valid argument for VAE\n",
      "Error: Invalid head name: EVER OS\n",
      "Error: Invalid head name: EVER OS\n",
      "Error: Invalid head name: EVER OS\n",
      "Error: Invalid head name: EVER OS\n",
      "Error: Invalid head name: EVER OS\n",
      "Error: Invalid head name: EVER OS\n",
      "Using Neptune\n"
     ]
    },
    {
     "data": {
      "application/vnd.jupyter.widget-view+json": {
       "model_id": "6fa0f640d5984c20bea39fbea6e86d9c",
       "version_major": 2,
       "version_minor": 0
      },
      "text/plain": [
       "Fetching file...: 0 [00:00, ?/s]"
      ]
     },
     "metadata": {},
     "output_type": "display_data"
    },
    {
     "name": "stdout",
     "output_type": "stream",
     "text": [
      "Warning: training is not a valid argument for VAE\n",
      "Warning: goal is not a valid argument for VAE\n",
      "Warning: kind is not a valid argument for VAE\n",
      "Warning: file_id is not a valid argument for VAE\n",
      "Warning: kl_weight is not a valid argument for VAE\n",
      "Error: Invalid head name: EVER OS\n",
      "Error: Invalid head name: EVER OS\n",
      "Error: Invalid head name: EVER OS\n",
      "Error: Invalid head name: EVER OS\n",
      "Error: Invalid head name: EVER OS\n",
      "Error: Invalid head name: EVER OS\n",
      "Using Neptune\n"
     ]
    },
    {
     "data": {
      "application/vnd.jupyter.widget-view+json": {
       "model_id": "ea0ecd857b584e3999b5f54238be21bd",
       "version_major": 2,
       "version_minor": 0
      },
      "text/plain": [
       "Fetching file...: 0 [00:00, ?/s]"
      ]
     },
     "metadata": {},
     "output_type": "display_data"
    },
    {
     "name": "stdout",
     "output_type": "stream",
     "text": [
      "Warning: training is not a valid argument for VAE\n",
      "Warning: goal is not a valid argument for VAE\n",
      "Warning: kind is not a valid argument for VAE\n",
      "Warning: file_id is not a valid argument for VAE\n",
      "Warning: kl_weight is not a valid argument for VAE\n",
      "Error: Invalid head name: EVER OS\n",
      "Error: Invalid head name: EVER OS\n",
      "Error: Invalid head name: EVER OS\n",
      "Error: Invalid head name: EVER OS\n",
      "Error: Invalid head name: EVER OS\n",
      "Error: Invalid head name: EVER OS\n",
      "Using Neptune\n"
     ]
    },
    {
     "data": {
      "application/vnd.jupyter.widget-view+json": {
       "model_id": "6fa224cb3476407a93b0b756e1a1a577",
       "version_major": 2,
       "version_minor": 0
      },
      "text/plain": [
       "Fetching file...: 0 [00:00, ?/s]"
      ]
     },
     "metadata": {},
     "output_type": "display_data"
    },
    {
     "name": "stdout",
     "output_type": "stream",
     "text": [
      "Warning: training is not a valid argument for VAE\n",
      "Warning: goal is not a valid argument for VAE\n",
      "Warning: kind is not a valid argument for VAE\n",
      "Warning: file_id is not a valid argument for VAE\n",
      "Warning: kl_weight is not a valid argument for VAE\n",
      "Error: Invalid head name: EVER OS\n",
      "Error: Invalid head name: EVER OS\n",
      "Error: Invalid head name: EVER OS\n",
      "Error: Invalid head name: EVER OS\n",
      "Error: Invalid head name: EVER OS\n",
      "Error: Invalid head name: EVER OS\n",
      "Using Neptune\n"
     ]
    },
    {
     "data": {
      "application/vnd.jupyter.widget-view+json": {
       "model_id": "6f36a163473d422ebf2fc18e0b69e0b9",
       "version_major": 2,
       "version_minor": 0
      },
      "text/plain": [
       "Fetching file...: 0 [00:00, ?/s]"
      ]
     },
     "metadata": {},
     "output_type": "display_data"
    },
    {
     "name": "stdout",
     "output_type": "stream",
     "text": [
      "Warning: training is not a valid argument for VAE\n",
      "Warning: goal is not a valid argument for VAE\n",
      "Warning: kind is not a valid argument for VAE\n",
      "Warning: file_id is not a valid argument for VAE\n",
      "Warning: kl_weight is not a valid argument for VAE\n",
      "Error: Invalid head name: EVER OS\n",
      "Error: Invalid head name: EVER OS\n",
      "Error: Invalid head name: EVER OS\n",
      "Error: Invalid head name: EVER OS\n",
      "Error: Invalid head name: EVER OS\n",
      "Error: Invalid head name: EVER OS\n",
      "Using Neptune\n"
     ]
    },
    {
     "data": {
      "application/vnd.jupyter.widget-view+json": {
       "model_id": "98ffa153520a47da81c634fdd027bb37",
       "version_major": 2,
       "version_minor": 0
      },
      "text/plain": [
       "Fetching file...: 0 [00:00, ?/s]"
      ]
     },
     "metadata": {},
     "output_type": "display_data"
    },
    {
     "name": "stdout",
     "output_type": "stream",
     "text": [
      "Warning: training is not a valid argument for VAE\n",
      "Warning: goal is not a valid argument for VAE\n",
      "Warning: kind is not a valid argument for VAE\n",
      "Warning: file_id is not a valid argument for VAE\n",
      "Warning: kl_weight is not a valid argument for VAE\n",
      "Error: Invalid head name: EVER OS\n",
      "Error: Invalid head name: EVER OS\n",
      "Error: Invalid head name: EVER OS\n",
      "Error: Invalid head name: EVER OS\n",
      "Error: Invalid head name: EVER OS\n",
      "Error: Invalid head name: EVER OS\n",
      "Using Neptune\n"
     ]
    },
    {
     "data": {
      "application/vnd.jupyter.widget-view+json": {
       "model_id": "75150592f17d499da39cae81635e78c1",
       "version_major": 2,
       "version_minor": 0
      },
      "text/plain": [
       "Fetching file...: 0 [00:00, ?/s]"
      ]
     },
     "metadata": {},
     "output_type": "display_data"
    },
    {
     "name": "stdout",
     "output_type": "stream",
     "text": [
      "Warning: training is not a valid argument for VAE\n",
      "Warning: goal is not a valid argument for VAE\n",
      "Warning: kind is not a valid argument for VAE\n",
      "Warning: file_id is not a valid argument for VAE\n",
      "Warning: kl_weight is not a valid argument for VAE\n",
      "Error: Invalid head name: EVER OS\n",
      "Error: Invalid head name: EVER OS\n",
      "Error: Invalid head name: EVER OS\n",
      "Error: Invalid head name: EVER OS\n",
      "Error: Invalid head name: EVER OS\n",
      "Error: Invalid head name: EVER OS\n",
      "Using Neptune\n"
     ]
    },
    {
     "data": {
      "application/vnd.jupyter.widget-view+json": {
       "model_id": "97837e170752463697e3c75db12d6e1f",
       "version_major": 2,
       "version_minor": 0
      },
      "text/plain": [
       "Fetching file...: 0 [00:00, ?/s]"
      ]
     },
     "metadata": {},
     "output_type": "display_data"
    },
    {
     "name": "stdout",
     "output_type": "stream",
     "text": [
      "Warning: training is not a valid argument for VAE\n",
      "Warning: goal is not a valid argument for VAE\n",
      "Warning: kind is not a valid argument for VAE\n",
      "Warning: file_id is not a valid argument for VAE\n",
      "Warning: kl_weight is not a valid argument for VAE\n",
      "Error: Invalid head name: EVER OS\n",
      "Error: Invalid head name: EVER OS\n",
      "Error: Invalid head name: EVER OS\n",
      "Error: Invalid head name: EVER OS\n",
      "Error: Invalid head name: EVER OS\n",
      "Error: Invalid head name: EVER OS\n",
      "Using Neptune\n"
     ]
    },
    {
     "data": {
      "application/vnd.jupyter.widget-view+json": {
       "model_id": "bb703f318f794f23a3755ab491468112",
       "version_major": 2,
       "version_minor": 0
      },
      "text/plain": [
       "Fetching file...: 0 [00:00, ?/s]"
      ]
     },
     "metadata": {},
     "output_type": "display_data"
    },
    {
     "name": "stdout",
     "output_type": "stream",
     "text": [
      "Warning: training is not a valid argument for VAE\n",
      "Warning: goal is not a valid argument for VAE\n",
      "Warning: kind is not a valid argument for VAE\n",
      "Warning: file_id is not a valid argument for VAE\n",
      "Warning: kl_weight is not a valid argument for VAE\n",
      "Error: Invalid head name: EVER OS\n",
      "Error: Invalid head name: EVER OS\n",
      "Error: Invalid head name: EVER OS\n",
      "Error: Invalid head name: EVER OS\n",
      "Error: Invalid head name: EVER OS\n",
      "Error: Invalid head name: EVER OS\n",
      "Using Neptune\n"
     ]
    },
    {
     "data": {
      "application/vnd.jupyter.widget-view+json": {
       "model_id": "581cd5244b2540df95c2a3148615b0ab",
       "version_major": 2,
       "version_minor": 0
      },
      "text/plain": [
       "Fetching file...: 0 [00:00, ?/s]"
      ]
     },
     "metadata": {},
     "output_type": "display_data"
    },
    {
     "name": "stdout",
     "output_type": "stream",
     "text": [
      "Warning: training is not a valid argument for VAE\n",
      "Warning: goal is not a valid argument for VAE\n",
      "Warning: kind is not a valid argument for VAE\n",
      "Warning: file_id is not a valid argument for VAE\n",
      "Warning: kl_weight is not a valid argument for VAE\n",
      "Error: Invalid head name: EVER OS\n",
      "Error: Invalid head name: EVER OS\n",
      "Error: Invalid head name: EVER OS\n",
      "Error: Invalid head name: EVER OS\n",
      "Error: Invalid head name: EVER OS\n",
      "Error: Invalid head name: EVER OS\n",
      "Using Neptune\n"
     ]
    },
    {
     "data": {
      "application/vnd.jupyter.widget-view+json": {
       "model_id": "39d77e62f99844e2ba83fe53ff4a84bd",
       "version_major": 2,
       "version_minor": 0
      },
      "text/plain": [
       "Fetching file...: 0 [00:00, ?/s]"
      ]
     },
     "metadata": {},
     "output_type": "display_data"
    },
    {
     "name": "stdout",
     "output_type": "stream",
     "text": [
      "Warning: training is not a valid argument for VAE\n",
      "Warning: goal is not a valid argument for VAE\n",
      "Warning: kind is not a valid argument for VAE\n",
      "Warning: file_id is not a valid argument for VAE\n",
      "Warning: kl_weight is not a valid argument for VAE\n",
      "Error: Invalid head name: EVER OS\n",
      "Error: Invalid head name: EVER OS\n",
      "Error: Invalid head name: EVER OS\n",
      "Error: Invalid head name: EVER OS\n",
      "Error: Invalid head name: EVER OS\n",
      "Error: Invalid head name: EVER OS\n",
      "Using Neptune\n"
     ]
    },
    {
     "data": {
      "application/vnd.jupyter.widget-view+json": {
       "model_id": "6ae0d999d67d4aad9fbf965bb07af1e7",
       "version_major": 2,
       "version_minor": 0
      },
      "text/plain": [
       "Fetching file...: 0 [00:00, ?/s]"
      ]
     },
     "metadata": {},
     "output_type": "display_data"
    },
    {
     "name": "stdout",
     "output_type": "stream",
     "text": [
      "Warning: training is not a valid argument for VAE\n",
      "Warning: goal is not a valid argument for VAE\n",
      "Warning: kind is not a valid argument for VAE\n",
      "Warning: file_id is not a valid argument for VAE\n",
      "Warning: kl_weight is not a valid argument for VAE\n",
      "Error: Invalid head name: EVER OS\n",
      "Error: Invalid head name: EVER OS\n",
      "Error: Invalid head name: EVER OS\n",
      "Error: Invalid head name: EVER OS\n",
      "Error: Invalid head name: EVER OS\n",
      "Error: Invalid head name: EVER OS\n",
      "Using Neptune\n"
     ]
    },
    {
     "data": {
      "application/vnd.jupyter.widget-view+json": {
       "model_id": "ee5adc8bfaf84ee58b61e01f5fcf911e",
       "version_major": 2,
       "version_minor": 0
      },
      "text/plain": [
       "Fetching file...: 0 [00:00, ?/s]"
      ]
     },
     "metadata": {},
     "output_type": "display_data"
    },
    {
     "name": "stdout",
     "output_type": "stream",
     "text": [
      "Warning: training is not a valid argument for VAE\n",
      "Warning: goal is not a valid argument for VAE\n",
      "Warning: kind is not a valid argument for VAE\n",
      "Warning: file_id is not a valid argument for VAE\n",
      "Warning: kl_weight is not a valid argument for VAE\n",
      "Error: Invalid head name: EVER OS\n",
      "Error: Invalid head name: EVER OS\n",
      "Error: Invalid head name: EVER OS\n",
      "Error: Invalid head name: EVER OS\n",
      "Error: Invalid head name: EVER OS\n",
      "Error: Invalid head name: EVER OS\n",
      "Using Neptune\n"
     ]
    },
    {
     "data": {
      "application/vnd.jupyter.widget-view+json": {
       "model_id": "4b4e6970e84b40e0bebb996b15506be4",
       "version_major": 2,
       "version_minor": 0
      },
      "text/plain": [
       "Fetching file...: 0 [00:00, ?/s]"
      ]
     },
     "metadata": {},
     "output_type": "display_data"
    },
    {
     "name": "stdout",
     "output_type": "stream",
     "text": [
      "Warning: training is not a valid argument for VAE\n",
      "Warning: goal is not a valid argument for VAE\n",
      "Warning: kind is not a valid argument for VAE\n",
      "Warning: file_id is not a valid argument for VAE\n",
      "Warning: kl_weight is not a valid argument for VAE\n",
      "Error: Invalid head name: EVER OS\n",
      "Error: Invalid head name: EVER OS\n",
      "Error: Invalid head name: EVER OS\n",
      "Error: Invalid head name: EVER OS\n",
      "Error: Invalid head name: EVER OS\n",
      "Error: Invalid head name: EVER OS\n",
      "Using Neptune\n"
     ]
    },
    {
     "data": {
      "application/vnd.jupyter.widget-view+json": {
       "model_id": "dad04dd422444d458c4094d243e0626b",
       "version_major": 2,
       "version_minor": 0
      },
      "text/plain": [
       "Fetching file...: 0 [00:00, ?/s]"
      ]
     },
     "metadata": {},
     "output_type": "display_data"
    },
    {
     "name": "stdout",
     "output_type": "stream",
     "text": [
      "Warning: training is not a valid argument for VAE\n",
      "Warning: goal is not a valid argument for VAE\n",
      "Warning: kind is not a valid argument for VAE\n",
      "Warning: file_id is not a valid argument for VAE\n",
      "Warning: kl_weight is not a valid argument for VAE\n",
      "Error: Invalid head name: EVER OS\n",
      "Error: Invalid head name: EVER OS\n",
      "Error: Invalid head name: EVER OS\n",
      "Error: Invalid head name: EVER OS\n",
      "Error: Invalid head name: EVER OS\n",
      "Error: Invalid head name: EVER OS\n",
      "Using Neptune\n"
     ]
    },
    {
     "data": {
      "application/vnd.jupyter.widget-view+json": {
       "model_id": "e5a11fa161f24b09894ae0278be47dea",
       "version_major": 2,
       "version_minor": 0
      },
      "text/plain": [
       "Fetching file...: 0 [00:00, ?/s]"
      ]
     },
     "metadata": {},
     "output_type": "display_data"
    },
    {
     "name": "stdout",
     "output_type": "stream",
     "text": [
      "Warning: training is not a valid argument for VAE\n",
      "Warning: goal is not a valid argument for VAE\n",
      "Warning: kind is not a valid argument for VAE\n",
      "Warning: file_id is not a valid argument for VAE\n",
      "Warning: kl_weight is not a valid argument for VAE\n",
      "Error: Invalid head name: EVER OS\n",
      "Error: Invalid head name: EVER OS\n",
      "Error: Invalid head name: EVER OS\n",
      "Error: Invalid head name: EVER OS\n",
      "Error: Invalid head name: EVER OS\n",
      "Error: Invalid head name: EVER OS\n",
      "Using Neptune\n"
     ]
    },
    {
     "data": {
      "application/vnd.jupyter.widget-view+json": {
       "model_id": "091c32b87dc94628a40c0888165d9068",
       "version_major": 2,
       "version_minor": 0
      },
      "text/plain": [
       "Fetching file...: 0 [00:00, ?/s]"
      ]
     },
     "metadata": {},
     "output_type": "display_data"
    },
    {
     "name": "stdout",
     "output_type": "stream",
     "text": [
      "Warning: training is not a valid argument for VAE\n",
      "Warning: goal is not a valid argument for VAE\n",
      "Warning: kind is not a valid argument for VAE\n",
      "Warning: file_id is not a valid argument for VAE\n",
      "Warning: kl_weight is not a valid argument for VAE\n",
      "Error: Invalid head name: EVER OS\n",
      "Error: Invalid head name: EVER OS\n",
      "Error: Invalid head name: EVER OS\n",
      "Error: Invalid head name: EVER OS\n",
      "Error: Invalid head name: EVER OS\n",
      "Error: Invalid head name: EVER OS\n",
      "Using Neptune\n"
     ]
    },
    {
     "data": {
      "application/vnd.jupyter.widget-view+json": {
       "model_id": "57cefd8139d84a4eaf97d9469fdd59bc",
       "version_major": 2,
       "version_minor": 0
      },
      "text/plain": [
       "Fetching file...: 0 [00:00, ?/s]"
      ]
     },
     "metadata": {},
     "output_type": "display_data"
    },
    {
     "name": "stdout",
     "output_type": "stream",
     "text": [
      "Warning: training is not a valid argument for VAE\n",
      "Warning: goal is not a valid argument for VAE\n",
      "Warning: kind is not a valid argument for VAE\n",
      "Warning: file_id is not a valid argument for VAE\n",
      "Warning: kl_weight is not a valid argument for VAE\n",
      "Error: Invalid head name: EVER OS\n",
      "Error: Invalid head name: EVER OS\n",
      "Error: Invalid head name: EVER OS\n",
      "Error: Invalid head name: EVER OS\n",
      "Error: Invalid head name: EVER OS\n",
      "Error: Invalid head name: EVER OS\n",
      "Using Neptune\n"
     ]
    },
    {
     "data": {
      "application/vnd.jupyter.widget-view+json": {
       "model_id": "312d4ca590374fc698ba022a8011691f",
       "version_major": 2,
       "version_minor": 0
      },
      "text/plain": [
       "Fetching file...: 0 [00:00, ?/s]"
      ]
     },
     "metadata": {},
     "output_type": "display_data"
    },
    {
     "name": "stdout",
     "output_type": "stream",
     "text": [
      "Warning: training is not a valid argument for VAE\n",
      "Warning: goal is not a valid argument for VAE\n",
      "Warning: kind is not a valid argument for VAE\n",
      "Warning: file_id is not a valid argument for VAE\n",
      "Warning: kl_weight is not a valid argument for VAE\n",
      "Error: Invalid head name: EVER OS\n",
      "Error: Invalid head name: EVER OS\n",
      "Error: Invalid head name: EVER OS\n",
      "Error: Invalid head name: EVER OS\n",
      "Error: Invalid head name: EVER OS\n",
      "Error: Invalid head name: EVER OS\n",
      "Using Neptune\n"
     ]
    },
    {
     "data": {
      "application/vnd.jupyter.widget-view+json": {
       "model_id": "bbadb3f5aebc4b77b3a1a09fe3451845",
       "version_major": 2,
       "version_minor": 0
      },
      "text/plain": [
       "Fetching file...: 0 [00:00, ?/s]"
      ]
     },
     "metadata": {},
     "output_type": "display_data"
    },
    {
     "name": "stdout",
     "output_type": "stream",
     "text": [
      "Warning: training is not a valid argument for VAE\n",
      "Warning: goal is not a valid argument for VAE\n",
      "Warning: kind is not a valid argument for VAE\n",
      "Warning: file_id is not a valid argument for VAE\n",
      "Warning: kl_weight is not a valid argument for VAE\n",
      "Error: Invalid head name: EVER OS\n",
      "Error: Invalid head name: EVER OS\n",
      "Error: Invalid head name: EVER OS\n",
      "Error: Invalid head name: EVER OS\n",
      "Error: Invalid head name: EVER OS\n",
      "Error: Invalid head name: EVER OS\n",
      "[neptune] [info   ] Shutting down background jobs, please wait a moment...\n",
      "[neptune] [info   ] Done!\n",
      "[neptune] [info   ] Waiting for the remaining 3 operations to synchronize with Neptune. Do not kill this process.\n",
      "[neptune] [info   ] All 3 operations synced, thanks for waiting!\n",
      "[neptune] [info   ] Explore the metadata in the Neptune app: https://app.neptune.ai/revivemed/Survival-RCC/e/SUR-2814/metadata\n",
      "Getting the latest dataset\n",
      "[neptune] [info   ] Neptune initialized. Open in the app: https://app.neptune.ai/revivemed/Survival-RCC/\n",
      "[neptune] [info   ] Shutting down background jobs, please wait a moment...\n",
      "[neptune] [info   ] Done!\n",
      "[neptune] [info   ] All 0 operations synced, thanks for waiting!\n",
      "[neptune] [info   ] Explore the metadata in the Neptune app: https://app.neptune.ai/revivemed/Survival-RCC/metadata\n",
      "[neptune] [info   ] Neptune initialized. Open in the app: https://app.neptune.ai/revivemed/Survival-RCC/e/SUR-2813\n",
      "eval_params_list [{'y_col_name': 'NIVO OS', 'y_head': 'EVER OS', 'y_cols': ['NIVO OS', 'OS_Event']}, {'y_col_name': 'EVER OS', 'y_head': 'EVER OS', 'y_cols': ['EVER OS', 'OS_Event']}, {'y_col_name': 'Both OS', 'y_head': 'EVER OS', 'y_cols': ['OS', 'OS_Event']}]\n",
      "Using Neptune\n"
     ]
    },
    {
     "data": {
      "application/vnd.jupyter.widget-view+json": {
       "model_id": "4eaa35997a4b454c8e869079f7809ece",
       "version_major": 2,
       "version_minor": 0
      },
      "text/plain": [
       "Fetching file...: 0 [00:00, ?/s]"
      ]
     },
     "metadata": {},
     "output_type": "display_data"
    },
    {
     "name": "stdout",
     "output_type": "stream",
     "text": [
      "Warning: training is not a valid argument for VAE\n",
      "Warning: goal is not a valid argument for VAE\n",
      "Warning: kind is not a valid argument for VAE\n",
      "Warning: file_id is not a valid argument for VAE\n",
      "Warning: kl_weight is not a valid argument for VAE\n",
      "Error: Invalid head name: EVER OS\n",
      "Error: Invalid head name: EVER OS\n",
      "Error: Invalid head name: EVER OS\n",
      "Error: Invalid head name: EVER OS\n",
      "Error: Invalid head name: EVER OS\n",
      "Error: Invalid head name: EVER OS\n",
      "Using Neptune\n"
     ]
    },
    {
     "data": {
      "application/vnd.jupyter.widget-view+json": {
       "model_id": "55fff8e532274aed8b0093dc5702b131",
       "version_major": 2,
       "version_minor": 0
      },
      "text/plain": [
       "Fetching file...: 0 [00:00, ?/s]"
      ]
     },
     "metadata": {},
     "output_type": "display_data"
    },
    {
     "name": "stdout",
     "output_type": "stream",
     "text": [
      "Warning: training is not a valid argument for VAE\n",
      "Warning: goal is not a valid argument for VAE\n",
      "Warning: kind is not a valid argument for VAE\n",
      "Warning: file_id is not a valid argument for VAE\n",
      "Warning: kl_weight is not a valid argument for VAE\n",
      "Error: Invalid head name: EVER OS\n",
      "Error: Invalid head name: EVER OS\n",
      "Error: Invalid head name: EVER OS\n",
      "Error: Invalid head name: EVER OS\n",
      "Error: Invalid head name: EVER OS\n",
      "Error: Invalid head name: EVER OS\n",
      "Using Neptune\n"
     ]
    },
    {
     "data": {
      "application/vnd.jupyter.widget-view+json": {
       "model_id": "f5976faa9053400c86c2985312c87d75",
       "version_major": 2,
       "version_minor": 0
      },
      "text/plain": [
       "Fetching file...: 0 [00:00, ?/s]"
      ]
     },
     "metadata": {},
     "output_type": "display_data"
    },
    {
     "name": "stdout",
     "output_type": "stream",
     "text": [
      "Warning: training is not a valid argument for VAE\n",
      "Warning: goal is not a valid argument for VAE\n",
      "Warning: kind is not a valid argument for VAE\n",
      "Warning: file_id is not a valid argument for VAE\n",
      "Warning: kl_weight is not a valid argument for VAE\n",
      "Error: Invalid head name: EVER OS\n",
      "Error: Invalid head name: EVER OS\n",
      "Error: Invalid head name: EVER OS\n",
      "Error: Invalid head name: EVER OS\n",
      "Error: Invalid head name: EVER OS\n",
      "Error: Invalid head name: EVER OS\n",
      "Using Neptune\n"
     ]
    },
    {
     "data": {
      "application/vnd.jupyter.widget-view+json": {
       "model_id": "0b7fff0b4b18474ba286179247203a81",
       "version_major": 2,
       "version_minor": 0
      },
      "text/plain": [
       "Fetching file...: 0 [00:00, ?/s]"
      ]
     },
     "metadata": {},
     "output_type": "display_data"
    },
    {
     "name": "stdout",
     "output_type": "stream",
     "text": [
      "Warning: training is not a valid argument for VAE\n",
      "Warning: goal is not a valid argument for VAE\n",
      "Warning: kind is not a valid argument for VAE\n",
      "Warning: file_id is not a valid argument for VAE\n",
      "Warning: kl_weight is not a valid argument for VAE\n",
      "Error: Invalid head name: EVER OS\n",
      "Error: Invalid head name: EVER OS\n",
      "Error: Invalid head name: EVER OS\n",
      "Error: Invalid head name: EVER OS\n",
      "Error: Invalid head name: EVER OS\n",
      "Error: Invalid head name: EVER OS\n",
      "Using Neptune\n"
     ]
    },
    {
     "data": {
      "application/vnd.jupyter.widget-view+json": {
       "model_id": "0642381f79e1481f8d12bfa7467e8863",
       "version_major": 2,
       "version_minor": 0
      },
      "text/plain": [
       "Fetching file...: 0 [00:00, ?/s]"
      ]
     },
     "metadata": {},
     "output_type": "display_data"
    },
    {
     "name": "stdout",
     "output_type": "stream",
     "text": [
      "Warning: training is not a valid argument for VAE\n",
      "Warning: goal is not a valid argument for VAE\n",
      "Warning: kind is not a valid argument for VAE\n",
      "Warning: file_id is not a valid argument for VAE\n",
      "Warning: kl_weight is not a valid argument for VAE\n",
      "Error: Invalid head name: EVER OS\n",
      "Error: Invalid head name: EVER OS\n",
      "Error: Invalid head name: EVER OS\n",
      "Error: Invalid head name: EVER OS\n",
      "Error: Invalid head name: EVER OS\n",
      "Error: Invalid head name: EVER OS\n",
      "Using Neptune\n"
     ]
    },
    {
     "data": {
      "application/vnd.jupyter.widget-view+json": {
       "model_id": "6e9c0391fdaa42c886e13964fb9b36ec",
       "version_major": 2,
       "version_minor": 0
      },
      "text/plain": [
       "Fetching file...: 0 [00:00, ?/s]"
      ]
     },
     "metadata": {},
     "output_type": "display_data"
    },
    {
     "name": "stdout",
     "output_type": "stream",
     "text": [
      "Warning: training is not a valid argument for VAE\n",
      "Warning: goal is not a valid argument for VAE\n",
      "Warning: kind is not a valid argument for VAE\n",
      "Warning: file_id is not a valid argument for VAE\n",
      "Warning: kl_weight is not a valid argument for VAE\n",
      "Error: Invalid head name: EVER OS\n",
      "Error: Invalid head name: EVER OS\n",
      "Error: Invalid head name: EVER OS\n",
      "Error: Invalid head name: EVER OS\n",
      "Error: Invalid head name: EVER OS\n",
      "Error: Invalid head name: EVER OS\n",
      "Using Neptune\n"
     ]
    },
    {
     "data": {
      "application/vnd.jupyter.widget-view+json": {
       "model_id": "a3459c1a41904b2bacb6a8f7af9d04f4",
       "version_major": 2,
       "version_minor": 0
      },
      "text/plain": [
       "Fetching file...: 0 [00:00, ?/s]"
      ]
     },
     "metadata": {},
     "output_type": "display_data"
    },
    {
     "name": "stdout",
     "output_type": "stream",
     "text": [
      "Warning: training is not a valid argument for VAE\n",
      "Warning: goal is not a valid argument for VAE\n",
      "Warning: kind is not a valid argument for VAE\n",
      "Warning: file_id is not a valid argument for VAE\n",
      "Warning: kl_weight is not a valid argument for VAE\n",
      "Error: Invalid head name: EVER OS\n",
      "Error: Invalid head name: EVER OS\n",
      "Error: Invalid head name: EVER OS\n",
      "Error: Invalid head name: EVER OS\n",
      "Error: Invalid head name: EVER OS\n",
      "Error: Invalid head name: EVER OS\n",
      "Using Neptune\n"
     ]
    },
    {
     "data": {
      "application/vnd.jupyter.widget-view+json": {
       "model_id": "de1f8225760a4cda98be01dd343f7da8",
       "version_major": 2,
       "version_minor": 0
      },
      "text/plain": [
       "Fetching file...: 0 [00:00, ?/s]"
      ]
     },
     "metadata": {},
     "output_type": "display_data"
    },
    {
     "name": "stdout",
     "output_type": "stream",
     "text": [
      "Warning: training is not a valid argument for VAE\n",
      "Warning: goal is not a valid argument for VAE\n",
      "Warning: kind is not a valid argument for VAE\n",
      "Warning: file_id is not a valid argument for VAE\n",
      "Warning: kl_weight is not a valid argument for VAE\n",
      "Error: Invalid head name: EVER OS\n",
      "Error: Invalid head name: EVER OS\n",
      "Error: Invalid head name: EVER OS\n",
      "Error: Invalid head name: EVER OS\n",
      "Error: Invalid head name: EVER OS\n",
      "Error: Invalid head name: EVER OS\n",
      "Using Neptune\n"
     ]
    },
    {
     "data": {
      "application/vnd.jupyter.widget-view+json": {
       "model_id": "798da0b8ead24bf6a5d1f9fe69c194a0",
       "version_major": 2,
       "version_minor": 0
      },
      "text/plain": [
       "Fetching file...: 0 [00:00, ?/s]"
      ]
     },
     "metadata": {},
     "output_type": "display_data"
    },
    {
     "name": "stdout",
     "output_type": "stream",
     "text": [
      "Warning: training is not a valid argument for VAE\n",
      "Warning: goal is not a valid argument for VAE\n",
      "Warning: kind is not a valid argument for VAE\n",
      "Warning: file_id is not a valid argument for VAE\n",
      "Warning: kl_weight is not a valid argument for VAE\n",
      "Error: Invalid head name: EVER OS\n",
      "Error: Invalid head name: EVER OS\n",
      "Error: Invalid head name: EVER OS\n",
      "Error: Invalid head name: EVER OS\n",
      "Error: Invalid head name: EVER OS\n",
      "Error: Invalid head name: EVER OS\n",
      "Using Neptune\n"
     ]
    },
    {
     "data": {
      "application/vnd.jupyter.widget-view+json": {
       "model_id": "1ae827154140447dad183ffbbd362efe",
       "version_major": 2,
       "version_minor": 0
      },
      "text/plain": [
       "Fetching file...: 0 [00:00, ?/s]"
      ]
     },
     "metadata": {},
     "output_type": "display_data"
    },
    {
     "name": "stdout",
     "output_type": "stream",
     "text": [
      "Warning: training is not a valid argument for VAE\n",
      "Warning: goal is not a valid argument for VAE\n",
      "Warning: kind is not a valid argument for VAE\n",
      "Warning: file_id is not a valid argument for VAE\n",
      "Warning: kl_weight is not a valid argument for VAE\n",
      "Error: Invalid head name: EVER OS\n",
      "Error: Invalid head name: EVER OS\n",
      "Error: Invalid head name: EVER OS\n",
      "Error: Invalid head name: EVER OS\n",
      "Error: Invalid head name: EVER OS\n",
      "Error: Invalid head name: EVER OS\n",
      "Using Neptune\n"
     ]
    },
    {
     "data": {
      "application/vnd.jupyter.widget-view+json": {
       "model_id": "feacb173259549acabcf85df7b91fb64",
       "version_major": 2,
       "version_minor": 0
      },
      "text/plain": [
       "Fetching file...: 0 [00:00, ?/s]"
      ]
     },
     "metadata": {},
     "output_type": "display_data"
    },
    {
     "name": "stdout",
     "output_type": "stream",
     "text": [
      "Warning: training is not a valid argument for VAE\n",
      "Warning: goal is not a valid argument for VAE\n",
      "Warning: kind is not a valid argument for VAE\n",
      "Warning: file_id is not a valid argument for VAE\n",
      "Warning: kl_weight is not a valid argument for VAE\n",
      "Error: Invalid head name: EVER OS\n",
      "Error: Invalid head name: EVER OS\n",
      "Error: Invalid head name: EVER OS\n",
      "Error: Invalid head name: EVER OS\n",
      "Error: Invalid head name: EVER OS\n",
      "Error: Invalid head name: EVER OS\n",
      "Using Neptune\n"
     ]
    },
    {
     "data": {
      "application/vnd.jupyter.widget-view+json": {
       "model_id": "05f6b591cfe041fdbdb170bfafc70acf",
       "version_major": 2,
       "version_minor": 0
      },
      "text/plain": [
       "Fetching file...: 0 [00:00, ?/s]"
      ]
     },
     "metadata": {},
     "output_type": "display_data"
    },
    {
     "name": "stdout",
     "output_type": "stream",
     "text": [
      "Warning: training is not a valid argument for VAE\n",
      "Warning: goal is not a valid argument for VAE\n",
      "Warning: kind is not a valid argument for VAE\n",
      "Warning: file_id is not a valid argument for VAE\n",
      "Warning: kl_weight is not a valid argument for VAE\n",
      "Error: Invalid head name: EVER OS\n",
      "Error: Invalid head name: EVER OS\n",
      "Error: Invalid head name: EVER OS\n",
      "Error: Invalid head name: EVER OS\n",
      "Error: Invalid head name: EVER OS\n",
      "Error: Invalid head name: EVER OS\n",
      "Using Neptune\n"
     ]
    },
    {
     "data": {
      "application/vnd.jupyter.widget-view+json": {
       "model_id": "cb57b466df804c198b12b0c714f809ae",
       "version_major": 2,
       "version_minor": 0
      },
      "text/plain": [
       "Fetching file...: 0 [00:00, ?/s]"
      ]
     },
     "metadata": {},
     "output_type": "display_data"
    },
    {
     "name": "stdout",
     "output_type": "stream",
     "text": [
      "Warning: training is not a valid argument for VAE\n",
      "Warning: goal is not a valid argument for VAE\n",
      "Warning: kind is not a valid argument for VAE\n",
      "Warning: file_id is not a valid argument for VAE\n",
      "Warning: kl_weight is not a valid argument for VAE\n",
      "Error: Invalid head name: EVER OS\n",
      "Error: Invalid head name: EVER OS\n",
      "Error: Invalid head name: EVER OS\n",
      "Error: Invalid head name: EVER OS\n",
      "Error: Invalid head name: EVER OS\n",
      "Error: Invalid head name: EVER OS\n",
      "Using Neptune\n"
     ]
    },
    {
     "data": {
      "application/vnd.jupyter.widget-view+json": {
       "model_id": "7950b18b773d464d93db5686cb2f0bfd",
       "version_major": 2,
       "version_minor": 0
      },
      "text/plain": [
       "Fetching file...: 0 [00:00, ?/s]"
      ]
     },
     "metadata": {},
     "output_type": "display_data"
    },
    {
     "name": "stdout",
     "output_type": "stream",
     "text": [
      "Warning: training is not a valid argument for VAE\n",
      "Warning: goal is not a valid argument for VAE\n",
      "Warning: kind is not a valid argument for VAE\n",
      "Warning: file_id is not a valid argument for VAE\n",
      "Warning: kl_weight is not a valid argument for VAE\n",
      "Error: Invalid head name: EVER OS\n",
      "Error: Invalid head name: EVER OS\n",
      "Error: Invalid head name: EVER OS\n",
      "Error: Invalid head name: EVER OS\n",
      "Error: Invalid head name: EVER OS\n",
      "Error: Invalid head name: EVER OS\n",
      "Using Neptune\n"
     ]
    },
    {
     "data": {
      "application/vnd.jupyter.widget-view+json": {
       "model_id": "7598baf5aefd4f52b2ab3afd1cc6d033",
       "version_major": 2,
       "version_minor": 0
      },
      "text/plain": [
       "Fetching file...: 0 [00:00, ?/s]"
      ]
     },
     "metadata": {},
     "output_type": "display_data"
    },
    {
     "name": "stdout",
     "output_type": "stream",
     "text": [
      "Warning: training is not a valid argument for VAE\n",
      "Warning: goal is not a valid argument for VAE\n",
      "Warning: kind is not a valid argument for VAE\n",
      "Warning: file_id is not a valid argument for VAE\n",
      "Warning: kl_weight is not a valid argument for VAE\n",
      "Error: Invalid head name: EVER OS\n",
      "Error: Invalid head name: EVER OS\n",
      "Error: Invalid head name: EVER OS\n",
      "Error: Invalid head name: EVER OS\n",
      "Error: Invalid head name: EVER OS\n",
      "Error: Invalid head name: EVER OS\n",
      "Using Neptune\n"
     ]
    },
    {
     "data": {
      "application/vnd.jupyter.widget-view+json": {
       "model_id": "6fab8feafbe44d2595598cef8b24c679",
       "version_major": 2,
       "version_minor": 0
      },
      "text/plain": [
       "Fetching file...: 0 [00:00, ?/s]"
      ]
     },
     "metadata": {},
     "output_type": "display_data"
    },
    {
     "name": "stdout",
     "output_type": "stream",
     "text": [
      "Warning: training is not a valid argument for VAE\n",
      "Warning: goal is not a valid argument for VAE\n",
      "Warning: kind is not a valid argument for VAE\n",
      "Warning: file_id is not a valid argument for VAE\n",
      "Warning: kl_weight is not a valid argument for VAE\n",
      "Error: Invalid head name: EVER OS\n",
      "Error: Invalid head name: EVER OS\n",
      "Error: Invalid head name: EVER OS\n",
      "Error: Invalid head name: EVER OS\n",
      "Error: Invalid head name: EVER OS\n",
      "Error: Invalid head name: EVER OS\n",
      "Using Neptune\n"
     ]
    },
    {
     "data": {
      "application/vnd.jupyter.widget-view+json": {
       "model_id": "0409cb17216b47d1a87b0dbdd1dce0dc",
       "version_major": 2,
       "version_minor": 0
      },
      "text/plain": [
       "Fetching file...: 0 [00:00, ?/s]"
      ]
     },
     "metadata": {},
     "output_type": "display_data"
    },
    {
     "name": "stdout",
     "output_type": "stream",
     "text": [
      "Warning: training is not a valid argument for VAE\n",
      "Warning: goal is not a valid argument for VAE\n",
      "Warning: kind is not a valid argument for VAE\n",
      "Warning: file_id is not a valid argument for VAE\n",
      "Warning: kl_weight is not a valid argument for VAE\n",
      "Error: Invalid head name: EVER OS\n",
      "Error: Invalid head name: EVER OS\n",
      "Error: Invalid head name: EVER OS\n",
      "Error: Invalid head name: EVER OS\n",
      "Error: Invalid head name: EVER OS\n",
      "Error: Invalid head name: EVER OS\n",
      "Using Neptune\n"
     ]
    },
    {
     "data": {
      "application/vnd.jupyter.widget-view+json": {
       "model_id": "84fec4c3a8a94282b0028dbb91772a48",
       "version_major": 2,
       "version_minor": 0
      },
      "text/plain": [
       "Fetching file...: 0 [00:00, ?/s]"
      ]
     },
     "metadata": {},
     "output_type": "display_data"
    },
    {
     "name": "stdout",
     "output_type": "stream",
     "text": [
      "Warning: training is not a valid argument for VAE\n",
      "Warning: goal is not a valid argument for VAE\n",
      "Warning: kind is not a valid argument for VAE\n",
      "Warning: file_id is not a valid argument for VAE\n",
      "Warning: kl_weight is not a valid argument for VAE\n",
      "Error: Invalid head name: EVER OS\n",
      "Error: Invalid head name: EVER OS\n",
      "Error: Invalid head name: EVER OS\n",
      "Error: Invalid head name: EVER OS\n",
      "Error: Invalid head name: EVER OS\n",
      "Error: Invalid head name: EVER OS\n",
      "Using Neptune\n"
     ]
    },
    {
     "data": {
      "application/vnd.jupyter.widget-view+json": {
       "model_id": "3b20a5a0f48c429a8bff64fde26787de",
       "version_major": 2,
       "version_minor": 0
      },
      "text/plain": [
       "Fetching file...: 0 [00:00, ?/s]"
      ]
     },
     "metadata": {},
     "output_type": "display_data"
    },
    {
     "name": "stdout",
     "output_type": "stream",
     "text": [
      "Warning: training is not a valid argument for VAE\n",
      "Warning: goal is not a valid argument for VAE\n",
      "Warning: kind is not a valid argument for VAE\n",
      "Warning: file_id is not a valid argument for VAE\n",
      "Warning: kl_weight is not a valid argument for VAE\n",
      "Error: Invalid head name: EVER OS\n",
      "Error: Invalid head name: EVER OS\n",
      "Error: Invalid head name: EVER OS\n",
      "Error: Invalid head name: EVER OS\n",
      "Error: Invalid head name: EVER OS\n",
      "Error: Invalid head name: EVER OS\n",
      "Using Neptune\n"
     ]
    },
    {
     "data": {
      "application/vnd.jupyter.widget-view+json": {
       "model_id": "4c61072982434794b6e711af3456f7ae",
       "version_major": 2,
       "version_minor": 0
      },
      "text/plain": [
       "Fetching file...: 0 [00:00, ?/s]"
      ]
     },
     "metadata": {},
     "output_type": "display_data"
    },
    {
     "name": "stdout",
     "output_type": "stream",
     "text": [
      "Warning: training is not a valid argument for VAE\n",
      "Warning: goal is not a valid argument for VAE\n",
      "Warning: kind is not a valid argument for VAE\n",
      "Warning: file_id is not a valid argument for VAE\n",
      "Warning: kl_weight is not a valid argument for VAE\n",
      "Error: Invalid head name: EVER OS\n",
      "Error: Invalid head name: EVER OS\n",
      "Error: Invalid head name: EVER OS\n",
      "Error: Invalid head name: EVER OS\n",
      "Error: Invalid head name: EVER OS\n",
      "Error: Invalid head name: EVER OS\n",
      "[neptune] [info   ] Shutting down background jobs, please wait a moment...\n",
      "[neptune] [info   ] Done!\n",
      "[neptune] [info   ] Waiting for the remaining 3 operations to synchronize with Neptune. Do not kill this process.\n",
      "[neptune] [info   ] All 3 operations synced, thanks for waiting!\n",
      "[neptune] [info   ] Explore the metadata in the Neptune app: https://app.neptune.ai/revivemed/Survival-RCC/e/SUR-2813/metadata\n",
      "Getting the latest dataset\n",
      "[neptune] [info   ] Neptune initialized. Open in the app: https://app.neptune.ai/revivemed/Survival-RCC/\n",
      "[neptune] [info   ] Shutting down background jobs, please wait a moment...\n",
      "[neptune] [info   ] Done!\n",
      "[neptune] [info   ] All 0 operations synced, thanks for waiting!\n",
      "[neptune] [info   ] Explore the metadata in the Neptune app: https://app.neptune.ai/revivemed/Survival-RCC/metadata\n",
      "[neptune] [info   ] Neptune initialized. Open in the app: https://app.neptune.ai/revivemed/Survival-RCC/e/SUR-2812\n",
      "eval_params_list [{'y_col_name': 'MSKCC BINARY', 'y_head': 'MSKCC', 'y_cols': ['MSKCC BINARY']}, {'y_col_name': 'MSKCC ORDINAL', 'y_head': 'MSKCC_Ordinal', 'y_cols': ['MSKCC ORDINAL']}, {'y_col_name': 'MSKCC ORDINAL', 'y_head': 'MSKCC_MultiClass', 'y_cols': ['MSKCC ORDINAL']}]\n",
      "Using Neptune\n"
     ]
    },
    {
     "data": {
      "application/vnd.jupyter.widget-view+json": {
       "model_id": "a3323afdc87e40e89805e3c7a460f373",
       "version_major": 2,
       "version_minor": 0
      },
      "text/plain": [
       "Fetching file...: 0 [00:00, ?/s]"
      ]
     },
     "metadata": {},
     "output_type": "display_data"
    },
    {
     "name": "stdout",
     "output_type": "stream",
     "text": [
      "Warning: training is not a valid argument for VAE\n",
      "Warning: goal is not a valid argument for VAE\n",
      "Warning: kind is not a valid argument for VAE\n",
      "Warning: file_id is not a valid argument for VAE\n",
      "Warning: kl_weight is not a valid argument for VAE\n",
      "Error: Invalid head name: MSKCC\n",
      "Error: Invalid head name: MSKCC_Ordinal\n",
      "Error: Invalid head name: MSKCC\n",
      "Error: Invalid head name: MSKCC_Ordinal\n",
      "Using Neptune\n"
     ]
    },
    {
     "data": {
      "application/vnd.jupyter.widget-view+json": {
       "model_id": "d4fe8322e10340779afafb95d835d946",
       "version_major": 2,
       "version_minor": 0
      },
      "text/plain": [
       "Fetching file...: 0 [00:00, ?/s]"
      ]
     },
     "metadata": {},
     "output_type": "display_data"
    },
    {
     "name": "stdout",
     "output_type": "stream",
     "text": [
      "Warning: training is not a valid argument for VAE\n",
      "Warning: goal is not a valid argument for VAE\n",
      "Warning: kind is not a valid argument for VAE\n",
      "Warning: file_id is not a valid argument for VAE\n",
      "Warning: kl_weight is not a valid argument for VAE\n",
      "Error: Invalid head name: MSKCC\n",
      "Error: Invalid head name: MSKCC_Ordinal\n",
      "Error: Invalid head name: MSKCC\n",
      "Error: Invalid head name: MSKCC_Ordinal\n",
      "Using Neptune\n"
     ]
    },
    {
     "data": {
      "application/vnd.jupyter.widget-view+json": {
       "model_id": "d4594d07a4844594a94db34ab964bce6",
       "version_major": 2,
       "version_minor": 0
      },
      "text/plain": [
       "Fetching file...: 0 [00:00, ?/s]"
      ]
     },
     "metadata": {},
     "output_type": "display_data"
    },
    {
     "name": "stdout",
     "output_type": "stream",
     "text": [
      "Warning: training is not a valid argument for VAE\n",
      "Warning: goal is not a valid argument for VAE\n",
      "Warning: kind is not a valid argument for VAE\n",
      "Warning: file_id is not a valid argument for VAE\n",
      "Warning: kl_weight is not a valid argument for VAE\n",
      "Error: Invalid head name: MSKCC\n",
      "Error: Invalid head name: MSKCC_Ordinal\n",
      "Error: Invalid head name: MSKCC\n",
      "Error: Invalid head name: MSKCC_Ordinal\n",
      "Using Neptune\n"
     ]
    },
    {
     "data": {
      "application/vnd.jupyter.widget-view+json": {
       "model_id": "9f9151f9b0094bbeb9750f6135fced1a",
       "version_major": 2,
       "version_minor": 0
      },
      "text/plain": [
       "Fetching file...: 0 [00:00, ?/s]"
      ]
     },
     "metadata": {},
     "output_type": "display_data"
    },
    {
     "name": "stdout",
     "output_type": "stream",
     "text": [
      "Warning: training is not a valid argument for VAE\n",
      "Warning: goal is not a valid argument for VAE\n",
      "Warning: kind is not a valid argument for VAE\n",
      "Warning: file_id is not a valid argument for VAE\n",
      "Warning: kl_weight is not a valid argument for VAE\n",
      "Error: Invalid head name: MSKCC\n",
      "Error: Invalid head name: MSKCC_Ordinal\n",
      "Error: Invalid head name: MSKCC\n",
      "Error: Invalid head name: MSKCC_Ordinal\n",
      "Using Neptune\n"
     ]
    },
    {
     "data": {
      "application/vnd.jupyter.widget-view+json": {
       "model_id": "ac43361c98a14961834c979faff1c78f",
       "version_major": 2,
       "version_minor": 0
      },
      "text/plain": [
       "Fetching file...: 0 [00:00, ?/s]"
      ]
     },
     "metadata": {},
     "output_type": "display_data"
    },
    {
     "name": "stdout",
     "output_type": "stream",
     "text": [
      "Warning: training is not a valid argument for VAE\n",
      "Warning: goal is not a valid argument for VAE\n",
      "Warning: kind is not a valid argument for VAE\n",
      "Warning: file_id is not a valid argument for VAE\n",
      "Warning: kl_weight is not a valid argument for VAE\n",
      "Error: Invalid head name: MSKCC\n",
      "Error: Invalid head name: MSKCC_Ordinal\n",
      "Error: Invalid head name: MSKCC\n",
      "Error: Invalid head name: MSKCC_Ordinal\n",
      "Using Neptune\n"
     ]
    },
    {
     "data": {
      "application/vnd.jupyter.widget-view+json": {
       "model_id": "7397deed09fd4c13b202bb9e36781f63",
       "version_major": 2,
       "version_minor": 0
      },
      "text/plain": [
       "Fetching file...: 0 [00:00, ?/s]"
      ]
     },
     "metadata": {},
     "output_type": "display_data"
    },
    {
     "name": "stdout",
     "output_type": "stream",
     "text": [
      "Warning: training is not a valid argument for VAE\n",
      "Warning: goal is not a valid argument for VAE\n",
      "Warning: kind is not a valid argument for VAE\n",
      "Warning: file_id is not a valid argument for VAE\n",
      "Warning: kl_weight is not a valid argument for VAE\n",
      "Error: Invalid head name: MSKCC\n",
      "Error: Invalid head name: MSKCC_Ordinal\n",
      "Error: Invalid head name: MSKCC\n",
      "Error: Invalid head name: MSKCC_Ordinal\n",
      "Using Neptune\n"
     ]
    },
    {
     "data": {
      "application/vnd.jupyter.widget-view+json": {
       "model_id": "06efd86b57354c1487eab425536951d3",
       "version_major": 2,
       "version_minor": 0
      },
      "text/plain": [
       "Fetching file...: 0 [00:00, ?/s]"
      ]
     },
     "metadata": {},
     "output_type": "display_data"
    },
    {
     "name": "stdout",
     "output_type": "stream",
     "text": [
      "Warning: training is not a valid argument for VAE\n",
      "Warning: goal is not a valid argument for VAE\n",
      "Warning: kind is not a valid argument for VAE\n",
      "Warning: file_id is not a valid argument for VAE\n",
      "Warning: kl_weight is not a valid argument for VAE\n",
      "Error: Invalid head name: MSKCC\n",
      "Error: Invalid head name: MSKCC_Ordinal\n",
      "Error: Invalid head name: MSKCC\n",
      "Error: Invalid head name: MSKCC_Ordinal\n",
      "Using Neptune\n"
     ]
    },
    {
     "data": {
      "application/vnd.jupyter.widget-view+json": {
       "model_id": "10616b73873b480ea3c04f27722a61b0",
       "version_major": 2,
       "version_minor": 0
      },
      "text/plain": [
       "Fetching file...: 0 [00:00, ?/s]"
      ]
     },
     "metadata": {},
     "output_type": "display_data"
    },
    {
     "name": "stdout",
     "output_type": "stream",
     "text": [
      "Warning: training is not a valid argument for VAE\n",
      "Warning: goal is not a valid argument for VAE\n",
      "Warning: kind is not a valid argument for VAE\n",
      "Warning: file_id is not a valid argument for VAE\n",
      "Warning: kl_weight is not a valid argument for VAE\n",
      "Error: Invalid head name: MSKCC\n",
      "Error: Invalid head name: MSKCC_Ordinal\n",
      "Error: Invalid head name: MSKCC\n",
      "Error: Invalid head name: MSKCC_Ordinal\n",
      "Using Neptune\n"
     ]
    },
    {
     "data": {
      "application/vnd.jupyter.widget-view+json": {
       "model_id": "d6d05225a326499bb57123d302ad6433",
       "version_major": 2,
       "version_minor": 0
      },
      "text/plain": [
       "Fetching file...: 0 [00:00, ?/s]"
      ]
     },
     "metadata": {},
     "output_type": "display_data"
    },
    {
     "name": "stdout",
     "output_type": "stream",
     "text": [
      "Warning: training is not a valid argument for VAE\n",
      "Warning: goal is not a valid argument for VAE\n",
      "Warning: kind is not a valid argument for VAE\n",
      "Warning: file_id is not a valid argument for VAE\n",
      "Warning: kl_weight is not a valid argument for VAE\n",
      "Error: Invalid head name: MSKCC\n",
      "Error: Invalid head name: MSKCC_Ordinal\n",
      "Error: Invalid head name: MSKCC\n",
      "Error: Invalid head name: MSKCC_Ordinal\n",
      "Using Neptune\n"
     ]
    },
    {
     "data": {
      "application/vnd.jupyter.widget-view+json": {
       "model_id": "ff69dfd700004c2ba8ea22de8dec83ed",
       "version_major": 2,
       "version_minor": 0
      },
      "text/plain": [
       "Fetching file...: 0 [00:00, ?/s]"
      ]
     },
     "metadata": {},
     "output_type": "display_data"
    },
    {
     "name": "stdout",
     "output_type": "stream",
     "text": [
      "Warning: training is not a valid argument for VAE\n",
      "Warning: goal is not a valid argument for VAE\n",
      "Warning: kind is not a valid argument for VAE\n",
      "Warning: file_id is not a valid argument for VAE\n",
      "Warning: kl_weight is not a valid argument for VAE\n",
      "Error: Invalid head name: MSKCC\n",
      "Error: Invalid head name: MSKCC_Ordinal\n",
      "Error: Invalid head name: MSKCC\n",
      "Error: Invalid head name: MSKCC_Ordinal\n",
      "Using Neptune\n"
     ]
    },
    {
     "data": {
      "application/vnd.jupyter.widget-view+json": {
       "model_id": "17087293f96145a28b97dce96df86104",
       "version_major": 2,
       "version_minor": 0
      },
      "text/plain": [
       "Fetching file...: 0 [00:00, ?/s]"
      ]
     },
     "metadata": {},
     "output_type": "display_data"
    },
    {
     "name": "stdout",
     "output_type": "stream",
     "text": [
      "Warning: training is not a valid argument for VAE\n",
      "Warning: goal is not a valid argument for VAE\n",
      "Warning: kind is not a valid argument for VAE\n",
      "Warning: file_id is not a valid argument for VAE\n",
      "Warning: kl_weight is not a valid argument for VAE\n",
      "Error: Invalid head name: MSKCC\n",
      "Error: Invalid head name: MSKCC_Ordinal\n",
      "Error: Invalid head name: MSKCC\n",
      "Error: Invalid head name: MSKCC_Ordinal\n",
      "Using Neptune\n"
     ]
    },
    {
     "data": {
      "application/vnd.jupyter.widget-view+json": {
       "model_id": "e54112854f014c1ea444abb5f6398a43",
       "version_major": 2,
       "version_minor": 0
      },
      "text/plain": [
       "Fetching file...: 0 [00:00, ?/s]"
      ]
     },
     "metadata": {},
     "output_type": "display_data"
    },
    {
     "name": "stdout",
     "output_type": "stream",
     "text": [
      "Warning: training is not a valid argument for VAE\n",
      "Warning: goal is not a valid argument for VAE\n",
      "Warning: kind is not a valid argument for VAE\n",
      "Warning: file_id is not a valid argument for VAE\n",
      "Warning: kl_weight is not a valid argument for VAE\n",
      "Error: Invalid head name: MSKCC\n",
      "Error: Invalid head name: MSKCC_Ordinal\n",
      "Error: Invalid head name: MSKCC\n",
      "Error: Invalid head name: MSKCC_Ordinal\n",
      "Using Neptune\n"
     ]
    },
    {
     "data": {
      "application/vnd.jupyter.widget-view+json": {
       "model_id": "85e24043e91641db90b834c5f67ad083",
       "version_major": 2,
       "version_minor": 0
      },
      "text/plain": [
       "Fetching file...: 0 [00:00, ?/s]"
      ]
     },
     "metadata": {},
     "output_type": "display_data"
    },
    {
     "name": "stdout",
     "output_type": "stream",
     "text": [
      "Warning: training is not a valid argument for VAE\n",
      "Warning: goal is not a valid argument for VAE\n",
      "Warning: kind is not a valid argument for VAE\n",
      "Warning: file_id is not a valid argument for VAE\n",
      "Warning: kl_weight is not a valid argument for VAE\n",
      "Error: Invalid head name: MSKCC\n",
      "Error: Invalid head name: MSKCC_Ordinal\n",
      "Error: Invalid head name: MSKCC\n",
      "Error: Invalid head name: MSKCC_Ordinal\n",
      "Using Neptune\n"
     ]
    },
    {
     "data": {
      "application/vnd.jupyter.widget-view+json": {
       "model_id": "8e2c2ef52d5f4041ab1fce3248e9a080",
       "version_major": 2,
       "version_minor": 0
      },
      "text/plain": [
       "Fetching file...: 0 [00:00, ?/s]"
      ]
     },
     "metadata": {},
     "output_type": "display_data"
    },
    {
     "name": "stdout",
     "output_type": "stream",
     "text": [
      "Warning: training is not a valid argument for VAE\n",
      "Warning: goal is not a valid argument for VAE\n",
      "Warning: kind is not a valid argument for VAE\n",
      "Warning: file_id is not a valid argument for VAE\n",
      "Warning: kl_weight is not a valid argument for VAE\n",
      "Error: Invalid head name: MSKCC\n",
      "Error: Invalid head name: MSKCC_Ordinal\n",
      "Error: Invalid head name: MSKCC\n",
      "Error: Invalid head name: MSKCC_Ordinal\n",
      "Using Neptune\n"
     ]
    },
    {
     "data": {
      "application/vnd.jupyter.widget-view+json": {
       "model_id": "933b444e31384404bf3812ca01a2d952",
       "version_major": 2,
       "version_minor": 0
      },
      "text/plain": [
       "Fetching file...: 0 [00:00, ?/s]"
      ]
     },
     "metadata": {},
     "output_type": "display_data"
    },
    {
     "name": "stdout",
     "output_type": "stream",
     "text": [
      "Warning: training is not a valid argument for VAE\n",
      "Warning: goal is not a valid argument for VAE\n",
      "Warning: kind is not a valid argument for VAE\n",
      "Warning: file_id is not a valid argument for VAE\n",
      "Warning: kl_weight is not a valid argument for VAE\n",
      "Error: Invalid head name: MSKCC\n",
      "Error: Invalid head name: MSKCC_Ordinal\n",
      "Error: Invalid head name: MSKCC\n",
      "Error: Invalid head name: MSKCC_Ordinal\n",
      "Using Neptune\n"
     ]
    },
    {
     "data": {
      "application/vnd.jupyter.widget-view+json": {
       "model_id": "1bba82b0f8f6498e8b461f2348d0e74f",
       "version_major": 2,
       "version_minor": 0
      },
      "text/plain": [
       "Fetching file...: 0 [00:00, ?/s]"
      ]
     },
     "metadata": {},
     "output_type": "display_data"
    },
    {
     "name": "stdout",
     "output_type": "stream",
     "text": [
      "Warning: training is not a valid argument for VAE\n",
      "Warning: goal is not a valid argument for VAE\n",
      "Warning: kind is not a valid argument for VAE\n",
      "Warning: file_id is not a valid argument for VAE\n",
      "Warning: kl_weight is not a valid argument for VAE\n",
      "Error: Invalid head name: MSKCC\n",
      "Error: Invalid head name: MSKCC_Ordinal\n",
      "Error: Invalid head name: MSKCC\n",
      "Error: Invalid head name: MSKCC_Ordinal\n",
      "Using Neptune\n"
     ]
    },
    {
     "data": {
      "application/vnd.jupyter.widget-view+json": {
       "model_id": "4db6e35ce0ce4bd88e0725bc1a3d78df",
       "version_major": 2,
       "version_minor": 0
      },
      "text/plain": [
       "Fetching file...: 0 [00:00, ?/s]"
      ]
     },
     "metadata": {},
     "output_type": "display_data"
    },
    {
     "name": "stdout",
     "output_type": "stream",
     "text": [
      "Warning: training is not a valid argument for VAE\n",
      "Warning: goal is not a valid argument for VAE\n",
      "Warning: kind is not a valid argument for VAE\n",
      "Warning: file_id is not a valid argument for VAE\n",
      "Warning: kl_weight is not a valid argument for VAE\n",
      "Error: Invalid head name: MSKCC\n",
      "Error: Invalid head name: MSKCC_Ordinal\n",
      "Error: Invalid head name: MSKCC\n",
      "Error: Invalid head name: MSKCC_Ordinal\n",
      "Using Neptune\n"
     ]
    },
    {
     "data": {
      "application/vnd.jupyter.widget-view+json": {
       "model_id": "3fba92b3ff414156a3175b866021c65b",
       "version_major": 2,
       "version_minor": 0
      },
      "text/plain": [
       "Fetching file...: 0 [00:00, ?/s]"
      ]
     },
     "metadata": {},
     "output_type": "display_data"
    },
    {
     "name": "stdout",
     "output_type": "stream",
     "text": [
      "Warning: training is not a valid argument for VAE\n",
      "Warning: goal is not a valid argument for VAE\n",
      "Warning: kind is not a valid argument for VAE\n",
      "Warning: file_id is not a valid argument for VAE\n",
      "Warning: kl_weight is not a valid argument for VAE\n",
      "Error: Invalid head name: MSKCC\n",
      "Error: Invalid head name: MSKCC_Ordinal\n",
      "Error: Invalid head name: MSKCC\n",
      "Error: Invalid head name: MSKCC_Ordinal\n",
      "Using Neptune\n"
     ]
    },
    {
     "data": {
      "application/vnd.jupyter.widget-view+json": {
       "model_id": "350583d5e55a4fb69ea757496cc6f869",
       "version_major": 2,
       "version_minor": 0
      },
      "text/plain": [
       "Fetching file...: 0 [00:00, ?/s]"
      ]
     },
     "metadata": {},
     "output_type": "display_data"
    },
    {
     "name": "stdout",
     "output_type": "stream",
     "text": [
      "Warning: training is not a valid argument for VAE\n",
      "Warning: goal is not a valid argument for VAE\n",
      "Warning: kind is not a valid argument for VAE\n",
      "Warning: file_id is not a valid argument for VAE\n",
      "Warning: kl_weight is not a valid argument for VAE\n",
      "Error: Invalid head name: MSKCC\n",
      "Error: Invalid head name: MSKCC_Ordinal\n",
      "Error: Invalid head name: MSKCC\n",
      "Error: Invalid head name: MSKCC_Ordinal\n",
      "Using Neptune\n"
     ]
    },
    {
     "data": {
      "application/vnd.jupyter.widget-view+json": {
       "model_id": "a9568b097a57422bbf9245ea4cd15804",
       "version_major": 2,
       "version_minor": 0
      },
      "text/plain": [
       "Fetching file...: 0 [00:00, ?/s]"
      ]
     },
     "metadata": {},
     "output_type": "display_data"
    },
    {
     "name": "stdout",
     "output_type": "stream",
     "text": [
      "Warning: training is not a valid argument for VAE\n",
      "Warning: goal is not a valid argument for VAE\n",
      "Warning: kind is not a valid argument for VAE\n",
      "Warning: file_id is not a valid argument for VAE\n",
      "Warning: kl_weight is not a valid argument for VAE\n",
      "Error: Invalid head name: MSKCC\n",
      "Error: Invalid head name: MSKCC_Ordinal\n",
      "Error: Invalid head name: MSKCC\n",
      "Error: Invalid head name: MSKCC_Ordinal\n",
      "[neptune] [info   ] Shutting down background jobs, please wait a moment...\n",
      "[neptune] [info   ] Done!\n",
      "[neptune] [info   ] Waiting for the remaining 35 operations to synchronize with Neptune. Do not kill this process.\n",
      "[neptune] [info   ] All 35 operations synced, thanks for waiting!\n",
      "[neptune] [info   ] Explore the metadata in the Neptune app: https://app.neptune.ai/revivemed/Survival-RCC/e/SUR-2812/metadata\n",
      "Getting the latest dataset\n",
      "[neptune] [info   ] Neptune initialized. Open in the app: https://app.neptune.ai/revivemed/Survival-RCC/\n",
      "[neptune] [info   ] Shutting down background jobs, please wait a moment...\n",
      "[neptune] [info   ] Done!\n",
      "[neptune] [info   ] All 0 operations synced, thanks for waiting!\n",
      "[neptune] [info   ] Explore the metadata in the Neptune app: https://app.neptune.ai/revivemed/Survival-RCC/metadata\n",
      "[neptune] [info   ] Neptune initialized. Open in the app: https://app.neptune.ai/revivemed/Survival-RCC/e/SUR-2811\n",
      "eval_params_list [{'y_col_name': 'MSKCC BINARY', 'y_head': 'MSKCC', 'y_cols': ['MSKCC BINARY']}, {'y_col_name': 'MSKCC ORDINAL', 'y_head': 'MSKCC_Ordinal', 'y_cols': ['MSKCC ORDINAL']}, {'y_col_name': 'MSKCC ORDINAL', 'y_head': 'MSKCC_MultiClass', 'y_cols': ['MSKCC ORDINAL']}]\n",
      "Using Neptune\n"
     ]
    },
    {
     "data": {
      "application/vnd.jupyter.widget-view+json": {
       "model_id": "48129b71cf954f7482ae91ce2d13efbb",
       "version_major": 2,
       "version_minor": 0
      },
      "text/plain": [
       "Fetching file...: 0 [00:00, ?/s]"
      ]
     },
     "metadata": {},
     "output_type": "display_data"
    },
    {
     "name": "stdout",
     "output_type": "stream",
     "text": [
      "Warning: training is not a valid argument for VAE\n",
      "Warning: goal is not a valid argument for VAE\n",
      "Warning: kind is not a valid argument for VAE\n",
      "Warning: file_id is not a valid argument for VAE\n",
      "Warning: kl_weight is not a valid argument for VAE\n",
      "Error: Invalid head name: MSKCC\n",
      "Error: Invalid head name: MSKCC_Ordinal\n",
      "Error: Invalid head name: MSKCC\n",
      "Error: Invalid head name: MSKCC_Ordinal\n",
      "Using Neptune\n"
     ]
    },
    {
     "data": {
      "application/vnd.jupyter.widget-view+json": {
       "model_id": "afaa507b6fa54c70b3ca9c0e5e26f85b",
       "version_major": 2,
       "version_minor": 0
      },
      "text/plain": [
       "Fetching file...: 0 [00:00, ?/s]"
      ]
     },
     "metadata": {},
     "output_type": "display_data"
    },
    {
     "name": "stdout",
     "output_type": "stream",
     "text": [
      "Warning: training is not a valid argument for VAE\n",
      "Warning: goal is not a valid argument for VAE\n",
      "Warning: kind is not a valid argument for VAE\n",
      "Warning: file_id is not a valid argument for VAE\n",
      "Warning: kl_weight is not a valid argument for VAE\n",
      "Error: Invalid head name: MSKCC\n",
      "Error: Invalid head name: MSKCC_Ordinal\n",
      "Error: Invalid head name: MSKCC\n",
      "Error: Invalid head name: MSKCC_Ordinal\n",
      "Using Neptune\n"
     ]
    },
    {
     "data": {
      "application/vnd.jupyter.widget-view+json": {
       "model_id": "b2a19378d6ea412a9f5d88ac468be73f",
       "version_major": 2,
       "version_minor": 0
      },
      "text/plain": [
       "Fetching file...: 0 [00:00, ?/s]"
      ]
     },
     "metadata": {},
     "output_type": "display_data"
    },
    {
     "name": "stdout",
     "output_type": "stream",
     "text": [
      "Warning: training is not a valid argument for VAE\n",
      "Warning: goal is not a valid argument for VAE\n",
      "Warning: kind is not a valid argument for VAE\n",
      "Warning: file_id is not a valid argument for VAE\n",
      "Warning: kl_weight is not a valid argument for VAE\n",
      "Error: Invalid head name: MSKCC\n",
      "Error: Invalid head name: MSKCC_Ordinal\n",
      "Error: Invalid head name: MSKCC\n",
      "Error: Invalid head name: MSKCC_Ordinal\n",
      "Using Neptune\n"
     ]
    },
    {
     "data": {
      "application/vnd.jupyter.widget-view+json": {
       "model_id": "26cef7f1a1d844839154e4e4da6b917a",
       "version_major": 2,
       "version_minor": 0
      },
      "text/plain": [
       "Fetching file...: 0 [00:00, ?/s]"
      ]
     },
     "metadata": {},
     "output_type": "display_data"
    },
    {
     "name": "stdout",
     "output_type": "stream",
     "text": [
      "Warning: training is not a valid argument for VAE\n",
      "Warning: goal is not a valid argument for VAE\n",
      "Warning: kind is not a valid argument for VAE\n",
      "Warning: file_id is not a valid argument for VAE\n",
      "Warning: kl_weight is not a valid argument for VAE\n",
      "Error: Invalid head name: MSKCC\n",
      "Error: Invalid head name: MSKCC_Ordinal\n",
      "Error: Invalid head name: MSKCC\n",
      "Error: Invalid head name: MSKCC_Ordinal\n",
      "Using Neptune\n"
     ]
    },
    {
     "data": {
      "application/vnd.jupyter.widget-view+json": {
       "model_id": "ac254e1d52c7498e9de4ed8405d5c9b7",
       "version_major": 2,
       "version_minor": 0
      },
      "text/plain": [
       "Fetching file...: 0 [00:00, ?/s]"
      ]
     },
     "metadata": {},
     "output_type": "display_data"
    },
    {
     "name": "stdout",
     "output_type": "stream",
     "text": [
      "Warning: training is not a valid argument for VAE\n",
      "Warning: goal is not a valid argument for VAE\n",
      "Warning: kind is not a valid argument for VAE\n",
      "Warning: file_id is not a valid argument for VAE\n",
      "Warning: kl_weight is not a valid argument for VAE\n",
      "Error: Invalid head name: MSKCC\n",
      "Error: Invalid head name: MSKCC_Ordinal\n",
      "Error: Invalid head name: MSKCC\n",
      "Error: Invalid head name: MSKCC_Ordinal\n",
      "Using Neptune\n"
     ]
    },
    {
     "data": {
      "application/vnd.jupyter.widget-view+json": {
       "model_id": "36095078b6324196863d270aedaea3f3",
       "version_major": 2,
       "version_minor": 0
      },
      "text/plain": [
       "Fetching file...: 0 [00:00, ?/s]"
      ]
     },
     "metadata": {},
     "output_type": "display_data"
    },
    {
     "name": "stdout",
     "output_type": "stream",
     "text": [
      "Warning: training is not a valid argument for VAE\n",
      "Warning: goal is not a valid argument for VAE\n",
      "Warning: kind is not a valid argument for VAE\n",
      "Warning: file_id is not a valid argument for VAE\n",
      "Warning: kl_weight is not a valid argument for VAE\n",
      "Error: Invalid head name: MSKCC\n",
      "Error: Invalid head name: MSKCC_Ordinal\n",
      "Error: Invalid head name: MSKCC\n",
      "Error: Invalid head name: MSKCC_Ordinal\n",
      "Using Neptune\n"
     ]
    },
    {
     "data": {
      "application/vnd.jupyter.widget-view+json": {
       "model_id": "1869a606e49b4d35a6855bbab69e6b3d",
       "version_major": 2,
       "version_minor": 0
      },
      "text/plain": [
       "Fetching file...: 0 [00:00, ?/s]"
      ]
     },
     "metadata": {},
     "output_type": "display_data"
    },
    {
     "name": "stdout",
     "output_type": "stream",
     "text": [
      "Warning: training is not a valid argument for VAE\n",
      "Warning: goal is not a valid argument for VAE\n",
      "Warning: kind is not a valid argument for VAE\n",
      "Warning: file_id is not a valid argument for VAE\n",
      "Warning: kl_weight is not a valid argument for VAE\n",
      "Error: Invalid head name: MSKCC\n",
      "Error: Invalid head name: MSKCC_Ordinal\n",
      "Error: Invalid head name: MSKCC\n",
      "Error: Invalid head name: MSKCC_Ordinal\n",
      "Using Neptune\n"
     ]
    },
    {
     "data": {
      "application/vnd.jupyter.widget-view+json": {
       "model_id": "e96201bcb3ed40c2872936db27170a34",
       "version_major": 2,
       "version_minor": 0
      },
      "text/plain": [
       "Fetching file...: 0 [00:00, ?/s]"
      ]
     },
     "metadata": {},
     "output_type": "display_data"
    },
    {
     "name": "stdout",
     "output_type": "stream",
     "text": [
      "Warning: training is not a valid argument for VAE\n",
      "Warning: goal is not a valid argument for VAE\n",
      "Warning: kind is not a valid argument for VAE\n",
      "Warning: file_id is not a valid argument for VAE\n",
      "Warning: kl_weight is not a valid argument for VAE\n",
      "Error: Invalid head name: MSKCC\n",
      "Error: Invalid head name: MSKCC_Ordinal\n",
      "Error: Invalid head name: MSKCC\n",
      "Error: Invalid head name: MSKCC_Ordinal\n",
      "Using Neptune\n"
     ]
    },
    {
     "data": {
      "application/vnd.jupyter.widget-view+json": {
       "model_id": "1e1a811d90464a76894bbb7747c8af0b",
       "version_major": 2,
       "version_minor": 0
      },
      "text/plain": [
       "Fetching file...: 0 [00:00, ?/s]"
      ]
     },
     "metadata": {},
     "output_type": "display_data"
    },
    {
     "name": "stdout",
     "output_type": "stream",
     "text": [
      "Warning: training is not a valid argument for VAE\n",
      "Warning: goal is not a valid argument for VAE\n",
      "Warning: kind is not a valid argument for VAE\n",
      "Warning: file_id is not a valid argument for VAE\n",
      "Warning: kl_weight is not a valid argument for VAE\n",
      "Error: Invalid head name: MSKCC\n",
      "Error: Invalid head name: MSKCC_Ordinal\n",
      "Error: Invalid head name: MSKCC\n",
      "Error: Invalid head name: MSKCC_Ordinal\n",
      "Using Neptune\n"
     ]
    },
    {
     "data": {
      "application/vnd.jupyter.widget-view+json": {
       "model_id": "1b4f488d52374dfba3c991e7ef885e3c",
       "version_major": 2,
       "version_minor": 0
      },
      "text/plain": [
       "Fetching file...: 0 [00:00, ?/s]"
      ]
     },
     "metadata": {},
     "output_type": "display_data"
    },
    {
     "name": "stdout",
     "output_type": "stream",
     "text": [
      "Warning: training is not a valid argument for VAE\n",
      "Warning: goal is not a valid argument for VAE\n",
      "Warning: kind is not a valid argument for VAE\n",
      "Warning: file_id is not a valid argument for VAE\n",
      "Warning: kl_weight is not a valid argument for VAE\n",
      "Error: Invalid head name: MSKCC\n",
      "Error: Invalid head name: MSKCC_Ordinal\n",
      "Error: Invalid head name: MSKCC\n",
      "Error: Invalid head name: MSKCC_Ordinal\n",
      "Using Neptune\n"
     ]
    },
    {
     "data": {
      "application/vnd.jupyter.widget-view+json": {
       "model_id": "c62bc9baa16c4981aa6accdba3a30466",
       "version_major": 2,
       "version_minor": 0
      },
      "text/plain": [
       "Fetching file...: 0 [00:00, ?/s]"
      ]
     },
     "metadata": {},
     "output_type": "display_data"
    },
    {
     "name": "stdout",
     "output_type": "stream",
     "text": [
      "Warning: training is not a valid argument for VAE\n",
      "Warning: goal is not a valid argument for VAE\n",
      "Warning: kind is not a valid argument for VAE\n",
      "Warning: file_id is not a valid argument for VAE\n",
      "Warning: kl_weight is not a valid argument for VAE\n",
      "Error: Invalid head name: MSKCC\n",
      "Error: Invalid head name: MSKCC_Ordinal\n",
      "Error: Invalid head name: MSKCC\n",
      "Error: Invalid head name: MSKCC_Ordinal\n",
      "Using Neptune\n"
     ]
    },
    {
     "data": {
      "application/vnd.jupyter.widget-view+json": {
       "model_id": "ef83c4bd67514f4398e6159f9284659c",
       "version_major": 2,
       "version_minor": 0
      },
      "text/plain": [
       "Fetching file...: 0 [00:00, ?/s]"
      ]
     },
     "metadata": {},
     "output_type": "display_data"
    },
    {
     "name": "stdout",
     "output_type": "stream",
     "text": [
      "Warning: training is not a valid argument for VAE\n",
      "Warning: goal is not a valid argument for VAE\n",
      "Warning: kind is not a valid argument for VAE\n",
      "Warning: file_id is not a valid argument for VAE\n",
      "Warning: kl_weight is not a valid argument for VAE\n",
      "Error: Invalid head name: MSKCC\n",
      "Error: Invalid head name: MSKCC_Ordinal\n",
      "Error: Invalid head name: MSKCC\n",
      "Error: Invalid head name: MSKCC_Ordinal\n",
      "Using Neptune\n"
     ]
    },
    {
     "data": {
      "application/vnd.jupyter.widget-view+json": {
       "model_id": "8dae9624681c4e4b9bd602e20876fc4b",
       "version_major": 2,
       "version_minor": 0
      },
      "text/plain": [
       "Fetching file...: 0 [00:00, ?/s]"
      ]
     },
     "metadata": {},
     "output_type": "display_data"
    },
    {
     "name": "stdout",
     "output_type": "stream",
     "text": [
      "Warning: training is not a valid argument for VAE\n",
      "Warning: goal is not a valid argument for VAE\n",
      "Warning: kind is not a valid argument for VAE\n",
      "Warning: file_id is not a valid argument for VAE\n",
      "Warning: kl_weight is not a valid argument for VAE\n",
      "Error: Invalid head name: MSKCC\n",
      "Error: Invalid head name: MSKCC_Ordinal\n",
      "Error: Invalid head name: MSKCC\n",
      "Error: Invalid head name: MSKCC_Ordinal\n",
      "Using Neptune\n"
     ]
    },
    {
     "data": {
      "application/vnd.jupyter.widget-view+json": {
       "model_id": "2e959c3758a74c7c8d65cff2cfcd8ac9",
       "version_major": 2,
       "version_minor": 0
      },
      "text/plain": [
       "Fetching file...: 0 [00:00, ?/s]"
      ]
     },
     "metadata": {},
     "output_type": "display_data"
    },
    {
     "name": "stdout",
     "output_type": "stream",
     "text": [
      "Warning: training is not a valid argument for VAE\n",
      "Warning: goal is not a valid argument for VAE\n",
      "Warning: kind is not a valid argument for VAE\n",
      "Warning: file_id is not a valid argument for VAE\n",
      "Warning: kl_weight is not a valid argument for VAE\n",
      "Error: Invalid head name: MSKCC\n",
      "Error: Invalid head name: MSKCC_Ordinal\n",
      "Error: Invalid head name: MSKCC\n",
      "Error: Invalid head name: MSKCC_Ordinal\n",
      "Using Neptune\n"
     ]
    },
    {
     "data": {
      "application/vnd.jupyter.widget-view+json": {
       "model_id": "4ed1a6e95fb64002806af001d31a34eb",
       "version_major": 2,
       "version_minor": 0
      },
      "text/plain": [
       "Fetching file...: 0 [00:00, ?/s]"
      ]
     },
     "metadata": {},
     "output_type": "display_data"
    },
    {
     "name": "stdout",
     "output_type": "stream",
     "text": [
      "Warning: training is not a valid argument for VAE\n",
      "Warning: goal is not a valid argument for VAE\n",
      "Warning: kind is not a valid argument for VAE\n",
      "Warning: file_id is not a valid argument for VAE\n",
      "Warning: kl_weight is not a valid argument for VAE\n",
      "Error: Invalid head name: MSKCC\n",
      "Error: Invalid head name: MSKCC_Ordinal\n",
      "Error: Invalid head name: MSKCC\n",
      "Error: Invalid head name: MSKCC_Ordinal\n",
      "Using Neptune\n"
     ]
    },
    {
     "data": {
      "application/vnd.jupyter.widget-view+json": {
       "model_id": "d1c4fff7d632430d81c4dd69e17e11a3",
       "version_major": 2,
       "version_minor": 0
      },
      "text/plain": [
       "Fetching file...: 0 [00:00, ?/s]"
      ]
     },
     "metadata": {},
     "output_type": "display_data"
    },
    {
     "name": "stdout",
     "output_type": "stream",
     "text": [
      "Warning: training is not a valid argument for VAE\n",
      "Warning: goal is not a valid argument for VAE\n",
      "Warning: kind is not a valid argument for VAE\n",
      "Warning: file_id is not a valid argument for VAE\n",
      "Warning: kl_weight is not a valid argument for VAE\n",
      "Error: Invalid head name: MSKCC\n",
      "Error: Invalid head name: MSKCC_Ordinal\n",
      "Error: Invalid head name: MSKCC\n",
      "Error: Invalid head name: MSKCC_Ordinal\n",
      "Using Neptune\n"
     ]
    },
    {
     "data": {
      "application/vnd.jupyter.widget-view+json": {
       "model_id": "a5bc2eddcac5487eb85ffa2ff66dae5a",
       "version_major": 2,
       "version_minor": 0
      },
      "text/plain": [
       "Fetching file...: 0 [00:00, ?/s]"
      ]
     },
     "metadata": {},
     "output_type": "display_data"
    },
    {
     "name": "stdout",
     "output_type": "stream",
     "text": [
      "Warning: training is not a valid argument for VAE\n",
      "Warning: goal is not a valid argument for VAE\n",
      "Warning: kind is not a valid argument for VAE\n",
      "Warning: file_id is not a valid argument for VAE\n",
      "Warning: kl_weight is not a valid argument for VAE\n",
      "Error: Invalid head name: MSKCC\n",
      "Error: Invalid head name: MSKCC_Ordinal\n",
      "Error: Invalid head name: MSKCC\n",
      "Error: Invalid head name: MSKCC_Ordinal\n",
      "Using Neptune\n"
     ]
    },
    {
     "data": {
      "application/vnd.jupyter.widget-view+json": {
       "model_id": "4fcf8f98a109401ea02b3f6f18e352d9",
       "version_major": 2,
       "version_minor": 0
      },
      "text/plain": [
       "Fetching file...: 0 [00:00, ?/s]"
      ]
     },
     "metadata": {},
     "output_type": "display_data"
    },
    {
     "name": "stdout",
     "output_type": "stream",
     "text": [
      "Warning: training is not a valid argument for VAE\n",
      "Warning: goal is not a valid argument for VAE\n",
      "Warning: kind is not a valid argument for VAE\n",
      "Warning: file_id is not a valid argument for VAE\n",
      "Warning: kl_weight is not a valid argument for VAE\n",
      "Error: Invalid head name: MSKCC\n",
      "Error: Invalid head name: MSKCC_Ordinal\n",
      "Error: Invalid head name: MSKCC\n",
      "Error: Invalid head name: MSKCC_Ordinal\n",
      "Using Neptune\n"
     ]
    },
    {
     "data": {
      "application/vnd.jupyter.widget-view+json": {
       "model_id": "59b040912a834b4b8dbaeee85c2a4194",
       "version_major": 2,
       "version_minor": 0
      },
      "text/plain": [
       "Fetching file...: 0 [00:00, ?/s]"
      ]
     },
     "metadata": {},
     "output_type": "display_data"
    },
    {
     "name": "stdout",
     "output_type": "stream",
     "text": [
      "Warning: training is not a valid argument for VAE\n",
      "Warning: goal is not a valid argument for VAE\n",
      "Warning: kind is not a valid argument for VAE\n",
      "Warning: file_id is not a valid argument for VAE\n",
      "Warning: kl_weight is not a valid argument for VAE\n",
      "Error: Invalid head name: MSKCC\n",
      "Error: Invalid head name: MSKCC_Ordinal\n",
      "Error: Invalid head name: MSKCC\n",
      "Error: Invalid head name: MSKCC_Ordinal\n",
      "Using Neptune\n"
     ]
    },
    {
     "data": {
      "application/vnd.jupyter.widget-view+json": {
       "model_id": "1afdb65236bd461a82c0b1896eaf92ed",
       "version_major": 2,
       "version_minor": 0
      },
      "text/plain": [
       "Fetching file...: 0 [00:00, ?/s]"
      ]
     },
     "metadata": {},
     "output_type": "display_data"
    },
    {
     "name": "stdout",
     "output_type": "stream",
     "text": [
      "Warning: training is not a valid argument for VAE\n",
      "Warning: goal is not a valid argument for VAE\n",
      "Warning: kind is not a valid argument for VAE\n",
      "Warning: file_id is not a valid argument for VAE\n",
      "Warning: kl_weight is not a valid argument for VAE\n",
      "Error: Invalid head name: MSKCC\n",
      "Error: Invalid head name: MSKCC_Ordinal\n",
      "Error: Invalid head name: MSKCC\n",
      "Error: Invalid head name: MSKCC_Ordinal\n",
      "[neptune] [info   ] Shutting down background jobs, please wait a moment...\n",
      "[neptune] [info   ] Done!\n",
      "[neptune] [info   ] Waiting for the remaining 35 operations to synchronize with Neptune. Do not kill this process.\n",
      "[neptune] [info   ] All 35 operations synced, thanks for waiting!\n",
      "[neptune] [info   ] Explore the metadata in the Neptune app: https://app.neptune.ai/revivemed/Survival-RCC/e/SUR-2811/metadata\n",
      "Getting the latest dataset\n",
      "[neptune] [info   ] Neptune initialized. Open in the app: https://app.neptune.ai/revivemed/Survival-RCC/\n",
      "[neptune] [info   ] Shutting down background jobs, please wait a moment...\n",
      "[neptune] [info   ] Done!\n",
      "[neptune] [info   ] All 0 operations synced, thanks for waiting!\n",
      "[neptune] [info   ] Explore the metadata in the Neptune app: https://app.neptune.ai/revivemed/Survival-RCC/metadata\n",
      "[neptune] [info   ] Neptune initialized. Open in the app: https://app.neptune.ai/revivemed/Survival-RCC/e/SUR-2810\n",
      "eval_params_list [{'y_col_name': 'MSKCC BINARY', 'y_head': 'MSKCC', 'y_cols': ['MSKCC BINARY']}, {'y_col_name': 'MSKCC ORDINAL', 'y_head': 'MSKCC_Ordinal', 'y_cols': ['MSKCC ORDINAL']}, {'y_col_name': 'MSKCC ORDINAL', 'y_head': 'MSKCC_MultiClass', 'y_cols': ['MSKCC ORDINAL']}]\n",
      "Using Neptune\n"
     ]
    },
    {
     "data": {
      "application/vnd.jupyter.widget-view+json": {
       "model_id": "5f7ad7f368094c1f88b62e19bac5e482",
       "version_major": 2,
       "version_minor": 0
      },
      "text/plain": [
       "Fetching file...: 0 [00:00, ?/s]"
      ]
     },
     "metadata": {},
     "output_type": "display_data"
    },
    {
     "name": "stdout",
     "output_type": "stream",
     "text": [
      "Warning: training is not a valid argument for VAE\n",
      "Warning: goal is not a valid argument for VAE\n",
      "Warning: kind is not a valid argument for VAE\n",
      "Warning: file_id is not a valid argument for VAE\n",
      "Warning: kl_weight is not a valid argument for VAE\n",
      "Error: Invalid head name: MSKCC_Ordinal\n",
      "Error: Invalid head name: MSKCC_MultiClass\n",
      "Error: Invalid head name: MSKCC_Ordinal\n",
      "Error: Invalid head name: MSKCC_MultiClass\n",
      "Using Neptune\n"
     ]
    },
    {
     "data": {
      "application/vnd.jupyter.widget-view+json": {
       "model_id": "46d13ba5333940dc8f9cea5dbca13f77",
       "version_major": 2,
       "version_minor": 0
      },
      "text/plain": [
       "Fetching file...: 0 [00:00, ?/s]"
      ]
     },
     "metadata": {},
     "output_type": "display_data"
    },
    {
     "name": "stdout",
     "output_type": "stream",
     "text": [
      "Warning: training is not a valid argument for VAE\n",
      "Warning: goal is not a valid argument for VAE\n",
      "Warning: kind is not a valid argument for VAE\n",
      "Warning: file_id is not a valid argument for VAE\n",
      "Warning: kl_weight is not a valid argument for VAE\n",
      "Error: Invalid head name: MSKCC_Ordinal\n",
      "Error: Invalid head name: MSKCC_MultiClass\n",
      "Error: Invalid head name: MSKCC_Ordinal\n",
      "Error: Invalid head name: MSKCC_MultiClass\n",
      "Using Neptune\n"
     ]
    },
    {
     "data": {
      "application/vnd.jupyter.widget-view+json": {
       "model_id": "900a096ed4fd46a787340fb64f144aeb",
       "version_major": 2,
       "version_minor": 0
      },
      "text/plain": [
       "Fetching file...: 0 [00:00, ?/s]"
      ]
     },
     "metadata": {},
     "output_type": "display_data"
    },
    {
     "name": "stdout",
     "output_type": "stream",
     "text": [
      "Warning: training is not a valid argument for VAE\n",
      "Warning: goal is not a valid argument for VAE\n",
      "Warning: kind is not a valid argument for VAE\n",
      "Warning: file_id is not a valid argument for VAE\n",
      "Warning: kl_weight is not a valid argument for VAE\n",
      "Error: Invalid head name: MSKCC_Ordinal\n",
      "Error: Invalid head name: MSKCC_MultiClass\n",
      "Error: Invalid head name: MSKCC_Ordinal\n",
      "Error: Invalid head name: MSKCC_MultiClass\n",
      "Using Neptune\n"
     ]
    },
    {
     "data": {
      "application/vnd.jupyter.widget-view+json": {
       "model_id": "4078dd7bca3a41468181810464b9c404",
       "version_major": 2,
       "version_minor": 0
      },
      "text/plain": [
       "Fetching file...: 0 [00:00, ?/s]"
      ]
     },
     "metadata": {},
     "output_type": "display_data"
    },
    {
     "name": "stdout",
     "output_type": "stream",
     "text": [
      "Warning: training is not a valid argument for VAE\n",
      "Warning: goal is not a valid argument for VAE\n",
      "Warning: kind is not a valid argument for VAE\n",
      "Warning: file_id is not a valid argument for VAE\n",
      "Warning: kl_weight is not a valid argument for VAE\n",
      "Error: Invalid head name: MSKCC_Ordinal\n",
      "Error: Invalid head name: MSKCC_MultiClass\n",
      "Error: Invalid head name: MSKCC_Ordinal\n",
      "Error: Invalid head name: MSKCC_MultiClass\n",
      "Using Neptune\n"
     ]
    },
    {
     "data": {
      "application/vnd.jupyter.widget-view+json": {
       "model_id": "7a19fec722334b768cdb9f84c8bb69c5",
       "version_major": 2,
       "version_minor": 0
      },
      "text/plain": [
       "Fetching file...: 0 [00:00, ?/s]"
      ]
     },
     "metadata": {},
     "output_type": "display_data"
    },
    {
     "name": "stdout",
     "output_type": "stream",
     "text": [
      "Warning: training is not a valid argument for VAE\n",
      "Warning: goal is not a valid argument for VAE\n",
      "Warning: kind is not a valid argument for VAE\n",
      "Warning: file_id is not a valid argument for VAE\n",
      "Warning: kl_weight is not a valid argument for VAE\n",
      "Error: Invalid head name: MSKCC_Ordinal\n",
      "Error: Invalid head name: MSKCC_MultiClass\n",
      "Error: Invalid head name: MSKCC_Ordinal\n",
      "Error: Invalid head name: MSKCC_MultiClass\n",
      "Using Neptune\n"
     ]
    },
    {
     "data": {
      "application/vnd.jupyter.widget-view+json": {
       "model_id": "aec61fafe71642ada30475cf9563cb5e",
       "version_major": 2,
       "version_minor": 0
      },
      "text/plain": [
       "Fetching file...: 0 [00:00, ?/s]"
      ]
     },
     "metadata": {},
     "output_type": "display_data"
    },
    {
     "name": "stdout",
     "output_type": "stream",
     "text": [
      "Warning: training is not a valid argument for VAE\n",
      "Warning: goal is not a valid argument for VAE\n",
      "Warning: kind is not a valid argument for VAE\n",
      "Warning: file_id is not a valid argument for VAE\n",
      "Warning: kl_weight is not a valid argument for VAE\n",
      "Error: Invalid head name: MSKCC_Ordinal\n",
      "Error: Invalid head name: MSKCC_MultiClass\n",
      "Error: Invalid head name: MSKCC_Ordinal\n",
      "Error: Invalid head name: MSKCC_MultiClass\n",
      "Using Neptune\n"
     ]
    },
    {
     "data": {
      "application/vnd.jupyter.widget-view+json": {
       "model_id": "b235ae1edd6b48779f9058c9ea4d62a4",
       "version_major": 2,
       "version_minor": 0
      },
      "text/plain": [
       "Fetching file...: 0 [00:00, ?/s]"
      ]
     },
     "metadata": {},
     "output_type": "display_data"
    },
    {
     "name": "stdout",
     "output_type": "stream",
     "text": [
      "Warning: training is not a valid argument for VAE\n",
      "Warning: goal is not a valid argument for VAE\n",
      "Warning: kind is not a valid argument for VAE\n",
      "Warning: file_id is not a valid argument for VAE\n",
      "Warning: kl_weight is not a valid argument for VAE\n",
      "Error: Invalid head name: MSKCC_Ordinal\n",
      "Error: Invalid head name: MSKCC_MultiClass\n",
      "Error: Invalid head name: MSKCC_Ordinal\n",
      "Error: Invalid head name: MSKCC_MultiClass\n",
      "Using Neptune\n"
     ]
    },
    {
     "data": {
      "application/vnd.jupyter.widget-view+json": {
       "model_id": "48410dd567ff4a51a9d58b4117207f53",
       "version_major": 2,
       "version_minor": 0
      },
      "text/plain": [
       "Fetching file...: 0 [00:00, ?/s]"
      ]
     },
     "metadata": {},
     "output_type": "display_data"
    },
    {
     "name": "stdout",
     "output_type": "stream",
     "text": [
      "Warning: training is not a valid argument for VAE\n",
      "Warning: goal is not a valid argument for VAE\n",
      "Warning: kind is not a valid argument for VAE\n",
      "Warning: file_id is not a valid argument for VAE\n",
      "Warning: kl_weight is not a valid argument for VAE\n",
      "Error: Invalid head name: MSKCC_Ordinal\n",
      "Error: Invalid head name: MSKCC_MultiClass\n",
      "Error: Invalid head name: MSKCC_Ordinal\n",
      "Error: Invalid head name: MSKCC_MultiClass\n",
      "Using Neptune\n"
     ]
    },
    {
     "data": {
      "application/vnd.jupyter.widget-view+json": {
       "model_id": "baf5a1eb881a4d1087cdeedf364bc016",
       "version_major": 2,
       "version_minor": 0
      },
      "text/plain": [
       "Fetching file...: 0 [00:00, ?/s]"
      ]
     },
     "metadata": {},
     "output_type": "display_data"
    },
    {
     "name": "stdout",
     "output_type": "stream",
     "text": [
      "Warning: training is not a valid argument for VAE\n",
      "Warning: goal is not a valid argument for VAE\n",
      "Warning: kind is not a valid argument for VAE\n",
      "Warning: file_id is not a valid argument for VAE\n",
      "Warning: kl_weight is not a valid argument for VAE\n",
      "Error: Invalid head name: MSKCC_Ordinal\n",
      "Error: Invalid head name: MSKCC_MultiClass\n",
      "Error: Invalid head name: MSKCC_Ordinal\n",
      "Error: Invalid head name: MSKCC_MultiClass\n",
      "Using Neptune\n"
     ]
    },
    {
     "data": {
      "application/vnd.jupyter.widget-view+json": {
       "model_id": "018022e536374ccabd546954c03186a7",
       "version_major": 2,
       "version_minor": 0
      },
      "text/plain": [
       "Fetching file...: 0 [00:00, ?/s]"
      ]
     },
     "metadata": {},
     "output_type": "display_data"
    },
    {
     "name": "stdout",
     "output_type": "stream",
     "text": [
      "Warning: training is not a valid argument for VAE\n",
      "Warning: goal is not a valid argument for VAE\n",
      "Warning: kind is not a valid argument for VAE\n",
      "Warning: file_id is not a valid argument for VAE\n",
      "Warning: kl_weight is not a valid argument for VAE\n",
      "Error: Invalid head name: MSKCC_Ordinal\n",
      "Error: Invalid head name: MSKCC_MultiClass\n",
      "Error: Invalid head name: MSKCC_Ordinal\n",
      "Error: Invalid head name: MSKCC_MultiClass\n",
      "Using Neptune\n"
     ]
    },
    {
     "data": {
      "application/vnd.jupyter.widget-view+json": {
       "model_id": "24c2a718d8cd47d89beefb2fc13687af",
       "version_major": 2,
       "version_minor": 0
      },
      "text/plain": [
       "Fetching file...: 0 [00:00, ?/s]"
      ]
     },
     "metadata": {},
     "output_type": "display_data"
    },
    {
     "name": "stdout",
     "output_type": "stream",
     "text": [
      "Warning: training is not a valid argument for VAE\n",
      "Warning: goal is not a valid argument for VAE\n",
      "Warning: kind is not a valid argument for VAE\n",
      "Warning: file_id is not a valid argument for VAE\n",
      "Warning: kl_weight is not a valid argument for VAE\n",
      "Error: Invalid head name: MSKCC_Ordinal\n",
      "Error: Invalid head name: MSKCC_MultiClass\n",
      "Error: Invalid head name: MSKCC_Ordinal\n",
      "Error: Invalid head name: MSKCC_MultiClass\n",
      "Using Neptune\n"
     ]
    },
    {
     "data": {
      "application/vnd.jupyter.widget-view+json": {
       "model_id": "7152fd64963a482b888b05afb0f55441",
       "version_major": 2,
       "version_minor": 0
      },
      "text/plain": [
       "Fetching file...: 0 [00:00, ?/s]"
      ]
     },
     "metadata": {},
     "output_type": "display_data"
    },
    {
     "name": "stdout",
     "output_type": "stream",
     "text": [
      "Warning: training is not a valid argument for VAE\n",
      "Warning: goal is not a valid argument for VAE\n",
      "Warning: kind is not a valid argument for VAE\n",
      "Warning: file_id is not a valid argument for VAE\n",
      "Warning: kl_weight is not a valid argument for VAE\n",
      "Error: Invalid head name: MSKCC_Ordinal\n",
      "Error: Invalid head name: MSKCC_MultiClass\n",
      "Error: Invalid head name: MSKCC_Ordinal\n",
      "Error: Invalid head name: MSKCC_MultiClass\n",
      "Using Neptune\n"
     ]
    },
    {
     "data": {
      "application/vnd.jupyter.widget-view+json": {
       "model_id": "1b5af3057bad48cc8a718bb23bf4042d",
       "version_major": 2,
       "version_minor": 0
      },
      "text/plain": [
       "Fetching file...: 0 [00:00, ?/s]"
      ]
     },
     "metadata": {},
     "output_type": "display_data"
    },
    {
     "name": "stdout",
     "output_type": "stream",
     "text": [
      "Warning: training is not a valid argument for VAE\n",
      "Warning: goal is not a valid argument for VAE\n",
      "Warning: kind is not a valid argument for VAE\n",
      "Warning: file_id is not a valid argument for VAE\n",
      "Warning: kl_weight is not a valid argument for VAE\n",
      "Error: Invalid head name: MSKCC_Ordinal\n",
      "Error: Invalid head name: MSKCC_MultiClass\n",
      "Error: Invalid head name: MSKCC_Ordinal\n",
      "Error: Invalid head name: MSKCC_MultiClass\n",
      "Using Neptune\n"
     ]
    },
    {
     "data": {
      "application/vnd.jupyter.widget-view+json": {
       "model_id": "54ea39f9f61d4a4aa9de0ccfc456b7c3",
       "version_major": 2,
       "version_minor": 0
      },
      "text/plain": [
       "Fetching file...: 0 [00:00, ?/s]"
      ]
     },
     "metadata": {},
     "output_type": "display_data"
    },
    {
     "name": "stdout",
     "output_type": "stream",
     "text": [
      "Warning: training is not a valid argument for VAE\n",
      "Warning: goal is not a valid argument for VAE\n",
      "Warning: kind is not a valid argument for VAE\n",
      "Warning: file_id is not a valid argument for VAE\n",
      "Warning: kl_weight is not a valid argument for VAE\n",
      "Error: Invalid head name: MSKCC_Ordinal\n",
      "Error: Invalid head name: MSKCC_MultiClass\n",
      "Error: Invalid head name: MSKCC_Ordinal\n",
      "Error: Invalid head name: MSKCC_MultiClass\n",
      "Using Neptune\n"
     ]
    },
    {
     "data": {
      "application/vnd.jupyter.widget-view+json": {
       "model_id": "bfb3ace61e6a47dfb01d201cf0656189",
       "version_major": 2,
       "version_minor": 0
      },
      "text/plain": [
       "Fetching file...: 0 [00:00, ?/s]"
      ]
     },
     "metadata": {},
     "output_type": "display_data"
    },
    {
     "name": "stdout",
     "output_type": "stream",
     "text": [
      "Warning: training is not a valid argument for VAE\n",
      "Warning: goal is not a valid argument for VAE\n",
      "Warning: kind is not a valid argument for VAE\n",
      "Warning: file_id is not a valid argument for VAE\n",
      "Warning: kl_weight is not a valid argument for VAE\n",
      "Error: Invalid head name: MSKCC_Ordinal\n",
      "Error: Invalid head name: MSKCC_MultiClass\n",
      "Error: Invalid head name: MSKCC_Ordinal\n",
      "Error: Invalid head name: MSKCC_MultiClass\n",
      "Using Neptune\n"
     ]
    },
    {
     "data": {
      "application/vnd.jupyter.widget-view+json": {
       "model_id": "cd06cf49ba3a42ce9cbb1e2035f2fbe9",
       "version_major": 2,
       "version_minor": 0
      },
      "text/plain": [
       "Fetching file...: 0 [00:00, ?/s]"
      ]
     },
     "metadata": {},
     "output_type": "display_data"
    },
    {
     "name": "stdout",
     "output_type": "stream",
     "text": [
      "Warning: training is not a valid argument for VAE\n",
      "Warning: goal is not a valid argument for VAE\n",
      "Warning: kind is not a valid argument for VAE\n",
      "Warning: file_id is not a valid argument for VAE\n",
      "Warning: kl_weight is not a valid argument for VAE\n",
      "Error: Invalid head name: MSKCC_Ordinal\n",
      "Error: Invalid head name: MSKCC_MultiClass\n",
      "Error: Invalid head name: MSKCC_Ordinal\n",
      "Error: Invalid head name: MSKCC_MultiClass\n",
      "Using Neptune\n"
     ]
    },
    {
     "data": {
      "application/vnd.jupyter.widget-view+json": {
       "model_id": "67b96dbb73784ff2aa0db5f931f5f82e",
       "version_major": 2,
       "version_minor": 0
      },
      "text/plain": [
       "Fetching file...: 0 [00:00, ?/s]"
      ]
     },
     "metadata": {},
     "output_type": "display_data"
    },
    {
     "name": "stdout",
     "output_type": "stream",
     "text": [
      "Warning: training is not a valid argument for VAE\n",
      "Warning: goal is not a valid argument for VAE\n",
      "Warning: kind is not a valid argument for VAE\n",
      "Warning: file_id is not a valid argument for VAE\n",
      "Warning: kl_weight is not a valid argument for VAE\n",
      "Error: Invalid head name: MSKCC_Ordinal\n",
      "Error: Invalid head name: MSKCC_MultiClass\n",
      "Error: Invalid head name: MSKCC_Ordinal\n",
      "Error: Invalid head name: MSKCC_MultiClass\n",
      "Using Neptune\n"
     ]
    },
    {
     "data": {
      "application/vnd.jupyter.widget-view+json": {
       "model_id": "8becff4cf6384d7d80dce381489f562d",
       "version_major": 2,
       "version_minor": 0
      },
      "text/plain": [
       "Fetching file...: 0 [00:00, ?/s]"
      ]
     },
     "metadata": {},
     "output_type": "display_data"
    },
    {
     "name": "stdout",
     "output_type": "stream",
     "text": [
      "Warning: training is not a valid argument for VAE\n",
      "Warning: goal is not a valid argument for VAE\n",
      "Warning: kind is not a valid argument for VAE\n",
      "Warning: file_id is not a valid argument for VAE\n",
      "Warning: kl_weight is not a valid argument for VAE\n",
      "Error: Invalid head name: MSKCC_Ordinal\n",
      "Error: Invalid head name: MSKCC_MultiClass\n",
      "Error: Invalid head name: MSKCC_Ordinal\n",
      "Error: Invalid head name: MSKCC_MultiClass\n",
      "Using Neptune\n"
     ]
    },
    {
     "data": {
      "application/vnd.jupyter.widget-view+json": {
       "model_id": "6cfdb63b786747c085a11b5413d84c62",
       "version_major": 2,
       "version_minor": 0
      },
      "text/plain": [
       "Fetching file...: 0 [00:00, ?/s]"
      ]
     },
     "metadata": {},
     "output_type": "display_data"
    },
    {
     "name": "stdout",
     "output_type": "stream",
     "text": [
      "Warning: training is not a valid argument for VAE\n",
      "Warning: goal is not a valid argument for VAE\n",
      "Warning: kind is not a valid argument for VAE\n",
      "Warning: file_id is not a valid argument for VAE\n",
      "Warning: kl_weight is not a valid argument for VAE\n",
      "Error: Invalid head name: MSKCC_Ordinal\n",
      "Error: Invalid head name: MSKCC_MultiClass\n",
      "Error: Invalid head name: MSKCC_Ordinal\n",
      "Error: Invalid head name: MSKCC_MultiClass\n",
      "Using Neptune\n"
     ]
    },
    {
     "data": {
      "application/vnd.jupyter.widget-view+json": {
       "model_id": "ccc227253d174597a9ce6b2ba23fece0",
       "version_major": 2,
       "version_minor": 0
      },
      "text/plain": [
       "Fetching file...: 0 [00:00, ?/s]"
      ]
     },
     "metadata": {},
     "output_type": "display_data"
    },
    {
     "name": "stdout",
     "output_type": "stream",
     "text": [
      "Warning: training is not a valid argument for VAE\n",
      "Warning: goal is not a valid argument for VAE\n",
      "Warning: kind is not a valid argument for VAE\n",
      "Warning: file_id is not a valid argument for VAE\n",
      "Warning: kl_weight is not a valid argument for VAE\n",
      "Error: Invalid head name: MSKCC_Ordinal\n",
      "Error: Invalid head name: MSKCC_MultiClass\n",
      "Error: Invalid head name: MSKCC_Ordinal\n",
      "Error: Invalid head name: MSKCC_MultiClass\n",
      "[neptune] [info   ] Shutting down background jobs, please wait a moment...\n",
      "[neptune] [info   ] Done!\n",
      "[neptune] [info   ] Waiting for the remaining 11 operations to synchronize with Neptune. Do not kill this process.\n",
      "[neptune] [info   ] All 11 operations synced, thanks for waiting!\n",
      "[neptune] [info   ] Explore the metadata in the Neptune app: https://app.neptune.ai/revivemed/Survival-RCC/e/SUR-2810/metadata\n",
      "Getting the latest dataset\n",
      "[neptune] [info   ] Neptune initialized. Open in the app: https://app.neptune.ai/revivemed/Survival-RCC/\n",
      "[neptune] [info   ] Shutting down background jobs, please wait a moment...\n",
      "[neptune] [info   ] Done!\n",
      "[neptune] [info   ] All 0 operations synced, thanks for waiting!\n",
      "[neptune] [info   ] Explore the metadata in the Neptune app: https://app.neptune.ai/revivemed/Survival-RCC/metadata\n",
      "[neptune] [info   ] Neptune initialized. Open in the app: https://app.neptune.ai/revivemed/Survival-RCC/e/SUR-2809\n",
      "eval_params_list [{'y_col_name': 'MSKCC BINARY', 'y_head': 'MSKCC', 'y_cols': ['MSKCC BINARY']}, {'y_col_name': 'MSKCC ORDINAL', 'y_head': 'MSKCC_Ordinal', 'y_cols': ['MSKCC ORDINAL']}, {'y_col_name': 'MSKCC ORDINAL', 'y_head': 'MSKCC_MultiClass', 'y_cols': ['MSKCC ORDINAL']}]\n",
      "Using Neptune\n"
     ]
    },
    {
     "data": {
      "application/vnd.jupyter.widget-view+json": {
       "model_id": "f2d38f5eb72e4603b3e5978d6dedc4d2",
       "version_major": 2,
       "version_minor": 0
      },
      "text/plain": [
       "Fetching file...: 0 [00:00, ?/s]"
      ]
     },
     "metadata": {},
     "output_type": "display_data"
    },
    {
     "name": "stdout",
     "output_type": "stream",
     "text": [
      "Warning: training is not a valid argument for VAE\n",
      "Warning: goal is not a valid argument for VAE\n",
      "Warning: kind is not a valid argument for VAE\n",
      "Warning: file_id is not a valid argument for VAE\n",
      "Warning: kl_weight is not a valid argument for VAE\n",
      "Error: Invalid head name: MSKCC_Ordinal\n",
      "Error: Invalid head name: MSKCC_MultiClass\n",
      "Error: Invalid head name: MSKCC_Ordinal\n",
      "Error: Invalid head name: MSKCC_MultiClass\n",
      "Using Neptune\n"
     ]
    },
    {
     "data": {
      "application/vnd.jupyter.widget-view+json": {
       "model_id": "39a52cdf6e7b430189c8f1251817c451",
       "version_major": 2,
       "version_minor": 0
      },
      "text/plain": [
       "Fetching file...: 0 [00:00, ?/s]"
      ]
     },
     "metadata": {},
     "output_type": "display_data"
    },
    {
     "name": "stdout",
     "output_type": "stream",
     "text": [
      "Warning: training is not a valid argument for VAE\n",
      "Warning: goal is not a valid argument for VAE\n",
      "Warning: kind is not a valid argument for VAE\n",
      "Warning: file_id is not a valid argument for VAE\n",
      "Warning: kl_weight is not a valid argument for VAE\n",
      "Error: Invalid head name: MSKCC_Ordinal\n",
      "Error: Invalid head name: MSKCC_MultiClass\n",
      "Error: Invalid head name: MSKCC_Ordinal\n",
      "Error: Invalid head name: MSKCC_MultiClass\n",
      "Using Neptune\n"
     ]
    },
    {
     "data": {
      "application/vnd.jupyter.widget-view+json": {
       "model_id": "7c3a5a822efd45adad5226cb74ba1f0c",
       "version_major": 2,
       "version_minor": 0
      },
      "text/plain": [
       "Fetching file...: 0 [00:00, ?/s]"
      ]
     },
     "metadata": {},
     "output_type": "display_data"
    },
    {
     "name": "stdout",
     "output_type": "stream",
     "text": [
      "Warning: training is not a valid argument for VAE\n",
      "Warning: goal is not a valid argument for VAE\n",
      "Warning: kind is not a valid argument for VAE\n",
      "Warning: file_id is not a valid argument for VAE\n",
      "Warning: kl_weight is not a valid argument for VAE\n",
      "Error: Invalid head name: MSKCC_Ordinal\n",
      "Error: Invalid head name: MSKCC_MultiClass\n",
      "Error: Invalid head name: MSKCC_Ordinal\n",
      "Error: Invalid head name: MSKCC_MultiClass\n",
      "Using Neptune\n"
     ]
    },
    {
     "data": {
      "application/vnd.jupyter.widget-view+json": {
       "model_id": "da58ff4b14cb4821aac43110a42dcaee",
       "version_major": 2,
       "version_minor": 0
      },
      "text/plain": [
       "Fetching file...: 0 [00:00, ?/s]"
      ]
     },
     "metadata": {},
     "output_type": "display_data"
    },
    {
     "name": "stdout",
     "output_type": "stream",
     "text": [
      "Warning: training is not a valid argument for VAE\n",
      "Warning: goal is not a valid argument for VAE\n",
      "Warning: kind is not a valid argument for VAE\n",
      "Warning: file_id is not a valid argument for VAE\n",
      "Warning: kl_weight is not a valid argument for VAE\n",
      "Error: Invalid head name: MSKCC_Ordinal\n",
      "Error: Invalid head name: MSKCC_MultiClass\n",
      "Error: Invalid head name: MSKCC_Ordinal\n",
      "Error: Invalid head name: MSKCC_MultiClass\n",
      "Using Neptune\n"
     ]
    },
    {
     "data": {
      "application/vnd.jupyter.widget-view+json": {
       "model_id": "e10c1dd917c943c9b4fefa487cd7d6d9",
       "version_major": 2,
       "version_minor": 0
      },
      "text/plain": [
       "Fetching file...: 0 [00:00, ?/s]"
      ]
     },
     "metadata": {},
     "output_type": "display_data"
    },
    {
     "name": "stdout",
     "output_type": "stream",
     "text": [
      "Warning: training is not a valid argument for VAE\n",
      "Warning: goal is not a valid argument for VAE\n",
      "Warning: kind is not a valid argument for VAE\n",
      "Warning: file_id is not a valid argument for VAE\n",
      "Warning: kl_weight is not a valid argument for VAE\n",
      "Error: Invalid head name: MSKCC_Ordinal\n",
      "Error: Invalid head name: MSKCC_MultiClass\n",
      "Error: Invalid head name: MSKCC_Ordinal\n",
      "Error: Invalid head name: MSKCC_MultiClass\n",
      "Using Neptune\n"
     ]
    },
    {
     "data": {
      "application/vnd.jupyter.widget-view+json": {
       "model_id": "a50580b35022425983d3fe01b3633044",
       "version_major": 2,
       "version_minor": 0
      },
      "text/plain": [
       "Fetching file...: 0 [00:00, ?/s]"
      ]
     },
     "metadata": {},
     "output_type": "display_data"
    },
    {
     "name": "stdout",
     "output_type": "stream",
     "text": [
      "Warning: training is not a valid argument for VAE\n",
      "Warning: goal is not a valid argument for VAE\n",
      "Warning: kind is not a valid argument for VAE\n",
      "Warning: file_id is not a valid argument for VAE\n",
      "Warning: kl_weight is not a valid argument for VAE\n",
      "Error: Invalid head name: MSKCC_Ordinal\n",
      "Error: Invalid head name: MSKCC_MultiClass\n",
      "Error: Invalid head name: MSKCC_Ordinal\n",
      "Error: Invalid head name: MSKCC_MultiClass\n",
      "Using Neptune\n"
     ]
    },
    {
     "data": {
      "application/vnd.jupyter.widget-view+json": {
       "model_id": "5eb75cec1ae14219a28fea49ba52cee8",
       "version_major": 2,
       "version_minor": 0
      },
      "text/plain": [
       "Fetching file...: 0 [00:00, ?/s]"
      ]
     },
     "metadata": {},
     "output_type": "display_data"
    },
    {
     "name": "stdout",
     "output_type": "stream",
     "text": [
      "Warning: training is not a valid argument for VAE\n",
      "Warning: goal is not a valid argument for VAE\n",
      "Warning: kind is not a valid argument for VAE\n",
      "Warning: file_id is not a valid argument for VAE\n",
      "Warning: kl_weight is not a valid argument for VAE\n",
      "Error: Invalid head name: MSKCC_Ordinal\n",
      "Error: Invalid head name: MSKCC_MultiClass\n",
      "Error: Invalid head name: MSKCC_Ordinal\n",
      "Error: Invalid head name: MSKCC_MultiClass\n",
      "Using Neptune\n"
     ]
    },
    {
     "data": {
      "application/vnd.jupyter.widget-view+json": {
       "model_id": "97581033284448edaaf3fe5c9e293847",
       "version_major": 2,
       "version_minor": 0
      },
      "text/plain": [
       "Fetching file...: 0 [00:00, ?/s]"
      ]
     },
     "metadata": {},
     "output_type": "display_data"
    },
    {
     "name": "stdout",
     "output_type": "stream",
     "text": [
      "Warning: training is not a valid argument for VAE\n",
      "Warning: goal is not a valid argument for VAE\n",
      "Warning: kind is not a valid argument for VAE\n",
      "Warning: file_id is not a valid argument for VAE\n",
      "Warning: kl_weight is not a valid argument for VAE\n",
      "Error: Invalid head name: MSKCC_Ordinal\n",
      "Error: Invalid head name: MSKCC_MultiClass\n",
      "Error: Invalid head name: MSKCC_Ordinal\n",
      "Error: Invalid head name: MSKCC_MultiClass\n",
      "Using Neptune\n"
     ]
    },
    {
     "data": {
      "application/vnd.jupyter.widget-view+json": {
       "model_id": "e267bf0bb32642e491a4984759b8ce0d",
       "version_major": 2,
       "version_minor": 0
      },
      "text/plain": [
       "Fetching file...: 0 [00:00, ?/s]"
      ]
     },
     "metadata": {},
     "output_type": "display_data"
    },
    {
     "name": "stdout",
     "output_type": "stream",
     "text": [
      "Warning: training is not a valid argument for VAE\n",
      "Warning: goal is not a valid argument for VAE\n",
      "Warning: kind is not a valid argument for VAE\n",
      "Warning: file_id is not a valid argument for VAE\n",
      "Warning: kl_weight is not a valid argument for VAE\n",
      "Error: Invalid head name: MSKCC_Ordinal\n",
      "Error: Invalid head name: MSKCC_MultiClass\n",
      "Error: Invalid head name: MSKCC_Ordinal\n",
      "Error: Invalid head name: MSKCC_MultiClass\n",
      "Using Neptune\n"
     ]
    },
    {
     "data": {
      "application/vnd.jupyter.widget-view+json": {
       "model_id": "ecc2f46489b7413193e4d58995c7bac6",
       "version_major": 2,
       "version_minor": 0
      },
      "text/plain": [
       "Fetching file...: 0 [00:00, ?/s]"
      ]
     },
     "metadata": {},
     "output_type": "display_data"
    },
    {
     "name": "stdout",
     "output_type": "stream",
     "text": [
      "Warning: training is not a valid argument for VAE\n",
      "Warning: goal is not a valid argument for VAE\n",
      "Warning: kind is not a valid argument for VAE\n",
      "Warning: file_id is not a valid argument for VAE\n",
      "Warning: kl_weight is not a valid argument for VAE\n",
      "Error: Invalid head name: MSKCC_Ordinal\n",
      "Error: Invalid head name: MSKCC_MultiClass\n",
      "Error: Invalid head name: MSKCC_Ordinal\n",
      "Error: Invalid head name: MSKCC_MultiClass\n",
      "Using Neptune\n"
     ]
    },
    {
     "data": {
      "application/vnd.jupyter.widget-view+json": {
       "model_id": "3447162e8c0a4923a365db91b4881fab",
       "version_major": 2,
       "version_minor": 0
      },
      "text/plain": [
       "Fetching file...: 0 [00:00, ?/s]"
      ]
     },
     "metadata": {},
     "output_type": "display_data"
    },
    {
     "name": "stdout",
     "output_type": "stream",
     "text": [
      "Warning: training is not a valid argument for VAE\n",
      "Warning: goal is not a valid argument for VAE\n",
      "Warning: kind is not a valid argument for VAE\n",
      "Warning: file_id is not a valid argument for VAE\n",
      "Warning: kl_weight is not a valid argument for VAE\n",
      "Error: Invalid head name: MSKCC_Ordinal\n",
      "Error: Invalid head name: MSKCC_MultiClass\n",
      "Error: Invalid head name: MSKCC_Ordinal\n",
      "Error: Invalid head name: MSKCC_MultiClass\n",
      "Using Neptune\n"
     ]
    },
    {
     "data": {
      "application/vnd.jupyter.widget-view+json": {
       "model_id": "98ca957698234668aa92a80f9b95e9e4",
       "version_major": 2,
       "version_minor": 0
      },
      "text/plain": [
       "Fetching file...: 0 [00:00, ?/s]"
      ]
     },
     "metadata": {},
     "output_type": "display_data"
    },
    {
     "name": "stdout",
     "output_type": "stream",
     "text": [
      "Warning: training is not a valid argument for VAE\n",
      "Warning: goal is not a valid argument for VAE\n",
      "Warning: kind is not a valid argument for VAE\n",
      "Warning: file_id is not a valid argument for VAE\n",
      "Warning: kl_weight is not a valid argument for VAE\n",
      "Error: Invalid head name: MSKCC_Ordinal\n",
      "Error: Invalid head name: MSKCC_MultiClass\n",
      "Error: Invalid head name: MSKCC_Ordinal\n",
      "Error: Invalid head name: MSKCC_MultiClass\n",
      "Using Neptune\n"
     ]
    },
    {
     "data": {
      "application/vnd.jupyter.widget-view+json": {
       "model_id": "20428899f8e0464dabb2600a8d2a2e5d",
       "version_major": 2,
       "version_minor": 0
      },
      "text/plain": [
       "Fetching file...: 0 [00:00, ?/s]"
      ]
     },
     "metadata": {},
     "output_type": "display_data"
    },
    {
     "name": "stdout",
     "output_type": "stream",
     "text": [
      "Warning: training is not a valid argument for VAE\n",
      "Warning: goal is not a valid argument for VAE\n",
      "Warning: kind is not a valid argument for VAE\n",
      "Warning: file_id is not a valid argument for VAE\n",
      "Warning: kl_weight is not a valid argument for VAE\n",
      "Error: Invalid head name: MSKCC_Ordinal\n",
      "Error: Invalid head name: MSKCC_MultiClass\n",
      "Error: Invalid head name: MSKCC_Ordinal\n",
      "Error: Invalid head name: MSKCC_MultiClass\n",
      "Using Neptune\n"
     ]
    },
    {
     "data": {
      "application/vnd.jupyter.widget-view+json": {
       "model_id": "893289f4dfa848be85eb41cbd4c9f563",
       "version_major": 2,
       "version_minor": 0
      },
      "text/plain": [
       "Fetching file...: 0 [00:00, ?/s]"
      ]
     },
     "metadata": {},
     "output_type": "display_data"
    },
    {
     "name": "stdout",
     "output_type": "stream",
     "text": [
      "Warning: training is not a valid argument for VAE\n",
      "Warning: goal is not a valid argument for VAE\n",
      "Warning: kind is not a valid argument for VAE\n",
      "Warning: file_id is not a valid argument for VAE\n",
      "Warning: kl_weight is not a valid argument for VAE\n",
      "Error: Invalid head name: MSKCC_Ordinal\n",
      "Error: Invalid head name: MSKCC_MultiClass\n",
      "Error: Invalid head name: MSKCC_Ordinal\n",
      "Error: Invalid head name: MSKCC_MultiClass\n",
      "Using Neptune\n"
     ]
    },
    {
     "data": {
      "application/vnd.jupyter.widget-view+json": {
       "model_id": "f2f643c9a1a54b51b7e06128dcfb864a",
       "version_major": 2,
       "version_minor": 0
      },
      "text/plain": [
       "Fetching file...: 0 [00:00, ?/s]"
      ]
     },
     "metadata": {},
     "output_type": "display_data"
    },
    {
     "name": "stdout",
     "output_type": "stream",
     "text": [
      "Warning: training is not a valid argument for VAE\n",
      "Warning: goal is not a valid argument for VAE\n",
      "Warning: kind is not a valid argument for VAE\n",
      "Warning: file_id is not a valid argument for VAE\n",
      "Warning: kl_weight is not a valid argument for VAE\n",
      "Error: Invalid head name: MSKCC_Ordinal\n",
      "Error: Invalid head name: MSKCC_MultiClass\n",
      "Error: Invalid head name: MSKCC_Ordinal\n",
      "Error: Invalid head name: MSKCC_MultiClass\n",
      "Using Neptune\n"
     ]
    },
    {
     "data": {
      "application/vnd.jupyter.widget-view+json": {
       "model_id": "f66178c2d21a4c2d82cfaabad0a46be1",
       "version_major": 2,
       "version_minor": 0
      },
      "text/plain": [
       "Fetching file...: 0 [00:00, ?/s]"
      ]
     },
     "metadata": {},
     "output_type": "display_data"
    },
    {
     "name": "stdout",
     "output_type": "stream",
     "text": [
      "Warning: training is not a valid argument for VAE\n",
      "Warning: goal is not a valid argument for VAE\n",
      "Warning: kind is not a valid argument for VAE\n",
      "Warning: file_id is not a valid argument for VAE\n",
      "Warning: kl_weight is not a valid argument for VAE\n",
      "Error: Invalid head name: MSKCC_Ordinal\n",
      "Error: Invalid head name: MSKCC_MultiClass\n",
      "Error: Invalid head name: MSKCC_Ordinal\n",
      "Error: Invalid head name: MSKCC_MultiClass\n",
      "Using Neptune\n"
     ]
    },
    {
     "data": {
      "application/vnd.jupyter.widget-view+json": {
       "model_id": "239c81e07220449d83fc45a1ee9f6cb3",
       "version_major": 2,
       "version_minor": 0
      },
      "text/plain": [
       "Fetching file...: 0 [00:00, ?/s]"
      ]
     },
     "metadata": {},
     "output_type": "display_data"
    },
    {
     "name": "stdout",
     "output_type": "stream",
     "text": [
      "Warning: training is not a valid argument for VAE\n",
      "Warning: goal is not a valid argument for VAE\n",
      "Warning: kind is not a valid argument for VAE\n",
      "Warning: file_id is not a valid argument for VAE\n",
      "Warning: kl_weight is not a valid argument for VAE\n",
      "Error: Invalid head name: MSKCC_Ordinal\n",
      "Error: Invalid head name: MSKCC_MultiClass\n",
      "Error: Invalid head name: MSKCC_Ordinal\n",
      "Error: Invalid head name: MSKCC_MultiClass\n",
      "Using Neptune\n"
     ]
    },
    {
     "data": {
      "application/vnd.jupyter.widget-view+json": {
       "model_id": "b8be0f23b82d47ff87c1ae3a731c6610",
       "version_major": 2,
       "version_minor": 0
      },
      "text/plain": [
       "Fetching file...: 0 [00:00, ?/s]"
      ]
     },
     "metadata": {},
     "output_type": "display_data"
    },
    {
     "name": "stdout",
     "output_type": "stream",
     "text": [
      "Warning: training is not a valid argument for VAE\n",
      "Warning: goal is not a valid argument for VAE\n",
      "Warning: kind is not a valid argument for VAE\n",
      "Warning: file_id is not a valid argument for VAE\n",
      "Warning: kl_weight is not a valid argument for VAE\n",
      "Error: Invalid head name: MSKCC_Ordinal\n",
      "Error: Invalid head name: MSKCC_MultiClass\n",
      "Error: Invalid head name: MSKCC_Ordinal\n",
      "Error: Invalid head name: MSKCC_MultiClass\n",
      "Using Neptune\n"
     ]
    },
    {
     "data": {
      "application/vnd.jupyter.widget-view+json": {
       "model_id": "d077772be7754797959540080f8d9787",
       "version_major": 2,
       "version_minor": 0
      },
      "text/plain": [
       "Fetching file...: 0 [00:00, ?/s]"
      ]
     },
     "metadata": {},
     "output_type": "display_data"
    },
    {
     "name": "stdout",
     "output_type": "stream",
     "text": [
      "Warning: training is not a valid argument for VAE\n",
      "Warning: goal is not a valid argument for VAE\n",
      "Warning: kind is not a valid argument for VAE\n",
      "Warning: file_id is not a valid argument for VAE\n",
      "Warning: kl_weight is not a valid argument for VAE\n",
      "Error: Invalid head name: MSKCC_Ordinal\n",
      "Error: Invalid head name: MSKCC_MultiClass\n",
      "Error: Invalid head name: MSKCC_Ordinal\n",
      "Error: Invalid head name: MSKCC_MultiClass\n",
      "Using Neptune\n"
     ]
    },
    {
     "data": {
      "application/vnd.jupyter.widget-view+json": {
       "model_id": "758dc9e6f5d44e4aae983ee10b208cca",
       "version_major": 2,
       "version_minor": 0
      },
      "text/plain": [
       "Fetching file...: 0 [00:00, ?/s]"
      ]
     },
     "metadata": {},
     "output_type": "display_data"
    },
    {
     "name": "stdout",
     "output_type": "stream",
     "text": [
      "Warning: training is not a valid argument for VAE\n",
      "Warning: goal is not a valid argument for VAE\n",
      "Warning: kind is not a valid argument for VAE\n",
      "Warning: file_id is not a valid argument for VAE\n",
      "Warning: kl_weight is not a valid argument for VAE\n",
      "Error: Invalid head name: MSKCC_Ordinal\n",
      "Error: Invalid head name: MSKCC_MultiClass\n",
      "Error: Invalid head name: MSKCC_Ordinal\n",
      "Error: Invalid head name: MSKCC_MultiClass\n",
      "[neptune] [info   ] Shutting down background jobs, please wait a moment...\n",
      "[neptune] [info   ] Done!\n",
      "[neptune] [info   ] Waiting for the remaining 11 operations to synchronize with Neptune. Do not kill this process.\n",
      "[neptune] [info   ] All 11 operations synced, thanks for waiting!\n",
      "[neptune] [info   ] Explore the metadata in the Neptune app: https://app.neptune.ai/revivemed/Survival-RCC/e/SUR-2809/metadata\n",
      "Getting the latest dataset\n",
      "[neptune] [info   ] Neptune initialized. Open in the app: https://app.neptune.ai/revivemed/Survival-RCC/\n",
      "[neptune] [info   ] Shutting down background jobs, please wait a moment...\n",
      "[neptune] [info   ] Done!\n",
      "[neptune] [info   ] All 0 operations synced, thanks for waiting!\n",
      "[neptune] [info   ] Explore the metadata in the Neptune app: https://app.neptune.ai/revivemed/Survival-RCC/metadata\n",
      "[neptune] [info   ] Neptune initialized. Open in the app: https://app.neptune.ai/revivemed/Survival-RCC/e/SUR-2808\n",
      "eval_params_list [{'y_col_name': 'NIVO OS', 'y_head': 'Both OS', 'y_cols': ['NIVO OS', 'OS_Event']}, {'y_col_name': 'EVER OS', 'y_head': 'Both OS', 'y_cols': ['EVER OS', 'OS_Event']}, {'y_col_name': 'Both OS', 'y_head': 'Both OS', 'y_cols': ['OS', 'OS_Event']}, {'y_col_name': 'Benefit', 'y_head': 'Benefit', 'y_cols': ['Benefit']}]\n",
      "Using Neptune\n"
     ]
    },
    {
     "data": {
      "application/vnd.jupyter.widget-view+json": {
       "model_id": "5439ffe7047a480e8f6017692c34c85d",
       "version_major": 2,
       "version_minor": 0
      },
      "text/plain": [
       "Fetching file...: 0 [00:00, ?/s]"
      ]
     },
     "metadata": {},
     "output_type": "display_data"
    },
    {
     "name": "stdout",
     "output_type": "stream",
     "text": [
      "Warning: training is not a valid argument for VAE\n",
      "Warning: goal is not a valid argument for VAE\n",
      "Warning: kind is not a valid argument for VAE\n",
      "Warning: file_id is not a valid argument for VAE\n",
      "Warning: kl_weight is not a valid argument for VAE\n"
     ]
    },
    {
     "ename": "TypeError",
     "evalue": "can't convert np.ndarray of type numpy.object_. The only supported types are: float64, float32, float16, complex64, complex128, int64, int32, int16, int8, uint8, and bool.",
     "output_type": "error",
     "traceback": [
      "\u001b[0;31m---------------------------------------------------------------------------\u001b[0m",
      "\u001b[0;31mTypeError\u001b[0m                                 Traceback (most recent call last)",
      "Cell \u001b[0;32mIn[3], line 6\u001b[0m\n\u001b[1;32m      1\u001b[0m \u001b[38;5;28;01mfrom\u001b[39;00m \u001b[38;5;21;01mmain_finetune\u001b[39;00m \u001b[38;5;28;01mimport\u001b[39;00m finetune_run_wrapper\n\u001b[1;32m      3\u001b[0m \u001b[38;5;28;01mfor\u001b[39;00m with_id \u001b[38;5;129;01min\u001b[39;00m df[\u001b[38;5;124m'\u001b[39m\u001b[38;5;124mId\u001b[39m\u001b[38;5;124m'\u001b[39m]\u001b[38;5;241m.\u001b[39mto_list():\n\u001b[1;32m      4\u001b[0m \u001b[38;5;66;03m# for with_id in df[('param','sys/id')].to_list():\u001b[39;00m\n\u001b[0;32m----> 6\u001b[0m     \u001b[43mfinetune_run_wrapper\u001b[49m\u001b[43m(\u001b[49m\u001b[43mwith_id\u001b[49m\u001b[38;5;241;43m=\u001b[39;49m\u001b[43mwith_id\u001b[49m\u001b[43m)\u001b[49m\n",
      "File \u001b[0;32m~/mz_embed_engine/ml/main_finetune.py:383\u001b[0m, in \u001b[0;36mfinetune_run_wrapper\u001b[0;34m(**user_kwargs)\u001b[0m\n\u001b[1;32m    380\u001b[0m output_dir \u001b[38;5;241m=\u001b[39m \u001b[38;5;124mf\u001b[39m\u001b[38;5;124m'\u001b[39m\u001b[38;5;132;01m{\u001b[39;00moutput_save_dir\u001b[38;5;132;01m}\u001b[39;00m\u001b[38;5;124m/\u001b[39m\u001b[38;5;132;01m{\u001b[39;00mrun_id\u001b[38;5;132;01m}\u001b[39;00m\u001b[38;5;124m'\u001b[39m\n\u001b[1;32m    381\u001b[0m os\u001b[38;5;241m.\u001b[39mmakedirs(output_dir,exist_ok\u001b[38;5;241m=\u001b[39m\u001b[38;5;28;01mTrue\u001b[39;00m)\n\u001b[0;32m--> 383\u001b[0m run \u001b[38;5;241m=\u001b[39m \u001b[43mrun_multiple_iterations\u001b[49m\u001b[43m(\u001b[49m\u001b[43mdata_dir\u001b[49m\u001b[43m,\u001b[49m\u001b[43mparams\u001b[49m\u001b[43m,\u001b[49m\u001b[43moutput_dir\u001b[49m\u001b[43m,\u001b[49m\u001b[43meval_params_list\u001b[49m\u001b[43m,\u001b[49m\u001b[43mrun\u001b[49m\u001b[43m,\u001b[49m\u001b[43mprefix_name\u001b[49m\u001b[38;5;241;43m=\u001b[39;49m\u001b[38;5;124;43m'\u001b[39;49m\u001b[38;5;124;43mrun\u001b[39;49m\u001b[38;5;124;43m'\u001b[39;49m\u001b[43m,\u001b[49m\u001b[43mnum_iterations\u001b[49m\u001b[38;5;241;43m=\u001b[39;49m\u001b[43mnum_iterations\u001b[49m\u001b[43m)\u001b[49m\n\u001b[1;32m    384\u001b[0m run[\u001b[38;5;124m'\u001b[39m\u001b[38;5;124msys/failed\u001b[39m\u001b[38;5;124m'\u001b[39m] \u001b[38;5;241m=\u001b[39m \u001b[38;5;28;01mFalse\u001b[39;00m\n\u001b[1;32m    385\u001b[0m run\u001b[38;5;241m.\u001b[39mstop()\n",
      "File \u001b[0;32m~/mz_embed_engine/ml/main_finetune.py:204\u001b[0m, in \u001b[0;36mrun_multiple_iterations\u001b[0;34m(data_dir, params, output_dir, eval_params_list, run, prefix_name, num_iterations)\u001b[0m\n\u001b[1;32m    202\u001b[0m \u001b[38;5;28;01mfor\u001b[39;00m \u001b[38;5;28miter\u001b[39m \u001b[38;5;129;01min\u001b[39;00m \u001b[38;5;28mrange\u001b[39m(num_iterations):\n\u001b[1;32m    203\u001b[0m     \u001b[38;5;28;01mtry\u001b[39;00m:\n\u001b[0;32m--> 204\u001b[0m         train_metrics \u001b[38;5;241m=\u001b[39m \u001b[43mrun_model_wrapper\u001b[49m\u001b[43m(\u001b[49m\u001b[43mdata_dir\u001b[49m\u001b[43m,\u001b[49m\u001b[43mparams\u001b[49m\u001b[43m,\u001b[49m\n\u001b[1;32m    205\u001b[0m \u001b[43m                        \u001b[49m\u001b[43moutput_dir\u001b[49m\u001b[38;5;241;43m=\u001b[39;49m\u001b[43moutput_dir\u001b[49m\u001b[43m,\u001b[49m\n\u001b[1;32m    206\u001b[0m \u001b[43m                        \u001b[49m\u001b[43mtrain_name\u001b[49m\u001b[38;5;241;43m=\u001b[39;49m\u001b[38;5;124;43m'\u001b[39;49m\u001b[38;5;124;43mtrain\u001b[39;49m\u001b[38;5;124;43m'\u001b[39;49m\u001b[43m,\u001b[49m\n\u001b[1;32m    207\u001b[0m \u001b[43m                        \u001b[49m\u001b[43mprefix\u001b[49m\u001b[38;5;241;43m=\u001b[39;49m\u001b[38;5;124;43mf\u001b[39;49m\u001b[38;5;124;43m'\u001b[39;49m\u001b[38;5;124;43mtraining_\u001b[39;49m\u001b[38;5;132;43;01m{\u001b[39;49;00m\u001b[43mprefix_name\u001b[49m\u001b[38;5;132;43;01m}\u001b[39;49;00m\u001b[38;5;124;43m_\u001b[39;49m\u001b[38;5;132;43;01m{\u001b[39;49;00m\u001b[38;5;28;43miter\u001b[39;49m\u001b[38;5;132;43;01m}\u001b[39;49;00m\u001b[38;5;124;43m'\u001b[39;49m\u001b[43m,\u001b[49m\u001b[43m \u001b[49m\n\u001b[1;32m    208\u001b[0m \u001b[43m                        \u001b[49m\u001b[43meval_name_list\u001b[49m\u001b[38;5;241;43m=\u001b[39;49m\u001b[43m[\u001b[49m\u001b[38;5;124;43m'\u001b[39;49m\u001b[38;5;124;43mval\u001b[39;49m\u001b[38;5;124;43m'\u001b[39;49m\u001b[43m,\u001b[49m\u001b[38;5;124;43m'\u001b[39;49m\u001b[38;5;124;43mtrain\u001b[39;49m\u001b[38;5;124;43m'\u001b[39;49m\u001b[43m]\u001b[49m\u001b[43m,\u001b[49m\n\u001b[1;32m    209\u001b[0m \u001b[43m                        \u001b[49m\u001b[43meval_params_list\u001b[49m\u001b[38;5;241;43m=\u001b[39;49m\u001b[43meval_params_list\u001b[49m\u001b[43m,\u001b[49m\n\u001b[1;32m    210\u001b[0m \u001b[43m                        \u001b[49m\u001b[43mrun_dict\u001b[49m\u001b[38;5;241;43m=\u001b[39;49m\u001b[43mrun\u001b[49m\u001b[43m)\u001b[49m\n\u001b[1;32m    212\u001b[0m         \u001b[38;5;28;01mif\u001b[39;00m train_metrics \u001b[38;5;129;01mis\u001b[39;00m \u001b[38;5;28;01mNone\u001b[39;00m:\n\u001b[1;32m    213\u001b[0m             \u001b[38;5;28;01mcontinue\u001b[39;00m\n",
      "File \u001b[0;32m~/mz_embed_engine/ml/utils_finetune.py:166\u001b[0m, in \u001b[0;36mrun_model_wrapper\u001b[0;34m(data_dir, params, output_dir, train_name, prefix, eval_name_list, eval_params_list, run_dict)\u001b[0m\n\u001b[1;32m    162\u001b[0m         metrics[\u001b[38;5;124mf\u001b[39m\u001b[38;5;124m'\u001b[39m\u001b[38;5;132;01m{\u001b[39;00meval_name\u001b[38;5;132;01m}\u001b[39;00m\u001b[38;5;124m'\u001b[39m ]\u001b[38;5;241m.\u001b[39mupdate(evaluate_model_wrapper(encoder, head, adv, X_data_eval, y_data_eval,\n\u001b[1;32m    163\u001b[0m                                                             y_cols\u001b[38;5;241m=\u001b[39my_cols,\n\u001b[1;32m    164\u001b[0m                                                             y_head\u001b[38;5;241m=\u001b[39my_head))\n\u001b[1;32m    165\u001b[0m     \u001b[38;5;28;01melse\u001b[39;00m:\n\u001b[0;32m--> 166\u001b[0m         metrics[\u001b[38;5;124mf\u001b[39m\u001b[38;5;124m'\u001b[39m\u001b[38;5;132;01m{\u001b[39;00meval_name\u001b[38;5;132;01m}\u001b[39;00m\u001b[38;5;124m__head_\u001b[39m\u001b[38;5;132;01m{\u001b[39;00my_head\u001b[38;5;132;01m}\u001b[39;00m\u001b[38;5;124m__on_\u001b[39m\u001b[38;5;132;01m{\u001b[39;00my_col_name\u001b[38;5;132;01m}\u001b[39;00m\u001b[38;5;124m'\u001b[39m]\u001b[38;5;241m.\u001b[39mupdate(\u001b[43mevaluate_model_wrapper\u001b[49m\u001b[43m(\u001b[49m\u001b[43mencoder\u001b[49m\u001b[43m,\u001b[49m\u001b[43m \u001b[49m\u001b[43mhead\u001b[49m\u001b[43m,\u001b[49m\u001b[43m \u001b[49m\u001b[43madv\u001b[49m\u001b[43m,\u001b[49m\u001b[43m \u001b[49m\u001b[43mX_data_eval\u001b[49m\u001b[43m,\u001b[49m\u001b[43m \u001b[49m\u001b[43my_data_eval\u001b[49m\u001b[43m,\u001b[49m\n\u001b[1;32m    167\u001b[0m \u001b[43m                                                                            \u001b[49m\u001b[43my_cols\u001b[49m\u001b[38;5;241;43m=\u001b[39;49m\u001b[43my_cols\u001b[49m\u001b[43m,\u001b[49m\n\u001b[1;32m    168\u001b[0m \u001b[43m                                                                            \u001b[49m\u001b[43my_head\u001b[49m\u001b[38;5;241;43m=\u001b[39;49m\u001b[43my_head\u001b[49m\u001b[43m)\u001b[49m)\n\u001b[1;32m    169\u001b[0m         \u001b[38;5;66;03m# metrics[f'{eval_name}__{y_col_name}'].update(evaluate_model_wrapper(encoder, head, adv, X_data_eval, y_data_eval,\u001b[39;00m\n\u001b[1;32m    170\u001b[0m         \u001b[38;5;66;03m#                                                 y_cols=y_cols,\u001b[39;00m\n\u001b[1;32m    171\u001b[0m         \u001b[38;5;66;03m#                                                 y_head=y_head))\u001b[39;00m\n\u001b[1;32m    172\u001b[0m \u001b[38;5;28;01mexcept\u001b[39;00m \u001b[38;5;167;01mValueError\u001b[39;00m \u001b[38;5;28;01mas\u001b[39;00m e:\n",
      "File \u001b[0;32m~/mz_embed_engine/ml/utils_finetune.py:579\u001b[0m, in \u001b[0;36mevaluate_model_wrapper\u001b[0;34m(encoder, head, adv, X_data_eval, y_data_eval, y_cols, y_head)\u001b[0m\n\u001b[1;32m    576\u001b[0m model \u001b[38;5;241m=\u001b[39m CompoundModel(encoder, chosen_head)\n\u001b[1;32m    577\u001b[0m skmodel \u001b[38;5;241m=\u001b[39m create_pytorch_model_from_info(full_model\u001b[38;5;241m=\u001b[39mmodel)\n\u001b[0;32m--> 579\u001b[0m \u001b[38;5;28;01mreturn\u001b[39;00m \u001b[43mskmodel\u001b[49m\u001b[38;5;241;43m.\u001b[39;49m\u001b[43mscore\u001b[49m\u001b[43m(\u001b[49m\u001b[43mX_data_eval\u001b[49m\u001b[38;5;241;43m.\u001b[39;49m\u001b[43mto_numpy\u001b[49m\u001b[43m(\u001b[49m\u001b[43m)\u001b[49m\u001b[43m,\u001b[49m\u001b[43my_data_eval\u001b[49m\u001b[43m[\u001b[49m\u001b[43my_cols\u001b[49m\u001b[43m]\u001b[49m\u001b[38;5;241;43m.\u001b[39;49m\u001b[43mto_numpy\u001b[49m\u001b[43m(\u001b[49m\u001b[43m)\u001b[49m\u001b[43m)\u001b[49m\n",
      "File \u001b[0;32m~/mz_embed_engine/ml/models.py:1582\u001b[0m, in \u001b[0;36mPytorchModel.score\u001b[0;34m(self, X, y, other_vars, batch_size)\u001b[0m\n\u001b[1;32m   1580\u001b[0m         \u001b[38;5;28;01mreturn\u001b[39;00m \u001b[38;5;28mself\u001b[39m\u001b[38;5;241m.\u001b[39mmodel\u001b[38;5;241m.\u001b[39mscore(y_outputs, torch\u001b[38;5;241m.\u001b[39mtensor(y))\n\u001b[1;32m   1581\u001b[0m     \u001b[38;5;28;01melse\u001b[39;00m:\n\u001b[0;32m-> 1582\u001b[0m         \u001b[38;5;28;01mreturn\u001b[39;00m \u001b[38;5;28mself\u001b[39m\u001b[38;5;241m.\u001b[39mmodel\u001b[38;5;241m.\u001b[39mscore(torch\u001b[38;5;241m.\u001b[39mtensor(y_outputs),\u001b[43mtorch\u001b[49m\u001b[38;5;241;43m.\u001b[39;49m\u001b[43mtensor\u001b[49m\u001b[43m(\u001b[49m\u001b[43my\u001b[49m\u001b[43m)\u001b[49m)\n\u001b[1;32m   1583\u001b[0m \u001b[38;5;28;01melse\u001b[39;00m:\n\u001b[1;32m   1584\u001b[0m     \u001b[38;5;28;01mraise\u001b[39;00m \u001b[38;5;167;01mNotImplementedError\u001b[39;00m(\u001b[38;5;124m'\u001b[39m\u001b[38;5;124mscore method not implemented\u001b[39m\u001b[38;5;124m'\u001b[39m)\n",
      "\u001b[0;31mTypeError\u001b[0m: can't convert np.ndarray of type numpy.object_. The only supported types are: float64, float32, float16, complex64, complex128, int64, int32, int16, int8, uint8, and bool."
     ]
    }
   ],
   "source": [
    "from main_finetune import finetune_run_wrapper\n",
    "\n",
    "finished_ids = []\n",
    "'SUR-2808'\n",
    "\n",
    "for with_id in df['Id'].to_list():\n",
    "# for with_id in df[('param','sys/id')].to_list():\n",
    "    finetune_run_wrapper(with_id=with_id)\n",
    "    finished_ids.append(with_id)"
   ]
  },
  {
   "cell_type": "code",
   "execution_count": 5,
   "metadata": {},
   "outputs": [
    {
     "data": {
      "text/plain": [
       "'SUR-2808'"
      ]
     },
     "execution_count": 5,
     "metadata": {},
     "output_type": "execute_result"
    }
   ],
   "source": [
    "with_id"
   ]
  },
  {
   "cell_type": "code",
   "execution_count": null,
   "metadata": {},
   "outputs": [],
   "source": []
  }
 ],
 "metadata": {
  "kernelspec": {
   "display_name": "mz_embed_engine",
   "language": "python",
   "name": "python3"
  },
  "language_info": {
   "codemirror_mode": {
    "name": "ipython",
    "version": 3
   },
   "file_extension": ".py",
   "mimetype": "text/x-python",
   "name": "python",
   "nbconvert_exporter": "python",
   "pygments_lexer": "ipython3",
   "version": "3.9.19"
  }
 },
 "nbformat": 4,
 "nbformat_minor": 2
}
