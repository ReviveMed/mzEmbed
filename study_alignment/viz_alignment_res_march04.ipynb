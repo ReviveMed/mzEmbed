{
 "cells": [
  {
   "cell_type": "code",
   "execution_count": 7,
   "metadata": {},
   "outputs": [],
   "source": [
    "import os\n",
    "import pandas as pd\n",
    "import numpy as np\n",
    "# ! pip install supervenn\n",
    "from supervenn import supervenn\n",
    "\n",
    "import matplotlib.pyplot as plt\n",
    "import seaborn as sns\n",
    "from utils import get_dropbox_dir\n",
    "from standardize import fill_na_by_cohort, standardize_across_cohorts"
   ]
  },
  {
   "cell_type": "markdown",
   "metadata": {},
   "source": [
    "## Load Important Stuff"
   ]
  },
  {
   "cell_type": "markdown",
   "metadata": {},
   "source": [
    "### Directories"
   ]
  },
  {
   "cell_type": "code",
   "execution_count": 8,
   "metadata": {},
   "outputs": [],
   "source": [
    "# %%\n",
    "dropbox_dir = get_dropbox_dir()\n",
    "base_dir = os.path.join(dropbox_dir, 'development_CohortCombination','alignment_RCC_2024_Feb_27')\n",
    "\n",
    "ref_freq = 0.6\n",
    "input_freq = 0.1\n",
    "matt_ft_dir = os.path.join(base_dir, 'matt_top_fts')\n",
    "data_dir = os.path.join(base_dir, 'alignment_id_31', f'merge_reference_freq_th_{ref_freq}_freq_th_{input_freq}')\n",
    "\n",
    "cohort_ids_to_labels_file = os.path.join(base_dir, 'cohort_ids_to_labels.xlsx')\n",
    "save_dir = os.path.join(data_dir,'plots')\n",
    "os.makedirs(save_dir, exist_ok=True)\n",
    "savefig_params = {'dpi': 300, 'bbox_inches': 'tight', 'pad_inches': 0.05}"
   ]
  },
  {
   "cell_type": "markdown",
   "metadata": {},
   "source": [
    "### Matt's Features"
   ]
  },
  {
   "cell_type": "code",
   "execution_count": 9,
   "metadata": {},
   "outputs": [
    {
     "name": "stdout",
     "output_type": "stream",
     "text": [
      "top_10: 10\n",
      "top_25: 25\n",
      "168_os_pfs: 168\n",
      "net_matched: 86\n"
     ]
    }
   ],
   "source": [
    "# %%\n",
    "matt_ft_files = os.listdir(matt_ft_dir)\n",
    "matt_ft_files = [f for f in matt_ft_files if f.endswith('.txt')]\n",
    "\n",
    "matt_ft_dict = {}\n",
    "for f in matt_ft_files:\n",
    "    ft_name = f.split('_feats')[0]\n",
    "    # with open(os.path.join(matt_ft_dir, f), 'r') as file:\n",
    "    #     ft = file.read().split(', ')\n",
    "    # if len(ft) == 1:\n",
    "    with open(os.path.join(matt_ft_dir, f), 'r') as file:\n",
    "        ft = file.read().splitlines()\n",
    "        # print(file.read()\n",
    "    # remove all of the ', and commas from the strings in the list\n",
    "    ft = [x.strip(',').strip(' ').strip('\"').strip(\"'\").strip('\\n').strip('\\t') for x in ft]\n",
    "    matt_ft_dict[ft_name] = ft\n",
    "    # break\n",
    "    print(ft_name + ': ' + str(len(ft)))"
   ]
  },
  {
   "cell_type": "markdown",
   "metadata": {},
   "source": [
    "### RCC Target Metabolites"
   ]
  },
  {
   "cell_type": "code",
   "execution_count": 10,
   "metadata": {},
   "outputs": [
    {
     "name": "stdout",
     "output_type": "stream",
     "text": [
      "Number of peaks in the reference cohort after 0.6 filter:  4016\n",
      "Number of features that potentially match to a target metabolite:  188\n",
      "Number of features that potentially match to more than one target metabolite:  3\n",
      "feats\n",
      "FT3202                           tryptophanTryptophan_μM\n",
      "FT3237                           kynurenineKynurenine_μM\n",
      "FT8451    C18:1 LPC plasmalogen_AC18:1 LPC plasmalogen_B\n",
      "Name: potential_target_id, dtype: object\n",
      "['trimethylamine-N-oxide' 'alanine' 'GABA' 'serine' 'hypotaurine'\n",
      " 'cytosine' 'creatinine' 'betaine' 'threonine' 'niacinamide' 'taurine'\n",
      " 'ornithine' 'N-acetylalanine' 'N-carbamoyl-beta-alanine'\n",
      " 'N-methylproline' 'leucine' 'hydroxyproline' 'N-acetylputrescine'\n",
      " '1-methylnicotinamide' 'trigonelline' 'anthranilic acid' 'urocanic acid'\n",
      " 'imidazole propionate' 'ectoine' 'proline-betaine' 'glutamate'\n",
      " '4-acetamidobutanoate' 'butyrobetaine' 'glutamine' 'lysine' 'methionine'\n",
      " 'N1-methyl-2-pyridone-5-carboxamide' '4-hydroxy-3-methylacetophenone'\n",
      " 'guanine' 'allantoin' 'carnitine' '2-aminooctanoate' 'urate'\n",
      " '7-methylguanine' '3-methylxanthine' 'phenylalanine' 'N-acetylleucine'\n",
      " '3-methylhistidine' 'serotonin' 'citrulline' 'N6,N6-dimethyllysine'\n",
      " 'N-acetylornithine' 'cotinine' '5-hydroxytryptophol' 'arginine'\n",
      " 'tyrosine' 'hippurate' '4-pyridoxate' 'N6-acetyllysine'\n",
      " 'N6,N6,N6-trimethyllysine' 'N1-acetylspermidine' 'NMMA' 'kynurenic acid'\n",
      " 'N-acetylmethionine' 'hydroxycotinine' 'caffeine' '4-hydroxyhippurate'\n",
      " '1,7-dimethyluric acid' 'DMGV' 'SDMA' 'C2 carnitine'\n",
      " 'tryptophanTryptophan_μM' 'kynurenineKynurenine_μM' 'pantothenol'\n",
      " 'cinnamoylglycine' 'N-alpha-acetylarginine' 'C3 carnitine'\n",
      " 'acetyl-galactosamine' '5-hydroxytryptophan' 'pantothenate'\n",
      " 'myristoleate' 'C4 carnitine' 'C5:1 carnitine' 'C5 carnitine'\n",
      " 'C4-OH carnitine' 'N-acetyltryptophan' 'pseudouridine' 'ribothymidine'\n",
      " 'alpha-glycerophosphocholine' 'C3-DC-CH3 carnitine' 'C6 carnitine'\n",
      " 'thiamine' 'inosine' 'atenolol' 'metoprolol' 'phenylacetylglutamine'\n",
      " 'C5-DC carnitine' '1-methyladenosine' 'diacetylspermine'\n",
      " 'N4-acetylcytidine' 'C8 carnitine' 'piperine' '1-methylguanosine'\n",
      " 'C9 carnitine' 'sphinganine' 'threo-sphingosine' 'warfarin'\n",
      " '3-(N-acetyl-L-cystein-S-yl) acetaminophen' 'C10 carnitine'\n",
      " 'linoleoyl ethanolamide' 'acetaminophen glucuronide' 'C12 carnitine'\n",
      " 'C12:1 carnitine' 'oleoyl glycine' 'cortisol' 'cortisone'\n",
      " 'C14:1 carnitine' 'C14 carnitine' 'C16 carnitine' 'C18:2 carnitine'\n",
      " 'C18 carnitine' 'C18:1 carnitine' 'valsartan' 'C20:4 carnitine'\n",
      " 'glycodeoxycholate/glycochenodeoxycholate' 'C16:0 LPE' 'C14:0 LPC'\n",
      " 'glycocholate' 'C18:2 LPE' 'C18:1 LPE' 'C18:0 LPE'\n",
      " 'C16:1 LPC plasmalogen' 'C16:1 LPC' 'C16:0 LPC' 'C20:4 LPE'\n",
      " 'C18:1 LPC plasmalogen_B'\n",
      " 'C18:1 LPC plasmalogen_AC18:1 LPC plasmalogen_B' 'C20:0 LPE' 'C18:3 LPC'\n",
      " 'C18:0 LPC' 'C18:1 LPC' 'C22:6 LPE' 'C16:0 ceramide (d18:1)'\n",
      " 'C26 carnitine' 'C20:4 LPC' 'C20:5 LPC' 'C22:6 LPC' 'C22:5 LPC'\n",
      " 'biliverdin' 'bilirubin' 'urobilinogen' 'C34:1 DAG' 'C34:2 DAG'\n",
      " 'C34:1 DAG*' 'C24:1 ceramide (d18:1)' 'C14:0 SM' 'C34:3 PE plasmalogen'\n",
      " 'C34:2 PE plasmalogen' 'C16:0 SM' 'C16:1 SM' 'C30:0 PC' 'C34:2 PE'\n",
      " 'C36:5 PE plasmalogen' 'C34:0 PE' 'C18:1 SM' 'C36:3 PE plasmalogen'\n",
      " 'C32:2 PC' 'C18:0 SM' 'C34:3 PC plasmalogen' 'C36:4 PE' 'C36:2 PE'\n",
      " 'C38:7 PE plasmalogen' 'C38:5 PE plasmalogen' 'C38:6 PE plasmalogen'\n",
      " 'C34:4 PC' 'C20:0 SM' 'C34:3 PC' 'C38:6 PE' 'C38:4 PE'\n",
      " 'C36:5 PC plasmalogen' 'C36:2 PS plasmalogen' 'thyroxine'\n",
      " 'C40:7 PE plasmalogen' 'C36:2 PC' 'C38:6 PC plasmalogen' 'C40:6 PE'\n",
      " 'C38:7 PC plasmalogen']\n",
      "Number of target metabolite captured:  182\n"
     ]
    }
   ],
   "source": [
    "# %%\n",
    "rcc_peak_info_file = os.path.join(base_dir, 'rcc_result', 'peak_info.csv')\n",
    "rcc_peak_info_df = pd.read_csv(rcc_peak_info_file, index_col=0)\n",
    "\n",
    "rcc_peak_info_df = rcc_peak_info_df[rcc_peak_info_df['freq'] >= ref_freq].copy()\n",
    "\n",
    "print(f'Number of peaks in the reference cohort after {ref_freq} filter: ', rcc_peak_info_df.shape[0])\n",
    "\n",
    "    \n",
    "rcc_matched_targets_file = os.path.join(base_dir,'rcc_result', 'matched_targets HILIC POSITIVE ION MODE.csv')\n",
    "rcc_matched_targets_df = pd.read_csv(rcc_matched_targets_file, index_col=0)\n",
    "rcc_matched_targets_df.loc[rcc_peak_info_df.index]\n",
    "\n",
    "potential_feats = rcc_matched_targets_df[rcc_matched_targets_df['potential_target']].index.to_list()\n",
    "print('Number of features that potentially match to a target metabolite: ', len(potential_feats))\n",
    "\n",
    "double_match_ids = rcc_matched_targets_df[rcc_matched_targets_df['potential_target_count'] > 1]\n",
    "num_double_match = double_match_ids.shape[0]\n",
    "print('Number of features that potentially match to more than one target metabolite: ', double_match_ids.shape[0])\n",
    "print(rcc_matched_targets_df.loc[double_match_ids.index, 'potential_target_id'])\n",
    "\n",
    "# here are the double matches in RCC, two are the same metabolite (but different adducts?)\n",
    "# FT3202                           tryptophanTryptophan_μM\n",
    "# FT3237                           kynurenineKynurenine_μM\n",
    "# FT8451    C18:1 LPC plasmalogen_AC18:1 LPC plasmalogen_B\n",
    "\n",
    "\n",
    "potential_feat_names = rcc_matched_targets_df.loc[potential_feats]['potential_target_id'].unique()\n",
    "# print('Number of potential feature names: ', len(potential_feat_names))\n",
    "print(potential_feat_names)\n",
    "\n",
    "print('Number of target metabolite captured: ', len(potential_feat_names))\n",
    "\n",
    "# for now don't remove the double counts, since they are NOT actually double counts\n",
    "num_rcc_targets_found =  len(potential_feat_names)\n",
    "rcc_target_feats = potential_feats\n",
    "\n",
    "# add to the matt ft dictionary\n",
    "matt_ft_dict['rcc_targets'] = rcc_target_feats\n"
   ]
  },
  {
   "cell_type": "code",
   "execution_count": 11,
   "metadata": {},
   "outputs": [
    {
     "name": "stdout",
     "output_type": "stream",
     "text": [
      "In the original RCC dataset at the 0.6 frequency threshold:\n",
      "Number of top_10 captured: 10 out of 10\n",
      "Number of top_25 captured: 25 out of 25\n",
      "Number of 168_os_pfs captured: 168 out of 168\n",
      "Number of net_matched captured: 86 out of 86\n",
      "Number of rcc_targets captured: 162 out of 188\n"
     ]
    }
   ],
   "source": [
    "# Helper functions to finding the number and percentage of captured features\n",
    "def get_captured_fts(matt_ft_list, align_ft_list):\n",
    "    captured_fts = [ft for ft in matt_ft_list if ft in align_ft_list]\n",
    "    return captured_fts\n",
    "\n",
    "def get_captured_perc(matt_ft_list, align_ft_list):\n",
    "    captured_fts = get_captured_fts(matt_ft_list, align_ft_list)\n",
    "    matt_capture_perc = len(captured_fts) / len(matt_ft_list)\n",
    "    align_capture_perc = len(captured_fts) / len(align_ft_list)\n",
    "    return matt_capture_perc, align_capture_perc\n",
    "\n",
    "\n",
    "# check that the Matt feats are found in the RCC peaks\n",
    "print('In the original RCC dataset at the {} frequency threshold:'.format(ref_freq))\n",
    "for matt_ft_name, matt_ft_list in matt_ft_dict.items():\n",
    "    captured_peaks = get_captured_fts(matt_ft_list, rcc_peak_info_df.index)\n",
    "    print(f'Number of {matt_ft_name} captured: {len(captured_peaks)} out of {len(matt_ft_list)}')\n"
   ]
  },
  {
   "cell_type": "markdown",
   "metadata": {},
   "source": [
    "## Prep Data"
   ]
  },
  {
   "cell_type": "code",
   "execution_count": 12,
   "metadata": {},
   "outputs": [
    {
     "name": "stdout",
     "output_type": "stream",
     "text": [
      "removing cohorts:  ['549']\n"
     ]
    }
   ],
   "source": [
    "# %%\n",
    "cohort_id_file = os.path.join(data_dir, 'combined_study_cohort_ids.csv')\n",
    "nan_mask_file = os.path.join(data_dir, 'combined_study_nan_mask.csv')\n",
    "combined_study_file = os.path.join(data_dir, 'combined_study.csv')\n",
    "align_score_file = os.path.join(data_dir, 'align_score_df.csv')\n",
    "align_feats_file = os.path.join(data_dir, 'alignment_df.csv')\n",
    "\n",
    "\n",
    "umap_file = os.path.join(data_dir, 'umap_df_zscore.csv')\n",
    "pca_file = os.path.join(data_dir, 'pca_df_zscore.csv')\n",
    "\n",
    "cohorts_to_rem = ['549']\n",
    "print('removing cohorts: ', cohorts_to_rem)"
   ]
  },
  {
   "cell_type": "code",
   "execution_count": 13,
   "metadata": {},
   "outputs": [
    {
     "name": "stdout",
     "output_type": "stream",
     "text": [
      "271\n",
      "1379\n"
     ]
    }
   ],
   "source": [
    "# %%\n",
    "# Create the pretraining metadata\n",
    "if '.csv' in cohort_ids_to_labels_file:\n",
    "    cohort_ids_to_labels_df = pd.read_csv(cohort_ids_to_labels_file, index_col=0)\n",
    "elif '.xlsx' in cohort_ids_to_labels_file:\n",
    "    cohort_ids_to_labels_df = pd.read_excel(cohort_ids_to_labels_file, index_col=0)\n",
    "else:\n",
    "    raise ValueError('cohort_ids_to_labels_file must be a csv or xlsx file')\n",
    "\n",
    "cohort_id_df = pd.read_csv(cohort_id_file, index_col=0)\n",
    "cohort_id_df.set_index('file_name', inplace=True)\n",
    "cohort_id_df.columns = ['cohort_id']\n",
    "metadata_df = cohort_id_df.join(cohort_ids_to_labels_df, on='cohort_id')\n",
    "# turn the cohort id into a string\n",
    "metadata_df['cohort_id'] = metadata_df['cohort_id'].astype(str)\n",
    "\n",
    "\n",
    "metadata_df = metadata_df[~metadata_df['cohort_id'].isin(cohorts_to_rem)]\n",
    "\n",
    "\n",
    "study_id_to_label = metadata_df.groupby('Study ID')['Cohort Label'].first().to_dict()\n",
    "cohort_id_to_label = metadata_df.groupby('cohort_id')['Cohort Label'].first().to_dict()\n",
    "cohort_id_to_study_id = metadata_df.groupby('cohort_id')['Study ID'].first().to_dict()\n",
    "\n",
    "# %%\n",
    "# information about the reference cohort\n",
    "ref_cohort_id = '541'\n",
    "num_ref_cohort_peaks = rcc_peak_info_df.shape[0]\n",
    "#TODO Save the number of peaks in the reference cohort used for alignment\n",
    "\n",
    "# %%\n",
    "# Get the alignment scores\n",
    "align_scores = pd.read_csv(align_score_file, index_col=0)\n",
    "align_scores.index = align_scores.index.astype(str)\n",
    "\n",
    "\n",
    "cohort_id_to_align_score = align_scores.iloc[:,0].to_dict()\n",
    "cohort_id_to_align_score[ref_cohort_id] = 1.0\n",
    "\n",
    "# %%\n",
    "# Create the unique color maps to consistent plotting across the different plots\n",
    "\n",
    "# join the following colormaps Accent, Dark2, Set2, Pastel2\n",
    "my_32_colors = plt.cm.Accent.colors + plt.cm.Dark2.colors + plt.cm.Set2.colors + plt.cm.Pastel2.colors\n",
    "my_10_colors = plt.cm.tab10.colors\n",
    "my_20_colors = plt.cm.tab20.colors \n",
    "my_42_colors = my_10_colors + my_32_colors\n",
    "my_52_colors = my_20_colors + my_32_colors\n",
    "\n",
    "def get_color_map(n):\n",
    "    if n <= 10:\n",
    "        return my_10_colors\n",
    "    elif n <= 20:\n",
    "        return my_20_colors\n",
    "    elif n <= 32:\n",
    "        return my_32_colors\n",
    "    elif n <= 42:\n",
    "        return my_42_colors\n",
    "    elif n <= 52:\n",
    "        return my_52_colors\n",
    "    else:\n",
    "        # create a colormap from turbo\n",
    "        return plt.cm.turbo(np.linspace(0, 1, n))\n",
    "    \n",
    "def assign_color_map(unique_vals):\n",
    "    my_colors = get_color_map(len(unique_vals))\n",
    "    color_map = dict(zip(np.sort(unique_vals), my_colors))\n",
    "    return color_map\n",
    "\n",
    "# %%\n",
    "# Create cohort ids for the RCC subsets\n",
    "rcc1_files = [f for f in metadata_df.index if 'RCC_HP' in f]\n",
    "print(len(rcc1_files))\n",
    "rcc3_files = [f for f in metadata_df[metadata_df['cohort_id']==ref_cohort_id].index if 'RCC_HP' not in f]\n",
    "print(len(rcc3_files))\n",
    "\n",
    "metadata_df['Cohort ID Expanded'] = metadata_df['cohort_id']\n",
    "metadata_df['Study ID Expanded'] = metadata_df['Study ID']\n",
    "metadata_df.loc[rcc1_files, 'Cohort ID Expanded'] = 'RCC1'\n",
    "metadata_df.loc[rcc3_files, 'Cohort ID Expanded'] = 'RCC3'\n",
    "metadata_df.loc[rcc1_files, 'Study ID Expanded'] = 'ST001236'\n",
    "metadata_df.loc[rcc3_files, 'Study ID Expanded'] = 'ST001237'\n",
    "\n",
    "\n",
    "# %%\n",
    "cohort_label_to_color = assign_color_map(metadata_df['Cohort Label'].unique())\n",
    "study_id_to_color = {k:cohort_label_to_color[v] for k,v in study_id_to_label.items()}\n",
    "cohort_id_to_color = {k:cohort_label_to_color[v] for k,v in cohort_id_to_label.items()}\n",
    "\n",
    "study_id_to_uniq_color = assign_color_map(np.sort(metadata_df['Study ID'].unique()))\n",
    "cohort_id_to_uniq_color = assign_color_map(np.sort(metadata_df['cohort_id'].unique()))\n"
   ]
  },
  {
   "cell_type": "code",
   "execution_count": null,
   "metadata": {},
   "outputs": [],
   "source": [
    "# metadata_df.to_csv(os.path.join(data_dir, 'subset_metadata.csv'))"
   ]
  },
  {
   "cell_type": "code",
   "execution_count": 14,
   "metadata": {},
   "outputs": [],
   "source": [
    "metadata_summary = pd.DataFrame()\n",
    "metadata_summary['Cohort ID'] = metadata_df['cohort_id'].unique()\n",
    "metadata_summary['Cohort ID'] = metadata_summary['Cohort ID'].astype(str)\n",
    "metadata_summary['Cohort Label'] = metadata_summary['Cohort ID'].map(cohort_id_to_label)\n",
    "metadata_summary['Study ID'] = metadata_summary['Cohort ID'].map(cohort_id_to_study_id)\n",
    "metadata_summary['Number of Samples'] = metadata_summary['Cohort ID'].map(metadata_df['cohort_id'].value_counts())\n",
    "metadata_summary['Alignment Score'] = metadata_summary['Cohort ID'].map(cohort_id_to_align_score)\n"
   ]
  },
  {
   "cell_type": "code",
   "execution_count": 15,
   "metadata": {},
   "outputs": [
    {
     "data": {
      "text/html": [
       "<div>\n",
       "<style scoped>\n",
       "    .dataframe tbody tr th:only-of-type {\n",
       "        vertical-align: middle;\n",
       "    }\n",
       "\n",
       "    .dataframe tbody tr th {\n",
       "        vertical-align: top;\n",
       "    }\n",
       "\n",
       "    .dataframe thead th {\n",
       "        text-align: right;\n",
       "    }\n",
       "</style>\n",
       "<table border=\"1\" class=\"dataframe\">\n",
       "  <thead>\n",
       "    <tr style=\"text-align: right;\">\n",
       "      <th></th>\n",
       "      <th>Cohort ID</th>\n",
       "      <th>Cohort Label</th>\n",
       "      <th>Study ID</th>\n",
       "      <th>Number of Samples</th>\n",
       "      <th>Alignment Score</th>\n",
       "    </tr>\n",
       "  </thead>\n",
       "  <tbody>\n",
       "    <tr>\n",
       "      <th>0</th>\n",
       "      <td>541</td>\n",
       "      <td>adult_cancer</td>\n",
       "      <td>RCC</td>\n",
       "      <td>1650</td>\n",
       "      <td>1.000000</td>\n",
       "    </tr>\n",
       "    <tr>\n",
       "      <th>1</th>\n",
       "      <td>502</td>\n",
       "      <td>adult_cancer</td>\n",
       "      <td>ST001422</td>\n",
       "      <td>2075</td>\n",
       "      <td>0.442145</td>\n",
       "    </tr>\n",
       "    <tr>\n",
       "      <th>2</th>\n",
       "      <td>503</td>\n",
       "      <td>pediatric_CMD</td>\n",
       "      <td>ST001428</td>\n",
       "      <td>1542</td>\n",
       "      <td>0.294514</td>\n",
       "    </tr>\n",
       "    <tr>\n",
       "      <th>3</th>\n",
       "      <td>504</td>\n",
       "      <td>adult_other</td>\n",
       "      <td>ST001849</td>\n",
       "      <td>691</td>\n",
       "      <td>0.240898</td>\n",
       "    </tr>\n",
       "    <tr>\n",
       "      <th>4</th>\n",
       "      <td>505</td>\n",
       "      <td>pediatric_other</td>\n",
       "      <td>ST001931</td>\n",
       "      <td>2046</td>\n",
       "      <td>0.263092</td>\n",
       "    </tr>\n",
       "    <tr>\n",
       "      <th>5</th>\n",
       "      <td>507</td>\n",
       "      <td>adult_other</td>\n",
       "      <td>ST002112</td>\n",
       "      <td>335</td>\n",
       "      <td>0.517706</td>\n",
       "    </tr>\n",
       "    <tr>\n",
       "      <th>6</th>\n",
       "      <td>509</td>\n",
       "      <td>pediatric_other</td>\n",
       "      <td>ST002331</td>\n",
       "      <td>1322</td>\n",
       "      <td>0.304738</td>\n",
       "    </tr>\n",
       "    <tr>\n",
       "      <th>7</th>\n",
       "      <td>522</td>\n",
       "      <td>adult_cancer</td>\n",
       "      <td>ST001408</td>\n",
       "      <td>349</td>\n",
       "      <td>0.543392</td>\n",
       "    </tr>\n",
       "    <tr>\n",
       "      <th>8</th>\n",
       "      <td>526</td>\n",
       "      <td>adult_cancer</td>\n",
       "      <td>ST001423</td>\n",
       "      <td>1197</td>\n",
       "      <td>0.439152</td>\n",
       "    </tr>\n",
       "    <tr>\n",
       "      <th>9</th>\n",
       "      <td>547</td>\n",
       "      <td>adult_other</td>\n",
       "      <td>ST000601</td>\n",
       "      <td>393</td>\n",
       "      <td>0.268847</td>\n",
       "    </tr>\n",
       "    <tr>\n",
       "      <th>10</th>\n",
       "      <td>550</td>\n",
       "      <td>adult_cancer</td>\n",
       "      <td>ST000422</td>\n",
       "      <td>60</td>\n",
       "      <td>0.270683</td>\n",
       "    </tr>\n",
       "    <tr>\n",
       "      <th>11</th>\n",
       "      <td>551</td>\n",
       "      <td>adult_other</td>\n",
       "      <td>ST001099</td>\n",
       "      <td>102</td>\n",
       "      <td>0.234414</td>\n",
       "    </tr>\n",
       "    <tr>\n",
       "      <th>12</th>\n",
       "      <td>555</td>\n",
       "      <td>pediatric_other</td>\n",
       "      <td>ST002251</td>\n",
       "      <td>253</td>\n",
       "      <td>0.276559</td>\n",
       "    </tr>\n",
       "    <tr>\n",
       "      <th>13</th>\n",
       "      <td>556</td>\n",
       "      <td>pediatric_CMD</td>\n",
       "      <td>ST000909</td>\n",
       "      <td>744</td>\n",
       "      <td>0.332170</td>\n",
       "    </tr>\n",
       "    <tr>\n",
       "      <th>14</th>\n",
       "      <td>557</td>\n",
       "      <td>adult_other</td>\n",
       "      <td>ST002244</td>\n",
       "      <td>122</td>\n",
       "      <td>0.426434</td>\n",
       "    </tr>\n",
       "    <tr>\n",
       "      <th>15</th>\n",
       "      <td>558</td>\n",
       "      <td>adult_other</td>\n",
       "      <td>ST002027</td>\n",
       "      <td>356</td>\n",
       "      <td>0.364206</td>\n",
       "    </tr>\n",
       "    <tr>\n",
       "      <th>16</th>\n",
       "      <td>559</td>\n",
       "      <td>adult_other</td>\n",
       "      <td>ST001918</td>\n",
       "      <td>271</td>\n",
       "      <td>0.369327</td>\n",
       "    </tr>\n",
       "    <tr>\n",
       "      <th>17</th>\n",
       "      <td>579</td>\n",
       "      <td>pediatric_CMD</td>\n",
       "      <td>ST001932</td>\n",
       "      <td>747</td>\n",
       "      <td>0.328429</td>\n",
       "    </tr>\n",
       "    <tr>\n",
       "      <th>18</th>\n",
       "      <td>581</td>\n",
       "      <td>adult_cancer</td>\n",
       "      <td>ST000388</td>\n",
       "      <td>95</td>\n",
       "      <td>0.595511</td>\n",
       "    </tr>\n",
       "    <tr>\n",
       "      <th>19</th>\n",
       "      <td>584</td>\n",
       "      <td>pediatric_CMD</td>\n",
       "      <td>ST001932</td>\n",
       "      <td>749</td>\n",
       "      <td>0.388529</td>\n",
       "    </tr>\n",
       "    <tr>\n",
       "      <th>20</th>\n",
       "      <td>585</td>\n",
       "      <td>pediatric_CMD</td>\n",
       "      <td>ST001932</td>\n",
       "      <td>748</td>\n",
       "      <td>0.348379</td>\n",
       "    </tr>\n",
       "    <tr>\n",
       "      <th>21</th>\n",
       "      <td>586</td>\n",
       "      <td>pediatric_CMD</td>\n",
       "      <td>ST001932</td>\n",
       "      <td>748</td>\n",
       "      <td>0.371072</td>\n",
       "    </tr>\n",
       "    <tr>\n",
       "      <th>22</th>\n",
       "      <td>587</td>\n",
       "      <td>pediatric_CMD</td>\n",
       "      <td>ST001932</td>\n",
       "      <td>748</td>\n",
       "      <td>0.326434</td>\n",
       "    </tr>\n",
       "    <tr>\n",
       "      <th>23</th>\n",
       "      <td>588</td>\n",
       "      <td>pediatric_CMD</td>\n",
       "      <td>ST001932</td>\n",
       "      <td>748</td>\n",
       "      <td>0.386534</td>\n",
       "    </tr>\n",
       "    <tr>\n",
       "      <th>24</th>\n",
       "      <td>605</td>\n",
       "      <td>adult_other</td>\n",
       "      <td>ST001519</td>\n",
       "      <td>166</td>\n",
       "      <td>0.528429</td>\n",
       "    </tr>\n",
       "  </tbody>\n",
       "</table>\n",
       "</div>"
      ],
      "text/plain": [
       "   Cohort ID     Cohort Label  Study ID  Number of Samples  Alignment Score\n",
       "0        541     adult_cancer       RCC               1650         1.000000\n",
       "1        502     adult_cancer  ST001422               2075         0.442145\n",
       "2        503    pediatric_CMD  ST001428               1542         0.294514\n",
       "3        504      adult_other  ST001849                691         0.240898\n",
       "4        505  pediatric_other  ST001931               2046         0.263092\n",
       "5        507      adult_other  ST002112                335         0.517706\n",
       "6        509  pediatric_other  ST002331               1322         0.304738\n",
       "7        522     adult_cancer  ST001408                349         0.543392\n",
       "8        526     adult_cancer  ST001423               1197         0.439152\n",
       "9        547      adult_other  ST000601                393         0.268847\n",
       "10       550     adult_cancer  ST000422                 60         0.270683\n",
       "11       551      adult_other  ST001099                102         0.234414\n",
       "12       555  pediatric_other  ST002251                253         0.276559\n",
       "13       556    pediatric_CMD  ST000909                744         0.332170\n",
       "14       557      adult_other  ST002244                122         0.426434\n",
       "15       558      adult_other  ST002027                356         0.364206\n",
       "16       559      adult_other  ST001918                271         0.369327\n",
       "17       579    pediatric_CMD  ST001932                747         0.328429\n",
       "18       581     adult_cancer  ST000388                 95         0.595511\n",
       "19       584    pediatric_CMD  ST001932                749         0.388529\n",
       "20       585    pediatric_CMD  ST001932                748         0.348379\n",
       "21       586    pediatric_CMD  ST001932                748         0.371072\n",
       "22       587    pediatric_CMD  ST001932                748         0.326434\n",
       "23       588    pediatric_CMD  ST001932                748         0.386534\n",
       "24       605      adult_other  ST001519                166         0.528429"
      ]
     },
     "execution_count": 15,
     "metadata": {},
     "output_type": "execute_result"
    }
   ],
   "source": [
    "metadata_summary"
   ]
  },
  {
   "cell_type": "code",
   "execution_count": 16,
   "metadata": {},
   "outputs": [],
   "source": [
    "nan_mask = pd.read_csv(nan_mask_file, index_col=0)\n",
    "nan_mask.columns = nan_mask.columns.astype(str)\n",
    "nan_mask = ~ nan_mask"
   ]
  },
  {
   "cell_type": "code",
   "execution_count": 48,
   "metadata": {},
   "outputs": [
    {
     "data": {
      "text/plain": [
       "2189"
      ]
     },
     "execution_count": 48,
     "metadata": {},
     "output_type": "execute_result"
    }
   ],
   "source": [
    "nan_mask['HP_mzml/Plasma/0073_WUG_FARMM_HIL-9013-2-PE.mzML'].sum()"
   ]
  },
  {
   "cell_type": "code",
   "execution_count": 59,
   "metadata": {},
   "outputs": [
    {
     "data": {
      "text/plain": [
       "(3895, 18396)"
      ]
     },
     "execution_count": 59,
     "metadata": {},
     "output_type": "execute_result"
    }
   ],
   "source": [
    "nan_mask.shape"
   ]
  },
  {
   "cell_type": "code",
   "execution_count": 64,
   "metadata": {},
   "outputs": [
    {
     "name": "stdout",
     "output_type": "stream",
     "text": [
      "number of samples:  1650\n",
      "number of features:  3895\n"
     ]
    }
   ],
   "source": [
    "# group_col = 'Study ID Expanded'\n",
    "group_col = 'Study ID'\n",
    "feat_ids = nan_mask.index\n",
    "\n",
    "# group_samples = metadata_df[metadata_df[group_col] == 'ST001237'].index\n",
    "group_samples = metadata_df[metadata_df[group_col] == 'RCC'].index\n",
    "\n",
    "print('number of samples: ', len(group_samples))\n",
    "group_feats = feat_ids[nan_mask[group_samples].any(axis=1)]\n",
    "print('number of features: ', len(group_feats))"
   ]
  },
  {
   "cell_type": "code",
   "execution_count": 65,
   "metadata": {},
   "outputs": [
    {
     "name": "stdout",
     "output_type": "stream",
     "text": [
      "ST001237\n",
      "number of samples:  1379\n",
      "number of aligned features:  3895\n",
      "ST001236\n",
      "number of samples:  271\n",
      "number of aligned features:  3509\n",
      "ST001422\n",
      "number of samples:  2075\n",
      "number of aligned features:  1772\n",
      "ST001428\n",
      "number of samples:  1542\n",
      "number of aligned features:  1180\n",
      "ST001849\n",
      "number of samples:  691\n",
      "number of aligned features:  965\n",
      "ST001931\n",
      "number of samples:  2046\n",
      "number of aligned features:  1054\n",
      "ST002112\n",
      "number of samples:  335\n",
      "number of aligned features:  2075\n",
      "ST002331\n",
      "number of samples:  1322\n",
      "number of aligned features:  1221\n",
      "ST001408\n",
      "number of samples:  349\n",
      "number of aligned features:  2178\n",
      "ST001423\n",
      "number of samples:  1197\n",
      "number of aligned features:  1760\n",
      "ST000601\n",
      "number of samples:  393\n",
      "number of aligned features:  862\n",
      "ST000422\n",
      "number of samples:  60\n",
      "number of aligned features:  1010\n",
      "ST001099\n",
      "number of samples:  102\n",
      "number of aligned features:  939\n",
      "ST002251\n",
      "number of samples:  253\n",
      "number of aligned features:  1108\n",
      "ST000909\n",
      "number of samples:  744\n",
      "number of aligned features:  1331\n",
      "ST002244\n",
      "number of samples:  122\n",
      "number of aligned features:  1709\n",
      "ST002027\n",
      "number of samples:  356\n",
      "number of aligned features:  1045\n",
      "ST001918\n",
      "number of samples:  271\n",
      "number of aligned features:  1480\n",
      "ST001932\n",
      "number of samples:  4488\n",
      "number of aligned features:  1870\n",
      "ST000388\n",
      "number of samples:  95\n",
      "number of aligned features:  2387\n",
      "ST001519\n",
      "number of samples:  166\n",
      "number of aligned features:  2118\n"
     ]
    }
   ],
   "source": [
    "group_col = 'Study ID Expanded'\n",
    "\n",
    "group_freq = []\n",
    "overall_freq = []\n",
    "group_feats_dict = {}\n",
    "group_samples_dict = {}\n",
    "feat_ids = nan_mask.index\n",
    "\n",
    "\n",
    "for sample_id in metadata_df.index:\n",
    "    group_id = metadata_df.loc[sample_id, group_col]\n",
    "    if group_id not in group_feats_dict.keys():\n",
    "        print(group_id)\n",
    "        # group_feats[group_id] = feat_ids[nan_mask[metadata_df[metadata_df[group_col] == group_id].index].any(axis=0)]\n",
    "        group_samples = metadata_df[metadata_df[group_col] == group_id].index\n",
    "        print('number of samples: ', len(group_samples))\n",
    "        group_feats = feat_ids[nan_mask[group_samples].any(axis=1)]\n",
    "        print('number of aligned features: ', len(group_feats))\n",
    "        group_feats_dict[group_id] = group_feats\n",
    "\n",
    "\n",
    "    group_freq.append(nan_mask.loc[group_feats_dict[group_id], sample_id].mean())\n",
    "\n",
    "    overall_freq.append(nan_mask.loc[:, sample_id].mean())\n",
    "\n",
    "\n",
    "metadata_df['group_freq'] = group_freq\n",
    "metadata_df['overall_freq'] = overall_freq"
   ]
  },
  {
   "cell_type": "code",
   "execution_count": 66,
   "metadata": {},
   "outputs": [
    {
     "data": {
      "text/plain": [
       "<seaborn.axisgrid.FacetGrid at 0x7fc2a6867be0>"
      ]
     },
     "execution_count": 66,
     "metadata": {},
     "output_type": "execute_result"
    },
    {
     "data": {
      "image/png": "[encoded data removed]",
      "text/plain": [
       "<Figure size 644.236x500 with 1 Axes>"
      ]
     },
     "metadata": {},
     "output_type": "display_data"
    }
   ],
   "source": [
    "sns.displot(metadata_df, x='group_freq', hue=group_col, kind='kde')"
   ]
  },
  {
   "cell_type": "code",
   "execution_count": 72,
   "metadata": {},
   "outputs": [],
   "source": [
    "# Frequency of each peak within each group\n",
    "feat_info = pd.DataFrame()\n",
    "feat_info.index = nan_mask.index\n",
    "\n",
    "for group_id, group_feats in group_feats_dict.items():\n",
    "    group_samples = metadata_df[metadata_df[group_col] == group_id].index\n",
    "    feat_info[group_id] = nan_mask.loc[group_feats,group_samples].mean(axis=1)"
   ]
  },
  {
   "cell_type": "code",
   "execution_count": 78,
   "metadata": {},
   "outputs": [],
   "source": [
    "num_samples = metadata_df.groupby(group_col).size()"
   ]
  },
  {
   "cell_type": "code",
   "execution_count": 79,
   "metadata": {},
   "outputs": [
    {
     "data": {
      "text/plain": [
       "Study ID Expanded\n",
       "ST000388      95\n",
       "ST000422      60\n",
       "ST000601     393\n",
       "ST000909     744\n",
       "ST001099     102\n",
       "ST001236     271\n",
       "ST001237    1379\n",
       "ST001408     349\n",
       "ST001422    2075\n",
       "ST001423    1197\n",
       "ST001428    1542\n",
       "ST001519     166\n",
       "ST001849     691\n",
       "ST001918     271\n",
       "ST001931    2046\n",
       "ST001932    4488\n",
       "ST002027     356\n",
       "ST002112     335\n",
       "ST002244     122\n",
       "ST002251     253\n",
       "ST002331    1322\n",
       "dtype: int64"
      ]
     },
     "execution_count": 79,
     "metadata": {},
     "output_type": "execute_result"
    }
   ],
   "source": [
    "num_samples"
   ]
  },
  {
   "cell_type": "code",
   "execution_count": 80,
   "metadata": {},
   "outputs": [],
   "source": [
    "feat_info2 = feat_info.copy()\n",
    "feat_info2 = feat_info2 * num_samples"
   ]
  },
  {
   "cell_type": "code",
   "execution_count": 89,
   "metadata": {},
   "outputs": [],
   "source": [
    "feat_fewest_samples = feat_info2.min(axis=1)\n",
    "feat_smallest_freq = feat_info.min(axis=1)"
   ]
  },
  {
   "cell_type": "code",
   "execution_count": 90,
   "metadata": {},
   "outputs": [
    {
     "data": {
      "text/plain": [
       "FT10031    0.126074\n",
       "FT10035    0.133333\n",
       "FT10037    0.301205\n",
       "FT10039    0.124337\n",
       "FT10040    0.715789\n",
       "             ...   \n",
       "FT9988     0.298507\n",
       "FT9989     0.284314\n",
       "FT9995     0.294118\n",
       "FT9997     0.294118\n",
       "FT9999     0.713115\n",
       "Length: 3895, dtype: float64"
      ]
     },
     "execution_count": 90,
     "metadata": {},
     "output_type": "execute_result"
    }
   ],
   "source": [
    "feat_smallest_freq"
   ]
  },
  {
   "cell_type": "code",
   "execution_count": 93,
   "metadata": {},
   "outputs": [
    {
     "name": "stdout",
     "output_type": "stream",
     "text": [
      "number of features before frequency filtering:  3895\n",
      "number of features after frequency filtering:  3579\n",
      "Number of top_10 captured: 10 out of 10\n",
      "Number of top_25 captured: 25 out of 25\n",
      "Number of 168_os_pfs captured: 158 out of 168\n",
      "Number of net_matched captured: 82 out of 86\n",
      "Number of rcc_targets captured: 151 out of 188\n"
     ]
    }
   ],
   "source": [
    "min_num_samples = 10\n",
    "min_freq = 0.1\n",
    "feat_ids = feat_info.index\n",
    "print('number of features before frequency filtering: ', len(feat_ids))\n",
    "\n",
    "new_feats = feat_ids[(feat_fewest_samples > min_num_samples) & (feat_smallest_freq > min_freq)]\n",
    "print('number of features after frequency filtering: ', len(new_feats))\n",
    "\n",
    "# check overlap with Matt features\n",
    "for matt_ft_name, matt_ft_list in matt_ft_dict.items():\n",
    "    captured_peaks = get_captured_fts(matt_ft_list, new_feats)\n",
    "    print(f'Number of {matt_ft_name} captured: {len(captured_peaks)} out of {len(matt_ft_list)}')"
   ]
  },
  {
   "cell_type": "code",
   "execution_count": 106,
   "metadata": {},
   "outputs": [],
   "source": [
    "out_dct_list = []\n",
    "for min_num_samples in range(0,40):\n",
    "# for min_num_samples in [15]:\n",
    "    for min_freq in [0.1]:\n",
    "    # for min_freq in [0.1,0.15,0.2,0.25,0.30,0.35]:\n",
    "        new_feats = feat_ids[(feat_fewest_samples > min_num_samples) & (feat_smallest_freq > min_freq)]\n",
    "        \n",
    "        out_dict = {'min_num_samples': min_num_samples, 'min_freq': min_freq, 'num_feats': len(new_feats)}\n",
    "\n",
    "        for matt_ft_name, matt_ft_list in matt_ft_dict.items():\n",
    "            captured_peaks = get_captured_fts(matt_ft_list, new_feats)\n",
    "            out_dict[f'num_{matt_ft_name}'] = len(captured_peaks)\n",
    "            out_dict[f'frac_{matt_ft_name}'] = len(captured_peaks)/ len(matt_ft_list)\n",
    "        out_dct_list.append(out_dict)\n",
    "\n",
    "out_df = pd.DataFrame(out_dct_list)"
   ]
  },
  {
   "cell_type": "code",
   "execution_count": 107,
   "metadata": {},
   "outputs": [
    {
     "data": {
      "text/plain": [
       "Text(0, 0.5, 'Fraction of features captured')"
      ]
     },
     "execution_count": 107,
     "metadata": {},
     "output_type": "execute_result"
    },
    {
     "data": {
      "image/png": "[encoded data removed]",
      "text/plain": [
       "<Figure size 640x480 with 1 Axes>"
      ]
     },
     "metadata": {},
     "output_type": "display_data"
    }
   ],
   "source": [
    "# out_df.plot(x='min_num_samples', y='num_feats', label='num_feats')\n",
    "ax, fig = plt.subplots()\n",
    "out_df.plot(x='min_num_samples', y='frac_rcc_targets', label='frac_rcc_targets', kind='line', ax=fig, color='r')\n",
    "out_df.plot(x='min_num_samples', y='frac_top_25', label='frac_top_25', kind='line', ax=fig)\n",
    "plt.ylabel('Fraction of features captured')"
   ]
  },
  {
   "cell_type": "code",
   "execution_count": 105,
   "metadata": {},
   "outputs": [
    {
     "data": {
      "text/plain": [
       "Text(0, 0.5, 'Fraction of features captured')"
      ]
     },
     "execution_count": 105,
     "metadata": {},
     "output_type": "execute_result"
    },
    {
     "data": {
      "image/png": "[encoded data removed]",
      "text/plain": [
       "<Figure size 640x480 with 1 Axes>"
      ]
     },
     "metadata": {},
     "output_type": "display_data"
    }
   ],
   "source": [
    "# out_df.plot(x='min_num_samples', y='num_feats', label='num_feats')\n",
    "ax, fig = plt.subplots()\n",
    "out_df.plot(x='min_freq', y='frac_rcc_targets', label='frac_rcc_targets', kind='line', ax=fig, color='r')\n",
    "out_df.plot(x='min_freq', y='frac_top_25', label='frac_top_25', kind='line', ax=fig)\n",
    "plt.ylabel('Fraction of features captured')"
   ]
  },
  {
   "cell_type": "code",
   "execution_count": 96,
   "metadata": {},
   "outputs": [
    {
     "data": {
      "text/html": [
       "<div>\n",
       "<style scoped>\n",
       "    .dataframe tbody tr th:only-of-type {\n",
       "        vertical-align: middle;\n",
       "    }\n",
       "\n",
       "    .dataframe tbody tr th {\n",
       "        vertical-align: top;\n",
       "    }\n",
       "\n",
       "    .dataframe thead th {\n",
       "        text-align: right;\n",
       "    }\n",
       "</style>\n",
       "<table border=\"1\" class=\"dataframe\">\n",
       "  <thead>\n",
       "    <tr style=\"text-align: right;\">\n",
       "      <th></th>\n",
       "      <th>min_num_samples</th>\n",
       "      <th>min_freq</th>\n",
       "      <th>num_feats</th>\n",
       "      <th>num_top_10</th>\n",
       "      <th>frac_top_10</th>\n",
       "      <th>num_top_25</th>\n",
       "      <th>frac_top_25</th>\n",
       "      <th>num_168_os_pfs</th>\n",
       "      <th>frac_168_os_pfs</th>\n",
       "      <th>num_net_matched</th>\n",
       "      <th>frac_net_matched</th>\n",
       "      <th>num_rcc_targets</th>\n",
       "      <th>frac_rcc_targets</th>\n",
       "    </tr>\n",
       "  </thead>\n",
       "  <tbody>\n",
       "    <tr>\n",
       "      <th>0</th>\n",
       "      <td>0</td>\n",
       "      <td>0.10</td>\n",
       "      <td>3633</td>\n",
       "      <td>10</td>\n",
       "      <td>1.0</td>\n",
       "      <td>25</td>\n",
       "      <td>1.00</td>\n",
       "      <td>158</td>\n",
       "      <td>0.940476</td>\n",
       "      <td>82</td>\n",
       "      <td>0.953488</td>\n",
       "      <td>153</td>\n",
       "      <td>0.813830</td>\n",
       "    </tr>\n",
       "    <tr>\n",
       "      <th>1</th>\n",
       "      <td>0</td>\n",
       "      <td>0.15</td>\n",
       "      <td>2718</td>\n",
       "      <td>10</td>\n",
       "      <td>1.0</td>\n",
       "      <td>21</td>\n",
       "      <td>0.84</td>\n",
       "      <td>125</td>\n",
       "      <td>0.744048</td>\n",
       "      <td>65</td>\n",
       "      <td>0.755814</td>\n",
       "      <td>126</td>\n",
       "      <td>0.670213</td>\n",
       "    </tr>\n",
       "    <tr>\n",
       "      <th>2</th>\n",
       "      <td>0</td>\n",
       "      <td>0.20</td>\n",
       "      <td>2079</td>\n",
       "      <td>9</td>\n",
       "      <td>0.9</td>\n",
       "      <td>15</td>\n",
       "      <td>0.60</td>\n",
       "      <td>102</td>\n",
       "      <td>0.607143</td>\n",
       "      <td>49</td>\n",
       "      <td>0.569767</td>\n",
       "      <td>102</td>\n",
       "      <td>0.542553</td>\n",
       "    </tr>\n",
       "    <tr>\n",
       "      <th>3</th>\n",
       "      <td>0</td>\n",
       "      <td>0.25</td>\n",
       "      <td>1610</td>\n",
       "      <td>7</td>\n",
       "      <td>0.7</td>\n",
       "      <td>12</td>\n",
       "      <td>0.48</td>\n",
       "      <td>78</td>\n",
       "      <td>0.464286</td>\n",
       "      <td>33</td>\n",
       "      <td>0.383721</td>\n",
       "      <td>82</td>\n",
       "      <td>0.436170</td>\n",
       "    </tr>\n",
       "    <tr>\n",
       "      <th>4</th>\n",
       "      <td>0</td>\n",
       "      <td>0.30</td>\n",
       "      <td>1218</td>\n",
       "      <td>6</td>\n",
       "      <td>0.6</td>\n",
       "      <td>10</td>\n",
       "      <td>0.40</td>\n",
       "      <td>61</td>\n",
       "      <td>0.363095</td>\n",
       "      <td>27</td>\n",
       "      <td>0.313953</td>\n",
       "      <td>72</td>\n",
       "      <td>0.382979</td>\n",
       "    </tr>\n",
       "    <tr>\n",
       "      <th>...</th>\n",
       "      <td>...</td>\n",
       "      <td>...</td>\n",
       "      <td>...</td>\n",
       "      <td>...</td>\n",
       "      <td>...</td>\n",
       "      <td>...</td>\n",
       "      <td>...</td>\n",
       "      <td>...</td>\n",
       "      <td>...</td>\n",
       "      <td>...</td>\n",
       "      <td>...</td>\n",
       "      <td>...</td>\n",
       "      <td>...</td>\n",
       "    </tr>\n",
       "    <tr>\n",
       "      <th>235</th>\n",
       "      <td>39</td>\n",
       "      <td>0.15</td>\n",
       "      <td>2010</td>\n",
       "      <td>8</td>\n",
       "      <td>0.8</td>\n",
       "      <td>15</td>\n",
       "      <td>0.60</td>\n",
       "      <td>98</td>\n",
       "      <td>0.583333</td>\n",
       "      <td>49</td>\n",
       "      <td>0.569767</td>\n",
       "      <td>102</td>\n",
       "      <td>0.542553</td>\n",
       "    </tr>\n",
       "    <tr>\n",
       "      <th>236</th>\n",
       "      <td>39</td>\n",
       "      <td>0.20</td>\n",
       "      <td>1656</td>\n",
       "      <td>7</td>\n",
       "      <td>0.7</td>\n",
       "      <td>12</td>\n",
       "      <td>0.48</td>\n",
       "      <td>84</td>\n",
       "      <td>0.500000</td>\n",
       "      <td>40</td>\n",
       "      <td>0.465116</td>\n",
       "      <td>85</td>\n",
       "      <td>0.452128</td>\n",
       "    </tr>\n",
       "    <tr>\n",
       "      <th>237</th>\n",
       "      <td>39</td>\n",
       "      <td>0.25</td>\n",
       "      <td>1360</td>\n",
       "      <td>6</td>\n",
       "      <td>0.6</td>\n",
       "      <td>11</td>\n",
       "      <td>0.44</td>\n",
       "      <td>69</td>\n",
       "      <td>0.410714</td>\n",
       "      <td>29</td>\n",
       "      <td>0.337209</td>\n",
       "      <td>71</td>\n",
       "      <td>0.377660</td>\n",
       "    </tr>\n",
       "    <tr>\n",
       "      <th>238</th>\n",
       "      <td>39</td>\n",
       "      <td>0.30</td>\n",
       "      <td>1133</td>\n",
       "      <td>5</td>\n",
       "      <td>0.5</td>\n",
       "      <td>9</td>\n",
       "      <td>0.36</td>\n",
       "      <td>57</td>\n",
       "      <td>0.339286</td>\n",
       "      <td>24</td>\n",
       "      <td>0.279070</td>\n",
       "      <td>65</td>\n",
       "      <td>0.345745</td>\n",
       "    </tr>\n",
       "    <tr>\n",
       "      <th>239</th>\n",
       "      <td>39</td>\n",
       "      <td>0.35</td>\n",
       "      <td>954</td>\n",
       "      <td>5</td>\n",
       "      <td>0.5</td>\n",
       "      <td>8</td>\n",
       "      <td>0.32</td>\n",
       "      <td>49</td>\n",
       "      <td>0.291667</td>\n",
       "      <td>22</td>\n",
       "      <td>0.255814</td>\n",
       "      <td>57</td>\n",
       "      <td>0.303191</td>\n",
       "    </tr>\n",
       "  </tbody>\n",
       "</table>\n",
       "<p>240 rows × 13 columns</p>\n",
       "</div>"
      ],
      "text/plain": [
       "     min_num_samples  min_freq  num_feats  num_top_10  frac_top_10  \\\n",
       "0                  0      0.10       3633          10          1.0   \n",
       "1                  0      0.15       2718          10          1.0   \n",
       "2                  0      0.20       2079           9          0.9   \n",
       "3                  0      0.25       1610           7          0.7   \n",
       "4                  0      0.30       1218           6          0.6   \n",
       "..               ...       ...        ...         ...          ...   \n",
       "235               39      0.15       2010           8          0.8   \n",
       "236               39      0.20       1656           7          0.7   \n",
       "237               39      0.25       1360           6          0.6   \n",
       "238               39      0.30       1133           5          0.5   \n",
       "239               39      0.35        954           5          0.5   \n",
       "\n",
       "     num_top_25  frac_top_25  num_168_os_pfs  frac_168_os_pfs  \\\n",
       "0            25         1.00             158         0.940476   \n",
       "1            21         0.84             125         0.744048   \n",
       "2            15         0.60             102         0.607143   \n",
       "3            12         0.48              78         0.464286   \n",
       "4            10         0.40              61         0.363095   \n",
       "..          ...          ...             ...              ...   \n",
       "235          15         0.60              98         0.583333   \n",
       "236          12         0.48              84         0.500000   \n",
       "237          11         0.44              69         0.410714   \n",
       "238           9         0.36              57         0.339286   \n",
       "239           8         0.32              49         0.291667   \n",
       "\n",
       "     num_net_matched  frac_net_matched  num_rcc_targets  frac_rcc_targets  \n",
       "0                 82          0.953488              153          0.813830  \n",
       "1                 65          0.755814              126          0.670213  \n",
       "2                 49          0.569767              102          0.542553  \n",
       "3                 33          0.383721               82          0.436170  \n",
       "4                 27          0.313953               72          0.382979  \n",
       "..               ...               ...              ...               ...  \n",
       "235               49          0.569767              102          0.542553  \n",
       "236               40          0.465116               85          0.452128  \n",
       "237               29          0.337209               71          0.377660  \n",
       "238               24          0.279070               65          0.345745  \n",
       "239               22          0.255814               57          0.303191  \n",
       "\n",
       "[240 rows x 13 columns]"
      ]
     },
     "execution_count": 96,
     "metadata": {},
     "output_type": "execute_result"
    }
   ],
   "source": [
    "out_df"
   ]
  },
  {
   "cell_type": "code",
   "execution_count": 77,
   "metadata": {},
   "outputs": [
    {
     "data": {
      "image/png": "[encoded data removed]",
      "text/plain": [
       "<Figure size 640x480 with 1 Axes>"
      ]
     },
     "metadata": {},
     "output_type": "display_data"
    }
   ],
   "source": [
    "ax, fig = plt.subplots()\n",
    "for group_id in group_feats_dict.keys():\n",
    "    sns.histplot(feat_info[group_id], label=group_id, ax=fig, bins=np.arange(0,1,0.05))"
   ]
  },
  {
   "cell_type": "code",
   "execution_count": 56,
   "metadata": {},
   "outputs": [
    {
     "data": {
      "text/plain": [
       "3895"
      ]
     },
     "execution_count": 56,
     "metadata": {},
     "output_type": "execute_result"
    }
   ],
   "source": [
    "len(feat_ids)"
   ]
  },
  {
   "cell_type": "code",
   "execution_count": 55,
   "metadata": {},
   "outputs": [
    {
     "data": {
      "text/plain": [
       "2994"
      ]
     },
     "execution_count": 55,
     "metadata": {},
     "output_type": "execute_result"
    }
   ],
   "source": [
    "len(temp)"
   ]
  },
  {
   "cell_type": "code",
   "execution_count": 53,
   "metadata": {},
   "outputs": [
    {
     "data": {
      "text/plain": [
       "Index(['HP_mzml/Plasma/0092_WUG_FARMM_HIL-9004-3-PB.mzML',\n",
       "       'HP_mzml/Plasma/0135_WUG_FARMM_HIL-9009-2-PE.mzML',\n",
       "       'HP_mzml/Plasma/0139_WUG_FARMM_HIL-9035-3-PE.mzML',\n",
       "       'HP_mzml/Plasma/0034_WUG_FARMM_HIL-9033-1-PC.mzML',\n",
       "       'HP_mzml/Plasma/0068_WUG_FARMM_HIL-9016-2-PD.mzML',\n",
       "       'HP_mzml/Plasma/0111_WUG_FARMM_HIL-9032-2-PA.mzML',\n",
       "       'HP_mzml/Plasma/0127_WUG_FARMM_HIL-9029-2-PD.mzML',\n",
       "       'HP_mzml/Plasma/0104_WUG_FARMM_HIL-9008-3-PD.mzML',\n",
       "       'HP_mzml/Plasma/0126_WUG_FARMM_HIL-9029-2-PB.mzML',\n",
       "       'HP_mzml/Plasma/0080a_WUG_FARMM_HIL-QPP05.mzML',\n",
       "       ...\n",
       "       'HP_mzml/Plasma/0010_WUG_FARMM_HIL-9014-3-PA.mzML',\n",
       "       'HP_mzml/Plasma/0061_WUG_FARMM_HIL-9019-1-PA.mzML',\n",
       "       'HP_mzml/Plasma/0054_WUG_FARMM_HIL-9030-1-PB.mzML',\n",
       "       'HP_mzml/Plasma/0031_WUG_FARMM_HIL-9033-1-PB.mzML',\n",
       "       'HP_mzml/Plasma/0064_WUG_FARMM_HIL-9019-1-PC.mzML',\n",
       "       'HP_mzml/Plasma/0073_WUG_FARMM_HIL-9013-2-PE.mzML',\n",
       "       'HP_mzml/Plasma/0006_WUG_FARMM_HIL-9014-3-PC.mzML',\n",
       "       'HP_mzml/Plasma/0021_WUG_FARMM_HIL-9034-2-PD.mzML',\n",
       "       'HP_mzml/Plasma/0040_WUG_FARMM_HIL-9026-3-PB.mzML',\n",
       "       'HP_mzml/Plasma/0130_WUG_FARMM_HIL-9029-2-PC.mzML'],\n",
       "      dtype='object', name='file_name', length=166)"
      ]
     },
     "execution_count": 53,
     "metadata": {},
     "output_type": "execute_result"
    }
   ],
   "source": [
    "group_samples"
   ]
  },
  {
   "cell_type": "code",
   "execution_count": 52,
   "metadata": {},
   "outputs": [
    {
     "data": {
      "text/plain": [
       "Index(['FT10031', 'FT10035', 'FT10037', 'FT10039', 'FT10040', 'FT10041',\n",
       "       'FT10042', 'FT10043', 'FT10044', 'FT10045',\n",
       "       ...\n",
       "       'FT9976', 'FT9978', 'FT9980', 'FT9984', 'FT9985', 'FT9988', 'FT9989',\n",
       "       'FT9995', 'FT9997', 'FT9999'],\n",
       "      dtype='object', length=3895)"
      ]
     },
     "execution_count": 52,
     "metadata": {},
     "output_type": "execute_result"
    }
   ],
   "source": [
    "feat_ids"
   ]
  },
  {
   "cell_type": "code",
   "execution_count": 51,
   "metadata": {},
   "outputs": [],
   "source": [
    "metadata_df['group_freq'] = group_freq"
   ]
  },
  {
   "cell_type": "code",
   "execution_count": null,
   "metadata": {},
   "outputs": [],
   "source": [
    "metadata_df"
   ]
  },
  {
   "cell_type": "code",
   "execution_count": 50,
   "metadata": {},
   "outputs": [
    {
     "name": "stdout",
     "output_type": "stream",
     "text": [
      "ST001237 : 3273\n",
      "ST001236 : 2932\n",
      "ST001422 : 3895\n",
      "ST001428 : 3895\n",
      "ST001849 : 3828\n",
      "ST001931 : 3889\n",
      "ST002112 : 3703\n",
      "ST002331 : 3887\n",
      "ST001408 : 3548\n",
      "ST001423 : 3884\n",
      "ST000601 : 3802\n",
      "ST000422 : 3454\n",
      "ST001099 : 3720\n",
      "ST002251 : 3879\n",
      "ST000909 : 3854\n",
      "ST002244 : 3745\n",
      "ST002027 : 3737\n",
      "ST001918 : 3838\n",
      "ST001932 : 3895\n",
      "ST000388 : 3447\n",
      "ST001519 : 2994\n"
     ]
    }
   ],
   "source": [
    "for group_id, group_feats in group_feats_dict.items():\n",
    "    print(group_id, ':', len(group_feats))"
   ]
  },
  {
   "cell_type": "code",
   "execution_count": 37,
   "metadata": {},
   "outputs": [
    {
     "data": {
      "text/plain": [
       "dict_keys(['ST001237', 'ST001236', 'ST001422', 'ST001428', 'ST001849', 'ST001931', 'ST002112', 'ST002331', 'ST001408', 'ST001423', 'ST000601', 'ST000422', 'ST001099', 'ST002251', 'ST000909', 'ST002244', 'ST002027', 'ST001918', 'ST001932', 'ST000388', 'ST001519'])"
      ]
     },
     "execution_count": 37,
     "metadata": {},
     "output_type": "execute_result"
    }
   ],
   "source": [
    "group_feats_dict.keys()"
   ]
  },
  {
   "cell_type": "code",
   "execution_count": 26,
   "metadata": {},
   "outputs": [
    {
     "data": {
      "text/plain": [
       "FT10031    True\n",
       "FT10035    True\n",
       "FT10037    True\n",
       "FT10039    True\n",
       "FT10040    True\n",
       "           ... \n",
       "FT9988     True\n",
       "FT9989     True\n",
       "FT9995     True\n",
       "FT9997     True\n",
       "FT9999     True\n",
       "Length: 3895, dtype: bool"
      ]
     },
     "execution_count": 26,
     "metadata": {},
     "output_type": "execute_result"
    }
   ],
   "source": [
    "nan_mask[group_samples].any(axis=1)"
   ]
  },
  {
   "cell_type": "code",
   "execution_count": 22,
   "metadata": {},
   "outputs": [
    {
     "data": {
      "text/plain": [
       "1379"
      ]
     },
     "execution_count": 22,
     "metadata": {},
     "output_type": "execute_result"
    }
   ],
   "source": [
    "len(study_samples)"
   ]
  },
  {
   "cell_type": "markdown",
   "metadata": {},
   "source": []
  },
  {
   "cell_type": "code",
   "execution_count": null,
   "metadata": {},
   "outputs": [],
   "source": [
    "group_freq_dct = {}\n",
    "group_sz_dct = {}\n",
    "for group_id in metadata_df[group_col].unique():\n",
    "    group_samples = metadata_df[metadata_df[group_col]==group_id].index\n",
    "    val = 1 - nan_mask[group_samples].mean(axis=1)\n",
    "    group_freq_dct[group_id] = val\n",
    "    group_sz_dct[group_id] = len(group_samples)\n",
    "\n",
    "group_freq_df = pd.DataFrame(group_freq_dct)\n",
    "group_sz_df = pd.DataFrame(group_sz_dct, index=['Number of Samples']).T"
   ]
  },
  {
   "cell_type": "code",
   "execution_count": null,
   "metadata": {},
   "outputs": [],
   "source": []
  },
  {
   "cell_type": "code",
   "execution_count": null,
   "metadata": {},
   "outputs": [],
   "source": []
  },
  {
   "cell_type": "code",
   "execution_count": null,
   "metadata": {},
   "outputs": [],
   "source": [
    "metadata_summary['Number of Samples'].sum()"
   ]
  },
  {
   "cell_type": "code",
   "execution_count": null,
   "metadata": {},
   "outputs": [],
   "source": [
    "fig, ax = plt.subplots(figsize=(7,5))\n",
    "temp = metadata_summary.groupby('Cohort Label')['Number of Samples'].sum().sort_values(ascending=False)\n",
    "temp.plot(kind='bar', ax=ax, color=[cohort_label_to_color[label] for label in temp.index])\n",
    "ax.set_ylabel('Number of Samples')\n",
    "ax.set_title('Number of Samples in Each Cohort Label')\n",
    "_ = ax.set_xticklabels(ax.get_xticklabels(), rotation=45, ha='right')"
   ]
  },
  {
   "cell_type": "code",
   "execution_count": null,
   "metadata": {},
   "outputs": [],
   "source": [
    "fig, ax = plt.subplots(figsize=(8,6))\n",
    "temp = metadata_summary.groupby('Study ID')['Number of Samples'].sum().sort_values(ascending=False)\n",
    "temp.plot(kind='bar', ax=ax, color=[study_id_to_color[label] for label in temp.index])\n",
    "ax.set_ylabel('Number of Samples')\n",
    "ax.set_title('Number of Samples in Each Study ID')\n",
    "_ = ax.set_xticklabels(ax.get_xticklabels(), rotation=45, ha='right')"
   ]
  },
  {
   "cell_type": "code",
   "execution_count": null,
   "metadata": {},
   "outputs": [],
   "source": [
    "fig, ax = plt.subplots(figsize=(6,4))\n",
    "sns.barplot(data=metadata_summary, x='Cohort ID', y='Alignment Score', palette=cohort_label_to_color, hue='Cohort Label')\n",
    "ax.set_xticklabels(ax.get_xticklabels(), rotation=45, ha='right')\n",
    "ax.set_ylabel('Alignment Score')\n",
    "ax.set_title('Alignment Score in Each Cohort')\n",
    "# place legend outside of the plot\n",
    "plt.legend(bbox_to_anchor=(1.05, 1), loc=2, borderaxespad=0.)"
   ]
  },
  {
   "cell_type": "code",
   "execution_count": null,
   "metadata": {},
   "outputs": [],
   "source": [
    "metadata_summary"
   ]
  },
  {
   "cell_type": "markdown",
   "metadata": {},
   "source": [
    "## Main Analysis"
   ]
  },
  {
   "cell_type": "code",
   "execution_count": null,
   "metadata": {},
   "outputs": [],
   "source": [
    "def compute_peak_robustness(alignment_df, nan_mask, metadata_summary,metadata_df,\n",
    "                            ref_id=ref_cohort_id,group_col='Study ID Expanded'):\n",
    "\n",
    "    # num_samples = metadata_df[group_col].value_counts()\n",
    "\n",
    "    num_samples = metadata_summary[['Cohort ID','Number of Samples']].copy()\n",
    "    num_samples.set_index('Cohort ID', inplace=True)\n",
    "    total_num_samples = num_samples['Number of Samples'].sum()\n",
    "    align_summary =  alignment_df.copy()\n",
    "    align_summary.index = align_summary[ref_id]\n",
    "    # align_summary.set_index(ref_id, inplace=True)\n",
    "\n",
    "    nan_locs = align_summary.isna()\n",
    "    ref_fts = align_summary.index\n",
    "\n",
    "    for col in align_summary.columns:\n",
    "        align_summary[col] = ref_fts\n",
    "\n",
    "    align_summary[nan_locs] = None\n",
    "    align_summary = align_summary.astype(bool).astype(int).T\n",
    "    align_summary.index.name = 'Cohort ID'\n",
    "\n",
    "    align_summary_cohortsize_weighted = align_summary.mul(num_samples['Number of Samples'], axis=0)\n",
    "\n",
    "    # weight is by the size of the cohort\n",
    "    peak_robustness_1 = align_summary_cohortsize_weighted.sum(axis=0)/total_num_samples\n",
    "\n",
    "    # each cohort is weighted equally\n",
    "    peak_robustness_2 = align_summary.sum(axis=0)/align_summary.shape[0]\n",
    "\n",
    "    # each weight is by the log(size) of the cohort\n",
    "    align_summary_logcohortsize_weighted = np.log(1 + align_summary_cohortsize_weighted)\n",
    "    log_tot_num_samples = np.sum(1+ np.log(num_samples['Number of Samples']))\n",
    "    peak_robustness_3 = align_summary_logcohortsize_weighted.sum(axis=0)/log_tot_num_samples\n",
    "\n",
    "\n",
    "    # the peak frequency across the cohorts\n",
    "    # cohort_peak_frequency = nan_mask.sum(axis=1)\n",
    "\n",
    "    group_freq_dct = {}\n",
    "    group_sz_dct = {}\n",
    "    for group_id in metadata_df[group_col].unique():\n",
    "        cohort_samples = metadata_df[metadata_df[group_col]==group_id].index\n",
    "        val = 1 - nan_mask[cohort_samples].mean(axis=1)\n",
    "        group_freq_dct[group_id] = val\n",
    "        group_sz_dct[group_id] = len(cohort_samples)\n",
    "\n",
    "    group_freq_df = pd.DataFrame(group_freq_dct)\n",
    "    group_sz_df = pd.DataFrame(group_sz_dct, index=['Number of Samples']).T\n",
    "\n",
    "    # the peak frequency across the group, each group weighted by size\n",
    "    peak_robustness_4 = group_freq_df.mul(group_sz_df['Number of Samples'], axis=1).sum(axis=1)/group_sz_df['Number of Samples'].sum()\n",
    "    \n",
    "\n",
    "    # the peak frequency across the group, each group weighted by log(size)\n",
    "    group_log_sz_df = np.log(1 + group_sz_df)\n",
    "    log_group_sz_df = group_freq_df.mul(group_log_sz_df['Number of Samples'], axis=1).sum(axis=1)/group_log_sz_df['Number of Samples'].sum()\n",
    "    peak_robustness_5 = log_group_sz_df\n",
    "\n",
    "\n",
    "    peak_robustness_dct = {\n",
    "        'Found, Cohort Equal Weighted': peak_robustness_2,\n",
    "        'Found, Cohort Size Weighted': peak_robustness_1,\n",
    "        'Found, Cohort Log Size Weighted': peak_robustness_3,\n",
    "        'Freq, Cohort Size Weighted': peak_robustness_4,\n",
    "        'Freq, Cohort Log Size Weighted': peak_robustness_5\n",
    "    }\n",
    "\n",
    "    return peak_robustness_dct"
   ]
  },
  {
   "cell_type": "code",
   "execution_count": null,
   "metadata": {},
   "outputs": [],
   "source": [
    "nan_mask = pd.read_csv(nan_mask_file, index_col=0)\n",
    "nan_mask.columns = nan_mask.columns.astype(str)"
   ]
  },
  {
   "cell_type": "code",
   "execution_count": null,
   "metadata": {},
   "outputs": [],
   "source": [
    "# Load the original alignment summary\n",
    "alignment_df = pd.read_csv(align_feats_file)\n",
    "alignment_df.columns = alignment_df.columns.astype(str)\n",
    "alignment_df.dropna(axis=0, how='all', inplace=True)\n",
    "alignment_df = alignment_df[metadata_summary['Cohort ID'].unique()]\n",
    "\n",
    "# %% Compute different peak robustness scores\n",
    "nan_mask = nan_mask[metadata_df.index]\n",
    "\n",
    "# %%\n",
    "peak_robustness_dct = compute_peak_robustness(alignment_df, nan_mask, metadata_summary, metadata_df)\n"
   ]
  },
  {
   "cell_type": "code",
   "execution_count": null,
   "metadata": {},
   "outputs": [],
   "source": [
    "robustness_df = pd.DataFrame(peak_robustness_dct)\n",
    "robustness_df.to_csv(os.path.join(data_dir, 'peak_robustness.csv'))"
   ]
  },
  {
   "cell_type": "code",
   "execution_count": null,
   "metadata": {},
   "outputs": [],
   "source": [
    "feat_info = pd.DataFrame(index=alignment_df[ref_cohort_id])\n",
    "feat_info.index.name = 'Aligned Features'\n",
    "for k,v in matt_ft_dict.items():\n",
    "    feat_info[k] = False\n",
    "    overlap = [x for x in v if x in feat_info.index]\n",
    "    print(f'From {k} there are {len(overlap)} aligned out of {len(v)} features.')\n",
    "    feat_info.loc[overlap, k] = True"
   ]
  },
  {
   "cell_type": "code",
   "execution_count": null,
   "metadata": {},
   "outputs": [],
   "source": [
    "group_col = 'cohort_id'    \n",
    "group_freq_dct = {}\n",
    "group_sz_dct = {}\n",
    "for group_id in metadata_df[group_col].unique():\n",
    "    cohort_samples = metadata_df[metadata_df[group_col]==group_id].index\n",
    "    val = 1 - nan_mask[cohort_samples].mean(axis=1)\n",
    "    group_freq_dct[group_id] = val\n",
    "    group_sz_dct[group_id] = len(cohort_samples)\n",
    "\n",
    "group_freq_df = pd.DataFrame(group_freq_dct)\n",
    "group_sz_df = pd.DataFrame(group_sz_dct, index=['Number of Samples']).T\n",
    "\n",
    "feat_info = feat_info.join(group_freq_df)"
   ]
  },
  {
   "cell_type": "code",
   "execution_count": null,
   "metadata": {},
   "outputs": [],
   "source": [
    "group_sz_df"
   ]
  },
  {
   "cell_type": "code",
   "execution_count": null,
   "metadata": {},
   "outputs": [],
   "source": [
    "col_cluster = False\n",
    "row_cluster = False\n",
    "\n",
    "cohort_ids = metadata_df['cohort_id'].unique()\n",
    "plot_df = feat_info[cohort_ids].T\n",
    "\n",
    "col_colors = pd.DataFrame(index=plot_df.columns)\n",
    "for col in feat_info.columns:\n",
    "    if col in cohort_ids:\n",
    "        continue\n",
    "    col_colors[col] = feat_info[col].map({True: 'black', False: 'white'})\n",
    "\n",
    "col_colors['Robustness'] = peak_robustness_dct['Found, Cohort Size Weighted'].map(lambda x: plt.cm.plasma(x))\n",
    "col_colors['Pass Threshold'] = (peak_robustness_dct['Found, Cohort Size Weighted'] > 0.25).map({True: 'black', False: 'white'})\n",
    "\n",
    "####\n",
    "# Change the names of the rows\n",
    "cohort_id_to_sample_num = metadata_summary[['Cohort ID','Number of Samples']].copy()\n",
    "cohort_id_to_sample_num.set_index('Cohort ID', inplace=True)\n",
    "align_summary_bool = ~alignment_df.isna()\n",
    "align_counts = align_summary_bool.sum(axis=0)\n",
    "\n",
    "if col_cluster==False:\n",
    "    col_val_order = peak_robustness_dct['Found, Cohort Size Weighted']\n",
    "    col_val_order.sort_values(ascending=False, inplace=True)\n",
    "    plot_df = plot_df[col_val_order.index]\n",
    "\n",
    "if row_cluster==False:\n",
    "    row_val_order = group_sz_df['Number of Samples'].copy()\n",
    "    row_val_order.sort_values(ascending=False, inplace=True)\n",
    "    plot_df = plot_df.loc[row_val_order.index]\n",
    "\n",
    "\n",
    "row_colors = pd.DataFrame(index=plot_df.index)\n",
    "row_colors['Cohort Label'] = [cohort_id_to_color[c] for c in plot_df.index]\n",
    "row_colors['Cohort Size'] = [group_sz_df.loc[c, 'Number of Samples'] for c in plot_df.index]\n",
    "row_colors['Cohort Size'] = row_colors['Cohort Size']/row_colors['Cohort Size'].max()\n",
    "row_colors['Cohort Size'] = row_colors['Cohort Size'].map(lambda x: plt.cm.copper_r(x))\n",
    "\n",
    "\n",
    "\n",
    "\n",
    "new_row_names = [f'{c} (Nfiles={cohort_id_to_sample_num.loc[c].values[0]}, Npeaks={align_counts[c]:.0f}, Align%={cohort_id_to_align_score[c]:.2f})' \n",
    "        for c in plot_df.index]\n",
    "\n",
    "\n",
    "\n",
    "\n",
    "\n",
    "plot_df.index =  new_row_names\n",
    "row_colors.index = new_row_names\n",
    "\n",
    "g = sns.clustermap(plot_df, cmap='viridis', figsize=(50,20), \n",
    "            row_colors=row_colors, col_colors=col_colors, \n",
    "            col_cluster=col_cluster, row_cluster=row_cluster,\n",
    "            dendrogram_ratio=0.04)\n",
    "\n",
    "plt.setp(g.ax_heatmap.get_xticklabels(), visible=False)\n",
    "# add a label to the colorbar \n",
    "g.cax.set_ylabel('Peak Frequency')\n",
    "\n",
    "\n",
    "\n",
    "plt.savefig(os.path.join(save_dir, 'supervenn_clustermap.png'), **savefig_params)"
   ]
  },
  {
   "cell_type": "code",
   "execution_count": null,
   "metadata": {},
   "outputs": [],
   "source": [
    "col_cluster = False\n",
    "row_cluster = False\n",
    "\n",
    "cohort_ids = metadata_df['cohort_id'].unique()\n",
    "plot_df = feat_info[cohort_ids].T\n",
    "\n",
    "col_colors = pd.DataFrame(index=plot_df.columns)\n",
    "for col in feat_info.columns:\n",
    "    if col in cohort_ids:\n",
    "        continue\n",
    "    col_colors[col] = feat_info[col].map({True: 'black', False: 'white'})\n",
    "\n",
    "col_colors['Robustness'] = peak_robustness_dct['Found, Cohort Size Weighted'].map(lambda x: plt.cm.plasma(x))\n",
    "col_colors['Pass Threshold'] = (peak_robustness_dct['Found, Cohort Size Weighted'] > 0.25).map({True: 'black', False: 'white'})\n",
    "\n",
    "####\n",
    "# Change the names of the rows\n",
    "cohort_id_to_sample_num = metadata_summary[['Cohort ID','Number of Samples']].copy()\n",
    "cohort_id_to_sample_num.set_index('Cohort ID', inplace=True)\n",
    "# align_summary_bool = alignment_df.astype(bool)\n",
    "align_summary_bool = ~alignment_df.isna()\n",
    "align_counts = align_summary_bool.sum(axis=0)\n",
    "\n",
    "if col_cluster==False:\n",
    "    col_val_order = peak_robustness_dct['Found, Cohort Size Weighted']\n",
    "    col_val_order.sort_values(ascending=False, inplace=True)\n",
    "    plot_df = plot_df[col_val_order.index]\n",
    "\n",
    "if row_cluster==False:\n",
    "    row_val_order = group_sz_df['Number of Samples'].copy()\n",
    "    row_val_order.sort_values(ascending=False, inplace=True)\n",
    "    plot_df = plot_df.loc[row_val_order.index]\n",
    "\n",
    "\n",
    "row_colors = pd.DataFrame(index=plot_df.index)\n",
    "row_colors['Cohort Label'] = [cohort_id_to_color[c] for c in plot_df.index]\n",
    "row_colors['Cohort Size'] = [group_sz_df.loc[c, 'Number of Samples'] for c in plot_df.index]\n",
    "row_colors['Cohort Size'] = row_colors['Cohort Size']/row_colors['Cohort Size'].max()\n",
    "row_colors['Cohort Size'] = row_colors['Cohort Size'].map(lambda x: plt.cm.copper_r(x))\n",
    "\n",
    "\n",
    "\n",
    "\n",
    "new_row_names = [f'{c} (Nfiles={cohort_id_to_sample_num.loc[c].values[0]}, Npeaks={align_counts[c]:.0f}, Align%={cohort_id_to_align_score[c]:.2f})' \n",
    "        for c in plot_df.index]\n",
    "\n",
    "\n",
    "\n",
    "\n",
    "\n",
    "plot_df.index =  new_row_names\n",
    "row_colors.index = new_row_names\n",
    "\n",
    "g = sns.clustermap(plot_df, cmap='viridis', figsize=(8,8), \n",
    "            row_colors=row_colors, col_colors=col_colors, \n",
    "            col_cluster=col_cluster, row_cluster=row_cluster,\n",
    "            dendrogram_ratio=0.1)\n",
    "\n",
    "plt.setp(g.ax_heatmap.get_xticklabels(), visible=False)\n",
    "# add a label to the colorbar \n",
    "g.cax.set_ylabel('Peak Frequency')\n"
   ]
  },
  {
   "cell_type": "code",
   "execution_count": null,
   "metadata": {},
   "outputs": [],
   "source": [
    "savefig_params"
   ]
  },
  {
   "cell_type": "markdown",
   "metadata": {},
   "source": []
  },
  {
   "cell_type": "code",
   "execution_count": null,
   "metadata": {},
   "outputs": [],
   "source": [
    "# feat_info_2 = feat_info.copy()\n",
    "# feat_info_2['label'] = 'others'\n",
    "# feat_info_2.loc[feat_info_2['168_os_pfs'], 'label'] = '168_os_pfs'\n",
    "# feat_info_2.loc[feat_info_2['net_matched'], 'label'] = 'net_matched'\n",
    "# feat_info_2.loc[feat_info_2['top_25'], 'label'] = 'top_25'\n",
    "\n",
    "# for k,v in peak_robustness_dct.items():\n",
    "#     feat_info_2[k] = v\n",
    "\n",
    "\n",
    "\n",
    "\n",
    "feat_info_2 = feat_info.copy()\n",
    "feat_info_2['label'] = 'others'\n",
    "feat_info_2.loc[feat_info_2['rcc_targets'], 'label'] = 'rcc_targets'\n",
    "feat_info_2.loc[feat_info_2['net_matched'], 'label'] = 'net_matched'\n",
    "feat_info_2.loc[feat_info_2['top_25'], 'label'] = 'top_25'\n",
    "\n",
    "for k,v in peak_robustness_dct.items():\n",
    "    feat_info_2[k] = v    "
   ]
  },
  {
   "cell_type": "code",
   "execution_count": null,
   "metadata": {},
   "outputs": [],
   "source": [
    "for k in peak_robustness_dct.keys():\n",
    "\n",
    "    # fig, ax = plt.subplots(figsize=(8,6))\n",
    "    sns.displot(data=feat_info_2, x=k, hue='label', fill=True, multiple='stack')\n",
    "    ax.set_title(k)\n",
    "    plt.savefig(os.path.join(save_dir, f'x_{k}_hist.png'), **savefig_params)\n",
    "    plt.close()\n",
    "\n",
    "    # fig, ax = plt.subplots(figsize=(8,6))\n",
    "    sns.displot(data=feat_info_2, x=k, hue='label', fill=True, kind='kde', common_norm=False, bw_adjust=0.5)\n",
    "    ax.set_title(k)\n",
    "    plt.savefig(os.path.join(save_dir, f'x_{k}_kde.png'), **savefig_params)\n",
    "    plt.close()\n"
   ]
  },
  {
   "cell_type": "code",
   "execution_count": null,
   "metadata": {},
   "outputs": [],
   "source": [
    "# sns.displot(data=feat_info_2, x='Found, Cohort Size Weighted', hue='label', fill=True, multiple='stack')"
   ]
  },
  {
   "cell_type": "code",
   "execution_count": null,
   "metadata": {},
   "outputs": [],
   "source": [
    "sns.displot(data=feat_info_2, x='Found, Cohort Size Weighted', hue='label', fill=True, kind='kde', common_norm=False, bw_method=0.25)"
   ]
  },
  {
   "cell_type": "code",
   "execution_count": null,
   "metadata": {},
   "outputs": [],
   "source": [
    "matt_ft_dict.keys()"
   ]
  },
  {
   "cell_type": "code",
   "execution_count": null,
   "metadata": {},
   "outputs": [],
   "source": [
    "robustnesss_thresholds = [0,0.05,0.1,0.15,0.2,0.25,0.3, 0.33, 0.35, 0.4, 0.45, 0.5]\n",
    "captured_info_list = []\n",
    "chosen_robustness_metric = 'Found, Cohort Size Weighted'\n",
    "for threshold in robustnesss_thresholds:\n",
    "\n",
    "    captured_peaks = feat_info_2[feat_info_2[chosen_robustness_metric] > threshold].index\n",
    "\n",
    "    captured_info = {\n",
    "        'robustness threshold': threshold,\n",
    "        'number of peaks': len(captured_peaks),\n",
    "        # '% of RCC peaks': get_captured_perc(rcc_peak_info_df.index, captured_peaks)[0],\n",
    "        '% of RCC peaks': len(captured_peaks)/num_ref_cohort_peaks,\n",
    "        '% of Matt top 25': get_captured_perc(matt_ft_dict['top_25'], captured_peaks)[0],\n",
    "        '% of network peaks': get_captured_perc(matt_ft_dict['net_matched'], captured_peaks)[0],\n",
    "        '% of RCC targets': get_captured_perc(matt_ft_dict['rcc_targets'], captured_peaks)[0],\n",
    "    }\n",
    "\n",
    "    captured_info_list.append(captured_info)\n",
    "    print(f'Number of peaks with robustness greater than {threshold}: ', (feat_info_2[chosen_robustness_metric] > threshold).sum())\n",
    "\n",
    "\n",
    "captured_df = pd.DataFrame(captured_info_list)"
   ]
  },
  {
   "cell_type": "code",
   "execution_count": null,
   "metadata": {},
   "outputs": [],
   "source": [
    "captured_df"
   ]
  },
  {
   "cell_type": "code",
   "execution_count": null,
   "metadata": {},
   "outputs": [],
   "source": []
  },
  {
   "cell_type": "code",
   "execution_count": null,
   "metadata": {},
   "outputs": [],
   "source": [
    "rcc_metadata_file = os.path.join(dropbox_dir, 'development_CohortCombination','clean_rcc_metadata.csv')\n",
    "\n",
    "desc_str = 'x'\n",
    "rcc_metadata = pd.read_csv(rcc_metadata_file, index_col=0)\n",
    "metadata = pd.read_csv(os.path.join(data_dir, 'subset_metadata.csv'), index_col=0)\n",
    "peak_robustness = pd.read_csv(os.path.join(data_dir, 'peak_robustness.csv'), index_col=0)\n",
    "# Join the two metadata together\n",
    "metadata = metadata.join(rcc_metadata, how='outer')\n",
    "metadata.to_csv(os.path.join(data_dir, 'subset_metadata_with_rcc.csv'))\n",
    "robust_score = peak_robustness['Found, Cohort Size Weighted']\n",
    "keep_peaks = peak_robustness[robust_score >=0.25].index\n",
    "keep_samples = metadata.index\n",
    "\n",
    "print(f'Keeping {len(keep_peaks)} peaks and {len(keep_samples)} samples')\n",
    "# data_corrected = pd.read_csv(os.path.join(data_dir, 'subset_data_corrected.csv'), index_col=0)\n",
    "# nan_mask = pd.read_csv(os.path.join(data_dir, 'subset_nan_mask.csv'), index_col=0)\n",
    "\n",
    "combined_study = pd.read_csv(os.path.join(data_dir, 'combined_study.csv'), index_col=0)\n",
    "nan_mask = pd.read_csv(os.path.join(data_dir, 'combined_study_nan_mask.csv'), index_col=0)\n",
    "combined_study.columns = combined_study.columns.astype(str)\n",
    "nan_mask.columns = nan_mask.columns.astype(str)\n",
    "combined_study = combined_study.loc[keep_peaks, keep_samples].copy()\n",
    "nan_mask = nan_mask.loc[keep_peaks, keep_samples].copy()\n",
    "\n",
    "\n",
    "\n",
    "metadata['MV'] = 100*nan_mask.sum(axis=0)/nan_mask.shape[0]\n",
    "\n",
    "\n",
    "\n",
    "        # %%\n",
    "num_missing_vals = nan_mask.sum(axis=0).sort_values(ascending=False)\n",
    "num_missing_frac = num_missing_vals/combined_study.shape[0]\n",
    "\n",
    "# fig, ax = plt.subplots(figsize=(6,4))\n",
    "# sns.histplot(num_missing_frac, bins=np.linspace(0,1,21), ax=ax)\n",
    "# plt.xlabel('Missing Value Fraction')\n",
    "# plt.ylabel('Number of Samples')\n",
    "# plt.title('Histogram of Missing Value Fraction')\n",
    "# plt.savefig(os.path.join(save_dir, f'missing_value_fraction_hist_subset_{min_num_cohort_ids}.png'), **savefig_params)\n",
    "# plt.close()\n",
    "\n",
    "# %%\n",
    "# Remove samples with more than 95% missing values\n",
    "mis_val_frac_th = 0.95\n",
    "print(f'number of samples with more than {100*mis_val_frac_th:.0f}% missing values: ', (num_missing_frac > mis_val_frac_th).sum())\n",
    "kept_samples = num_missing_frac[num_missing_frac < mis_val_frac_th].index\n",
    "nan_mask = nan_mask.loc[:,kept_samples]\n",
    "combined_study = combined_study.loc[:,kept_samples]\n",
    "subset_metadata = metadata.loc[kept_samples]\n",
    "cohort_id_list = subset_metadata['Cohort ID Expanded'].tolist()\n",
    "\n",
    "print('combined_study shape after removing samples with more than 95% missing values: ', combined_study.shape)\n",
    "\n",
    "# %%\n",
    "# If we want to fill the NA values with something else\n",
    "combined_study[nan_mask] = np.nan\n",
    "# we want to split up the RCC cohorts into its subsets\n",
    "combined_study = fill_na_by_cohort(combined_study, cohort_id_list, method= 'mean_1th')\n",
    "\n",
    "# %%\n",
    "data_corrected = standardize_across_cohorts(combined_study, cohort_id_list, method='zscore')\n",
    "print('data_corrected shape: ', data_corrected.shape)\n",
    "# which columns have been removed?\n",
    "rem_cols = data_corrected.isna().sum() > 0\n",
    "rem_cols = rem_cols[rem_cols].index\n",
    "print('Number of columns removed: ', rem_cols.shape[0])\n",
    "print('Columns removed: ', rem_cols)\n",
    "data_corrected.dropna(axis=1, inplace=True)\n",
    "print('data_corrected shape after dropping NA columns: ', data_corrected.shape)\n",
    "subset_metadata = subset_metadata.loc[data_corrected.columns]\n",
    "# Choose to look at only a subset of the data\n",
    "\n",
    "# subset_metadata = metadata[metadata['Cohort Label'].isin(['adult_cancer','adult_other'])].copy()\n",
    "subset_nan_mask = nan_mask[subset_metadata.index]\n",
    "\n",
    "# successively remove the worst samples and features based on the nan_mask\n",
    "# for thresh in [0.95, 0.9, 0.85, 0.8, 0.75, 0.7, 0.65, 0.6]:\n",
    "for thresh in [0.95, 0.9]:\n",
    "    subset_nan_mask = subset_nan_mask[subset_metadata.index]\n",
    "    good_samples = subset_nan_mask.sum(axis=0) < subset_nan_mask.shape[0]*thresh\n",
    "    subset_nan_mask = subset_nan_mask[good_samples[good_samples].index]\n",
    "    good_features = subset_nan_mask.sum(axis=1) < subset_nan_mask.shape[1]*thresh\n",
    "    subset_nan_mask = subset_nan_mask.loc[good_features[good_features].index]\n",
    "    subset_metadata = subset_metadata.loc[subset_nan_mask.columns]\n",
    "    print(subset_nan_mask.shape)\n",
    "\n",
    "# Assign the new subsets to overwrite the original data\n",
    "if True:\n",
    "    subset_dir = os.path.join(data_dir, 'subset_'+desc_str)\n",
    "    os.mkdir(subset_dir)\n",
    "\n",
    "    data_corrected = data_corrected.loc[subset_nan_mask.index, subset_nan_mask.columns]\n",
    "    nan_mask = nan_mask.loc[subset_nan_mask.index, subset_nan_mask.columns]\n",
    "    metadata = metadata.loc[subset_nan_mask.columns]\n",
    "    print(metadata.shape, data_corrected.shape, nan_mask.shape)\n",
    "\n",
    "\n",
    "    # remove the features with zero variance\n",
    "    # good_features2 = data_corrected.var(axis=1) > 0\n",
    "    # good_features2= good_features2[good_features2].index\n",
    "    # data_corrected = data_corrected.loc[good_features2]\n",
    "    # nan_mask = nan_mask.loc[good_features2]\n",
    "    # print(metadata.shape, data_corrected.shape, nan_mask.shape)\n",
    "\n",
    "    # (data_corrected.T).to_csv(os.path.join(subset_dir, 'X.csv'))\n",
    "    # metadata.to_csv(os.path.join(subset_dir, 'y.csv'))\n",
    "    # (nan_mask.T).to_csv(os.path.join(subset_dir, 'nans.csv'))"
   ]
  },
  {
   "cell_type": "code",
   "execution_count": null,
   "metadata": {},
   "outputs": [],
   "source": [
    "def create_plot(plot_df, hue_col, palette_dict,include_MV=True,sz=None):\n",
    "    if 'UMAP1' in plot_df.columns:\n",
    "        x_col = 'UMAP1'\n",
    "        y_col = 'UMAP2'\n",
    "    else:\n",
    "        x_col = 'PC1'\n",
    "        y_col = 'PC2'\n",
    "\n",
    "    if sz is None:\n",
    "        sz = 10/np.log2(plot_df.shape[0])\n",
    "        print('marker size: ', sz)\n",
    "\n",
    "    fig, ax = plt.subplots(figsize=(6,6))\n",
    "    sns.scatterplot(data=plot_df, x=x_col, y=y_col, hue=hue_col, palette=palette_dict, ax=ax, s=sz)\n",
    "    \n",
    "        # place the legend outside of the plot\n",
    "    plt.legend(bbox_to_anchor=(1.05, 1), loc=2, borderaxespad=0.)\n",
    "    # edit the legend to include the number of samples in each cohort\n",
    "    handles, labels = ax.get_legend_handles_labels()\n",
    "    if include_MV:\n",
    "        labels = [f'{label} (N={plot_df[plot_df[hue_col]==label].shape[0]}, MV%={plot_df[plot_df[hue_col]==label][\"MV\"].mean():.0f})' for label in labels]\n",
    "    else:\n",
    "        labels = [f'{label} (N={plot_df[plot_df[hue_col]==label].shape[0]})' for label in labels]\n",
    "\n",
    "    # make the size of the markers in the handles larger\n",
    "    for handle in handles:\n",
    "        # print(dir(handle))\n",
    "        handle.set_markersize(10)\n",
    "        # handle._sizes = [100]\n",
    "    \n",
    "    plt.legend(handles, labels, bbox_to_anchor=(1.05, 1), loc=2, borderaxespad=0.)\n",
    "\n",
    "    return fig, ax"
   ]
  },
  {
   "cell_type": "code",
   "execution_count": null,
   "metadata": {},
   "outputs": [],
   "source": [
    "import umap\n",
    "from sklearn.decomposition import PCA"
   ]
  },
  {
   "cell_type": "code",
   "execution_count": null,
   "metadata": {},
   "outputs": [],
   "source": [
    "subset_id = 'x'"
   ]
  },
  {
   "cell_type": "code",
   "execution_count": null,
   "metadata": {},
   "outputs": [],
   "source": [
    "pca_file_subset = os.path.join(data_dir, f'pca_df_zscore_subset_{subset_id}.csv')\n",
    "\n",
    "pca = PCA(n_components=2)\n",
    "pca_result = pca.fit_transform(data_corrected.T)\n",
    "pca_df = pd.DataFrame(pca_result, index=data_corrected.columns, columns=['PC1', 'PC2'])\n",
    "pca_df['MV'] = subset_metadata['MV']\n",
    "pca_df['Cohort Label'] = subset_metadata['Cohort Label']\n",
    "pca_df['Study ID'] = subset_metadata['Study ID']\n",
    "pca_df['Cohort ID'] = subset_metadata['cohort_id']\n",
    "\n",
    "# save the pca_df\n",
    "pca_df.to_csv(pca_file_subset)"
   ]
  },
  {
   "cell_type": "code",
   "execution_count": null,
   "metadata": {},
   "outputs": [],
   "source": [
    "create_plot(pca_df, 'Cohort Label', cohort_label_to_color)\n",
    "plt.xlim([-100,100])\n",
    "plt.ylim([-50,50])"
   ]
  },
  {
   "cell_type": "code",
   "execution_count": null,
   "metadata": {},
   "outputs": [],
   "source": [
    "create_plot(pca_df, 'Study ID', study_id_to_uniq_color)\n",
    "plt.xlim([-100,100])\n",
    "plt.ylim([-50,50])"
   ]
  },
  {
   "cell_type": "code",
   "execution_count": null,
   "metadata": {},
   "outputs": [],
   "source": [
    "\n",
    "# %%\n",
    "create_plot(pca_df, 'Cohort Label', cohort_label_to_color)\n",
    "plt.savefig(os.path.join(save_dir, f'pca_cohort_label_subset_{subset_id}.png'), **savefig_params)\n",
    "plt.close()\n",
    "\n",
    "# error occurs here?\n",
    "create_plot(pca_df, 'Study ID', study_id_to_uniq_color)\n",
    "plt.savefig(os.path.join(save_dir, f'pca_study_id_uniq_color_subset_{subset_id}.png'), **savefig_params)\n",
    "plt.close()\n",
    "\n",
    "# %% [markdown]"
   ]
  },
  {
   "cell_type": "code",
   "execution_count": null,
   "metadata": {},
   "outputs": [],
   "source": [
    "# ### UMAP Plot\n",
    "umap_file_subset = os.path.join(data_dir, f'umap_df_zscore_subset_{subset_id}.csv')\n",
    "\n",
    "\n",
    "# %%\n",
    "umap_model = umap.UMAP(n_components=2)\n",
    "umap_result = umap_model.fit_transform(data_corrected.T)"
   ]
  },
  {
   "cell_type": "code",
   "execution_count": null,
   "metadata": {},
   "outputs": [],
   "source": [
    "data_corrected.shape"
   ]
  },
  {
   "cell_type": "code",
   "execution_count": null,
   "metadata": {},
   "outputs": [],
   "source": [
    "umap_df = pd.DataFrame(umap_result, index=data_corrected.columns, columns=['UMAP1', 'UMAP2'])\n",
    "umap_df['MV'] = subset_metadata['MV']\n",
    "umap_df['Cohort Label'] = subset_metadata['Cohort Label']\n",
    "umap_df['Study ID'] = subset_metadata['Study ID']\n",
    "umap_df['Cohort ID'] = subset_metadata['cohort_id']\n",
    "\n",
    "# save the umap_df\n",
    "umap_df.to_csv(umap_file_subset)"
   ]
  },
  {
   "cell_type": "code",
   "execution_count": null,
   "metadata": {},
   "outputs": [],
   "source": [
    "create_plot(umap_df, 'Cohort Label', cohort_label_to_color)"
   ]
  },
  {
   "cell_type": "code",
   "execution_count": null,
   "metadata": {},
   "outputs": [],
   "source": [
    "create_plot(umap_df, 'Study ID', study_id_to_uniq_color)\n",
    "# plt.savefig(os.path.join(save_dir, f'umap_study_id_uniq_color_subset_{min_num_cohort_ids}.png'), **savefig_params)\n",
    "# plt.close()"
   ]
  },
  {
   "cell_type": "code",
   "execution_count": null,
   "metadata": {},
   "outputs": [],
   "source": [
    "create_plot(umap_df, 'Study ID', study_id_to_uniq_color)\n",
    "plt.xlim([2.5,15])\n",
    "plt.ylim([5,10])"
   ]
  },
  {
   "cell_type": "code",
   "execution_count": null,
   "metadata": {},
   "outputs": [],
   "source": [
    "cohort_id_to_uniq_color\n"
   ]
  },
  {
   "cell_type": "code",
   "execution_count": null,
   "metadata": {},
   "outputs": [],
   "source": []
  }
 ],
 "metadata": {
  "kernelspec": {
   "display_name": "mzlearn_3",
   "language": "python",
   "name": "python3"
  },
  "language_info": {
   "codemirror_mode": {
    "name": "ipython",
    "version": 3
   },
   "file_extension": ".py",
   "mimetype": "text/x-python",
   "name": "python",
   "nbconvert_exporter": "python",
   "pygments_lexer": "ipython3",
   "version": "3.9.18"
  }
 },
 "nbformat": 4,
 "nbformat_minor": 2
}
