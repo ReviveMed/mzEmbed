{
 "cells": [
  {
   "cell_type": "code",
   "execution_count": 1,
   "metadata": {},
   "outputs": [],
   "source": [
    "import pandas as pd\n",
    "import os"
   ]
  },
  {
   "cell_type": "code",
   "execution_count": 72,
   "metadata": {},
   "outputs": [],
   "source": [
    "\n",
    "base_dir = '/Users/jonaheaton/Desktop/alignment_analysis/Output_Data'\n",
    "data_dir = os.path.join(base_dir,'ST001849_hilic_pos_vs_ST001428_hilic_pos')\n",
    "comparison_id = 'ST001849_hilic_pos_ST001428_hilic_pos'\n",
    "\n",
    "name0 = 'ST001849_hilic_pos'\n",
    "name1 = 'ST001428_hilic_pos'\n",
    "method1 = 'Eclipse_50_50'\n",
    "method2 = 'metabCombiner_50_50_Jan23'\n",
    "\n",
    "align_res1_path = os.path.join(data_dir,comparison_id + '_' + method1 + '_alignment_result.csv')\n",
    "align_res2_path = os.path.join(data_dir,comparison_id + '_' + method2 + '_alignment_result.csv')\n",
    "\n",
    "align_res1 = pd.read_csv(align_res1_path, index_col=0)\n",
    "align_res2 = pd.read_csv(align_res2_path, index_col=0)"
   ]
  },
  {
   "cell_type": "code",
   "execution_count": 73,
   "metadata": {},
   "outputs": [
    {
     "data": {
      "text/html": [
       "<div>\n",
       "<style scoped>\n",
       "    .dataframe tbody tr th:only-of-type {\n",
       "        vertical-align: middle;\n",
       "    }\n",
       "\n",
       "    .dataframe tbody tr th {\n",
       "        vertical-align: top;\n",
       "    }\n",
       "\n",
       "    .dataframe thead th {\n",
       "        text-align: right;\n",
       "    }\n",
       "</style>\n",
       "<table border=\"1\" class=\"dataframe\">\n",
       "  <thead>\n",
       "    <tr style=\"text-align: right;\">\n",
       "      <th></th>\n",
       "      <th>ST001849_hilic_pos</th>\n",
       "      <th>ST001428_hilic_pos</th>\n",
       "    </tr>\n",
       "  </thead>\n",
       "  <tbody>\n",
       "    <tr>\n",
       "      <th>0</th>\n",
       "      <td>FT2076</td>\n",
       "      <td>FT2109</td>\n",
       "    </tr>\n",
       "    <tr>\n",
       "      <th>1</th>\n",
       "      <td>FT2838</td>\n",
       "      <td>FT3141</td>\n",
       "    </tr>\n",
       "    <tr>\n",
       "      <th>2</th>\n",
       "      <td>FT943</td>\n",
       "      <td>FT792</td>\n",
       "    </tr>\n",
       "    <tr>\n",
       "      <th>3</th>\n",
       "      <td>FT3210</td>\n",
       "      <td>FT3687</td>\n",
       "    </tr>\n",
       "    <tr>\n",
       "      <th>4</th>\n",
       "      <td>FT6071</td>\n",
       "      <td>FT7882</td>\n",
       "    </tr>\n",
       "    <tr>\n",
       "      <th>...</th>\n",
       "      <td>...</td>\n",
       "      <td>...</td>\n",
       "    </tr>\n",
       "    <tr>\n",
       "      <th>872</th>\n",
       "      <td>FT807</td>\n",
       "      <td>FT667</td>\n",
       "    </tr>\n",
       "    <tr>\n",
       "      <th>873</th>\n",
       "      <td>FT6891</td>\n",
       "      <td>FT8849</td>\n",
       "    </tr>\n",
       "    <tr>\n",
       "      <th>874</th>\n",
       "      <td>FT6436</td>\n",
       "      <td>FT8314</td>\n",
       "    </tr>\n",
       "    <tr>\n",
       "      <th>875</th>\n",
       "      <td>FT5047</td>\n",
       "      <td>FT6438</td>\n",
       "    </tr>\n",
       "    <tr>\n",
       "      <th>876</th>\n",
       "      <td>FT6617</td>\n",
       "      <td>FT8583</td>\n",
       "    </tr>\n",
       "  </tbody>\n",
       "</table>\n",
       "<p>877 rows × 2 columns</p>\n",
       "</div>"
      ],
      "text/plain": [
       "    ST001849_hilic_pos ST001428_hilic_pos\n",
       "0               FT2076             FT2109\n",
       "1               FT2838             FT3141\n",
       "2                FT943              FT792\n",
       "3               FT3210             FT3687\n",
       "4               FT6071             FT7882\n",
       "..                 ...                ...\n",
       "872              FT807              FT667\n",
       "873             FT6891             FT8849\n",
       "874             FT6436             FT8314\n",
       "875             FT5047             FT6438\n",
       "876             FT6617             FT8583\n",
       "\n",
       "[877 rows x 2 columns]"
      ]
     },
     "execution_count": 73,
     "metadata": {},
     "output_type": "execute_result"
    }
   ],
   "source": [
    "align_res1"
   ]
  },
  {
   "cell_type": "code",
   "execution_count": 74,
   "metadata": {},
   "outputs": [
    {
     "data": {
      "text/html": [
       "<div>\n",
       "<style scoped>\n",
       "    .dataframe tbody tr th:only-of-type {\n",
       "        vertical-align: middle;\n",
       "    }\n",
       "\n",
       "    .dataframe tbody tr th {\n",
       "        vertical-align: top;\n",
       "    }\n",
       "\n",
       "    .dataframe thead th {\n",
       "        text-align: right;\n",
       "    }\n",
       "</style>\n",
       "<table border=\"1\" class=\"dataframe\">\n",
       "  <thead>\n",
       "    <tr style=\"text-align: right;\">\n",
       "      <th></th>\n",
       "      <th>ST001849_hilic_pos</th>\n",
       "      <th>ST001428_hilic_pos</th>\n",
       "      <th>score</th>\n",
       "    </tr>\n",
       "  </thead>\n",
       "  <tbody>\n",
       "    <tr>\n",
       "      <th>0</th>\n",
       "      <td>FT198</td>\n",
       "      <td>FT25</td>\n",
       "      <td>0.6361</td>\n",
       "    </tr>\n",
       "    <tr>\n",
       "      <th>1</th>\n",
       "      <td>FT237</td>\n",
       "      <td>FT66</td>\n",
       "      <td>0.7139</td>\n",
       "    </tr>\n",
       "    <tr>\n",
       "      <th>2</th>\n",
       "      <td>FT207</td>\n",
       "      <td>FT51</td>\n",
       "      <td>0.6813</td>\n",
       "    </tr>\n",
       "    <tr>\n",
       "      <th>3</th>\n",
       "      <td>FT211</td>\n",
       "      <td>FT43</td>\n",
       "      <td>0.6266</td>\n",
       "    </tr>\n",
       "    <tr>\n",
       "      <th>4</th>\n",
       "      <td>FT277</td>\n",
       "      <td>FT74</td>\n",
       "      <td>0.7465</td>\n",
       "    </tr>\n",
       "    <tr>\n",
       "      <th>...</th>\n",
       "      <td>...</td>\n",
       "      <td>...</td>\n",
       "      <td>...</td>\n",
       "    </tr>\n",
       "    <tr>\n",
       "      <th>414</th>\n",
       "      <td>FT6959</td>\n",
       "      <td>FT8936</td>\n",
       "      <td>0.5721</td>\n",
       "    </tr>\n",
       "    <tr>\n",
       "      <th>415</th>\n",
       "      <td>FT6962</td>\n",
       "      <td>FT8940</td>\n",
       "      <td>0.6474</td>\n",
       "    </tr>\n",
       "    <tr>\n",
       "      <th>416</th>\n",
       "      <td>FT6965</td>\n",
       "      <td>FT8952</td>\n",
       "      <td>0.6006</td>\n",
       "    </tr>\n",
       "    <tr>\n",
       "      <th>417</th>\n",
       "      <td>FT6968</td>\n",
       "      <td>FT8948</td>\n",
       "      <td>0.5430</td>\n",
       "    </tr>\n",
       "    <tr>\n",
       "      <th>418</th>\n",
       "      <td>FT6967</td>\n",
       "      <td>FT8953</td>\n",
       "      <td>0.6050</td>\n",
       "    </tr>\n",
       "  </tbody>\n",
       "</table>\n",
       "<p>419 rows × 3 columns</p>\n",
       "</div>"
      ],
      "text/plain": [
       "    ST001849_hilic_pos ST001428_hilic_pos   score\n",
       "0                FT198               FT25  0.6361\n",
       "1                FT237               FT66  0.7139\n",
       "2                FT207               FT51  0.6813\n",
       "3                FT211               FT43  0.6266\n",
       "4                FT277               FT74  0.7465\n",
       "..                 ...                ...     ...\n",
       "414             FT6959             FT8936  0.5721\n",
       "415             FT6962             FT8940  0.6474\n",
       "416             FT6965             FT8952  0.6006\n",
       "417             FT6968             FT8948  0.5430\n",
       "418             FT6967             FT8953  0.6050\n",
       "\n",
       "[419 rows x 3 columns]"
      ]
     },
     "execution_count": 74,
     "metadata": {},
     "output_type": "execute_result"
    }
   ],
   "source": [
    "align_res2"
   ]
  },
  {
   "cell_type": "code",
   "execution_count": 75,
   "metadata": {},
   "outputs": [],
   "source": [
    "align_res1[name0] = align_res1[name0].apply(lambda x: name0 + '_' + str(x))\n",
    "align_res1[name1] = align_res1[name1].apply(lambda x: name1 + '_' + str(x))\n",
    "align_res2[name0] = align_res2[name0].apply(lambda x: name0 + '_' + str(x))\n",
    "align_res2[name1] = align_res2[name1].apply(lambda x: name1 + '_' + str(x))\n"
   ]
  },
  {
   "cell_type": "code",
   "execution_count": 79,
   "metadata": {},
   "outputs": [],
   "source": [
    "import networkx as nx\n",
    "\n",
    "# Create a new bipartite graph\n",
    "G = nx.Graph()\n",
    "\n",
    "# Add nodes from the first column of align_res1 as one set of nodes\n",
    "G.add_nodes_from(align_res1[name0], bipartite=0)\n",
    "G.add_nodes_from(align_res2[name0], bipartite=0)\n",
    "\n",
    "# Add nodes from the second column of align_res1 as another set of nodes\n",
    "G.add_nodes_from(align_res1[name1], bipartite=1)\n",
    "G.add_nodes_from(align_res2[name1], bipartite=1)\n",
    "\n",
    "# Add edges between the nodes\n",
    "G.add_edges_from(zip(align_res1[name0], align_res1[name1]), weight=1)\n",
    "G.add_edges_from(zip(align_res2[name0], align_res2[name1]), weight=2)\n",
    "\n",
    "\n",
    "# Create a new graph to store the result\n",
    "H = nx.Graph()\n",
    "\n",
    "num_components = nx.number_connected_components(G)\n",
    "# Find maximum cardinality matching for each connected component\n",
    "for component in nx.connected_components(G):\n",
    "    subgraph = G.subgraph(component)\n",
    "    num_size = len(subgraph)\n",
    "    matching = nx.max_weight_matching(subgraph)\n",
    "    # if num_size > 2:\n",
    "        # print(num_size)\n",
    "        # break\n",
    "    H.add_edges_from(tuple(edge) for edge in matching)\n",
    "\n",
    "\n",
    "# create a new dataframe to store the result\n",
    "result = pd.DataFrame(columns=[name0, name1])\n",
    "\n",
    "# add the edges from the matching to the dataframe\n",
    "result[name0] = [edge[0] if edge[0].startswith(name0) else edge[1] for edge in H.edges()]\n",
    "result[name1] = [edge[0] if edge[0].startswith(name1) else edge[1] for edge in H.edges()]\n"
   ]
  },
  {
   "cell_type": "code",
   "execution_count": 82,
   "metadata": {},
   "outputs": [
    {
     "name": "stdout",
     "output_type": "stream",
     "text": [
      "Number of results from align_res1: 831\n",
      "Result matches align_res1: False\n",
      "Number of results from align_res2: 419\n",
      "Result matches align_res2: True\n"
     ]
    }
   ],
   "source": [
    "# Check if the result matches align_res1\n",
    "result_align_res1 = align_res1[align_res1[name0].isin(result[name0]) & align_res1[name1].isin(result[name1])]\n",
    "print(\"Result matches align_res1:\", result_align_res1.equals(align_res1))\n",
    "\n",
    "# Check if the result matches align_res2\n",
    "result_align_res2 = align_res2[align_res2[name0].isin(result[name0]) & align_res2[name1].isin(result[name1])]\n",
    "print(\"Result matches align_res2:\", result_align_res2.equals(align_res2))\n",
    "\n",
    "# the highest ranking method should have the most"
   ]
  },
  {
   "cell_type": "code",
   "execution_count": 90,
   "metadata": {},
   "outputs": [
    {
     "data": {
      "text/html": [
       "<div>\n",
       "<style scoped>\n",
       "    .dataframe tbody tr th:only-of-type {\n",
       "        vertical-align: middle;\n",
       "    }\n",
       "\n",
       "    .dataframe tbody tr th {\n",
       "        vertical-align: top;\n",
       "    }\n",
       "\n",
       "    .dataframe thead th {\n",
       "        text-align: right;\n",
       "    }\n",
       "</style>\n",
       "<table border=\"1\" class=\"dataframe\">\n",
       "  <thead>\n",
       "    <tr style=\"text-align: right;\">\n",
       "      <th></th>\n",
       "      <th>ST001849_hilic_pos</th>\n",
       "      <th>ST001428_hilic_pos</th>\n",
       "      <th>score</th>\n",
       "    </tr>\n",
       "  </thead>\n",
       "  <tbody>\n",
       "    <tr>\n",
       "      <th>0</th>\n",
       "      <td>ST001849_hilic_pos_FT198</td>\n",
       "      <td>ST001428_hilic_pos_FT25</td>\n",
       "      <td>0.6361</td>\n",
       "    </tr>\n",
       "    <tr>\n",
       "      <th>1</th>\n",
       "      <td>ST001849_hilic_pos_FT237</td>\n",
       "      <td>ST001428_hilic_pos_FT66</td>\n",
       "      <td>0.7139</td>\n",
       "    </tr>\n",
       "    <tr>\n",
       "      <th>2</th>\n",
       "      <td>ST001849_hilic_pos_FT207</td>\n",
       "      <td>ST001428_hilic_pos_FT51</td>\n",
       "      <td>0.6813</td>\n",
       "    </tr>\n",
       "    <tr>\n",
       "      <th>3</th>\n",
       "      <td>ST001849_hilic_pos_FT211</td>\n",
       "      <td>ST001428_hilic_pos_FT43</td>\n",
       "      <td>0.6266</td>\n",
       "    </tr>\n",
       "    <tr>\n",
       "      <th>4</th>\n",
       "      <td>ST001849_hilic_pos_FT277</td>\n",
       "      <td>ST001428_hilic_pos_FT74</td>\n",
       "      <td>0.7465</td>\n",
       "    </tr>\n",
       "    <tr>\n",
       "      <th>...</th>\n",
       "      <td>...</td>\n",
       "      <td>...</td>\n",
       "      <td>...</td>\n",
       "    </tr>\n",
       "    <tr>\n",
       "      <th>414</th>\n",
       "      <td>ST001849_hilic_pos_FT6959</td>\n",
       "      <td>ST001428_hilic_pos_FT8936</td>\n",
       "      <td>0.5721</td>\n",
       "    </tr>\n",
       "    <tr>\n",
       "      <th>415</th>\n",
       "      <td>ST001849_hilic_pos_FT6962</td>\n",
       "      <td>ST001428_hilic_pos_FT8940</td>\n",
       "      <td>0.6474</td>\n",
       "    </tr>\n",
       "    <tr>\n",
       "      <th>416</th>\n",
       "      <td>ST001849_hilic_pos_FT6965</td>\n",
       "      <td>ST001428_hilic_pos_FT8952</td>\n",
       "      <td>0.6006</td>\n",
       "    </tr>\n",
       "    <tr>\n",
       "      <th>417</th>\n",
       "      <td>ST001849_hilic_pos_FT6968</td>\n",
       "      <td>ST001428_hilic_pos_FT8948</td>\n",
       "      <td>0.5430</td>\n",
       "    </tr>\n",
       "    <tr>\n",
       "      <th>418</th>\n",
       "      <td>ST001849_hilic_pos_FT6967</td>\n",
       "      <td>ST001428_hilic_pos_FT8953</td>\n",
       "      <td>0.6050</td>\n",
       "    </tr>\n",
       "  </tbody>\n",
       "</table>\n",
       "<p>419 rows × 3 columns</p>\n",
       "</div>"
      ],
      "text/plain": [
       "            ST001849_hilic_pos         ST001428_hilic_pos   score\n",
       "0     ST001849_hilic_pos_FT198    ST001428_hilic_pos_FT25  0.6361\n",
       "1     ST001849_hilic_pos_FT237    ST001428_hilic_pos_FT66  0.7139\n",
       "2     ST001849_hilic_pos_FT207    ST001428_hilic_pos_FT51  0.6813\n",
       "3     ST001849_hilic_pos_FT211    ST001428_hilic_pos_FT43  0.6266\n",
       "4     ST001849_hilic_pos_FT277    ST001428_hilic_pos_FT74  0.7465\n",
       "..                         ...                        ...     ...\n",
       "414  ST001849_hilic_pos_FT6959  ST001428_hilic_pos_FT8936  0.5721\n",
       "415  ST001849_hilic_pos_FT6962  ST001428_hilic_pos_FT8940  0.6474\n",
       "416  ST001849_hilic_pos_FT6965  ST001428_hilic_pos_FT8952  0.6006\n",
       "417  ST001849_hilic_pos_FT6968  ST001428_hilic_pos_FT8948  0.5430\n",
       "418  ST001849_hilic_pos_FT6967  ST001428_hilic_pos_FT8953  0.6050\n",
       "\n",
       "[419 rows x 3 columns]"
      ]
     },
     "execution_count": 90,
     "metadata": {},
     "output_type": "execute_result"
    }
   ],
   "source": [
    "align_res2"
   ]
  },
  {
   "cell_type": "code",
   "execution_count": 89,
   "metadata": {},
   "outputs": [
    {
     "data": {
      "text/html": [
       "<div>\n",
       "<style scoped>\n",
       "    .dataframe tbody tr th:only-of-type {\n",
       "        vertical-align: middle;\n",
       "    }\n",
       "\n",
       "    .dataframe tbody tr th {\n",
       "        vertical-align: top;\n",
       "    }\n",
       "\n",
       "    .dataframe thead th {\n",
       "        text-align: right;\n",
       "    }\n",
       "</style>\n",
       "<table border=\"1\" class=\"dataframe\">\n",
       "  <thead>\n",
       "    <tr style=\"text-align: right;\">\n",
       "      <th></th>\n",
       "      <th>ST001849_hilic_pos</th>\n",
       "      <th>ST001428_hilic_pos</th>\n",
       "      <th>score</th>\n",
       "    </tr>\n",
       "  </thead>\n",
       "  <tbody>\n",
       "    <tr>\n",
       "      <th>0</th>\n",
       "      <td>ST001849_hilic_pos_FT198</td>\n",
       "      <td>ST001428_hilic_pos_FT25</td>\n",
       "      <td>0.6361</td>\n",
       "    </tr>\n",
       "    <tr>\n",
       "      <th>1</th>\n",
       "      <td>ST001849_hilic_pos_FT237</td>\n",
       "      <td>ST001428_hilic_pos_FT66</td>\n",
       "      <td>0.7139</td>\n",
       "    </tr>\n",
       "    <tr>\n",
       "      <th>2</th>\n",
       "      <td>ST001849_hilic_pos_FT207</td>\n",
       "      <td>ST001428_hilic_pos_FT51</td>\n",
       "      <td>0.6813</td>\n",
       "    </tr>\n",
       "    <tr>\n",
       "      <th>3</th>\n",
       "      <td>ST001849_hilic_pos_FT211</td>\n",
       "      <td>ST001428_hilic_pos_FT43</td>\n",
       "      <td>0.6266</td>\n",
       "    </tr>\n",
       "    <tr>\n",
       "      <th>4</th>\n",
       "      <td>ST001849_hilic_pos_FT277</td>\n",
       "      <td>ST001428_hilic_pos_FT74</td>\n",
       "      <td>0.7465</td>\n",
       "    </tr>\n",
       "    <tr>\n",
       "      <th>...</th>\n",
       "      <td>...</td>\n",
       "      <td>...</td>\n",
       "      <td>...</td>\n",
       "    </tr>\n",
       "    <tr>\n",
       "      <th>414</th>\n",
       "      <td>ST001849_hilic_pos_FT6959</td>\n",
       "      <td>ST001428_hilic_pos_FT8936</td>\n",
       "      <td>0.5721</td>\n",
       "    </tr>\n",
       "    <tr>\n",
       "      <th>415</th>\n",
       "      <td>ST001849_hilic_pos_FT6962</td>\n",
       "      <td>ST001428_hilic_pos_FT8940</td>\n",
       "      <td>0.6474</td>\n",
       "    </tr>\n",
       "    <tr>\n",
       "      <th>416</th>\n",
       "      <td>ST001849_hilic_pos_FT6965</td>\n",
       "      <td>ST001428_hilic_pos_FT8952</td>\n",
       "      <td>0.6006</td>\n",
       "    </tr>\n",
       "    <tr>\n",
       "      <th>417</th>\n",
       "      <td>ST001849_hilic_pos_FT6968</td>\n",
       "      <td>ST001428_hilic_pos_FT8948</td>\n",
       "      <td>0.5430</td>\n",
       "    </tr>\n",
       "    <tr>\n",
       "      <th>418</th>\n",
       "      <td>ST001849_hilic_pos_FT6967</td>\n",
       "      <td>ST001428_hilic_pos_FT8953</td>\n",
       "      <td>0.6050</td>\n",
       "    </tr>\n",
       "  </tbody>\n",
       "</table>\n",
       "<p>419 rows × 3 columns</p>\n",
       "</div>"
      ],
      "text/plain": [
       "            ST001849_hilic_pos         ST001428_hilic_pos   score\n",
       "0     ST001849_hilic_pos_FT198    ST001428_hilic_pos_FT25  0.6361\n",
       "1     ST001849_hilic_pos_FT237    ST001428_hilic_pos_FT66  0.7139\n",
       "2     ST001849_hilic_pos_FT207    ST001428_hilic_pos_FT51  0.6813\n",
       "3     ST001849_hilic_pos_FT211    ST001428_hilic_pos_FT43  0.6266\n",
       "4     ST001849_hilic_pos_FT277    ST001428_hilic_pos_FT74  0.7465\n",
       "..                         ...                        ...     ...\n",
       "414  ST001849_hilic_pos_FT6959  ST001428_hilic_pos_FT8936  0.5721\n",
       "415  ST001849_hilic_pos_FT6962  ST001428_hilic_pos_FT8940  0.6474\n",
       "416  ST001849_hilic_pos_FT6965  ST001428_hilic_pos_FT8952  0.6006\n",
       "417  ST001849_hilic_pos_FT6968  ST001428_hilic_pos_FT8948  0.5430\n",
       "418  ST001849_hilic_pos_FT6967  ST001428_hilic_pos_FT8953  0.6050\n",
       "\n",
       "[419 rows x 3 columns]"
      ]
     },
     "execution_count": 89,
     "metadata": {},
     "output_type": "execute_result"
    }
   ],
   "source": [
    "result_align_res2"
   ]
  },
  {
   "cell_type": "code",
   "execution_count": 88,
   "metadata": {},
   "outputs": [
    {
     "data": {
      "text/html": [
       "<div>\n",
       "<style scoped>\n",
       "    .dataframe tbody tr th:only-of-type {\n",
       "        vertical-align: middle;\n",
       "    }\n",
       "\n",
       "    .dataframe tbody tr th {\n",
       "        vertical-align: top;\n",
       "    }\n",
       "\n",
       "    .dataframe thead th {\n",
       "        text-align: right;\n",
       "    }\n",
       "</style>\n",
       "<table border=\"1\" class=\"dataframe\">\n",
       "  <thead>\n",
       "    <tr style=\"text-align: right;\">\n",
       "      <th></th>\n",
       "      <th>ST001849_hilic_pos</th>\n",
       "      <th>ST001428_hilic_pos</th>\n",
       "    </tr>\n",
       "  </thead>\n",
       "  <tbody>\n",
       "    <tr>\n",
       "      <th>0</th>\n",
       "      <td>ST001849_hilic_pos_FT2076</td>\n",
       "      <td>ST001428_hilic_pos_FT2109</td>\n",
       "    </tr>\n",
       "    <tr>\n",
       "      <th>1</th>\n",
       "      <td>ST001849_hilic_pos_FT2838</td>\n",
       "      <td>ST001428_hilic_pos_FT3141</td>\n",
       "    </tr>\n",
       "    <tr>\n",
       "      <th>2</th>\n",
       "      <td>ST001849_hilic_pos_FT943</td>\n",
       "      <td>ST001428_hilic_pos_FT792</td>\n",
       "    </tr>\n",
       "    <tr>\n",
       "      <th>3</th>\n",
       "      <td>ST001849_hilic_pos_FT3210</td>\n",
       "      <td>ST001428_hilic_pos_FT3687</td>\n",
       "    </tr>\n",
       "    <tr>\n",
       "      <th>4</th>\n",
       "      <td>ST001849_hilic_pos_FT6071</td>\n",
       "      <td>ST001428_hilic_pos_FT7882</td>\n",
       "    </tr>\n",
       "    <tr>\n",
       "      <th>...</th>\n",
       "      <td>...</td>\n",
       "      <td>...</td>\n",
       "    </tr>\n",
       "    <tr>\n",
       "      <th>872</th>\n",
       "      <td>ST001849_hilic_pos_FT807</td>\n",
       "      <td>ST001428_hilic_pos_FT667</td>\n",
       "    </tr>\n",
       "    <tr>\n",
       "      <th>873</th>\n",
       "      <td>ST001849_hilic_pos_FT6891</td>\n",
       "      <td>ST001428_hilic_pos_FT8849</td>\n",
       "    </tr>\n",
       "    <tr>\n",
       "      <th>874</th>\n",
       "      <td>ST001849_hilic_pos_FT6436</td>\n",
       "      <td>ST001428_hilic_pos_FT8314</td>\n",
       "    </tr>\n",
       "    <tr>\n",
       "      <th>875</th>\n",
       "      <td>ST001849_hilic_pos_FT5047</td>\n",
       "      <td>ST001428_hilic_pos_FT6438</td>\n",
       "    </tr>\n",
       "    <tr>\n",
       "      <th>876</th>\n",
       "      <td>ST001849_hilic_pos_FT6617</td>\n",
       "      <td>ST001428_hilic_pos_FT8583</td>\n",
       "    </tr>\n",
       "  </tbody>\n",
       "</table>\n",
       "<p>877 rows × 2 columns</p>\n",
       "</div>"
      ],
      "text/plain": [
       "            ST001849_hilic_pos         ST001428_hilic_pos\n",
       "0    ST001849_hilic_pos_FT2076  ST001428_hilic_pos_FT2109\n",
       "1    ST001849_hilic_pos_FT2838  ST001428_hilic_pos_FT3141\n",
       "2     ST001849_hilic_pos_FT943   ST001428_hilic_pos_FT792\n",
       "3    ST001849_hilic_pos_FT3210  ST001428_hilic_pos_FT3687\n",
       "4    ST001849_hilic_pos_FT6071  ST001428_hilic_pos_FT7882\n",
       "..                         ...                        ...\n",
       "872   ST001849_hilic_pos_FT807   ST001428_hilic_pos_FT667\n",
       "873  ST001849_hilic_pos_FT6891  ST001428_hilic_pos_FT8849\n",
       "874  ST001849_hilic_pos_FT6436  ST001428_hilic_pos_FT8314\n",
       "875  ST001849_hilic_pos_FT5047  ST001428_hilic_pos_FT6438\n",
       "876  ST001849_hilic_pos_FT6617  ST001428_hilic_pos_FT8583\n",
       "\n",
       "[877 rows x 2 columns]"
      ]
     },
     "execution_count": 88,
     "metadata": {},
     "output_type": "execute_result"
    }
   ],
   "source": [
    "align_res1"
   ]
  },
  {
   "cell_type": "code",
   "execution_count": 87,
   "metadata": {},
   "outputs": [
    {
     "data": {
      "text/html": [
       "<div>\n",
       "<style scoped>\n",
       "    .dataframe tbody tr th:only-of-type {\n",
       "        vertical-align: middle;\n",
       "    }\n",
       "\n",
       "    .dataframe tbody tr th {\n",
       "        vertical-align: top;\n",
       "    }\n",
       "\n",
       "    .dataframe thead th {\n",
       "        text-align: right;\n",
       "    }\n",
       "</style>\n",
       "<table border=\"1\" class=\"dataframe\">\n",
       "  <thead>\n",
       "    <tr style=\"text-align: right;\">\n",
       "      <th></th>\n",
       "      <th>ST001849_hilic_pos</th>\n",
       "      <th>ST001428_hilic_pos</th>\n",
       "    </tr>\n",
       "  </thead>\n",
       "  <tbody>\n",
       "    <tr>\n",
       "      <th>0</th>\n",
       "      <td>ST001849_hilic_pos_FT2076</td>\n",
       "      <td>ST001428_hilic_pos_FT2109</td>\n",
       "    </tr>\n",
       "    <tr>\n",
       "      <th>1</th>\n",
       "      <td>ST001849_hilic_pos_FT2838</td>\n",
       "      <td>ST001428_hilic_pos_FT3141</td>\n",
       "    </tr>\n",
       "    <tr>\n",
       "      <th>2</th>\n",
       "      <td>ST001849_hilic_pos_FT943</td>\n",
       "      <td>ST001428_hilic_pos_FT792</td>\n",
       "    </tr>\n",
       "    <tr>\n",
       "      <th>3</th>\n",
       "      <td>ST001849_hilic_pos_FT3210</td>\n",
       "      <td>ST001428_hilic_pos_FT3687</td>\n",
       "    </tr>\n",
       "    <tr>\n",
       "      <th>4</th>\n",
       "      <td>ST001849_hilic_pos_FT6071</td>\n",
       "      <td>ST001428_hilic_pos_FT7882</td>\n",
       "    </tr>\n",
       "    <tr>\n",
       "      <th>...</th>\n",
       "      <td>...</td>\n",
       "      <td>...</td>\n",
       "    </tr>\n",
       "    <tr>\n",
       "      <th>872</th>\n",
       "      <td>ST001849_hilic_pos_FT807</td>\n",
       "      <td>ST001428_hilic_pos_FT667</td>\n",
       "    </tr>\n",
       "    <tr>\n",
       "      <th>873</th>\n",
       "      <td>ST001849_hilic_pos_FT6891</td>\n",
       "      <td>ST001428_hilic_pos_FT8849</td>\n",
       "    </tr>\n",
       "    <tr>\n",
       "      <th>874</th>\n",
       "      <td>ST001849_hilic_pos_FT6436</td>\n",
       "      <td>ST001428_hilic_pos_FT8314</td>\n",
       "    </tr>\n",
       "    <tr>\n",
       "      <th>875</th>\n",
       "      <td>ST001849_hilic_pos_FT5047</td>\n",
       "      <td>ST001428_hilic_pos_FT6438</td>\n",
       "    </tr>\n",
       "    <tr>\n",
       "      <th>876</th>\n",
       "      <td>ST001849_hilic_pos_FT6617</td>\n",
       "      <td>ST001428_hilic_pos_FT8583</td>\n",
       "    </tr>\n",
       "  </tbody>\n",
       "</table>\n",
       "<p>831 rows × 2 columns</p>\n",
       "</div>"
      ],
      "text/plain": [
       "            ST001849_hilic_pos         ST001428_hilic_pos\n",
       "0    ST001849_hilic_pos_FT2076  ST001428_hilic_pos_FT2109\n",
       "1    ST001849_hilic_pos_FT2838  ST001428_hilic_pos_FT3141\n",
       "2     ST001849_hilic_pos_FT943   ST001428_hilic_pos_FT792\n",
       "3    ST001849_hilic_pos_FT3210  ST001428_hilic_pos_FT3687\n",
       "4    ST001849_hilic_pos_FT6071  ST001428_hilic_pos_FT7882\n",
       "..                         ...                        ...\n",
       "872   ST001849_hilic_pos_FT807   ST001428_hilic_pos_FT667\n",
       "873  ST001849_hilic_pos_FT6891  ST001428_hilic_pos_FT8849\n",
       "874  ST001849_hilic_pos_FT6436  ST001428_hilic_pos_FT8314\n",
       "875  ST001849_hilic_pos_FT5047  ST001428_hilic_pos_FT6438\n",
       "876  ST001849_hilic_pos_FT6617  ST001428_hilic_pos_FT8583\n",
       "\n",
       "[831 rows x 2 columns]"
      ]
     },
     "execution_count": 87,
     "metadata": {},
     "output_type": "execute_result"
    }
   ],
   "source": [
    "result_align_res1"
   ]
  },
  {
   "cell_type": "code",
   "execution_count": 85,
   "metadata": {},
   "outputs": [
    {
     "data": {
      "text/plain": [
       "0      True\n",
       "1      True\n",
       "2      True\n",
       "3      True\n",
       "4      True\n",
       "       ... \n",
       "872    True\n",
       "873    True\n",
       "874    True\n",
       "875    True\n",
       "876    True\n",
       "Name: ST001428_hilic_pos, Length: 877, dtype: bool"
      ]
     },
     "execution_count": 85,
     "metadata": {},
     "output_type": "execute_result"
    }
   ],
   "source": [
    "align_res1[name1].isin(result[name1])"
   ]
  },
  {
   "cell_type": "code",
   "execution_count": 83,
   "metadata": {},
   "outputs": [
    {
     "data": {
      "text/html": [
       "<div>\n",
       "<style scoped>\n",
       "    .dataframe tbody tr th:only-of-type {\n",
       "        vertical-align: middle;\n",
       "    }\n",
       "\n",
       "    .dataframe tbody tr th {\n",
       "        vertical-align: top;\n",
       "    }\n",
       "\n",
       "    .dataframe thead th {\n",
       "        text-align: right;\n",
       "    }\n",
       "</style>\n",
       "<table border=\"1\" class=\"dataframe\">\n",
       "  <thead>\n",
       "    <tr style=\"text-align: right;\">\n",
       "      <th></th>\n",
       "      <th>ST001849_hilic_pos</th>\n",
       "      <th>ST001428_hilic_pos</th>\n",
       "    </tr>\n",
       "  </thead>\n",
       "  <tbody>\n",
       "    <tr>\n",
       "      <th>0</th>\n",
       "      <td>ST001849_hilic_pos_FT2076</td>\n",
       "      <td>ST001428_hilic_pos_FT2109</td>\n",
       "    </tr>\n",
       "    <tr>\n",
       "      <th>1</th>\n",
       "      <td>ST001849_hilic_pos_FT2838</td>\n",
       "      <td>ST001428_hilic_pos_FT3141</td>\n",
       "    </tr>\n",
       "    <tr>\n",
       "      <th>2</th>\n",
       "      <td>ST001849_hilic_pos_FT943</td>\n",
       "      <td>ST001428_hilic_pos_FT792</td>\n",
       "    </tr>\n",
       "    <tr>\n",
       "      <th>3</th>\n",
       "      <td>ST001849_hilic_pos_FT3210</td>\n",
       "      <td>ST001428_hilic_pos_FT3687</td>\n",
       "    </tr>\n",
       "    <tr>\n",
       "      <th>4</th>\n",
       "      <td>ST001849_hilic_pos_FT6071</td>\n",
       "      <td>ST001428_hilic_pos_FT7882</td>\n",
       "    </tr>\n",
       "    <tr>\n",
       "      <th>...</th>\n",
       "      <td>...</td>\n",
       "      <td>...</td>\n",
       "    </tr>\n",
       "    <tr>\n",
       "      <th>872</th>\n",
       "      <td>ST001849_hilic_pos_FT807</td>\n",
       "      <td>ST001428_hilic_pos_FT667</td>\n",
       "    </tr>\n",
       "    <tr>\n",
       "      <th>873</th>\n",
       "      <td>ST001849_hilic_pos_FT6891</td>\n",
       "      <td>ST001428_hilic_pos_FT8849</td>\n",
       "    </tr>\n",
       "    <tr>\n",
       "      <th>874</th>\n",
       "      <td>ST001849_hilic_pos_FT6436</td>\n",
       "      <td>ST001428_hilic_pos_FT8314</td>\n",
       "    </tr>\n",
       "    <tr>\n",
       "      <th>875</th>\n",
       "      <td>ST001849_hilic_pos_FT5047</td>\n",
       "      <td>ST001428_hilic_pos_FT6438</td>\n",
       "    </tr>\n",
       "    <tr>\n",
       "      <th>876</th>\n",
       "      <td>ST001849_hilic_pos_FT6617</td>\n",
       "      <td>ST001428_hilic_pos_FT8583</td>\n",
       "    </tr>\n",
       "  </tbody>\n",
       "</table>\n",
       "<p>831 rows × 2 columns</p>\n",
       "</div>"
      ],
      "text/plain": [
       "            ST001849_hilic_pos         ST001428_hilic_pos\n",
       "0    ST001849_hilic_pos_FT2076  ST001428_hilic_pos_FT2109\n",
       "1    ST001849_hilic_pos_FT2838  ST001428_hilic_pos_FT3141\n",
       "2     ST001849_hilic_pos_FT943   ST001428_hilic_pos_FT792\n",
       "3    ST001849_hilic_pos_FT3210  ST001428_hilic_pos_FT3687\n",
       "4    ST001849_hilic_pos_FT6071  ST001428_hilic_pos_FT7882\n",
       "..                         ...                        ...\n",
       "872   ST001849_hilic_pos_FT807   ST001428_hilic_pos_FT667\n",
       "873  ST001849_hilic_pos_FT6891  ST001428_hilic_pos_FT8849\n",
       "874  ST001849_hilic_pos_FT6436  ST001428_hilic_pos_FT8314\n",
       "875  ST001849_hilic_pos_FT5047  ST001428_hilic_pos_FT6438\n",
       "876  ST001849_hilic_pos_FT6617  ST001428_hilic_pos_FT8583\n",
       "\n",
       "[831 rows x 2 columns]"
      ]
     },
     "execution_count": 83,
     "metadata": {},
     "output_type": "execute_result"
    }
   ],
   "source": [
    "result_align_res1"
   ]
  },
  {
   "cell_type": "code",
   "execution_count": null,
   "metadata": {},
   "outputs": [],
   "source": [
    "# count the number of final-edges that came from align_res1 and align_res2\n",
    "num_edges_from_align_res1 = len(result_align_res1)\n",
    "num_edges_from_align_res2 = len(result_align_res2)\n",
    "\n",
    "# count the number of final-edges that came from align_res1 and align_res2\n"
   ]
  },
  {
   "cell_type": "code",
   "execution_count": 64,
   "metadata": {},
   "outputs": [
    {
     "data": {
      "text/plain": [
       "EdgeView([('FT2895', 'FT3210'), ('FT3210', 'FT3687')])"
      ]
     },
     "execution_count": 64,
     "metadata": {},
     "output_type": "execute_result"
    }
   ],
   "source": [
    "subgraph.edges()"
   ]
  },
  {
   "cell_type": "code",
   "execution_count": 65,
   "metadata": {},
   "outputs": [
    {
     "data": {
      "text/plain": [
       "{('FT3210', 'FT2895')}"
      ]
     },
     "execution_count": 65,
     "metadata": {},
     "output_type": "execute_result"
    }
   ],
   "source": [
    "matching"
   ]
  },
  {
   "cell_type": "code",
   "execution_count": 66,
   "metadata": {},
   "outputs": [
    {
     "data": {
      "text/html": [
       "<div>\n",
       "<style scoped>\n",
       "    .dataframe tbody tr th:only-of-type {\n",
       "        vertical-align: middle;\n",
       "    }\n",
       "\n",
       "    .dataframe tbody tr th {\n",
       "        vertical-align: top;\n",
       "    }\n",
       "\n",
       "    .dataframe thead th {\n",
       "        text-align: right;\n",
       "    }\n",
       "</style>\n",
       "<table border=\"1\" class=\"dataframe\">\n",
       "  <thead>\n",
       "    <tr style=\"text-align: right;\">\n",
       "      <th></th>\n",
       "      <th>ST001849_hilic_pos</th>\n",
       "      <th>ST001428_hilic_pos</th>\n",
       "    </tr>\n",
       "  </thead>\n",
       "  <tbody>\n",
       "    <tr>\n",
       "      <th>3</th>\n",
       "      <td>FT3210</td>\n",
       "      <td>FT3687</td>\n",
       "    </tr>\n",
       "  </tbody>\n",
       "</table>\n",
       "</div>"
      ],
      "text/plain": [
       "  ST001849_hilic_pos ST001428_hilic_pos\n",
       "3             FT3210             FT3687"
      ]
     },
     "execution_count": 66,
     "metadata": {},
     "output_type": "execute_result"
    }
   ],
   "source": [
    "align_res1[align_res1[name0] == 'FT3210']"
   ]
  },
  {
   "cell_type": "code",
   "execution_count": 68,
   "metadata": {},
   "outputs": [
    {
     "data": {
      "text/html": [
       "<div>\n",
       "<style scoped>\n",
       "    .dataframe tbody tr th:only-of-type {\n",
       "        vertical-align: middle;\n",
       "    }\n",
       "\n",
       "    .dataframe tbody tr th {\n",
       "        vertical-align: top;\n",
       "    }\n",
       "\n",
       "    .dataframe thead th {\n",
       "        text-align: right;\n",
       "    }\n",
       "</style>\n",
       "<table border=\"1\" class=\"dataframe\">\n",
       "  <thead>\n",
       "    <tr style=\"text-align: right;\">\n",
       "      <th></th>\n",
       "      <th>ST001849_hilic_pos</th>\n",
       "      <th>ST001428_hilic_pos</th>\n",
       "      <th>score</th>\n",
       "    </tr>\n",
       "  </thead>\n",
       "  <tbody>\n",
       "    <tr>\n",
       "      <th>171</th>\n",
       "      <td>FT2895</td>\n",
       "      <td>FT3210</td>\n",
       "      <td>0.5667</td>\n",
       "    </tr>\n",
       "  </tbody>\n",
       "</table>\n",
       "</div>"
      ],
      "text/plain": [
       "    ST001849_hilic_pos ST001428_hilic_pos   score\n",
       "171             FT2895             FT3210  0.5667"
      ]
     },
     "execution_count": 68,
     "metadata": {},
     "output_type": "execute_result"
    }
   ],
   "source": [
    "align_res2[align_res2[name0] == 'FT2895']"
   ]
  },
  {
   "cell_type": "code",
   "execution_count": 53,
   "metadata": {},
   "outputs": [
    {
     "data": {
      "text/html": [
       "<div>\n",
       "<style scoped>\n",
       "    .dataframe tbody tr th:only-of-type {\n",
       "        vertical-align: middle;\n",
       "    }\n",
       "\n",
       "    .dataframe tbody tr th {\n",
       "        vertical-align: top;\n",
       "    }\n",
       "\n",
       "    .dataframe thead th {\n",
       "        text-align: right;\n",
       "    }\n",
       "</style>\n",
       "<table border=\"1\" class=\"dataframe\">\n",
       "  <thead>\n",
       "    <tr style=\"text-align: right;\">\n",
       "      <th></th>\n",
       "      <th>ST001849_hilic_pos</th>\n",
       "      <th>ST001428_hilic_pos</th>\n",
       "    </tr>\n",
       "  </thead>\n",
       "  <tbody>\n",
       "    <tr>\n",
       "      <th>11</th>\n",
       "      <td>ST001849_hilic_pos_FT5067</td>\n",
       "      <td>ST001428_hilic_pos_FT6514</td>\n",
       "    </tr>\n",
       "  </tbody>\n",
       "</table>\n",
       "</div>"
      ],
      "text/plain": [
       "           ST001849_hilic_pos         ST001428_hilic_pos\n",
       "11  ST001849_hilic_pos_FT5067  ST001428_hilic_pos_FT6514"
      ]
     },
     "execution_count": 53,
     "metadata": {},
     "output_type": "execute_result"
    }
   ],
   "source": [
    "align_res1[align_res1[name0] == 'ST001849_hilic_pos_FT5067']"
   ]
  },
  {
   "cell_type": "code",
   "execution_count": 56,
   "metadata": {},
   "outputs": [
    {
     "data": {
      "text/html": [
       "<div>\n",
       "<style scoped>\n",
       "    .dataframe tbody tr th:only-of-type {\n",
       "        vertical-align: middle;\n",
       "    }\n",
       "\n",
       "    .dataframe tbody tr th {\n",
       "        vertical-align: top;\n",
       "    }\n",
       "\n",
       "    .dataframe thead th {\n",
       "        text-align: right;\n",
       "    }\n",
       "</style>\n",
       "<table border=\"1\" class=\"dataframe\">\n",
       "  <thead>\n",
       "    <tr style=\"text-align: right;\">\n",
       "      <th></th>\n",
       "      <th>ST001849_hilic_pos</th>\n",
       "      <th>ST001428_hilic_pos</th>\n",
       "      <th>score</th>\n",
       "    </tr>\n",
       "  </thead>\n",
       "  <tbody>\n",
       "    <tr>\n",
       "      <th>275</th>\n",
       "      <td>ST001849_hilic_pos_FT5067</td>\n",
       "      <td>ST001428_hilic_pos_FT6525</td>\n",
       "      <td>0.7625</td>\n",
       "    </tr>\n",
       "  </tbody>\n",
       "</table>\n",
       "</div>"
      ],
      "text/plain": [
       "            ST001849_hilic_pos         ST001428_hilic_pos   score\n",
       "275  ST001849_hilic_pos_FT5067  ST001428_hilic_pos_FT6525  0.7625"
      ]
     },
     "execution_count": 56,
     "metadata": {},
     "output_type": "execute_result"
    }
   ],
   "source": [
    "align_res2[align_res2[name0] == 'ST001849_hilic_pos_FT5067']"
   ]
  },
  {
   "cell_type": "code",
   "execution_count": 52,
   "metadata": {},
   "outputs": [
    {
     "data": {
      "text/plain": [
       "'ST001849_hilic_pos'"
      ]
     },
     "execution_count": 52,
     "metadata": {},
     "output_type": "execute_result"
    }
   ],
   "source": [
    "name0"
   ]
  },
  {
   "cell_type": "code",
   "execution_count": 48,
   "metadata": {},
   "outputs": [
    {
     "data": {
      "text/plain": [
       "(877, 2)"
      ]
     },
     "execution_count": 48,
     "metadata": {},
     "output_type": "execute_result"
    }
   ],
   "source": [
    "align_res1.shape\n"
   ]
  },
  {
   "cell_type": "code",
   "execution_count": 49,
   "metadata": {},
   "outputs": [
    {
     "data": {
      "text/plain": [
       "(419, 3)"
      ]
     },
     "execution_count": 49,
     "metadata": {},
     "output_type": "execute_result"
    }
   ],
   "source": [
    "align_res2.shape"
   ]
  },
  {
   "cell_type": "code",
   "execution_count": 70,
   "metadata": {},
   "outputs": [
    {
     "data": {
      "text/plain": [
       "859"
      ]
     },
     "execution_count": 70,
     "metadata": {},
     "output_type": "execute_result"
    }
   ],
   "source": [
    "len(H.edges()) "
   ]
  },
  {
   "cell_type": "code",
   "execution_count": 42,
   "metadata": {},
   "outputs": [
    {
     "ename": "AttributeError",
     "evalue": "'set' object has no attribute 'items'",
     "output_type": "error",
     "traceback": [
      "\u001b[0;31m---------------------------------------------------------------------------\u001b[0m",
      "\u001b[0;31mAttributeError\u001b[0m                            Traceback (most recent call last)",
      "Cell \u001b[0;32mIn[42], line 13\u001b[0m\n\u001b[1;32m     11\u001b[0m     \u001b[38;5;28mprint\u001b[39m(num_size)\n\u001b[1;32m     12\u001b[0m     \u001b[38;5;28;01mbreak\u001b[39;00m\n\u001b[0;32m---> 13\u001b[0m H\u001b[38;5;241m.\u001b[39madd_edges_from(\u001b[43mmatching\u001b[49m\u001b[38;5;241;43m.\u001b[39;49m\u001b[43mitems\u001b[49m())\n",
      "\u001b[0;31mAttributeError\u001b[0m: 'set' object has no attribute 'items'"
     ]
    }
   ],
   "source": [
    "# Create a new graph to store the result\n",
    "H = nx.Graph()\n",
    "\n",
    "num_components = nx.number_connected_components(G)\n",
    "# Find maximum cardinality matching for each connected component\n",
    "for component in nx.connected_components(G):\n",
    "    subgraph = G.subgraph(component)\n",
    "    num_size = len(subgraph)\n",
    "    matching = nx.max_weight_matching(subgraph)\n",
    "    if num_size > 2:\n",
    "        print(num_size)\n",
    "        break\n",
    "    H.add_edges_from(matching.items())"
   ]
  },
  {
   "cell_type": "code",
   "execution_count": 43,
   "metadata": {},
   "outputs": [
    {
     "data": {
      "text/plain": [
       "{('ST001849_hilic_pos_FT2076', 'ST001428_hilic_pos_FT2109')}"
      ]
     },
     "execution_count": 43,
     "metadata": {},
     "output_type": "execute_result"
    }
   ],
   "source": [
    "matching"
   ]
  },
  {
   "cell_type": "code",
   "execution_count": 21,
   "metadata": {},
   "outputs": [
    {
     "ename": "AmbiguousSolution",
     "evalue": "Disconnected graph: Ambiguous solution for bipartite sets.",
     "output_type": "error",
     "traceback": [
      "\u001b[0;31m---------------------------------------------------------------------------\u001b[0m",
      "\u001b[0;31mAmbiguousSolution\u001b[0m                         Traceback (most recent call last)",
      "Cell \u001b[0;32mIn[21], line 1\u001b[0m\n\u001b[0;32m----> 1\u001b[0m matching \u001b[38;5;241m=\u001b[39m \u001b[43mnx\u001b[49m\u001b[38;5;241;43m.\u001b[39;49m\u001b[43mbipartite\u001b[49m\u001b[38;5;241;43m.\u001b[39;49m\u001b[43mmaximum_matching\u001b[49m\u001b[43m(\u001b[49m\u001b[43mG\u001b[49m\u001b[43m)\u001b[49m\n\u001b[1;32m      2\u001b[0m H \u001b[38;5;241m=\u001b[39m nx\u001b[38;5;241m.\u001b[39mGraph(matching)\n",
      "File \u001b[0;32m~/opt/miniconda3/envs/mzlearn_3/lib/python3.9/site-packages/networkx/utils/backends.py:412\u001b[0m, in \u001b[0;36m_dispatch.__call__\u001b[0;34m(self, backend, *args, **kwargs)\u001b[0m\n\u001b[1;32m    409\u001b[0m \u001b[38;5;28;01mdef\u001b[39;00m \u001b[38;5;21m__call__\u001b[39m(\u001b[38;5;28mself\u001b[39m, \u001b[38;5;241m/\u001b[39m, \u001b[38;5;241m*\u001b[39margs, backend\u001b[38;5;241m=\u001b[39m\u001b[38;5;28;01mNone\u001b[39;00m, \u001b[38;5;241m*\u001b[39m\u001b[38;5;241m*\u001b[39mkwargs):\n\u001b[1;32m    410\u001b[0m     \u001b[38;5;28;01mif\u001b[39;00m \u001b[38;5;129;01mnot\u001b[39;00m backends:\n\u001b[1;32m    411\u001b[0m         \u001b[38;5;66;03m# Fast path if no backends are installed\u001b[39;00m\n\u001b[0;32m--> 412\u001b[0m         \u001b[38;5;28;01mreturn\u001b[39;00m \u001b[38;5;28;43mself\u001b[39;49m\u001b[38;5;241;43m.\u001b[39;49m\u001b[43morig_func\u001b[49m\u001b[43m(\u001b[49m\u001b[38;5;241;43m*\u001b[39;49m\u001b[43margs\u001b[49m\u001b[43m,\u001b[49m\u001b[43m \u001b[49m\u001b[38;5;241;43m*\u001b[39;49m\u001b[38;5;241;43m*\u001b[39;49m\u001b[43mkwargs\u001b[49m\u001b[43m)\u001b[49m\n\u001b[1;32m    414\u001b[0m     \u001b[38;5;66;03m# Use `backend_name` in this function instead of `backend`\u001b[39;00m\n\u001b[1;32m    415\u001b[0m     backend_name \u001b[38;5;241m=\u001b[39m backend\n",
      "File \u001b[0;32m~/opt/miniconda3/envs/mzlearn_3/lib/python3.9/site-packages/networkx/algorithms/bipartite/matching.py:156\u001b[0m, in \u001b[0;36mhopcroft_karp_matching\u001b[0;34m(G, top_nodes)\u001b[0m\n\u001b[1;32m    153\u001b[0m     \u001b[38;5;28;01mreturn\u001b[39;00m \u001b[38;5;28;01mTrue\u001b[39;00m\n\u001b[1;32m    155\u001b[0m \u001b[38;5;66;03m# Initialize the \"global\" variables that maintain state during the search.\u001b[39;00m\n\u001b[0;32m--> 156\u001b[0m left, right \u001b[38;5;241m=\u001b[39m \u001b[43mbipartite_sets\u001b[49m\u001b[43m(\u001b[49m\u001b[43mG\u001b[49m\u001b[43m,\u001b[49m\u001b[43m \u001b[49m\u001b[43mtop_nodes\u001b[49m\u001b[43m)\u001b[49m\n\u001b[1;32m    157\u001b[0m leftmatches \u001b[38;5;241m=\u001b[39m {v: \u001b[38;5;28;01mNone\u001b[39;00m \u001b[38;5;28;01mfor\u001b[39;00m v \u001b[38;5;129;01min\u001b[39;00m left}\n\u001b[1;32m    158\u001b[0m rightmatches \u001b[38;5;241m=\u001b[39m {v: \u001b[38;5;28;01mNone\u001b[39;00m \u001b[38;5;28;01mfor\u001b[39;00m v \u001b[38;5;129;01min\u001b[39;00m right}\n",
      "File \u001b[0;32m~/opt/miniconda3/envs/mzlearn_3/lib/python3.9/site-packages/networkx/utils/backends.py:412\u001b[0m, in \u001b[0;36m_dispatch.__call__\u001b[0;34m(self, backend, *args, **kwargs)\u001b[0m\n\u001b[1;32m    409\u001b[0m \u001b[38;5;28;01mdef\u001b[39;00m \u001b[38;5;21m__call__\u001b[39m(\u001b[38;5;28mself\u001b[39m, \u001b[38;5;241m/\u001b[39m, \u001b[38;5;241m*\u001b[39margs, backend\u001b[38;5;241m=\u001b[39m\u001b[38;5;28;01mNone\u001b[39;00m, \u001b[38;5;241m*\u001b[39m\u001b[38;5;241m*\u001b[39mkwargs):\n\u001b[1;32m    410\u001b[0m     \u001b[38;5;28;01mif\u001b[39;00m \u001b[38;5;129;01mnot\u001b[39;00m backends:\n\u001b[1;32m    411\u001b[0m         \u001b[38;5;66;03m# Fast path if no backends are installed\u001b[39;00m\n\u001b[0;32m--> 412\u001b[0m         \u001b[38;5;28;01mreturn\u001b[39;00m \u001b[38;5;28;43mself\u001b[39;49m\u001b[38;5;241;43m.\u001b[39;49m\u001b[43morig_func\u001b[49m\u001b[43m(\u001b[49m\u001b[38;5;241;43m*\u001b[39;49m\u001b[43margs\u001b[49m\u001b[43m,\u001b[49m\u001b[43m \u001b[49m\u001b[38;5;241;43m*\u001b[39;49m\u001b[38;5;241;43m*\u001b[39;49m\u001b[43mkwargs\u001b[49m\u001b[43m)\u001b[49m\n\u001b[1;32m    414\u001b[0m     \u001b[38;5;66;03m# Use `backend_name` in this function instead of `backend`\u001b[39;00m\n\u001b[1;32m    415\u001b[0m     backend_name \u001b[38;5;241m=\u001b[39m backend\n",
      "File \u001b[0;32m~/opt/miniconda3/envs/mzlearn_3/lib/python3.9/site-packages/networkx/algorithms/bipartite/basic.py:217\u001b[0m, in \u001b[0;36msets\u001b[0;34m(G, top_nodes)\u001b[0m\n\u001b[1;32m    215\u001b[0m \u001b[38;5;28;01mif\u001b[39;00m \u001b[38;5;129;01mnot\u001b[39;00m is_connected(G):\n\u001b[1;32m    216\u001b[0m     msg \u001b[38;5;241m=\u001b[39m \u001b[38;5;124m\"\u001b[39m\u001b[38;5;124mDisconnected graph: Ambiguous solution for bipartite sets.\u001b[39m\u001b[38;5;124m\"\u001b[39m\n\u001b[0;32m--> 217\u001b[0m     \u001b[38;5;28;01mraise\u001b[39;00m nx\u001b[38;5;241m.\u001b[39mAmbiguousSolution(msg)\n\u001b[1;32m    218\u001b[0m c \u001b[38;5;241m=\u001b[39m color(G)\n\u001b[1;32m    219\u001b[0m X \u001b[38;5;241m=\u001b[39m {n \u001b[38;5;28;01mfor\u001b[39;00m n, is_top \u001b[38;5;129;01min\u001b[39;00m c\u001b[38;5;241m.\u001b[39mitems() \u001b[38;5;28;01mif\u001b[39;00m is_top}\n",
      "\u001b[0;31mAmbiguousSolution\u001b[0m: Disconnected graph: Ambiguous solution for bipartite sets."
     ]
    }
   ],
   "source": [
    "matching = nx.bipartite.maximum_matching(G)\n",
    "H = nx.Graph(matching)"
   ]
  },
  {
   "cell_type": "code",
   "execution_count": 20,
   "metadata": {},
   "outputs": [
    {
     "data": {
      "text/plain": [
       "EdgeView([('ST001849_hilic_pos_FT2076', 'ST001428_hilic_pos_FT2109'), ('ST001849_hilic_pos_FT2838', 'ST001428_hilic_pos_FT3141'), ('ST001849_hilic_pos_FT943', 'ST001428_hilic_pos_FT792'), ('ST001849_hilic_pos_FT3210', 'ST001428_hilic_pos_FT3687'), ('ST001849_hilic_pos_FT6071', 'ST001428_hilic_pos_FT7882'), ('ST001849_hilic_pos_FT6967', 'ST001428_hilic_pos_FT8953'), ('ST001849_hilic_pos_FT6614', 'ST001428_hilic_pos_FT8577'), ('ST001849_hilic_pos_FT1988', 'ST001428_hilic_pos_FT1997'), ('ST001849_hilic_pos_FT1166', 'ST001428_hilic_pos_FT1040'), ('ST001849_hilic_pos_FT6793', 'ST001428_hilic_pos_FT8746'), ('ST001849_hilic_pos_FT5612', 'ST001428_hilic_pos_FT7210'), ('ST001849_hilic_pos_FT5067', 'ST001428_hilic_pos_FT6514'), ('ST001849_hilic_pos_FT5067', 'ST001428_hilic_pos_FT6525'), ('ST001849_hilic_pos_FT249', 'ST001428_hilic_pos_FT90'), ('ST001849_hilic_pos_FT5276', 'ST001428_hilic_pos_FT6708'), ('ST001849_hilic_pos_FT6924', 'ST001428_hilic_pos_FT8891'), ('ST001849_hilic_pos_FT6250', 'ST001428_hilic_pos_FT8106'), ('ST001849_hilic_pos_FT6698', 'ST001428_hilic_pos_FT8661'), ('ST001849_hilic_pos_FT5379', 'ST001428_hilic_pos_FT6865'), ('ST001849_hilic_pos_FT5379', 'ST001428_hilic_pos_FT6842'), ('ST001849_hilic_pos_FT6134', 'ST001428_hilic_pos_FT7927'), ('ST001849_hilic_pos_FT1956', 'ST001428_hilic_pos_FT1935'), ('ST001849_hilic_pos_FT1710', 'ST001428_hilic_pos_FT1717'), ('ST001849_hilic_pos_FT2104', 'ST001428_hilic_pos_FT2101'), ('ST001849_hilic_pos_FT6779', 'ST001428_hilic_pos_FT8728'), ('ST001849_hilic_pos_FT5465', 'ST001428_hilic_pos_FT6978'), ('ST001849_hilic_pos_FT6823', 'ST001428_hilic_pos_FT8769'), ('ST001849_hilic_pos_FT1713', 'ST001428_hilic_pos_FT1649'), ('ST001849_hilic_pos_FT2008', 'ST001428_hilic_pos_FT2070'), ('ST001849_hilic_pos_FT3350', 'ST001428_hilic_pos_FT4027'), ('ST001849_hilic_pos_FT3185', 'ST001428_hilic_pos_FT3741'), ('ST001849_hilic_pos_FT6044', 'ST001428_hilic_pos_FT7803'), ('ST001849_hilic_pos_FT6691', 'ST001428_hilic_pos_FT8651'), ('ST001849_hilic_pos_FT3447', 'ST001428_hilic_pos_FT4138'), ('ST001849_hilic_pos_FT6157', 'ST001428_hilic_pos_FT7966'), ('ST001849_hilic_pos_FT5623', 'ST001428_hilic_pos_FT7233'), ('ST001849_hilic_pos_FT208', 'ST001428_hilic_pos_FT66'), ('ST001849_hilic_pos_FT3371', 'ST001428_hilic_pos_FT4084'), ('ST001849_hilic_pos_FT2847', 'ST001428_hilic_pos_FT3077'), ('ST001849_hilic_pos_FT3102', 'ST001428_hilic_pos_FT3479'), ('ST001849_hilic_pos_FT5904', 'ST001428_hilic_pos_FT7617'), ('ST001849_hilic_pos_FT4942', 'ST001428_hilic_pos_FT6375'), ('ST001849_hilic_pos_FT1638', 'ST001428_hilic_pos_FT1609'), ('ST001849_hilic_pos_FT6870', 'ST001428_hilic_pos_FT8815'), ('ST001849_hilic_pos_FT4640', 'ST001428_hilic_pos_FT5963'), ('ST001849_hilic_pos_FT2442', 'ST001428_hilic_pos_FT2528'), ('ST001849_hilic_pos_FT5242', 'ST001428_hilic_pos_FT6685'), ('ST001849_hilic_pos_FT4460', 'ST001428_hilic_pos_FT5750'), ('ST001849_hilic_pos_FT5004', 'ST001428_hilic_pos_FT6413'), ('ST001849_hilic_pos_FT4256', 'ST001428_hilic_pos_FT5533'), ('ST001849_hilic_pos_FT5537', 'ST001428_hilic_pos_FT7113'), ('ST001849_hilic_pos_FT6305', 'ST001428_hilic_pos_FT8142'), ('ST001849_hilic_pos_FT1009', 'ST001428_hilic_pos_FT894'), ('ST001849_hilic_pos_FT4002', 'ST001428_hilic_pos_FT5203'), ('ST001849_hilic_pos_FT5098', 'ST001428_hilic_pos_FT6502'), ('ST001849_hilic_pos_FT5796', 'ST001428_hilic_pos_FT7514'), ('ST001849_hilic_pos_FT4903', 'ST001428_hilic_pos_FT6325'), ('ST001849_hilic_pos_FT1444', 'ST001428_hilic_pos_FT1415'), ('ST001849_hilic_pos_FT3859', 'ST001428_hilic_pos_FT4909'), ('ST001849_hilic_pos_FT2517', 'ST001428_hilic_pos_FT2601'), ('ST001849_hilic_pos_FT2760', 'ST001428_hilic_pos_FT3038'), ('ST001849_hilic_pos_FT5023', 'ST001428_hilic_pos_FT6480'), ('ST001849_hilic_pos_FT1900', 'ST001428_hilic_pos_FT1897'), ('ST001849_hilic_pos_FT4890', 'ST001428_hilic_pos_FT6297'), ('ST001849_hilic_pos_FT4718', 'ST001428_hilic_pos_FT6024'), ('ST001849_hilic_pos_FT478', 'ST001428_hilic_pos_FT285'), ('ST001849_hilic_pos_FT2404', 'ST001428_hilic_pos_FT2558'), ('ST001849_hilic_pos_FT826', 'ST001428_hilic_pos_FT740'), ('ST001849_hilic_pos_FT3035', 'ST001428_hilic_pos_FT3371'), ('ST001849_hilic_pos_FT6279', 'ST001428_hilic_pos_FT8121'), ('ST001849_hilic_pos_FT5137', 'ST001428_hilic_pos_FT6576'), ('ST001849_hilic_pos_FT6125', 'ST001428_hilic_pos_FT7934'), ('ST001849_hilic_pos_FT3392', 'ST001428_hilic_pos_FT4008'), ('ST001849_hilic_pos_FT756', 'ST001428_hilic_pos_FT617'), ('ST001849_hilic_pos_FT1341', 'ST001428_hilic_pos_FT1278'), ('ST001849_hilic_pos_FT4417', 'ST001428_hilic_pos_FT5641'), ('ST001849_hilic_pos_FT6213', 'ST001428_hilic_pos_FT8043'), ('ST001849_hilic_pos_FT4865', 'ST001428_hilic_pos_FT6226'), ('ST001849_hilic_pos_FT4101', 'ST001428_hilic_pos_FT5226'), ('ST001849_hilic_pos_FT2438', 'ST001428_hilic_pos_FT2542'), ('ST001849_hilic_pos_FT3656', 'ST001428_hilic_pos_FT4575'), ('ST001849_hilic_pos_FT5149', 'ST001428_hilic_pos_FT6560'), ('ST001849_hilic_pos_FT6468', 'ST001428_hilic_pos_FT8368'), ('ST001849_hilic_pos_FT221', 'ST001428_hilic_pos_FT61'), ('ST001849_hilic_pos_FT3955', 'ST001428_hilic_pos_FT5065'), ('ST001849_hilic_pos_FT1271', 'ST001428_hilic_pos_FT1160'), ('ST001849_hilic_pos_FT2155', 'ST001428_hilic_pos_FT2194'), ('ST001849_hilic_pos_FT5601', 'ST001428_hilic_pos_FT7197'), ('ST001849_hilic_pos_FT3583', 'ST001428_hilic_pos_FT4418'), ('ST001849_hilic_pos_FT6230', 'ST001428_hilic_pos_FT8033'), ('ST001849_hilic_pos_FT6857', 'ST001428_hilic_pos_FT8812'), ('ST001849_hilic_pos_FT5554', 'ST001428_hilic_pos_FT7140'), ('ST001849_hilic_pos_FT5851', 'ST001428_hilic_pos_FT7530'), ('ST001849_hilic_pos_FT1357', 'ST001428_hilic_pos_FT1317'), ('ST001849_hilic_pos_FT3949', 'ST001428_hilic_pos_FT5115'), ('ST001849_hilic_pos_FT5609', 'ST001428_hilic_pos_FT7194'), ('ST001849_hilic_pos_FT5609', 'ST001428_hilic_pos_FT7218'), ('ST001849_hilic_pos_FT3344', 'ST001428_hilic_pos_FT4080'), ('ST001849_hilic_pos_FT1304', 'ST001428_hilic_pos_FT1262'), ('ST001849_hilic_pos_FT5635', 'ST001428_hilic_pos_FT7249'), ('ST001849_hilic_pos_FT2506', 'ST001428_hilic_pos_FT2592'), ('ST001849_hilic_pos_FT5665', 'ST001428_hilic_pos_FT7298'), ('ST001849_hilic_pos_FT6574', 'ST001428_hilic_pos_FT8534'), ('ST001849_hilic_pos_FT2382', 'ST001428_hilic_pos_FT2457'), ('ST001849_hilic_pos_FT1331', 'ST001428_hilic_pos_FT1275'), ('ST001849_hilic_pos_FT635', 'ST001428_hilic_pos_FT400'), ('ST001849_hilic_pos_FT5960', 'ST001428_hilic_pos_FT7708'), ('ST001849_hilic_pos_FT6037', 'ST001428_hilic_pos_FT7795'), ('ST001849_hilic_pos_FT1934', 'ST001428_hilic_pos_FT1922'), ('ST001849_hilic_pos_FT3432', 'ST001428_hilic_pos_FT4169'), ('ST001849_hilic_pos_FT4338', 'ST001428_hilic_pos_FT5624'), ('ST001849_hilic_pos_FT5288', 'ST001428_hilic_pos_FT6738'), ('ST001849_hilic_pos_FT4484', 'ST001428_hilic_pos_FT5725'), ('ST001849_hilic_pos_FT2720', 'ST001428_hilic_pos_FT2865'), ('ST001849_hilic_pos_FT2481', 'ST001428_hilic_pos_FT2650'), ('ST001849_hilic_pos_FT6503', 'ST001428_hilic_pos_FT8442'), ('ST001849_hilic_pos_FT5358', 'ST001428_hilic_pos_FT6855'), ('ST001849_hilic_pos_FT947', 'ST001428_hilic_pos_FT781'), ('ST001849_hilic_pos_FT4343', 'ST001428_hilic_pos_FT5567'), ('ST001849_hilic_pos_FT5448', 'ST001428_hilic_pos_FT6946'), ('ST001849_hilic_pos_FT1888', 'ST001428_hilic_pos_FT1824'), ('ST001849_hilic_pos_FT1866', 'ST001428_hilic_pos_FT1868'), ('ST001849_hilic_pos_FT2571', 'ST001428_hilic_pos_FT2732'), ('ST001849_hilic_pos_FT1237', 'ST001428_hilic_pos_FT1169'), ('ST001849_hilic_pos_FT3418', 'ST001428_hilic_pos_FT4150'), ('ST001849_hilic_pos_FT3133', 'ST001428_hilic_pos_FT3630'), ('ST001849_hilic_pos_FT5539', 'ST001428_hilic_pos_FT7081'), ('ST001849_hilic_pos_FT5539', 'ST001428_hilic_pos_FT7115'), ('ST001849_hilic_pos_FT5655', 'ST001428_hilic_pos_FT7277'), ('ST001849_hilic_pos_FT2649', 'ST001428_hilic_pos_FT2788'), ('ST001849_hilic_pos_FT6089', 'ST001428_hilic_pos_FT7899'), ('ST001849_hilic_pos_FT1365', 'ST001428_hilic_pos_FT1314'), ('ST001849_hilic_pos_FT2987', 'ST001428_hilic_pos_FT3447'), ('ST001849_hilic_pos_FT5502', 'ST001428_hilic_pos_FT7014'), ('ST001849_hilic_pos_FT6780', 'ST001428_hilic_pos_FT8724'), ('ST001849_hilic_pos_FT6641', 'ST001428_hilic_pos_FT8602'), ('ST001849_hilic_pos_FT5045', 'ST001428_hilic_pos_FT6460'), ('ST001849_hilic_pos_FT1891', 'ST001428_hilic_pos_FT1830'), ('ST001849_hilic_pos_FT5006', 'ST001428_hilic_pos_FT6430'), ('ST001849_hilic_pos_FT3998', 'ST001428_hilic_pos_FT5154'), ('ST001849_hilic_pos_FT5844', 'ST001428_hilic_pos_FT7563'), ('ST001849_hilic_pos_FT2631', 'ST001428_hilic_pos_FT2847'), ('ST001849_hilic_pos_FT5830', 'ST001428_hilic_pos_FT7509'), ('ST001849_hilic_pos_FT4777', 'ST001428_hilic_pos_FT6083'), ('ST001849_hilic_pos_FT4216', 'ST001428_hilic_pos_FT5405'), ('ST001849_hilic_pos_FT2492', 'ST001428_hilic_pos_FT2591'), ('ST001849_hilic_pos_FT2502', 'ST001428_hilic_pos_FT2632'), ('ST001849_hilic_pos_FT6536', 'ST001428_hilic_pos_FT8482'), ('ST001849_hilic_pos_FT5156', 'ST001428_hilic_pos_FT6591'), ('ST001849_hilic_pos_FT2879', 'ST001428_hilic_pos_FT3250'), ('ST001849_hilic_pos_FT6484', 'ST001428_hilic_pos_FT8388'), ('ST001849_hilic_pos_FT5772', 'ST001428_hilic_pos_FT7454'), ('ST001849_hilic_pos_FT2957', 'ST001428_hilic_pos_FT3358'), ('ST001849_hilic_pos_FT5943', 'ST001428_hilic_pos_FT7667'), ('ST001849_hilic_pos_FT1225', 'ST001428_hilic_pos_FT1136'), ('ST001849_hilic_pos_FT941', 'ST001428_hilic_pos_FT798'), ('ST001849_hilic_pos_FT4070', 'ST001428_hilic_pos_FT5246'), ('ST001849_hilic_pos_FT5693', 'ST001428_hilic_pos_FT7347'), ('ST001849_hilic_pos_FT3626', 'ST001428_hilic_pos_FT4539'), ('ST001849_hilic_pos_FT5978', 'ST001428_hilic_pos_FT7737'), ('ST001849_hilic_pos_FT5729', 'ST001428_hilic_pos_FT7426'), ('ST001849_hilic_pos_FT6183', 'ST001428_hilic_pos_FT7984'), ('ST001849_hilic_pos_FT4828', 'ST001428_hilic_pos_FT6220'), ('ST001849_hilic_pos_FT2843', 'ST001428_hilic_pos_FT3095'), ('ST001849_hilic_pos_FT5204', 'ST001428_hilic_pos_FT6627'), ('ST001849_hilic_pos_FT6416', 'ST001428_hilic_pos_FT8281'), ('ST001849_hilic_pos_FT3004', 'ST001428_hilic_pos_FT3442'), ('ST001849_hilic_pos_FT6552', 'ST001428_hilic_pos_FT8513'), ('ST001849_hilic_pos_FT1643', 'ST001428_hilic_pos_FT1617'), ('ST001849_hilic_pos_FT3514', 'ST001428_hilic_pos_FT4294'), ('ST001849_hilic_pos_FT3154', 'ST001428_hilic_pos_FT3594'), ('ST001849_hilic_pos_FT4078', 'ST001428_hilic_pos_FT5283'), ('ST001849_hilic_pos_FT3988', 'ST001428_hilic_pos_FT5178'), ('ST001849_hilic_pos_FT4277', 'ST001428_hilic_pos_FT5540'), ('ST001849_hilic_pos_FT1037', 'ST001428_hilic_pos_FT1004'), ('ST001849_hilic_pos_FT1102', 'ST001428_hilic_pos_FT1048'), ('ST001849_hilic_pos_FT3906', 'ST001428_hilic_pos_FT5024'), ('ST001849_hilic_pos_FT5330', 'ST001428_hilic_pos_FT6819'), ('ST001849_hilic_pos_FT4258', 'ST001428_hilic_pos_FT5535'), ('ST001849_hilic_pos_FT6362', 'ST001428_hilic_pos_FT8218'), ('ST001849_hilic_pos_FT3916', 'ST001428_hilic_pos_FT4931'), ('ST001849_hilic_pos_FT5435', 'ST001428_hilic_pos_FT6956'), ('ST001849_hilic_pos_FT5435', 'ST001428_hilic_pos_FT6948'), ('ST001849_hilic_pos_FT3699', 'ST001428_hilic_pos_FT4712'), ('ST001849_hilic_pos_FT5680', 'ST001428_hilic_pos_FT7333'), ('ST001849_hilic_pos_FT1672', 'ST001428_hilic_pos_FT1691'), ('ST001849_hilic_pos_FT2619', 'ST001428_hilic_pos_FT2811'), ('ST001849_hilic_pos_FT1437', 'ST001428_hilic_pos_FT1394'), ('ST001849_hilic_pos_FT764', 'ST001428_hilic_pos_FT573'), ('ST001849_hilic_pos_FT331', 'ST001428_hilic_pos_FT167'), ('ST001849_hilic_pos_FT4148', 'ST001428_hilic_pos_FT5344'), ('ST001849_hilic_pos_FT6433', 'ST001428_hilic_pos_FT8325'), ('ST001849_hilic_pos_FT5531', 'ST001428_hilic_pos_FT7076'), ('ST001849_hilic_pos_FT6770', 'ST001428_hilic_pos_FT8737'), ('ST001849_hilic_pos_FT6639', 'ST001428_hilic_pos_FT8593'), ('ST001849_hilic_pos_FT6353', 'ST001428_hilic_pos_FT8203'), ('ST001849_hilic_pos_FT4029', 'ST001428_hilic_pos_FT5147'), ('ST001849_hilic_pos_FT4937', 'ST001428_hilic_pos_FT6345'), ('ST001849_hilic_pos_FT4699', 'ST001428_hilic_pos_FT6068'), ('ST001849_hilic_pos_FT3546', 'ST001428_hilic_pos_FT4315'), ('ST001849_hilic_pos_FT2792', 'ST001428_hilic_pos_FT3113'), ('ST001849_hilic_pos_FT5801', 'ST001428_hilic_pos_FT7492'), ('ST001849_hilic_pos_FT2789', 'ST001428_hilic_pos_FT3072'), ('ST001849_hilic_pos_FT5326', 'ST001428_hilic_pos_FT6777'), ('ST001849_hilic_pos_FT5356', 'ST001428_hilic_pos_FT6868'), ('ST001849_hilic_pos_FT4955', 'ST001428_hilic_pos_FT6378'), ('ST001849_hilic_pos_FT1722', 'ST001428_hilic_pos_FT1633'), ('ST001849_hilic_pos_FT5659', 'ST001428_hilic_pos_FT7306'), ('ST001849_hilic_pos_FT5714', 'ST001428_hilic_pos_FT7366'), ('ST001849_hilic_pos_FT5714', 'ST001428_hilic_pos_FT7395'), ('ST001849_hilic_pos_FT3259', 'ST001428_hilic_pos_FT3854'), ('ST001849_hilic_pos_FT1133', 'ST001428_hilic_pos_FT1082'), ('ST001849_hilic_pos_FT5303', 'ST001428_hilic_pos_FT6754'), ('ST001849_hilic_pos_FT603', 'ST001428_hilic_pos_FT436'), ('ST001849_hilic_pos_FT2208', 'ST001428_hilic_pos_FT2285'), ('ST001849_hilic_pos_FT6124', 'ST001428_hilic_pos_FT7931'), ('ST001849_hilic_pos_FT6878', 'ST001428_hilic_pos_FT8825'), ('ST001849_hilic_pos_FT6873', 'ST001428_hilic_pos_FT8822'), ('ST001849_hilic_pos_FT2548', 'ST001428_hilic_pos_FT2685'), ('ST001849_hilic_pos_FT3222', 'ST001428_hilic_pos_FT3692'), ('ST001849_hilic_pos_FT3703', 'ST001428_hilic_pos_FT4656'), ('ST001849_hilic_pos_FT4502', 'ST001428_hilic_pos_FT5799'), ('ST001849_hilic_pos_FT4451', 'ST001428_hilic_pos_FT5734'), ('ST001849_hilic_pos_FT5318', 'ST001428_hilic_pos_FT6756'), ('ST001849_hilic_pos_FT4576', 'ST001428_hilic_pos_FT5870'), ('ST001849_hilic_pos_FT1805', 'ST001428_hilic_pos_FT1740'), ('ST001849_hilic_pos_FT868', 'ST001428_hilic_pos_FT661'), ('ST001849_hilic_pos_FT4388', 'ST001428_hilic_pos_FT5663'), ('ST001849_hilic_pos_FT5935', 'ST001428_hilic_pos_FT7690'), ('ST001849_hilic_pos_FT5599', 'ST001428_hilic_pos_FT7193'), ('ST001849_hilic_pos_FT4815', 'ST001428_hilic_pos_FT6176'), ('ST001849_hilic_pos_FT6462', 'ST001428_hilic_pos_FT8355'), ('ST001849_hilic_pos_FT5983', 'ST001428_hilic_pos_FT7758'), ('ST001849_hilic_pos_FT3950', 'ST001428_hilic_pos_FT5118'), ('ST001849_hilic_pos_FT5877', 'ST001428_hilic_pos_FT7601'), ('ST001849_hilic_pos_FT1399', 'ST001428_hilic_pos_FT1313'), ('ST001849_hilic_pos_FT4995', 'ST001428_hilic_pos_FT6397'), ('ST001849_hilic_pos_FT3466', 'ST001428_hilic_pos_FT4226'), ('ST001849_hilic_pos_FT4345', 'ST001428_hilic_pos_FT5617'), ('ST001849_hilic_pos_FT1431', 'ST001428_hilic_pos_FT1359'), ('ST001849_hilic_pos_FT2878', 'ST001428_hilic_pos_FT3256'), ('ST001849_hilic_pos_FT4773', 'ST001428_hilic_pos_FT6078'), ('ST001849_hilic_pos_FT5518', 'ST001428_hilic_pos_FT7066'), ('ST001849_hilic_pos_FT5721', 'ST001428_hilic_pos_FT7351'), ('ST001849_hilic_pos_FT456', 'ST001428_hilic_pos_FT289'), ('ST001849_hilic_pos_FT3218', 'ST001428_hilic_pos_FT3689'), ('ST001849_hilic_pos_FT3030', 'ST001428_hilic_pos_FT3432'), ('ST001849_hilic_pos_FT5760', 'ST001428_hilic_pos_FT7400'), ('ST001849_hilic_pos_FT5760', 'ST001428_hilic_pos_FT7402'), ('ST001849_hilic_pos_FT182', 'ST001428_hilic_pos_FT43'), ('ST001849_hilic_pos_FT5463', 'ST001428_hilic_pos_FT6953'), ('ST001849_hilic_pos_FT6727', 'ST001428_hilic_pos_FT8684'), ('ST001849_hilic_pos_FT2644', 'ST001428_hilic_pos_FT2809'), ('ST001849_hilic_pos_FT6820', 'ST001428_hilic_pos_FT8765'), ('ST001849_hilic_pos_FT2388', 'ST001428_hilic_pos_FT2428'), ('ST001849_hilic_pos_FT5658', 'ST001428_hilic_pos_FT7343'), ('ST001849_hilic_pos_FT3763', 'ST001428_hilic_pos_FT4795'), ('ST001849_hilic_pos_FT1703', 'ST001428_hilic_pos_FT1632'), ('ST001849_hilic_pos_FT1654', 'ST001428_hilic_pos_FT1559'), ('ST001849_hilic_pos_FT5584', 'ST001428_hilic_pos_FT7211'), ('ST001849_hilic_pos_FT6721', 'ST001428_hilic_pos_FT8675'), ('ST001849_hilic_pos_FT1517', 'ST001428_hilic_pos_FT1513'), ('ST001849_hilic_pos_FT5294', 'ST001428_hilic_pos_FT6739'), ('ST001849_hilic_pos_FT5807', 'ST001428_hilic_pos_FT7523'), ('ST001849_hilic_pos_FT6388', 'ST001428_hilic_pos_FT8253'), ('ST001849_hilic_pos_FT1751', 'ST001428_hilic_pos_FT1798'), ('ST001849_hilic_pos_FT6797', 'ST001428_hilic_pos_FT8750'), ('ST001849_hilic_pos_FT5927', 'ST001428_hilic_pos_FT7679'), ('ST001849_hilic_pos_FT5018', 'ST001428_hilic_pos_FT6442'), ('ST001849_hilic_pos_FT4770', 'ST001428_hilic_pos_FT6107'), ('ST001849_hilic_pos_FT6879', 'ST001428_hilic_pos_FT8836'), ('ST001849_hilic_pos_FT6879', 'ST001428_hilic_pos_FT8835'), ('ST001849_hilic_pos_FT5985', 'ST001428_hilic_pos_FT7750'), ('ST001849_hilic_pos_FT6612', 'ST001428_hilic_pos_FT8575'), ('ST001849_hilic_pos_FT6705', 'ST001428_hilic_pos_FT8647'), ('ST001849_hilic_pos_FT1494', 'ST001428_hilic_pos_FT1407'), ('ST001849_hilic_pos_FT5001', 'ST001428_hilic_pos_FT6391'), ('ST001849_hilic_pos_FT2782', 'ST001428_hilic_pos_FT3034'), ('ST001849_hilic_pos_FT6716', 'ST001428_hilic_pos_FT8672'), ('ST001849_hilic_pos_FT6036', 'ST001428_hilic_pos_FT7818'), ('ST001849_hilic_pos_FT4653', 'ST001428_hilic_pos_FT5967'), ('ST001849_hilic_pos_FT5175', 'ST001428_hilic_pos_FT6581'), ('ST001849_hilic_pos_FT6361', 'ST001428_hilic_pos_FT8210'), ('ST001849_hilic_pos_FT5600', 'ST001428_hilic_pos_FT7199'), ('ST001849_hilic_pos_FT3582', 'ST001428_hilic_pos_FT4414'), ('ST001849_hilic_pos_FT5501', 'ST001428_hilic_pos_FT7011'), ('ST001849_hilic_pos_FT5880', 'ST001428_hilic_pos_FT7575'), ('ST001849_hilic_pos_FT6392', 'ST001428_hilic_pos_FT8259'), ('ST001849_hilic_pos_FT1861', 'ST001428_hilic_pos_FT1899'), ('ST001849_hilic_pos_FT1046', 'ST001428_hilic_pos_FT995'), ('ST001849_hilic_pos_FT1519', 'ST001428_hilic_pos_FT1507'), ('ST001849_hilic_pos_FT1514', 'ST001428_hilic_pos_FT1508'), ('ST001849_hilic_pos_FT6461', 'ST001428_hilic_pos_FT8348'), ('ST001849_hilic_pos_FT1505', 'ST001428_hilic_pos_FT1536'), ('ST001849_hilic_pos_FT5319', 'ST001428_hilic_pos_FT6730'), ('ST001849_hilic_pos_FT2827', 'ST001428_hilic_pos_FT3112'), ('ST001849_hilic_pos_FT6269', 'ST001428_hilic_pos_FT8096'), ('ST001849_hilic_pos_FT5690', 'ST001428_hilic_pos_FT7334'), ('ST001849_hilic_pos_FT6523', 'ST001428_hilic_pos_FT8494'), ('ST001849_hilic_pos_FT6523', 'ST001428_hilic_pos_FT8488'), ('ST001849_hilic_pos_FT5917', 'ST001428_hilic_pos_FT7632'), ('ST001849_hilic_pos_FT4964', 'ST001428_hilic_pos_FT6356'), ('ST001849_hilic_pos_FT2400', 'ST001428_hilic_pos_FT2566'), ('ST001849_hilic_pos_FT976', 'ST001428_hilic_pos_FT900'), ('ST001849_hilic_pos_FT3506', 'ST001428_hilic_pos_FT4309'), ('ST001849_hilic_pos_FT6080', 'ST001428_hilic_pos_FT7870'), ('ST001849_hilic_pos_FT2776', 'ST001428_hilic_pos_FT3024'), ('ST001849_hilic_pos_FT633', 'ST001428_hilic_pos_FT450'), ('ST001849_hilic_pos_FT577', 'ST001428_hilic_pos_FT438'), ('ST001849_hilic_pos_FT4210', 'ST001428_hilic_pos_FT5454'), ('ST001849_hilic_pos_FT5813', 'ST001428_hilic_pos_FT7528'), ('ST001849_hilic_pos_FT1115', 'ST001428_hilic_pos_FT1083'), ('ST001849_hilic_pos_FT5942', 'ST001428_hilic_pos_FT7669'), ('ST001849_hilic_pos_FT4184', 'ST001428_hilic_pos_FT5421'), ('ST001849_hilic_pos_FT4650', 'ST001428_hilic_pos_FT6005'), ('ST001849_hilic_pos_FT5533', 'ST001428_hilic_pos_FT7097'), ('ST001849_hilic_pos_FT5533', 'ST001428_hilic_pos_FT7062'), ('ST001849_hilic_pos_FT3197', 'ST001428_hilic_pos_FT3758'), ('ST001849_hilic_pos_FT573', 'ST001428_hilic_pos_FT457'), ('ST001849_hilic_pos_FT6701', 'ST001428_hilic_pos_FT8650'), ('ST001849_hilic_pos_FT1612', 'ST001428_hilic_pos_FT1577'), ('ST001849_hilic_pos_FT5343', 'ST001428_hilic_pos_FT6783'), ('ST001849_hilic_pos_FT5343', 'ST001428_hilic_pos_FT6817'), ('ST001849_hilic_pos_FT3164', 'ST001428_hilic_pos_FT3671'), ('ST001849_hilic_pos_FT4410', 'ST001428_hilic_pos_FT5647'), ('ST001849_hilic_pos_FT6319', 'ST001428_hilic_pos_FT8166'), ('ST001849_hilic_pos_FT4055', 'ST001428_hilic_pos_FT5310'), ('ST001849_hilic_pos_FT3316', 'ST001428_hilic_pos_FT3973'), ('ST001849_hilic_pos_FT6595', 'ST001428_hilic_pos_FT8547'), ('ST001849_hilic_pos_FT6551', 'ST001428_hilic_pos_FT8517'), ('ST001849_hilic_pos_FT1382', 'ST001428_hilic_pos_FT1356'), ('ST001849_hilic_pos_FT5063', 'ST001428_hilic_pos_FT6532'), ('ST001849_hilic_pos_FT203', 'ST001428_hilic_pos_FT42'), ('ST001849_hilic_pos_FT5938', 'ST001428_hilic_pos_FT7688'), ('ST001849_hilic_pos_FT4156', 'ST001428_hilic_pos_FT5326'), ('ST001849_hilic_pos_FT6189', 'ST001428_hilic_pos_FT7996'), ('ST001849_hilic_pos_FT4644', 'ST001428_hilic_pos_FT5966'), ('ST001849_hilic_pos_FT4257', 'ST001428_hilic_pos_FT5490'), ('ST001849_hilic_pos_FT6884', 'ST001428_hilic_pos_FT8847'), ('ST001849_hilic_pos_FT2363', 'ST001428_hilic_pos_FT2502'), ('ST001849_hilic_pos_FT5652', 'ST001428_hilic_pos_FT7228'), ('ST001849_hilic_pos_FT419', 'ST001428_hilic_pos_FT248'), ('ST001849_hilic_pos_FT3516', 'ST001428_hilic_pos_FT4389'), ('ST001849_hilic_pos_FT4671', 'ST001428_hilic_pos_FT5950'), ('ST001849_hilic_pos_FT2566', 'ST001428_hilic_pos_FT2697'), ('ST001849_hilic_pos_FT3319', 'ST001428_hilic_pos_FT3916'), ('ST001849_hilic_pos_FT6657', 'ST001428_hilic_pos_FT8613'), ('ST001849_hilic_pos_FT1427', 'ST001428_hilic_pos_FT1401'), ('ST001849_hilic_pos_FT198', 'ST001428_hilic_pos_FT25'), ('ST001849_hilic_pos_FT1665', 'ST001428_hilic_pos_FT1656'), ('ST001849_hilic_pos_FT3969', 'ST001428_hilic_pos_FT5061'), ('ST001849_hilic_pos_FT3690', 'ST001428_hilic_pos_FT4649'), ('ST001849_hilic_pos_FT5849', 'ST001428_hilic_pos_FT7571'), ('ST001849_hilic_pos_FT4864', 'ST001428_hilic_pos_FT6231'), ('ST001849_hilic_pos_FT6184', 'ST001428_hilic_pos_FT7963'), ('ST001849_hilic_pos_FT5492', 'ST001428_hilic_pos_FT7032'), ('ST001849_hilic_pos_FT2018', 'ST001428_hilic_pos_FT1998'), ('ST001849_hilic_pos_FT6733', 'ST001428_hilic_pos_FT8686'), ('ST001849_hilic_pos_FT6733', 'ST001428_hilic_pos_FT8695'), ('ST001849_hilic_pos_FT5597', 'ST001428_hilic_pos_FT7183'), ('ST001849_hilic_pos_FT4833', 'ST001428_hilic_pos_FT6225'), ('ST001849_hilic_pos_FT969', 'ST001428_hilic_pos_FT855'), ('ST001849_hilic_pos_FT1525', 'ST001428_hilic_pos_FT1498'), ('ST001849_hilic_pos_FT3189', 'ST001428_hilic_pos_FT3770'), ('ST001849_hilic_pos_FT6064', 'ST001428_hilic_pos_FT7862'), ('ST001849_hilic_pos_FT3619', 'ST001428_hilic_pos_FT4520'), ('ST001849_hilic_pos_FT1834', 'ST001428_hilic_pos_FT1856'), ('ST001849_hilic_pos_FT2844', 'ST001428_hilic_pos_FT3069'), ('ST001849_hilic_pos_FT6413', 'ST001428_hilic_pos_FT8280'), ('ST001849_hilic_pos_FT5259', 'ST001428_hilic_pos_FT6687'), ('ST001849_hilic_pos_FT3920', 'ST001428_hilic_pos_FT4994'), ('ST001849_hilic_pos_FT2797', 'ST001428_hilic_pos_FT3046'), ('ST001849_hilic_pos_FT4758', 'ST001428_hilic_pos_FT6087'), ('ST001849_hilic_pos_FT634', 'ST001428_hilic_pos_FT410'), ('ST001849_hilic_pos_FT6160', 'ST001428_hilic_pos_FT7965'), ('ST001849_hilic_pos_FT1661', 'ST001428_hilic_pos_FT1637'), ('ST001849_hilic_pos_FT908', 'ST001428_hilic_pos_FT782'), ('ST001849_hilic_pos_FT1492', 'ST001428_hilic_pos_FT1436'), ('ST001849_hilic_pos_FT1014', 'ST001428_hilic_pos_FT899'), ('ST001849_hilic_pos_FT6941', 'ST001428_hilic_pos_FT8902'), ('ST001849_hilic_pos_FT3236', 'ST001428_hilic_pos_FT3847'), ('ST001849_hilic_pos_FT6314', 'ST001428_hilic_pos_FT8140'), ('ST001849_hilic_pos_FT6246', 'ST001428_hilic_pos_FT8083'), ('ST001849_hilic_pos_FT5506', 'ST001428_hilic_pos_FT7105'), ('ST001849_hilic_pos_FT4840', 'ST001428_hilic_pos_FT6238'), ('ST001849_hilic_pos_FT2726', 'ST001428_hilic_pos_FT2909'), ('ST001849_hilic_pos_FT6845', 'ST001428_hilic_pos_FT8808'), ('ST001849_hilic_pos_FT6514', 'ST001428_hilic_pos_FT8463'), ('ST001849_hilic_pos_FT4372', 'ST001428_hilic_pos_FT5665'), ('ST001849_hilic_pos_FT2421', 'ST001428_hilic_pos_FT2563'), ('ST001849_hilic_pos_FT5232', 'ST001428_hilic_pos_FT6633'), ('ST001849_hilic_pos_FT5232', 'ST001428_hilic_pos_FT6658'), ('ST001849_hilic_pos_FT1114', 'ST001428_hilic_pos_FT1033'), ('ST001849_hilic_pos_FT4279', 'ST001428_hilic_pos_FT5528'), ('ST001849_hilic_pos_FT5780', 'ST001428_hilic_pos_FT7457'), ('ST001849_hilic_pos_FT6105', 'ST001428_hilic_pos_FT7914'), ('ST001849_hilic_pos_FT1318', 'ST001428_hilic_pos_FT1230'), ('ST001849_hilic_pos_FT5647', 'ST001428_hilic_pos_FT7271'), ('ST001849_hilic_pos_FT4966', 'ST001428_hilic_pos_FT6362'), ('ST001849_hilic_pos_FT5738', 'ST001428_hilic_pos_FT7444'), ('ST001849_hilic_pos_FT3276', 'ST001428_hilic_pos_FT3901'), ('ST001849_hilic_pos_FT2101', 'ST001428_hilic_pos_FT2154'), ('ST001849_hilic_pos_FT5834', 'ST001428_hilic_pos_FT7539'), ('ST001849_hilic_pos_FT5575', 'ST001428_hilic_pos_FT7141'), ('ST001849_hilic_pos_FT5575', 'ST001428_hilic_pos_FT7173'), ('ST001849_hilic_pos_FT5052', 'ST001428_hilic_pos_FT6445'), ('ST001849_hilic_pos_FT1251', 'ST001428_hilic_pos_FT1179'), ('ST001849_hilic_pos_FT6450', 'ST001428_hilic_pos_FT8350'), ('ST001849_hilic_pos_FT3972', 'ST001428_hilic_pos_FT5056'), ('ST001849_hilic_pos_FT2841', 'ST001428_hilic_pos_FT3075'), ('ST001849_hilic_pos_FT5890', 'ST001428_hilic_pos_FT7592'), ('ST001849_hilic_pos_FT5890', 'ST001428_hilic_pos_FT7586'), ('ST001849_hilic_pos_FT3607', 'ST001428_hilic_pos_FT4499'), ('ST001849_hilic_pos_FT6541', 'ST001428_hilic_pos_FT8468'), ('ST001849_hilic_pos_FT6104', 'ST001428_hilic_pos_FT7915'), ('ST001849_hilic_pos_FT3722', 'ST001428_hilic_pos_FT4708'), ('ST001849_hilic_pos_FT5620', 'ST001428_hilic_pos_FT7224'), ('ST001849_hilic_pos_FT1554', 'ST001428_hilic_pos_FT1499'), ('ST001849_hilic_pos_FT5462', 'ST001428_hilic_pos_FT6964'), ('ST001849_hilic_pos_FT1243', 'ST001428_hilic_pos_FT1153'), ('ST001849_hilic_pos_FT3732', 'ST001428_hilic_pos_FT4650'), ('ST001849_hilic_pos_FT2515', 'ST001428_hilic_pos_FT2667'), ('ST001849_hilic_pos_FT2707', 'ST001428_hilic_pos_FT2912'), ('ST001849_hilic_pos_FT6526', 'ST001428_hilic_pos_FT8486'), ('ST001849_hilic_pos_FT1675', 'ST001428_hilic_pos_FT1630'), ('ST001849_hilic_pos_FT6154', 'ST001428_hilic_pos_FT7950'), ('ST001849_hilic_pos_FT5707', 'ST001428_hilic_pos_FT7389'), ('ST001849_hilic_pos_FT1127', 'ST001428_hilic_pos_FT1076'), ('ST001849_hilic_pos_FT2052', 'ST001428_hilic_pos_FT2117'), ('ST001849_hilic_pos_FT3239', 'ST001428_hilic_pos_FT3811'), ('ST001849_hilic_pos_FT5843', 'ST001428_hilic_pos_FT7558'), ('ST001849_hilic_pos_FT3735', 'ST001428_hilic_pos_FT4612'), ('ST001849_hilic_pos_FT2242', 'ST001428_hilic_pos_FT2264'), ('ST001849_hilic_pos_FT4115', 'ST001428_hilic_pos_FT5245'), ('ST001849_hilic_pos_FT3882', 'ST001428_hilic_pos_FT4958'), ('ST001849_hilic_pos_FT6532', 'ST001428_hilic_pos_FT8474'), ('ST001849_hilic_pos_FT2578', 'ST001428_hilic_pos_FT2742'), ('ST001849_hilic_pos_FT6278', 'ST001428_hilic_pos_FT8126'), ('ST001849_hilic_pos_FT2594', 'ST001428_hilic_pos_FT2706'), ('ST001849_hilic_pos_FT1523', 'ST001428_hilic_pos_FT1501'), ('ST001849_hilic_pos_FT6918', 'ST001428_hilic_pos_FT8873'), ('ST001849_hilic_pos_FT6918', 'ST001428_hilic_pos_FT8871'), ('ST001849_hilic_pos_FT5678', 'ST001428_hilic_pos_FT7321'), ('ST001849_hilic_pos_FT4967', 'ST001428_hilic_pos_FT6348'), ('ST001849_hilic_pos_FT3912', 'ST001428_hilic_pos_FT4951'), ('ST001849_hilic_pos_FT6067', 'ST001428_hilic_pos_FT7869'), ('ST001849_hilic_pos_FT3160', 'ST001428_hilic_pos_FT3595'), ('ST001849_hilic_pos_FT5739', 'ST001428_hilic_pos_FT7437'), ('ST001849_hilic_pos_FT3011', 'ST001428_hilic_pos_FT3436'), ('ST001849_hilic_pos_FT1376', 'ST001428_hilic_pos_FT1334'), ('ST001849_hilic_pos_FT3271', 'ST001428_hilic_pos_FT3856'), ('ST001849_hilic_pos_FT6048', 'ST001428_hilic_pos_FT7836'), ('ST001849_hilic_pos_FT6085', 'ST001428_hilic_pos_FT7864'), ('ST001849_hilic_pos_FT5165', 'ST001428_hilic_pos_FT6599'), ('ST001849_hilic_pos_FT3578', 'ST001428_hilic_pos_FT4406'), ('ST001849_hilic_pos_FT3209', 'ST001428_hilic_pos_FT3696'), ('ST001849_hilic_pos_FT4487', 'ST001428_hilic_pos_FT5792'), ('ST001849_hilic_pos_FT3238', 'ST001428_hilic_pos_FT3881'), ('ST001849_hilic_pos_FT1322', 'ST001428_hilic_pos_FT1238'), ('ST001849_hilic_pos_FT6537', 'ST001428_hilic_pos_FT8493'), ('ST001849_hilic_pos_FT3083', 'ST001428_hilic_pos_FT3514'), ('ST001849_hilic_pos_FT5243', 'ST001428_hilic_pos_FT6725'), ('ST001849_hilic_pos_FT857', 'ST001428_hilic_pos_FT703'), ('ST001849_hilic_pos_FT4700', 'ST001428_hilic_pos_FT6043'), ('ST001849_hilic_pos_FT5275', 'ST001428_hilic_pos_FT6696'), ('ST001849_hilic_pos_FT5275', 'ST001428_hilic_pos_FT6694'), ('ST001849_hilic_pos_FT6137', 'ST001428_hilic_pos_FT7953'), ('ST001849_hilic_pos_FT4716', 'ST001428_hilic_pos_FT6052'), ('ST001849_hilic_pos_FT1674', 'ST001428_hilic_pos_FT1666'), ('ST001849_hilic_pos_FT4949', 'ST001428_hilic_pos_FT6334'), ('ST001849_hilic_pos_FT3059', 'ST001428_hilic_pos_FT3495'), ('ST001849_hilic_pos_FT1977', 'ST001428_hilic_pos_FT1945'), ('ST001849_hilic_pos_FT3079', 'ST001428_hilic_pos_FT3477'), ('ST001849_hilic_pos_FT3241', 'ST001428_hilic_pos_FT3896'), ('ST001849_hilic_pos_FT6130', 'ST001428_hilic_pos_FT7939'), ('ST001849_hilic_pos_FT5254', 'ST001428_hilic_pos_FT6683'), ('ST001849_hilic_pos_FT6254', 'ST001428_hilic_pos_FT8089'), ('ST001849_hilic_pos_FT5752', 'ST001428_hilic_pos_FT7409'), ('ST001849_hilic_pos_FT5752', 'ST001428_hilic_pos_FT7425'), ('ST001849_hilic_pos_FT2276', 'ST001428_hilic_pos_FT2398'), ('ST001849_hilic_pos_FT6245', 'ST001428_hilic_pos_FT8074'), ('ST001849_hilic_pos_FT1263', 'ST001428_hilic_pos_FT1125'), ('ST001849_hilic_pos_FT5442', 'ST001428_hilic_pos_FT6971'), ('ST001849_hilic_pos_FT2317', 'ST001428_hilic_pos_FT2388'), ('ST001849_hilic_pos_FT4753', 'ST001428_hilic_pos_FT6085'), ('ST001849_hilic_pos_FT5523', 'ST001428_hilic_pos_FT7069'), ('ST001849_hilic_pos_FT6501', 'ST001428_hilic_pos_FT8457'), ('ST001849_hilic_pos_FT5068', 'ST001428_hilic_pos_FT6517'), ('ST001849_hilic_pos_FT1169', 'ST001428_hilic_pos_FT1051'), ('ST001849_hilic_pos_FT2835', 'ST001428_hilic_pos_FT3106'), ('ST001849_hilic_pos_FT6099', 'ST001428_hilic_pos_FT7913'), ('ST001849_hilic_pos_FT5250', 'ST001428_hilic_pos_FT6702'), ('ST001849_hilic_pos_FT6914', 'ST001428_hilic_pos_FT8884'), ('ST001849_hilic_pos_FT3738', 'ST001428_hilic_pos_FT4647'), ('ST001849_hilic_pos_FT2181', 'ST001428_hilic_pos_FT2229'), ('ST001849_hilic_pos_FT6592', 'ST001428_hilic_pos_FT8546'), ('ST001849_hilic_pos_FT5918', 'ST001428_hilic_pos_FT7622'), ('ST001849_hilic_pos_FT3490', 'ST001428_hilic_pos_FT4285'), ('ST001849_hilic_pos_FT556', 'ST001428_hilic_pos_FT387'), ('ST001849_hilic_pos_FT5421', 'ST001428_hilic_pos_FT6902'), ('ST001849_hilic_pos_FT5661', 'ST001428_hilic_pos_FT7328'), ('ST001849_hilic_pos_FT6947', 'ST001428_hilic_pos_FT8914'), ('ST001849_hilic_pos_FT5525', 'ST001428_hilic_pos_FT7085'), ('ST001849_hilic_pos_FT6856', 'ST001428_hilic_pos_FT8811'), ('ST001849_hilic_pos_FT6970', 'ST001428_hilic_pos_FT8946'), ('ST001849_hilic_pos_FT5614', 'ST001428_hilic_pos_FT7201'), ('ST001849_hilic_pos_FT5302', 'ST001428_hilic_pos_FT6773'), ('ST001849_hilic_pos_FT987', 'ST001428_hilic_pos_FT850'), ('ST001849_hilic_pos_FT6004', 'ST001428_hilic_pos_FT7787'), ('ST001849_hilic_pos_FT5440', 'ST001428_hilic_pos_FT6973'), ('ST001849_hilic_pos_FT4612', 'ST001428_hilic_pos_FT5917'), ('ST001849_hilic_pos_FT6591', 'ST001428_hilic_pos_FT8552'), ('ST001849_hilic_pos_FT2148', 'ST001428_hilic_pos_FT2247'), ('ST001849_hilic_pos_FT1880', 'ST001428_hilic_pos_FT1884'), ('ST001849_hilic_pos_FT1464', 'ST001428_hilic_pos_FT1446'), ('ST001849_hilic_pos_FT6368', 'ST001428_hilic_pos_FT8212'), ('ST001849_hilic_pos_FT3200', 'ST001428_hilic_pos_FT3774'), ('ST001849_hilic_pos_FT2713', 'ST001428_hilic_pos_FT2886'), ('ST001849_hilic_pos_FT6902', 'ST001428_hilic_pos_FT8858'), ('ST001849_hilic_pos_FT1967', 'ST001428_hilic_pos_FT1947'), ('ST001849_hilic_pos_FT239', 'ST001428_hilic_pos_FT52'), ('ST001849_hilic_pos_FT5422', 'ST001428_hilic_pos_FT6934'), ('ST001849_hilic_pos_FT4072', 'ST001428_hilic_pos_FT5248'), ('ST001849_hilic_pos_FT5988', 'ST001428_hilic_pos_FT7744'), ('ST001849_hilic_pos_FT2819', 'ST001428_hilic_pos_FT3111'), ('ST001849_hilic_pos_FT4224', 'ST001428_hilic_pos_FT5434'), ('ST001849_hilic_pos_FT3390', 'ST001428_hilic_pos_FT4045'), ('ST001849_hilic_pos_FT5097', 'ST001428_hilic_pos_FT6513'), ('ST001849_hilic_pos_FT5097', 'ST001428_hilic_pos_FT6503'), ('ST001849_hilic_pos_FT6059', 'ST001428_hilic_pos_FT7849'), ('ST001849_hilic_pos_FT1946', 'ST001428_hilic_pos_FT1911'), ('ST001849_hilic_pos_FT1946', 'ST001428_hilic_pos_FT1965'), ('ST001849_hilic_pos_FT2310', 'ST001428_hilic_pos_FT2396'), ('ST001849_hilic_pos_FT4416', 'ST001428_hilic_pos_FT5661'), ('ST001849_hilic_pos_FT6835', 'ST001428_hilic_pos_FT8785'), ('ST001849_hilic_pos_FT5524', 'ST001428_hilic_pos_FT7096'), ('ST001849_hilic_pos_FT4052', 'ST001428_hilic_pos_FT5252'), ('ST001849_hilic_pos_FT5706', 'ST001428_hilic_pos_FT7346'), ('ST001849_hilic_pos_FT5706', 'ST001428_hilic_pos_FT7358'), ('ST001849_hilic_pos_FT4775', 'ST001428_hilic_pos_FT6111'), ('ST001849_hilic_pos_FT3590', 'ST001428_hilic_pos_FT4441'), ('ST001849_hilic_pos_FT4068', 'ST001428_hilic_pos_FT5300'), ('ST001849_hilic_pos_FT3744', 'ST001428_hilic_pos_FT4685'), ('ST001849_hilic_pos_FT1993', 'ST001428_hilic_pos_FT2001'), ('ST001849_hilic_pos_FT2305', 'ST001428_hilic_pos_FT2350'), ('ST001849_hilic_pos_FT4189', 'ST001428_hilic_pos_FT5418'), ('ST001849_hilic_pos_FT2802', 'ST001428_hilic_pos_FT3061'), ('ST001849_hilic_pos_FT349', 'ST001428_hilic_pos_FT197'), ('ST001849_hilic_pos_FT4801', 'ST001428_hilic_pos_FT6161'), ('ST001849_hilic_pos_FT3893', 'ST001428_hilic_pos_FT5007'), ('ST001849_hilic_pos_FT6335', 'ST001428_hilic_pos_FT8177'), ('ST001849_hilic_pos_FT4246', 'ST001428_hilic_pos_FT5538'), ('ST001849_hilic_pos_FT6273', 'ST001428_hilic_pos_FT8125'), ('ST001849_hilic_pos_FT3556', 'ST001428_hilic_pos_FT4307'), ('ST001849_hilic_pos_FT2105', 'ST001428_hilic_pos_FT2113'), ('ST001849_hilic_pos_FT5563', 'ST001428_hilic_pos_FT7156'), ('ST001849_hilic_pos_FT6380', 'ST001428_hilic_pos_FT8254'), ('ST001849_hilic_pos_FT6821', 'ST001428_hilic_pos_FT8762'), ('ST001849_hilic_pos_FT5972', 'ST001428_hilic_pos_FT7731'), ('ST001849_hilic_pos_FT6768', 'ST001428_hilic_pos_FT8730'), ('ST001849_hilic_pos_FT4542', 'ST001428_hilic_pos_FT5808'), ('ST001849_hilic_pos_FT1659', 'ST001428_hilic_pos_FT1585'), ('ST001849_hilic_pos_FT6965', 'ST001428_hilic_pos_FT8952'), ('ST001849_hilic_pos_FT5558', 'ST001428_hilic_pos_FT7166'), ('ST001849_hilic_pos_FT5558', 'ST001428_hilic_pos_FT7175'), ('ST001849_hilic_pos_FT2895', 'ST001428_hilic_pos_FT3210'), ('ST001849_hilic_pos_FT3092', 'ST001428_hilic_pos_FT3586'), ('ST001849_hilic_pos_FT4252', 'ST001428_hilic_pos_FT5491'), ('ST001849_hilic_pos_FT3410', 'ST001428_hilic_pos_FT4132'), ('ST001849_hilic_pos_FT5579', 'ST001428_hilic_pos_FT7151'), ('ST001849_hilic_pos_FT5579', 'ST001428_hilic_pos_FT7174'), ('ST001849_hilic_pos_FT5378', 'ST001428_hilic_pos_FT6845'), ('ST001849_hilic_pos_FT4450', 'ST001428_hilic_pos_FT5726'), ('ST001849_hilic_pos_FT3360', 'ST001428_hilic_pos_FT4031'), ('ST001849_hilic_pos_FT1432', 'ST001428_hilic_pos_FT1374'), ('ST001849_hilic_pos_FT1545', 'ST001428_hilic_pos_FT1463'), ('ST001849_hilic_pos_FT4324', 'ST001428_hilic_pos_FT5607'), ('ST001849_hilic_pos_FT5898', 'ST001428_hilic_pos_FT7634'), ('ST001849_hilic_pos_FT5809', 'ST001428_hilic_pos_FT7503'), ('ST001849_hilic_pos_FT4533', 'ST001428_hilic_pos_FT5829'), ('ST001849_hilic_pos_FT6653', 'ST001428_hilic_pos_FT8618'), ('ST001849_hilic_pos_FT6653', 'ST001428_hilic_pos_FT8610'), ('ST001849_hilic_pos_FT4342', 'ST001428_hilic_pos_FT5579'), ('ST001849_hilic_pos_FT3779', 'ST001428_hilic_pos_FT4728'), ('ST001849_hilic_pos_FT4997', 'ST001428_hilic_pos_FT6396'), ('ST001849_hilic_pos_FT6931', 'ST001428_hilic_pos_FT8894'), ('ST001849_hilic_pos_FT2922', 'ST001428_hilic_pos_FT3192'), ('ST001849_hilic_pos_FT1715', 'ST001428_hilic_pos_FT1636'), ('ST001849_hilic_pos_FT1688', 'ST001428_hilic_pos_FT1713'), ('ST001849_hilic_pos_FT896', 'ST001428_hilic_pos_FT772'), ('ST001849_hilic_pos_FT4824', 'ST001428_hilic_pos_FT6156'), ('ST001849_hilic_pos_FT4228', 'ST001428_hilic_pos_FT5426'), ('ST001849_hilic_pos_FT810', 'ST001428_hilic_pos_FT665'), ('ST001849_hilic_pos_FT5252', 'ST001428_hilic_pos_FT6704'), ('ST001849_hilic_pos_FT4058', 'ST001428_hilic_pos_FT5289'), ('ST001849_hilic_pos_FT3165', 'ST001428_hilic_pos_FT3675'), ('ST001849_hilic_pos_FT5113', 'ST001428_hilic_pos_FT6568'), ('ST001849_hilic_pos_FT6117', 'ST001428_hilic_pos_FT7932'), ('ST001849_hilic_pos_FT5183', 'ST001428_hilic_pos_FT6602'), ('ST001849_hilic_pos_FT3033', 'ST001428_hilic_pos_FT3397'), ('ST001849_hilic_pos_FT5899', 'ST001428_hilic_pos_FT7638'), ('ST001849_hilic_pos_FT4825', 'ST001428_hilic_pos_FT6142'), ('ST001849_hilic_pos_FT5350', 'ST001428_hilic_pos_FT6776'), ('ST001849_hilic_pos_FT3541', 'ST001428_hilic_pos_FT4356'), ('ST001849_hilic_pos_FT3395', 'ST001428_hilic_pos_FT4063'), ('ST001849_hilic_pos_FT714', 'ST001428_hilic_pos_FT471'), ('ST001849_hilic_pos_FT2296', 'ST001428_hilic_pos_FT2395'), ('ST001849_hilic_pos_FT1656', 'ST001428_hilic_pos_FT1553'), ('ST001849_hilic_pos_FT6968', 'ST001428_hilic_pos_FT8948'), ('ST001849_hilic_pos_FT3213', 'ST001428_hilic_pos_FT3746'), ('ST001849_hilic_pos_FT4856', 'ST001428_hilic_pos_FT6251'), ('ST001849_hilic_pos_FT6340', 'ST001428_hilic_pos_FT8173'), ('ST001849_hilic_pos_FT427', 'ST001428_hilic_pos_FT258'), ('ST001849_hilic_pos_FT1994', 'ST001428_hilic_pos_FT2057'), ('ST001849_hilic_pos_FT1104', 'ST001428_hilic_pos_FT1052'), ('ST001849_hilic_pos_FT1840', 'ST001428_hilic_pos_FT1816'), ('ST001849_hilic_pos_FT4763', 'ST001428_hilic_pos_FT6097'), ('ST001849_hilic_pos_FT6732', 'ST001428_hilic_pos_FT8696'), ('ST001849_hilic_pos_FT6203', 'ST001428_hilic_pos_FT7986'), ('ST001849_hilic_pos_FT5299', 'ST001428_hilic_pos_FT6767'), ('ST001849_hilic_pos_FT4039', 'ST001428_hilic_pos_FT5213'), ('ST001849_hilic_pos_FT6958', 'ST001428_hilic_pos_FT8937'), ('ST001849_hilic_pos_FT3971', 'ST001428_hilic_pos_FT5106'), ('ST001849_hilic_pos_FT586', 'ST001428_hilic_pos_FT417'), ('ST001849_hilic_pos_FT1164', 'ST001428_hilic_pos_FT1016'), ('ST001849_hilic_pos_FT6264', 'ST001428_hilic_pos_FT8097'), ('ST001849_hilic_pos_FT3428', 'ST001428_hilic_pos_FT4179'), ('ST001849_hilic_pos_FT5247', 'ST001428_hilic_pos_FT6682'), ('ST001849_hilic_pos_FT4755', 'ST001428_hilic_pos_FT6091'), ('ST001849_hilic_pos_FT4647', 'ST001428_hilic_pos_FT5994'), ('ST001849_hilic_pos_FT4081', 'ST001428_hilic_pos_FT5237'), ('ST001849_hilic_pos_FT6962', 'ST001428_hilic_pos_FT8940'), ('ST001849_hilic_pos_FT2423', 'ST001428_hilic_pos_FT2557'), ('ST001849_hilic_pos_FT6109', 'ST001428_hilic_pos_FT7892'), ('ST001849_hilic_pos_FT983', 'ST001428_hilic_pos_FT898'), ('ST001849_hilic_pos_FT5676', 'ST001428_hilic_pos_FT7315'), ('ST001849_hilic_pos_FT6715', 'ST001428_hilic_pos_FT8680'), ('ST001849_hilic_pos_FT3591', 'ST001428_hilic_pos_FT4486'), ('ST001849_hilic_pos_FT3902', 'ST001428_hilic_pos_FT5032'), ('ST001849_hilic_pos_FT6655', 'ST001428_hilic_pos_FT8611'), ('ST001849_hilic_pos_FT6655', 'ST001428_hilic_pos_FT8608'), ('ST001849_hilic_pos_FT739', 'ST001428_hilic_pos_FT611'), ('ST001849_hilic_pos_FT2021', 'ST001428_hilic_pos_FT2033'), ('ST001849_hilic_pos_FT4827', 'ST001428_hilic_pos_FT6141'), ('ST001849_hilic_pos_FT5206', 'ST001428_hilic_pos_FT6638'), ('ST001849_hilic_pos_FT324', 'ST001428_hilic_pos_FT136'), ('ST001849_hilic_pos_FT5229', 'ST001428_hilic_pos_FT6631'), ('ST001849_hilic_pos_FT5919', 'ST001428_hilic_pos_FT7647'), ('ST001849_hilic_pos_FT6934', 'ST001428_hilic_pos_FT8889'), ('ST001849_hilic_pos_FT6935', 'ST001428_hilic_pos_FT8890'), ('ST001849_hilic_pos_FT2607', 'ST001428_hilic_pos_FT2773'), ('ST001849_hilic_pos_FT711', 'ST001428_hilic_pos_FT525'), ('ST001849_hilic_pos_FT3023', 'ST001428_hilic_pos_FT3382'), ('ST001849_hilic_pos_FT5791', 'ST001428_hilic_pos_FT7465'), ('ST001849_hilic_pos_FT5975', 'ST001428_hilic_pos_FT7753'), ('ST001849_hilic_pos_FT1028', 'ST001428_hilic_pos_FT920'), ('ST001849_hilic_pos_FT6928', 'ST001428_hilic_pos_FT8900'), ('ST001849_hilic_pos_FT3442', 'ST001428_hilic_pos_FT4158'), ('ST001849_hilic_pos_FT2290', 'ST001428_hilic_pos_FT2404'), ('ST001849_hilic_pos_FT5090', 'ST001428_hilic_pos_FT6521'), ('ST001849_hilic_pos_FT6239', 'ST001428_hilic_pos_FT8047'), ('ST001849_hilic_pos_FT5428', 'ST001428_hilic_pos_FT6895'), ('ST001849_hilic_pos_FT5428', 'ST001428_hilic_pos_FT6906'), ('ST001849_hilic_pos_FT3032', 'ST001428_hilic_pos_FT3425'), ('ST001849_hilic_pos_FT5420', 'ST001428_hilic_pos_FT6914'), ('ST001849_hilic_pos_FT5569', 'ST001428_hilic_pos_FT7124'), ('ST001849_hilic_pos_FT5569', 'ST001428_hilic_pos_FT7168'), ('ST001849_hilic_pos_FT4563', 'ST001428_hilic_pos_FT5891'), ('ST001849_hilic_pos_FT5585', 'ST001428_hilic_pos_FT7180'), ('ST001849_hilic_pos_FT3713', 'ST001428_hilic_pos_FT4613'), ('ST001849_hilic_pos_FT5401', 'ST001428_hilic_pos_FT6889'), ('ST001849_hilic_pos_FT5500', 'ST001428_hilic_pos_FT7009'), ('ST001849_hilic_pos_FT5500', 'ST001428_hilic_pos_FT7057'), ('ST001849_hilic_pos_FT5270', 'ST001428_hilic_pos_FT6701'), ('ST001849_hilic_pos_FT5730', 'ST001428_hilic_pos_FT7411'), ('ST001849_hilic_pos_FT6880', 'ST001428_hilic_pos_FT8837'), ('ST001849_hilic_pos_FT5673', 'ST001428_hilic_pos_FT7304'), ('ST001849_hilic_pos_FT1882', 'ST001428_hilic_pos_FT1827'), ('ST001849_hilic_pos_FT2978', 'ST001428_hilic_pos_FT3438'), ('ST001849_hilic_pos_FT1085', 'ST001428_hilic_pos_FT938'), ('ST001849_hilic_pos_FT2881', 'ST001428_hilic_pos_FT3153'), ('ST001849_hilic_pos_FT3692', 'ST001428_hilic_pos_FT4641'), ('ST001849_hilic_pos_FT5646', 'ST001428_hilic_pos_FT7266'), ('ST001849_hilic_pos_FT5891', 'ST001428_hilic_pos_FT7599'), ('ST001849_hilic_pos_FT2504', 'ST001428_hilic_pos_FT2626'), ('ST001849_hilic_pos_FT5167', 'ST001428_hilic_pos_FT6586'), ('ST001849_hilic_pos_FT6299', 'ST001428_hilic_pos_FT8146'), ('ST001849_hilic_pos_FT6737', 'ST001428_hilic_pos_FT8692'), ('ST001849_hilic_pos_FT2954', 'ST001428_hilic_pos_FT3271'), ('ST001849_hilic_pos_FT4485', 'ST001428_hilic_pos_FT5728'), ('ST001849_hilic_pos_FT5571', 'ST001428_hilic_pos_FT7125'), ('ST001849_hilic_pos_FT5571', 'ST001428_hilic_pos_FT7146'), ('ST001849_hilic_pos_FT5823', 'ST001428_hilic_pos_FT7487'), ('ST001849_hilic_pos_FT794', 'ST001428_hilic_pos_FT669'), ('ST001849_hilic_pos_FT6748', 'ST001428_hilic_pos_FT8711'), ('ST001849_hilic_pos_FT6550', 'ST001428_hilic_pos_FT8505'), ('ST001849_hilic_pos_FT1337', 'ST001428_hilic_pos_FT1202'), ('ST001849_hilic_pos_FT696', 'ST001428_hilic_pos_FT494'), ('ST001849_hilic_pos_FT2949', 'ST001428_hilic_pos_FT3326'), ('ST001849_hilic_pos_FT600', 'ST001428_hilic_pos_FT452'), ('ST001849_hilic_pos_FT3206', 'ST001428_hilic_pos_FT3773'), ('ST001849_hilic_pos_FT2968', 'ST001428_hilic_pos_FT3306'), ('ST001849_hilic_pos_FT3378', 'ST001428_hilic_pos_FT4107'), ('ST001849_hilic_pos_FT4670', 'ST001428_hilic_pos_FT5987'), ('ST001849_hilic_pos_FT5948', 'ST001428_hilic_pos_FT7680'), ('ST001849_hilic_pos_FT5670', 'ST001428_hilic_pos_FT7339'), ('ST001849_hilic_pos_FT5925', 'ST001428_hilic_pos_FT7661'), ('ST001849_hilic_pos_FT1221', 'ST001428_hilic_pos_FT1124'), ('ST001849_hilic_pos_FT6872', 'ST001428_hilic_pos_FT8816'), ('ST001849_hilic_pos_FT4931', 'ST001428_hilic_pos_FT6357'), ('ST001849_hilic_pos_FT4364', 'ST001428_hilic_pos_FT5644'), ('ST001849_hilic_pos_FT2446', 'ST001428_hilic_pos_FT2514'), ('ST001849_hilic_pos_FT2508', 'ST001428_hilic_pos_FT2585'), ('ST001849_hilic_pos_FT2391', 'ST001428_hilic_pos_FT2453'), ('ST001849_hilic_pos_FT3624', 'ST001428_hilic_pos_FT4519'), ('ST001849_hilic_pos_FT5051', 'ST001428_hilic_pos_FT6439'), ('ST001849_hilic_pos_FT4100', 'ST001428_hilic_pos_FT5229'), ('ST001849_hilic_pos_FT3666', 'ST001428_hilic_pos_FT4574'), ('ST001849_hilic_pos_FT3561', 'ST001428_hilic_pos_FT4375'), ('ST001849_hilic_pos_FT6414', 'ST001428_hilic_pos_FT8284'), ('ST001849_hilic_pos_FT1041', 'ST001428_hilic_pos_FT912'), ('ST001849_hilic_pos_FT4797', 'ST001428_hilic_pos_FT6204'), ('ST001849_hilic_pos_FT6871', 'ST001428_hilic_pos_FT8820'), ('ST001849_hilic_pos_FT3727', 'ST001428_hilic_pos_FT4682'), ('ST001849_hilic_pos_FT6889', 'ST001428_hilic_pos_FT8839'), ('ST001849_hilic_pos_FT3021', 'ST001428_hilic_pos_FT3376'), ('ST001849_hilic_pos_FT2209', 'ST001428_hilic_pos_FT2309'), ('ST001849_hilic_pos_FT1658', 'ST001428_hilic_pos_FT1580'), ('ST001849_hilic_pos_FT3524', 'ST001428_hilic_pos_FT4354'), ('ST001849_hilic_pos_FT3892', 'ST001428_hilic_pos_FT4940'), ('ST001849_hilic_pos_FT2743', 'ST001428_hilic_pos_FT2951'), ('ST001849_hilic_pos_FT6876', 'ST001428_hilic_pos_FT8823'), ('ST001849_hilic_pos_FT1968', 'ST001428_hilic_pos_FT1966'), ('ST001849_hilic_pos_FT5426', 'ST001428_hilic_pos_FT6938'), ('ST001849_hilic_pos_FT6485', 'ST001428_hilic_pos_FT8393'), ('ST001849_hilic_pos_FT6769', 'ST001428_hilic_pos_FT8723'), ('ST001849_hilic_pos_FT2173', 'ST001428_hilic_pos_FT2221'), ('ST001849_hilic_pos_FT2555', 'ST001428_hilic_pos_FT2705'), ('ST001849_hilic_pos_FT6218', 'ST001428_hilic_pos_FT8046'), ('ST001849_hilic_pos_FT207', 'ST001428_hilic_pos_FT51'), ('ST001849_hilic_pos_FT1066', 'ST001428_hilic_pos_FT951'), ('ST001849_hilic_pos_FT3623', 'ST001428_hilic_pos_FT4521'), ('ST001849_hilic_pos_FT1508', 'ST001428_hilic_pos_FT1482'), ('ST001849_hilic_pos_FT3559', 'ST001428_hilic_pos_FT4320'), ('ST001849_hilic_pos_FT5169', 'ST001428_hilic_pos_FT6606'), ('ST001849_hilic_pos_FT1879', 'ST001428_hilic_pos_FT1831'), ('ST001849_hilic_pos_FT923', 'ST001428_hilic_pos_FT789'), ('ST001849_hilic_pos_FT7134', 'ST001428_hilic_pos_FT9104'), ('ST001849_hilic_pos_FT3397', 'ST001428_hilic_pos_FT4101'), ('ST001849_hilic_pos_FT4712', 'ST001428_hilic_pos_FT6025'), ('ST001849_hilic_pos_FT6848', 'ST001428_hilic_pos_FT8797'), ('ST001849_hilic_pos_FT5682', 'ST001428_hilic_pos_FT7292'), ('ST001849_hilic_pos_FT2995', 'ST001428_hilic_pos_FT3444'), ('ST001849_hilic_pos_FT6695', 'ST001428_hilic_pos_FT8658'), ('ST001849_hilic_pos_FT1018', 'ST001428_hilic_pos_FT853'), ('ST001849_hilic_pos_FT6277', 'ST001428_hilic_pos_FT8128'), ('ST001849_hilic_pos_FT6326', 'ST001428_hilic_pos_FT8189'), ('ST001849_hilic_pos_FT618', 'ST001428_hilic_pos_FT458'), ('ST001849_hilic_pos_FT5692', 'ST001428_hilic_pos_FT7382'), ('ST001849_hilic_pos_FT6822', 'ST001428_hilic_pos_FT8763'), ('ST001849_hilic_pos_FT5327', 'ST001428_hilic_pos_FT6789'), ('ST001849_hilic_pos_FT5211', 'ST001428_hilic_pos_FT6649'), ('ST001849_hilic_pos_FT3374', 'ST001428_hilic_pos_FT4012'), ('ST001849_hilic_pos_FT6100', 'ST001428_hilic_pos_FT7912'), ('ST001849_hilic_pos_FT2877', 'ST001428_hilic_pos_FT3242'), ('ST001849_hilic_pos_FT2904', 'ST001428_hilic_pos_FT3174'), ('ST001849_hilic_pos_FT6207', 'ST001428_hilic_pos_FT7987'), ('ST001849_hilic_pos_FT6661', 'ST001428_hilic_pos_FT8612'), ('ST001849_hilic_pos_FT1744', 'ST001428_hilic_pos_FT1797'), ('ST001849_hilic_pos_FT6816', 'ST001428_hilic_pos_FT8764'), ('ST001849_hilic_pos_FT5764', 'ST001428_hilic_pos_FT7459'), ('ST001849_hilic_pos_FT4442', 'ST001428_hilic_pos_FT5763'), ('ST001849_hilic_pos_FT3898', 'ST001428_hilic_pos_FT4938'), ('ST001849_hilic_pos_FT6479', 'ST001428_hilic_pos_FT8391'), ('ST001849_hilic_pos_FT2198', 'ST001428_hilic_pos_FT2275'), ('ST001849_hilic_pos_FT5763', 'ST001428_hilic_pos_FT7485'), ('ST001849_hilic_pos_FT4742', 'ST001428_hilic_pos_FT6103'), ('ST001849_hilic_pos_FT1626', 'ST001428_hilic_pos_FT1602'), ('ST001849_hilic_pos_FT6664', 'ST001428_hilic_pos_FT8619'), ('ST001849_hilic_pos_FT6507', 'ST001428_hilic_pos_FT8453'), ('ST001849_hilic_pos_FT1405', 'ST001428_hilic_pos_FT1288'), ('ST001849_hilic_pos_FT3677', 'ST001428_hilic_pos_FT4648'), ('ST001849_hilic_pos_FT6193', 'ST001428_hilic_pos_FT8005'), ('ST001849_hilic_pos_FT3355', 'ST001428_hilic_pos_FT4026'), ('ST001849_hilic_pos_FT3414', 'ST001428_hilic_pos_FT4175'), ('ST001849_hilic_pos_FT620', 'ST001428_hilic_pos_FT461'), ('ST001849_hilic_pos_FT6788', 'ST001428_hilic_pos_FT8757'), ('ST001849_hilic_pos_FT1792', 'ST001428_hilic_pos_FT1789'), ('ST001849_hilic_pos_FT6451', 'ST001428_hilic_pos_FT8349'), ('ST001849_hilic_pos_FT4113', 'ST001428_hilic_pos_FT5301'), ('ST001849_hilic_pos_FT1145', 'ST001428_hilic_pos_FT1038'), ('ST001849_hilic_pos_FT5964', 'ST001428_hilic_pos_FT7706'), ('ST001849_hilic_pos_FT3086', 'ST001428_hilic_pos_FT3486'), ('ST001849_hilic_pos_FT4741', 'ST001428_hilic_pos_FT6100'), ('ST001849_hilic_pos_FT5431', 'ST001428_hilic_pos_FT6917'), ('ST001849_hilic_pos_FT5227', 'ST001428_hilic_pos_FT6647'), ('ST001849_hilic_pos_FT6919', 'ST001428_hilic_pos_FT8872'), ('ST001849_hilic_pos_FT837', 'ST001428_hilic_pos_FT722'), ('ST001849_hilic_pos_FT6434', 'ST001428_hilic_pos_FT8333'), ('ST001849_hilic_pos_FT4965', 'ST001428_hilic_pos_FT6343'), ('ST001849_hilic_pos_FT5621', 'ST001428_hilic_pos_FT7276'), ('ST001849_hilic_pos_FT6163', 'ST001428_hilic_pos_FT7969'), ('ST001849_hilic_pos_FT6031', 'ST001428_hilic_pos_FT7816'), ('ST001849_hilic_pos_FT3754', 'ST001428_hilic_pos_FT4763'), ('ST001849_hilic_pos_FT4285', 'ST001428_hilic_pos_FT5493'), ('ST001849_hilic_pos_FT2814', 'ST001428_hilic_pos_FT3121'), ('ST001849_hilic_pos_FT318', 'ST001428_hilic_pos_FT162'), ('ST001849_hilic_pos_FT3629', 'ST001428_hilic_pos_FT4504'), ('ST001849_hilic_pos_FT4911', 'ST001428_hilic_pos_FT6268'), ('ST001849_hilic_pos_FT5101', 'ST001428_hilic_pos_FT6500'), ('ST001849_hilic_pos_FT6393', 'ST001428_hilic_pos_FT8260'), ('ST001849_hilic_pos_FT2361', 'ST001428_hilic_pos_FT2449'), ('ST001849_hilic_pos_FT622', 'ST001428_hilic_pos_FT455'), ('ST001849_hilic_pos_FT4045', 'ST001428_hilic_pos_FT5136'), ('ST001849_hilic_pos_FT452', 'ST001428_hilic_pos_FT259'), ('ST001849_hilic_pos_FT1911', 'ST001428_hilic_pos_FT1940'), ('ST001849_hilic_pos_FT2378', 'ST001428_hilic_pos_FT2488'), ('ST001849_hilic_pos_FT6960', 'ST001428_hilic_pos_FT8941'), ('ST001849_hilic_pos_FT5962', 'ST001428_hilic_pos_FT7726'), ('ST001849_hilic_pos_FT3921', 'ST001428_hilic_pos_FT4935'), ('ST001849_hilic_pos_FT5050', 'ST001428_hilic_pos_FT6443'), ('ST001849_hilic_pos_FT4221', 'ST001428_hilic_pos_FT5435'), ('ST001849_hilic_pos_FT6200', 'ST001428_hilic_pos_FT8003'), ('ST001849_hilic_pos_FT6638', 'ST001428_hilic_pos_FT8596'), ('ST001849_hilic_pos_FT6809', 'ST001428_hilic_pos_FT8752'), ('ST001849_hilic_pos_FT4404', 'ST001428_hilic_pos_FT5649'), ('ST001849_hilic_pos_FT6959', 'ST001428_hilic_pos_FT8936'), ('ST001849_hilic_pos_FT960', 'ST001428_hilic_pos_FT831'), ('ST001849_hilic_pos_FT3478', 'ST001428_hilic_pos_FT4223'), ('ST001849_hilic_pos_FT6069', 'ST001428_hilic_pos_FT7872'), ('ST001849_hilic_pos_FT1055', 'ST001428_hilic_pos_FT919'), ('ST001849_hilic_pos_FT4268', 'ST001428_hilic_pos_FT5503'), ('ST001849_hilic_pos_FT2859', 'ST001428_hilic_pos_FT3188'), ('ST001849_hilic_pos_FT253', 'ST001428_hilic_pos_FT104'), ('ST001849_hilic_pos_FT3289', 'ST001428_hilic_pos_FT3943'), ('ST001849_hilic_pos_FT3245', 'ST001428_hilic_pos_FT3865'), ('ST001849_hilic_pos_FT2177', 'ST001428_hilic_pos_FT2197'), ('ST001849_hilic_pos_FT6943', 'ST001428_hilic_pos_FT8917'), ('ST001849_hilic_pos_FT3099', 'ST001428_hilic_pos_FT3580'), ('ST001849_hilic_pos_FT568', 'ST001428_hilic_pos_FT408'), ('ST001849_hilic_pos_FT3252', 'ST001428_hilic_pos_FT3904'), ('ST001849_hilic_pos_FT5939', 'ST001428_hilic_pos_FT7673'), ('ST001849_hilic_pos_FT6475', 'ST001428_hilic_pos_FT8385'), ('ST001849_hilic_pos_FT2364', 'ST001428_hilic_pos_FT2503'), ('ST001849_hilic_pos_FT2616', 'ST001428_hilic_pos_FT2806'), ('ST001849_hilic_pos_FT1753', 'ST001428_hilic_pos_FT1796'), ('ST001849_hilic_pos_FT5671', 'ST001428_hilic_pos_FT7319'), ('ST001849_hilic_pos_FT5622', 'ST001428_hilic_pos_FT7261'), ('ST001849_hilic_pos_FT3670', 'ST001428_hilic_pos_FT4542'), ('ST001849_hilic_pos_FT5504', 'ST001428_hilic_pos_FT7047'), ('ST001849_hilic_pos_FT1266', 'ST001428_hilic_pos_FT1180'), ('ST001849_hilic_pos_FT5754', 'ST001428_hilic_pos_FT7419'), ('ST001849_hilic_pos_FT5754', 'ST001428_hilic_pos_FT7429'), ('ST001849_hilic_pos_FT6170', 'ST001428_hilic_pos_FT7962'), ('ST001849_hilic_pos_FT4782', 'ST001428_hilic_pos_FT6092'), ('ST001849_hilic_pos_FT3854', 'ST001428_hilic_pos_FT4882'), ('ST001849_hilic_pos_FT4260', 'ST001428_hilic_pos_FT5492'), ('ST001849_hilic_pos_FT825', 'ST001428_hilic_pos_FT641'), ('ST001849_hilic_pos_FT2203', 'ST001428_hilic_pos_FT2274'), ('ST001849_hilic_pos_FT5026', 'ST001428_hilic_pos_FT6468'), ('ST001849_hilic_pos_FT5653', 'ST001428_hilic_pos_FT7283'), ('ST001849_hilic_pos_FT392', 'ST001428_hilic_pos_FT235'), ('ST001849_hilic_pos_FT3221', 'ST001428_hilic_pos_FT3699'), ('ST001849_hilic_pos_FT4325', 'ST001428_hilic_pos_FT5587'), ('ST001849_hilic_pos_FT5995', 'ST001428_hilic_pos_FT7769'), ('ST001849_hilic_pos_FT2781', 'ST001428_hilic_pos_FT2970'), ('ST001849_hilic_pos_FT3088', 'ST001428_hilic_pos_FT3573'), ('ST001849_hilic_pos_FT6443', 'ST001428_hilic_pos_FT8337'), ('ST001849_hilic_pos_FT4641', 'ST001428_hilic_pos_FT5977'), ('ST001849_hilic_pos_FT1872', 'ST001428_hilic_pos_FT1829'), ('ST001849_hilic_pos_FT5695', 'ST001428_hilic_pos_FT7384'), ('ST001849_hilic_pos_FT5351', 'ST001428_hilic_pos_FT6810'), ('ST001849_hilic_pos_FT5351', 'ST001428_hilic_pos_FT6832'), ('ST001849_hilic_pos_FT1992', 'ST001428_hilic_pos_FT2043'), ('ST001849_hilic_pos_FT5987', 'ST001428_hilic_pos_FT7754'), ('ST001849_hilic_pos_FT5814', 'ST001428_hilic_pos_FT7496'), ('ST001849_hilic_pos_FT5873', 'ST001428_hilic_pos_FT7581'), ('ST001849_hilic_pos_FT6752', 'ST001428_hilic_pos_FT8706'), ('ST001849_hilic_pos_FT1252', 'ST001428_hilic_pos_FT1164'), ('ST001849_hilic_pos_FT1462', 'ST001428_hilic_pos_FT1445'), ('ST001849_hilic_pos_FT5382', 'ST001428_hilic_pos_FT6837'), ('ST001849_hilic_pos_FT3115', 'ST001428_hilic_pos_FT3503'), ('ST001849_hilic_pos_FT658', 'ST001428_hilic_pos_FT491'), ('ST001849_hilic_pos_FT1799', 'ST001428_hilic_pos_FT1795'), ('ST001849_hilic_pos_FT2436', 'ST001428_hilic_pos_FT2509'), ('ST001849_hilic_pos_FT5230', 'ST001428_hilic_pos_FT6628'), ('ST001849_hilic_pos_FT5230', 'ST001428_hilic_pos_FT6643'), ('ST001849_hilic_pos_FT6916', 'ST001428_hilic_pos_FT8874'), ('ST001849_hilic_pos_FT4766', 'ST001428_hilic_pos_FT6075'), ('ST001849_hilic_pos_FT5779', 'ST001428_hilic_pos_FT7466'), ('ST001849_hilic_pos_FT6235', 'ST001428_hilic_pos_FT8065'), ('ST001849_hilic_pos_FT2969', 'ST001428_hilic_pos_FT3338'), ('ST001849_hilic_pos_FT1353', 'ST001428_hilic_pos_FT1308'), ('ST001849_hilic_pos_FT3098', 'ST001428_hilic_pos_FT3523'), ('ST001849_hilic_pos_FT2587', 'ST001428_hilic_pos_FT2708'), ('ST001849_hilic_pos_FT6272', 'ST001428_hilic_pos_FT8117'), ('ST001849_hilic_pos_FT5831', 'ST001428_hilic_pos_FT7527'), ('ST001849_hilic_pos_FT5329', 'ST001428_hilic_pos_FT6791'), ('ST001849_hilic_pos_FT5207', 'ST001428_hilic_pos_FT6665'), ('ST001849_hilic_pos_FT5405', 'ST001428_hilic_pos_FT6913'), ('ST001849_hilic_pos_FT5852', 'ST001428_hilic_pos_FT7546'), ('ST001849_hilic_pos_FT3421', 'ST001428_hilic_pos_FT4212'), ('ST001849_hilic_pos_FT5077', 'ST001428_hilic_pos_FT6497'), ('ST001849_hilic_pos_FT3063', 'ST001428_hilic_pos_FT3480'), ('ST001849_hilic_pos_FT807', 'ST001428_hilic_pos_FT667'), ('ST001849_hilic_pos_FT6891', 'ST001428_hilic_pos_FT8849'), ('ST001849_hilic_pos_FT6436', 'ST001428_hilic_pos_FT8314'), ('ST001849_hilic_pos_FT5047', 'ST001428_hilic_pos_FT6438'), ('ST001849_hilic_pos_FT6617', 'ST001428_hilic_pos_FT8583'), ('ST001849_hilic_pos_FT237', 'ST001428_hilic_pos_FT66'), ('ST001849_hilic_pos_FT211', 'ST001428_hilic_pos_FT43'), ('ST001849_hilic_pos_FT277', 'ST001428_hilic_pos_FT74'), ('ST001849_hilic_pos_FT301', 'ST001428_hilic_pos_FT176'), ('ST001849_hilic_pos_FT422', 'ST001428_hilic_pos_FT252'), ('ST001849_hilic_pos_FT387', 'ST001428_hilic_pos_FT247'), ('ST001849_hilic_pos_FT357', 'ST001428_hilic_pos_FT199'), ('ST001849_hilic_pos_FT465', 'ST001428_hilic_pos_FT306'), ('ST001849_hilic_pos_FT495', 'ST001428_hilic_pos_FT270'), ('ST001849_hilic_pos_FT440', 'ST001428_hilic_pos_FT260'), ('ST001849_hilic_pos_FT605', 'ST001428_hilic_pos_FT400'), ('ST001849_hilic_pos_FT599', 'ST001428_hilic_pos_FT452'), ('ST001849_hilic_pos_FT699', 'ST001428_hilic_pos_FT501'), ('ST001849_hilic_pos_FT811', 'ST001428_hilic_pos_FT623'), ('ST001849_hilic_pos_FT823', 'ST001428_hilic_pos_FT709'), ('ST001849_hilic_pos_FT934', 'ST001428_hilic_pos_FT810'), ('ST001849_hilic_pos_FT1032', 'ST001428_hilic_pos_FT916'), ('ST001849_hilic_pos_FT1081', 'ST001428_hilic_pos_FT987'), ('ST001849_hilic_pos_FT1093', 'ST001428_hilic_pos_FT991'), ('ST001849_hilic_pos_FT1069', 'ST001428_hilic_pos_FT942'), ('ST001849_hilic_pos_FT1054', 'ST001428_hilic_pos_FT974'), ('ST001849_hilic_pos_FT1123', 'ST001428_hilic_pos_FT1077'), ('ST001849_hilic_pos_FT1129', 'ST001428_hilic_pos_FT1075'), ('ST001849_hilic_pos_FT1095', 'ST001428_hilic_pos_FT1015'), ('ST001849_hilic_pos_FT1258', 'ST001428_hilic_pos_FT1126'), ('ST001849_hilic_pos_FT1256', 'ST001428_hilic_pos_FT1099'), ('ST001849_hilic_pos_FT1246', 'ST001428_hilic_pos_FT1176'), ('ST001849_hilic_pos_FT1257', 'ST001428_hilic_pos_FT1144'), ('ST001849_hilic_pos_FT1226', 'ST001428_hilic_pos_FT1157'), ('ST001849_hilic_pos_FT1301', 'ST001428_hilic_pos_FT1196'), ('ST001849_hilic_pos_FT1279', 'ST001428_hilic_pos_FT1195'), ('ST001849_hilic_pos_FT1422', 'ST001428_hilic_pos_FT1290'), ('ST001849_hilic_pos_FT1358', 'ST001428_hilic_pos_FT1304'), ('ST001849_hilic_pos_FT1522', 'ST001428_hilic_pos_FT1463'), ('ST001849_hilic_pos_FT1531', 'ST001428_hilic_pos_FT1524'), ('ST001849_hilic_pos_FT1496', 'ST001428_hilic_pos_FT1469'), ('ST001849_hilic_pos_FT1583', 'ST001428_hilic_pos_FT1580'), ('ST001849_hilic_pos_FT1729', 'ST001428_hilic_pos_FT1724'), ('ST001849_hilic_pos_FT1717', 'ST001428_hilic_pos_FT1653'), ('ST001849_hilic_pos_FT1762', 'ST001428_hilic_pos_FT1737'), ('ST001849_hilic_pos_FT1754', 'ST001428_hilic_pos_FT1752'), ('ST001849_hilic_pos_FT1757', 'ST001428_hilic_pos_FT1756'), ('ST001849_hilic_pos_FT1898', 'ST001428_hilic_pos_FT1899'), ('ST001849_hilic_pos_FT1857', 'ST001428_hilic_pos_FT1865'), ('ST001849_hilic_pos_FT1839', 'ST001428_hilic_pos_FT1827'), ('ST001849_hilic_pos_FT1941', 'ST001428_hilic_pos_FT1983'), ('ST001849_hilic_pos_FT1937', 'ST001428_hilic_pos_FT1976'), ('ST001849_hilic_pos_FT1959', 'ST001428_hilic_pos_FT1959'), ('ST001849_hilic_pos_FT1971', 'ST001428_hilic_pos_FT1982'), ('ST001849_hilic_pos_FT2017', 'ST001428_hilic_pos_FT1998'), ('ST001849_hilic_pos_FT2055', 'ST001428_hilic_pos_FT2113'), ('ST001849_hilic_pos_FT2040', 'ST001428_hilic_pos_FT2168'), ('ST001849_hilic_pos_FT2285', 'ST001428_hilic_pos_FT2390'), ('ST001849_hilic_pos_FT2372', 'ST001428_hilic_pos_FT2487'), ('ST001849_hilic_pos_FT2347', 'ST001428_hilic_pos_FT2449'), ('ST001849_hilic_pos_FT2749', 'ST001428_hilic_pos_FT3038'), ('ST001849_hilic_pos_FT3258', 'ST001428_hilic_pos_FT3913'), ('ST001849_hilic_pos_FT3314', 'ST001428_hilic_pos_FT3927'), ('ST001849_hilic_pos_FT3346', 'ST001428_hilic_pos_FT4060'), ('ST001849_hilic_pos_FT3518', 'ST001428_hilic_pos_FT4356'), ('ST001849_hilic_pos_FT3587', 'ST001428_hilic_pos_FT4437'), ('ST001849_hilic_pos_FT4800', 'ST001428_hilic_pos_FT6176'), ('ST001849_hilic_pos_FT4811', 'ST001428_hilic_pos_FT6162'), ('ST001849_hilic_pos_FT5369', 'ST001428_hilic_pos_FT6879'), ('ST001849_hilic_pos_FT5374', 'ST001428_hilic_pos_FT6881'), ('ST001849_hilic_pos_FT6763', 'ST001428_hilic_pos_FT8714'), ('ST001849_hilic_pos_FT6761', 'ST001428_hilic_pos_FT8715'), ('ST001849_hilic_pos_FT6855', 'ST001428_hilic_pos_FT8810')])"
      ]
     },
     "execution_count": 20,
     "metadata": {},
     "output_type": "execute_result"
    }
   ],
   "source": [
    "G.edges()"
   ]
  },
  {
   "cell_type": "code",
   "execution_count": 38,
   "metadata": {},
   "outputs": [
    {
     "name": "stdout",
     "output_type": "stream",
     "text": [
      "3\n"
     ]
    }
   ],
   "source": [
    "# Create a new graph to store the result\n",
    "H = nx.Graph()\n",
    "\n",
    "num_components = nx.number_connected_components(G)\n",
    "# Find maximum cardinality matching for each connected component\n",
    "for component in nx.connected_components(G):\n",
    "    subgraph = G.subgraph(component)\n",
    "    num_size = len(subgraph)\n",
    "    matching = nx.bipartite.maximum_matching(subgraph)\n",
    "    if num_size > 2:\n",
    "        print(num_size)\n",
    "        break\n",
    "    H.add_edges_from(matching.items())"
   ]
  },
  {
   "cell_type": "code",
   "execution_count": 36,
   "metadata": {},
   "outputs": [
    {
     "data": {
      "text/plain": [
       "EdgeView([('ST001428_hilic_pos_FT6525', 'ST001849_hilic_pos_FT5067'), ('ST001849_hilic_pos_FT5067', 'ST001428_hilic_pos_FT6514')])"
      ]
     },
     "execution_count": 36,
     "metadata": {},
     "output_type": "execute_result"
    }
   ],
   "source": [
    "subgraph.edges()"
   ]
  },
  {
   "cell_type": "code",
   "execution_count": 39,
   "metadata": {},
   "outputs": [
    {
     "data": {
      "text/plain": [
       "{'ST001428_hilic_pos_FT6525': 'ST001849_hilic_pos_FT5067',\n",
       " 'ST001849_hilic_pos_FT5067': 'ST001428_hilic_pos_FT6525'}"
      ]
     },
     "execution_count": 39,
     "metadata": {},
     "output_type": "execute_result"
    }
   ],
   "source": [
    "matching"
   ]
  },
  {
   "cell_type": "code",
   "execution_count": 30,
   "metadata": {},
   "outputs": [
    {
     "name": "stdout",
     "output_type": "stream",
     "text": [
      "Number of connected components: 931\n"
     ]
    }
   ],
   "source": [
    "num_components = nx.number_connected_components(G)\n",
    "print(\"Number of connected components: {}\".format(num_components))"
   ]
  },
  {
   "cell_type": "code",
   "execution_count": 24,
   "metadata": {},
   "outputs": [
    {
     "data": {
      "text/plain": [
       "{'ST001849_hilic_pos_FT6855': 'ST001428_hilic_pos_FT8810',\n",
       " 'ST001428_hilic_pos_FT8810': 'ST001849_hilic_pos_FT6855'}"
      ]
     },
     "execution_count": 24,
     "metadata": {},
     "output_type": "execute_result"
    }
   ],
   "source": [
    "matching"
   ]
  },
  {
   "cell_type": "markdown",
   "metadata": {},
   "source": []
  },
  {
   "cell_type": "code",
   "execution_count": 23,
   "metadata": {},
   "outputs": [
    {
     "data": {
      "text/plain": [
       "EdgeView([('ST001428_hilic_pos_FT2109', 'ST001849_hilic_pos_FT2076'), ('ST001849_hilic_pos_FT2838', 'ST001428_hilic_pos_FT3141'), ('ST001428_hilic_pos_FT792', 'ST001849_hilic_pos_FT943'), ('ST001849_hilic_pos_FT3210', 'ST001428_hilic_pos_FT3687'), ('ST001849_hilic_pos_FT6071', 'ST001428_hilic_pos_FT7882'), ('ST001849_hilic_pos_FT6967', 'ST001428_hilic_pos_FT8953'), ('ST001849_hilic_pos_FT6614', 'ST001428_hilic_pos_FT8577'), ('ST001849_hilic_pos_FT1988', 'ST001428_hilic_pos_FT1997'), ('ST001428_hilic_pos_FT1040', 'ST001849_hilic_pos_FT1166'), ('ST001849_hilic_pos_FT6793', 'ST001428_hilic_pos_FT8746'), ('ST001849_hilic_pos_FT5612', 'ST001428_hilic_pos_FT7210'), ('ST001428_hilic_pos_FT6525', 'ST001849_hilic_pos_FT5067'), ('ST001428_hilic_pos_FT90', 'ST001849_hilic_pos_FT249'), ('ST001849_hilic_pos_FT5276', 'ST001428_hilic_pos_FT6708'), ('ST001428_hilic_pos_FT8891', 'ST001849_hilic_pos_FT6924'), ('ST001849_hilic_pos_FT6250', 'ST001428_hilic_pos_FT8106'), ('ST001849_hilic_pos_FT6698', 'ST001428_hilic_pos_FT8661'), ('ST001428_hilic_pos_FT6865', 'ST001849_hilic_pos_FT5379'), ('ST001849_hilic_pos_FT6134', 'ST001428_hilic_pos_FT7927'), ('ST001849_hilic_pos_FT1956', 'ST001428_hilic_pos_FT1935'), ('ST001849_hilic_pos_FT1710', 'ST001428_hilic_pos_FT1717'), ('ST001849_hilic_pos_FT2104', 'ST001428_hilic_pos_FT2101'), ('ST001849_hilic_pos_FT6779', 'ST001428_hilic_pos_FT8728'), ('ST001849_hilic_pos_FT5465', 'ST001428_hilic_pos_FT6978'), ('ST001428_hilic_pos_FT8769', 'ST001849_hilic_pos_FT6823'), ('ST001428_hilic_pos_FT1649', 'ST001849_hilic_pos_FT1713'), ('ST001849_hilic_pos_FT2008', 'ST001428_hilic_pos_FT2070'), ('ST001849_hilic_pos_FT3350', 'ST001428_hilic_pos_FT4027'), ('ST001849_hilic_pos_FT3185', 'ST001428_hilic_pos_FT3741'), ('ST001849_hilic_pos_FT6044', 'ST001428_hilic_pos_FT7803'), ('ST001428_hilic_pos_FT8651', 'ST001849_hilic_pos_FT6691'), ('ST001849_hilic_pos_FT3447', 'ST001428_hilic_pos_FT4138'), ('ST001428_hilic_pos_FT7966', 'ST001849_hilic_pos_FT6157'), ('ST001428_hilic_pos_FT7233', 'ST001849_hilic_pos_FT5623'), ('ST001849_hilic_pos_FT208', 'ST001428_hilic_pos_FT66'), ('ST001428_hilic_pos_FT4084', 'ST001849_hilic_pos_FT3371'), ('ST001428_hilic_pos_FT3077', 'ST001849_hilic_pos_FT2847'), ('ST001428_hilic_pos_FT3479', 'ST001849_hilic_pos_FT3102'), ('ST001849_hilic_pos_FT5904', 'ST001428_hilic_pos_FT7617'), ('ST001849_hilic_pos_FT4942', 'ST001428_hilic_pos_FT6375'), ('ST001428_hilic_pos_FT1609', 'ST001849_hilic_pos_FT1638'), ('ST001428_hilic_pos_FT8815', 'ST001849_hilic_pos_FT6870'), ('ST001849_hilic_pos_FT4640', 'ST001428_hilic_pos_FT5963'), ('ST001428_hilic_pos_FT2528', 'ST001849_hilic_pos_FT2442'), ('ST001428_hilic_pos_FT6685', 'ST001849_hilic_pos_FT5242'), ('ST001849_hilic_pos_FT4460', 'ST001428_hilic_pos_FT5750'), ('ST001428_hilic_pos_FT6413', 'ST001849_hilic_pos_FT5004'), ('ST001428_hilic_pos_FT5533', 'ST001849_hilic_pos_FT4256'), ('ST001849_hilic_pos_FT5537', 'ST001428_hilic_pos_FT7113'), ('ST001849_hilic_pos_FT6305', 'ST001428_hilic_pos_FT8142'), ('ST001849_hilic_pos_FT1009', 'ST001428_hilic_pos_FT894'), ('ST001849_hilic_pos_FT4002', 'ST001428_hilic_pos_FT5203'), ('ST001428_hilic_pos_FT6502', 'ST001849_hilic_pos_FT5098'), ('ST001428_hilic_pos_FT7514', 'ST001849_hilic_pos_FT5796'), ('ST001428_hilic_pos_FT6325', 'ST001849_hilic_pos_FT4903'), ('ST001849_hilic_pos_FT1444', 'ST001428_hilic_pos_FT1415'), ('ST001849_hilic_pos_FT3859', 'ST001428_hilic_pos_FT4909'), ('ST001428_hilic_pos_FT2601', 'ST001849_hilic_pos_FT2517'), ('ST001428_hilic_pos_FT3038', 'ST001849_hilic_pos_FT2760'), ('ST001428_hilic_pos_FT6480', 'ST001849_hilic_pos_FT5023'), ('ST001849_hilic_pos_FT1900', 'ST001428_hilic_pos_FT1897'), ('ST001428_hilic_pos_FT6297', 'ST001849_hilic_pos_FT4890'), ('ST001849_hilic_pos_FT4718', 'ST001428_hilic_pos_FT6024'), ('ST001849_hilic_pos_FT478', 'ST001428_hilic_pos_FT285'), ('ST001849_hilic_pos_FT2404', 'ST001428_hilic_pos_FT2558'), ('ST001849_hilic_pos_FT826', 'ST001428_hilic_pos_FT740'), ('ST001428_hilic_pos_FT3371', 'ST001849_hilic_pos_FT3035'), ('ST001428_hilic_pos_FT8121', 'ST001849_hilic_pos_FT6279'), ('ST001428_hilic_pos_FT6576', 'ST001849_hilic_pos_FT5137'), ('ST001428_hilic_pos_FT7934', 'ST001849_hilic_pos_FT6125'), ('ST001428_hilic_pos_FT4008', 'ST001849_hilic_pos_FT3392'), ('ST001849_hilic_pos_FT756', 'ST001428_hilic_pos_FT617'), ('ST001428_hilic_pos_FT1278', 'ST001849_hilic_pos_FT1341'), ('ST001428_hilic_pos_FT5641', 'ST001849_hilic_pos_FT4417'), ('ST001428_hilic_pos_FT8043', 'ST001849_hilic_pos_FT6213'), ('ST001849_hilic_pos_FT4865', 'ST001428_hilic_pos_FT6226'), ('ST001849_hilic_pos_FT4101', 'ST001428_hilic_pos_FT5226'), ('ST001849_hilic_pos_FT2438', 'ST001428_hilic_pos_FT2542'), ('ST001849_hilic_pos_FT3656', 'ST001428_hilic_pos_FT4575'), ('ST001428_hilic_pos_FT6560', 'ST001849_hilic_pos_FT5149'), ('ST001849_hilic_pos_FT6468', 'ST001428_hilic_pos_FT8368'), ('ST001428_hilic_pos_FT61', 'ST001849_hilic_pos_FT221'), ('ST001849_hilic_pos_FT3955', 'ST001428_hilic_pos_FT5065'), ('ST001849_hilic_pos_FT1271', 'ST001428_hilic_pos_FT1160'), ('ST001849_hilic_pos_FT2155', 'ST001428_hilic_pos_FT2194'), ('ST001428_hilic_pos_FT7197', 'ST001849_hilic_pos_FT5601'), ('ST001428_hilic_pos_FT4418', 'ST001849_hilic_pos_FT3583'), ('ST001849_hilic_pos_FT6230', 'ST001428_hilic_pos_FT8033'), ('ST001849_hilic_pos_FT6857', 'ST001428_hilic_pos_FT8812'), ('ST001428_hilic_pos_FT7140', 'ST001849_hilic_pos_FT5554'), ('ST001849_hilic_pos_FT5851', 'ST001428_hilic_pos_FT7530'), ('ST001428_hilic_pos_FT1317', 'ST001849_hilic_pos_FT1357'), ('ST001849_hilic_pos_FT3949', 'ST001428_hilic_pos_FT5115'), ('ST001849_hilic_pos_FT5609', 'ST001428_hilic_pos_FT7194'), ('ST001849_hilic_pos_FT3344', 'ST001428_hilic_pos_FT4080'), ('ST001428_hilic_pos_FT1262', 'ST001849_hilic_pos_FT1304'), ('ST001849_hilic_pos_FT5635', 'ST001428_hilic_pos_FT7249'), ('ST001849_hilic_pos_FT2506', 'ST001428_hilic_pos_FT2592'), ('ST001428_hilic_pos_FT7298', 'ST001849_hilic_pos_FT5665'), ('ST001428_hilic_pos_FT8534', 'ST001849_hilic_pos_FT6574'), ('ST001849_hilic_pos_FT2382', 'ST001428_hilic_pos_FT2457'), ('ST001849_hilic_pos_FT1331', 'ST001428_hilic_pos_FT1275'), ('ST001849_hilic_pos_FT605', 'ST001428_hilic_pos_FT400'), ('ST001849_hilic_pos_FT5960', 'ST001428_hilic_pos_FT7708'), ('ST001849_hilic_pos_FT6037', 'ST001428_hilic_pos_FT7795'), ('ST001428_hilic_pos_FT1922', 'ST001849_hilic_pos_FT1934'), ('ST001849_hilic_pos_FT3432', 'ST001428_hilic_pos_FT4169'), ('ST001428_hilic_pos_FT5624', 'ST001849_hilic_pos_FT4338'), ('ST001428_hilic_pos_FT6738', 'ST001849_hilic_pos_FT5288'), ('ST001849_hilic_pos_FT4484', 'ST001428_hilic_pos_FT5725'), ('ST001849_hilic_pos_FT2720', 'ST001428_hilic_pos_FT2865'), ('ST001428_hilic_pos_FT2650', 'ST001849_hilic_pos_FT2481'), ('ST001849_hilic_pos_FT6503', 'ST001428_hilic_pos_FT8442'), ('ST001849_hilic_pos_FT5358', 'ST001428_hilic_pos_FT6855'), ('ST001849_hilic_pos_FT947', 'ST001428_hilic_pos_FT781'), ('ST001849_hilic_pos_FT4343', 'ST001428_hilic_pos_FT5567'), ('ST001428_hilic_pos_FT6946', 'ST001849_hilic_pos_FT5448'), ('ST001849_hilic_pos_FT1888', 'ST001428_hilic_pos_FT1824'), ('ST001428_hilic_pos_FT1868', 'ST001849_hilic_pos_FT1866'), ('ST001428_hilic_pos_FT2732', 'ST001849_hilic_pos_FT2571'), ('ST001428_hilic_pos_FT1169', 'ST001849_hilic_pos_FT1237'), ('ST001428_hilic_pos_FT4150', 'ST001849_hilic_pos_FT3418'), ('ST001849_hilic_pos_FT3133', 'ST001428_hilic_pos_FT3630'), ('ST001428_hilic_pos_FT7115', 'ST001849_hilic_pos_FT5539'), ('ST001849_hilic_pos_FT5655', 'ST001428_hilic_pos_FT7277'), ('ST001849_hilic_pos_FT2649', 'ST001428_hilic_pos_FT2788'), ('ST001849_hilic_pos_FT6089', 'ST001428_hilic_pos_FT7899'), ('ST001849_hilic_pos_FT1365', 'ST001428_hilic_pos_FT1314'), ('ST001849_hilic_pos_FT2987', 'ST001428_hilic_pos_FT3447'), ('ST001849_hilic_pos_FT5502', 'ST001428_hilic_pos_FT7014'), ('ST001428_hilic_pos_FT8724', 'ST001849_hilic_pos_FT6780'), ('ST001428_hilic_pos_FT8602', 'ST001849_hilic_pos_FT6641'), ('ST001428_hilic_pos_FT6460', 'ST001849_hilic_pos_FT5045'), ('ST001849_hilic_pos_FT1891', 'ST001428_hilic_pos_FT1830'), ('ST001428_hilic_pos_FT6430', 'ST001849_hilic_pos_FT5006'), ('ST001849_hilic_pos_FT3998', 'ST001428_hilic_pos_FT5154'), ('ST001849_hilic_pos_FT5844', 'ST001428_hilic_pos_FT7563'), ('ST001428_hilic_pos_FT2847', 'ST001849_hilic_pos_FT2631'), ('ST001849_hilic_pos_FT5830', 'ST001428_hilic_pos_FT7509'), ('ST001428_hilic_pos_FT6083', 'ST001849_hilic_pos_FT4777'), ('ST001428_hilic_pos_FT5405', 'ST001849_hilic_pos_FT4216'), ('ST001849_hilic_pos_FT2492', 'ST001428_hilic_pos_FT2591'), ('ST001849_hilic_pos_FT2502', 'ST001428_hilic_pos_FT2632'), ('ST001849_hilic_pos_FT6536', 'ST001428_hilic_pos_FT8482'), ('ST001428_hilic_pos_FT6591', 'ST001849_hilic_pos_FT5156'), ('ST001428_hilic_pos_FT3250', 'ST001849_hilic_pos_FT2879'), ('ST001849_hilic_pos_FT6484', 'ST001428_hilic_pos_FT8388'), ('ST001428_hilic_pos_FT7454', 'ST001849_hilic_pos_FT5772'), ('ST001428_hilic_pos_FT3358', 'ST001849_hilic_pos_FT2957'), ('ST001849_hilic_pos_FT5943', 'ST001428_hilic_pos_FT7667'), ('ST001428_hilic_pos_FT1136', 'ST001849_hilic_pos_FT1225'), ('ST001428_hilic_pos_FT798', 'ST001849_hilic_pos_FT941'), ('ST001428_hilic_pos_FT5246', 'ST001849_hilic_pos_FT4070'), ('ST001428_hilic_pos_FT7347', 'ST001849_hilic_pos_FT5693'), ('ST001849_hilic_pos_FT3626', 'ST001428_hilic_pos_FT4539'), ('ST001428_hilic_pos_FT7737', 'ST001849_hilic_pos_FT5978'), ('ST001428_hilic_pos_FT7426', 'ST001849_hilic_pos_FT5729'), ('ST001428_hilic_pos_FT7984', 'ST001849_hilic_pos_FT6183'), ('ST001849_hilic_pos_FT4828', 'ST001428_hilic_pos_FT6220'), ('ST001428_hilic_pos_FT3095', 'ST001849_hilic_pos_FT2843'), ('ST001849_hilic_pos_FT5204', 'ST001428_hilic_pos_FT6627'), ('ST001849_hilic_pos_FT6416', 'ST001428_hilic_pos_FT8281'), ('ST001849_hilic_pos_FT3004', 'ST001428_hilic_pos_FT3442'), ('ST001428_hilic_pos_FT8513', 'ST001849_hilic_pos_FT6552'), ('ST001849_hilic_pos_FT1643', 'ST001428_hilic_pos_FT1617'), ('ST001428_hilic_pos_FT4294', 'ST001849_hilic_pos_FT3514'), ('ST001428_hilic_pos_FT3594', 'ST001849_hilic_pos_FT3154'), ('ST001428_hilic_pos_FT5283', 'ST001849_hilic_pos_FT4078'), ('ST001428_hilic_pos_FT5178', 'ST001849_hilic_pos_FT3988'), ('ST001849_hilic_pos_FT4277', 'ST001428_hilic_pos_FT5540'), ('ST001849_hilic_pos_FT1037', 'ST001428_hilic_pos_FT1004'), ('ST001428_hilic_pos_FT1048', 'ST001849_hilic_pos_FT1102'), ('ST001849_hilic_pos_FT3906', 'ST001428_hilic_pos_FT5024'), ('ST001428_hilic_pos_FT6819', 'ST001849_hilic_pos_FT5330'), ('ST001428_hilic_pos_FT5535', 'ST001849_hilic_pos_FT4258'), ('ST001428_hilic_pos_FT8218', 'ST001849_hilic_pos_FT6362'), ('ST001428_hilic_pos_FT4931', 'ST001849_hilic_pos_FT3916'), ('ST001849_hilic_pos_FT5435', 'ST001428_hilic_pos_FT6956'), ('ST001428_hilic_pos_FT4712', 'ST001849_hilic_pos_FT3699'), ('ST001849_hilic_pos_FT5680', 'ST001428_hilic_pos_FT7333'), ('ST001849_hilic_pos_FT1672', 'ST001428_hilic_pos_FT1691'), ('ST001849_hilic_pos_FT2619', 'ST001428_hilic_pos_FT2811'), ('ST001849_hilic_pos_FT1437', 'ST001428_hilic_pos_FT1394'), ('ST001849_hilic_pos_FT764', 'ST001428_hilic_pos_FT573'), ('ST001849_hilic_pos_FT331', 'ST001428_hilic_pos_FT167'), ('ST001849_hilic_pos_FT4148', 'ST001428_hilic_pos_FT5344'), ('ST001849_hilic_pos_FT6433', 'ST001428_hilic_pos_FT8325'), ('ST001428_hilic_pos_FT7076', 'ST001849_hilic_pos_FT5531'), ('ST001849_hilic_pos_FT6770', 'ST001428_hilic_pos_FT8737'), ('ST001428_hilic_pos_FT8593', 'ST001849_hilic_pos_FT6639'), ('ST001428_hilic_pos_FT8203', 'ST001849_hilic_pos_FT6353'), ('ST001428_hilic_pos_FT5147', 'ST001849_hilic_pos_FT4029'), ('ST001849_hilic_pos_FT4937', 'ST001428_hilic_pos_FT6345'), ('ST001428_hilic_pos_FT6068', 'ST001849_hilic_pos_FT4699'), ('ST001428_hilic_pos_FT4315', 'ST001849_hilic_pos_FT3546'), ('ST001849_hilic_pos_FT2792', 'ST001428_hilic_pos_FT3113'), ('ST001428_hilic_pos_FT7492', 'ST001849_hilic_pos_FT5801'), ('ST001428_hilic_pos_FT3072', 'ST001849_hilic_pos_FT2789'), ('ST001428_hilic_pos_FT6777', 'ST001849_hilic_pos_FT5326'), ('ST001428_hilic_pos_FT6868', 'ST001849_hilic_pos_FT5356'), ('ST001849_hilic_pos_FT4955', 'ST001428_hilic_pos_FT6378'), ('ST001849_hilic_pos_FT1722', 'ST001428_hilic_pos_FT1633'), ('ST001428_hilic_pos_FT7306', 'ST001849_hilic_pos_FT5659'), ('ST001428_hilic_pos_FT7366', 'ST001849_hilic_pos_FT5714'), ('ST001428_hilic_pos_FT3854', 'ST001849_hilic_pos_FT3259'), ('ST001849_hilic_pos_FT1133', 'ST001428_hilic_pos_FT1082'), ('ST001849_hilic_pos_FT5303', 'ST001428_hilic_pos_FT6754'), ('ST001849_hilic_pos_FT603', 'ST001428_hilic_pos_FT436'), ('ST001428_hilic_pos_FT2285', 'ST001849_hilic_pos_FT2208'), ('ST001849_hilic_pos_FT6124', 'ST001428_hilic_pos_FT7931'), ('ST001849_hilic_pos_FT6878', 'ST001428_hilic_pos_FT8825'), ('ST001428_hilic_pos_FT8822', 'ST001849_hilic_pos_FT6873'), ('ST001849_hilic_pos_FT2548', 'ST001428_hilic_pos_FT2685'), ('ST001428_hilic_pos_FT3692', 'ST001849_hilic_pos_FT3222'), ('ST001428_hilic_pos_FT4656', 'ST001849_hilic_pos_FT3703'), ('ST001428_hilic_pos_FT5799', 'ST001849_hilic_pos_FT4502'), ('ST001849_hilic_pos_FT4451', 'ST001428_hilic_pos_FT5734'), ('ST001428_hilic_pos_FT6756', 'ST001849_hilic_pos_FT5318'), ('ST001849_hilic_pos_FT4576', 'ST001428_hilic_pos_FT5870'), ('ST001428_hilic_pos_FT1740', 'ST001849_hilic_pos_FT1805'), ('ST001849_hilic_pos_FT868', 'ST001428_hilic_pos_FT661'), ('ST001428_hilic_pos_FT5663', 'ST001849_hilic_pos_FT4388'), ('ST001428_hilic_pos_FT7690', 'ST001849_hilic_pos_FT5935'), ('ST001428_hilic_pos_FT7193', 'ST001849_hilic_pos_FT5599'), ('ST001849_hilic_pos_FT4800', 'ST001428_hilic_pos_FT6176'), ('ST001849_hilic_pos_FT6462', 'ST001428_hilic_pos_FT8355'), ('ST001428_hilic_pos_FT7758', 'ST001849_hilic_pos_FT5983'), ('ST001428_hilic_pos_FT5118', 'ST001849_hilic_pos_FT3950'), ('ST001428_hilic_pos_FT7601', 'ST001849_hilic_pos_FT5877'), ('ST001849_hilic_pos_FT1399', 'ST001428_hilic_pos_FT1313'), ('ST001428_hilic_pos_FT6397', 'ST001849_hilic_pos_FT4995'), ('ST001428_hilic_pos_FT4226', 'ST001849_hilic_pos_FT3466'), ('ST001849_hilic_pos_FT4345', 'ST001428_hilic_pos_FT5617'), ('ST001849_hilic_pos_FT1431', 'ST001428_hilic_pos_FT1359'), ('ST001428_hilic_pos_FT3256', 'ST001849_hilic_pos_FT2878'), ('ST001849_hilic_pos_FT4773', 'ST001428_hilic_pos_FT6078'), ('ST001849_hilic_pos_FT5518', 'ST001428_hilic_pos_FT7066'), ('ST001428_hilic_pos_FT7351', 'ST001849_hilic_pos_FT5721'), ('ST001849_hilic_pos_FT456', 'ST001428_hilic_pos_FT289'), ('ST001849_hilic_pos_FT3218', 'ST001428_hilic_pos_FT3689'), ('ST001849_hilic_pos_FT3030', 'ST001428_hilic_pos_FT3432'), ('ST001428_hilic_pos_FT7400', 'ST001849_hilic_pos_FT5760'), ('ST001428_hilic_pos_FT43', 'ST001849_hilic_pos_FT182'), ('ST001428_hilic_pos_FT6953', 'ST001849_hilic_pos_FT5463'), ('ST001849_hilic_pos_FT6727', 'ST001428_hilic_pos_FT8684'), ('ST001849_hilic_pos_FT2644', 'ST001428_hilic_pos_FT2809'), ('ST001849_hilic_pos_FT6820', 'ST001428_hilic_pos_FT8765'), ('ST001428_hilic_pos_FT2428', 'ST001849_hilic_pos_FT2388'), ('ST001428_hilic_pos_FT7343', 'ST001849_hilic_pos_FT5658'), ('ST001428_hilic_pos_FT4795', 'ST001849_hilic_pos_FT3763'), ('ST001849_hilic_pos_FT1703', 'ST001428_hilic_pos_FT1632'), ('ST001428_hilic_pos_FT1559', 'ST001849_hilic_pos_FT1654'), ('ST001849_hilic_pos_FT5584', 'ST001428_hilic_pos_FT7211'), ('ST001849_hilic_pos_FT6721', 'ST001428_hilic_pos_FT8675'), ('ST001849_hilic_pos_FT1517', 'ST001428_hilic_pos_FT1513'), ('ST001849_hilic_pos_FT5294', 'ST001428_hilic_pos_FT6739'), ('ST001849_hilic_pos_FT5807', 'ST001428_hilic_pos_FT7523'), ('ST001849_hilic_pos_FT6388', 'ST001428_hilic_pos_FT8253'), ('ST001428_hilic_pos_FT1798', 'ST001849_hilic_pos_FT1751'), ('ST001849_hilic_pos_FT6797', 'ST001428_hilic_pos_FT8750'), ('ST001849_hilic_pos_FT5927', 'ST001428_hilic_pos_FT7679'), ('ST001849_hilic_pos_FT5018', 'ST001428_hilic_pos_FT6442'), ('ST001428_hilic_pos_FT6107', 'ST001849_hilic_pos_FT4770'), ('ST001849_hilic_pos_FT6879', 'ST001428_hilic_pos_FT8836'), ('ST001849_hilic_pos_FT5985', 'ST001428_hilic_pos_FT7750'), ('ST001849_hilic_pos_FT6612', 'ST001428_hilic_pos_FT8575'), ('ST001428_hilic_pos_FT8647', 'ST001849_hilic_pos_FT6705'), ('ST001428_hilic_pos_FT1407', 'ST001849_hilic_pos_FT1494'), ('ST001428_hilic_pos_FT6391', 'ST001849_hilic_pos_FT5001'), ('ST001428_hilic_pos_FT3034', 'ST001849_hilic_pos_FT2782'), ('ST001849_hilic_pos_FT6716', 'ST001428_hilic_pos_FT8672'), ('ST001428_hilic_pos_FT7818', 'ST001849_hilic_pos_FT6036'), ('ST001849_hilic_pos_FT4653', 'ST001428_hilic_pos_FT5967'), ('ST001428_hilic_pos_FT6581', 'ST001849_hilic_pos_FT5175'), ('ST001428_hilic_pos_FT8210', 'ST001849_hilic_pos_FT6361'), ('ST001849_hilic_pos_FT5600', 'ST001428_hilic_pos_FT7199'), ('ST001849_hilic_pos_FT3582', 'ST001428_hilic_pos_FT4414'), ('ST001849_hilic_pos_FT5501', 'ST001428_hilic_pos_FT7011'), ('ST001428_hilic_pos_FT7575', 'ST001849_hilic_pos_FT5880'), ('ST001849_hilic_pos_FT6392', 'ST001428_hilic_pos_FT8259'), ('ST001428_hilic_pos_FT1899', 'ST001849_hilic_pos_FT1861'), ('ST001849_hilic_pos_FT1046', 'ST001428_hilic_pos_FT995'), ('ST001428_hilic_pos_FT1507', 'ST001849_hilic_pos_FT1519'), ('ST001428_hilic_pos_FT1508', 'ST001849_hilic_pos_FT1514'), ('ST001849_hilic_pos_FT6461', 'ST001428_hilic_pos_FT8348'), ('ST001428_hilic_pos_FT1536', 'ST001849_hilic_pos_FT1505'), ('ST001428_hilic_pos_FT6730', 'ST001849_hilic_pos_FT5319'), ('ST001849_hilic_pos_FT2827', 'ST001428_hilic_pos_FT3112'), ('ST001849_hilic_pos_FT6269', 'ST001428_hilic_pos_FT8096'), ('ST001428_hilic_pos_FT7334', 'ST001849_hilic_pos_FT5690'), ('ST001849_hilic_pos_FT6523', 'ST001428_hilic_pos_FT8494'), ('ST001849_hilic_pos_FT5917', 'ST001428_hilic_pos_FT7632'), ('ST001428_hilic_pos_FT6356', 'ST001849_hilic_pos_FT4964'), ('ST001849_hilic_pos_FT2400', 'ST001428_hilic_pos_FT2566'), ('ST001428_hilic_pos_FT900', 'ST001849_hilic_pos_FT976'), ('ST001428_hilic_pos_FT4309', 'ST001849_hilic_pos_FT3506'), ('ST001428_hilic_pos_FT7870', 'ST001849_hilic_pos_FT6080'), ('ST001849_hilic_pos_FT2776', 'ST001428_hilic_pos_FT3024'), ('ST001428_hilic_pos_FT450', 'ST001849_hilic_pos_FT633'), ('ST001849_hilic_pos_FT577', 'ST001428_hilic_pos_FT438'), ('ST001428_hilic_pos_FT5454', 'ST001849_hilic_pos_FT4210'), ('ST001428_hilic_pos_FT7528', 'ST001849_hilic_pos_FT5813'), ('ST001428_hilic_pos_FT1083', 'ST001849_hilic_pos_FT1115'), ('ST001849_hilic_pos_FT5942', 'ST001428_hilic_pos_FT7669'), ('ST001849_hilic_pos_FT4184', 'ST001428_hilic_pos_FT5421'), ('ST001849_hilic_pos_FT4650', 'ST001428_hilic_pos_FT6005'), ('ST001849_hilic_pos_FT5533', 'ST001428_hilic_pos_FT7097'), ('ST001849_hilic_pos_FT3197', 'ST001428_hilic_pos_FT3758'), ('ST001428_hilic_pos_FT457', 'ST001849_hilic_pos_FT573'), ('ST001849_hilic_pos_FT6701', 'ST001428_hilic_pos_FT8650'), ('ST001428_hilic_pos_FT1577', 'ST001849_hilic_pos_FT1612'), ('ST001849_hilic_pos_FT5343', 'ST001428_hilic_pos_FT6783'), ('ST001428_hilic_pos_FT3671', 'ST001849_hilic_pos_FT3164'), ('ST001428_hilic_pos_FT5647', 'ST001849_hilic_pos_FT4410'), ('ST001849_hilic_pos_FT6319', 'ST001428_hilic_pos_FT8166'), ('ST001849_hilic_pos_FT4055', 'ST001428_hilic_pos_FT5310'), ('ST001428_hilic_pos_FT3973', 'ST001849_hilic_pos_FT3316'), ('ST001428_hilic_pos_FT8547', 'ST001849_hilic_pos_FT6595'), ('ST001428_hilic_pos_FT8517', 'ST001849_hilic_pos_FT6551'), ('ST001428_hilic_pos_FT1356', 'ST001849_hilic_pos_FT1382'), ('ST001849_hilic_pos_FT5063', 'ST001428_hilic_pos_FT6532'), ('ST001428_hilic_pos_FT42', 'ST001849_hilic_pos_FT203'), ('ST001849_hilic_pos_FT5938', 'ST001428_hilic_pos_FT7688'), ('ST001849_hilic_pos_FT4156', 'ST001428_hilic_pos_FT5326'), ('ST001849_hilic_pos_FT6189', 'ST001428_hilic_pos_FT7996'), ('ST001849_hilic_pos_FT4644', 'ST001428_hilic_pos_FT5966'), ('ST001849_hilic_pos_FT4257', 'ST001428_hilic_pos_FT5490'), ('ST001428_hilic_pos_FT8847', 'ST001849_hilic_pos_FT6884'), ('ST001849_hilic_pos_FT2363', 'ST001428_hilic_pos_FT2502'), ('ST001428_hilic_pos_FT7228', 'ST001849_hilic_pos_FT5652'), ('ST001849_hilic_pos_FT419', 'ST001428_hilic_pos_FT248'), ('ST001849_hilic_pos_FT3516', 'ST001428_hilic_pos_FT4389'), ('ST001849_hilic_pos_FT4671', 'ST001428_hilic_pos_FT5950'), ('ST001849_hilic_pos_FT2566', 'ST001428_hilic_pos_FT2697'), ('ST001428_hilic_pos_FT3916', 'ST001849_hilic_pos_FT3319'), ('ST001428_hilic_pos_FT8613', 'ST001849_hilic_pos_FT6657'), ('ST001849_hilic_pos_FT1427', 'ST001428_hilic_pos_FT1401'), ('ST001428_hilic_pos_FT25', 'ST001849_hilic_pos_FT198'), ('ST001428_hilic_pos_FT1656', 'ST001849_hilic_pos_FT1665'), ('ST001428_hilic_pos_FT5061', 'ST001849_hilic_pos_FT3969'), ('ST001428_hilic_pos_FT4649', 'ST001849_hilic_pos_FT3690'), ('ST001428_hilic_pos_FT7571', 'ST001849_hilic_pos_FT5849'), ('ST001428_hilic_pos_FT6231', 'ST001849_hilic_pos_FT4864'), ('ST001849_hilic_pos_FT6184', 'ST001428_hilic_pos_FT7963'), ('ST001428_hilic_pos_FT7032', 'ST001849_hilic_pos_FT5492'), ('ST001849_hilic_pos_FT2017', 'ST001428_hilic_pos_FT1998'), ('ST001428_hilic_pos_FT8686', 'ST001849_hilic_pos_FT6733'), ('ST001428_hilic_pos_FT7183', 'ST001849_hilic_pos_FT5597'), ('ST001428_hilic_pos_FT6225', 'ST001849_hilic_pos_FT4833'), ('ST001849_hilic_pos_FT969', 'ST001428_hilic_pos_FT855'), ('ST001849_hilic_pos_FT1525', 'ST001428_hilic_pos_FT1498'), ('ST001849_hilic_pos_FT3189', 'ST001428_hilic_pos_FT3770'), ('ST001849_hilic_pos_FT6064', 'ST001428_hilic_pos_FT7862'), ('ST001428_hilic_pos_FT4520', 'ST001849_hilic_pos_FT3619'), ('ST001428_hilic_pos_FT1856', 'ST001849_hilic_pos_FT1834'), ('ST001428_hilic_pos_FT3069', 'ST001849_hilic_pos_FT2844'), ('ST001428_hilic_pos_FT8280', 'ST001849_hilic_pos_FT6413'), ('ST001849_hilic_pos_FT5259', 'ST001428_hilic_pos_FT6687'), ('ST001849_hilic_pos_FT3920', 'ST001428_hilic_pos_FT4994'), ('ST001849_hilic_pos_FT2797', 'ST001428_hilic_pos_FT3046'), ('ST001849_hilic_pos_FT4758', 'ST001428_hilic_pos_FT6087'), ('ST001428_hilic_pos_FT410', 'ST001849_hilic_pos_FT634'), ('ST001849_hilic_pos_FT6160', 'ST001428_hilic_pos_FT7965'), ('ST001849_hilic_pos_FT1661', 'ST001428_hilic_pos_FT1637'), ('ST001428_hilic_pos_FT782', 'ST001849_hilic_pos_FT908'), ('ST001849_hilic_pos_FT1492', 'ST001428_hilic_pos_FT1436'), ('ST001849_hilic_pos_FT1014', 'ST001428_hilic_pos_FT899'), ('ST001849_hilic_pos_FT6941', 'ST001428_hilic_pos_FT8902'), ('ST001849_hilic_pos_FT3236', 'ST001428_hilic_pos_FT3847'), ('ST001849_hilic_pos_FT6314', 'ST001428_hilic_pos_FT8140'), ('ST001849_hilic_pos_FT6246', 'ST001428_hilic_pos_FT8083'), ('ST001849_hilic_pos_FT5506', 'ST001428_hilic_pos_FT7105'), ('ST001428_hilic_pos_FT6238', 'ST001849_hilic_pos_FT4840'), ('ST001849_hilic_pos_FT2726', 'ST001428_hilic_pos_FT2909'), ('ST001849_hilic_pos_FT6845', 'ST001428_hilic_pos_FT8808'), ('ST001428_hilic_pos_FT8463', 'ST001849_hilic_pos_FT6514'), ('ST001428_hilic_pos_FT5665', 'ST001849_hilic_pos_FT4372'), ('ST001428_hilic_pos_FT2563', 'ST001849_hilic_pos_FT2421'), ('ST001428_hilic_pos_FT6633', 'ST001849_hilic_pos_FT5232'), ('ST001849_hilic_pos_FT1114', 'ST001428_hilic_pos_FT1033'), ('ST001849_hilic_pos_FT4279', 'ST001428_hilic_pos_FT5528'), ('ST001428_hilic_pos_FT7457', 'ST001849_hilic_pos_FT5780'), ('ST001428_hilic_pos_FT7914', 'ST001849_hilic_pos_FT6105'), ('ST001849_hilic_pos_FT1318', 'ST001428_hilic_pos_FT1230'), ('ST001849_hilic_pos_FT5647', 'ST001428_hilic_pos_FT7271'), ('ST001849_hilic_pos_FT4966', 'ST001428_hilic_pos_FT6362'), ('ST001428_hilic_pos_FT7444', 'ST001849_hilic_pos_FT5738'), ('ST001849_hilic_pos_FT3276', 'ST001428_hilic_pos_FT3901'), ('ST001849_hilic_pos_FT2101', 'ST001428_hilic_pos_FT2154'), ('ST001849_hilic_pos_FT5834', 'ST001428_hilic_pos_FT7539'), ('ST001428_hilic_pos_FT7141', 'ST001849_hilic_pos_FT5575'), ('ST001849_hilic_pos_FT5052', 'ST001428_hilic_pos_FT6445'), ('ST001849_hilic_pos_FT1251', 'ST001428_hilic_pos_FT1179'), ('ST001428_hilic_pos_FT8350', 'ST001849_hilic_pos_FT6450'), ('ST001849_hilic_pos_FT3972', 'ST001428_hilic_pos_FT5056'), ('ST001849_hilic_pos_FT2841', 'ST001428_hilic_pos_FT3075'), ('ST001428_hilic_pos_FT7586', 'ST001849_hilic_pos_FT5890'), ('ST001849_hilic_pos_FT3607', 'ST001428_hilic_pos_FT4499'), ('ST001428_hilic_pos_FT8468', 'ST001849_hilic_pos_FT6541'), ('ST001849_hilic_pos_FT6104', 'ST001428_hilic_pos_FT7915'), ('ST001849_hilic_pos_FT3722', 'ST001428_hilic_pos_FT4708'), ('ST001428_hilic_pos_FT7224', 'ST001849_hilic_pos_FT5620'), ('ST001849_hilic_pos_FT1554', 'ST001428_hilic_pos_FT1499'), ('ST001849_hilic_pos_FT5462', 'ST001428_hilic_pos_FT6964'), ('ST001428_hilic_pos_FT1153', 'ST001849_hilic_pos_FT1243'), ('ST001428_hilic_pos_FT4650', 'ST001849_hilic_pos_FT3732'), ('ST001428_hilic_pos_FT2667', 'ST001849_hilic_pos_FT2515'), ('ST001849_hilic_pos_FT2707', 'ST001428_hilic_pos_FT2912'), ('ST001849_hilic_pos_FT6526', 'ST001428_hilic_pos_FT8486'), ('ST001849_hilic_pos_FT1675', 'ST001428_hilic_pos_FT1630'), ('ST001428_hilic_pos_FT7950', 'ST001849_hilic_pos_FT6154'), ('ST001849_hilic_pos_FT5707', 'ST001428_hilic_pos_FT7389'), ('ST001428_hilic_pos_FT1076', 'ST001849_hilic_pos_FT1127'), ('ST001849_hilic_pos_FT2052', 'ST001428_hilic_pos_FT2117'), ('ST001428_hilic_pos_FT3811', 'ST001849_hilic_pos_FT3239'), ('ST001428_hilic_pos_FT7558', 'ST001849_hilic_pos_FT5843'), ('ST001849_hilic_pos_FT3735', 'ST001428_hilic_pos_FT4612'), ('ST001849_hilic_pos_FT2242', 'ST001428_hilic_pos_FT2264'), ('ST001428_hilic_pos_FT5245', 'ST001849_hilic_pos_FT4115'), ('ST001428_hilic_pos_FT4958', 'ST001849_hilic_pos_FT3882'), ('ST001428_hilic_pos_FT8474', 'ST001849_hilic_pos_FT6532'), ('ST001849_hilic_pos_FT2578', 'ST001428_hilic_pos_FT2742'), ('ST001849_hilic_pos_FT6278', 'ST001428_hilic_pos_FT8126'), ('ST001428_hilic_pos_FT2706', 'ST001849_hilic_pos_FT2594'), ('ST001428_hilic_pos_FT1501', 'ST001849_hilic_pos_FT1523'), ('ST001849_hilic_pos_FT6918', 'ST001428_hilic_pos_FT8873'), ('ST001849_hilic_pos_FT5678', 'ST001428_hilic_pos_FT7321'), ('ST001849_hilic_pos_FT4967', 'ST001428_hilic_pos_FT6348'), ('ST001428_hilic_pos_FT4951', 'ST001849_hilic_pos_FT3912'), ('ST001849_hilic_pos_FT6067', 'ST001428_hilic_pos_FT7869'), ('ST001849_hilic_pos_FT3160', 'ST001428_hilic_pos_FT3595'), ('ST001428_hilic_pos_FT7437', 'ST001849_hilic_pos_FT5739'), ('ST001849_hilic_pos_FT3011', 'ST001428_hilic_pos_FT3436'), ('ST001428_hilic_pos_FT1334', 'ST001849_hilic_pos_FT1376'), ('ST001428_hilic_pos_FT3856', 'ST001849_hilic_pos_FT3271'), ('ST001428_hilic_pos_FT7836', 'ST001849_hilic_pos_FT6048'), ('ST001849_hilic_pos_FT6085', 'ST001428_hilic_pos_FT7864'), ('ST001428_hilic_pos_FT6599', 'ST001849_hilic_pos_FT5165'), ('ST001849_hilic_pos_FT3578', 'ST001428_hilic_pos_FT4406'), ('ST001428_hilic_pos_FT3696', 'ST001849_hilic_pos_FT3209'), ('ST001849_hilic_pos_FT4487', 'ST001428_hilic_pos_FT5792'), ('ST001428_hilic_pos_FT3881', 'ST001849_hilic_pos_FT3238'), ('ST001849_hilic_pos_FT1322', 'ST001428_hilic_pos_FT1238'), ('ST001428_hilic_pos_FT8493', 'ST001849_hilic_pos_FT6537'), ('ST001428_hilic_pos_FT3514', 'ST001849_hilic_pos_FT3083'), ('ST001849_hilic_pos_FT5243', 'ST001428_hilic_pos_FT6725'), ('ST001849_hilic_pos_FT857', 'ST001428_hilic_pos_FT703'), ('ST001428_hilic_pos_FT6043', 'ST001849_hilic_pos_FT4700'), ('ST001849_hilic_pos_FT5275', 'ST001428_hilic_pos_FT6696'), ('ST001428_hilic_pos_FT7953', 'ST001849_hilic_pos_FT6137'), ('ST001849_hilic_pos_FT4716', 'ST001428_hilic_pos_FT6052'), ('ST001849_hilic_pos_FT1674', 'ST001428_hilic_pos_FT1666'), ('ST001428_hilic_pos_FT6334', 'ST001849_hilic_pos_FT4949'), ('ST001849_hilic_pos_FT3059', 'ST001428_hilic_pos_FT3495'), ('ST001428_hilic_pos_FT1945', 'ST001849_hilic_pos_FT1977'), ('ST001849_hilic_pos_FT3079', 'ST001428_hilic_pos_FT3477'), ('ST001428_hilic_pos_FT3896', 'ST001849_hilic_pos_FT3241'), ('ST001849_hilic_pos_FT6130', 'ST001428_hilic_pos_FT7939'), ('ST001849_hilic_pos_FT5254', 'ST001428_hilic_pos_FT6683'), ('ST001849_hilic_pos_FT6254', 'ST001428_hilic_pos_FT8089'), ('ST001428_hilic_pos_FT7409', 'ST001849_hilic_pos_FT5752'), ('ST001849_hilic_pos_FT2276', 'ST001428_hilic_pos_FT2398'), ('ST001428_hilic_pos_FT8074', 'ST001849_hilic_pos_FT6245'), ('ST001428_hilic_pos_FT1125', 'ST001849_hilic_pos_FT1263'), ('ST001428_hilic_pos_FT6971', 'ST001849_hilic_pos_FT5442'), ('ST001849_hilic_pos_FT2317', 'ST001428_hilic_pos_FT2388'), ('ST001849_hilic_pos_FT4753', 'ST001428_hilic_pos_FT6085'), ('ST001428_hilic_pos_FT7069', 'ST001849_hilic_pos_FT5523'), ('ST001849_hilic_pos_FT6501', 'ST001428_hilic_pos_FT8457'), ('ST001849_hilic_pos_FT5068', 'ST001428_hilic_pos_FT6517'), ('ST001428_hilic_pos_FT1051', 'ST001849_hilic_pos_FT1169'), ('ST001428_hilic_pos_FT3106', 'ST001849_hilic_pos_FT2835'), ('ST001428_hilic_pos_FT7913', 'ST001849_hilic_pos_FT6099'), ('ST001849_hilic_pos_FT5250', 'ST001428_hilic_pos_FT6702'), ('ST001849_hilic_pos_FT6914', 'ST001428_hilic_pos_FT8884'), ('ST001849_hilic_pos_FT3738', 'ST001428_hilic_pos_FT4647'), ('ST001849_hilic_pos_FT2181', 'ST001428_hilic_pos_FT2229'), ('ST001428_hilic_pos_FT8546', 'ST001849_hilic_pos_FT6592'), ('ST001849_hilic_pos_FT5918', 'ST001428_hilic_pos_FT7622'), ('ST001849_hilic_pos_FT3490', 'ST001428_hilic_pos_FT4285'), ('ST001428_hilic_pos_FT387', 'ST001849_hilic_pos_FT556'), ('ST001428_hilic_pos_FT6902', 'ST001849_hilic_pos_FT5421'), ('ST001849_hilic_pos_FT5661', 'ST001428_hilic_pos_FT7328'), ('ST001849_hilic_pos_FT6947', 'ST001428_hilic_pos_FT8914'), ('ST001428_hilic_pos_FT7085', 'ST001849_hilic_pos_FT5525'), ('ST001849_hilic_pos_FT6856', 'ST001428_hilic_pos_FT8811'), ('ST001849_hilic_pos_FT6970', 'ST001428_hilic_pos_FT8946'), ('ST001849_hilic_pos_FT5614', 'ST001428_hilic_pos_FT7201'), ('ST001849_hilic_pos_FT5302', 'ST001428_hilic_pos_FT6773'), ('ST001849_hilic_pos_FT987', 'ST001428_hilic_pos_FT850'), ('ST001849_hilic_pos_FT6004', 'ST001428_hilic_pos_FT7787'), ('ST001849_hilic_pos_FT5440', 'ST001428_hilic_pos_FT6973'), ('ST001428_hilic_pos_FT5917', 'ST001849_hilic_pos_FT4612'), ('ST001428_hilic_pos_FT8552', 'ST001849_hilic_pos_FT6591'), ('ST001849_hilic_pos_FT2148', 'ST001428_hilic_pos_FT2247'), ('ST001849_hilic_pos_FT1880', 'ST001428_hilic_pos_FT1884'), ('ST001849_hilic_pos_FT1464', 'ST001428_hilic_pos_FT1446'), ('ST001428_hilic_pos_FT8212', 'ST001849_hilic_pos_FT6368'), ('ST001849_hilic_pos_FT3200', 'ST001428_hilic_pos_FT3774'), ('ST001428_hilic_pos_FT2886', 'ST001849_hilic_pos_FT2713'), ('ST001849_hilic_pos_FT6902', 'ST001428_hilic_pos_FT8858'), ('ST001428_hilic_pos_FT1947', 'ST001849_hilic_pos_FT1967'), ('ST001849_hilic_pos_FT239', 'ST001428_hilic_pos_FT52'), ('ST001428_hilic_pos_FT6934', 'ST001849_hilic_pos_FT5422'), ('ST001428_hilic_pos_FT5248', 'ST001849_hilic_pos_FT4072'), ('ST001428_hilic_pos_FT7744', 'ST001849_hilic_pos_FT5988'), ('ST001428_hilic_pos_FT3111', 'ST001849_hilic_pos_FT2819'), ('ST001849_hilic_pos_FT4224', 'ST001428_hilic_pos_FT5434'), ('ST001849_hilic_pos_FT3390', 'ST001428_hilic_pos_FT4045'), ('ST001428_hilic_pos_FT6503', 'ST001849_hilic_pos_FT5097'), ('ST001849_hilic_pos_FT6059', 'ST001428_hilic_pos_FT7849'), ('ST001849_hilic_pos_FT1946', 'ST001428_hilic_pos_FT1911'), ('ST001428_hilic_pos_FT2396', 'ST001849_hilic_pos_FT2310'), ('ST001428_hilic_pos_FT5661', 'ST001849_hilic_pos_FT4416'), ('ST001849_hilic_pos_FT6835', 'ST001428_hilic_pos_FT8785'), ('ST001849_hilic_pos_FT5524', 'ST001428_hilic_pos_FT7096'), ('ST001849_hilic_pos_FT4052', 'ST001428_hilic_pos_FT5252'), ('ST001849_hilic_pos_FT5706', 'ST001428_hilic_pos_FT7346'), ('ST001428_hilic_pos_FT6111', 'ST001849_hilic_pos_FT4775'), ('ST001428_hilic_pos_FT4441', 'ST001849_hilic_pos_FT3590'), ('ST001849_hilic_pos_FT4068', 'ST001428_hilic_pos_FT5300'), ('ST001849_hilic_pos_FT3744', 'ST001428_hilic_pos_FT4685'), ('ST001849_hilic_pos_FT1993', 'ST001428_hilic_pos_FT2001'), ('ST001428_hilic_pos_FT2350', 'ST001849_hilic_pos_FT2305'), ('ST001849_hilic_pos_FT4189', 'ST001428_hilic_pos_FT5418'), ('ST001428_hilic_pos_FT3061', 'ST001849_hilic_pos_FT2802'), ('ST001428_hilic_pos_FT197', 'ST001849_hilic_pos_FT349'), ('ST001849_hilic_pos_FT4801', 'ST001428_hilic_pos_FT6161'), ('ST001428_hilic_pos_FT5007', 'ST001849_hilic_pos_FT3893'), ('ST001428_hilic_pos_FT8177', 'ST001849_hilic_pos_FT6335'), ('ST001849_hilic_pos_FT4246', 'ST001428_hilic_pos_FT5538'), ('ST001849_hilic_pos_FT6273', 'ST001428_hilic_pos_FT8125'), ('ST001428_hilic_pos_FT4307', 'ST001849_hilic_pos_FT3556'), ('ST001849_hilic_pos_FT2105', 'ST001428_hilic_pos_FT2113'), ('ST001849_hilic_pos_FT5563', 'ST001428_hilic_pos_FT7156'), ('ST001428_hilic_pos_FT8254', 'ST001849_hilic_pos_FT6380'), ('ST001428_hilic_pos_FT8762', 'ST001849_hilic_pos_FT6821'), ('ST001849_hilic_pos_FT5972', 'ST001428_hilic_pos_FT7731'), ('ST001428_hilic_pos_FT8730', 'ST001849_hilic_pos_FT6768'), ('ST001428_hilic_pos_FT5808', 'ST001849_hilic_pos_FT4542'), ('ST001849_hilic_pos_FT1659', 'ST001428_hilic_pos_FT1585'), ('ST001849_hilic_pos_FT6965', 'ST001428_hilic_pos_FT8952'), ('ST001428_hilic_pos_FT7166', 'ST001849_hilic_pos_FT5558'), ('ST001849_hilic_pos_FT2895', 'ST001428_hilic_pos_FT3210'), ('ST001849_hilic_pos_FT3092', 'ST001428_hilic_pos_FT3586'), ('ST001849_hilic_pos_FT4252', 'ST001428_hilic_pos_FT5491'), ('ST001849_hilic_pos_FT3410', 'ST001428_hilic_pos_FT4132'), ('ST001428_hilic_pos_FT7151', 'ST001849_hilic_pos_FT5579'), ('ST001849_hilic_pos_FT5378', 'ST001428_hilic_pos_FT6845'), ('ST001428_hilic_pos_FT5726', 'ST001849_hilic_pos_FT4450'), ('ST001849_hilic_pos_FT3360', 'ST001428_hilic_pos_FT4031'), ('ST001428_hilic_pos_FT1374', 'ST001849_hilic_pos_FT1432'), ('ST001849_hilic_pos_FT1522', 'ST001428_hilic_pos_FT1463'), ('ST001849_hilic_pos_FT4324', 'ST001428_hilic_pos_FT5607'), ('ST001849_hilic_pos_FT5898', 'ST001428_hilic_pos_FT7634'), ('ST001428_hilic_pos_FT7503', 'ST001849_hilic_pos_FT5809'), ('ST001849_hilic_pos_FT4533', 'ST001428_hilic_pos_FT5829'), ('ST001849_hilic_pos_FT6653', 'ST001428_hilic_pos_FT8618'), ('ST001849_hilic_pos_FT4342', 'ST001428_hilic_pos_FT5579'), ('ST001428_hilic_pos_FT4728', 'ST001849_hilic_pos_FT3779'), ('ST001849_hilic_pos_FT4997', 'ST001428_hilic_pos_FT6396'), ('ST001849_hilic_pos_FT6931', 'ST001428_hilic_pos_FT8894'), ('ST001428_hilic_pos_FT3192', 'ST001849_hilic_pos_FT2922'), ('ST001849_hilic_pos_FT1715', 'ST001428_hilic_pos_FT1636'), ('ST001428_hilic_pos_FT1713', 'ST001849_hilic_pos_FT1688'), ('ST001428_hilic_pos_FT772', 'ST001849_hilic_pos_FT896'), ('ST001849_hilic_pos_FT4824', 'ST001428_hilic_pos_FT6156'), ('ST001428_hilic_pos_FT5426', 'ST001849_hilic_pos_FT4228'), ('ST001428_hilic_pos_FT665', 'ST001849_hilic_pos_FT810'), ('ST001428_hilic_pos_FT6704', 'ST001849_hilic_pos_FT5252'), ('ST001849_hilic_pos_FT4058', 'ST001428_hilic_pos_FT5289'), ('ST001849_hilic_pos_FT3165', 'ST001428_hilic_pos_FT3675'), ('ST001849_hilic_pos_FT5113', 'ST001428_hilic_pos_FT6568'), ('ST001428_hilic_pos_FT7932', 'ST001849_hilic_pos_FT6117'), ('ST001428_hilic_pos_FT6602', 'ST001849_hilic_pos_FT5183'), ('ST001849_hilic_pos_FT3033', 'ST001428_hilic_pos_FT3397'), ('ST001849_hilic_pos_FT5899', 'ST001428_hilic_pos_FT7638'), ('ST001849_hilic_pos_FT4825', 'ST001428_hilic_pos_FT6142'), ('ST001849_hilic_pos_FT5350', 'ST001428_hilic_pos_FT6776'), ('ST001849_hilic_pos_FT3518', 'ST001428_hilic_pos_FT4356'), ('ST001428_hilic_pos_FT4063', 'ST001849_hilic_pos_FT3395'), ('ST001428_hilic_pos_FT471', 'ST001849_hilic_pos_FT714'), ('ST001849_hilic_pos_FT2296', 'ST001428_hilic_pos_FT2395'), ('ST001428_hilic_pos_FT1553', 'ST001849_hilic_pos_FT1656'), ('ST001849_hilic_pos_FT6968', 'ST001428_hilic_pos_FT8948'), ('ST001428_hilic_pos_FT3746', 'ST001849_hilic_pos_FT3213'), ('ST001428_hilic_pos_FT6251', 'ST001849_hilic_pos_FT4856'), ('ST001849_hilic_pos_FT6340', 'ST001428_hilic_pos_FT8173'), ('ST001849_hilic_pos_FT427', 'ST001428_hilic_pos_FT258'), ('ST001849_hilic_pos_FT1994', 'ST001428_hilic_pos_FT2057'), ('ST001428_hilic_pos_FT1052', 'ST001849_hilic_pos_FT1104'), ('ST001849_hilic_pos_FT1840', 'ST001428_hilic_pos_FT1816'), ('ST001849_hilic_pos_FT4763', 'ST001428_hilic_pos_FT6097'), ('ST001849_hilic_pos_FT6732', 'ST001428_hilic_pos_FT8696'), ('ST001428_hilic_pos_FT7986', 'ST001849_hilic_pos_FT6203'), ('ST001428_hilic_pos_FT6767', 'ST001849_hilic_pos_FT5299'), ('ST001849_hilic_pos_FT4039', 'ST001428_hilic_pos_FT5213'), ('ST001849_hilic_pos_FT6958', 'ST001428_hilic_pos_FT8937'), ('ST001849_hilic_pos_FT3971', 'ST001428_hilic_pos_FT5106'), ('ST001849_hilic_pos_FT586', 'ST001428_hilic_pos_FT417'), ('ST001428_hilic_pos_FT1016', 'ST001849_hilic_pos_FT1164'), ('ST001849_hilic_pos_FT6264', 'ST001428_hilic_pos_FT8097'), ('ST001428_hilic_pos_FT4179', 'ST001849_hilic_pos_FT3428'), ('ST001849_hilic_pos_FT5247', 'ST001428_hilic_pos_FT6682'), ('ST001428_hilic_pos_FT6091', 'ST001849_hilic_pos_FT4755'), ('ST001849_hilic_pos_FT4647', 'ST001428_hilic_pos_FT5994'), ('ST001428_hilic_pos_FT5237', 'ST001849_hilic_pos_FT4081'), ('ST001849_hilic_pos_FT6962', 'ST001428_hilic_pos_FT8940'), ('ST001428_hilic_pos_FT2557', 'ST001849_hilic_pos_FT2423'), ('ST001849_hilic_pos_FT6109', 'ST001428_hilic_pos_FT7892'), ('ST001428_hilic_pos_FT898', 'ST001849_hilic_pos_FT983'), ('ST001428_hilic_pos_FT7315', 'ST001849_hilic_pos_FT5676'), ('ST001849_hilic_pos_FT6715', 'ST001428_hilic_pos_FT8680'), ('ST001428_hilic_pos_FT4486', 'ST001849_hilic_pos_FT3591'), ('ST001849_hilic_pos_FT3902', 'ST001428_hilic_pos_FT5032'), ('ST001428_hilic_pos_FT8611', 'ST001849_hilic_pos_FT6655'), ('ST001849_hilic_pos_FT739', 'ST001428_hilic_pos_FT611'), ('ST001849_hilic_pos_FT2021', 'ST001428_hilic_pos_FT2033'), ('ST001428_hilic_pos_FT6141', 'ST001849_hilic_pos_FT4827'), ('ST001428_hilic_pos_FT6638', 'ST001849_hilic_pos_FT5206'), ('ST001849_hilic_pos_FT324', 'ST001428_hilic_pos_FT136'), ('ST001428_hilic_pos_FT6631', 'ST001849_hilic_pos_FT5229'), ('ST001428_hilic_pos_FT7647', 'ST001849_hilic_pos_FT5919'), ('ST001428_hilic_pos_FT8889', 'ST001849_hilic_pos_FT6934'), ('ST001849_hilic_pos_FT6935', 'ST001428_hilic_pos_FT8890'), ('ST001428_hilic_pos_FT2773', 'ST001849_hilic_pos_FT2607'), ('ST001428_hilic_pos_FT525', 'ST001849_hilic_pos_FT711'), ('ST001849_hilic_pos_FT3023', 'ST001428_hilic_pos_FT3382'), ('ST001428_hilic_pos_FT7465', 'ST001849_hilic_pos_FT5791'), ('ST001849_hilic_pos_FT5975', 'ST001428_hilic_pos_FT7753'), ('ST001849_hilic_pos_FT1028', 'ST001428_hilic_pos_FT920'), ('ST001849_hilic_pos_FT6928', 'ST001428_hilic_pos_FT8900'), ('ST001849_hilic_pos_FT3442', 'ST001428_hilic_pos_FT4158'), ('ST001849_hilic_pos_FT2290', 'ST001428_hilic_pos_FT2404'), ('ST001428_hilic_pos_FT6521', 'ST001849_hilic_pos_FT5090'), ('ST001849_hilic_pos_FT6239', 'ST001428_hilic_pos_FT8047'), ('ST001428_hilic_pos_FT6895', 'ST001849_hilic_pos_FT5428'), ('ST001849_hilic_pos_FT3032', 'ST001428_hilic_pos_FT3425'), ('ST001849_hilic_pos_FT5420', 'ST001428_hilic_pos_FT6914'), ('ST001428_hilic_pos_FT7124', 'ST001849_hilic_pos_FT5569'), ('ST001849_hilic_pos_FT4563', 'ST001428_hilic_pos_FT5891'), ('ST001849_hilic_pos_FT5585', 'ST001428_hilic_pos_FT7180'), ('ST001428_hilic_pos_FT4613', 'ST001849_hilic_pos_FT3713'), ('ST001849_hilic_pos_FT5401', 'ST001428_hilic_pos_FT6889'), ('ST001849_hilic_pos_FT5500', 'ST001428_hilic_pos_FT7009'), ('ST001849_hilic_pos_FT5270', 'ST001428_hilic_pos_FT6701'), ('ST001849_hilic_pos_FT5730', 'ST001428_hilic_pos_FT7411'), ('ST001428_hilic_pos_FT8837', 'ST001849_hilic_pos_FT6880'), ('ST001428_hilic_pos_FT7304', 'ST001849_hilic_pos_FT5673'), ('ST001428_hilic_pos_FT1827', 'ST001849_hilic_pos_FT1882'), ('ST001428_hilic_pos_FT3438', 'ST001849_hilic_pos_FT2978'), ('ST001849_hilic_pos_FT1085', 'ST001428_hilic_pos_FT938'), ('ST001849_hilic_pos_FT2881', 'ST001428_hilic_pos_FT3153'), ('ST001428_hilic_pos_FT4641', 'ST001849_hilic_pos_FT3692'), ('ST001849_hilic_pos_FT5646', 'ST001428_hilic_pos_FT7266'), ('ST001849_hilic_pos_FT5891', 'ST001428_hilic_pos_FT7599'), ('ST001849_hilic_pos_FT2504', 'ST001428_hilic_pos_FT2626'), ('ST001428_hilic_pos_FT6586', 'ST001849_hilic_pos_FT5167'), ('ST001849_hilic_pos_FT6299', 'ST001428_hilic_pos_FT8146'), ('ST001428_hilic_pos_FT8692', 'ST001849_hilic_pos_FT6737'), ('ST001849_hilic_pos_FT2954', 'ST001428_hilic_pos_FT3271'), ('ST001428_hilic_pos_FT5728', 'ST001849_hilic_pos_FT4485'), ('ST001428_hilic_pos_FT7146', 'ST001849_hilic_pos_FT5571'), ('ST001849_hilic_pos_FT5823', 'ST001428_hilic_pos_FT7487'), ('ST001428_hilic_pos_FT669', 'ST001849_hilic_pos_FT794'), ('ST001428_hilic_pos_FT8711', 'ST001849_hilic_pos_FT6748'), ('ST001849_hilic_pos_FT6550', 'ST001428_hilic_pos_FT8505'), ('ST001849_hilic_pos_FT1337', 'ST001428_hilic_pos_FT1202'), ('ST001849_hilic_pos_FT696', 'ST001428_hilic_pos_FT494'), ('ST001428_hilic_pos_FT3326', 'ST001849_hilic_pos_FT2949'), ('ST001849_hilic_pos_FT600', 'ST001428_hilic_pos_FT452'), ('ST001849_hilic_pos_FT3206', 'ST001428_hilic_pos_FT3773'), ('ST001849_hilic_pos_FT2968', 'ST001428_hilic_pos_FT3306'), ('ST001849_hilic_pos_FT3378', 'ST001428_hilic_pos_FT4107'), ('ST001428_hilic_pos_FT5987', 'ST001849_hilic_pos_FT4670'), ('ST001428_hilic_pos_FT7680', 'ST001849_hilic_pos_FT5948'), ('ST001849_hilic_pos_FT5670', 'ST001428_hilic_pos_FT7339'), ('ST001849_hilic_pos_FT5925', 'ST001428_hilic_pos_FT7661'), ('ST001849_hilic_pos_FT1221', 'ST001428_hilic_pos_FT1124'), ('ST001849_hilic_pos_FT6872', 'ST001428_hilic_pos_FT8816'), ('ST001849_hilic_pos_FT4931', 'ST001428_hilic_pos_FT6357'), ('ST001849_hilic_pos_FT4364', 'ST001428_hilic_pos_FT5644'), ('ST001849_hilic_pos_FT2446', 'ST001428_hilic_pos_FT2514'), ('ST001428_hilic_pos_FT2585', 'ST001849_hilic_pos_FT2508'), ('ST001849_hilic_pos_FT2391', 'ST001428_hilic_pos_FT2453'), ('ST001849_hilic_pos_FT3624', 'ST001428_hilic_pos_FT4519'), ('ST001428_hilic_pos_FT6439', 'ST001849_hilic_pos_FT5051'), ('ST001849_hilic_pos_FT4100', 'ST001428_hilic_pos_FT5229'), ('ST001428_hilic_pos_FT4574', 'ST001849_hilic_pos_FT3666'), ('ST001849_hilic_pos_FT3561', 'ST001428_hilic_pos_FT4375'), ('ST001849_hilic_pos_FT6414', 'ST001428_hilic_pos_FT8284'), ('ST001849_hilic_pos_FT1041', 'ST001428_hilic_pos_FT912'), ('ST001428_hilic_pos_FT6204', 'ST001849_hilic_pos_FT4797'), ('ST001849_hilic_pos_FT6871', 'ST001428_hilic_pos_FT8820'), ('ST001849_hilic_pos_FT3727', 'ST001428_hilic_pos_FT4682'), ('ST001849_hilic_pos_FT6889', 'ST001428_hilic_pos_FT8839'), ('ST001428_hilic_pos_FT3376', 'ST001849_hilic_pos_FT3021'), ('ST001849_hilic_pos_FT2209', 'ST001428_hilic_pos_FT2309'), ('ST001849_hilic_pos_FT1583', 'ST001428_hilic_pos_FT1580'), ('ST001428_hilic_pos_FT4354', 'ST001849_hilic_pos_FT3524'), ('ST001849_hilic_pos_FT3892', 'ST001428_hilic_pos_FT4940'), ('ST001849_hilic_pos_FT2743', 'ST001428_hilic_pos_FT2951'), ('ST001849_hilic_pos_FT6876', 'ST001428_hilic_pos_FT8823'), ('ST001849_hilic_pos_FT1968', 'ST001428_hilic_pos_FT1966'), ('ST001849_hilic_pos_FT5426', 'ST001428_hilic_pos_FT6938'), ('ST001849_hilic_pos_FT6485', 'ST001428_hilic_pos_FT8393'), ('ST001849_hilic_pos_FT6769', 'ST001428_hilic_pos_FT8723'), ('ST001428_hilic_pos_FT2221', 'ST001849_hilic_pos_FT2173'), ('ST001428_hilic_pos_FT2705', 'ST001849_hilic_pos_FT2555'), ('ST001849_hilic_pos_FT6218', 'ST001428_hilic_pos_FT8046'), ('ST001428_hilic_pos_FT51', 'ST001849_hilic_pos_FT207'), ('ST001849_hilic_pos_FT1066', 'ST001428_hilic_pos_FT951'), ('ST001849_hilic_pos_FT3623', 'ST001428_hilic_pos_FT4521'), ('ST001428_hilic_pos_FT1482', 'ST001849_hilic_pos_FT1508'), ('ST001849_hilic_pos_FT3559', 'ST001428_hilic_pos_FT4320'), ('ST001428_hilic_pos_FT6606', 'ST001849_hilic_pos_FT5169'), ('ST001849_hilic_pos_FT1879', 'ST001428_hilic_pos_FT1831'), ('ST001849_hilic_pos_FT923', 'ST001428_hilic_pos_FT789'), ('ST001849_hilic_pos_FT7134', 'ST001428_hilic_pos_FT9104'), ('ST001428_hilic_pos_FT4101', 'ST001849_hilic_pos_FT3397'), ('ST001849_hilic_pos_FT4712', 'ST001428_hilic_pos_FT6025'), ('ST001849_hilic_pos_FT6848', 'ST001428_hilic_pos_FT8797'), ('ST001849_hilic_pos_FT5682', 'ST001428_hilic_pos_FT7292'), ('ST001849_hilic_pos_FT2995', 'ST001428_hilic_pos_FT3444'), ('ST001849_hilic_pos_FT6695', 'ST001428_hilic_pos_FT8658'), ('ST001849_hilic_pos_FT1018', 'ST001428_hilic_pos_FT853'), ('ST001849_hilic_pos_FT6277', 'ST001428_hilic_pos_FT8128'), ('ST001849_hilic_pos_FT6326', 'ST001428_hilic_pos_FT8189'), ('ST001849_hilic_pos_FT618', 'ST001428_hilic_pos_FT458'), ('ST001428_hilic_pos_FT7382', 'ST001849_hilic_pos_FT5692'), ('ST001428_hilic_pos_FT8763', 'ST001849_hilic_pos_FT6822'), ('ST001849_hilic_pos_FT5327', 'ST001428_hilic_pos_FT6789'), ('ST001849_hilic_pos_FT5211', 'ST001428_hilic_pos_FT6649'), ('ST001849_hilic_pos_FT3374', 'ST001428_hilic_pos_FT4012'), ('ST001428_hilic_pos_FT7912', 'ST001849_hilic_pos_FT6100'), ('ST001428_hilic_pos_FT3242', 'ST001849_hilic_pos_FT2877'), ('ST001849_hilic_pos_FT2904', 'ST001428_hilic_pos_FT3174'), ('ST001428_hilic_pos_FT7987', 'ST001849_hilic_pos_FT6207'), ('ST001849_hilic_pos_FT6661', 'ST001428_hilic_pos_FT8612'), ('ST001428_hilic_pos_FT1797', 'ST001849_hilic_pos_FT1744'), ('ST001849_hilic_pos_FT6816', 'ST001428_hilic_pos_FT8764'), ('ST001428_hilic_pos_FT7459', 'ST001849_hilic_pos_FT5764'), ('ST001849_hilic_pos_FT4442', 'ST001428_hilic_pos_FT5763'), ('ST001849_hilic_pos_FT3898', 'ST001428_hilic_pos_FT4938'), ('ST001849_hilic_pos_FT6479', 'ST001428_hilic_pos_FT8391'), ('ST001849_hilic_pos_FT2198', 'ST001428_hilic_pos_FT2275'), ('ST001428_hilic_pos_FT7485', 'ST001849_hilic_pos_FT5763'), ('ST001428_hilic_pos_FT6103', 'ST001849_hilic_pos_FT4742'), ('ST001428_hilic_pos_FT1602', 'ST001849_hilic_pos_FT1626'), ('ST001428_hilic_pos_FT8619', 'ST001849_hilic_pos_FT6664'), ('ST001428_hilic_pos_FT8453', 'ST001849_hilic_pos_FT6507'), ('ST001428_hilic_pos_FT1288', 'ST001849_hilic_pos_FT1405'), ('ST001849_hilic_pos_FT3677', 'ST001428_hilic_pos_FT4648'), ('ST001849_hilic_pos_FT6193', 'ST001428_hilic_pos_FT8005'), ('ST001849_hilic_pos_FT3355', 'ST001428_hilic_pos_FT4026'), ('ST001849_hilic_pos_FT3414', 'ST001428_hilic_pos_FT4175'), ('ST001428_hilic_pos_FT461', 'ST001849_hilic_pos_FT620'), ('ST001849_hilic_pos_FT6788', 'ST001428_hilic_pos_FT8757'), ('ST001849_hilic_pos_FT1792', 'ST001428_hilic_pos_FT1789'), ('ST001849_hilic_pos_FT6451', 'ST001428_hilic_pos_FT8349'), ('ST001849_hilic_pos_FT4113', 'ST001428_hilic_pos_FT5301'), ('ST001428_hilic_pos_FT1038', 'ST001849_hilic_pos_FT1145'), ('ST001428_hilic_pos_FT7706', 'ST001849_hilic_pos_FT5964'), ('ST001428_hilic_pos_FT3486', 'ST001849_hilic_pos_FT3086'), ('ST001849_hilic_pos_FT4741', 'ST001428_hilic_pos_FT6100'), ('ST001849_hilic_pos_FT5431', 'ST001428_hilic_pos_FT6917'), ('ST001849_hilic_pos_FT5227', 'ST001428_hilic_pos_FT6647'), ('ST001428_hilic_pos_FT8872', 'ST001849_hilic_pos_FT6919'), ('ST001428_hilic_pos_FT722', 'ST001849_hilic_pos_FT837'), ('ST001849_hilic_pos_FT6434', 'ST001428_hilic_pos_FT8333'), ('ST001849_hilic_pos_FT4965', 'ST001428_hilic_pos_FT6343'), ('ST001428_hilic_pos_FT7276', 'ST001849_hilic_pos_FT5621'), ('ST001849_hilic_pos_FT6163', 'ST001428_hilic_pos_FT7969'), ('ST001428_hilic_pos_FT7816', 'ST001849_hilic_pos_FT6031'), ('ST001849_hilic_pos_FT3754', 'ST001428_hilic_pos_FT4763'), ('ST001428_hilic_pos_FT5493', 'ST001849_hilic_pos_FT4285'), ('ST001849_hilic_pos_FT2814', 'ST001428_hilic_pos_FT3121'), ('ST001428_hilic_pos_FT162', 'ST001849_hilic_pos_FT318'), ('ST001849_hilic_pos_FT3629', 'ST001428_hilic_pos_FT4504'), ('ST001428_hilic_pos_FT6268', 'ST001849_hilic_pos_FT4911'), ('ST001849_hilic_pos_FT5101', 'ST001428_hilic_pos_FT6500'), ('ST001849_hilic_pos_FT6393', 'ST001428_hilic_pos_FT8260'), ('ST001849_hilic_pos_FT2347', 'ST001428_hilic_pos_FT2449'), ('ST001849_hilic_pos_FT622', 'ST001428_hilic_pos_FT455'), ('ST001849_hilic_pos_FT4045', 'ST001428_hilic_pos_FT5136'), ('ST001428_hilic_pos_FT259', 'ST001849_hilic_pos_FT452'), ('ST001849_hilic_pos_FT1911', 'ST001428_hilic_pos_FT1940'), ('ST001849_hilic_pos_FT2378', 'ST001428_hilic_pos_FT2488'), ('ST001428_hilic_pos_FT8941', 'ST001849_hilic_pos_FT6960'), ('ST001428_hilic_pos_FT7726', 'ST001849_hilic_pos_FT5962'), ('ST001849_hilic_pos_FT3921', 'ST001428_hilic_pos_FT4935'), ('ST001849_hilic_pos_FT5050', 'ST001428_hilic_pos_FT6443'), ('ST001849_hilic_pos_FT4221', 'ST001428_hilic_pos_FT5435'), ('ST001849_hilic_pos_FT6200', 'ST001428_hilic_pos_FT8003'), ('ST001428_hilic_pos_FT8596', 'ST001849_hilic_pos_FT6638'), ('ST001849_hilic_pos_FT6809', 'ST001428_hilic_pos_FT8752'), ('ST001849_hilic_pos_FT4404', 'ST001428_hilic_pos_FT5649'), ('ST001849_hilic_pos_FT6959', 'ST001428_hilic_pos_FT8936'), ('ST001849_hilic_pos_FT960', 'ST001428_hilic_pos_FT831'), ('ST001849_hilic_pos_FT3478', 'ST001428_hilic_pos_FT4223'), ('ST001428_hilic_pos_FT7872', 'ST001849_hilic_pos_FT6069'), ('ST001428_hilic_pos_FT919', 'ST001849_hilic_pos_FT1055'), ('ST001849_hilic_pos_FT4268', 'ST001428_hilic_pos_FT5503'), ('ST001849_hilic_pos_FT2859', 'ST001428_hilic_pos_FT3188'), ('ST001428_hilic_pos_FT104', 'ST001849_hilic_pos_FT253'), ('ST001849_hilic_pos_FT3289', 'ST001428_hilic_pos_FT3943'), ('ST001849_hilic_pos_FT3245', 'ST001428_hilic_pos_FT3865'), ('ST001849_hilic_pos_FT2177', 'ST001428_hilic_pos_FT2197'), ('ST001428_hilic_pos_FT8917', 'ST001849_hilic_pos_FT6943'), ('ST001428_hilic_pos_FT3580', 'ST001849_hilic_pos_FT3099'), ('ST001428_hilic_pos_FT408', 'ST001849_hilic_pos_FT568'), ('ST001428_hilic_pos_FT3904', 'ST001849_hilic_pos_FT3252'), ('ST001428_hilic_pos_FT7673', 'ST001849_hilic_pos_FT5939'), ('ST001428_hilic_pos_FT8385', 'ST001849_hilic_pos_FT6475'), ('ST001849_hilic_pos_FT2364', 'ST001428_hilic_pos_FT2503'), ('ST001428_hilic_pos_FT2806', 'ST001849_hilic_pos_FT2616'), ('ST001428_hilic_pos_FT1796', 'ST001849_hilic_pos_FT1753'), ('ST001849_hilic_pos_FT5671', 'ST001428_hilic_pos_FT7319'), ('ST001849_hilic_pos_FT5622', 'ST001428_hilic_pos_FT7261'), ('ST001849_hilic_pos_FT3670', 'ST001428_hilic_pos_FT4542'), ('ST001428_hilic_pos_FT7047', 'ST001849_hilic_pos_FT5504'), ('ST001428_hilic_pos_FT1180', 'ST001849_hilic_pos_FT1266'), ('ST001428_hilic_pos_FT7419', 'ST001849_hilic_pos_FT5754'), ('ST001428_hilic_pos_FT7962', 'ST001849_hilic_pos_FT6170'), ('ST001849_hilic_pos_FT4782', 'ST001428_hilic_pos_FT6092'), ('ST001849_hilic_pos_FT3854', 'ST001428_hilic_pos_FT4882'), ('ST001428_hilic_pos_FT5492', 'ST001849_hilic_pos_FT4260'), ('ST001849_hilic_pos_FT825', 'ST001428_hilic_pos_FT641'), ('ST001849_hilic_pos_FT2203', 'ST001428_hilic_pos_FT2274'), ('ST001849_hilic_pos_FT5026', 'ST001428_hilic_pos_FT6468'), ('ST001428_hilic_pos_FT7283', 'ST001849_hilic_pos_FT5653'), ('ST001428_hilic_pos_FT235', 'ST001849_hilic_pos_FT392'), ('ST001849_hilic_pos_FT3221', 'ST001428_hilic_pos_FT3699'), ('ST001849_hilic_pos_FT4325', 'ST001428_hilic_pos_FT5587'), ('ST001849_hilic_pos_FT5995', 'ST001428_hilic_pos_FT7769'), ('ST001849_hilic_pos_FT2781', 'ST001428_hilic_pos_FT2970'), ('ST001428_hilic_pos_FT3573', 'ST001849_hilic_pos_FT3088'), ('ST001428_hilic_pos_FT8337', 'ST001849_hilic_pos_FT6443'), ('ST001428_hilic_pos_FT5977', 'ST001849_hilic_pos_FT4641'), ('ST001849_hilic_pos_FT1872', 'ST001428_hilic_pos_FT1829'), ('ST001849_hilic_pos_FT5695', 'ST001428_hilic_pos_FT7384'), ('ST001849_hilic_pos_FT5351', 'ST001428_hilic_pos_FT6810'), ('ST001849_hilic_pos_FT1992', 'ST001428_hilic_pos_FT2043'), ('ST001428_hilic_pos_FT7754', 'ST001849_hilic_pos_FT5987'), ('ST001849_hilic_pos_FT5814', 'ST001428_hilic_pos_FT7496'), ('ST001849_hilic_pos_FT5873', 'ST001428_hilic_pos_FT7581'), ('ST001849_hilic_pos_FT6752', 'ST001428_hilic_pos_FT8706'), ('ST001849_hilic_pos_FT1252', 'ST001428_hilic_pos_FT1164'), ('ST001428_hilic_pos_FT1445', 'ST001849_hilic_pos_FT1462'), ('ST001428_hilic_pos_FT6837', 'ST001849_hilic_pos_FT5382'), ('ST001428_hilic_pos_FT3503', 'ST001849_hilic_pos_FT3115'), ('ST001849_hilic_pos_FT658', 'ST001428_hilic_pos_FT491'), ('ST001428_hilic_pos_FT1795', 'ST001849_hilic_pos_FT1799'), ('ST001849_hilic_pos_FT2436', 'ST001428_hilic_pos_FT2509'), ('ST001849_hilic_pos_FT5230', 'ST001428_hilic_pos_FT6628'), ('ST001849_hilic_pos_FT6916', 'ST001428_hilic_pos_FT8874'), ('ST001428_hilic_pos_FT6075', 'ST001849_hilic_pos_FT4766'), ('ST001849_hilic_pos_FT5779', 'ST001428_hilic_pos_FT7466'), ('ST001849_hilic_pos_FT6235', 'ST001428_hilic_pos_FT8065'), ('ST001849_hilic_pos_FT2969', 'ST001428_hilic_pos_FT3338'), ('ST001849_hilic_pos_FT1353', 'ST001428_hilic_pos_FT1308'), ('ST001849_hilic_pos_FT3098', 'ST001428_hilic_pos_FT3523'), ('ST001849_hilic_pos_FT2587', 'ST001428_hilic_pos_FT2708'), ('ST001849_hilic_pos_FT6272', 'ST001428_hilic_pos_FT8117'), ('ST001849_hilic_pos_FT5831', 'ST001428_hilic_pos_FT7527'), ('ST001849_hilic_pos_FT5329', 'ST001428_hilic_pos_FT6791'), ('ST001849_hilic_pos_FT5207', 'ST001428_hilic_pos_FT6665'), ('ST001849_hilic_pos_FT5405', 'ST001428_hilic_pos_FT6913'), ('ST001428_hilic_pos_FT7546', 'ST001849_hilic_pos_FT5852'), ('ST001428_hilic_pos_FT4212', 'ST001849_hilic_pos_FT3421'), ('ST001428_hilic_pos_FT6497', 'ST001849_hilic_pos_FT5077'), ('ST001849_hilic_pos_FT3063', 'ST001428_hilic_pos_FT3480'), ('ST001849_hilic_pos_FT807', 'ST001428_hilic_pos_FT667'), ('ST001849_hilic_pos_FT6891', 'ST001428_hilic_pos_FT8849'), ('ST001849_hilic_pos_FT6436', 'ST001428_hilic_pos_FT8314'), ('ST001849_hilic_pos_FT5047', 'ST001428_hilic_pos_FT6438'), ('ST001849_hilic_pos_FT6617', 'ST001428_hilic_pos_FT8583'), ('ST001428_hilic_pos_FT74', 'ST001849_hilic_pos_FT277'), ('ST001849_hilic_pos_FT301', 'ST001428_hilic_pos_FT176'), ('ST001849_hilic_pos_FT422', 'ST001428_hilic_pos_FT252'), ('ST001849_hilic_pos_FT387', 'ST001428_hilic_pos_FT247'), ('ST001849_hilic_pos_FT357', 'ST001428_hilic_pos_FT199'), ('ST001428_hilic_pos_FT306', 'ST001849_hilic_pos_FT465'), ('ST001849_hilic_pos_FT495', 'ST001428_hilic_pos_FT270'), ('ST001849_hilic_pos_FT440', 'ST001428_hilic_pos_FT260'), ('ST001849_hilic_pos_FT699', 'ST001428_hilic_pos_FT501'), ('ST001849_hilic_pos_FT811', 'ST001428_hilic_pos_FT623'), ('ST001428_hilic_pos_FT709', 'ST001849_hilic_pos_FT823'), ('ST001428_hilic_pos_FT810', 'ST001849_hilic_pos_FT934'), ('ST001428_hilic_pos_FT916', 'ST001849_hilic_pos_FT1032'), ('ST001849_hilic_pos_FT1081', 'ST001428_hilic_pos_FT987'), ('ST001849_hilic_pos_FT1093', 'ST001428_hilic_pos_FT991'), ('ST001428_hilic_pos_FT942', 'ST001849_hilic_pos_FT1069'), ('ST001849_hilic_pos_FT1054', 'ST001428_hilic_pos_FT974'), ('ST001849_hilic_pos_FT1123', 'ST001428_hilic_pos_FT1077'), ('ST001849_hilic_pos_FT1129', 'ST001428_hilic_pos_FT1075'), ('ST001428_hilic_pos_FT1015', 'ST001849_hilic_pos_FT1095'), ('ST001428_hilic_pos_FT1126', 'ST001849_hilic_pos_FT1258'), ('ST001849_hilic_pos_FT1256', 'ST001428_hilic_pos_FT1099'), ('ST001849_hilic_pos_FT1246', 'ST001428_hilic_pos_FT1176'), ('ST001849_hilic_pos_FT1257', 'ST001428_hilic_pos_FT1144'), ('ST001428_hilic_pos_FT1157', 'ST001849_hilic_pos_FT1226'), ('ST001428_hilic_pos_FT1196', 'ST001849_hilic_pos_FT1301'), ('ST001428_hilic_pos_FT1195', 'ST001849_hilic_pos_FT1279'), ('ST001428_hilic_pos_FT1290', 'ST001849_hilic_pos_FT1422'), ('ST001428_hilic_pos_FT1304', 'ST001849_hilic_pos_FT1358'), ('ST001428_hilic_pos_FT1524', 'ST001849_hilic_pos_FT1531'), ('ST001849_hilic_pos_FT1496', 'ST001428_hilic_pos_FT1469'), ('ST001428_hilic_pos_FT1724', 'ST001849_hilic_pos_FT1729'), ('ST001428_hilic_pos_FT1653', 'ST001849_hilic_pos_FT1717'), ('ST001849_hilic_pos_FT1762', 'ST001428_hilic_pos_FT1737'), ('ST001849_hilic_pos_FT1754', 'ST001428_hilic_pos_FT1752'), ('ST001428_hilic_pos_FT1756', 'ST001849_hilic_pos_FT1757'), ('ST001849_hilic_pos_FT1857', 'ST001428_hilic_pos_FT1865'), ('ST001428_hilic_pos_FT1983', 'ST001849_hilic_pos_FT1941'), ('ST001849_hilic_pos_FT1937', 'ST001428_hilic_pos_FT1976'), ('ST001849_hilic_pos_FT1959', 'ST001428_hilic_pos_FT1959'), ('ST001849_hilic_pos_FT1971', 'ST001428_hilic_pos_FT1982'), ('ST001428_hilic_pos_FT2168', 'ST001849_hilic_pos_FT2040'), ('ST001849_hilic_pos_FT2285', 'ST001428_hilic_pos_FT2390'), ('ST001849_hilic_pos_FT2372', 'ST001428_hilic_pos_FT2487'), ('ST001428_hilic_pos_FT3913', 'ST001849_hilic_pos_FT3258'), ('ST001849_hilic_pos_FT3314', 'ST001428_hilic_pos_FT3927'), ('ST001428_hilic_pos_FT4060', 'ST001849_hilic_pos_FT3346'), ('ST001428_hilic_pos_FT4437', 'ST001849_hilic_pos_FT3587'), ('ST001849_hilic_pos_FT4811', 'ST001428_hilic_pos_FT6162'), ('ST001849_hilic_pos_FT5369', 'ST001428_hilic_pos_FT6879'), ('ST001849_hilic_pos_FT5374', 'ST001428_hilic_pos_FT6881'), ('ST001428_hilic_pos_FT8714', 'ST001849_hilic_pos_FT6763'), ('ST001849_hilic_pos_FT6761', 'ST001428_hilic_pos_FT8715'), ('ST001849_hilic_pos_FT6855', 'ST001428_hilic_pos_FT8810')])"
      ]
     },
     "execution_count": 23,
     "metadata": {},
     "output_type": "execute_result"
    }
   ],
   "source": [
    "H.edges()"
   ]
  },
  {
   "cell_type": "code",
   "execution_count": 15,
   "metadata": {},
   "outputs": [
    {
     "ename": "TypeError",
     "evalue": "object of type 'generator' has no len()",
     "output_type": "error",
     "traceback": [
      "\u001b[0;31m---------------------------------------------------------------------------\u001b[0m",
      "\u001b[0;31mTypeError\u001b[0m                                 Traceback (most recent call last)",
      "Cell \u001b[0;32mIn[15], line 1\u001b[0m\n\u001b[0;32m----> 1\u001b[0m \u001b[38;5;28;43mlen\u001b[39;49m\u001b[43m(\u001b[49m\u001b[43mnx\u001b[49m\u001b[38;5;241;43m.\u001b[39;49m\u001b[43mconnected_components\u001b[49m\u001b[43m(\u001b[49m\u001b[43mG\u001b[49m\u001b[43m)\u001b[49m\u001b[43m)\u001b[49m\n",
      "\u001b[0;31mTypeError\u001b[0m: object of type 'generator' has no len()"
     ]
    }
   ],
   "source": [
    "len(nx.connected_components(G))\n"
   ]
  },
  {
   "cell_type": "code",
   "execution_count": null,
   "metadata": {},
   "outputs": [],
   "source": []
  },
  {
   "cell_type": "code",
   "execution_count": null,
   "metadata": {},
   "outputs": [],
   "source": []
  },
  {
   "cell_type": "code",
   "execution_count": null,
   "metadata": {},
   "outputs": [],
   "source": []
  },
  {
   "cell_type": "markdown",
   "metadata": {},
   "source": []
  },
  {
   "cell_type": "code",
   "execution_count": null,
   "metadata": {},
   "outputs": [],
   "source": [
    "\n",
    "matching = nx.bipartite.maximum_matching(G)\n",
    "\n",
    "H = nx.Graph(matching)"
   ]
  },
  {
   "cell_type": "code",
   "execution_count": 13,
   "metadata": {},
   "outputs": [
    {
     "ename": "TypeError",
     "evalue": "object of type 'generator' has no len()",
     "output_type": "error",
     "traceback": [
      "\u001b[0;31m---------------------------------------------------------------------------\u001b[0m",
      "\u001b[0;31mTypeError\u001b[0m                                 Traceback (most recent call last)",
      "Cell \u001b[0;32mIn[13], line 1\u001b[0m\n\u001b[0;32m----> 1\u001b[0m \u001b[38;5;28;43mlen\u001b[39;49m\u001b[43m(\u001b[49m\u001b[43mnx\u001b[49m\u001b[38;5;241;43m.\u001b[39;49m\u001b[43mconnected_components\u001b[49m\u001b[43m(\u001b[49m\u001b[43mG\u001b[49m\u001b[43m)\u001b[49m\u001b[43m)\u001b[49m\n",
      "\u001b[0;31mTypeError\u001b[0m: object of type 'generator' has no len()"
     ]
    }
   ],
   "source": [
    "len(nx.connected_components(G))"
   ]
  },
  {
   "cell_type": "code",
   "execution_count": 9,
   "metadata": {},
   "outputs": [
    {
     "ename": "AmbiguousSolution",
     "evalue": "Disconnected graph: Ambiguous solution for bipartite sets.",
     "output_type": "error",
     "traceback": [
      "\u001b[0;31m---------------------------------------------------------------------------\u001b[0m",
      "\u001b[0;31mAmbiguousSolution\u001b[0m                         Traceback (most recent call last)",
      "Cell \u001b[0;32mIn[9], line 1\u001b[0m\n\u001b[0;32m----> 1\u001b[0m matching \u001b[38;5;241m=\u001b[39m \u001b[43mnx\u001b[49m\u001b[38;5;241;43m.\u001b[39;49m\u001b[43mbipartite\u001b[49m\u001b[38;5;241;43m.\u001b[39;49m\u001b[43mmaximum_matching\u001b[49m\u001b[43m(\u001b[49m\u001b[43mG\u001b[49m\u001b[43m)\u001b[49m\n",
      "File \u001b[0;32m~/opt/miniconda3/envs/mzlearn_3/lib/python3.9/site-packages/networkx/utils/backends.py:412\u001b[0m, in \u001b[0;36m_dispatch.__call__\u001b[0;34m(self, backend, *args, **kwargs)\u001b[0m\n\u001b[1;32m    409\u001b[0m \u001b[38;5;28;01mdef\u001b[39;00m \u001b[38;5;21m__call__\u001b[39m(\u001b[38;5;28mself\u001b[39m, \u001b[38;5;241m/\u001b[39m, \u001b[38;5;241m*\u001b[39margs, backend\u001b[38;5;241m=\u001b[39m\u001b[38;5;28;01mNone\u001b[39;00m, \u001b[38;5;241m*\u001b[39m\u001b[38;5;241m*\u001b[39mkwargs):\n\u001b[1;32m    410\u001b[0m     \u001b[38;5;28;01mif\u001b[39;00m \u001b[38;5;129;01mnot\u001b[39;00m backends:\n\u001b[1;32m    411\u001b[0m         \u001b[38;5;66;03m# Fast path if no backends are installed\u001b[39;00m\n\u001b[0;32m--> 412\u001b[0m         \u001b[38;5;28;01mreturn\u001b[39;00m \u001b[38;5;28;43mself\u001b[39;49m\u001b[38;5;241;43m.\u001b[39;49m\u001b[43morig_func\u001b[49m\u001b[43m(\u001b[49m\u001b[38;5;241;43m*\u001b[39;49m\u001b[43margs\u001b[49m\u001b[43m,\u001b[49m\u001b[43m \u001b[49m\u001b[38;5;241;43m*\u001b[39;49m\u001b[38;5;241;43m*\u001b[39;49m\u001b[43mkwargs\u001b[49m\u001b[43m)\u001b[49m\n\u001b[1;32m    414\u001b[0m     \u001b[38;5;66;03m# Use `backend_name` in this function instead of `backend`\u001b[39;00m\n\u001b[1;32m    415\u001b[0m     backend_name \u001b[38;5;241m=\u001b[39m backend\n",
      "File \u001b[0;32m~/opt/miniconda3/envs/mzlearn_3/lib/python3.9/site-packages/networkx/algorithms/bipartite/matching.py:156\u001b[0m, in \u001b[0;36mhopcroft_karp_matching\u001b[0;34m(G, top_nodes)\u001b[0m\n\u001b[1;32m    153\u001b[0m     \u001b[38;5;28;01mreturn\u001b[39;00m \u001b[38;5;28;01mTrue\u001b[39;00m\n\u001b[1;32m    155\u001b[0m \u001b[38;5;66;03m# Initialize the \"global\" variables that maintain state during the search.\u001b[39;00m\n\u001b[0;32m--> 156\u001b[0m left, right \u001b[38;5;241m=\u001b[39m \u001b[43mbipartite_sets\u001b[49m\u001b[43m(\u001b[49m\u001b[43mG\u001b[49m\u001b[43m,\u001b[49m\u001b[43m \u001b[49m\u001b[43mtop_nodes\u001b[49m\u001b[43m)\u001b[49m\n\u001b[1;32m    157\u001b[0m leftmatches \u001b[38;5;241m=\u001b[39m {v: \u001b[38;5;28;01mNone\u001b[39;00m \u001b[38;5;28;01mfor\u001b[39;00m v \u001b[38;5;129;01min\u001b[39;00m left}\n\u001b[1;32m    158\u001b[0m rightmatches \u001b[38;5;241m=\u001b[39m {v: \u001b[38;5;28;01mNone\u001b[39;00m \u001b[38;5;28;01mfor\u001b[39;00m v \u001b[38;5;129;01min\u001b[39;00m right}\n",
      "File \u001b[0;32m~/opt/miniconda3/envs/mzlearn_3/lib/python3.9/site-packages/networkx/utils/backends.py:412\u001b[0m, in \u001b[0;36m_dispatch.__call__\u001b[0;34m(self, backend, *args, **kwargs)\u001b[0m\n\u001b[1;32m    409\u001b[0m \u001b[38;5;28;01mdef\u001b[39;00m \u001b[38;5;21m__call__\u001b[39m(\u001b[38;5;28mself\u001b[39m, \u001b[38;5;241m/\u001b[39m, \u001b[38;5;241m*\u001b[39margs, backend\u001b[38;5;241m=\u001b[39m\u001b[38;5;28;01mNone\u001b[39;00m, \u001b[38;5;241m*\u001b[39m\u001b[38;5;241m*\u001b[39mkwargs):\n\u001b[1;32m    410\u001b[0m     \u001b[38;5;28;01mif\u001b[39;00m \u001b[38;5;129;01mnot\u001b[39;00m backends:\n\u001b[1;32m    411\u001b[0m         \u001b[38;5;66;03m# Fast path if no backends are installed\u001b[39;00m\n\u001b[0;32m--> 412\u001b[0m         \u001b[38;5;28;01mreturn\u001b[39;00m \u001b[38;5;28;43mself\u001b[39;49m\u001b[38;5;241;43m.\u001b[39;49m\u001b[43morig_func\u001b[49m\u001b[43m(\u001b[49m\u001b[38;5;241;43m*\u001b[39;49m\u001b[43margs\u001b[49m\u001b[43m,\u001b[49m\u001b[43m \u001b[49m\u001b[38;5;241;43m*\u001b[39;49m\u001b[38;5;241;43m*\u001b[39;49m\u001b[43mkwargs\u001b[49m\u001b[43m)\u001b[49m\n\u001b[1;32m    414\u001b[0m     \u001b[38;5;66;03m# Use `backend_name` in this function instead of `backend`\u001b[39;00m\n\u001b[1;32m    415\u001b[0m     backend_name \u001b[38;5;241m=\u001b[39m backend\n",
      "File \u001b[0;32m~/opt/miniconda3/envs/mzlearn_3/lib/python3.9/site-packages/networkx/algorithms/bipartite/basic.py:217\u001b[0m, in \u001b[0;36msets\u001b[0;34m(G, top_nodes)\u001b[0m\n\u001b[1;32m    215\u001b[0m \u001b[38;5;28;01mif\u001b[39;00m \u001b[38;5;129;01mnot\u001b[39;00m is_connected(G):\n\u001b[1;32m    216\u001b[0m     msg \u001b[38;5;241m=\u001b[39m \u001b[38;5;124m\"\u001b[39m\u001b[38;5;124mDisconnected graph: Ambiguous solution for bipartite sets.\u001b[39m\u001b[38;5;124m\"\u001b[39m\n\u001b[0;32m--> 217\u001b[0m     \u001b[38;5;28;01mraise\u001b[39;00m nx\u001b[38;5;241m.\u001b[39mAmbiguousSolution(msg)\n\u001b[1;32m    218\u001b[0m c \u001b[38;5;241m=\u001b[39m color(G)\n\u001b[1;32m    219\u001b[0m X \u001b[38;5;241m=\u001b[39m {n \u001b[38;5;28;01mfor\u001b[39;00m n, is_top \u001b[38;5;129;01min\u001b[39;00m c\u001b[38;5;241m.\u001b[39mitems() \u001b[38;5;28;01mif\u001b[39;00m is_top}\n",
      "\u001b[0;31mAmbiguousSolution\u001b[0m: Disconnected graph: Ambiguous solution for bipartite sets."
     ]
    }
   ],
   "source": [
    "matching = nx.bipartite.maximum_matching(G)\n"
   ]
  },
  {
   "cell_type": "code",
   "execution_count": null,
   "metadata": {},
   "outputs": [],
   "source": []
  }
 ],
 "metadata": {
  "kernelspec": {
   "display_name": "mzlearn_3",
   "language": "python",
   "name": "python3"
  },
  "language_info": {
   "codemirror_mode": {
    "name": "ipython",
    "version": 3
   },
   "file_extension": ".py",
   "mimetype": "text/x-python",
   "name": "python",
   "nbconvert_exporter": "python",
   "pygments_lexer": "ipython3",
   "version": "3.9.18"
  }
 },
 "nbformat": 4,
 "nbformat_minor": 2
}
