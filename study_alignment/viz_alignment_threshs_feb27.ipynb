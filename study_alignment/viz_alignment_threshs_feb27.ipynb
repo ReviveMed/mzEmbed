{
 "cells": [
  {
   "cell_type": "code",
   "execution_count": 2,
   "metadata": {},
   "outputs": [],
   "source": [
    "import os\n",
    "import pandas as pd\n",
    "import numpy as np\n",
    "# ! pip install supervenn\n",
    "from supervenn import supervenn\n",
    "\n",
    "import matplotlib.pyplot as plt\n",
    "import seaborn as sns\n",
    "from utils import get_dropbox_dir"
   ]
  },
  {
   "cell_type": "code",
   "execution_count": 12,
   "metadata": {},
   "outputs": [],
   "source": [
    "\n",
    "dropbox_dir = get_dropbox_dir()\n",
    "\n",
    "base_dir = os.path.join(dropbox_dir, 'development_CohortCombination','alignment_RCC_2024_Feb_27')\n",
    "cohort_ids_to_labels_file = os.path.join(base_dir, 'cohort_ids_to_labels.csv')\n",
    "\n",
    "matt_ft_dir = os.path.join(base_dir, 'matt_top_fts')\n",
    "\n",
    "all_res_dct = {}\n",
    "\n",
    "for input_freq in [0.1,0.2,0.4]:\n",
    "    for ref_freq in [0.4,0.6,0.8]:\n",
    "        data_dir = os.path.join(base_dir,'alignment_id_28', 'merge_reference_freq_th_{ref_freq}_freq_th_{input_freq}'.format(ref_freq=ref_freq, input_freq=input_freq))\n",
    "\n",
    "\n",
    "        align_score_file = os.path.join(data_dir, 'align_score_df.csv')\n",
    "        if not os.path.exists(align_score_file):\n",
    "            continue\n",
    "\n",
    "        align_score_df = pd.read_csv(align_score_file, index_col=0)\n",
    "\n",
    "        all_res_dct[(ref_freq, input_freq)] = align_score_df\n",
    "# align_feats_file = os.path.join(data_dir, 'alignment_df.csv')"
   ]
  },
  {
   "cell_type": "code",
   "execution_count": 13,
   "metadata": {},
   "outputs": [],
   "source": [
    "res_df = pd.concat(all_res_dct.values(), keys=all_res_dct.keys(), names=['ref_freq', 'input_freq'])\n",
    "res_df.columns = ['align_score']"
   ]
  },
  {
   "cell_type": "code",
   "execution_count": 14,
   "metadata": {},
   "outputs": [
    {
     "data": {
      "text/plain": [
       "Index(['align_score'], dtype='object')"
      ]
     },
     "execution_count": 14,
     "metadata": {},
     "output_type": "execute_result"
    }
   ],
   "source": [
    "res_df.columns"
   ]
  },
  {
   "cell_type": "code",
   "execution_count": 16,
   "metadata": {},
   "outputs": [
    {
     "data": {
      "text/html": [
       "<div>\n",
       "<style scoped>\n",
       "    .dataframe tbody tr th:only-of-type {\n",
       "        vertical-align: middle;\n",
       "    }\n",
       "\n",
       "    .dataframe tbody tr th {\n",
       "        vertical-align: top;\n",
       "    }\n",
       "\n",
       "    .dataframe thead th {\n",
       "        text-align: right;\n",
       "    }\n",
       "</style>\n",
       "<table border=\"1\" class=\"dataframe\">\n",
       "  <thead>\n",
       "    <tr style=\"text-align: right;\">\n",
       "      <th>input_freq</th>\n",
       "      <th>0.1</th>\n",
       "      <th>0.2</th>\n",
       "      <th>0.4</th>\n",
       "    </tr>\n",
       "    <tr>\n",
       "      <th>ref_freq</th>\n",
       "      <th></th>\n",
       "      <th></th>\n",
       "      <th></th>\n",
       "    </tr>\n",
       "  </thead>\n",
       "  <tbody>\n",
       "    <tr>\n",
       "      <th>0.4</th>\n",
       "      <td>0.34</td>\n",
       "      <td>0.32</td>\n",
       "      <td>0.32</td>\n",
       "    </tr>\n",
       "    <tr>\n",
       "      <th>0.6</th>\n",
       "      <td>0.35</td>\n",
       "      <td>0.33</td>\n",
       "      <td>0.30</td>\n",
       "    </tr>\n",
       "  </tbody>\n",
       "</table>\n",
       "</div>"
      ],
      "text/plain": [
       "input_freq   0.1   0.2   0.4\n",
       "ref_freq                    \n",
       "0.4         0.34  0.32  0.32\n",
       "0.6         0.35  0.33  0.30"
      ]
     },
     "execution_count": 16,
     "metadata": {},
     "output_type": "execute_result"
    }
   ],
   "source": [
    "res_df.pivot_table(index='ref_freq', columns='input_freq', values='align_score', aggfunc='mean').round(2)"
   ]
  },
  {
   "cell_type": "code",
   "execution_count": 17,
   "metadata": {},
   "outputs": [
    {
     "data": {
      "text/html": [
       "<div>\n",
       "<style scoped>\n",
       "    .dataframe tbody tr th:only-of-type {\n",
       "        vertical-align: middle;\n",
       "    }\n",
       "\n",
       "    .dataframe tbody tr th {\n",
       "        vertical-align: top;\n",
       "    }\n",
       "\n",
       "    .dataframe thead th {\n",
       "        text-align: right;\n",
       "    }\n",
       "</style>\n",
       "<table border=\"1\" class=\"dataframe\">\n",
       "  <thead>\n",
       "    <tr style=\"text-align: right;\">\n",
       "      <th>input_freq</th>\n",
       "      <th>0.1</th>\n",
       "      <th>0.2</th>\n",
       "      <th>0.4</th>\n",
       "    </tr>\n",
       "    <tr>\n",
       "      <th>ref_freq</th>\n",
       "      <th></th>\n",
       "      <th></th>\n",
       "      <th></th>\n",
       "    </tr>\n",
       "  </thead>\n",
       "  <tbody>\n",
       "    <tr>\n",
       "      <th>0.4</th>\n",
       "      <td>0.15</td>\n",
       "      <td>0.13</td>\n",
       "      <td>0.15</td>\n",
       "    </tr>\n",
       "    <tr>\n",
       "      <th>0.6</th>\n",
       "      <td>0.02</td>\n",
       "      <td>0.05</td>\n",
       "      <td>0.07</td>\n",
       "    </tr>\n",
       "  </tbody>\n",
       "</table>\n",
       "</div>"
      ],
      "text/plain": [
       "input_freq   0.1   0.2   0.4\n",
       "ref_freq                    \n",
       "0.4         0.15  0.13  0.15\n",
       "0.6         0.02  0.05  0.07"
      ]
     },
     "execution_count": 17,
     "metadata": {},
     "output_type": "execute_result"
    }
   ],
   "source": [
    "res_df.pivot_table(index='ref_freq', columns='input_freq', values='align_score', aggfunc='min').round(2)"
   ]
  },
  {
   "cell_type": "code",
   "execution_count": 25,
   "metadata": {},
   "outputs": [
    {
     "data": {
      "text/html": [
       "<div>\n",
       "<style scoped>\n",
       "    .dataframe tbody tr th:only-of-type {\n",
       "        vertical-align: middle;\n",
       "    }\n",
       "\n",
       "    .dataframe tbody tr th {\n",
       "        vertical-align: top;\n",
       "    }\n",
       "\n",
       "    .dataframe thead th {\n",
       "        text-align: right;\n",
       "    }\n",
       "</style>\n",
       "<table border=\"1\" class=\"dataframe\">\n",
       "  <thead>\n",
       "    <tr style=\"text-align: right;\">\n",
       "      <th>input_freq</th>\n",
       "      <th>0.1</th>\n",
       "      <th>0.2</th>\n",
       "      <th>0.4</th>\n",
       "    </tr>\n",
       "    <tr>\n",
       "      <th>ref_freq</th>\n",
       "      <th></th>\n",
       "      <th></th>\n",
       "      <th></th>\n",
       "    </tr>\n",
       "  </thead>\n",
       "  <tbody>\n",
       "    <tr>\n",
       "      <th>0.4</th>\n",
       "      <td>0.33</td>\n",
       "      <td>0.30</td>\n",
       "      <td>0.31</td>\n",
       "    </tr>\n",
       "    <tr>\n",
       "      <th>0.6</th>\n",
       "      <td>0.35</td>\n",
       "      <td>0.32</td>\n",
       "      <td>0.29</td>\n",
       "    </tr>\n",
       "  </tbody>\n",
       "</table>\n",
       "</div>"
      ],
      "text/plain": [
       "input_freq   0.1   0.2   0.4\n",
       "ref_freq                    \n",
       "0.4         0.33  0.30  0.31\n",
       "0.6         0.35  0.32  0.29"
      ]
     },
     "execution_count": 25,
     "metadata": {},
     "output_type": "execute_result"
    }
   ],
   "source": [
    "res_df.pivot_table(index='ref_freq', columns='input_freq', values='align_score', aggfunc=lambda x: np.percentile(x, q=50)).round(2)"
   ]
  },
  {
   "cell_type": "code",
   "execution_count": 55,
   "metadata": {},
   "outputs": [],
   "source": [
    "ref_freq = 0.6\n",
    "input_freq = 0.1\n",
    "data_dir = os.path.join(base_dir,'alignment_id_28', 'merge_reference_freq_th_{ref_freq}_freq_th_{input_freq}'.format(ref_freq=ref_freq, input_freq=input_freq))\n",
    "alignment_summary_file = f'{data_dir}/alignment_subset_6_summary.csv'"
   ]
  },
  {
   "cell_type": "code",
   "execution_count": 56,
   "metadata": {},
   "outputs": [],
   "source": [
    "df = pd.read_csv(alignment_summary_file, index_col=0)\n",
    "df = df.iloc[1:,:]\n"
   ]
  },
  {
   "cell_type": "code",
   "execution_count": 57,
   "metadata": {},
   "outputs": [
    {
     "data": {
      "text/html": [
       "<div>\n",
       "<style scoped>\n",
       "    .dataframe tbody tr th:only-of-type {\n",
       "        vertical-align: middle;\n",
       "    }\n",
       "\n",
       "    .dataframe tbody tr th {\n",
       "        vertical-align: top;\n",
       "    }\n",
       "\n",
       "    .dataframe thead th {\n",
       "        text-align: right;\n",
       "    }\n",
       "</style>\n",
       "<table border=\"1\" class=\"dataframe\">\n",
       "  <thead>\n",
       "    <tr style=\"text-align: right;\">\n",
       "      <th></th>\n",
       "      <th>Cohort Label</th>\n",
       "      <th>Study ID</th>\n",
       "      <th>Number of Samples</th>\n",
       "      <th>Alignment Score</th>\n",
       "      <th>Number of Initial Aligned Peaks</th>\n",
       "      <th>op_25_feats Captured # (Initial)</th>\n",
       "      <th>op_25_feats Captured % (Initial)</th>\n",
       "      <th>168_os_pfs_feats Captured # (Initial)</th>\n",
       "      <th>168_os_pfs_feats Captured % (Initial)</th>\n",
       "      <th>net_matched_feats Captured # (Initial)</th>\n",
       "      <th>net_matched_feats Captured % (Initial)</th>\n",
       "      <th>Number of Subset Aligned Peaks</th>\n",
       "      <th>op_25_feats Captured # (Subset)</th>\n",
       "      <th>op_25_feats Captured % (Subset)</th>\n",
       "      <th>168_os_pfs_feats Captured # (Subset)</th>\n",
       "      <th>168_os_pfs_feats Captured % (Subset)</th>\n",
       "      <th>net_matched_feats Captured # (Subset)</th>\n",
       "      <th>net_matched_feats Captured % (Subset)</th>\n",
       "    </tr>\n",
       "    <tr>\n",
       "      <th>Cohort ID</th>\n",
       "      <th></th>\n",
       "      <th></th>\n",
       "      <th></th>\n",
       "      <th></th>\n",
       "      <th></th>\n",
       "      <th></th>\n",
       "      <th></th>\n",
       "      <th></th>\n",
       "      <th></th>\n",
       "      <th></th>\n",
       "      <th></th>\n",
       "      <th></th>\n",
       "      <th></th>\n",
       "      <th></th>\n",
       "      <th></th>\n",
       "      <th></th>\n",
       "      <th></th>\n",
       "      <th></th>\n",
       "    </tr>\n",
       "  </thead>\n",
       "  <tbody>\n",
       "    <tr>\n",
       "      <th>502</th>\n",
       "      <td>adult_cancer</td>\n",
       "      <td>ST001422</td>\n",
       "      <td>2075</td>\n",
       "      <td>0.434414</td>\n",
       "      <td>1741.0</td>\n",
       "      <td>14</td>\n",
       "      <td>0.56</td>\n",
       "      <td>89</td>\n",
       "      <td>0.529762</td>\n",
       "      <td>48</td>\n",
       "      <td>0.558140</td>\n",
       "      <td>1495</td>\n",
       "      <td>6</td>\n",
       "      <td>0.24</td>\n",
       "      <td>33</td>\n",
       "      <td>0.196</td>\n",
       "      <td>12</td>\n",
       "      <td>0.140</td>\n",
       "    </tr>\n",
       "    <tr>\n",
       "      <th>503</th>\n",
       "      <td>pediatric_CMD</td>\n",
       "      <td>ST001428</td>\n",
       "      <td>1542</td>\n",
       "      <td>0.314963</td>\n",
       "      <td>1262.0</td>\n",
       "      <td>6</td>\n",
       "      <td>0.24</td>\n",
       "      <td>45</td>\n",
       "      <td>0.267857</td>\n",
       "      <td>21</td>\n",
       "      <td>0.244186</td>\n",
       "      <td>1219</td>\n",
       "      <td>2</td>\n",
       "      <td>0.08</td>\n",
       "      <td>18</td>\n",
       "      <td>0.107</td>\n",
       "      <td>6</td>\n",
       "      <td>0.070</td>\n",
       "    </tr>\n",
       "    <tr>\n",
       "      <th>504</th>\n",
       "      <td>adult_other</td>\n",
       "      <td>ST001849</td>\n",
       "      <td>691</td>\n",
       "      <td>0.230673</td>\n",
       "      <td>924.0</td>\n",
       "      <td>6</td>\n",
       "      <td>0.24</td>\n",
       "      <td>38</td>\n",
       "      <td>0.226190</td>\n",
       "      <td>15</td>\n",
       "      <td>0.174419</td>\n",
       "      <td>822</td>\n",
       "      <td>5</td>\n",
       "      <td>0.20</td>\n",
       "      <td>44</td>\n",
       "      <td>0.262</td>\n",
       "      <td>24</td>\n",
       "      <td>0.279</td>\n",
       "    </tr>\n",
       "    <tr>\n",
       "      <th>505</th>\n",
       "      <td>pediatric_other</td>\n",
       "      <td>ST001931</td>\n",
       "      <td>2046</td>\n",
       "      <td>0.256608</td>\n",
       "      <td>1028.0</td>\n",
       "      <td>6</td>\n",
       "      <td>0.24</td>\n",
       "      <td>50</td>\n",
       "      <td>0.297619</td>\n",
       "      <td>20</td>\n",
       "      <td>0.232558</td>\n",
       "      <td>948</td>\n",
       "      <td>7</td>\n",
       "      <td>0.28</td>\n",
       "      <td>35</td>\n",
       "      <td>0.208</td>\n",
       "      <td>17</td>\n",
       "      <td>0.198</td>\n",
       "    </tr>\n",
       "    <tr>\n",
       "      <th>507</th>\n",
       "      <td>adult_other</td>\n",
       "      <td>ST002112</td>\n",
       "      <td>335</td>\n",
       "      <td>0.510224</td>\n",
       "      <td>2045.0</td>\n",
       "      <td>16</td>\n",
       "      <td>0.64</td>\n",
       "      <td>102</td>\n",
       "      <td>0.607143</td>\n",
       "      <td>56</td>\n",
       "      <td>0.651163</td>\n",
       "      <td>1547</td>\n",
       "      <td>8</td>\n",
       "      <td>0.32</td>\n",
       "      <td>58</td>\n",
       "      <td>0.345</td>\n",
       "      <td>32</td>\n",
       "      <td>0.372</td>\n",
       "    </tr>\n",
       "  </tbody>\n",
       "</table>\n",
       "</div>"
      ],
      "text/plain": [
       "              Cohort Label  Study ID  Number of Samples  Alignment Score  \\\n",
       "Cohort ID                                                                  \n",
       "502           adult_cancer  ST001422               2075         0.434414   \n",
       "503          pediatric_CMD  ST001428               1542         0.314963   \n",
       "504            adult_other  ST001849                691         0.230673   \n",
       "505        pediatric_other  ST001931               2046         0.256608   \n",
       "507            adult_other  ST002112                335         0.510224   \n",
       "\n",
       "           Number of Initial Aligned Peaks  op_25_feats Captured # (Initial)  \\\n",
       "Cohort ID                                                                      \n",
       "502                                 1741.0                                14   \n",
       "503                                 1262.0                                 6   \n",
       "504                                  924.0                                 6   \n",
       "505                                 1028.0                                 6   \n",
       "507                                 2045.0                                16   \n",
       "\n",
       "           op_25_feats Captured % (Initial)  \\\n",
       "Cohort ID                                     \n",
       "502                                    0.56   \n",
       "503                                    0.24   \n",
       "504                                    0.24   \n",
       "505                                    0.24   \n",
       "507                                    0.64   \n",
       "\n",
       "           168_os_pfs_feats Captured # (Initial)  \\\n",
       "Cohort ID                                          \n",
       "502                                           89   \n",
       "503                                           45   \n",
       "504                                           38   \n",
       "505                                           50   \n",
       "507                                          102   \n",
       "\n",
       "           168_os_pfs_feats Captured % (Initial)  \\\n",
       "Cohort ID                                          \n",
       "502                                     0.529762   \n",
       "503                                     0.267857   \n",
       "504                                     0.226190   \n",
       "505                                     0.297619   \n",
       "507                                     0.607143   \n",
       "\n",
       "           net_matched_feats Captured # (Initial)  \\\n",
       "Cohort ID                                           \n",
       "502                                            48   \n",
       "503                                            21   \n",
       "504                                            15   \n",
       "505                                            20   \n",
       "507                                            56   \n",
       "\n",
       "           net_matched_feats Captured % (Initial)  \\\n",
       "Cohort ID                                           \n",
       "502                                      0.558140   \n",
       "503                                      0.244186   \n",
       "504                                      0.174419   \n",
       "505                                      0.232558   \n",
       "507                                      0.651163   \n",
       "\n",
       "           Number of Subset Aligned Peaks  op_25_feats Captured # (Subset)  \\\n",
       "Cohort ID                                                                    \n",
       "502                                  1495                                6   \n",
       "503                                  1219                                2   \n",
       "504                                   822                                5   \n",
       "505                                   948                                7   \n",
       "507                                  1547                                8   \n",
       "\n",
       "           op_25_feats Captured % (Subset)  \\\n",
       "Cohort ID                                    \n",
       "502                                   0.24   \n",
       "503                                   0.08   \n",
       "504                                   0.20   \n",
       "505                                   0.28   \n",
       "507                                   0.32   \n",
       "\n",
       "           168_os_pfs_feats Captured # (Subset)  \\\n",
       "Cohort ID                                         \n",
       "502                                          33   \n",
       "503                                          18   \n",
       "504                                          44   \n",
       "505                                          35   \n",
       "507                                          58   \n",
       "\n",
       "           168_os_pfs_feats Captured % (Subset)  \\\n",
       "Cohort ID                                         \n",
       "502                                       0.196   \n",
       "503                                       0.107   \n",
       "504                                       0.262   \n",
       "505                                       0.208   \n",
       "507                                       0.345   \n",
       "\n",
       "           net_matched_feats Captured # (Subset)  \\\n",
       "Cohort ID                                          \n",
       "502                                           12   \n",
       "503                                            6   \n",
       "504                                           24   \n",
       "505                                           17   \n",
       "507                                           32   \n",
       "\n",
       "           net_matched_feats Captured % (Subset)  \n",
       "Cohort ID                                         \n",
       "502                                        0.140  \n",
       "503                                        0.070  \n",
       "504                                        0.279  \n",
       "505                                        0.198  \n",
       "507                                        0.372  "
      ]
     },
     "execution_count": 57,
     "metadata": {},
     "output_type": "execute_result"
    }
   ],
   "source": [
    "df.head()"
   ]
  },
  {
   "cell_type": "code",
   "execution_count": 58,
   "metadata": {},
   "outputs": [
    {
     "data": {
      "text/plain": [
       "Cohort ID\n",
       "502       adult_cancer\n",
       "503      pediatric_CMD\n",
       "504        adult_other\n",
       "505    pediatric_other\n",
       "507        adult_other\n",
       "522       adult_cancer\n",
       "526       adult_cancer\n",
       "547        adult_other\n",
       "549        adult_other\n",
       "550       adult_cancer\n",
       "551        adult_other\n",
       "555    pediatric_other\n",
       "556      pediatric_CMD\n",
       "557        adult_other\n",
       "558        adult_other\n",
       "559        adult_other\n",
       "579      pediatric_CMD\n",
       "581       adult_cancer\n",
       "584      pediatric_CMD\n",
       "585      pediatric_CMD\n",
       "586      pediatric_CMD\n",
       "587      pediatric_CMD\n",
       "588      pediatric_CMD\n",
       "605        adult_other\n",
       "Name: Cohort Label, dtype: object"
      ]
     },
     "execution_count": 58,
     "metadata": {},
     "output_type": "execute_result"
    }
   ],
   "source": [
    "df['Cohort Label']"
   ]
  },
  {
   "cell_type": "code",
   "execution_count": 59,
   "metadata": {},
   "outputs": [],
   "source": [
    "hue_order = ['adult_cancer','adult_other','pediatric_CMD','pediatric_other']"
   ]
  },
  {
   "cell_type": "code",
   "execution_count": 60,
   "metadata": {},
   "outputs": [
    {
     "data": {
      "text/plain": [
       "<matplotlib.legend.Legend at 0x7feb0c7901c0>"
      ]
     },
     "execution_count": 60,
     "metadata": {},
     "output_type": "execute_result"
    },
    {
     "data": {
      "image/png": "[encoded data removed]",
      "text/plain": [
       "<Figure size 640x480 with 1 Axes>"
      ]
     },
     "metadata": {},
     "output_type": "display_data"
    }
   ],
   "source": [
    "sns.barplot(data=df,x='Cohort ID',y='Alignment Score', hue='Cohort Label', hue_order=hue_order)\n",
    "_ = plt.xticks(rotation=90)\n",
    "# place legend outside of figure\n",
    "plt.legend(bbox_to_anchor=(1.05, 1), loc=2, borderaxespad=0.)"
   ]
  },
  {
   "cell_type": "code",
   "execution_count": 61,
   "metadata": {},
   "outputs": [
    {
     "data": {
      "text/plain": [
       "<matplotlib.legend.Legend at 0x7feb0d163dc0>"
      ]
     },
     "execution_count": 61,
     "metadata": {},
     "output_type": "execute_result"
    },
    {
     "data": {
      "image/png": "[encoded data removed]",
      "text/plain": [
       "<Figure size 640x480 with 1 Axes>"
      ]
     },
     "metadata": {},
     "output_type": "display_data"
    }
   ],
   "source": [
    "sns.barplot(data=df,x='Cohort ID',y='168_os_pfs_feats Captured % (Subset)', hue='Cohort Label', hue_order=hue_order)\n",
    "_ = plt.xticks(rotation=90)\n",
    "# place legend outside of figure\n",
    "plt.legend(bbox_to_anchor=(1.05, 1), loc=2, borderaxespad=0.)"
   ]
  },
  {
   "cell_type": "code",
   "execution_count": 62,
   "metadata": {},
   "outputs": [
    {
     "data": {
      "text/plain": [
       "<matplotlib.legend.Legend at 0x7feb0d2ce6a0>"
      ]
     },
     "execution_count": 62,
     "metadata": {},
     "output_type": "execute_result"
    },
    {
     "data": {
      "image/png": "[encoded data removed]",
      "text/plain": [
       "<Figure size 640x480 with 1 Axes>"
      ]
     },
     "metadata": {},
     "output_type": "display_data"
    }
   ],
   "source": [
    "sns.scatterplot(data=df, x='Alignment Score', y='168_os_pfs_feats Captured % (Subset)',hue='Cohort Label',s=50, hue_order=hue_order)\n",
    "# df.plot(kind='scatter', x='Alignment Score', y='168_os_pfs_feats Captured % (Subset)',hue='Cohort Label')\n",
    "# place legend outside\n",
    "plt.legend(bbox_to_anchor=(1.05, 1), loc=2, borderaxespad=0.)"
   ]
  },
  {
   "cell_type": "code",
   "execution_count": null,
   "metadata": {},
   "outputs": [],
   "source": []
  }
 ],
 "metadata": {
  "kernelspec": {
   "display_name": "mzlearn_3",
   "language": "python",
   "name": "python3"
  },
  "language_info": {
   "codemirror_mode": {
    "name": "ipython",
    "version": 3
   },
   "file_extension": ".py",
   "mimetype": "text/x-python",
   "name": "python",
   "nbconvert_exporter": "python",
   "pygments_lexer": "ipython3",
   "version": "3.9.18"
  }
 },
 "nbformat": 4,
 "nbformat_minor": 2
}
