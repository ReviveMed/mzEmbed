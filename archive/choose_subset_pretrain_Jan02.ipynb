{
 "cells": [
  {
   "cell_type": "code",
   "execution_count": 2,
   "metadata": {},
   "outputs": [],
   "source": [
    "import os\n",
    "import sys\n",
    "import numpy as np\n",
    "import matplotlib.pyplot as plt\n",
    "import pandas as pd\n"
   ]
  },
  {
   "cell_type": "code",
   "execution_count": 7,
   "metadata": {},
   "outputs": [],
   "source": [
    "metadata_path = '/Users/jonaheaton/ReviveMed Dropbox/Jonah Eaton/development_CohortCombination/data_2023_october/metadata_oct13_new2.csv'\n",
    "\n",
    "metadata = pd.read_csv(metadata_path, index_col=0)\n",
    "\n",
    "intensity_path = '/Users/jonaheaton/ReviveMed Dropbox/Jonah Eaton/development_CohortCombination/data_2023_october/selected_studiesX 13/combat_survival_class_task/X_pretrain.csv'\n",
    "\n",
    "intensity = pd.read_csv(intensity_path, index_col=0)"
   ]
  },
  {
   "cell_type": "code",
   "execution_count": 8,
   "metadata": {},
   "outputs": [
    {
     "name": "stdout",
     "output_type": "stream",
     "text": [
      "['ST001237' 'ST001519' 'ST001236' 'ST002238' 'ST001849' 'ST001931'\n",
      " 'ST001422' 'ST002331' 'ST001428' 'ST002711' 'ST001932' 'ST002112']\n"
     ]
    }
   ],
   "source": [
    "pre_train_samples = intensity.index.to_list()\n",
    "studies_in_pretrain = metadata.loc[pre_train_samples, 'Study'].unique()\n",
    "print(studies_in_pretrain)"
   ]
  },
  {
   "cell_type": "code",
   "execution_count": 9,
   "metadata": {},
   "outputs": [
    {
     "data": {
      "text/plain": [
       "12204"
      ]
     },
     "execution_count": 9,
     "metadata": {},
     "output_type": "execute_result"
    }
   ],
   "source": [
    "len(pre_train_samples)"
   ]
  },
  {
   "cell_type": "code",
   "execution_count": 10,
   "metadata": {},
   "outputs": [
    {
     "data": {
      "text/plain": [
       "(12204, 672)"
      ]
     },
     "execution_count": 10,
     "metadata": {},
     "output_type": "execute_result"
    }
   ],
   "source": [
    "intensity.shape"
   ]
  },
  {
   "cell_type": "code",
   "execution_count": 11,
   "metadata": {},
   "outputs": [
    {
     "data": {
      "text/plain": [
       "486"
      ]
     },
     "execution_count": 11,
     "metadata": {},
     "output_type": "execute_result"
    }
   ],
   "source": [
    "rcc3_bs_samples = metadata[(metadata['Study'] == 'ST001237') & (metadata['study_week']=='baseline')].index.to_list()\n",
    "rcc3_bs_samples = [x for x in rcc3_bs_samples if x in intensity.index.to_list()]\n",
    "len(rcc3_bs_samples)\n",
    "# this includes all of the baseline samples from the rcc3 study that are not in the fine-tuning dataset"
   ]
  },
  {
   "cell_type": "code",
   "execution_count": 12,
   "metadata": {},
   "outputs": [
    {
     "data": {
      "text/plain": [
       "array(['ST001237', 'ST001236', 'ST001931', 'ST002112', 'ST002711',\n",
       "       'ST002238', 'ST001422', 'ST001519', 'ST001932', 'ST001428',\n",
       "       'ST001849', 'ST001200', 'ST002331'], dtype=object)"
      ]
     },
     "execution_count": 12,
     "metadata": {},
     "output_type": "execute_result"
    }
   ],
   "source": [
    "metadata['Study'].unique()"
   ]
  },
  {
   "cell_type": "code",
   "execution_count": 13,
   "metadata": {},
   "outputs": [],
   "source": [
    "metadata['Study'].unique()\n",
    "# subset the metadata to find the study that correspond to 'ST001519'\n",
    "\n",
    "farmm_samples = metadata[metadata['Study'] == 'ST001519'].index.to_list()\n"
   ]
  },
  {
   "cell_type": "code",
   "execution_count": 21,
   "metadata": {},
   "outputs": [],
   "source": [
    "farmm_and_rcc3_bs = rcc3_bs_samples + farmm_samples\n",
    "# now randomlize the order of the samples\n",
    "np.random.shuffle(farmm_and_rcc3_bs)\n",
    "\n",
    "# now save the list of samples to a file\n",
    "save_dir = os.path.dirname(intensity_path)\n",
    "save_path = os.path.join(save_dir, 'farmm_and_rcc3_bs.txt')\n",
    "with open(save_path, 'w') as f:\n",
    "    for item in farmm_and_rcc3_bs:\n",
    "        f.write(\"%s\\n\" % item)\n",
    "\n",
    "\n",
    "# now save the intensity matrix with the samples in the new order\n",
    "intensity_subset = intensity.loc[farmm_and_rcc3_bs]\n",
    "intensity_subset.to_csv(os.path.join(save_dir, 'X_pretrain_farmm_and_rcc3_bs.csv'))        "
   ]
  },
  {
   "cell_type": "code",
   "execution_count": 14,
   "metadata": {},
   "outputs": [],
   "source": [
    "\n",
    "# now randomlize the order of the samples\n",
    "np.random.shuffle(rcc3_bs_samples)\n",
    "\n",
    "# now save the list of samples to a file\n",
    "save_dir = os.path.dirname(intensity_path)\n",
    "save_path = os.path.join(save_dir, 'rcc3_bs.txt')\n",
    "with open(save_path, 'w') as f:\n",
    "    for item in rcc3_bs_samples:\n",
    "        f.write(\"%s\\n\" % item)\n",
    "\n",
    "\n",
    "# now save the intensity matrix with the samples in the new order\n",
    "intensity_subset = intensity.loc[rcc3_bs_samples]\n",
    "intensity_subset.to_csv(os.path.join(save_dir, 'X_pretrain_rcc3_bs.csv'))"
   ]
  },
  {
   "cell_type": "code",
   "execution_count": 15,
   "metadata": {},
   "outputs": [
    {
     "data": {
      "text/plain": [
       "(486, 672)"
      ]
     },
     "execution_count": 15,
     "metadata": {},
     "output_type": "execute_result"
    }
   ],
   "source": [
    "intensity_subset.shape"
   ]
  },
  {
   "cell_type": "code",
   "execution_count": null,
   "metadata": {},
   "outputs": [],
   "source": []
  }
 ],
 "metadata": {
  "kernelspec": {
   "display_name": "mzlearn_3",
   "language": "python",
   "name": "python3"
  },
  "language_info": {
   "codemirror_mode": {
    "name": "ipython",
    "version": 3
   },
   "file_extension": ".py",
   "mimetype": "text/x-python",
   "name": "python",
   "nbconvert_exporter": "python",
   "pygments_lexer": "ipython3",
   "version": "3.9.18"
  }
 },
 "nbformat": 4,
 "nbformat_minor": 2
}
